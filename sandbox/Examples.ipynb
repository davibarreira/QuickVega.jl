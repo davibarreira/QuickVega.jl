{
 "cells": [
  {
   "cell_type": "code",
   "execution_count": 3,
   "id": "58d315f9-d775-49fe-a2da-4b8af0b3b74c",
   "metadata": {},
   "outputs": [],
   "source": [
    "using Revise, Pkg\n",
    "Pkg.activate(\"../.\")\n",
    "using QuickVega, DataFrames, VegaLite, VegaDatasets\n",
    "using Distributions, KernelDensity\n",
    "using Contour\n",
    "using Setfield"
   ]
  },
  {
   "cell_type": "code",
   "execution_count": 6,
   "id": "169ae61f-1376-43f5-a797-a9fad2a780f7",
   "metadata": {},
   "outputs": [
    {
     "ename": "LoadError",
     "evalue": "MethodError: no method matching ^(::UnitRange{Int64}, ::Int64)\n\u001b[0mClosest candidates are:\n\u001b[0m  ^(\u001b[91m::Union{AbstractChar, AbstractString}\u001b[39m, ::Integer) at strings/basic.jl:718\n\u001b[0m  ^(\u001b[91m::Ratios.SimpleRatio\u001b[39m, ::Integer) at /home/davibarreira/.julia/packages/Ratios/uRs4y/src/Ratios.jl:33\n\u001b[0m  ^(\u001b[91m::DoubleFloats.DoubleFloat{T}\u001b[39m, ::Int64) where T<:Union{Float16, Float32, Float64} at /home/davibarreira/.julia/packages/DoubleFloats/FNtQr/src/math/elementary/explog.jl:95\n\u001b[0m  ...",
     "output_type": "error",
     "traceback": [
      "MethodError: no method matching ^(::UnitRange{Int64}, ::Int64)\n\u001b[0mClosest candidates are:\n\u001b[0m  ^(\u001b[91m::Union{AbstractChar, AbstractString}\u001b[39m, ::Integer) at strings/basic.jl:718\n\u001b[0m  ^(\u001b[91m::Ratios.SimpleRatio\u001b[39m, ::Integer) at /home/davibarreira/.julia/packages/Ratios/uRs4y/src/Ratios.jl:33\n\u001b[0m  ^(\u001b[91m::DoubleFloats.DoubleFloat{T}\u001b[39m, ::Int64) where T<:Union{Float16, Float32, Float64} at /home/davibarreira/.julia/packages/DoubleFloats/FNtQr/src/math/elementary/explog.jl:95\n\u001b[0m  ...",
      "",
      "Stacktrace:",
      " [1] macro expansion",
      "   @ ./none:0 [inlined]",
      " [2] literal_pow(f::typeof(^), x::UnitRange{Int64}, #unused#::Val{2})",
      "   @ Base ./none:0",
      " [3] top-level scope",
      "   @ In[6]:2",
      " [4] eval",
      "   @ ./boot.jl:360 [inlined]",
      " [5] include_string(mapexpr::typeof(REPL.softscope), mod::Module, code::String, filename::String)",
      "   @ Base ./loading.jl:1094"
     ]
    }
   ],
   "source": [
    "x = 1:10\n",
    "y = x^2\n",
    "lineplot(x,y)"
   ]
  },
  {
   "cell_type": "code",
   "execution_count": null,
   "id": "fb5daea1-4847-4096-b689-91a6f0e237fb",
   "metadata": {},
   "outputs": [],
   "source": []
  }
 ],
 "metadata": {
  "kernelspec": {
   "display_name": "Julia 1.6.1",
   "language": "julia",
   "name": "julia-1.6"
  },
  "language_info": {
   "file_extension": ".jl",
   "mimetype": "application/julia",
   "name": "julia",
   "version": "1.6.1"
  }
 },
 "nbformat": 4,
 "nbformat_minor": 5
}
