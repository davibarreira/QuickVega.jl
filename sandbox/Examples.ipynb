{
 "cells": [
  {
   "cell_type": "code",
   "execution_count": 361,
   "id": "58d315f9-d775-49fe-a2da-4b8af0b3b74c",
   "metadata": {},
   "outputs": [],
   "source": [
    "using Revise, Pkg\n",
    "Pkg.activate(\"../.\")\n",
    "using QuickVega, DataFrames, VegaLite, VegaDatasets\n",
    "using Distributions, KernelDensity\n",
    "using Contour\n",
    "using Setfield"
   ]
  },
  {
   "cell_type": "markdown",
   "id": "aa3a294f-71a1-4aff-a29a-ac8d64a1bcdc",
   "metadata": {},
   "source": [
    "## Scatterplot "
   ]
  },
  {
   "cell_type": "code",
   "execution_count": 366,
   "id": "169ae61f-1376-43f5-a797-a9fad2a780f7",
   "metadata": {},
   "outputs": [],
   "source": [
    "x = collect(1:10)\n",
    "y = x.^2\n",
    "p = scatterplot(x,y,zcolor=rand(1:2,10),zcolor_type=\"ordinal\")\n",
    "# s = scatterplot(rand(10),rand(10),zcolor=rand(3:5,10),zcolor_type=\"ordinal\",color_scheme=\"reds\")\n",
    "s = lineplot(x,y)\n",
    "df = DataFrame(x=rand(10),y=rand(10),c=rand(10));"
   ]
  },
  {
   "cell_type": "code",
   "execution_count": 367,
   "id": "2baafc87-0360-46e1-b67e-20935d5b4589",
   "metadata": {},
   "outputs": [
    {
     "data": {
      "application/vnd.vegalite.v4+json": {
       "data": {
        "values": [
         {
          "x": 1,
          "y": 1,
          "zcolor": 1
         },
         {
          "x": 2,
          "y": 4,
          "zcolor": 1
         },
         {
          "x": 3,
          "y": 9,
          "zcolor": 2
         },
         {
          "x": 4,
          "y": 16,
          "zcolor": 1
         },
         {
          "x": 5,
          "y": 25,
          "zcolor": 1
         },
         {
          "x": 6,
          "y": 36,
          "zcolor": 1
         },
         {
          "x": 7,
          "y": 49,
          "zcolor": 2
         },
         {
          "x": 8,
          "y": 64,
          "zcolor": 2
         },
         {
          "x": 9,
          "y": 81,
          "zcolor": 2
         },
         {
          "x": 10,
          "y": 100,
          "zcolor": 1
         }
        ]
       },
       "encoding": {
        "color": {
         "field": "zcolor",
         "type": "ordinal"
        },
        "x": {
         "field": "x",
         "type": "ordinal"
        },
        "y": {
         "field": "y",
         "type": "quantitative"
        }
       },
       "mark": {
        "type": "circle"
       }
      },
      "image/png": "[encoded data removed]",
      "image/svg+xml": [
       "<?xml version=\"1.0\" encoding=\"utf-8\"?>\n",
       "<!DOCTYPE svg PUBLIC \"-//W3C//DTD SVG 1.1//EN\" \"http://www.w3.org/Graphics/SVG/1.1/DTD/svg11.dtd\">\n",
       "<svg class=\"marks\" width=\"306\" height=\"249\" viewBox=\"0 0 306 249\" version=\"1.1\" xmlns=\"http://www.w3.org/2000/svg\" xmlns:xlink=\"http://www.w3.org/1999/xlink\"><rect width=\"306\" height=\"249\" fill=\"white\"></rect><g fill=\"none\" stroke-miterlimit=\"10\" transform=\"translate(45,10)\"><g class=\"mark-group role-frame root\" role=\"graphics-object\" aria-roledescription=\"group mark container\"><g transform=\"translate(0,0)\"><path class=\"background\" aria-hidden=\"true\" d=\"M0.5,0.5h200v200h-200Z\" stroke=\"#ddd\"></path><g><g class=\"mark-group role-axis\" aria-hidden=\"true\"><g transform=\"translate(0.5,0.5)\"><path class=\"background\" aria-hidden=\"true\" d=\"M0,0h0v0h0Z\" pointer-events=\"none\"></path><g><g class=\"mark-rule role-axis-grid\" pointer-events=\"none\"><line transform=\"translate(0,200)\" x2=\"200\" y2=\"0\" stroke=\"#ddd\" stroke-width=\"1\" opacity=\"1\"></line><line transform=\"translate(0,160)\" x2=\"200\" y2=\"0\" stroke=\"#ddd\" stroke-width=\"1\" opacity=\"1\"></line><line transform=\"translate(0,120)\" x2=\"200\" y2=\"0\" stroke=\"#ddd\" stroke-width=\"1\" opacity=\"1\"></line><line transform=\"translate(0,80)\" x2=\"200\" y2=\"0\" stroke=\"#ddd\" stroke-width=\"1\" opacity=\"1\"></line><line transform=\"translate(0,40)\" x2=\"200\" y2=\"0\" stroke=\"#ddd\" stroke-width=\"1\" opacity=\"1\"></line><line transform=\"translate(0,0)\" x2=\"200\" y2=\"0\" stroke=\"#ddd\" stroke-width=\"1\" opacity=\"1\"></line></g></g><path class=\"foreground\" aria-hidden=\"true\" d=\"\" pointer-events=\"none\" display=\"none\"></path></g></g><g class=\"mark-group role-axis\" role=\"graphics-symbol\" aria-roledescription=\"axis\" aria-label=\"X-axis titled 'x' for a discrete scale with 10 values: 1, 2, 3, 4, 5, ending with 10\"><g transform=\"translate(0.5,200.5)\"><path class=\"background\" aria-hidden=\"true\" d=\"M0,0h0v0h0Z\" pointer-events=\"none\"></path><g><g class=\"mark-rule role-axis-tick\" pointer-events=\"none\"><line transform=\"translate(10,0)\" x2=\"0\" y2=\"5\" stroke=\"#888\" stroke-width=\"1\" opacity=\"1\"></line><line transform=\"translate(30,0)\" x2=\"0\" y2=\"5\" stroke=\"#888\" stroke-width=\"1\" opacity=\"1\"></line><line transform=\"translate(50,0)\" x2=\"0\" y2=\"5\" stroke=\"#888\" stroke-width=\"1\" opacity=\"1\"></line><line transform=\"translate(70,0)\" x2=\"0\" y2=\"5\" stroke=\"#888\" stroke-width=\"1\" opacity=\"1\"></line><line transform=\"translate(90,0)\" x2=\"0\" y2=\"5\" stroke=\"#888\" stroke-width=\"1\" opacity=\"1\"></line><line transform=\"translate(110,0)\" x2=\"0\" y2=\"5\" stroke=\"#888\" stroke-width=\"1\" opacity=\"1\"></line><line transform=\"translate(130,0)\" x2=\"0\" y2=\"5\" stroke=\"#888\" stroke-width=\"1\" opacity=\"1\"></line><line transform=\"translate(150,0)\" x2=\"0\" y2=\"5\" stroke=\"#888\" stroke-width=\"1\" opacity=\"1\"></line><line transform=\"translate(170,0)\" x2=\"0\" y2=\"5\" stroke=\"#888\" stroke-width=\"1\" opacity=\"1\"></line><line transform=\"translate(190,0)\" x2=\"0\" y2=\"5\" stroke=\"#888\" stroke-width=\"1\" opacity=\"1\"></line></g><g class=\"mark-text role-axis-label\" pointer-events=\"none\"><text text-anchor=\"end\" transform=\"translate(10,7) rotate(270) translate(0,3)\" font-family=\"sans-serif\" font-size=\"10px\" fill=\"#000\" opacity=\"1\">1</text><text text-anchor=\"end\" transform=\"translate(30,7) rotate(270) translate(0,3)\" font-family=\"sans-serif\" font-size=\"10px\" fill=\"#000\" opacity=\"1\">2</text><text text-anchor=\"end\" transform=\"translate(50,7) rotate(270) translate(0,3)\" font-family=\"sans-serif\" font-size=\"10px\" fill=\"#000\" opacity=\"1\">3</text><text text-anchor=\"end\" transform=\"translate(70,7) rotate(270) translate(0,3)\" font-family=\"sans-serif\" font-size=\"10px\" fill=\"#000\" opacity=\"1\">4</text><text text-anchor=\"end\" transform=\"translate(90,7) rotate(270) translate(0,3)\" font-family=\"sans-serif\" font-size=\"10px\" fill=\"#000\" opacity=\"1\">5</text><text text-anchor=\"end\" transform=\"translate(110,7) rotate(270) translate(0,3)\" font-family=\"sans-serif\" font-size=\"10px\" fill=\"#000\" opacity=\"1\">6</text><text text-anchor=\"end\" transform=\"translate(130,7) rotate(270) translate(0,3)\" font-family=\"sans-serif\" font-size=\"10px\" fill=\"#000\" opacity=\"1\">7</text><text text-anchor=\"end\" transform=\"translate(150,7) rotate(270) translate(0,3)\" font-family=\"sans-serif\" font-size=\"10px\" fill=\"#000\" opacity=\"1\">8</text><text text-anchor=\"end\" transform=\"translate(170,7) rotate(270) translate(0,3)\" font-family=\"sans-serif\" font-size=\"10px\" fill=\"#000\" opacity=\"1\">9</text><text text-anchor=\"end\" transform=\"translate(190,7) rotate(270) translate(0,3)\" font-family=\"sans-serif\" font-size=\"10px\" fill=\"#000\" opacity=\"1\">10</text></g><g class=\"mark-rule role-axis-domain\" pointer-events=\"none\"><line transform=\"translate(0,0)\" x2=\"200\" y2=\"0\" stroke=\"#888\" stroke-width=\"1\" opacity=\"1\"></line></g><g class=\"mark-text role-axis-title\" pointer-events=\"none\"><text text-anchor=\"middle\" transform=\"translate(100,32)\" font-family=\"sans-serif\" font-size=\"11px\" font-weight=\"bold\" fill=\"#000\" opacity=\"1\">x</text></g></g><path class=\"foreground\" aria-hidden=\"true\" d=\"\" pointer-events=\"none\" display=\"none\"></path></g></g><g class=\"mark-group role-axis\" role=\"graphics-symbol\" aria-roledescription=\"axis\" aria-label=\"Y-axis titled 'y' for a linear scale with values from 0 to 100\"><g transform=\"translate(0.5,0.5)\"><path class=\"background\" aria-hidden=\"true\" d=\"M0,0h0v0h0Z\" pointer-events=\"none\"></path><g><g class=\"mark-rule role-axis-tick\" pointer-events=\"none\"><line transform=\"translate(0,200)\" x2=\"-5\" y2=\"0\" stroke=\"#888\" stroke-width=\"1\" opacity=\"1\"></line><line transform=\"translate(0,160)\" x2=\"-5\" y2=\"0\" stroke=\"#888\" stroke-width=\"1\" opacity=\"1\"></line><line transform=\"translate(0,120)\" x2=\"-5\" y2=\"0\" stroke=\"#888\" stroke-width=\"1\" opacity=\"1\"></line><line transform=\"translate(0,80)\" x2=\"-5\" y2=\"0\" stroke=\"#888\" stroke-width=\"1\" opacity=\"1\"></line><line transform=\"translate(0,40)\" x2=\"-5\" y2=\"0\" stroke=\"#888\" stroke-width=\"1\" opacity=\"1\"></line><line transform=\"translate(0,0)\" x2=\"-5\" y2=\"0\" stroke=\"#888\" stroke-width=\"1\" opacity=\"1\"></line></g><g class=\"mark-text role-axis-label\" pointer-events=\"none\"><text text-anchor=\"end\" transform=\"translate(-7,203)\" font-family=\"sans-serif\" font-size=\"10px\" fill=\"#000\" opacity=\"1\">0</text><text text-anchor=\"end\" transform=\"translate(-7,163)\" font-family=\"sans-serif\" font-size=\"10px\" fill=\"#000\" opacity=\"1\">20</text><text text-anchor=\"end\" transform=\"translate(-7,123)\" font-family=\"sans-serif\" font-size=\"10px\" fill=\"#000\" opacity=\"1\">40</text><text text-anchor=\"end\" transform=\"translate(-7,83)\" font-family=\"sans-serif\" font-size=\"10px\" fill=\"#000\" opacity=\"1\">60</text><text text-anchor=\"end\" transform=\"translate(-7,42.99999999999999)\" font-family=\"sans-serif\" font-size=\"10px\" fill=\"#000\" opacity=\"1\">80</text><text text-anchor=\"end\" transform=\"translate(-7,3)\" font-family=\"sans-serif\" font-size=\"10px\" fill=\"#000\" opacity=\"1\">100</text></g><g class=\"mark-rule role-axis-domain\" pointer-events=\"none\"><line transform=\"translate(0,200)\" x2=\"0\" y2=\"-200\" stroke=\"#888\" stroke-width=\"1\" opacity=\"1\"></line></g><g class=\"mark-text role-axis-title\" pointer-events=\"none\"><text text-anchor=\"middle\" transform=\"translate(-29,100) rotate(-90) translate(0,-2)\" font-family=\"sans-serif\" font-size=\"11px\" font-weight=\"bold\" fill=\"#000\" opacity=\"1\">y</text></g></g><path class=\"foreground\" aria-hidden=\"true\" d=\"\" pointer-events=\"none\" display=\"none\"></path></g></g><g class=\"mark-symbol role-mark marks\" role=\"graphics-object\" aria-roledescription=\"symbol mark container\"><path aria-label=\"x: 1; y: 1; zcolor: 1\" role=\"graphics-symbol\" aria-roledescription=\"circle\" transform=\"translate(10,198)\" d=\"M2.7386127875258306,0A2.7386127875258306,2.7386127875258306,0,1,1,-2.7386127875258306,0A2.7386127875258306,2.7386127875258306,0,1,1,2.7386127875258306,0\" fill=\"rgb(134, 188, 220)\" stroke-width=\"2\" opacity=\"0.7\"></path><path aria-label=\"x: 2; y: 4; zcolor: 1\" role=\"graphics-symbol\" aria-roledescription=\"circle\" transform=\"translate(30,192)\" d=\"M2.7386127875258306,0A2.7386127875258306,2.7386127875258306,0,1,1,-2.7386127875258306,0A2.7386127875258306,2.7386127875258306,0,1,1,2.7386127875258306,0\" fill=\"rgb(134, 188, 220)\" stroke-width=\"2\" opacity=\"0.7\"></path><path aria-label=\"x: 3; y: 9; zcolor: 2\" role=\"graphics-symbol\" aria-roledescription=\"circle\" transform=\"translate(50,182)\" d=\"M2.7386127875258306,0A2.7386127875258306,2.7386127875258306,0,1,1,-2.7386127875258306,0A2.7386127875258306,2.7386127875258306,0,1,1,2.7386127875258306,0\" fill=\"rgb(56, 135, 192)\" stroke-width=\"2\" opacity=\"0.7\"></path><path aria-label=\"x: 4; y: 16; zcolor: 1\" role=\"graphics-symbol\" aria-roledescription=\"circle\" transform=\"translate(70,168)\" d=\"M2.7386127875258306,0A2.7386127875258306,2.7386127875258306,0,1,1,-2.7386127875258306,0A2.7386127875258306,2.7386127875258306,0,1,1,2.7386127875258306,0\" fill=\"rgb(134, 188, 220)\" stroke-width=\"2\" opacity=\"0.7\"></path><path aria-label=\"x: 5; y: 25; zcolor: 1\" role=\"graphics-symbol\" aria-roledescription=\"circle\" transform=\"translate(90,150)\" d=\"M2.7386127875258306,0A2.7386127875258306,2.7386127875258306,0,1,1,-2.7386127875258306,0A2.7386127875258306,2.7386127875258306,0,1,1,2.7386127875258306,0\" fill=\"rgb(134, 188, 220)\" stroke-width=\"2\" opacity=\"0.7\"></path><path aria-label=\"x: 6; y: 36; zcolor: 1\" role=\"graphics-symbol\" aria-roledescription=\"circle\" transform=\"translate(110,128)\" d=\"M2.7386127875258306,0A2.7386127875258306,2.7386127875258306,0,1,1,-2.7386127875258306,0A2.7386127875258306,2.7386127875258306,0,1,1,2.7386127875258306,0\" fill=\"rgb(134, 188, 220)\" stroke-width=\"2\" opacity=\"0.7\"></path><path aria-label=\"x: 7; y: 49; zcolor: 2\" role=\"graphics-symbol\" aria-roledescription=\"circle\" transform=\"translate(130,102)\" d=\"M2.7386127875258306,0A2.7386127875258306,2.7386127875258306,0,1,1,-2.7386127875258306,0A2.7386127875258306,2.7386127875258306,0,1,1,2.7386127875258306,0\" fill=\"rgb(56, 135, 192)\" stroke-width=\"2\" opacity=\"0.7\"></path><path aria-label=\"x: 8; y: 64; zcolor: 2\" role=\"graphics-symbol\" aria-roledescription=\"circle\" transform=\"translate(150,72)\" d=\"M2.7386127875258306,0A2.7386127875258306,2.7386127875258306,0,1,1,-2.7386127875258306,0A2.7386127875258306,2.7386127875258306,0,1,1,2.7386127875258306,0\" fill=\"rgb(56, 135, 192)\" stroke-width=\"2\" opacity=\"0.7\"></path><path aria-label=\"x: 9; y: 81; zcolor: 2\" role=\"graphics-symbol\" aria-roledescription=\"circle\" transform=\"translate(170,37.999999999999986)\" d=\"M2.7386127875258306,0A2.7386127875258306,2.7386127875258306,0,1,1,-2.7386127875258306,0A2.7386127875258306,2.7386127875258306,0,1,1,2.7386127875258306,0\" fill=\"rgb(56, 135, 192)\" stroke-width=\"2\" opacity=\"0.7\"></path><path aria-label=\"x: 10; y: 100; zcolor: 1\" role=\"graphics-symbol\" aria-roledescription=\"circle\" transform=\"translate(190,0)\" d=\"M2.7386127875258306,0A2.7386127875258306,2.7386127875258306,0,1,1,-2.7386127875258306,0A2.7386127875258306,2.7386127875258306,0,1,1,2.7386127875258306,0\" fill=\"rgb(134, 188, 220)\" stroke-width=\"2\" opacity=\"0.7\"></path></g><g class=\"mark-group role-legend\" role=\"graphics-symbol\" aria-roledescription=\"legend\" aria-label=\"Symbol legend titled 'zcolor' for fill color with 2 values: 1, 2\"><g transform=\"translate(218,0)\"><path class=\"background\" aria-hidden=\"true\" d=\"M0,0h38v40h-38Z\" pointer-events=\"none\"></path><g><g class=\"mark-group role-legend-entry\"><g transform=\"translate(0,16)\"><path class=\"background\" aria-hidden=\"true\" d=\"M0,0h0v0h0Z\" pointer-events=\"none\"></path><g><g class=\"mark-group role-scope\" role=\"graphics-object\" aria-roledescription=\"group mark container\"><g transform=\"translate(0,0)\"><path class=\"background\" aria-hidden=\"true\" d=\"M0,0h22v11h-22Z\" pointer-events=\"none\" opacity=\"1\"></path><g><g class=\"mark-symbol role-legend-symbol\" pointer-events=\"none\"><path transform=\"translate(6,6)\" d=\"M5,0A5,5,0,1,1,-5,0A5,5,0,1,1,5,0\" fill=\"rgb(134, 188, 220)\" stroke-width=\"1.5\" opacity=\"0.7\"></path></g><g class=\"mark-text role-legend-label\" pointer-events=\"none\"><text text-anchor=\"start\" transform=\"translate(16,9)\" font-family=\"sans-serif\" font-size=\"10px\" fill=\"#000\" opacity=\"1\">1</text></g></g><path class=\"foreground\" aria-hidden=\"true\" d=\"\" pointer-events=\"none\" display=\"none\"></path></g><g transform=\"translate(0,13)\"><path class=\"background\" aria-hidden=\"true\" d=\"M0,0h22v11h-22Z\" pointer-events=\"none\" opacity=\"1\"></path><g><g class=\"mark-symbol role-legend-symbol\" pointer-events=\"none\"><path transform=\"translate(6,6)\" d=\"M5,0A5,5,0,1,1,-5,0A5,5,0,1,1,5,0\" fill=\"rgb(56, 135, 192)\" stroke-width=\"1.5\" opacity=\"0.7\"></path></g><g class=\"mark-text role-legend-label\" pointer-events=\"none\"><text text-anchor=\"start\" transform=\"translate(16,9)\" font-family=\"sans-serif\" font-size=\"10px\" fill=\"#000\" opacity=\"1\">2</text></g></g><path class=\"foreground\" aria-hidden=\"true\" d=\"\" pointer-events=\"none\" display=\"none\"></path></g></g></g><path class=\"foreground\" aria-hidden=\"true\" d=\"\" pointer-events=\"none\" display=\"none\"></path></g></g><g class=\"mark-text role-legend-title\" pointer-events=\"none\"><text text-anchor=\"start\" transform=\"translate(0,9)\" font-family=\"sans-serif\" font-size=\"11px\" font-weight=\"bold\" fill=\"#000\" opacity=\"1\">zcolor</text></g></g><path class=\"foreground\" aria-hidden=\"true\" d=\"\" pointer-events=\"none\" display=\"none\"></path></g></g></g><path class=\"foreground\" aria-hidden=\"true\" d=\"\" display=\"none\"></path></g></g></g></svg>\n"
      ],
      "text/plain": [
       "@vlplot(\n",
       "    data={\n",
       "        values=...\n",
       "    },\n",
       "    mark={\n",
       "        type=\"circle\"\n",
       "    },\n",
       "    encoding={\n",
       "        x={\n",
       "            field=\"x\",\n",
       "            type=\"ordinal\"\n",
       "        },\n",
       "        y={\n",
       "            field=\"y\",\n",
       "            type=\"quantitative\"\n",
       "        },\n",
       "        color={\n",
       "            field=\"zcolor\",\n",
       "            type=\"ordinal\"\n",
       "        }\n",
       "    }\n",
       ")"
      ]
     },
     "execution_count": 367,
     "metadata": {},
     "output_type": "execute_result"
    }
   ],
   "source": [
    "p"
   ]
  },
  {
   "cell_type": "markdown",
   "id": "1efb679a-1b9d-4726-86a3-a64ad51b2150",
   "metadata": {},
   "source": [
    "## Lineplot"
   ]
  },
  {
   "cell_type": "code",
   "execution_count": 368,
   "id": "01fbdc82-8be8-4391-9bbd-34b03865bd81",
   "metadata": {},
   "outputs": [
    {
     "data": {
      "application/vnd.vegalite.v4+json": {
       "data": {
        "values": [
         {
          "x": 1,
          "y": 1
         },
         {
          "x": 2,
          "y": 4
         },
         {
          "x": 3,
          "y": 9
         },
         {
          "x": 4,
          "y": 16
         },
         {
          "x": 5,
          "y": 25
         },
         {
          "x": 6,
          "y": 36
         },
         {
          "x": 7,
          "y": 49
         },
         {
          "x": 8,
          "y": 64
         },
         {
          "x": 9,
          "y": 81
         },
         {
          "x": 10,
          "y": 100
         }
        ]
       },
       "encoding": {
        "x": {
         "field": "x",
         "type": "ordinal"
        },
        "y": {
         "field": "y",
         "type": "quantitative"
        }
       },
       "mark": {
        "type": "line"
       }
      },
      "image/png": "[encoded data removed]",
      "image/svg+xml": [
       "<?xml version=\"1.0\" encoding=\"utf-8\"?>\n",
       "<!DOCTYPE svg PUBLIC \"-//W3C//DTD SVG 1.1//EN\" \"http://www.w3.org/Graphics/SVG/1.1/DTD/svg11.dtd\">\n",
       "<svg class=\"marks\" width=\"250\" height=\"249\" viewBox=\"0 0 250 249\" version=\"1.1\" xmlns=\"http://www.w3.org/2000/svg\" xmlns:xlink=\"http://www.w3.org/1999/xlink\"><rect width=\"250\" height=\"249\" fill=\"white\"></rect><g fill=\"none\" stroke-miterlimit=\"10\" transform=\"translate(45,10)\"><g class=\"mark-group role-frame root\" role=\"graphics-object\" aria-roledescription=\"group mark container\"><g transform=\"translate(0,0)\"><path class=\"background\" aria-hidden=\"true\" d=\"M0.5,0.5h200v200h-200Z\" stroke=\"#ddd\"></path><g><g class=\"mark-group role-axis\" aria-hidden=\"true\"><g transform=\"translate(0.5,0.5)\"><path class=\"background\" aria-hidden=\"true\" d=\"M0,0h0v0h0Z\" pointer-events=\"none\"></path><g><g class=\"mark-rule role-axis-grid\" pointer-events=\"none\"><line transform=\"translate(0,200)\" x2=\"200\" y2=\"0\" stroke=\"#ddd\" stroke-width=\"1\" opacity=\"1\"></line><line transform=\"translate(0,160)\" x2=\"200\" y2=\"0\" stroke=\"#ddd\" stroke-width=\"1\" opacity=\"1\"></line><line transform=\"translate(0,120)\" x2=\"200\" y2=\"0\" stroke=\"#ddd\" stroke-width=\"1\" opacity=\"1\"></line><line transform=\"translate(0,80)\" x2=\"200\" y2=\"0\" stroke=\"#ddd\" stroke-width=\"1\" opacity=\"1\"></line><line transform=\"translate(0,40)\" x2=\"200\" y2=\"0\" stroke=\"#ddd\" stroke-width=\"1\" opacity=\"1\"></line><line transform=\"translate(0,0)\" x2=\"200\" y2=\"0\" stroke=\"#ddd\" stroke-width=\"1\" opacity=\"1\"></line></g></g><path class=\"foreground\" aria-hidden=\"true\" d=\"\" pointer-events=\"none\" display=\"none\"></path></g></g><g class=\"mark-group role-axis\" role=\"graphics-symbol\" aria-roledescription=\"axis\" aria-label=\"X-axis titled 'x' for a discrete scale with 10 values: 1, 2, 3, 4, 5, ending with 10\"><g transform=\"translate(0.5,200.5)\"><path class=\"background\" aria-hidden=\"true\" d=\"M0,0h0v0h0Z\" pointer-events=\"none\"></path><g><g class=\"mark-rule role-axis-tick\" pointer-events=\"none\"><line transform=\"translate(10,0)\" x2=\"0\" y2=\"5\" stroke=\"#888\" stroke-width=\"1\" opacity=\"1\"></line><line transform=\"translate(30,0)\" x2=\"0\" y2=\"5\" stroke=\"#888\" stroke-width=\"1\" opacity=\"1\"></line><line transform=\"translate(50,0)\" x2=\"0\" y2=\"5\" stroke=\"#888\" stroke-width=\"1\" opacity=\"1\"></line><line transform=\"translate(70,0)\" x2=\"0\" y2=\"5\" stroke=\"#888\" stroke-width=\"1\" opacity=\"1\"></line><line transform=\"translate(90,0)\" x2=\"0\" y2=\"5\" stroke=\"#888\" stroke-width=\"1\" opacity=\"1\"></line><line transform=\"translate(110,0)\" x2=\"0\" y2=\"5\" stroke=\"#888\" stroke-width=\"1\" opacity=\"1\"></line><line transform=\"translate(130,0)\" x2=\"0\" y2=\"5\" stroke=\"#888\" stroke-width=\"1\" opacity=\"1\"></line><line transform=\"translate(150,0)\" x2=\"0\" y2=\"5\" stroke=\"#888\" stroke-width=\"1\" opacity=\"1\"></line><line transform=\"translate(170,0)\" x2=\"0\" y2=\"5\" stroke=\"#888\" stroke-width=\"1\" opacity=\"1\"></line><line transform=\"translate(190,0)\" x2=\"0\" y2=\"5\" stroke=\"#888\" stroke-width=\"1\" opacity=\"1\"></line></g><g class=\"mark-text role-axis-label\" pointer-events=\"none\"><text text-anchor=\"end\" transform=\"translate(10,7) rotate(270) translate(0,3)\" font-family=\"sans-serif\" font-size=\"10px\" fill=\"#000\" opacity=\"1\">1</text><text text-anchor=\"end\" transform=\"translate(30,7) rotate(270) translate(0,3)\" font-family=\"sans-serif\" font-size=\"10px\" fill=\"#000\" opacity=\"1\">2</text><text text-anchor=\"end\" transform=\"translate(50,7) rotate(270) translate(0,3)\" font-family=\"sans-serif\" font-size=\"10px\" fill=\"#000\" opacity=\"1\">3</text><text text-anchor=\"end\" transform=\"translate(70,7) rotate(270) translate(0,3)\" font-family=\"sans-serif\" font-size=\"10px\" fill=\"#000\" opacity=\"1\">4</text><text text-anchor=\"end\" transform=\"translate(90,7) rotate(270) translate(0,3)\" font-family=\"sans-serif\" font-size=\"10px\" fill=\"#000\" opacity=\"1\">5</text><text text-anchor=\"end\" transform=\"translate(110,7) rotate(270) translate(0,3)\" font-family=\"sans-serif\" font-size=\"10px\" fill=\"#000\" opacity=\"1\">6</text><text text-anchor=\"end\" transform=\"translate(130,7) rotate(270) translate(0,3)\" font-family=\"sans-serif\" font-size=\"10px\" fill=\"#000\" opacity=\"1\">7</text><text text-anchor=\"end\" transform=\"translate(150,7) rotate(270) translate(0,3)\" font-family=\"sans-serif\" font-size=\"10px\" fill=\"#000\" opacity=\"1\">8</text><text text-anchor=\"end\" transform=\"translate(170,7) rotate(270) translate(0,3)\" font-family=\"sans-serif\" font-size=\"10px\" fill=\"#000\" opacity=\"1\">9</text><text text-anchor=\"end\" transform=\"translate(190,7) rotate(270) translate(0,3)\" font-family=\"sans-serif\" font-size=\"10px\" fill=\"#000\" opacity=\"1\">10</text></g><g class=\"mark-rule role-axis-domain\" pointer-events=\"none\"><line transform=\"translate(0,0)\" x2=\"200\" y2=\"0\" stroke=\"#888\" stroke-width=\"1\" opacity=\"1\"></line></g><g class=\"mark-text role-axis-title\" pointer-events=\"none\"><text text-anchor=\"middle\" transform=\"translate(100,32)\" font-family=\"sans-serif\" font-size=\"11px\" font-weight=\"bold\" fill=\"#000\" opacity=\"1\">x</text></g></g><path class=\"foreground\" aria-hidden=\"true\" d=\"\" pointer-events=\"none\" display=\"none\"></path></g></g><g class=\"mark-group role-axis\" role=\"graphics-symbol\" aria-roledescription=\"axis\" aria-label=\"Y-axis titled 'y' for a linear scale with values from 0 to 100\"><g transform=\"translate(0.5,0.5)\"><path class=\"background\" aria-hidden=\"true\" d=\"M0,0h0v0h0Z\" pointer-events=\"none\"></path><g><g class=\"mark-rule role-axis-tick\" pointer-events=\"none\"><line transform=\"translate(0,200)\" x2=\"-5\" y2=\"0\" stroke=\"#888\" stroke-width=\"1\" opacity=\"1\"></line><line transform=\"translate(0,160)\" x2=\"-5\" y2=\"0\" stroke=\"#888\" stroke-width=\"1\" opacity=\"1\"></line><line transform=\"translate(0,120)\" x2=\"-5\" y2=\"0\" stroke=\"#888\" stroke-width=\"1\" opacity=\"1\"></line><line transform=\"translate(0,80)\" x2=\"-5\" y2=\"0\" stroke=\"#888\" stroke-width=\"1\" opacity=\"1\"></line><line transform=\"translate(0,40)\" x2=\"-5\" y2=\"0\" stroke=\"#888\" stroke-width=\"1\" opacity=\"1\"></line><line transform=\"translate(0,0)\" x2=\"-5\" y2=\"0\" stroke=\"#888\" stroke-width=\"1\" opacity=\"1\"></line></g><g class=\"mark-text role-axis-label\" pointer-events=\"none\"><text text-anchor=\"end\" transform=\"translate(-7,203)\" font-family=\"sans-serif\" font-size=\"10px\" fill=\"#000\" opacity=\"1\">0</text><text text-anchor=\"end\" transform=\"translate(-7,163)\" font-family=\"sans-serif\" font-size=\"10px\" fill=\"#000\" opacity=\"1\">20</text><text text-anchor=\"end\" transform=\"translate(-7,123)\" font-family=\"sans-serif\" font-size=\"10px\" fill=\"#000\" opacity=\"1\">40</text><text text-anchor=\"end\" transform=\"translate(-7,83)\" font-family=\"sans-serif\" font-size=\"10px\" fill=\"#000\" opacity=\"1\">60</text><text text-anchor=\"end\" transform=\"translate(-7,42.99999999999999)\" font-family=\"sans-serif\" font-size=\"10px\" fill=\"#000\" opacity=\"1\">80</text><text text-anchor=\"end\" transform=\"translate(-7,3)\" font-family=\"sans-serif\" font-size=\"10px\" fill=\"#000\" opacity=\"1\">100</text></g><g class=\"mark-rule role-axis-domain\" pointer-events=\"none\"><line transform=\"translate(0,200)\" x2=\"0\" y2=\"-200\" stroke=\"#888\" stroke-width=\"1\" opacity=\"1\"></line></g><g class=\"mark-text role-axis-title\" pointer-events=\"none\"><text text-anchor=\"middle\" transform=\"translate(-29,100) rotate(-90) translate(0,-2)\" font-family=\"sans-serif\" font-size=\"11px\" font-weight=\"bold\" fill=\"#000\" opacity=\"1\">y</text></g></g><path class=\"foreground\" aria-hidden=\"true\" d=\"\" pointer-events=\"none\" display=\"none\"></path></g></g><g class=\"mark-line role-mark marks\" role=\"graphics-object\" aria-roledescription=\"line mark container\"><path aria-label=\"x: 1; y: 1\" role=\"graphics-symbol\" aria-roledescription=\"line mark\" d=\"M10,198L30,192L50,182L70,168L90,150L110,128L130,102L150,72L170,37.999999999999986L190,0\" stroke=\"#4c78a8\" stroke-width=\"2\"></path></g></g><path class=\"foreground\" aria-hidden=\"true\" d=\"\" display=\"none\"></path></g></g></g></svg>\n"
      ],
      "text/plain": [
       "@vlplot(\n",
       "    data={\n",
       "        values=...\n",
       "    },\n",
       "    mark={\n",
       "        type=\"line\"\n",
       "    },\n",
       "    encoding={\n",
       "        x={\n",
       "            type=\"ordinal\",\n",
       "            field=\"x\"\n",
       "        },\n",
       "        y={\n",
       "            type=\"quantitative\",\n",
       "            field=\"y\"\n",
       "        }\n",
       "    }\n",
       ")"
      ]
     },
     "execution_count": 368,
     "metadata": {},
     "output_type": "execute_result"
    }
   ],
   "source": [
    "s = lineplot(x,y)"
   ]
  },
  {
   "cell_type": "markdown",
   "id": "0419969d-ef6d-4328-976e-5c45f8413d05",
   "metadata": {},
   "source": [
    "## Scatter + Line"
   ]
  },
  {
   "cell_type": "code",
   "execution_count": 369,
   "id": "4ce7297d-7577-4e3d-8ebc-a6e494875cd6",
   "metadata": {},
   "outputs": [
    {
     "data": {
      "application/vnd.vegalite.v4+json": {
       "layer": [
        {
         "data": {
          "values": [
           {
            "x": 1,
            "y": 1,
            "zcolor": 1
           },
           {
            "x": 2,
            "y": 4,
            "zcolor": 1
           },
           {
            "x": 3,
            "y": 9,
            "zcolor": 2
           },
           {
            "x": 4,
            "y": 16,
            "zcolor": 1
           },
           {
            "x": 5,
            "y": 25,
            "zcolor": 1
           },
           {
            "x": 6,
            "y": 36,
            "zcolor": 1
           },
           {
            "x": 7,
            "y": 49,
            "zcolor": 2
           },
           {
            "x": 8,
            "y": 64,
            "zcolor": 2
           },
           {
            "x": 9,
            "y": 81,
            "zcolor": 2
           },
           {
            "x": 10,
            "y": 100,
            "zcolor": 1
           }
          ]
         },
         "encoding": {
          "color": {
           "field": "zcolor",
           "type": "ordinal"
          },
          "x": {
           "field": "x",
           "type": "ordinal"
          },
          "y": {
           "field": "y",
           "type": "quantitative"
          }
         },
         "mark": {
          "type": "circle"
         }
        },
        {
         "data": {
          "values": [
           {
            "x": 1,
            "y": 1
           },
           {
            "x": 2,
            "y": 4
           },
           {
            "x": 3,
            "y": 9
           },
           {
            "x": 4,
            "y": 16
           },
           {
            "x": 5,
            "y": 25
           },
           {
            "x": 6,
            "y": 36
           },
           {
            "x": 7,
            "y": 49
           },
           {
            "x": 8,
            "y": 64
           },
           {
            "x": 9,
            "y": 81
           },
           {
            "x": 10,
            "y": 100
           }
          ]
         },
         "encoding": {
          "x": {
           "field": "x",
           "type": "ordinal"
          },
          "y": {
           "field": "y",
           "type": "quantitative"
          }
         },
         "mark": {
          "type": "line"
         }
        }
       ]
      },
      "image/png": "[encoded data removed]",
      "image/svg+xml": [
       "<?xml version=\"1.0\" encoding=\"utf-8\"?>\n",
       "<!DOCTYPE svg PUBLIC \"-//W3C//DTD SVG 1.1//EN\" \"http://www.w3.org/Graphics/SVG/1.1/DTD/svg11.dtd\">\n",
       "<svg class=\"marks\" width=\"306\" height=\"249\" viewBox=\"0 0 306 249\" version=\"1.1\" xmlns=\"http://www.w3.org/2000/svg\" xmlns:xlink=\"http://www.w3.org/1999/xlink\"><rect width=\"306\" height=\"249\" fill=\"white\"></rect><g fill=\"none\" stroke-miterlimit=\"10\" transform=\"translate(45,10)\"><g class=\"mark-group role-frame root\" role=\"graphics-object\" aria-roledescription=\"group mark container\"><g transform=\"translate(0,0)\"><path class=\"background\" aria-hidden=\"true\" d=\"M0.5,0.5h200v200h-200Z\" stroke=\"#ddd\"></path><g><g class=\"mark-group role-axis\" aria-hidden=\"true\"><g transform=\"translate(0.5,0.5)\"><path class=\"background\" aria-hidden=\"true\" d=\"M0,0h0v0h0Z\" pointer-events=\"none\"></path><g><g class=\"mark-rule role-axis-grid\" pointer-events=\"none\"><line transform=\"translate(0,200)\" x2=\"200\" y2=\"0\" stroke=\"#ddd\" stroke-width=\"1\" opacity=\"1\"></line><line transform=\"translate(0,160)\" x2=\"200\" y2=\"0\" stroke=\"#ddd\" stroke-width=\"1\" opacity=\"1\"></line><line transform=\"translate(0,120)\" x2=\"200\" y2=\"0\" stroke=\"#ddd\" stroke-width=\"1\" opacity=\"1\"></line><line transform=\"translate(0,80)\" x2=\"200\" y2=\"0\" stroke=\"#ddd\" stroke-width=\"1\" opacity=\"1\"></line><line transform=\"translate(0,40)\" x2=\"200\" y2=\"0\" stroke=\"#ddd\" stroke-width=\"1\" opacity=\"1\"></line><line transform=\"translate(0,0)\" x2=\"200\" y2=\"0\" stroke=\"#ddd\" stroke-width=\"1\" opacity=\"1\"></line></g></g><path class=\"foreground\" aria-hidden=\"true\" d=\"\" pointer-events=\"none\" display=\"none\"></path></g></g><g class=\"mark-group role-axis\" role=\"graphics-symbol\" aria-roledescription=\"axis\" aria-label=\"X-axis titled 'x' for a discrete scale with 10 values: 1, 2, 3, 4, 5, ending with 10\"><g transform=\"translate(0.5,200.5)\"><path class=\"background\" aria-hidden=\"true\" d=\"M0,0h0v0h0Z\" pointer-events=\"none\"></path><g><g class=\"mark-rule role-axis-tick\" pointer-events=\"none\"><line transform=\"translate(10,0)\" x2=\"0\" y2=\"5\" stroke=\"#888\" stroke-width=\"1\" opacity=\"1\"></line><line transform=\"translate(30,0)\" x2=\"0\" y2=\"5\" stroke=\"#888\" stroke-width=\"1\" opacity=\"1\"></line><line transform=\"translate(50,0)\" x2=\"0\" y2=\"5\" stroke=\"#888\" stroke-width=\"1\" opacity=\"1\"></line><line transform=\"translate(70,0)\" x2=\"0\" y2=\"5\" stroke=\"#888\" stroke-width=\"1\" opacity=\"1\"></line><line transform=\"translate(90,0)\" x2=\"0\" y2=\"5\" stroke=\"#888\" stroke-width=\"1\" opacity=\"1\"></line><line transform=\"translate(110,0)\" x2=\"0\" y2=\"5\" stroke=\"#888\" stroke-width=\"1\" opacity=\"1\"></line><line transform=\"translate(130,0)\" x2=\"0\" y2=\"5\" stroke=\"#888\" stroke-width=\"1\" opacity=\"1\"></line><line transform=\"translate(150,0)\" x2=\"0\" y2=\"5\" stroke=\"#888\" stroke-width=\"1\" opacity=\"1\"></line><line transform=\"translate(170,0)\" x2=\"0\" y2=\"5\" stroke=\"#888\" stroke-width=\"1\" opacity=\"1\"></line><line transform=\"translate(190,0)\" x2=\"0\" y2=\"5\" stroke=\"#888\" stroke-width=\"1\" opacity=\"1\"></line></g><g class=\"mark-text role-axis-label\" pointer-events=\"none\"><text text-anchor=\"end\" transform=\"translate(10,7) rotate(270) translate(0,3)\" font-family=\"sans-serif\" font-size=\"10px\" fill=\"#000\" opacity=\"1\">1</text><text text-anchor=\"end\" transform=\"translate(30,7) rotate(270) translate(0,3)\" font-family=\"sans-serif\" font-size=\"10px\" fill=\"#000\" opacity=\"1\">2</text><text text-anchor=\"end\" transform=\"translate(50,7) rotate(270) translate(0,3)\" font-family=\"sans-serif\" font-size=\"10px\" fill=\"#000\" opacity=\"1\">3</text><text text-anchor=\"end\" transform=\"translate(70,7) rotate(270) translate(0,3)\" font-family=\"sans-serif\" font-size=\"10px\" fill=\"#000\" opacity=\"1\">4</text><text text-anchor=\"end\" transform=\"translate(90,7) rotate(270) translate(0,3)\" font-family=\"sans-serif\" font-size=\"10px\" fill=\"#000\" opacity=\"1\">5</text><text text-anchor=\"end\" transform=\"translate(110,7) rotate(270) translate(0,3)\" font-family=\"sans-serif\" font-size=\"10px\" fill=\"#000\" opacity=\"1\">6</text><text text-anchor=\"end\" transform=\"translate(130,7) rotate(270) translate(0,3)\" font-family=\"sans-serif\" font-size=\"10px\" fill=\"#000\" opacity=\"1\">7</text><text text-anchor=\"end\" transform=\"translate(150,7) rotate(270) translate(0,3)\" font-family=\"sans-serif\" font-size=\"10px\" fill=\"#000\" opacity=\"1\">8</text><text text-anchor=\"end\" transform=\"translate(170,7) rotate(270) translate(0,3)\" font-family=\"sans-serif\" font-size=\"10px\" fill=\"#000\" opacity=\"1\">9</text><text text-anchor=\"end\" transform=\"translate(190,7) rotate(270) translate(0,3)\" font-family=\"sans-serif\" font-size=\"10px\" fill=\"#000\" opacity=\"1\">10</text></g><g class=\"mark-rule role-axis-domain\" pointer-events=\"none\"><line transform=\"translate(0,0)\" x2=\"200\" y2=\"0\" stroke=\"#888\" stroke-width=\"1\" opacity=\"1\"></line></g><g class=\"mark-text role-axis-title\" pointer-events=\"none\"><text text-anchor=\"middle\" transform=\"translate(100,32)\" font-family=\"sans-serif\" font-size=\"11px\" font-weight=\"bold\" fill=\"#000\" opacity=\"1\">x</text></g></g><path class=\"foreground\" aria-hidden=\"true\" d=\"\" pointer-events=\"none\" display=\"none\"></path></g></g><g class=\"mark-group role-axis\" role=\"graphics-symbol\" aria-roledescription=\"axis\" aria-label=\"Y-axis titled 'y' for a linear scale with values from 0 to 100\"><g transform=\"translate(0.5,0.5)\"><path class=\"background\" aria-hidden=\"true\" d=\"M0,0h0v0h0Z\" pointer-events=\"none\"></path><g><g class=\"mark-rule role-axis-tick\" pointer-events=\"none\"><line transform=\"translate(0,200)\" x2=\"-5\" y2=\"0\" stroke=\"#888\" stroke-width=\"1\" opacity=\"1\"></line><line transform=\"translate(0,160)\" x2=\"-5\" y2=\"0\" stroke=\"#888\" stroke-width=\"1\" opacity=\"1\"></line><line transform=\"translate(0,120)\" x2=\"-5\" y2=\"0\" stroke=\"#888\" stroke-width=\"1\" opacity=\"1\"></line><line transform=\"translate(0,80)\" x2=\"-5\" y2=\"0\" stroke=\"#888\" stroke-width=\"1\" opacity=\"1\"></line><line transform=\"translate(0,40)\" x2=\"-5\" y2=\"0\" stroke=\"#888\" stroke-width=\"1\" opacity=\"1\"></line><line transform=\"translate(0,0)\" x2=\"-5\" y2=\"0\" stroke=\"#888\" stroke-width=\"1\" opacity=\"1\"></line></g><g class=\"mark-text role-axis-label\" pointer-events=\"none\"><text text-anchor=\"end\" transform=\"translate(-7,203)\" font-family=\"sans-serif\" font-size=\"10px\" fill=\"#000\" opacity=\"1\">0</text><text text-anchor=\"end\" transform=\"translate(-7,163)\" font-family=\"sans-serif\" font-size=\"10px\" fill=\"#000\" opacity=\"1\">20</text><text text-anchor=\"end\" transform=\"translate(-7,123)\" font-family=\"sans-serif\" font-size=\"10px\" fill=\"#000\" opacity=\"1\">40</text><text text-anchor=\"end\" transform=\"translate(-7,83)\" font-family=\"sans-serif\" font-size=\"10px\" fill=\"#000\" opacity=\"1\">60</text><text text-anchor=\"end\" transform=\"translate(-7,42.99999999999999)\" font-family=\"sans-serif\" font-size=\"10px\" fill=\"#000\" opacity=\"1\">80</text><text text-anchor=\"end\" transform=\"translate(-7,3)\" font-family=\"sans-serif\" font-size=\"10px\" fill=\"#000\" opacity=\"1\">100</text></g><g class=\"mark-rule role-axis-domain\" pointer-events=\"none\"><line transform=\"translate(0,200)\" x2=\"0\" y2=\"-200\" stroke=\"#888\" stroke-width=\"1\" opacity=\"1\"></line></g><g class=\"mark-text role-axis-title\" pointer-events=\"none\"><text text-anchor=\"middle\" transform=\"translate(-29,100) rotate(-90) translate(0,-2)\" font-family=\"sans-serif\" font-size=\"11px\" font-weight=\"bold\" fill=\"#000\" opacity=\"1\">y</text></g></g><path class=\"foreground\" aria-hidden=\"true\" d=\"\" pointer-events=\"none\" display=\"none\"></path></g></g><g class=\"mark-symbol role-mark layer_0_marks\" role=\"graphics-object\" aria-roledescription=\"symbol mark container\"><path aria-label=\"x: 1; y: 1; zcolor: 1\" role=\"graphics-symbol\" aria-roledescription=\"circle\" transform=\"translate(10,198)\" d=\"M2.7386127875258306,0A2.7386127875258306,2.7386127875258306,0,1,1,-2.7386127875258306,0A2.7386127875258306,2.7386127875258306,0,1,1,2.7386127875258306,0\" fill=\"rgb(134, 188, 220)\" stroke-width=\"2\" opacity=\"0.7\"></path><path aria-label=\"x: 2; y: 4; zcolor: 1\" role=\"graphics-symbol\" aria-roledescription=\"circle\" transform=\"translate(30,192)\" d=\"M2.7386127875258306,0A2.7386127875258306,2.7386127875258306,0,1,1,-2.7386127875258306,0A2.7386127875258306,2.7386127875258306,0,1,1,2.7386127875258306,0\" fill=\"rgb(134, 188, 220)\" stroke-width=\"2\" opacity=\"0.7\"></path><path aria-label=\"x: 3; y: 9; zcolor: 2\" role=\"graphics-symbol\" aria-roledescription=\"circle\" transform=\"translate(50,182)\" d=\"M2.7386127875258306,0A2.7386127875258306,2.7386127875258306,0,1,1,-2.7386127875258306,0A2.7386127875258306,2.7386127875258306,0,1,1,2.7386127875258306,0\" fill=\"rgb(56, 135, 192)\" stroke-width=\"2\" opacity=\"0.7\"></path><path aria-label=\"x: 4; y: 16; zcolor: 1\" role=\"graphics-symbol\" aria-roledescription=\"circle\" transform=\"translate(70,168)\" d=\"M2.7386127875258306,0A2.7386127875258306,2.7386127875258306,0,1,1,-2.7386127875258306,0A2.7386127875258306,2.7386127875258306,0,1,1,2.7386127875258306,0\" fill=\"rgb(134, 188, 220)\" stroke-width=\"2\" opacity=\"0.7\"></path><path aria-label=\"x: 5; y: 25; zcolor: 1\" role=\"graphics-symbol\" aria-roledescription=\"circle\" transform=\"translate(90,150)\" d=\"M2.7386127875258306,0A2.7386127875258306,2.7386127875258306,0,1,1,-2.7386127875258306,0A2.7386127875258306,2.7386127875258306,0,1,1,2.7386127875258306,0\" fill=\"rgb(134, 188, 220)\" stroke-width=\"2\" opacity=\"0.7\"></path><path aria-label=\"x: 6; y: 36; zcolor: 1\" role=\"graphics-symbol\" aria-roledescription=\"circle\" transform=\"translate(110,128)\" d=\"M2.7386127875258306,0A2.7386127875258306,2.7386127875258306,0,1,1,-2.7386127875258306,0A2.7386127875258306,2.7386127875258306,0,1,1,2.7386127875258306,0\" fill=\"rgb(134, 188, 220)\" stroke-width=\"2\" opacity=\"0.7\"></path><path aria-label=\"x: 7; y: 49; zcolor: 2\" role=\"graphics-symbol\" aria-roledescription=\"circle\" transform=\"translate(130,102)\" d=\"M2.7386127875258306,0A2.7386127875258306,2.7386127875258306,0,1,1,-2.7386127875258306,0A2.7386127875258306,2.7386127875258306,0,1,1,2.7386127875258306,0\" fill=\"rgb(56, 135, 192)\" stroke-width=\"2\" opacity=\"0.7\"></path><path aria-label=\"x: 8; y: 64; zcolor: 2\" role=\"graphics-symbol\" aria-roledescription=\"circle\" transform=\"translate(150,72)\" d=\"M2.7386127875258306,0A2.7386127875258306,2.7386127875258306,0,1,1,-2.7386127875258306,0A2.7386127875258306,2.7386127875258306,0,1,1,2.7386127875258306,0\" fill=\"rgb(56, 135, 192)\" stroke-width=\"2\" opacity=\"0.7\"></path><path aria-label=\"x: 9; y: 81; zcolor: 2\" role=\"graphics-symbol\" aria-roledescription=\"circle\" transform=\"translate(170,37.999999999999986)\" d=\"M2.7386127875258306,0A2.7386127875258306,2.7386127875258306,0,1,1,-2.7386127875258306,0A2.7386127875258306,2.7386127875258306,0,1,1,2.7386127875258306,0\" fill=\"rgb(56, 135, 192)\" stroke-width=\"2\" opacity=\"0.7\"></path><path aria-label=\"x: 10; y: 100; zcolor: 1\" role=\"graphics-symbol\" aria-roledescription=\"circle\" transform=\"translate(190,0)\" d=\"M2.7386127875258306,0A2.7386127875258306,2.7386127875258306,0,1,1,-2.7386127875258306,0A2.7386127875258306,2.7386127875258306,0,1,1,2.7386127875258306,0\" fill=\"rgb(134, 188, 220)\" stroke-width=\"2\" opacity=\"0.7\"></path></g><g class=\"mark-line role-mark layer_1_marks\" role=\"graphics-object\" aria-roledescription=\"line mark container\"><path aria-label=\"x: 1; y: 1\" role=\"graphics-symbol\" aria-roledescription=\"line mark\" d=\"M10,198L30,192L50,182L70,168L90,150L110,128L130,102L150,72L170,37.999999999999986L190,0\" stroke=\"#4c78a8\" stroke-width=\"2\"></path></g><g class=\"mark-group role-legend\" role=\"graphics-symbol\" aria-roledescription=\"legend\" aria-label=\"Symbol legend titled 'zcolor' for fill color with 2 values: 1, 2\"><g transform=\"translate(218,0)\"><path class=\"background\" aria-hidden=\"true\" d=\"M0,0h38v40h-38Z\" pointer-events=\"none\"></path><g><g class=\"mark-group role-legend-entry\"><g transform=\"translate(0,16)\"><path class=\"background\" aria-hidden=\"true\" d=\"M0,0h0v0h0Z\" pointer-events=\"none\"></path><g><g class=\"mark-group role-scope\" role=\"graphics-object\" aria-roledescription=\"group mark container\"><g transform=\"translate(0,0)\"><path class=\"background\" aria-hidden=\"true\" d=\"M0,0h22v11h-22Z\" pointer-events=\"none\" opacity=\"1\"></path><g><g class=\"mark-symbol role-legend-symbol\" pointer-events=\"none\"><path transform=\"translate(6,6)\" d=\"M5,0A5,5,0,1,1,-5,0A5,5,0,1,1,5,0\" fill=\"rgb(134, 188, 220)\" stroke-width=\"1.5\" opacity=\"0.7\"></path></g><g class=\"mark-text role-legend-label\" pointer-events=\"none\"><text text-anchor=\"start\" transform=\"translate(16,9)\" font-family=\"sans-serif\" font-size=\"10px\" fill=\"#000\" opacity=\"1\">1</text></g></g><path class=\"foreground\" aria-hidden=\"true\" d=\"\" pointer-events=\"none\" display=\"none\"></path></g><g transform=\"translate(0,13)\"><path class=\"background\" aria-hidden=\"true\" d=\"M0,0h22v11h-22Z\" pointer-events=\"none\" opacity=\"1\"></path><g><g class=\"mark-symbol role-legend-symbol\" pointer-events=\"none\"><path transform=\"translate(6,6)\" d=\"M5,0A5,5,0,1,1,-5,0A5,5,0,1,1,5,0\" fill=\"rgb(56, 135, 192)\" stroke-width=\"1.5\" opacity=\"0.7\"></path></g><g class=\"mark-text role-legend-label\" pointer-events=\"none\"><text text-anchor=\"start\" transform=\"translate(16,9)\" font-family=\"sans-serif\" font-size=\"10px\" fill=\"#000\" opacity=\"1\">2</text></g></g><path class=\"foreground\" aria-hidden=\"true\" d=\"\" pointer-events=\"none\" display=\"none\"></path></g></g></g><path class=\"foreground\" aria-hidden=\"true\" d=\"\" pointer-events=\"none\" display=\"none\"></path></g></g><g class=\"mark-text role-legend-title\" pointer-events=\"none\"><text text-anchor=\"start\" transform=\"translate(0,9)\" font-family=\"sans-serif\" font-size=\"11px\" font-weight=\"bold\" fill=\"#000\" opacity=\"1\">zcolor</text></g></g><path class=\"foreground\" aria-hidden=\"true\" d=\"\" pointer-events=\"none\" display=\"none\"></path></g></g></g><path class=\"foreground\" aria-hidden=\"true\" d=\"\" display=\"none\"></path></g></g></g></svg>\n"
      ],
      "text/plain": [
       "@vlplot(\n",
       "    layer=[\n",
       "        {\n",
       "            data={\n",
       "                values=...\n",
       "            },\n",
       "            mark={\n",
       "                type=\"circle\"\n",
       "            },\n",
       "            encoding={\n",
       "                x={\n",
       "                    field=\"x\",\n",
       "                    type=\"ordinal\"\n",
       "                },\n",
       "                y={\n",
       "                    field=\"y\",\n",
       "                    type=\"quantitative\"\n",
       "                },\n",
       "                color={\n",
       "                    field=\"zcolor\",\n",
       "                    type=\"ordinal\"\n",
       "                }\n",
       "            }\n",
       "        },\n",
       "        {\n",
       "            data={\n",
       "                values=...\n",
       "            },\n",
       "            mark={\n",
       "                type=\"line\"\n",
       "            },\n",
       "            encoding={\n",
       "                x={\n",
       "                    type=\"ordinal\",\n",
       "                    field=\"x\"\n",
       "                },\n",
       "                y={\n",
       "                    type=\"quantitative\",\n",
       "                    field=\"y\"\n",
       "                }\n",
       "            }\n",
       "        }\n",
       "    ]\n",
       ")"
      ]
     },
     "execution_count": 369,
     "metadata": {},
     "output_type": "execute_result"
    }
   ],
   "source": [
    "P = @vlplot() + p + s"
   ]
  },
  {
   "cell_type": "markdown",
   "id": "abb31ea5-c727-4481-a425-18c7c9d26bc6",
   "metadata": {},
   "source": [
    "## Barplot"
   ]
  },
  {
   "cell_type": "code",
   "execution_count": 375,
   "id": "e071c311-fd5b-4541-985d-b17ffd32c0b1",
   "metadata": {},
   "outputs": [
    {
     "data": {
      "application/vnd.vegalite.v4+json": {
       "layer": [
        {
         "data": {
          "values": [
           {
            "x": "d",
            "y": 0.06518867919507731
           },
           {
            "x": "a",
            "y": 0.1280260525907615
           },
           {
            "x": "a",
            "y": 0.05554040791323156
           },
           {
            "x": "f",
            "y": 0.3394521888985491
           },
           {
            "x": "g",
            "y": 0.14856440033790097
           },
           {
            "x": "e",
            "y": 0.06554821536967714
           },
           {
            "x": "c",
            "y": 0.008249837506670188
           },
           {
            "x": "f",
            "y": 0.44803670649805727
           },
           {
            "x": "g",
            "y": 0.17732238214494234
           },
           {
            "x": "b",
            "y": 0.2690201078924781
           },
           {
            "x": "b",
            "y": 0.8559252296425388
           },
           {
            "x": "a",
            "y": 0.48219255674331274
           },
           {
            "x": "a",
            "y": 0.6494580203588329
           },
           {
            "x": "b",
            "y": 0.2784034809562246
           },
           {
            "x": "b",
            "y": 0.3522017177786121
           },
           {
            "x": "b",
            "y": 0.8693665798971497
           },
           {
            "x": "d",
            "y": 0.9579964196670252
           },
           {
            "x": "d",
            "y": 0.23030350308301295
           },
           {
            "x": "a",
            "y": 0.242337090160611
           },
           {
            "x": "a",
            "y": 0.3649423842540982
           }
          ]
         },
         "encoding": {
          "color": {
           "value": "green"
          },
          "x": {
           "field": "x",
           "type": "nominal"
          },
          "y": {
           "aggregate": "mean",
           "field": "y",
           "type": "quantitative"
          }
         },
         "mark": {
          "opacity": 0.5,
          "type": "bar"
         }
        },
        {
         "data": {
          "values": [
           {
            "x": "d",
            "y": 0.06518867919507731
           },
           {
            "x": "a",
            "y": 0.1280260525907615
           },
           {
            "x": "a",
            "y": 0.05554040791323156
           },
           {
            "x": "f",
            "y": 0.3394521888985491
           },
           {
            "x": "g",
            "y": 0.14856440033790097
           },
           {
            "x": "e",
            "y": 0.06554821536967714
           },
           {
            "x": "c",
            "y": 0.008249837506670188
           },
           {
            "x": "f",
            "y": 0.44803670649805727
           },
           {
            "x": "g",
            "y": 0.17732238214494234
           },
           {
            "x": "b",
            "y": 0.2690201078924781
           },
           {
            "x": "b",
            "y": 0.8559252296425388
           },
           {
            "x": "a",
            "y": 0.48219255674331274
           },
           {
            "x": "a",
            "y": 0.6494580203588329
           },
           {
            "x": "b",
            "y": 0.2784034809562246
           },
           {
            "x": "b",
            "y": 0.3522017177786121
           },
           {
            "x": "b",
            "y": 0.8693665798971497
           },
           {
            "x": "d",
            "y": 0.9579964196670252
           },
           {
            "x": "d",
            "y": 0.23030350308301295
           },
           {
            "x": "a",
            "y": 0.242337090160611
           },
           {
            "x": "a",
            "y": 0.3649423842540982
           }
          ]
         },
         "encoding": {
          "x": {
           "field": "x",
           "type": "nominal"
          },
          "y": {
           "aggregate": "max",
           "field": "y",
           "type": "quantitative"
          }
         },
         "mark": {
          "opacity": 0.5,
          "type": "bar"
         }
        },
        {
         "data": {
          "values": [
           {
            "x": "d",
            "y": 0.06518867919507731
           },
           {
            "x": "a",
            "y": 0.1280260525907615
           },
           {
            "x": "a",
            "y": 0.05554040791323156
           },
           {
            "x": "f",
            "y": 0.3394521888985491
           },
           {
            "x": "g",
            "y": 0.14856440033790097
           },
           {
            "x": "e",
            "y": 0.06554821536967714
           },
           {
            "x": "c",
            "y": 0.008249837506670188
           },
           {
            "x": "f",
            "y": 0.44803670649805727
           },
           {
            "x": "g",
            "y": 0.17732238214494234
           },
           {
            "x": "b",
            "y": 0.2690201078924781
           },
           {
            "x": "b",
            "y": 0.8559252296425388
           },
           {
            "x": "a",
            "y": 0.48219255674331274
           },
           {
            "x": "a",
            "y": 0.6494580203588329
           },
           {
            "x": "b",
            "y": 0.2784034809562246
           },
           {
            "x": "b",
            "y": 0.3522017177786121
           },
           {
            "x": "b",
            "y": 0.8693665798971497
           },
           {
            "x": "d",
            "y": 0.9579964196670252
           },
           {
            "x": "d",
            "y": 0.23030350308301295
           },
           {
            "x": "a",
            "y": 0.242337090160611
           },
           {
            "x": "a",
            "y": 0.3649423842540982
           }
          ]
         },
         "encoding": {
          "color": {
           "value": "red"
          },
          "x": {
           "field": "x",
           "type": "nominal"
          },
          "y": {
           "aggregate": "min",
           "field": "y",
           "type": "quantitative"
          }
         },
         "mark": {
          "opacity": 0.5,
          "type": "bar"
         }
        }
       ]
      },
      "image/png": "[encoded data removed]",
      "image/svg+xml": [
       "<?xml version=\"1.0\" encoding=\"utf-8\"?>\n",
       "<!DOCTYPE svg PUBLIC \"-//W3C//DTD SVG 1.1//EN\" \"http://www.w3.org/Graphics/SVG/1.1/DTD/svg11.dtd\">\n",
       "<svg class=\"marks\" width=\"187\" height=\"243\" viewBox=\"0 0 187 243\" version=\"1.1\" xmlns=\"http://www.w3.org/2000/svg\" xmlns:xlink=\"http://www.w3.org/1999/xlink\"><rect width=\"187\" height=\"243\" fill=\"white\"></rect><g fill=\"none\" stroke-miterlimit=\"10\" transform=\"translate(42,10)\"><g class=\"mark-group role-frame root\" role=\"graphics-object\" aria-roledescription=\"group mark container\"><g transform=\"translate(0,0)\"><path class=\"background\" aria-hidden=\"true\" d=\"M0.5,0.5h140v200h-140Z\" stroke=\"#ddd\"></path><g><g class=\"mark-group role-axis\" aria-hidden=\"true\"><g transform=\"translate(0.5,0.5)\"><path class=\"background\" aria-hidden=\"true\" d=\"M0,0h0v0h0Z\" pointer-events=\"none\"></path><g><g class=\"mark-rule role-axis-grid\" pointer-events=\"none\"><line transform=\"translate(0,200)\" x2=\"140\" y2=\"0\" stroke=\"#ddd\" stroke-width=\"1\" opacity=\"1\"></line><line transform=\"translate(0,160)\" x2=\"140\" y2=\"0\" stroke=\"#ddd\" stroke-width=\"1\" opacity=\"1\"></line><line transform=\"translate(0,120)\" x2=\"140\" y2=\"0\" stroke=\"#ddd\" stroke-width=\"1\" opacity=\"1\"></line><line transform=\"translate(0,80)\" x2=\"140\" y2=\"0\" stroke=\"#ddd\" stroke-width=\"1\" opacity=\"1\"></line><line transform=\"translate(0,40)\" x2=\"140\" y2=\"0\" stroke=\"#ddd\" stroke-width=\"1\" opacity=\"1\"></line><line transform=\"translate(0,0)\" x2=\"140\" y2=\"0\" stroke=\"#ddd\" stroke-width=\"1\" opacity=\"1\"></line></g></g><path class=\"foreground\" aria-hidden=\"true\" d=\"\" pointer-events=\"none\" display=\"none\"></path></g></g><g class=\"mark-group role-axis\" role=\"graphics-symbol\" aria-roledescription=\"axis\" aria-label=\"X-axis titled 'x' for a discrete scale with 7 values: a, b, c, d, e, f, g\"><g transform=\"translate(0.5,200.5)\"><path class=\"background\" aria-hidden=\"true\" d=\"M0,0h0v0h0Z\" pointer-events=\"none\"></path><g><g class=\"mark-rule role-axis-tick\" pointer-events=\"none\"><line transform=\"translate(10,0)\" x2=\"0\" y2=\"5\" stroke=\"#888\" stroke-width=\"1\" opacity=\"1\"></line><line transform=\"translate(30,0)\" x2=\"0\" y2=\"5\" stroke=\"#888\" stroke-width=\"1\" opacity=\"1\"></line><line transform=\"translate(50,0)\" x2=\"0\" y2=\"5\" stroke=\"#888\" stroke-width=\"1\" opacity=\"1\"></line><line transform=\"translate(70,0)\" x2=\"0\" y2=\"5\" stroke=\"#888\" stroke-width=\"1\" opacity=\"1\"></line><line transform=\"translate(90,0)\" x2=\"0\" y2=\"5\" stroke=\"#888\" stroke-width=\"1\" opacity=\"1\"></line><line transform=\"translate(110,0)\" x2=\"0\" y2=\"5\" stroke=\"#888\" stroke-width=\"1\" opacity=\"1\"></line><line transform=\"translate(130,0)\" x2=\"0\" y2=\"5\" stroke=\"#888\" stroke-width=\"1\" opacity=\"1\"></line></g><g class=\"mark-text role-axis-label\" pointer-events=\"none\"><text text-anchor=\"end\" transform=\"translate(9.5,7) rotate(270) translate(0,3)\" font-family=\"sans-serif\" font-size=\"10px\" fill=\"#000\" opacity=\"1\">a</text><text text-anchor=\"end\" transform=\"translate(29.5,7) rotate(270) translate(0,3)\" font-family=\"sans-serif\" font-size=\"10px\" fill=\"#000\" opacity=\"1\">b</text><text text-anchor=\"end\" transform=\"translate(49.5,7) rotate(270) translate(0,3)\" font-family=\"sans-serif\" font-size=\"10px\" fill=\"#000\" opacity=\"1\">c</text><text text-anchor=\"end\" transform=\"translate(69.5,7) rotate(270) translate(0,3)\" font-family=\"sans-serif\" font-size=\"10px\" fill=\"#000\" opacity=\"1\">d</text><text text-anchor=\"end\" transform=\"translate(89.5,7) rotate(270) translate(0,3)\" font-family=\"sans-serif\" font-size=\"10px\" fill=\"#000\" opacity=\"1\">e</text><text text-anchor=\"end\" transform=\"translate(109.5,7) rotate(270) translate(0,3)\" font-family=\"sans-serif\" font-size=\"10px\" fill=\"#000\" opacity=\"1\">f</text><text text-anchor=\"end\" transform=\"translate(129.5,7) rotate(270) translate(0,3)\" font-family=\"sans-serif\" font-size=\"10px\" fill=\"#000\" opacity=\"1\">g</text></g><g class=\"mark-rule role-axis-domain\" pointer-events=\"none\"><line transform=\"translate(0,0)\" x2=\"140\" y2=\"0\" stroke=\"#888\" stroke-width=\"1\" opacity=\"1\"></line></g><g class=\"mark-text role-axis-title\" pointer-events=\"none\"><text text-anchor=\"middle\" transform=\"translate(70,26)\" font-family=\"sans-serif\" font-size=\"11px\" font-weight=\"bold\" fill=\"#000\" opacity=\"1\">x</text></g></g><path class=\"foreground\" aria-hidden=\"true\" d=\"\" pointer-events=\"none\" display=\"none\"></path></g></g><g class=\"mark-group role-axis\" role=\"graphics-symbol\" aria-roledescription=\"axis\" aria-label=\"Y-axis titled 'Mean of y, Max of y, Min of y' for a linear scale with values from 0.0 to 1.0\"><g transform=\"translate(0.5,0.5)\"><path class=\"background\" aria-hidden=\"true\" d=\"M0,0h0v0h0Z\" pointer-events=\"none\"></path><g><g class=\"mark-rule role-axis-tick\" pointer-events=\"none\"><line transform=\"translate(0,200)\" x2=\"-5\" y2=\"0\" stroke=\"#888\" stroke-width=\"1\" opacity=\"1\"></line><line transform=\"translate(0,160)\" x2=\"-5\" y2=\"0\" stroke=\"#888\" stroke-width=\"1\" opacity=\"1\"></line><line transform=\"translate(0,120)\" x2=\"-5\" y2=\"0\" stroke=\"#888\" stroke-width=\"1\" opacity=\"1\"></line><line transform=\"translate(0,80)\" x2=\"-5\" y2=\"0\" stroke=\"#888\" stroke-width=\"1\" opacity=\"1\"></line><line transform=\"translate(0,40)\" x2=\"-5\" y2=\"0\" stroke=\"#888\" stroke-width=\"1\" opacity=\"1\"></line><line transform=\"translate(0,0)\" x2=\"-5\" y2=\"0\" stroke=\"#888\" stroke-width=\"1\" opacity=\"1\"></line></g><g class=\"mark-text role-axis-label\" pointer-events=\"none\"><text text-anchor=\"end\" transform=\"translate(-7,203)\" font-family=\"sans-serif\" font-size=\"10px\" fill=\"#000\" opacity=\"1\">0.0</text><text text-anchor=\"end\" transform=\"translate(-7,163)\" font-family=\"sans-serif\" font-size=\"10px\" fill=\"#000\" opacity=\"1\">0.2</text><text text-anchor=\"end\" transform=\"translate(-7,123)\" font-family=\"sans-serif\" font-size=\"10px\" fill=\"#000\" opacity=\"1\">0.4</text><text text-anchor=\"end\" transform=\"translate(-7,83)\" font-family=\"sans-serif\" font-size=\"10px\" fill=\"#000\" opacity=\"1\">0.6</text><text text-anchor=\"end\" transform=\"translate(-7,42.99999999999999)\" font-family=\"sans-serif\" font-size=\"10px\" fill=\"#000\" opacity=\"1\">0.8</text><text text-anchor=\"end\" transform=\"translate(-7,3)\" font-family=\"sans-serif\" font-size=\"10px\" fill=\"#000\" opacity=\"1\">1.0</text></g><g class=\"mark-rule role-axis-domain\" pointer-events=\"none\"><line transform=\"translate(0,200)\" x2=\"0\" y2=\"-200\" stroke=\"#888\" stroke-width=\"1\" opacity=\"1\"></line></g><g class=\"mark-text role-axis-title\" pointer-events=\"none\"><text text-anchor=\"middle\" transform=\"translate(-26,100) rotate(-90) translate(0,-2)\" font-family=\"sans-serif\" font-size=\"11px\" font-weight=\"bold\" fill=\"#000\" opacity=\"1\">Mean of y, Max of y, Min of y</text></g></g><path class=\"foreground\" aria-hidden=\"true\" d=\"\" pointer-events=\"none\" display=\"none\"></path></g></g><g class=\"mark-rect role-mark layer_0_marks\" role=\"graphics-object\" aria-roledescription=\"rect mark container\"><path aria-label=\"x: d; Mean of y: 0.417829533982\" role=\"graphics-symbol\" aria-roledescription=\"bar\" d=\"M61,116.43409320365899h18v83.56590679634101h-18Z\" fill=\"green\" opacity=\"0.5\"></path><path aria-label=\"x: a; Mean of y: 0.320416085337\" role=\"graphics-symbol\" aria-roledescription=\"bar\" d=\"M1,135.9167829326384h18v64.0832170673616h-18Z\" fill=\"green\" opacity=\"0.5\"></path><path aria-label=\"x: f; Mean of y: 0.393744447698\" role=\"graphics-symbol\" aria-roledescription=\"bar\" d=\"M101,121.25111046033936h18v78.74888953966064h-18Z\" fill=\"green\" opacity=\"0.5\"></path><path aria-label=\"x: g; Mean of y: 0.162943391241\" role=\"graphics-symbol\" aria-roledescription=\"bar\" d=\"M121,167.41132175171566h18v32.58867824828434h-18Z\" fill=\"green\" opacity=\"0.5\"></path><path aria-label=\"x: e; Mean of y: 0.0655482153697\" role=\"graphics-symbol\" aria-roledescription=\"bar\" d=\"M81,186.89035692606458h18v13.109643073935416h-18Z\" fill=\"green\" opacity=\"0.5\"></path><path aria-label=\"x: c; Mean of y: 0.00824983750667\" role=\"graphics-symbol\" aria-roledescription=\"bar\" d=\"M41,198.35003249866597h18v1.6499675013340322h-18Z\" fill=\"green\" opacity=\"0.5\"></path><path aria-label=\"x: b; Mean of y: 0.524983423233\" role=\"graphics-symbol\" aria-roledescription=\"bar\" d=\"M21,95.00331535331988h18v104.99668464668012h-18Z\" fill=\"green\" opacity=\"0.5\"></path></g><g class=\"mark-rect role-mark layer_1_marks\" role=\"graphics-object\" aria-roledescription=\"rect mark container\"><path aria-label=\"x: d; Max of y: 0.957996419667\" role=\"graphics-symbol\" aria-roledescription=\"bar\" d=\"M61,8.40071606659496h18v191.59928393340505h-18Z\" fill=\"#4c78a8\" opacity=\"0.5\"></path><path aria-label=\"x: a; Max of y: 0.649458020359\" role=\"graphics-symbol\" aria-roledescription=\"bar\" d=\"M1,70.10839592823342h18v129.89160407176658h-18Z\" fill=\"#4c78a8\" opacity=\"0.5\"></path><path aria-label=\"x: f; Max of y: 0.448036706498\" role=\"graphics-symbol\" aria-roledescription=\"bar\" d=\"M101,110.39265870038855h18v89.60734129961145h-18Z\" fill=\"#4c78a8\" opacity=\"0.5\"></path><path aria-label=\"x: g; Max of y: 0.177322382145\" role=\"graphics-symbol\" aria-roledescription=\"bar\" d=\"M121,164.53552357101154h18v35.46447642898846h-18Z\" fill=\"#4c78a8\" opacity=\"0.5\"></path><path aria-label=\"x: e; Max of y: 0.0655482153697\" role=\"graphics-symbol\" aria-roledescription=\"bar\" d=\"M81,186.89035692606458h18v13.109643073935416h-18Z\" fill=\"#4c78a8\" opacity=\"0.5\"></path><path aria-label=\"x: c; Max of y: 0.00824983750667\" role=\"graphics-symbol\" aria-roledescription=\"bar\" d=\"M41,198.35003249866597h18v1.6499675013340322h-18Z\" fill=\"#4c78a8\" opacity=\"0.5\"></path><path aria-label=\"x: b; Max of y: 0.869366579897\" role=\"graphics-symbol\" aria-roledescription=\"bar\" d=\"M21,26.126684020570057h18v173.87331597942995h-18Z\" fill=\"#4c78a8\" opacity=\"0.5\"></path></g><g class=\"mark-rect role-mark layer_2_marks\" role=\"graphics-object\" aria-roledescription=\"rect mark container\"><path aria-label=\"x: d; Min of y: 0.0651886791951\" role=\"graphics-symbol\" aria-roledescription=\"bar\" d=\"M61,186.96226416098455h18v13.037735839015454h-18Z\" fill=\"red\" opacity=\"0.5\"></path><path aria-label=\"x: a; Min of y: 0.0555404079132\" role=\"graphics-symbol\" aria-roledescription=\"bar\" d=\"M1,188.89191841735368h18v11.10808158264632h-18Z\" fill=\"red\" opacity=\"0.5\"></path><path aria-label=\"x: f; Min of y: 0.339452188899\" role=\"graphics-symbol\" aria-roledescription=\"bar\" d=\"M101,132.10956222029017h18v67.89043777970983h-18Z\" fill=\"red\" opacity=\"0.5\"></path><path aria-label=\"x: g; Min of y: 0.148564400338\" role=\"graphics-symbol\" aria-roledescription=\"bar\" d=\"M121,170.2871199324198h18v29.712880067580187h-18Z\" fill=\"red\" opacity=\"0.5\"></path><path aria-label=\"x: e; Min of y: 0.0655482153697\" role=\"graphics-symbol\" aria-roledescription=\"bar\" d=\"M81,186.89035692606458h18v13.109643073935416h-18Z\" fill=\"red\" opacity=\"0.5\"></path><path aria-label=\"x: c; Min of y: 0.00824983750667\" role=\"graphics-symbol\" aria-roledescription=\"bar\" d=\"M41,198.35003249866597h18v1.6499675013340322h-18Z\" fill=\"red\" opacity=\"0.5\"></path><path aria-label=\"x: b; Min of y: 0.269020107892\" role=\"graphics-symbol\" aria-roledescription=\"bar\" d=\"M21,146.19597842150438h18v53.80402157849562h-18Z\" fill=\"red\" opacity=\"0.5\"></path></g></g><path class=\"foreground\" aria-hidden=\"true\" d=\"\" display=\"none\"></path></g></g></g></svg>\n"
      ],
      "text/plain": [
       "@vlplot(\n",
       "    layer=[\n",
       "        {\n",
       "            data={\n",
       "                values=...\n",
       "            },\n",
       "            mark={\n",
       "                type=\"bar\",\n",
       "                opacity=0.5\n",
       "            },\n",
       "            encoding={\n",
       "                x={\n",
       "                    type=\"nominal\",\n",
       "                    field=\"x\"\n",
       "                },\n",
       "                y={\n",
       "                    type=\"quantitative\",\n",
       "                    field=\"y\",\n",
       "                    aggregate=\"mean\"\n",
       "                },\n",
       "                color={\n",
       "                    value=\"green\"\n",
       "                }\n",
       "            }\n",
       "        },\n",
       "        {\n",
       "            data={\n",
       "                values=...\n",
       "            },\n",
       "            mark={\n",
       "                type=\"bar\",\n",
       "                opacity=0.5\n",
       "            },\n",
       "            encoding={\n",
       "                x={\n",
       "                    type=\"nominal\",\n",
       "                    field=\"x\"\n",
       "                },\n",
       "                y={\n",
       "                    type=\"quantitative\",\n",
       "                    field=\"y\",\n",
       "                    aggregate=\"max\"\n",
       "                }\n",
       "            }\n",
       "        },\n",
       "        {\n",
       "            data={\n",
       "                values=...\n",
       "            },\n",
       "            mark={\n",
       "                type=\"bar\",\n",
       "                opacity=0.5\n",
       "            },\n",
       "            encoding={\n",
       "                x={\n",
       "                    type=\"nominal\",\n",
       "                    field=\"x\"\n",
       "                },\n",
       "                y={\n",
       "                    type=\"quantitative\",\n",
       "                    field=\"y\",\n",
       "                    aggregate=\"min\"\n",
       "                },\n",
       "                color={\n",
       "                    value=\"red\"\n",
       "                }\n",
       "            }\n",
       "        }\n",
       "    ]\n",
       ")"
      ]
     },
     "execution_count": 375,
     "metadata": {},
     "output_type": "execute_result"
    }
   ],
   "source": [
    "x = rand(collect('a':'g'),20)\n",
    "y = rand(20)\n",
    "@vlplot() + barplot(x,y,y_agg=\"mean\",color=\"green\",opacity=0.5) + barplot(x,y,y_agg=\"max\",opacity=0.5) + barplot(x,y,y_agg=\"min\",color=\"red\",opacity=0.5)\n",
    "# b = barplot(x,y,y_agg=\"count\",opacity=0.1)"
   ]
  },
  {
   "cell_type": "code",
   "execution_count": 356,
   "id": "18018395-54b6-4f9b-8465-d0fab1e65945",
   "metadata": {},
   "outputs": [
    {
     "data": {
      "text/plain": [
       "OrderedCollections.OrderedDict{String, Any} with 3 entries:\n",
       "  \"data\"     => OrderedCollections.OrderedDict{String, Any}(\"values\"=>DataValue…\n",
       "  \"mark\"     => :bar\n",
       "  \"encoding\" => OrderedCollections.OrderedDict{String, Any}(\"x\"=>OrderedCollect…"
      ]
     },
     "execution_count": 356,
     "metadata": {},
     "output_type": "execute_result"
    }
   ],
   "source": [
    "b.params"
   ]
  },
  {
   "cell_type": "code",
   "execution_count": null,
   "id": "2145759b-1785-4326-bd85-4da6d672ae69",
   "metadata": {},
   "outputs": [],
   "source": []
  }
 ],
 "metadata": {
  "kernelspec": {
   "display_name": "Julia 1.6.1",
   "language": "julia",
   "name": "julia-1.6"
  },
  "language_info": {
   "file_extension": ".jl",
   "mimetype": "application/julia",
   "name": "julia",
   "version": "1.6.1"
  }
 },
 "nbformat": 4,
 "nbformat_minor": 5
}
