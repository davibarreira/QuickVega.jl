{
 "cells": [
  {
   "cell_type": "code",
   "execution_count": 1,
   "id": "58d315f9-d775-49fe-a2da-4b8af0b3b74c",
   "metadata": {},
   "outputs": [
    {
     "name": "stderr",
     "output_type": "stream",
     "text": [
      "┌ Info: Precompiling QuickVega [8cbdc466-600a-49fa-b107-91fd9d936351]\n",
      "└ @ Base loading.jl:1317\n",
      "\u001b[33m\u001b[1m┌ \u001b[22m\u001b[39m\u001b[33m\u001b[1mWarning: \u001b[22m\u001b[39mPackage QuickVega does not have DataFrames in its dependencies:\n",
      "\u001b[33m\u001b[1m│ \u001b[22m\u001b[39m- If you have QuickVega checked out for development and have\n",
      "\u001b[33m\u001b[1m│ \u001b[22m\u001b[39m  added DataFrames as a dependency but haven't updated your primary\n",
      "\u001b[33m\u001b[1m│ \u001b[22m\u001b[39m  environment's manifest file, try `Pkg.resolve()`.\n",
      "\u001b[33m\u001b[1m│ \u001b[22m\u001b[39m- Otherwise you may need to report an issue with QuickVega\n",
      "\u001b[33m\u001b[1m└ \u001b[22m\u001b[39mLoading DataFrames into QuickVega from project dependency, future warnings for QuickVega are suppressed.\n"
     ]
    }
   ],
   "source": [
    "using Revise, Pkg\n",
    "Pkg.activate(\"../.\")\n",
    "using QuickVega, DataFrames, VegaLite, VegaDatasets\n",
    "using Distributions, KernelDensity\n",
    "using Contour\n",
    "using Setfield"
   ]
  },
  {
   "cell_type": "code",
   "execution_count": null,
   "id": "169ae61f-1376-43f5-a797-a9fad2a780f7",
   "metadata": {},
   "outputs": [],
   "source": []
  }
 ],
 "metadata": {
  "kernelspec": {
   "display_name": "Julia 1.6.1",
   "language": "julia",
   "name": "julia-1.6"
  },
  "language_info": {
   "file_extension": ".jl",
   "mimetype": "application/julia",
   "name": "julia",
   "version": "1.6.1"
  }
 },
 "nbformat": 4,
 "nbformat_minor": 5
}
