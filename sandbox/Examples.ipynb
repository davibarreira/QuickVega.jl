{
 "cells": [
  {
   "cell_type": "code",
   "execution_count": 442,
   "id": "58d315f9-d775-49fe-a2da-4b8af0b3b74c",
   "metadata": {},
   "outputs": [],
   "source": [
    "using Revise, Pkg\n",
    "Pkg.activate(\"../.\")\n",
    "using QuickVega, DataFrames, VegaLite, VegaDatasets, DataStructures\n",
    "using Distributions, KernelDensity\n",
    "using Contour\n",
    "using Setfield"
   ]
  },
  {
   "cell_type": "code",
   "execution_count": 443,
   "id": "91b26be6-03bc-4264-b771-6b2adc76b58d",
   "metadata": {},
   "outputs": [],
   "source": [
    "df = DataFrame(dataset(\"iris\"));"
   ]
  },
  {
   "cell_type": "markdown",
   "id": "aa3a294f-71a1-4aff-a29a-ac8d64a1bcdc",
   "metadata": {},
   "source": [
    "## Scatterplot "
   ]
  },
  {
   "cell_type": "code",
   "execution_count": 444,
   "id": "169ae61f-1376-43f5-a797-a9fad2a780f7",
   "metadata": {},
   "outputs": [
    {
     "data": {
      "application/vnd.vegalite.v4+json": {
       "data": {
        "values": [
         {
          "x": 1,
          "y": 1,
          "zcolor": 1
         },
         {
          "x": 2,
          "y": 4,
          "zcolor": 1
         },
         {
          "x": 3,
          "y": 9,
          "zcolor": 2
         },
         {
          "x": 4,
          "y": 16,
          "zcolor": 2
         },
         {
          "x": 5,
          "y": 25,
          "zcolor": 1
         },
         {
          "x": 6,
          "y": 36,
          "zcolor": 1
         },
         {
          "x": 7,
          "y": 49,
          "zcolor": 1
         },
         {
          "x": 8,
          "y": 64,
          "zcolor": 2
         },
         {
          "x": 9,
          "y": 81,
          "zcolor": 1
         },
         {
          "x": 10,
          "y": 100,
          "zcolor": 2
         }
        ]
       },
       "encoding": {
        "color": {
         "field": "zcolor",
         "type": "ordinal"
        },
        "x": {
         "field": "x",
         "type": "ordinal"
        },
        "y": {
         "field": "y",
         "type": "quantitative"
        }
       },
       "mark": {
        "type": "circle"
       }
      },
      "image/png": "[encoded data removed]",
      "image/svg+xml": [
       "<?xml version=\"1.0\" encoding=\"utf-8\"?>\n",
       "<!DOCTYPE svg PUBLIC \"-//W3C//DTD SVG 1.1//EN\" \"http://www.w3.org/Graphics/SVG/1.1/DTD/svg11.dtd\">\n",
       "<svg class=\"marks\" width=\"306\" height=\"249\" viewBox=\"0 0 306 249\" version=\"1.1\" xmlns=\"http://www.w3.org/2000/svg\" xmlns:xlink=\"http://www.w3.org/1999/xlink\"><rect width=\"306\" height=\"249\" fill=\"white\"></rect><g fill=\"none\" stroke-miterlimit=\"10\" transform=\"translate(45,10)\"><g class=\"mark-group role-frame root\" role=\"graphics-object\" aria-roledescription=\"group mark container\"><g transform=\"translate(0,0)\"><path class=\"background\" aria-hidden=\"true\" d=\"M0.5,0.5h200v200h-200Z\" stroke=\"#ddd\"></path><g><g class=\"mark-group role-axis\" aria-hidden=\"true\"><g transform=\"translate(0.5,0.5)\"><path class=\"background\" aria-hidden=\"true\" d=\"M0,0h0v0h0Z\" pointer-events=\"none\"></path><g><g class=\"mark-rule role-axis-grid\" pointer-events=\"none\"><line transform=\"translate(0,200)\" x2=\"200\" y2=\"0\" stroke=\"#ddd\" stroke-width=\"1\" opacity=\"1\"></line><line transform=\"translate(0,160)\" x2=\"200\" y2=\"0\" stroke=\"#ddd\" stroke-width=\"1\" opacity=\"1\"></line><line transform=\"translate(0,120)\" x2=\"200\" y2=\"0\" stroke=\"#ddd\" stroke-width=\"1\" opacity=\"1\"></line><line transform=\"translate(0,80)\" x2=\"200\" y2=\"0\" stroke=\"#ddd\" stroke-width=\"1\" opacity=\"1\"></line><line transform=\"translate(0,40)\" x2=\"200\" y2=\"0\" stroke=\"#ddd\" stroke-width=\"1\" opacity=\"1\"></line><line transform=\"translate(0,0)\" x2=\"200\" y2=\"0\" stroke=\"#ddd\" stroke-width=\"1\" opacity=\"1\"></line></g></g><path class=\"foreground\" aria-hidden=\"true\" d=\"\" pointer-events=\"none\" display=\"none\"></path></g></g><g class=\"mark-group role-axis\" role=\"graphics-symbol\" aria-roledescription=\"axis\" aria-label=\"X-axis titled 'x' for a discrete scale with 10 values: 1, 2, 3, 4, 5, ending with 10\"><g transform=\"translate(0.5,200.5)\"><path class=\"background\" aria-hidden=\"true\" d=\"M0,0h0v0h0Z\" pointer-events=\"none\"></path><g><g class=\"mark-rule role-axis-tick\" pointer-events=\"none\"><line transform=\"translate(10,0)\" x2=\"0\" y2=\"5\" stroke=\"#888\" stroke-width=\"1\" opacity=\"1\"></line><line transform=\"translate(30,0)\" x2=\"0\" y2=\"5\" stroke=\"#888\" stroke-width=\"1\" opacity=\"1\"></line><line transform=\"translate(50,0)\" x2=\"0\" y2=\"5\" stroke=\"#888\" stroke-width=\"1\" opacity=\"1\"></line><line transform=\"translate(70,0)\" x2=\"0\" y2=\"5\" stroke=\"#888\" stroke-width=\"1\" opacity=\"1\"></line><line transform=\"translate(90,0)\" x2=\"0\" y2=\"5\" stroke=\"#888\" stroke-width=\"1\" opacity=\"1\"></line><line transform=\"translate(110,0)\" x2=\"0\" y2=\"5\" stroke=\"#888\" stroke-width=\"1\" opacity=\"1\"></line><line transform=\"translate(130,0)\" x2=\"0\" y2=\"5\" stroke=\"#888\" stroke-width=\"1\" opacity=\"1\"></line><line transform=\"translate(150,0)\" x2=\"0\" y2=\"5\" stroke=\"#888\" stroke-width=\"1\" opacity=\"1\"></line><line transform=\"translate(170,0)\" x2=\"0\" y2=\"5\" stroke=\"#888\" stroke-width=\"1\" opacity=\"1\"></line><line transform=\"translate(190,0)\" x2=\"0\" y2=\"5\" stroke=\"#888\" stroke-width=\"1\" opacity=\"1\"></line></g><g class=\"mark-text role-axis-label\" pointer-events=\"none\"><text text-anchor=\"end\" transform=\"translate(10,7) rotate(270) translate(0,3)\" font-family=\"sans-serif\" font-size=\"10px\" fill=\"#000\" opacity=\"1\">1</text><text text-anchor=\"end\" transform=\"translate(30,7) rotate(270) translate(0,3)\" font-family=\"sans-serif\" font-size=\"10px\" fill=\"#000\" opacity=\"1\">2</text><text text-anchor=\"end\" transform=\"translate(50,7) rotate(270) translate(0,3)\" font-family=\"sans-serif\" font-size=\"10px\" fill=\"#000\" opacity=\"1\">3</text><text text-anchor=\"end\" transform=\"translate(70,7) rotate(270) translate(0,3)\" font-family=\"sans-serif\" font-size=\"10px\" fill=\"#000\" opacity=\"1\">4</text><text text-anchor=\"end\" transform=\"translate(90,7) rotate(270) translate(0,3)\" font-family=\"sans-serif\" font-size=\"10px\" fill=\"#000\" opacity=\"1\">5</text><text text-anchor=\"end\" transform=\"translate(110,7) rotate(270) translate(0,3)\" font-family=\"sans-serif\" font-size=\"10px\" fill=\"#000\" opacity=\"1\">6</text><text text-anchor=\"end\" transform=\"translate(130,7) rotate(270) translate(0,3)\" font-family=\"sans-serif\" font-size=\"10px\" fill=\"#000\" opacity=\"1\">7</text><text text-anchor=\"end\" transform=\"translate(150,7) rotate(270) translate(0,3)\" font-family=\"sans-serif\" font-size=\"10px\" fill=\"#000\" opacity=\"1\">8</text><text text-anchor=\"end\" transform=\"translate(170,7) rotate(270) translate(0,3)\" font-family=\"sans-serif\" font-size=\"10px\" fill=\"#000\" opacity=\"1\">9</text><text text-anchor=\"end\" transform=\"translate(190,7) rotate(270) translate(0,3)\" font-family=\"sans-serif\" font-size=\"10px\" fill=\"#000\" opacity=\"1\">10</text></g><g class=\"mark-rule role-axis-domain\" pointer-events=\"none\"><line transform=\"translate(0,0)\" x2=\"200\" y2=\"0\" stroke=\"#888\" stroke-width=\"1\" opacity=\"1\"></line></g><g class=\"mark-text role-axis-title\" pointer-events=\"none\"><text text-anchor=\"middle\" transform=\"translate(100,32)\" font-family=\"sans-serif\" font-size=\"11px\" font-weight=\"bold\" fill=\"#000\" opacity=\"1\">x</text></g></g><path class=\"foreground\" aria-hidden=\"true\" d=\"\" pointer-events=\"none\" display=\"none\"></path></g></g><g class=\"mark-group role-axis\" role=\"graphics-symbol\" aria-roledescription=\"axis\" aria-label=\"Y-axis titled 'y' for a linear scale with values from 0 to 100\"><g transform=\"translate(0.5,0.5)\"><path class=\"background\" aria-hidden=\"true\" d=\"M0,0h0v0h0Z\" pointer-events=\"none\"></path><g><g class=\"mark-rule role-axis-tick\" pointer-events=\"none\"><line transform=\"translate(0,200)\" x2=\"-5\" y2=\"0\" stroke=\"#888\" stroke-width=\"1\" opacity=\"1\"></line><line transform=\"translate(0,160)\" x2=\"-5\" y2=\"0\" stroke=\"#888\" stroke-width=\"1\" opacity=\"1\"></line><line transform=\"translate(0,120)\" x2=\"-5\" y2=\"0\" stroke=\"#888\" stroke-width=\"1\" opacity=\"1\"></line><line transform=\"translate(0,80)\" x2=\"-5\" y2=\"0\" stroke=\"#888\" stroke-width=\"1\" opacity=\"1\"></line><line transform=\"translate(0,40)\" x2=\"-5\" y2=\"0\" stroke=\"#888\" stroke-width=\"1\" opacity=\"1\"></line><line transform=\"translate(0,0)\" x2=\"-5\" y2=\"0\" stroke=\"#888\" stroke-width=\"1\" opacity=\"1\"></line></g><g class=\"mark-text role-axis-label\" pointer-events=\"none\"><text text-anchor=\"end\" transform=\"translate(-7,203)\" font-family=\"sans-serif\" font-size=\"10px\" fill=\"#000\" opacity=\"1\">0</text><text text-anchor=\"end\" transform=\"translate(-7,163)\" font-family=\"sans-serif\" font-size=\"10px\" fill=\"#000\" opacity=\"1\">20</text><text text-anchor=\"end\" transform=\"translate(-7,123)\" font-family=\"sans-serif\" font-size=\"10px\" fill=\"#000\" opacity=\"1\">40</text><text text-anchor=\"end\" transform=\"translate(-7,83)\" font-family=\"sans-serif\" font-size=\"10px\" fill=\"#000\" opacity=\"1\">60</text><text text-anchor=\"end\" transform=\"translate(-7,42.99999999999999)\" font-family=\"sans-serif\" font-size=\"10px\" fill=\"#000\" opacity=\"1\">80</text><text text-anchor=\"end\" transform=\"translate(-7,3)\" font-family=\"sans-serif\" font-size=\"10px\" fill=\"#000\" opacity=\"1\">100</text></g><g class=\"mark-rule role-axis-domain\" pointer-events=\"none\"><line transform=\"translate(0,200)\" x2=\"0\" y2=\"-200\" stroke=\"#888\" stroke-width=\"1\" opacity=\"1\"></line></g><g class=\"mark-text role-axis-title\" pointer-events=\"none\"><text text-anchor=\"middle\" transform=\"translate(-29,100) rotate(-90) translate(0,-2)\" font-family=\"sans-serif\" font-size=\"11px\" font-weight=\"bold\" fill=\"#000\" opacity=\"1\">y</text></g></g><path class=\"foreground\" aria-hidden=\"true\" d=\"\" pointer-events=\"none\" display=\"none\"></path></g></g><g class=\"mark-symbol role-mark marks\" role=\"graphics-object\" aria-roledescription=\"symbol mark container\"><path aria-label=\"x: 1; y: 1; zcolor: 1\" role=\"graphics-symbol\" aria-roledescription=\"circle\" transform=\"translate(10,198)\" d=\"M2.7386127875258306,0A2.7386127875258306,2.7386127875258306,0,1,1,-2.7386127875258306,0A2.7386127875258306,2.7386127875258306,0,1,1,2.7386127875258306,0\" fill=\"rgb(134, 188, 220)\" stroke-width=\"2\" opacity=\"0.7\"></path><path aria-label=\"x: 2; y: 4; zcolor: 1\" role=\"graphics-symbol\" aria-roledescription=\"circle\" transform=\"translate(30,192)\" d=\"M2.7386127875258306,0A2.7386127875258306,2.7386127875258306,0,1,1,-2.7386127875258306,0A2.7386127875258306,2.7386127875258306,0,1,1,2.7386127875258306,0\" fill=\"rgb(134, 188, 220)\" stroke-width=\"2\" opacity=\"0.7\"></path><path aria-label=\"x: 3; y: 9; zcolor: 2\" role=\"graphics-symbol\" aria-roledescription=\"circle\" transform=\"translate(50,182)\" d=\"M2.7386127875258306,0A2.7386127875258306,2.7386127875258306,0,1,1,-2.7386127875258306,0A2.7386127875258306,2.7386127875258306,0,1,1,2.7386127875258306,0\" fill=\"rgb(56, 135, 192)\" stroke-width=\"2\" opacity=\"0.7\"></path><path aria-label=\"x: 4; y: 16; zcolor: 2\" role=\"graphics-symbol\" aria-roledescription=\"circle\" transform=\"translate(70,168)\" d=\"M2.7386127875258306,0A2.7386127875258306,2.7386127875258306,0,1,1,-2.7386127875258306,0A2.7386127875258306,2.7386127875258306,0,1,1,2.7386127875258306,0\" fill=\"rgb(56, 135, 192)\" stroke-width=\"2\" opacity=\"0.7\"></path><path aria-label=\"x: 5; y: 25; zcolor: 1\" role=\"graphics-symbol\" aria-roledescription=\"circle\" transform=\"translate(90,150)\" d=\"M2.7386127875258306,0A2.7386127875258306,2.7386127875258306,0,1,1,-2.7386127875258306,0A2.7386127875258306,2.7386127875258306,0,1,1,2.7386127875258306,0\" fill=\"rgb(134, 188, 220)\" stroke-width=\"2\" opacity=\"0.7\"></path><path aria-label=\"x: 6; y: 36; zcolor: 1\" role=\"graphics-symbol\" aria-roledescription=\"circle\" transform=\"translate(110,128)\" d=\"M2.7386127875258306,0A2.7386127875258306,2.7386127875258306,0,1,1,-2.7386127875258306,0A2.7386127875258306,2.7386127875258306,0,1,1,2.7386127875258306,0\" fill=\"rgb(134, 188, 220)\" stroke-width=\"2\" opacity=\"0.7\"></path><path aria-label=\"x: 7; y: 49; zcolor: 1\" role=\"graphics-symbol\" aria-roledescription=\"circle\" transform=\"translate(130,102)\" d=\"M2.7386127875258306,0A2.7386127875258306,2.7386127875258306,0,1,1,-2.7386127875258306,0A2.7386127875258306,2.7386127875258306,0,1,1,2.7386127875258306,0\" fill=\"rgb(134, 188, 220)\" stroke-width=\"2\" opacity=\"0.7\"></path><path aria-label=\"x: 8; y: 64; zcolor: 2\" role=\"graphics-symbol\" aria-roledescription=\"circle\" transform=\"translate(150,72)\" d=\"M2.7386127875258306,0A2.7386127875258306,2.7386127875258306,0,1,1,-2.7386127875258306,0A2.7386127875258306,2.7386127875258306,0,1,1,2.7386127875258306,0\" fill=\"rgb(56, 135, 192)\" stroke-width=\"2\" opacity=\"0.7\"></path><path aria-label=\"x: 9; y: 81; zcolor: 1\" role=\"graphics-symbol\" aria-roledescription=\"circle\" transform=\"translate(170,37.999999999999986)\" d=\"M2.7386127875258306,0A2.7386127875258306,2.7386127875258306,0,1,1,-2.7386127875258306,0A2.7386127875258306,2.7386127875258306,0,1,1,2.7386127875258306,0\" fill=\"rgb(134, 188, 220)\" stroke-width=\"2\" opacity=\"0.7\"></path><path aria-label=\"x: 10; y: 100; zcolor: 2\" role=\"graphics-symbol\" aria-roledescription=\"circle\" transform=\"translate(190,0)\" d=\"M2.7386127875258306,0A2.7386127875258306,2.7386127875258306,0,1,1,-2.7386127875258306,0A2.7386127875258306,2.7386127875258306,0,1,1,2.7386127875258306,0\" fill=\"rgb(56, 135, 192)\" stroke-width=\"2\" opacity=\"0.7\"></path></g><g class=\"mark-group role-legend\" role=\"graphics-symbol\" aria-roledescription=\"legend\" aria-label=\"Symbol legend titled 'zcolor' for fill color with 2 values: 1, 2\"><g transform=\"translate(218,0)\"><path class=\"background\" aria-hidden=\"true\" d=\"M0,0h38v40h-38Z\" pointer-events=\"none\"></path><g><g class=\"mark-group role-legend-entry\"><g transform=\"translate(0,16)\"><path class=\"background\" aria-hidden=\"true\" d=\"M0,0h0v0h0Z\" pointer-events=\"none\"></path><g><g class=\"mark-group role-scope\" role=\"graphics-object\" aria-roledescription=\"group mark container\"><g transform=\"translate(0,0)\"><path class=\"background\" aria-hidden=\"true\" d=\"M0,0h22v11h-22Z\" pointer-events=\"none\" opacity=\"1\"></path><g><g class=\"mark-symbol role-legend-symbol\" pointer-events=\"none\"><path transform=\"translate(6,6)\" d=\"M5,0A5,5,0,1,1,-5,0A5,5,0,1,1,5,0\" fill=\"rgb(134, 188, 220)\" stroke-width=\"1.5\" opacity=\"0.7\"></path></g><g class=\"mark-text role-legend-label\" pointer-events=\"none\"><text text-anchor=\"start\" transform=\"translate(16,9)\" font-family=\"sans-serif\" font-size=\"10px\" fill=\"#000\" opacity=\"1\">1</text></g></g><path class=\"foreground\" aria-hidden=\"true\" d=\"\" pointer-events=\"none\" display=\"none\"></path></g><g transform=\"translate(0,13)\"><path class=\"background\" aria-hidden=\"true\" d=\"M0,0h22v11h-22Z\" pointer-events=\"none\" opacity=\"1\"></path><g><g class=\"mark-symbol role-legend-symbol\" pointer-events=\"none\"><path transform=\"translate(6,6)\" d=\"M5,0A5,5,0,1,1,-5,0A5,5,0,1,1,5,0\" fill=\"rgb(56, 135, 192)\" stroke-width=\"1.5\" opacity=\"0.7\"></path></g><g class=\"mark-text role-legend-label\" pointer-events=\"none\"><text text-anchor=\"start\" transform=\"translate(16,9)\" font-family=\"sans-serif\" font-size=\"10px\" fill=\"#000\" opacity=\"1\">2</text></g></g><path class=\"foreground\" aria-hidden=\"true\" d=\"\" pointer-events=\"none\" display=\"none\"></path></g></g></g><path class=\"foreground\" aria-hidden=\"true\" d=\"\" pointer-events=\"none\" display=\"none\"></path></g></g><g class=\"mark-text role-legend-title\" pointer-events=\"none\"><text text-anchor=\"start\" transform=\"translate(0,9)\" font-family=\"sans-serif\" font-size=\"11px\" font-weight=\"bold\" fill=\"#000\" opacity=\"1\">zcolor</text></g></g><path class=\"foreground\" aria-hidden=\"true\" d=\"\" pointer-events=\"none\" display=\"none\"></path></g></g></g><path class=\"foreground\" aria-hidden=\"true\" d=\"\" display=\"none\"></path></g></g></g></svg>\n"
      ],
      "text/plain": [
       "@vlplot(\n",
       "    data={\n",
       "        values=...\n",
       "    },\n",
       "    mark={\n",
       "        type=\"circle\"\n",
       "    },\n",
       "    encoding={\n",
       "        x={\n",
       "            field=\"x\",\n",
       "            type=\"ordinal\"\n",
       "        },\n",
       "        y={\n",
       "            field=\"y\",\n",
       "            type=\"quantitative\"\n",
       "        },\n",
       "        color={\n",
       "            field=\"zcolor\",\n",
       "            type=\"ordinal\"\n",
       "        }\n",
       "    }\n",
       ")"
      ]
     },
     "execution_count": 444,
     "metadata": {},
     "output_type": "execute_result"
    }
   ],
   "source": [
    "x = collect(1:10)\n",
    "y = float(x.^2)\n",
    "p = scatterplot(x,y,zcolor=rand(1:2,10),zcolor_type=\"ordinal\")"
   ]
  },
  {
   "cell_type": "code",
   "execution_count": 445,
   "id": "4128219a-40a7-4262-a8e0-36cc2d7adf9b",
   "metadata": {},
   "outputs": [
    {
     "data": {
      "text/html": [
       "<table class=\"data-frame\"><thead><tr><th></th><th>sepalLength</th><th>sepalWidth</th><th>petalLength</th><th>petalWidth</th><th>species</th></tr><tr><th></th><th>Float64</th><th>Float64</th><th>Float64</th><th>Float64</th><th>String</th></tr></thead><tbody><p>2 rows × 5 columns</p><tr><th>1</th><td>5.1</td><td>3.5</td><td>1.4</td><td>0.2</td><td>setosa</td></tr><tr><th>2</th><td>4.9</td><td>3.0</td><td>1.4</td><td>0.2</td><td>setosa</td></tr></tbody></table>"
      ],
      "text/latex": [
       "\\begin{tabular}{r|ccccc}\n",
       "\t& sepalLength & sepalWidth & petalLength & petalWidth & species\\\\\n",
       "\t\\hline\n",
       "\t& Float64 & Float64 & Float64 & Float64 & String\\\\\n",
       "\t\\hline\n",
       "\t1 & 5.1 & 3.5 & 1.4 & 0.2 & setosa \\\\\n",
       "\t2 & 4.9 & 3.0 & 1.4 & 0.2 & setosa \\\\\n",
       "\\end{tabular}\n"
      ],
      "text/plain": [
       "\u001b[1m2×5 DataFrame\u001b[0m\n",
       "\u001b[1m Row \u001b[0m│\u001b[1m sepalLength \u001b[0m\u001b[1m sepalWidth \u001b[0m\u001b[1m petalLength \u001b[0m\u001b[1m petalWidth \u001b[0m\u001b[1m species \u001b[0m\n",
       "\u001b[1m     \u001b[0m│\u001b[90m Float64     \u001b[0m\u001b[90m Float64    \u001b[0m\u001b[90m Float64     \u001b[0m\u001b[90m Float64    \u001b[0m\u001b[90m String  \u001b[0m\n",
       "─────┼───────────────────────────────────────────────────────────\n",
       "   1 │         5.1         3.5          1.4         0.2  setosa\n",
       "   2 │         4.9         3.0          1.4         0.2  setosa"
      ]
     },
     "execution_count": 445,
     "metadata": {},
     "output_type": "execute_result"
    }
   ],
   "source": [
    "df[1:2,:]"
   ]
  },
  {
   "cell_type": "code",
   "execution_count": 460,
   "id": "bf1e7cc0-b7d9-4ad6-84df-31ac5cd255f3",
   "metadata": {},
   "outputs": [
    {
     "data": {
      "application/vnd.vegalite.v4+json": {
       "data": {
        "values": [
         {
          "petalLength": 1.4,
          "petalWidth": 0.2,
          "sepalLength": 5.1,
          "sepalWidth": 3.5,
          "species": "setosa"
         },
         {
          "petalLength": 1.4,
          "petalWidth": 0.2,
          "sepalLength": 4.9,
          "sepalWidth": 3,
          "species": "setosa"
         },
         {
          "petalLength": 1.3,
          "petalWidth": 0.2,
          "sepalLength": 4.7,
          "sepalWidth": 3.2,
          "species": "setosa"
         },
         {
          "petalLength": 1.5,
          "petalWidth": 0.2,
          "sepalLength": 4.6,
          "sepalWidth": 3.1,
          "species": "setosa"
         },
         {
          "petalLength": 1.4,
          "petalWidth": 0.2,
          "sepalLength": 5,
          "sepalWidth": 3.6,
          "species": "setosa"
         },
         {
          "petalLength": 1.7,
          "petalWidth": 0.4,
          "sepalLength": 5.4,
          "sepalWidth": 3.9,
          "species": "setosa"
         },
         {
          "petalLength": 1.4,
          "petalWidth": 0.3,
          "sepalLength": 4.6,
          "sepalWidth": 3.4,
          "species": "setosa"
         },
         {
          "petalLength": 1.5,
          "petalWidth": 0.2,
          "sepalLength": 5,
          "sepalWidth": 3.4,
          "species": "setosa"
         },
         {
          "petalLength": 1.4,
          "petalWidth": 0.2,
          "sepalLength": 4.4,
          "sepalWidth": 2.9,
          "species": "setosa"
         },
         {
          "petalLength": 1.5,
          "petalWidth": 0.1,
          "sepalLength": 4.9,
          "sepalWidth": 3.1,
          "species": "setosa"
         },
         {
          "petalLength": 1.5,
          "petalWidth": 0.2,
          "sepalLength": 5.4,
          "sepalWidth": 3.7,
          "species": "setosa"
         },
         {
          "petalLength": 1.6,
          "petalWidth": 0.2,
          "sepalLength": 4.8,
          "sepalWidth": 3.4,
          "species": "setosa"
         },
         {
          "petalLength": 1.4,
          "petalWidth": 0.1,
          "sepalLength": 4.8,
          "sepalWidth": 3,
          "species": "setosa"
         },
         {
          "petalLength": 1.1,
          "petalWidth": 0.1,
          "sepalLength": 4.3,
          "sepalWidth": 3,
          "species": "setosa"
         },
         {
          "petalLength": 1.2,
          "petalWidth": 0.2,
          "sepalLength": 5.8,
          "sepalWidth": 4,
          "species": "setosa"
         },
         {
          "petalLength": 1.5,
          "petalWidth": 0.4,
          "sepalLength": 5.7,
          "sepalWidth": 4.4,
          "species": "setosa"
         },
         {
          "petalLength": 1.3,
          "petalWidth": 0.4,
          "sepalLength": 5.4,
          "sepalWidth": 3.9,
          "species": "setosa"
         },
         {
          "petalLength": 1.4,
          "petalWidth": 0.3,
          "sepalLength": 5.1,
          "sepalWidth": 3.5,
          "species": "setosa"
         },
         {
          "petalLength": 1.7,
          "petalWidth": 0.3,
          "sepalLength": 5.7,
          "sepalWidth": 3.8,
          "species": "setosa"
         },
         {
          "petalLength": 1.5,
          "petalWidth": 0.3,
          "sepalLength": 5.1,
          "sepalWidth": 3.8,
          "species": "setosa"
         },
         {
          "petalLength": 1.7,
          "petalWidth": 0.2,
          "sepalLength": 5.4,
          "sepalWidth": 3.4,
          "species": "setosa"
         },
         {
          "petalLength": 1.5,
          "petalWidth": 0.4,
          "sepalLength": 5.1,
          "sepalWidth": 3.7,
          "species": "setosa"
         },
         {
          "petalLength": 1,
          "petalWidth": 0.2,
          "sepalLength": 4.6,
          "sepalWidth": 3.6,
          "species": "setosa"
         },
         {
          "petalLength": 1.7,
          "petalWidth": 0.5,
          "sepalLength": 5.1,
          "sepalWidth": 3.3,
          "species": "setosa"
         },
         {
          "petalLength": 1.9,
          "petalWidth": 0.2,
          "sepalLength": 4.8,
          "sepalWidth": 3.4,
          "species": "setosa"
         },
         {
          "petalLength": 1.6,
          "petalWidth": 0.2,
          "sepalLength": 5,
          "sepalWidth": 3,
          "species": "setosa"
         },
         {
          "petalLength": 1.6,
          "petalWidth": 0.4,
          "sepalLength": 5,
          "sepalWidth": 3.4,
          "species": "setosa"
         },
         {
          "petalLength": 1.5,
          "petalWidth": 0.2,
          "sepalLength": 5.2,
          "sepalWidth": 3.5,
          "species": "setosa"
         },
         {
          "petalLength": 1.4,
          "petalWidth": 0.2,
          "sepalLength": 5.2,
          "sepalWidth": 3.4,
          "species": "setosa"
         },
         {
          "petalLength": 1.6,
          "petalWidth": 0.2,
          "sepalLength": 4.7,
          "sepalWidth": 3.2,
          "species": "setosa"
         },
         {
          "petalLength": 1.6,
          "petalWidth": 0.2,
          "sepalLength": 4.8,
          "sepalWidth": 3.1,
          "species": "setosa"
         },
         {
          "petalLength": 1.5,
          "petalWidth": 0.4,
          "sepalLength": 5.4,
          "sepalWidth": 3.4,
          "species": "setosa"
         },
         {
          "petalLength": 1.5,
          "petalWidth": 0.1,
          "sepalLength": 5.2,
          "sepalWidth": 4.1,
          "species": "setosa"
         },
         {
          "petalLength": 1.4,
          "petalWidth": 0.2,
          "sepalLength": 5.5,
          "sepalWidth": 4.2,
          "species": "setosa"
         },
         {
          "petalLength": 1.5,
          "petalWidth": 0.2,
          "sepalLength": 4.9,
          "sepalWidth": 3.1,
          "species": "setosa"
         },
         {
          "petalLength": 1.2,
          "petalWidth": 0.2,
          "sepalLength": 5,
          "sepalWidth": 3.2,
          "species": "setosa"
         },
         {
          "petalLength": 1.3,
          "petalWidth": 0.2,
          "sepalLength": 5.5,
          "sepalWidth": 3.5,
          "species": "setosa"
         },
         {
          "petalLength": 1.4,
          "petalWidth": 0.1,
          "sepalLength": 4.9,
          "sepalWidth": 3.6,
          "species": "setosa"
         },
         {
          "petalLength": 1.3,
          "petalWidth": 0.2,
          "sepalLength": 4.4,
          "sepalWidth": 3,
          "species": "setosa"
         },
         {
          "petalLength": 1.5,
          "petalWidth": 0.2,
          "sepalLength": 5.1,
          "sepalWidth": 3.4,
          "species": "setosa"
         },
         {
          "petalLength": 1.3,
          "petalWidth": 0.3,
          "sepalLength": 5,
          "sepalWidth": 3.5,
          "species": "setosa"
         },
         {
          "petalLength": 1.3,
          "petalWidth": 0.3,
          "sepalLength": 4.5,
          "sepalWidth": 2.3,
          "species": "setosa"
         },
         {
          "petalLength": 1.3,
          "petalWidth": 0.2,
          "sepalLength": 4.4,
          "sepalWidth": 3.2,
          "species": "setosa"
         },
         {
          "petalLength": 1.6,
          "petalWidth": 0.6,
          "sepalLength": 5,
          "sepalWidth": 3.5,
          "species": "setosa"
         },
         {
          "petalLength": 1.9,
          "petalWidth": 0.4,
          "sepalLength": 5.1,
          "sepalWidth": 3.8,
          "species": "setosa"
         },
         {
          "petalLength": 1.4,
          "petalWidth": 0.3,
          "sepalLength": 4.8,
          "sepalWidth": 3,
          "species": "setosa"
         },
         {
          "petalLength": 1.6,
          "petalWidth": 0.2,
          "sepalLength": 5.1,
          "sepalWidth": 3.8,
          "species": "setosa"
         },
         {
          "petalLength": 1.4,
          "petalWidth": 0.2,
          "sepalLength": 4.6,
          "sepalWidth": 3.2,
          "species": "setosa"
         },
         {
          "petalLength": 1.5,
          "petalWidth": 0.2,
          "sepalLength": 5.3,
          "sepalWidth": 3.7,
          "species": "setosa"
         },
         {
          "petalLength": 1.4,
          "petalWidth": 0.2,
          "sepalLength": 5,
          "sepalWidth": 3.3,
          "species": "setosa"
         },
         {
          "petalLength": 4.7,
          "petalWidth": 1.4,
          "sepalLength": 7,
          "sepalWidth": 3.2,
          "species": "versicolor"
         },
         {
          "petalLength": 4.5,
          "petalWidth": 1.5,
          "sepalLength": 6.4,
          "sepalWidth": 3.2,
          "species": "versicolor"
         },
         {
          "petalLength": 4.9,
          "petalWidth": 1.5,
          "sepalLength": 6.9,
          "sepalWidth": 3.1,
          "species": "versicolor"
         },
         {
          "petalLength": 4,
          "petalWidth": 1.3,
          "sepalLength": 5.5,
          "sepalWidth": 2.3,
          "species": "versicolor"
         },
         {
          "petalLength": 4.6,
          "petalWidth": 1.5,
          "sepalLength": 6.5,
          "sepalWidth": 2.8,
          "species": "versicolor"
         },
         {
          "petalLength": 4.5,
          "petalWidth": 1.3,
          "sepalLength": 5.7,
          "sepalWidth": 2.8,
          "species": "versicolor"
         },
         {
          "petalLength": 4.7,
          "petalWidth": 1.6,
          "sepalLength": 6.3,
          "sepalWidth": 3.3,
          "species": "versicolor"
         },
         {
          "petalLength": 3.3,
          "petalWidth": 1,
          "sepalLength": 4.9,
          "sepalWidth": 2.4,
          "species": "versicolor"
         },
         {
          "petalLength": 4.6,
          "petalWidth": 1.3,
          "sepalLength": 6.6,
          "sepalWidth": 2.9,
          "species": "versicolor"
         },
         {
          "petalLength": 3.9,
          "petalWidth": 1.4,
          "sepalLength": 5.2,
          "sepalWidth": 2.7,
          "species": "versicolor"
         },
         {
          "petalLength": 3.5,
          "petalWidth": 1,
          "sepalLength": 5,
          "sepalWidth": 2,
          "species": "versicolor"
         },
         {
          "petalLength": 4.2,
          "petalWidth": 1.5,
          "sepalLength": 5.9,
          "sepalWidth": 3,
          "species": "versicolor"
         },
         {
          "petalLength": 4,
          "petalWidth": 1,
          "sepalLength": 6,
          "sepalWidth": 2.2,
          "species": "versicolor"
         },
         {
          "petalLength": 4.7,
          "petalWidth": 1.4,
          "sepalLength": 6.1,
          "sepalWidth": 2.9,
          "species": "versicolor"
         },
         {
          "petalLength": 3.6,
          "petalWidth": 1.3,
          "sepalLength": 5.6,
          "sepalWidth": 2.9,
          "species": "versicolor"
         },
         {
          "petalLength": 4.4,
          "petalWidth": 1.4,
          "sepalLength": 6.7,
          "sepalWidth": 3.1,
          "species": "versicolor"
         },
         {
          "petalLength": 4.5,
          "petalWidth": 1.5,
          "sepalLength": 5.6,
          "sepalWidth": 3,
          "species": "versicolor"
         },
         {
          "petalLength": 4.1,
          "petalWidth": 1,
          "sepalLength": 5.8,
          "sepalWidth": 2.7,
          "species": "versicolor"
         },
         {
          "petalLength": 4.5,
          "petalWidth": 1.5,
          "sepalLength": 6.2,
          "sepalWidth": 2.2,
          "species": "versicolor"
         },
         {
          "petalLength": 3.9,
          "petalWidth": 1.1,
          "sepalLength": 5.6,
          "sepalWidth": 2.5,
          "species": "versicolor"
         },
         {
          "petalLength": 4.8,
          "petalWidth": 1.8,
          "sepalLength": 5.9,
          "sepalWidth": 3.2,
          "species": "versicolor"
         },
         {
          "petalLength": 4,
          "petalWidth": 1.3,
          "sepalLength": 6.1,
          "sepalWidth": 2.8,
          "species": "versicolor"
         },
         {
          "petalLength": 4.9,
          "petalWidth": 1.5,
          "sepalLength": 6.3,
          "sepalWidth": 2.5,
          "species": "versicolor"
         },
         {
          "petalLength": 4.7,
          "petalWidth": 1.2,
          "sepalLength": 6.1,
          "sepalWidth": 2.8,
          "species": "versicolor"
         },
         {
          "petalLength": 4.3,
          "petalWidth": 1.3,
          "sepalLength": 6.4,
          "sepalWidth": 2.9,
          "species": "versicolor"
         },
         {
          "petalLength": 4.4,
          "petalWidth": 1.4,
          "sepalLength": 6.6,
          "sepalWidth": 3,
          "species": "versicolor"
         },
         {
          "petalLength": 4.8,
          "petalWidth": 1.4,
          "sepalLength": 6.8,
          "sepalWidth": 2.8,
          "species": "versicolor"
         },
         {
          "petalLength": 5,
          "petalWidth": 1.7,
          "sepalLength": 6.7,
          "sepalWidth": 3,
          "species": "versicolor"
         },
         {
          "petalLength": 4.5,
          "petalWidth": 1.5,
          "sepalLength": 6,
          "sepalWidth": 2.9,
          "species": "versicolor"
         },
         {
          "petalLength": 3.5,
          "petalWidth": 1,
          "sepalLength": 5.7,
          "sepalWidth": 2.6,
          "species": "versicolor"
         },
         {
          "petalLength": 3.8,
          "petalWidth": 1.1,
          "sepalLength": 5.5,
          "sepalWidth": 2.4,
          "species": "versicolor"
         },
         {
          "petalLength": 3.7,
          "petalWidth": 1,
          "sepalLength": 5.5,
          "sepalWidth": 2.4,
          "species": "versicolor"
         },
         {
          "petalLength": 3.9,
          "petalWidth": 1.2,
          "sepalLength": 5.8,
          "sepalWidth": 2.7,
          "species": "versicolor"
         },
         {
          "petalLength": 5.1,
          "petalWidth": 1.6,
          "sepalLength": 6,
          "sepalWidth": 2.7,
          "species": "versicolor"
         },
         {
          "petalLength": 4.5,
          "petalWidth": 1.5,
          "sepalLength": 5.4,
          "sepalWidth": 3,
          "species": "versicolor"
         },
         {
          "petalLength": 4.5,
          "petalWidth": 1.6,
          "sepalLength": 6,
          "sepalWidth": 3.4,
          "species": "versicolor"
         },
         {
          "petalLength": 4.7,
          "petalWidth": 1.5,
          "sepalLength": 6.7,
          "sepalWidth": 3.1,
          "species": "versicolor"
         },
         {
          "petalLength": 4.4,
          "petalWidth": 1.3,
          "sepalLength": 6.3,
          "sepalWidth": 2.3,
          "species": "versicolor"
         },
         {
          "petalLength": 4.1,
          "petalWidth": 1.3,
          "sepalLength": 5.6,
          "sepalWidth": 3,
          "species": "versicolor"
         },
         {
          "petalLength": 4,
          "petalWidth": 1.3,
          "sepalLength": 5.5,
          "sepalWidth": 2.5,
          "species": "versicolor"
         },
         {
          "petalLength": 4.4,
          "petalWidth": 1.2,
          "sepalLength": 5.5,
          "sepalWidth": 2.6,
          "species": "versicolor"
         },
         {
          "petalLength": 4.6,
          "petalWidth": 1.4,
          "sepalLength": 6.1,
          "sepalWidth": 3,
          "species": "versicolor"
         },
         {
          "petalLength": 4,
          "petalWidth": 1.2,
          "sepalLength": 5.8,
          "sepalWidth": 2.6,
          "species": "versicolor"
         },
         {
          "petalLength": 3.3,
          "petalWidth": 1,
          "sepalLength": 5,
          "sepalWidth": 2.3,
          "species": "versicolor"
         },
         {
          "petalLength": 4.2,
          "petalWidth": 1.3,
          "sepalLength": 5.6,
          "sepalWidth": 2.7,
          "species": "versicolor"
         },
         {
          "petalLength": 4.2,
          "petalWidth": 1.2,
          "sepalLength": 5.7,
          "sepalWidth": 3,
          "species": "versicolor"
         },
         {
          "petalLength": 4.2,
          "petalWidth": 1.3,
          "sepalLength": 5.7,
          "sepalWidth": 2.9,
          "species": "versicolor"
         },
         {
          "petalLength": 4.3,
          "petalWidth": 1.3,
          "sepalLength": 6.2,
          "sepalWidth": 2.9,
          "species": "versicolor"
         },
         {
          "petalLength": 3,
          "petalWidth": 1.1,
          "sepalLength": 5.1,
          "sepalWidth": 2.5,
          "species": "versicolor"
         },
         {
          "petalLength": 4.1,
          "petalWidth": 1.3,
          "sepalLength": 5.7,
          "sepalWidth": 2.8,
          "species": "versicolor"
         },
         {
          "petalLength": 6,
          "petalWidth": 2.5,
          "sepalLength": 6.3,
          "sepalWidth": 3.3,
          "species": "virginica"
         },
         {
          "petalLength": 5.1,
          "petalWidth": 1.9,
          "sepalLength": 5.8,
          "sepalWidth": 2.7,
          "species": "virginica"
         },
         {
          "petalLength": 5.9,
          "petalWidth": 2.1,
          "sepalLength": 7.1,
          "sepalWidth": 3,
          "species": "virginica"
         },
         {
          "petalLength": 5.6,
          "petalWidth": 1.8,
          "sepalLength": 6.3,
          "sepalWidth": 2.9,
          "species": "virginica"
         },
         {
          "petalLength": 5.8,
          "petalWidth": 2.2,
          "sepalLength": 6.5,
          "sepalWidth": 3,
          "species": "virginica"
         },
         {
          "petalLength": 6.6,
          "petalWidth": 2.1,
          "sepalLength": 7.6,
          "sepalWidth": 3,
          "species": "virginica"
         },
         {
          "petalLength": 4.5,
          "petalWidth": 1.7,
          "sepalLength": 4.9,
          "sepalWidth": 2.5,
          "species": "virginica"
         },
         {
          "petalLength": 6.3,
          "petalWidth": 1.8,
          "sepalLength": 7.3,
          "sepalWidth": 2.9,
          "species": "virginica"
         },
         {
          "petalLength": 5.8,
          "petalWidth": 1.8,
          "sepalLength": 6.7,
          "sepalWidth": 2.5,
          "species": "virginica"
         },
         {
          "petalLength": 6.1,
          "petalWidth": 2.5,
          "sepalLength": 7.2,
          "sepalWidth": 3.6,
          "species": "virginica"
         },
         {
          "petalLength": 5.1,
          "petalWidth": 2,
          "sepalLength": 6.5,
          "sepalWidth": 3.2,
          "species": "virginica"
         },
         {
          "petalLength": 5.3,
          "petalWidth": 1.9,
          "sepalLength": 6.4,
          "sepalWidth": 2.7,
          "species": "virginica"
         },
         {
          "petalLength": 5.5,
          "petalWidth": 2.1,
          "sepalLength": 6.8,
          "sepalWidth": 3,
          "species": "virginica"
         },
         {
          "petalLength": 5,
          "petalWidth": 2,
          "sepalLength": 5.7,
          "sepalWidth": 2.5,
          "species": "virginica"
         },
         {
          "petalLength": 5.1,
          "petalWidth": 2.4,
          "sepalLength": 5.8,
          "sepalWidth": 2.8,
          "species": "virginica"
         },
         {
          "petalLength": 5.3,
          "petalWidth": 2.3,
          "sepalLength": 6.4,
          "sepalWidth": 3.2,
          "species": "virginica"
         },
         {
          "petalLength": 5.5,
          "petalWidth": 1.8,
          "sepalLength": 6.5,
          "sepalWidth": 3,
          "species": "virginica"
         },
         {
          "petalLength": 6.7,
          "petalWidth": 2.2,
          "sepalLength": 7.7,
          "sepalWidth": 3.8,
          "species": "virginica"
         },
         {
          "petalLength": 6.9,
          "petalWidth": 2.3,
          "sepalLength": 7.7,
          "sepalWidth": 2.6,
          "species": "virginica"
         },
         {
          "petalLength": 5,
          "petalWidth": 1.5,
          "sepalLength": 6,
          "sepalWidth": 2.2,
          "species": "virginica"
         },
         {
          "petalLength": 5.7,
          "petalWidth": 2.3,
          "sepalLength": 6.9,
          "sepalWidth": 3.2,
          "species": "virginica"
         },
         {
          "petalLength": 4.9,
          "petalWidth": 2,
          "sepalLength": 5.6,
          "sepalWidth": 2.8,
          "species": "virginica"
         },
         {
          "petalLength": 6.7,
          "petalWidth": 2,
          "sepalLength": 7.7,
          "sepalWidth": 2.8,
          "species": "virginica"
         },
         {
          "petalLength": 4.9,
          "petalWidth": 1.8,
          "sepalLength": 6.3,
          "sepalWidth": 2.7,
          "species": "virginica"
         },
         {
          "petalLength": 5.7,
          "petalWidth": 2.1,
          "sepalLength": 6.7,
          "sepalWidth": 3.3,
          "species": "virginica"
         },
         {
          "petalLength": 6,
          "petalWidth": 1.8,
          "sepalLength": 7.2,
          "sepalWidth": 3.2,
          "species": "virginica"
         },
         {
          "petalLength": 4.8,
          "petalWidth": 1.8,
          "sepalLength": 6.2,
          "sepalWidth": 2.8,
          "species": "virginica"
         },
         {
          "petalLength": 4.9,
          "petalWidth": 1.8,
          "sepalLength": 6.1,
          "sepalWidth": 3,
          "species": "virginica"
         },
         {
          "petalLength": 5.6,
          "petalWidth": 2.1,
          "sepalLength": 6.4,
          "sepalWidth": 2.8,
          "species": "virginica"
         },
         {
          "petalLength": 5.8,
          "petalWidth": 1.6,
          "sepalLength": 7.2,
          "sepalWidth": 3,
          "species": "virginica"
         },
         {
          "petalLength": 6.1,
          "petalWidth": 1.9,
          "sepalLength": 7.4,
          "sepalWidth": 2.8,
          "species": "virginica"
         },
         {
          "petalLength": 6.4,
          "petalWidth": 2,
          "sepalLength": 7.9,
          "sepalWidth": 3.8,
          "species": "virginica"
         },
         {
          "petalLength": 5.6,
          "petalWidth": 2.2,
          "sepalLength": 6.4,
          "sepalWidth": 2.8,
          "species": "virginica"
         },
         {
          "petalLength": 5.1,
          "petalWidth": 1.5,
          "sepalLength": 6.3,
          "sepalWidth": 2.8,
          "species": "virginica"
         },
         {
          "petalLength": 5.6,
          "petalWidth": 1.4,
          "sepalLength": 6.1,
          "sepalWidth": 2.6,
          "species": "virginica"
         },
         {
          "petalLength": 6.1,
          "petalWidth": 2.3,
          "sepalLength": 7.7,
          "sepalWidth": 3,
          "species": "virginica"
         },
         {
          "petalLength": 5.6,
          "petalWidth": 2.4,
          "sepalLength": 6.3,
          "sepalWidth": 3.4,
          "species": "virginica"
         },
         {
          "petalLength": 5.5,
          "petalWidth": 1.8,
          "sepalLength": 6.4,
          "sepalWidth": 3.1,
          "species": "virginica"
         },
         {
          "petalLength": 4.8,
          "petalWidth": 1.8,
          "sepalLength": 6,
          "sepalWidth": 3,
          "species": "virginica"
         },
         {
          "petalLength": 5.4,
          "petalWidth": 2.1,
          "sepalLength": 6.9,
          "sepalWidth": 3.1,
          "species": "virginica"
         },
         {
          "petalLength": 5.6,
          "petalWidth": 2.4,
          "sepalLength": 6.7,
          "sepalWidth": 3.1,
          "species": "virginica"
         },
         {
          "petalLength": 5.1,
          "petalWidth": 2.3,
          "sepalLength": 6.9,
          "sepalWidth": 3.1,
          "species": "virginica"
         },
         {
          "petalLength": 5.1,
          "petalWidth": 1.9,
          "sepalLength": 5.8,
          "sepalWidth": 2.7,
          "species": "virginica"
         },
         {
          "petalLength": 5.9,
          "petalWidth": 2.3,
          "sepalLength": 6.8,
          "sepalWidth": 3.2,
          "species": "virginica"
         },
         {
          "petalLength": 5.7,
          "petalWidth": 2.5,
          "sepalLength": 6.7,
          "sepalWidth": 3.3,
          "species": "virginica"
         },
         {
          "petalLength": 5.2,
          "petalWidth": 2.3,
          "sepalLength": 6.7,
          "sepalWidth": 3,
          "species": "virginica"
         },
         {
          "petalLength": 5,
          "petalWidth": 1.9,
          "sepalLength": 6.3,
          "sepalWidth": 2.5,
          "species": "virginica"
         },
         {
          "petalLength": 5.2,
          "petalWidth": 2,
          "sepalLength": 6.5,
          "sepalWidth": 3,
          "species": "virginica"
         },
         {
          "petalLength": 5.4,
          "petalWidth": 2.3,
          "sepalLength": 6.2,
          "sepalWidth": 3.4,
          "species": "virginica"
         },
         {
          "petalLength": 5.1,
          "petalWidth": 1.8,
          "sepalLength": 5.9,
          "sepalWidth": 3,
          "species": "virginica"
         }
        ]
       },
       "encoding": {
        "color": {
         "field": "species",
         "type": "nominal"
        },
        "size": {
         "aggregate": "mean",
         "field": "petalLength",
         "type": "quantitative"
        },
        "x": {
         "field": "petalLength",
         "type": "quantitative"
        },
        "y": {
         "field": "petalWidth",
         "type": "quantitative"
        }
       },
       "mark": {
        "opacity": 0.5,
        "type": "circle"
       }
      },
      "image/png": "[encoded data removed]",
      "image/svg+xml": [
       "<?xml version=\"1.0\" encoding=\"utf-8\"?>\n",
       "<!DOCTYPE svg PUBLIC \"-//W3C//DTD SVG 1.1//EN\" \"http://www.w3.org/Graphics/SVG/1.1/DTD/svg11.dtd\">\n",
       "<svg class=\"marks\" width=\"393\" height=\"244\" viewBox=\"0 0 393 244\" version=\"1.1\" xmlns=\"http://www.w3.org/2000/svg\" xmlns:xlink=\"http://www.w3.org/1999/xlink\"><rect width=\"393\" height=\"244\" fill=\"white\"></rect><g fill=\"none\" stroke-miterlimit=\"10\" transform=\"translate(42,7)\"><g class=\"mark-group role-frame root\" role=\"graphics-object\" aria-roledescription=\"group mark container\"><g transform=\"translate(0,0)\"><path class=\"background\" aria-hidden=\"true\" d=\"M0.5,0.5h200v200h-200Z\" stroke=\"#ddd\"></path><g><g class=\"mark-group role-axis\" aria-hidden=\"true\"><g transform=\"translate(0.5,200.5)\"><path class=\"background\" aria-hidden=\"true\" d=\"M0,0h0v0h0Z\" pointer-events=\"none\"></path><g><g class=\"mark-rule role-axis-grid\" pointer-events=\"none\"><line transform=\"translate(0,-200)\" x2=\"0\" y2=\"200\" stroke=\"#ddd\" stroke-width=\"1\" opacity=\"1\"></line><line transform=\"translate(29,-200)\" x2=\"0\" y2=\"200\" stroke=\"#ddd\" stroke-width=\"1\" opacity=\"1\"></line><line transform=\"translate(57,-200)\" x2=\"0\" y2=\"200\" stroke=\"#ddd\" stroke-width=\"1\" opacity=\"1\"></line><line transform=\"translate(86,-200)\" x2=\"0\" y2=\"200\" stroke=\"#ddd\" stroke-width=\"1\" opacity=\"1\"></line><line transform=\"translate(114,-200)\" x2=\"0\" y2=\"200\" stroke=\"#ddd\" stroke-width=\"1\" opacity=\"1\"></line><line transform=\"translate(143,-200)\" x2=\"0\" y2=\"200\" stroke=\"#ddd\" stroke-width=\"1\" opacity=\"1\"></line><line transform=\"translate(171,-200)\" x2=\"0\" y2=\"200\" stroke=\"#ddd\" stroke-width=\"1\" opacity=\"1\"></line><line transform=\"translate(200,-200)\" x2=\"0\" y2=\"200\" stroke=\"#ddd\" stroke-width=\"1\" opacity=\"1\"></line></g></g><path class=\"foreground\" aria-hidden=\"true\" d=\"\" pointer-events=\"none\" display=\"none\"></path></g></g><g class=\"mark-group role-axis\" aria-hidden=\"true\"><g transform=\"translate(0.5,0.5)\"><path class=\"background\" aria-hidden=\"true\" d=\"M0,0h0v0h0Z\" pointer-events=\"none\"></path><g><g class=\"mark-rule role-axis-grid\" pointer-events=\"none\"><line transform=\"translate(0,200)\" x2=\"200\" y2=\"0\" stroke=\"#ddd\" stroke-width=\"1\" opacity=\"1\"></line><line transform=\"translate(0,162)\" x2=\"200\" y2=\"0\" stroke=\"#ddd\" stroke-width=\"1\" opacity=\"1\"></line><line transform=\"translate(0,123)\" x2=\"200\" y2=\"0\" stroke=\"#ddd\" stroke-width=\"1\" opacity=\"1\"></line><line transform=\"translate(0,85)\" x2=\"200\" y2=\"0\" stroke=\"#ddd\" stroke-width=\"1\" opacity=\"1\"></line><line transform=\"translate(0,46)\" x2=\"200\" y2=\"0\" stroke=\"#ddd\" stroke-width=\"1\" opacity=\"1\"></line><line transform=\"translate(0,8)\" x2=\"200\" y2=\"0\" stroke=\"#ddd\" stroke-width=\"1\" opacity=\"1\"></line></g></g><path class=\"foreground\" aria-hidden=\"true\" d=\"\" pointer-events=\"none\" display=\"none\"></path></g></g><g class=\"mark-group role-axis\" role=\"graphics-symbol\" aria-roledescription=\"axis\" aria-label=\"X-axis titled 'petalLength' for a linear scale with values from 0 to 7\"><g transform=\"translate(0.5,200.5)\"><path class=\"background\" aria-hidden=\"true\" d=\"M0,0h0v0h0Z\" pointer-events=\"none\"></path><g><g class=\"mark-rule role-axis-tick\" pointer-events=\"none\"><line transform=\"translate(0,0)\" x2=\"0\" y2=\"5\" stroke=\"#888\" stroke-width=\"1\" opacity=\"1\"></line><line transform=\"translate(29,0)\" x2=\"0\" y2=\"5\" stroke=\"#888\" stroke-width=\"1\" opacity=\"1\"></line><line transform=\"translate(57,0)\" x2=\"0\" y2=\"5\" stroke=\"#888\" stroke-width=\"1\" opacity=\"1\"></line><line transform=\"translate(86,0)\" x2=\"0\" y2=\"5\" stroke=\"#888\" stroke-width=\"1\" opacity=\"1\"></line><line transform=\"translate(114,0)\" x2=\"0\" y2=\"5\" stroke=\"#888\" stroke-width=\"1\" opacity=\"1\"></line><line transform=\"translate(143,0)\" x2=\"0\" y2=\"5\" stroke=\"#888\" stroke-width=\"1\" opacity=\"1\"></line><line transform=\"translate(171,0)\" x2=\"0\" y2=\"5\" stroke=\"#888\" stroke-width=\"1\" opacity=\"1\"></line><line transform=\"translate(200,0)\" x2=\"0\" y2=\"5\" stroke=\"#888\" stroke-width=\"1\" opacity=\"1\"></line></g><g class=\"mark-text role-axis-label\" pointer-events=\"none\"><text text-anchor=\"start\" transform=\"translate(0,15)\" font-family=\"sans-serif\" font-size=\"10px\" fill=\"#000\" opacity=\"1\">0</text><text text-anchor=\"middle\" transform=\"translate(28.57142857142857,15)\" font-family=\"sans-serif\" font-size=\"10px\" fill=\"#000\" opacity=\"1\">1</text><text text-anchor=\"middle\" transform=\"translate(57.14285714285714,15)\" font-family=\"sans-serif\" font-size=\"10px\" fill=\"#000\" opacity=\"1\">2</text><text text-anchor=\"middle\" transform=\"translate(85.71428571428571,15)\" font-family=\"sans-serif\" font-size=\"10px\" fill=\"#000\" opacity=\"1\">3</text><text text-anchor=\"middle\" transform=\"translate(114.28571428571428,15)\" font-family=\"sans-serif\" font-size=\"10px\" fill=\"#000\" opacity=\"1\">4</text><text text-anchor=\"middle\" transform=\"translate(142.85714285714286,15)\" font-family=\"sans-serif\" font-size=\"10px\" fill=\"#000\" opacity=\"1\">5</text><text text-anchor=\"middle\" transform=\"translate(171.42857142857142,15)\" font-family=\"sans-serif\" font-size=\"10px\" fill=\"#000\" opacity=\"1\">6</text><text text-anchor=\"end\" transform=\"translate(200,15)\" font-family=\"sans-serif\" font-size=\"10px\" fill=\"#000\" opacity=\"1\">7</text></g><g class=\"mark-rule role-axis-domain\" pointer-events=\"none\"><line transform=\"translate(0,0)\" x2=\"200\" y2=\"0\" stroke=\"#888\" stroke-width=\"1\" opacity=\"1\"></line></g><g class=\"mark-text role-axis-title\" pointer-events=\"none\"><text text-anchor=\"middle\" transform=\"translate(100,30)\" font-family=\"sans-serif\" font-size=\"11px\" font-weight=\"bold\" fill=\"#000\" opacity=\"1\">petalLength</text></g></g><path class=\"foreground\" aria-hidden=\"true\" d=\"\" pointer-events=\"none\" display=\"none\"></path></g></g><g class=\"mark-group role-axis\" role=\"graphics-symbol\" aria-roledescription=\"axis\" aria-label=\"Y-axis titled 'petalWidth' for a linear scale with values from 0.0 to 2.6\"><g transform=\"translate(0.5,0.5)\"><path class=\"background\" aria-hidden=\"true\" d=\"M0,0h0v0h0Z\" pointer-events=\"none\"></path><g><g class=\"mark-rule role-axis-tick\" pointer-events=\"none\"><line transform=\"translate(0,200)\" x2=\"-5\" y2=\"0\" stroke=\"#888\" stroke-width=\"1\" opacity=\"1\"></line><line transform=\"translate(0,162)\" x2=\"-5\" y2=\"0\" stroke=\"#888\" stroke-width=\"1\" opacity=\"1\"></line><line transform=\"translate(0,123)\" x2=\"-5\" y2=\"0\" stroke=\"#888\" stroke-width=\"1\" opacity=\"1\"></line><line transform=\"translate(0,85)\" x2=\"-5\" y2=\"0\" stroke=\"#888\" stroke-width=\"1\" opacity=\"1\"></line><line transform=\"translate(0,46)\" x2=\"-5\" y2=\"0\" stroke=\"#888\" stroke-width=\"1\" opacity=\"1\"></line><line transform=\"translate(0,8)\" x2=\"-5\" y2=\"0\" stroke=\"#888\" stroke-width=\"1\" opacity=\"1\"></line></g><g class=\"mark-text role-axis-label\" pointer-events=\"none\"><text text-anchor=\"end\" transform=\"translate(-7,203)\" font-family=\"sans-serif\" font-size=\"10px\" fill=\"#000\" opacity=\"1\">0.0</text><text text-anchor=\"end\" transform=\"translate(-7,164.53846153846155)\" font-family=\"sans-serif\" font-size=\"10px\" fill=\"#000\" opacity=\"1\">0.5</text><text text-anchor=\"end\" transform=\"translate(-7,126.07692307692308)\" font-family=\"sans-serif\" font-size=\"10px\" fill=\"#000\" opacity=\"1\">1.0</text><text text-anchor=\"end\" transform=\"translate(-7,87.61538461538463)\" font-family=\"sans-serif\" font-size=\"10px\" fill=\"#000\" opacity=\"1\">1.5</text><text text-anchor=\"end\" transform=\"translate(-7,49.15384615384617)\" font-family=\"sans-serif\" font-size=\"10px\" fill=\"#000\" opacity=\"1\">2.0</text><text text-anchor=\"end\" transform=\"translate(-7,10.69230769230771)\" font-family=\"sans-serif\" font-size=\"10px\" fill=\"#000\" opacity=\"1\">2.5</text></g><g class=\"mark-rule role-axis-domain\" pointer-events=\"none\"><line transform=\"translate(0,200)\" x2=\"0\" y2=\"-200\" stroke=\"#888\" stroke-width=\"1\" opacity=\"1\"></line></g><g class=\"mark-text role-axis-title\" pointer-events=\"none\"><text text-anchor=\"middle\" transform=\"translate(-26,100) rotate(-90) translate(0,-2)\" font-family=\"sans-serif\" font-size=\"11px\" font-weight=\"bold\" fill=\"#000\" opacity=\"1\">petalWidth</text></g></g><path class=\"foreground\" aria-hidden=\"true\" d=\"\" pointer-events=\"none\" display=\"none\"></path></g></g><g class=\"mark-symbol role-mark marks\" role=\"graphics-object\" aria-roledescription=\"symbol mark container\"><path aria-label=\"petalLength: 1.4; petalWidth: 0.2; species: setosa; Mean of petalLength: 1.4\" role=\"graphics-symbol\" aria-roledescription=\"circle\" transform=\"translate(40,184.6153846153846)\" d=\"M4.279204856383783,0A4.279204856383783,4.279204856383783,0,1,1,-4.279204856383783,0A4.279204856383783,4.279204856383783,0,1,1,4.279204856383783,0\" fill=\"#4c78a8\" stroke-width=\"2\" opacity=\"0.5\"></path><path aria-label=\"petalLength: 1.3; petalWidth: 0.2; species: setosa; Mean of petalLength: 1.3\" role=\"graphics-symbol\" aria-roledescription=\"circle\" transform=\"translate(37.142857142857146,184.6153846153846)\" d=\"M4.123544978341548,0A4.123544978341548,4.123544978341548,0,1,1,-4.123544978341548,0A4.123544978341548,4.123544978341548,0,1,1,4.123544978341548,0\" fill=\"#4c78a8\" stroke-width=\"2\" opacity=\"0.5\"></path><path aria-label=\"petalLength: 1.5; petalWidth: 0.2; species: setosa; Mean of petalLength: 1.5\" role=\"graphics-symbol\" aria-roledescription=\"circle\" transform=\"translate(42.857142857142854,184.6153846153846)\" d=\"M4.42939783914149,0A4.42939783914149,4.42939783914149,0,1,1,-4.42939783914149,0A4.42939783914149,4.42939783914149,0,1,1,4.42939783914149,0\" fill=\"#4c78a8\" stroke-width=\"2\" opacity=\"0.5\"></path><path aria-label=\"petalLength: 1.7; petalWidth: 0.4; species: setosa; Mean of petalLength: 1.7\" role=\"graphics-symbol\" aria-roledescription=\"circle\" transform=\"translate(48.57142857142857,169.23076923076923)\" d=\"M4.715454086975804,0A4.715454086975804,4.715454086975804,0,1,1,-4.715454086975804,0A4.715454086975804,4.715454086975804,0,1,1,4.715454086975804,0\" fill=\"#4c78a8\" stroke-width=\"2\" opacity=\"0.5\"></path><path aria-label=\"petalLength: 1.4; petalWidth: 0.3; species: setosa; Mean of petalLength: 1.4\" role=\"graphics-symbol\" aria-roledescription=\"circle\" transform=\"translate(40,176.9230769230769)\" d=\"M4.279204856383783,0A4.279204856383783,4.279204856383783,0,1,1,-4.279204856383783,0A4.279204856383783,4.279204856383783,0,1,1,4.279204856383783,0\" fill=\"#4c78a8\" stroke-width=\"2\" opacity=\"0.5\"></path><path aria-label=\"petalLength: 1.5; petalWidth: 0.1; species: setosa; Mean of petalLength: 1.5\" role=\"graphics-symbol\" aria-roledescription=\"circle\" transform=\"translate(42.857142857142854,192.30769230769232)\" d=\"M4.42939783914149,0A4.42939783914149,4.42939783914149,0,1,1,-4.42939783914149,0A4.42939783914149,4.42939783914149,0,1,1,4.42939783914149,0\" fill=\"#4c78a8\" stroke-width=\"2\" opacity=\"0.5\"></path><path aria-label=\"petalLength: 1.6; petalWidth: 0.2; species: setosa; Mean of petalLength: 1.6\" role=\"graphics-symbol\" aria-roledescription=\"circle\" transform=\"translate(45.714285714285715,184.6153846153846)\" d=\"M4.57466241725923,0A4.57466241725923,4.57466241725923,0,1,1,-4.57466241725923,0A4.57466241725923,4.57466241725923,0,1,1,4.57466241725923,0\" fill=\"#4c78a8\" stroke-width=\"2\" opacity=\"0.5\"></path><path aria-label=\"petalLength: 1.4; petalWidth: 0.1; species: setosa; Mean of petalLength: 1.4\" role=\"graphics-symbol\" aria-roledescription=\"circle\" transform=\"translate(40,192.30769230769232)\" d=\"M4.279204856383783,0A4.279204856383783,4.279204856383783,0,1,1,-4.279204856383783,0A4.279204856383783,4.279204856383783,0,1,1,4.279204856383783,0\" fill=\"#4c78a8\" stroke-width=\"2\" opacity=\"0.5\"></path><path aria-label=\"petalLength: 1.1; petalWidth: 0.1; species: setosa; Mean of petalLength: 1.1\" role=\"graphics-symbol\" aria-roledescription=\"circle\" transform=\"translate(31.428571428571434,192.30769230769232)\" d=\"M3.79310969514728,0A3.79310969514728,3.79310969514728,0,1,1,-3.79310969514728,0A3.79310969514728,3.79310969514728,0,1,1,3.79310969514728,0\" fill=\"#4c78a8\" stroke-width=\"2\" opacity=\"0.5\"></path><path aria-label=\"petalLength: 1.2; petalWidth: 0.2; species: setosa; Mean of petalLength: 1.2\" role=\"graphics-symbol\" aria-roledescription=\"circle\" transform=\"translate(34.285714285714285,184.6153846153846)\" d=\"M3.9617738670844203,0A3.9617738670844203,3.9617738670844203,0,1,1,-3.9617738670844203,0A3.9617738670844203,3.9617738670844203,0,1,1,3.9617738670844203,0\" fill=\"#4c78a8\" stroke-width=\"2\" opacity=\"0.5\"></path><path aria-label=\"petalLength: 1.5; petalWidth: 0.4; species: setosa; Mean of petalLength: 1.5\" role=\"graphics-symbol\" aria-roledescription=\"circle\" transform=\"translate(42.857142857142854,169.23076923076923)\" d=\"M4.42939783914149,0A4.42939783914149,4.42939783914149,0,1,1,-4.42939783914149,0A4.42939783914149,4.42939783914149,0,1,1,4.42939783914149,0\" fill=\"#4c78a8\" stroke-width=\"2\" opacity=\"0.5\"></path><path aria-label=\"petalLength: 1.3; petalWidth: 0.4; species: setosa; Mean of petalLength: 1.3\" role=\"graphics-symbol\" aria-roledescription=\"circle\" transform=\"translate(37.142857142857146,169.23076923076923)\" d=\"M4.123544978341548,0A4.123544978341548,4.123544978341548,0,1,1,-4.123544978341548,0A4.123544978341548,4.123544978341548,0,1,1,4.123544978341548,0\" fill=\"#4c78a8\" stroke-width=\"2\" opacity=\"0.5\"></path><path aria-label=\"petalLength: 1.7; petalWidth: 0.3; species: setosa; Mean of petalLength: 1.7\" role=\"graphics-symbol\" aria-roledescription=\"circle\" transform=\"translate(48.57142857142857,176.9230769230769)\" d=\"M4.715454086975804,0A4.715454086975804,4.715454086975804,0,1,1,-4.715454086975804,0A4.715454086975804,4.715454086975804,0,1,1,4.715454086975804,0\" fill=\"#4c78a8\" stroke-width=\"2\" opacity=\"0.5\"></path><path aria-label=\"petalLength: 1.5; petalWidth: 0.3; species: setosa; Mean of petalLength: 1.5\" role=\"graphics-symbol\" aria-roledescription=\"circle\" transform=\"translate(42.857142857142854,176.9230769230769)\" d=\"M4.42939783914149,0A4.42939783914149,4.42939783914149,0,1,1,-4.42939783914149,0A4.42939783914149,4.42939783914149,0,1,1,4.42939783914149,0\" fill=\"#4c78a8\" stroke-width=\"2\" opacity=\"0.5\"></path><path aria-label=\"petalLength: 1.7; petalWidth: 0.2; species: setosa; Mean of petalLength: 1.7\" role=\"graphics-symbol\" aria-roledescription=\"circle\" transform=\"translate(48.57142857142857,184.6153846153846)\" d=\"M4.715454086975804,0A4.715454086975804,4.715454086975804,0,1,1,-4.715454086975804,0A4.715454086975804,4.715454086975804,0,1,1,4.715454086975804,0\" fill=\"#4c78a8\" stroke-width=\"2\" opacity=\"0.5\"></path><path aria-label=\"petalLength: 1; petalWidth: 0.2; species: setosa; Mean of petalLength: 1\" role=\"graphics-symbol\" aria-roledescription=\"circle\" transform=\"translate(28.57142857142857,184.6153846153846)\" d=\"M3.616588191227685,0A3.616588191227685,3.616588191227685,0,1,1,-3.616588191227685,0A3.616588191227685,3.616588191227685,0,1,1,3.616588191227685,0\" fill=\"#4c78a8\" stroke-width=\"2\" opacity=\"0.5\"></path><path aria-label=\"petalLength: 1.7; petalWidth: 0.5; species: setosa; Mean of petalLength: 1.7\" role=\"graphics-symbol\" aria-roledescription=\"circle\" transform=\"translate(48.57142857142857,161.53846153846155)\" d=\"M4.715454086975804,0A4.715454086975804,4.715454086975804,0,1,1,-4.715454086975804,0A4.715454086975804,4.715454086975804,0,1,1,4.715454086975804,0\" fill=\"#4c78a8\" stroke-width=\"2\" opacity=\"0.5\"></path><path aria-label=\"petalLength: 1.9; petalWidth: 0.2; species: setosa; Mean of petalLength: 1.9\" role=\"graphics-symbol\" aria-roledescription=\"circle\" transform=\"translate(54.285714285714285,184.6153846153846)\" d=\"M4.98512279441162,0A4.98512279441162,4.98512279441162,0,1,1,-4.98512279441162,0A4.98512279441162,4.98512279441162,0,1,1,4.98512279441162,0\" fill=\"#4c78a8\" stroke-width=\"2\" opacity=\"0.5\"></path><path aria-label=\"petalLength: 1.6; petalWidth: 0.4; species: setosa; Mean of petalLength: 1.6\" role=\"graphics-symbol\" aria-roledescription=\"circle\" transform=\"translate(45.714285714285715,169.23076923076923)\" d=\"M4.57466241725923,0A4.57466241725923,4.57466241725923,0,1,1,-4.57466241725923,0A4.57466241725923,4.57466241725923,0,1,1,4.57466241725923,0\" fill=\"#4c78a8\" stroke-width=\"2\" opacity=\"0.5\"></path><path aria-label=\"petalLength: 1.3; petalWidth: 0.3; species: setosa; Mean of petalLength: 1.3\" role=\"graphics-symbol\" aria-roledescription=\"circle\" transform=\"translate(37.142857142857146,176.9230769230769)\" d=\"M4.123544978341548,0A4.123544978341548,4.123544978341548,0,1,1,-4.123544978341548,0A4.123544978341548,4.123544978341548,0,1,1,4.123544978341548,0\" fill=\"#4c78a8\" stroke-width=\"2\" opacity=\"0.5\"></path><path aria-label=\"petalLength: 1.6; petalWidth: 0.6; species: setosa; Mean of petalLength: 1.6\" role=\"graphics-symbol\" aria-roledescription=\"circle\" transform=\"translate(45.714285714285715,153.84615384615387)\" d=\"M4.57466241725923,0A4.57466241725923,4.57466241725923,0,1,1,-4.57466241725923,0A4.57466241725923,4.57466241725923,0,1,1,4.57466241725923,0\" fill=\"#4c78a8\" stroke-width=\"2\" opacity=\"0.5\"></path><path aria-label=\"petalLength: 1.9; petalWidth: 0.4; species: setosa; Mean of petalLength: 1.9\" role=\"graphics-symbol\" aria-roledescription=\"circle\" transform=\"translate(54.285714285714285,169.23076923076923)\" d=\"M4.98512279441162,0A4.98512279441162,4.98512279441162,0,1,1,-4.98512279441162,0A4.98512279441162,4.98512279441162,0,1,1,4.98512279441162,0\" fill=\"#4c78a8\" stroke-width=\"2\" opacity=\"0.5\"></path><path aria-label=\"petalLength: 4.7; petalWidth: 1.4; species: versicolor; Mean of petalLength: 4.7\" role=\"graphics-symbol\" aria-roledescription=\"circle\" transform=\"translate(134.2857142857143,92.3076923076923)\" d=\"M7.84057636154125,0A7.84057636154125,7.84057636154125,0,1,1,-7.84057636154125,0A7.84057636154125,7.84057636154125,0,1,1,7.84057636154125,0\" fill=\"#f58518\" stroke-width=\"2\" opacity=\"0.5\"></path><path aria-label=\"petalLength: 4.5; petalWidth: 1.5; species: versicolor; Mean of petalLength: 4.5\" role=\"graphics-symbol\" aria-roledescription=\"circle\" transform=\"translate(128.57142857142858,84.61538461538463)\" d=\"M7.671942104328859,0A7.671942104328859,7.671942104328859,0,1,1,-7.671942104328859,0A7.671942104328859,7.671942104328859,0,1,1,7.671942104328859,0\" fill=\"#f58518\" stroke-width=\"2\" opacity=\"0.5\"></path><path aria-label=\"petalLength: 4.9; petalWidth: 1.5; species: versicolor; Mean of petalLength: 4.9\" role=\"graphics-symbol\" aria-roledescription=\"circle\" transform=\"translate(140,84.61538461538463)\" d=\"M8.005659230203653,0A8.005659230203653,8.005659230203653,0,1,1,-8.005659230203653,0A8.005659230203653,8.005659230203653,0,1,1,8.005659230203653,0\" fill=\"#f58518\" stroke-width=\"2\" opacity=\"0.5\"></path><path aria-label=\"petalLength: 4; petalWidth: 1.3; species: versicolor; Mean of petalLength: 4\" role=\"graphics-symbol\" aria-roledescription=\"circle\" transform=\"translate(114.28571428571428,100)\" d=\"M7.23317638245537,0A7.23317638245537,7.23317638245537,0,1,1,-7.23317638245537,0A7.23317638245537,7.23317638245537,0,1,1,7.23317638245537,0\" fill=\"#f58518\" stroke-width=\"2\" opacity=\"0.5\"></path><path aria-label=\"petalLength: 4.6; petalWidth: 1.5; species: versicolor; Mean of petalLength: 4.6\" role=\"graphics-symbol\" aria-roledescription=\"circle\" transform=\"translate(131.42857142857142,84.61538461538463)\" d=\"M7.756717518813397,0A7.756717518813397,7.756717518813397,0,1,1,-7.756717518813397,0A7.756717518813397,7.756717518813397,0,1,1,7.756717518813397,0\" fill=\"#f58518\" stroke-width=\"2\" opacity=\"0.5\"></path><path aria-label=\"petalLength: 4.5; petalWidth: 1.3; species: versicolor; Mean of petalLength: 4.5\" role=\"graphics-symbol\" aria-roledescription=\"circle\" transform=\"translate(128.57142857142858,100)\" d=\"M7.671942104328859,0A7.671942104328859,7.671942104328859,0,1,1,-7.671942104328859,0A7.671942104328859,7.671942104328859,0,1,1,7.671942104328859,0\" fill=\"#f58518\" stroke-width=\"2\" opacity=\"0.5\"></path><path aria-label=\"petalLength: 4.7; petalWidth: 1.6; species: versicolor; Mean of petalLength: 4.7\" role=\"graphics-symbol\" aria-roledescription=\"circle\" transform=\"translate(134.2857142857143,76.92307692307692)\" d=\"M7.84057636154125,0A7.84057636154125,7.84057636154125,0,1,1,-7.84057636154125,0A7.84057636154125,7.84057636154125,0,1,1,7.84057636154125,0\" fill=\"#f58518\" stroke-width=\"2\" opacity=\"0.5\"></path><path aria-label=\"petalLength: 3.3; petalWidth: 1; species: versicolor; Mean of petalLength: 3.3\" role=\"graphics-symbol\" aria-roledescription=\"circle\" transform=\"translate(94.28571428571428,123.07692307692308)\" d=\"M6.569858710677184,0A6.569858710677184,6.569858710677184,0,1,1,-6.569858710677184,0A6.569858710677184,6.569858710677184,0,1,1,6.569858710677184,0\" fill=\"#f58518\" stroke-width=\"2\" opacity=\"0.5\"></path><path aria-label=\"petalLength: 4.6; petalWidth: 1.3; species: versicolor; Mean of petalLength: 4.6\" role=\"graphics-symbol\" aria-roledescription=\"circle\" transform=\"translate(131.42857142857142,100)\" d=\"M7.756717518813397,0A7.756717518813397,7.756717518813397,0,1,1,-7.756717518813397,0A7.756717518813397,7.756717518813397,0,1,1,7.756717518813397,0\" fill=\"#f58518\" stroke-width=\"2\" opacity=\"0.5\"></path><path aria-label=\"petalLength: 3.9; petalWidth: 1.4; species: versicolor; Mean of petalLength: 3.9\" role=\"graphics-symbol\" aria-roledescription=\"circle\" transform=\"translate(111.42857142857143,92.3076923076923)\" d=\"M7.142189409783066,0A7.142189409783066,7.142189409783066,0,1,1,-7.142189409783066,0A7.142189409783066,7.142189409783066,0,1,1,7.142189409783066,0\" fill=\"#f58518\" stroke-width=\"2\" opacity=\"0.5\"></path><path aria-label=\"petalLength: 3.5; petalWidth: 1; species: versicolor; Mean of petalLength: 3.5\" role=\"graphics-symbol\" aria-roledescription=\"circle\" transform=\"translate(100,123.07692307692308)\" d=\"M6.7660169603132365,0A6.7660169603132365,6.7660169603132365,0,1,1,-6.7660169603132365,0A6.7660169603132365,6.7660169603132365,0,1,1,6.7660169603132365,0\" fill=\"#f58518\" stroke-width=\"2\" opacity=\"0.5\"></path><path aria-label=\"petalLength: 4.2; petalWidth: 1.5; species: versicolor; Mean of petalLength: 4.2\" role=\"graphics-symbol\" aria-roledescription=\"circle\" transform=\"translate(120,84.61538461538463)\" d=\"M7.411800227252193,0A7.411800227252193,7.411800227252193,0,1,1,-7.411800227252193,0A7.411800227252193,7.411800227252193,0,1,1,7.411800227252193,0\" fill=\"#f58518\" stroke-width=\"2\" opacity=\"0.5\"></path><path aria-label=\"petalLength: 4; petalWidth: 1; species: versicolor; Mean of petalLength: 4\" role=\"graphics-symbol\" aria-roledescription=\"circle\" transform=\"translate(114.28571428571428,123.07692307692308)\" d=\"M7.23317638245537,0A7.23317638245537,7.23317638245537,0,1,1,-7.23317638245537,0A7.23317638245537,7.23317638245537,0,1,1,7.23317638245537,0\" fill=\"#f58518\" stroke-width=\"2\" opacity=\"0.5\"></path><path aria-label=\"petalLength: 3.6; petalWidth: 1.3; species: versicolor; Mean of petalLength: 3.6\" role=\"graphics-symbol\" aria-roledescription=\"circle\" transform=\"translate(102.85714285714288,100)\" d=\"M6.861993625888845,0A6.861993625888845,6.861993625888845,0,1,1,-6.861993625888845,0A6.861993625888845,6.861993625888845,0,1,1,6.861993625888845,0\" fill=\"#f58518\" stroke-width=\"2\" opacity=\"0.5\"></path><path aria-label=\"petalLength: 4.4; petalWidth: 1.4; species: versicolor; Mean of petalLength: 4.4\" role=\"graphics-symbol\" aria-roledescription=\"circle\" transform=\"translate(125.71428571428574,92.3076923076923)\" d=\"M7.58621939029456,0A7.58621939029456,7.58621939029456,0,1,1,-7.58621939029456,0A7.58621939029456,7.58621939029456,0,1,1,7.58621939029456,0\" fill=\"#f58518\" stroke-width=\"2\" opacity=\"0.5\"></path><path aria-label=\"petalLength: 4.1; petalWidth: 1; species: versicolor; Mean of petalLength: 4.1\" role=\"graphics-symbol\" aria-roledescription=\"circle\" transform=\"translate(117.14285714285712,123.07692307692308)\" d=\"M7.323032950506429,0A7.323032950506429,7.323032950506429,0,1,1,-7.323032950506429,0A7.323032950506429,7.323032950506429,0,1,1,7.323032950506429,0\" fill=\"#f58518\" stroke-width=\"2\" opacity=\"0.5\"></path><path aria-label=\"petalLength: 3.9; petalWidth: 1.1; species: versicolor; Mean of petalLength: 3.9\" role=\"graphics-symbol\" aria-roledescription=\"circle\" transform=\"translate(111.42857142857143,115.38461538461537)\" d=\"M7.142189409783066,0A7.142189409783066,7.142189409783066,0,1,1,-7.142189409783066,0A7.142189409783066,7.142189409783066,0,1,1,7.142189409783066,0\" fill=\"#f58518\" stroke-width=\"2\" opacity=\"0.5\"></path><path aria-label=\"petalLength: 4.8; petalWidth: 1.8; species: versicolor; Mean of petalLength: 4.8\" role=\"graphics-symbol\" aria-roledescription=\"circle\" transform=\"translate(137.14285714285714,61.53846153846154)\" d=\"M7.9235477341688405,0A7.9235477341688405,7.9235477341688405,0,1,1,-7.9235477341688405,0A7.9235477341688405,7.9235477341688405,0,1,1,7.9235477341688405,0\" fill=\"#f58518\" stroke-width=\"2\" opacity=\"0.5\"></path><path aria-label=\"petalLength: 4.7; petalWidth: 1.2; species: versicolor; Mean of petalLength: 4.7\" role=\"graphics-symbol\" aria-roledescription=\"circle\" transform=\"translate(134.2857142857143,107.69230769230771)\" d=\"M7.84057636154125,0A7.84057636154125,7.84057636154125,0,1,1,-7.84057636154125,0A7.84057636154125,7.84057636154125,0,1,1,7.84057636154125,0\" fill=\"#f58518\" stroke-width=\"2\" opacity=\"0.5\"></path><path aria-label=\"petalLength: 4.3; petalWidth: 1.3; species: versicolor; Mean of petalLength: 4.3\" role=\"graphics-symbol\" aria-roledescription=\"circle\" transform=\"translate(122.85714285714285,100)\" d=\"M7.499516892653046,0A7.499516892653046,7.499516892653046,0,1,1,-7.499516892653046,0A7.499516892653046,7.499516892653046,0,1,1,7.499516892653046,0\" fill=\"#f58518\" stroke-width=\"2\" opacity=\"0.5\"></path><path aria-label=\"petalLength: 4.8; petalWidth: 1.4; species: versicolor; Mean of petalLength: 4.8\" role=\"graphics-symbol\" aria-roledescription=\"circle\" transform=\"translate(137.14285714285714,92.3076923076923)\" d=\"M7.9235477341688405,0A7.9235477341688405,7.9235477341688405,0,1,1,-7.9235477341688405,0A7.9235477341688405,7.9235477341688405,0,1,1,7.9235477341688405,0\" fill=\"#f58518\" stroke-width=\"2\" opacity=\"0.5\"></path><path aria-label=\"petalLength: 5; petalWidth: 1.7; species: versicolor; Mean of petalLength: 5\" role=\"graphics-symbol\" aria-roledescription=\"circle\" transform=\"translate(142.85714285714286,69.23076923076923)\" d=\"M8.086937042208111,0A8.086937042208111,8.086937042208111,0,1,1,-8.086937042208111,0A8.086937042208111,8.086937042208111,0,1,1,8.086937042208111,0\" fill=\"#f58518\" stroke-width=\"2\" opacity=\"0.5\"></path><path aria-label=\"petalLength: 3.8; petalWidth: 1.1; species: versicolor; Mean of petalLength: 3.8\" role=\"graphics-symbol\" aria-roledescription=\"circle\" transform=\"translate(108.57142857142857,115.38461538461537)\" d=\"M7.050028265952174,0A7.050028265952174,7.050028265952174,0,1,1,-7.050028265952174,0A7.050028265952174,7.050028265952174,0,1,1,7.050028265952174,0\" fill=\"#f58518\" stroke-width=\"2\" opacity=\"0.5\"></path><path aria-label=\"petalLength: 3.7; petalWidth: 1; species: versicolor; Mean of petalLength: 3.7\" role=\"graphics-symbol\" aria-roledescription=\"circle\" transform=\"translate(105.71428571428572,123.07692307692308)\" d=\"M6.956646285116981,0A6.956646285116981,6.956646285116981,0,1,1,-6.956646285116981,0A6.956646285116981,6.956646285116981,0,1,1,6.956646285116981,0\" fill=\"#f58518\" stroke-width=\"2\" opacity=\"0.5\"></path><path aria-label=\"petalLength: 3.9; petalWidth: 1.2; species: versicolor; Mean of petalLength: 3.9\" role=\"graphics-symbol\" aria-roledescription=\"circle\" transform=\"translate(111.42857142857143,107.69230769230771)\" d=\"M7.142189409783066,0A7.142189409783066,7.142189409783066,0,1,1,-7.142189409783066,0A7.142189409783066,7.142189409783066,0,1,1,7.142189409783066,0\" fill=\"#f58518\" stroke-width=\"2\" opacity=\"0.5\"></path><path aria-label=\"petalLength: 5.1; petalWidth: 1.6; species: versicolor; Mean of petalLength: 5.1\" role=\"graphics-symbol\" aria-roledescription=\"circle\" transform=\"translate(145.7142857142857,76.92307692307692)\" d=\"M8.167406059400404,0A8.167406059400404,8.167406059400404,0,1,1,-8.167406059400404,0A8.167406059400404,8.167406059400404,0,1,1,8.167406059400404,0\" fill=\"#f58518\" stroke-width=\"2\" opacity=\"0.5\"></path><path aria-label=\"petalLength: 4.5; petalWidth: 1.6; species: versicolor; Mean of petalLength: 4.5\" role=\"graphics-symbol\" aria-roledescription=\"circle\" transform=\"translate(128.57142857142858,76.92307692307692)\" d=\"M7.671942104328859,0A7.671942104328859,7.671942104328859,0,1,1,-7.671942104328859,0A7.671942104328859,7.671942104328859,0,1,1,7.671942104328859,0\" fill=\"#f58518\" stroke-width=\"2\" opacity=\"0.5\"></path><path aria-label=\"petalLength: 4.7; petalWidth: 1.5; species: versicolor; Mean of petalLength: 4.7\" role=\"graphics-symbol\" aria-roledescription=\"circle\" transform=\"translate(134.2857142857143,84.61538461538463)\" d=\"M7.84057636154125,0A7.84057636154125,7.84057636154125,0,1,1,-7.84057636154125,0A7.84057636154125,7.84057636154125,0,1,1,7.84057636154125,0\" fill=\"#f58518\" stroke-width=\"2\" opacity=\"0.5\"></path><path aria-label=\"petalLength: 4.4; petalWidth: 1.3; species: versicolor; Mean of petalLength: 4.4\" role=\"graphics-symbol\" aria-roledescription=\"circle\" transform=\"translate(125.71428571428574,100)\" d=\"M7.58621939029456,0A7.58621939029456,7.58621939029456,0,1,1,-7.58621939029456,0A7.58621939029456,7.58621939029456,0,1,1,7.58621939029456,0\" fill=\"#f58518\" stroke-width=\"2\" opacity=\"0.5\"></path><path aria-label=\"petalLength: 4.1; petalWidth: 1.3; species: versicolor; Mean of petalLength: 4.1\" role=\"graphics-symbol\" aria-roledescription=\"circle\" transform=\"translate(117.14285714285712,100)\" d=\"M7.323032950506429,0A7.323032950506429,7.323032950506429,0,1,1,-7.323032950506429,0A7.323032950506429,7.323032950506429,0,1,1,7.323032950506429,0\" fill=\"#f58518\" stroke-width=\"2\" opacity=\"0.5\"></path><path aria-label=\"petalLength: 4.4; petalWidth: 1.2; species: versicolor; Mean of petalLength: 4.4\" role=\"graphics-symbol\" aria-roledescription=\"circle\" transform=\"translate(125.71428571428574,107.69230769230771)\" d=\"M7.58621939029456,0A7.58621939029456,7.58621939029456,0,1,1,-7.58621939029456,0A7.58621939029456,7.58621939029456,0,1,1,7.58621939029456,0\" fill=\"#f58518\" stroke-width=\"2\" opacity=\"0.5\"></path><path aria-label=\"petalLength: 4.6; petalWidth: 1.4; species: versicolor; Mean of petalLength: 4.6\" role=\"graphics-symbol\" aria-roledescription=\"circle\" transform=\"translate(131.42857142857142,92.3076923076923)\" d=\"M7.756717518813397,0A7.756717518813397,7.756717518813397,0,1,1,-7.756717518813397,0A7.756717518813397,7.756717518813397,0,1,1,7.756717518813397,0\" fill=\"#f58518\" stroke-width=\"2\" opacity=\"0.5\"></path><path aria-label=\"petalLength: 4; petalWidth: 1.2; species: versicolor; Mean of petalLength: 4\" role=\"graphics-symbol\" aria-roledescription=\"circle\" transform=\"translate(114.28571428571428,107.69230769230771)\" d=\"M7.23317638245537,0A7.23317638245537,7.23317638245537,0,1,1,-7.23317638245537,0A7.23317638245537,7.23317638245537,0,1,1,7.23317638245537,0\" fill=\"#f58518\" stroke-width=\"2\" opacity=\"0.5\"></path><path aria-label=\"petalLength: 4.2; petalWidth: 1.3; species: versicolor; Mean of petalLength: 4.2\" role=\"graphics-symbol\" aria-roledescription=\"circle\" transform=\"translate(120,100)\" d=\"M7.411800227252193,0A7.411800227252193,7.411800227252193,0,1,1,-7.411800227252193,0A7.411800227252193,7.411800227252193,0,1,1,7.411800227252193,0\" fill=\"#f58518\" stroke-width=\"2\" opacity=\"0.5\"></path><path aria-label=\"petalLength: 4.2; petalWidth: 1.2; species: versicolor; Mean of petalLength: 4.2\" role=\"graphics-symbol\" aria-roledescription=\"circle\" transform=\"translate(120,107.69230769230771)\" d=\"M7.411800227252193,0A7.411800227252193,7.411800227252193,0,1,1,-7.411800227252193,0A7.411800227252193,7.411800227252193,0,1,1,7.411800227252193,0\" fill=\"#f58518\" stroke-width=\"2\" opacity=\"0.5\"></path><path aria-label=\"petalLength: 3; petalWidth: 1.1; species: versicolor; Mean of petalLength: 3\" role=\"graphics-symbol\" aria-roledescription=\"circle\" transform=\"translate(85.71428571428571,115.38461538461537)\" d=\"M6.2641144972599765,0A6.2641144972599765,6.2641144972599765,0,1,1,-6.2641144972599765,0A6.2641144972599765,6.2641144972599765,0,1,1,6.2641144972599765,0\" fill=\"#f58518\" stroke-width=\"2\" opacity=\"0.5\"></path><path aria-label=\"petalLength: 6; petalWidth: 2.5; species: virginica; Mean of petalLength: 6\" role=\"graphics-symbol\" aria-roledescription=\"circle\" transform=\"translate(171.42857142857142,7.692307692307709)\" d=\"M8.85879567828298,0A8.85879567828298,8.85879567828298,0,1,1,-8.85879567828298,0A8.85879567828298,8.85879567828298,0,1,1,8.85879567828298,0\" fill=\"#e45756\" stroke-width=\"2\" opacity=\"0.5\"></path><path aria-label=\"petalLength: 5.1; petalWidth: 1.9; species: virginica; Mean of petalLength: 5.1\" role=\"graphics-symbol\" aria-roledescription=\"circle\" transform=\"translate(145.7142857142857,53.846153846153854)\" d=\"M8.167406059400404,0A8.167406059400404,8.167406059400404,0,1,1,-8.167406059400404,0A8.167406059400404,8.167406059400404,0,1,1,8.167406059400404,0\" fill=\"#e45756\" stroke-width=\"2\" opacity=\"0.5\"></path><path aria-label=\"petalLength: 5.9; petalWidth: 2.1; species: virginica; Mean of petalLength: 5.9\" role=\"graphics-symbol\" aria-roledescription=\"circle\" transform=\"translate(168.57142857142858,38.46153846153846)\" d=\"M8.784662193566266,0A8.784662193566266,8.784662193566266,0,1,1,-8.784662193566266,0A8.784662193566266,8.784662193566266,0,1,1,8.784662193566266,0\" fill=\"#e45756\" stroke-width=\"2\" opacity=\"0.5\"></path><path aria-label=\"petalLength: 5.6; petalWidth: 1.8; species: virginica; Mean of petalLength: 5.6\" role=\"graphics-symbol\" aria-roledescription=\"circle\" transform=\"translate(160,61.53846153846154)\" d=\"M8.558409712767565,0A8.558409712767565,8.558409712767565,0,1,1,-8.558409712767565,0A8.558409712767565,8.558409712767565,0,1,1,8.558409712767565,0\" fill=\"#e45756\" stroke-width=\"2\" opacity=\"0.5\"></path><path aria-label=\"petalLength: 5.8; petalWidth: 2.2; species: virginica; Mean of petalLength: 5.8\" role=\"graphics-symbol\" aria-roledescription=\"circle\" transform=\"translate(165.7142857142857,30.76923076923077)\" d=\"M8.709897751442304,0A8.709897751442304,8.709897751442304,0,1,1,-8.709897751442304,0A8.709897751442304,8.709897751442304,0,1,1,8.709897751442304,0\" fill=\"#e45756\" stroke-width=\"2\" opacity=\"0.5\"></path><path aria-label=\"petalLength: 6.6; petalWidth: 2.1; species: virginica; Mean of petalLength: 6.6\" role=\"graphics-symbol\" aria-roledescription=\"circle\" transform=\"translate(188.57142857142856,38.46153846153846)\" d=\"M9.29118329151469,0A9.29118329151469,9.29118329151469,0,1,1,-9.29118329151469,0A9.29118329151469,9.29118329151469,0,1,1,9.29118329151469,0\" fill=\"#e45756\" stroke-width=\"2\" opacity=\"0.5\"></path><path aria-label=\"petalLength: 4.5; petalWidth: 1.7; species: virginica; Mean of petalLength: 4.5\" role=\"graphics-symbol\" aria-roledescription=\"circle\" transform=\"translate(128.57142857142858,69.23076923076923)\" d=\"M7.671942104328859,0A7.671942104328859,7.671942104328859,0,1,1,-7.671942104328859,0A7.671942104328859,7.671942104328859,0,1,1,7.671942104328859,0\" fill=\"#e45756\" stroke-width=\"2\" opacity=\"0.5\"></path><path aria-label=\"petalLength: 6.3; petalWidth: 1.8; species: virginica; Mean of petalLength: 6.3\" role=\"graphics-symbol\" aria-roledescription=\"circle\" transform=\"translate(180,61.53846153846154)\" d=\"M9.077564316106136,0A9.077564316106136,9.077564316106136,0,1,1,-9.077564316106136,0A9.077564316106136,9.077564316106136,0,1,1,9.077564316106136,0\" fill=\"#e45756\" stroke-width=\"2\" opacity=\"0.5\"></path><path aria-label=\"petalLength: 5.8; petalWidth: 1.8; species: virginica; Mean of petalLength: 5.8\" role=\"graphics-symbol\" aria-roledescription=\"circle\" transform=\"translate(165.7142857142857,61.53846153846154)\" d=\"M8.709897751442304,0A8.709897751442304,8.709897751442304,0,1,1,-8.709897751442304,0A8.709897751442304,8.709897751442304,0,1,1,8.709897751442304,0\" fill=\"#e45756\" stroke-width=\"2\" opacity=\"0.5\"></path><path aria-label=\"petalLength: 6.1; petalWidth: 2.5; species: virginica; Mean of petalLength: 6.1\" role=\"graphics-symbol\" aria-roledescription=\"circle\" transform=\"translate(174.28571428571428,7.692307692307709)\" d=\"M8.932313915445313,0A8.932313915445313,8.932313915445313,0,1,1,-8.932313915445313,0A8.932313915445313,8.932313915445313,0,1,1,8.932313915445313,0\" fill=\"#e45756\" stroke-width=\"2\" opacity=\"0.5\"></path><path aria-label=\"petalLength: 5.1; petalWidth: 2; species: virginica; Mean of petalLength: 5.1\" role=\"graphics-symbol\" aria-roledescription=\"circle\" transform=\"translate(145.7142857142857,46.15384615384617)\" d=\"M8.167406059400404,0A8.167406059400404,8.167406059400404,0,1,1,-8.167406059400404,0A8.167406059400404,8.167406059400404,0,1,1,8.167406059400404,0\" fill=\"#e45756\" stroke-width=\"2\" opacity=\"0.5\"></path><path aria-label=\"petalLength: 5.3; petalWidth: 1.9; species: virginica; Mean of petalLength: 5.3\" role=\"graphics-symbol\" aria-roledescription=\"circle\" transform=\"translate(151.42857142857142,53.846153846153854)\" d=\"M8.326011276002209,0A8.326011276002209,8.326011276002209,0,1,1,-8.326011276002209,0A8.326011276002209,8.326011276002209,0,1,1,8.326011276002209,0\" fill=\"#e45756\" stroke-width=\"2\" opacity=\"0.5\"></path><path aria-label=\"petalLength: 5.5; petalWidth: 2.1; species: virginica; Mean of petalLength: 5.5\" role=\"graphics-symbol\" aria-roledescription=\"circle\" transform=\"translate(157.14285714285714,38.46153846153846)\" d=\"M8.481651124462822,0A8.481651124462822,8.481651124462822,0,1,1,-8.481651124462822,0A8.481651124462822,8.481651124462822,0,1,1,8.481651124462822,0\" fill=\"#e45756\" stroke-width=\"2\" opacity=\"0.5\"></path><path aria-label=\"petalLength: 5; petalWidth: 2; species: virginica; Mean of petalLength: 5\" role=\"graphics-symbol\" aria-roledescription=\"circle\" transform=\"translate(142.85714285714286,46.15384615384617)\" d=\"M8.086937042208111,0A8.086937042208111,8.086937042208111,0,1,1,-8.086937042208111,0A8.086937042208111,8.086937042208111,0,1,1,8.086937042208111,0\" fill=\"#e45756\" stroke-width=\"2\" opacity=\"0.5\"></path><path aria-label=\"petalLength: 5.1; petalWidth: 2.4; species: virginica; Mean of petalLength: 5.1\" role=\"graphics-symbol\" aria-roledescription=\"circle\" transform=\"translate(145.7142857142857,15.384615384615397)\" d=\"M8.167406059400404,0A8.167406059400404,8.167406059400404,0,1,1,-8.167406059400404,0A8.167406059400404,8.167406059400404,0,1,1,8.167406059400404,0\" fill=\"#e45756\" stroke-width=\"2\" opacity=\"0.5\"></path><path aria-label=\"petalLength: 5.3; petalWidth: 2.3; species: virginica; Mean of petalLength: 5.3\" role=\"graphics-symbol\" aria-roledescription=\"circle\" transform=\"translate(151.42857142857142,23.076923076923105)\" d=\"M8.326011276002209,0A8.326011276002209,8.326011276002209,0,1,1,-8.326011276002209,0A8.326011276002209,8.326011276002209,0,1,1,8.326011276002209,0\" fill=\"#e45756\" stroke-width=\"2\" opacity=\"0.5\"></path><path aria-label=\"petalLength: 5.5; petalWidth: 1.8; species: virginica; Mean of petalLength: 5.5\" role=\"graphics-symbol\" aria-roledescription=\"circle\" transform=\"translate(157.14285714285714,61.53846153846154)\" d=\"M8.481651124462822,0A8.481651124462822,8.481651124462822,0,1,1,-8.481651124462822,0A8.481651124462822,8.481651124462822,0,1,1,8.481651124462822,0\" fill=\"#e45756\" stroke-width=\"2\" opacity=\"0.5\"></path><path aria-label=\"petalLength: 6.7; petalWidth: 2.2; species: virginica; Mean of petalLength: 6.7\" role=\"graphics-symbol\" aria-roledescription=\"circle\" transform=\"translate(191.42857142857144,30.76923076923077)\" d=\"M9.361306424373389,0A9.361306424373389,9.361306424373389,0,1,1,-9.361306424373389,0A9.361306424373389,9.361306424373389,0,1,1,9.361306424373389,0\" fill=\"#e45756\" stroke-width=\"2\" opacity=\"0.5\"></path><path aria-label=\"petalLength: 6.9; petalWidth: 2.3; species: virginica; Mean of petalLength: 6.9\" role=\"graphics-symbol\" aria-roledescription=\"circle\" transform=\"translate(197.14285714285717,23.076923076923105)\" d=\"M9.5,0A9.5,9.5,0,1,1,-9.5,0A9.5,9.5,0,1,1,9.5,0\" fill=\"#e45756\" stroke-width=\"2\" opacity=\"0.5\"></path><path aria-label=\"petalLength: 5; petalWidth: 1.5; species: virginica; Mean of petalLength: 5\" role=\"graphics-symbol\" aria-roledescription=\"circle\" transform=\"translate(142.85714285714286,84.61538461538463)\" d=\"M8.086937042208111,0A8.086937042208111,8.086937042208111,0,1,1,-8.086937042208111,0A8.086937042208111,8.086937042208111,0,1,1,8.086937042208111,0\" fill=\"#e45756\" stroke-width=\"2\" opacity=\"0.5\"></path><path aria-label=\"petalLength: 5.7; petalWidth: 2.3; species: virginica; Mean of petalLength: 5.7\" role=\"graphics-symbol\" aria-roledescription=\"circle\" transform=\"translate(162.85714285714286,23.076923076923105)\" d=\"M8.634485961890665,0A8.634485961890665,8.634485961890665,0,1,1,-8.634485961890665,0A8.634485961890665,8.634485961890665,0,1,1,8.634485961890665,0\" fill=\"#e45756\" stroke-width=\"2\" opacity=\"0.5\"></path><path aria-label=\"petalLength: 4.9; petalWidth: 2; species: virginica; Mean of petalLength: 4.9\" role=\"graphics-symbol\" aria-roledescription=\"circle\" transform=\"translate(140,46.15384615384617)\" d=\"M8.005659230203653,0A8.005659230203653,8.005659230203653,0,1,1,-8.005659230203653,0A8.005659230203653,8.005659230203653,0,1,1,8.005659230203653,0\" fill=\"#e45756\" stroke-width=\"2\" opacity=\"0.5\"></path><path aria-label=\"petalLength: 6.7; petalWidth: 2; species: virginica; Mean of petalLength: 6.7\" role=\"graphics-symbol\" aria-roledescription=\"circle\" transform=\"translate(191.42857142857144,46.15384615384617)\" d=\"M9.361306424373389,0A9.361306424373389,9.361306424373389,0,1,1,-9.361306424373389,0A9.361306424373389,9.361306424373389,0,1,1,9.361306424373389,0\" fill=\"#e45756\" stroke-width=\"2\" opacity=\"0.5\"></path><path aria-label=\"petalLength: 4.9; petalWidth: 1.8; species: virginica; Mean of petalLength: 4.9\" role=\"graphics-symbol\" aria-roledescription=\"circle\" transform=\"translate(140,61.53846153846154)\" d=\"M8.005659230203653,0A8.005659230203653,8.005659230203653,0,1,1,-8.005659230203653,0A8.005659230203653,8.005659230203653,0,1,1,8.005659230203653,0\" fill=\"#e45756\" stroke-width=\"2\" opacity=\"0.5\"></path><path aria-label=\"petalLength: 5.7; petalWidth: 2.1; species: virginica; Mean of petalLength: 5.7\" role=\"graphics-symbol\" aria-roledescription=\"circle\" transform=\"translate(162.85714285714286,38.46153846153846)\" d=\"M8.634485961890665,0A8.634485961890665,8.634485961890665,0,1,1,-8.634485961890665,0A8.634485961890665,8.634485961890665,0,1,1,8.634485961890665,0\" fill=\"#e45756\" stroke-width=\"2\" opacity=\"0.5\"></path><path aria-label=\"petalLength: 6; petalWidth: 1.8; species: virginica; Mean of petalLength: 6\" role=\"graphics-symbol\" aria-roledescription=\"circle\" transform=\"translate(171.42857142857142,61.53846153846154)\" d=\"M8.85879567828298,0A8.85879567828298,8.85879567828298,0,1,1,-8.85879567828298,0A8.85879567828298,8.85879567828298,0,1,1,8.85879567828298,0\" fill=\"#e45756\" stroke-width=\"2\" opacity=\"0.5\"></path><path aria-label=\"petalLength: 4.8; petalWidth: 1.8; species: virginica; Mean of petalLength: 4.8\" role=\"graphics-symbol\" aria-roledescription=\"circle\" transform=\"translate(137.14285714285714,61.53846153846154)\" d=\"M7.9235477341688405,0A7.9235477341688405,7.9235477341688405,0,1,1,-7.9235477341688405,0A7.9235477341688405,7.9235477341688405,0,1,1,7.9235477341688405,0\" fill=\"#e45756\" stroke-width=\"2\" opacity=\"0.5\"></path><path aria-label=\"petalLength: 5.6; petalWidth: 2.1; species: virginica; Mean of petalLength: 5.6\" role=\"graphics-symbol\" aria-roledescription=\"circle\" transform=\"translate(160,38.46153846153846)\" d=\"M8.558409712767565,0A8.558409712767565,8.558409712767565,0,1,1,-8.558409712767565,0A8.558409712767565,8.558409712767565,0,1,1,8.558409712767565,0\" fill=\"#e45756\" stroke-width=\"2\" opacity=\"0.5\"></path><path aria-label=\"petalLength: 5.8; petalWidth: 1.6; species: virginica; Mean of petalLength: 5.8\" role=\"graphics-symbol\" aria-roledescription=\"circle\" transform=\"translate(165.7142857142857,76.92307692307692)\" d=\"M8.709897751442304,0A8.709897751442304,8.709897751442304,0,1,1,-8.709897751442304,0A8.709897751442304,8.709897751442304,0,1,1,8.709897751442304,0\" fill=\"#e45756\" stroke-width=\"2\" opacity=\"0.5\"></path><path aria-label=\"petalLength: 6.1; petalWidth: 1.9; species: virginica; Mean of petalLength: 6.1\" role=\"graphics-symbol\" aria-roledescription=\"circle\" transform=\"translate(174.28571428571428,53.846153846153854)\" d=\"M8.932313915445313,0A8.932313915445313,8.932313915445313,0,1,1,-8.932313915445313,0A8.932313915445313,8.932313915445313,0,1,1,8.932313915445313,0\" fill=\"#e45756\" stroke-width=\"2\" opacity=\"0.5\"></path><path aria-label=\"petalLength: 6.4; petalWidth: 2; species: virginica; Mean of petalLength: 6.4\" role=\"graphics-symbol\" aria-roledescription=\"circle\" transform=\"translate(182.85714285714286,46.15384615384617)\" d=\"M9.14932483451846,0A9.14932483451846,9.14932483451846,0,1,1,-9.14932483451846,0A9.14932483451846,9.14932483451846,0,1,1,9.14932483451846,0\" fill=\"#e45756\" stroke-width=\"2\" opacity=\"0.5\"></path><path aria-label=\"petalLength: 5.6; petalWidth: 2.2; species: virginica; Mean of petalLength: 5.6\" role=\"graphics-symbol\" aria-roledescription=\"circle\" transform=\"translate(160,30.76923076923077)\" d=\"M8.558409712767565,0A8.558409712767565,8.558409712767565,0,1,1,-8.558409712767565,0A8.558409712767565,8.558409712767565,0,1,1,8.558409712767565,0\" fill=\"#e45756\" stroke-width=\"2\" opacity=\"0.5\"></path><path aria-label=\"petalLength: 5.1; petalWidth: 1.5; species: virginica; Mean of petalLength: 5.1\" role=\"graphics-symbol\" aria-roledescription=\"circle\" transform=\"translate(145.7142857142857,84.61538461538463)\" d=\"M8.167406059400404,0A8.167406059400404,8.167406059400404,0,1,1,-8.167406059400404,0A8.167406059400404,8.167406059400404,0,1,1,8.167406059400404,0\" fill=\"#e45756\" stroke-width=\"2\" opacity=\"0.5\"></path><path aria-label=\"petalLength: 5.6; petalWidth: 1.4; species: virginica; Mean of petalLength: 5.6\" role=\"graphics-symbol\" aria-roledescription=\"circle\" transform=\"translate(160,92.3076923076923)\" d=\"M8.558409712767565,0A8.558409712767565,8.558409712767565,0,1,1,-8.558409712767565,0A8.558409712767565,8.558409712767565,0,1,1,8.558409712767565,0\" fill=\"#e45756\" stroke-width=\"2\" opacity=\"0.5\"></path><path aria-label=\"petalLength: 6.1; petalWidth: 2.3; species: virginica; Mean of petalLength: 6.1\" role=\"graphics-symbol\" aria-roledescription=\"circle\" transform=\"translate(174.28571428571428,23.076923076923105)\" d=\"M8.932313915445313,0A8.932313915445313,8.932313915445313,0,1,1,-8.932313915445313,0A8.932313915445313,8.932313915445313,0,1,1,8.932313915445313,0\" fill=\"#e45756\" stroke-width=\"2\" opacity=\"0.5\"></path><path aria-label=\"petalLength: 5.6; petalWidth: 2.4; species: virginica; Mean of petalLength: 5.6\" role=\"graphics-symbol\" aria-roledescription=\"circle\" transform=\"translate(160,15.384615384615397)\" d=\"M8.558409712767565,0A8.558409712767565,8.558409712767565,0,1,1,-8.558409712767565,0A8.558409712767565,8.558409712767565,0,1,1,8.558409712767565,0\" fill=\"#e45756\" stroke-width=\"2\" opacity=\"0.5\"></path><path aria-label=\"petalLength: 5.4; petalWidth: 2.1; species: virginica; Mean of petalLength: 5.4\" role=\"graphics-symbol\" aria-roledescription=\"circle\" transform=\"translate(154.2857142857143,38.46153846153846)\" d=\"M8.404191500829137,0A8.404191500829137,8.404191500829137,0,1,1,-8.404191500829137,0A8.404191500829137,8.404191500829137,0,1,1,8.404191500829137,0\" fill=\"#e45756\" stroke-width=\"2\" opacity=\"0.5\"></path><path aria-label=\"petalLength: 5.1; petalWidth: 2.3; species: virginica; Mean of petalLength: 5.1\" role=\"graphics-symbol\" aria-roledescription=\"circle\" transform=\"translate(145.7142857142857,23.076923076923105)\" d=\"M8.167406059400404,0A8.167406059400404,8.167406059400404,0,1,1,-8.167406059400404,0A8.167406059400404,8.167406059400404,0,1,1,8.167406059400404,0\" fill=\"#e45756\" stroke-width=\"2\" opacity=\"0.5\"></path><path aria-label=\"petalLength: 5.9; petalWidth: 2.3; species: virginica; Mean of petalLength: 5.9\" role=\"graphics-symbol\" aria-roledescription=\"circle\" transform=\"translate(168.57142857142858,23.076923076923105)\" d=\"M8.784662193566266,0A8.784662193566266,8.784662193566266,0,1,1,-8.784662193566266,0A8.784662193566266,8.784662193566266,0,1,1,8.784662193566266,0\" fill=\"#e45756\" stroke-width=\"2\" opacity=\"0.5\"></path><path aria-label=\"petalLength: 5.7; petalWidth: 2.5; species: virginica; Mean of petalLength: 5.7\" role=\"graphics-symbol\" aria-roledescription=\"circle\" transform=\"translate(162.85714285714286,7.692307692307709)\" d=\"M8.634485961890665,0A8.634485961890665,8.634485961890665,0,1,1,-8.634485961890665,0A8.634485961890665,8.634485961890665,0,1,1,8.634485961890665,0\" fill=\"#e45756\" stroke-width=\"2\" opacity=\"0.5\"></path><path aria-label=\"petalLength: 5.2; petalWidth: 2.3; species: virginica; Mean of petalLength: 5.2\" role=\"graphics-symbol\" aria-roledescription=\"circle\" transform=\"translate(148.57142857142858,23.076923076923105)\" d=\"M8.247089956683096,0A8.247089956683096,8.247089956683096,0,1,1,-8.247089956683096,0A8.247089956683096,8.247089956683096,0,1,1,8.247089956683096,0\" fill=\"#e45756\" stroke-width=\"2\" opacity=\"0.5\"></path><path aria-label=\"petalLength: 5; petalWidth: 1.9; species: virginica; Mean of petalLength: 5\" role=\"graphics-symbol\" aria-roledescription=\"circle\" transform=\"translate(142.85714285714286,53.846153846153854)\" d=\"M8.086937042208111,0A8.086937042208111,8.086937042208111,0,1,1,-8.086937042208111,0A8.086937042208111,8.086937042208111,0,1,1,8.086937042208111,0\" fill=\"#e45756\" stroke-width=\"2\" opacity=\"0.5\"></path><path aria-label=\"petalLength: 5.2; petalWidth: 2; species: virginica; Mean of petalLength: 5.2\" role=\"graphics-symbol\" aria-roledescription=\"circle\" transform=\"translate(148.57142857142858,46.15384615384617)\" d=\"M8.247089956683096,0A8.247089956683096,8.247089956683096,0,1,1,-8.247089956683096,0A8.247089956683096,8.247089956683096,0,1,1,8.247089956683096,0\" fill=\"#e45756\" stroke-width=\"2\" opacity=\"0.5\"></path><path aria-label=\"petalLength: 5.4; petalWidth: 2.3; species: virginica; Mean of petalLength: 5.4\" role=\"graphics-symbol\" aria-roledescription=\"circle\" transform=\"translate(154.2857142857143,23.076923076923105)\" d=\"M8.404191500829137,0A8.404191500829137,8.404191500829137,0,1,1,-8.404191500829137,0A8.404191500829137,8.404191500829137,0,1,1,8.404191500829137,0\" fill=\"#e45756\" stroke-width=\"2\" opacity=\"0.5\"></path><path aria-label=\"petalLength: 5.1; petalWidth: 1.8; species: virginica; Mean of petalLength: 5.1\" role=\"graphics-symbol\" aria-roledescription=\"circle\" transform=\"translate(145.7142857142857,61.53846153846154)\" d=\"M8.167406059400404,0A8.167406059400404,8.167406059400404,0,1,1,-8.167406059400404,0A8.167406059400404,8.167406059400404,0,1,1,8.167406059400404,0\" fill=\"#e45756\" stroke-width=\"2\" opacity=\"0.5\"></path></g><g class=\"mark-group role-legend\" role=\"graphics-symbol\" aria-roledescription=\"legend\" aria-label=\"Symbol legend titled 'species' for fill color with 3 values: setosa, versicolor, virginica\"><g transform=\"translate(218,0)\"><path class=\"background\" aria-hidden=\"true\" d=\"M0,0h65v53h-65Z\" pointer-events=\"none\"></path><g><g class=\"mark-group role-legend-entry\"><g transform=\"translate(0,16)\"><path class=\"background\" aria-hidden=\"true\" d=\"M0,0h0v0h0Z\" pointer-events=\"none\"></path><g><g class=\"mark-group role-scope\" role=\"graphics-object\" aria-roledescription=\"group mark container\"><g transform=\"translate(0,0)\"><path class=\"background\" aria-hidden=\"true\" d=\"M0,0h65v11h-65Z\" pointer-events=\"none\" opacity=\"1\"></path><g><g class=\"mark-symbol role-legend-symbol\" pointer-events=\"none\"><path transform=\"translate(6,6)\" d=\"M5,0A5,5,0,1,1,-5,0A5,5,0,1,1,5,0\" fill=\"#4c78a8\" stroke-width=\"1.5\" opacity=\"0.5\"></path></g><g class=\"mark-text role-legend-label\" pointer-events=\"none\"><text text-anchor=\"start\" transform=\"translate(16,9)\" font-family=\"sans-serif\" font-size=\"10px\" fill=\"#000\" opacity=\"1\">setosa</text></g></g><path class=\"foreground\" aria-hidden=\"true\" d=\"\" pointer-events=\"none\" display=\"none\"></path></g><g transform=\"translate(0,13)\"><path class=\"background\" aria-hidden=\"true\" d=\"M0,0h65v11h-65Z\" pointer-events=\"none\" opacity=\"1\"></path><g><g class=\"mark-symbol role-legend-symbol\" pointer-events=\"none\"><path transform=\"translate(6,6)\" d=\"M5,0A5,5,0,1,1,-5,0A5,5,0,1,1,5,0\" fill=\"#f58518\" stroke-width=\"1.5\" opacity=\"0.5\"></path></g><g class=\"mark-text role-legend-label\" pointer-events=\"none\"><text text-anchor=\"start\" transform=\"translate(16,9)\" font-family=\"sans-serif\" font-size=\"10px\" fill=\"#000\" opacity=\"1\">versicolor</text></g></g><path class=\"foreground\" aria-hidden=\"true\" d=\"\" pointer-events=\"none\" display=\"none\"></path></g><g transform=\"translate(0,26)\"><path class=\"background\" aria-hidden=\"true\" d=\"M0,0h65v11h-65Z\" pointer-events=\"none\" opacity=\"1\"></path><g><g class=\"mark-symbol role-legend-symbol\" pointer-events=\"none\"><path transform=\"translate(6,6)\" d=\"M5,0A5,5,0,1,1,-5,0A5,5,0,1,1,5,0\" fill=\"#e45756\" stroke-width=\"1.5\" opacity=\"0.5\"></path></g><g class=\"mark-text role-legend-label\" pointer-events=\"none\"><text text-anchor=\"start\" transform=\"translate(16,9)\" font-family=\"sans-serif\" font-size=\"10px\" fill=\"#000\" opacity=\"1\">virginica</text></g></g><path class=\"foreground\" aria-hidden=\"true\" d=\"\" pointer-events=\"none\" display=\"none\"></path></g></g></g><path class=\"foreground\" aria-hidden=\"true\" d=\"\" pointer-events=\"none\" display=\"none\"></path></g></g><g class=\"mark-text role-legend-title\" pointer-events=\"none\"><text text-anchor=\"start\" transform=\"translate(0,9)\" font-family=\"sans-serif\" font-size=\"11px\" font-weight=\"bold\" fill=\"#000\" opacity=\"1\">species</text></g></g><path class=\"foreground\" aria-hidden=\"true\" d=\"\" pointer-events=\"none\" display=\"none\"></path></g></g><g class=\"mark-group role-legend\" role=\"graphics-symbol\" aria-roledescription=\"legend\" aria-label=\"Symbol legend titled 'Mean of petalLength' for size with values from 0 to 7\"><g transform=\"translate(218,61)\"><path class=\"background\" aria-hidden=\"true\" d=\"M0,0h128v128h-128Z\" pointer-events=\"none\"></path><g><g class=\"mark-group role-legend-entry\"><g transform=\"translate(0,16)\"><path class=\"background\" aria-hidden=\"true\" d=\"M0,0h0v0h0Z\" pointer-events=\"none\"></path><g><g class=\"mark-group role-scope\" role=\"graphics-object\" aria-roledescription=\"group mark container\"><g transform=\"translate(0,0)\"><path class=\"background\" aria-hidden=\"true\" d=\"M0,0h30v10.116588191227684h-30Z\" pointer-events=\"none\" opacity=\"1\"></path><g><g class=\"mark-symbol role-legend-symbol\" pointer-events=\"none\"><path transform=\"translate(10,5)\" d=\"M3.616588191227685,0A3.616588191227685,3.616588191227685,0,1,1,-3.616588191227685,0A3.616588191227685,3.616588191227685,0,1,1,3.616588191227685,0\" fill=\"black\" fill-opacity=\"0.5\" stroke-width=\"1.5\" opacity=\"0.5\"></path></g><g class=\"mark-text role-legend-label\" pointer-events=\"none\"><text text-anchor=\"start\" transform=\"translate(24,8)\" font-family=\"sans-serif\" font-size=\"10px\" fill=\"#000\" opacity=\"1\">1</text></g></g><path class=\"foreground\" aria-hidden=\"true\" d=\"\" pointer-events=\"none\" display=\"none\"></path></g><g transform=\"translate(0,14)\"><path class=\"background\" aria-hidden=\"true\" d=\"M0,0h30v12.614628069552573h-30Z\" pointer-events=\"none\" opacity=\"1\"></path><g><g class=\"mark-symbol role-legend-symbol\" pointer-events=\"none\"><path transform=\"translate(10,6)\" d=\"M5.114628069552572,0A5.114628069552572,5.114628069552572,0,1,1,-5.114628069552572,0A5.114628069552572,5.114628069552572,0,1,1,5.114628069552572,0\" fill=\"black\" fill-opacity=\"0.5\" stroke-width=\"1.5\" opacity=\"0.5\"></path></g><g class=\"mark-text role-legend-label\" pointer-events=\"none\"><text text-anchor=\"start\" transform=\"translate(24,9)\" font-family=\"sans-serif\" font-size=\"10px\" fill=\"#000\" opacity=\"1\">2</text></g></g><path class=\"foreground\" aria-hidden=\"true\" d=\"\" pointer-events=\"none\" display=\"none\"></path></g><g transform=\"translate(0,30)\"><path class=\"background\" aria-hidden=\"true\" d=\"M0,0h30v15.264114497259975h-30Z\" pointer-events=\"none\" opacity=\"1\"></path><g><g class=\"mark-symbol role-legend-symbol\" pointer-events=\"none\"><path transform=\"translate(10,7.5)\" d=\"M6.2641144972599765,0A6.2641144972599765,6.2641144972599765,0,1,1,-6.2641144972599765,0A6.2641144972599765,6.2641144972599765,0,1,1,6.2641144972599765,0\" fill=\"black\" fill-opacity=\"0.5\" stroke-width=\"1.5\" opacity=\"0.5\"></path></g><g class=\"mark-text role-legend-label\" pointer-events=\"none\"><text text-anchor=\"start\" transform=\"translate(24,10.5)\" font-family=\"sans-serif\" font-size=\"10px\" fill=\"#000\" opacity=\"1\">3</text></g></g><path class=\"foreground\" aria-hidden=\"true\" d=\"\" pointer-events=\"none\" display=\"none\"></path></g><g transform=\"translate(0,49)\"><path class=\"background\" aria-hidden=\"true\" d=\"M0,0h30v16.73317638245537h-30Z\" pointer-events=\"none\" opacity=\"1\"></path><g><g class=\"mark-symbol role-legend-symbol\" pointer-events=\"none\"><path transform=\"translate(10,8)\" d=\"M7.23317638245537,0A7.23317638245537,7.23317638245537,0,1,1,-7.23317638245537,0A7.23317638245537,7.23317638245537,0,1,1,7.23317638245537,0\" fill=\"black\" fill-opacity=\"0.5\" stroke-width=\"1.5\" opacity=\"0.5\"></path></g><g class=\"mark-text role-legend-label\" pointer-events=\"none\"><text text-anchor=\"start\" transform=\"translate(24,11)\" font-family=\"sans-serif\" font-size=\"10px\" fill=\"#000\" opacity=\"1\">4</text></g></g><path class=\"foreground\" aria-hidden=\"true\" d=\"\" pointer-events=\"none\" display=\"none\"></path></g><g transform=\"translate(0,69)\"><path class=\"background\" aria-hidden=\"true\" d=\"M0,0h30v18.58693704220812h-30Z\" pointer-events=\"none\" opacity=\"1\"></path><g><g class=\"mark-symbol role-legend-symbol\" pointer-events=\"none\"><path transform=\"translate(10,9)\" d=\"M8.086937042208111,0A8.086937042208111,8.086937042208111,0,1,1,-8.086937042208111,0A8.086937042208111,8.086937042208111,0,1,1,8.086937042208111,0\" fill=\"black\" fill-opacity=\"0.5\" stroke-width=\"1.5\" opacity=\"0.5\"></path></g><g class=\"mark-text role-legend-label\" pointer-events=\"none\"><text text-anchor=\"start\" transform=\"translate(24,12)\" font-family=\"sans-serif\" font-size=\"10px\" fill=\"#000\" opacity=\"1\">5</text></g></g><path class=\"foreground\" aria-hidden=\"true\" d=\"\" pointer-events=\"none\" display=\"none\"></path></g><g transform=\"translate(0,91)\"><path class=\"background\" aria-hidden=\"true\" d=\"M0,0h30v20.358795678282974h-30Z\" pointer-events=\"none\" opacity=\"1\"></path><g><g class=\"mark-symbol role-legend-symbol\" pointer-events=\"none\"><path transform=\"translate(10,10)\" d=\"M8.85879567828298,0A8.85879567828298,8.85879567828298,0,1,1,-8.85879567828298,0A8.85879567828298,8.85879567828298,0,1,1,8.85879567828298,0\" fill=\"black\" fill-opacity=\"0.5\" stroke-width=\"1.5\" opacity=\"0.5\"></path></g><g class=\"mark-text role-legend-label\" pointer-events=\"none\"><text text-anchor=\"start\" transform=\"translate(24,13)\" font-family=\"sans-serif\" font-size=\"10px\" fill=\"#000\" opacity=\"1\">6</text></g></g><path class=\"foreground\" aria-hidden=\"true\" d=\"\" pointer-events=\"none\" display=\"none\"></path></g></g></g><path class=\"foreground\" aria-hidden=\"true\" d=\"\" pointer-events=\"none\" display=\"none\"></path></g></g><g class=\"mark-text role-legend-title\" pointer-events=\"none\"><text text-anchor=\"start\" transform=\"translate(0,9)\" font-family=\"sans-serif\" font-size=\"11px\" font-weight=\"bold\" fill=\"#000\" opacity=\"1\">Mean of petalLength</text></g></g><path class=\"foreground\" aria-hidden=\"true\" d=\"\" pointer-events=\"none\" display=\"none\"></path></g></g></g><path class=\"foreground\" aria-hidden=\"true\" d=\"\" display=\"none\"></path></g></g></g></svg>\n"
      ],
      "text/plain": [
       "@vlplot(\n",
       "    data={\n",
       "        values=...\n",
       "    },\n",
       "    mark={\n",
       "        type=\"circle\",\n",
       "        opacity=0.5\n",
       "    },\n",
       "    encoding={\n",
       "        x={\n",
       "            field=\"petalLength\",\n",
       "            type=\"quantitative\"\n",
       "        },\n",
       "        y={\n",
       "            field=\"petalWidth\",\n",
       "            type=\"quantitative\"\n",
       "        },\n",
       "        color={\n",
       "            field=\"species\",\n",
       "            type=\"nominal\"\n",
       "        },\n",
       "        size={\n",
       "            field=\"petalLength\",\n",
       "            type=\"quantitative\",\n",
       "            aggregate=\"mean\"\n",
       "        }\n",
       "    }\n",
       ")"
      ]
     },
     "execution_count": 460,
     "metadata": {},
     "output_type": "execute_result"
    }
   ],
   "source": [
    "s = scatterplot(df,:petalLength,:petalWidth,zcolor=:species,zsize=:petalLength,size_agg=\"mean\",opacity=0.5)"
   ]
  },
  {
   "cell_type": "markdown",
   "id": "1efb679a-1b9d-4726-86a3-a64ad51b2150",
   "metadata": {},
   "source": [
    "## Lineplot"
   ]
  },
  {
   "cell_type": "code",
   "execution_count": 451,
   "id": "01fbdc82-8be8-4391-9bbd-34b03865bd81",
   "metadata": {},
   "outputs": [
    {
     "data": {
      "application/vnd.vegalite.v4+json": {
       "data": {
        "values": [
         {
          "x": 1,
          "y": 1
         },
         {
          "x": 2,
          "y": 4
         },
         {
          "x": 3,
          "y": 9
         },
         {
          "x": 4,
          "y": 16
         },
         {
          "x": 5,
          "y": 25
         },
         {
          "x": 6,
          "y": 36
         },
         {
          "x": 7,
          "y": 49
         },
         {
          "x": 8,
          "y": 64
         },
         {
          "x": 9,
          "y": 81
         },
         {
          "x": 10,
          "y": 100
         }
        ]
       },
       "encoding": {
        "x": {
         "field": "x",
         "type": "ordinal"
        },
        "y": {
         "field": "y",
         "type": "quantitative"
        }
       },
       "mark": {
        "type": "line"
       }
      },
      "image/png": "[encoded data removed]",
      "image/svg+xml": [
       "<?xml version=\"1.0\" encoding=\"utf-8\"?>\n",
       "<!DOCTYPE svg PUBLIC \"-//W3C//DTD SVG 1.1//EN\" \"http://www.w3.org/Graphics/SVG/1.1/DTD/svg11.dtd\">\n",
       "<svg class=\"marks\" width=\"250\" height=\"249\" viewBox=\"0 0 250 249\" version=\"1.1\" xmlns=\"http://www.w3.org/2000/svg\" xmlns:xlink=\"http://www.w3.org/1999/xlink\"><rect width=\"250\" height=\"249\" fill=\"white\"></rect><g fill=\"none\" stroke-miterlimit=\"10\" transform=\"translate(45,10)\"><g class=\"mark-group role-frame root\" role=\"graphics-object\" aria-roledescription=\"group mark container\"><g transform=\"translate(0,0)\"><path class=\"background\" aria-hidden=\"true\" d=\"M0.5,0.5h200v200h-200Z\" stroke=\"#ddd\"></path><g><g class=\"mark-group role-axis\" aria-hidden=\"true\"><g transform=\"translate(0.5,0.5)\"><path class=\"background\" aria-hidden=\"true\" d=\"M0,0h0v0h0Z\" pointer-events=\"none\"></path><g><g class=\"mark-rule role-axis-grid\" pointer-events=\"none\"><line transform=\"translate(0,200)\" x2=\"200\" y2=\"0\" stroke=\"#ddd\" stroke-width=\"1\" opacity=\"1\"></line><line transform=\"translate(0,160)\" x2=\"200\" y2=\"0\" stroke=\"#ddd\" stroke-width=\"1\" opacity=\"1\"></line><line transform=\"translate(0,120)\" x2=\"200\" y2=\"0\" stroke=\"#ddd\" stroke-width=\"1\" opacity=\"1\"></line><line transform=\"translate(0,80)\" x2=\"200\" y2=\"0\" stroke=\"#ddd\" stroke-width=\"1\" opacity=\"1\"></line><line transform=\"translate(0,40)\" x2=\"200\" y2=\"0\" stroke=\"#ddd\" stroke-width=\"1\" opacity=\"1\"></line><line transform=\"translate(0,0)\" x2=\"200\" y2=\"0\" stroke=\"#ddd\" stroke-width=\"1\" opacity=\"1\"></line></g></g><path class=\"foreground\" aria-hidden=\"true\" d=\"\" pointer-events=\"none\" display=\"none\"></path></g></g><g class=\"mark-group role-axis\" role=\"graphics-symbol\" aria-roledescription=\"axis\" aria-label=\"X-axis titled 'x' for a discrete scale with 10 values: 1, 2, 3, 4, 5, ending with 10\"><g transform=\"translate(0.5,200.5)\"><path class=\"background\" aria-hidden=\"true\" d=\"M0,0h0v0h0Z\" pointer-events=\"none\"></path><g><g class=\"mark-rule role-axis-tick\" pointer-events=\"none\"><line transform=\"translate(10,0)\" x2=\"0\" y2=\"5\" stroke=\"#888\" stroke-width=\"1\" opacity=\"1\"></line><line transform=\"translate(30,0)\" x2=\"0\" y2=\"5\" stroke=\"#888\" stroke-width=\"1\" opacity=\"1\"></line><line transform=\"translate(50,0)\" x2=\"0\" y2=\"5\" stroke=\"#888\" stroke-width=\"1\" opacity=\"1\"></line><line transform=\"translate(70,0)\" x2=\"0\" y2=\"5\" stroke=\"#888\" stroke-width=\"1\" opacity=\"1\"></line><line transform=\"translate(90,0)\" x2=\"0\" y2=\"5\" stroke=\"#888\" stroke-width=\"1\" opacity=\"1\"></line><line transform=\"translate(110,0)\" x2=\"0\" y2=\"5\" stroke=\"#888\" stroke-width=\"1\" opacity=\"1\"></line><line transform=\"translate(130,0)\" x2=\"0\" y2=\"5\" stroke=\"#888\" stroke-width=\"1\" opacity=\"1\"></line><line transform=\"translate(150,0)\" x2=\"0\" y2=\"5\" stroke=\"#888\" stroke-width=\"1\" opacity=\"1\"></line><line transform=\"translate(170,0)\" x2=\"0\" y2=\"5\" stroke=\"#888\" stroke-width=\"1\" opacity=\"1\"></line><line transform=\"translate(190,0)\" x2=\"0\" y2=\"5\" stroke=\"#888\" stroke-width=\"1\" opacity=\"1\"></line></g><g class=\"mark-text role-axis-label\" pointer-events=\"none\"><text text-anchor=\"end\" transform=\"translate(10,7) rotate(270) translate(0,3)\" font-family=\"sans-serif\" font-size=\"10px\" fill=\"#000\" opacity=\"1\">1</text><text text-anchor=\"end\" transform=\"translate(30,7) rotate(270) translate(0,3)\" font-family=\"sans-serif\" font-size=\"10px\" fill=\"#000\" opacity=\"1\">2</text><text text-anchor=\"end\" transform=\"translate(50,7) rotate(270) translate(0,3)\" font-family=\"sans-serif\" font-size=\"10px\" fill=\"#000\" opacity=\"1\">3</text><text text-anchor=\"end\" transform=\"translate(70,7) rotate(270) translate(0,3)\" font-family=\"sans-serif\" font-size=\"10px\" fill=\"#000\" opacity=\"1\">4</text><text text-anchor=\"end\" transform=\"translate(90,7) rotate(270) translate(0,3)\" font-family=\"sans-serif\" font-size=\"10px\" fill=\"#000\" opacity=\"1\">5</text><text text-anchor=\"end\" transform=\"translate(110,7) rotate(270) translate(0,3)\" font-family=\"sans-serif\" font-size=\"10px\" fill=\"#000\" opacity=\"1\">6</text><text text-anchor=\"end\" transform=\"translate(130,7) rotate(270) translate(0,3)\" font-family=\"sans-serif\" font-size=\"10px\" fill=\"#000\" opacity=\"1\">7</text><text text-anchor=\"end\" transform=\"translate(150,7) rotate(270) translate(0,3)\" font-family=\"sans-serif\" font-size=\"10px\" fill=\"#000\" opacity=\"1\">8</text><text text-anchor=\"end\" transform=\"translate(170,7) rotate(270) translate(0,3)\" font-family=\"sans-serif\" font-size=\"10px\" fill=\"#000\" opacity=\"1\">9</text><text text-anchor=\"end\" transform=\"translate(190,7) rotate(270) translate(0,3)\" font-family=\"sans-serif\" font-size=\"10px\" fill=\"#000\" opacity=\"1\">10</text></g><g class=\"mark-rule role-axis-domain\" pointer-events=\"none\"><line transform=\"translate(0,0)\" x2=\"200\" y2=\"0\" stroke=\"#888\" stroke-width=\"1\" opacity=\"1\"></line></g><g class=\"mark-text role-axis-title\" pointer-events=\"none\"><text text-anchor=\"middle\" transform=\"translate(100,32)\" font-family=\"sans-serif\" font-size=\"11px\" font-weight=\"bold\" fill=\"#000\" opacity=\"1\">x</text></g></g><path class=\"foreground\" aria-hidden=\"true\" d=\"\" pointer-events=\"none\" display=\"none\"></path></g></g><g class=\"mark-group role-axis\" role=\"graphics-symbol\" aria-roledescription=\"axis\" aria-label=\"Y-axis titled 'y' for a linear scale with values from 0 to 100\"><g transform=\"translate(0.5,0.5)\"><path class=\"background\" aria-hidden=\"true\" d=\"M0,0h0v0h0Z\" pointer-events=\"none\"></path><g><g class=\"mark-rule role-axis-tick\" pointer-events=\"none\"><line transform=\"translate(0,200)\" x2=\"-5\" y2=\"0\" stroke=\"#888\" stroke-width=\"1\" opacity=\"1\"></line><line transform=\"translate(0,160)\" x2=\"-5\" y2=\"0\" stroke=\"#888\" stroke-width=\"1\" opacity=\"1\"></line><line transform=\"translate(0,120)\" x2=\"-5\" y2=\"0\" stroke=\"#888\" stroke-width=\"1\" opacity=\"1\"></line><line transform=\"translate(0,80)\" x2=\"-5\" y2=\"0\" stroke=\"#888\" stroke-width=\"1\" opacity=\"1\"></line><line transform=\"translate(0,40)\" x2=\"-5\" y2=\"0\" stroke=\"#888\" stroke-width=\"1\" opacity=\"1\"></line><line transform=\"translate(0,0)\" x2=\"-5\" y2=\"0\" stroke=\"#888\" stroke-width=\"1\" opacity=\"1\"></line></g><g class=\"mark-text role-axis-label\" pointer-events=\"none\"><text text-anchor=\"end\" transform=\"translate(-7,203)\" font-family=\"sans-serif\" font-size=\"10px\" fill=\"#000\" opacity=\"1\">0</text><text text-anchor=\"end\" transform=\"translate(-7,163)\" font-family=\"sans-serif\" font-size=\"10px\" fill=\"#000\" opacity=\"1\">20</text><text text-anchor=\"end\" transform=\"translate(-7,123)\" font-family=\"sans-serif\" font-size=\"10px\" fill=\"#000\" opacity=\"1\">40</text><text text-anchor=\"end\" transform=\"translate(-7,83)\" font-family=\"sans-serif\" font-size=\"10px\" fill=\"#000\" opacity=\"1\">60</text><text text-anchor=\"end\" transform=\"translate(-7,42.99999999999999)\" font-family=\"sans-serif\" font-size=\"10px\" fill=\"#000\" opacity=\"1\">80</text><text text-anchor=\"end\" transform=\"translate(-7,3)\" font-family=\"sans-serif\" font-size=\"10px\" fill=\"#000\" opacity=\"1\">100</text></g><g class=\"mark-rule role-axis-domain\" pointer-events=\"none\"><line transform=\"translate(0,200)\" x2=\"0\" y2=\"-200\" stroke=\"#888\" stroke-width=\"1\" opacity=\"1\"></line></g><g class=\"mark-text role-axis-title\" pointer-events=\"none\"><text text-anchor=\"middle\" transform=\"translate(-29,100) rotate(-90) translate(0,-2)\" font-family=\"sans-serif\" font-size=\"11px\" font-weight=\"bold\" fill=\"#000\" opacity=\"1\">y</text></g></g><path class=\"foreground\" aria-hidden=\"true\" d=\"\" pointer-events=\"none\" display=\"none\"></path></g></g><g class=\"mark-line role-mark marks\" role=\"graphics-object\" aria-roledescription=\"line mark container\"><path aria-label=\"x: 1; y: 1\" role=\"graphics-symbol\" aria-roledescription=\"line mark\" d=\"M10,198L30,192L50,182L70,168L90,150L110,128L130,102L150,72L170,37.999999999999986L190,0\" stroke=\"#4c78a8\" stroke-width=\"2\"></path></g></g><path class=\"foreground\" aria-hidden=\"true\" d=\"\" display=\"none\"></path></g></g></g></svg>\n"
      ],
      "text/plain": [
       "@vlplot(\n",
       "    data={\n",
       "        values=...\n",
       "    },\n",
       "    mark={\n",
       "        type=\"line\"\n",
       "    },\n",
       "    encoding={\n",
       "        x={\n",
       "            type=\"ordinal\",\n",
       "            field=\"x\"\n",
       "        },\n",
       "        y={\n",
       "            type=\"quantitative\",\n",
       "            field=\"y\"\n",
       "        }\n",
       "    }\n",
       ")"
      ]
     },
     "execution_count": 451,
     "metadata": {},
     "output_type": "execute_result"
    }
   ],
   "source": [
    "s = lineplot(x,y)"
   ]
  },
  {
   "cell_type": "markdown",
   "id": "0419969d-ef6d-4328-976e-5c45f8413d05",
   "metadata": {},
   "source": [
    "## Scatter + Line"
   ]
  },
  {
   "cell_type": "code",
   "execution_count": 434,
   "id": "f3b44de3-eaec-4290-808a-3309a026c696",
   "metadata": {},
   "outputs": [
    {
     "data": {
      "application/vnd.vegalite.v4+json": {
       "data": {
        "values": [
         {
          "petalLength": 1.4,
          "petalWidth": 0.2,
          "sepalLength": 5.1,
          "sepalWidth": 3.5,
          "species": "setosa"
         },
         {
          "petalLength": 1.4,
          "petalWidth": 0.2,
          "sepalLength": 4.9,
          "sepalWidth": 3,
          "species": "setosa"
         },
         {
          "petalLength": 1.3,
          "petalWidth": 0.2,
          "sepalLength": 4.7,
          "sepalWidth": 3.2,
          "species": "setosa"
         },
         {
          "petalLength": 1.5,
          "petalWidth": 0.2,
          "sepalLength": 4.6,
          "sepalWidth": 3.1,
          "species": "setosa"
         },
         {
          "petalLength": 1.4,
          "petalWidth": 0.2,
          "sepalLength": 5,
          "sepalWidth": 3.6,
          "species": "setosa"
         },
         {
          "petalLength": 1.7,
          "petalWidth": 0.4,
          "sepalLength": 5.4,
          "sepalWidth": 3.9,
          "species": "setosa"
         },
         {
          "petalLength": 1.4,
          "petalWidth": 0.3,
          "sepalLength": 4.6,
          "sepalWidth": 3.4,
          "species": "setosa"
         },
         {
          "petalLength": 1.5,
          "petalWidth": 0.2,
          "sepalLength": 5,
          "sepalWidth": 3.4,
          "species": "setosa"
         },
         {
          "petalLength": 1.4,
          "petalWidth": 0.2,
          "sepalLength": 4.4,
          "sepalWidth": 2.9,
          "species": "setosa"
         },
         {
          "petalLength": 1.5,
          "petalWidth": 0.1,
          "sepalLength": 4.9,
          "sepalWidth": 3.1,
          "species": "setosa"
         },
         {
          "petalLength": 1.5,
          "petalWidth": 0.2,
          "sepalLength": 5.4,
          "sepalWidth": 3.7,
          "species": "setosa"
         },
         {
          "petalLength": 1.6,
          "petalWidth": 0.2,
          "sepalLength": 4.8,
          "sepalWidth": 3.4,
          "species": "setosa"
         },
         {
          "petalLength": 1.4,
          "petalWidth": 0.1,
          "sepalLength": 4.8,
          "sepalWidth": 3,
          "species": "setosa"
         },
         {
          "petalLength": 1.1,
          "petalWidth": 0.1,
          "sepalLength": 4.3,
          "sepalWidth": 3,
          "species": "setosa"
         },
         {
          "petalLength": 1.2,
          "petalWidth": 0.2,
          "sepalLength": 5.8,
          "sepalWidth": 4,
          "species": "setosa"
         },
         {
          "petalLength": 1.5,
          "petalWidth": 0.4,
          "sepalLength": 5.7,
          "sepalWidth": 4.4,
          "species": "setosa"
         },
         {
          "petalLength": 1.3,
          "petalWidth": 0.4,
          "sepalLength": 5.4,
          "sepalWidth": 3.9,
          "species": "setosa"
         },
         {
          "petalLength": 1.4,
          "petalWidth": 0.3,
          "sepalLength": 5.1,
          "sepalWidth": 3.5,
          "species": "setosa"
         },
         {
          "petalLength": 1.7,
          "petalWidth": 0.3,
          "sepalLength": 5.7,
          "sepalWidth": 3.8,
          "species": "setosa"
         },
         {
          "petalLength": 1.5,
          "petalWidth": 0.3,
          "sepalLength": 5.1,
          "sepalWidth": 3.8,
          "species": "setosa"
         },
         {
          "petalLength": 1.7,
          "petalWidth": 0.2,
          "sepalLength": 5.4,
          "sepalWidth": 3.4,
          "species": "setosa"
         },
         {
          "petalLength": 1.5,
          "petalWidth": 0.4,
          "sepalLength": 5.1,
          "sepalWidth": 3.7,
          "species": "setosa"
         },
         {
          "petalLength": 1,
          "petalWidth": 0.2,
          "sepalLength": 4.6,
          "sepalWidth": 3.6,
          "species": "setosa"
         },
         {
          "petalLength": 1.7,
          "petalWidth": 0.5,
          "sepalLength": 5.1,
          "sepalWidth": 3.3,
          "species": "setosa"
         },
         {
          "petalLength": 1.9,
          "petalWidth": 0.2,
          "sepalLength": 4.8,
          "sepalWidth": 3.4,
          "species": "setosa"
         },
         {
          "petalLength": 1.6,
          "petalWidth": 0.2,
          "sepalLength": 5,
          "sepalWidth": 3,
          "species": "setosa"
         },
         {
          "petalLength": 1.6,
          "petalWidth": 0.4,
          "sepalLength": 5,
          "sepalWidth": 3.4,
          "species": "setosa"
         },
         {
          "petalLength": 1.5,
          "petalWidth": 0.2,
          "sepalLength": 5.2,
          "sepalWidth": 3.5,
          "species": "setosa"
         },
         {
          "petalLength": 1.4,
          "petalWidth": 0.2,
          "sepalLength": 5.2,
          "sepalWidth": 3.4,
          "species": "setosa"
         },
         {
          "petalLength": 1.6,
          "petalWidth": 0.2,
          "sepalLength": 4.7,
          "sepalWidth": 3.2,
          "species": "setosa"
         },
         {
          "petalLength": 1.6,
          "petalWidth": 0.2,
          "sepalLength": 4.8,
          "sepalWidth": 3.1,
          "species": "setosa"
         },
         {
          "petalLength": 1.5,
          "petalWidth": 0.4,
          "sepalLength": 5.4,
          "sepalWidth": 3.4,
          "species": "setosa"
         },
         {
          "petalLength": 1.5,
          "petalWidth": 0.1,
          "sepalLength": 5.2,
          "sepalWidth": 4.1,
          "species": "setosa"
         },
         {
          "petalLength": 1.4,
          "petalWidth": 0.2,
          "sepalLength": 5.5,
          "sepalWidth": 4.2,
          "species": "setosa"
         },
         {
          "petalLength": 1.5,
          "petalWidth": 0.2,
          "sepalLength": 4.9,
          "sepalWidth": 3.1,
          "species": "setosa"
         },
         {
          "petalLength": 1.2,
          "petalWidth": 0.2,
          "sepalLength": 5,
          "sepalWidth": 3.2,
          "species": "setosa"
         },
         {
          "petalLength": 1.3,
          "petalWidth": 0.2,
          "sepalLength": 5.5,
          "sepalWidth": 3.5,
          "species": "setosa"
         },
         {
          "petalLength": 1.4,
          "petalWidth": 0.1,
          "sepalLength": 4.9,
          "sepalWidth": 3.6,
          "species": "setosa"
         },
         {
          "petalLength": 1.3,
          "petalWidth": 0.2,
          "sepalLength": 4.4,
          "sepalWidth": 3,
          "species": "setosa"
         },
         {
          "petalLength": 1.5,
          "petalWidth": 0.2,
          "sepalLength": 5.1,
          "sepalWidth": 3.4,
          "species": "setosa"
         },
         {
          "petalLength": 1.3,
          "petalWidth": 0.3,
          "sepalLength": 5,
          "sepalWidth": 3.5,
          "species": "setosa"
         },
         {
          "petalLength": 1.3,
          "petalWidth": 0.3,
          "sepalLength": 4.5,
          "sepalWidth": 2.3,
          "species": "setosa"
         },
         {
          "petalLength": 1.3,
          "petalWidth": 0.2,
          "sepalLength": 4.4,
          "sepalWidth": 3.2,
          "species": "setosa"
         },
         {
          "petalLength": 1.6,
          "petalWidth": 0.6,
          "sepalLength": 5,
          "sepalWidth": 3.5,
          "species": "setosa"
         },
         {
          "petalLength": 1.9,
          "petalWidth": 0.4,
          "sepalLength": 5.1,
          "sepalWidth": 3.8,
          "species": "setosa"
         },
         {
          "petalLength": 1.4,
          "petalWidth": 0.3,
          "sepalLength": 4.8,
          "sepalWidth": 3,
          "species": "setosa"
         },
         {
          "petalLength": 1.6,
          "petalWidth": 0.2,
          "sepalLength": 5.1,
          "sepalWidth": 3.8,
          "species": "setosa"
         },
         {
          "petalLength": 1.4,
          "petalWidth": 0.2,
          "sepalLength": 4.6,
          "sepalWidth": 3.2,
          "species": "setosa"
         },
         {
          "petalLength": 1.5,
          "petalWidth": 0.2,
          "sepalLength": 5.3,
          "sepalWidth": 3.7,
          "species": "setosa"
         },
         {
          "petalLength": 1.4,
          "petalWidth": 0.2,
          "sepalLength": 5,
          "sepalWidth": 3.3,
          "species": "setosa"
         },
         {
          "petalLength": 4.7,
          "petalWidth": 1.4,
          "sepalLength": 7,
          "sepalWidth": 3.2,
          "species": "versicolor"
         },
         {
          "petalLength": 4.5,
          "petalWidth": 1.5,
          "sepalLength": 6.4,
          "sepalWidth": 3.2,
          "species": "versicolor"
         },
         {
          "petalLength": 4.9,
          "petalWidth": 1.5,
          "sepalLength": 6.9,
          "sepalWidth": 3.1,
          "species": "versicolor"
         },
         {
          "petalLength": 4,
          "petalWidth": 1.3,
          "sepalLength": 5.5,
          "sepalWidth": 2.3,
          "species": "versicolor"
         },
         {
          "petalLength": 4.6,
          "petalWidth": 1.5,
          "sepalLength": 6.5,
          "sepalWidth": 2.8,
          "species": "versicolor"
         },
         {
          "petalLength": 4.5,
          "petalWidth": 1.3,
          "sepalLength": 5.7,
          "sepalWidth": 2.8,
          "species": "versicolor"
         },
         {
          "petalLength": 4.7,
          "petalWidth": 1.6,
          "sepalLength": 6.3,
          "sepalWidth": 3.3,
          "species": "versicolor"
         },
         {
          "petalLength": 3.3,
          "petalWidth": 1,
          "sepalLength": 4.9,
          "sepalWidth": 2.4,
          "species": "versicolor"
         },
         {
          "petalLength": 4.6,
          "petalWidth": 1.3,
          "sepalLength": 6.6,
          "sepalWidth": 2.9,
          "species": "versicolor"
         },
         {
          "petalLength": 3.9,
          "petalWidth": 1.4,
          "sepalLength": 5.2,
          "sepalWidth": 2.7,
          "species": "versicolor"
         },
         {
          "petalLength": 3.5,
          "petalWidth": 1,
          "sepalLength": 5,
          "sepalWidth": 2,
          "species": "versicolor"
         },
         {
          "petalLength": 4.2,
          "petalWidth": 1.5,
          "sepalLength": 5.9,
          "sepalWidth": 3,
          "species": "versicolor"
         },
         {
          "petalLength": 4,
          "petalWidth": 1,
          "sepalLength": 6,
          "sepalWidth": 2.2,
          "species": "versicolor"
         },
         {
          "petalLength": 4.7,
          "petalWidth": 1.4,
          "sepalLength": 6.1,
          "sepalWidth": 2.9,
          "species": "versicolor"
         },
         {
          "petalLength": 3.6,
          "petalWidth": 1.3,
          "sepalLength": 5.6,
          "sepalWidth": 2.9,
          "species": "versicolor"
         },
         {
          "petalLength": 4.4,
          "petalWidth": 1.4,
          "sepalLength": 6.7,
          "sepalWidth": 3.1,
          "species": "versicolor"
         },
         {
          "petalLength": 4.5,
          "petalWidth": 1.5,
          "sepalLength": 5.6,
          "sepalWidth": 3,
          "species": "versicolor"
         },
         {
          "petalLength": 4.1,
          "petalWidth": 1,
          "sepalLength": 5.8,
          "sepalWidth": 2.7,
          "species": "versicolor"
         },
         {
          "petalLength": 4.5,
          "petalWidth": 1.5,
          "sepalLength": 6.2,
          "sepalWidth": 2.2,
          "species": "versicolor"
         },
         {
          "petalLength": 3.9,
          "petalWidth": 1.1,
          "sepalLength": 5.6,
          "sepalWidth": 2.5,
          "species": "versicolor"
         },
         {
          "petalLength": 4.8,
          "petalWidth": 1.8,
          "sepalLength": 5.9,
          "sepalWidth": 3.2,
          "species": "versicolor"
         },
         {
          "petalLength": 4,
          "petalWidth": 1.3,
          "sepalLength": 6.1,
          "sepalWidth": 2.8,
          "species": "versicolor"
         },
         {
          "petalLength": 4.9,
          "petalWidth": 1.5,
          "sepalLength": 6.3,
          "sepalWidth": 2.5,
          "species": "versicolor"
         },
         {
          "petalLength": 4.7,
          "petalWidth": 1.2,
          "sepalLength": 6.1,
          "sepalWidth": 2.8,
          "species": "versicolor"
         },
         {
          "petalLength": 4.3,
          "petalWidth": 1.3,
          "sepalLength": 6.4,
          "sepalWidth": 2.9,
          "species": "versicolor"
         },
         {
          "petalLength": 4.4,
          "petalWidth": 1.4,
          "sepalLength": 6.6,
          "sepalWidth": 3,
          "species": "versicolor"
         },
         {
          "petalLength": 4.8,
          "petalWidth": 1.4,
          "sepalLength": 6.8,
          "sepalWidth": 2.8,
          "species": "versicolor"
         },
         {
          "petalLength": 5,
          "petalWidth": 1.7,
          "sepalLength": 6.7,
          "sepalWidth": 3,
          "species": "versicolor"
         },
         {
          "petalLength": 4.5,
          "petalWidth": 1.5,
          "sepalLength": 6,
          "sepalWidth": 2.9,
          "species": "versicolor"
         },
         {
          "petalLength": 3.5,
          "petalWidth": 1,
          "sepalLength": 5.7,
          "sepalWidth": 2.6,
          "species": "versicolor"
         },
         {
          "petalLength": 3.8,
          "petalWidth": 1.1,
          "sepalLength": 5.5,
          "sepalWidth": 2.4,
          "species": "versicolor"
         },
         {
          "petalLength": 3.7,
          "petalWidth": 1,
          "sepalLength": 5.5,
          "sepalWidth": 2.4,
          "species": "versicolor"
         },
         {
          "petalLength": 3.9,
          "petalWidth": 1.2,
          "sepalLength": 5.8,
          "sepalWidth": 2.7,
          "species": "versicolor"
         },
         {
          "petalLength": 5.1,
          "petalWidth": 1.6,
          "sepalLength": 6,
          "sepalWidth": 2.7,
          "species": "versicolor"
         },
         {
          "petalLength": 4.5,
          "petalWidth": 1.5,
          "sepalLength": 5.4,
          "sepalWidth": 3,
          "species": "versicolor"
         },
         {
          "petalLength": 4.5,
          "petalWidth": 1.6,
          "sepalLength": 6,
          "sepalWidth": 3.4,
          "species": "versicolor"
         },
         {
          "petalLength": 4.7,
          "petalWidth": 1.5,
          "sepalLength": 6.7,
          "sepalWidth": 3.1,
          "species": "versicolor"
         },
         {
          "petalLength": 4.4,
          "petalWidth": 1.3,
          "sepalLength": 6.3,
          "sepalWidth": 2.3,
          "species": "versicolor"
         },
         {
          "petalLength": 4.1,
          "petalWidth": 1.3,
          "sepalLength": 5.6,
          "sepalWidth": 3,
          "species": "versicolor"
         },
         {
          "petalLength": 4,
          "petalWidth": 1.3,
          "sepalLength": 5.5,
          "sepalWidth": 2.5,
          "species": "versicolor"
         },
         {
          "petalLength": 4.4,
          "petalWidth": 1.2,
          "sepalLength": 5.5,
          "sepalWidth": 2.6,
          "species": "versicolor"
         },
         {
          "petalLength": 4.6,
          "petalWidth": 1.4,
          "sepalLength": 6.1,
          "sepalWidth": 3,
          "species": "versicolor"
         },
         {
          "petalLength": 4,
          "petalWidth": 1.2,
          "sepalLength": 5.8,
          "sepalWidth": 2.6,
          "species": "versicolor"
         },
         {
          "petalLength": 3.3,
          "petalWidth": 1,
          "sepalLength": 5,
          "sepalWidth": 2.3,
          "species": "versicolor"
         },
         {
          "petalLength": 4.2,
          "petalWidth": 1.3,
          "sepalLength": 5.6,
          "sepalWidth": 2.7,
          "species": "versicolor"
         },
         {
          "petalLength": 4.2,
          "petalWidth": 1.2,
          "sepalLength": 5.7,
          "sepalWidth": 3,
          "species": "versicolor"
         },
         {
          "petalLength": 4.2,
          "petalWidth": 1.3,
          "sepalLength": 5.7,
          "sepalWidth": 2.9,
          "species": "versicolor"
         },
         {
          "petalLength": 4.3,
          "petalWidth": 1.3,
          "sepalLength": 6.2,
          "sepalWidth": 2.9,
          "species": "versicolor"
         },
         {
          "petalLength": 3,
          "petalWidth": 1.1,
          "sepalLength": 5.1,
          "sepalWidth": 2.5,
          "species": "versicolor"
         },
         {
          "petalLength": 4.1,
          "petalWidth": 1.3,
          "sepalLength": 5.7,
          "sepalWidth": 2.8,
          "species": "versicolor"
         },
         {
          "petalLength": 6,
          "petalWidth": 2.5,
          "sepalLength": 6.3,
          "sepalWidth": 3.3,
          "species": "virginica"
         },
         {
          "petalLength": 5.1,
          "petalWidth": 1.9,
          "sepalLength": 5.8,
          "sepalWidth": 2.7,
          "species": "virginica"
         },
         {
          "petalLength": 5.9,
          "petalWidth": 2.1,
          "sepalLength": 7.1,
          "sepalWidth": 3,
          "species": "virginica"
         },
         {
          "petalLength": 5.6,
          "petalWidth": 1.8,
          "sepalLength": 6.3,
          "sepalWidth": 2.9,
          "species": "virginica"
         },
         {
          "petalLength": 5.8,
          "petalWidth": 2.2,
          "sepalLength": 6.5,
          "sepalWidth": 3,
          "species": "virginica"
         },
         {
          "petalLength": 6.6,
          "petalWidth": 2.1,
          "sepalLength": 7.6,
          "sepalWidth": 3,
          "species": "virginica"
         },
         {
          "petalLength": 4.5,
          "petalWidth": 1.7,
          "sepalLength": 4.9,
          "sepalWidth": 2.5,
          "species": "virginica"
         },
         {
          "petalLength": 6.3,
          "petalWidth": 1.8,
          "sepalLength": 7.3,
          "sepalWidth": 2.9,
          "species": "virginica"
         },
         {
          "petalLength": 5.8,
          "petalWidth": 1.8,
          "sepalLength": 6.7,
          "sepalWidth": 2.5,
          "species": "virginica"
         },
         {
          "petalLength": 6.1,
          "petalWidth": 2.5,
          "sepalLength": 7.2,
          "sepalWidth": 3.6,
          "species": "virginica"
         },
         {
          "petalLength": 5.1,
          "petalWidth": 2,
          "sepalLength": 6.5,
          "sepalWidth": 3.2,
          "species": "virginica"
         },
         {
          "petalLength": 5.3,
          "petalWidth": 1.9,
          "sepalLength": 6.4,
          "sepalWidth": 2.7,
          "species": "virginica"
         },
         {
          "petalLength": 5.5,
          "petalWidth": 2.1,
          "sepalLength": 6.8,
          "sepalWidth": 3,
          "species": "virginica"
         },
         {
          "petalLength": 5,
          "petalWidth": 2,
          "sepalLength": 5.7,
          "sepalWidth": 2.5,
          "species": "virginica"
         },
         {
          "petalLength": 5.1,
          "petalWidth": 2.4,
          "sepalLength": 5.8,
          "sepalWidth": 2.8,
          "species": "virginica"
         },
         {
          "petalLength": 5.3,
          "petalWidth": 2.3,
          "sepalLength": 6.4,
          "sepalWidth": 3.2,
          "species": "virginica"
         },
         {
          "petalLength": 5.5,
          "petalWidth": 1.8,
          "sepalLength": 6.5,
          "sepalWidth": 3,
          "species": "virginica"
         },
         {
          "petalLength": 6.7,
          "petalWidth": 2.2,
          "sepalLength": 7.7,
          "sepalWidth": 3.8,
          "species": "virginica"
         },
         {
          "petalLength": 6.9,
          "petalWidth": 2.3,
          "sepalLength": 7.7,
          "sepalWidth": 2.6,
          "species": "virginica"
         },
         {
          "petalLength": 5,
          "petalWidth": 1.5,
          "sepalLength": 6,
          "sepalWidth": 2.2,
          "species": "virginica"
         },
         {
          "petalLength": 5.7,
          "petalWidth": 2.3,
          "sepalLength": 6.9,
          "sepalWidth": 3.2,
          "species": "virginica"
         },
         {
          "petalLength": 4.9,
          "petalWidth": 2,
          "sepalLength": 5.6,
          "sepalWidth": 2.8,
          "species": "virginica"
         },
         {
          "petalLength": 6.7,
          "petalWidth": 2,
          "sepalLength": 7.7,
          "sepalWidth": 2.8,
          "species": "virginica"
         },
         {
          "petalLength": 4.9,
          "petalWidth": 1.8,
          "sepalLength": 6.3,
          "sepalWidth": 2.7,
          "species": "virginica"
         },
         {
          "petalLength": 5.7,
          "petalWidth": 2.1,
          "sepalLength": 6.7,
          "sepalWidth": 3.3,
          "species": "virginica"
         },
         {
          "petalLength": 6,
          "petalWidth": 1.8,
          "sepalLength": 7.2,
          "sepalWidth": 3.2,
          "species": "virginica"
         },
         {
          "petalLength": 4.8,
          "petalWidth": 1.8,
          "sepalLength": 6.2,
          "sepalWidth": 2.8,
          "species": "virginica"
         },
         {
          "petalLength": 4.9,
          "petalWidth": 1.8,
          "sepalLength": 6.1,
          "sepalWidth": 3,
          "species": "virginica"
         },
         {
          "petalLength": 5.6,
          "petalWidth": 2.1,
          "sepalLength": 6.4,
          "sepalWidth": 2.8,
          "species": "virginica"
         },
         {
          "petalLength": 5.8,
          "petalWidth": 1.6,
          "sepalLength": 7.2,
          "sepalWidth": 3,
          "species": "virginica"
         },
         {
          "petalLength": 6.1,
          "petalWidth": 1.9,
          "sepalLength": 7.4,
          "sepalWidth": 2.8,
          "species": "virginica"
         },
         {
          "petalLength": 6.4,
          "petalWidth": 2,
          "sepalLength": 7.9,
          "sepalWidth": 3.8,
          "species": "virginica"
         },
         {
          "petalLength": 5.6,
          "petalWidth": 2.2,
          "sepalLength": 6.4,
          "sepalWidth": 2.8,
          "species": "virginica"
         },
         {
          "petalLength": 5.1,
          "petalWidth": 1.5,
          "sepalLength": 6.3,
          "sepalWidth": 2.8,
          "species": "virginica"
         },
         {
          "petalLength": 5.6,
          "petalWidth": 1.4,
          "sepalLength": 6.1,
          "sepalWidth": 2.6,
          "species": "virginica"
         },
         {
          "petalLength": 6.1,
          "petalWidth": 2.3,
          "sepalLength": 7.7,
          "sepalWidth": 3,
          "species": "virginica"
         },
         {
          "petalLength": 5.6,
          "petalWidth": 2.4,
          "sepalLength": 6.3,
          "sepalWidth": 3.4,
          "species": "virginica"
         },
         {
          "petalLength": 5.5,
          "petalWidth": 1.8,
          "sepalLength": 6.4,
          "sepalWidth": 3.1,
          "species": "virginica"
         },
         {
          "petalLength": 4.8,
          "petalWidth": 1.8,
          "sepalLength": 6,
          "sepalWidth": 3,
          "species": "virginica"
         },
         {
          "petalLength": 5.4,
          "petalWidth": 2.1,
          "sepalLength": 6.9,
          "sepalWidth": 3.1,
          "species": "virginica"
         },
         {
          "petalLength": 5.6,
          "petalWidth": 2.4,
          "sepalLength": 6.7,
          "sepalWidth": 3.1,
          "species": "virginica"
         },
         {
          "petalLength": 5.1,
          "petalWidth": 2.3,
          "sepalLength": 6.9,
          "sepalWidth": 3.1,
          "species": "virginica"
         },
         {
          "petalLength": 5.1,
          "petalWidth": 1.9,
          "sepalLength": 5.8,
          "sepalWidth": 2.7,
          "species": "virginica"
         },
         {
          "petalLength": 5.9,
          "petalWidth": 2.3,
          "sepalLength": 6.8,
          "sepalWidth": 3.2,
          "species": "virginica"
         },
         {
          "petalLength": 5.7,
          "petalWidth": 2.5,
          "sepalLength": 6.7,
          "sepalWidth": 3.3,
          "species": "virginica"
         },
         {
          "petalLength": 5.2,
          "petalWidth": 2.3,
          "sepalLength": 6.7,
          "sepalWidth": 3,
          "species": "virginica"
         },
         {
          "petalLength": 5,
          "petalWidth": 1.9,
          "sepalLength": 6.3,
          "sepalWidth": 2.5,
          "species": "virginica"
         },
         {
          "petalLength": 5.2,
          "petalWidth": 2,
          "sepalLength": 6.5,
          "sepalWidth": 3,
          "species": "virginica"
         },
         {
          "petalLength": 5.4,
          "petalWidth": 2.3,
          "sepalLength": 6.2,
          "sepalWidth": 3.4,
          "species": "virginica"
         },
         {
          "petalLength": 5.1,
          "petalWidth": 1.8,
          "sepalLength": 5.9,
          "sepalWidth": 3,
          "species": "virginica"
         }
        ]
       },
       "encoding": {
        "color": {
         "field": "species",
         "type": "nominal"
        },
        "x": {
         "field": "sepalLength",
         "type": "quantitative"
        },
        "y": {
         "field": "sepalWidth",
         "type": "quantitative"
        }
       },
       "mark": {
        "type": "circle"
       }
      },
      "image/png": "[encoded data removed]",
      "image/svg+xml": [
       "<?xml version=\"1.0\" encoding=\"utf-8\"?>\n",
       "<!DOCTYPE svg PUBLIC \"-//W3C//DTD SVG 1.1//EN\" \"http://www.w3.org/Graphics/SVG/1.1/DTD/svg11.dtd\">\n",
       "<svg class=\"marks\" width=\"321\" height=\"242\" viewBox=\"0 0 321 242\" version=\"1.1\" xmlns=\"http://www.w3.org/2000/svg\" xmlns:xlink=\"http://www.w3.org/1999/xlink\"><rect width=\"321\" height=\"242\" fill=\"white\"></rect><g fill=\"none\" stroke-miterlimit=\"10\" transform=\"translate(33,5)\"><g class=\"mark-group role-frame root\" role=\"graphics-object\" aria-roledescription=\"group mark container\"><g transform=\"translate(0,0)\"><path class=\"background\" aria-hidden=\"true\" d=\"M0.5,0.5h200v200h-200Z\" stroke=\"#ddd\"></path><g><g class=\"mark-group role-axis\" aria-hidden=\"true\"><g transform=\"translate(0.5,200.5)\"><path class=\"background\" aria-hidden=\"true\" d=\"M0,0h0v0h0Z\" pointer-events=\"none\"></path><g><g class=\"mark-rule role-axis-grid\" pointer-events=\"none\"><line transform=\"translate(0,-200)\" x2=\"0\" y2=\"200\" stroke=\"#ddd\" stroke-width=\"1\" opacity=\"1\"></line><line transform=\"translate(50,-200)\" x2=\"0\" y2=\"200\" stroke=\"#ddd\" stroke-width=\"1\" opacity=\"1\"></line><line transform=\"translate(100,-200)\" x2=\"0\" y2=\"200\" stroke=\"#ddd\" stroke-width=\"1\" opacity=\"1\"></line><line transform=\"translate(150,-200)\" x2=\"0\" y2=\"200\" stroke=\"#ddd\" stroke-width=\"1\" opacity=\"1\"></line><line transform=\"translate(200,-200)\" x2=\"0\" y2=\"200\" stroke=\"#ddd\" stroke-width=\"1\" opacity=\"1\"></line></g></g><path class=\"foreground\" aria-hidden=\"true\" d=\"\" pointer-events=\"none\" display=\"none\"></path></g></g><g class=\"mark-group role-axis\" aria-hidden=\"true\"><g transform=\"translate(0.5,0.5)\"><path class=\"background\" aria-hidden=\"true\" d=\"M0,0h0v0h0Z\" pointer-events=\"none\"></path><g><g class=\"mark-rule role-axis-grid\" pointer-events=\"none\"><line transform=\"translate(0,200)\" x2=\"200\" y2=\"0\" stroke=\"#ddd\" stroke-width=\"1\" opacity=\"1\"></line><line transform=\"translate(0,156)\" x2=\"200\" y2=\"0\" stroke=\"#ddd\" stroke-width=\"1\" opacity=\"1\"></line><line transform=\"translate(0,111)\" x2=\"200\" y2=\"0\" stroke=\"#ddd\" stroke-width=\"1\" opacity=\"1\"></line><line transform=\"translate(0,67)\" x2=\"200\" y2=\"0\" stroke=\"#ddd\" stroke-width=\"1\" opacity=\"1\"></line><line transform=\"translate(0,22)\" x2=\"200\" y2=\"0\" stroke=\"#ddd\" stroke-width=\"1\" opacity=\"1\"></line></g></g><path class=\"foreground\" aria-hidden=\"true\" d=\"\" pointer-events=\"none\" display=\"none\"></path></g></g><g class=\"mark-group role-axis\" role=\"graphics-symbol\" aria-roledescription=\"axis\" aria-label=\"X-axis titled 'sepalLength' for a linear scale with values from 0 to 8\"><g transform=\"translate(0.5,200.5)\"><path class=\"background\" aria-hidden=\"true\" d=\"M0,0h0v0h0Z\" pointer-events=\"none\"></path><g><g class=\"mark-rule role-axis-tick\" pointer-events=\"none\"><line transform=\"translate(0,0)\" x2=\"0\" y2=\"5\" stroke=\"#888\" stroke-width=\"1\" opacity=\"1\"></line><line transform=\"translate(50,0)\" x2=\"0\" y2=\"5\" stroke=\"#888\" stroke-width=\"1\" opacity=\"1\"></line><line transform=\"translate(100,0)\" x2=\"0\" y2=\"5\" stroke=\"#888\" stroke-width=\"1\" opacity=\"1\"></line><line transform=\"translate(150,0)\" x2=\"0\" y2=\"5\" stroke=\"#888\" stroke-width=\"1\" opacity=\"1\"></line><line transform=\"translate(200,0)\" x2=\"0\" y2=\"5\" stroke=\"#888\" stroke-width=\"1\" opacity=\"1\"></line></g><g class=\"mark-text role-axis-label\" pointer-events=\"none\"><text text-anchor=\"start\" transform=\"translate(0,15)\" font-family=\"sans-serif\" font-size=\"10px\" fill=\"#000\" opacity=\"1\">0</text><text text-anchor=\"middle\" transform=\"translate(50,15)\" font-family=\"sans-serif\" font-size=\"10px\" fill=\"#000\" opacity=\"1\">2</text><text text-anchor=\"middle\" transform=\"translate(100,15)\" font-family=\"sans-serif\" font-size=\"10px\" fill=\"#000\" opacity=\"1\">4</text><text text-anchor=\"middle\" transform=\"translate(150,15)\" font-family=\"sans-serif\" font-size=\"10px\" fill=\"#000\" opacity=\"1\">6</text><text text-anchor=\"end\" transform=\"translate(200,15)\" font-family=\"sans-serif\" font-size=\"10px\" fill=\"#000\" opacity=\"1\">8</text></g><g class=\"mark-rule role-axis-domain\" pointer-events=\"none\"><line transform=\"translate(0,0)\" x2=\"200\" y2=\"0\" stroke=\"#888\" stroke-width=\"1\" opacity=\"1\"></line></g><g class=\"mark-text role-axis-title\" pointer-events=\"none\"><text text-anchor=\"middle\" transform=\"translate(100,30)\" font-family=\"sans-serif\" font-size=\"11px\" font-weight=\"bold\" fill=\"#000\" opacity=\"1\">sepalLength</text></g></g><path class=\"foreground\" aria-hidden=\"true\" d=\"\" pointer-events=\"none\" display=\"none\"></path></g></g><g class=\"mark-group role-axis\" role=\"graphics-symbol\" aria-roledescription=\"axis\" aria-label=\"Y-axis titled 'sepalWidth' for a linear scale with values from 0 to 5\"><g transform=\"translate(0.5,0.5)\"><path class=\"background\" aria-hidden=\"true\" d=\"M0,0h0v0h0Z\" pointer-events=\"none\"></path><g><g class=\"mark-rule role-axis-tick\" pointer-events=\"none\"><line transform=\"translate(0,200)\" x2=\"-5\" y2=\"0\" stroke=\"#888\" stroke-width=\"1\" opacity=\"1\"></line><line transform=\"translate(0,156)\" x2=\"-5\" y2=\"0\" stroke=\"#888\" stroke-width=\"1\" opacity=\"1\"></line><line transform=\"translate(0,111)\" x2=\"-5\" y2=\"0\" stroke=\"#888\" stroke-width=\"1\" opacity=\"1\"></line><line transform=\"translate(0,67)\" x2=\"-5\" y2=\"0\" stroke=\"#888\" stroke-width=\"1\" opacity=\"1\"></line><line transform=\"translate(0,22)\" x2=\"-5\" y2=\"0\" stroke=\"#888\" stroke-width=\"1\" opacity=\"1\"></line></g><g class=\"mark-text role-axis-label\" pointer-events=\"none\"><text text-anchor=\"end\" transform=\"translate(-7,203)\" font-family=\"sans-serif\" font-size=\"10px\" fill=\"#000\" opacity=\"1\">0</text><text text-anchor=\"end\" transform=\"translate(-7,158.55555555555557)\" font-family=\"sans-serif\" font-size=\"10px\" fill=\"#000\" opacity=\"1\">1</text><text text-anchor=\"end\" transform=\"translate(-7,114.11111111111111)\" font-family=\"sans-serif\" font-size=\"10px\" fill=\"#000\" opacity=\"1\">2</text><text text-anchor=\"end\" transform=\"translate(-7,69.66666666666667)\" font-family=\"sans-serif\" font-size=\"10px\" fill=\"#000\" opacity=\"1\">3</text><text text-anchor=\"end\" transform=\"translate(-7,25.222222222222232)\" font-family=\"sans-serif\" font-size=\"10px\" fill=\"#000\" opacity=\"1\">4</text></g><g class=\"mark-rule role-axis-domain\" pointer-events=\"none\"><line transform=\"translate(0,200)\" x2=\"0\" y2=\"-200\" stroke=\"#888\" stroke-width=\"1\" opacity=\"1\"></line></g><g class=\"mark-text role-axis-title\" pointer-events=\"none\"><text text-anchor=\"middle\" transform=\"translate(-17,100) rotate(-90) translate(0,-2)\" font-family=\"sans-serif\" font-size=\"11px\" font-weight=\"bold\" fill=\"#000\" opacity=\"1\">sepalWidth</text></g></g><path class=\"foreground\" aria-hidden=\"true\" d=\"\" pointer-events=\"none\" display=\"none\"></path></g></g><g class=\"mark-symbol role-mark marks\" role=\"graphics-object\" aria-roledescription=\"symbol mark container\"><path aria-label=\"sepalLength: 5.1; sepalWidth: 3.5; species: setosa\" role=\"graphics-symbol\" aria-roledescription=\"circle\" transform=\"translate(127.49999999999999,44.44444444444444)\" d=\"M2.7386127875258306,0A2.7386127875258306,2.7386127875258306,0,1,1,-2.7386127875258306,0A2.7386127875258306,2.7386127875258306,0,1,1,2.7386127875258306,0\" fill=\"#4c78a8\" stroke-width=\"2\" opacity=\"0.7\"></path><path aria-label=\"sepalLength: 4.9; sepalWidth: 3; species: setosa\" role=\"graphics-symbol\" aria-roledescription=\"circle\" transform=\"translate(122.50000000000001,66.66666666666667)\" d=\"M2.7386127875258306,0A2.7386127875258306,2.7386127875258306,0,1,1,-2.7386127875258306,0A2.7386127875258306,2.7386127875258306,0,1,1,2.7386127875258306,0\" fill=\"#4c78a8\" stroke-width=\"2\" opacity=\"0.7\"></path><path aria-label=\"sepalLength: 4.7; sepalWidth: 3.2; species: setosa\" role=\"graphics-symbol\" aria-roledescription=\"circle\" transform=\"translate(117.5,57.77777777777777)\" d=\"M2.7386127875258306,0A2.7386127875258306,2.7386127875258306,0,1,1,-2.7386127875258306,0A2.7386127875258306,2.7386127875258306,0,1,1,2.7386127875258306,0\" fill=\"#4c78a8\" stroke-width=\"2\" opacity=\"0.7\"></path><path aria-label=\"sepalLength: 4.6; sepalWidth: 3.1; species: setosa\" role=\"graphics-symbol\" aria-roledescription=\"circle\" transform=\"translate(114.99999999999999,62.22222222222222)\" d=\"M2.7386127875258306,0A2.7386127875258306,2.7386127875258306,0,1,1,-2.7386127875258306,0A2.7386127875258306,2.7386127875258306,0,1,1,2.7386127875258306,0\" fill=\"#4c78a8\" stroke-width=\"2\" opacity=\"0.7\"></path><path aria-label=\"sepalLength: 5; sepalWidth: 3.6; species: setosa\" role=\"graphics-symbol\" aria-roledescription=\"circle\" transform=\"translate(125,39.99999999999999)\" d=\"M2.7386127875258306,0A2.7386127875258306,2.7386127875258306,0,1,1,-2.7386127875258306,0A2.7386127875258306,2.7386127875258306,0,1,1,2.7386127875258306,0\" fill=\"#4c78a8\" stroke-width=\"2\" opacity=\"0.7\"></path><path aria-label=\"sepalLength: 5.4; sepalWidth: 3.9; species: setosa\" role=\"graphics-symbol\" aria-roledescription=\"circle\" transform=\"translate(135,26.66666666666666)\" d=\"M2.7386127875258306,0A2.7386127875258306,2.7386127875258306,0,1,1,-2.7386127875258306,0A2.7386127875258306,2.7386127875258306,0,1,1,2.7386127875258306,0\" fill=\"#4c78a8\" stroke-width=\"2\" opacity=\"0.7\"></path><path aria-label=\"sepalLength: 4.6; sepalWidth: 3.4; species: setosa\" role=\"graphics-symbol\" aria-roledescription=\"circle\" transform=\"translate(114.99999999999999,48.88888888888889)\" d=\"M2.7386127875258306,0A2.7386127875258306,2.7386127875258306,0,1,1,-2.7386127875258306,0A2.7386127875258306,2.7386127875258306,0,1,1,2.7386127875258306,0\" fill=\"#4c78a8\" stroke-width=\"2\" opacity=\"0.7\"></path><path aria-label=\"sepalLength: 5; sepalWidth: 3.4; species: setosa\" role=\"graphics-symbol\" aria-roledescription=\"circle\" transform=\"translate(125,48.88888888888889)\" d=\"M2.7386127875258306,0A2.7386127875258306,2.7386127875258306,0,1,1,-2.7386127875258306,0A2.7386127875258306,2.7386127875258306,0,1,1,2.7386127875258306,0\" fill=\"#4c78a8\" stroke-width=\"2\" opacity=\"0.7\"></path><path aria-label=\"sepalLength: 4.4; sepalWidth: 2.9; species: setosa\" role=\"graphics-symbol\" aria-roledescription=\"circle\" transform=\"translate(110.00000000000001,71.11111111111113)\" d=\"M2.7386127875258306,0A2.7386127875258306,2.7386127875258306,0,1,1,-2.7386127875258306,0A2.7386127875258306,2.7386127875258306,0,1,1,2.7386127875258306,0\" fill=\"#4c78a8\" stroke-width=\"2\" opacity=\"0.7\"></path><path aria-label=\"sepalLength: 4.9; sepalWidth: 3.1; species: setosa\" role=\"graphics-symbol\" aria-roledescription=\"circle\" transform=\"translate(122.50000000000001,62.22222222222222)\" d=\"M2.7386127875258306,0A2.7386127875258306,2.7386127875258306,0,1,1,-2.7386127875258306,0A2.7386127875258306,2.7386127875258306,0,1,1,2.7386127875258306,0\" fill=\"#4c78a8\" stroke-width=\"2\" opacity=\"0.7\"></path><path aria-label=\"sepalLength: 5.4; sepalWidth: 3.7; species: setosa\" role=\"graphics-symbol\" aria-roledescription=\"circle\" transform=\"translate(135,35.55555555555554)\" d=\"M2.7386127875258306,0A2.7386127875258306,2.7386127875258306,0,1,1,-2.7386127875258306,0A2.7386127875258306,2.7386127875258306,0,1,1,2.7386127875258306,0\" fill=\"#4c78a8\" stroke-width=\"2\" opacity=\"0.7\"></path><path aria-label=\"sepalLength: 4.8; sepalWidth: 3.4; species: setosa\" role=\"graphics-symbol\" aria-roledescription=\"circle\" transform=\"translate(120,48.88888888888889)\" d=\"M2.7386127875258306,0A2.7386127875258306,2.7386127875258306,0,1,1,-2.7386127875258306,0A2.7386127875258306,2.7386127875258306,0,1,1,2.7386127875258306,0\" fill=\"#4c78a8\" stroke-width=\"2\" opacity=\"0.7\"></path><path aria-label=\"sepalLength: 4.8; sepalWidth: 3; species: setosa\" role=\"graphics-symbol\" aria-roledescription=\"circle\" transform=\"translate(120,66.66666666666667)\" d=\"M2.7386127875258306,0A2.7386127875258306,2.7386127875258306,0,1,1,-2.7386127875258306,0A2.7386127875258306,2.7386127875258306,0,1,1,2.7386127875258306,0\" fill=\"#4c78a8\" stroke-width=\"2\" opacity=\"0.7\"></path><path aria-label=\"sepalLength: 4.3; sepalWidth: 3; species: setosa\" role=\"graphics-symbol\" aria-roledescription=\"circle\" transform=\"translate(107.5,66.66666666666667)\" d=\"M2.7386127875258306,0A2.7386127875258306,2.7386127875258306,0,1,1,-2.7386127875258306,0A2.7386127875258306,2.7386127875258306,0,1,1,2.7386127875258306,0\" fill=\"#4c78a8\" stroke-width=\"2\" opacity=\"0.7\"></path><path aria-label=\"sepalLength: 5.8; sepalWidth: 4; species: setosa\" role=\"graphics-symbol\" aria-roledescription=\"circle\" transform=\"translate(145,22.222222222222232)\" d=\"M2.7386127875258306,0A2.7386127875258306,2.7386127875258306,0,1,1,-2.7386127875258306,0A2.7386127875258306,2.7386127875258306,0,1,1,2.7386127875258306,0\" fill=\"#4c78a8\" stroke-width=\"2\" opacity=\"0.7\"></path><path aria-label=\"sepalLength: 5.7; sepalWidth: 4.4; species: setosa\" role=\"graphics-symbol\" aria-roledescription=\"circle\" transform=\"translate(142.5,4.444444444444429)\" d=\"M2.7386127875258306,0A2.7386127875258306,2.7386127875258306,0,1,1,-2.7386127875258306,0A2.7386127875258306,2.7386127875258306,0,1,1,2.7386127875258306,0\" fill=\"#4c78a8\" stroke-width=\"2\" opacity=\"0.7\"></path><path aria-label=\"sepalLength: 5.4; sepalWidth: 3.9; species: setosa\" role=\"graphics-symbol\" aria-roledescription=\"circle\" transform=\"translate(135,26.66666666666666)\" d=\"M2.7386127875258306,0A2.7386127875258306,2.7386127875258306,0,1,1,-2.7386127875258306,0A2.7386127875258306,2.7386127875258306,0,1,1,2.7386127875258306,0\" fill=\"#4c78a8\" stroke-width=\"2\" opacity=\"0.7\"></path><path aria-label=\"sepalLength: 5.1; sepalWidth: 3.5; species: setosa\" role=\"graphics-symbol\" aria-roledescription=\"circle\" transform=\"translate(127.49999999999999,44.44444444444444)\" d=\"M2.7386127875258306,0A2.7386127875258306,2.7386127875258306,0,1,1,-2.7386127875258306,0A2.7386127875258306,2.7386127875258306,0,1,1,2.7386127875258306,0\" fill=\"#4c78a8\" stroke-width=\"2\" opacity=\"0.7\"></path><path aria-label=\"sepalLength: 5.7; sepalWidth: 3.8; species: setosa\" role=\"graphics-symbol\" aria-roledescription=\"circle\" transform=\"translate(142.5,31.11111111111111)\" d=\"M2.7386127875258306,0A2.7386127875258306,2.7386127875258306,0,1,1,-2.7386127875258306,0A2.7386127875258306,2.7386127875258306,0,1,1,2.7386127875258306,0\" fill=\"#4c78a8\" stroke-width=\"2\" opacity=\"0.7\"></path><path aria-label=\"sepalLength: 5.1; sepalWidth: 3.8; species: setosa\" role=\"graphics-symbol\" aria-roledescription=\"circle\" transform=\"translate(127.49999999999999,31.11111111111111)\" d=\"M2.7386127875258306,0A2.7386127875258306,2.7386127875258306,0,1,1,-2.7386127875258306,0A2.7386127875258306,2.7386127875258306,0,1,1,2.7386127875258306,0\" fill=\"#4c78a8\" stroke-width=\"2\" opacity=\"0.7\"></path><path aria-label=\"sepalLength: 5.4; sepalWidth: 3.4; species: setosa\" role=\"graphics-symbol\" aria-roledescription=\"circle\" transform=\"translate(135,48.88888888888889)\" d=\"M2.7386127875258306,0A2.7386127875258306,2.7386127875258306,0,1,1,-2.7386127875258306,0A2.7386127875258306,2.7386127875258306,0,1,1,2.7386127875258306,0\" fill=\"#4c78a8\" stroke-width=\"2\" opacity=\"0.7\"></path><path aria-label=\"sepalLength: 5.1; sepalWidth: 3.7; species: setosa\" role=\"graphics-symbol\" aria-roledescription=\"circle\" transform=\"translate(127.49999999999999,35.55555555555554)\" d=\"M2.7386127875258306,0A2.7386127875258306,2.7386127875258306,0,1,1,-2.7386127875258306,0A2.7386127875258306,2.7386127875258306,0,1,1,2.7386127875258306,0\" fill=\"#4c78a8\" stroke-width=\"2\" opacity=\"0.7\"></path><path aria-label=\"sepalLength: 4.6; sepalWidth: 3.6; species: setosa\" role=\"graphics-symbol\" aria-roledescription=\"circle\" transform=\"translate(114.99999999999999,39.99999999999999)\" d=\"M2.7386127875258306,0A2.7386127875258306,2.7386127875258306,0,1,1,-2.7386127875258306,0A2.7386127875258306,2.7386127875258306,0,1,1,2.7386127875258306,0\" fill=\"#4c78a8\" stroke-width=\"2\" opacity=\"0.7\"></path><path aria-label=\"sepalLength: 5.1; sepalWidth: 3.3; species: setosa\" role=\"graphics-symbol\" aria-roledescription=\"circle\" transform=\"translate(127.49999999999999,53.33333333333334)\" d=\"M2.7386127875258306,0A2.7386127875258306,2.7386127875258306,0,1,1,-2.7386127875258306,0A2.7386127875258306,2.7386127875258306,0,1,1,2.7386127875258306,0\" fill=\"#4c78a8\" stroke-width=\"2\" opacity=\"0.7\"></path><path aria-label=\"sepalLength: 4.8; sepalWidth: 3.4; species: setosa\" role=\"graphics-symbol\" aria-roledescription=\"circle\" transform=\"translate(120,48.88888888888889)\" d=\"M2.7386127875258306,0A2.7386127875258306,2.7386127875258306,0,1,1,-2.7386127875258306,0A2.7386127875258306,2.7386127875258306,0,1,1,2.7386127875258306,0\" fill=\"#4c78a8\" stroke-width=\"2\" opacity=\"0.7\"></path><path aria-label=\"sepalLength: 5; sepalWidth: 3; species: setosa\" role=\"graphics-symbol\" aria-roledescription=\"circle\" transform=\"translate(125,66.66666666666667)\" d=\"M2.7386127875258306,0A2.7386127875258306,2.7386127875258306,0,1,1,-2.7386127875258306,0A2.7386127875258306,2.7386127875258306,0,1,1,2.7386127875258306,0\" fill=\"#4c78a8\" stroke-width=\"2\" opacity=\"0.7\"></path><path aria-label=\"sepalLength: 5; sepalWidth: 3.4; species: setosa\" role=\"graphics-symbol\" aria-roledescription=\"circle\" transform=\"translate(125,48.88888888888889)\" d=\"M2.7386127875258306,0A2.7386127875258306,2.7386127875258306,0,1,1,-2.7386127875258306,0A2.7386127875258306,2.7386127875258306,0,1,1,2.7386127875258306,0\" fill=\"#4c78a8\" stroke-width=\"2\" opacity=\"0.7\"></path><path aria-label=\"sepalLength: 5.2; sepalWidth: 3.5; species: setosa\" role=\"graphics-symbol\" aria-roledescription=\"circle\" transform=\"translate(130,44.44444444444444)\" d=\"M2.7386127875258306,0A2.7386127875258306,2.7386127875258306,0,1,1,-2.7386127875258306,0A2.7386127875258306,2.7386127875258306,0,1,1,2.7386127875258306,0\" fill=\"#4c78a8\" stroke-width=\"2\" opacity=\"0.7\"></path><path aria-label=\"sepalLength: 5.2; sepalWidth: 3.4; species: setosa\" role=\"graphics-symbol\" aria-roledescription=\"circle\" transform=\"translate(130,48.88888888888889)\" d=\"M2.7386127875258306,0A2.7386127875258306,2.7386127875258306,0,1,1,-2.7386127875258306,0A2.7386127875258306,2.7386127875258306,0,1,1,2.7386127875258306,0\" fill=\"#4c78a8\" stroke-width=\"2\" opacity=\"0.7\"></path><path aria-label=\"sepalLength: 4.7; sepalWidth: 3.2; species: setosa\" role=\"graphics-symbol\" aria-roledescription=\"circle\" transform=\"translate(117.5,57.77777777777777)\" d=\"M2.7386127875258306,0A2.7386127875258306,2.7386127875258306,0,1,1,-2.7386127875258306,0A2.7386127875258306,2.7386127875258306,0,1,1,2.7386127875258306,0\" fill=\"#4c78a8\" stroke-width=\"2\" opacity=\"0.7\"></path><path aria-label=\"sepalLength: 4.8; sepalWidth: 3.1; species: setosa\" role=\"graphics-symbol\" aria-roledescription=\"circle\" transform=\"translate(120,62.22222222222222)\" d=\"M2.7386127875258306,0A2.7386127875258306,2.7386127875258306,0,1,1,-2.7386127875258306,0A2.7386127875258306,2.7386127875258306,0,1,1,2.7386127875258306,0\" fill=\"#4c78a8\" stroke-width=\"2\" opacity=\"0.7\"></path><path aria-label=\"sepalLength: 5.4; sepalWidth: 3.4; species: setosa\" role=\"graphics-symbol\" aria-roledescription=\"circle\" transform=\"translate(135,48.88888888888889)\" d=\"M2.7386127875258306,0A2.7386127875258306,2.7386127875258306,0,1,1,-2.7386127875258306,0A2.7386127875258306,2.7386127875258306,0,1,1,2.7386127875258306,0\" fill=\"#4c78a8\" stroke-width=\"2\" opacity=\"0.7\"></path><path aria-label=\"sepalLength: 5.2; sepalWidth: 4.1; species: setosa\" role=\"graphics-symbol\" aria-roledescription=\"circle\" transform=\"translate(130,17.777777777777803)\" d=\"M2.7386127875258306,0A2.7386127875258306,2.7386127875258306,0,1,1,-2.7386127875258306,0A2.7386127875258306,2.7386127875258306,0,1,1,2.7386127875258306,0\" fill=\"#4c78a8\" stroke-width=\"2\" opacity=\"0.7\"></path><path aria-label=\"sepalLength: 5.5; sepalWidth: 4.2; species: setosa\" role=\"graphics-symbol\" aria-roledescription=\"circle\" transform=\"translate(137.5,13.33333333333333)\" d=\"M2.7386127875258306,0A2.7386127875258306,2.7386127875258306,0,1,1,-2.7386127875258306,0A2.7386127875258306,2.7386127875258306,0,1,1,2.7386127875258306,0\" fill=\"#4c78a8\" stroke-width=\"2\" opacity=\"0.7\"></path><path aria-label=\"sepalLength: 4.9; sepalWidth: 3.1; species: setosa\" role=\"graphics-symbol\" aria-roledescription=\"circle\" transform=\"translate(122.50000000000001,62.22222222222222)\" d=\"M2.7386127875258306,0A2.7386127875258306,2.7386127875258306,0,1,1,-2.7386127875258306,0A2.7386127875258306,2.7386127875258306,0,1,1,2.7386127875258306,0\" fill=\"#4c78a8\" stroke-width=\"2\" opacity=\"0.7\"></path><path aria-label=\"sepalLength: 5; sepalWidth: 3.2; species: setosa\" role=\"graphics-symbol\" aria-roledescription=\"circle\" transform=\"translate(125,57.77777777777777)\" d=\"M2.7386127875258306,0A2.7386127875258306,2.7386127875258306,0,1,1,-2.7386127875258306,0A2.7386127875258306,2.7386127875258306,0,1,1,2.7386127875258306,0\" fill=\"#4c78a8\" stroke-width=\"2\" opacity=\"0.7\"></path><path aria-label=\"sepalLength: 5.5; sepalWidth: 3.5; species: setosa\" role=\"graphics-symbol\" aria-roledescription=\"circle\" transform=\"translate(137.5,44.44444444444444)\" d=\"M2.7386127875258306,0A2.7386127875258306,2.7386127875258306,0,1,1,-2.7386127875258306,0A2.7386127875258306,2.7386127875258306,0,1,1,2.7386127875258306,0\" fill=\"#4c78a8\" stroke-width=\"2\" opacity=\"0.7\"></path><path aria-label=\"sepalLength: 4.9; sepalWidth: 3.6; species: setosa\" role=\"graphics-symbol\" aria-roledescription=\"circle\" transform=\"translate(122.50000000000001,39.99999999999999)\" d=\"M2.7386127875258306,0A2.7386127875258306,2.7386127875258306,0,1,1,-2.7386127875258306,0A2.7386127875258306,2.7386127875258306,0,1,1,2.7386127875258306,0\" fill=\"#4c78a8\" stroke-width=\"2\" opacity=\"0.7\"></path><path aria-label=\"sepalLength: 4.4; sepalWidth: 3; species: setosa\" role=\"graphics-symbol\" aria-roledescription=\"circle\" transform=\"translate(110.00000000000001,66.66666666666667)\" d=\"M2.7386127875258306,0A2.7386127875258306,2.7386127875258306,0,1,1,-2.7386127875258306,0A2.7386127875258306,2.7386127875258306,0,1,1,2.7386127875258306,0\" fill=\"#4c78a8\" stroke-width=\"2\" opacity=\"0.7\"></path><path aria-label=\"sepalLength: 5.1; sepalWidth: 3.4; species: setosa\" role=\"graphics-symbol\" aria-roledescription=\"circle\" transform=\"translate(127.49999999999999,48.88888888888889)\" d=\"M2.7386127875258306,0A2.7386127875258306,2.7386127875258306,0,1,1,-2.7386127875258306,0A2.7386127875258306,2.7386127875258306,0,1,1,2.7386127875258306,0\" fill=\"#4c78a8\" stroke-width=\"2\" opacity=\"0.7\"></path><path aria-label=\"sepalLength: 5; sepalWidth: 3.5; species: setosa\" role=\"graphics-symbol\" aria-roledescription=\"circle\" transform=\"translate(125,44.44444444444444)\" d=\"M2.7386127875258306,0A2.7386127875258306,2.7386127875258306,0,1,1,-2.7386127875258306,0A2.7386127875258306,2.7386127875258306,0,1,1,2.7386127875258306,0\" fill=\"#4c78a8\" stroke-width=\"2\" opacity=\"0.7\"></path><path aria-label=\"sepalLength: 4.5; sepalWidth: 2.3; species: setosa\" role=\"graphics-symbol\" aria-roledescription=\"circle\" transform=\"translate(112.5,97.77777777777779)\" d=\"M2.7386127875258306,0A2.7386127875258306,2.7386127875258306,0,1,1,-2.7386127875258306,0A2.7386127875258306,2.7386127875258306,0,1,1,2.7386127875258306,0\" fill=\"#4c78a8\" stroke-width=\"2\" opacity=\"0.7\"></path><path aria-label=\"sepalLength: 4.4; sepalWidth: 3.2; species: setosa\" role=\"graphics-symbol\" aria-roledescription=\"circle\" transform=\"translate(110.00000000000001,57.77777777777777)\" d=\"M2.7386127875258306,0A2.7386127875258306,2.7386127875258306,0,1,1,-2.7386127875258306,0A2.7386127875258306,2.7386127875258306,0,1,1,2.7386127875258306,0\" fill=\"#4c78a8\" stroke-width=\"2\" opacity=\"0.7\"></path><path aria-label=\"sepalLength: 5; sepalWidth: 3.5; species: setosa\" role=\"graphics-symbol\" aria-roledescription=\"circle\" transform=\"translate(125,44.44444444444444)\" d=\"M2.7386127875258306,0A2.7386127875258306,2.7386127875258306,0,1,1,-2.7386127875258306,0A2.7386127875258306,2.7386127875258306,0,1,1,2.7386127875258306,0\" fill=\"#4c78a8\" stroke-width=\"2\" opacity=\"0.7\"></path><path aria-label=\"sepalLength: 5.1; sepalWidth: 3.8; species: setosa\" role=\"graphics-symbol\" aria-roledescription=\"circle\" transform=\"translate(127.49999999999999,31.11111111111111)\" d=\"M2.7386127875258306,0A2.7386127875258306,2.7386127875258306,0,1,1,-2.7386127875258306,0A2.7386127875258306,2.7386127875258306,0,1,1,2.7386127875258306,0\" fill=\"#4c78a8\" stroke-width=\"2\" opacity=\"0.7\"></path><path aria-label=\"sepalLength: 4.8; sepalWidth: 3; species: setosa\" role=\"graphics-symbol\" aria-roledescription=\"circle\" transform=\"translate(120,66.66666666666667)\" d=\"M2.7386127875258306,0A2.7386127875258306,2.7386127875258306,0,1,1,-2.7386127875258306,0A2.7386127875258306,2.7386127875258306,0,1,1,2.7386127875258306,0\" fill=\"#4c78a8\" stroke-width=\"2\" opacity=\"0.7\"></path><path aria-label=\"sepalLength: 5.1; sepalWidth: 3.8; species: setosa\" role=\"graphics-symbol\" aria-roledescription=\"circle\" transform=\"translate(127.49999999999999,31.11111111111111)\" d=\"M2.7386127875258306,0A2.7386127875258306,2.7386127875258306,0,1,1,-2.7386127875258306,0A2.7386127875258306,2.7386127875258306,0,1,1,2.7386127875258306,0\" fill=\"#4c78a8\" stroke-width=\"2\" opacity=\"0.7\"></path><path aria-label=\"sepalLength: 4.6; sepalWidth: 3.2; species: setosa\" role=\"graphics-symbol\" aria-roledescription=\"circle\" transform=\"translate(114.99999999999999,57.77777777777777)\" d=\"M2.7386127875258306,0A2.7386127875258306,2.7386127875258306,0,1,1,-2.7386127875258306,0A2.7386127875258306,2.7386127875258306,0,1,1,2.7386127875258306,0\" fill=\"#4c78a8\" stroke-width=\"2\" opacity=\"0.7\"></path><path aria-label=\"sepalLength: 5.3; sepalWidth: 3.7; species: setosa\" role=\"graphics-symbol\" aria-roledescription=\"circle\" transform=\"translate(132.5,35.55555555555554)\" d=\"M2.7386127875258306,0A2.7386127875258306,2.7386127875258306,0,1,1,-2.7386127875258306,0A2.7386127875258306,2.7386127875258306,0,1,1,2.7386127875258306,0\" fill=\"#4c78a8\" stroke-width=\"2\" opacity=\"0.7\"></path><path aria-label=\"sepalLength: 5; sepalWidth: 3.3; species: setosa\" role=\"graphics-symbol\" aria-roledescription=\"circle\" transform=\"translate(125,53.33333333333334)\" d=\"M2.7386127875258306,0A2.7386127875258306,2.7386127875258306,0,1,1,-2.7386127875258306,0A2.7386127875258306,2.7386127875258306,0,1,1,2.7386127875258306,0\" fill=\"#4c78a8\" stroke-width=\"2\" opacity=\"0.7\"></path><path aria-label=\"sepalLength: 7; sepalWidth: 3.2; species: versicolor\" role=\"graphics-symbol\" aria-roledescription=\"circle\" transform=\"translate(175,57.77777777777777)\" d=\"M2.7386127875258306,0A2.7386127875258306,2.7386127875258306,0,1,1,-2.7386127875258306,0A2.7386127875258306,2.7386127875258306,0,1,1,2.7386127875258306,0\" fill=\"#f58518\" stroke-width=\"2\" opacity=\"0.7\"></path><path aria-label=\"sepalLength: 6.4; sepalWidth: 3.2; species: versicolor\" role=\"graphics-symbol\" aria-roledescription=\"circle\" transform=\"translate(160,57.77777777777777)\" d=\"M2.7386127875258306,0A2.7386127875258306,2.7386127875258306,0,1,1,-2.7386127875258306,0A2.7386127875258306,2.7386127875258306,0,1,1,2.7386127875258306,0\" fill=\"#f58518\" stroke-width=\"2\" opacity=\"0.7\"></path><path aria-label=\"sepalLength: 6.9; sepalWidth: 3.1; species: versicolor\" role=\"graphics-symbol\" aria-roledescription=\"circle\" transform=\"translate(172.5,62.22222222222222)\" d=\"M2.7386127875258306,0A2.7386127875258306,2.7386127875258306,0,1,1,-2.7386127875258306,0A2.7386127875258306,2.7386127875258306,0,1,1,2.7386127875258306,0\" fill=\"#f58518\" stroke-width=\"2\" opacity=\"0.7\"></path><path aria-label=\"sepalLength: 5.5; sepalWidth: 2.3; species: versicolor\" role=\"graphics-symbol\" aria-roledescription=\"circle\" transform=\"translate(137.5,97.77777777777779)\" d=\"M2.7386127875258306,0A2.7386127875258306,2.7386127875258306,0,1,1,-2.7386127875258306,0A2.7386127875258306,2.7386127875258306,0,1,1,2.7386127875258306,0\" fill=\"#f58518\" stroke-width=\"2\" opacity=\"0.7\"></path><path aria-label=\"sepalLength: 6.5; sepalWidth: 2.8; species: versicolor\" role=\"graphics-symbol\" aria-roledescription=\"circle\" transform=\"translate(162.5,75.55555555555556)\" d=\"M2.7386127875258306,0A2.7386127875258306,2.7386127875258306,0,1,1,-2.7386127875258306,0A2.7386127875258306,2.7386127875258306,0,1,1,2.7386127875258306,0\" fill=\"#f58518\" stroke-width=\"2\" opacity=\"0.7\"></path><path aria-label=\"sepalLength: 5.7; sepalWidth: 2.8; species: versicolor\" role=\"graphics-symbol\" aria-roledescription=\"circle\" transform=\"translate(142.5,75.55555555555556)\" d=\"M2.7386127875258306,0A2.7386127875258306,2.7386127875258306,0,1,1,-2.7386127875258306,0A2.7386127875258306,2.7386127875258306,0,1,1,2.7386127875258306,0\" fill=\"#f58518\" stroke-width=\"2\" opacity=\"0.7\"></path><path aria-label=\"sepalLength: 6.3; sepalWidth: 3.3; species: versicolor\" role=\"graphics-symbol\" aria-roledescription=\"circle\" transform=\"translate(157.5,53.33333333333334)\" d=\"M2.7386127875258306,0A2.7386127875258306,2.7386127875258306,0,1,1,-2.7386127875258306,0A2.7386127875258306,2.7386127875258306,0,1,1,2.7386127875258306,0\" fill=\"#f58518\" stroke-width=\"2\" opacity=\"0.7\"></path><path aria-label=\"sepalLength: 4.9; sepalWidth: 2.4; species: versicolor\" role=\"graphics-symbol\" aria-roledescription=\"circle\" transform=\"translate(122.50000000000001,93.33333333333333)\" d=\"M2.7386127875258306,0A2.7386127875258306,2.7386127875258306,0,1,1,-2.7386127875258306,0A2.7386127875258306,2.7386127875258306,0,1,1,2.7386127875258306,0\" fill=\"#f58518\" stroke-width=\"2\" opacity=\"0.7\"></path><path aria-label=\"sepalLength: 6.6; sepalWidth: 2.9; species: versicolor\" role=\"graphics-symbol\" aria-roledescription=\"circle\" transform=\"translate(165,71.11111111111113)\" d=\"M2.7386127875258306,0A2.7386127875258306,2.7386127875258306,0,1,1,-2.7386127875258306,0A2.7386127875258306,2.7386127875258306,0,1,1,2.7386127875258306,0\" fill=\"#f58518\" stroke-width=\"2\" opacity=\"0.7\"></path><path aria-label=\"sepalLength: 5.2; sepalWidth: 2.7; species: versicolor\" role=\"graphics-symbol\" aria-roledescription=\"circle\" transform=\"translate(130,79.99999999999999)\" d=\"M2.7386127875258306,0A2.7386127875258306,2.7386127875258306,0,1,1,-2.7386127875258306,0A2.7386127875258306,2.7386127875258306,0,1,1,2.7386127875258306,0\" fill=\"#f58518\" stroke-width=\"2\" opacity=\"0.7\"></path><path aria-label=\"sepalLength: 5; sepalWidth: 2; species: versicolor\" role=\"graphics-symbol\" aria-roledescription=\"circle\" transform=\"translate(125,111.11111111111111)\" d=\"M2.7386127875258306,0A2.7386127875258306,2.7386127875258306,0,1,1,-2.7386127875258306,0A2.7386127875258306,2.7386127875258306,0,1,1,2.7386127875258306,0\" fill=\"#f58518\" stroke-width=\"2\" opacity=\"0.7\"></path><path aria-label=\"sepalLength: 5.9; sepalWidth: 3; species: versicolor\" role=\"graphics-symbol\" aria-roledescription=\"circle\" transform=\"translate(147.5,66.66666666666667)\" d=\"M2.7386127875258306,0A2.7386127875258306,2.7386127875258306,0,1,1,-2.7386127875258306,0A2.7386127875258306,2.7386127875258306,0,1,1,2.7386127875258306,0\" fill=\"#f58518\" stroke-width=\"2\" opacity=\"0.7\"></path><path aria-label=\"sepalLength: 6; sepalWidth: 2.2; species: versicolor\" role=\"graphics-symbol\" aria-roledescription=\"circle\" transform=\"translate(150,102.22222222222221)\" d=\"M2.7386127875258306,0A2.7386127875258306,2.7386127875258306,0,1,1,-2.7386127875258306,0A2.7386127875258306,2.7386127875258306,0,1,1,2.7386127875258306,0\" fill=\"#f58518\" stroke-width=\"2\" opacity=\"0.7\"></path><path aria-label=\"sepalLength: 6.1; sepalWidth: 2.9; species: versicolor\" role=\"graphics-symbol\" aria-roledescription=\"circle\" transform=\"translate(152.5,71.11111111111113)\" d=\"M2.7386127875258306,0A2.7386127875258306,2.7386127875258306,0,1,1,-2.7386127875258306,0A2.7386127875258306,2.7386127875258306,0,1,1,2.7386127875258306,0\" fill=\"#f58518\" stroke-width=\"2\" opacity=\"0.7\"></path><path aria-label=\"sepalLength: 5.6; sepalWidth: 2.9; species: versicolor\" role=\"graphics-symbol\" aria-roledescription=\"circle\" transform=\"translate(140,71.11111111111113)\" d=\"M2.7386127875258306,0A2.7386127875258306,2.7386127875258306,0,1,1,-2.7386127875258306,0A2.7386127875258306,2.7386127875258306,0,1,1,2.7386127875258306,0\" fill=\"#f58518\" stroke-width=\"2\" opacity=\"0.7\"></path><path aria-label=\"sepalLength: 6.7; sepalWidth: 3.1; species: versicolor\" role=\"graphics-symbol\" aria-roledescription=\"circle\" transform=\"translate(167.5,62.22222222222222)\" d=\"M2.7386127875258306,0A2.7386127875258306,2.7386127875258306,0,1,1,-2.7386127875258306,0A2.7386127875258306,2.7386127875258306,0,1,1,2.7386127875258306,0\" fill=\"#f58518\" stroke-width=\"2\" opacity=\"0.7\"></path><path aria-label=\"sepalLength: 5.6; sepalWidth: 3; species: versicolor\" role=\"graphics-symbol\" aria-roledescription=\"circle\" transform=\"translate(140,66.66666666666667)\" d=\"M2.7386127875258306,0A2.7386127875258306,2.7386127875258306,0,1,1,-2.7386127875258306,0A2.7386127875258306,2.7386127875258306,0,1,1,2.7386127875258306,0\" fill=\"#f58518\" stroke-width=\"2\" opacity=\"0.7\"></path><path aria-label=\"sepalLength: 5.8; sepalWidth: 2.7; species: versicolor\" role=\"graphics-symbol\" aria-roledescription=\"circle\" transform=\"translate(145,79.99999999999999)\" d=\"M2.7386127875258306,0A2.7386127875258306,2.7386127875258306,0,1,1,-2.7386127875258306,0A2.7386127875258306,2.7386127875258306,0,1,1,2.7386127875258306,0\" fill=\"#f58518\" stroke-width=\"2\" opacity=\"0.7\"></path><path aria-label=\"sepalLength: 6.2; sepalWidth: 2.2; species: versicolor\" role=\"graphics-symbol\" aria-roledescription=\"circle\" transform=\"translate(155,102.22222222222221)\" d=\"M2.7386127875258306,0A2.7386127875258306,2.7386127875258306,0,1,1,-2.7386127875258306,0A2.7386127875258306,2.7386127875258306,0,1,1,2.7386127875258306,0\" fill=\"#f58518\" stroke-width=\"2\" opacity=\"0.7\"></path><path aria-label=\"sepalLength: 5.6; sepalWidth: 2.5; species: versicolor\" role=\"graphics-symbol\" aria-roledescription=\"circle\" transform=\"translate(140,88.88888888888889)\" d=\"M2.7386127875258306,0A2.7386127875258306,2.7386127875258306,0,1,1,-2.7386127875258306,0A2.7386127875258306,2.7386127875258306,0,1,1,2.7386127875258306,0\" fill=\"#f58518\" stroke-width=\"2\" opacity=\"0.7\"></path><path aria-label=\"sepalLength: 5.9; sepalWidth: 3.2; species: versicolor\" role=\"graphics-symbol\" aria-roledescription=\"circle\" transform=\"translate(147.5,57.77777777777777)\" d=\"M2.7386127875258306,0A2.7386127875258306,2.7386127875258306,0,1,1,-2.7386127875258306,0A2.7386127875258306,2.7386127875258306,0,1,1,2.7386127875258306,0\" fill=\"#f58518\" stroke-width=\"2\" opacity=\"0.7\"></path><path aria-label=\"sepalLength: 6.1; sepalWidth: 2.8; species: versicolor\" role=\"graphics-symbol\" aria-roledescription=\"circle\" transform=\"translate(152.5,75.55555555555556)\" d=\"M2.7386127875258306,0A2.7386127875258306,2.7386127875258306,0,1,1,-2.7386127875258306,0A2.7386127875258306,2.7386127875258306,0,1,1,2.7386127875258306,0\" fill=\"#f58518\" stroke-width=\"2\" opacity=\"0.7\"></path><path aria-label=\"sepalLength: 6.3; sepalWidth: 2.5; species: versicolor\" role=\"graphics-symbol\" aria-roledescription=\"circle\" transform=\"translate(157.5,88.88888888888889)\" d=\"M2.7386127875258306,0A2.7386127875258306,2.7386127875258306,0,1,1,-2.7386127875258306,0A2.7386127875258306,2.7386127875258306,0,1,1,2.7386127875258306,0\" fill=\"#f58518\" stroke-width=\"2\" opacity=\"0.7\"></path><path aria-label=\"sepalLength: 6.1; sepalWidth: 2.8; species: versicolor\" role=\"graphics-symbol\" aria-roledescription=\"circle\" transform=\"translate(152.5,75.55555555555556)\" d=\"M2.7386127875258306,0A2.7386127875258306,2.7386127875258306,0,1,1,-2.7386127875258306,0A2.7386127875258306,2.7386127875258306,0,1,1,2.7386127875258306,0\" fill=\"#f58518\" stroke-width=\"2\" opacity=\"0.7\"></path><path aria-label=\"sepalLength: 6.4; sepalWidth: 2.9; species: versicolor\" role=\"graphics-symbol\" aria-roledescription=\"circle\" transform=\"translate(160,71.11111111111113)\" d=\"M2.7386127875258306,0A2.7386127875258306,2.7386127875258306,0,1,1,-2.7386127875258306,0A2.7386127875258306,2.7386127875258306,0,1,1,2.7386127875258306,0\" fill=\"#f58518\" stroke-width=\"2\" opacity=\"0.7\"></path><path aria-label=\"sepalLength: 6.6; sepalWidth: 3; species: versicolor\" role=\"graphics-symbol\" aria-roledescription=\"circle\" transform=\"translate(165,66.66666666666667)\" d=\"M2.7386127875258306,0A2.7386127875258306,2.7386127875258306,0,1,1,-2.7386127875258306,0A2.7386127875258306,2.7386127875258306,0,1,1,2.7386127875258306,0\" fill=\"#f58518\" stroke-width=\"2\" opacity=\"0.7\"></path><path aria-label=\"sepalLength: 6.8; sepalWidth: 2.8; species: versicolor\" role=\"graphics-symbol\" aria-roledescription=\"circle\" transform=\"translate(170,75.55555555555556)\" d=\"M2.7386127875258306,0A2.7386127875258306,2.7386127875258306,0,1,1,-2.7386127875258306,0A2.7386127875258306,2.7386127875258306,0,1,1,2.7386127875258306,0\" fill=\"#f58518\" stroke-width=\"2\" opacity=\"0.7\"></path><path aria-label=\"sepalLength: 6.7; sepalWidth: 3; species: versicolor\" role=\"graphics-symbol\" aria-roledescription=\"circle\" transform=\"translate(167.5,66.66666666666667)\" d=\"M2.7386127875258306,0A2.7386127875258306,2.7386127875258306,0,1,1,-2.7386127875258306,0A2.7386127875258306,2.7386127875258306,0,1,1,2.7386127875258306,0\" fill=\"#f58518\" stroke-width=\"2\" opacity=\"0.7\"></path><path aria-label=\"sepalLength: 6; sepalWidth: 2.9; species: versicolor\" role=\"graphics-symbol\" aria-roledescription=\"circle\" transform=\"translate(150,71.11111111111113)\" d=\"M2.7386127875258306,0A2.7386127875258306,2.7386127875258306,0,1,1,-2.7386127875258306,0A2.7386127875258306,2.7386127875258306,0,1,1,2.7386127875258306,0\" fill=\"#f58518\" stroke-width=\"2\" opacity=\"0.7\"></path><path aria-label=\"sepalLength: 5.7; sepalWidth: 2.6; species: versicolor\" role=\"graphics-symbol\" aria-roledescription=\"circle\" transform=\"translate(142.5,84.44444444444443)\" d=\"M2.7386127875258306,0A2.7386127875258306,2.7386127875258306,0,1,1,-2.7386127875258306,0A2.7386127875258306,2.7386127875258306,0,1,1,2.7386127875258306,0\" fill=\"#f58518\" stroke-width=\"2\" opacity=\"0.7\"></path><path aria-label=\"sepalLength: 5.5; sepalWidth: 2.4; species: versicolor\" role=\"graphics-symbol\" aria-roledescription=\"circle\" transform=\"translate(137.5,93.33333333333333)\" d=\"M2.7386127875258306,0A2.7386127875258306,2.7386127875258306,0,1,1,-2.7386127875258306,0A2.7386127875258306,2.7386127875258306,0,1,1,2.7386127875258306,0\" fill=\"#f58518\" stroke-width=\"2\" opacity=\"0.7\"></path><path aria-label=\"sepalLength: 5.5; sepalWidth: 2.4; species: versicolor\" role=\"graphics-symbol\" aria-roledescription=\"circle\" transform=\"translate(137.5,93.33333333333333)\" d=\"M2.7386127875258306,0A2.7386127875258306,2.7386127875258306,0,1,1,-2.7386127875258306,0A2.7386127875258306,2.7386127875258306,0,1,1,2.7386127875258306,0\" fill=\"#f58518\" stroke-width=\"2\" opacity=\"0.7\"></path><path aria-label=\"sepalLength: 5.8; sepalWidth: 2.7; species: versicolor\" role=\"graphics-symbol\" aria-roledescription=\"circle\" transform=\"translate(145,79.99999999999999)\" d=\"M2.7386127875258306,0A2.7386127875258306,2.7386127875258306,0,1,1,-2.7386127875258306,0A2.7386127875258306,2.7386127875258306,0,1,1,2.7386127875258306,0\" fill=\"#f58518\" stroke-width=\"2\" opacity=\"0.7\"></path><path aria-label=\"sepalLength: 6; sepalWidth: 2.7; species: versicolor\" role=\"graphics-symbol\" aria-roledescription=\"circle\" transform=\"translate(150,79.99999999999999)\" d=\"M2.7386127875258306,0A2.7386127875258306,2.7386127875258306,0,1,1,-2.7386127875258306,0A2.7386127875258306,2.7386127875258306,0,1,1,2.7386127875258306,0\" fill=\"#f58518\" stroke-width=\"2\" opacity=\"0.7\"></path><path aria-label=\"sepalLength: 5.4; sepalWidth: 3; species: versicolor\" role=\"graphics-symbol\" aria-roledescription=\"circle\" transform=\"translate(135,66.66666666666667)\" d=\"M2.7386127875258306,0A2.7386127875258306,2.7386127875258306,0,1,1,-2.7386127875258306,0A2.7386127875258306,2.7386127875258306,0,1,1,2.7386127875258306,0\" fill=\"#f58518\" stroke-width=\"2\" opacity=\"0.7\"></path><path aria-label=\"sepalLength: 6; sepalWidth: 3.4; species: versicolor\" role=\"graphics-symbol\" aria-roledescription=\"circle\" transform=\"translate(150,48.88888888888889)\" d=\"M2.7386127875258306,0A2.7386127875258306,2.7386127875258306,0,1,1,-2.7386127875258306,0A2.7386127875258306,2.7386127875258306,0,1,1,2.7386127875258306,0\" fill=\"#f58518\" stroke-width=\"2\" opacity=\"0.7\"></path><path aria-label=\"sepalLength: 6.7; sepalWidth: 3.1; species: versicolor\" role=\"graphics-symbol\" aria-roledescription=\"circle\" transform=\"translate(167.5,62.22222222222222)\" d=\"M2.7386127875258306,0A2.7386127875258306,2.7386127875258306,0,1,1,-2.7386127875258306,0A2.7386127875258306,2.7386127875258306,0,1,1,2.7386127875258306,0\" fill=\"#f58518\" stroke-width=\"2\" opacity=\"0.7\"></path><path aria-label=\"sepalLength: 6.3; sepalWidth: 2.3; species: versicolor\" role=\"graphics-symbol\" aria-roledescription=\"circle\" transform=\"translate(157.5,97.77777777777779)\" d=\"M2.7386127875258306,0A2.7386127875258306,2.7386127875258306,0,1,1,-2.7386127875258306,0A2.7386127875258306,2.7386127875258306,0,1,1,2.7386127875258306,0\" fill=\"#f58518\" stroke-width=\"2\" opacity=\"0.7\"></path><path aria-label=\"sepalLength: 5.6; sepalWidth: 3; species: versicolor\" role=\"graphics-symbol\" aria-roledescription=\"circle\" transform=\"translate(140,66.66666666666667)\" d=\"M2.7386127875258306,0A2.7386127875258306,2.7386127875258306,0,1,1,-2.7386127875258306,0A2.7386127875258306,2.7386127875258306,0,1,1,2.7386127875258306,0\" fill=\"#f58518\" stroke-width=\"2\" opacity=\"0.7\"></path><path aria-label=\"sepalLength: 5.5; sepalWidth: 2.5; species: versicolor\" role=\"graphics-symbol\" aria-roledescription=\"circle\" transform=\"translate(137.5,88.88888888888889)\" d=\"M2.7386127875258306,0A2.7386127875258306,2.7386127875258306,0,1,1,-2.7386127875258306,0A2.7386127875258306,2.7386127875258306,0,1,1,2.7386127875258306,0\" fill=\"#f58518\" stroke-width=\"2\" opacity=\"0.7\"></path><path aria-label=\"sepalLength: 5.5; sepalWidth: 2.6; species: versicolor\" role=\"graphics-symbol\" aria-roledescription=\"circle\" transform=\"translate(137.5,84.44444444444443)\" d=\"M2.7386127875258306,0A2.7386127875258306,2.7386127875258306,0,1,1,-2.7386127875258306,0A2.7386127875258306,2.7386127875258306,0,1,1,2.7386127875258306,0\" fill=\"#f58518\" stroke-width=\"2\" opacity=\"0.7\"></path><path aria-label=\"sepalLength: 6.1; sepalWidth: 3; species: versicolor\" role=\"graphics-symbol\" aria-roledescription=\"circle\" transform=\"translate(152.5,66.66666666666667)\" d=\"M2.7386127875258306,0A2.7386127875258306,2.7386127875258306,0,1,1,-2.7386127875258306,0A2.7386127875258306,2.7386127875258306,0,1,1,2.7386127875258306,0\" fill=\"#f58518\" stroke-width=\"2\" opacity=\"0.7\"></path><path aria-label=\"sepalLength: 5.8; sepalWidth: 2.6; species: versicolor\" role=\"graphics-symbol\" aria-roledescription=\"circle\" transform=\"translate(145,84.44444444444443)\" d=\"M2.7386127875258306,0A2.7386127875258306,2.7386127875258306,0,1,1,-2.7386127875258306,0A2.7386127875258306,2.7386127875258306,0,1,1,2.7386127875258306,0\" fill=\"#f58518\" stroke-width=\"2\" opacity=\"0.7\"></path><path aria-label=\"sepalLength: 5; sepalWidth: 2.3; species: versicolor\" role=\"graphics-symbol\" aria-roledescription=\"circle\" transform=\"translate(125,97.77777777777779)\" d=\"M2.7386127875258306,0A2.7386127875258306,2.7386127875258306,0,1,1,-2.7386127875258306,0A2.7386127875258306,2.7386127875258306,0,1,1,2.7386127875258306,0\" fill=\"#f58518\" stroke-width=\"2\" opacity=\"0.7\"></path><path aria-label=\"sepalLength: 5.6; sepalWidth: 2.7; species: versicolor\" role=\"graphics-symbol\" aria-roledescription=\"circle\" transform=\"translate(140,79.99999999999999)\" d=\"M2.7386127875258306,0A2.7386127875258306,2.7386127875258306,0,1,1,-2.7386127875258306,0A2.7386127875258306,2.7386127875258306,0,1,1,2.7386127875258306,0\" fill=\"#f58518\" stroke-width=\"2\" opacity=\"0.7\"></path><path aria-label=\"sepalLength: 5.7; sepalWidth: 3; species: versicolor\" role=\"graphics-symbol\" aria-roledescription=\"circle\" transform=\"translate(142.5,66.66666666666667)\" d=\"M2.7386127875258306,0A2.7386127875258306,2.7386127875258306,0,1,1,-2.7386127875258306,0A2.7386127875258306,2.7386127875258306,0,1,1,2.7386127875258306,0\" fill=\"#f58518\" stroke-width=\"2\" opacity=\"0.7\"></path><path aria-label=\"sepalLength: 5.7; sepalWidth: 2.9; species: versicolor\" role=\"graphics-symbol\" aria-roledescription=\"circle\" transform=\"translate(142.5,71.11111111111113)\" d=\"M2.7386127875258306,0A2.7386127875258306,2.7386127875258306,0,1,1,-2.7386127875258306,0A2.7386127875258306,2.7386127875258306,0,1,1,2.7386127875258306,0\" fill=\"#f58518\" stroke-width=\"2\" opacity=\"0.7\"></path><path aria-label=\"sepalLength: 6.2; sepalWidth: 2.9; species: versicolor\" role=\"graphics-symbol\" aria-roledescription=\"circle\" transform=\"translate(155,71.11111111111113)\" d=\"M2.7386127875258306,0A2.7386127875258306,2.7386127875258306,0,1,1,-2.7386127875258306,0A2.7386127875258306,2.7386127875258306,0,1,1,2.7386127875258306,0\" fill=\"#f58518\" stroke-width=\"2\" opacity=\"0.7\"></path><path aria-label=\"sepalLength: 5.1; sepalWidth: 2.5; species: versicolor\" role=\"graphics-symbol\" aria-roledescription=\"circle\" transform=\"translate(127.49999999999999,88.88888888888889)\" d=\"M2.7386127875258306,0A2.7386127875258306,2.7386127875258306,0,1,1,-2.7386127875258306,0A2.7386127875258306,2.7386127875258306,0,1,1,2.7386127875258306,0\" fill=\"#f58518\" stroke-width=\"2\" opacity=\"0.7\"></path><path aria-label=\"sepalLength: 5.7; sepalWidth: 2.8; species: versicolor\" role=\"graphics-symbol\" aria-roledescription=\"circle\" transform=\"translate(142.5,75.55555555555556)\" d=\"M2.7386127875258306,0A2.7386127875258306,2.7386127875258306,0,1,1,-2.7386127875258306,0A2.7386127875258306,2.7386127875258306,0,1,1,2.7386127875258306,0\" fill=\"#f58518\" stroke-width=\"2\" opacity=\"0.7\"></path><path aria-label=\"sepalLength: 6.3; sepalWidth: 3.3; species: virginica\" role=\"graphics-symbol\" aria-roledescription=\"circle\" transform=\"translate(157.5,53.33333333333334)\" d=\"M2.7386127875258306,0A2.7386127875258306,2.7386127875258306,0,1,1,-2.7386127875258306,0A2.7386127875258306,2.7386127875258306,0,1,1,2.7386127875258306,0\" fill=\"#e45756\" stroke-width=\"2\" opacity=\"0.7\"></path><path aria-label=\"sepalLength: 5.8; sepalWidth: 2.7; species: virginica\" role=\"graphics-symbol\" aria-roledescription=\"circle\" transform=\"translate(145,79.99999999999999)\" d=\"M2.7386127875258306,0A2.7386127875258306,2.7386127875258306,0,1,1,-2.7386127875258306,0A2.7386127875258306,2.7386127875258306,0,1,1,2.7386127875258306,0\" fill=\"#e45756\" stroke-width=\"2\" opacity=\"0.7\"></path><path aria-label=\"sepalLength: 7.1; sepalWidth: 3; species: virginica\" role=\"graphics-symbol\" aria-roledescription=\"circle\" transform=\"translate(177.5,66.66666666666667)\" d=\"M2.7386127875258306,0A2.7386127875258306,2.7386127875258306,0,1,1,-2.7386127875258306,0A2.7386127875258306,2.7386127875258306,0,1,1,2.7386127875258306,0\" fill=\"#e45756\" stroke-width=\"2\" opacity=\"0.7\"></path><path aria-label=\"sepalLength: 6.3; sepalWidth: 2.9; species: virginica\" role=\"graphics-symbol\" aria-roledescription=\"circle\" transform=\"translate(157.5,71.11111111111113)\" d=\"M2.7386127875258306,0A2.7386127875258306,2.7386127875258306,0,1,1,-2.7386127875258306,0A2.7386127875258306,2.7386127875258306,0,1,1,2.7386127875258306,0\" fill=\"#e45756\" stroke-width=\"2\" opacity=\"0.7\"></path><path aria-label=\"sepalLength: 6.5; sepalWidth: 3; species: virginica\" role=\"graphics-symbol\" aria-roledescription=\"circle\" transform=\"translate(162.5,66.66666666666667)\" d=\"M2.7386127875258306,0A2.7386127875258306,2.7386127875258306,0,1,1,-2.7386127875258306,0A2.7386127875258306,2.7386127875258306,0,1,1,2.7386127875258306,0\" fill=\"#e45756\" stroke-width=\"2\" opacity=\"0.7\"></path><path aria-label=\"sepalLength: 7.6; sepalWidth: 3; species: virginica\" role=\"graphics-symbol\" aria-roledescription=\"circle\" transform=\"translate(190,66.66666666666667)\" d=\"M2.7386127875258306,0A2.7386127875258306,2.7386127875258306,0,1,1,-2.7386127875258306,0A2.7386127875258306,2.7386127875258306,0,1,1,2.7386127875258306,0\" fill=\"#e45756\" stroke-width=\"2\" opacity=\"0.7\"></path><path aria-label=\"sepalLength: 4.9; sepalWidth: 2.5; species: virginica\" role=\"graphics-symbol\" aria-roledescription=\"circle\" transform=\"translate(122.50000000000001,88.88888888888889)\" d=\"M2.7386127875258306,0A2.7386127875258306,2.7386127875258306,0,1,1,-2.7386127875258306,0A2.7386127875258306,2.7386127875258306,0,1,1,2.7386127875258306,0\" fill=\"#e45756\" stroke-width=\"2\" opacity=\"0.7\"></path><path aria-label=\"sepalLength: 7.3; sepalWidth: 2.9; species: virginica\" role=\"graphics-symbol\" aria-roledescription=\"circle\" transform=\"translate(182.5,71.11111111111113)\" d=\"M2.7386127875258306,0A2.7386127875258306,2.7386127875258306,0,1,1,-2.7386127875258306,0A2.7386127875258306,2.7386127875258306,0,1,1,2.7386127875258306,0\" fill=\"#e45756\" stroke-width=\"2\" opacity=\"0.7\"></path><path aria-label=\"sepalLength: 6.7; sepalWidth: 2.5; species: virginica\" role=\"graphics-symbol\" aria-roledescription=\"circle\" transform=\"translate(167.5,88.88888888888889)\" d=\"M2.7386127875258306,0A2.7386127875258306,2.7386127875258306,0,1,1,-2.7386127875258306,0A2.7386127875258306,2.7386127875258306,0,1,1,2.7386127875258306,0\" fill=\"#e45756\" stroke-width=\"2\" opacity=\"0.7\"></path><path aria-label=\"sepalLength: 7.2; sepalWidth: 3.6; species: virginica\" role=\"graphics-symbol\" aria-roledescription=\"circle\" transform=\"translate(180,39.99999999999999)\" d=\"M2.7386127875258306,0A2.7386127875258306,2.7386127875258306,0,1,1,-2.7386127875258306,0A2.7386127875258306,2.7386127875258306,0,1,1,2.7386127875258306,0\" fill=\"#e45756\" stroke-width=\"2\" opacity=\"0.7\"></path><path aria-label=\"sepalLength: 6.5; sepalWidth: 3.2; species: virginica\" role=\"graphics-symbol\" aria-roledescription=\"circle\" transform=\"translate(162.5,57.77777777777777)\" d=\"M2.7386127875258306,0A2.7386127875258306,2.7386127875258306,0,1,1,-2.7386127875258306,0A2.7386127875258306,2.7386127875258306,0,1,1,2.7386127875258306,0\" fill=\"#e45756\" stroke-width=\"2\" opacity=\"0.7\"></path><path aria-label=\"sepalLength: 6.4; sepalWidth: 2.7; species: virginica\" role=\"graphics-symbol\" aria-roledescription=\"circle\" transform=\"translate(160,79.99999999999999)\" d=\"M2.7386127875258306,0A2.7386127875258306,2.7386127875258306,0,1,1,-2.7386127875258306,0A2.7386127875258306,2.7386127875258306,0,1,1,2.7386127875258306,0\" fill=\"#e45756\" stroke-width=\"2\" opacity=\"0.7\"></path><path aria-label=\"sepalLength: 6.8; sepalWidth: 3; species: virginica\" role=\"graphics-symbol\" aria-roledescription=\"circle\" transform=\"translate(170,66.66666666666667)\" d=\"M2.7386127875258306,0A2.7386127875258306,2.7386127875258306,0,1,1,-2.7386127875258306,0A2.7386127875258306,2.7386127875258306,0,1,1,2.7386127875258306,0\" fill=\"#e45756\" stroke-width=\"2\" opacity=\"0.7\"></path><path aria-label=\"sepalLength: 5.7; sepalWidth: 2.5; species: virginica\" role=\"graphics-symbol\" aria-roledescription=\"circle\" transform=\"translate(142.5,88.88888888888889)\" d=\"M2.7386127875258306,0A2.7386127875258306,2.7386127875258306,0,1,1,-2.7386127875258306,0A2.7386127875258306,2.7386127875258306,0,1,1,2.7386127875258306,0\" fill=\"#e45756\" stroke-width=\"2\" opacity=\"0.7\"></path><path aria-label=\"sepalLength: 5.8; sepalWidth: 2.8; species: virginica\" role=\"graphics-symbol\" aria-roledescription=\"circle\" transform=\"translate(145,75.55555555555556)\" d=\"M2.7386127875258306,0A2.7386127875258306,2.7386127875258306,0,1,1,-2.7386127875258306,0A2.7386127875258306,2.7386127875258306,0,1,1,2.7386127875258306,0\" fill=\"#e45756\" stroke-width=\"2\" opacity=\"0.7\"></path><path aria-label=\"sepalLength: 6.4; sepalWidth: 3.2; species: virginica\" role=\"graphics-symbol\" aria-roledescription=\"circle\" transform=\"translate(160,57.77777777777777)\" d=\"M2.7386127875258306,0A2.7386127875258306,2.7386127875258306,0,1,1,-2.7386127875258306,0A2.7386127875258306,2.7386127875258306,0,1,1,2.7386127875258306,0\" fill=\"#e45756\" stroke-width=\"2\" opacity=\"0.7\"></path><path aria-label=\"sepalLength: 6.5; sepalWidth: 3; species: virginica\" role=\"graphics-symbol\" aria-roledescription=\"circle\" transform=\"translate(162.5,66.66666666666667)\" d=\"M2.7386127875258306,0A2.7386127875258306,2.7386127875258306,0,1,1,-2.7386127875258306,0A2.7386127875258306,2.7386127875258306,0,1,1,2.7386127875258306,0\" fill=\"#e45756\" stroke-width=\"2\" opacity=\"0.7\"></path><path aria-label=\"sepalLength: 7.7; sepalWidth: 3.8; species: virginica\" role=\"graphics-symbol\" aria-roledescription=\"circle\" transform=\"translate(192.5,31.11111111111111)\" d=\"M2.7386127875258306,0A2.7386127875258306,2.7386127875258306,0,1,1,-2.7386127875258306,0A2.7386127875258306,2.7386127875258306,0,1,1,2.7386127875258306,0\" fill=\"#e45756\" stroke-width=\"2\" opacity=\"0.7\"></path><path aria-label=\"sepalLength: 7.7; sepalWidth: 2.6; species: virginica\" role=\"graphics-symbol\" aria-roledescription=\"circle\" transform=\"translate(192.5,84.44444444444443)\" d=\"M2.7386127875258306,0A2.7386127875258306,2.7386127875258306,0,1,1,-2.7386127875258306,0A2.7386127875258306,2.7386127875258306,0,1,1,2.7386127875258306,0\" fill=\"#e45756\" stroke-width=\"2\" opacity=\"0.7\"></path><path aria-label=\"sepalLength: 6; sepalWidth: 2.2; species: virginica\" role=\"graphics-symbol\" aria-roledescription=\"circle\" transform=\"translate(150,102.22222222222221)\" d=\"M2.7386127875258306,0A2.7386127875258306,2.7386127875258306,0,1,1,-2.7386127875258306,0A2.7386127875258306,2.7386127875258306,0,1,1,2.7386127875258306,0\" fill=\"#e45756\" stroke-width=\"2\" opacity=\"0.7\"></path><path aria-label=\"sepalLength: 6.9; sepalWidth: 3.2; species: virginica\" role=\"graphics-symbol\" aria-roledescription=\"circle\" transform=\"translate(172.5,57.77777777777777)\" d=\"M2.7386127875258306,0A2.7386127875258306,2.7386127875258306,0,1,1,-2.7386127875258306,0A2.7386127875258306,2.7386127875258306,0,1,1,2.7386127875258306,0\" fill=\"#e45756\" stroke-width=\"2\" opacity=\"0.7\"></path><path aria-label=\"sepalLength: 5.6; sepalWidth: 2.8; species: virginica\" role=\"graphics-symbol\" aria-roledescription=\"circle\" transform=\"translate(140,75.55555555555556)\" d=\"M2.7386127875258306,0A2.7386127875258306,2.7386127875258306,0,1,1,-2.7386127875258306,0A2.7386127875258306,2.7386127875258306,0,1,1,2.7386127875258306,0\" fill=\"#e45756\" stroke-width=\"2\" opacity=\"0.7\"></path><path aria-label=\"sepalLength: 7.7; sepalWidth: 2.8; species: virginica\" role=\"graphics-symbol\" aria-roledescription=\"circle\" transform=\"translate(192.5,75.55555555555556)\" d=\"M2.7386127875258306,0A2.7386127875258306,2.7386127875258306,0,1,1,-2.7386127875258306,0A2.7386127875258306,2.7386127875258306,0,1,1,2.7386127875258306,0\" fill=\"#e45756\" stroke-width=\"2\" opacity=\"0.7\"></path><path aria-label=\"sepalLength: 6.3; sepalWidth: 2.7; species: virginica\" role=\"graphics-symbol\" aria-roledescription=\"circle\" transform=\"translate(157.5,79.99999999999999)\" d=\"M2.7386127875258306,0A2.7386127875258306,2.7386127875258306,0,1,1,-2.7386127875258306,0A2.7386127875258306,2.7386127875258306,0,1,1,2.7386127875258306,0\" fill=\"#e45756\" stroke-width=\"2\" opacity=\"0.7\"></path><path aria-label=\"sepalLength: 6.7; sepalWidth: 3.3; species: virginica\" role=\"graphics-symbol\" aria-roledescription=\"circle\" transform=\"translate(167.5,53.33333333333334)\" d=\"M2.7386127875258306,0A2.7386127875258306,2.7386127875258306,0,1,1,-2.7386127875258306,0A2.7386127875258306,2.7386127875258306,0,1,1,2.7386127875258306,0\" fill=\"#e45756\" stroke-width=\"2\" opacity=\"0.7\"></path><path aria-label=\"sepalLength: 7.2; sepalWidth: 3.2; species: virginica\" role=\"graphics-symbol\" aria-roledescription=\"circle\" transform=\"translate(180,57.77777777777777)\" d=\"M2.7386127875258306,0A2.7386127875258306,2.7386127875258306,0,1,1,-2.7386127875258306,0A2.7386127875258306,2.7386127875258306,0,1,1,2.7386127875258306,0\" fill=\"#e45756\" stroke-width=\"2\" opacity=\"0.7\"></path><path aria-label=\"sepalLength: 6.2; sepalWidth: 2.8; species: virginica\" role=\"graphics-symbol\" aria-roledescription=\"circle\" transform=\"translate(155,75.55555555555556)\" d=\"M2.7386127875258306,0A2.7386127875258306,2.7386127875258306,0,1,1,-2.7386127875258306,0A2.7386127875258306,2.7386127875258306,0,1,1,2.7386127875258306,0\" fill=\"#e45756\" stroke-width=\"2\" opacity=\"0.7\"></path><path aria-label=\"sepalLength: 6.1; sepalWidth: 3; species: virginica\" role=\"graphics-symbol\" aria-roledescription=\"circle\" transform=\"translate(152.5,66.66666666666667)\" d=\"M2.7386127875258306,0A2.7386127875258306,2.7386127875258306,0,1,1,-2.7386127875258306,0A2.7386127875258306,2.7386127875258306,0,1,1,2.7386127875258306,0\" fill=\"#e45756\" stroke-width=\"2\" opacity=\"0.7\"></path><path aria-label=\"sepalLength: 6.4; sepalWidth: 2.8; species: virginica\" role=\"graphics-symbol\" aria-roledescription=\"circle\" transform=\"translate(160,75.55555555555556)\" d=\"M2.7386127875258306,0A2.7386127875258306,2.7386127875258306,0,1,1,-2.7386127875258306,0A2.7386127875258306,2.7386127875258306,0,1,1,2.7386127875258306,0\" fill=\"#e45756\" stroke-width=\"2\" opacity=\"0.7\"></path><path aria-label=\"sepalLength: 7.2; sepalWidth: 3; species: virginica\" role=\"graphics-symbol\" aria-roledescription=\"circle\" transform=\"translate(180,66.66666666666667)\" d=\"M2.7386127875258306,0A2.7386127875258306,2.7386127875258306,0,1,1,-2.7386127875258306,0A2.7386127875258306,2.7386127875258306,0,1,1,2.7386127875258306,0\" fill=\"#e45756\" stroke-width=\"2\" opacity=\"0.7\"></path><path aria-label=\"sepalLength: 7.4; sepalWidth: 2.8; species: virginica\" role=\"graphics-symbol\" aria-roledescription=\"circle\" transform=\"translate(185,75.55555555555556)\" d=\"M2.7386127875258306,0A2.7386127875258306,2.7386127875258306,0,1,1,-2.7386127875258306,0A2.7386127875258306,2.7386127875258306,0,1,1,2.7386127875258306,0\" fill=\"#e45756\" stroke-width=\"2\" opacity=\"0.7\"></path><path aria-label=\"sepalLength: 7.9; sepalWidth: 3.8; species: virginica\" role=\"graphics-symbol\" aria-roledescription=\"circle\" transform=\"translate(197.5,31.11111111111111)\" d=\"M2.7386127875258306,0A2.7386127875258306,2.7386127875258306,0,1,1,-2.7386127875258306,0A2.7386127875258306,2.7386127875258306,0,1,1,2.7386127875258306,0\" fill=\"#e45756\" stroke-width=\"2\" opacity=\"0.7\"></path><path aria-label=\"sepalLength: 6.4; sepalWidth: 2.8; species: virginica\" role=\"graphics-symbol\" aria-roledescription=\"circle\" transform=\"translate(160,75.55555555555556)\" d=\"M2.7386127875258306,0A2.7386127875258306,2.7386127875258306,0,1,1,-2.7386127875258306,0A2.7386127875258306,2.7386127875258306,0,1,1,2.7386127875258306,0\" fill=\"#e45756\" stroke-width=\"2\" opacity=\"0.7\"></path><path aria-label=\"sepalLength: 6.3; sepalWidth: 2.8; species: virginica\" role=\"graphics-symbol\" aria-roledescription=\"circle\" transform=\"translate(157.5,75.55555555555556)\" d=\"M2.7386127875258306,0A2.7386127875258306,2.7386127875258306,0,1,1,-2.7386127875258306,0A2.7386127875258306,2.7386127875258306,0,1,1,2.7386127875258306,0\" fill=\"#e45756\" stroke-width=\"2\" opacity=\"0.7\"></path><path aria-label=\"sepalLength: 6.1; sepalWidth: 2.6; species: virginica\" role=\"graphics-symbol\" aria-roledescription=\"circle\" transform=\"translate(152.5,84.44444444444443)\" d=\"M2.7386127875258306,0A2.7386127875258306,2.7386127875258306,0,1,1,-2.7386127875258306,0A2.7386127875258306,2.7386127875258306,0,1,1,2.7386127875258306,0\" fill=\"#e45756\" stroke-width=\"2\" opacity=\"0.7\"></path><path aria-label=\"sepalLength: 7.7; sepalWidth: 3; species: virginica\" role=\"graphics-symbol\" aria-roledescription=\"circle\" transform=\"translate(192.5,66.66666666666667)\" d=\"M2.7386127875258306,0A2.7386127875258306,2.7386127875258306,0,1,1,-2.7386127875258306,0A2.7386127875258306,2.7386127875258306,0,1,1,2.7386127875258306,0\" fill=\"#e45756\" stroke-width=\"2\" opacity=\"0.7\"></path><path aria-label=\"sepalLength: 6.3; sepalWidth: 3.4; species: virginica\" role=\"graphics-symbol\" aria-roledescription=\"circle\" transform=\"translate(157.5,48.88888888888889)\" d=\"M2.7386127875258306,0A2.7386127875258306,2.7386127875258306,0,1,1,-2.7386127875258306,0A2.7386127875258306,2.7386127875258306,0,1,1,2.7386127875258306,0\" fill=\"#e45756\" stroke-width=\"2\" opacity=\"0.7\"></path><path aria-label=\"sepalLength: 6.4; sepalWidth: 3.1; species: virginica\" role=\"graphics-symbol\" aria-roledescription=\"circle\" transform=\"translate(160,62.22222222222222)\" d=\"M2.7386127875258306,0A2.7386127875258306,2.7386127875258306,0,1,1,-2.7386127875258306,0A2.7386127875258306,2.7386127875258306,0,1,1,2.7386127875258306,0\" fill=\"#e45756\" stroke-width=\"2\" opacity=\"0.7\"></path><path aria-label=\"sepalLength: 6; sepalWidth: 3; species: virginica\" role=\"graphics-symbol\" aria-roledescription=\"circle\" transform=\"translate(150,66.66666666666667)\" d=\"M2.7386127875258306,0A2.7386127875258306,2.7386127875258306,0,1,1,-2.7386127875258306,0A2.7386127875258306,2.7386127875258306,0,1,1,2.7386127875258306,0\" fill=\"#e45756\" stroke-width=\"2\" opacity=\"0.7\"></path><path aria-label=\"sepalLength: 6.9; sepalWidth: 3.1; species: virginica\" role=\"graphics-symbol\" aria-roledescription=\"circle\" transform=\"translate(172.5,62.22222222222222)\" d=\"M2.7386127875258306,0A2.7386127875258306,2.7386127875258306,0,1,1,-2.7386127875258306,0A2.7386127875258306,2.7386127875258306,0,1,1,2.7386127875258306,0\" fill=\"#e45756\" stroke-width=\"2\" opacity=\"0.7\"></path><path aria-label=\"sepalLength: 6.7; sepalWidth: 3.1; species: virginica\" role=\"graphics-symbol\" aria-roledescription=\"circle\" transform=\"translate(167.5,62.22222222222222)\" d=\"M2.7386127875258306,0A2.7386127875258306,2.7386127875258306,0,1,1,-2.7386127875258306,0A2.7386127875258306,2.7386127875258306,0,1,1,2.7386127875258306,0\" fill=\"#e45756\" stroke-width=\"2\" opacity=\"0.7\"></path><path aria-label=\"sepalLength: 6.9; sepalWidth: 3.1; species: virginica\" role=\"graphics-symbol\" aria-roledescription=\"circle\" transform=\"translate(172.5,62.22222222222222)\" d=\"M2.7386127875258306,0A2.7386127875258306,2.7386127875258306,0,1,1,-2.7386127875258306,0A2.7386127875258306,2.7386127875258306,0,1,1,2.7386127875258306,0\" fill=\"#e45756\" stroke-width=\"2\" opacity=\"0.7\"></path><path aria-label=\"sepalLength: 5.8; sepalWidth: 2.7; species: virginica\" role=\"graphics-symbol\" aria-roledescription=\"circle\" transform=\"translate(145,79.99999999999999)\" d=\"M2.7386127875258306,0A2.7386127875258306,2.7386127875258306,0,1,1,-2.7386127875258306,0A2.7386127875258306,2.7386127875258306,0,1,1,2.7386127875258306,0\" fill=\"#e45756\" stroke-width=\"2\" opacity=\"0.7\"></path><path aria-label=\"sepalLength: 6.8; sepalWidth: 3.2; species: virginica\" role=\"graphics-symbol\" aria-roledescription=\"circle\" transform=\"translate(170,57.77777777777777)\" d=\"M2.7386127875258306,0A2.7386127875258306,2.7386127875258306,0,1,1,-2.7386127875258306,0A2.7386127875258306,2.7386127875258306,0,1,1,2.7386127875258306,0\" fill=\"#e45756\" stroke-width=\"2\" opacity=\"0.7\"></path><path aria-label=\"sepalLength: 6.7; sepalWidth: 3.3; species: virginica\" role=\"graphics-symbol\" aria-roledescription=\"circle\" transform=\"translate(167.5,53.33333333333334)\" d=\"M2.7386127875258306,0A2.7386127875258306,2.7386127875258306,0,1,1,-2.7386127875258306,0A2.7386127875258306,2.7386127875258306,0,1,1,2.7386127875258306,0\" fill=\"#e45756\" stroke-width=\"2\" opacity=\"0.7\"></path><path aria-label=\"sepalLength: 6.7; sepalWidth: 3; species: virginica\" role=\"graphics-symbol\" aria-roledescription=\"circle\" transform=\"translate(167.5,66.66666666666667)\" d=\"M2.7386127875258306,0A2.7386127875258306,2.7386127875258306,0,1,1,-2.7386127875258306,0A2.7386127875258306,2.7386127875258306,0,1,1,2.7386127875258306,0\" fill=\"#e45756\" stroke-width=\"2\" opacity=\"0.7\"></path><path aria-label=\"sepalLength: 6.3; sepalWidth: 2.5; species: virginica\" role=\"graphics-symbol\" aria-roledescription=\"circle\" transform=\"translate(157.5,88.88888888888889)\" d=\"M2.7386127875258306,0A2.7386127875258306,2.7386127875258306,0,1,1,-2.7386127875258306,0A2.7386127875258306,2.7386127875258306,0,1,1,2.7386127875258306,0\" fill=\"#e45756\" stroke-width=\"2\" opacity=\"0.7\"></path><path aria-label=\"sepalLength: 6.5; sepalWidth: 3; species: virginica\" role=\"graphics-symbol\" aria-roledescription=\"circle\" transform=\"translate(162.5,66.66666666666667)\" d=\"M2.7386127875258306,0A2.7386127875258306,2.7386127875258306,0,1,1,-2.7386127875258306,0A2.7386127875258306,2.7386127875258306,0,1,1,2.7386127875258306,0\" fill=\"#e45756\" stroke-width=\"2\" opacity=\"0.7\"></path><path aria-label=\"sepalLength: 6.2; sepalWidth: 3.4; species: virginica\" role=\"graphics-symbol\" aria-roledescription=\"circle\" transform=\"translate(155,48.88888888888889)\" d=\"M2.7386127875258306,0A2.7386127875258306,2.7386127875258306,0,1,1,-2.7386127875258306,0A2.7386127875258306,2.7386127875258306,0,1,1,2.7386127875258306,0\" fill=\"#e45756\" stroke-width=\"2\" opacity=\"0.7\"></path><path aria-label=\"sepalLength: 5.9; sepalWidth: 3; species: virginica\" role=\"graphics-symbol\" aria-roledescription=\"circle\" transform=\"translate(147.5,66.66666666666667)\" d=\"M2.7386127875258306,0A2.7386127875258306,2.7386127875258306,0,1,1,-2.7386127875258306,0A2.7386127875258306,2.7386127875258306,0,1,1,2.7386127875258306,0\" fill=\"#e45756\" stroke-width=\"2\" opacity=\"0.7\"></path></g><g class=\"mark-group role-legend\" role=\"graphics-symbol\" aria-roledescription=\"legend\" aria-label=\"Symbol legend titled 'species' for fill color with 3 values: setosa, versicolor, virginica\"><g transform=\"translate(218,0)\"><path class=\"background\" aria-hidden=\"true\" d=\"M0,0h65v53h-65Z\" pointer-events=\"none\"></path><g><g class=\"mark-group role-legend-entry\"><g transform=\"translate(0,16)\"><path class=\"background\" aria-hidden=\"true\" d=\"M0,0h0v0h0Z\" pointer-events=\"none\"></path><g><g class=\"mark-group role-scope\" role=\"graphics-object\" aria-roledescription=\"group mark container\"><g transform=\"translate(0,0)\"><path class=\"background\" aria-hidden=\"true\" d=\"M0,0h65v11h-65Z\" pointer-events=\"none\" opacity=\"1\"></path><g><g class=\"mark-symbol role-legend-symbol\" pointer-events=\"none\"><path transform=\"translate(6,6)\" d=\"M5,0A5,5,0,1,1,-5,0A5,5,0,1,1,5,0\" fill=\"#4c78a8\" stroke-width=\"1.5\" opacity=\"0.7\"></path></g><g class=\"mark-text role-legend-label\" pointer-events=\"none\"><text text-anchor=\"start\" transform=\"translate(16,9)\" font-family=\"sans-serif\" font-size=\"10px\" fill=\"#000\" opacity=\"1\">setosa</text></g></g><path class=\"foreground\" aria-hidden=\"true\" d=\"\" pointer-events=\"none\" display=\"none\"></path></g><g transform=\"translate(0,13)\"><path class=\"background\" aria-hidden=\"true\" d=\"M0,0h65v11h-65Z\" pointer-events=\"none\" opacity=\"1\"></path><g><g class=\"mark-symbol role-legend-symbol\" pointer-events=\"none\"><path transform=\"translate(6,6)\" d=\"M5,0A5,5,0,1,1,-5,0A5,5,0,1,1,5,0\" fill=\"#f58518\" stroke-width=\"1.5\" opacity=\"0.7\"></path></g><g class=\"mark-text role-legend-label\" pointer-events=\"none\"><text text-anchor=\"start\" transform=\"translate(16,9)\" font-family=\"sans-serif\" font-size=\"10px\" fill=\"#000\" opacity=\"1\">versicolor</text></g></g><path class=\"foreground\" aria-hidden=\"true\" d=\"\" pointer-events=\"none\" display=\"none\"></path></g><g transform=\"translate(0,26)\"><path class=\"background\" aria-hidden=\"true\" d=\"M0,0h65v11h-65Z\" pointer-events=\"none\" opacity=\"1\"></path><g><g class=\"mark-symbol role-legend-symbol\" pointer-events=\"none\"><path transform=\"translate(6,6)\" d=\"M5,0A5,5,0,1,1,-5,0A5,5,0,1,1,5,0\" fill=\"#e45756\" stroke-width=\"1.5\" opacity=\"0.7\"></path></g><g class=\"mark-text role-legend-label\" pointer-events=\"none\"><text text-anchor=\"start\" transform=\"translate(16,9)\" font-family=\"sans-serif\" font-size=\"10px\" fill=\"#000\" opacity=\"1\">virginica</text></g></g><path class=\"foreground\" aria-hidden=\"true\" d=\"\" pointer-events=\"none\" display=\"none\"></path></g></g></g><path class=\"foreground\" aria-hidden=\"true\" d=\"\" pointer-events=\"none\" display=\"none\"></path></g></g><g class=\"mark-text role-legend-title\" pointer-events=\"none\"><text text-anchor=\"start\" transform=\"translate(0,9)\" font-family=\"sans-serif\" font-size=\"11px\" font-weight=\"bold\" fill=\"#000\" opacity=\"1\">species</text></g></g><path class=\"foreground\" aria-hidden=\"true\" d=\"\" pointer-events=\"none\" display=\"none\"></path></g></g></g><path class=\"foreground\" aria-hidden=\"true\" d=\"\" display=\"none\"></path></g></g></g></svg>\n"
      ],
      "text/plain": [
       "@vlplot(\n",
       "    data={\n",
       "        values=...\n",
       "    },\n",
       "    mark={\n",
       "        type=\"circle\"\n",
       "    },\n",
       "    encoding={\n",
       "        x={\n",
       "            field=\"sepalLength\",\n",
       "            type=\"quantitative\"\n",
       "        },\n",
       "        y={\n",
       "            field=\"sepalWidth\",\n",
       "            type=\"quantitative\"\n",
       "        },\n",
       "        color={\n",
       "            field=\"species\",\n",
       "            type=\"nominal\"\n",
       "        }\n",
       "    }\n",
       ")"
      ]
     },
     "execution_count": 434,
     "metadata": {},
     "output_type": "execute_result"
    }
   ],
   "source": [
    "s"
   ]
  },
  {
   "cell_type": "code",
   "execution_count": 385,
   "id": "4ce7297d-7577-4e3d-8ebc-a6e494875cd6",
   "metadata": {},
   "outputs": [
    {
     "data": {
      "application/vnd.vegalite.v4+json": {
       "layer": [
        {
         "data": {
          "values": [
           {
            "x": 1,
            "y": 1,
            "zcolor": 2
           },
           {
            "x": 2,
            "y": 4,
            "zcolor": 2
           },
           {
            "x": 3,
            "y": 9,
            "zcolor": 2
           },
           {
            "x": 4,
            "y": 16,
            "zcolor": 2
           },
           {
            "x": 5,
            "y": 25,
            "zcolor": 2
           },
           {
            "x": 6,
            "y": 36,
            "zcolor": 2
           },
           {
            "x": 7,
            "y": 49,
            "zcolor": 1
           },
           {
            "x": 8,
            "y": 64,
            "zcolor": 1
           },
           {
            "x": 9,
            "y": 81,
            "zcolor": 1
           },
           {
            "x": 10,
            "y": 100,
            "zcolor": 2
           }
          ]
         },
         "encoding": {
          "color": {
           "field": "zcolor",
           "type": "ordinal"
          },
          "x": {
           "field": "x",
           "type": "ordinal"
          },
          "y": {
           "field": "y",
           "type": "quantitative"
          }
         },
         "mark": {
          "type": "circle"
         }
        },
        {
         "data": {
          "values": [
           {
            "x": 1,
            "y": 1
           },
           {
            "x": 2,
            "y": 4
           },
           {
            "x": 3,
            "y": 9
           },
           {
            "x": 4,
            "y": 16
           },
           {
            "x": 5,
            "y": 25
           },
           {
            "x": 6,
            "y": 36
           },
           {
            "x": 7,
            "y": 49
           },
           {
            "x": 8,
            "y": 64
           },
           {
            "x": 9,
            "y": 81
           },
           {
            "x": 10,
            "y": 100
           }
          ]
         },
         "encoding": {
          "x": {
           "field": "x",
           "type": "ordinal"
          },
          "y": {
           "field": "y",
           "type": "quantitative"
          }
         },
         "mark": {
          "type": "line"
         }
        }
       ]
      },
      "image/png": "[encoded data removed]",
      "image/svg+xml": [
       "<?xml version=\"1.0\" encoding=\"utf-8\"?>\n",
       "<!DOCTYPE svg PUBLIC \"-//W3C//DTD SVG 1.1//EN\" \"http://www.w3.org/Graphics/SVG/1.1/DTD/svg11.dtd\">\n",
       "<svg class=\"marks\" width=\"306\" height=\"249\" viewBox=\"0 0 306 249\" version=\"1.1\" xmlns=\"http://www.w3.org/2000/svg\" xmlns:xlink=\"http://www.w3.org/1999/xlink\"><rect width=\"306\" height=\"249\" fill=\"white\"></rect><g fill=\"none\" stroke-miterlimit=\"10\" transform=\"translate(45,10)\"><g class=\"mark-group role-frame root\" role=\"graphics-object\" aria-roledescription=\"group mark container\"><g transform=\"translate(0,0)\"><path class=\"background\" aria-hidden=\"true\" d=\"M0.5,0.5h200v200h-200Z\" stroke=\"#ddd\"></path><g><g class=\"mark-group role-axis\" aria-hidden=\"true\"><g transform=\"translate(0.5,0.5)\"><path class=\"background\" aria-hidden=\"true\" d=\"M0,0h0v0h0Z\" pointer-events=\"none\"></path><g><g class=\"mark-rule role-axis-grid\" pointer-events=\"none\"><line transform=\"translate(0,200)\" x2=\"200\" y2=\"0\" stroke=\"#ddd\" stroke-width=\"1\" opacity=\"1\"></line><line transform=\"translate(0,160)\" x2=\"200\" y2=\"0\" stroke=\"#ddd\" stroke-width=\"1\" opacity=\"1\"></line><line transform=\"translate(0,120)\" x2=\"200\" y2=\"0\" stroke=\"#ddd\" stroke-width=\"1\" opacity=\"1\"></line><line transform=\"translate(0,80)\" x2=\"200\" y2=\"0\" stroke=\"#ddd\" stroke-width=\"1\" opacity=\"1\"></line><line transform=\"translate(0,40)\" x2=\"200\" y2=\"0\" stroke=\"#ddd\" stroke-width=\"1\" opacity=\"1\"></line><line transform=\"translate(0,0)\" x2=\"200\" y2=\"0\" stroke=\"#ddd\" stroke-width=\"1\" opacity=\"1\"></line></g></g><path class=\"foreground\" aria-hidden=\"true\" d=\"\" pointer-events=\"none\" display=\"none\"></path></g></g><g class=\"mark-group role-axis\" role=\"graphics-symbol\" aria-roledescription=\"axis\" aria-label=\"X-axis titled 'x' for a discrete scale with 10 values: 1, 2, 3, 4, 5, ending with 10\"><g transform=\"translate(0.5,200.5)\"><path class=\"background\" aria-hidden=\"true\" d=\"M0,0h0v0h0Z\" pointer-events=\"none\"></path><g><g class=\"mark-rule role-axis-tick\" pointer-events=\"none\"><line transform=\"translate(10,0)\" x2=\"0\" y2=\"5\" stroke=\"#888\" stroke-width=\"1\" opacity=\"1\"></line><line transform=\"translate(30,0)\" x2=\"0\" y2=\"5\" stroke=\"#888\" stroke-width=\"1\" opacity=\"1\"></line><line transform=\"translate(50,0)\" x2=\"0\" y2=\"5\" stroke=\"#888\" stroke-width=\"1\" opacity=\"1\"></line><line transform=\"translate(70,0)\" x2=\"0\" y2=\"5\" stroke=\"#888\" stroke-width=\"1\" opacity=\"1\"></line><line transform=\"translate(90,0)\" x2=\"0\" y2=\"5\" stroke=\"#888\" stroke-width=\"1\" opacity=\"1\"></line><line transform=\"translate(110,0)\" x2=\"0\" y2=\"5\" stroke=\"#888\" stroke-width=\"1\" opacity=\"1\"></line><line transform=\"translate(130,0)\" x2=\"0\" y2=\"5\" stroke=\"#888\" stroke-width=\"1\" opacity=\"1\"></line><line transform=\"translate(150,0)\" x2=\"0\" y2=\"5\" stroke=\"#888\" stroke-width=\"1\" opacity=\"1\"></line><line transform=\"translate(170,0)\" x2=\"0\" y2=\"5\" stroke=\"#888\" stroke-width=\"1\" opacity=\"1\"></line><line transform=\"translate(190,0)\" x2=\"0\" y2=\"5\" stroke=\"#888\" stroke-width=\"1\" opacity=\"1\"></line></g><g class=\"mark-text role-axis-label\" pointer-events=\"none\"><text text-anchor=\"end\" transform=\"translate(10,7) rotate(270) translate(0,3)\" font-family=\"sans-serif\" font-size=\"10px\" fill=\"#000\" opacity=\"1\">1</text><text text-anchor=\"end\" transform=\"translate(30,7) rotate(270) translate(0,3)\" font-family=\"sans-serif\" font-size=\"10px\" fill=\"#000\" opacity=\"1\">2</text><text text-anchor=\"end\" transform=\"translate(50,7) rotate(270) translate(0,3)\" font-family=\"sans-serif\" font-size=\"10px\" fill=\"#000\" opacity=\"1\">3</text><text text-anchor=\"end\" transform=\"translate(70,7) rotate(270) translate(0,3)\" font-family=\"sans-serif\" font-size=\"10px\" fill=\"#000\" opacity=\"1\">4</text><text text-anchor=\"end\" transform=\"translate(90,7) rotate(270) translate(0,3)\" font-family=\"sans-serif\" font-size=\"10px\" fill=\"#000\" opacity=\"1\">5</text><text text-anchor=\"end\" transform=\"translate(110,7) rotate(270) translate(0,3)\" font-family=\"sans-serif\" font-size=\"10px\" fill=\"#000\" opacity=\"1\">6</text><text text-anchor=\"end\" transform=\"translate(130,7) rotate(270) translate(0,3)\" font-family=\"sans-serif\" font-size=\"10px\" fill=\"#000\" opacity=\"1\">7</text><text text-anchor=\"end\" transform=\"translate(150,7) rotate(270) translate(0,3)\" font-family=\"sans-serif\" font-size=\"10px\" fill=\"#000\" opacity=\"1\">8</text><text text-anchor=\"end\" transform=\"translate(170,7) rotate(270) translate(0,3)\" font-family=\"sans-serif\" font-size=\"10px\" fill=\"#000\" opacity=\"1\">9</text><text text-anchor=\"end\" transform=\"translate(190,7) rotate(270) translate(0,3)\" font-family=\"sans-serif\" font-size=\"10px\" fill=\"#000\" opacity=\"1\">10</text></g><g class=\"mark-rule role-axis-domain\" pointer-events=\"none\"><line transform=\"translate(0,0)\" x2=\"200\" y2=\"0\" stroke=\"#888\" stroke-width=\"1\" opacity=\"1\"></line></g><g class=\"mark-text role-axis-title\" pointer-events=\"none\"><text text-anchor=\"middle\" transform=\"translate(100,32)\" font-family=\"sans-serif\" font-size=\"11px\" font-weight=\"bold\" fill=\"#000\" opacity=\"1\">x</text></g></g><path class=\"foreground\" aria-hidden=\"true\" d=\"\" pointer-events=\"none\" display=\"none\"></path></g></g><g class=\"mark-group role-axis\" role=\"graphics-symbol\" aria-roledescription=\"axis\" aria-label=\"Y-axis titled 'y' for a linear scale with values from 0 to 100\"><g transform=\"translate(0.5,0.5)\"><path class=\"background\" aria-hidden=\"true\" d=\"M0,0h0v0h0Z\" pointer-events=\"none\"></path><g><g class=\"mark-rule role-axis-tick\" pointer-events=\"none\"><line transform=\"translate(0,200)\" x2=\"-5\" y2=\"0\" stroke=\"#888\" stroke-width=\"1\" opacity=\"1\"></line><line transform=\"translate(0,160)\" x2=\"-5\" y2=\"0\" stroke=\"#888\" stroke-width=\"1\" opacity=\"1\"></line><line transform=\"translate(0,120)\" x2=\"-5\" y2=\"0\" stroke=\"#888\" stroke-width=\"1\" opacity=\"1\"></line><line transform=\"translate(0,80)\" x2=\"-5\" y2=\"0\" stroke=\"#888\" stroke-width=\"1\" opacity=\"1\"></line><line transform=\"translate(0,40)\" x2=\"-5\" y2=\"0\" stroke=\"#888\" stroke-width=\"1\" opacity=\"1\"></line><line transform=\"translate(0,0)\" x2=\"-5\" y2=\"0\" stroke=\"#888\" stroke-width=\"1\" opacity=\"1\"></line></g><g class=\"mark-text role-axis-label\" pointer-events=\"none\"><text text-anchor=\"end\" transform=\"translate(-7,203)\" font-family=\"sans-serif\" font-size=\"10px\" fill=\"#000\" opacity=\"1\">0</text><text text-anchor=\"end\" transform=\"translate(-7,163)\" font-family=\"sans-serif\" font-size=\"10px\" fill=\"#000\" opacity=\"1\">20</text><text text-anchor=\"end\" transform=\"translate(-7,123)\" font-family=\"sans-serif\" font-size=\"10px\" fill=\"#000\" opacity=\"1\">40</text><text text-anchor=\"end\" transform=\"translate(-7,83)\" font-family=\"sans-serif\" font-size=\"10px\" fill=\"#000\" opacity=\"1\">60</text><text text-anchor=\"end\" transform=\"translate(-7,42.99999999999999)\" font-family=\"sans-serif\" font-size=\"10px\" fill=\"#000\" opacity=\"1\">80</text><text text-anchor=\"end\" transform=\"translate(-7,3)\" font-family=\"sans-serif\" font-size=\"10px\" fill=\"#000\" opacity=\"1\">100</text></g><g class=\"mark-rule role-axis-domain\" pointer-events=\"none\"><line transform=\"translate(0,200)\" x2=\"0\" y2=\"-200\" stroke=\"#888\" stroke-width=\"1\" opacity=\"1\"></line></g><g class=\"mark-text role-axis-title\" pointer-events=\"none\"><text text-anchor=\"middle\" transform=\"translate(-29,100) rotate(-90) translate(0,-2)\" font-family=\"sans-serif\" font-size=\"11px\" font-weight=\"bold\" fill=\"#000\" opacity=\"1\">y</text></g></g><path class=\"foreground\" aria-hidden=\"true\" d=\"\" pointer-events=\"none\" display=\"none\"></path></g></g><g class=\"mark-symbol role-mark layer_0_marks\" role=\"graphics-object\" aria-roledescription=\"symbol mark container\"><path aria-label=\"x: 1; y: 1; zcolor: 2\" role=\"graphics-symbol\" aria-roledescription=\"circle\" transform=\"translate(10,198)\" d=\"M2.7386127875258306,0A2.7386127875258306,2.7386127875258306,0,1,1,-2.7386127875258306,0A2.7386127875258306,2.7386127875258306,0,1,1,2.7386127875258306,0\" fill=\"rgb(56, 135, 192)\" stroke-width=\"2\" opacity=\"0.7\"></path><path aria-label=\"x: 2; y: 4; zcolor: 2\" role=\"graphics-symbol\" aria-roledescription=\"circle\" transform=\"translate(30,192)\" d=\"M2.7386127875258306,0A2.7386127875258306,2.7386127875258306,0,1,1,-2.7386127875258306,0A2.7386127875258306,2.7386127875258306,0,1,1,2.7386127875258306,0\" fill=\"rgb(56, 135, 192)\" stroke-width=\"2\" opacity=\"0.7\"></path><path aria-label=\"x: 3; y: 9; zcolor: 2\" role=\"graphics-symbol\" aria-roledescription=\"circle\" transform=\"translate(50,182)\" d=\"M2.7386127875258306,0A2.7386127875258306,2.7386127875258306,0,1,1,-2.7386127875258306,0A2.7386127875258306,2.7386127875258306,0,1,1,2.7386127875258306,0\" fill=\"rgb(56, 135, 192)\" stroke-width=\"2\" opacity=\"0.7\"></path><path aria-label=\"x: 4; y: 16; zcolor: 2\" role=\"graphics-symbol\" aria-roledescription=\"circle\" transform=\"translate(70,168)\" d=\"M2.7386127875258306,0A2.7386127875258306,2.7386127875258306,0,1,1,-2.7386127875258306,0A2.7386127875258306,2.7386127875258306,0,1,1,2.7386127875258306,0\" fill=\"rgb(56, 135, 192)\" stroke-width=\"2\" opacity=\"0.7\"></path><path aria-label=\"x: 5; y: 25; zcolor: 2\" role=\"graphics-symbol\" aria-roledescription=\"circle\" transform=\"translate(90,150)\" d=\"M2.7386127875258306,0A2.7386127875258306,2.7386127875258306,0,1,1,-2.7386127875258306,0A2.7386127875258306,2.7386127875258306,0,1,1,2.7386127875258306,0\" fill=\"rgb(56, 135, 192)\" stroke-width=\"2\" opacity=\"0.7\"></path><path aria-label=\"x: 6; y: 36; zcolor: 2\" role=\"graphics-symbol\" aria-roledescription=\"circle\" transform=\"translate(110,128)\" d=\"M2.7386127875258306,0A2.7386127875258306,2.7386127875258306,0,1,1,-2.7386127875258306,0A2.7386127875258306,2.7386127875258306,0,1,1,2.7386127875258306,0\" fill=\"rgb(56, 135, 192)\" stroke-width=\"2\" opacity=\"0.7\"></path><path aria-label=\"x: 7; y: 49; zcolor: 1\" role=\"graphics-symbol\" aria-roledescription=\"circle\" transform=\"translate(130,102)\" d=\"M2.7386127875258306,0A2.7386127875258306,2.7386127875258306,0,1,1,-2.7386127875258306,0A2.7386127875258306,2.7386127875258306,0,1,1,2.7386127875258306,0\" fill=\"rgb(134, 188, 220)\" stroke-width=\"2\" opacity=\"0.7\"></path><path aria-label=\"x: 8; y: 64; zcolor: 1\" role=\"graphics-symbol\" aria-roledescription=\"circle\" transform=\"translate(150,72)\" d=\"M2.7386127875258306,0A2.7386127875258306,2.7386127875258306,0,1,1,-2.7386127875258306,0A2.7386127875258306,2.7386127875258306,0,1,1,2.7386127875258306,0\" fill=\"rgb(134, 188, 220)\" stroke-width=\"2\" opacity=\"0.7\"></path><path aria-label=\"x: 9; y: 81; zcolor: 1\" role=\"graphics-symbol\" aria-roledescription=\"circle\" transform=\"translate(170,37.999999999999986)\" d=\"M2.7386127875258306,0A2.7386127875258306,2.7386127875258306,0,1,1,-2.7386127875258306,0A2.7386127875258306,2.7386127875258306,0,1,1,2.7386127875258306,0\" fill=\"rgb(134, 188, 220)\" stroke-width=\"2\" opacity=\"0.7\"></path><path aria-label=\"x: 10; y: 100; zcolor: 2\" role=\"graphics-symbol\" aria-roledescription=\"circle\" transform=\"translate(190,0)\" d=\"M2.7386127875258306,0A2.7386127875258306,2.7386127875258306,0,1,1,-2.7386127875258306,0A2.7386127875258306,2.7386127875258306,0,1,1,2.7386127875258306,0\" fill=\"rgb(56, 135, 192)\" stroke-width=\"2\" opacity=\"0.7\"></path></g><g class=\"mark-line role-mark layer_1_marks\" role=\"graphics-object\" aria-roledescription=\"line mark container\"><path aria-label=\"x: 1; y: 1\" role=\"graphics-symbol\" aria-roledescription=\"line mark\" d=\"M10,198L30,192L50,182L70,168L90,150L110,128L130,102L150,72L170,37.999999999999986L190,0\" stroke=\"#4c78a8\" stroke-width=\"2\"></path></g><g class=\"mark-group role-legend\" role=\"graphics-symbol\" aria-roledescription=\"legend\" aria-label=\"Symbol legend titled 'zcolor' for fill color with 2 values: 1, 2\"><g transform=\"translate(218,0)\"><path class=\"background\" aria-hidden=\"true\" d=\"M0,0h38v40h-38Z\" pointer-events=\"none\"></path><g><g class=\"mark-group role-legend-entry\"><g transform=\"translate(0,16)\"><path class=\"background\" aria-hidden=\"true\" d=\"M0,0h0v0h0Z\" pointer-events=\"none\"></path><g><g class=\"mark-group role-scope\" role=\"graphics-object\" aria-roledescription=\"group mark container\"><g transform=\"translate(0,0)\"><path class=\"background\" aria-hidden=\"true\" d=\"M0,0h22v11h-22Z\" pointer-events=\"none\" opacity=\"1\"></path><g><g class=\"mark-symbol role-legend-symbol\" pointer-events=\"none\"><path transform=\"translate(6,6)\" d=\"M5,0A5,5,0,1,1,-5,0A5,5,0,1,1,5,0\" fill=\"rgb(134, 188, 220)\" stroke-width=\"1.5\" opacity=\"0.7\"></path></g><g class=\"mark-text role-legend-label\" pointer-events=\"none\"><text text-anchor=\"start\" transform=\"translate(16,9)\" font-family=\"sans-serif\" font-size=\"10px\" fill=\"#000\" opacity=\"1\">1</text></g></g><path class=\"foreground\" aria-hidden=\"true\" d=\"\" pointer-events=\"none\" display=\"none\"></path></g><g transform=\"translate(0,13)\"><path class=\"background\" aria-hidden=\"true\" d=\"M0,0h22v11h-22Z\" pointer-events=\"none\" opacity=\"1\"></path><g><g class=\"mark-symbol role-legend-symbol\" pointer-events=\"none\"><path transform=\"translate(6,6)\" d=\"M5,0A5,5,0,1,1,-5,0A5,5,0,1,1,5,0\" fill=\"rgb(56, 135, 192)\" stroke-width=\"1.5\" opacity=\"0.7\"></path></g><g class=\"mark-text role-legend-label\" pointer-events=\"none\"><text text-anchor=\"start\" transform=\"translate(16,9)\" font-family=\"sans-serif\" font-size=\"10px\" fill=\"#000\" opacity=\"1\">2</text></g></g><path class=\"foreground\" aria-hidden=\"true\" d=\"\" pointer-events=\"none\" display=\"none\"></path></g></g></g><path class=\"foreground\" aria-hidden=\"true\" d=\"\" pointer-events=\"none\" display=\"none\"></path></g></g><g class=\"mark-text role-legend-title\" pointer-events=\"none\"><text text-anchor=\"start\" transform=\"translate(0,9)\" font-family=\"sans-serif\" font-size=\"11px\" font-weight=\"bold\" fill=\"#000\" opacity=\"1\">zcolor</text></g></g><path class=\"foreground\" aria-hidden=\"true\" d=\"\" pointer-events=\"none\" display=\"none\"></path></g></g></g><path class=\"foreground\" aria-hidden=\"true\" d=\"\" display=\"none\"></path></g></g></g></svg>\n"
      ],
      "text/plain": [
       "@vlplot(\n",
       "    layer=[\n",
       "        {\n",
       "            data={\n",
       "                values=...\n",
       "            },\n",
       "            mark={\n",
       "                type=\"circle\"\n",
       "            },\n",
       "            encoding={\n",
       "                x={\n",
       "                    field=\"x\",\n",
       "                    type=\"ordinal\"\n",
       "                },\n",
       "                y={\n",
       "                    field=\"y\",\n",
       "                    type=\"quantitative\"\n",
       "                },\n",
       "                color={\n",
       "                    field=\"zcolor\",\n",
       "                    type=\"ordinal\"\n",
       "                }\n",
       "            }\n",
       "        },\n",
       "        {\n",
       "            data={\n",
       "                values=...\n",
       "            },\n",
       "            mark={\n",
       "                type=\"line\"\n",
       "            },\n",
       "            encoding={\n",
       "                x={\n",
       "                    type=\"ordinal\",\n",
       "                    field=\"x\"\n",
       "                },\n",
       "                y={\n",
       "                    type=\"quantitative\",\n",
       "                    field=\"y\"\n",
       "                }\n",
       "            }\n",
       "        }\n",
       "    ]\n",
       ")"
      ]
     },
     "execution_count": 385,
     "metadata": {},
     "output_type": "execute_result"
    }
   ],
   "source": [
    "P = @vlplot() + p + s"
   ]
  },
  {
   "cell_type": "markdown",
   "id": "abb31ea5-c727-4481-a425-18c7c9d26bc6",
   "metadata": {},
   "source": [
    "## Barplot"
   ]
  },
  {
   "cell_type": "code",
   "execution_count": 386,
   "id": "e071c311-fd5b-4541-985d-b17ffd32c0b1",
   "metadata": {},
   "outputs": [
    {
     "data": {
      "application/vnd.vegalite.v4+json": {
       "layer": [
        {
         "data": {
          "values": [
           {
            "x": "g",
            "y": 0.059211895810085124
           },
           {
            "x": "d",
            "y": 0.03059225182994596
           },
           {
            "x": "c",
            "y": 0.6025894877442883
           },
           {
            "x": "b",
            "y": 0.7157548582581248
           },
           {
            "x": "g",
            "y": 0.14105528591204952
           },
           {
            "x": "f",
            "y": 0.8583734103296834
           },
           {
            "x": "f",
            "y": 0.12773043999868916
           },
           {
            "x": "f",
            "y": 0.3486642121243817
           },
           {
            "x": "a",
            "y": 0.0036263880907672075
           },
           {
            "x": "e",
            "y": 0.002902469975122335
           },
           {
            "x": "b",
            "y": 0.9647802501290403
           },
           {
            "x": "a",
            "y": 0.4721188948667492
           },
           {
            "x": "g",
            "y": 0.864840383467167
           },
           {
            "x": "g",
            "y": 0.7681335959937792
           },
           {
            "x": "e",
            "y": 0.9243959085898987
           },
           {
            "x": "f",
            "y": 0.26461026784855113
           },
           {
            "x": "e",
            "y": 0.40950502316987314
           },
           {
            "x": "f",
            "y": 0.5974784871147487
           },
           {
            "x": "a",
            "y": 0.17064731220943785
           },
           {
            "x": "e",
            "y": 0.6413645471931917
           }
          ]
         },
         "encoding": {
          "color": {
           "value": "green"
          },
          "x": {
           "field": "x",
           "type": "nominal"
          },
          "y": {
           "aggregate": "mean",
           "field": "y",
           "type": "quantitative"
          }
         },
         "mark": {
          "opacity": 0.5,
          "type": "bar"
         }
        },
        {
         "data": {
          "values": [
           {
            "x": "g",
            "y": 0.059211895810085124
           },
           {
            "x": "d",
            "y": 0.03059225182994596
           },
           {
            "x": "c",
            "y": 0.6025894877442883
           },
           {
            "x": "b",
            "y": 0.7157548582581248
           },
           {
            "x": "g",
            "y": 0.14105528591204952
           },
           {
            "x": "f",
            "y": 0.8583734103296834
           },
           {
            "x": "f",
            "y": 0.12773043999868916
           },
           {
            "x": "f",
            "y": 0.3486642121243817
           },
           {
            "x": "a",
            "y": 0.0036263880907672075
           },
           {
            "x": "e",
            "y": 0.002902469975122335
           },
           {
            "x": "b",
            "y": 0.9647802501290403
           },
           {
            "x": "a",
            "y": 0.4721188948667492
           },
           {
            "x": "g",
            "y": 0.864840383467167
           },
           {
            "x": "g",
            "y": 0.7681335959937792
           },
           {
            "x": "e",
            "y": 0.9243959085898987
           },
           {
            "x": "f",
            "y": 0.26461026784855113
           },
           {
            "x": "e",
            "y": 0.40950502316987314
           },
           {
            "x": "f",
            "y": 0.5974784871147487
           },
           {
            "x": "a",
            "y": 0.17064731220943785
           },
           {
            "x": "e",
            "y": 0.6413645471931917
           }
          ]
         },
         "encoding": {
          "x": {
           "field": "x",
           "type": "nominal"
          },
          "y": {
           "aggregate": "max",
           "field": "y",
           "type": "quantitative"
          }
         },
         "mark": {
          "opacity": 0.5,
          "type": "bar"
         }
        },
        {
         "data": {
          "values": [
           {
            "x": "g",
            "y": 0.059211895810085124
           },
           {
            "x": "d",
            "y": 0.03059225182994596
           },
           {
            "x": "c",
            "y": 0.6025894877442883
           },
           {
            "x": "b",
            "y": 0.7157548582581248
           },
           {
            "x": "g",
            "y": 0.14105528591204952
           },
           {
            "x": "f",
            "y": 0.8583734103296834
           },
           {
            "x": "f",
            "y": 0.12773043999868916
           },
           {
            "x": "f",
            "y": 0.3486642121243817
           },
           {
            "x": "a",
            "y": 0.0036263880907672075
           },
           {
            "x": "e",
            "y": 0.002902469975122335
           },
           {
            "x": "b",
            "y": 0.9647802501290403
           },
           {
            "x": "a",
            "y": 0.4721188948667492
           },
           {
            "x": "g",
            "y": 0.864840383467167
           },
           {
            "x": "g",
            "y": 0.7681335959937792
           },
           {
            "x": "e",
            "y": 0.9243959085898987
           },
           {
            "x": "f",
            "y": 0.26461026784855113
           },
           {
            "x": "e",
            "y": 0.40950502316987314
           },
           {
            "x": "f",
            "y": 0.5974784871147487
           },
           {
            "x": "a",
            "y": 0.17064731220943785
           },
           {
            "x": "e",
            "y": 0.6413645471931917
           }
          ]
         },
         "encoding": {
          "color": {
           "value": "red"
          },
          "x": {
           "field": "x",
           "type": "nominal"
          },
          "y": {
           "aggregate": "min",
           "field": "y",
           "type": "quantitative"
          }
         },
         "mark": {
          "opacity": 0.5,
          "type": "bar"
         }
        }
       ]
      },
      "image/png": "[encoded data removed]",
      "image/svg+xml": [
       "<?xml version=\"1.0\" encoding=\"utf-8\"?>\n",
       "<!DOCTYPE svg PUBLIC \"-//W3C//DTD SVG 1.1//EN\" \"http://www.w3.org/Graphics/SVG/1.1/DTD/svg11.dtd\">\n",
       "<svg class=\"marks\" width=\"187\" height=\"243\" viewBox=\"0 0 187 243\" version=\"1.1\" xmlns=\"http://www.w3.org/2000/svg\" xmlns:xlink=\"http://www.w3.org/1999/xlink\"><rect width=\"187\" height=\"243\" fill=\"white\"></rect><g fill=\"none\" stroke-miterlimit=\"10\" transform=\"translate(42,10)\"><g class=\"mark-group role-frame root\" role=\"graphics-object\" aria-roledescription=\"group mark container\"><g transform=\"translate(0,0)\"><path class=\"background\" aria-hidden=\"true\" d=\"M0.5,0.5h140v200h-140Z\" stroke=\"#ddd\"></path><g><g class=\"mark-group role-axis\" aria-hidden=\"true\"><g transform=\"translate(0.5,0.5)\"><path class=\"background\" aria-hidden=\"true\" d=\"M0,0h0v0h0Z\" pointer-events=\"none\"></path><g><g class=\"mark-rule role-axis-grid\" pointer-events=\"none\"><line transform=\"translate(0,200)\" x2=\"140\" y2=\"0\" stroke=\"#ddd\" stroke-width=\"1\" opacity=\"1\"></line><line transform=\"translate(0,160)\" x2=\"140\" y2=\"0\" stroke=\"#ddd\" stroke-width=\"1\" opacity=\"1\"></line><line transform=\"translate(0,120)\" x2=\"140\" y2=\"0\" stroke=\"#ddd\" stroke-width=\"1\" opacity=\"1\"></line><line transform=\"translate(0,80)\" x2=\"140\" y2=\"0\" stroke=\"#ddd\" stroke-width=\"1\" opacity=\"1\"></line><line transform=\"translate(0,40)\" x2=\"140\" y2=\"0\" stroke=\"#ddd\" stroke-width=\"1\" opacity=\"1\"></line><line transform=\"translate(0,0)\" x2=\"140\" y2=\"0\" stroke=\"#ddd\" stroke-width=\"1\" opacity=\"1\"></line></g></g><path class=\"foreground\" aria-hidden=\"true\" d=\"\" pointer-events=\"none\" display=\"none\"></path></g></g><g class=\"mark-group role-axis\" role=\"graphics-symbol\" aria-roledescription=\"axis\" aria-label=\"X-axis titled 'x' for a discrete scale with 7 values: a, b, c, d, e, f, g\"><g transform=\"translate(0.5,200.5)\"><path class=\"background\" aria-hidden=\"true\" d=\"M0,0h0v0h0Z\" pointer-events=\"none\"></path><g><g class=\"mark-rule role-axis-tick\" pointer-events=\"none\"><line transform=\"translate(10,0)\" x2=\"0\" y2=\"5\" stroke=\"#888\" stroke-width=\"1\" opacity=\"1\"></line><line transform=\"translate(30,0)\" x2=\"0\" y2=\"5\" stroke=\"#888\" stroke-width=\"1\" opacity=\"1\"></line><line transform=\"translate(50,0)\" x2=\"0\" y2=\"5\" stroke=\"#888\" stroke-width=\"1\" opacity=\"1\"></line><line transform=\"translate(70,0)\" x2=\"0\" y2=\"5\" stroke=\"#888\" stroke-width=\"1\" opacity=\"1\"></line><line transform=\"translate(90,0)\" x2=\"0\" y2=\"5\" stroke=\"#888\" stroke-width=\"1\" opacity=\"1\"></line><line transform=\"translate(110,0)\" x2=\"0\" y2=\"5\" stroke=\"#888\" stroke-width=\"1\" opacity=\"1\"></line><line transform=\"translate(130,0)\" x2=\"0\" y2=\"5\" stroke=\"#888\" stroke-width=\"1\" opacity=\"1\"></line></g><g class=\"mark-text role-axis-label\" pointer-events=\"none\"><text text-anchor=\"end\" transform=\"translate(9.5,7) rotate(270) translate(0,3)\" font-family=\"sans-serif\" font-size=\"10px\" fill=\"#000\" opacity=\"1\">a</text><text text-anchor=\"end\" transform=\"translate(29.5,7) rotate(270) translate(0,3)\" font-family=\"sans-serif\" font-size=\"10px\" fill=\"#000\" opacity=\"1\">b</text><text text-anchor=\"end\" transform=\"translate(49.5,7) rotate(270) translate(0,3)\" font-family=\"sans-serif\" font-size=\"10px\" fill=\"#000\" opacity=\"1\">c</text><text text-anchor=\"end\" transform=\"translate(69.5,7) rotate(270) translate(0,3)\" font-family=\"sans-serif\" font-size=\"10px\" fill=\"#000\" opacity=\"1\">d</text><text text-anchor=\"end\" transform=\"translate(89.5,7) rotate(270) translate(0,3)\" font-family=\"sans-serif\" font-size=\"10px\" fill=\"#000\" opacity=\"1\">e</text><text text-anchor=\"end\" transform=\"translate(109.5,7) rotate(270) translate(0,3)\" font-family=\"sans-serif\" font-size=\"10px\" fill=\"#000\" opacity=\"1\">f</text><text text-anchor=\"end\" transform=\"translate(129.5,7) rotate(270) translate(0,3)\" font-family=\"sans-serif\" font-size=\"10px\" fill=\"#000\" opacity=\"1\">g</text></g><g class=\"mark-rule role-axis-domain\" pointer-events=\"none\"><line transform=\"translate(0,0)\" x2=\"140\" y2=\"0\" stroke=\"#888\" stroke-width=\"1\" opacity=\"1\"></line></g><g class=\"mark-text role-axis-title\" pointer-events=\"none\"><text text-anchor=\"middle\" transform=\"translate(70,26)\" font-family=\"sans-serif\" font-size=\"11px\" font-weight=\"bold\" fill=\"#000\" opacity=\"1\">x</text></g></g><path class=\"foreground\" aria-hidden=\"true\" d=\"\" pointer-events=\"none\" display=\"none\"></path></g></g><g class=\"mark-group role-axis\" role=\"graphics-symbol\" aria-roledescription=\"axis\" aria-label=\"Y-axis titled 'Mean of y, Max of y, Min of y' for a linear scale with values from 0.0 to 1.0\"><g transform=\"translate(0.5,0.5)\"><path class=\"background\" aria-hidden=\"true\" d=\"M0,0h0v0h0Z\" pointer-events=\"none\"></path><g><g class=\"mark-rule role-axis-tick\" pointer-events=\"none\"><line transform=\"translate(0,200)\" x2=\"-5\" y2=\"0\" stroke=\"#888\" stroke-width=\"1\" opacity=\"1\"></line><line transform=\"translate(0,160)\" x2=\"-5\" y2=\"0\" stroke=\"#888\" stroke-width=\"1\" opacity=\"1\"></line><line transform=\"translate(0,120)\" x2=\"-5\" y2=\"0\" stroke=\"#888\" stroke-width=\"1\" opacity=\"1\"></line><line transform=\"translate(0,80)\" x2=\"-5\" y2=\"0\" stroke=\"#888\" stroke-width=\"1\" opacity=\"1\"></line><line transform=\"translate(0,40)\" x2=\"-5\" y2=\"0\" stroke=\"#888\" stroke-width=\"1\" opacity=\"1\"></line><line transform=\"translate(0,0)\" x2=\"-5\" y2=\"0\" stroke=\"#888\" stroke-width=\"1\" opacity=\"1\"></line></g><g class=\"mark-text role-axis-label\" pointer-events=\"none\"><text text-anchor=\"end\" transform=\"translate(-7,203)\" font-family=\"sans-serif\" font-size=\"10px\" fill=\"#000\" opacity=\"1\">0.0</text><text text-anchor=\"end\" transform=\"translate(-7,163)\" font-family=\"sans-serif\" font-size=\"10px\" fill=\"#000\" opacity=\"1\">0.2</text><text text-anchor=\"end\" transform=\"translate(-7,123)\" font-family=\"sans-serif\" font-size=\"10px\" fill=\"#000\" opacity=\"1\">0.4</text><text text-anchor=\"end\" transform=\"translate(-7,83)\" font-family=\"sans-serif\" font-size=\"10px\" fill=\"#000\" opacity=\"1\">0.6</text><text text-anchor=\"end\" transform=\"translate(-7,42.99999999999999)\" font-family=\"sans-serif\" font-size=\"10px\" fill=\"#000\" opacity=\"1\">0.8</text><text text-anchor=\"end\" transform=\"translate(-7,3)\" font-family=\"sans-serif\" font-size=\"10px\" fill=\"#000\" opacity=\"1\">1.0</text></g><g class=\"mark-rule role-axis-domain\" pointer-events=\"none\"><line transform=\"translate(0,200)\" x2=\"0\" y2=\"-200\" stroke=\"#888\" stroke-width=\"1\" opacity=\"1\"></line></g><g class=\"mark-text role-axis-title\" pointer-events=\"none\"><text text-anchor=\"middle\" transform=\"translate(-26,100) rotate(-90) translate(0,-2)\" font-family=\"sans-serif\" font-size=\"11px\" font-weight=\"bold\" fill=\"#000\" opacity=\"1\">Mean of y, Max of y, Min of y</text></g></g><path class=\"foreground\" aria-hidden=\"true\" d=\"\" pointer-events=\"none\" display=\"none\"></path></g></g><g class=\"mark-rect role-mark layer_0_marks\" role=\"graphics-object\" aria-roledescription=\"rect mark container\"><path aria-label=\"x: g; Mean of y: 0.458310290296\" role=\"graphics-symbol\" aria-roledescription=\"bar\" d=\"M121,108.33794194084597h18v91.66205805915403h-18Z\" fill=\"green\" opacity=\"0.5\"></path><path aria-label=\"x: d; Mean of y: 0.0305922518299\" role=\"graphics-symbol\" aria-roledescription=\"bar\" d=\"M61,193.8815496340108h18v6.11845036598919h-18Z\" fill=\"green\" opacity=\"0.5\"></path><path aria-label=\"x: c; Mean of y: 0.602589487744\" role=\"graphics-symbol\" aria-roledescription=\"bar\" d=\"M41,79.48210245114234h18v120.51789754885766h-18Z\" fill=\"green\" opacity=\"0.5\"></path><path aria-label=\"x: b; Mean of y: 0.840267554194\" role=\"graphics-symbol\" aria-roledescription=\"bar\" d=\"M21,31.946489161283488h18v168.0535108387165h-18Z\" fill=\"green\" opacity=\"0.5\"></path><path aria-label=\"x: f; Mean of y: 0.439371363483\" role=\"graphics-symbol\" aria-roledescription=\"bar\" d=\"M101,112.12572730335783h18v87.87427269664217h-18Z\" fill=\"green\" opacity=\"0.5\"></path><path aria-label=\"x: a; Mean of y: 0.215464198389\" role=\"graphics-symbol\" aria-roledescription=\"bar\" d=\"M1,156.90716032220305h18v43.092839677796945h-18Z\" fill=\"green\" opacity=\"0.5\"></path><path aria-label=\"x: e; Mean of y: 0.494541987232\" role=\"graphics-symbol\" aria-roledescription=\"bar\" d=\"M81,101.0916025535957h18v98.9083974464043h-18Z\" fill=\"green\" opacity=\"0.5\"></path></g><g class=\"mark-rect role-mark layer_1_marks\" role=\"graphics-object\" aria-roledescription=\"rect mark container\"><path aria-label=\"x: g; Max of y: 0.864840383467\" role=\"graphics-symbol\" aria-roledescription=\"bar\" d=\"M121,27.031923306566608h18v172.9680766934334h-18Z\" fill=\"#4c78a8\" opacity=\"0.5\"></path><path aria-label=\"x: d; Max of y: 0.0305922518299\" role=\"graphics-symbol\" aria-roledescription=\"bar\" d=\"M61,193.8815496340108h18v6.11845036598919h-18Z\" fill=\"#4c78a8\" opacity=\"0.5\"></path><path aria-label=\"x: c; Max of y: 0.602589487744\" role=\"graphics-symbol\" aria-roledescription=\"bar\" d=\"M41,79.48210245114234h18v120.51789754885766h-18Z\" fill=\"#4c78a8\" opacity=\"0.5\"></path><path aria-label=\"x: b; Max of y: 0.964780250129\" role=\"graphics-symbol\" aria-roledescription=\"bar\" d=\"M21,7.043949974191932h18v192.95605002580805h-18Z\" fill=\"#4c78a8\" opacity=\"0.5\"></path><path aria-label=\"x: f; Max of y: 0.85837341033\" role=\"graphics-symbol\" aria-roledescription=\"bar\" d=\"M101,28.32531793406332h18v171.67468206593668h-18Z\" fill=\"#4c78a8\" opacity=\"0.5\"></path><path aria-label=\"x: a; Max of y: 0.472118894867\" role=\"graphics-symbol\" aria-roledescription=\"bar\" d=\"M1,105.57622102665016h18v94.42377897334984h-18Z\" fill=\"#4c78a8\" opacity=\"0.5\"></path><path aria-label=\"x: e; Max of y: 0.92439590859\" role=\"graphics-symbol\" aria-roledescription=\"bar\" d=\"M81,15.120818282020254h18v184.87918171797975h-18Z\" fill=\"#4c78a8\" opacity=\"0.5\"></path></g><g class=\"mark-rect role-mark layer_2_marks\" role=\"graphics-object\" aria-roledescription=\"rect mark container\"><path aria-label=\"x: g; Min of y: 0.0592118958101\" role=\"graphics-symbol\" aria-roledescription=\"bar\" d=\"M121,188.15762083798296h18v11.842379162017039h-18Z\" fill=\"red\" opacity=\"0.5\"></path><path aria-label=\"x: d; Min of y: 0.0305922518299\" role=\"graphics-symbol\" aria-roledescription=\"bar\" d=\"M61,193.8815496340108h18v6.11845036598919h-18Z\" fill=\"red\" opacity=\"0.5\"></path><path aria-label=\"x: c; Min of y: 0.602589487744\" role=\"graphics-symbol\" aria-roledescription=\"bar\" d=\"M41,79.48210245114234h18v120.51789754885766h-18Z\" fill=\"red\" opacity=\"0.5\"></path><path aria-label=\"x: b; Min of y: 0.715754858258\" role=\"graphics-symbol\" aria-roledescription=\"bar\" d=\"M21,56.84902834837504h18v143.15097165162496h-18Z\" fill=\"red\" opacity=\"0.5\"></path><path aria-label=\"x: f; Min of y: 0.127730439999\" role=\"graphics-symbol\" aria-roledescription=\"bar\" d=\"M101,174.45391200026216h18v25.546087999737836h-18Z\" fill=\"red\" opacity=\"0.5\"></path><path aria-label=\"x: a; Min of y: 0.00362638809077\" role=\"graphics-symbol\" aria-roledescription=\"bar\" d=\"M1,199.27472238184657h18v0.7252776181534273h-18Z\" fill=\"red\" opacity=\"0.5\"></path><path aria-label=\"x: e; Min of y: 0.00290246997512\" role=\"graphics-symbol\" aria-roledescription=\"bar\" d=\"M81,199.41950600497555h18v0.5804939950244545h-18Z\" fill=\"red\" opacity=\"0.5\"></path></g></g><path class=\"foreground\" aria-hidden=\"true\" d=\"\" display=\"none\"></path></g></g></g></svg>\n"
      ],
      "text/plain": [
       "@vlplot(\n",
       "    layer=[\n",
       "        {\n",
       "            data={\n",
       "                values=...\n",
       "            },\n",
       "            mark={\n",
       "                type=\"bar\",\n",
       "                opacity=0.5\n",
       "            },\n",
       "            encoding={\n",
       "                x={\n",
       "                    type=\"nominal\",\n",
       "                    field=\"x\"\n",
       "                },\n",
       "                y={\n",
       "                    type=\"quantitative\",\n",
       "                    field=\"y\",\n",
       "                    aggregate=\"mean\"\n",
       "                },\n",
       "                color={\n",
       "                    value=\"green\"\n",
       "                }\n",
       "            }\n",
       "        },\n",
       "        {\n",
       "            data={\n",
       "                values=...\n",
       "            },\n",
       "            mark={\n",
       "                type=\"bar\",\n",
       "                opacity=0.5\n",
       "            },\n",
       "            encoding={\n",
       "                x={\n",
       "                    type=\"nominal\",\n",
       "                    field=\"x\"\n",
       "                },\n",
       "                y={\n",
       "                    type=\"quantitative\",\n",
       "                    field=\"y\",\n",
       "                    aggregate=\"max\"\n",
       "                }\n",
       "            }\n",
       "        },\n",
       "        {\n",
       "            data={\n",
       "                values=...\n",
       "            },\n",
       "            mark={\n",
       "                type=\"bar\",\n",
       "                opacity=0.5\n",
       "            },\n",
       "            encoding={\n",
       "                x={\n",
       "                    type=\"nominal\",\n",
       "                    field=\"x\"\n",
       "                },\n",
       "                y={\n",
       "                    type=\"quantitative\",\n",
       "                    field=\"y\",\n",
       "                    aggregate=\"min\"\n",
       "                },\n",
       "                color={\n",
       "                    value=\"red\"\n",
       "                }\n",
       "            }\n",
       "        }\n",
       "    ]\n",
       ")"
      ]
     },
     "execution_count": 386,
     "metadata": {},
     "output_type": "execute_result"
    }
   ],
   "source": [
    "x = rand(collect('a':'g'),20)\n",
    "y = rand(20)\n",
    "@vlplot() + barplot(x,y,y_agg=\"mean\",color=\"green\",opacity=0.5) + barplot(x,y,y_agg=\"max\",opacity=0.5) + barplot(x,y,y_agg=\"min\",color=\"red\",opacity=0.5)"
   ]
  },
  {
   "cell_type": "code",
   "execution_count": null,
   "id": "cd7f2749-9a83-454b-8a05-c09a76cb0d77",
   "metadata": {},
   "outputs": [],
   "source": []
  },
  {
   "cell_type": "code",
   "execution_count": 356,
   "id": "18018395-54b6-4f9b-8465-d0fab1e65945",
   "metadata": {},
   "outputs": [
    {
     "data": {
      "text/plain": [
       "OrderedCollections.OrderedDict{String, Any} with 3 entries:\n",
       "  \"data\"     => OrderedCollections.OrderedDict{String, Any}(\"values\"=>DataValue…\n",
       "  \"mark\"     => :bar\n",
       "  \"encoding\" => OrderedCollections.OrderedDict{String, Any}(\"x\"=>OrderedCollect…"
      ]
     },
     "execution_count": 356,
     "metadata": {},
     "output_type": "execute_result"
    }
   ],
   "source": [
    "b.params"
   ]
  },
  {
   "cell_type": "code",
   "execution_count": null,
   "id": "2145759b-1785-4326-bd85-4da6d672ae69",
   "metadata": {},
   "outputs": [],
   "source": []
  }
 ],
 "metadata": {
  "kernelspec": {
   "display_name": "Julia 1.6.1",
   "language": "julia",
   "name": "julia-1.6"
  },
  "language_info": {
   "file_extension": ".jl",
   "mimetype": "application/julia",
   "name": "julia",
   "version": "1.6.1"
  }
 },
 "nbformat": 4,
 "nbformat_minor": 5
}
