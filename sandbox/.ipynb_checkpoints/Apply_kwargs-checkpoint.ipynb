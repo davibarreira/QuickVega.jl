{
 "cells": [
  {
   "cell_type": "markdown",
   "metadata": {},
   "source": [
    "### Apply_kwargs()\n",
    "It's an auxiliary function to apply common modifications to each plot in QuickVega. Here are a list of possible attirbutes (I'm trying to use similar notation to Plots.jl):\n",
    "* color    - specify a single color for the whole plot (e.g color = \"blue\");\n",
    "* zcolor   - this is for assigning a variable to color (e.g color = randn(100));\n",
    "* size     - this is for assigning a variable to size  (e.g size  = randn(100));\n",
    "* shape    - this is for assigning a variable to size  (e.g size  = randn(100));\n",
    "* opacity  - use a variable to be the opacity of the plot;\n",
    "* strokedash - use a variable to be the opacity of the plot;\n",
    "* palette  - choose a color scheme;\n",
    "* width\n",
    "* height\n",
    "* stroke   - true or false for the line across the image;\n",
    "* marktype \n",
    "* marksize \n",
    "* markopacity \n",
    "* markstroke \n",
    "* markstrokewidth\n",
    "* title\n",
    "* xlabel\n",
    "* ylabel\n",
    "* xlim\n",
    "* ylim\n",
    "* legend\n",
    "* orient\n",
    "* order\n",
    "* grid\n",
    "* gridx    - grid vertical true or false;\n",
    "* gridy    - grid horizontal true or false;\n",
    "* xscale   - example, allow log scale;\n",
    "* yscale\n",
    "* interactive - true or false, to enable zoom and panning;\n",
    "* tooltip\n",
    "\n",
    "\n",
    "Implement a Cheat_Sheet for the possible parameters;"
   ]
  },
  {
   "cell_type": "code",
   "execution_count": 1,
   "metadata": {},
   "outputs": [
    {
     "name": "stderr",
     "output_type": "stream",
     "text": [
      "┌ Info: Precompiling QuickVega [8cbdc466-600a-49fa-b107-91fd9d936351]\n",
      "└ @ Base loading.jl:1317\n",
      "\u001b[33m\u001b[1m┌ \u001b[22m\u001b[39m\u001b[33m\u001b[1mWarning: \u001b[22m\u001b[39mPackage QuickVega does not have DataFrames in its dependencies:\n",
      "\u001b[33m\u001b[1m│ \u001b[22m\u001b[39m- If you have QuickVega checked out for development and have\n",
      "\u001b[33m\u001b[1m│ \u001b[22m\u001b[39m  added DataFrames as a dependency but haven't updated your primary\n",
      "\u001b[33m\u001b[1m│ \u001b[22m\u001b[39m  environment's manifest file, try `Pkg.resolve()`.\n",
      "\u001b[33m\u001b[1m│ \u001b[22m\u001b[39m- Otherwise you may need to report an issue with QuickVega\n",
      "\u001b[33m\u001b[1m└ \u001b[22m\u001b[39mLoading DataFrames into QuickVega from project dependency, future warnings for QuickVega are suppressed.\n"
     ]
    }
   ],
   "source": [
    "using Revise, Pkg\n",
    "Pkg.activate(\"../.\")\n",
    "using QuickVega, DataFrames, VegaLite, VegaDatasets\n",
    "using Distributions, KernelDensity\n",
    "using Contour\n",
    "using Setfield\n",
    "using VegaDatasets\n",
    "using DataStructures\n",
    "using DataTables"
   ]
  },
  {
   "cell_type": "code",
   "execution_count": 6,
   "metadata": {},
   "outputs": [
    {
     "data": {
      "application/vnd.vegalite.v4+json": {
       "data": {
        "values": [
         {
          "x": 0.500844342954816,
          "y": 0.7193890301995167
         },
         {
          "x": 0.002092453984402498,
          "y": 0.4970582131469663
         },
         {
          "x": 0.15391507791537373,
          "y": 0.8945725006210496
         },
         {
          "x": 0.7297619558329438,
          "y": 0.6062850216354208
         },
         {
          "x": 0.3818678849360546,
          "y": 0.6699985040686338
         },
         {
          "x": 0.8163441742196309,
          "y": 0.779257718166467
         },
         {
          "x": 0.6220280672917176,
          "y": 0.4104985370110623
         },
         {
          "x": 0.03647692992027762,
          "y": 0.026058942264123086
         },
         {
          "x": 0.21088604402258038,
          "y": 0.3449603435105075
         },
         {
          "x": 0.7028831667624245,
          "y": 0.32699955812727
         }
        ]
       },
       "encoding": {
        "x": {
         "field": "x",
         "title": null,
         "type": "quantitative"
        },
        "y": {
         "field": "y",
         "title": null,
         "type": "quantitative"
        }
       },
       "mark": "circle"
      },
      "image/png": "[encoded data removed]",
      "image/svg+xml": [
       "<?xml version=\"1.0\" encoding=\"utf-8\"?>\n",
       "<!DOCTYPE svg PUBLIC \"-//W3C//DTD SVG 1.1//EN\" \"http://www.w3.org/Graphics/SVG/1.1/DTD/svg11.dtd\">\n",
       "<svg class=\"marks\" width=\"232\" height=\"229\" viewBox=\"0 0 232 229\" version=\"1.1\" xmlns=\"http://www.w3.org/2000/svg\" xmlns:xlink=\"http://www.w3.org/1999/xlink\"><rect width=\"232\" height=\"229\" fill=\"white\"></rect><g fill=\"none\" stroke-miterlimit=\"10\" transform=\"translate(27,7)\"><g class=\"mark-group role-frame root\" role=\"graphics-object\" aria-roledescription=\"group mark container\"><g transform=\"translate(0,0)\"><path class=\"background\" aria-hidden=\"true\" d=\"M0.5,0.5h200v200h-200Z\" stroke=\"#ddd\"></path><g><g class=\"mark-group role-axis\" aria-hidden=\"true\"><g transform=\"translate(0.5,200.5)\"><path class=\"background\" aria-hidden=\"true\" d=\"M0,0h0v0h0Z\" pointer-events=\"none\"></path><g><g class=\"mark-rule role-axis-grid\" pointer-events=\"none\"><line transform=\"translate(0,-200)\" x2=\"0\" y2=\"200\" stroke=\"#ddd\" stroke-width=\"1\" opacity=\"1\"></line><line transform=\"translate(44,-200)\" x2=\"0\" y2=\"200\" stroke=\"#ddd\" stroke-width=\"1\" opacity=\"1\"></line><line transform=\"translate(89,-200)\" x2=\"0\" y2=\"200\" stroke=\"#ddd\" stroke-width=\"1\" opacity=\"1\"></line><line transform=\"translate(133,-200)\" x2=\"0\" y2=\"200\" stroke=\"#ddd\" stroke-width=\"1\" opacity=\"1\"></line><line transform=\"translate(178,-200)\" x2=\"0\" y2=\"200\" stroke=\"#ddd\" stroke-width=\"1\" opacity=\"1\"></line></g></g><path class=\"foreground\" aria-hidden=\"true\" d=\"\" pointer-events=\"none\" display=\"none\"></path></g></g><g class=\"mark-group role-axis\" aria-hidden=\"true\"><g transform=\"translate(0.5,0.5)\"><path class=\"background\" aria-hidden=\"true\" d=\"M0,0h0v0h0Z\" pointer-events=\"none\"></path><g><g class=\"mark-rule role-axis-grid\" pointer-events=\"none\"><line transform=\"translate(0,200)\" x2=\"200\" y2=\"0\" stroke=\"#ddd\" stroke-width=\"1\" opacity=\"1\"></line><line transform=\"translate(0,156)\" x2=\"200\" y2=\"0\" stroke=\"#ddd\" stroke-width=\"1\" opacity=\"1\"></line><line transform=\"translate(0,111)\" x2=\"200\" y2=\"0\" stroke=\"#ddd\" stroke-width=\"1\" opacity=\"1\"></line><line transform=\"translate(0,67)\" x2=\"200\" y2=\"0\" stroke=\"#ddd\" stroke-width=\"1\" opacity=\"1\"></line><line transform=\"translate(0,22)\" x2=\"200\" y2=\"0\" stroke=\"#ddd\" stroke-width=\"1\" opacity=\"1\"></line></g></g><path class=\"foreground\" aria-hidden=\"true\" d=\"\" pointer-events=\"none\" display=\"none\"></path></g></g><g class=\"mark-group role-axis\" role=\"graphics-symbol\" aria-roledescription=\"axis\" aria-label=\"X-axis for a linear scale with values from 0.0 to 0.9\"><g transform=\"translate(0.5,200.5)\"><path class=\"background\" aria-hidden=\"true\" d=\"M0,0h0v0h0Z\" pointer-events=\"none\"></path><g><g class=\"mark-rule role-axis-tick\" pointer-events=\"none\"><line transform=\"translate(0,0)\" x2=\"0\" y2=\"5\" stroke=\"#888\" stroke-width=\"1\" opacity=\"1\"></line><line transform=\"translate(44,0)\" x2=\"0\" y2=\"5\" stroke=\"#888\" stroke-width=\"1\" opacity=\"1\"></line><line transform=\"translate(89,0)\" x2=\"0\" y2=\"5\" stroke=\"#888\" stroke-width=\"1\" opacity=\"1\"></line><line transform=\"translate(133,0)\" x2=\"0\" y2=\"5\" stroke=\"#888\" stroke-width=\"1\" opacity=\"1\"></line><line transform=\"translate(178,0)\" x2=\"0\" y2=\"5\" stroke=\"#888\" stroke-width=\"1\" opacity=\"1\"></line></g><g class=\"mark-text role-axis-label\" pointer-events=\"none\"><text text-anchor=\"start\" transform=\"translate(0,15)\" font-family=\"sans-serif\" font-size=\"10px\" fill=\"#000\" opacity=\"1\">0.0</text><text text-anchor=\"middle\" transform=\"translate(44.44444444444445,15)\" font-family=\"sans-serif\" font-size=\"10px\" fill=\"#000\" opacity=\"1\">0.2</text><text text-anchor=\"middle\" transform=\"translate(88.8888888888889,15)\" font-family=\"sans-serif\" font-size=\"10px\" fill=\"#000\" opacity=\"1\">0.4</text><text text-anchor=\"middle\" transform=\"translate(133.33333333333331,15)\" font-family=\"sans-serif\" font-size=\"10px\" fill=\"#000\" opacity=\"1\">0.6</text><text text-anchor=\"middle\" transform=\"translate(177.7777777777778,15)\" font-family=\"sans-serif\" font-size=\"10px\" fill=\"#000\" opacity=\"1\">0.8</text></g><g class=\"mark-rule role-axis-domain\" pointer-events=\"none\"><line transform=\"translate(0,0)\" x2=\"200\" y2=\"0\" stroke=\"#888\" stroke-width=\"1\" opacity=\"1\"></line></g></g><path class=\"foreground\" aria-hidden=\"true\" d=\"\" pointer-events=\"none\" display=\"none\"></path></g></g><g class=\"mark-group role-axis\" role=\"graphics-symbol\" aria-roledescription=\"axis\" aria-label=\"Y-axis for a linear scale with values from 0.0 to 0.9\"><g transform=\"translate(0.5,0.5)\"><path class=\"background\" aria-hidden=\"true\" d=\"M0,0h0v0h0Z\" pointer-events=\"none\"></path><g><g class=\"mark-rule role-axis-tick\" pointer-events=\"none\"><line transform=\"translate(0,200)\" x2=\"-5\" y2=\"0\" stroke=\"#888\" stroke-width=\"1\" opacity=\"1\"></line><line transform=\"translate(0,156)\" x2=\"-5\" y2=\"0\" stroke=\"#888\" stroke-width=\"1\" opacity=\"1\"></line><line transform=\"translate(0,111)\" x2=\"-5\" y2=\"0\" stroke=\"#888\" stroke-width=\"1\" opacity=\"1\"></line><line transform=\"translate(0,67)\" x2=\"-5\" y2=\"0\" stroke=\"#888\" stroke-width=\"1\" opacity=\"1\"></line><line transform=\"translate(0,22)\" x2=\"-5\" y2=\"0\" stroke=\"#888\" stroke-width=\"1\" opacity=\"1\"></line></g><g class=\"mark-text role-axis-label\" pointer-events=\"none\"><text text-anchor=\"end\" transform=\"translate(-7,203)\" font-family=\"sans-serif\" font-size=\"10px\" fill=\"#000\" opacity=\"1\">0.0</text><text text-anchor=\"end\" transform=\"translate(-7,158.55555555555557)\" font-family=\"sans-serif\" font-size=\"10px\" fill=\"#000\" opacity=\"1\">0.2</text><text text-anchor=\"end\" transform=\"translate(-7,114.11111111111111)\" font-family=\"sans-serif\" font-size=\"10px\" fill=\"#000\" opacity=\"1\">0.4</text><text text-anchor=\"end\" transform=\"translate(-7,69.66666666666667)\" font-family=\"sans-serif\" font-size=\"10px\" fill=\"#000\" opacity=\"1\">0.6</text><text text-anchor=\"end\" transform=\"translate(-7,25.22222222222221)\" font-family=\"sans-serif\" font-size=\"10px\" fill=\"#000\" opacity=\"1\">0.8</text></g><g class=\"mark-rule role-axis-domain\" pointer-events=\"none\"><line transform=\"translate(0,200)\" x2=\"0\" y2=\"-200\" stroke=\"#888\" stroke-width=\"1\" opacity=\"1\"></line></g></g><path class=\"foreground\" aria-hidden=\"true\" d=\"\" pointer-events=\"none\" display=\"none\"></path></g></g><g class=\"mark-symbol role-mark marks\" role=\"graphics-object\" aria-roledescription=\"symbol mark container\"><path aria-label=\"x: 0.500844342955; y: 0.7193890302\" role=\"graphics-symbol\" aria-roledescription=\"circle\" transform=\"translate(111.29874287884797,40.13577106677406)\" d=\"M2.7386127875258306,0A2.7386127875258306,2.7386127875258306,0,1,1,-2.7386127875258306,0A2.7386127875258306,2.7386127875258306,0,1,1,2.7386127875258306,0\" fill=\"#4c78a8\" stroke-width=\"2\" opacity=\"0.7\"></path><path aria-label=\"x: 0.0020924539844; y: 0.497058213147\" role=\"graphics-symbol\" aria-roledescription=\"circle\" transform=\"translate(0.4649897743116662,89.54261930067415)\" d=\"M2.7386127875258306,0A2.7386127875258306,2.7386127875258306,0,1,1,-2.7386127875258306,0A2.7386127875258306,2.7386127875258306,0,1,1,2.7386127875258306,0\" fill=\"#4c78a8\" stroke-width=\"2\" opacity=\"0.7\"></path><path aria-label=\"x: 0.153915077915; y: 0.894572500621\" role=\"graphics-symbol\" aria-roledescription=\"circle\" transform=\"translate(34.20335064786083,1.206110973100083)\" d=\"M2.7386127875258306,0A2.7386127875258306,2.7386127875258306,0,1,1,-2.7386127875258306,0A2.7386127875258306,2.7386127875258306,0,1,1,2.7386127875258306,0\" fill=\"#4c78a8\" stroke-width=\"2\" opacity=\"0.7\"></path><path aria-label=\"x: 0.729761955833; y: 0.606285021635\" role=\"graphics-symbol\" aria-roledescription=\"circle\" transform=\"translate(162.16932351843195,65.26999519212873)\" d=\"M2.7386127875258306,0A2.7386127875258306,2.7386127875258306,0,1,1,-2.7386127875258306,0A2.7386127875258306,2.7386127875258306,0,1,1,2.7386127875258306,0\" fill=\"#4c78a8\" stroke-width=\"2\" opacity=\"0.7\"></path><path aria-label=\"x: 0.381867884936; y: 0.669998504069\" role=\"graphics-symbol\" aria-roledescription=\"circle\" transform=\"translate(84.85952998578992,51.11144354030359)\" d=\"M2.7386127875258306,0A2.7386127875258306,2.7386127875258306,0,1,1,-2.7386127875258306,0A2.7386127875258306,2.7386127875258306,0,1,1,2.7386127875258306,0\" fill=\"#4c78a8\" stroke-width=\"2\" opacity=\"0.7\"></path><path aria-label=\"x: 0.81634417422; y: 0.779257718166\" role=\"graphics-symbol\" aria-roledescription=\"circle\" transform=\"translate(181.4098164932513,26.831618185229544)\" d=\"M2.7386127875258306,0A2.7386127875258306,2.7386127875258306,0,1,1,-2.7386127875258306,0A2.7386127875258306,2.7386127875258306,0,1,1,2.7386127875258306,0\" fill=\"#4c78a8\" stroke-width=\"2\" opacity=\"0.7\"></path><path aria-label=\"x: 0.622028067292; y: 0.410498537011\" role=\"graphics-symbol\" aria-roledescription=\"circle\" transform=\"translate(138.22845939815946,108.77810288643059)\" d=\"M2.7386127875258306,0A2.7386127875258306,2.7386127875258306,0,1,1,-2.7386127875258306,0A2.7386127875258306,2.7386127875258306,0,1,1,2.7386127875258306,0\" fill=\"#4c78a8\" stroke-width=\"2\" opacity=\"0.7\"></path><path aria-label=\"x: 0.0364769299203; y: 0.0260589422641\" role=\"graphics-symbol\" aria-roledescription=\"circle\" transform=\"translate(8.10598442672836,194.209123941306)\" d=\"M2.7386127875258306,0A2.7386127875258306,2.7386127875258306,0,1,1,-2.7386127875258306,0A2.7386127875258306,2.7386127875258306,0,1,1,2.7386127875258306,0\" fill=\"#4c78a8\" stroke-width=\"2\" opacity=\"0.7\"></path><path aria-label=\"x: 0.210886044023; y: 0.344960343511\" role=\"graphics-symbol\" aria-roledescription=\"circle\" transform=\"translate(46.863565338351194,123.34214588655388)\" d=\"M2.7386127875258306,0A2.7386127875258306,2.7386127875258306,0,1,1,-2.7386127875258306,0A2.7386127875258306,2.7386127875258306,0,1,1,2.7386127875258306,0\" fill=\"#4c78a8\" stroke-width=\"2\" opacity=\"0.7\"></path><path aria-label=\"x: 0.702883166762; y: 0.326999558127\" role=\"graphics-symbol\" aria-roledescription=\"circle\" transform=\"translate(156.19625928053878,127.33343152727335)\" d=\"M2.7386127875258306,0A2.7386127875258306,2.7386127875258306,0,1,1,-2.7386127875258306,0A2.7386127875258306,2.7386127875258306,0,1,1,2.7386127875258306,0\" fill=\"#4c78a8\" stroke-width=\"2\" opacity=\"0.7\"></path></g></g><path class=\"foreground\" aria-hidden=\"true\" d=\"\" display=\"none\"></path></g></g></g></svg>\n"
      ],
      "text/plain": [
       "@vlplot(\n",
       "    mark=\"circle\",\n",
       "    encoding={\n",
       "        x={\n",
       "            field=\"x\",\n",
       "            title=nothing\n",
       "        },\n",
       "        y={\n",
       "            field=\"y\",\n",
       "            title=nothing\n",
       "        }\n",
       "    },\n",
       "    data={\n",
       "        values=...\n",
       "    }\n",
       ")"
      ]
     },
     "execution_count": 6,
     "metadata": {},
     "output_type": "execute_result"
    }
   ],
   "source": [
    "@vlplot(:circle, x=rand(10),y=rand(10))\n",
    "# @vlplot(:circle, x=samples[:,1],y=samples[:,2])"
   ]
  },
  {
   "cell_type": "code",
   "execution_count": 22,
   "metadata": {},
   "outputs": [
    {
     "data": {
      "application/vnd.vegalite.v4+json": {
       "data": {
        "values": [
         {
          "x": 1.684128005139163,
          "y": 3.0966719385352492
         },
         {
          "x": -1.4333520228615764,
          "y": -0.05460080697360237
         },
         {
          "x": 1.132677866105836,
          "y": 2.2472034551877877
         },
         {
          "x": 0.633121870880331,
          "y": 1.823616711580013
         },
         {
          "x": 3.6226178611764377,
          "y": 4.694848195953522
         },
         {
          "x": -0.39941590966979534,
          "y": 2.6866945511866147
         },
         {
          "x": 1.366807019154117,
          "y": 2.9764862066975395
         },
         {
          "x": 2.627871483141571,
          "y": 3.728314054329866
         },
         {
          "x": -0.7279547687278949,
          "y": 2.1780243734456737
         },
         {
          "x": 0.07301419071745163,
          "y": 1.7258521978199686
         },
         {
          "x": 5.71182467684462,
          "y": 3.6158670102384627
         },
         {
          "x": -0.4440351359576826,
          "y": 1.1563237120226486
         },
         {
          "x": 3.1339400988601587,
          "y": 4.240159026377984
         },
         {
          "x": 2.6164287946886717,
          "y": 3.60614889948063
         },
         {
          "x": 0.5094849037985086,
          "y": 1.620115946834194
         },
         {
          "x": 2.547534804490506,
          "y": 1.274485024660012
         },
         {
          "x": -3.0141846731513287,
          "y": -0.8668851418331616
         },
         {
          "x": 3.393053448845875,
          "y": 3.839513763314878
         },
         {
          "x": 0.9320372747287136,
          "y": 1.4298305912551466
         },
         {
          "x": 0.9231689130960793,
          "y": 2.0992750577984793
         },
         {
          "x": 1.837814061462589,
          "y": 2.4785737094357696
         },
         {
          "x": 0.5524845693552549,
          "y": 2.686014145069952
         },
         {
          "x": 2.70786816496523,
          "y": 3.1270957442395213
         },
         {
          "x": -2.272078701730874,
          "y": -0.2826327850473085
         },
         {
          "x": 0.41815383614500035,
          "y": 1.8555971295218041
         },
         {
          "x": 3.7935310950527668,
          "y": 4.311742136200872
         },
         {
          "x": 1.6177547630384779,
          "y": 2.8525371618041633
         },
         {
          "x": 0.6697562342257057,
          "y": 1.383632060512001
         },
         {
          "x": -1.4175965260206524,
          "y": -0.42815065790182727
         },
         {
          "x": 1.9343330094649231,
          "y": 2.8251585358912226
         },
         {
          "x": 3.725536130122523,
          "y": 5.024913073708673
         },
         {
          "x": -0.9459027364718753,
          "y": -0.21423511659918582
         },
         {
          "x": 1.6918980614245225,
          "y": 2.681999673349473
         },
         {
          "x": 2.095889540135653,
          "y": 3.0027395399708974
         },
         {
          "x": 2.5154158727970937,
          "y": 2.072802353778949
         },
         {
          "x": 1.1922655750829527,
          "y": 1.8801590416110407
         },
         {
          "x": 0.8002672690637541,
          "y": 1.6408943089617174
         },
         {
          "x": 1.6721994443098511,
          "y": 1.664910160812139
         },
         {
          "x": -1.4756532112929222,
          "y": 0.9529439543541796
         },
         {
          "x": -1.9251078295405915,
          "y": -1.1870317181889223
         },
         {
          "x": 0.8969101672991046,
          "y": 2.698374618575725
         },
         {
          "x": -0.37797273077700577,
          "y": 2.3944354776389636
         },
         {
          "x": 3.479946854305096,
          "y": 3.3469526716562203
         },
         {
          "x": 1.3464961513955682,
          "y": 1.6407965472536579
         },
         {
          "x": -1.623207357770272,
          "y": 0.7472385237165682
         },
         {
          "x": 0.9798894480284188,
          "y": 1.6235012102707593
         },
         {
          "x": -1.917521379192714,
          "y": -0.6272098326843505
         },
         {
          "x": -1.4409436463030834,
          "y": 0.5808477746951914
         },
         {
          "x": 1.7991585416571543,
          "y": 2.8698936645709026
         },
         {
          "x": 2.4594112215213375,
          "y": 1.6368468049027225
         },
         {
          "x": -0.9646367465553249,
          "y": 0.6259846342432929
         },
         {
          "x": -0.352075974518558,
          "y": 1.6176894280083602
         },
         {
          "x": 1.173750070330602,
          "y": 2.3773599953276627
         },
         {
          "x": 1.5494411279496572,
          "y": 2.5776129274265047
         },
         {
          "x": 2.101184178114643,
          "y": 2.7122343850495874
         },
         {
          "x": 2.6119760241634857,
          "y": 3.7361932033364136
         },
         {
          "x": 2.312120000056729,
          "y": 2.9424593679636435
         },
         {
          "x": 1.0435000789954563,
          "y": 2.170230110853043
         },
         {
          "x": 1.7338088317750615,
          "y": 0.926408919011219
         },
         {
          "x": 4.005498899688282,
          "y": 4.069360715524393
         },
         {
          "x": 2.9777555002319187,
          "y": 3.9309610098715746
         },
         {
          "x": -0.5190084518413998,
          "y": 0.4224193745697016
         },
         {
          "x": 0.1387992570386013,
          "y": 1.0392857721734063
         },
         {
          "x": 0.9045611382467292,
          "y": 3.2633375029924068
         },
         {
          "x": -2.26003011379776,
          "y": -2.1030501118411937
         },
         {
          "x": 1.1913900260523174,
          "y": 2.7932877191886054
         },
         {
          "x": 0.45104665098983954,
          "y": 2.239365976091713
         },
         {
          "x": 2.265369349326199,
          "y": 3.6085686509143757
         },
         {
          "x": 2.4389841236602754,
          "y": 3.906138132717471
         },
         {
          "x": 2.9100465501616446,
          "y": 3.6935974973369436
         },
         {
          "x": 1.30746416961843,
          "y": 2.494463804822307
         },
         {
          "x": -0.7509705901426842,
          "y": -0.05357149710764464
         },
         {
          "x": 1.2487876629786558,
          "y": 2.587615107479051
         },
         {
          "x": 1.3493451140208834,
          "y": 2.438497475437151
         },
         {
          "x": -1.0307706750117438,
          "y": 0.7346747661852013
         },
         {
          "x": 3.0119473193716924,
          "y": 4.285787292424734
         },
         {
          "x": 1.0640451361643293,
          "y": 2.272261422901189
         },
         {
          "x": 0.4546047801013249,
          "y": 1.2869078193129497
         },
         {
          "x": -0.771088696213176,
          "y": 2.512643022563892
         },
         {
          "x": 3.9793556975498054,
          "y": 3.0589270490957716
         },
         {
          "x": 1.9997342605615653,
          "y": 3.177395068939572
         },
         {
          "x": 1.6663856409091187,
          "y": 2.432988468258354
         },
         {
          "x": 1.55878503504361,
          "y": 2.4146782123532704
         },
         {
          "x": -1.181892885694828,
          "y": -0.5187367061532866
         },
         {
          "x": 4.197423363953471,
          "y": 4.2779249610233725
         },
         {
          "x": -2.1138793648173824,
          "y": -0.39896504567365154
         },
         {
          "x": -0.5930712828955385,
          "y": 0.571675826867416
         },
         {
          "x": 0.6035774104265968,
          "y": 0.4395635760513088
         },
         {
          "x": 2.7105393014948405,
          "y": 3.783765794676878
         },
         {
          "x": -4.06154720713339,
          "y": -2.637106071022078
         },
         {
          "x": 1.242000129657006,
          "y": 2.7174377118898567
         },
         {
          "x": 0.5705645553277898,
          "y": 1.8696086180083427
         },
         {
          "x": -1.9315982511877423,
          "y": 0.3567116628892768
         },
         {
          "x": 0.5024580693485835,
          "y": 1.8225560018678884
         },
         {
          "x": 0.35038522834946906,
          "y": 0.8783993501245952
         },
         {
          "x": -0.5781414237209228,
          "y": 0.5778241662594323
         },
         {
          "x": 2.471178889498165,
          "y": 2.8736420560605884
         },
         {
          "x": -0.9695089994417945,
          "y": 0.07441344276745054
         },
         {
          "x": 1.040845199509229,
          "y": 1.9224724287959267
         },
         {
          "x": -0.2751271505675785,
          "y": 1.1045986175357727
         },
         {
          "x": 0.7473119785886251,
          "y": 1.954204688987407
         },
         {
          "x": -0.3599526106289135,
          "y": 1.6974468194417076
         },
         {
          "x": 0.2681674292334033,
          "y": 2.282227440755747
         },
         {
          "x": 2.533879695797802,
          "y": 2.9266572443200776
         },
         {
          "x": 3.5031208854741,
          "y": 3.5900921585269643
         },
         {
          "x": 0.1764607349297045,
          "y": 1.1053407042574448
         },
         {
          "x": 2.8213216746930954,
          "y": 4.401732765248719
         },
         {
          "x": -1.0002388236262973,
          "y": 1.1075773717257864
         },
         {
          "x": -3.0577740910871496,
          "y": -0.5129021712595958
         },
         {
          "x": 2.7802833083906986,
          "y": 2.4414540124765316
         },
         {
          "x": 0.4726148691757377,
          "y": 0.750548143311955
         },
         {
          "x": -0.5199035729666903,
          "y": 1.6327143877832961
         },
         {
          "x": 0.26966974333285043,
          "y": 0.5148868494908969
         },
         {
          "x": -0.9078109656360989,
          "y": 1.6050089079236478
         },
         {
          "x": 3.2286033071444127,
          "y": 3.3725705776648853
         },
         {
          "x": -0.32551507899441745,
          "y": 0.5743404126370035
         },
         {
          "x": 2.564503651213106,
          "y": 2.398523216274626
         },
         {
          "x": 1.0246627280486449,
          "y": 0.23967488279513383
         },
         {
          "x": 1.4644597036563152,
          "y": 3.237895891437045
         },
         {
          "x": 2.3982679346935463,
          "y": 3.3317484740794283
         },
         {
          "x": 2.3836926949457657,
          "y": 2.471266501571175
         },
         {
          "x": 1.5804178045546462,
          "y": 2.1860267646276474
         },
         {
          "x": -1.8892572344981202,
          "y": -0.5978290984246066
         },
         {
          "x": 2.5372207406164096,
          "y": 3.5020582474518447
         },
         {
          "x": 1.8878750581503838,
          "y": 2.406963698106834
         },
         {
          "x": 1.8049264264628073,
          "y": 2.5190551925234432
         },
         {
          "x": 2.747714456800283,
          "y": 1.943271125005499
         },
         {
          "x": 1.5209476306900855,
          "y": 2.229224587738993
         },
         {
          "x": 1.1255488564198781,
          "y": 1.7038233693517413
         },
         {
          "x": 0.2544069457915079,
          "y": 1.9761155761854765
         },
         {
          "x": 0.75978019194185,
          "y": 1.2647410152519725
         },
         {
          "x": -1.6975920666104898,
          "y": 0.03707724494094755
         },
         {
          "x": -2.0589954887754267,
          "y": 0.8889273237168624
         },
         {
          "x": 3.1598736738304747,
          "y": 3.016763910512891
         },
         {
          "x": 2.5282424541027013,
          "y": 0.9716000151410609
         },
         {
          "x": 3.118017250967287,
          "y": 3.552077216936836
         },
         {
          "x": 1.620148312847316,
          "y": 0.5666128372406132
         },
         {
          "x": 1.0363290097776228,
          "y": 0.8636062571323275
         },
         {
          "x": 3.7255654255954496,
          "y": 4.26978215179701
         },
         {
          "x": -0.8271151625034447,
          "y": 1.1385771096211088
         },
         {
          "x": 2.3955116125494618,
          "y": 1.132629053559234
         },
         {
          "x": 2.82511912927653,
          "y": 3.4913317286935626
         },
         {
          "x": 1.7464602516590069,
          "y": 3.2244694946106267
         },
         {
          "x": 1.815559408860083,
          "y": 2.4874964248225804
         },
         {
          "x": -2.997939677996941,
          "y": -0.31563283194664127
         },
         {
          "x": -0.6334481674211618,
          "y": 0.5113293650944695
         },
         {
          "x": -2.025321801123678,
          "y": -0.3425042984070874
         },
         {
          "x": 3.9473825389605564,
          "y": 4.168325394947853
         },
         {
          "x": 2.3816565896482267,
          "y": 3.4731188437230616
         },
         {
          "x": 0.32521513378993516,
          "y": 1.9697701838376904
         },
         {
          "x": 0.6007007081264313,
          "y": 2.241290015225399
         },
         {
          "x": 1.6119522381942213,
          "y": 3.022088215107822
         },
         {
          "x": 2.9021749970232094,
          "y": 3.2519076237520466
         },
         {
          "x": 0.5772549506210388,
          "y": 2.6499882502247063
         },
         {
          "x": 3.865886042643766,
          "y": 3.3551255896415135
         },
         {
          "x": 2.8530468360738728,
          "y": 4.128464035284352
         },
         {
          "x": 1.6574086308338454,
          "y": 1.2627203478579974
         },
         {
          "x": 2.6270987082264767,
          "y": 3.564796345175374
         },
         {
          "x": -0.8396989151924172,
          "y": 1.237328944159425
         },
         {
          "x": 0.5140905493273175,
          "y": 0.9256024483966203
         },
         {
          "x": 1.365037777579857,
          "y": 2.3291133059456834
         },
         {
          "x": 1.1141864515971454,
          "y": 2.833951028971923
         },
         {
          "x": 1.0893222416349095,
          "y": 2.315324664811939
         },
         {
          "x": 0.7705494551142048,
          "y": 2.003809327539287
         },
         {
          "x": 0.4858739624775018,
          "y": 1.4980477398926124
         },
         {
          "x": -0.6174522949667269,
          "y": 1.8566644134766404
         },
         {
          "x": -1.6559533783213327,
          "y": -0.33979277253633366
         },
         {
          "x": 4.918700012727673,
          "y": 5.520257220998664
         },
         {
          "x": 0.5832061905502344,
          "y": 2.1601862962188902
         },
         {
          "x": 1.7032458771395582,
          "y": 3.0059742996733285
         },
         {
          "x": 1.6711984150995516,
          "y": 0.9556700636146918
         },
         {
          "x": 2.0227940288043813,
          "y": 2.5092853629758567
         },
         {
          "x": 3.4329702834292877,
          "y": 2.9039454662573156
         },
         {
          "x": -1.2179441146176662,
          "y": -0.41310876300584143
         },
         {
          "x": 0.5841971079499535,
          "y": 1.7751920644105583
         },
         {
          "x": 0.6348802427686755,
          "y": 2.2458820428646113
         },
         {
          "x": 2.000521562147024,
          "y": 3.555293545823265
         },
         {
          "x": 0.8762051085689975,
          "y": 0.7609297884855493
         },
         {
          "x": 1.0340975275797588,
          "y": 1.2616275031542084
         },
         {
          "x": 4.011903290840591,
          "y": 3.3391271208901196
         },
         {
          "x": 3.3536948210200923,
          "y": 3.2079707823993298
         },
         {
          "x": 1.6083264982242411,
          "y": 1.7185404135495386
         },
         {
          "x": 2.08712056788269,
          "y": 1.9551787521964965
         },
         {
          "x": -2.437574800091344,
          "y": -1.0047422730669981
         },
         {
          "x": 1.295617556279968,
          "y": 0.6030344901221476
         },
         {
          "x": 1.6859011822610797,
          "y": 3.295103799058601
         },
         {
          "x": 2.6906499387926828,
          "y": 0.8884788016926641
         },
         {
          "x": 0.8574814392321206,
          "y": 2.2725939749365947
         },
         {
          "x": 3.1969021296045743,
          "y": 3.280720532387934
         },
         {
          "x": 0.36116356647452164,
          "y": 1.1860042460894147
         },
         {
          "x": 2.150595695283401,
          "y": 2.924528358405425
         },
         {
          "x": -0.3506274162788663,
          "y": 1.9297021819728548
         },
         {
          "x": 0.45790405351636054,
          "y": 1.5988219755608166
         },
         {
          "x": -0.4897506240546263,
          "y": 1.1023005506994594
         },
         {
          "x": 3.6559734128295704,
          "y": 2.261910132664646
         },
         {
          "x": 0.17900234206443622,
          "y": 1.2528112569498029
         },
         {
          "x": 2.4716752798258046,
          "y": 4.3421423563548665
         },
         {
          "x": -1.9969629512077853,
          "y": 0.10244657176006378
         },
         {
          "x": 0.44358007544691336,
          "y": 0.8494481459134757
         },
         {
          "x": 1.5068952765090013,
          "y": 1.6489462256978935
         },
         {
          "x": 3.3266041256792134,
          "y": 3.58676348425083
         },
         {
          "x": 2.7308180493310803,
          "y": 3.2599684318630904
         },
         {
          "x": -0.11445494409101942,
          "y": 0.828308857954442
         },
         {
          "x": 0.24645041896977982,
          "y": 1.9231384558802551
         },
         {
          "x": 0.31514327562865896,
          "y": 2.299945013514938
         },
         {
          "x": 0.8153788943679574,
          "y": 1.1070129168681493
         },
         {
          "x": 1.8894055174214284,
          "y": 1.8141381295614327
         },
         {
          "x": 4.253581621314295,
          "y": 4.656525803534889
         },
         {
          "x": 0.02908021040743214,
          "y": 0.6848312475782312
         },
         {
          "x": 3.549364565342089,
          "y": 3.7072076450291878
         },
         {
          "x": 0.5853747312290603,
          "y": 1.9106775803631426
         },
         {
          "x": -2.021009378955823,
          "y": 0.15784883384222992
         },
         {
          "x": -0.054790423952033596,
          "y": 1.762718744959229
         },
         {
          "x": -2.219484092864651,
          "y": -1.0568447826716483
         },
         {
          "x": -1.5948348414439857,
          "y": 0.29358559828038455
         },
         {
          "x": -1.5401008631957187,
          "y": 0.07330497513833678
         },
         {
          "x": 2.1025931287947843,
          "y": 3.231988623362861
         },
         {
          "x": 2.8839401442162123,
          "y": 2.4782492879285156
         },
         {
          "x": 1.7296354413658466,
          "y": 3.1639174518341733
         },
         {
          "x": 1.0626554065767244,
          "y": 1.734446684360122
         },
         {
          "x": 2.654895760037884,
          "y": 3.544223407915454
         },
         {
          "x": -1.758154514968596,
          "y": 0.7219035563905685
         },
         {
          "x": 2.039802093699464,
          "y": 1.2704502710366556
         },
         {
          "x": -0.8544722328234717,
          "y": 1.2327763320270153
         },
         {
          "x": 2.975769369966243,
          "y": 3.0898521612906085
         },
         {
          "x": 0.1904568838813986,
          "y": 2.5286611100759795
         },
         {
          "x": 2.362703246789926,
          "y": 2.6503953912070193
         },
         {
          "x": 2.9824688544197926,
          "y": 3.885062144739333
         },
         {
          "x": 1.4525626856359597,
          "y": 2.1157514051123423
         },
         {
          "x": 0.457063024201244,
          "y": 0.9822610213640162
         },
         {
          "x": 0.672325457766553,
          "y": 1.8595952229590136
         },
         {
          "x": 5.091325933770321,
          "y": 5.135156453788838
         },
         {
          "x": 3.2426843417300377,
          "y": 1.9536122536936944
         },
         {
          "x": -3.576234962959445,
          "y": -1.7598371361799239
         },
         {
          "x": -1.0954115668037572,
          "y": 1.1079958079540195
         },
         {
          "x": 0.15193944172999507,
          "y": 0.6246639712121722
         },
         {
          "x": 0.16560628257127785,
          "y": 1.5942427427977655
         },
         {
          "x": 1.5733295699022256,
          "y": 3.1776711182880684
         },
         {
          "x": 1.786651551937497,
          "y": 3.2452917792230145
         },
         {
          "x": 0.8347043655120032,
          "y": -0.4849004162597357
         },
         {
          "x": 1.5381511683603044,
          "y": 3.2204501988234737
         },
         {
          "x": -1.6503679358297605,
          "y": 1.0004036572934711
         },
         {
          "x": 3.838989563414003,
          "y": 3.533998869136793
         },
         {
          "x": 3.0411002880694777,
          "y": 2.623400458622153
         },
         {
          "x": -0.7529764450169651,
          "y": 1.9381371132519114
         },
         {
          "x": 2.010813218129649,
          "y": 0.8611368950281009
         },
         {
          "x": 2.719328462319769,
          "y": 3.2583466075030687
         },
         {
          "x": 1.3528425605441483,
          "y": 3.757875328806683
         },
         {
          "x": 3.7716514877126706,
          "y": 3.335440483224022
         },
         {
          "x": 0.8633099865808845,
          "y": 1.4469810584330591
         },
         {
          "x": 2.8397723592659982,
          "y": 2.940605486892177
         },
         {
          "x": 0.9955992508811448,
          "y": 0.5654986858914788
         },
         {
          "x": 1.4172601414332173,
          "y": 2.4770522500899097
         },
         {
          "x": 2.697223461332135,
          "y": 4.672539519125009
         },
         {
          "x": -0.0016227353871240968,
          "y": 0.8942514012017295
         },
         {
          "x": -0.19147494171028479,
          "y": 0.08317400556023902
         },
         {
          "x": 0.13406862074515646,
          "y": 0.5718224176475224
         },
         {
          "x": -0.32225025862842727,
          "y": 1.6434062076044287
         },
         {
          "x": 1.8882261489140015,
          "y": 2.25638507014278
         },
         {
          "x": 0.5973301512463265,
          "y": 0.7793852815077564
         },
         {
          "x": 4.898573304992682,
          "y": 4.9742100540837555
         },
         {
          "x": -0.809103656446412,
          "y": 1.0533144454192716
         },
         {
          "x": -1.5173457763111289,
          "y": 0.1259788644554456
         },
         {
          "x": -0.07698625361521949,
          "y": 2.9257072168136795
         },
         {
          "x": 2.5326808943775108,
          "y": 4.1814943924481245
         },
         {
          "x": 2.5324214399020435,
          "y": 2.594133297149943
         },
         {
          "x": 0.43331492864496557,
          "y": 1.6296823685125976
         },
         {
          "x": -1.1956400602845867,
          "y": 0.961842424259395
         },
         {
          "x": 1.5307468069419603,
          "y": 1.5857062423918884
         },
         {
          "x": 0.0675686312792404,
          "y": 2.337371351593676
         },
         {
          "x": 0.36500539913379604,
          "y": 0.9767269848913109
         },
         {
          "x": 1.9885034141754578,
          "y": 1.7519964197220075
         },
         {
          "x": 1.4726676460093275,
          "y": 1.9068435245707644
         },
         {
          "x": 2.1575854703518944,
          "y": 2.436139487100202
         },
         {
          "x": -1.4452403388090982,
          "y": 0.2980395036647201
         },
         {
          "x": 1.3354458481933154,
          "y": 2.8219940921836537
         },
         {
          "x": 0.38196847448278937,
          "y": 2.186189454988988
         },
         {
          "x": -0.7640332739562097,
          "y": 2.0216589190819336
         },
         {
          "x": 2.5810497804023007,
          "y": 2.735078386250998
         },
         {
          "x": 1.0486553942051762,
          "y": 1.9232438187614407
         },
         {
          "x": 4.024390739974143,
          "y": 2.6316110877991474
         },
         {
          "x": 1.4831337644258802,
          "y": 2.5154859051548217
         },
         {
          "x": 0.5482978064058471,
          "y": 0.7542792510248599
         },
         {
          "x": -2.4726170607650015,
          "y": 0.04168158318542292
         },
         {
          "x": 0.18592855135931685,
          "y": 0.9888305522377816
         },
         {
          "x": 2.4724883769993076,
          "y": 2.4401621551203974
         },
         {
          "x": 0.3318746699885401,
          "y": 1.1737990427392568
         },
         {
          "x": 4.020713552030445,
          "y": 4.736657464820746
         },
         {
          "x": 0.6052776662101009,
          "y": 1.605894073436509
         },
         {
          "x": 3.559500483269017,
          "y": 2.8308933668823104
         },
         {
          "x": -1.0724102338326214,
          "y": 1.4518465155392857
         },
         {
          "x": -1.6571554018691939,
          "y": 0.7551465158921271
         },
         {
          "x": 2.8063688239071762,
          "y": 3.628483943237202
         },
         {
          "x": 2.5806336209970904,
          "y": 2.5402922720916914
         },
         {
          "x": -1.2310610775162676,
          "y": 2.065229118264827
         },
         {
          "x": 0.017919839716772912,
          "y": 2.3000486041204558
         },
         {
          "x": -1.5814356318278011,
          "y": -0.68815337207023
         },
         {
          "x": 3.582469181485882,
          "y": 3.3278722174190416
         },
         {
          "x": 3.243779416487196,
          "y": 5.34056051641609
         },
         {
          "x": 1.0777036007561505,
          "y": 2.3256354113202207
         }
        ]
       },
       "encoding": {
        "x": {
         "field": "x",
         "type": "quantitative"
        },
        "y": {
         "field": "y",
         "type": "quantitative"
        }
       },
       "mark": "circle"
      },
      "image/png": "[encoded data removed]",
      "image/svg+xml": [
       "<?xml version=\"1.0\" encoding=\"utf-8\"?>\n",
       "<!DOCTYPE svg PUBLIC \"-//W3C//DTD SVG 1.1//EN\" \"http://www.w3.org/Graphics/SVG/1.1/DTD/svg11.dtd\">\n",
       "<svg class=\"marks\" width=\"243\" height=\"247\" viewBox=\"0 0 243 247\" version=\"1.1\" xmlns=\"http://www.w3.org/2000/svg\" xmlns:xlink=\"http://www.w3.org/1999/xlink\"><rect width=\"243\" height=\"247\" fill=\"white\"></rect><g fill=\"none\" stroke-miterlimit=\"10\" transform=\"translate(37,10)\"><g class=\"mark-group role-frame root\" role=\"graphics-object\" aria-roledescription=\"group mark container\"><g transform=\"translate(0,0)\"><path class=\"background\" aria-hidden=\"true\" d=\"M0.5,0.5h200v200h-200Z\" stroke=\"#ddd\"></path><g><g class=\"mark-group role-axis\" aria-hidden=\"true\"><g transform=\"translate(0.5,200.5)\"><path class=\"background\" aria-hidden=\"true\" d=\"M0,0h0v0h0Z\" pointer-events=\"none\"></path><g><g class=\"mark-rule role-axis-grid\" pointer-events=\"none\"><line transform=\"translate(18,-200)\" x2=\"0\" y2=\"200\" stroke=\"#ddd\" stroke-width=\"1\" opacity=\"1\"></line><line transform=\"translate(55,-200)\" x2=\"0\" y2=\"200\" stroke=\"#ddd\" stroke-width=\"1\" opacity=\"1\"></line><line transform=\"translate(91,-200)\" x2=\"0\" y2=\"200\" stroke=\"#ddd\" stroke-width=\"1\" opacity=\"1\"></line><line transform=\"translate(127,-200)\" x2=\"0\" y2=\"200\" stroke=\"#ddd\" stroke-width=\"1\" opacity=\"1\"></line><line transform=\"translate(164,-200)\" x2=\"0\" y2=\"200\" stroke=\"#ddd\" stroke-width=\"1\" opacity=\"1\"></line><line transform=\"translate(200,-200)\" x2=\"0\" y2=\"200\" stroke=\"#ddd\" stroke-width=\"1\" opacity=\"1\"></line></g></g><path class=\"foreground\" aria-hidden=\"true\" d=\"\" pointer-events=\"none\" display=\"none\"></path></g></g><g class=\"mark-group role-axis\" aria-hidden=\"true\"><g transform=\"translate(0.5,0.5)\"><path class=\"background\" aria-hidden=\"true\" d=\"M0,0h0v0h0Z\" pointer-events=\"none\"></path><g><g class=\"mark-rule role-axis-grid\" pointer-events=\"none\"><line transform=\"translate(0,178)\" x2=\"200\" y2=\"0\" stroke=\"#ddd\" stroke-width=\"1\" opacity=\"1\"></line><line transform=\"translate(0,133)\" x2=\"200\" y2=\"0\" stroke=\"#ddd\" stroke-width=\"1\" opacity=\"1\"></line><line transform=\"translate(0,89)\" x2=\"200\" y2=\"0\" stroke=\"#ddd\" stroke-width=\"1\" opacity=\"1\"></line><line transform=\"translate(0,44)\" x2=\"200\" y2=\"0\" stroke=\"#ddd\" stroke-width=\"1\" opacity=\"1\"></line><line transform=\"translate(0,0)\" x2=\"200\" y2=\"0\" stroke=\"#ddd\" stroke-width=\"1\" opacity=\"1\"></line></g></g><path class=\"foreground\" aria-hidden=\"true\" d=\"\" pointer-events=\"none\" display=\"none\"></path></g></g><g class=\"mark-group role-axis\" role=\"graphics-symbol\" aria-roledescription=\"axis\" aria-label=\"X-axis titled 'x' for a linear scale with values from -5 to 6\"><g transform=\"translate(0.5,200.5)\"><path class=\"background\" aria-hidden=\"true\" d=\"M0,0h0v0h0Z\" pointer-events=\"none\"></path><g><g class=\"mark-rule role-axis-tick\" pointer-events=\"none\"><line transform=\"translate(18,0)\" x2=\"0\" y2=\"5\" stroke=\"#888\" stroke-width=\"1\" opacity=\"1\"></line><line transform=\"translate(55,0)\" x2=\"0\" y2=\"5\" stroke=\"#888\" stroke-width=\"1\" opacity=\"1\"></line><line transform=\"translate(91,0)\" x2=\"0\" y2=\"5\" stroke=\"#888\" stroke-width=\"1\" opacity=\"1\"></line><line transform=\"translate(127,0)\" x2=\"0\" y2=\"5\" stroke=\"#888\" stroke-width=\"1\" opacity=\"1\"></line><line transform=\"translate(164,0)\" x2=\"0\" y2=\"5\" stroke=\"#888\" stroke-width=\"1\" opacity=\"1\"></line><line transform=\"translate(200,0)\" x2=\"0\" y2=\"5\" stroke=\"#888\" stroke-width=\"1\" opacity=\"1\"></line></g><g class=\"mark-text role-axis-label\" pointer-events=\"none\"><text text-anchor=\"middle\" transform=\"translate(18.181818181818183,15)\" font-family=\"sans-serif\" font-size=\"10px\" fill=\"#000\" opacity=\"1\">-4</text><text text-anchor=\"middle\" transform=\"translate(54.54545454545454,15)\" font-family=\"sans-serif\" font-size=\"10px\" fill=\"#000\" opacity=\"1\">-2</text><text text-anchor=\"middle\" transform=\"translate(90.9090909090909,15)\" font-family=\"sans-serif\" font-size=\"10px\" fill=\"#000\" opacity=\"1\">0</text><text text-anchor=\"middle\" transform=\"translate(127.27272727272727,15)\" font-family=\"sans-serif\" font-size=\"10px\" fill=\"#000\" opacity=\"1\">2</text><text text-anchor=\"middle\" transform=\"translate(163.63636363636365,15)\" font-family=\"sans-serif\" font-size=\"10px\" fill=\"#000\" opacity=\"1\">4</text><text text-anchor=\"end\" transform=\"translate(200,15)\" font-family=\"sans-serif\" font-size=\"10px\" fill=\"#000\" opacity=\"1\">6</text></g><g class=\"mark-rule role-axis-domain\" pointer-events=\"none\"><line transform=\"translate(0,0)\" x2=\"200\" y2=\"0\" stroke=\"#888\" stroke-width=\"1\" opacity=\"1\"></line></g><g class=\"mark-text role-axis-title\" pointer-events=\"none\"><text text-anchor=\"middle\" transform=\"translate(100,30)\" font-family=\"sans-serif\" font-size=\"11px\" font-weight=\"bold\" fill=\"#000\" opacity=\"1\">x</text></g></g><path class=\"foreground\" aria-hidden=\"true\" d=\"\" pointer-events=\"none\" display=\"none\"></path></g></g><g class=\"mark-group role-axis\" role=\"graphics-symbol\" aria-roledescription=\"axis\" aria-label=\"Y-axis titled 'y' for a linear scale with values from -3 to 6\"><g transform=\"translate(0.5,0.5)\"><path class=\"background\" aria-hidden=\"true\" d=\"M0,0h0v0h0Z\" pointer-events=\"none\"></path><g><g class=\"mark-rule role-axis-tick\" pointer-events=\"none\"><line transform=\"translate(0,178)\" x2=\"-5\" y2=\"0\" stroke=\"#888\" stroke-width=\"1\" opacity=\"1\"></line><line transform=\"translate(0,133)\" x2=\"-5\" y2=\"0\" stroke=\"#888\" stroke-width=\"1\" opacity=\"1\"></line><line transform=\"translate(0,89)\" x2=\"-5\" y2=\"0\" stroke=\"#888\" stroke-width=\"1\" opacity=\"1\"></line><line transform=\"translate(0,44)\" x2=\"-5\" y2=\"0\" stroke=\"#888\" stroke-width=\"1\" opacity=\"1\"></line><line transform=\"translate(0,0)\" x2=\"-5\" y2=\"0\" stroke=\"#888\" stroke-width=\"1\" opacity=\"1\"></line></g><g class=\"mark-text role-axis-label\" pointer-events=\"none\"><text text-anchor=\"end\" transform=\"translate(-7,180.77777777777777)\" font-family=\"sans-serif\" font-size=\"10px\" fill=\"#000\" opacity=\"1\">-2</text><text text-anchor=\"end\" transform=\"translate(-7,136.33333333333334)\" font-family=\"sans-serif\" font-size=\"10px\" fill=\"#000\" opacity=\"1\">0</text><text text-anchor=\"end\" transform=\"translate(-7,91.88888888888889)\" font-family=\"sans-serif\" font-size=\"10px\" fill=\"#000\" opacity=\"1\">2</text><text text-anchor=\"end\" transform=\"translate(-7,47.44444444444444)\" font-family=\"sans-serif\" font-size=\"10px\" fill=\"#000\" opacity=\"1\">4</text><text text-anchor=\"end\" transform=\"translate(-7,3)\" font-family=\"sans-serif\" font-size=\"10px\" fill=\"#000\" opacity=\"1\">6</text></g><g class=\"mark-rule role-axis-domain\" pointer-events=\"none\"><line transform=\"translate(0,200)\" x2=\"0\" y2=\"-200\" stroke=\"#888\" stroke-width=\"1\" opacity=\"1\"></line></g><g class=\"mark-text role-axis-title\" pointer-events=\"none\"><text text-anchor=\"middle\" transform=\"translate(-21,100) rotate(-90) translate(0,-2)\" font-family=\"sans-serif\" font-size=\"11px\" font-weight=\"bold\" fill=\"#000\" opacity=\"1\">y</text></g></g><path class=\"foreground\" aria-hidden=\"true\" d=\"\" pointer-events=\"none\" display=\"none\"></path></g></g><g class=\"mark-symbol role-mark marks\" role=\"graphics-object\" aria-roledescription=\"symbol mark container\"><path aria-label=\"x: 1.68412800514; y: 3.09667193854\" role=\"graphics-symbol\" aria-roledescription=\"circle\" transform=\"translate(121.52960009343934,64.51840136588336)\" d=\"M2.7386127875258306,0A2.7386127875258306,2.7386127875258306,0,1,1,-2.7386127875258306,0A2.7386127875258306,2.7386127875258306,0,1,1,2.7386127875258306,0\" fill=\"#4c78a8\" stroke-width=\"2\" opacity=\"0.7\"></path><path aria-label=\"x: -1.43335202286; y: -0.0546008069736\" role=\"graphics-symbol\" aria-roledescription=\"circle\" transform=\"translate(64.84814503888043,134.5466845994134)\" d=\"M2.7386127875258306,0A2.7386127875258306,2.7386127875258306,0,1,1,-2.7386127875258306,0A2.7386127875258306,2.7386127875258306,0,1,1,2.7386127875258306,0\" fill=\"#4c78a8\" stroke-width=\"2\" opacity=\"0.7\"></path><path aria-label=\"x: 1.13267786611; y: 2.24720345519\" role=\"graphics-symbol\" aria-roledescription=\"circle\" transform=\"translate(111.50323392919701,83.39547877360471)\" d=\"M2.7386127875258306,0A2.7386127875258306,2.7386127875258306,0,1,1,-2.7386127875258306,0A2.7386127875258306,2.7386127875258306,0,1,1,2.7386127875258306,0\" fill=\"#4c78a8\" stroke-width=\"2\" opacity=\"0.7\"></path><path aria-label=\"x: 0.63312187088; y: 1.82361671158\" role=\"graphics-symbol\" aria-roledescription=\"circle\" transform=\"translate(102.42039765236966,92.80851752044414)\" d=\"M2.7386127875258306,0A2.7386127875258306,2.7386127875258306,0,1,1,-2.7386127875258306,0A2.7386127875258306,2.7386127875258306,0,1,1,2.7386127875258306,0\" fill=\"#4c78a8\" stroke-width=\"2\" opacity=\"0.7\"></path><path aria-label=\"x: 3.62261786118; y: 4.69484819595\" role=\"graphics-symbol\" aria-roledescription=\"circle\" transform=\"translate(156.77487020320794,29.003373423255052)\" d=\"M2.7386127875258306,0A2.7386127875258306,2.7386127875258306,0,1,1,-2.7386127875258306,0A2.7386127875258306,2.7386127875258306,0,1,1,2.7386127875258306,0\" fill=\"#4c78a8\" stroke-width=\"2\" opacity=\"0.7\"></path><path aria-label=\"x: -0.39941590967; y: 2.68669455119\" role=\"graphics-symbol\" aria-roledescription=\"circle\" transform=\"translate(83.64698346054918,73.62900997363077)\" d=\"M2.7386127875258306,0A2.7386127875258306,2.7386127875258306,0,1,1,-2.7386127875258306,0A2.7386127875258306,2.7386127875258306,0,1,1,2.7386127875258306,0\" fill=\"#4c78a8\" stroke-width=\"2\" opacity=\"0.7\"></path><path aria-label=\"x: 1.36680701915; y: 2.9764862067\" role=\"graphics-symbol\" aria-roledescription=\"circle\" transform=\"translate(115.76012762098395,67.18919540672135)\" d=\"M2.7386127875258306,0A2.7386127875258306,2.7386127875258306,0,1,1,-2.7386127875258306,0A2.7386127875258306,2.7386127875258306,0,1,1,2.7386127875258306,0\" fill=\"#4c78a8\" stroke-width=\"2\" opacity=\"0.7\"></path><path aria-label=\"x: 2.62787148314; y: 3.72831405433\" role=\"graphics-symbol\" aria-roledescription=\"circle\" transform=\"translate(138.68857242075583,50.48190990378076)\" d=\"M2.7386127875258306,0A2.7386127875258306,2.7386127875258306,0,1,1,-2.7386127875258306,0A2.7386127875258306,2.7386127875258306,0,1,1,2.7386127875258306,0\" fill=\"#4c78a8\" stroke-width=\"2\" opacity=\"0.7\"></path><path aria-label=\"x: -0.727954768728; y: 2.17802437345\" role=\"graphics-symbol\" aria-roledescription=\"circle\" transform=\"translate(77.6735496594928,84.93279170120726)\" d=\"M2.7386127875258306,0A2.7386127875258306,2.7386127875258306,0,1,1,-2.7386127875258306,0A2.7386127875258306,2.7386127875258306,0,1,1,2.7386127875258306,0\" fill=\"#4c78a8\" stroke-width=\"2\" opacity=\"0.7\"></path><path aria-label=\"x: 0.0730141907175; y: 1.72585219782\" role=\"graphics-symbol\" aria-roledescription=\"circle\" transform=\"translate(92.2366216494082,94.98106227066738)\" d=\"M2.7386127875258306,0A2.7386127875258306,2.7386127875258306,0,1,1,-2.7386127875258306,0A2.7386127875258306,2.7386127875258306,0,1,1,2.7386127875258306,0\" fill=\"#4c78a8\" stroke-width=\"2\" opacity=\"0.7\"></path><path aria-label=\"x: 5.71182467684; y: 3.61586701024\" role=\"graphics-symbol\" aria-roledescription=\"circle\" transform=\"translate(194.76044866990222,52.98073310581195)\" d=\"M2.7386127875258306,0A2.7386127875258306,2.7386127875258306,0,1,1,-2.7386127875258306,0A2.7386127875258306,2.7386127875258306,0,1,1,2.7386127875258306,0\" fill=\"#4c78a8\" stroke-width=\"2\" opacity=\"0.7\"></path><path aria-label=\"x: -0.444035135958; y: 1.15632371202\" role=\"graphics-symbol\" aria-roledescription=\"circle\" transform=\"translate(82.83572480076941,107.63725084394116)\" d=\"M2.7386127875258306,0A2.7386127875258306,2.7386127875258306,0,1,1,-2.7386127875258306,0A2.7386127875258306,2.7386127875258306,0,1,1,2.7386127875258306,0\" fill=\"#4c78a8\" stroke-width=\"2\" opacity=\"0.7\"></path><path aria-label=\"x: 3.13394009886; y: 4.24015902638\" role=\"graphics-symbol\" aria-roledescription=\"circle\" transform=\"translate(147.8898199792756,39.10757719160036)\" d=\"M2.7386127875258306,0A2.7386127875258306,2.7386127875258306,0,1,1,-2.7386127875258306,0A2.7386127875258306,2.7386127875258306,0,1,1,2.7386127875258306,0\" fill=\"#4c78a8\" stroke-width=\"2\" opacity=\"0.7\"></path><path aria-label=\"x: 2.61642879469; y: 3.60614889948\" role=\"graphics-symbol\" aria-roledescription=\"circle\" transform=\"translate(138.48052353979404,53.19669112265268)\" d=\"M2.7386127875258306,0A2.7386127875258306,2.7386127875258306,0,1,1,-2.7386127875258306,0A2.7386127875258306,2.7386127875258306,0,1,1,2.7386127875258306,0\" fill=\"#4c78a8\" stroke-width=\"2\" opacity=\"0.7\"></path><path aria-label=\"x: 0.509484903799; y: 1.62011594683\" role=\"graphics-symbol\" aria-roledescription=\"circle\" transform=\"translate(100.17245279633651,97.33075673701792)\" d=\"M2.7386127875258306,0A2.7386127875258306,2.7386127875258306,0,1,1,-2.7386127875258306,0A2.7386127875258306,2.7386127875258306,0,1,1,2.7386127875258306,0\" fill=\"#4c78a8\" stroke-width=\"2\" opacity=\"0.7\"></path><path aria-label=\"x: 2.54753480449; y: 1.27448502466\" role=\"graphics-symbol\" aria-roledescription=\"circle\" transform=\"translate(137.22790553619103,105.01144389644419)\" d=\"M2.7386127875258306,0A2.7386127875258306,2.7386127875258306,0,1,1,-2.7386127875258306,0A2.7386127875258306,2.7386127875258306,0,1,1,2.7386127875258306,0\" fill=\"#4c78a8\" stroke-width=\"2\" opacity=\"0.7\"></path><path aria-label=\"x: -3.01418467315; y: -0.866885141833\" role=\"graphics-symbol\" aria-roledescription=\"circle\" transform=\"translate(36.105733215430384,152.59744759629248)\" d=\"M2.7386127875258306,0A2.7386127875258306,2.7386127875258306,0,1,1,-2.7386127875258306,0A2.7386127875258306,2.7386127875258306,0,1,1,2.7386127875258306,0\" fill=\"#4c78a8\" stroke-width=\"2\" opacity=\"0.7\"></path><path aria-label=\"x: 3.39305344885; y: 3.83951376331\" role=\"graphics-symbol\" aria-roledescription=\"circle\" transform=\"translate(152.6009717971977,48.01080525966937)\" d=\"M2.7386127875258306,0A2.7386127875258306,2.7386127875258306,0,1,1,-2.7386127875258306,0A2.7386127875258306,2.7386127875258306,0,1,1,2.7386127875258306,0\" fill=\"#4c78a8\" stroke-width=\"2\" opacity=\"0.7\"></path><path aria-label=\"x: 0.932037274729; y: 1.42983059126\" role=\"graphics-symbol\" aria-roledescription=\"circle\" transform=\"translate(107.8552231768857,101.55932019433007)\" d=\"M2.7386127875258306,0A2.7386127875258306,2.7386127875258306,0,1,1,-2.7386127875258306,0A2.7386127875258306,2.7386127875258306,0,1,1,2.7386127875258306,0\" fill=\"#4c78a8\" stroke-width=\"2\" opacity=\"0.7\"></path><path aria-label=\"x: 0.923168913096; y: 2.0992750578\" role=\"graphics-symbol\" aria-roledescription=\"circle\" transform=\"translate(107.69398023811053,86.68277649336713)\" d=\"M2.7386127875258306,0A2.7386127875258306,2.7386127875258306,0,1,1,-2.7386127875258306,0A2.7386127875258306,2.7386127875258306,0,1,1,2.7386127875258306,0\" fill=\"#4c78a8\" stroke-width=\"2\" opacity=\"0.7\"></path><path aria-label=\"x: 1.83781406146; y: 2.47857370944\" role=\"graphics-symbol\" aria-roledescription=\"circle\" transform=\"translate(124.32389202659253,78.25391756809401)\" d=\"M2.7386127875258306,0A2.7386127875258306,2.7386127875258306,0,1,1,-2.7386127875258306,0A2.7386127875258306,2.7386127875258306,0,1,1,2.7386127875258306,0\" fill=\"#4c78a8\" stroke-width=\"2\" opacity=\"0.7\"></path><path aria-label=\"x: 0.552484569355; y: 2.68601414507\" role=\"graphics-symbol\" aria-roledescription=\"circle\" transform=\"translate(100.95426489736828,73.64413010955661)\" d=\"M2.7386127875258306,0A2.7386127875258306,2.7386127875258306,0,1,1,-2.7386127875258306,0A2.7386127875258306,2.7386127875258306,0,1,1,2.7386127875258306,0\" fill=\"#4c78a8\" stroke-width=\"2\" opacity=\"0.7\"></path><path aria-label=\"x: 2.70786816497; y: 3.12709574424\" role=\"graphics-symbol\" aria-roledescription=\"circle\" transform=\"translate(140.14305754482237,63.84231679467731)\" d=\"M2.7386127875258306,0A2.7386127875258306,2.7386127875258306,0,1,1,-2.7386127875258306,0A2.7386127875258306,2.7386127875258306,0,1,1,2.7386127875258306,0\" fill=\"#4c78a8\" stroke-width=\"2\" opacity=\"0.7\"></path><path aria-label=\"x: -2.27207870173; y: -0.282632785047\" role=\"graphics-symbol\" aria-roledescription=\"circle\" transform=\"translate(49.59856905943866,139.6140618899402)\" d=\"M2.7386127875258306,0A2.7386127875258306,2.7386127875258306,0,1,1,-2.7386127875258306,0A2.7386127875258306,2.7386127875258306,0,1,1,2.7386127875258306,0\" fill=\"#4c78a8\" stroke-width=\"2\" opacity=\"0.7\"></path><path aria-label=\"x: 0.418153836145; y: 1.85559712952\" role=\"graphics-symbol\" aria-roledescription=\"circle\" transform=\"translate(98.51188792990911,92.09784156618213)\" d=\"M2.7386127875258306,0A2.7386127875258306,2.7386127875258306,0,1,1,-2.7386127875258306,0A2.7386127875258306,2.7386127875258306,0,1,1,2.7386127875258306,0\" fill=\"#4c78a8\" stroke-width=\"2\" opacity=\"0.7\"></path><path aria-label=\"x: 3.79353109505; y: 4.3117421362\" role=\"graphics-symbol\" aria-roledescription=\"circle\" transform=\"translate(159.88238354641396,37.516841417758414)\" d=\"M2.7386127875258306,0A2.7386127875258306,2.7386127875258306,0,1,1,-2.7386127875258306,0A2.7386127875258306,2.7386127875258306,0,1,1,2.7386127875258306,0\" fill=\"#4c78a8\" stroke-width=\"2\" opacity=\"0.7\"></path><path aria-label=\"x: 1.61775476304; y: 2.8525371618\" role=\"graphics-symbol\" aria-roledescription=\"circle\" transform=\"translate(120.32281387342687,69.94361862657416)\" d=\"M2.7386127875258306,0A2.7386127875258306,2.7386127875258306,0,1,1,-2.7386127875258306,0A2.7386127875258306,2.7386127875258306,0,1,1,2.7386127875258306,0\" fill=\"#4c78a8\" stroke-width=\"2\" opacity=\"0.7\"></path><path aria-label=\"x: 0.669756234226; y: 1.38363206051\" role=\"graphics-symbol\" aria-roledescription=\"circle\" transform=\"translate(103.08647698592193,102.58595421084442)\" d=\"M2.7386127875258306,0A2.7386127875258306,2.7386127875258306,0,1,1,-2.7386127875258306,0A2.7386127875258306,2.7386127875258306,0,1,1,2.7386127875258306,0\" fill=\"#4c78a8\" stroke-width=\"2\" opacity=\"0.7\"></path><path aria-label=\"x: -1.41759652602; y: -0.428150657902\" role=\"graphics-symbol\" aria-roledescription=\"circle\" transform=\"translate(65.13460861780632,142.84779239781838)\" d=\"M2.7386127875258306,0A2.7386127875258306,2.7386127875258306,0,1,1,-2.7386127875258306,0A2.7386127875258306,2.7386127875258306,0,1,1,2.7386127875258306,0\" fill=\"#4c78a8\" stroke-width=\"2\" opacity=\"0.7\"></path><path aria-label=\"x: 1.93433300946; y: 2.82515853589\" role=\"graphics-symbol\" aria-roledescription=\"circle\" transform=\"translate(126.07878199027134,70.5520325357506)\" d=\"M2.7386127875258306,0A2.7386127875258306,2.7386127875258306,0,1,1,-2.7386127875258306,0A2.7386127875258306,2.7386127875258306,0,1,1,2.7386127875258306,0\" fill=\"#4c78a8\" stroke-width=\"2\" opacity=\"0.7\"></path><path aria-label=\"x: 3.72553613012; y: 5.02491307371\" role=\"graphics-symbol\" aria-roledescription=\"circle\" transform=\"translate(158.64611145677316,21.6685983620295)\" d=\"M2.7386127875258306,0A2.7386127875258306,2.7386127875258306,0,1,1,-2.7386127875258306,0A2.7386127875258306,2.7386127875258306,0,1,1,2.7386127875258306,0\" fill=\"#4c78a8\" stroke-width=\"2\" opacity=\"0.7\"></path><path aria-label=\"x: -0.945902736472; y: -0.214235116599\" role=\"graphics-symbol\" aria-roledescription=\"circle\" transform=\"translate(73.71085933687499,138.0941137022041)\" d=\"M2.7386127875258306,0A2.7386127875258306,2.7386127875258306,0,1,1,-2.7386127875258306,0A2.7386127875258306,2.7386127875258306,0,1,1,2.7386127875258306,0\" fill=\"#4c78a8\" stroke-width=\"2\" opacity=\"0.7\"></path><path aria-label=\"x: 1.69189806142; y: 2.68199967335\" role=\"graphics-symbol\" aria-roledescription=\"circle\" transform=\"translate(121.67087384408222,73.73334059223393)\" d=\"M2.7386127875258306,0A2.7386127875258306,2.7386127875258306,0,1,1,-2.7386127875258306,0A2.7386127875258306,2.7386127875258306,0,1,1,2.7386127875258306,0\" fill=\"#4c78a8\" stroke-width=\"2\" opacity=\"0.7\"></path><path aria-label=\"x: 2.09588954014; y: 3.00273953997\" role=\"graphics-symbol\" aria-roledescription=\"circle\" transform=\"translate(129.0161734570119,66.60578800064671)\" d=\"M2.7386127875258306,0A2.7386127875258306,2.7386127875258306,0,1,1,-2.7386127875258306,0A2.7386127875258306,2.7386127875258306,0,1,1,2.7386127875258306,0\" fill=\"#4c78a8\" stroke-width=\"2\" opacity=\"0.7\"></path><path aria-label=\"x: 2.5154158728; y: 2.07280235378\" role=\"graphics-symbol\" aria-roledescription=\"circle\" transform=\"translate(136.64392495994719,87.27105880491226)\" d=\"M2.7386127875258306,0A2.7386127875258306,2.7386127875258306,0,1,1,-2.7386127875258306,0A2.7386127875258306,2.7386127875258306,0,1,1,2.7386127875258306,0\" fill=\"#4c78a8\" stroke-width=\"2\" opacity=\"0.7\"></path><path aria-label=\"x: 1.19226557508; y: 1.88015904161\" role=\"graphics-symbol\" aria-roledescription=\"circle\" transform=\"translate(112.58664681969005,91.55202129753243)\" d=\"M2.7386127875258306,0A2.7386127875258306,2.7386127875258306,0,1,1,-2.7386127875258306,0A2.7386127875258306,2.7386127875258306,0,1,1,2.7386127875258306,0\" fill=\"#4c78a8\" stroke-width=\"2\" opacity=\"0.7\"></path><path aria-label=\"x: 0.800267269064; y: 1.64089430896\" role=\"graphics-symbol\" aria-roledescription=\"circle\" transform=\"translate(105.45940489206826,96.86901535640627)\" d=\"M2.7386127875258306,0A2.7386127875258306,2.7386127875258306,0,1,1,-2.7386127875258306,0A2.7386127875258306,2.7386127875258306,0,1,1,2.7386127875258306,0\" fill=\"#4c78a8\" stroke-width=\"2\" opacity=\"0.7\"></path><path aria-label=\"x: 1.67219944431; y: 1.66491016081\" role=\"graphics-symbol\" aria-roledescription=\"circle\" transform=\"translate(121.31271716927002,96.33532975973023)\" d=\"M2.7386127875258306,0A2.7386127875258306,2.7386127875258306,0,1,1,-2.7386127875258306,0A2.7386127875258306,2.7386127875258306,0,1,1,2.7386127875258306,0\" fill=\"#4c78a8\" stroke-width=\"2\" opacity=\"0.7\"></path><path aria-label=\"x: -1.47565321129; y: 0.952943954354\" role=\"graphics-symbol\" aria-roledescription=\"circle\" transform=\"translate(64.07903252194687,112.15680101435157)\" d=\"M2.7386127875258306,0A2.7386127875258306,2.7386127875258306,0,1,1,-2.7386127875258306,0A2.7386127875258306,2.7386127875258306,0,1,1,2.7386127875258306,0\" fill=\"#4c78a8\" stroke-width=\"2\" opacity=\"0.7\"></path><path aria-label=\"x: -1.92510782954; y: -1.18703171819\" role=\"graphics-symbol\" aria-roledescription=\"circle\" transform=\"translate(55.90713037198925,159.71181595975384)\" d=\"M2.7386127875258306,0A2.7386127875258306,2.7386127875258306,0,1,1,-2.7386127875258306,0A2.7386127875258306,2.7386127875258306,0,1,1,2.7386127875258306,0\" fill=\"#4c78a8\" stroke-width=\"2\" opacity=\"0.7\"></path><path aria-label=\"x: 0.896910167299; y: 2.69837461858\" role=\"graphics-symbol\" aria-roledescription=\"circle\" transform=\"translate(107.21654849634736,73.36945292053944)\" d=\"M2.7386127875258306,0A2.7386127875258306,2.7386127875258306,0,1,1,-2.7386127875258306,0A2.7386127875258306,2.7386127875258306,0,1,1,2.7386127875258306,0\" fill=\"#4c78a8\" stroke-width=\"2\" opacity=\"0.7\"></path><path aria-label=\"x: -0.377972730777; y: 2.39443547764\" role=\"graphics-symbol\" aria-roledescription=\"circle\" transform=\"translate(84.03685944041808,80.12365605246747)\" d=\"M2.7386127875258306,0A2.7386127875258306,2.7386127875258306,0,1,1,-2.7386127875258306,0A2.7386127875258306,2.7386127875258306,0,1,1,2.7386127875258306,0\" fill=\"#4c78a8\" stroke-width=\"2\" opacity=\"0.7\"></path><path aria-label=\"x: 3.47994685431; y: 3.34695267166\" role=\"graphics-symbol\" aria-roledescription=\"circle\" transform=\"translate(154.1808518964563,58.95660729652843)\" d=\"M2.7386127875258306,0A2.7386127875258306,2.7386127875258306,0,1,1,-2.7386127875258306,0A2.7386127875258306,2.7386127875258306,0,1,1,2.7386127875258306,0\" fill=\"#4c78a8\" stroke-width=\"2\" opacity=\"0.7\"></path><path aria-label=\"x: 1.3464961514; y: 1.64079654725\" role=\"graphics-symbol\" aria-roledescription=\"circle\" transform=\"translate(115.39083911628305,96.87118783880761)\" d=\"M2.7386127875258306,0A2.7386127875258306,2.7386127875258306,0,1,1,-2.7386127875258306,0A2.7386127875258306,2.7386127875258306,0,1,1,2.7386127875258306,0\" fill=\"#4c78a8\" stroke-width=\"2\" opacity=\"0.7\"></path><path aria-label=\"x: -1.62320735777; y: 0.747238523717\" role=\"graphics-symbol\" aria-roledescription=\"circle\" transform=\"translate(61.39622985872233,116.72803280629849)\" d=\"M2.7386127875258306,0A2.7386127875258306,2.7386127875258306,0,1,1,-2.7386127875258306,0A2.7386127875258306,2.7386127875258306,0,1,1,2.7386127875258306,0\" fill=\"#4c78a8\" stroke-width=\"2\" opacity=\"0.7\"></path><path aria-label=\"x: 0.979889448028; y: 1.62350121027\" role=\"graphics-symbol\" aria-roledescription=\"circle\" transform=\"translate(108.7252626914258,97.25552866064979)\" d=\"M2.7386127875258306,0A2.7386127875258306,2.7386127875258306,0,1,1,-2.7386127875258306,0A2.7386127875258306,2.7386127875258306,0,1,1,2.7386127875258306,0\" fill=\"#4c78a8\" stroke-width=\"2\" opacity=\"0.7\"></path><path aria-label=\"x: -1.91752137919; y: -0.627209832684\" role=\"graphics-symbol\" aria-roledescription=\"circle\" transform=\"translate(56.04506583285974,147.2713296152078)\" d=\"M2.7386127875258306,0A2.7386127875258306,2.7386127875258306,0,1,1,-2.7386127875258306,0A2.7386127875258306,2.7386127875258306,0,1,1,2.7386127875258306,0\" fill=\"#4c78a8\" stroke-width=\"2\" opacity=\"0.7\"></path><path aria-label=\"x: -1.4409436463; y: 0.580847774695\" role=\"graphics-symbol\" aria-roledescription=\"circle\" transform=\"translate(64.71011552176212,120.42560500677352)\" d=\"M2.7386127875258306,0A2.7386127875258306,2.7386127875258306,0,1,1,-2.7386127875258306,0A2.7386127875258306,2.7386127875258306,0,1,1,2.7386127875258306,0\" fill=\"#4c78a8\" stroke-width=\"2\" opacity=\"0.7\"></path><path aria-label=\"x: 1.79915854166; y: 2.86989366457\" role=\"graphics-symbol\" aria-roledescription=\"circle\" transform=\"translate(123.62106439376643,69.55791856509106)\" d=\"M2.7386127875258306,0A2.7386127875258306,2.7386127875258306,0,1,1,-2.7386127875258306,0A2.7386127875258306,2.7386127875258306,0,1,1,2.7386127875258306,0\" fill=\"#4c78a8\" stroke-width=\"2\" opacity=\"0.7\"></path><path aria-label=\"x: 2.45941122152; y: 1.6368468049\" role=\"graphics-symbol\" aria-roledescription=\"circle\" transform=\"translate(135.62565857311523,96.95895989105061)\" d=\"M2.7386127875258306,0A2.7386127875258306,2.7386127875258306,0,1,1,-2.7386127875258306,0A2.7386127875258306,2.7386127875258306,0,1,1,2.7386127875258306,0\" fill=\"#4c78a8\" stroke-width=\"2\" opacity=\"0.7\"></path><path aria-label=\"x: -0.964636746555; y: 0.625984634243\" role=\"graphics-symbol\" aria-roledescription=\"circle\" transform=\"translate(73.37024097172137,119.42256368348238)\" d=\"M2.7386127875258306,0A2.7386127875258306,2.7386127875258306,0,1,1,-2.7386127875258306,0A2.7386127875258306,2.7386127875258306,0,1,1,2.7386127875258306,0\" fill=\"#4c78a8\" stroke-width=\"2\" opacity=\"0.7\"></path><path aria-label=\"x: -0.352075974519; y: 1.61768942801\" role=\"graphics-symbol\" aria-roledescription=\"circle\" transform=\"translate(84.50770955420805,97.38467937759201)\" d=\"M2.7386127875258306,0A2.7386127875258306,2.7386127875258306,0,1,1,-2.7386127875258306,0A2.7386127875258306,2.7386127875258306,0,1,1,2.7386127875258306,0\" fill=\"#4c78a8\" stroke-width=\"2\" opacity=\"0.7\"></path><path aria-label=\"x: 1.17375007033; y: 2.37735999533\" role=\"graphics-symbol\" aria-roledescription=\"circle\" transform=\"translate(112.25000127873821,80.50311121494084)\" d=\"M2.7386127875258306,0A2.7386127875258306,2.7386127875258306,0,1,1,-2.7386127875258306,0A2.7386127875258306,2.7386127875258306,0,1,1,2.7386127875258306,0\" fill=\"#4c78a8\" stroke-width=\"2\" opacity=\"0.7\"></path><path aria-label=\"x: 1.54944112795; y: 2.57761292743\" role=\"graphics-symbol\" aria-roledescription=\"circle\" transform=\"translate(119.08074778090285,76.0530460571888)\" d=\"M2.7386127875258306,0A2.7386127875258306,2.7386127875258306,0,1,1,-2.7386127875258306,0A2.7386127875258306,2.7386127875258306,0,1,1,2.7386127875258306,0\" fill=\"#4c78a8\" stroke-width=\"2\" opacity=\"0.7\"></path><path aria-label=\"x: 2.10118417811; y: 2.71223438505\" role=\"graphics-symbol\" aria-roledescription=\"circle\" transform=\"translate(129.11243960208444,73.06145811000917)\" d=\"M2.7386127875258306,0A2.7386127875258306,2.7386127875258306,0,1,1,-2.7386127875258306,0A2.7386127875258306,2.7386127875258306,0,1,1,2.7386127875258306,0\" fill=\"#4c78a8\" stroke-width=\"2\" opacity=\"0.7\"></path><path aria-label=\"x: 2.61197602416; y: 3.73619320334\" role=\"graphics-symbol\" aria-roledescription=\"circle\" transform=\"translate(138.39956407569974,50.306817703635254)\" d=\"M2.7386127875258306,0A2.7386127875258306,2.7386127875258306,0,1,1,-2.7386127875258306,0A2.7386127875258306,2.7386127875258306,0,1,1,2.7386127875258306,0\" fill=\"#4c78a8\" stroke-width=\"2\" opacity=\"0.7\"></path><path aria-label=\"x: 2.31212000006; y: 2.94245936796\" role=\"graphics-symbol\" aria-roledescription=\"circle\" transform=\"translate(132.9476363646678,67.94534737858571)\" d=\"M2.7386127875258306,0A2.7386127875258306,2.7386127875258306,0,1,1,-2.7386127875258306,0A2.7386127875258306,2.7386127875258306,0,1,1,2.7386127875258306,0\" fill=\"#4c78a8\" stroke-width=\"2\" opacity=\"0.7\"></path><path aria-label=\"x: 1.043500079; y: 2.17023011085\" role=\"graphics-symbol\" aria-roledescription=\"circle\" transform=\"translate(109.8818196180992,85.10599753659906)\" d=\"M2.7386127875258306,0A2.7386127875258306,2.7386127875258306,0,1,1,-2.7386127875258306,0A2.7386127875258306,2.7386127875258306,0,1,1,2.7386127875258306,0\" fill=\"#4c78a8\" stroke-width=\"2\" opacity=\"0.7\"></path><path aria-label=\"x: 1.73380883178; y: 0.926408919011\" role=\"graphics-symbol\" aria-roledescription=\"circle\" transform=\"translate(122.43288785045566,112.74646846641735)\" d=\"M2.7386127875258306,0A2.7386127875258306,2.7386127875258306,0,1,1,-2.7386127875258306,0A2.7386127875258306,2.7386127875258306,0,1,1,2.7386127875258306,0\" fill=\"#4c78a8\" stroke-width=\"2\" opacity=\"0.7\"></path><path aria-label=\"x: 4.00549889969; y: 4.06936071552\" role=\"graphics-symbol\" aria-roledescription=\"circle\" transform=\"translate(163.73634363069604,42.903095210569035)\" d=\"M2.7386127875258306,0A2.7386127875258306,2.7386127875258306,0,1,1,-2.7386127875258306,0A2.7386127875258306,2.7386127875258306,0,1,1,2.7386127875258306,0\" fill=\"#4c78a8\" stroke-width=\"2\" opacity=\"0.7\"></path><path aria-label=\"x: 2.97775550023; y: 3.93096100987\" role=\"graphics-symbol\" aria-roledescription=\"circle\" transform=\"translate(145.0501000042167,45.97864422507612)\" d=\"M2.7386127875258306,0A2.7386127875258306,2.7386127875258306,0,1,1,-2.7386127875258306,0A2.7386127875258306,2.7386127875258306,0,1,1,2.7386127875258306,0\" fill=\"#4c78a8\" stroke-width=\"2\" opacity=\"0.7\"></path><path aria-label=\"x: -0.519008451841; y: 0.42241937457\" role=\"graphics-symbol\" aria-roledescription=\"circle\" transform=\"translate(81.47257360288364,123.9462361206733)\" d=\"M2.7386127875258306,0A2.7386127875258306,2.7386127875258306,0,1,1,-2.7386127875258306,0A2.7386127875258306,2.7386127875258306,0,1,1,2.7386127875258306,0\" fill=\"#4c78a8\" stroke-width=\"2\" opacity=\"0.7\"></path><path aria-label=\"x: 0.138799257039; y: 1.03928577217\" role=\"graphics-symbol\" aria-roledescription=\"circle\" transform=\"translate(93.43271376433822,110.23809395170207)\" d=\"M2.7386127875258306,0A2.7386127875258306,2.7386127875258306,0,1,1,-2.7386127875258306,0A2.7386127875258306,2.7386127875258306,0,1,1,2.7386127875258306,0\" fill=\"#4c78a8\" stroke-width=\"2\" opacity=\"0.7\"></path><path aria-label=\"x: 0.904561138247; y: 3.26333750299\" role=\"graphics-symbol\" aria-roledescription=\"circle\" transform=\"translate(107.35565705903143,60.8147221557243)\" d=\"M2.7386127875258306,0A2.7386127875258306,2.7386127875258306,0,1,1,-2.7386127875258306,0A2.7386127875258306,2.7386127875258306,0,1,1,2.7386127875258306,0\" fill=\"#4c78a8\" stroke-width=\"2\" opacity=\"0.7\"></path><path aria-label=\"x: -2.2600301138; y: -2.10305011184\" role=\"graphics-symbol\" aria-roledescription=\"circle\" transform=\"translate(49.817634294586185,180.06778026313762)\" d=\"M2.7386127875258306,0A2.7386127875258306,2.7386127875258306,0,1,1,-2.7386127875258306,0A2.7386127875258306,2.7386127875258306,0,1,1,2.7386127875258306,0\" fill=\"#4c78a8\" stroke-width=\"2\" opacity=\"0.7\"></path><path aria-label=\"x: 1.19139002605; y: 2.79328771919\" role=\"graphics-symbol\" aria-roledescription=\"circle\" transform=\"translate(112.57072774640578,71.2602729069199)\" d=\"M2.7386127875258306,0A2.7386127875258306,2.7386127875258306,0,1,1,-2.7386127875258306,0A2.7386127875258306,2.7386127875258306,0,1,1,2.7386127875258306,0\" fill=\"#4c78a8\" stroke-width=\"2\" opacity=\"0.7\"></path><path aria-label=\"x: 0.45104665099; y: 2.23936597609\" role=\"graphics-symbol\" aria-roledescription=\"circle\" transform=\"translate(99.10993910890618,83.5696449757397)\" d=\"M2.7386127875258306,0A2.7386127875258306,2.7386127875258306,0,1,1,-2.7386127875258306,0A2.7386127875258306,2.7386127875258306,0,1,1,2.7386127875258306,0\" fill=\"#4c78a8\" stroke-width=\"2\" opacity=\"0.7\"></path><path aria-label=\"x: 2.26536934933; y: 3.60856865091\" role=\"graphics-symbol\" aria-roledescription=\"circle\" transform=\"translate(132.09762453320363,53.14291886856943)\" d=\"M2.7386127875258306,0A2.7386127875258306,2.7386127875258306,0,1,1,-2.7386127875258306,0A2.7386127875258306,2.7386127875258306,0,1,1,2.7386127875258306,0\" fill=\"#4c78a8\" stroke-width=\"2\" opacity=\"0.7\"></path><path aria-label=\"x: 2.43898412366; y: 3.90613813272\" role=\"graphics-symbol\" aria-roledescription=\"circle\" transform=\"translate(135.2542567938232,46.53026371738953)\" d=\"M2.7386127875258306,0A2.7386127875258306,2.7386127875258306,0,1,1,-2.7386127875258306,0A2.7386127875258306,2.7386127875258306,0,1,1,2.7386127875258306,0\" fill=\"#4c78a8\" stroke-width=\"2\" opacity=\"0.7\"></path><path aria-label=\"x: 2.91004655016; y: 3.69359749734\" role=\"graphics-symbol\" aria-roledescription=\"circle\" transform=\"translate(143.81902818475717,51.25338894806792)\" d=\"M2.7386127875258306,0A2.7386127875258306,2.7386127875258306,0,1,1,-2.7386127875258306,0A2.7386127875258306,2.7386127875258306,0,1,1,2.7386127875258306,0\" fill=\"#4c78a8\" stroke-width=\"2\" opacity=\"0.7\"></path><path aria-label=\"x: 1.30746416962; y: 2.49446380482\" role=\"graphics-symbol\" aria-roledescription=\"circle\" transform=\"translate(114.68116672033509,77.90080433728205)\" d=\"M2.7386127875258306,0A2.7386127875258306,2.7386127875258306,0,1,1,-2.7386127875258306,0A2.7386127875258306,2.7386127875258306,0,1,1,2.7386127875258306,0\" fill=\"#4c78a8\" stroke-width=\"2\" opacity=\"0.7\"></path><path aria-label=\"x: -0.750970590143; y: -0.0535714971076\" role=\"graphics-symbol\" aria-roledescription=\"circle\" transform=\"translate(77.25508017922394,134.52381104683656)\" d=\"M2.7386127875258306,0A2.7386127875258306,2.7386127875258306,0,1,1,-2.7386127875258306,0A2.7386127875258306,2.7386127875258306,0,1,1,2.7386127875258306,0\" fill=\"#4c78a8\" stroke-width=\"2\" opacity=\"0.7\"></path><path aria-label=\"x: 1.24878766298; y: 2.58761510748\" role=\"graphics-symbol\" aria-roledescription=\"circle\" transform=\"translate(113.61432114506647,75.83077538935443)\" d=\"M2.7386127875258306,0A2.7386127875258306,2.7386127875258306,0,1,1,-2.7386127875258306,0A2.7386127875258306,2.7386127875258306,0,1,1,2.7386127875258306,0\" fill=\"#4c78a8\" stroke-width=\"2\" opacity=\"0.7\"></path><path aria-label=\"x: 1.34934511402; y: 2.43849747544\" role=\"graphics-symbol\" aria-roledescription=\"circle\" transform=\"translate(115.44263843674332,79.1445005458411)\" d=\"M2.7386127875258306,0A2.7386127875258306,2.7386127875258306,0,1,1,-2.7386127875258306,0A2.7386127875258306,2.7386127875258306,0,1,1,2.7386127875258306,0\" fill=\"#4c78a8\" stroke-width=\"2\" opacity=\"0.7\"></path><path aria-label=\"x: -1.03077067501; y: 0.734674766185\" role=\"graphics-symbol\" aria-roledescription=\"circle\" transform=\"translate(72.16780590887738,117.00722741810662)\" d=\"M2.7386127875258306,0A2.7386127875258306,2.7386127875258306,0,1,1,-2.7386127875258306,0A2.7386127875258306,2.7386127875258306,0,1,1,2.7386127875258306,0\" fill=\"#4c78a8\" stroke-width=\"2\" opacity=\"0.7\"></path><path aria-label=\"x: 3.01194731937; y: 4.28578729242\" role=\"graphics-symbol\" aria-roledescription=\"circle\" transform=\"translate(145.6717694431217,38.0936157238948)\" d=\"M2.7386127875258306,0A2.7386127875258306,2.7386127875258306,0,1,1,-2.7386127875258306,0A2.7386127875258306,2.7386127875258306,0,1,1,2.7386127875258306,0\" fill=\"#4c78a8\" stroke-width=\"2\" opacity=\"0.7\"></path><path aria-label=\"x: 1.06404513616; y: 2.2722614229\" role=\"graphics-symbol\" aria-roledescription=\"circle\" transform=\"translate(110.25536611207872,82.83863504664023)\" d=\"M2.7386127875258306,0A2.7386127875258306,2.7386127875258306,0,1,1,-2.7386127875258306,0A2.7386127875258306,2.7386127875258306,0,1,1,2.7386127875258306,0\" fill=\"#4c78a8\" stroke-width=\"2\" opacity=\"0.7\"></path><path aria-label=\"x: 0.454604780101; y: 1.28690781931\" role=\"graphics-symbol\" aria-roledescription=\"circle\" transform=\"translate(99.17463236547863,104.73538179304556)\" d=\"M2.7386127875258306,0A2.7386127875258306,2.7386127875258306,0,1,1,-2.7386127875258306,0A2.7386127875258306,2.7386127875258306,0,1,1,2.7386127875258306,0\" fill=\"#4c78a8\" stroke-width=\"2\" opacity=\"0.7\"></path><path aria-label=\"x: -0.771088696213; y: 2.51264302256\" role=\"graphics-symbol\" aria-roledescription=\"circle\" transform=\"translate(76.88929643248771,77.49682172080242)\" d=\"M2.7386127875258306,0A2.7386127875258306,2.7386127875258306,0,1,1,-2.7386127875258306,0A2.7386127875258306,2.7386127875258306,0,1,1,2.7386127875258306,0\" fill=\"#4c78a8\" stroke-width=\"2\" opacity=\"0.7\"></path><path aria-label=\"x: 3.97935569755; y: 3.0589270491\" role=\"graphics-symbol\" aria-roledescription=\"circle\" transform=\"translate(163.26101268272376,65.35717668676062)\" d=\"M2.7386127875258306,0A2.7386127875258306,2.7386127875258306,0,1,1,-2.7386127875258306,0A2.7386127875258306,2.7386127875258306,0,1,1,2.7386127875258306,0\" fill=\"#4c78a8\" stroke-width=\"2\" opacity=\"0.7\"></path><path aria-label=\"x: 1.99973426056; y: 3.17739506894\" role=\"graphics-symbol\" aria-roledescription=\"circle\" transform=\"translate(127.26789564657392,62.72455402356507)\" d=\"M2.7386127875258306,0A2.7386127875258306,2.7386127875258306,0,1,1,-2.7386127875258306,0A2.7386127875258306,2.7386127875258306,0,1,1,2.7386127875258306,0\" fill=\"#4c78a8\" stroke-width=\"2\" opacity=\"0.7\"></path><path aria-label=\"x: 1.66638564091; y: 2.43298846826\" role=\"graphics-symbol\" aria-roledescription=\"circle\" transform=\"translate(121.20701165289307,79.26692292759215)\" d=\"M2.7386127875258306,0A2.7386127875258306,2.7386127875258306,0,1,1,-2.7386127875258306,0A2.7386127875258306,2.7386127875258306,0,1,1,2.7386127875258306,0\" fill=\"#4c78a8\" stroke-width=\"2\" opacity=\"0.7\"></path><path aria-label=\"x: 1.55878503504; y: 2.41467821235\" role=\"graphics-symbol\" aria-roledescription=\"circle\" transform=\"translate(119.2506370007929,79.67381750326066)\" d=\"M2.7386127875258306,0A2.7386127875258306,2.7386127875258306,0,1,1,-2.7386127875258306,0A2.7386127875258306,2.7386127875258306,0,1,1,2.7386127875258306,0\" fill=\"#4c78a8\" stroke-width=\"2\" opacity=\"0.7\"></path><path aria-label=\"x: -1.18189288569; y: -0.518736706153\" role=\"graphics-symbol\" aria-roledescription=\"circle\" transform=\"translate(69.42012935100313,144.86081569229526)\" d=\"M2.7386127875258306,0A2.7386127875258306,2.7386127875258306,0,1,1,-2.7386127875258306,0A2.7386127875258306,2.7386127875258306,0,1,1,2.7386127875258306,0\" fill=\"#4c78a8\" stroke-width=\"2\" opacity=\"0.7\"></path><path aria-label=\"x: 4.19742336395; y: 4.27792496102\" role=\"graphics-symbol\" aria-roledescription=\"circle\" transform=\"translate(167.22587934460856,38.26833419948061)\" d=\"M2.7386127875258306,0A2.7386127875258306,2.7386127875258306,0,1,1,-2.7386127875258306,0A2.7386127875258306,2.7386127875258306,0,1,1,2.7386127875258306,0\" fill=\"#4c78a8\" stroke-width=\"2\" opacity=\"0.7\"></path><path aria-label=\"x: -2.11387936482; y: -0.398965045674\" role=\"graphics-symbol\" aria-roledescription=\"circle\" transform=\"translate(52.47492063968395,142.19922323719226)\" d=\"M2.7386127875258306,0A2.7386127875258306,2.7386127875258306,0,1,1,-2.7386127875258306,0A2.7386127875258306,2.7386127875258306,0,1,1,2.7386127875258306,0\" fill=\"#4c78a8\" stroke-width=\"2\" opacity=\"0.7\"></path><path aria-label=\"x: -0.593071282896; y: 0.571675826867\" role=\"graphics-symbol\" aria-roledescription=\"circle\" transform=\"translate(80.12597667462657,120.62942606961298)\" d=\"M2.7386127875258306,0A2.7386127875258306,2.7386127875258306,0,1,1,-2.7386127875258306,0A2.7386127875258306,2.7386127875258306,0,1,1,2.7386127875258306,0\" fill=\"#4c78a8\" stroke-width=\"2\" opacity=\"0.7\"></path><path aria-label=\"x: 0.603577410427; y: 0.439563576051\" role=\"graphics-symbol\" aria-roledescription=\"circle\" transform=\"translate(101.88322564411996,123.56525386552649)\" d=\"M2.7386127875258306,0A2.7386127875258306,2.7386127875258306,0,1,1,-2.7386127875258306,0A2.7386127875258306,2.7386127875258306,0,1,1,2.7386127875258306,0\" fill=\"#4c78a8\" stroke-width=\"2\" opacity=\"0.7\"></path><path aria-label=\"x: 2.71053930149; y: 3.78376579468\" role=\"graphics-symbol\" aria-roledescription=\"circle\" transform=\"translate(140.19162366354257,49.249649007180494)\" d=\"M2.7386127875258306,0A2.7386127875258306,2.7386127875258306,0,1,1,-2.7386127875258306,0A2.7386127875258306,2.7386127875258306,0,1,1,2.7386127875258306,0\" fill=\"#4c78a8\" stroke-width=\"2\" opacity=\"0.7\"></path><path aria-label=\"x: -4.06154720713; y: -2.63710607102\" role=\"graphics-symbol\" aria-roledescription=\"circle\" transform=\"translate(17.06277805212019,191.9356904671573)\" d=\"M2.7386127875258306,0A2.7386127875258306,2.7386127875258306,0,1,1,-2.7386127875258306,0A2.7386127875258306,2.7386127875258306,0,1,1,2.7386127875258306,0\" fill=\"#4c78a8\" stroke-width=\"2\" opacity=\"0.7\"></path><path aria-label=\"x: 1.24200012966; y: 2.71743771189\" role=\"graphics-symbol\" aria-roledescription=\"circle\" transform=\"translate(113.4909114483092,72.94582862466984)\" d=\"M2.7386127875258306,0A2.7386127875258306,2.7386127875258306,0,1,1,-2.7386127875258306,0A2.7386127875258306,2.7386127875258306,0,1,1,2.7386127875258306,0\" fill=\"#4c78a8\" stroke-width=\"2\" opacity=\"0.7\"></path><path aria-label=\"x: 0.570564555328; y: 1.86960861801\" role=\"graphics-symbol\" aria-roledescription=\"circle\" transform=\"translate(101.28299191505073,91.78647515537017)\" d=\"M2.7386127875258306,0A2.7386127875258306,2.7386127875258306,0,1,1,-2.7386127875258306,0A2.7386127875258306,2.7386127875258306,0,1,1,2.7386127875258306,0\" fill=\"#4c78a8\" stroke-width=\"2\" opacity=\"0.7\"></path><path aria-label=\"x: -1.93159825119; y: 0.356711662889\" role=\"graphics-symbol\" aria-roledescription=\"circle\" transform=\"translate(55.78912270567741,125.40640749134941)\" d=\"M2.7386127875258306,0A2.7386127875258306,2.7386127875258306,0,1,1,-2.7386127875258306,0A2.7386127875258306,2.7386127875258306,0,1,1,2.7386127875258306,0\" fill=\"#4c78a8\" stroke-width=\"2\" opacity=\"0.7\"></path><path aria-label=\"x: 0.502458069349; y: 1.82255600187\" role=\"graphics-symbol\" aria-roledescription=\"circle\" transform=\"translate(100.04469216997424,92.83208884738026)\" d=\"M2.7386127875258306,0A2.7386127875258306,2.7386127875258306,0,1,1,-2.7386127875258306,0A2.7386127875258306,2.7386127875258306,0,1,1,2.7386127875258306,0\" fill=\"#4c78a8\" stroke-width=\"2\" opacity=\"0.7\"></path><path aria-label=\"x: 0.350385228349; y: 0.878399350125\" role=\"graphics-symbol\" aria-roledescription=\"circle\" transform=\"translate(97.27973142453581,113.81334777500899)\" d=\"M2.7386127875258306,0A2.7386127875258306,2.7386127875258306,0,1,1,-2.7386127875258306,0A2.7386127875258306,2.7386127875258306,0,1,1,2.7386127875258306,0\" fill=\"#4c78a8\" stroke-width=\"2\" opacity=\"0.7\"></path><path aria-label=\"x: -0.578141423721; y: 0.577824166259\" role=\"graphics-symbol\" aria-roledescription=\"circle\" transform=\"translate(80.39742865961958,120.49279630534593)\" d=\"M2.7386127875258306,0A2.7386127875258306,2.7386127875258306,0,1,1,-2.7386127875258306,0A2.7386127875258306,2.7386127875258306,0,1,1,2.7386127875258306,0\" fill=\"#4c78a8\" stroke-width=\"2\" opacity=\"0.7\"></path><path aria-label=\"x: 2.4711788895; y: 2.87364205606\" role=\"graphics-symbol\" aria-roledescription=\"circle\" transform=\"translate(135.83961617269392,69.47462097643138)\" d=\"M2.7386127875258306,0A2.7386127875258306,2.7386127875258306,0,1,1,-2.7386127875258306,0A2.7386127875258306,2.7386127875258306,0,1,1,2.7386127875258306,0\" fill=\"#4c78a8\" stroke-width=\"2\" opacity=\"0.7\"></path><path aria-label=\"x: -0.969508999442; y: 0.0744134427675\" role=\"graphics-symbol\" aria-roledescription=\"circle\" transform=\"translate(73.28165455560374,131.67970127183443)\" d=\"M2.7386127875258306,0A2.7386127875258306,2.7386127875258306,0,1,1,-2.7386127875258306,0A2.7386127875258306,2.7386127875258306,0,1,1,2.7386127875258306,0\" fill=\"#4c78a8\" stroke-width=\"2\" opacity=\"0.7\"></path><path aria-label=\"x: 1.04084519951; y: 1.9224724288\" role=\"graphics-symbol\" aria-roledescription=\"circle\" transform=\"translate(109.83354908198596,90.61172380453498)\" d=\"M2.7386127875258306,0A2.7386127875258306,2.7386127875258306,0,1,1,-2.7386127875258306,0A2.7386127875258306,2.7386127875258306,0,1,1,2.7386127875258306,0\" fill=\"#4c78a8\" stroke-width=\"2\" opacity=\"0.7\"></path><path aria-label=\"x: -0.275127150568; y: 1.10459861754\" role=\"graphics-symbol\" aria-roledescription=\"circle\" transform=\"translate(85.90677908058949,108.78669738809394)\" d=\"M2.7386127875258306,0A2.7386127875258306,2.7386127875258306,0,1,1,-2.7386127875258306,0A2.7386127875258306,2.7386127875258306,0,1,1,2.7386127875258306,0\" fill=\"#4c78a8\" stroke-width=\"2\" opacity=\"0.7\"></path><path aria-label=\"x: 0.747311978589; y: 1.95420468899\" role=\"graphics-symbol\" aria-roledescription=\"circle\" transform=\"translate(104.4965814288841,89.90656246694653)\" d=\"M2.7386127875258306,0A2.7386127875258306,2.7386127875258306,0,1,1,-2.7386127875258306,0A2.7386127875258306,2.7386127875258306,0,1,1,2.7386127875258306,0\" fill=\"#4c78a8\" stroke-width=\"2\" opacity=\"0.7\"></path><path aria-label=\"x: -0.359952610629; y: 1.69744681944\" role=\"graphics-symbol\" aria-roledescription=\"circle\" transform=\"translate(84.36449798856522,95.61229290129538)\" d=\"M2.7386127875258306,0A2.7386127875258306,2.7386127875258306,0,1,1,-2.7386127875258306,0A2.7386127875258306,2.7386127875258306,0,1,1,2.7386127875258306,0\" fill=\"#4c78a8\" stroke-width=\"2\" opacity=\"0.7\"></path><path aria-label=\"x: 0.268167429233; y: 2.28222744076\" role=\"graphics-symbol\" aria-roledescription=\"circle\" transform=\"translate(95.78486234969824,82.61716798320562)\" d=\"M2.7386127875258306,0A2.7386127875258306,2.7386127875258306,0,1,1,-2.7386127875258306,0A2.7386127875258306,2.7386127875258306,0,1,1,2.7386127875258306,0\" fill=\"#4c78a8\" stroke-width=\"2\" opacity=\"0.7\"></path><path aria-label=\"x: 2.5338796958; y: 2.92665724432\" role=\"graphics-symbol\" aria-roledescription=\"circle\" transform=\"translate(136.97963083268732,68.29650568177605)\" d=\"M2.7386127875258306,0A2.7386127875258306,2.7386127875258306,0,1,1,-2.7386127875258306,0A2.7386127875258306,2.7386127875258306,0,1,1,2.7386127875258306,0\" fill=\"#4c78a8\" stroke-width=\"2\" opacity=\"0.7\"></path><path aria-label=\"x: 3.50312088547; y: 3.59009215853\" role=\"graphics-symbol\" aria-roledescription=\"circle\" transform=\"translate(154.6021979177109,53.553507588289676)\" d=\"M2.7386127875258306,0A2.7386127875258306,2.7386127875258306,0,1,1,-2.7386127875258306,0A2.7386127875258306,2.7386127875258306,0,1,1,2.7386127875258306,0\" fill=\"#4c78a8\" stroke-width=\"2\" opacity=\"0.7\"></path><path aria-label=\"x: 0.17646073493; y: 1.10534070426\" role=\"graphics-symbol\" aria-roledescription=\"circle\" transform=\"translate(94.1174679078128,108.77020657205678)\" d=\"M2.7386127875258306,0A2.7386127875258306,2.7386127875258306,0,1,1,-2.7386127875258306,0A2.7386127875258306,2.7386127875258306,0,1,1,2.7386127875258306,0\" fill=\"#4c78a8\" stroke-width=\"2\" opacity=\"0.7\"></path><path aria-label=\"x: 2.82132167469; y: 4.40173276525\" role=\"graphics-symbol\" aria-roledescription=\"circle\" transform=\"translate(142.20584863078355,35.51704966113958)\" d=\"M2.7386127875258306,0A2.7386127875258306,2.7386127875258306,0,1,1,-2.7386127875258306,0A2.7386127875258306,2.7386127875258306,0,1,1,2.7386127875258306,0\" fill=\"#4c78a8\" stroke-width=\"2\" opacity=\"0.7\"></path><path aria-label=\"x: -1.00023882363; y: 1.10757737173\" role=\"graphics-symbol\" aria-roledescription=\"circle\" transform=\"translate(72.72293047952186,108.72050285053807)\" d=\"M2.7386127875258306,0A2.7386127875258306,2.7386127875258306,0,1,1,-2.7386127875258306,0A2.7386127875258306,2.7386127875258306,0,1,1,2.7386127875258306,0\" fill=\"#4c78a8\" stroke-width=\"2\" opacity=\"0.7\"></path><path aria-label=\"x: -3.05777409109; y: -0.51290217126\" role=\"graphics-symbol\" aria-roledescription=\"circle\" transform=\"translate(35.313198343870006,144.73115936132436)\" d=\"M2.7386127875258306,0A2.7386127875258306,2.7386127875258306,0,1,1,-2.7386127875258306,0A2.7386127875258306,2.7386127875258306,0,1,1,2.7386127875258306,0\" fill=\"#4c78a8\" stroke-width=\"2\" opacity=\"0.7\"></path><path aria-label=\"x: 2.78028330839; y: 2.44145401248\" role=\"graphics-symbol\" aria-roledescription=\"circle\" transform=\"translate(141.45969651619453,79.07879972274374)\" d=\"M2.7386127875258306,0A2.7386127875258306,2.7386127875258306,0,1,1,-2.7386127875258306,0A2.7386127875258306,2.7386127875258306,0,1,1,2.7386127875258306,0\" fill=\"#4c78a8\" stroke-width=\"2\" opacity=\"0.7\"></path><path aria-label=\"x: 0.472614869176; y: 0.750548143312\" role=\"graphics-symbol\" aria-roledescription=\"circle\" transform=\"translate(99.50208853046796,116.65448570417878)\" d=\"M2.7386127875258306,0A2.7386127875258306,2.7386127875258306,0,1,1,-2.7386127875258306,0A2.7386127875258306,2.7386127875258306,0,1,1,2.7386127875258306,0\" fill=\"#4c78a8\" stroke-width=\"2\" opacity=\"0.7\"></path><path aria-label=\"x: -0.519903572967; y: 1.63271438778\" role=\"graphics-symbol\" aria-roledescription=\"circle\" transform=\"translate(81.45629867333291,97.05079138259343)\" d=\"M2.7386127875258306,0A2.7386127875258306,2.7386127875258306,0,1,1,-2.7386127875258306,0A2.7386127875258306,2.7386127875258306,0,1,1,2.7386127875258306,0\" fill=\"#4c78a8\" stroke-width=\"2\" opacity=\"0.7\"></path><path aria-label=\"x: 0.269669743333; y: 0.514886849491\" role=\"graphics-symbol\" aria-roledescription=\"circle\" transform=\"translate(95.81217715150638,121.89140334464672)\" d=\"M2.7386127875258306,0A2.7386127875258306,2.7386127875258306,0,1,1,-2.7386127875258306,0A2.7386127875258306,2.7386127875258306,0,1,1,2.7386127875258306,0\" fill=\"#4c78a8\" stroke-width=\"2\" opacity=\"0.7\"></path><path aria-label=\"x: -0.907810965636; y: 1.60500890792\" role=\"graphics-symbol\" aria-roledescription=\"circle\" transform=\"translate(74.40343698843456,97.66646871280781)\" d=\"M2.7386127875258306,0A2.7386127875258306,2.7386127875258306,0,1,1,-2.7386127875258306,0A2.7386127875258306,2.7386127875258306,0,1,1,2.7386127875258306,0\" fill=\"#4c78a8\" stroke-width=\"2\" opacity=\"0.7\"></path><path aria-label=\"x: 3.22860330714; y: 3.37257057766\" role=\"graphics-symbol\" aria-roledescription=\"circle\" transform=\"translate(149.6109692208075,58.38732049633588)\" d=\"M2.7386127875258306,0A2.7386127875258306,2.7386127875258306,0,1,1,-2.7386127875258306,0A2.7386127875258306,2.7386127875258306,0,1,1,2.7386127875258306,0\" fill=\"#4c78a8\" stroke-width=\"2\" opacity=\"0.7\"></path><path aria-label=\"x: -0.325515078994; y: 0.574340412637\" role=\"graphics-symbol\" aria-roledescription=\"circle\" transform=\"translate(84.99063492737423,120.57021305251104)\" d=\"M2.7386127875258306,0A2.7386127875258306,2.7386127875258306,0,1,1,-2.7386127875258306,0A2.7386127875258306,2.7386127875258306,0,1,1,2.7386127875258306,0\" fill=\"#4c78a8\" stroke-width=\"2\" opacity=\"0.7\"></path><path aria-label=\"x: 2.56450365121; y: 2.39852321627\" role=\"graphics-symbol\" aria-roledescription=\"circle\" transform=\"translate(137.53643002205646,80.03281741611943)\" d=\"M2.7386127875258306,0A2.7386127875258306,2.7386127875258306,0,1,1,-2.7386127875258306,0A2.7386127875258306,2.7386127875258306,0,1,1,2.7386127875258306,0\" fill=\"#4c78a8\" stroke-width=\"2\" opacity=\"0.7\"></path><path aria-label=\"x: 1.02466272805; y: 0.239674882795\" role=\"graphics-symbol\" aria-roledescription=\"circle\" transform=\"translate(109.53932232815717,128.0072248267748)\" d=\"M2.7386127875258306,0A2.7386127875258306,2.7386127875258306,0,1,1,-2.7386127875258306,0A2.7386127875258306,2.7386127875258306,0,1,1,2.7386127875258306,0\" fill=\"#4c78a8\" stroke-width=\"2\" opacity=\"0.7\"></path><path aria-label=\"x: 1.46445970366; y: 3.23789589144\" role=\"graphics-symbol\" aria-roledescription=\"circle\" transform=\"translate(117.53563097556936,61.380091301399005)\" d=\"M2.7386127875258306,0A2.7386127875258306,2.7386127875258306,0,1,1,-2.7386127875258306,0A2.7386127875258306,2.7386127875258306,0,1,1,2.7386127875258306,0\" fill=\"#4c78a8\" stroke-width=\"2\" opacity=\"0.7\"></path><path aria-label=\"x: 2.39826793469; y: 3.33174847408\" role=\"graphics-symbol\" aria-roledescription=\"circle\" transform=\"translate(134.5139624489736,59.294478353790495)\" d=\"M2.7386127875258306,0A2.7386127875258306,2.7386127875258306,0,1,1,-2.7386127875258306,0A2.7386127875258306,2.7386127875258306,0,1,1,2.7386127875258306,0\" fill=\"#4c78a8\" stroke-width=\"2\" opacity=\"0.7\"></path><path aria-label=\"x: 2.38369269495; y: 2.47126650157\" role=\"graphics-symbol\" aria-roledescription=\"circle\" transform=\"translate(134.248958089923,78.41629996508502)\" d=\"M2.7386127875258306,0A2.7386127875258306,2.7386127875258306,0,1,1,-2.7386127875258306,0A2.7386127875258306,2.7386127875258306,0,1,1,2.7386127875258306,0\" fill=\"#4c78a8\" stroke-width=\"2\" opacity=\"0.7\"></path><path aria-label=\"x: 1.58041780455; y: 2.18602676463\" role=\"graphics-symbol\" aria-roledescription=\"circle\" transform=\"translate(119.64396008281174,84.75496078605227)\" d=\"M2.7386127875258306,0A2.7386127875258306,2.7386127875258306,0,1,1,-2.7386127875258306,0A2.7386127875258306,2.7386127875258306,0,1,1,2.7386127875258306,0\" fill=\"#4c78a8\" stroke-width=\"2\" opacity=\"0.7\"></path><path aria-label=\"x: -1.8892572345; y: -0.597829098425\" role=\"graphics-symbol\" aria-roledescription=\"circle\" transform=\"translate(56.55895937276145,146.61842440943568)\" d=\"M2.7386127875258306,0A2.7386127875258306,2.7386127875258306,0,1,1,-2.7386127875258306,0A2.7386127875258306,2.7386127875258306,0,1,1,2.7386127875258306,0\" fill=\"#4c78a8\" stroke-width=\"2\" opacity=\"0.7\"></path><path aria-label=\"x: 2.53722074062; y: 3.50205824745\" role=\"graphics-symbol\" aria-roledescription=\"circle\" transform=\"translate(137.04037710211654,55.50981672329234)\" d=\"M2.7386127875258306,0A2.7386127875258306,2.7386127875258306,0,1,1,-2.7386127875258306,0A2.7386127875258306,2.7386127875258306,0,1,1,2.7386127875258306,0\" fill=\"#4c78a8\" stroke-width=\"2\" opacity=\"0.7\"></path><path aria-label=\"x: 1.88787505815; y: 2.40696369811\" role=\"graphics-symbol\" aria-roledescription=\"circle\" transform=\"translate(125.23409196637061,79.84525115318147)\" d=\"M2.7386127875258306,0A2.7386127875258306,2.7386127875258306,0,1,1,-2.7386127875258306,0A2.7386127875258306,2.7386127875258306,0,1,1,2.7386127875258306,0\" fill=\"#4c78a8\" stroke-width=\"2\" opacity=\"0.7\"></path><path aria-label=\"x: 1.80492642646; y: 2.51905519252\" role=\"graphics-symbol\" aria-roledescription=\"circle\" transform=\"translate(123.7259350265965,77.35432905503458)\" d=\"M2.7386127875258306,0A2.7386127875258306,2.7386127875258306,0,1,1,-2.7386127875258306,0A2.7386127875258306,2.7386127875258306,0,1,1,2.7386127875258306,0\" fill=\"#4c78a8\" stroke-width=\"2\" opacity=\"0.7\"></path><path aria-label=\"x: 2.7477144568; y: 1.94327112501\" role=\"graphics-symbol\" aria-roledescription=\"circle\" transform=\"translate(140.86753557818696,90.14953055543336)\" d=\"M2.7386127875258306,0A2.7386127875258306,2.7386127875258306,0,1,1,-2.7386127875258306,0A2.7386127875258306,2.7386127875258306,0,1,1,2.7386127875258306,0\" fill=\"#4c78a8\" stroke-width=\"2\" opacity=\"0.7\"></path><path aria-label=\"x: 1.52094763069; y: 2.22922458774\" role=\"graphics-symbol\" aria-roledescription=\"circle\" transform=\"translate(118.5626841943652,83.79500916135572)\" d=\"M2.7386127875258306,0A2.7386127875258306,2.7386127875258306,0,1,1,-2.7386127875258306,0A2.7386127875258306,2.7386127875258306,0,1,1,2.7386127875258306,0\" fill=\"#4c78a8\" stroke-width=\"2\" opacity=\"0.7\"></path><path aria-label=\"x: 1.12554885642; y: 1.70382336935\" role=\"graphics-symbol\" aria-roledescription=\"circle\" transform=\"translate(111.37361557127052,95.47059179218354)\" d=\"M2.7386127875258306,0A2.7386127875258306,2.7386127875258306,0,1,1,-2.7386127875258306,0A2.7386127875258306,2.7386127875258306,0,1,1,2.7386127875258306,0\" fill=\"#4c78a8\" stroke-width=\"2\" opacity=\"0.7\"></path><path aria-label=\"x: 0.254406945792; y: 1.97611557619\" role=\"graphics-symbol\" aria-roledescription=\"circle\" transform=\"translate(95.53467174166379,89.41965386254498)\" d=\"M2.7386127875258306,0A2.7386127875258306,2.7386127875258306,0,1,1,-2.7386127875258306,0A2.7386127875258306,2.7386127875258306,0,1,1,2.7386127875258306,0\" fill=\"#4c78a8\" stroke-width=\"2\" opacity=\"0.7\"></path><path aria-label=\"x: 0.759780191942; y: 1.26474101525\" role=\"graphics-symbol\" aria-roledescription=\"circle\" transform=\"translate(104.72327621712454,105.22797743884504)\" d=\"M2.7386127875258306,0A2.7386127875258306,2.7386127875258306,0,1,1,-2.7386127875258306,0A2.7386127875258306,2.7386127875258306,0,1,1,2.7386127875258306,0\" fill=\"#4c78a8\" stroke-width=\"2\" opacity=\"0.7\"></path><path aria-label=\"x: -1.69759206661; y: 0.0370772449409\" role=\"graphics-symbol\" aria-roledescription=\"circle\" transform=\"translate(60.043780607082006,132.50939455686785)\" d=\"M2.7386127875258306,0A2.7386127875258306,2.7386127875258306,0,1,1,-2.7386127875258306,0A2.7386127875258306,2.7386127875258306,0,1,1,2.7386127875258306,0\" fill=\"#4c78a8\" stroke-width=\"2\" opacity=\"0.7\"></path><path aria-label=\"x: -2.05899548878; y: 0.888927323717\" role=\"graphics-symbol\" aria-roledescription=\"circle\" transform=\"translate(53.47280929499224,113.57939280629195)\" d=\"M2.7386127875258306,0A2.7386127875258306,2.7386127875258306,0,1,1,-2.7386127875258306,0A2.7386127875258306,2.7386127875258306,0,1,1,2.7386127875258306,0\" fill=\"#4c78a8\" stroke-width=\"2\" opacity=\"0.7\"></path><path aria-label=\"x: 3.15987367383; y: 3.01676391051\" role=\"graphics-symbol\" aria-roledescription=\"circle\" transform=\"translate(148.36133952419047,66.29413532193576)\" d=\"M2.7386127875258306,0A2.7386127875258306,2.7386127875258306,0,1,1,-2.7386127875258306,0A2.7386127875258306,2.7386127875258306,0,1,1,2.7386127875258306,0\" fill=\"#4c78a8\" stroke-width=\"2\" opacity=\"0.7\"></path><path aria-label=\"x: 2.5282424541; y: 0.971600015141\" role=\"graphics-symbol\" aria-roledescription=\"circle\" transform=\"translate(136.87713552914002,111.7422218857542)\" d=\"M2.7386127875258306,0A2.7386127875258306,2.7386127875258306,0,1,1,-2.7386127875258306,0A2.7386127875258306,2.7386127875258306,0,1,1,2.7386127875258306,0\" fill=\"#4c78a8\" stroke-width=\"2\" opacity=\"0.7\"></path><path aria-label=\"x: 3.11801725097; y: 3.55207721694\" role=\"graphics-symbol\" aria-roledescription=\"circle\" transform=\"translate(147.6003136539507,54.3982840680703)\" d=\"M2.7386127875258306,0A2.7386127875258306,2.7386127875258306,0,1,1,-2.7386127875258306,0A2.7386127875258306,2.7386127875258306,0,1,1,2.7386127875258306,0\" fill=\"#4c78a8\" stroke-width=\"2\" opacity=\"0.7\"></path><path aria-label=\"x: 1.62014831285; y: 0.566612837241\" role=\"graphics-symbol\" aria-roledescription=\"circle\" transform=\"translate(120.3663329608603,120.74193695020861)\" d=\"M2.7386127875258306,0A2.7386127875258306,2.7386127875258306,0,1,1,-2.7386127875258306,0A2.7386127875258306,2.7386127875258306,0,1,1,2.7386127875258306,0\" fill=\"#4c78a8\" stroke-width=\"2\" opacity=\"0.7\"></path><path aria-label=\"x: 1.03632900978; y: 0.863606257132\" role=\"graphics-symbol\" aria-roledescription=\"circle\" transform=\"translate(109.75143654141132,114.14208317483715)\" d=\"M2.7386127875258306,0A2.7386127875258306,2.7386127875258306,0,1,1,-2.7386127875258306,0A2.7386127875258306,2.7386127875258306,0,1,1,2.7386127875258306,0\" fill=\"#4c78a8\" stroke-width=\"2\" opacity=\"0.7\"></path><path aria-label=\"x: 3.7255654256; y: 4.2697821518\" role=\"graphics-symbol\" aria-roledescription=\"circle\" transform=\"translate(158.64664410173546,38.44928551562201)\" d=\"M2.7386127875258306,0A2.7386127875258306,2.7386127875258306,0,1,1,-2.7386127875258306,0A2.7386127875258306,2.7386127875258306,0,1,1,2.7386127875258306,0\" fill=\"#4c78a8\" stroke-width=\"2\" opacity=\"0.7\"></path><path aria-label=\"x: -0.827115162503; y: 1.13857710962\" role=\"graphics-symbol\" aria-roledescription=\"circle\" transform=\"translate(75.87063340902827,108.0316197861976)\" d=\"M2.7386127875258306,0A2.7386127875258306,2.7386127875258306,0,1,1,-2.7386127875258306,0A2.7386127875258306,2.7386127875258306,0,1,1,2.7386127875258306,0\" fill=\"#4c78a8\" stroke-width=\"2\" opacity=\"0.7\"></path><path aria-label=\"x: 2.39551161255; y: 1.13262905356\" role=\"graphics-symbol\" aria-roledescription=\"circle\" transform=\"translate(134.4638475008993,108.16379880979481)\" d=\"M2.7386127875258306,0A2.7386127875258306,2.7386127875258306,0,1,1,-2.7386127875258306,0A2.7386127875258306,2.7386127875258306,0,1,1,2.7386127875258306,0\" fill=\"#4c78a8\" stroke-width=\"2\" opacity=\"0.7\"></path><path aria-label=\"x: 2.82511912928; y: 3.49133172869\" role=\"graphics-symbol\" aria-roledescription=\"circle\" transform=\"translate(142.27489325957328,55.748183806809706)\" d=\"M2.7386127875258306,0A2.7386127875258306,2.7386127875258306,0,1,1,-2.7386127875258306,0A2.7386127875258306,2.7386127875258306,0,1,1,2.7386127875258306,0\" fill=\"#4c78a8\" stroke-width=\"2\" opacity=\"0.7\"></path><path aria-label=\"x: 1.74646025166; y: 3.22446949461\" role=\"graphics-symbol\" aria-roledescription=\"circle\" transform=\"translate(122.6629136665274,61.6784556753194)\" d=\"M2.7386127875258306,0A2.7386127875258306,2.7386127875258306,0,1,1,-2.7386127875258306,0A2.7386127875258306,2.7386127875258306,0,1,1,2.7386127875258306,0\" fill=\"#4c78a8\" stroke-width=\"2\" opacity=\"0.7\"></path><path aria-label=\"x: 1.81555940886; y: 2.48749642482\" role=\"graphics-symbol\" aria-roledescription=\"circle\" transform=\"translate(123.91926197927422,78.05563500394265)\" d=\"M2.7386127875258306,0A2.7386127875258306,2.7386127875258306,0,1,1,-2.7386127875258306,0A2.7386127875258306,2.7386127875258306,0,1,1,2.7386127875258306,0\" fill=\"#4c78a8\" stroke-width=\"2\" opacity=\"0.7\"></path><path aria-label=\"x: -2.997939678; y: -0.315632831947\" role=\"graphics-symbol\" aria-roledescription=\"circle\" transform=\"translate(36.40109676369198,140.3473962654809)\" d=\"M2.7386127875258306,0A2.7386127875258306,2.7386127875258306,0,1,1,-2.7386127875258306,0A2.7386127875258306,2.7386127875258306,0,1,1,2.7386127875258306,0\" fill=\"#4c78a8\" stroke-width=\"2\" opacity=\"0.7\"></path><path aria-label=\"x: -0.633448167421; y: 0.511329365094\" role=\"graphics-symbol\" aria-roledescription=\"circle\" transform=\"translate(79.39185150143342,121.97045855345623)\" d=\"M2.7386127875258306,0A2.7386127875258306,2.7386127875258306,0,1,1,-2.7386127875258306,0A2.7386127875258306,2.7386127875258306,0,1,1,2.7386127875258306,0\" fill=\"#4c78a8\" stroke-width=\"2\" opacity=\"0.7\"></path><path aria-label=\"x: -2.02532180112; y: -0.342504298407\" role=\"graphics-symbol\" aria-roledescription=\"circle\" transform=\"translate(54.08505816138768,140.94453996460194)\" d=\"M2.7386127875258306,0A2.7386127875258306,2.7386127875258306,0,1,1,-2.7386127875258306,0A2.7386127875258306,2.7386127875258306,0,1,1,2.7386127875258306,0\" fill=\"#4c78a8\" stroke-width=\"2\" opacity=\"0.7\"></path><path aria-label=\"x: 3.94738253896; y: 4.16832539495\" role=\"graphics-symbol\" aria-roledescription=\"circle\" transform=\"translate(162.67968252655558,40.70388011226993)\" d=\"M2.7386127875258306,0A2.7386127875258306,2.7386127875258306,0,1,1,-2.7386127875258306,0A2.7386127875258306,2.7386127875258306,0,1,1,2.7386127875258306,0\" fill=\"#4c78a8\" stroke-width=\"2\" opacity=\"0.7\"></path><path aria-label=\"x: 2.38165658965; y: 3.47311884372\" role=\"graphics-symbol\" aria-roledescription=\"circle\" transform=\"translate(134.21193799360412,56.15291458393197)\" d=\"M2.7386127875258306,0A2.7386127875258306,2.7386127875258306,0,1,1,-2.7386127875258306,0A2.7386127875258306,2.7386127875258306,0,1,1,2.7386127875258306,0\" fill=\"#4c78a8\" stroke-width=\"2\" opacity=\"0.7\"></path><path aria-label=\"x: 0.32521513379; y: 1.96977018384\" role=\"graphics-symbol\" aria-roledescription=\"circle\" transform=\"translate(96.8220933416352,89.56066258138466)\" d=\"M2.7386127875258306,0A2.7386127875258306,2.7386127875258306,0,1,1,-2.7386127875258306,0A2.7386127875258306,2.7386127875258306,0,1,1,2.7386127875258306,0\" fill=\"#4c78a8\" stroke-width=\"2\" opacity=\"0.7\"></path><path aria-label=\"x: 0.600700708126; y: 2.24129001523\" role=\"graphics-symbol\" aria-roledescription=\"circle\" transform=\"translate(101.8309219659351,83.52688855054669)\" d=\"M2.7386127875258306,0A2.7386127875258306,2.7386127875258306,0,1,1,-2.7386127875258306,0A2.7386127875258306,2.7386127875258306,0,1,1,2.7386127875258306,0\" fill=\"#4c78a8\" stroke-width=\"2\" opacity=\"0.7\"></path><path aria-label=\"x: 1.61195223819; y: 3.02208821511\" role=\"graphics-symbol\" aria-roledescription=\"circle\" transform=\"translate(120.21731342171311,66.17581744204841)\" d=\"M2.7386127875258306,0A2.7386127875258306,2.7386127875258306,0,1,1,-2.7386127875258306,0A2.7386127875258306,2.7386127875258306,0,1,1,2.7386127875258306,0\" fill=\"#4c78a8\" stroke-width=\"2\" opacity=\"0.7\"></path><path aria-label=\"x: 2.90217499702; y: 3.25190762375\" role=\"graphics-symbol\" aria-roledescription=\"circle\" transform=\"translate(143.6759090367856,61.06871947217674)\" d=\"M2.7386127875258306,0A2.7386127875258306,2.7386127875258306,0,1,1,-2.7386127875258306,0A2.7386127875258306,2.7386127875258306,0,1,1,2.7386127875258306,0\" fill=\"#4c78a8\" stroke-width=\"2\" opacity=\"0.7\"></path><path aria-label=\"x: 0.577254950621; y: 2.64998825022\" role=\"graphics-symbol\" aria-roledescription=\"circle\" transform=\"translate(101.40463546583706,74.44470555056209)\" d=\"M2.7386127875258306,0A2.7386127875258306,2.7386127875258306,0,1,1,-2.7386127875258306,0A2.7386127875258306,2.7386127875258306,0,1,1,2.7386127875258306,0\" fill=\"#4c78a8\" stroke-width=\"2\" opacity=\"0.7\"></path><path aria-label=\"x: 3.86588604264; y: 3.35512558964\" role=\"graphics-symbol\" aria-roledescription=\"circle\" transform=\"translate(161.19792804806846,58.77498689685525)\" d=\"M2.7386127875258306,0A2.7386127875258306,2.7386127875258306,0,1,1,-2.7386127875258306,0A2.7386127875258306,2.7386127875258306,0,1,1,2.7386127875258306,0\" fill=\"#4c78a8\" stroke-width=\"2\" opacity=\"0.7\"></path><path aria-label=\"x: 2.85304683607; y: 4.12846403528\" role=\"graphics-symbol\" aria-roledescription=\"circle\" transform=\"translate(142.78266974679767,41.589688104792174)\" d=\"M2.7386127875258306,0A2.7386127875258306,2.7386127875258306,0,1,1,-2.7386127875258306,0A2.7386127875258306,2.7386127875258306,0,1,1,2.7386127875258306,0\" fill=\"#4c78a8\" stroke-width=\"2\" opacity=\"0.7\"></path><path aria-label=\"x: 1.65740863083; y: 1.26272034786\" role=\"graphics-symbol\" aria-roledescription=\"circle\" transform=\"translate(121.0437932878881,105.27288115871119)\" d=\"M2.7386127875258306,0A2.7386127875258306,2.7386127875258306,0,1,1,-2.7386127875258306,0A2.7386127875258306,2.7386127875258306,0,1,1,2.7386127875258306,0\" fill=\"#4c78a8\" stroke-width=\"2\" opacity=\"0.7\"></path><path aria-label=\"x: 2.62709870823; y: 3.56479634518\" role=\"graphics-symbol\" aria-roledescription=\"circle\" transform=\"translate(138.67452196775412,54.11563677388058)\" d=\"M2.7386127875258306,0A2.7386127875258306,2.7386127875258306,0,1,1,-2.7386127875258306,0A2.7386127875258306,2.7386127875258306,0,1,1,2.7386127875258306,0\" fill=\"#4c78a8\" stroke-width=\"2\" opacity=\"0.7\"></path><path aria-label=\"x: -0.839698915192; y: 1.23732894416\" role=\"graphics-symbol\" aria-roledescription=\"circle\" transform=\"translate(75.64183790559241,105.83713457423501)\" d=\"M2.7386127875258306,0A2.7386127875258306,2.7386127875258306,0,1,1,-2.7386127875258306,0A2.7386127875258306,2.7386127875258306,0,1,1,2.7386127875258306,0\" fill=\"#4c78a8\" stroke-width=\"2\" opacity=\"0.7\"></path><path aria-label=\"x: 0.514090549327; y: 0.925602448397\" role=\"graphics-symbol\" aria-roledescription=\"circle\" transform=\"translate(100.25619180595122,112.76439003563065)\" d=\"M2.7386127875258306,0A2.7386127875258306,2.7386127875258306,0,1,1,-2.7386127875258306,0A2.7386127875258306,2.7386127875258306,0,1,1,2.7386127875258306,0\" fill=\"#4c78a8\" stroke-width=\"2\" opacity=\"0.7\"></path><path aria-label=\"x: 1.36503777758; y: 2.32911330595\" role=\"graphics-symbol\" aria-roledescription=\"circle\" transform=\"translate(115.72795959236105,81.57525986787371)\" d=\"M2.7386127875258306,0A2.7386127875258306,2.7386127875258306,0,1,1,-2.7386127875258306,0A2.7386127875258306,2.7386127875258306,0,1,1,2.7386127875258306,0\" fill=\"#4c78a8\" stroke-width=\"2\" opacity=\"0.7\"></path><path aria-label=\"x: 1.1141864516; y: 2.83395102897\" role=\"graphics-symbol\" aria-roledescription=\"circle\" transform=\"translate(111.16702639267537,70.35664380062394)\" d=\"M2.7386127875258306,0A2.7386127875258306,2.7386127875258306,0,1,1,-2.7386127875258306,0A2.7386127875258306,2.7386127875258306,0,1,1,2.7386127875258306,0\" fill=\"#4c78a8\" stroke-width=\"2\" opacity=\"0.7\"></path><path aria-label=\"x: 1.08932224163; y: 2.31532466481\" role=\"graphics-symbol\" aria-roledescription=\"circle\" transform=\"translate(110.71494984790743,81.88167411529024)\" d=\"M2.7386127875258306,0A2.7386127875258306,2.7386127875258306,0,1,1,-2.7386127875258306,0A2.7386127875258306,2.7386127875258306,0,1,1,2.7386127875258306,0\" fill=\"#4c78a8\" stroke-width=\"2\" opacity=\"0.7\"></path><path aria-label=\"x: 0.770549455114; y: 2.00380932754\" role=\"graphics-symbol\" aria-roledescription=\"circle\" transform=\"translate(104.91908100207645,88.80423716579362)\" d=\"M2.7386127875258306,0A2.7386127875258306,2.7386127875258306,0,1,1,-2.7386127875258306,0A2.7386127875258306,2.7386127875258306,0,1,1,2.7386127875258306,0\" fill=\"#4c78a8\" stroke-width=\"2\" opacity=\"0.7\"></path><path aria-label=\"x: 0.485873962478; y: 1.49804773989\" role=\"graphics-symbol\" aria-roledescription=\"circle\" transform=\"translate(99.7431629541364,100.04338355794195)\" d=\"M2.7386127875258306,0A2.7386127875258306,2.7386127875258306,0,1,1,-2.7386127875258306,0A2.7386127875258306,2.7386127875258306,0,1,1,2.7386127875258306,0\" fill=\"#4c78a8\" stroke-width=\"2\" opacity=\"0.7\"></path><path aria-label=\"x: -0.617452294967; y: 1.85666441348\" role=\"graphics-symbol\" aria-roledescription=\"circle\" transform=\"translate(79.68268554605952,92.07412414496356)\" d=\"M2.7386127875258306,0A2.7386127875258306,2.7386127875258306,0,1,1,-2.7386127875258306,0A2.7386127875258306,2.7386127875258306,0,1,1,2.7386127875258306,0\" fill=\"#4c78a8\" stroke-width=\"2\" opacity=\"0.7\"></path><path aria-label=\"x: -1.65595337832; y: -0.339792772536\" role=\"graphics-symbol\" aria-roledescription=\"circle\" transform=\"translate(60.80084766688486,140.88428383414075)\" d=\"M2.7386127875258306,0A2.7386127875258306,2.7386127875258306,0,1,1,-2.7386127875258306,0A2.7386127875258306,2.7386127875258306,0,1,1,2.7386127875258306,0\" fill=\"#4c78a8\" stroke-width=\"2\" opacity=\"0.7\"></path><path aria-label=\"x: 4.91870001273; y: 5.520257221\" role=\"graphics-symbol\" aria-roledescription=\"circle\" transform=\"translate(180.34000023141223,10.660950644474143)\" d=\"M2.7386127875258306,0A2.7386127875258306,2.7386127875258306,0,1,1,-2.7386127875258306,0A2.7386127875258306,2.7386127875258306,0,1,1,2.7386127875258306,0\" fill=\"#4c78a8\" stroke-width=\"2\" opacity=\"0.7\"></path><path aria-label=\"x: 0.58320619055; y: 2.16018629622\" role=\"graphics-symbol\" aria-roledescription=\"circle\" transform=\"translate(101.51283982818606,85.32919341735798)\" d=\"M2.7386127875258306,0A2.7386127875258306,2.7386127875258306,0,1,1,-2.7386127875258306,0A2.7386127875258306,2.7386127875258306,0,1,1,2.7386127875258306,0\" fill=\"#4c78a8\" stroke-width=\"2\" opacity=\"0.7\"></path><path aria-label=\"x: 1.70324587714; y: 3.00597429967\" role=\"graphics-symbol\" aria-roledescription=\"circle\" transform=\"translate(121.87719776617378,66.53390445170382)\" d=\"M2.7386127875258306,0A2.7386127875258306,2.7386127875258306,0,1,1,-2.7386127875258306,0A2.7386127875258306,2.7386127875258306,0,1,1,2.7386127875258306,0\" fill=\"#4c78a8\" stroke-width=\"2\" opacity=\"0.7\"></path><path aria-label=\"x: 1.6711984151; y: 0.955670063615\" role=\"graphics-symbol\" aria-roledescription=\"circle\" transform=\"translate(121.29451663817366,112.0962208085624)\" d=\"M2.7386127875258306,0A2.7386127875258306,2.7386127875258306,0,1,1,-2.7386127875258306,0A2.7386127875258306,2.7386127875258306,0,1,1,2.7386127875258306,0\" fill=\"#4c78a8\" stroke-width=\"2\" opacity=\"0.7\"></path><path aria-label=\"x: 2.0227940288; y: 2.50928536298\" role=\"graphics-symbol\" aria-roledescription=\"circle\" transform=\"translate(127.68716416007966,77.5714363783143)\" d=\"M2.7386127875258306,0A2.7386127875258306,2.7386127875258306,0,1,1,-2.7386127875258306,0A2.7386127875258306,2.7386127875258306,0,1,1,2.7386127875258306,0\" fill=\"#4c78a8\" stroke-width=\"2\" opacity=\"0.7\"></path><path aria-label=\"x: 3.43297028343; y: 2.90394546626\" role=\"graphics-symbol\" aria-roledescription=\"circle\" transform=\"translate(153.32673242598707,68.80121186094854)\" d=\"M2.7386127875258306,0A2.7386127875258306,2.7386127875258306,0,1,1,-2.7386127875258306,0A2.7386127875258306,2.7386127875258306,0,1,1,2.7386127875258306,0\" fill=\"#4c78a8\" stroke-width=\"2\" opacity=\"0.7\"></path><path aria-label=\"x: -1.21794411462; y: -0.413108763006\" role=\"graphics-symbol\" aria-roledescription=\"circle\" transform=\"translate(68.76465246149698,142.51352806679648)\" d=\"M2.7386127875258306,0A2.7386127875258306,2.7386127875258306,0,1,1,-2.7386127875258306,0A2.7386127875258306,2.7386127875258306,0,1,1,2.7386127875258306,0\" fill=\"#4c78a8\" stroke-width=\"2\" opacity=\"0.7\"></path><path aria-label=\"x: 0.58419710795; y: 1.77519206441\" role=\"graphics-symbol\" aria-roledescription=\"circle\" transform=\"translate(101.53085650818096,93.88462079087647)\" d=\"M2.7386127875258306,0A2.7386127875258306,2.7386127875258306,0,1,1,-2.7386127875258306,0A2.7386127875258306,2.7386127875258306,0,1,1,2.7386127875258306,0\" fill=\"#4c78a8\" stroke-width=\"2\" opacity=\"0.7\"></path><path aria-label=\"x: 0.634880242769; y: 2.24588204286\" role=\"graphics-symbol\" aria-roledescription=\"circle\" transform=\"translate(102.45236805033954,83.42484349189752)\" d=\"M2.7386127875258306,0A2.7386127875258306,2.7386127875258306,0,1,1,-2.7386127875258306,0A2.7386127875258306,2.7386127875258306,0,1,1,2.7386127875258306,0\" fill=\"#4c78a8\" stroke-width=\"2\" opacity=\"0.7\"></path><path aria-label=\"x: 2.00052156215; y: 3.55529354582\" role=\"graphics-symbol\" aria-roledescription=\"circle\" transform=\"translate(127.28221022085498,54.326810092816345)\" d=\"M2.7386127875258306,0A2.7386127875258306,2.7386127875258306,0,1,1,-2.7386127875258306,0A2.7386127875258306,2.7386127875258306,0,1,1,2.7386127875258306,0\" fill=\"#4c78a8\" stroke-width=\"2\" opacity=\"0.7\"></path><path aria-label=\"x: 0.876205108569; y: 0.760929788486\" role=\"graphics-symbol\" aria-roledescription=\"circle\" transform=\"translate(106.84009288307269,116.4237824780989)\" d=\"M2.7386127875258306,0A2.7386127875258306,2.7386127875258306,0,1,1,-2.7386127875258306,0A2.7386127875258306,2.7386127875258306,0,1,1,2.7386127875258306,0\" fill=\"#4c78a8\" stroke-width=\"2\" opacity=\"0.7\"></path><path aria-label=\"x: 1.03409752758; y: 1.26162750315\" role=\"graphics-symbol\" aria-roledescription=\"circle\" transform=\"translate(109.71086413781379,105.29716659657313)\" d=\"M2.7386127875258306,0A2.7386127875258306,2.7386127875258306,0,1,1,-2.7386127875258306,0A2.7386127875258306,2.7386127875258306,0,1,1,2.7386127875258306,0\" fill=\"#4c78a8\" stroke-width=\"2\" opacity=\"0.7\"></path><path aria-label=\"x: 4.01190329084; y: 3.33912712089\" role=\"graphics-symbol\" aria-roledescription=\"circle\" transform=\"translate(163.85278710619255,59.13050842466401)\" d=\"M2.7386127875258306,0A2.7386127875258306,2.7386127875258306,0,1,1,-2.7386127875258306,0A2.7386127875258306,2.7386127875258306,0,1,1,2.7386127875258306,0\" fill=\"#4c78a8\" stroke-width=\"2\" opacity=\"0.7\"></path><path aria-label=\"x: 3.35369482102; y: 3.2079707824\" role=\"graphics-symbol\" aria-roledescription=\"circle\" transform=\"translate(151.8853603821835,62.04509372445934)\" d=\"M2.7386127875258306,0A2.7386127875258306,2.7386127875258306,0,1,1,-2.7386127875258306,0A2.7386127875258306,2.7386127875258306,0,1,1,2.7386127875258306,0\" fill=\"#4c78a8\" stroke-width=\"2\" opacity=\"0.7\"></path><path aria-label=\"x: 1.60832649822; y: 1.71854041355\" role=\"graphics-symbol\" aria-roledescription=\"circle\" transform=\"translate(120.1513908768044,95.14354636556581)\" d=\"M2.7386127875258306,0A2.7386127875258306,2.7386127875258306,0,1,1,-2.7386127875258306,0A2.7386127875258306,2.7386127875258306,0,1,1,2.7386127875258306,0\" fill=\"#4c78a8\" stroke-width=\"2\" opacity=\"0.7\"></path><path aria-label=\"x: 2.08712056788; y: 1.9551787522\" role=\"graphics-symbol\" aria-roledescription=\"circle\" transform=\"translate(128.8567375978671,89.88491661785565)\" d=\"M2.7386127875258306,0A2.7386127875258306,2.7386127875258306,0,1,1,-2.7386127875258306,0A2.7386127875258306,2.7386127875258306,0,1,1,2.7386127875258306,0\" fill=\"#4c78a8\" stroke-width=\"2\" opacity=\"0.7\"></path><path aria-label=\"x: -2.43757480009; y: -1.00474227307\" role=\"graphics-symbol\" aria-roledescription=\"circle\" transform=\"translate(46.58954908924829,155.66093940148883)\" d=\"M2.7386127875258306,0A2.7386127875258306,2.7386127875258306,0,1,1,-2.7386127875258306,0A2.7386127875258306,2.7386127875258306,0,1,1,2.7386127875258306,0\" fill=\"#4c78a8\" stroke-width=\"2\" opacity=\"0.7\"></path><path aria-label=\"x: 1.29561755628; y: 0.603034490122\" role=\"graphics-symbol\" aria-roledescription=\"circle\" transform=\"translate(114.46577375054487,119.93256688617451)\" d=\"M2.7386127875258306,0A2.7386127875258306,2.7386127875258306,0,1,1,-2.7386127875258306,0A2.7386127875258306,2.7386127875258306,0,1,1,2.7386127875258306,0\" fill=\"#4c78a8\" stroke-width=\"2\" opacity=\"0.7\"></path><path aria-label=\"x: 1.68590118226; y: 3.29510379906\" role=\"graphics-symbol\" aria-roledescription=\"circle\" transform=\"translate(121.56183967747418,60.108804465364415)\" d=\"M2.7386127875258306,0A2.7386127875258306,2.7386127875258306,0,1,1,-2.7386127875258306,0A2.7386127875258306,2.7386127875258306,0,1,1,2.7386127875258306,0\" fill=\"#4c78a8\" stroke-width=\"2\" opacity=\"0.7\"></path><path aria-label=\"x: 2.69064993879; y: 0.888478801693\" role=\"graphics-symbol\" aria-roledescription=\"circle\" transform=\"translate(139.8299988871397,113.58935996238525)\" d=\"M2.7386127875258306,0A2.7386127875258306,2.7386127875258306,0,1,1,-2.7386127875258306,0A2.7386127875258306,2.7386127875258306,0,1,1,2.7386127875258306,0\" fill=\"#4c78a8\" stroke-width=\"2\" opacity=\"0.7\"></path><path aria-label=\"x: 0.857481439232; y: 2.27259397494\" role=\"graphics-symbol\" aria-roledescription=\"circle\" transform=\"translate(106.4996625314931,82.83124500140902)\" d=\"M2.7386127875258306,0A2.7386127875258306,2.7386127875258306,0,1,1,-2.7386127875258306,0A2.7386127875258306,2.7386127875258306,0,1,1,2.7386127875258306,0\" fill=\"#4c78a8\" stroke-width=\"2\" opacity=\"0.7\"></path><path aria-label=\"x: 3.1969021296; y: 3.28072053239\" role=\"graphics-symbol\" aria-roledescription=\"circle\" transform=\"translate(149.03458417462863,60.42843261360149)\" d=\"M2.7386127875258306,0A2.7386127875258306,2.7386127875258306,0,1,1,-2.7386127875258306,0A2.7386127875258306,2.7386127875258306,0,1,1,2.7386127875258306,0\" fill=\"#4c78a8\" stroke-width=\"2\" opacity=\"0.7\"></path><path aria-label=\"x: 0.361163566475; y: 1.18600424609\" role=\"graphics-symbol\" aria-roledescription=\"circle\" transform=\"translate(97.47570120862767,106.97768342023524)\" d=\"M2.7386127875258306,0A2.7386127875258306,2.7386127875258306,0,1,1,-2.7386127875258306,0A2.7386127875258306,2.7386127875258306,0,1,1,2.7386127875258306,0\" fill=\"#4c78a8\" stroke-width=\"2\" opacity=\"0.7\"></path><path aria-label=\"x: 2.15059569528; y: 2.92452835841\" role=\"graphics-symbol\" aria-roledescription=\"circle\" transform=\"translate(130.01083082333457,68.34381425765723)\" d=\"M2.7386127875258306,0A2.7386127875258306,2.7386127875258306,0,1,1,-2.7386127875258306,0A2.7386127875258306,2.7386127875258306,0,1,1,2.7386127875258306,0\" fill=\"#4c78a8\" stroke-width=\"2\" opacity=\"0.7\"></path><path aria-label=\"x: -0.350627416279; y: 1.92970218197\" role=\"graphics-symbol\" aria-roledescription=\"circle\" transform=\"translate(84.53404697674787,90.45106262282543)\" d=\"M2.7386127875258306,0A2.7386127875258306,2.7386127875258306,0,1,1,-2.7386127875258306,0A2.7386127875258306,2.7386127875258306,0,1,1,2.7386127875258306,0\" fill=\"#4c78a8\" stroke-width=\"2\" opacity=\"0.7\"></path><path aria-label=\"x: 0.457904053516; y: 1.59882197556\" role=\"graphics-symbol\" aria-roledescription=\"circle\" transform=\"translate(99.23461915484292,97.80395609864851)\" d=\"M2.7386127875258306,0A2.7386127875258306,2.7386127875258306,0,1,1,-2.7386127875258306,0A2.7386127875258306,2.7386127875258306,0,1,1,2.7386127875258306,0\" fill=\"#4c78a8\" stroke-width=\"2\" opacity=\"0.7\"></path><path aria-label=\"x: -0.489750624055; y: 1.1023005507\" role=\"graphics-symbol\" aria-roledescription=\"circle\" transform=\"translate(82.0045341080977,108.83776554001203)\" d=\"M2.7386127875258306,0A2.7386127875258306,2.7386127875258306,0,1,1,-2.7386127875258306,0A2.7386127875258306,2.7386127875258306,0,1,1,2.7386127875258306,0\" fill=\"#4c78a8\" stroke-width=\"2\" opacity=\"0.7\"></path><path aria-label=\"x: 3.65597341283; y: 2.26191013266\" role=\"graphics-symbol\" aria-roledescription=\"circle\" transform=\"translate(157.38133477871946,83.06866371856343)\" d=\"M2.7386127875258306,0A2.7386127875258306,2.7386127875258306,0,1,1,-2.7386127875258306,0A2.7386127875258306,2.7386127875258306,0,1,1,2.7386127875258306,0\" fill=\"#4c78a8\" stroke-width=\"2\" opacity=\"0.7\"></path><path aria-label=\"x: 0.179002342064; y: 1.25281125695\" role=\"graphics-symbol\" aria-roledescription=\"circle\" transform=\"translate(94.1636789466261,105.49308317889326)\" d=\"M2.7386127875258306,0A2.7386127875258306,2.7386127875258306,0,1,1,-2.7386127875258306,0A2.7386127875258306,2.7386127875258306,0,1,1,2.7386127875258306,0\" fill=\"#4c78a8\" stroke-width=\"2\" opacity=\"0.7\"></path><path aria-label=\"x: 2.47167527983; y: 4.34214235635\" role=\"graphics-symbol\" aria-roledescription=\"circle\" transform=\"translate(135.84864145137828,36.841280969891855)\" d=\"M2.7386127875258306,0A2.7386127875258306,2.7386127875258306,0,1,1,-2.7386127875258306,0A2.7386127875258306,2.7386127875258306,0,1,1,2.7386127875258306,0\" fill=\"#4c78a8\" stroke-width=\"2\" opacity=\"0.7\"></path><path aria-label=\"x: -1.99696295121; y: 0.10244657176\" role=\"graphics-symbol\" aria-roledescription=\"circle\" transform=\"translate(54.6006736144039,131.05674284977638)\" d=\"M2.7386127875258306,0A2.7386127875258306,2.7386127875258306,0,1,1,-2.7386127875258306,0A2.7386127875258306,2.7386127875258306,0,1,1,2.7386127875258306,0\" fill=\"#4c78a8\" stroke-width=\"2\" opacity=\"0.7\"></path><path aria-label=\"x: 0.443580075447; y: 0.849448145913\" role=\"graphics-symbol\" aria-roledescription=\"circle\" transform=\"translate(98.97418318994387,114.45670786858942)\" d=\"M2.7386127875258306,0A2.7386127875258306,2.7386127875258306,0,1,1,-2.7386127875258306,0A2.7386127875258306,2.7386127875258306,0,1,1,2.7386127875258306,0\" fill=\"#4c78a8\" stroke-width=\"2\" opacity=\"0.7\"></path><path aria-label=\"x: 1.50689527651; y: 1.6489462257\" role=\"graphics-symbol\" aria-roledescription=\"circle\" transform=\"translate(118.3071868456182,96.69008387338013)\" d=\"M2.7386127875258306,0A2.7386127875258306,2.7386127875258306,0,1,1,-2.7386127875258306,0A2.7386127875258306,2.7386127875258306,0,1,1,2.7386127875258306,0\" fill=\"#4c78a8\" stroke-width=\"2\" opacity=\"0.7\"></path><path aria-label=\"x: 3.32660412568; y: 3.58676348425\" role=\"graphics-symbol\" aria-roledescription=\"circle\" transform=\"translate(151.39280228507664,53.627478127759346)\" d=\"M2.7386127875258306,0A2.7386127875258306,2.7386127875258306,0,1,1,-2.7386127875258306,0A2.7386127875258306,2.7386127875258306,0,1,1,2.7386127875258306,0\" fill=\"#4c78a8\" stroke-width=\"2\" opacity=\"0.7\"></path><path aria-label=\"x: 2.73081804933; y: 3.25996843186\" role=\"graphics-symbol\" aria-roledescription=\"circle\" transform=\"translate(140.56032816965603,60.88959040304245)\" d=\"M2.7386127875258306,0A2.7386127875258306,2.7386127875258306,0,1,1,-2.7386127875258306,0A2.7386127875258306,2.7386127875258306,0,1,1,2.7386127875258306,0\" fill=\"#4c78a8\" stroke-width=\"2\" opacity=\"0.7\"></path><path aria-label=\"x: -0.114454944091; y: 0.828308857954\" role=\"graphics-symbol\" aria-roledescription=\"circle\" transform=\"translate(88.82809192561784,114.92646982323463)\" d=\"M2.7386127875258306,0A2.7386127875258306,2.7386127875258306,0,1,1,-2.7386127875258306,0A2.7386127875258306,2.7386127875258306,0,1,1,2.7386127875258306,0\" fill=\"#4c78a8\" stroke-width=\"2\" opacity=\"0.7\"></path><path aria-label=\"x: 0.24645041897; y: 1.92313845588\" role=\"graphics-symbol\" aria-roledescription=\"circle\" transform=\"translate(95.39000761763236,90.59692320266099)\" d=\"M2.7386127875258306,0A2.7386127875258306,2.7386127875258306,0,1,1,-2.7386127875258306,0A2.7386127875258306,2.7386127875258306,0,1,1,2.7386127875258306,0\" fill=\"#4c78a8\" stroke-width=\"2\" opacity=\"0.7\"></path><path aria-label=\"x: 0.315143275629; y: 2.29994501351\" role=\"graphics-symbol\" aria-roledescription=\"circle\" transform=\"translate(96.63896864779379,82.22344414411249)\" d=\"M2.7386127875258306,0A2.7386127875258306,2.7386127875258306,0,1,1,-2.7386127875258306,0A2.7386127875258306,2.7386127875258306,0,1,1,2.7386127875258306,0\" fill=\"#4c78a8\" stroke-width=\"2\" opacity=\"0.7\"></path><path aria-label=\"x: 0.815378894368; y: 1.10701291687\" role=\"graphics-symbol\" aria-roledescription=\"circle\" transform=\"translate(105.73416171578106,108.73304629181891)\" d=\"M2.7386127875258306,0A2.7386127875258306,2.7386127875258306,0,1,1,-2.7386127875258306,0A2.7386127875258306,2.7386127875258306,0,1,1,2.7386127875258306,0\" fill=\"#4c78a8\" stroke-width=\"2\" opacity=\"0.7\"></path><path aria-label=\"x: 1.88940551742; y: 1.81413812956\" role=\"graphics-symbol\" aria-roledescription=\"circle\" transform=\"translate(125.26191849857142,93.0191526764126)\" d=\"M2.7386127875258306,0A2.7386127875258306,2.7386127875258306,0,1,1,-2.7386127875258306,0A2.7386127875258306,2.7386127875258306,0,1,1,2.7386127875258306,0\" fill=\"#4c78a8\" stroke-width=\"2\" opacity=\"0.7\"></path><path aria-label=\"x: 4.25358162131; y: 4.65652580353\" role=\"graphics-symbol\" aria-roledescription=\"circle\" transform=\"translate(168.24693856935082,29.85498214366915)\" d=\"M2.7386127875258306,0A2.7386127875258306,2.7386127875258306,0,1,1,-2.7386127875258306,0A2.7386127875258306,2.7386127875258306,0,1,1,2.7386127875258306,0\" fill=\"#4c78a8\" stroke-width=\"2\" opacity=\"0.7\"></path><path aria-label=\"x: 0.0290802104074; y: 0.684831247578\" role=\"graphics-symbol\" aria-roledescription=\"circle\" transform=\"translate(91.43782200740786,118.1148611649282)\" d=\"M2.7386127875258306,0A2.7386127875258306,2.7386127875258306,0,1,1,-2.7386127875258306,0A2.7386127875258306,2.7386127875258306,0,1,1,2.7386127875258306,0\" fill=\"#4c78a8\" stroke-width=\"2\" opacity=\"0.7\"></path><path aria-label=\"x: 3.54936456534; y: 3.70720764503\" role=\"graphics-symbol\" aria-roledescription=\"circle\" transform=\"translate(155.4429920971289,50.9509412215736)\" d=\"M2.7386127875258306,0A2.7386127875258306,2.7386127875258306,0,1,1,-2.7386127875258306,0A2.7386127875258306,2.7386127875258306,0,1,1,2.7386127875258306,0\" fill=\"#4c78a8\" stroke-width=\"2\" opacity=\"0.7\"></path><path aria-label=\"x: 0.585374731229; y: 1.91067758036\" role=\"graphics-symbol\" aria-roledescription=\"circle\" transform=\"translate(101.55226784052837,90.87383154748574)\" d=\"M2.7386127875258306,0A2.7386127875258306,2.7386127875258306,0,1,1,-2.7386127875258306,0A2.7386127875258306,2.7386127875258306,0,1,1,2.7386127875258306,0\" fill=\"#4c78a8\" stroke-width=\"2\" opacity=\"0.7\"></path><path aria-label=\"x: -2.02100937896; y: 0.157848833842\" role=\"graphics-symbol\" aria-roledescription=\"circle\" transform=\"translate(54.16346583716686,129.82558147017266)\" d=\"M2.7386127875258306,0A2.7386127875258306,2.7386127875258306,0,1,1,-2.7386127875258306,0A2.7386127875258306,2.7386127875258306,0,1,1,2.7386127875258306,0\" fill=\"#4c78a8\" stroke-width=\"2\" opacity=\"0.7\"></path><path aria-label=\"x: -0.054790423952; y: 1.76271874496\" role=\"graphics-symbol\" aria-roledescription=\"circle\" transform=\"translate(89.91290138269031,94.16180566757268)\" d=\"M2.7386127875258306,0A2.7386127875258306,2.7386127875258306,0,1,1,-2.7386127875258306,0A2.7386127875258306,2.7386127875258306,0,1,1,2.7386127875258306,0\" fill=\"#4c78a8\" stroke-width=\"2\" opacity=\"0.7\"></path><path aria-label=\"x: -2.21948409286; y: -1.05684478267\" role=\"graphics-symbol\" aria-roledescription=\"circle\" transform=\"translate(50.55483467518817,156.81877294825887)\" d=\"M2.7386127875258306,0A2.7386127875258306,2.7386127875258306,0,1,1,-2.7386127875258306,0A2.7386127875258306,2.7386127875258306,0,1,1,2.7386127875258306,0\" fill=\"#4c78a8\" stroke-width=\"2\" opacity=\"0.7\"></path><path aria-label=\"x: -1.59483484144; y: 0.29358559828\" role=\"graphics-symbol\" aria-roledescription=\"circle\" transform=\"translate(61.91209379192754,126.80920892710257)\" d=\"M2.7386127875258306,0A2.7386127875258306,2.7386127875258306,0,1,1,-2.7386127875258306,0A2.7386127875258306,2.7386127875258306,0,1,1,2.7386127875258306,0\" fill=\"#4c78a8\" stroke-width=\"2\" opacity=\"0.7\"></path><path aria-label=\"x: -1.5401008632; y: 0.0733049751383\" role=\"graphics-symbol\" aria-roledescription=\"circle\" transform=\"translate(62.90725703280512,131.70433388581472)\" d=\"M2.7386127875258306,0A2.7386127875258306,2.7386127875258306,0,1,1,-2.7386127875258306,0A2.7386127875258306,2.7386127875258306,0,1,1,2.7386127875258306,0\" fill=\"#4c78a8\" stroke-width=\"2\" opacity=\"0.7\"></path><path aria-label=\"x: 2.10259312879; y: 3.23198862336\" role=\"graphics-symbol\" aria-roledescription=\"circle\" transform=\"translate(129.1380568871779,61.51136392526975)\" d=\"M2.7386127875258306,0A2.7386127875258306,2.7386127875258306,0,1,1,-2.7386127875258306,0A2.7386127875258306,2.7386127875258306,0,1,1,2.7386127875258306,0\" fill=\"#4c78a8\" stroke-width=\"2\" opacity=\"0.7\"></path><path aria-label=\"x: 2.88394014422; y: 2.47824928793\" role=\"graphics-symbol\" aria-roledescription=\"circle\" transform=\"translate(143.34436625847658,78.26112693492186)\" d=\"M2.7386127875258306,0A2.7386127875258306,2.7386127875258306,0,1,1,-2.7386127875258306,0A2.7386127875258306,2.7386127875258306,0,1,1,2.7386127875258306,0\" fill=\"#4c78a8\" stroke-width=\"2\" opacity=\"0.7\"></path><path aria-label=\"x: 1.72963544137; y: 3.16391745183\" role=\"graphics-symbol\" aria-roledescription=\"circle\" transform=\"translate(122.35700802483358,63.024056625907264)\" d=\"M2.7386127875258306,0A2.7386127875258306,2.7386127875258306,0,1,1,-2.7386127875258306,0A2.7386127875258306,2.7386127875258306,0,1,1,2.7386127875258306,0\" fill=\"#4c78a8\" stroke-width=\"2\" opacity=\"0.7\"></path><path aria-label=\"x: 1.06265540658; y: 1.73444668436\" role=\"graphics-symbol\" aria-roledescription=\"circle\" transform=\"translate(110.23009830139499,94.79007368088617)\" d=\"M2.7386127875258306,0A2.7386127875258306,2.7386127875258306,0,1,1,-2.7386127875258306,0A2.7386127875258306,2.7386127875258306,0,1,1,2.7386127875258306,0\" fill=\"#4c78a8\" stroke-width=\"2\" opacity=\"0.7\"></path><path aria-label=\"x: 2.65489576004; y: 3.54422340792\" role=\"graphics-symbol\" aria-roledescription=\"circle\" transform=\"translate(139.17992290977972,54.57281315743436)\" d=\"M2.7386127875258306,0A2.7386127875258306,2.7386127875258306,0,1,1,-2.7386127875258306,0A2.7386127875258306,2.7386127875258306,0,1,1,2.7386127875258306,0\" fill=\"#4c78a8\" stroke-width=\"2\" opacity=\"0.7\"></path><path aria-label=\"x: -1.75815451497; y: 0.721903556391\" role=\"graphics-symbol\" aria-roledescription=\"circle\" transform=\"translate(58.942645182389164,117.29103208020959)\" d=\"M2.7386127875258306,0A2.7386127875258306,2.7386127875258306,0,1,1,-2.7386127875258306,0A2.7386127875258306,2.7386127875258306,0,1,1,2.7386127875258306,0\" fill=\"#4c78a8\" stroke-width=\"2\" opacity=\"0.7\"></path><path aria-label=\"x: 2.0398020937; y: 1.27045027104\" role=\"graphics-symbol\" aria-roledescription=\"circle\" transform=\"translate(127.99640170362663,105.1011050880743)\" d=\"M2.7386127875258306,0A2.7386127875258306,2.7386127875258306,0,1,1,-2.7386127875258306,0A2.7386127875258306,2.7386127875258306,0,1,1,2.7386127875258306,0\" fill=\"#4c78a8\" stroke-width=\"2\" opacity=\"0.7\"></path><path aria-label=\"x: -0.854472232823; y: 1.23277633203\" role=\"graphics-symbol\" aria-roledescription=\"circle\" transform=\"translate(75.37323213048232,105.938303732733)\" d=\"M2.7386127875258306,0A2.7386127875258306,2.7386127875258306,0,1,1,-2.7386127875258306,0A2.7386127875258306,2.7386127875258306,0,1,1,2.7386127875258306,0\" fill=\"#4c78a8\" stroke-width=\"2\" opacity=\"0.7\"></path><path aria-label=\"x: 2.97576936997; y: 3.08985216129\" role=\"graphics-symbol\" aria-roledescription=\"circle\" transform=\"translate(145.01398854484077,64.66995197131982)\" d=\"M2.7386127875258306,0A2.7386127875258306,2.7386127875258306,0,1,1,-2.7386127875258306,0A2.7386127875258306,2.7386127875258306,0,1,1,2.7386127875258306,0\" fill=\"#4c78a8\" stroke-width=\"2\" opacity=\"0.7\"></path><path aria-label=\"x: 0.190456883881; y: 2.52866111008\" role=\"graphics-symbol\" aria-roledescription=\"circle\" transform=\"translate(94.37194334329816,77.14086422053379)\" d=\"M2.7386127875258306,0A2.7386127875258306,2.7386127875258306,0,1,1,-2.7386127875258306,0A2.7386127875258306,2.7386127875258306,0,1,1,2.7386127875258306,0\" fill=\"#4c78a8\" stroke-width=\"2\" opacity=\"0.7\"></path><path aria-label=\"x: 2.36270324679; y: 2.65039539121\" role=\"graphics-symbol\" aria-roledescription=\"circle\" transform=\"translate(133.86733175981684,74.43565797317734)\" d=\"M2.7386127875258306,0A2.7386127875258306,2.7386127875258306,0,1,1,-2.7386127875258306,0A2.7386127875258306,2.7386127875258306,0,1,1,2.7386127875258306,0\" fill=\"#4c78a8\" stroke-width=\"2\" opacity=\"0.7\"></path><path aria-label=\"x: 2.98246885442; y: 3.88506214474\" role=\"graphics-symbol\" aria-roledescription=\"circle\" transform=\"translate(145.13579735308716,46.998619005792605)\" d=\"M2.7386127875258306,0A2.7386127875258306,2.7386127875258306,0,1,1,-2.7386127875258306,0A2.7386127875258306,2.7386127875258306,0,1,1,2.7386127875258306,0\" fill=\"#4c78a8\" stroke-width=\"2\" opacity=\"0.7\"></path><path aria-label=\"x: 1.45256268564; y: 2.11575140511\" role=\"graphics-symbol\" aria-roledescription=\"circle\" transform=\"translate(117.31932155701745,86.31663544194794)\" d=\"M2.7386127875258306,0A2.7386127875258306,2.7386127875258306,0,1,1,-2.7386127875258306,0A2.7386127875258306,2.7386127875258306,0,1,1,2.7386127875258306,0\" fill=\"#4c78a8\" stroke-width=\"2\" opacity=\"0.7\"></path><path aria-label=\"x: 0.457063024201; y: 0.982261021364\" role=\"graphics-symbol\" aria-roledescription=\"circle\" transform=\"translate(99.21932771274989,111.50531063635518)\" d=\"M2.7386127875258306,0A2.7386127875258306,2.7386127875258306,0,1,1,-2.7386127875258306,0A2.7386127875258306,2.7386127875258306,0,1,1,2.7386127875258306,0\" fill=\"#4c78a8\" stroke-width=\"2\" opacity=\"0.7\"></path><path aria-label=\"x: 0.672325457767; y: 1.85959522296\" role=\"graphics-symbol\" aria-roledescription=\"circle\" transform=\"translate(103.13319014121005,92.00899504535525)\" d=\"M2.7386127875258306,0A2.7386127875258306,2.7386127875258306,0,1,1,-2.7386127875258306,0A2.7386127875258306,2.7386127875258306,0,1,1,2.7386127875258306,0\" fill=\"#4c78a8\" stroke-width=\"2\" opacity=\"0.7\"></path><path aria-label=\"x: 5.09132593377; y: 5.13515645379\" role=\"graphics-symbol\" aria-roledescription=\"circle\" transform=\"translate(183.47865334127854,19.218745471359156)\" d=\"M2.7386127875258306,0A2.7386127875258306,2.7386127875258306,0,1,1,-2.7386127875258306,0A2.7386127875258306,2.7386127875258306,0,1,1,2.7386127875258306,0\" fill=\"#4c78a8\" stroke-width=\"2\" opacity=\"0.7\"></path><path aria-label=\"x: 3.24268434173; y: 1.95361225369\" role=\"graphics-symbol\" aria-roledescription=\"circle\" transform=\"translate(149.8669880314552,89.9197276956957)\" d=\"M2.7386127875258306,0A2.7386127875258306,2.7386127875258306,0,1,1,-2.7386127875258306,0A2.7386127875258306,2.7386127875258306,0,1,1,2.7386127875258306,0\" fill=\"#4c78a8\" stroke-width=\"2\" opacity=\"0.7\"></path><path aria-label=\"x: -3.57623496296; y: -1.75983713618\" role=\"graphics-symbol\" aria-roledescription=\"circle\" transform=\"translate(25.886637037101,172.44082524844276)\" d=\"M2.7386127875258306,0A2.7386127875258306,2.7386127875258306,0,1,1,-2.7386127875258306,0A2.7386127875258306,2.7386127875258306,0,1,1,2.7386127875258306,0\" fill=\"#4c78a8\" stroke-width=\"2\" opacity=\"0.7\"></path><path aria-label=\"x: -1.0954115668; y: 1.10799580795\" role=\"graphics-symbol\" aria-roledescription=\"circle\" transform=\"translate(70.99251696720441,108.71120426768846)\" d=\"M2.7386127875258306,0A2.7386127875258306,2.7386127875258306,0,1,1,-2.7386127875258306,0A2.7386127875258306,2.7386127875258306,0,1,1,2.7386127875258306,0\" fill=\"#4c78a8\" stroke-width=\"2\" opacity=\"0.7\"></path><path aria-label=\"x: 0.15193944173; y: 0.624663971212\" role=\"graphics-symbol\" aria-roledescription=\"circle\" transform=\"translate(93.67162621327265,119.45191175084062)\" d=\"M2.7386127875258306,0A2.7386127875258306,2.7386127875258306,0,1,1,-2.7386127875258306,0A2.7386127875258306,2.7386127875258306,0,1,1,2.7386127875258306,0\" fill=\"#4c78a8\" stroke-width=\"2\" opacity=\"0.7\"></path><path aria-label=\"x: 0.165606282571; y: 1.5942427428\" role=\"graphics-symbol\" aria-roledescription=\"circle\" transform=\"translate(93.92011422856868,97.90571682671631)\" d=\"M2.7386127875258306,0A2.7386127875258306,2.7386127875258306,0,1,1,-2.7386127875258306,0A2.7386127875258306,2.7386127875258306,0,1,1,2.7386127875258306,0\" fill=\"#4c78a8\" stroke-width=\"2\" opacity=\"0.7\"></path><path aria-label=\"x: 1.5733295699; y: 3.17767111829\" role=\"graphics-symbol\" aria-roledescription=\"circle\" transform=\"translate(119.5150830891314,62.718419593598476)\" d=\"M2.7386127875258306,0A2.7386127875258306,2.7386127875258306,0,1,1,-2.7386127875258306,0A2.7386127875258306,2.7386127875258306,0,1,1,2.7386127875258306,0\" fill=\"#4c78a8\" stroke-width=\"2\" opacity=\"0.7\"></path><path aria-label=\"x: 1.78665155194; y: 3.24529177922\" role=\"graphics-symbol\" aria-roledescription=\"circle\" transform=\"translate(123.39366458068177,61.21573823948856)\" d=\"M2.7386127875258306,0A2.7386127875258306,2.7386127875258306,0,1,1,-2.7386127875258306,0A2.7386127875258306,2.7386127875258306,0,1,1,2.7386127875258306,0\" fill=\"#4c78a8\" stroke-width=\"2\" opacity=\"0.7\"></path><path aria-label=\"x: 0.834704365512; y: -0.48490041626\" role=\"graphics-symbol\" aria-roledescription=\"circle\" transform=\"translate(106.08553391840006,144.10889813910524)\" d=\"M2.7386127875258306,0A2.7386127875258306,2.7386127875258306,0,1,1,-2.7386127875258306,0A2.7386127875258306,2.7386127875258306,0,1,1,2.7386127875258306,0\" fill=\"#4c78a8\" stroke-width=\"2\" opacity=\"0.7\"></path><path aria-label=\"x: 1.53815116836; y: 3.22045019882\" role=\"graphics-symbol\" aria-roledescription=\"circle\" transform=\"translate(118.87547578836917,61.76777335947836)\" d=\"M2.7386127875258306,0A2.7386127875258306,2.7386127875258306,0,1,1,-2.7386127875258306,0A2.7386127875258306,2.7386127875258306,0,1,1,2.7386127875258306,0\" fill=\"#4c78a8\" stroke-width=\"2\" opacity=\"0.7\"></path><path aria-label=\"x: -1.65036793583; y: 1.00040365729\" role=\"graphics-symbol\" aria-roledescription=\"circle\" transform=\"translate(60.90240116673162,111.10214094903397)\" d=\"M2.7386127875258306,0A2.7386127875258306,2.7386127875258306,0,1,1,-2.7386127875258306,0A2.7386127875258306,2.7386127875258306,0,1,1,2.7386127875258306,0\" fill=\"#4c78a8\" stroke-width=\"2\" opacity=\"0.7\"></path><path aria-label=\"x: 3.83898956341; y: 3.53399886914\" role=\"graphics-symbol\" aria-roledescription=\"circle\" transform=\"translate(160.7089011529819,54.80002513029349)\" d=\"M2.7386127875258306,0A2.7386127875258306,2.7386127875258306,0,1,1,-2.7386127875258306,0A2.7386127875258306,2.7386127875258306,0,1,1,2.7386127875258306,0\" fill=\"#4c78a8\" stroke-width=\"2\" opacity=\"0.7\"></path><path aria-label=\"x: 3.04110028807; y: 2.62340045862\" role=\"graphics-symbol\" aria-roledescription=\"circle\" transform=\"translate(146.20182341944505,75.03554536395217)\" d=\"M2.7386127875258306,0A2.7386127875258306,2.7386127875258306,0,1,1,-2.7386127875258306,0A2.7386127875258306,2.7386127875258306,0,1,1,2.7386127875258306,0\" fill=\"#4c78a8\" stroke-width=\"2\" opacity=\"0.7\"></path><path aria-label=\"x: -0.752976445017; y: 1.93813711325\" role=\"graphics-symbol\" aria-roledescription=\"circle\" transform=\"translate(77.21861009060063,90.2636197055131)\" d=\"M2.7386127875258306,0A2.7386127875258306,2.7386127875258306,0,1,1,-2.7386127875258306,0A2.7386127875258306,2.7386127875258306,0,1,1,2.7386127875258306,0\" fill=\"#4c78a8\" stroke-width=\"2\" opacity=\"0.7\"></path><path aria-label=\"x: 2.01081321813; y: 0.861136895028\" role=\"graphics-symbol\" aria-roledescription=\"circle\" transform=\"translate(127.46933123872088,114.19695788826442)\" d=\"M2.7386127875258306,0A2.7386127875258306,2.7386127875258306,0,1,1,-2.7386127875258306,0A2.7386127875258306,2.7386127875258306,0,1,1,2.7386127875258306,0\" fill=\"#4c78a8\" stroke-width=\"2\" opacity=\"0.7\"></path><path aria-label=\"x: 2.71932846232; y: 3.2583466075\" role=\"graphics-symbol\" aria-roledescription=\"circle\" transform=\"translate(140.35142658763215,60.92563094437624)\" d=\"M2.7386127875258306,0A2.7386127875258306,2.7386127875258306,0,1,1,-2.7386127875258306,0A2.7386127875258306,2.7386127875258306,0,1,1,2.7386127875258306,0\" fill=\"#4c78a8\" stroke-width=\"2\" opacity=\"0.7\"></path><path aria-label=\"x: 1.35284256054; y: 3.75787532881\" role=\"graphics-symbol\" aria-roledescription=\"circle\" transform=\"translate(115.50622837352998,49.82499269318481)\" d=\"M2.7386127875258306,0A2.7386127875258306,2.7386127875258306,0,1,1,-2.7386127875258306,0A2.7386127875258306,2.7386127875258306,0,1,1,2.7386127875258306,0\" fill=\"#4c78a8\" stroke-width=\"2\" opacity=\"0.7\"></path><path aria-label=\"x: 3.77165148771; y: 3.33544048322\" role=\"graphics-symbol\" aria-roledescription=\"circle\" transform=\"translate(159.48457250386673,59.21243370613285)\" d=\"M2.7386127875258306,0A2.7386127875258306,2.7386127875258306,0,1,1,-2.7386127875258306,0A2.7386127875258306,2.7386127875258306,0,1,1,2.7386127875258306,0\" fill=\"#4c78a8\" stroke-width=\"2\" opacity=\"0.7\"></path><path aria-label=\"x: 0.863309986581; y: 1.44698105843\" role=\"graphics-symbol\" aria-roledescription=\"circle\" transform=\"translate(106.60563611965246,101.17819870148756)\" d=\"M2.7386127875258306,0A2.7386127875258306,2.7386127875258306,0,1,1,-2.7386127875258306,0A2.7386127875258306,2.7386127875258306,0,1,1,2.7386127875258306,0\" fill=\"#4c78a8\" stroke-width=\"2\" opacity=\"0.7\"></path><path aria-label=\"x: 2.83977235927; y: 2.94060548689\" role=\"graphics-symbol\" aria-roledescription=\"circle\" transform=\"translate(142.54131562301814,67.98654473572941)\" d=\"M2.7386127875258306,0A2.7386127875258306,2.7386127875258306,0,1,1,-2.7386127875258306,0A2.7386127875258306,2.7386127875258306,0,1,1,2.7386127875258306,0\" fill=\"#4c78a8\" stroke-width=\"2\" opacity=\"0.7\"></path><path aria-label=\"x: 0.995599250881; y: 0.565498685891\" role=\"graphics-symbol\" aria-roledescription=\"circle\" transform=\"translate(109.01089547056625,120.76669586907825)\" d=\"M2.7386127875258306,0A2.7386127875258306,2.7386127875258306,0,1,1,-2.7386127875258306,0A2.7386127875258306,2.7386127875258306,0,1,1,2.7386127875258306,0\" fill=\"#4c78a8\" stroke-width=\"2\" opacity=\"0.7\"></path><path aria-label=\"x: 1.41726014143; y: 2.47705225009\" role=\"graphics-symbol\" aria-roledescription=\"circle\" transform=\"translate(116.6774571169676,78.28772777577977)\" d=\"M2.7386127875258306,0A2.7386127875258306,2.7386127875258306,0,1,1,-2.7386127875258306,0A2.7386127875258306,2.7386127875258306,0,1,1,2.7386127875258306,0\" fill=\"#4c78a8\" stroke-width=\"2\" opacity=\"0.7\"></path><path aria-label=\"x: 2.69722346133; y: 4.67253951913\" role=\"graphics-symbol\" aria-roledescription=\"circle\" transform=\"translate(139.94951747876607,29.499121797222028)\" d=\"M2.7386127875258306,0A2.7386127875258306,2.7386127875258306,0,1,1,-2.7386127875258306,0A2.7386127875258306,2.7386127875258306,0,1,1,2.7386127875258306,0\" fill=\"#4c78a8\" stroke-width=\"2\" opacity=\"0.7\"></path><path aria-label=\"x: -0.00162273538712; y: 0.894251401202\" role=\"graphics-symbol\" aria-roledescription=\"circle\" transform=\"translate(90.87958662932502,113.46107997329491)\" d=\"M2.7386127875258306,0A2.7386127875258306,2.7386127875258306,0,1,1,-2.7386127875258306,0A2.7386127875258306,2.7386127875258306,0,1,1,2.7386127875258306,0\" fill=\"#4c78a8\" stroke-width=\"2\" opacity=\"0.7\"></path><path aria-label=\"x: -0.19147494171; y: 0.0831740055602\" role=\"graphics-symbol\" aria-roledescription=\"circle\" transform=\"translate(87.42772833254028,131.48502209866135)\" d=\"M2.7386127875258306,0A2.7386127875258306,2.7386127875258306,0,1,1,-2.7386127875258306,0A2.7386127875258306,2.7386127875258306,0,1,1,2.7386127875258306,0\" fill=\"#4c78a8\" stroke-width=\"2\" opacity=\"0.7\"></path><path aria-label=\"x: 0.134068620745; y: 0.571822417648\" role=\"graphics-symbol\" aria-roledescription=\"circle\" transform=\"translate(93.34670219536648,120.62616849672172)\" d=\"M2.7386127875258306,0A2.7386127875258306,2.7386127875258306,0,1,1,-2.7386127875258306,0A2.7386127875258306,2.7386127875258306,0,1,1,2.7386127875258306,0\" fill=\"#4c78a8\" stroke-width=\"2\" opacity=\"0.7\"></path><path aria-label=\"x: -0.322250258628; y: 1.6434062076\" role=\"graphics-symbol\" aria-roledescription=\"circle\" transform=\"translate(85.04999529766496,96.81319538656825)\" d=\"M2.7386127875258306,0A2.7386127875258306,2.7386127875258306,0,1,1,-2.7386127875258306,0A2.7386127875258306,2.7386127875258306,0,1,1,2.7386127875258306,0\" fill=\"#4c78a8\" stroke-width=\"2\" opacity=\"0.7\"></path><path aria-label=\"x: 1.88822614891; y: 2.25638507014\" role=\"graphics-symbol\" aria-roledescription=\"circle\" transform=\"translate(125.24047543480003,83.19144288571599)\" d=\"M2.7386127875258306,0A2.7386127875258306,2.7386127875258306,0,1,1,-2.7386127875258306,0A2.7386127875258306,2.7386127875258306,0,1,1,2.7386127875258306,0\" fill=\"#4c78a8\" stroke-width=\"2\" opacity=\"0.7\"></path><path aria-label=\"x: 0.597330151246; y: 0.779385281508\" role=\"graphics-symbol\" aria-roledescription=\"circle\" transform=\"translate(101.76963911356958,116.01366041093874)\" d=\"M2.7386127875258306,0A2.7386127875258306,2.7386127875258306,0,1,1,-2.7386127875258306,0A2.7386127875258306,2.7386127875258306,0,1,1,2.7386127875258306,0\" fill=\"#4c78a8\" stroke-width=\"2\" opacity=\"0.7\"></path><path aria-label=\"x: 4.89857330499; y: 4.97421005408\" role=\"graphics-symbol\" aria-roledescription=\"circle\" transform=\"translate(179.97406009077602,22.79533213147209)\" d=\"M2.7386127875258306,0A2.7386127875258306,2.7386127875258306,0,1,1,-2.7386127875258306,0A2.7386127875258306,2.7386127875258306,0,1,1,2.7386127875258306,0\" fill=\"#4c78a8\" stroke-width=\"2\" opacity=\"0.7\"></path><path aria-label=\"x: -0.809103656446; y: 1.05331444542\" role=\"graphics-symbol\" aria-roledescription=\"circle\" transform=\"translate(76.19811533733795,109.92634565734951)\" d=\"M2.7386127875258306,0A2.7386127875258306,2.7386127875258306,0,1,1,-2.7386127875258306,0A2.7386127875258306,2.7386127875258306,0,1,1,2.7386127875258306,0\" fill=\"#4c78a8\" stroke-width=\"2\" opacity=\"0.7\"></path><path aria-label=\"x: -1.51734577631; y: 0.125978864455\" role=\"graphics-symbol\" aria-roledescription=\"circle\" transform=\"translate(63.3209858852522,130.5338030121012)\" d=\"M2.7386127875258306,0A2.7386127875258306,2.7386127875258306,0,1,1,-2.7386127875258306,0A2.7386127875258306,2.7386127875258306,0,1,1,2.7386127875258306,0\" fill=\"#4c78a8\" stroke-width=\"2\" opacity=\"0.7\"></path><path aria-label=\"x: -0.0769862536152; y: 2.92570721681\" role=\"graphics-symbol\" aria-roledescription=\"circle\" transform=\"translate(89.50934084335965,68.31761740414046)\" d=\"M2.7386127875258306,0A2.7386127875258306,2.7386127875258306,0,1,1,-2.7386127875258306,0A2.7386127875258306,2.7386127875258306,0,1,1,2.7386127875258306,0\" fill=\"#4c78a8\" stroke-width=\"2\" opacity=\"0.7\"></path><path aria-label=\"x: 2.53268089438; y: 4.18149439245\" role=\"graphics-symbol\" aria-roledescription=\"circle\" transform=\"translate(136.95783444322745,40.411235723375015)\" d=\"M2.7386127875258306,0A2.7386127875258306,2.7386127875258306,0,1,1,-2.7386127875258306,0A2.7386127875258306,2.7386127875258306,0,1,1,2.7386127875258306,0\" fill=\"#4c78a8\" stroke-width=\"2\" opacity=\"0.7\"></path><path aria-label=\"x: 2.5324214399; y: 2.59413329715\" role=\"graphics-symbol\" aria-roledescription=\"circle\" transform=\"translate(136.95311708912806,75.68592673000127)\" d=\"M2.7386127875258306,0A2.7386127875258306,2.7386127875258306,0,1,1,-2.7386127875258306,0A2.7386127875258306,2.7386127875258306,0,1,1,2.7386127875258306,0\" fill=\"#4c78a8\" stroke-width=\"2\" opacity=\"0.7\"></path><path aria-label=\"x: 0.433314928645; y: 1.62968236851\" role=\"graphics-symbol\" aria-roledescription=\"circle\" transform=\"translate(98.7875441571812,97.11816958860895)\" d=\"M2.7386127875258306,0A2.7386127875258306,2.7386127875258306,0,1,1,-2.7386127875258306,0A2.7386127875258306,2.7386127875258306,0,1,1,2.7386127875258306,0\" fill=\"#4c78a8\" stroke-width=\"2\" opacity=\"0.7\"></path><path aria-label=\"x: -1.19564006028; y: 0.961842424259\" role=\"graphics-symbol\" aria-roledescription=\"circle\" transform=\"translate(69.17018072209842,111.95905723868012)\" d=\"M2.7386127875258306,0A2.7386127875258306,2.7386127875258306,0,1,1,-2.7386127875258306,0A2.7386127875258306,2.7386127875258306,0,1,1,2.7386127875258306,0\" fill=\"#4c78a8\" stroke-width=\"2\" opacity=\"0.7\"></path><path aria-label=\"x: 1.53074680694; y: 1.58570624239\" role=\"graphics-symbol\" aria-roledescription=\"circle\" transform=\"translate(118.74085103530835,98.09541683573582)\" d=\"M2.7386127875258306,0A2.7386127875258306,2.7386127875258306,0,1,1,-2.7386127875258306,0A2.7386127875258306,2.7386127875258306,0,1,1,2.7386127875258306,0\" fill=\"#4c78a8\" stroke-width=\"2\" opacity=\"0.7\"></path><path aria-label=\"x: 0.0675686312792; y: 2.33737135159\" role=\"graphics-symbol\" aria-roledescription=\"circle\" transform=\"translate(92.13761147780436,81.39174774236275)\" d=\"M2.7386127875258306,0A2.7386127875258306,2.7386127875258306,0,1,1,-2.7386127875258306,0A2.7386127875258306,2.7386127875258306,0,1,1,2.7386127875258306,0\" fill=\"#4c78a8\" stroke-width=\"2\" opacity=\"0.7\"></path><path aria-label=\"x: 0.365005399134; y: 0.976726984891\" role=\"graphics-symbol\" aria-roledescription=\"circle\" transform=\"translate(97.54555271152357,111.62828922463754)\" d=\"M2.7386127875258306,0A2.7386127875258306,2.7386127875258306,0,1,1,-2.7386127875258306,0A2.7386127875258306,2.7386127875258306,0,1,1,2.7386127875258306,0\" fill=\"#4c78a8\" stroke-width=\"2\" opacity=\"0.7\"></path><path aria-label=\"x: 1.98850341418; y: 1.75199641972\" role=\"graphics-symbol\" aria-roledescription=\"circle\" transform=\"translate(127.06369843955379,94.40007956173318)\" d=\"M2.7386127875258306,0A2.7386127875258306,2.7386127875258306,0,1,1,-2.7386127875258306,0A2.7386127875258306,2.7386127875258306,0,1,1,2.7386127875258306,0\" fill=\"#4c78a8\" stroke-width=\"2\" opacity=\"0.7\"></path><path aria-label=\"x: 1.47266764601; y: 1.90684352457\" role=\"graphics-symbol\" aria-roledescription=\"circle\" transform=\"translate(117.68486629107868,90.95903278731636)\" d=\"M2.7386127875258306,0A2.7386127875258306,2.7386127875258306,0,1,1,-2.7386127875258306,0A2.7386127875258306,2.7386127875258306,0,1,1,2.7386127875258306,0\" fill=\"#4c78a8\" stroke-width=\"2\" opacity=\"0.7\"></path><path aria-label=\"x: 2.15758547035; y: 2.4361394871\" role=\"graphics-symbol\" aria-roledescription=\"circle\" transform=\"translate(130.13791764276172,79.19690028666217)\" d=\"M2.7386127875258306,0A2.7386127875258306,2.7386127875258306,0,1,1,-2.7386127875258306,0A2.7386127875258306,2.7386127875258306,0,1,1,2.7386127875258306,0\" fill=\"#4c78a8\" stroke-width=\"2\" opacity=\"0.7\"></path><path aria-label=\"x: -1.44524033881; y: 0.298039503665\" role=\"graphics-symbol\" aria-roledescription=\"circle\" transform=\"translate(64.63199383983458,126.7102332518951)\" d=\"M2.7386127875258306,0A2.7386127875258306,2.7386127875258306,0,1,1,-2.7386127875258306,0A2.7386127875258306,2.7386127875258306,0,1,1,2.7386127875258306,0\" fill=\"#4c78a8\" stroke-width=\"2\" opacity=\"0.7\"></path><path aria-label=\"x: 1.33544584819; y: 2.82199409218\" role=\"graphics-symbol\" aria-roledescription=\"circle\" transform=\"translate(115.18992451260574,70.62235350702993)\" d=\"M2.7386127875258306,0A2.7386127875258306,2.7386127875258306,0,1,1,-2.7386127875258306,0A2.7386127875258306,2.7386127875258306,0,1,1,2.7386127875258306,0\" fill=\"#4c78a8\" stroke-width=\"2\" opacity=\"0.7\"></path><path aria-label=\"x: 0.381968474483; y: 2.18618945499\" role=\"graphics-symbol\" aria-roledescription=\"circle\" transform=\"translate(97.85397226332346,84.75134544468916)\" d=\"M2.7386127875258306,0A2.7386127875258306,2.7386127875258306,0,1,1,-2.7386127875258306,0A2.7386127875258306,2.7386127875258306,0,1,1,2.7386127875258306,0\" fill=\"#4c78a8\" stroke-width=\"2\" opacity=\"0.7\"></path><path aria-label=\"x: -0.764033273956; y: 2.02165891908\" role=\"graphics-symbol\" aria-roledescription=\"circle\" transform=\"translate(77.01757683715982,88.40757957595704)\" d=\"M2.7386127875258306,0A2.7386127875258306,2.7386127875258306,0,1,1,-2.7386127875258306,0A2.7386127875258306,2.7386127875258306,0,1,1,2.7386127875258306,0\" fill=\"#4c78a8\" stroke-width=\"2\" opacity=\"0.7\"></path><path aria-label=\"x: 2.5810497804; y: 2.73507838625\" role=\"graphics-symbol\" aria-roledescription=\"circle\" transform=\"translate(137.8372687345873,72.5538136388667)\" d=\"M2.7386127875258306,0A2.7386127875258306,2.7386127875258306,0,1,1,-2.7386127875258306,0A2.7386127875258306,2.7386127875258306,0,1,1,2.7386127875258306,0\" fill=\"#4c78a8\" stroke-width=\"2\" opacity=\"0.7\"></path><path aria-label=\"x: 1.04865539421; y: 1.92324381876\" role=\"graphics-symbol\" aria-roledescription=\"circle\" transform=\"translate(109.9755526219123,90.59458180530133)\" d=\"M2.7386127875258306,0A2.7386127875258306,2.7386127875258306,0,1,1,-2.7386127875258306,0A2.7386127875258306,2.7386127875258306,0,1,1,2.7386127875258306,0\" fill=\"#4c78a8\" stroke-width=\"2\" opacity=\"0.7\"></path><path aria-label=\"x: 4.02439073997; y: 2.6316110878\" role=\"graphics-symbol\" aria-roledescription=\"circle\" transform=\"translate(164.0798316358935,74.85308693779673)\" d=\"M2.7386127875258306,0A2.7386127875258306,2.7386127875258306,0,1,1,-2.7386127875258306,0A2.7386127875258306,2.7386127875258306,0,1,1,2.7386127875258306,0\" fill=\"#4c78a8\" stroke-width=\"2\" opacity=\"0.7\"></path><path aria-label=\"x: 1.48313376443; y: 2.51548590515\" role=\"graphics-symbol\" aria-roledescription=\"circle\" transform=\"translate(117.87515935319783,77.43364655211506)\" d=\"M2.7386127875258306,0A2.7386127875258306,2.7386127875258306,0,1,1,-2.7386127875258306,0A2.7386127875258306,2.7386127875258306,0,1,1,2.7386127875258306,0\" fill=\"#4c78a8\" stroke-width=\"2\" opacity=\"0.7\"></path><path aria-label=\"x: 0.548297806406; y: 0.754279251025\" role=\"graphics-symbol\" aria-roledescription=\"circle\" transform=\"translate(100.87814193465177,116.57157219944756)\" d=\"M2.7386127875258306,0A2.7386127875258306,2.7386127875258306,0,1,1,-2.7386127875258306,0A2.7386127875258306,2.7386127875258306,0,1,1,2.7386127875258306,0\" fill=\"#4c78a8\" stroke-width=\"2\" opacity=\"0.7\"></path><path aria-label=\"x: -2.47261706077; y: 0.0416815831854\" role=\"graphics-symbol\" aria-roledescription=\"circle\" transform=\"translate(45.95241707699997,132.40707592921282)\" d=\"M2.7386127875258306,0A2.7386127875258306,2.7386127875258306,0,1,1,-2.7386127875258306,0A2.7386127875258306,2.7386127875258306,0,1,1,2.7386127875258306,0\" fill=\"#4c78a8\" stroke-width=\"2\" opacity=\"0.7\"></path><path aria-label=\"x: 0.185928551359; y: 0.988830552238\" role=\"graphics-symbol\" aria-roledescription=\"circle\" transform=\"translate(94.28961002471485,111.35932106138262)\" d=\"M2.7386127875258306,0A2.7386127875258306,2.7386127875258306,0,1,1,-2.7386127875258306,0A2.7386127875258306,2.7386127875258306,0,1,1,2.7386127875258306,0\" fill=\"#4c78a8\" stroke-width=\"2\" opacity=\"0.7\"></path><path aria-label=\"x: 2.472488377; y: 2.44016215512\" role=\"graphics-symbol\" aria-roledescription=\"circle\" transform=\"translate(135.86342503635106,79.10750766399117)\" d=\"M2.7386127875258306,0A2.7386127875258306,2.7386127875258306,0,1,1,-2.7386127875258306,0A2.7386127875258306,2.7386127875258306,0,1,1,2.7386127875258306,0\" fill=\"#4c78a8\" stroke-width=\"2\" opacity=\"0.7\"></path><path aria-label=\"x: 0.331874669989; y: 1.17379904274\" role=\"graphics-symbol\" aria-roledescription=\"circle\" transform=\"translate(96.94317581797345,107.24891016134985)\" d=\"M2.7386127875258306,0A2.7386127875258306,2.7386127875258306,0,1,1,-2.7386127875258306,0A2.7386127875258306,2.7386127875258306,0,1,1,2.7386127875258306,0\" fill=\"#4c78a8\" stroke-width=\"2\" opacity=\"0.7\"></path><path aria-label=\"x: 4.02071355203; y: 4.73665746482\" role=\"graphics-symbol\" aria-roledescription=\"circle\" transform=\"translate(164.01297367328084,28.07427855953899)\" d=\"M2.7386127875258306,0A2.7386127875258306,2.7386127875258306,0,1,1,-2.7386127875258306,0A2.7386127875258306,2.7386127875258306,0,1,1,2.7386127875258306,0\" fill=\"#4c78a8\" stroke-width=\"2\" opacity=\"0.7\"></path><path aria-label=\"x: 0.60527766621; y: 1.60589407344\" role=\"graphics-symbol\" aria-roledescription=\"circle\" transform=\"translate(101.91413938563821,97.64679836807757)\" d=\"M2.7386127875258306,0A2.7386127875258306,2.7386127875258306,0,1,1,-2.7386127875258306,0A2.7386127875258306,2.7386127875258306,0,1,1,2.7386127875258306,0\" fill=\"#4c78a8\" stroke-width=\"2\" opacity=\"0.7\"></path><path aria-label=\"x: 3.55950048327; y: 2.83089336688\" role=\"graphics-symbol\" aria-roledescription=\"circle\" transform=\"translate(155.62728151398213,70.42459184705976)\" d=\"M2.7386127875258306,0A2.7386127875258306,2.7386127875258306,0,1,1,-2.7386127875258306,0A2.7386127875258306,2.7386127875258306,0,1,1,2.7386127875258306,0\" fill=\"#4c78a8\" stroke-width=\"2\" opacity=\"0.7\"></path><path aria-label=\"x: -1.07241023383; y: 1.45184651554\" role=\"graphics-symbol\" aria-roledescription=\"circle\" transform=\"translate(71.41072302122507,101.07007743246031)\" d=\"M2.7386127875258306,0A2.7386127875258306,2.7386127875258306,0,1,1,-2.7386127875258306,0A2.7386127875258306,2.7386127875258306,0,1,1,2.7386127875258306,0\" fill=\"#4c78a8\" stroke-width=\"2\" opacity=\"0.7\"></path><path aria-label=\"x: -1.65715540187; y: 0.755146515892\" role=\"graphics-symbol\" aria-roledescription=\"circle\" transform=\"translate(60.77899269328738,116.55229964684162)\" d=\"M2.7386127875258306,0A2.7386127875258306,2.7386127875258306,0,1,1,-2.7386127875258306,0A2.7386127875258306,2.7386127875258306,0,1,1,2.7386127875258306,0\" fill=\"#4c78a8\" stroke-width=\"2\" opacity=\"0.7\"></path><path aria-label=\"x: 2.80636882391; y: 3.62848394324\" role=\"graphics-symbol\" aria-roledescription=\"circle\" transform=\"translate(141.9339786164941,52.700356816951086)\" d=\"M2.7386127875258306,0A2.7386127875258306,2.7386127875258306,0,1,1,-2.7386127875258306,0A2.7386127875258306,2.7386127875258306,0,1,1,2.7386127875258306,0\" fill=\"#4c78a8\" stroke-width=\"2\" opacity=\"0.7\"></path><path aria-label=\"x: 2.580633621; y: 2.54029227209\" role=\"graphics-symbol\" aria-roledescription=\"circle\" transform=\"translate(137.8297021999471,76.88239395351798)\" d=\"M2.7386127875258306,0A2.7386127875258306,2.7386127875258306,0,1,1,-2.7386127875258306,0A2.7386127875258306,2.7386127875258306,0,1,1,2.7386127875258306,0\" fill=\"#4c78a8\" stroke-width=\"2\" opacity=\"0.7\"></path><path aria-label=\"x: -1.23106107752; y: 2.06522911826\" role=\"graphics-symbol\" aria-roledescription=\"circle\" transform=\"translate(68.52616222697695,87.43935292744828)\" d=\"M2.7386127875258306,0A2.7386127875258306,2.7386127875258306,0,1,1,-2.7386127875258306,0A2.7386127875258306,2.7386127875258306,0,1,1,2.7386127875258306,0\" fill=\"#4c78a8\" stroke-width=\"2\" opacity=\"0.7\"></path><path aria-label=\"x: 0.0179198397168; y: 2.30004860412\" role=\"graphics-symbol\" aria-roledescription=\"circle\" transform=\"translate(91.2349061766686,82.22114213065655)\" d=\"M2.7386127875258306,0A2.7386127875258306,2.7386127875258306,0,1,1,-2.7386127875258306,0A2.7386127875258306,2.7386127875258306,0,1,1,2.7386127875258306,0\" fill=\"#4c78a8\" stroke-width=\"2\" opacity=\"0.7\"></path><path aria-label=\"x: -1.58143563183; y: -0.68815337207\" role=\"graphics-symbol\" aria-roledescription=\"circle\" transform=\"translate(62.155715784949074,148.62563049044954)\" d=\"M2.7386127875258306,0A2.7386127875258306,2.7386127875258306,0,1,1,-2.7386127875258306,0A2.7386127875258306,2.7386127875258306,0,1,1,2.7386127875258306,0\" fill=\"#4c78a8\" stroke-width=\"2\" opacity=\"0.7\"></path><path aria-label=\"x: 3.58246918149; y: 3.32787221742\" role=\"graphics-symbol\" aria-roledescription=\"circle\" transform=\"translate(156.04489420883422,59.38061739068796)\" d=\"M2.7386127875258306,0A2.7386127875258306,2.7386127875258306,0,1,1,-2.7386127875258306,0A2.7386127875258306,2.7386127875258306,0,1,1,2.7386127875258306,0\" fill=\"#4c78a8\" stroke-width=\"2\" opacity=\"0.7\"></path><path aria-label=\"x: 3.24377941649; y: 5.34056051642\" role=\"graphics-symbol\" aria-roledescription=\"circle\" transform=\"translate(149.88689848158538,14.654210746309104)\" d=\"M2.7386127875258306,0A2.7386127875258306,2.7386127875258306,0,1,1,-2.7386127875258306,0A2.7386127875258306,2.7386127875258306,0,1,1,2.7386127875258306,0\" fill=\"#4c78a8\" stroke-width=\"2\" opacity=\"0.7\"></path><path aria-label=\"x: 1.07770360076; y: 2.32563541132\" role=\"graphics-symbol\" aria-roledescription=\"circle\" transform=\"translate(110.50370183193002,81.6525464151062)\" d=\"M2.7386127875258306,0A2.7386127875258306,2.7386127875258306,0,1,1,-2.7386127875258306,0A2.7386127875258306,2.7386127875258306,0,1,1,2.7386127875258306,0\" fill=\"#4c78a8\" stroke-width=\"2\" opacity=\"0.7\"></path></g></g><path class=\"foreground\" aria-hidden=\"true\" d=\"\" display=\"none\"></path></g></g></g></svg>\n"
      ],
      "text/plain": [
       "@vlplot(\n",
       "    mark=\"circle\",\n",
       "    encoding={\n",
       "        x={\n",
       "            field=\"x\"\n",
       "        },\n",
       "        y={\n",
       "            field=\"y\"\n",
       "        }\n",
       "    },\n",
       "    data={\n",
       "        values=...\n",
       "    }\n",
       ")"
      ]
     },
     "execution_count": 22,
     "metadata": {},
     "output_type": "execute_result"
    }
   ],
   "source": [
    "μ = [1.0,2.0]\n",
    "Σ = [3.0 2.0;\n",
    "     2.0 2.0]\n",
    "d = Distributions.MultivariateNormal(μ,Σ)\n",
    "samples = rand(d,300)';\n",
    "data = DataTables.DataTable(x=samples[:,1],y=samples[:,2])\n",
    "p = QuickVega.scatterplot(samples)"
   ]
  },
  {
   "cell_type": "code",
   "execution_count": 32,
   "metadata": {},
   "outputs": [
    {
     "data": {
      "text/plain": [
       "OrderedDict{String, Any} with 1 entry:\n",
       "  \"value\" => \"red\""
      ]
     },
     "execution_count": 32,
     "metadata": {},
     "output_type": "execute_result"
    }
   ],
   "source": [
    "# @set p.params\n",
    "p.params[\"encoding\"][\"color\"] = OrderedDict{String,Any}(\"value\"=>\"red\")"
   ]
  },
  {
   "cell_type": "code",
   "execution_count": 33,
   "metadata": {},
   "outputs": [
    {
     "data": {
      "text/plain": [
       "OrderedDict{String, Any} with 3 entries:\n",
       "  \"x\"     => OrderedDict{String, Any}(\"field\"=>\"x\")\n",
       "  \"y\"     => OrderedDict{String, Any}(\"field\"=>\"y\")\n",
       "  \"color\" => OrderedDict{String, Any}(\"value\"=>\"red\")"
      ]
     },
     "execution_count": 33,
     "metadata": {},
     "output_type": "execute_result"
    }
   ],
   "source": [
    "p.params[\"encoding\"]"
   ]
  },
  {
   "cell_type": "code",
   "execution_count": 34,
   "metadata": {},
   "outputs": [
    {
     "data": {
      "application/vnd.vegalite.v4+json": {
       "data": {
        "values": [
         {
          "x": 1.684128005139163,
          "y": 3.0966719385352492
         },
         {
          "x": -1.4333520228615764,
          "y": -0.05460080697360237
         },
         {
          "x": 1.132677866105836,
          "y": 2.2472034551877877
         },
         {
          "x": 0.633121870880331,
          "y": 1.823616711580013
         },
         {
          "x": 3.6226178611764377,
          "y": 4.694848195953522
         },
         {
          "x": -0.39941590966979534,
          "y": 2.6866945511866147
         },
         {
          "x": 1.366807019154117,
          "y": 2.9764862066975395
         },
         {
          "x": 2.627871483141571,
          "y": 3.728314054329866
         },
         {
          "x": -0.7279547687278949,
          "y": 2.1780243734456737
         },
         {
          "x": 0.07301419071745163,
          "y": 1.7258521978199686
         },
         {
          "x": 5.71182467684462,
          "y": 3.6158670102384627
         },
         {
          "x": -0.4440351359576826,
          "y": 1.1563237120226486
         },
         {
          "x": 3.1339400988601587,
          "y": 4.240159026377984
         },
         {
          "x": 2.6164287946886717,
          "y": 3.60614889948063
         },
         {
          "x": 0.5094849037985086,
          "y": 1.620115946834194
         },
         {
          "x": 2.547534804490506,
          "y": 1.274485024660012
         },
         {
          "x": -3.0141846731513287,
          "y": -0.8668851418331616
         },
         {
          "x": 3.393053448845875,
          "y": 3.839513763314878
         },
         {
          "x": 0.9320372747287136,
          "y": 1.4298305912551466
         },
         {
          "x": 0.9231689130960793,
          "y": 2.0992750577984793
         },
         {
          "x": 1.837814061462589,
          "y": 2.4785737094357696
         },
         {
          "x": 0.5524845693552549,
          "y": 2.686014145069952
         },
         {
          "x": 2.70786816496523,
          "y": 3.1270957442395213
         },
         {
          "x": -2.272078701730874,
          "y": -0.2826327850473085
         },
         {
          "x": 0.41815383614500035,
          "y": 1.8555971295218041
         },
         {
          "x": 3.7935310950527668,
          "y": 4.311742136200872
         },
         {
          "x": 1.6177547630384779,
          "y": 2.8525371618041633
         },
         {
          "x": 0.6697562342257057,
          "y": 1.383632060512001
         },
         {
          "x": -1.4175965260206524,
          "y": -0.42815065790182727
         },
         {
          "x": 1.9343330094649231,
          "y": 2.8251585358912226
         },
         {
          "x": 3.725536130122523,
          "y": 5.024913073708673
         },
         {
          "x": -0.9459027364718753,
          "y": -0.21423511659918582
         },
         {
          "x": 1.6918980614245225,
          "y": 2.681999673349473
         },
         {
          "x": 2.095889540135653,
          "y": 3.0027395399708974
         },
         {
          "x": 2.5154158727970937,
          "y": 2.072802353778949
         },
         {
          "x": 1.1922655750829527,
          "y": 1.8801590416110407
         },
         {
          "x": 0.8002672690637541,
          "y": 1.6408943089617174
         },
         {
          "x": 1.6721994443098511,
          "y": 1.664910160812139
         },
         {
          "x": -1.4756532112929222,
          "y": 0.9529439543541796
         },
         {
          "x": -1.9251078295405915,
          "y": -1.1870317181889223
         },
         {
          "x": 0.8969101672991046,
          "y": 2.698374618575725
         },
         {
          "x": -0.37797273077700577,
          "y": 2.3944354776389636
         },
         {
          "x": 3.479946854305096,
          "y": 3.3469526716562203
         },
         {
          "x": 1.3464961513955682,
          "y": 1.6407965472536579
         },
         {
          "x": -1.623207357770272,
          "y": 0.7472385237165682
         },
         {
          "x": 0.9798894480284188,
          "y": 1.6235012102707593
         },
         {
          "x": -1.917521379192714,
          "y": -0.6272098326843505
         },
         {
          "x": -1.4409436463030834,
          "y": 0.5808477746951914
         },
         {
          "x": 1.7991585416571543,
          "y": 2.8698936645709026
         },
         {
          "x": 2.4594112215213375,
          "y": 1.6368468049027225
         },
         {
          "x": -0.9646367465553249,
          "y": 0.6259846342432929
         },
         {
          "x": -0.352075974518558,
          "y": 1.6176894280083602
         },
         {
          "x": 1.173750070330602,
          "y": 2.3773599953276627
         },
         {
          "x": 1.5494411279496572,
          "y": 2.5776129274265047
         },
         {
          "x": 2.101184178114643,
          "y": 2.7122343850495874
         },
         {
          "x": 2.6119760241634857,
          "y": 3.7361932033364136
         },
         {
          "x": 2.312120000056729,
          "y": 2.9424593679636435
         },
         {
          "x": 1.0435000789954563,
          "y": 2.170230110853043
         },
         {
          "x": 1.7338088317750615,
          "y": 0.926408919011219
         },
         {
          "x": 4.005498899688282,
          "y": 4.069360715524393
         },
         {
          "x": 2.9777555002319187,
          "y": 3.9309610098715746
         },
         {
          "x": -0.5190084518413998,
          "y": 0.4224193745697016
         },
         {
          "x": 0.1387992570386013,
          "y": 1.0392857721734063
         },
         {
          "x": 0.9045611382467292,
          "y": 3.2633375029924068
         },
         {
          "x": -2.26003011379776,
          "y": -2.1030501118411937
         },
         {
          "x": 1.1913900260523174,
          "y": 2.7932877191886054
         },
         {
          "x": 0.45104665098983954,
          "y": 2.239365976091713
         },
         {
          "x": 2.265369349326199,
          "y": 3.6085686509143757
         },
         {
          "x": 2.4389841236602754,
          "y": 3.906138132717471
         },
         {
          "x": 2.9100465501616446,
          "y": 3.6935974973369436
         },
         {
          "x": 1.30746416961843,
          "y": 2.494463804822307
         },
         {
          "x": -0.7509705901426842,
          "y": -0.05357149710764464
         },
         {
          "x": 1.2487876629786558,
          "y": 2.587615107479051
         },
         {
          "x": 1.3493451140208834,
          "y": 2.438497475437151
         },
         {
          "x": -1.0307706750117438,
          "y": 0.7346747661852013
         },
         {
          "x": 3.0119473193716924,
          "y": 4.285787292424734
         },
         {
          "x": 1.0640451361643293,
          "y": 2.272261422901189
         },
         {
          "x": 0.4546047801013249,
          "y": 1.2869078193129497
         },
         {
          "x": -0.771088696213176,
          "y": 2.512643022563892
         },
         {
          "x": 3.9793556975498054,
          "y": 3.0589270490957716
         },
         {
          "x": 1.9997342605615653,
          "y": 3.177395068939572
         },
         {
          "x": 1.6663856409091187,
          "y": 2.432988468258354
         },
         {
          "x": 1.55878503504361,
          "y": 2.4146782123532704
         },
         {
          "x": -1.181892885694828,
          "y": -0.5187367061532866
         },
         {
          "x": 4.197423363953471,
          "y": 4.2779249610233725
         },
         {
          "x": -2.1138793648173824,
          "y": -0.39896504567365154
         },
         {
          "x": -0.5930712828955385,
          "y": 0.571675826867416
         },
         {
          "x": 0.6035774104265968,
          "y": 0.4395635760513088
         },
         {
          "x": 2.7105393014948405,
          "y": 3.783765794676878
         },
         {
          "x": -4.06154720713339,
          "y": -2.637106071022078
         },
         {
          "x": 1.242000129657006,
          "y": 2.7174377118898567
         },
         {
          "x": 0.5705645553277898,
          "y": 1.8696086180083427
         },
         {
          "x": -1.9315982511877423,
          "y": 0.3567116628892768
         },
         {
          "x": 0.5024580693485835,
          "y": 1.8225560018678884
         },
         {
          "x": 0.35038522834946906,
          "y": 0.8783993501245952
         },
         {
          "x": -0.5781414237209228,
          "y": 0.5778241662594323
         },
         {
          "x": 2.471178889498165,
          "y": 2.8736420560605884
         },
         {
          "x": -0.9695089994417945,
          "y": 0.07441344276745054
         },
         {
          "x": 1.040845199509229,
          "y": 1.9224724287959267
         },
         {
          "x": -0.2751271505675785,
          "y": 1.1045986175357727
         },
         {
          "x": 0.7473119785886251,
          "y": 1.954204688987407
         },
         {
          "x": -0.3599526106289135,
          "y": 1.6974468194417076
         },
         {
          "x": 0.2681674292334033,
          "y": 2.282227440755747
         },
         {
          "x": 2.533879695797802,
          "y": 2.9266572443200776
         },
         {
          "x": 3.5031208854741,
          "y": 3.5900921585269643
         },
         {
          "x": 0.1764607349297045,
          "y": 1.1053407042574448
         },
         {
          "x": 2.8213216746930954,
          "y": 4.401732765248719
         },
         {
          "x": -1.0002388236262973,
          "y": 1.1075773717257864
         },
         {
          "x": -3.0577740910871496,
          "y": -0.5129021712595958
         },
         {
          "x": 2.7802833083906986,
          "y": 2.4414540124765316
         },
         {
          "x": 0.4726148691757377,
          "y": 0.750548143311955
         },
         {
          "x": -0.5199035729666903,
          "y": 1.6327143877832961
         },
         {
          "x": 0.26966974333285043,
          "y": 0.5148868494908969
         },
         {
          "x": -0.9078109656360989,
          "y": 1.6050089079236478
         },
         {
          "x": 3.2286033071444127,
          "y": 3.3725705776648853
         },
         {
          "x": -0.32551507899441745,
          "y": 0.5743404126370035
         },
         {
          "x": 2.564503651213106,
          "y": 2.398523216274626
         },
         {
          "x": 1.0246627280486449,
          "y": 0.23967488279513383
         },
         {
          "x": 1.4644597036563152,
          "y": 3.237895891437045
         },
         {
          "x": 2.3982679346935463,
          "y": 3.3317484740794283
         },
         {
          "x": 2.3836926949457657,
          "y": 2.471266501571175
         },
         {
          "x": 1.5804178045546462,
          "y": 2.1860267646276474
         },
         {
          "x": -1.8892572344981202,
          "y": -0.5978290984246066
         },
         {
          "x": 2.5372207406164096,
          "y": 3.5020582474518447
         },
         {
          "x": 1.8878750581503838,
          "y": 2.406963698106834
         },
         {
          "x": 1.8049264264628073,
          "y": 2.5190551925234432
         },
         {
          "x": 2.747714456800283,
          "y": 1.943271125005499
         },
         {
          "x": 1.5209476306900855,
          "y": 2.229224587738993
         },
         {
          "x": 1.1255488564198781,
          "y": 1.7038233693517413
         },
         {
          "x": 0.2544069457915079,
          "y": 1.9761155761854765
         },
         {
          "x": 0.75978019194185,
          "y": 1.2647410152519725
         },
         {
          "x": -1.6975920666104898,
          "y": 0.03707724494094755
         },
         {
          "x": -2.0589954887754267,
          "y": 0.8889273237168624
         },
         {
          "x": 3.1598736738304747,
          "y": 3.016763910512891
         },
         {
          "x": 2.5282424541027013,
          "y": 0.9716000151410609
         },
         {
          "x": 3.118017250967287,
          "y": 3.552077216936836
         },
         {
          "x": 1.620148312847316,
          "y": 0.5666128372406132
         },
         {
          "x": 1.0363290097776228,
          "y": 0.8636062571323275
         },
         {
          "x": 3.7255654255954496,
          "y": 4.26978215179701
         },
         {
          "x": -0.8271151625034447,
          "y": 1.1385771096211088
         },
         {
          "x": 2.3955116125494618,
          "y": 1.132629053559234
         },
         {
          "x": 2.82511912927653,
          "y": 3.4913317286935626
         },
         {
          "x": 1.7464602516590069,
          "y": 3.2244694946106267
         },
         {
          "x": 1.815559408860083,
          "y": 2.4874964248225804
         },
         {
          "x": -2.997939677996941,
          "y": -0.31563283194664127
         },
         {
          "x": -0.6334481674211618,
          "y": 0.5113293650944695
         },
         {
          "x": -2.025321801123678,
          "y": -0.3425042984070874
         },
         {
          "x": 3.9473825389605564,
          "y": 4.168325394947853
         },
         {
          "x": 2.3816565896482267,
          "y": 3.4731188437230616
         },
         {
          "x": 0.32521513378993516,
          "y": 1.9697701838376904
         },
         {
          "x": 0.6007007081264313,
          "y": 2.241290015225399
         },
         {
          "x": 1.6119522381942213,
          "y": 3.022088215107822
         },
         {
          "x": 2.9021749970232094,
          "y": 3.2519076237520466
         },
         {
          "x": 0.5772549506210388,
          "y": 2.6499882502247063
         },
         {
          "x": 3.865886042643766,
          "y": 3.3551255896415135
         },
         {
          "x": 2.8530468360738728,
          "y": 4.128464035284352
         },
         {
          "x": 1.6574086308338454,
          "y": 1.2627203478579974
         },
         {
          "x": 2.6270987082264767,
          "y": 3.564796345175374
         },
         {
          "x": -0.8396989151924172,
          "y": 1.237328944159425
         },
         {
          "x": 0.5140905493273175,
          "y": 0.9256024483966203
         },
         {
          "x": 1.365037777579857,
          "y": 2.3291133059456834
         },
         {
          "x": 1.1141864515971454,
          "y": 2.833951028971923
         },
         {
          "x": 1.0893222416349095,
          "y": 2.315324664811939
         },
         {
          "x": 0.7705494551142048,
          "y": 2.003809327539287
         },
         {
          "x": 0.4858739624775018,
          "y": 1.4980477398926124
         },
         {
          "x": -0.6174522949667269,
          "y": 1.8566644134766404
         },
         {
          "x": -1.6559533783213327,
          "y": -0.33979277253633366
         },
         {
          "x": 4.918700012727673,
          "y": 5.520257220998664
         },
         {
          "x": 0.5832061905502344,
          "y": 2.1601862962188902
         },
         {
          "x": 1.7032458771395582,
          "y": 3.0059742996733285
         },
         {
          "x": 1.6711984150995516,
          "y": 0.9556700636146918
         },
         {
          "x": 2.0227940288043813,
          "y": 2.5092853629758567
         },
         {
          "x": 3.4329702834292877,
          "y": 2.9039454662573156
         },
         {
          "x": -1.2179441146176662,
          "y": -0.41310876300584143
         },
         {
          "x": 0.5841971079499535,
          "y": 1.7751920644105583
         },
         {
          "x": 0.6348802427686755,
          "y": 2.2458820428646113
         },
         {
          "x": 2.000521562147024,
          "y": 3.555293545823265
         },
         {
          "x": 0.8762051085689975,
          "y": 0.7609297884855493
         },
         {
          "x": 1.0340975275797588,
          "y": 1.2616275031542084
         },
         {
          "x": 4.011903290840591,
          "y": 3.3391271208901196
         },
         {
          "x": 3.3536948210200923,
          "y": 3.2079707823993298
         },
         {
          "x": 1.6083264982242411,
          "y": 1.7185404135495386
         },
         {
          "x": 2.08712056788269,
          "y": 1.9551787521964965
         },
         {
          "x": -2.437574800091344,
          "y": -1.0047422730669981
         },
         {
          "x": 1.295617556279968,
          "y": 0.6030344901221476
         },
         {
          "x": 1.6859011822610797,
          "y": 3.295103799058601
         },
         {
          "x": 2.6906499387926828,
          "y": 0.8884788016926641
         },
         {
          "x": 0.8574814392321206,
          "y": 2.2725939749365947
         },
         {
          "x": 3.1969021296045743,
          "y": 3.280720532387934
         },
         {
          "x": 0.36116356647452164,
          "y": 1.1860042460894147
         },
         {
          "x": 2.150595695283401,
          "y": 2.924528358405425
         },
         {
          "x": -0.3506274162788663,
          "y": 1.9297021819728548
         },
         {
          "x": 0.45790405351636054,
          "y": 1.5988219755608166
         },
         {
          "x": -0.4897506240546263,
          "y": 1.1023005506994594
         },
         {
          "x": 3.6559734128295704,
          "y": 2.261910132664646
         },
         {
          "x": 0.17900234206443622,
          "y": 1.2528112569498029
         },
         {
          "x": 2.4716752798258046,
          "y": 4.3421423563548665
         },
         {
          "x": -1.9969629512077853,
          "y": 0.10244657176006378
         },
         {
          "x": 0.44358007544691336,
          "y": 0.8494481459134757
         },
         {
          "x": 1.5068952765090013,
          "y": 1.6489462256978935
         },
         {
          "x": 3.3266041256792134,
          "y": 3.58676348425083
         },
         {
          "x": 2.7308180493310803,
          "y": 3.2599684318630904
         },
         {
          "x": -0.11445494409101942,
          "y": 0.828308857954442
         },
         {
          "x": 0.24645041896977982,
          "y": 1.9231384558802551
         },
         {
          "x": 0.31514327562865896,
          "y": 2.299945013514938
         },
         {
          "x": 0.8153788943679574,
          "y": 1.1070129168681493
         },
         {
          "x": 1.8894055174214284,
          "y": 1.8141381295614327
         },
         {
          "x": 4.253581621314295,
          "y": 4.656525803534889
         },
         {
          "x": 0.02908021040743214,
          "y": 0.6848312475782312
         },
         {
          "x": 3.549364565342089,
          "y": 3.7072076450291878
         },
         {
          "x": 0.5853747312290603,
          "y": 1.9106775803631426
         },
         {
          "x": -2.021009378955823,
          "y": 0.15784883384222992
         },
         {
          "x": -0.054790423952033596,
          "y": 1.762718744959229
         },
         {
          "x": -2.219484092864651,
          "y": -1.0568447826716483
         },
         {
          "x": -1.5948348414439857,
          "y": 0.29358559828038455
         },
         {
          "x": -1.5401008631957187,
          "y": 0.07330497513833678
         },
         {
          "x": 2.1025931287947843,
          "y": 3.231988623362861
         },
         {
          "x": 2.8839401442162123,
          "y": 2.4782492879285156
         },
         {
          "x": 1.7296354413658466,
          "y": 3.1639174518341733
         },
         {
          "x": 1.0626554065767244,
          "y": 1.734446684360122
         },
         {
          "x": 2.654895760037884,
          "y": 3.544223407915454
         },
         {
          "x": -1.758154514968596,
          "y": 0.7219035563905685
         },
         {
          "x": 2.039802093699464,
          "y": 1.2704502710366556
         },
         {
          "x": -0.8544722328234717,
          "y": 1.2327763320270153
         },
         {
          "x": 2.975769369966243,
          "y": 3.0898521612906085
         },
         {
          "x": 0.1904568838813986,
          "y": 2.5286611100759795
         },
         {
          "x": 2.362703246789926,
          "y": 2.6503953912070193
         },
         {
          "x": 2.9824688544197926,
          "y": 3.885062144739333
         },
         {
          "x": 1.4525626856359597,
          "y": 2.1157514051123423
         },
         {
          "x": 0.457063024201244,
          "y": 0.9822610213640162
         },
         {
          "x": 0.672325457766553,
          "y": 1.8595952229590136
         },
         {
          "x": 5.091325933770321,
          "y": 5.135156453788838
         },
         {
          "x": 3.2426843417300377,
          "y": 1.9536122536936944
         },
         {
          "x": -3.576234962959445,
          "y": -1.7598371361799239
         },
         {
          "x": -1.0954115668037572,
          "y": 1.1079958079540195
         },
         {
          "x": 0.15193944172999507,
          "y": 0.6246639712121722
         },
         {
          "x": 0.16560628257127785,
          "y": 1.5942427427977655
         },
         {
          "x": 1.5733295699022256,
          "y": 3.1776711182880684
         },
         {
          "x": 1.786651551937497,
          "y": 3.2452917792230145
         },
         {
          "x": 0.8347043655120032,
          "y": -0.4849004162597357
         },
         {
          "x": 1.5381511683603044,
          "y": 3.2204501988234737
         },
         {
          "x": -1.6503679358297605,
          "y": 1.0004036572934711
         },
         {
          "x": 3.838989563414003,
          "y": 3.533998869136793
         },
         {
          "x": 3.0411002880694777,
          "y": 2.623400458622153
         },
         {
          "x": -0.7529764450169651,
          "y": 1.9381371132519114
         },
         {
          "x": 2.010813218129649,
          "y": 0.8611368950281009
         },
         {
          "x": 2.719328462319769,
          "y": 3.2583466075030687
         },
         {
          "x": 1.3528425605441483,
          "y": 3.757875328806683
         },
         {
          "x": 3.7716514877126706,
          "y": 3.335440483224022
         },
         {
          "x": 0.8633099865808845,
          "y": 1.4469810584330591
         },
         {
          "x": 2.8397723592659982,
          "y": 2.940605486892177
         },
         {
          "x": 0.9955992508811448,
          "y": 0.5654986858914788
         },
         {
          "x": 1.4172601414332173,
          "y": 2.4770522500899097
         },
         {
          "x": 2.697223461332135,
          "y": 4.672539519125009
         },
         {
          "x": -0.0016227353871240968,
          "y": 0.8942514012017295
         },
         {
          "x": -0.19147494171028479,
          "y": 0.08317400556023902
         },
         {
          "x": 0.13406862074515646,
          "y": 0.5718224176475224
         },
         {
          "x": -0.32225025862842727,
          "y": 1.6434062076044287
         },
         {
          "x": 1.8882261489140015,
          "y": 2.25638507014278
         },
         {
          "x": 0.5973301512463265,
          "y": 0.7793852815077564
         },
         {
          "x": 4.898573304992682,
          "y": 4.9742100540837555
         },
         {
          "x": -0.809103656446412,
          "y": 1.0533144454192716
         },
         {
          "x": -1.5173457763111289,
          "y": 0.1259788644554456
         },
         {
          "x": -0.07698625361521949,
          "y": 2.9257072168136795
         },
         {
          "x": 2.5326808943775108,
          "y": 4.1814943924481245
         },
         {
          "x": 2.5324214399020435,
          "y": 2.594133297149943
         },
         {
          "x": 0.43331492864496557,
          "y": 1.6296823685125976
         },
         {
          "x": -1.1956400602845867,
          "y": 0.961842424259395
         },
         {
          "x": 1.5307468069419603,
          "y": 1.5857062423918884
         },
         {
          "x": 0.0675686312792404,
          "y": 2.337371351593676
         },
         {
          "x": 0.36500539913379604,
          "y": 0.9767269848913109
         },
         {
          "x": 1.9885034141754578,
          "y": 1.7519964197220075
         },
         {
          "x": 1.4726676460093275,
          "y": 1.9068435245707644
         },
         {
          "x": 2.1575854703518944,
          "y": 2.436139487100202
         },
         {
          "x": -1.4452403388090982,
          "y": 0.2980395036647201
         },
         {
          "x": 1.3354458481933154,
          "y": 2.8219940921836537
         },
         {
          "x": 0.38196847448278937,
          "y": 2.186189454988988
         },
         {
          "x": -0.7640332739562097,
          "y": 2.0216589190819336
         },
         {
          "x": 2.5810497804023007,
          "y": 2.735078386250998
         },
         {
          "x": 1.0486553942051762,
          "y": 1.9232438187614407
         },
         {
          "x": 4.024390739974143,
          "y": 2.6316110877991474
         },
         {
          "x": 1.4831337644258802,
          "y": 2.5154859051548217
         },
         {
          "x": 0.5482978064058471,
          "y": 0.7542792510248599
         },
         {
          "x": -2.4726170607650015,
          "y": 0.04168158318542292
         },
         {
          "x": 0.18592855135931685,
          "y": 0.9888305522377816
         },
         {
          "x": 2.4724883769993076,
          "y": 2.4401621551203974
         },
         {
          "x": 0.3318746699885401,
          "y": 1.1737990427392568
         },
         {
          "x": 4.020713552030445,
          "y": 4.736657464820746
         },
         {
          "x": 0.6052776662101009,
          "y": 1.605894073436509
         },
         {
          "x": 3.559500483269017,
          "y": 2.8308933668823104
         },
         {
          "x": -1.0724102338326214,
          "y": 1.4518465155392857
         },
         {
          "x": -1.6571554018691939,
          "y": 0.7551465158921271
         },
         {
          "x": 2.8063688239071762,
          "y": 3.628483943237202
         },
         {
          "x": 2.5806336209970904,
          "y": 2.5402922720916914
         },
         {
          "x": -1.2310610775162676,
          "y": 2.065229118264827
         },
         {
          "x": 0.017919839716772912,
          "y": 2.3000486041204558
         },
         {
          "x": -1.5814356318278011,
          "y": -0.68815337207023
         },
         {
          "x": 3.582469181485882,
          "y": 3.3278722174190416
         },
         {
          "x": 3.243779416487196,
          "y": 5.34056051641609
         },
         {
          "x": 1.0777036007561505,
          "y": 2.3256354113202207
         }
        ]
       },
       "encoding": {
        "color": {
         "value": "red"
        },
        "x": {
         "field": "x",
         "type": "quantitative"
        },
        "y": {
         "field": "y",
         "type": "quantitative"
        }
       },
       "mark": "circle"
      },
      "image/png": "[encoded data removed]",
      "image/svg+xml": [
       "<?xml version=\"1.0\" encoding=\"utf-8\"?>\n",
       "<!DOCTYPE svg PUBLIC \"-//W3C//DTD SVG 1.1//EN\" \"http://www.w3.org/Graphics/SVG/1.1/DTD/svg11.dtd\">\n",
       "<svg class=\"marks\" width=\"243\" height=\"247\" viewBox=\"0 0 243 247\" version=\"1.1\" xmlns=\"http://www.w3.org/2000/svg\" xmlns:xlink=\"http://www.w3.org/1999/xlink\"><rect width=\"243\" height=\"247\" fill=\"white\"></rect><g fill=\"none\" stroke-miterlimit=\"10\" transform=\"translate(37,10)\"><g class=\"mark-group role-frame root\" role=\"graphics-object\" aria-roledescription=\"group mark container\"><g transform=\"translate(0,0)\"><path class=\"background\" aria-hidden=\"true\" d=\"M0.5,0.5h200v200h-200Z\" stroke=\"#ddd\"></path><g><g class=\"mark-group role-axis\" aria-hidden=\"true\"><g transform=\"translate(0.5,200.5)\"><path class=\"background\" aria-hidden=\"true\" d=\"M0,0h0v0h0Z\" pointer-events=\"none\"></path><g><g class=\"mark-rule role-axis-grid\" pointer-events=\"none\"><line transform=\"translate(18,-200)\" x2=\"0\" y2=\"200\" stroke=\"#ddd\" stroke-width=\"1\" opacity=\"1\"></line><line transform=\"translate(55,-200)\" x2=\"0\" y2=\"200\" stroke=\"#ddd\" stroke-width=\"1\" opacity=\"1\"></line><line transform=\"translate(91,-200)\" x2=\"0\" y2=\"200\" stroke=\"#ddd\" stroke-width=\"1\" opacity=\"1\"></line><line transform=\"translate(127,-200)\" x2=\"0\" y2=\"200\" stroke=\"#ddd\" stroke-width=\"1\" opacity=\"1\"></line><line transform=\"translate(164,-200)\" x2=\"0\" y2=\"200\" stroke=\"#ddd\" stroke-width=\"1\" opacity=\"1\"></line><line transform=\"translate(200,-200)\" x2=\"0\" y2=\"200\" stroke=\"#ddd\" stroke-width=\"1\" opacity=\"1\"></line></g></g><path class=\"foreground\" aria-hidden=\"true\" d=\"\" pointer-events=\"none\" display=\"none\"></path></g></g><g class=\"mark-group role-axis\" aria-hidden=\"true\"><g transform=\"translate(0.5,0.5)\"><path class=\"background\" aria-hidden=\"true\" d=\"M0,0h0v0h0Z\" pointer-events=\"none\"></path><g><g class=\"mark-rule role-axis-grid\" pointer-events=\"none\"><line transform=\"translate(0,178)\" x2=\"200\" y2=\"0\" stroke=\"#ddd\" stroke-width=\"1\" opacity=\"1\"></line><line transform=\"translate(0,133)\" x2=\"200\" y2=\"0\" stroke=\"#ddd\" stroke-width=\"1\" opacity=\"1\"></line><line transform=\"translate(0,89)\" x2=\"200\" y2=\"0\" stroke=\"#ddd\" stroke-width=\"1\" opacity=\"1\"></line><line transform=\"translate(0,44)\" x2=\"200\" y2=\"0\" stroke=\"#ddd\" stroke-width=\"1\" opacity=\"1\"></line><line transform=\"translate(0,0)\" x2=\"200\" y2=\"0\" stroke=\"#ddd\" stroke-width=\"1\" opacity=\"1\"></line></g></g><path class=\"foreground\" aria-hidden=\"true\" d=\"\" pointer-events=\"none\" display=\"none\"></path></g></g><g class=\"mark-group role-axis\" role=\"graphics-symbol\" aria-roledescription=\"axis\" aria-label=\"X-axis titled 'x' for a linear scale with values from -5 to 6\"><g transform=\"translate(0.5,200.5)\"><path class=\"background\" aria-hidden=\"true\" d=\"M0,0h0v0h0Z\" pointer-events=\"none\"></path><g><g class=\"mark-rule role-axis-tick\" pointer-events=\"none\"><line transform=\"translate(18,0)\" x2=\"0\" y2=\"5\" stroke=\"#888\" stroke-width=\"1\" opacity=\"1\"></line><line transform=\"translate(55,0)\" x2=\"0\" y2=\"5\" stroke=\"#888\" stroke-width=\"1\" opacity=\"1\"></line><line transform=\"translate(91,0)\" x2=\"0\" y2=\"5\" stroke=\"#888\" stroke-width=\"1\" opacity=\"1\"></line><line transform=\"translate(127,0)\" x2=\"0\" y2=\"5\" stroke=\"#888\" stroke-width=\"1\" opacity=\"1\"></line><line transform=\"translate(164,0)\" x2=\"0\" y2=\"5\" stroke=\"#888\" stroke-width=\"1\" opacity=\"1\"></line><line transform=\"translate(200,0)\" x2=\"0\" y2=\"5\" stroke=\"#888\" stroke-width=\"1\" opacity=\"1\"></line></g><g class=\"mark-text role-axis-label\" pointer-events=\"none\"><text text-anchor=\"middle\" transform=\"translate(18.181818181818183,15)\" font-family=\"sans-serif\" font-size=\"10px\" fill=\"#000\" opacity=\"1\">-4</text><text text-anchor=\"middle\" transform=\"translate(54.54545454545454,15)\" font-family=\"sans-serif\" font-size=\"10px\" fill=\"#000\" opacity=\"1\">-2</text><text text-anchor=\"middle\" transform=\"translate(90.9090909090909,15)\" font-family=\"sans-serif\" font-size=\"10px\" fill=\"#000\" opacity=\"1\">0</text><text text-anchor=\"middle\" transform=\"translate(127.27272727272727,15)\" font-family=\"sans-serif\" font-size=\"10px\" fill=\"#000\" opacity=\"1\">2</text><text text-anchor=\"middle\" transform=\"translate(163.63636363636365,15)\" font-family=\"sans-serif\" font-size=\"10px\" fill=\"#000\" opacity=\"1\">4</text><text text-anchor=\"end\" transform=\"translate(200,15)\" font-family=\"sans-serif\" font-size=\"10px\" fill=\"#000\" opacity=\"1\">6</text></g><g class=\"mark-rule role-axis-domain\" pointer-events=\"none\"><line transform=\"translate(0,0)\" x2=\"200\" y2=\"0\" stroke=\"#888\" stroke-width=\"1\" opacity=\"1\"></line></g><g class=\"mark-text role-axis-title\" pointer-events=\"none\"><text text-anchor=\"middle\" transform=\"translate(100,30)\" font-family=\"sans-serif\" font-size=\"11px\" font-weight=\"bold\" fill=\"#000\" opacity=\"1\">x</text></g></g><path class=\"foreground\" aria-hidden=\"true\" d=\"\" pointer-events=\"none\" display=\"none\"></path></g></g><g class=\"mark-group role-axis\" role=\"graphics-symbol\" aria-roledescription=\"axis\" aria-label=\"Y-axis titled 'y' for a linear scale with values from -3 to 6\"><g transform=\"translate(0.5,0.5)\"><path class=\"background\" aria-hidden=\"true\" d=\"M0,0h0v0h0Z\" pointer-events=\"none\"></path><g><g class=\"mark-rule role-axis-tick\" pointer-events=\"none\"><line transform=\"translate(0,178)\" x2=\"-5\" y2=\"0\" stroke=\"#888\" stroke-width=\"1\" opacity=\"1\"></line><line transform=\"translate(0,133)\" x2=\"-5\" y2=\"0\" stroke=\"#888\" stroke-width=\"1\" opacity=\"1\"></line><line transform=\"translate(0,89)\" x2=\"-5\" y2=\"0\" stroke=\"#888\" stroke-width=\"1\" opacity=\"1\"></line><line transform=\"translate(0,44)\" x2=\"-5\" y2=\"0\" stroke=\"#888\" stroke-width=\"1\" opacity=\"1\"></line><line transform=\"translate(0,0)\" x2=\"-5\" y2=\"0\" stroke=\"#888\" stroke-width=\"1\" opacity=\"1\"></line></g><g class=\"mark-text role-axis-label\" pointer-events=\"none\"><text text-anchor=\"end\" transform=\"translate(-7,180.77777777777777)\" font-family=\"sans-serif\" font-size=\"10px\" fill=\"#000\" opacity=\"1\">-2</text><text text-anchor=\"end\" transform=\"translate(-7,136.33333333333334)\" font-family=\"sans-serif\" font-size=\"10px\" fill=\"#000\" opacity=\"1\">0</text><text text-anchor=\"end\" transform=\"translate(-7,91.88888888888889)\" font-family=\"sans-serif\" font-size=\"10px\" fill=\"#000\" opacity=\"1\">2</text><text text-anchor=\"end\" transform=\"translate(-7,47.44444444444444)\" font-family=\"sans-serif\" font-size=\"10px\" fill=\"#000\" opacity=\"1\">4</text><text text-anchor=\"end\" transform=\"translate(-7,3)\" font-family=\"sans-serif\" font-size=\"10px\" fill=\"#000\" opacity=\"1\">6</text></g><g class=\"mark-rule role-axis-domain\" pointer-events=\"none\"><line transform=\"translate(0,200)\" x2=\"0\" y2=\"-200\" stroke=\"#888\" stroke-width=\"1\" opacity=\"1\"></line></g><g class=\"mark-text role-axis-title\" pointer-events=\"none\"><text text-anchor=\"middle\" transform=\"translate(-21,100) rotate(-90) translate(0,-2)\" font-family=\"sans-serif\" font-size=\"11px\" font-weight=\"bold\" fill=\"#000\" opacity=\"1\">y</text></g></g><path class=\"foreground\" aria-hidden=\"true\" d=\"\" pointer-events=\"none\" display=\"none\"></path></g></g><g class=\"mark-symbol role-mark marks\" role=\"graphics-object\" aria-roledescription=\"symbol mark container\"><path aria-label=\"x: 1.68412800514; y: 3.09667193854\" role=\"graphics-symbol\" aria-roledescription=\"circle\" transform=\"translate(121.52960009343934,64.51840136588336)\" d=\"M2.7386127875258306,0A2.7386127875258306,2.7386127875258306,0,1,1,-2.7386127875258306,0A2.7386127875258306,2.7386127875258306,0,1,1,2.7386127875258306,0\" fill=\"red\" stroke-width=\"2\" opacity=\"0.7\"></path><path aria-label=\"x: -1.43335202286; y: -0.0546008069736\" role=\"graphics-symbol\" aria-roledescription=\"circle\" transform=\"translate(64.84814503888043,134.5466845994134)\" d=\"M2.7386127875258306,0A2.7386127875258306,2.7386127875258306,0,1,1,-2.7386127875258306,0A2.7386127875258306,2.7386127875258306,0,1,1,2.7386127875258306,0\" fill=\"red\" stroke-width=\"2\" opacity=\"0.7\"></path><path aria-label=\"x: 1.13267786611; y: 2.24720345519\" role=\"graphics-symbol\" aria-roledescription=\"circle\" transform=\"translate(111.50323392919701,83.39547877360471)\" d=\"M2.7386127875258306,0A2.7386127875258306,2.7386127875258306,0,1,1,-2.7386127875258306,0A2.7386127875258306,2.7386127875258306,0,1,1,2.7386127875258306,0\" fill=\"red\" stroke-width=\"2\" opacity=\"0.7\"></path><path aria-label=\"x: 0.63312187088; y: 1.82361671158\" role=\"graphics-symbol\" aria-roledescription=\"circle\" transform=\"translate(102.42039765236966,92.80851752044414)\" d=\"M2.7386127875258306,0A2.7386127875258306,2.7386127875258306,0,1,1,-2.7386127875258306,0A2.7386127875258306,2.7386127875258306,0,1,1,2.7386127875258306,0\" fill=\"red\" stroke-width=\"2\" opacity=\"0.7\"></path><path aria-label=\"x: 3.62261786118; y: 4.69484819595\" role=\"graphics-symbol\" aria-roledescription=\"circle\" transform=\"translate(156.77487020320794,29.003373423255052)\" d=\"M2.7386127875258306,0A2.7386127875258306,2.7386127875258306,0,1,1,-2.7386127875258306,0A2.7386127875258306,2.7386127875258306,0,1,1,2.7386127875258306,0\" fill=\"red\" stroke-width=\"2\" opacity=\"0.7\"></path><path aria-label=\"x: -0.39941590967; y: 2.68669455119\" role=\"graphics-symbol\" aria-roledescription=\"circle\" transform=\"translate(83.64698346054918,73.62900997363077)\" d=\"M2.7386127875258306,0A2.7386127875258306,2.7386127875258306,0,1,1,-2.7386127875258306,0A2.7386127875258306,2.7386127875258306,0,1,1,2.7386127875258306,0\" fill=\"red\" stroke-width=\"2\" opacity=\"0.7\"></path><path aria-label=\"x: 1.36680701915; y: 2.9764862067\" role=\"graphics-symbol\" aria-roledescription=\"circle\" transform=\"translate(115.76012762098395,67.18919540672135)\" d=\"M2.7386127875258306,0A2.7386127875258306,2.7386127875258306,0,1,1,-2.7386127875258306,0A2.7386127875258306,2.7386127875258306,0,1,1,2.7386127875258306,0\" fill=\"red\" stroke-width=\"2\" opacity=\"0.7\"></path><path aria-label=\"x: 2.62787148314; y: 3.72831405433\" role=\"graphics-symbol\" aria-roledescription=\"circle\" transform=\"translate(138.68857242075583,50.48190990378076)\" d=\"M2.7386127875258306,0A2.7386127875258306,2.7386127875258306,0,1,1,-2.7386127875258306,0A2.7386127875258306,2.7386127875258306,0,1,1,2.7386127875258306,0\" fill=\"red\" stroke-width=\"2\" opacity=\"0.7\"></path><path aria-label=\"x: -0.727954768728; y: 2.17802437345\" role=\"graphics-symbol\" aria-roledescription=\"circle\" transform=\"translate(77.6735496594928,84.93279170120726)\" d=\"M2.7386127875258306,0A2.7386127875258306,2.7386127875258306,0,1,1,-2.7386127875258306,0A2.7386127875258306,2.7386127875258306,0,1,1,2.7386127875258306,0\" fill=\"red\" stroke-width=\"2\" opacity=\"0.7\"></path><path aria-label=\"x: 0.0730141907175; y: 1.72585219782\" role=\"graphics-symbol\" aria-roledescription=\"circle\" transform=\"translate(92.2366216494082,94.98106227066738)\" d=\"M2.7386127875258306,0A2.7386127875258306,2.7386127875258306,0,1,1,-2.7386127875258306,0A2.7386127875258306,2.7386127875258306,0,1,1,2.7386127875258306,0\" fill=\"red\" stroke-width=\"2\" opacity=\"0.7\"></path><path aria-label=\"x: 5.71182467684; y: 3.61586701024\" role=\"graphics-symbol\" aria-roledescription=\"circle\" transform=\"translate(194.76044866990222,52.98073310581195)\" d=\"M2.7386127875258306,0A2.7386127875258306,2.7386127875258306,0,1,1,-2.7386127875258306,0A2.7386127875258306,2.7386127875258306,0,1,1,2.7386127875258306,0\" fill=\"red\" stroke-width=\"2\" opacity=\"0.7\"></path><path aria-label=\"x: -0.444035135958; y: 1.15632371202\" role=\"graphics-symbol\" aria-roledescription=\"circle\" transform=\"translate(82.83572480076941,107.63725084394116)\" d=\"M2.7386127875258306,0A2.7386127875258306,2.7386127875258306,0,1,1,-2.7386127875258306,0A2.7386127875258306,2.7386127875258306,0,1,1,2.7386127875258306,0\" fill=\"red\" stroke-width=\"2\" opacity=\"0.7\"></path><path aria-label=\"x: 3.13394009886; y: 4.24015902638\" role=\"graphics-symbol\" aria-roledescription=\"circle\" transform=\"translate(147.8898199792756,39.10757719160036)\" d=\"M2.7386127875258306,0A2.7386127875258306,2.7386127875258306,0,1,1,-2.7386127875258306,0A2.7386127875258306,2.7386127875258306,0,1,1,2.7386127875258306,0\" fill=\"red\" stroke-width=\"2\" opacity=\"0.7\"></path><path aria-label=\"x: 2.61642879469; y: 3.60614889948\" role=\"graphics-symbol\" aria-roledescription=\"circle\" transform=\"translate(138.48052353979404,53.19669112265268)\" d=\"M2.7386127875258306,0A2.7386127875258306,2.7386127875258306,0,1,1,-2.7386127875258306,0A2.7386127875258306,2.7386127875258306,0,1,1,2.7386127875258306,0\" fill=\"red\" stroke-width=\"2\" opacity=\"0.7\"></path><path aria-label=\"x: 0.509484903799; y: 1.62011594683\" role=\"graphics-symbol\" aria-roledescription=\"circle\" transform=\"translate(100.17245279633651,97.33075673701792)\" d=\"M2.7386127875258306,0A2.7386127875258306,2.7386127875258306,0,1,1,-2.7386127875258306,0A2.7386127875258306,2.7386127875258306,0,1,1,2.7386127875258306,0\" fill=\"red\" stroke-width=\"2\" opacity=\"0.7\"></path><path aria-label=\"x: 2.54753480449; y: 1.27448502466\" role=\"graphics-symbol\" aria-roledescription=\"circle\" transform=\"translate(137.22790553619103,105.01144389644419)\" d=\"M2.7386127875258306,0A2.7386127875258306,2.7386127875258306,0,1,1,-2.7386127875258306,0A2.7386127875258306,2.7386127875258306,0,1,1,2.7386127875258306,0\" fill=\"red\" stroke-width=\"2\" opacity=\"0.7\"></path><path aria-label=\"x: -3.01418467315; y: -0.866885141833\" role=\"graphics-symbol\" aria-roledescription=\"circle\" transform=\"translate(36.105733215430384,152.59744759629248)\" d=\"M2.7386127875258306,0A2.7386127875258306,2.7386127875258306,0,1,1,-2.7386127875258306,0A2.7386127875258306,2.7386127875258306,0,1,1,2.7386127875258306,0\" fill=\"red\" stroke-width=\"2\" opacity=\"0.7\"></path><path aria-label=\"x: 3.39305344885; y: 3.83951376331\" role=\"graphics-symbol\" aria-roledescription=\"circle\" transform=\"translate(152.6009717971977,48.01080525966937)\" d=\"M2.7386127875258306,0A2.7386127875258306,2.7386127875258306,0,1,1,-2.7386127875258306,0A2.7386127875258306,2.7386127875258306,0,1,1,2.7386127875258306,0\" fill=\"red\" stroke-width=\"2\" opacity=\"0.7\"></path><path aria-label=\"x: 0.932037274729; y: 1.42983059126\" role=\"graphics-symbol\" aria-roledescription=\"circle\" transform=\"translate(107.8552231768857,101.55932019433007)\" d=\"M2.7386127875258306,0A2.7386127875258306,2.7386127875258306,0,1,1,-2.7386127875258306,0A2.7386127875258306,2.7386127875258306,0,1,1,2.7386127875258306,0\" fill=\"red\" stroke-width=\"2\" opacity=\"0.7\"></path><path aria-label=\"x: 0.923168913096; y: 2.0992750578\" role=\"graphics-symbol\" aria-roledescription=\"circle\" transform=\"translate(107.69398023811053,86.68277649336713)\" d=\"M2.7386127875258306,0A2.7386127875258306,2.7386127875258306,0,1,1,-2.7386127875258306,0A2.7386127875258306,2.7386127875258306,0,1,1,2.7386127875258306,0\" fill=\"red\" stroke-width=\"2\" opacity=\"0.7\"></path><path aria-label=\"x: 1.83781406146; y: 2.47857370944\" role=\"graphics-symbol\" aria-roledescription=\"circle\" transform=\"translate(124.32389202659253,78.25391756809401)\" d=\"M2.7386127875258306,0A2.7386127875258306,2.7386127875258306,0,1,1,-2.7386127875258306,0A2.7386127875258306,2.7386127875258306,0,1,1,2.7386127875258306,0\" fill=\"red\" stroke-width=\"2\" opacity=\"0.7\"></path><path aria-label=\"x: 0.552484569355; y: 2.68601414507\" role=\"graphics-symbol\" aria-roledescription=\"circle\" transform=\"translate(100.95426489736828,73.64413010955661)\" d=\"M2.7386127875258306,0A2.7386127875258306,2.7386127875258306,0,1,1,-2.7386127875258306,0A2.7386127875258306,2.7386127875258306,0,1,1,2.7386127875258306,0\" fill=\"red\" stroke-width=\"2\" opacity=\"0.7\"></path><path aria-label=\"x: 2.70786816497; y: 3.12709574424\" role=\"graphics-symbol\" aria-roledescription=\"circle\" transform=\"translate(140.14305754482237,63.84231679467731)\" d=\"M2.7386127875258306,0A2.7386127875258306,2.7386127875258306,0,1,1,-2.7386127875258306,0A2.7386127875258306,2.7386127875258306,0,1,1,2.7386127875258306,0\" fill=\"red\" stroke-width=\"2\" opacity=\"0.7\"></path><path aria-label=\"x: -2.27207870173; y: -0.282632785047\" role=\"graphics-symbol\" aria-roledescription=\"circle\" transform=\"translate(49.59856905943866,139.6140618899402)\" d=\"M2.7386127875258306,0A2.7386127875258306,2.7386127875258306,0,1,1,-2.7386127875258306,0A2.7386127875258306,2.7386127875258306,0,1,1,2.7386127875258306,0\" fill=\"red\" stroke-width=\"2\" opacity=\"0.7\"></path><path aria-label=\"x: 0.418153836145; y: 1.85559712952\" role=\"graphics-symbol\" aria-roledescription=\"circle\" transform=\"translate(98.51188792990911,92.09784156618213)\" d=\"M2.7386127875258306,0A2.7386127875258306,2.7386127875258306,0,1,1,-2.7386127875258306,0A2.7386127875258306,2.7386127875258306,0,1,1,2.7386127875258306,0\" fill=\"red\" stroke-width=\"2\" opacity=\"0.7\"></path><path aria-label=\"x: 3.79353109505; y: 4.3117421362\" role=\"graphics-symbol\" aria-roledescription=\"circle\" transform=\"translate(159.88238354641396,37.516841417758414)\" d=\"M2.7386127875258306,0A2.7386127875258306,2.7386127875258306,0,1,1,-2.7386127875258306,0A2.7386127875258306,2.7386127875258306,0,1,1,2.7386127875258306,0\" fill=\"red\" stroke-width=\"2\" opacity=\"0.7\"></path><path aria-label=\"x: 1.61775476304; y: 2.8525371618\" role=\"graphics-symbol\" aria-roledescription=\"circle\" transform=\"translate(120.32281387342687,69.94361862657416)\" d=\"M2.7386127875258306,0A2.7386127875258306,2.7386127875258306,0,1,1,-2.7386127875258306,0A2.7386127875258306,2.7386127875258306,0,1,1,2.7386127875258306,0\" fill=\"red\" stroke-width=\"2\" opacity=\"0.7\"></path><path aria-label=\"x: 0.669756234226; y: 1.38363206051\" role=\"graphics-symbol\" aria-roledescription=\"circle\" transform=\"translate(103.08647698592193,102.58595421084442)\" d=\"M2.7386127875258306,0A2.7386127875258306,2.7386127875258306,0,1,1,-2.7386127875258306,0A2.7386127875258306,2.7386127875258306,0,1,1,2.7386127875258306,0\" fill=\"red\" stroke-width=\"2\" opacity=\"0.7\"></path><path aria-label=\"x: -1.41759652602; y: -0.428150657902\" role=\"graphics-symbol\" aria-roledescription=\"circle\" transform=\"translate(65.13460861780632,142.84779239781838)\" d=\"M2.7386127875258306,0A2.7386127875258306,2.7386127875258306,0,1,1,-2.7386127875258306,0A2.7386127875258306,2.7386127875258306,0,1,1,2.7386127875258306,0\" fill=\"red\" stroke-width=\"2\" opacity=\"0.7\"></path><path aria-label=\"x: 1.93433300946; y: 2.82515853589\" role=\"graphics-symbol\" aria-roledescription=\"circle\" transform=\"translate(126.07878199027134,70.5520325357506)\" d=\"M2.7386127875258306,0A2.7386127875258306,2.7386127875258306,0,1,1,-2.7386127875258306,0A2.7386127875258306,2.7386127875258306,0,1,1,2.7386127875258306,0\" fill=\"red\" stroke-width=\"2\" opacity=\"0.7\"></path><path aria-label=\"x: 3.72553613012; y: 5.02491307371\" role=\"graphics-symbol\" aria-roledescription=\"circle\" transform=\"translate(158.64611145677316,21.6685983620295)\" d=\"M2.7386127875258306,0A2.7386127875258306,2.7386127875258306,0,1,1,-2.7386127875258306,0A2.7386127875258306,2.7386127875258306,0,1,1,2.7386127875258306,0\" fill=\"red\" stroke-width=\"2\" opacity=\"0.7\"></path><path aria-label=\"x: -0.945902736472; y: -0.214235116599\" role=\"graphics-symbol\" aria-roledescription=\"circle\" transform=\"translate(73.71085933687499,138.0941137022041)\" d=\"M2.7386127875258306,0A2.7386127875258306,2.7386127875258306,0,1,1,-2.7386127875258306,0A2.7386127875258306,2.7386127875258306,0,1,1,2.7386127875258306,0\" fill=\"red\" stroke-width=\"2\" opacity=\"0.7\"></path><path aria-label=\"x: 1.69189806142; y: 2.68199967335\" role=\"graphics-symbol\" aria-roledescription=\"circle\" transform=\"translate(121.67087384408222,73.73334059223393)\" d=\"M2.7386127875258306,0A2.7386127875258306,2.7386127875258306,0,1,1,-2.7386127875258306,0A2.7386127875258306,2.7386127875258306,0,1,1,2.7386127875258306,0\" fill=\"red\" stroke-width=\"2\" opacity=\"0.7\"></path><path aria-label=\"x: 2.09588954014; y: 3.00273953997\" role=\"graphics-symbol\" aria-roledescription=\"circle\" transform=\"translate(129.0161734570119,66.60578800064671)\" d=\"M2.7386127875258306,0A2.7386127875258306,2.7386127875258306,0,1,1,-2.7386127875258306,0A2.7386127875258306,2.7386127875258306,0,1,1,2.7386127875258306,0\" fill=\"red\" stroke-width=\"2\" opacity=\"0.7\"></path><path aria-label=\"x: 2.5154158728; y: 2.07280235378\" role=\"graphics-symbol\" aria-roledescription=\"circle\" transform=\"translate(136.64392495994719,87.27105880491226)\" d=\"M2.7386127875258306,0A2.7386127875258306,2.7386127875258306,0,1,1,-2.7386127875258306,0A2.7386127875258306,2.7386127875258306,0,1,1,2.7386127875258306,0\" fill=\"red\" stroke-width=\"2\" opacity=\"0.7\"></path><path aria-label=\"x: 1.19226557508; y: 1.88015904161\" role=\"graphics-symbol\" aria-roledescription=\"circle\" transform=\"translate(112.58664681969005,91.55202129753243)\" d=\"M2.7386127875258306,0A2.7386127875258306,2.7386127875258306,0,1,1,-2.7386127875258306,0A2.7386127875258306,2.7386127875258306,0,1,1,2.7386127875258306,0\" fill=\"red\" stroke-width=\"2\" opacity=\"0.7\"></path><path aria-label=\"x: 0.800267269064; y: 1.64089430896\" role=\"graphics-symbol\" aria-roledescription=\"circle\" transform=\"translate(105.45940489206826,96.86901535640627)\" d=\"M2.7386127875258306,0A2.7386127875258306,2.7386127875258306,0,1,1,-2.7386127875258306,0A2.7386127875258306,2.7386127875258306,0,1,1,2.7386127875258306,0\" fill=\"red\" stroke-width=\"2\" opacity=\"0.7\"></path><path aria-label=\"x: 1.67219944431; y: 1.66491016081\" role=\"graphics-symbol\" aria-roledescription=\"circle\" transform=\"translate(121.31271716927002,96.33532975973023)\" d=\"M2.7386127875258306,0A2.7386127875258306,2.7386127875258306,0,1,1,-2.7386127875258306,0A2.7386127875258306,2.7386127875258306,0,1,1,2.7386127875258306,0\" fill=\"red\" stroke-width=\"2\" opacity=\"0.7\"></path><path aria-label=\"x: -1.47565321129; y: 0.952943954354\" role=\"graphics-symbol\" aria-roledescription=\"circle\" transform=\"translate(64.07903252194687,112.15680101435157)\" d=\"M2.7386127875258306,0A2.7386127875258306,2.7386127875258306,0,1,1,-2.7386127875258306,0A2.7386127875258306,2.7386127875258306,0,1,1,2.7386127875258306,0\" fill=\"red\" stroke-width=\"2\" opacity=\"0.7\"></path><path aria-label=\"x: -1.92510782954; y: -1.18703171819\" role=\"graphics-symbol\" aria-roledescription=\"circle\" transform=\"translate(55.90713037198925,159.71181595975384)\" d=\"M2.7386127875258306,0A2.7386127875258306,2.7386127875258306,0,1,1,-2.7386127875258306,0A2.7386127875258306,2.7386127875258306,0,1,1,2.7386127875258306,0\" fill=\"red\" stroke-width=\"2\" opacity=\"0.7\"></path><path aria-label=\"x: 0.896910167299; y: 2.69837461858\" role=\"graphics-symbol\" aria-roledescription=\"circle\" transform=\"translate(107.21654849634736,73.36945292053944)\" d=\"M2.7386127875258306,0A2.7386127875258306,2.7386127875258306,0,1,1,-2.7386127875258306,0A2.7386127875258306,2.7386127875258306,0,1,1,2.7386127875258306,0\" fill=\"red\" stroke-width=\"2\" opacity=\"0.7\"></path><path aria-label=\"x: -0.377972730777; y: 2.39443547764\" role=\"graphics-symbol\" aria-roledescription=\"circle\" transform=\"translate(84.03685944041808,80.12365605246747)\" d=\"M2.7386127875258306,0A2.7386127875258306,2.7386127875258306,0,1,1,-2.7386127875258306,0A2.7386127875258306,2.7386127875258306,0,1,1,2.7386127875258306,0\" fill=\"red\" stroke-width=\"2\" opacity=\"0.7\"></path><path aria-label=\"x: 3.47994685431; y: 3.34695267166\" role=\"graphics-symbol\" aria-roledescription=\"circle\" transform=\"translate(154.1808518964563,58.95660729652843)\" d=\"M2.7386127875258306,0A2.7386127875258306,2.7386127875258306,0,1,1,-2.7386127875258306,0A2.7386127875258306,2.7386127875258306,0,1,1,2.7386127875258306,0\" fill=\"red\" stroke-width=\"2\" opacity=\"0.7\"></path><path aria-label=\"x: 1.3464961514; y: 1.64079654725\" role=\"graphics-symbol\" aria-roledescription=\"circle\" transform=\"translate(115.39083911628305,96.87118783880761)\" d=\"M2.7386127875258306,0A2.7386127875258306,2.7386127875258306,0,1,1,-2.7386127875258306,0A2.7386127875258306,2.7386127875258306,0,1,1,2.7386127875258306,0\" fill=\"red\" stroke-width=\"2\" opacity=\"0.7\"></path><path aria-label=\"x: -1.62320735777; y: 0.747238523717\" role=\"graphics-symbol\" aria-roledescription=\"circle\" transform=\"translate(61.39622985872233,116.72803280629849)\" d=\"M2.7386127875258306,0A2.7386127875258306,2.7386127875258306,0,1,1,-2.7386127875258306,0A2.7386127875258306,2.7386127875258306,0,1,1,2.7386127875258306,0\" fill=\"red\" stroke-width=\"2\" opacity=\"0.7\"></path><path aria-label=\"x: 0.979889448028; y: 1.62350121027\" role=\"graphics-symbol\" aria-roledescription=\"circle\" transform=\"translate(108.7252626914258,97.25552866064979)\" d=\"M2.7386127875258306,0A2.7386127875258306,2.7386127875258306,0,1,1,-2.7386127875258306,0A2.7386127875258306,2.7386127875258306,0,1,1,2.7386127875258306,0\" fill=\"red\" stroke-width=\"2\" opacity=\"0.7\"></path><path aria-label=\"x: -1.91752137919; y: -0.627209832684\" role=\"graphics-symbol\" aria-roledescription=\"circle\" transform=\"translate(56.04506583285974,147.2713296152078)\" d=\"M2.7386127875258306,0A2.7386127875258306,2.7386127875258306,0,1,1,-2.7386127875258306,0A2.7386127875258306,2.7386127875258306,0,1,1,2.7386127875258306,0\" fill=\"red\" stroke-width=\"2\" opacity=\"0.7\"></path><path aria-label=\"x: -1.4409436463; y: 0.580847774695\" role=\"graphics-symbol\" aria-roledescription=\"circle\" transform=\"translate(64.71011552176212,120.42560500677352)\" d=\"M2.7386127875258306,0A2.7386127875258306,2.7386127875258306,0,1,1,-2.7386127875258306,0A2.7386127875258306,2.7386127875258306,0,1,1,2.7386127875258306,0\" fill=\"red\" stroke-width=\"2\" opacity=\"0.7\"></path><path aria-label=\"x: 1.79915854166; y: 2.86989366457\" role=\"graphics-symbol\" aria-roledescription=\"circle\" transform=\"translate(123.62106439376643,69.55791856509106)\" d=\"M2.7386127875258306,0A2.7386127875258306,2.7386127875258306,0,1,1,-2.7386127875258306,0A2.7386127875258306,2.7386127875258306,0,1,1,2.7386127875258306,0\" fill=\"red\" stroke-width=\"2\" opacity=\"0.7\"></path><path aria-label=\"x: 2.45941122152; y: 1.6368468049\" role=\"graphics-symbol\" aria-roledescription=\"circle\" transform=\"translate(135.62565857311523,96.95895989105061)\" d=\"M2.7386127875258306,0A2.7386127875258306,2.7386127875258306,0,1,1,-2.7386127875258306,0A2.7386127875258306,2.7386127875258306,0,1,1,2.7386127875258306,0\" fill=\"red\" stroke-width=\"2\" opacity=\"0.7\"></path><path aria-label=\"x: -0.964636746555; y: 0.625984634243\" role=\"graphics-symbol\" aria-roledescription=\"circle\" transform=\"translate(73.37024097172137,119.42256368348238)\" d=\"M2.7386127875258306,0A2.7386127875258306,2.7386127875258306,0,1,1,-2.7386127875258306,0A2.7386127875258306,2.7386127875258306,0,1,1,2.7386127875258306,0\" fill=\"red\" stroke-width=\"2\" opacity=\"0.7\"></path><path aria-label=\"x: -0.352075974519; y: 1.61768942801\" role=\"graphics-symbol\" aria-roledescription=\"circle\" transform=\"translate(84.50770955420805,97.38467937759201)\" d=\"M2.7386127875258306,0A2.7386127875258306,2.7386127875258306,0,1,1,-2.7386127875258306,0A2.7386127875258306,2.7386127875258306,0,1,1,2.7386127875258306,0\" fill=\"red\" stroke-width=\"2\" opacity=\"0.7\"></path><path aria-label=\"x: 1.17375007033; y: 2.37735999533\" role=\"graphics-symbol\" aria-roledescription=\"circle\" transform=\"translate(112.25000127873821,80.50311121494084)\" d=\"M2.7386127875258306,0A2.7386127875258306,2.7386127875258306,0,1,1,-2.7386127875258306,0A2.7386127875258306,2.7386127875258306,0,1,1,2.7386127875258306,0\" fill=\"red\" stroke-width=\"2\" opacity=\"0.7\"></path><path aria-label=\"x: 1.54944112795; y: 2.57761292743\" role=\"graphics-symbol\" aria-roledescription=\"circle\" transform=\"translate(119.08074778090285,76.0530460571888)\" d=\"M2.7386127875258306,0A2.7386127875258306,2.7386127875258306,0,1,1,-2.7386127875258306,0A2.7386127875258306,2.7386127875258306,0,1,1,2.7386127875258306,0\" fill=\"red\" stroke-width=\"2\" opacity=\"0.7\"></path><path aria-label=\"x: 2.10118417811; y: 2.71223438505\" role=\"graphics-symbol\" aria-roledescription=\"circle\" transform=\"translate(129.11243960208444,73.06145811000917)\" d=\"M2.7386127875258306,0A2.7386127875258306,2.7386127875258306,0,1,1,-2.7386127875258306,0A2.7386127875258306,2.7386127875258306,0,1,1,2.7386127875258306,0\" fill=\"red\" stroke-width=\"2\" opacity=\"0.7\"></path><path aria-label=\"x: 2.61197602416; y: 3.73619320334\" role=\"graphics-symbol\" aria-roledescription=\"circle\" transform=\"translate(138.39956407569974,50.306817703635254)\" d=\"M2.7386127875258306,0A2.7386127875258306,2.7386127875258306,0,1,1,-2.7386127875258306,0A2.7386127875258306,2.7386127875258306,0,1,1,2.7386127875258306,0\" fill=\"red\" stroke-width=\"2\" opacity=\"0.7\"></path><path aria-label=\"x: 2.31212000006; y: 2.94245936796\" role=\"graphics-symbol\" aria-roledescription=\"circle\" transform=\"translate(132.9476363646678,67.94534737858571)\" d=\"M2.7386127875258306,0A2.7386127875258306,2.7386127875258306,0,1,1,-2.7386127875258306,0A2.7386127875258306,2.7386127875258306,0,1,1,2.7386127875258306,0\" fill=\"red\" stroke-width=\"2\" opacity=\"0.7\"></path><path aria-label=\"x: 1.043500079; y: 2.17023011085\" role=\"graphics-symbol\" aria-roledescription=\"circle\" transform=\"translate(109.8818196180992,85.10599753659906)\" d=\"M2.7386127875258306,0A2.7386127875258306,2.7386127875258306,0,1,1,-2.7386127875258306,0A2.7386127875258306,2.7386127875258306,0,1,1,2.7386127875258306,0\" fill=\"red\" stroke-width=\"2\" opacity=\"0.7\"></path><path aria-label=\"x: 1.73380883178; y: 0.926408919011\" role=\"graphics-symbol\" aria-roledescription=\"circle\" transform=\"translate(122.43288785045566,112.74646846641735)\" d=\"M2.7386127875258306,0A2.7386127875258306,2.7386127875258306,0,1,1,-2.7386127875258306,0A2.7386127875258306,2.7386127875258306,0,1,1,2.7386127875258306,0\" fill=\"red\" stroke-width=\"2\" opacity=\"0.7\"></path><path aria-label=\"x: 4.00549889969; y: 4.06936071552\" role=\"graphics-symbol\" aria-roledescription=\"circle\" transform=\"translate(163.73634363069604,42.903095210569035)\" d=\"M2.7386127875258306,0A2.7386127875258306,2.7386127875258306,0,1,1,-2.7386127875258306,0A2.7386127875258306,2.7386127875258306,0,1,1,2.7386127875258306,0\" fill=\"red\" stroke-width=\"2\" opacity=\"0.7\"></path><path aria-label=\"x: 2.97775550023; y: 3.93096100987\" role=\"graphics-symbol\" aria-roledescription=\"circle\" transform=\"translate(145.0501000042167,45.97864422507612)\" d=\"M2.7386127875258306,0A2.7386127875258306,2.7386127875258306,0,1,1,-2.7386127875258306,0A2.7386127875258306,2.7386127875258306,0,1,1,2.7386127875258306,0\" fill=\"red\" stroke-width=\"2\" opacity=\"0.7\"></path><path aria-label=\"x: -0.519008451841; y: 0.42241937457\" role=\"graphics-symbol\" aria-roledescription=\"circle\" transform=\"translate(81.47257360288364,123.9462361206733)\" d=\"M2.7386127875258306,0A2.7386127875258306,2.7386127875258306,0,1,1,-2.7386127875258306,0A2.7386127875258306,2.7386127875258306,0,1,1,2.7386127875258306,0\" fill=\"red\" stroke-width=\"2\" opacity=\"0.7\"></path><path aria-label=\"x: 0.138799257039; y: 1.03928577217\" role=\"graphics-symbol\" aria-roledescription=\"circle\" transform=\"translate(93.43271376433822,110.23809395170207)\" d=\"M2.7386127875258306,0A2.7386127875258306,2.7386127875258306,0,1,1,-2.7386127875258306,0A2.7386127875258306,2.7386127875258306,0,1,1,2.7386127875258306,0\" fill=\"red\" stroke-width=\"2\" opacity=\"0.7\"></path><path aria-label=\"x: 0.904561138247; y: 3.26333750299\" role=\"graphics-symbol\" aria-roledescription=\"circle\" transform=\"translate(107.35565705903143,60.8147221557243)\" d=\"M2.7386127875258306,0A2.7386127875258306,2.7386127875258306,0,1,1,-2.7386127875258306,0A2.7386127875258306,2.7386127875258306,0,1,1,2.7386127875258306,0\" fill=\"red\" stroke-width=\"2\" opacity=\"0.7\"></path><path aria-label=\"x: -2.2600301138; y: -2.10305011184\" role=\"graphics-symbol\" aria-roledescription=\"circle\" transform=\"translate(49.817634294586185,180.06778026313762)\" d=\"M2.7386127875258306,0A2.7386127875258306,2.7386127875258306,0,1,1,-2.7386127875258306,0A2.7386127875258306,2.7386127875258306,0,1,1,2.7386127875258306,0\" fill=\"red\" stroke-width=\"2\" opacity=\"0.7\"></path><path aria-label=\"x: 1.19139002605; y: 2.79328771919\" role=\"graphics-symbol\" aria-roledescription=\"circle\" transform=\"translate(112.57072774640578,71.2602729069199)\" d=\"M2.7386127875258306,0A2.7386127875258306,2.7386127875258306,0,1,1,-2.7386127875258306,0A2.7386127875258306,2.7386127875258306,0,1,1,2.7386127875258306,0\" fill=\"red\" stroke-width=\"2\" opacity=\"0.7\"></path><path aria-label=\"x: 0.45104665099; y: 2.23936597609\" role=\"graphics-symbol\" aria-roledescription=\"circle\" transform=\"translate(99.10993910890618,83.5696449757397)\" d=\"M2.7386127875258306,0A2.7386127875258306,2.7386127875258306,0,1,1,-2.7386127875258306,0A2.7386127875258306,2.7386127875258306,0,1,1,2.7386127875258306,0\" fill=\"red\" stroke-width=\"2\" opacity=\"0.7\"></path><path aria-label=\"x: 2.26536934933; y: 3.60856865091\" role=\"graphics-symbol\" aria-roledescription=\"circle\" transform=\"translate(132.09762453320363,53.14291886856943)\" d=\"M2.7386127875258306,0A2.7386127875258306,2.7386127875258306,0,1,1,-2.7386127875258306,0A2.7386127875258306,2.7386127875258306,0,1,1,2.7386127875258306,0\" fill=\"red\" stroke-width=\"2\" opacity=\"0.7\"></path><path aria-label=\"x: 2.43898412366; y: 3.90613813272\" role=\"graphics-symbol\" aria-roledescription=\"circle\" transform=\"translate(135.2542567938232,46.53026371738953)\" d=\"M2.7386127875258306,0A2.7386127875258306,2.7386127875258306,0,1,1,-2.7386127875258306,0A2.7386127875258306,2.7386127875258306,0,1,1,2.7386127875258306,0\" fill=\"red\" stroke-width=\"2\" opacity=\"0.7\"></path><path aria-label=\"x: 2.91004655016; y: 3.69359749734\" role=\"graphics-symbol\" aria-roledescription=\"circle\" transform=\"translate(143.81902818475717,51.25338894806792)\" d=\"M2.7386127875258306,0A2.7386127875258306,2.7386127875258306,0,1,1,-2.7386127875258306,0A2.7386127875258306,2.7386127875258306,0,1,1,2.7386127875258306,0\" fill=\"red\" stroke-width=\"2\" opacity=\"0.7\"></path><path aria-label=\"x: 1.30746416962; y: 2.49446380482\" role=\"graphics-symbol\" aria-roledescription=\"circle\" transform=\"translate(114.68116672033509,77.90080433728205)\" d=\"M2.7386127875258306,0A2.7386127875258306,2.7386127875258306,0,1,1,-2.7386127875258306,0A2.7386127875258306,2.7386127875258306,0,1,1,2.7386127875258306,0\" fill=\"red\" stroke-width=\"2\" opacity=\"0.7\"></path><path aria-label=\"x: -0.750970590143; y: -0.0535714971076\" role=\"graphics-symbol\" aria-roledescription=\"circle\" transform=\"translate(77.25508017922394,134.52381104683656)\" d=\"M2.7386127875258306,0A2.7386127875258306,2.7386127875258306,0,1,1,-2.7386127875258306,0A2.7386127875258306,2.7386127875258306,0,1,1,2.7386127875258306,0\" fill=\"red\" stroke-width=\"2\" opacity=\"0.7\"></path><path aria-label=\"x: 1.24878766298; y: 2.58761510748\" role=\"graphics-symbol\" aria-roledescription=\"circle\" transform=\"translate(113.61432114506647,75.83077538935443)\" d=\"M2.7386127875258306,0A2.7386127875258306,2.7386127875258306,0,1,1,-2.7386127875258306,0A2.7386127875258306,2.7386127875258306,0,1,1,2.7386127875258306,0\" fill=\"red\" stroke-width=\"2\" opacity=\"0.7\"></path><path aria-label=\"x: 1.34934511402; y: 2.43849747544\" role=\"graphics-symbol\" aria-roledescription=\"circle\" transform=\"translate(115.44263843674332,79.1445005458411)\" d=\"M2.7386127875258306,0A2.7386127875258306,2.7386127875258306,0,1,1,-2.7386127875258306,0A2.7386127875258306,2.7386127875258306,0,1,1,2.7386127875258306,0\" fill=\"red\" stroke-width=\"2\" opacity=\"0.7\"></path><path aria-label=\"x: -1.03077067501; y: 0.734674766185\" role=\"graphics-symbol\" aria-roledescription=\"circle\" transform=\"translate(72.16780590887738,117.00722741810662)\" d=\"M2.7386127875258306,0A2.7386127875258306,2.7386127875258306,0,1,1,-2.7386127875258306,0A2.7386127875258306,2.7386127875258306,0,1,1,2.7386127875258306,0\" fill=\"red\" stroke-width=\"2\" opacity=\"0.7\"></path><path aria-label=\"x: 3.01194731937; y: 4.28578729242\" role=\"graphics-symbol\" aria-roledescription=\"circle\" transform=\"translate(145.6717694431217,38.0936157238948)\" d=\"M2.7386127875258306,0A2.7386127875258306,2.7386127875258306,0,1,1,-2.7386127875258306,0A2.7386127875258306,2.7386127875258306,0,1,1,2.7386127875258306,0\" fill=\"red\" stroke-width=\"2\" opacity=\"0.7\"></path><path aria-label=\"x: 1.06404513616; y: 2.2722614229\" role=\"graphics-symbol\" aria-roledescription=\"circle\" transform=\"translate(110.25536611207872,82.83863504664023)\" d=\"M2.7386127875258306,0A2.7386127875258306,2.7386127875258306,0,1,1,-2.7386127875258306,0A2.7386127875258306,2.7386127875258306,0,1,1,2.7386127875258306,0\" fill=\"red\" stroke-width=\"2\" opacity=\"0.7\"></path><path aria-label=\"x: 0.454604780101; y: 1.28690781931\" role=\"graphics-symbol\" aria-roledescription=\"circle\" transform=\"translate(99.17463236547863,104.73538179304556)\" d=\"M2.7386127875258306,0A2.7386127875258306,2.7386127875258306,0,1,1,-2.7386127875258306,0A2.7386127875258306,2.7386127875258306,0,1,1,2.7386127875258306,0\" fill=\"red\" stroke-width=\"2\" opacity=\"0.7\"></path><path aria-label=\"x: -0.771088696213; y: 2.51264302256\" role=\"graphics-symbol\" aria-roledescription=\"circle\" transform=\"translate(76.88929643248771,77.49682172080242)\" d=\"M2.7386127875258306,0A2.7386127875258306,2.7386127875258306,0,1,1,-2.7386127875258306,0A2.7386127875258306,2.7386127875258306,0,1,1,2.7386127875258306,0\" fill=\"red\" stroke-width=\"2\" opacity=\"0.7\"></path><path aria-label=\"x: 3.97935569755; y: 3.0589270491\" role=\"graphics-symbol\" aria-roledescription=\"circle\" transform=\"translate(163.26101268272376,65.35717668676062)\" d=\"M2.7386127875258306,0A2.7386127875258306,2.7386127875258306,0,1,1,-2.7386127875258306,0A2.7386127875258306,2.7386127875258306,0,1,1,2.7386127875258306,0\" fill=\"red\" stroke-width=\"2\" opacity=\"0.7\"></path><path aria-label=\"x: 1.99973426056; y: 3.17739506894\" role=\"graphics-symbol\" aria-roledescription=\"circle\" transform=\"translate(127.26789564657392,62.72455402356507)\" d=\"M2.7386127875258306,0A2.7386127875258306,2.7386127875258306,0,1,1,-2.7386127875258306,0A2.7386127875258306,2.7386127875258306,0,1,1,2.7386127875258306,0\" fill=\"red\" stroke-width=\"2\" opacity=\"0.7\"></path><path aria-label=\"x: 1.66638564091; y: 2.43298846826\" role=\"graphics-symbol\" aria-roledescription=\"circle\" transform=\"translate(121.20701165289307,79.26692292759215)\" d=\"M2.7386127875258306,0A2.7386127875258306,2.7386127875258306,0,1,1,-2.7386127875258306,0A2.7386127875258306,2.7386127875258306,0,1,1,2.7386127875258306,0\" fill=\"red\" stroke-width=\"2\" opacity=\"0.7\"></path><path aria-label=\"x: 1.55878503504; y: 2.41467821235\" role=\"graphics-symbol\" aria-roledescription=\"circle\" transform=\"translate(119.2506370007929,79.67381750326066)\" d=\"M2.7386127875258306,0A2.7386127875258306,2.7386127875258306,0,1,1,-2.7386127875258306,0A2.7386127875258306,2.7386127875258306,0,1,1,2.7386127875258306,0\" fill=\"red\" stroke-width=\"2\" opacity=\"0.7\"></path><path aria-label=\"x: -1.18189288569; y: -0.518736706153\" role=\"graphics-symbol\" aria-roledescription=\"circle\" transform=\"translate(69.42012935100313,144.86081569229526)\" d=\"M2.7386127875258306,0A2.7386127875258306,2.7386127875258306,0,1,1,-2.7386127875258306,0A2.7386127875258306,2.7386127875258306,0,1,1,2.7386127875258306,0\" fill=\"red\" stroke-width=\"2\" opacity=\"0.7\"></path><path aria-label=\"x: 4.19742336395; y: 4.27792496102\" role=\"graphics-symbol\" aria-roledescription=\"circle\" transform=\"translate(167.22587934460856,38.26833419948061)\" d=\"M2.7386127875258306,0A2.7386127875258306,2.7386127875258306,0,1,1,-2.7386127875258306,0A2.7386127875258306,2.7386127875258306,0,1,1,2.7386127875258306,0\" fill=\"red\" stroke-width=\"2\" opacity=\"0.7\"></path><path aria-label=\"x: -2.11387936482; y: -0.398965045674\" role=\"graphics-symbol\" aria-roledescription=\"circle\" transform=\"translate(52.47492063968395,142.19922323719226)\" d=\"M2.7386127875258306,0A2.7386127875258306,2.7386127875258306,0,1,1,-2.7386127875258306,0A2.7386127875258306,2.7386127875258306,0,1,1,2.7386127875258306,0\" fill=\"red\" stroke-width=\"2\" opacity=\"0.7\"></path><path aria-label=\"x: -0.593071282896; y: 0.571675826867\" role=\"graphics-symbol\" aria-roledescription=\"circle\" transform=\"translate(80.12597667462657,120.62942606961298)\" d=\"M2.7386127875258306,0A2.7386127875258306,2.7386127875258306,0,1,1,-2.7386127875258306,0A2.7386127875258306,2.7386127875258306,0,1,1,2.7386127875258306,0\" fill=\"red\" stroke-width=\"2\" opacity=\"0.7\"></path><path aria-label=\"x: 0.603577410427; y: 0.439563576051\" role=\"graphics-symbol\" aria-roledescription=\"circle\" transform=\"translate(101.88322564411996,123.56525386552649)\" d=\"M2.7386127875258306,0A2.7386127875258306,2.7386127875258306,0,1,1,-2.7386127875258306,0A2.7386127875258306,2.7386127875258306,0,1,1,2.7386127875258306,0\" fill=\"red\" stroke-width=\"2\" opacity=\"0.7\"></path><path aria-label=\"x: 2.71053930149; y: 3.78376579468\" role=\"graphics-symbol\" aria-roledescription=\"circle\" transform=\"translate(140.19162366354257,49.249649007180494)\" d=\"M2.7386127875258306,0A2.7386127875258306,2.7386127875258306,0,1,1,-2.7386127875258306,0A2.7386127875258306,2.7386127875258306,0,1,1,2.7386127875258306,0\" fill=\"red\" stroke-width=\"2\" opacity=\"0.7\"></path><path aria-label=\"x: -4.06154720713; y: -2.63710607102\" role=\"graphics-symbol\" aria-roledescription=\"circle\" transform=\"translate(17.06277805212019,191.9356904671573)\" d=\"M2.7386127875258306,0A2.7386127875258306,2.7386127875258306,0,1,1,-2.7386127875258306,0A2.7386127875258306,2.7386127875258306,0,1,1,2.7386127875258306,0\" fill=\"red\" stroke-width=\"2\" opacity=\"0.7\"></path><path aria-label=\"x: 1.24200012966; y: 2.71743771189\" role=\"graphics-symbol\" aria-roledescription=\"circle\" transform=\"translate(113.4909114483092,72.94582862466984)\" d=\"M2.7386127875258306,0A2.7386127875258306,2.7386127875258306,0,1,1,-2.7386127875258306,0A2.7386127875258306,2.7386127875258306,0,1,1,2.7386127875258306,0\" fill=\"red\" stroke-width=\"2\" opacity=\"0.7\"></path><path aria-label=\"x: 0.570564555328; y: 1.86960861801\" role=\"graphics-symbol\" aria-roledescription=\"circle\" transform=\"translate(101.28299191505073,91.78647515537017)\" d=\"M2.7386127875258306,0A2.7386127875258306,2.7386127875258306,0,1,1,-2.7386127875258306,0A2.7386127875258306,2.7386127875258306,0,1,1,2.7386127875258306,0\" fill=\"red\" stroke-width=\"2\" opacity=\"0.7\"></path><path aria-label=\"x: -1.93159825119; y: 0.356711662889\" role=\"graphics-symbol\" aria-roledescription=\"circle\" transform=\"translate(55.78912270567741,125.40640749134941)\" d=\"M2.7386127875258306,0A2.7386127875258306,2.7386127875258306,0,1,1,-2.7386127875258306,0A2.7386127875258306,2.7386127875258306,0,1,1,2.7386127875258306,0\" fill=\"red\" stroke-width=\"2\" opacity=\"0.7\"></path><path aria-label=\"x: 0.502458069349; y: 1.82255600187\" role=\"graphics-symbol\" aria-roledescription=\"circle\" transform=\"translate(100.04469216997424,92.83208884738026)\" d=\"M2.7386127875258306,0A2.7386127875258306,2.7386127875258306,0,1,1,-2.7386127875258306,0A2.7386127875258306,2.7386127875258306,0,1,1,2.7386127875258306,0\" fill=\"red\" stroke-width=\"2\" opacity=\"0.7\"></path><path aria-label=\"x: 0.350385228349; y: 0.878399350125\" role=\"graphics-symbol\" aria-roledescription=\"circle\" transform=\"translate(97.27973142453581,113.81334777500899)\" d=\"M2.7386127875258306,0A2.7386127875258306,2.7386127875258306,0,1,1,-2.7386127875258306,0A2.7386127875258306,2.7386127875258306,0,1,1,2.7386127875258306,0\" fill=\"red\" stroke-width=\"2\" opacity=\"0.7\"></path><path aria-label=\"x: -0.578141423721; y: 0.577824166259\" role=\"graphics-symbol\" aria-roledescription=\"circle\" transform=\"translate(80.39742865961958,120.49279630534593)\" d=\"M2.7386127875258306,0A2.7386127875258306,2.7386127875258306,0,1,1,-2.7386127875258306,0A2.7386127875258306,2.7386127875258306,0,1,1,2.7386127875258306,0\" fill=\"red\" stroke-width=\"2\" opacity=\"0.7\"></path><path aria-label=\"x: 2.4711788895; y: 2.87364205606\" role=\"graphics-symbol\" aria-roledescription=\"circle\" transform=\"translate(135.83961617269392,69.47462097643138)\" d=\"M2.7386127875258306,0A2.7386127875258306,2.7386127875258306,0,1,1,-2.7386127875258306,0A2.7386127875258306,2.7386127875258306,0,1,1,2.7386127875258306,0\" fill=\"red\" stroke-width=\"2\" opacity=\"0.7\"></path><path aria-label=\"x: -0.969508999442; y: 0.0744134427675\" role=\"graphics-symbol\" aria-roledescription=\"circle\" transform=\"translate(73.28165455560374,131.67970127183443)\" d=\"M2.7386127875258306,0A2.7386127875258306,2.7386127875258306,0,1,1,-2.7386127875258306,0A2.7386127875258306,2.7386127875258306,0,1,1,2.7386127875258306,0\" fill=\"red\" stroke-width=\"2\" opacity=\"0.7\"></path><path aria-label=\"x: 1.04084519951; y: 1.9224724288\" role=\"graphics-symbol\" aria-roledescription=\"circle\" transform=\"translate(109.83354908198596,90.61172380453498)\" d=\"M2.7386127875258306,0A2.7386127875258306,2.7386127875258306,0,1,1,-2.7386127875258306,0A2.7386127875258306,2.7386127875258306,0,1,1,2.7386127875258306,0\" fill=\"red\" stroke-width=\"2\" opacity=\"0.7\"></path><path aria-label=\"x: -0.275127150568; y: 1.10459861754\" role=\"graphics-symbol\" aria-roledescription=\"circle\" transform=\"translate(85.90677908058949,108.78669738809394)\" d=\"M2.7386127875258306,0A2.7386127875258306,2.7386127875258306,0,1,1,-2.7386127875258306,0A2.7386127875258306,2.7386127875258306,0,1,1,2.7386127875258306,0\" fill=\"red\" stroke-width=\"2\" opacity=\"0.7\"></path><path aria-label=\"x: 0.747311978589; y: 1.95420468899\" role=\"graphics-symbol\" aria-roledescription=\"circle\" transform=\"translate(104.4965814288841,89.90656246694653)\" d=\"M2.7386127875258306,0A2.7386127875258306,2.7386127875258306,0,1,1,-2.7386127875258306,0A2.7386127875258306,2.7386127875258306,0,1,1,2.7386127875258306,0\" fill=\"red\" stroke-width=\"2\" opacity=\"0.7\"></path><path aria-label=\"x: -0.359952610629; y: 1.69744681944\" role=\"graphics-symbol\" aria-roledescription=\"circle\" transform=\"translate(84.36449798856522,95.61229290129538)\" d=\"M2.7386127875258306,0A2.7386127875258306,2.7386127875258306,0,1,1,-2.7386127875258306,0A2.7386127875258306,2.7386127875258306,0,1,1,2.7386127875258306,0\" fill=\"red\" stroke-width=\"2\" opacity=\"0.7\"></path><path aria-label=\"x: 0.268167429233; y: 2.28222744076\" role=\"graphics-symbol\" aria-roledescription=\"circle\" transform=\"translate(95.78486234969824,82.61716798320562)\" d=\"M2.7386127875258306,0A2.7386127875258306,2.7386127875258306,0,1,1,-2.7386127875258306,0A2.7386127875258306,2.7386127875258306,0,1,1,2.7386127875258306,0\" fill=\"red\" stroke-width=\"2\" opacity=\"0.7\"></path><path aria-label=\"x: 2.5338796958; y: 2.92665724432\" role=\"graphics-symbol\" aria-roledescription=\"circle\" transform=\"translate(136.97963083268732,68.29650568177605)\" d=\"M2.7386127875258306,0A2.7386127875258306,2.7386127875258306,0,1,1,-2.7386127875258306,0A2.7386127875258306,2.7386127875258306,0,1,1,2.7386127875258306,0\" fill=\"red\" stroke-width=\"2\" opacity=\"0.7\"></path><path aria-label=\"x: 3.50312088547; y: 3.59009215853\" role=\"graphics-symbol\" aria-roledescription=\"circle\" transform=\"translate(154.6021979177109,53.553507588289676)\" d=\"M2.7386127875258306,0A2.7386127875258306,2.7386127875258306,0,1,1,-2.7386127875258306,0A2.7386127875258306,2.7386127875258306,0,1,1,2.7386127875258306,0\" fill=\"red\" stroke-width=\"2\" opacity=\"0.7\"></path><path aria-label=\"x: 0.17646073493; y: 1.10534070426\" role=\"graphics-symbol\" aria-roledescription=\"circle\" transform=\"translate(94.1174679078128,108.77020657205678)\" d=\"M2.7386127875258306,0A2.7386127875258306,2.7386127875258306,0,1,1,-2.7386127875258306,0A2.7386127875258306,2.7386127875258306,0,1,1,2.7386127875258306,0\" fill=\"red\" stroke-width=\"2\" opacity=\"0.7\"></path><path aria-label=\"x: 2.82132167469; y: 4.40173276525\" role=\"graphics-symbol\" aria-roledescription=\"circle\" transform=\"translate(142.20584863078355,35.51704966113958)\" d=\"M2.7386127875258306,0A2.7386127875258306,2.7386127875258306,0,1,1,-2.7386127875258306,0A2.7386127875258306,2.7386127875258306,0,1,1,2.7386127875258306,0\" fill=\"red\" stroke-width=\"2\" opacity=\"0.7\"></path><path aria-label=\"x: -1.00023882363; y: 1.10757737173\" role=\"graphics-symbol\" aria-roledescription=\"circle\" transform=\"translate(72.72293047952186,108.72050285053807)\" d=\"M2.7386127875258306,0A2.7386127875258306,2.7386127875258306,0,1,1,-2.7386127875258306,0A2.7386127875258306,2.7386127875258306,0,1,1,2.7386127875258306,0\" fill=\"red\" stroke-width=\"2\" opacity=\"0.7\"></path><path aria-label=\"x: -3.05777409109; y: -0.51290217126\" role=\"graphics-symbol\" aria-roledescription=\"circle\" transform=\"translate(35.313198343870006,144.73115936132436)\" d=\"M2.7386127875258306,0A2.7386127875258306,2.7386127875258306,0,1,1,-2.7386127875258306,0A2.7386127875258306,2.7386127875258306,0,1,1,2.7386127875258306,0\" fill=\"red\" stroke-width=\"2\" opacity=\"0.7\"></path><path aria-label=\"x: 2.78028330839; y: 2.44145401248\" role=\"graphics-symbol\" aria-roledescription=\"circle\" transform=\"translate(141.45969651619453,79.07879972274374)\" d=\"M2.7386127875258306,0A2.7386127875258306,2.7386127875258306,0,1,1,-2.7386127875258306,0A2.7386127875258306,2.7386127875258306,0,1,1,2.7386127875258306,0\" fill=\"red\" stroke-width=\"2\" opacity=\"0.7\"></path><path aria-label=\"x: 0.472614869176; y: 0.750548143312\" role=\"graphics-symbol\" aria-roledescription=\"circle\" transform=\"translate(99.50208853046796,116.65448570417878)\" d=\"M2.7386127875258306,0A2.7386127875258306,2.7386127875258306,0,1,1,-2.7386127875258306,0A2.7386127875258306,2.7386127875258306,0,1,1,2.7386127875258306,0\" fill=\"red\" stroke-width=\"2\" opacity=\"0.7\"></path><path aria-label=\"x: -0.519903572967; y: 1.63271438778\" role=\"graphics-symbol\" aria-roledescription=\"circle\" transform=\"translate(81.45629867333291,97.05079138259343)\" d=\"M2.7386127875258306,0A2.7386127875258306,2.7386127875258306,0,1,1,-2.7386127875258306,0A2.7386127875258306,2.7386127875258306,0,1,1,2.7386127875258306,0\" fill=\"red\" stroke-width=\"2\" opacity=\"0.7\"></path><path aria-label=\"x: 0.269669743333; y: 0.514886849491\" role=\"graphics-symbol\" aria-roledescription=\"circle\" transform=\"translate(95.81217715150638,121.89140334464672)\" d=\"M2.7386127875258306,0A2.7386127875258306,2.7386127875258306,0,1,1,-2.7386127875258306,0A2.7386127875258306,2.7386127875258306,0,1,1,2.7386127875258306,0\" fill=\"red\" stroke-width=\"2\" opacity=\"0.7\"></path><path aria-label=\"x: -0.907810965636; y: 1.60500890792\" role=\"graphics-symbol\" aria-roledescription=\"circle\" transform=\"translate(74.40343698843456,97.66646871280781)\" d=\"M2.7386127875258306,0A2.7386127875258306,2.7386127875258306,0,1,1,-2.7386127875258306,0A2.7386127875258306,2.7386127875258306,0,1,1,2.7386127875258306,0\" fill=\"red\" stroke-width=\"2\" opacity=\"0.7\"></path><path aria-label=\"x: 3.22860330714; y: 3.37257057766\" role=\"graphics-symbol\" aria-roledescription=\"circle\" transform=\"translate(149.6109692208075,58.38732049633588)\" d=\"M2.7386127875258306,0A2.7386127875258306,2.7386127875258306,0,1,1,-2.7386127875258306,0A2.7386127875258306,2.7386127875258306,0,1,1,2.7386127875258306,0\" fill=\"red\" stroke-width=\"2\" opacity=\"0.7\"></path><path aria-label=\"x: -0.325515078994; y: 0.574340412637\" role=\"graphics-symbol\" aria-roledescription=\"circle\" transform=\"translate(84.99063492737423,120.57021305251104)\" d=\"M2.7386127875258306,0A2.7386127875258306,2.7386127875258306,0,1,1,-2.7386127875258306,0A2.7386127875258306,2.7386127875258306,0,1,1,2.7386127875258306,0\" fill=\"red\" stroke-width=\"2\" opacity=\"0.7\"></path><path aria-label=\"x: 2.56450365121; y: 2.39852321627\" role=\"graphics-symbol\" aria-roledescription=\"circle\" transform=\"translate(137.53643002205646,80.03281741611943)\" d=\"M2.7386127875258306,0A2.7386127875258306,2.7386127875258306,0,1,1,-2.7386127875258306,0A2.7386127875258306,2.7386127875258306,0,1,1,2.7386127875258306,0\" fill=\"red\" stroke-width=\"2\" opacity=\"0.7\"></path><path aria-label=\"x: 1.02466272805; y: 0.239674882795\" role=\"graphics-symbol\" aria-roledescription=\"circle\" transform=\"translate(109.53932232815717,128.0072248267748)\" d=\"M2.7386127875258306,0A2.7386127875258306,2.7386127875258306,0,1,1,-2.7386127875258306,0A2.7386127875258306,2.7386127875258306,0,1,1,2.7386127875258306,0\" fill=\"red\" stroke-width=\"2\" opacity=\"0.7\"></path><path aria-label=\"x: 1.46445970366; y: 3.23789589144\" role=\"graphics-symbol\" aria-roledescription=\"circle\" transform=\"translate(117.53563097556936,61.380091301399005)\" d=\"M2.7386127875258306,0A2.7386127875258306,2.7386127875258306,0,1,1,-2.7386127875258306,0A2.7386127875258306,2.7386127875258306,0,1,1,2.7386127875258306,0\" fill=\"red\" stroke-width=\"2\" opacity=\"0.7\"></path><path aria-label=\"x: 2.39826793469; y: 3.33174847408\" role=\"graphics-symbol\" aria-roledescription=\"circle\" transform=\"translate(134.5139624489736,59.294478353790495)\" d=\"M2.7386127875258306,0A2.7386127875258306,2.7386127875258306,0,1,1,-2.7386127875258306,0A2.7386127875258306,2.7386127875258306,0,1,1,2.7386127875258306,0\" fill=\"red\" stroke-width=\"2\" opacity=\"0.7\"></path><path aria-label=\"x: 2.38369269495; y: 2.47126650157\" role=\"graphics-symbol\" aria-roledescription=\"circle\" transform=\"translate(134.248958089923,78.41629996508502)\" d=\"M2.7386127875258306,0A2.7386127875258306,2.7386127875258306,0,1,1,-2.7386127875258306,0A2.7386127875258306,2.7386127875258306,0,1,1,2.7386127875258306,0\" fill=\"red\" stroke-width=\"2\" opacity=\"0.7\"></path><path aria-label=\"x: 1.58041780455; y: 2.18602676463\" role=\"graphics-symbol\" aria-roledescription=\"circle\" transform=\"translate(119.64396008281174,84.75496078605227)\" d=\"M2.7386127875258306,0A2.7386127875258306,2.7386127875258306,0,1,1,-2.7386127875258306,0A2.7386127875258306,2.7386127875258306,0,1,1,2.7386127875258306,0\" fill=\"red\" stroke-width=\"2\" opacity=\"0.7\"></path><path aria-label=\"x: -1.8892572345; y: -0.597829098425\" role=\"graphics-symbol\" aria-roledescription=\"circle\" transform=\"translate(56.55895937276145,146.61842440943568)\" d=\"M2.7386127875258306,0A2.7386127875258306,2.7386127875258306,0,1,1,-2.7386127875258306,0A2.7386127875258306,2.7386127875258306,0,1,1,2.7386127875258306,0\" fill=\"red\" stroke-width=\"2\" opacity=\"0.7\"></path><path aria-label=\"x: 2.53722074062; y: 3.50205824745\" role=\"graphics-symbol\" aria-roledescription=\"circle\" transform=\"translate(137.04037710211654,55.50981672329234)\" d=\"M2.7386127875258306,0A2.7386127875258306,2.7386127875258306,0,1,1,-2.7386127875258306,0A2.7386127875258306,2.7386127875258306,0,1,1,2.7386127875258306,0\" fill=\"red\" stroke-width=\"2\" opacity=\"0.7\"></path><path aria-label=\"x: 1.88787505815; y: 2.40696369811\" role=\"graphics-symbol\" aria-roledescription=\"circle\" transform=\"translate(125.23409196637061,79.84525115318147)\" d=\"M2.7386127875258306,0A2.7386127875258306,2.7386127875258306,0,1,1,-2.7386127875258306,0A2.7386127875258306,2.7386127875258306,0,1,1,2.7386127875258306,0\" fill=\"red\" stroke-width=\"2\" opacity=\"0.7\"></path><path aria-label=\"x: 1.80492642646; y: 2.51905519252\" role=\"graphics-symbol\" aria-roledescription=\"circle\" transform=\"translate(123.7259350265965,77.35432905503458)\" d=\"M2.7386127875258306,0A2.7386127875258306,2.7386127875258306,0,1,1,-2.7386127875258306,0A2.7386127875258306,2.7386127875258306,0,1,1,2.7386127875258306,0\" fill=\"red\" stroke-width=\"2\" opacity=\"0.7\"></path><path aria-label=\"x: 2.7477144568; y: 1.94327112501\" role=\"graphics-symbol\" aria-roledescription=\"circle\" transform=\"translate(140.86753557818696,90.14953055543336)\" d=\"M2.7386127875258306,0A2.7386127875258306,2.7386127875258306,0,1,1,-2.7386127875258306,0A2.7386127875258306,2.7386127875258306,0,1,1,2.7386127875258306,0\" fill=\"red\" stroke-width=\"2\" opacity=\"0.7\"></path><path aria-label=\"x: 1.52094763069; y: 2.22922458774\" role=\"graphics-symbol\" aria-roledescription=\"circle\" transform=\"translate(118.5626841943652,83.79500916135572)\" d=\"M2.7386127875258306,0A2.7386127875258306,2.7386127875258306,0,1,1,-2.7386127875258306,0A2.7386127875258306,2.7386127875258306,0,1,1,2.7386127875258306,0\" fill=\"red\" stroke-width=\"2\" opacity=\"0.7\"></path><path aria-label=\"x: 1.12554885642; y: 1.70382336935\" role=\"graphics-symbol\" aria-roledescription=\"circle\" transform=\"translate(111.37361557127052,95.47059179218354)\" d=\"M2.7386127875258306,0A2.7386127875258306,2.7386127875258306,0,1,1,-2.7386127875258306,0A2.7386127875258306,2.7386127875258306,0,1,1,2.7386127875258306,0\" fill=\"red\" stroke-width=\"2\" opacity=\"0.7\"></path><path aria-label=\"x: 0.254406945792; y: 1.97611557619\" role=\"graphics-symbol\" aria-roledescription=\"circle\" transform=\"translate(95.53467174166379,89.41965386254498)\" d=\"M2.7386127875258306,0A2.7386127875258306,2.7386127875258306,0,1,1,-2.7386127875258306,0A2.7386127875258306,2.7386127875258306,0,1,1,2.7386127875258306,0\" fill=\"red\" stroke-width=\"2\" opacity=\"0.7\"></path><path aria-label=\"x: 0.759780191942; y: 1.26474101525\" role=\"graphics-symbol\" aria-roledescription=\"circle\" transform=\"translate(104.72327621712454,105.22797743884504)\" d=\"M2.7386127875258306,0A2.7386127875258306,2.7386127875258306,0,1,1,-2.7386127875258306,0A2.7386127875258306,2.7386127875258306,0,1,1,2.7386127875258306,0\" fill=\"red\" stroke-width=\"2\" opacity=\"0.7\"></path><path aria-label=\"x: -1.69759206661; y: 0.0370772449409\" role=\"graphics-symbol\" aria-roledescription=\"circle\" transform=\"translate(60.043780607082006,132.50939455686785)\" d=\"M2.7386127875258306,0A2.7386127875258306,2.7386127875258306,0,1,1,-2.7386127875258306,0A2.7386127875258306,2.7386127875258306,0,1,1,2.7386127875258306,0\" fill=\"red\" stroke-width=\"2\" opacity=\"0.7\"></path><path aria-label=\"x: -2.05899548878; y: 0.888927323717\" role=\"graphics-symbol\" aria-roledescription=\"circle\" transform=\"translate(53.47280929499224,113.57939280629195)\" d=\"M2.7386127875258306,0A2.7386127875258306,2.7386127875258306,0,1,1,-2.7386127875258306,0A2.7386127875258306,2.7386127875258306,0,1,1,2.7386127875258306,0\" fill=\"red\" stroke-width=\"2\" opacity=\"0.7\"></path><path aria-label=\"x: 3.15987367383; y: 3.01676391051\" role=\"graphics-symbol\" aria-roledescription=\"circle\" transform=\"translate(148.36133952419047,66.29413532193576)\" d=\"M2.7386127875258306,0A2.7386127875258306,2.7386127875258306,0,1,1,-2.7386127875258306,0A2.7386127875258306,2.7386127875258306,0,1,1,2.7386127875258306,0\" fill=\"red\" stroke-width=\"2\" opacity=\"0.7\"></path><path aria-label=\"x: 2.5282424541; y: 0.971600015141\" role=\"graphics-symbol\" aria-roledescription=\"circle\" transform=\"translate(136.87713552914002,111.7422218857542)\" d=\"M2.7386127875258306,0A2.7386127875258306,2.7386127875258306,0,1,1,-2.7386127875258306,0A2.7386127875258306,2.7386127875258306,0,1,1,2.7386127875258306,0\" fill=\"red\" stroke-width=\"2\" opacity=\"0.7\"></path><path aria-label=\"x: 3.11801725097; y: 3.55207721694\" role=\"graphics-symbol\" aria-roledescription=\"circle\" transform=\"translate(147.6003136539507,54.3982840680703)\" d=\"M2.7386127875258306,0A2.7386127875258306,2.7386127875258306,0,1,1,-2.7386127875258306,0A2.7386127875258306,2.7386127875258306,0,1,1,2.7386127875258306,0\" fill=\"red\" stroke-width=\"2\" opacity=\"0.7\"></path><path aria-label=\"x: 1.62014831285; y: 0.566612837241\" role=\"graphics-symbol\" aria-roledescription=\"circle\" transform=\"translate(120.3663329608603,120.74193695020861)\" d=\"M2.7386127875258306,0A2.7386127875258306,2.7386127875258306,0,1,1,-2.7386127875258306,0A2.7386127875258306,2.7386127875258306,0,1,1,2.7386127875258306,0\" fill=\"red\" stroke-width=\"2\" opacity=\"0.7\"></path><path aria-label=\"x: 1.03632900978; y: 0.863606257132\" role=\"graphics-symbol\" aria-roledescription=\"circle\" transform=\"translate(109.75143654141132,114.14208317483715)\" d=\"M2.7386127875258306,0A2.7386127875258306,2.7386127875258306,0,1,1,-2.7386127875258306,0A2.7386127875258306,2.7386127875258306,0,1,1,2.7386127875258306,0\" fill=\"red\" stroke-width=\"2\" opacity=\"0.7\"></path><path aria-label=\"x: 3.7255654256; y: 4.2697821518\" role=\"graphics-symbol\" aria-roledescription=\"circle\" transform=\"translate(158.64664410173546,38.44928551562201)\" d=\"M2.7386127875258306,0A2.7386127875258306,2.7386127875258306,0,1,1,-2.7386127875258306,0A2.7386127875258306,2.7386127875258306,0,1,1,2.7386127875258306,0\" fill=\"red\" stroke-width=\"2\" opacity=\"0.7\"></path><path aria-label=\"x: -0.827115162503; y: 1.13857710962\" role=\"graphics-symbol\" aria-roledescription=\"circle\" transform=\"translate(75.87063340902827,108.0316197861976)\" d=\"M2.7386127875258306,0A2.7386127875258306,2.7386127875258306,0,1,1,-2.7386127875258306,0A2.7386127875258306,2.7386127875258306,0,1,1,2.7386127875258306,0\" fill=\"red\" stroke-width=\"2\" opacity=\"0.7\"></path><path aria-label=\"x: 2.39551161255; y: 1.13262905356\" role=\"graphics-symbol\" aria-roledescription=\"circle\" transform=\"translate(134.4638475008993,108.16379880979481)\" d=\"M2.7386127875258306,0A2.7386127875258306,2.7386127875258306,0,1,1,-2.7386127875258306,0A2.7386127875258306,2.7386127875258306,0,1,1,2.7386127875258306,0\" fill=\"red\" stroke-width=\"2\" opacity=\"0.7\"></path><path aria-label=\"x: 2.82511912928; y: 3.49133172869\" role=\"graphics-symbol\" aria-roledescription=\"circle\" transform=\"translate(142.27489325957328,55.748183806809706)\" d=\"M2.7386127875258306,0A2.7386127875258306,2.7386127875258306,0,1,1,-2.7386127875258306,0A2.7386127875258306,2.7386127875258306,0,1,1,2.7386127875258306,0\" fill=\"red\" stroke-width=\"2\" opacity=\"0.7\"></path><path aria-label=\"x: 1.74646025166; y: 3.22446949461\" role=\"graphics-symbol\" aria-roledescription=\"circle\" transform=\"translate(122.6629136665274,61.6784556753194)\" d=\"M2.7386127875258306,0A2.7386127875258306,2.7386127875258306,0,1,1,-2.7386127875258306,0A2.7386127875258306,2.7386127875258306,0,1,1,2.7386127875258306,0\" fill=\"red\" stroke-width=\"2\" opacity=\"0.7\"></path><path aria-label=\"x: 1.81555940886; y: 2.48749642482\" role=\"graphics-symbol\" aria-roledescription=\"circle\" transform=\"translate(123.91926197927422,78.05563500394265)\" d=\"M2.7386127875258306,0A2.7386127875258306,2.7386127875258306,0,1,1,-2.7386127875258306,0A2.7386127875258306,2.7386127875258306,0,1,1,2.7386127875258306,0\" fill=\"red\" stroke-width=\"2\" opacity=\"0.7\"></path><path aria-label=\"x: -2.997939678; y: -0.315632831947\" role=\"graphics-symbol\" aria-roledescription=\"circle\" transform=\"translate(36.40109676369198,140.3473962654809)\" d=\"M2.7386127875258306,0A2.7386127875258306,2.7386127875258306,0,1,1,-2.7386127875258306,0A2.7386127875258306,2.7386127875258306,0,1,1,2.7386127875258306,0\" fill=\"red\" stroke-width=\"2\" opacity=\"0.7\"></path><path aria-label=\"x: -0.633448167421; y: 0.511329365094\" role=\"graphics-symbol\" aria-roledescription=\"circle\" transform=\"translate(79.39185150143342,121.97045855345623)\" d=\"M2.7386127875258306,0A2.7386127875258306,2.7386127875258306,0,1,1,-2.7386127875258306,0A2.7386127875258306,2.7386127875258306,0,1,1,2.7386127875258306,0\" fill=\"red\" stroke-width=\"2\" opacity=\"0.7\"></path><path aria-label=\"x: -2.02532180112; y: -0.342504298407\" role=\"graphics-symbol\" aria-roledescription=\"circle\" transform=\"translate(54.08505816138768,140.94453996460194)\" d=\"M2.7386127875258306,0A2.7386127875258306,2.7386127875258306,0,1,1,-2.7386127875258306,0A2.7386127875258306,2.7386127875258306,0,1,1,2.7386127875258306,0\" fill=\"red\" stroke-width=\"2\" opacity=\"0.7\"></path><path aria-label=\"x: 3.94738253896; y: 4.16832539495\" role=\"graphics-symbol\" aria-roledescription=\"circle\" transform=\"translate(162.67968252655558,40.70388011226993)\" d=\"M2.7386127875258306,0A2.7386127875258306,2.7386127875258306,0,1,1,-2.7386127875258306,0A2.7386127875258306,2.7386127875258306,0,1,1,2.7386127875258306,0\" fill=\"red\" stroke-width=\"2\" opacity=\"0.7\"></path><path aria-label=\"x: 2.38165658965; y: 3.47311884372\" role=\"graphics-symbol\" aria-roledescription=\"circle\" transform=\"translate(134.21193799360412,56.15291458393197)\" d=\"M2.7386127875258306,0A2.7386127875258306,2.7386127875258306,0,1,1,-2.7386127875258306,0A2.7386127875258306,2.7386127875258306,0,1,1,2.7386127875258306,0\" fill=\"red\" stroke-width=\"2\" opacity=\"0.7\"></path><path aria-label=\"x: 0.32521513379; y: 1.96977018384\" role=\"graphics-symbol\" aria-roledescription=\"circle\" transform=\"translate(96.8220933416352,89.56066258138466)\" d=\"M2.7386127875258306,0A2.7386127875258306,2.7386127875258306,0,1,1,-2.7386127875258306,0A2.7386127875258306,2.7386127875258306,0,1,1,2.7386127875258306,0\" fill=\"red\" stroke-width=\"2\" opacity=\"0.7\"></path><path aria-label=\"x: 0.600700708126; y: 2.24129001523\" role=\"graphics-symbol\" aria-roledescription=\"circle\" transform=\"translate(101.8309219659351,83.52688855054669)\" d=\"M2.7386127875258306,0A2.7386127875258306,2.7386127875258306,0,1,1,-2.7386127875258306,0A2.7386127875258306,2.7386127875258306,0,1,1,2.7386127875258306,0\" fill=\"red\" stroke-width=\"2\" opacity=\"0.7\"></path><path aria-label=\"x: 1.61195223819; y: 3.02208821511\" role=\"graphics-symbol\" aria-roledescription=\"circle\" transform=\"translate(120.21731342171311,66.17581744204841)\" d=\"M2.7386127875258306,0A2.7386127875258306,2.7386127875258306,0,1,1,-2.7386127875258306,0A2.7386127875258306,2.7386127875258306,0,1,1,2.7386127875258306,0\" fill=\"red\" stroke-width=\"2\" opacity=\"0.7\"></path><path aria-label=\"x: 2.90217499702; y: 3.25190762375\" role=\"graphics-symbol\" aria-roledescription=\"circle\" transform=\"translate(143.6759090367856,61.06871947217674)\" d=\"M2.7386127875258306,0A2.7386127875258306,2.7386127875258306,0,1,1,-2.7386127875258306,0A2.7386127875258306,2.7386127875258306,0,1,1,2.7386127875258306,0\" fill=\"red\" stroke-width=\"2\" opacity=\"0.7\"></path><path aria-label=\"x: 0.577254950621; y: 2.64998825022\" role=\"graphics-symbol\" aria-roledescription=\"circle\" transform=\"translate(101.40463546583706,74.44470555056209)\" d=\"M2.7386127875258306,0A2.7386127875258306,2.7386127875258306,0,1,1,-2.7386127875258306,0A2.7386127875258306,2.7386127875258306,0,1,1,2.7386127875258306,0\" fill=\"red\" stroke-width=\"2\" opacity=\"0.7\"></path><path aria-label=\"x: 3.86588604264; y: 3.35512558964\" role=\"graphics-symbol\" aria-roledescription=\"circle\" transform=\"translate(161.19792804806846,58.77498689685525)\" d=\"M2.7386127875258306,0A2.7386127875258306,2.7386127875258306,0,1,1,-2.7386127875258306,0A2.7386127875258306,2.7386127875258306,0,1,1,2.7386127875258306,0\" fill=\"red\" stroke-width=\"2\" opacity=\"0.7\"></path><path aria-label=\"x: 2.85304683607; y: 4.12846403528\" role=\"graphics-symbol\" aria-roledescription=\"circle\" transform=\"translate(142.78266974679767,41.589688104792174)\" d=\"M2.7386127875258306,0A2.7386127875258306,2.7386127875258306,0,1,1,-2.7386127875258306,0A2.7386127875258306,2.7386127875258306,0,1,1,2.7386127875258306,0\" fill=\"red\" stroke-width=\"2\" opacity=\"0.7\"></path><path aria-label=\"x: 1.65740863083; y: 1.26272034786\" role=\"graphics-symbol\" aria-roledescription=\"circle\" transform=\"translate(121.0437932878881,105.27288115871119)\" d=\"M2.7386127875258306,0A2.7386127875258306,2.7386127875258306,0,1,1,-2.7386127875258306,0A2.7386127875258306,2.7386127875258306,0,1,1,2.7386127875258306,0\" fill=\"red\" stroke-width=\"2\" opacity=\"0.7\"></path><path aria-label=\"x: 2.62709870823; y: 3.56479634518\" role=\"graphics-symbol\" aria-roledescription=\"circle\" transform=\"translate(138.67452196775412,54.11563677388058)\" d=\"M2.7386127875258306,0A2.7386127875258306,2.7386127875258306,0,1,1,-2.7386127875258306,0A2.7386127875258306,2.7386127875258306,0,1,1,2.7386127875258306,0\" fill=\"red\" stroke-width=\"2\" opacity=\"0.7\"></path><path aria-label=\"x: -0.839698915192; y: 1.23732894416\" role=\"graphics-symbol\" aria-roledescription=\"circle\" transform=\"translate(75.64183790559241,105.83713457423501)\" d=\"M2.7386127875258306,0A2.7386127875258306,2.7386127875258306,0,1,1,-2.7386127875258306,0A2.7386127875258306,2.7386127875258306,0,1,1,2.7386127875258306,0\" fill=\"red\" stroke-width=\"2\" opacity=\"0.7\"></path><path aria-label=\"x: 0.514090549327; y: 0.925602448397\" role=\"graphics-symbol\" aria-roledescription=\"circle\" transform=\"translate(100.25619180595122,112.76439003563065)\" d=\"M2.7386127875258306,0A2.7386127875258306,2.7386127875258306,0,1,1,-2.7386127875258306,0A2.7386127875258306,2.7386127875258306,0,1,1,2.7386127875258306,0\" fill=\"red\" stroke-width=\"2\" opacity=\"0.7\"></path><path aria-label=\"x: 1.36503777758; y: 2.32911330595\" role=\"graphics-symbol\" aria-roledescription=\"circle\" transform=\"translate(115.72795959236105,81.57525986787371)\" d=\"M2.7386127875258306,0A2.7386127875258306,2.7386127875258306,0,1,1,-2.7386127875258306,0A2.7386127875258306,2.7386127875258306,0,1,1,2.7386127875258306,0\" fill=\"red\" stroke-width=\"2\" opacity=\"0.7\"></path><path aria-label=\"x: 1.1141864516; y: 2.83395102897\" role=\"graphics-symbol\" aria-roledescription=\"circle\" transform=\"translate(111.16702639267537,70.35664380062394)\" d=\"M2.7386127875258306,0A2.7386127875258306,2.7386127875258306,0,1,1,-2.7386127875258306,0A2.7386127875258306,2.7386127875258306,0,1,1,2.7386127875258306,0\" fill=\"red\" stroke-width=\"2\" opacity=\"0.7\"></path><path aria-label=\"x: 1.08932224163; y: 2.31532466481\" role=\"graphics-symbol\" aria-roledescription=\"circle\" transform=\"translate(110.71494984790743,81.88167411529024)\" d=\"M2.7386127875258306,0A2.7386127875258306,2.7386127875258306,0,1,1,-2.7386127875258306,0A2.7386127875258306,2.7386127875258306,0,1,1,2.7386127875258306,0\" fill=\"red\" stroke-width=\"2\" opacity=\"0.7\"></path><path aria-label=\"x: 0.770549455114; y: 2.00380932754\" role=\"graphics-symbol\" aria-roledescription=\"circle\" transform=\"translate(104.91908100207645,88.80423716579362)\" d=\"M2.7386127875258306,0A2.7386127875258306,2.7386127875258306,0,1,1,-2.7386127875258306,0A2.7386127875258306,2.7386127875258306,0,1,1,2.7386127875258306,0\" fill=\"red\" stroke-width=\"2\" opacity=\"0.7\"></path><path aria-label=\"x: 0.485873962478; y: 1.49804773989\" role=\"graphics-symbol\" aria-roledescription=\"circle\" transform=\"translate(99.7431629541364,100.04338355794195)\" d=\"M2.7386127875258306,0A2.7386127875258306,2.7386127875258306,0,1,1,-2.7386127875258306,0A2.7386127875258306,2.7386127875258306,0,1,1,2.7386127875258306,0\" fill=\"red\" stroke-width=\"2\" opacity=\"0.7\"></path><path aria-label=\"x: -0.617452294967; y: 1.85666441348\" role=\"graphics-symbol\" aria-roledescription=\"circle\" transform=\"translate(79.68268554605952,92.07412414496356)\" d=\"M2.7386127875258306,0A2.7386127875258306,2.7386127875258306,0,1,1,-2.7386127875258306,0A2.7386127875258306,2.7386127875258306,0,1,1,2.7386127875258306,0\" fill=\"red\" stroke-width=\"2\" opacity=\"0.7\"></path><path aria-label=\"x: -1.65595337832; y: -0.339792772536\" role=\"graphics-symbol\" aria-roledescription=\"circle\" transform=\"translate(60.80084766688486,140.88428383414075)\" d=\"M2.7386127875258306,0A2.7386127875258306,2.7386127875258306,0,1,1,-2.7386127875258306,0A2.7386127875258306,2.7386127875258306,0,1,1,2.7386127875258306,0\" fill=\"red\" stroke-width=\"2\" opacity=\"0.7\"></path><path aria-label=\"x: 4.91870001273; y: 5.520257221\" role=\"graphics-symbol\" aria-roledescription=\"circle\" transform=\"translate(180.34000023141223,10.660950644474143)\" d=\"M2.7386127875258306,0A2.7386127875258306,2.7386127875258306,0,1,1,-2.7386127875258306,0A2.7386127875258306,2.7386127875258306,0,1,1,2.7386127875258306,0\" fill=\"red\" stroke-width=\"2\" opacity=\"0.7\"></path><path aria-label=\"x: 0.58320619055; y: 2.16018629622\" role=\"graphics-symbol\" aria-roledescription=\"circle\" transform=\"translate(101.51283982818606,85.32919341735798)\" d=\"M2.7386127875258306,0A2.7386127875258306,2.7386127875258306,0,1,1,-2.7386127875258306,0A2.7386127875258306,2.7386127875258306,0,1,1,2.7386127875258306,0\" fill=\"red\" stroke-width=\"2\" opacity=\"0.7\"></path><path aria-label=\"x: 1.70324587714; y: 3.00597429967\" role=\"graphics-symbol\" aria-roledescription=\"circle\" transform=\"translate(121.87719776617378,66.53390445170382)\" d=\"M2.7386127875258306,0A2.7386127875258306,2.7386127875258306,0,1,1,-2.7386127875258306,0A2.7386127875258306,2.7386127875258306,0,1,1,2.7386127875258306,0\" fill=\"red\" stroke-width=\"2\" opacity=\"0.7\"></path><path aria-label=\"x: 1.6711984151; y: 0.955670063615\" role=\"graphics-symbol\" aria-roledescription=\"circle\" transform=\"translate(121.29451663817366,112.0962208085624)\" d=\"M2.7386127875258306,0A2.7386127875258306,2.7386127875258306,0,1,1,-2.7386127875258306,0A2.7386127875258306,2.7386127875258306,0,1,1,2.7386127875258306,0\" fill=\"red\" stroke-width=\"2\" opacity=\"0.7\"></path><path aria-label=\"x: 2.0227940288; y: 2.50928536298\" role=\"graphics-symbol\" aria-roledescription=\"circle\" transform=\"translate(127.68716416007966,77.5714363783143)\" d=\"M2.7386127875258306,0A2.7386127875258306,2.7386127875258306,0,1,1,-2.7386127875258306,0A2.7386127875258306,2.7386127875258306,0,1,1,2.7386127875258306,0\" fill=\"red\" stroke-width=\"2\" opacity=\"0.7\"></path><path aria-label=\"x: 3.43297028343; y: 2.90394546626\" role=\"graphics-symbol\" aria-roledescription=\"circle\" transform=\"translate(153.32673242598707,68.80121186094854)\" d=\"M2.7386127875258306,0A2.7386127875258306,2.7386127875258306,0,1,1,-2.7386127875258306,0A2.7386127875258306,2.7386127875258306,0,1,1,2.7386127875258306,0\" fill=\"red\" stroke-width=\"2\" opacity=\"0.7\"></path><path aria-label=\"x: -1.21794411462; y: -0.413108763006\" role=\"graphics-symbol\" aria-roledescription=\"circle\" transform=\"translate(68.76465246149698,142.51352806679648)\" d=\"M2.7386127875258306,0A2.7386127875258306,2.7386127875258306,0,1,1,-2.7386127875258306,0A2.7386127875258306,2.7386127875258306,0,1,1,2.7386127875258306,0\" fill=\"red\" stroke-width=\"2\" opacity=\"0.7\"></path><path aria-label=\"x: 0.58419710795; y: 1.77519206441\" role=\"graphics-symbol\" aria-roledescription=\"circle\" transform=\"translate(101.53085650818096,93.88462079087647)\" d=\"M2.7386127875258306,0A2.7386127875258306,2.7386127875258306,0,1,1,-2.7386127875258306,0A2.7386127875258306,2.7386127875258306,0,1,1,2.7386127875258306,0\" fill=\"red\" stroke-width=\"2\" opacity=\"0.7\"></path><path aria-label=\"x: 0.634880242769; y: 2.24588204286\" role=\"graphics-symbol\" aria-roledescription=\"circle\" transform=\"translate(102.45236805033954,83.42484349189752)\" d=\"M2.7386127875258306,0A2.7386127875258306,2.7386127875258306,0,1,1,-2.7386127875258306,0A2.7386127875258306,2.7386127875258306,0,1,1,2.7386127875258306,0\" fill=\"red\" stroke-width=\"2\" opacity=\"0.7\"></path><path aria-label=\"x: 2.00052156215; y: 3.55529354582\" role=\"graphics-symbol\" aria-roledescription=\"circle\" transform=\"translate(127.28221022085498,54.326810092816345)\" d=\"M2.7386127875258306,0A2.7386127875258306,2.7386127875258306,0,1,1,-2.7386127875258306,0A2.7386127875258306,2.7386127875258306,0,1,1,2.7386127875258306,0\" fill=\"red\" stroke-width=\"2\" opacity=\"0.7\"></path><path aria-label=\"x: 0.876205108569; y: 0.760929788486\" role=\"graphics-symbol\" aria-roledescription=\"circle\" transform=\"translate(106.84009288307269,116.4237824780989)\" d=\"M2.7386127875258306,0A2.7386127875258306,2.7386127875258306,0,1,1,-2.7386127875258306,0A2.7386127875258306,2.7386127875258306,0,1,1,2.7386127875258306,0\" fill=\"red\" stroke-width=\"2\" opacity=\"0.7\"></path><path aria-label=\"x: 1.03409752758; y: 1.26162750315\" role=\"graphics-symbol\" aria-roledescription=\"circle\" transform=\"translate(109.71086413781379,105.29716659657313)\" d=\"M2.7386127875258306,0A2.7386127875258306,2.7386127875258306,0,1,1,-2.7386127875258306,0A2.7386127875258306,2.7386127875258306,0,1,1,2.7386127875258306,0\" fill=\"red\" stroke-width=\"2\" opacity=\"0.7\"></path><path aria-label=\"x: 4.01190329084; y: 3.33912712089\" role=\"graphics-symbol\" aria-roledescription=\"circle\" transform=\"translate(163.85278710619255,59.13050842466401)\" d=\"M2.7386127875258306,0A2.7386127875258306,2.7386127875258306,0,1,1,-2.7386127875258306,0A2.7386127875258306,2.7386127875258306,0,1,1,2.7386127875258306,0\" fill=\"red\" stroke-width=\"2\" opacity=\"0.7\"></path><path aria-label=\"x: 3.35369482102; y: 3.2079707824\" role=\"graphics-symbol\" aria-roledescription=\"circle\" transform=\"translate(151.8853603821835,62.04509372445934)\" d=\"M2.7386127875258306,0A2.7386127875258306,2.7386127875258306,0,1,1,-2.7386127875258306,0A2.7386127875258306,2.7386127875258306,0,1,1,2.7386127875258306,0\" fill=\"red\" stroke-width=\"2\" opacity=\"0.7\"></path><path aria-label=\"x: 1.60832649822; y: 1.71854041355\" role=\"graphics-symbol\" aria-roledescription=\"circle\" transform=\"translate(120.1513908768044,95.14354636556581)\" d=\"M2.7386127875258306,0A2.7386127875258306,2.7386127875258306,0,1,1,-2.7386127875258306,0A2.7386127875258306,2.7386127875258306,0,1,1,2.7386127875258306,0\" fill=\"red\" stroke-width=\"2\" opacity=\"0.7\"></path><path aria-label=\"x: 2.08712056788; y: 1.9551787522\" role=\"graphics-symbol\" aria-roledescription=\"circle\" transform=\"translate(128.8567375978671,89.88491661785565)\" d=\"M2.7386127875258306,0A2.7386127875258306,2.7386127875258306,0,1,1,-2.7386127875258306,0A2.7386127875258306,2.7386127875258306,0,1,1,2.7386127875258306,0\" fill=\"red\" stroke-width=\"2\" opacity=\"0.7\"></path><path aria-label=\"x: -2.43757480009; y: -1.00474227307\" role=\"graphics-symbol\" aria-roledescription=\"circle\" transform=\"translate(46.58954908924829,155.66093940148883)\" d=\"M2.7386127875258306,0A2.7386127875258306,2.7386127875258306,0,1,1,-2.7386127875258306,0A2.7386127875258306,2.7386127875258306,0,1,1,2.7386127875258306,0\" fill=\"red\" stroke-width=\"2\" opacity=\"0.7\"></path><path aria-label=\"x: 1.29561755628; y: 0.603034490122\" role=\"graphics-symbol\" aria-roledescription=\"circle\" transform=\"translate(114.46577375054487,119.93256688617451)\" d=\"M2.7386127875258306,0A2.7386127875258306,2.7386127875258306,0,1,1,-2.7386127875258306,0A2.7386127875258306,2.7386127875258306,0,1,1,2.7386127875258306,0\" fill=\"red\" stroke-width=\"2\" opacity=\"0.7\"></path><path aria-label=\"x: 1.68590118226; y: 3.29510379906\" role=\"graphics-symbol\" aria-roledescription=\"circle\" transform=\"translate(121.56183967747418,60.108804465364415)\" d=\"M2.7386127875258306,0A2.7386127875258306,2.7386127875258306,0,1,1,-2.7386127875258306,0A2.7386127875258306,2.7386127875258306,0,1,1,2.7386127875258306,0\" fill=\"red\" stroke-width=\"2\" opacity=\"0.7\"></path><path aria-label=\"x: 2.69064993879; y: 0.888478801693\" role=\"graphics-symbol\" aria-roledescription=\"circle\" transform=\"translate(139.8299988871397,113.58935996238525)\" d=\"M2.7386127875258306,0A2.7386127875258306,2.7386127875258306,0,1,1,-2.7386127875258306,0A2.7386127875258306,2.7386127875258306,0,1,1,2.7386127875258306,0\" fill=\"red\" stroke-width=\"2\" opacity=\"0.7\"></path><path aria-label=\"x: 0.857481439232; y: 2.27259397494\" role=\"graphics-symbol\" aria-roledescription=\"circle\" transform=\"translate(106.4996625314931,82.83124500140902)\" d=\"M2.7386127875258306,0A2.7386127875258306,2.7386127875258306,0,1,1,-2.7386127875258306,0A2.7386127875258306,2.7386127875258306,0,1,1,2.7386127875258306,0\" fill=\"red\" stroke-width=\"2\" opacity=\"0.7\"></path><path aria-label=\"x: 3.1969021296; y: 3.28072053239\" role=\"graphics-symbol\" aria-roledescription=\"circle\" transform=\"translate(149.03458417462863,60.42843261360149)\" d=\"M2.7386127875258306,0A2.7386127875258306,2.7386127875258306,0,1,1,-2.7386127875258306,0A2.7386127875258306,2.7386127875258306,0,1,1,2.7386127875258306,0\" fill=\"red\" stroke-width=\"2\" opacity=\"0.7\"></path><path aria-label=\"x: 0.361163566475; y: 1.18600424609\" role=\"graphics-symbol\" aria-roledescription=\"circle\" transform=\"translate(97.47570120862767,106.97768342023524)\" d=\"M2.7386127875258306,0A2.7386127875258306,2.7386127875258306,0,1,1,-2.7386127875258306,0A2.7386127875258306,2.7386127875258306,0,1,1,2.7386127875258306,0\" fill=\"red\" stroke-width=\"2\" opacity=\"0.7\"></path><path aria-label=\"x: 2.15059569528; y: 2.92452835841\" role=\"graphics-symbol\" aria-roledescription=\"circle\" transform=\"translate(130.01083082333457,68.34381425765723)\" d=\"M2.7386127875258306,0A2.7386127875258306,2.7386127875258306,0,1,1,-2.7386127875258306,0A2.7386127875258306,2.7386127875258306,0,1,1,2.7386127875258306,0\" fill=\"red\" stroke-width=\"2\" opacity=\"0.7\"></path><path aria-label=\"x: -0.350627416279; y: 1.92970218197\" role=\"graphics-symbol\" aria-roledescription=\"circle\" transform=\"translate(84.53404697674787,90.45106262282543)\" d=\"M2.7386127875258306,0A2.7386127875258306,2.7386127875258306,0,1,1,-2.7386127875258306,0A2.7386127875258306,2.7386127875258306,0,1,1,2.7386127875258306,0\" fill=\"red\" stroke-width=\"2\" opacity=\"0.7\"></path><path aria-label=\"x: 0.457904053516; y: 1.59882197556\" role=\"graphics-symbol\" aria-roledescription=\"circle\" transform=\"translate(99.23461915484292,97.80395609864851)\" d=\"M2.7386127875258306,0A2.7386127875258306,2.7386127875258306,0,1,1,-2.7386127875258306,0A2.7386127875258306,2.7386127875258306,0,1,1,2.7386127875258306,0\" fill=\"red\" stroke-width=\"2\" opacity=\"0.7\"></path><path aria-label=\"x: -0.489750624055; y: 1.1023005507\" role=\"graphics-symbol\" aria-roledescription=\"circle\" transform=\"translate(82.0045341080977,108.83776554001203)\" d=\"M2.7386127875258306,0A2.7386127875258306,2.7386127875258306,0,1,1,-2.7386127875258306,0A2.7386127875258306,2.7386127875258306,0,1,1,2.7386127875258306,0\" fill=\"red\" stroke-width=\"2\" opacity=\"0.7\"></path><path aria-label=\"x: 3.65597341283; y: 2.26191013266\" role=\"graphics-symbol\" aria-roledescription=\"circle\" transform=\"translate(157.38133477871946,83.06866371856343)\" d=\"M2.7386127875258306,0A2.7386127875258306,2.7386127875258306,0,1,1,-2.7386127875258306,0A2.7386127875258306,2.7386127875258306,0,1,1,2.7386127875258306,0\" fill=\"red\" stroke-width=\"2\" opacity=\"0.7\"></path><path aria-label=\"x: 0.179002342064; y: 1.25281125695\" role=\"graphics-symbol\" aria-roledescription=\"circle\" transform=\"translate(94.1636789466261,105.49308317889326)\" d=\"M2.7386127875258306,0A2.7386127875258306,2.7386127875258306,0,1,1,-2.7386127875258306,0A2.7386127875258306,2.7386127875258306,0,1,1,2.7386127875258306,0\" fill=\"red\" stroke-width=\"2\" opacity=\"0.7\"></path><path aria-label=\"x: 2.47167527983; y: 4.34214235635\" role=\"graphics-symbol\" aria-roledescription=\"circle\" transform=\"translate(135.84864145137828,36.841280969891855)\" d=\"M2.7386127875258306,0A2.7386127875258306,2.7386127875258306,0,1,1,-2.7386127875258306,0A2.7386127875258306,2.7386127875258306,0,1,1,2.7386127875258306,0\" fill=\"red\" stroke-width=\"2\" opacity=\"0.7\"></path><path aria-label=\"x: -1.99696295121; y: 0.10244657176\" role=\"graphics-symbol\" aria-roledescription=\"circle\" transform=\"translate(54.6006736144039,131.05674284977638)\" d=\"M2.7386127875258306,0A2.7386127875258306,2.7386127875258306,0,1,1,-2.7386127875258306,0A2.7386127875258306,2.7386127875258306,0,1,1,2.7386127875258306,0\" fill=\"red\" stroke-width=\"2\" opacity=\"0.7\"></path><path aria-label=\"x: 0.443580075447; y: 0.849448145913\" role=\"graphics-symbol\" aria-roledescription=\"circle\" transform=\"translate(98.97418318994387,114.45670786858942)\" d=\"M2.7386127875258306,0A2.7386127875258306,2.7386127875258306,0,1,1,-2.7386127875258306,0A2.7386127875258306,2.7386127875258306,0,1,1,2.7386127875258306,0\" fill=\"red\" stroke-width=\"2\" opacity=\"0.7\"></path><path aria-label=\"x: 1.50689527651; y: 1.6489462257\" role=\"graphics-symbol\" aria-roledescription=\"circle\" transform=\"translate(118.3071868456182,96.69008387338013)\" d=\"M2.7386127875258306,0A2.7386127875258306,2.7386127875258306,0,1,1,-2.7386127875258306,0A2.7386127875258306,2.7386127875258306,0,1,1,2.7386127875258306,0\" fill=\"red\" stroke-width=\"2\" opacity=\"0.7\"></path><path aria-label=\"x: 3.32660412568; y: 3.58676348425\" role=\"graphics-symbol\" aria-roledescription=\"circle\" transform=\"translate(151.39280228507664,53.627478127759346)\" d=\"M2.7386127875258306,0A2.7386127875258306,2.7386127875258306,0,1,1,-2.7386127875258306,0A2.7386127875258306,2.7386127875258306,0,1,1,2.7386127875258306,0\" fill=\"red\" stroke-width=\"2\" opacity=\"0.7\"></path><path aria-label=\"x: 2.73081804933; y: 3.25996843186\" role=\"graphics-symbol\" aria-roledescription=\"circle\" transform=\"translate(140.56032816965603,60.88959040304245)\" d=\"M2.7386127875258306,0A2.7386127875258306,2.7386127875258306,0,1,1,-2.7386127875258306,0A2.7386127875258306,2.7386127875258306,0,1,1,2.7386127875258306,0\" fill=\"red\" stroke-width=\"2\" opacity=\"0.7\"></path><path aria-label=\"x: -0.114454944091; y: 0.828308857954\" role=\"graphics-symbol\" aria-roledescription=\"circle\" transform=\"translate(88.82809192561784,114.92646982323463)\" d=\"M2.7386127875258306,0A2.7386127875258306,2.7386127875258306,0,1,1,-2.7386127875258306,0A2.7386127875258306,2.7386127875258306,0,1,1,2.7386127875258306,0\" fill=\"red\" stroke-width=\"2\" opacity=\"0.7\"></path><path aria-label=\"x: 0.24645041897; y: 1.92313845588\" role=\"graphics-symbol\" aria-roledescription=\"circle\" transform=\"translate(95.39000761763236,90.59692320266099)\" d=\"M2.7386127875258306,0A2.7386127875258306,2.7386127875258306,0,1,1,-2.7386127875258306,0A2.7386127875258306,2.7386127875258306,0,1,1,2.7386127875258306,0\" fill=\"red\" stroke-width=\"2\" opacity=\"0.7\"></path><path aria-label=\"x: 0.315143275629; y: 2.29994501351\" role=\"graphics-symbol\" aria-roledescription=\"circle\" transform=\"translate(96.63896864779379,82.22344414411249)\" d=\"M2.7386127875258306,0A2.7386127875258306,2.7386127875258306,0,1,1,-2.7386127875258306,0A2.7386127875258306,2.7386127875258306,0,1,1,2.7386127875258306,0\" fill=\"red\" stroke-width=\"2\" opacity=\"0.7\"></path><path aria-label=\"x: 0.815378894368; y: 1.10701291687\" role=\"graphics-symbol\" aria-roledescription=\"circle\" transform=\"translate(105.73416171578106,108.73304629181891)\" d=\"M2.7386127875258306,0A2.7386127875258306,2.7386127875258306,0,1,1,-2.7386127875258306,0A2.7386127875258306,2.7386127875258306,0,1,1,2.7386127875258306,0\" fill=\"red\" stroke-width=\"2\" opacity=\"0.7\"></path><path aria-label=\"x: 1.88940551742; y: 1.81413812956\" role=\"graphics-symbol\" aria-roledescription=\"circle\" transform=\"translate(125.26191849857142,93.0191526764126)\" d=\"M2.7386127875258306,0A2.7386127875258306,2.7386127875258306,0,1,1,-2.7386127875258306,0A2.7386127875258306,2.7386127875258306,0,1,1,2.7386127875258306,0\" fill=\"red\" stroke-width=\"2\" opacity=\"0.7\"></path><path aria-label=\"x: 4.25358162131; y: 4.65652580353\" role=\"graphics-symbol\" aria-roledescription=\"circle\" transform=\"translate(168.24693856935082,29.85498214366915)\" d=\"M2.7386127875258306,0A2.7386127875258306,2.7386127875258306,0,1,1,-2.7386127875258306,0A2.7386127875258306,2.7386127875258306,0,1,1,2.7386127875258306,0\" fill=\"red\" stroke-width=\"2\" opacity=\"0.7\"></path><path aria-label=\"x: 0.0290802104074; y: 0.684831247578\" role=\"graphics-symbol\" aria-roledescription=\"circle\" transform=\"translate(91.43782200740786,118.1148611649282)\" d=\"M2.7386127875258306,0A2.7386127875258306,2.7386127875258306,0,1,1,-2.7386127875258306,0A2.7386127875258306,2.7386127875258306,0,1,1,2.7386127875258306,0\" fill=\"red\" stroke-width=\"2\" opacity=\"0.7\"></path><path aria-label=\"x: 3.54936456534; y: 3.70720764503\" role=\"graphics-symbol\" aria-roledescription=\"circle\" transform=\"translate(155.4429920971289,50.9509412215736)\" d=\"M2.7386127875258306,0A2.7386127875258306,2.7386127875258306,0,1,1,-2.7386127875258306,0A2.7386127875258306,2.7386127875258306,0,1,1,2.7386127875258306,0\" fill=\"red\" stroke-width=\"2\" opacity=\"0.7\"></path><path aria-label=\"x: 0.585374731229; y: 1.91067758036\" role=\"graphics-symbol\" aria-roledescription=\"circle\" transform=\"translate(101.55226784052837,90.87383154748574)\" d=\"M2.7386127875258306,0A2.7386127875258306,2.7386127875258306,0,1,1,-2.7386127875258306,0A2.7386127875258306,2.7386127875258306,0,1,1,2.7386127875258306,0\" fill=\"red\" stroke-width=\"2\" opacity=\"0.7\"></path><path aria-label=\"x: -2.02100937896; y: 0.157848833842\" role=\"graphics-symbol\" aria-roledescription=\"circle\" transform=\"translate(54.16346583716686,129.82558147017266)\" d=\"M2.7386127875258306,0A2.7386127875258306,2.7386127875258306,0,1,1,-2.7386127875258306,0A2.7386127875258306,2.7386127875258306,0,1,1,2.7386127875258306,0\" fill=\"red\" stroke-width=\"2\" opacity=\"0.7\"></path><path aria-label=\"x: -0.054790423952; y: 1.76271874496\" role=\"graphics-symbol\" aria-roledescription=\"circle\" transform=\"translate(89.91290138269031,94.16180566757268)\" d=\"M2.7386127875258306,0A2.7386127875258306,2.7386127875258306,0,1,1,-2.7386127875258306,0A2.7386127875258306,2.7386127875258306,0,1,1,2.7386127875258306,0\" fill=\"red\" stroke-width=\"2\" opacity=\"0.7\"></path><path aria-label=\"x: -2.21948409286; y: -1.05684478267\" role=\"graphics-symbol\" aria-roledescription=\"circle\" transform=\"translate(50.55483467518817,156.81877294825887)\" d=\"M2.7386127875258306,0A2.7386127875258306,2.7386127875258306,0,1,1,-2.7386127875258306,0A2.7386127875258306,2.7386127875258306,0,1,1,2.7386127875258306,0\" fill=\"red\" stroke-width=\"2\" opacity=\"0.7\"></path><path aria-label=\"x: -1.59483484144; y: 0.29358559828\" role=\"graphics-symbol\" aria-roledescription=\"circle\" transform=\"translate(61.91209379192754,126.80920892710257)\" d=\"M2.7386127875258306,0A2.7386127875258306,2.7386127875258306,0,1,1,-2.7386127875258306,0A2.7386127875258306,2.7386127875258306,0,1,1,2.7386127875258306,0\" fill=\"red\" stroke-width=\"2\" opacity=\"0.7\"></path><path aria-label=\"x: -1.5401008632; y: 0.0733049751383\" role=\"graphics-symbol\" aria-roledescription=\"circle\" transform=\"translate(62.90725703280512,131.70433388581472)\" d=\"M2.7386127875258306,0A2.7386127875258306,2.7386127875258306,0,1,1,-2.7386127875258306,0A2.7386127875258306,2.7386127875258306,0,1,1,2.7386127875258306,0\" fill=\"red\" stroke-width=\"2\" opacity=\"0.7\"></path><path aria-label=\"x: 2.10259312879; y: 3.23198862336\" role=\"graphics-symbol\" aria-roledescription=\"circle\" transform=\"translate(129.1380568871779,61.51136392526975)\" d=\"M2.7386127875258306,0A2.7386127875258306,2.7386127875258306,0,1,1,-2.7386127875258306,0A2.7386127875258306,2.7386127875258306,0,1,1,2.7386127875258306,0\" fill=\"red\" stroke-width=\"2\" opacity=\"0.7\"></path><path aria-label=\"x: 2.88394014422; y: 2.47824928793\" role=\"graphics-symbol\" aria-roledescription=\"circle\" transform=\"translate(143.34436625847658,78.26112693492186)\" d=\"M2.7386127875258306,0A2.7386127875258306,2.7386127875258306,0,1,1,-2.7386127875258306,0A2.7386127875258306,2.7386127875258306,0,1,1,2.7386127875258306,0\" fill=\"red\" stroke-width=\"2\" opacity=\"0.7\"></path><path aria-label=\"x: 1.72963544137; y: 3.16391745183\" role=\"graphics-symbol\" aria-roledescription=\"circle\" transform=\"translate(122.35700802483358,63.024056625907264)\" d=\"M2.7386127875258306,0A2.7386127875258306,2.7386127875258306,0,1,1,-2.7386127875258306,0A2.7386127875258306,2.7386127875258306,0,1,1,2.7386127875258306,0\" fill=\"red\" stroke-width=\"2\" opacity=\"0.7\"></path><path aria-label=\"x: 1.06265540658; y: 1.73444668436\" role=\"graphics-symbol\" aria-roledescription=\"circle\" transform=\"translate(110.23009830139499,94.79007368088617)\" d=\"M2.7386127875258306,0A2.7386127875258306,2.7386127875258306,0,1,1,-2.7386127875258306,0A2.7386127875258306,2.7386127875258306,0,1,1,2.7386127875258306,0\" fill=\"red\" stroke-width=\"2\" opacity=\"0.7\"></path><path aria-label=\"x: 2.65489576004; y: 3.54422340792\" role=\"graphics-symbol\" aria-roledescription=\"circle\" transform=\"translate(139.17992290977972,54.57281315743436)\" d=\"M2.7386127875258306,0A2.7386127875258306,2.7386127875258306,0,1,1,-2.7386127875258306,0A2.7386127875258306,2.7386127875258306,0,1,1,2.7386127875258306,0\" fill=\"red\" stroke-width=\"2\" opacity=\"0.7\"></path><path aria-label=\"x: -1.75815451497; y: 0.721903556391\" role=\"graphics-symbol\" aria-roledescription=\"circle\" transform=\"translate(58.942645182389164,117.29103208020959)\" d=\"M2.7386127875258306,0A2.7386127875258306,2.7386127875258306,0,1,1,-2.7386127875258306,0A2.7386127875258306,2.7386127875258306,0,1,1,2.7386127875258306,0\" fill=\"red\" stroke-width=\"2\" opacity=\"0.7\"></path><path aria-label=\"x: 2.0398020937; y: 1.27045027104\" role=\"graphics-symbol\" aria-roledescription=\"circle\" transform=\"translate(127.99640170362663,105.1011050880743)\" d=\"M2.7386127875258306,0A2.7386127875258306,2.7386127875258306,0,1,1,-2.7386127875258306,0A2.7386127875258306,2.7386127875258306,0,1,1,2.7386127875258306,0\" fill=\"red\" stroke-width=\"2\" opacity=\"0.7\"></path><path aria-label=\"x: -0.854472232823; y: 1.23277633203\" role=\"graphics-symbol\" aria-roledescription=\"circle\" transform=\"translate(75.37323213048232,105.938303732733)\" d=\"M2.7386127875258306,0A2.7386127875258306,2.7386127875258306,0,1,1,-2.7386127875258306,0A2.7386127875258306,2.7386127875258306,0,1,1,2.7386127875258306,0\" fill=\"red\" stroke-width=\"2\" opacity=\"0.7\"></path><path aria-label=\"x: 2.97576936997; y: 3.08985216129\" role=\"graphics-symbol\" aria-roledescription=\"circle\" transform=\"translate(145.01398854484077,64.66995197131982)\" d=\"M2.7386127875258306,0A2.7386127875258306,2.7386127875258306,0,1,1,-2.7386127875258306,0A2.7386127875258306,2.7386127875258306,0,1,1,2.7386127875258306,0\" fill=\"red\" stroke-width=\"2\" opacity=\"0.7\"></path><path aria-label=\"x: 0.190456883881; y: 2.52866111008\" role=\"graphics-symbol\" aria-roledescription=\"circle\" transform=\"translate(94.37194334329816,77.14086422053379)\" d=\"M2.7386127875258306,0A2.7386127875258306,2.7386127875258306,0,1,1,-2.7386127875258306,0A2.7386127875258306,2.7386127875258306,0,1,1,2.7386127875258306,0\" fill=\"red\" stroke-width=\"2\" opacity=\"0.7\"></path><path aria-label=\"x: 2.36270324679; y: 2.65039539121\" role=\"graphics-symbol\" aria-roledescription=\"circle\" transform=\"translate(133.86733175981684,74.43565797317734)\" d=\"M2.7386127875258306,0A2.7386127875258306,2.7386127875258306,0,1,1,-2.7386127875258306,0A2.7386127875258306,2.7386127875258306,0,1,1,2.7386127875258306,0\" fill=\"red\" stroke-width=\"2\" opacity=\"0.7\"></path><path aria-label=\"x: 2.98246885442; y: 3.88506214474\" role=\"graphics-symbol\" aria-roledescription=\"circle\" transform=\"translate(145.13579735308716,46.998619005792605)\" d=\"M2.7386127875258306,0A2.7386127875258306,2.7386127875258306,0,1,1,-2.7386127875258306,0A2.7386127875258306,2.7386127875258306,0,1,1,2.7386127875258306,0\" fill=\"red\" stroke-width=\"2\" opacity=\"0.7\"></path><path aria-label=\"x: 1.45256268564; y: 2.11575140511\" role=\"graphics-symbol\" aria-roledescription=\"circle\" transform=\"translate(117.31932155701745,86.31663544194794)\" d=\"M2.7386127875258306,0A2.7386127875258306,2.7386127875258306,0,1,1,-2.7386127875258306,0A2.7386127875258306,2.7386127875258306,0,1,1,2.7386127875258306,0\" fill=\"red\" stroke-width=\"2\" opacity=\"0.7\"></path><path aria-label=\"x: 0.457063024201; y: 0.982261021364\" role=\"graphics-symbol\" aria-roledescription=\"circle\" transform=\"translate(99.21932771274989,111.50531063635518)\" d=\"M2.7386127875258306,0A2.7386127875258306,2.7386127875258306,0,1,1,-2.7386127875258306,0A2.7386127875258306,2.7386127875258306,0,1,1,2.7386127875258306,0\" fill=\"red\" stroke-width=\"2\" opacity=\"0.7\"></path><path aria-label=\"x: 0.672325457767; y: 1.85959522296\" role=\"graphics-symbol\" aria-roledescription=\"circle\" transform=\"translate(103.13319014121005,92.00899504535525)\" d=\"M2.7386127875258306,0A2.7386127875258306,2.7386127875258306,0,1,1,-2.7386127875258306,0A2.7386127875258306,2.7386127875258306,0,1,1,2.7386127875258306,0\" fill=\"red\" stroke-width=\"2\" opacity=\"0.7\"></path><path aria-label=\"x: 5.09132593377; y: 5.13515645379\" role=\"graphics-symbol\" aria-roledescription=\"circle\" transform=\"translate(183.47865334127854,19.218745471359156)\" d=\"M2.7386127875258306,0A2.7386127875258306,2.7386127875258306,0,1,1,-2.7386127875258306,0A2.7386127875258306,2.7386127875258306,0,1,1,2.7386127875258306,0\" fill=\"red\" stroke-width=\"2\" opacity=\"0.7\"></path><path aria-label=\"x: 3.24268434173; y: 1.95361225369\" role=\"graphics-symbol\" aria-roledescription=\"circle\" transform=\"translate(149.8669880314552,89.9197276956957)\" d=\"M2.7386127875258306,0A2.7386127875258306,2.7386127875258306,0,1,1,-2.7386127875258306,0A2.7386127875258306,2.7386127875258306,0,1,1,2.7386127875258306,0\" fill=\"red\" stroke-width=\"2\" opacity=\"0.7\"></path><path aria-label=\"x: -3.57623496296; y: -1.75983713618\" role=\"graphics-symbol\" aria-roledescription=\"circle\" transform=\"translate(25.886637037101,172.44082524844276)\" d=\"M2.7386127875258306,0A2.7386127875258306,2.7386127875258306,0,1,1,-2.7386127875258306,0A2.7386127875258306,2.7386127875258306,0,1,1,2.7386127875258306,0\" fill=\"red\" stroke-width=\"2\" opacity=\"0.7\"></path><path aria-label=\"x: -1.0954115668; y: 1.10799580795\" role=\"graphics-symbol\" aria-roledescription=\"circle\" transform=\"translate(70.99251696720441,108.71120426768846)\" d=\"M2.7386127875258306,0A2.7386127875258306,2.7386127875258306,0,1,1,-2.7386127875258306,0A2.7386127875258306,2.7386127875258306,0,1,1,2.7386127875258306,0\" fill=\"red\" stroke-width=\"2\" opacity=\"0.7\"></path><path aria-label=\"x: 0.15193944173; y: 0.624663971212\" role=\"graphics-symbol\" aria-roledescription=\"circle\" transform=\"translate(93.67162621327265,119.45191175084062)\" d=\"M2.7386127875258306,0A2.7386127875258306,2.7386127875258306,0,1,1,-2.7386127875258306,0A2.7386127875258306,2.7386127875258306,0,1,1,2.7386127875258306,0\" fill=\"red\" stroke-width=\"2\" opacity=\"0.7\"></path><path aria-label=\"x: 0.165606282571; y: 1.5942427428\" role=\"graphics-symbol\" aria-roledescription=\"circle\" transform=\"translate(93.92011422856868,97.90571682671631)\" d=\"M2.7386127875258306,0A2.7386127875258306,2.7386127875258306,0,1,1,-2.7386127875258306,0A2.7386127875258306,2.7386127875258306,0,1,1,2.7386127875258306,0\" fill=\"red\" stroke-width=\"2\" opacity=\"0.7\"></path><path aria-label=\"x: 1.5733295699; y: 3.17767111829\" role=\"graphics-symbol\" aria-roledescription=\"circle\" transform=\"translate(119.5150830891314,62.718419593598476)\" d=\"M2.7386127875258306,0A2.7386127875258306,2.7386127875258306,0,1,1,-2.7386127875258306,0A2.7386127875258306,2.7386127875258306,0,1,1,2.7386127875258306,0\" fill=\"red\" stroke-width=\"2\" opacity=\"0.7\"></path><path aria-label=\"x: 1.78665155194; y: 3.24529177922\" role=\"graphics-symbol\" aria-roledescription=\"circle\" transform=\"translate(123.39366458068177,61.21573823948856)\" d=\"M2.7386127875258306,0A2.7386127875258306,2.7386127875258306,0,1,1,-2.7386127875258306,0A2.7386127875258306,2.7386127875258306,0,1,1,2.7386127875258306,0\" fill=\"red\" stroke-width=\"2\" opacity=\"0.7\"></path><path aria-label=\"x: 0.834704365512; y: -0.48490041626\" role=\"graphics-symbol\" aria-roledescription=\"circle\" transform=\"translate(106.08553391840006,144.10889813910524)\" d=\"M2.7386127875258306,0A2.7386127875258306,2.7386127875258306,0,1,1,-2.7386127875258306,0A2.7386127875258306,2.7386127875258306,0,1,1,2.7386127875258306,0\" fill=\"red\" stroke-width=\"2\" opacity=\"0.7\"></path><path aria-label=\"x: 1.53815116836; y: 3.22045019882\" role=\"graphics-symbol\" aria-roledescription=\"circle\" transform=\"translate(118.87547578836917,61.76777335947836)\" d=\"M2.7386127875258306,0A2.7386127875258306,2.7386127875258306,0,1,1,-2.7386127875258306,0A2.7386127875258306,2.7386127875258306,0,1,1,2.7386127875258306,0\" fill=\"red\" stroke-width=\"2\" opacity=\"0.7\"></path><path aria-label=\"x: -1.65036793583; y: 1.00040365729\" role=\"graphics-symbol\" aria-roledescription=\"circle\" transform=\"translate(60.90240116673162,111.10214094903397)\" d=\"M2.7386127875258306,0A2.7386127875258306,2.7386127875258306,0,1,1,-2.7386127875258306,0A2.7386127875258306,2.7386127875258306,0,1,1,2.7386127875258306,0\" fill=\"red\" stroke-width=\"2\" opacity=\"0.7\"></path><path aria-label=\"x: 3.83898956341; y: 3.53399886914\" role=\"graphics-symbol\" aria-roledescription=\"circle\" transform=\"translate(160.7089011529819,54.80002513029349)\" d=\"M2.7386127875258306,0A2.7386127875258306,2.7386127875258306,0,1,1,-2.7386127875258306,0A2.7386127875258306,2.7386127875258306,0,1,1,2.7386127875258306,0\" fill=\"red\" stroke-width=\"2\" opacity=\"0.7\"></path><path aria-label=\"x: 3.04110028807; y: 2.62340045862\" role=\"graphics-symbol\" aria-roledescription=\"circle\" transform=\"translate(146.20182341944505,75.03554536395217)\" d=\"M2.7386127875258306,0A2.7386127875258306,2.7386127875258306,0,1,1,-2.7386127875258306,0A2.7386127875258306,2.7386127875258306,0,1,1,2.7386127875258306,0\" fill=\"red\" stroke-width=\"2\" opacity=\"0.7\"></path><path aria-label=\"x: -0.752976445017; y: 1.93813711325\" role=\"graphics-symbol\" aria-roledescription=\"circle\" transform=\"translate(77.21861009060063,90.2636197055131)\" d=\"M2.7386127875258306,0A2.7386127875258306,2.7386127875258306,0,1,1,-2.7386127875258306,0A2.7386127875258306,2.7386127875258306,0,1,1,2.7386127875258306,0\" fill=\"red\" stroke-width=\"2\" opacity=\"0.7\"></path><path aria-label=\"x: 2.01081321813; y: 0.861136895028\" role=\"graphics-symbol\" aria-roledescription=\"circle\" transform=\"translate(127.46933123872088,114.19695788826442)\" d=\"M2.7386127875258306,0A2.7386127875258306,2.7386127875258306,0,1,1,-2.7386127875258306,0A2.7386127875258306,2.7386127875258306,0,1,1,2.7386127875258306,0\" fill=\"red\" stroke-width=\"2\" opacity=\"0.7\"></path><path aria-label=\"x: 2.71932846232; y: 3.2583466075\" role=\"graphics-symbol\" aria-roledescription=\"circle\" transform=\"translate(140.35142658763215,60.92563094437624)\" d=\"M2.7386127875258306,0A2.7386127875258306,2.7386127875258306,0,1,1,-2.7386127875258306,0A2.7386127875258306,2.7386127875258306,0,1,1,2.7386127875258306,0\" fill=\"red\" stroke-width=\"2\" opacity=\"0.7\"></path><path aria-label=\"x: 1.35284256054; y: 3.75787532881\" role=\"graphics-symbol\" aria-roledescription=\"circle\" transform=\"translate(115.50622837352998,49.82499269318481)\" d=\"M2.7386127875258306,0A2.7386127875258306,2.7386127875258306,0,1,1,-2.7386127875258306,0A2.7386127875258306,2.7386127875258306,0,1,1,2.7386127875258306,0\" fill=\"red\" stroke-width=\"2\" opacity=\"0.7\"></path><path aria-label=\"x: 3.77165148771; y: 3.33544048322\" role=\"graphics-symbol\" aria-roledescription=\"circle\" transform=\"translate(159.48457250386673,59.21243370613285)\" d=\"M2.7386127875258306,0A2.7386127875258306,2.7386127875258306,0,1,1,-2.7386127875258306,0A2.7386127875258306,2.7386127875258306,0,1,1,2.7386127875258306,0\" fill=\"red\" stroke-width=\"2\" opacity=\"0.7\"></path><path aria-label=\"x: 0.863309986581; y: 1.44698105843\" role=\"graphics-symbol\" aria-roledescription=\"circle\" transform=\"translate(106.60563611965246,101.17819870148756)\" d=\"M2.7386127875258306,0A2.7386127875258306,2.7386127875258306,0,1,1,-2.7386127875258306,0A2.7386127875258306,2.7386127875258306,0,1,1,2.7386127875258306,0\" fill=\"red\" stroke-width=\"2\" opacity=\"0.7\"></path><path aria-label=\"x: 2.83977235927; y: 2.94060548689\" role=\"graphics-symbol\" aria-roledescription=\"circle\" transform=\"translate(142.54131562301814,67.98654473572941)\" d=\"M2.7386127875258306,0A2.7386127875258306,2.7386127875258306,0,1,1,-2.7386127875258306,0A2.7386127875258306,2.7386127875258306,0,1,1,2.7386127875258306,0\" fill=\"red\" stroke-width=\"2\" opacity=\"0.7\"></path><path aria-label=\"x: 0.995599250881; y: 0.565498685891\" role=\"graphics-symbol\" aria-roledescription=\"circle\" transform=\"translate(109.01089547056625,120.76669586907825)\" d=\"M2.7386127875258306,0A2.7386127875258306,2.7386127875258306,0,1,1,-2.7386127875258306,0A2.7386127875258306,2.7386127875258306,0,1,1,2.7386127875258306,0\" fill=\"red\" stroke-width=\"2\" opacity=\"0.7\"></path><path aria-label=\"x: 1.41726014143; y: 2.47705225009\" role=\"graphics-symbol\" aria-roledescription=\"circle\" transform=\"translate(116.6774571169676,78.28772777577977)\" d=\"M2.7386127875258306,0A2.7386127875258306,2.7386127875258306,0,1,1,-2.7386127875258306,0A2.7386127875258306,2.7386127875258306,0,1,1,2.7386127875258306,0\" fill=\"red\" stroke-width=\"2\" opacity=\"0.7\"></path><path aria-label=\"x: 2.69722346133; y: 4.67253951913\" role=\"graphics-symbol\" aria-roledescription=\"circle\" transform=\"translate(139.94951747876607,29.499121797222028)\" d=\"M2.7386127875258306,0A2.7386127875258306,2.7386127875258306,0,1,1,-2.7386127875258306,0A2.7386127875258306,2.7386127875258306,0,1,1,2.7386127875258306,0\" fill=\"red\" stroke-width=\"2\" opacity=\"0.7\"></path><path aria-label=\"x: -0.00162273538712; y: 0.894251401202\" role=\"graphics-symbol\" aria-roledescription=\"circle\" transform=\"translate(90.87958662932502,113.46107997329491)\" d=\"M2.7386127875258306,0A2.7386127875258306,2.7386127875258306,0,1,1,-2.7386127875258306,0A2.7386127875258306,2.7386127875258306,0,1,1,2.7386127875258306,0\" fill=\"red\" stroke-width=\"2\" opacity=\"0.7\"></path><path aria-label=\"x: -0.19147494171; y: 0.0831740055602\" role=\"graphics-symbol\" aria-roledescription=\"circle\" transform=\"translate(87.42772833254028,131.48502209866135)\" d=\"M2.7386127875258306,0A2.7386127875258306,2.7386127875258306,0,1,1,-2.7386127875258306,0A2.7386127875258306,2.7386127875258306,0,1,1,2.7386127875258306,0\" fill=\"red\" stroke-width=\"2\" opacity=\"0.7\"></path><path aria-label=\"x: 0.134068620745; y: 0.571822417648\" role=\"graphics-symbol\" aria-roledescription=\"circle\" transform=\"translate(93.34670219536648,120.62616849672172)\" d=\"M2.7386127875258306,0A2.7386127875258306,2.7386127875258306,0,1,1,-2.7386127875258306,0A2.7386127875258306,2.7386127875258306,0,1,1,2.7386127875258306,0\" fill=\"red\" stroke-width=\"2\" opacity=\"0.7\"></path><path aria-label=\"x: -0.322250258628; y: 1.6434062076\" role=\"graphics-symbol\" aria-roledescription=\"circle\" transform=\"translate(85.04999529766496,96.81319538656825)\" d=\"M2.7386127875258306,0A2.7386127875258306,2.7386127875258306,0,1,1,-2.7386127875258306,0A2.7386127875258306,2.7386127875258306,0,1,1,2.7386127875258306,0\" fill=\"red\" stroke-width=\"2\" opacity=\"0.7\"></path><path aria-label=\"x: 1.88822614891; y: 2.25638507014\" role=\"graphics-symbol\" aria-roledescription=\"circle\" transform=\"translate(125.24047543480003,83.19144288571599)\" d=\"M2.7386127875258306,0A2.7386127875258306,2.7386127875258306,0,1,1,-2.7386127875258306,0A2.7386127875258306,2.7386127875258306,0,1,1,2.7386127875258306,0\" fill=\"red\" stroke-width=\"2\" opacity=\"0.7\"></path><path aria-label=\"x: 0.597330151246; y: 0.779385281508\" role=\"graphics-symbol\" aria-roledescription=\"circle\" transform=\"translate(101.76963911356958,116.01366041093874)\" d=\"M2.7386127875258306,0A2.7386127875258306,2.7386127875258306,0,1,1,-2.7386127875258306,0A2.7386127875258306,2.7386127875258306,0,1,1,2.7386127875258306,0\" fill=\"red\" stroke-width=\"2\" opacity=\"0.7\"></path><path aria-label=\"x: 4.89857330499; y: 4.97421005408\" role=\"graphics-symbol\" aria-roledescription=\"circle\" transform=\"translate(179.97406009077602,22.79533213147209)\" d=\"M2.7386127875258306,0A2.7386127875258306,2.7386127875258306,0,1,1,-2.7386127875258306,0A2.7386127875258306,2.7386127875258306,0,1,1,2.7386127875258306,0\" fill=\"red\" stroke-width=\"2\" opacity=\"0.7\"></path><path aria-label=\"x: -0.809103656446; y: 1.05331444542\" role=\"graphics-symbol\" aria-roledescription=\"circle\" transform=\"translate(76.19811533733795,109.92634565734951)\" d=\"M2.7386127875258306,0A2.7386127875258306,2.7386127875258306,0,1,1,-2.7386127875258306,0A2.7386127875258306,2.7386127875258306,0,1,1,2.7386127875258306,0\" fill=\"red\" stroke-width=\"2\" opacity=\"0.7\"></path><path aria-label=\"x: -1.51734577631; y: 0.125978864455\" role=\"graphics-symbol\" aria-roledescription=\"circle\" transform=\"translate(63.3209858852522,130.5338030121012)\" d=\"M2.7386127875258306,0A2.7386127875258306,2.7386127875258306,0,1,1,-2.7386127875258306,0A2.7386127875258306,2.7386127875258306,0,1,1,2.7386127875258306,0\" fill=\"red\" stroke-width=\"2\" opacity=\"0.7\"></path><path aria-label=\"x: -0.0769862536152; y: 2.92570721681\" role=\"graphics-symbol\" aria-roledescription=\"circle\" transform=\"translate(89.50934084335965,68.31761740414046)\" d=\"M2.7386127875258306,0A2.7386127875258306,2.7386127875258306,0,1,1,-2.7386127875258306,0A2.7386127875258306,2.7386127875258306,0,1,1,2.7386127875258306,0\" fill=\"red\" stroke-width=\"2\" opacity=\"0.7\"></path><path aria-label=\"x: 2.53268089438; y: 4.18149439245\" role=\"graphics-symbol\" aria-roledescription=\"circle\" transform=\"translate(136.95783444322745,40.411235723375015)\" d=\"M2.7386127875258306,0A2.7386127875258306,2.7386127875258306,0,1,1,-2.7386127875258306,0A2.7386127875258306,2.7386127875258306,0,1,1,2.7386127875258306,0\" fill=\"red\" stroke-width=\"2\" opacity=\"0.7\"></path><path aria-label=\"x: 2.5324214399; y: 2.59413329715\" role=\"graphics-symbol\" aria-roledescription=\"circle\" transform=\"translate(136.95311708912806,75.68592673000127)\" d=\"M2.7386127875258306,0A2.7386127875258306,2.7386127875258306,0,1,1,-2.7386127875258306,0A2.7386127875258306,2.7386127875258306,0,1,1,2.7386127875258306,0\" fill=\"red\" stroke-width=\"2\" opacity=\"0.7\"></path><path aria-label=\"x: 0.433314928645; y: 1.62968236851\" role=\"graphics-symbol\" aria-roledescription=\"circle\" transform=\"translate(98.7875441571812,97.11816958860895)\" d=\"M2.7386127875258306,0A2.7386127875258306,2.7386127875258306,0,1,1,-2.7386127875258306,0A2.7386127875258306,2.7386127875258306,0,1,1,2.7386127875258306,0\" fill=\"red\" stroke-width=\"2\" opacity=\"0.7\"></path><path aria-label=\"x: -1.19564006028; y: 0.961842424259\" role=\"graphics-symbol\" aria-roledescription=\"circle\" transform=\"translate(69.17018072209842,111.95905723868012)\" d=\"M2.7386127875258306,0A2.7386127875258306,2.7386127875258306,0,1,1,-2.7386127875258306,0A2.7386127875258306,2.7386127875258306,0,1,1,2.7386127875258306,0\" fill=\"red\" stroke-width=\"2\" opacity=\"0.7\"></path><path aria-label=\"x: 1.53074680694; y: 1.58570624239\" role=\"graphics-symbol\" aria-roledescription=\"circle\" transform=\"translate(118.74085103530835,98.09541683573582)\" d=\"M2.7386127875258306,0A2.7386127875258306,2.7386127875258306,0,1,1,-2.7386127875258306,0A2.7386127875258306,2.7386127875258306,0,1,1,2.7386127875258306,0\" fill=\"red\" stroke-width=\"2\" opacity=\"0.7\"></path><path aria-label=\"x: 0.0675686312792; y: 2.33737135159\" role=\"graphics-symbol\" aria-roledescription=\"circle\" transform=\"translate(92.13761147780436,81.39174774236275)\" d=\"M2.7386127875258306,0A2.7386127875258306,2.7386127875258306,0,1,1,-2.7386127875258306,0A2.7386127875258306,2.7386127875258306,0,1,1,2.7386127875258306,0\" fill=\"red\" stroke-width=\"2\" opacity=\"0.7\"></path><path aria-label=\"x: 0.365005399134; y: 0.976726984891\" role=\"graphics-symbol\" aria-roledescription=\"circle\" transform=\"translate(97.54555271152357,111.62828922463754)\" d=\"M2.7386127875258306,0A2.7386127875258306,2.7386127875258306,0,1,1,-2.7386127875258306,0A2.7386127875258306,2.7386127875258306,0,1,1,2.7386127875258306,0\" fill=\"red\" stroke-width=\"2\" opacity=\"0.7\"></path><path aria-label=\"x: 1.98850341418; y: 1.75199641972\" role=\"graphics-symbol\" aria-roledescription=\"circle\" transform=\"translate(127.06369843955379,94.40007956173318)\" d=\"M2.7386127875258306,0A2.7386127875258306,2.7386127875258306,0,1,1,-2.7386127875258306,0A2.7386127875258306,2.7386127875258306,0,1,1,2.7386127875258306,0\" fill=\"red\" stroke-width=\"2\" opacity=\"0.7\"></path><path aria-label=\"x: 1.47266764601; y: 1.90684352457\" role=\"graphics-symbol\" aria-roledescription=\"circle\" transform=\"translate(117.68486629107868,90.95903278731636)\" d=\"M2.7386127875258306,0A2.7386127875258306,2.7386127875258306,0,1,1,-2.7386127875258306,0A2.7386127875258306,2.7386127875258306,0,1,1,2.7386127875258306,0\" fill=\"red\" stroke-width=\"2\" opacity=\"0.7\"></path><path aria-label=\"x: 2.15758547035; y: 2.4361394871\" role=\"graphics-symbol\" aria-roledescription=\"circle\" transform=\"translate(130.13791764276172,79.19690028666217)\" d=\"M2.7386127875258306,0A2.7386127875258306,2.7386127875258306,0,1,1,-2.7386127875258306,0A2.7386127875258306,2.7386127875258306,0,1,1,2.7386127875258306,0\" fill=\"red\" stroke-width=\"2\" opacity=\"0.7\"></path><path aria-label=\"x: -1.44524033881; y: 0.298039503665\" role=\"graphics-symbol\" aria-roledescription=\"circle\" transform=\"translate(64.63199383983458,126.7102332518951)\" d=\"M2.7386127875258306,0A2.7386127875258306,2.7386127875258306,0,1,1,-2.7386127875258306,0A2.7386127875258306,2.7386127875258306,0,1,1,2.7386127875258306,0\" fill=\"red\" stroke-width=\"2\" opacity=\"0.7\"></path><path aria-label=\"x: 1.33544584819; y: 2.82199409218\" role=\"graphics-symbol\" aria-roledescription=\"circle\" transform=\"translate(115.18992451260574,70.62235350702993)\" d=\"M2.7386127875258306,0A2.7386127875258306,2.7386127875258306,0,1,1,-2.7386127875258306,0A2.7386127875258306,2.7386127875258306,0,1,1,2.7386127875258306,0\" fill=\"red\" stroke-width=\"2\" opacity=\"0.7\"></path><path aria-label=\"x: 0.381968474483; y: 2.18618945499\" role=\"graphics-symbol\" aria-roledescription=\"circle\" transform=\"translate(97.85397226332346,84.75134544468916)\" d=\"M2.7386127875258306,0A2.7386127875258306,2.7386127875258306,0,1,1,-2.7386127875258306,0A2.7386127875258306,2.7386127875258306,0,1,1,2.7386127875258306,0\" fill=\"red\" stroke-width=\"2\" opacity=\"0.7\"></path><path aria-label=\"x: -0.764033273956; y: 2.02165891908\" role=\"graphics-symbol\" aria-roledescription=\"circle\" transform=\"translate(77.01757683715982,88.40757957595704)\" d=\"M2.7386127875258306,0A2.7386127875258306,2.7386127875258306,0,1,1,-2.7386127875258306,0A2.7386127875258306,2.7386127875258306,0,1,1,2.7386127875258306,0\" fill=\"red\" stroke-width=\"2\" opacity=\"0.7\"></path><path aria-label=\"x: 2.5810497804; y: 2.73507838625\" role=\"graphics-symbol\" aria-roledescription=\"circle\" transform=\"translate(137.8372687345873,72.5538136388667)\" d=\"M2.7386127875258306,0A2.7386127875258306,2.7386127875258306,0,1,1,-2.7386127875258306,0A2.7386127875258306,2.7386127875258306,0,1,1,2.7386127875258306,0\" fill=\"red\" stroke-width=\"2\" opacity=\"0.7\"></path><path aria-label=\"x: 1.04865539421; y: 1.92324381876\" role=\"graphics-symbol\" aria-roledescription=\"circle\" transform=\"translate(109.9755526219123,90.59458180530133)\" d=\"M2.7386127875258306,0A2.7386127875258306,2.7386127875258306,0,1,1,-2.7386127875258306,0A2.7386127875258306,2.7386127875258306,0,1,1,2.7386127875258306,0\" fill=\"red\" stroke-width=\"2\" opacity=\"0.7\"></path><path aria-label=\"x: 4.02439073997; y: 2.6316110878\" role=\"graphics-symbol\" aria-roledescription=\"circle\" transform=\"translate(164.0798316358935,74.85308693779673)\" d=\"M2.7386127875258306,0A2.7386127875258306,2.7386127875258306,0,1,1,-2.7386127875258306,0A2.7386127875258306,2.7386127875258306,0,1,1,2.7386127875258306,0\" fill=\"red\" stroke-width=\"2\" opacity=\"0.7\"></path><path aria-label=\"x: 1.48313376443; y: 2.51548590515\" role=\"graphics-symbol\" aria-roledescription=\"circle\" transform=\"translate(117.87515935319783,77.43364655211506)\" d=\"M2.7386127875258306,0A2.7386127875258306,2.7386127875258306,0,1,1,-2.7386127875258306,0A2.7386127875258306,2.7386127875258306,0,1,1,2.7386127875258306,0\" fill=\"red\" stroke-width=\"2\" opacity=\"0.7\"></path><path aria-label=\"x: 0.548297806406; y: 0.754279251025\" role=\"graphics-symbol\" aria-roledescription=\"circle\" transform=\"translate(100.87814193465177,116.57157219944756)\" d=\"M2.7386127875258306,0A2.7386127875258306,2.7386127875258306,0,1,1,-2.7386127875258306,0A2.7386127875258306,2.7386127875258306,0,1,1,2.7386127875258306,0\" fill=\"red\" stroke-width=\"2\" opacity=\"0.7\"></path><path aria-label=\"x: -2.47261706077; y: 0.0416815831854\" role=\"graphics-symbol\" aria-roledescription=\"circle\" transform=\"translate(45.95241707699997,132.40707592921282)\" d=\"M2.7386127875258306,0A2.7386127875258306,2.7386127875258306,0,1,1,-2.7386127875258306,0A2.7386127875258306,2.7386127875258306,0,1,1,2.7386127875258306,0\" fill=\"red\" stroke-width=\"2\" opacity=\"0.7\"></path><path aria-label=\"x: 0.185928551359; y: 0.988830552238\" role=\"graphics-symbol\" aria-roledescription=\"circle\" transform=\"translate(94.28961002471485,111.35932106138262)\" d=\"M2.7386127875258306,0A2.7386127875258306,2.7386127875258306,0,1,1,-2.7386127875258306,0A2.7386127875258306,2.7386127875258306,0,1,1,2.7386127875258306,0\" fill=\"red\" stroke-width=\"2\" opacity=\"0.7\"></path><path aria-label=\"x: 2.472488377; y: 2.44016215512\" role=\"graphics-symbol\" aria-roledescription=\"circle\" transform=\"translate(135.86342503635106,79.10750766399117)\" d=\"M2.7386127875258306,0A2.7386127875258306,2.7386127875258306,0,1,1,-2.7386127875258306,0A2.7386127875258306,2.7386127875258306,0,1,1,2.7386127875258306,0\" fill=\"red\" stroke-width=\"2\" opacity=\"0.7\"></path><path aria-label=\"x: 0.331874669989; y: 1.17379904274\" role=\"graphics-symbol\" aria-roledescription=\"circle\" transform=\"translate(96.94317581797345,107.24891016134985)\" d=\"M2.7386127875258306,0A2.7386127875258306,2.7386127875258306,0,1,1,-2.7386127875258306,0A2.7386127875258306,2.7386127875258306,0,1,1,2.7386127875258306,0\" fill=\"red\" stroke-width=\"2\" opacity=\"0.7\"></path><path aria-label=\"x: 4.02071355203; y: 4.73665746482\" role=\"graphics-symbol\" aria-roledescription=\"circle\" transform=\"translate(164.01297367328084,28.07427855953899)\" d=\"M2.7386127875258306,0A2.7386127875258306,2.7386127875258306,0,1,1,-2.7386127875258306,0A2.7386127875258306,2.7386127875258306,0,1,1,2.7386127875258306,0\" fill=\"red\" stroke-width=\"2\" opacity=\"0.7\"></path><path aria-label=\"x: 0.60527766621; y: 1.60589407344\" role=\"graphics-symbol\" aria-roledescription=\"circle\" transform=\"translate(101.91413938563821,97.64679836807757)\" d=\"M2.7386127875258306,0A2.7386127875258306,2.7386127875258306,0,1,1,-2.7386127875258306,0A2.7386127875258306,2.7386127875258306,0,1,1,2.7386127875258306,0\" fill=\"red\" stroke-width=\"2\" opacity=\"0.7\"></path><path aria-label=\"x: 3.55950048327; y: 2.83089336688\" role=\"graphics-symbol\" aria-roledescription=\"circle\" transform=\"translate(155.62728151398213,70.42459184705976)\" d=\"M2.7386127875258306,0A2.7386127875258306,2.7386127875258306,0,1,1,-2.7386127875258306,0A2.7386127875258306,2.7386127875258306,0,1,1,2.7386127875258306,0\" fill=\"red\" stroke-width=\"2\" opacity=\"0.7\"></path><path aria-label=\"x: -1.07241023383; y: 1.45184651554\" role=\"graphics-symbol\" aria-roledescription=\"circle\" transform=\"translate(71.41072302122507,101.07007743246031)\" d=\"M2.7386127875258306,0A2.7386127875258306,2.7386127875258306,0,1,1,-2.7386127875258306,0A2.7386127875258306,2.7386127875258306,0,1,1,2.7386127875258306,0\" fill=\"red\" stroke-width=\"2\" opacity=\"0.7\"></path><path aria-label=\"x: -1.65715540187; y: 0.755146515892\" role=\"graphics-symbol\" aria-roledescription=\"circle\" transform=\"translate(60.77899269328738,116.55229964684162)\" d=\"M2.7386127875258306,0A2.7386127875258306,2.7386127875258306,0,1,1,-2.7386127875258306,0A2.7386127875258306,2.7386127875258306,0,1,1,2.7386127875258306,0\" fill=\"red\" stroke-width=\"2\" opacity=\"0.7\"></path><path aria-label=\"x: 2.80636882391; y: 3.62848394324\" role=\"graphics-symbol\" aria-roledescription=\"circle\" transform=\"translate(141.9339786164941,52.700356816951086)\" d=\"M2.7386127875258306,0A2.7386127875258306,2.7386127875258306,0,1,1,-2.7386127875258306,0A2.7386127875258306,2.7386127875258306,0,1,1,2.7386127875258306,0\" fill=\"red\" stroke-width=\"2\" opacity=\"0.7\"></path><path aria-label=\"x: 2.580633621; y: 2.54029227209\" role=\"graphics-symbol\" aria-roledescription=\"circle\" transform=\"translate(137.8297021999471,76.88239395351798)\" d=\"M2.7386127875258306,0A2.7386127875258306,2.7386127875258306,0,1,1,-2.7386127875258306,0A2.7386127875258306,2.7386127875258306,0,1,1,2.7386127875258306,0\" fill=\"red\" stroke-width=\"2\" opacity=\"0.7\"></path><path aria-label=\"x: -1.23106107752; y: 2.06522911826\" role=\"graphics-symbol\" aria-roledescription=\"circle\" transform=\"translate(68.52616222697695,87.43935292744828)\" d=\"M2.7386127875258306,0A2.7386127875258306,2.7386127875258306,0,1,1,-2.7386127875258306,0A2.7386127875258306,2.7386127875258306,0,1,1,2.7386127875258306,0\" fill=\"red\" stroke-width=\"2\" opacity=\"0.7\"></path><path aria-label=\"x: 0.0179198397168; y: 2.30004860412\" role=\"graphics-symbol\" aria-roledescription=\"circle\" transform=\"translate(91.2349061766686,82.22114213065655)\" d=\"M2.7386127875258306,0A2.7386127875258306,2.7386127875258306,0,1,1,-2.7386127875258306,0A2.7386127875258306,2.7386127875258306,0,1,1,2.7386127875258306,0\" fill=\"red\" stroke-width=\"2\" opacity=\"0.7\"></path><path aria-label=\"x: -1.58143563183; y: -0.68815337207\" role=\"graphics-symbol\" aria-roledescription=\"circle\" transform=\"translate(62.155715784949074,148.62563049044954)\" d=\"M2.7386127875258306,0A2.7386127875258306,2.7386127875258306,0,1,1,-2.7386127875258306,0A2.7386127875258306,2.7386127875258306,0,1,1,2.7386127875258306,0\" fill=\"red\" stroke-width=\"2\" opacity=\"0.7\"></path><path aria-label=\"x: 3.58246918149; y: 3.32787221742\" role=\"graphics-symbol\" aria-roledescription=\"circle\" transform=\"translate(156.04489420883422,59.38061739068796)\" d=\"M2.7386127875258306,0A2.7386127875258306,2.7386127875258306,0,1,1,-2.7386127875258306,0A2.7386127875258306,2.7386127875258306,0,1,1,2.7386127875258306,0\" fill=\"red\" stroke-width=\"2\" opacity=\"0.7\"></path><path aria-label=\"x: 3.24377941649; y: 5.34056051642\" role=\"graphics-symbol\" aria-roledescription=\"circle\" transform=\"translate(149.88689848158538,14.654210746309104)\" d=\"M2.7386127875258306,0A2.7386127875258306,2.7386127875258306,0,1,1,-2.7386127875258306,0A2.7386127875258306,2.7386127875258306,0,1,1,2.7386127875258306,0\" fill=\"red\" stroke-width=\"2\" opacity=\"0.7\"></path><path aria-label=\"x: 1.07770360076; y: 2.32563541132\" role=\"graphics-symbol\" aria-roledescription=\"circle\" transform=\"translate(110.50370183193002,81.6525464151062)\" d=\"M2.7386127875258306,0A2.7386127875258306,2.7386127875258306,0,1,1,-2.7386127875258306,0A2.7386127875258306,2.7386127875258306,0,1,1,2.7386127875258306,0\" fill=\"red\" stroke-width=\"2\" opacity=\"0.7\"></path></g></g><path class=\"foreground\" aria-hidden=\"true\" d=\"\" display=\"none\"></path></g></g></g></svg>\n"
      ],
      "text/plain": [
       "@vlplot(\n",
       "    mark=\"circle\",\n",
       "    encoding={\n",
       "        x={\n",
       "            field=\"x\"\n",
       "        },\n",
       "        y={\n",
       "            field=\"y\"\n",
       "        },\n",
       "        color={\n",
       "            value=\"red\"\n",
       "        }\n",
       "    },\n",
       "    data={\n",
       "        values=...\n",
       "    }\n",
       ")"
      ]
     },
     "execution_count": 34,
     "metadata": {},
     "output_type": "execute_result"
    }
   ],
   "source": [
    "p"
   ]
  },
  {
   "cell_type": "code",
   "execution_count": 6,
   "metadata": {},
   "outputs": [],
   "source": [
    "# v = KernelDensity.kde(samples);\n",
    "# p = QuickVega.scatterplot(samples)\n",
    "# @vlplot() + p + contourplot(v.x,v.y,v.density,6)"
   ]
  },
  {
   "cell_type": "code",
   "execution_count": 5,
   "metadata": {},
   "outputs": [
    {
     "data": {
      "application/vnd.vegalite.v4+json": {
       "data": {
        "values": [
         {
          "x": -0.8914716884848586,
          "y": 0.3934615441001066
         },
         {
          "x": 2.2737297546439628,
          "y": 2.428800370973114
         },
         {
          "x": 2.9131815756014174,
          "y": 4.109569708520709
         },
         {
          "x": 3.4201367627035424,
          "y": 4.26547340551274
         },
         {
          "x": 3.377736436972643,
          "y": 3.87046884147665
         },
         {
          "x": -0.6410431852021685,
          "y": 1.907694413141353
         },
         {
          "x": 1.8924033410719336,
          "y": 3.3656400593707363
         },
         {
          "x": -1.2747966915286812,
          "y": 0.13945167836575045
         },
         {
          "x": -0.4117071617912915,
          "y": 0.1201807691843384
         },
         {
          "x": 0.07177347830323455,
          "y": 1.0704691396105563
         },
         {
          "x": 0.5034346947205537,
          "y": 2.5590714370774874
         },
         {
          "x": 2.0575410189095162,
          "y": 5.067822037723161
         },
         {
          "x": 1.2981469158445111,
          "y": 1.5989491263652411
         },
         {
          "x": 1.7284438893489744,
          "y": 4.784151997028012
         },
         {
          "x": 0.48942918768870025,
          "y": 2.070377908978446
         },
         {
          "x": 1.5438637379267452,
          "y": 1.3923912618732772
         },
         {
          "x": 1.631439309891599,
          "y": 3.374488806114229
         },
         {
          "x": 1.4911179315726066,
          "y": 3.061822686334767
         },
         {
          "x": 5.812747225576754,
          "y": 5.149832478273737
         },
         {
          "x": 2.929913960086478,
          "y": 4.350733652364918
         },
         {
          "x": 1.5807333780818302,
          "y": 1.8539576000338172
         },
         {
          "x": 0.9957691383284644,
          "y": 2.220791098284277
         },
         {
          "x": 1.841702683697524,
          "y": 1.7965390067499594
         },
         {
          "x": 1.1266859606649036,
          "y": 1.561229233840623
         },
         {
          "x": 0.1731499085072078,
          "y": 1.471141946369531
         },
         {
          "x": 2.066851606639247,
          "y": 2.8582501141639085
         },
         {
          "x": -2.0640687747471396,
          "y": 0.6315536967233837
         },
         {
          "x": 0.2791634295935853,
          "y": 2.3150855339815286
         },
         {
          "x": 0.41128978643394376,
          "y": 0.3352182913952455
         },
         {
          "x": 1.3653187159399085,
          "y": 3.3559973171717647
         },
         {
          "x": 2.3377734002035577,
          "y": 4.414106423866517
         },
         {
          "x": -0.08392899668478115,
          "y": 2.043446571392275
         },
         {
          "x": -0.10649616953928587,
          "y": 1.569439952275569
         },
         {
          "x": 3.2124852450778296,
          "y": 3.309029863524721
         },
         {
          "x": -0.5580971075775043,
          "y": 0.7767740499660385
         },
         {
          "x": 2.070094014499194,
          "y": 2.651919960554233
         },
         {
          "x": 2.5559378031966062,
          "y": 4.349591580781374
         },
         {
          "x": -0.6597051445960394,
          "y": -0.23834229876221436
         },
         {
          "x": 0.13202110056734218,
          "y": 0.6088039628705979
         },
         {
          "x": 1.353476756569227,
          "y": 2.104897874906515
         },
         {
          "x": 1.3835354473183792,
          "y": 1.7958694053911783
         },
         {
          "x": -2.4066470220444733,
          "y": -0.5673803766731291
         },
         {
          "x": 1.7424459100822483,
          "y": 2.829718962546167
         },
         {
          "x": 0.5768685232187485,
          "y": 1.1593816907162287
         },
         {
          "x": -0.5701773981104314,
          "y": 0.27942008863448287
         },
         {
          "x": 2.2024409222363905,
          "y": 3.124977196254843
         },
         {
          "x": 0.7502409955251493,
          "y": 1.3782922869308523
         },
         {
          "x": 0.8683387387426927,
          "y": 3.0418465243715143
         },
         {
          "x": 1.2440418217087843,
          "y": 2.5874114648306215
         },
         {
          "x": 1.3742706123125827,
          "y": 1.2212169446184595
         },
         {
          "x": 4.203917425628594,
          "y": 3.7184655632585732
         },
         {
          "x": 2.756939476247904,
          "y": 1.6718561235944467
         },
         {
          "x": 3.880709578983117,
          "y": 3.56985272455825
         },
         {
          "x": 1.158496354204792,
          "y": 3.2266674735680825
         },
         {
          "x": 1.6403436117234595,
          "y": 2.4034245377220285
         },
         {
          "x": -0.1387206766025737,
          "y": 2.316126469017497
         },
         {
          "x": -2.788498301044891,
          "y": -0.4034792554321358
         },
         {
          "x": 0.6215497131725078,
          "y": 1.674539536290074
         },
         {
          "x": 0.11453643732119745,
          "y": 2.373931852719186
         },
         {
          "x": 3.6803266720007817,
          "y": 5.211172845443281
         },
         {
          "x": 0.9197387825102987,
          "y": 1.872210653088754
         },
         {
          "x": 3.215092250270625,
          "y": 3.9828388433978184
         },
         {
          "x": 2.8437496342077337,
          "y": 3.9832403143018467
         },
         {
          "x": 1.7561231704818825,
          "y": 1.8912513233743509
         },
         {
          "x": -0.9378262109427435,
          "y": 0.6755346281836743
         },
         {
          "x": 5.679799154578467,
          "y": 6.542829885753877
         },
         {
          "x": 4.056678830554295,
          "y": 3.461048133045302
         },
         {
          "x": -1.1238613196429825,
          "y": 0.5656301060829898
         },
         {
          "x": 4.238116921474715,
          "y": 5.810397902245138
         },
         {
          "x": 3.6402314808670435,
          "y": 3.304580243464814
         },
         {
          "x": 1.585530372900751,
          "y": 1.6655719774534459
         },
         {
          "x": -0.5266758964807337,
          "y": 0.22225619106434324
         },
         {
          "x": 0.12053389337861942,
          "y": 1.823710623064471
         },
         {
          "x": 0.22064465524839605,
          "y": 0.7501102506340573
         },
         {
          "x": 1.897506513146036,
          "y": 0.8492691157246757
         },
         {
          "x": 1.8643773947666331,
          "y": 4.216158549944701
         },
         {
          "x": 2.3856089790823654,
          "y": 2.402509966154785
         },
         {
          "x": 2.4162251753450383,
          "y": 3.8127341153723555
         },
         {
          "x": 1.4419114965235718,
          "y": 2.3718752063773536
         },
         {
          "x": 0.8461734149838573,
          "y": 1.5879605163333392
         },
         {
          "x": 1.6335047466660675,
          "y": 1.1067594172901076
         },
         {
          "x": 1.8376847344009595,
          "y": 3.439683594350078
         },
         {
          "x": 3.064285679925954,
          "y": 3.585040988381168
         },
         {
          "x": 1.8081418671815828,
          "y": 2.2355511677134263
         },
         {
          "x": 1.3453179525266796,
          "y": 2.4179590227374717
         },
         {
          "x": 0.9588643014763464,
          "y": 2.412355046785939
         },
         {
          "x": -2.3515164731680414,
          "y": -0.47866852233064083
         },
         {
          "x": 1.8982665511431671,
          "y": 1.8904189766379822
         },
         {
          "x": -0.10121763432142306,
          "y": 1.7036994798534293
         },
         {
          "x": 1.3486440096885846,
          "y": 3.2421658059564438
         },
         {
          "x": 1.136226277205364,
          "y": 1.375761319929279
         },
         {
          "x": 1.8805685564401453,
          "y": 4.014592532870832
         },
         {
          "x": 0.997905437684819,
          "y": 2.237891412466075
         },
         {
          "x": -0.9122895196269578,
          "y": 2.6553038741836987
         },
         {
          "x": -2.037197085380074,
          "y": -0.7089670809443511
         },
         {
          "x": -0.49291182131772393,
          "y": 0.5784703972843517
         },
         {
          "x": 3.132156488639929,
          "y": 3.6907076750810046
         },
         {
          "x": 3.816739463189767,
          "y": 3.315616434611662
         },
         {
          "x": -1.0317379499504384,
          "y": 0.5582545731349402
         },
         {
          "x": 3.671272450167409,
          "y": 1.5037084503495595
         },
         {
          "x": 2.985020325080583,
          "y": 3.907103802337745
         },
         {
          "x": 2.1065882277222316,
          "y": 3.550784364756068
         },
         {
          "x": 0.9649442204594477,
          "y": 1.452892971127114
         },
         {
          "x": -0.20907909882104936,
          "y": 0.6874547208977833
         },
         {
          "x": -0.720998971048572,
          "y": 0.9308472033599244
         },
         {
          "x": 0.2740580524842491,
          "y": 0.5946024769740359
         },
         {
          "x": 1.2648736957572684,
          "y": 1.7361806139627545
         },
         {
          "x": -1.666038884656849,
          "y": -0.43979181788911204
         },
         {
          "x": 1.691527321117979,
          "y": 1.124433351150122
         },
         {
          "x": 0.6005738304773803,
          "y": 2.761497777210483
         },
         {
          "x": -1.0521482290196005,
          "y": 1.3721219201725994
         },
         {
          "x": -0.8379089204984826,
          "y": 0.7702380384856093
         },
         {
          "x": -2.634579331903398,
          "y": 0.934668691828431
         },
         {
          "x": 0.5193222754662923,
          "y": 1.321049611635974
         },
         {
          "x": -2.039603379849754,
          "y": 0.8145242023642698
         },
         {
          "x": 0.9091256540947638,
          "y": 2.9109097945876647
         },
         {
          "x": 0.9817926678545107,
          "y": 0.71863371921094
         },
         {
          "x": 0.8132443244983847,
          "y": 3.336029081112162
         },
         {
          "x": 2.4278347624891774,
          "y": 3.4148548021008622
         },
         {
          "x": 2.146809940135654,
          "y": 2.4803709006196946
         },
         {
          "x": -1.3551974344893551,
          "y": 1.4198315276422617
         },
         {
          "x": 4.0210676722118155,
          "y": 4.948490549168185
         },
         {
          "x": 3.4434103598588313,
          "y": 4.835601955508676
         },
         {
          "x": 4.334874821190619,
          "y": 3.971587800542417
         },
         {
          "x": 1.1231355712040811,
          "y": 2.466212436011997
         },
         {
          "x": 0.4695931222200135,
          "y": 1.9420740850953169
         },
         {
          "x": -1.183414838987435,
          "y": 0.881125836100249
         },
         {
          "x": 1.4979994073913638,
          "y": 3.065173571888782
         },
         {
          "x": 0.3623271302940777,
          "y": 1.7188314131807307
         },
         {
          "x": 0.6187203591624233,
          "y": 2.0876050097516363
         },
         {
          "x": 0.48033519162884863,
          "y": 1.8589091916340883
         },
         {
          "x": -0.10385491134693514,
          "y": 2.5409639895138714
         },
         {
          "x": 1.0173647312761263,
          "y": 2.3721336542648745
         },
         {
          "x": 2.396795589371673,
          "y": 2.1122347373121517
         },
         {
          "x": 0.8037687788139966,
          "y": 2.330872985332596
         },
         {
          "x": -0.09698968557128884,
          "y": 2.5464869630759877
         },
         {
          "x": 1.8650748860129727,
          "y": 3.3268243523790053
         },
         {
          "x": 0.715962388203871,
          "y": 2.4860242849724434
         },
         {
          "x": 1.2873178951506712,
          "y": 1.1825449500857013
         },
         {
          "x": 2.0578080109862773,
          "y": 3.8317898897871987
         },
         {
          "x": 2.025562656955808,
          "y": 1.944461100038886
         },
         {
          "x": 2.45594456086803,
          "y": 3.502561955077208
         },
         {
          "x": 0.6579866056712476,
          "y": 1.6706794082982148
         },
         {
          "x": -0.41373048475898977,
          "y": 1.2918003653304782
         },
         {
          "x": 2.925547265788447,
          "y": 3.97279184941123
         },
         {
          "x": 0.6221584947834328,
          "y": 1.7855643524493632
         },
         {
          "x": 2.5115790251570225,
          "y": 3.5546888105819603
         },
         {
          "x": 2.435120786398021,
          "y": 3.6289826517979322
         },
         {
          "x": 0.5465106467601943,
          "y": 2.426744253579005
         },
         {
          "x": 2.193460687300031,
          "y": 3.3105673857489153
         },
         {
          "x": 5.433786810610902,
          "y": 4.712117141947349
         },
         {
          "x": 1.0980907770501853,
          "y": 1.834974995893191
         },
         {
          "x": 0.20240413672412527,
          "y": 0.2569000248553388
         },
         {
          "x": 0.49530598215220456,
          "y": 1.2067914672142372
         },
         {
          "x": 2.8706837292772778,
          "y": 4.143073267523455
         },
         {
          "x": 0.22828605090298926,
          "y": 0.629223848230835
         },
         {
          "x": -0.5445189491762394,
          "y": 0.5354034793095028
         },
         {
          "x": 2.9039092039478334,
          "y": 2.5805050494109594
         },
         {
          "x": 2.3740012760317937,
          "y": 3.589522767141971
         },
         {
          "x": 3.8268216273788878,
          "y": 3.49688513036894
         },
         {
          "x": 1.15515365178967,
          "y": 2.545554898998608
         },
         {
          "x": 2.8878440674908115,
          "y": 2.3774617312718513
         },
         {
          "x": 3.197620822013961,
          "y": 2.4243473007072893
         },
         {
          "x": 1.6006797780654165,
          "y": 1.810513354515248
         },
         {
          "x": 1.2362422545014229,
          "y": 1.904156995791458
         },
         {
          "x": 1.3271075703631492,
          "y": 2.116139478998712
         },
         {
          "x": 0.02353076447112934,
          "y": 0.5232564815483953
         },
         {
          "x": -2.779073583818687,
          "y": -1.6207605087466685
         },
         {
          "x": -0.7066076173091158,
          "y": 0.3600842465277858
         },
         {
          "x": 0.29811744647504435,
          "y": 0.8282563690847302
         },
         {
          "x": 1.6784856393432954,
          "y": 1.9309865481098323
         },
         {
          "x": 1.7314116599311238,
          "y": 0.2856696739849731
         },
         {
          "x": 2.263924711097384,
          "y": 1.8960300434967698
         },
         {
          "x": 0.42596579974495685,
          "y": 2.6606183351777464
         },
         {
          "x": 3.2380245821852878,
          "y": 3.645830635751845
         },
         {
          "x": -0.8235532137852206,
          "y": 0.31680885617205057
         },
         {
          "x": 3.768862991920626,
          "y": 2.8767387811965595
         },
         {
          "x": 0.1740503205338797,
          "y": 1.1278820575957669
         },
         {
          "x": 0.9783403194701135,
          "y": 1.8488830915994026
         },
         {
          "x": -1.3184106374227738,
          "y": -0.08019610946658329
         },
         {
          "x": 3.509572906835657,
          "y": 3.315947445312734
         },
         {
          "x": 0.5753062291351709,
          "y": 1.7387463294620185
         },
         {
          "x": 0.7663555026951413,
          "y": 3.5185591551661455
         },
         {
          "x": 2.1452906457469676,
          "y": 1.4799844607815178
         },
         {
          "x": 4.203777493527529,
          "y": 5.0441324339007245
         },
         {
          "x": -0.6686790781629948,
          "y": -0.16317646481501757
         },
         {
          "x": -1.9956298244411341,
          "y": 0.17935734862438157
         },
         {
          "x": 4.375038675290142,
          "y": 3.437200454373181
         },
         {
          "x": 0.719777655550282,
          "y": 1.647195102874925
         },
         {
          "x": 3.42366684375125,
          "y": 2.832350693409862
         },
         {
          "x": 1.5246963879870323,
          "y": 2.949213464467676
         },
         {
          "x": -4.082857152328519,
          "y": -0.9444881818460358
         },
         {
          "x": 1.9927246039049726,
          "y": 2.7749428278185033
         },
         {
          "x": 2.586593972288497,
          "y": 1.801961407592618
         },
         {
          "x": 3.7603176646120744,
          "y": 6.265688434460339
         },
         {
          "x": -0.7249863887892454,
          "y": 1.8449610572174573
         },
         {
          "x": 0.9617971165018732,
          "y": 2.369234200750457
         },
         {
          "x": -2.591596869067478,
          "y": -1.1152473806836043
         },
         {
          "x": 0.9036739206668377,
          "y": 1.4651120356272873
         },
         {
          "x": -1.7337217273094585,
          "y": -0.1914118130609932
         },
         {
          "x": 2.797475433464129,
          "y": 3.3465997703661845
         },
         {
          "x": 3.920330000551742,
          "y": 3.27957433615646
         },
         {
          "x": 0.665545290414389,
          "y": 0.679085801819624
         },
         {
          "x": -0.40618826368363403,
          "y": 1.2557779142063095
         },
         {
          "x": 3.7004334780489962,
          "y": 2.7009637953292183
         },
         {
          "x": 1.8442230044460077,
          "y": 3.425665534580377
         },
         {
          "x": 1.8974957975033293,
          "y": 2.8479392223642863
         },
         {
          "x": 1.4795664780482358,
          "y": 2.2478439837429964
         },
         {
          "x": 0.8155200749940814,
          "y": 1.8252220718018113
         },
         {
          "x": 0.946086955802524,
          "y": 2.5666616707503946
         },
         {
          "x": 2.1987137358321363,
          "y": 4.2043674829598725
         },
         {
          "x": 0.20872888533042344,
          "y": 1.948939170422955
         },
         {
          "x": 0.06549625855567442,
          "y": 1.0695916250135533
         },
         {
          "x": 1.4857207911198649,
          "y": 3.1038549312085433
         },
         {
          "x": 1.9541512033951998,
          "y": 2.4749030755659613
         },
         {
          "x": -1.2484055392659958,
          "y": 1.1132551523512886
         },
         {
          "x": 1.1221657056096512,
          "y": 2.5349802888513064
         },
         {
          "x": 2.4747494840179822,
          "y": 3.6465449578781843
         },
         {
          "x": 0.43324060626962446,
          "y": 2.4759969120285734
         },
         {
          "x": 2.071297817512712,
          "y": 2.389130981319446
         },
         {
          "x": 0.5250022022812788,
          "y": 0.9844780819211938
         },
         {
          "x": -0.2125114911513022,
          "y": 1.1607441776994212
         },
         {
          "x": 2.3440662344928875,
          "y": 2.5934054533890656
         },
         {
          "x": -2.5475326093641284,
          "y": -1.6960670212306175
         },
         {
          "x": 5.597706434553479,
          "y": 4.55113280109993
         },
         {
          "x": 1.3128505324001196,
          "y": 1.4296815395051838
         },
         {
          "x": 1.0667427080247949,
          "y": 2.201715752562359
         },
         {
          "x": 3.340125057174941,
          "y": 4.464621955639247
         },
         {
          "x": 0.8435232697700652,
          "y": 1.664253221156659
         },
         {
          "x": 0.9697418101250462,
          "y": 1.5967144077902355
         },
         {
          "x": 2.310232743900402,
          "y": 3.3368828197551212
         },
         {
          "x": -2.6286218329072137,
          "y": -0.7774089960557884
         },
         {
          "x": 0.10062338677896465,
          "y": 2.589384578242115
         },
         {
          "x": 4.104077562484211,
          "y": 2.316094691906458
         },
         {
          "x": 0.4230243254588406,
          "y": 2.086296847141427
         },
         {
          "x": 2.2366090840837645,
          "y": 3.1753100990560403
         },
         {
          "x": 0.1416288117978517,
          "y": 2.044773499558057
         },
         {
          "x": -0.3277852310209799,
          "y": 1.292911817275694
         },
         {
          "x": 3.5795630112254884,
          "y": 4.465565065901575
         },
         {
          "x": 1.1460910622263445,
          "y": 3.7401469518022203
         },
         {
          "x": -1.277349751355711,
          "y": -1.0487321295261056
         },
         {
          "x": -2.1523829910523693,
          "y": -0.20872706601861069
         },
         {
          "x": 0.4935079617886152,
          "y": 2.332417949819744
         },
         {
          "x": 2.160181767536475,
          "y": 2.786472559038344
         },
         {
          "x": 0.35152211839089675,
          "y": 1.293279180327358
         },
         {
          "x": -1.312112091539753,
          "y": 0.3787734064566519
         },
         {
          "x": 1.2962876965196692,
          "y": 2.346026509364609
         },
         {
          "x": 2.3820429800035896,
          "y": 2.255903071723441
         },
         {
          "x": -0.9749515243806874,
          "y": 0.5318717532341859
         },
         {
          "x": -0.916204756345038,
          "y": 0.7875675034615797
         },
         {
          "x": 2.2692193955625317,
          "y": 1.3171149528865995
         },
         {
          "x": 1.2484525010229486,
          "y": 2.4817883612395097
         },
         {
          "x": 2.769229343507577,
          "y": 4.980059454908225
         },
         {
          "x": 1.608556571804714,
          "y": 2.889043517277224
         },
         {
          "x": 2.6601811213213837,
          "y": 4.863846161460309
         },
         {
          "x": -0.5458131611529904,
          "y": 2.9828643341921683
         },
         {
          "x": 1.2182193186247074,
          "y": 1.8122353821225938
         },
         {
          "x": 2.0765708923464157,
          "y": 3.3090148774869172
         },
         {
          "x": 0.9921427921393431,
          "y": 1.5068105206513458
         },
         {
          "x": 0.3262333204307064,
          "y": 0.4587264112464957
         },
         {
          "x": 3.3737956432637928,
          "y": 3.393881667897297
         },
         {
          "x": -1.13368997049328,
          "y": 0.8115721675537553
         },
         {
          "x": 4.058964523498828,
          "y": 4.436830224194846
         },
         {
          "x": -0.1662493734554391,
          "y": 0.4591458758366107
         },
         {
          "x": -0.6141566157166709,
          "y": 0.8747155832852631
         },
         {
          "x": 3.4688107473248517,
          "y": 4.060573160710627
         },
         {
          "x": -0.482167545438148,
          "y": 0.020515942481711846
         },
         {
          "x": 2.896426545353635,
          "y": 3.5460091706270083
         },
         {
          "x": 1.9073149954135176,
          "y": 2.2342560952337918
         },
         {
          "x": -0.7216043647113655,
          "y": 0.501772156032831
         },
         {
          "x": 0.4887583980797644,
          "y": 0.8607957101198265
         },
         {
          "x": 1.0767838795947309,
          "y": 2.8661767057029452
         },
         {
          "x": 1.4217485635281972,
          "y": 2.3958199292559614
         },
         {
          "x": 1.5189084687087249,
          "y": 1.6020902672968536
         },
         {
          "x": 2.8435615462947252,
          "y": 3.3283060039129544
         },
         {
          "x": 1.2219274142066603,
          "y": 0.7640546018079637
         },
         {
          "x": 1.4926481685526225,
          "y": 2.4072784354600656
         },
         {
          "x": -1.3737114572615652,
          "y": 0.7995236313211731
         },
         {
          "x": -0.6307402877015311,
          "y": 1.4688472121479077
         },
         {
          "x": 0.6525970476524088,
          "y": 0.9997846324947388
         },
         {
          "x": 3.1687189335523405,
          "y": 2.277065190638858
         },
         {
          "x": 3.4410212676525758,
          "y": 4.016914539289743
         },
         {
          "x": 1.4615508706091547,
          "y": 3.695354623800707
         },
         {
          "x": 4.2692688915302135,
          "y": 3.7394762459769963
         },
         {
          "x": 1.199202430506626,
          "y": 2.2045219764016237
         },
         {
          "x": 0.5331208630102999,
          "y": 2.0729095970601152
         },
         {
          "x": -1.5875112963293545,
          "y": -1.152904647838937
         },
         {
          "x": -0.320137172508528,
          "y": 0.15361637711383747
         },
         {
          "x": -0.3070160991990958,
          "y": 1.691277774299089
         },
         {
          "x": -3.1276920115648474,
          "y": -1.8107058837145455
         },
         {
          "x": 0.5156243737299088,
          "y": 2.5169371438104706
         },
         {
          "x": 0.8769510331667083,
          "y": 0.772882281398314
         },
         {
          "x": -1.9961416155541798,
          "y": -0.27832755756584326
         },
         {
          "x": 2.5356989609379808,
          "y": 3.0201598037888227
         },
         {
          "x": -0.5334250710852799,
          "y": 0.4041865650002838
         },
         {
          "x": 1.2958588335176433,
          "y": 1.0051888236791604
         },
         {
          "x": 0.08289778701220263,
          "y": 0.9741484803099747
         },
         {
          "x": -2.7721179443193655,
          "y": -0.37427321240393985
         },
         {
          "x": 1.2863127993004722,
          "y": 2.7515178675945293
         },
         {
          "x": 2.0073361556530616,
          "y": 4.000144791831305
         }
        ]
       },
       "encoding": {
        "color": {
         "field": "y",
         "type": "quantitative"
        },
        "size": {
         "field": "x",
         "type": "q"
        },
        "x": {
         "field": "x",
         "type": "q"
        },
        "y": {
         "field": "y",
         "type": "quantitative"
        }
       },
       "height": 300,
       "mark": "point",
       "width": 400
      },
      "image/png": "[encoded data removed]",
      "image/svg+xml": [
       "<?xml version=\"1.0\" encoding=\"utf-8\"?>\n",
       "<!DOCTYPE svg PUBLIC \"-//W3C//DTD SVG 1.1//EN\" \"http://www.w3.org/Graphics/SVG/1.1/DTD/svg11.dtd\">\n",
       "<svg class=\"marks\" width=\"493\" height=\"347\" viewBox=\"0 0 493 347\" version=\"1.1\" xmlns=\"http://www.w3.org/2000/svg\" xmlns:xlink=\"http://www.w3.org/1999/xlink\"><defs><linearGradient id=\"gradient_0\" x1=\"0\" x2=\"0\" y1=\"1\" y2=\"0\"><stop offset=\"0\" stop-color=\"rgb(207, 225, 242)\"></stop><stop offset=\"0.037194535618097595\" stop-color=\"rgb(201, 222, 240)\"></stop><stop offset=\"0.09704942985671022\" stop-color=\"rgb(191, 216, 236)\"></stop><stop offset=\"0.15690432409532287\" stop-color=\"rgb(177, 210, 232)\"></stop><stop offset=\"0.2167592183339355\" stop-color=\"rgb(164, 204, 228)\"></stop><stop offset=\"0.27661411257254814\" stop-color=\"rgb(149, 196, 224)\"></stop><stop offset=\"0.33646900681116076\" stop-color=\"rgb(133, 188, 219)\"></stop><stop offset=\"0.3963239010497734\" stop-color=\"rgb(117, 179, 215)\"></stop><stop offset=\"0.456178795288386\" stop-color=\"rgb(102, 170, 211)\"></stop><stop offset=\"0.5160336895269987\" stop-color=\"rgb(87, 160, 206)\"></stop><stop offset=\"0.5758885837656113\" stop-color=\"rgb(74, 150, 200)\"></stop><stop offset=\"0.6357434780042239\" stop-color=\"rgb(62, 140, 195)\"></stop><stop offset=\"0.6955983722428365\" stop-color=\"rgb(50, 130, 189)\"></stop><stop offset=\"0.7554532664814492\" stop-color=\"rgb(40, 119, 183)\"></stop><stop offset=\"0.8153081607200618\" stop-color=\"rgb(30, 108, 176)\"></stop><stop offset=\"0.8751630549586744\" stop-color=\"rgb(21, 97, 167)\"></stop><stop offset=\"0.9350179491972871\" stop-color=\"rgb(15, 86, 157)\"></stop><stop offset=\"0.9948728434358997\" stop-color=\"rgb(10, 75, 145)\"></stop><stop offset=\"1\" stop-color=\"rgb(10, 74, 144)\"></stop></linearGradient></defs><rect width=\"493\" height=\"347\" fill=\"white\"></rect><g fill=\"none\" stroke-miterlimit=\"10\" transform=\"translate(37,10)\"><g class=\"mark-group role-frame root\" role=\"graphics-object\" aria-roledescription=\"group mark container\"><g transform=\"translate(0,0)\"><path class=\"background\" aria-hidden=\"true\" d=\"M0.5,0.5h400v300h-400Z\" stroke=\"#ddd\"></path><g><g class=\"mark-group role-axis\" aria-hidden=\"true\"><g transform=\"translate(0.5,300.5)\"><path class=\"background\" aria-hidden=\"true\" d=\"M0,0h0v0h0Z\" pointer-events=\"none\"></path><g><g class=\"mark-rule role-axis-grid\" pointer-events=\"none\"><line transform=\"translate(0,-300)\" x2=\"0\" y2=\"300\" stroke=\"#ddd\" stroke-width=\"1\" opacity=\"1\"></line><line transform=\"translate(36,-300)\" x2=\"0\" y2=\"300\" stroke=\"#ddd\" stroke-width=\"1\" opacity=\"1\"></line><line transform=\"translate(73,-300)\" x2=\"0\" y2=\"300\" stroke=\"#ddd\" stroke-width=\"1\" opacity=\"1\"></line><line transform=\"translate(109,-300)\" x2=\"0\" y2=\"300\" stroke=\"#ddd\" stroke-width=\"1\" opacity=\"1\"></line><line transform=\"translate(145,-300)\" x2=\"0\" y2=\"300\" stroke=\"#ddd\" stroke-width=\"1\" opacity=\"1\"></line><line transform=\"translate(182,-300)\" x2=\"0\" y2=\"300\" stroke=\"#ddd\" stroke-width=\"1\" opacity=\"1\"></line><line transform=\"translate(218,-300)\" x2=\"0\" y2=\"300\" stroke=\"#ddd\" stroke-width=\"1\" opacity=\"1\"></line><line transform=\"translate(255,-300)\" x2=\"0\" y2=\"300\" stroke=\"#ddd\" stroke-width=\"1\" opacity=\"1\"></line><line transform=\"translate(291,-300)\" x2=\"0\" y2=\"300\" stroke=\"#ddd\" stroke-width=\"1\" opacity=\"1\"></line><line transform=\"translate(327,-300)\" x2=\"0\" y2=\"300\" stroke=\"#ddd\" stroke-width=\"1\" opacity=\"1\"></line><line transform=\"translate(364,-300)\" x2=\"0\" y2=\"300\" stroke=\"#ddd\" stroke-width=\"1\" opacity=\"1\"></line><line transform=\"translate(400,-300)\" x2=\"0\" y2=\"300\" stroke=\"#ddd\" stroke-width=\"1\" opacity=\"1\"></line></g></g><path class=\"foreground\" aria-hidden=\"true\" d=\"\" pointer-events=\"none\" display=\"none\"></path></g></g><g class=\"mark-group role-axis\" aria-hidden=\"true\"><g transform=\"translate(0.5,0.5)\"><path class=\"background\" aria-hidden=\"true\" d=\"M0,0h0v0h0Z\" pointer-events=\"none\"></path><g><g class=\"mark-rule role-axis-grid\" pointer-events=\"none\"><line transform=\"translate(0,300)\" x2=\"400\" y2=\"0\" stroke=\"#ddd\" stroke-width=\"1\" opacity=\"1\"></line><line transform=\"translate(0,267)\" x2=\"400\" y2=\"0\" stroke=\"#ddd\" stroke-width=\"1\" opacity=\"1\"></line><line transform=\"translate(0,233)\" x2=\"400\" y2=\"0\" stroke=\"#ddd\" stroke-width=\"1\" opacity=\"1\"></line><line transform=\"translate(0,200)\" x2=\"400\" y2=\"0\" stroke=\"#ddd\" stroke-width=\"1\" opacity=\"1\"></line><line transform=\"translate(0,167)\" x2=\"400\" y2=\"0\" stroke=\"#ddd\" stroke-width=\"1\" opacity=\"1\"></line><line transform=\"translate(0,133)\" x2=\"400\" y2=\"0\" stroke=\"#ddd\" stroke-width=\"1\" opacity=\"1\"></line><line transform=\"translate(0,100)\" x2=\"400\" y2=\"0\" stroke=\"#ddd\" stroke-width=\"1\" opacity=\"1\"></line><line transform=\"translate(0,67)\" x2=\"400\" y2=\"0\" stroke=\"#ddd\" stroke-width=\"1\" opacity=\"1\"></line><line transform=\"translate(0,33)\" x2=\"400\" y2=\"0\" stroke=\"#ddd\" stroke-width=\"1\" opacity=\"1\"></line><line transform=\"translate(0,0)\" x2=\"400\" y2=\"0\" stroke=\"#ddd\" stroke-width=\"1\" opacity=\"1\"></line></g></g><path class=\"foreground\" aria-hidden=\"true\" d=\"\" pointer-events=\"none\" display=\"none\"></path></g></g><g class=\"mark-group role-axis\" role=\"graphics-symbol\" aria-roledescription=\"axis\" aria-label=\"X-axis titled 'x' for a linear scale with values from -5 to 6\"><g transform=\"translate(0.5,300.5)\"><path class=\"background\" aria-hidden=\"true\" d=\"M0,0h0v0h0Z\" pointer-events=\"none\"></path><g><g class=\"mark-rule role-axis-tick\" pointer-events=\"none\"><line transform=\"translate(0,0)\" x2=\"0\" y2=\"5\" stroke=\"#888\" stroke-width=\"1\" opacity=\"1\"></line><line transform=\"translate(36,0)\" x2=\"0\" y2=\"5\" stroke=\"#888\" stroke-width=\"1\" opacity=\"1\"></line><line transform=\"translate(73,0)\" x2=\"0\" y2=\"5\" stroke=\"#888\" stroke-width=\"1\" opacity=\"1\"></line><line transform=\"translate(109,0)\" x2=\"0\" y2=\"5\" stroke=\"#888\" stroke-width=\"1\" opacity=\"1\"></line><line transform=\"translate(145,0)\" x2=\"0\" y2=\"5\" stroke=\"#888\" stroke-width=\"1\" opacity=\"1\"></line><line transform=\"translate(182,0)\" x2=\"0\" y2=\"5\" stroke=\"#888\" stroke-width=\"1\" opacity=\"1\"></line><line transform=\"translate(218,0)\" x2=\"0\" y2=\"5\" stroke=\"#888\" stroke-width=\"1\" opacity=\"1\"></line><line transform=\"translate(255,0)\" x2=\"0\" y2=\"5\" stroke=\"#888\" stroke-width=\"1\" opacity=\"1\"></line><line transform=\"translate(291,0)\" x2=\"0\" y2=\"5\" stroke=\"#888\" stroke-width=\"1\" opacity=\"1\"></line><line transform=\"translate(327,0)\" x2=\"0\" y2=\"5\" stroke=\"#888\" stroke-width=\"1\" opacity=\"1\"></line><line transform=\"translate(364,0)\" x2=\"0\" y2=\"5\" stroke=\"#888\" stroke-width=\"1\" opacity=\"1\"></line><line transform=\"translate(400,0)\" x2=\"0\" y2=\"5\" stroke=\"#888\" stroke-width=\"1\" opacity=\"1\"></line></g><g class=\"mark-text role-axis-label\" pointer-events=\"none\"><text text-anchor=\"start\" transform=\"translate(0,15)\" font-family=\"sans-serif\" font-size=\"10px\" fill=\"#000\" opacity=\"1\">-5</text><text text-anchor=\"middle\" transform=\"translate(36.36363636363637,15)\" font-family=\"sans-serif\" font-size=\"10px\" fill=\"#000\" opacity=\"1\">-4</text><text text-anchor=\"middle\" transform=\"translate(72.72727272727273,15)\" font-family=\"sans-serif\" font-size=\"10px\" fill=\"#000\" opacity=\"1\">-3</text><text text-anchor=\"middle\" transform=\"translate(109.09090909090908,15)\" font-family=\"sans-serif\" font-size=\"10px\" fill=\"#000\" opacity=\"1\">-2</text><text text-anchor=\"middle\" transform=\"translate(145.45454545454547,15)\" font-family=\"sans-serif\" font-size=\"10px\" fill=\"#000\" opacity=\"1\">-1</text><text text-anchor=\"middle\" transform=\"translate(181.8181818181818,15)\" font-family=\"sans-serif\" font-size=\"10px\" fill=\"#000\" opacity=\"1\">0</text><text text-anchor=\"middle\" transform=\"translate(218.18181818181816,15)\" font-family=\"sans-serif\" font-size=\"10px\" fill=\"#000\" opacity=\"1\">1</text><text text-anchor=\"middle\" transform=\"translate(254.54545454545453,15)\" font-family=\"sans-serif\" font-size=\"10px\" fill=\"#000\" opacity=\"1\">2</text><text text-anchor=\"middle\" transform=\"translate(290.90909090909093,15)\" font-family=\"sans-serif\" font-size=\"10px\" fill=\"#000\" opacity=\"1\">3</text><text text-anchor=\"middle\" transform=\"translate(327.2727272727273,15)\" font-family=\"sans-serif\" font-size=\"10px\" fill=\"#000\" opacity=\"1\">4</text><text text-anchor=\"middle\" transform=\"translate(363.6363636363636,15)\" font-family=\"sans-serif\" font-size=\"10px\" fill=\"#000\" opacity=\"1\">5</text><text text-anchor=\"end\" transform=\"translate(400,15)\" font-family=\"sans-serif\" font-size=\"10px\" fill=\"#000\" opacity=\"1\">6</text></g><g class=\"mark-rule role-axis-domain\" pointer-events=\"none\"><line transform=\"translate(0,0)\" x2=\"400\" y2=\"0\" stroke=\"#888\" stroke-width=\"1\" opacity=\"1\"></line></g><g class=\"mark-text role-axis-title\" pointer-events=\"none\"><text text-anchor=\"middle\" transform=\"translate(200,30)\" font-family=\"sans-serif\" font-size=\"11px\" font-weight=\"bold\" fill=\"#000\" opacity=\"1\">x</text></g></g><path class=\"foreground\" aria-hidden=\"true\" d=\"\" pointer-events=\"none\" display=\"none\"></path></g></g><g class=\"mark-group role-axis\" role=\"graphics-symbol\" aria-roledescription=\"axis\" aria-label=\"Y-axis titled 'y' for a linear scale with values from -2 to 7\"><g transform=\"translate(0.5,0.5)\"><path class=\"background\" aria-hidden=\"true\" d=\"M0,0h0v0h0Z\" pointer-events=\"none\"></path><g><g class=\"mark-rule role-axis-tick\" pointer-events=\"none\"><line transform=\"translate(0,300)\" x2=\"-5\" y2=\"0\" stroke=\"#888\" stroke-width=\"1\" opacity=\"1\"></line><line transform=\"translate(0,267)\" x2=\"-5\" y2=\"0\" stroke=\"#888\" stroke-width=\"1\" opacity=\"1\"></line><line transform=\"translate(0,233)\" x2=\"-5\" y2=\"0\" stroke=\"#888\" stroke-width=\"1\" opacity=\"1\"></line><line transform=\"translate(0,200)\" x2=\"-5\" y2=\"0\" stroke=\"#888\" stroke-width=\"1\" opacity=\"1\"></line><line transform=\"translate(0,167)\" x2=\"-5\" y2=\"0\" stroke=\"#888\" stroke-width=\"1\" opacity=\"1\"></line><line transform=\"translate(0,133)\" x2=\"-5\" y2=\"0\" stroke=\"#888\" stroke-width=\"1\" opacity=\"1\"></line><line transform=\"translate(0,100)\" x2=\"-5\" y2=\"0\" stroke=\"#888\" stroke-width=\"1\" opacity=\"1\"></line><line transform=\"translate(0,67)\" x2=\"-5\" y2=\"0\" stroke=\"#888\" stroke-width=\"1\" opacity=\"1\"></line><line transform=\"translate(0,33)\" x2=\"-5\" y2=\"0\" stroke=\"#888\" stroke-width=\"1\" opacity=\"1\"></line><line transform=\"translate(0,0)\" x2=\"-5\" y2=\"0\" stroke=\"#888\" stroke-width=\"1\" opacity=\"1\"></line></g><g class=\"mark-text role-axis-label\" pointer-events=\"none\"><text text-anchor=\"end\" transform=\"translate(-7,303)\" font-family=\"sans-serif\" font-size=\"10px\" fill=\"#000\" opacity=\"1\">-2</text><text text-anchor=\"end\" transform=\"translate(-7,269.66666666666663)\" font-family=\"sans-serif\" font-size=\"10px\" fill=\"#000\" opacity=\"1\">-1</text><text text-anchor=\"end\" transform=\"translate(-7,236.33333333333334)\" font-family=\"sans-serif\" font-size=\"10px\" fill=\"#000\" opacity=\"1\">0</text><text text-anchor=\"end\" transform=\"translate(-7,203.00000000000003)\" font-family=\"sans-serif\" font-size=\"10px\" fill=\"#000\" opacity=\"1\">1</text><text text-anchor=\"end\" transform=\"translate(-7,169.66666666666669)\" font-family=\"sans-serif\" font-size=\"10px\" fill=\"#000\" opacity=\"1\">2</text><text text-anchor=\"end\" transform=\"translate(-7,136.33333333333331)\" font-family=\"sans-serif\" font-size=\"10px\" fill=\"#000\" opacity=\"1\">3</text><text text-anchor=\"end\" transform=\"translate(-7,103.00000000000001)\" font-family=\"sans-serif\" font-size=\"10px\" fill=\"#000\" opacity=\"1\">4</text><text text-anchor=\"end\" transform=\"translate(-7,69.66666666666666)\" font-family=\"sans-serif\" font-size=\"10px\" fill=\"#000\" opacity=\"1\">5</text><text text-anchor=\"end\" transform=\"translate(-7,36.33333333333335)\" font-family=\"sans-serif\" font-size=\"10px\" fill=\"#000\" opacity=\"1\">6</text><text text-anchor=\"end\" transform=\"translate(-7,3)\" font-family=\"sans-serif\" font-size=\"10px\" fill=\"#000\" opacity=\"1\">7</text></g><g class=\"mark-rule role-axis-domain\" pointer-events=\"none\"><line transform=\"translate(0,300)\" x2=\"0\" y2=\"-300\" stroke=\"#888\" stroke-width=\"1\" opacity=\"1\"></line></g><g class=\"mark-text role-axis-title\" pointer-events=\"none\"><text text-anchor=\"middle\" transform=\"translate(-21,150) rotate(-90) translate(0,-2)\" font-family=\"sans-serif\" font-size=\"11px\" font-weight=\"bold\" fill=\"#000\" opacity=\"1\">y</text></g></g><path class=\"foreground\" aria-hidden=\"true\" d=\"\" pointer-events=\"none\" display=\"none\"></path></g></g><g class=\"mark-symbol role-mark marks\" role=\"graphics-object\" aria-roledescription=\"symbol mark container\"><path aria-label=\"x: -0.891471688485; y: 0.3934615441\" role=\"graphics-symbol\" aria-roledescription=\"point\" transform=\"translate(149.40102950964152,220.21794852999645)\" d=\"M5.3950077706295945,0A5.3950077706295945,5.3950077706295945,0,1,1,-5.3950077706295945,0A5.3950077706295945,5.3950077706295945,0,1,1,5.3950077706295945,0\" stroke=\"rgb(152, 198, 225)\" stroke-width=\"2\" opacity=\"0.7\"></path><path aria-label=\"x: 2.27372975464; y: 2.42880037097\" role=\"graphics-symbol\" aria-roledescription=\"point\" transform=\"translate(264.49926380523505,152.37332096756285)\" d=\"M7.61402744257548,0A7.61402744257548,7.61402744257548,0,1,1,-7.61402744257548,0A7.61402744257548,7.61402744257548,0,1,1,7.61402744257548,0\" stroke=\"rgb(89, 162, 206)\" stroke-width=\"2\" opacity=\"0.7\"></path><path aria-label=\"x: 2.9131815756; y: 4.10956970852\" role=\"graphics-symbol\" aria-roledescription=\"point\" transform=\"translate(287.75205729459697,96.34767638264302)\" d=\"M7.987825075343353,0A7.987825075343353,7.987825075343353,0,1,1,-7.987825075343353,0A7.987825075343353,7.987825075343353,0,1,1,7.987825075343353,0\" stroke=\"rgb(48, 127, 188)\" stroke-width=\"2\" opacity=\"0.7\"></path><path aria-label=\"x: 3.4201367627; y: 4.26547340551\" role=\"graphics-symbol\" aria-roledescription=\"point\" transform=\"translate(306.18679137103794,91.15088648290866)\" d=\"M8.272175512727783,0A8.272175512727783,8.272175512727783,0,1,1,-8.272175512727783,0A8.272175512727783,8.272175512727783,0,1,1,8.272175512727783,0\" stroke=\"rgb(44, 124, 186)\" stroke-width=\"2\" opacity=\"0.7\"></path><path aria-label=\"x: 3.37773643697; y: 3.87046884148\" role=\"graphics-symbol\" aria-roledescription=\"point\" transform=\"translate(304.6449613444598,104.31770528411167)\" d=\"M8.248768865461434,0A8.248768865461434,8.248768865461434,0,1,1,-8.248768865461434,0A8.248768865461434,8.248768865461434,0,1,1,8.248768865461434,0\" stroke=\"rgb(53, 132, 191)\" stroke-width=\"2\" opacity=\"0.7\"></path><path aria-label=\"x: -0.641043185202; y: 1.90769441314\" role=\"graphics-symbol\" aria-roledescription=\"point\" transform=\"translate(158.50752053810297,169.7435195619549)\" d=\"M5.602684145841308,0A5.602684145841308,5.602684145841308,0,1,1,-5.602684145841308,0A5.602684145841308,5.602684145841308,0,1,1,5.602684145841308,0\" stroke=\"rgb(105, 171, 211)\" stroke-width=\"2\" opacity=\"0.7\"></path><path aria-label=\"x: 1.89240334107; y: 3.36564005937\" role=\"graphics-symbol\" aria-roledescription=\"point\" transform=\"translate(250.63284876625212,121.14533135430877)\" d=\"M7.382115993450054,0A7.382115993450054,7.382115993450054,0,1,1,-7.382115993450054,0A7.382115993450054,7.382115993450054,0,1,1,7.382115993450054,0\" stroke=\"rgb(65, 143, 196)\" stroke-width=\"2\" opacity=\"0.7\"></path><path aria-label=\"x: -1.27479669153; y: 0.139451678366\" role=\"graphics-symbol\" aria-roledescription=\"point\" transform=\"translate(135.46193848986613,228.68494405447498)\" d=\"M5.060642640209516,0A5.060642640209516,5.060642640209516,0,1,1,-5.060642640209516,0A5.060642640209516,5.060642640209516,0,1,1,5.060642640209516,0\" stroke=\"rgb(160, 202, 227)\" stroke-width=\"2\" opacity=\"0.7\"></path><path aria-label=\"x: -0.411707161791; y: 0.120180769184\" role=\"graphics-symbol\" aria-roledescription=\"point\" transform=\"translate(166.8470122984985,229.3273076938554)\" d=\"M5.786334121342282,0A5.786334121342282,5.786334121342282,0,1,1,-5.786334121342282,0A5.786334121342282,5.786334121342282,0,1,1,5.786334121342282,0\" stroke=\"rgb(160, 202, 227)\" stroke-width=\"2\" opacity=\"0.7\"></path><path aria-label=\"x: 0.0717734783032; y: 1.07046913961\" role=\"graphics-symbol\" aria-roledescription=\"point\" transform=\"translate(184.428126483754,197.65102867964814)\" d=\"M6.155575360664574,0A6.155575360664574,6.155575360664574,0,1,1,-6.155575360664574,0A6.155575360664574,6.155575360664574,0,1,1,6.155575360664574,0\" stroke=\"rgb(131, 186, 219)\" stroke-width=\"2\" opacity=\"0.7\"></path><path aria-label=\"x: 0.503434694721; y: 2.55907143708\" role=\"graphics-symbol\" aria-roledescription=\"point\" transform=\"translate(200.12489798983833,148.0309520974171)\" d=\"M6.467453084442771,0A6.467453084442771,6.467453084442771,0,1,1,-6.467453084442771,0A6.467453084442771,6.467453084442771,0,1,1,6.467453084442771,0\" stroke=\"rgb(86, 159, 205)\" stroke-width=\"2\" opacity=\"0.7\"></path><path aria-label=\"x: 2.05754101891; y: 5.06782203772\" role=\"graphics-symbol\" aria-roledescription=\"point\" transform=\"translate(256.6378552330733,64.40593207589464)\" d=\"M7.483430163258357,0A7.483430163258357,7.483430163258357,0,1,1,-7.483430163258357,0A7.483430163258357,7.483430163258357,0,1,1,7.483430163258357,0\" stroke=\"rgb(29, 107, 175)\" stroke-width=\"2\" opacity=\"0.7\"></path><path aria-label=\"x: 1.29814691584; y: 1.59894912637\" role=\"graphics-symbol\" aria-roledescription=\"point\" transform=\"translate(229.02352421252766,180.0350291211586)\" d=\"M7.005418798937516,0A7.005418798937516,7.005418798937516,0,1,1,-7.005418798937516,0A7.005418798937516,7.005418798937516,0,1,1,7.005418798937516,0\" stroke=\"rgb(114, 177, 214)\" stroke-width=\"2\" opacity=\"0.7\"></path><path aria-label=\"x: 1.72844388935; y: 4.78415199703\" role=\"graphics-symbol\" aria-roledescription=\"point\" transform=\"translate(244.67068688541724,73.86160009906627)\" d=\"M7.2801299263076515,0A7.2801299263076515,7.2801299263076515,0,1,1,-7.2801299263076515,0A7.2801299263076515,7.2801299263076515,0,1,1,7.2801299263076515,0\" stroke=\"rgb(34, 113, 179)\" stroke-width=\"2\" opacity=\"0.7\"></path><path aria-label=\"x: 0.489429187689; y: 2.07037790898\" role=\"graphics-symbol\" aria-roledescription=\"point\" transform=\"translate(199.61560682504364,164.32073636738517)\" d=\"M6.45757045799989,0A6.45757045799989,6.45757045799989,0,1,1,-6.45757045799989,0A6.45757045799989,6.45757045799989,0,1,1,6.45757045799989,0\" stroke=\"rgb(100, 168, 210)\" stroke-width=\"2\" opacity=\"0.7\"></path><path aria-label=\"x: 1.54386373793; y: 1.39239126187\" role=\"graphics-symbol\" aria-roledescription=\"point\" transform=\"translate(237.95868137915437,186.92029127089074)\" d=\"M7.163580237189642,0A7.163580237189642,7.163580237189642,0,1,1,-7.163580237189642,0A7.163580237189642,7.163580237189642,0,1,1,7.163580237189642,0\" stroke=\"rgb(120, 180, 216)\" stroke-width=\"2\" opacity=\"0.7\"></path><path aria-label=\"x: 1.63143930989; y: 3.37448880611\" role=\"graphics-symbol\" aria-roledescription=\"point\" transform=\"translate(241.14324763242178,120.85037312952569)\" d=\"M7.219112792463685,0A7.219112792463685,7.219112792463685,0,1,1,-7.219112792463685,0A7.219112792463685,7.219112792463685,0,1,1,7.219112792463685,0\" stroke=\"rgb(65, 142, 196)\" stroke-width=\"2\" opacity=\"0.7\"></path><path aria-label=\"x: 1.49111793157; y: 3.06182268633\" role=\"graphics-symbol\" aria-roledescription=\"point\" transform=\"translate(236.0406520571857,131.27257712217443)\" d=\"M7.129924889562363,0A7.129924889562363,7.129924889562363,0,1,1,-7.129924889562363,0A7.129924889562363,7.129924889562363,0,1,1,7.129924889562363,0\" stroke=\"rgb(73, 149, 200)\" stroke-width=\"2\" opacity=\"0.7\"></path><path aria-label=\"x: 5.81274722558; y: 5.14983247827\" role=\"graphics-symbol\" aria-roledescription=\"point\" transform=\"translate(393.190808202791,61.67225072420878)\" d=\"M9.5,0A9.5,9.5,0,1,1,-9.5,0A9.5,9.5,0,1,1,9.5,0\" stroke=\"rgb(27, 105, 173)\" stroke-width=\"2\" opacity=\"0.7\"></path><path aria-label=\"x: 2.92991396009; y: 4.35073365236\" role=\"graphics-symbol\" aria-roledescription=\"point\" transform=\"translate(288.3605076395083,88.30887825450274)\" d=\"M7.997371587683772,0A7.997371587683772,7.997371587683772,0,1,1,-7.997371587683772,0A7.997371587683772,7.997371587683772,0,1,1,7.997371587683772,0\" stroke=\"rgb(43, 122, 185)\" stroke-width=\"2\" opacity=\"0.7\"></path><path aria-label=\"x: 1.58073337808; y: 1.85395760003\" role=\"graphics-symbol\" aria-roledescription=\"point\" transform=\"translate(239.29939556661202,171.53474666553944)\" d=\"M7.187011946055098,0A7.187011946055098,7.187011946055098,0,1,1,-7.187011946055098,0A7.187011946055098,7.187011946055098,0,1,1,7.187011946055098,0\" stroke=\"rgb(106, 172, 212)\" stroke-width=\"2\" opacity=\"0.7\"></path><path aria-label=\"x: 0.995769138328; y: 2.22079109828\" role=\"graphics-symbol\" aria-roledescription=\"point\" transform=\"translate(218.0279686664896,159.30696339052412)\" d=\"M6.8057434136737855,0A6.8057434136737855,6.8057434136737855,0,1,1,-6.8057434136737855,0A6.8057434136737855,6.8057434136737855,0,1,1,6.8057434136737855,0\" stroke=\"rgb(95, 166, 208)\" stroke-width=\"2\" opacity=\"0.7\"></path><path aria-label=\"x: 1.8417026837; y: 1.79653900675\" role=\"graphics-symbol\" aria-roledescription=\"point\" transform=\"translate(248.78918849809176,173.44869977500136)\" d=\"M7.350730293456588,0A7.350730293456588,7.350730293456588,0,1,1,-7.350730293456588,0A7.350730293456588,7.350730293456588,0,1,1,7.350730293456588,0\" stroke=\"rgb(108, 173, 212)\" stroke-width=\"2\" opacity=\"0.7\"></path><path aria-label=\"x: 1.12668596066; y: 1.56122923384\" role=\"graphics-symbol\" aria-roledescription=\"point\" transform=\"translate(222.78858038781468,181.29235887197922)\" d=\"M6.892904500807907,0A6.892904500807907,6.892904500807907,0,1,1,-6.892904500807907,0A6.892904500807907,6.892904500807907,0,1,1,6.892904500807907,0\" stroke=\"rgb(115, 177, 215)\" stroke-width=\"2\" opacity=\"0.7\"></path><path aria-label=\"x: 0.173149908507; y: 1.47114194637\" role=\"graphics-symbol\" aria-roledescription=\"point\" transform=\"translate(188.11454212753483,184.29526845434896)\" d=\"M6.230223307052669,0A6.230223307052669,6.230223307052669,0,1,1,-6.230223307052669,0A6.230223307052669,6.230223307052669,0,1,1,6.230223307052669,0\" stroke=\"rgb(118, 179, 215)\" stroke-width=\"2\" opacity=\"0.7\"></path><path aria-label=\"x: 2.06685160664; y: 2.85825011416\" role=\"graphics-symbol\" aria-roledescription=\"point\" transform=\"translate(256.976422059609,138.05832952786972)\" d=\"M7.489101517077278,0A7.489101517077278,7.489101517077278,0,1,1,-7.489101517077278,0A7.489101517077278,7.489101517077278,0,1,1,7.489101517077278,0\" stroke=\"rgb(78, 153, 202)\" stroke-width=\"2\" opacity=\"0.7\"></path><path aria-label=\"x: -2.06406877475; y: 0.631553696723\" role=\"graphics-symbol\" aria-roledescription=\"point\" transform=\"translate(106.76113546374037,212.2815434425539)\" d=\"M4.290894544088759,0A4.290894544088759,4.290894544088759,0,1,1,-4.290894544088759,0A4.290894544088759,4.290894544088759,0,1,1,4.290894544088759,0\" stroke=\"rgb(145, 194, 223)\" stroke-width=\"2\" opacity=\"0.7\"></path><path aria-label=\"x: 0.279163429594; y: 2.31508553398\" role=\"graphics-symbol\" aria-roledescription=\"point\" transform=\"translate(191.96957925794857,156.16381553394905)\" d=\"M6.3073408135271105,0A6.3073408135271105,6.3073408135271105,0,1,1,-6.3073408135271105,0A6.3073408135271105,6.3073408135271105,0,1,1,6.3073408135271105,0\" stroke=\"rgb(93, 164, 207)\" stroke-width=\"2\" opacity=\"0.7\"></path><path aria-label=\"x: 0.411289786434; y: 0.335218291395\" role=\"graphics-symbol\" aria-roledescription=\"point\" transform=\"translate(196.77417405214342,222.15939028682516)\" d=\"M6.402153418372484,0A6.402153418372484,6.402153418372484,0,1,1,-6.402153418372484,0A6.402153418372484,6.402153418372484,0,1,1,6.402153418372484,0\" stroke=\"rgb(154, 199, 225)\" stroke-width=\"2\" opacity=\"0.7\"></path><path aria-label=\"x: 1.36531871594; y: 3.35599731717\" role=\"graphics-symbol\" aria-roledescription=\"point\" transform=\"translate(231.4661351250876,121.4667560942745)\" d=\"M7.04900798263929,0A7.04900798263929,7.04900798263929,0,1,1,-7.04900798263929,0A7.04900798263929,7.04900798263929,0,1,1,7.04900798263929,0\" stroke=\"rgb(65, 143, 196)\" stroke-width=\"2\" opacity=\"0.7\"></path><path aria-label=\"x: 2.3377734002; y: 4.41410642387\" role=\"graphics-symbol\" aria-roledescription=\"point\" transform=\"translate(266.8281236437657,86.19645253778275)\" d=\"M7.652287596376574,0A7.652287596376574,7.652287596376574,0,1,1,-7.652287596376574,0A7.652287596376574,7.652287596376574,0,1,1,7.652287596376574,0\" stroke=\"rgb(41, 121, 184)\" stroke-width=\"2\" opacity=\"0.7\"></path><path aria-label=\"x: -0.0839289966848; y: 2.04344657139\" role=\"graphics-symbol\" aria-roledescription=\"point\" transform=\"translate(178.7662183023716,165.2184476202575)\" d=\"M6.039128131950753,0A6.039128131950753,6.039128131950753,0,1,1,-6.039128131950753,0A6.039128131950753,6.039128131950753,0,1,1,6.039128131950753,0\" stroke=\"rgb(101, 169, 210)\" stroke-width=\"2\" opacity=\"0.7\"></path><path aria-label=\"x: -0.106496169539; y: 1.56943995228\" role=\"graphics-symbol\" aria-roledescription=\"point\" transform=\"translate(177.94559383493507,181.01866825748104)\" d=\"M6.02206370074098,0A6.02206370074098,6.02206370074098,0,1,1,-6.02206370074098,0A6.02206370074098,6.02206370074098,0,1,1,6.02206370074098,0\" stroke=\"rgb(115, 177, 215)\" stroke-width=\"2\" opacity=\"0.7\"></path><path aria-label=\"x: 3.21248524508; y: 3.30902986352\" role=\"graphics-symbol\" aria-roledescription=\"point\" transform=\"translate(298.63582709373924,123.0323378825093)\" d=\"M8.156902724443723,0A8.156902724443723,8.156902724443723,0,1,1,-8.156902724443723,0A8.156902724443723,8.156902724443723,0,1,1,8.156902724443723,0\" stroke=\"rgb(66, 144, 197)\" stroke-width=\"2\" opacity=\"0.7\"></path><path aria-label=\"x: -0.558097107578; y: 0.776774049966\" role=\"graphics-symbol\" aria-roledescription=\"point\" transform=\"translate(161.5237415426362,207.44086500113207)\" d=\"M5.669793238599383,0A5.669793238599383,5.669793238599383,0,1,1,-5.669793238599383,0A5.669793238599383,5.669793238599383,0,1,1,5.669793238599383,0\" stroke=\"rgb(140, 192, 221)\" stroke-width=\"2\" opacity=\"0.7\"></path><path aria-label=\"x: 2.0700940145; y: 2.65191996055\" role=\"graphics-symbol\" aria-roledescription=\"point\" transform=\"translate(257.0943277999707,144.93600131485888)\" d=\"M7.491075555416127,0A7.491075555416127,7.491075555416127,0,1,1,-7.491075555416127,0A7.491075555416127,7.491075555416127,0,1,1,7.491075555416127,0\" stroke=\"rgb(83, 157, 204)\" stroke-width=\"2\" opacity=\"0.7\"></path><path aria-label=\"x: 2.5559378032; y: 4.34959158078\" role=\"graphics-symbol\" aria-roledescription=\"point\" transform=\"translate(274.7613746616948,88.34694730728752)\" d=\"M7.781208829473135,0A7.781208829473135,7.781208829473135,0,1,1,-7.781208829473135,0A7.781208829473135,7.781208829473135,0,1,1,7.781208829473135,0\" stroke=\"rgb(43, 122, 185)\" stroke-width=\"2\" opacity=\"0.7\"></path><path aria-label=\"x: -0.659705144596; y: -0.238342298762\" role=\"graphics-symbol\" aria-roledescription=\"point\" transform=\"translate(157.8289038328713,241.27807662540715)\" d=\"M5.587474262180146,0A5.587474262180146,5.587474262180146,0,1,1,-5.587474262180146,0A5.587474262180146,5.587474262180146,0,1,1,5.587474262180146,0\" stroke=\"rgb(171, 207, 230)\" stroke-width=\"2\" opacity=\"0.7\"></path><path aria-label=\"x: 0.132021100567; y: 0.608803962871\" role=\"graphics-symbol\" aria-roledescription=\"point\" transform=\"translate(186.6189491115397,213.03986790431338)\" d=\"M6.200046697302573,0A6.200046697302573,6.200046697302573,0,1,1,-6.200046697302573,0A6.200046697302573,6.200046697302573,0,1,1,6.200046697302573,0\" stroke=\"rgb(146, 194, 223)\" stroke-width=\"2\" opacity=\"0.7\"></path><path aria-label=\"x: 1.35347675657; y: 2.10489787491\" role=\"graphics-symbol\" aria-roledescription=\"point\" transform=\"translate(231.0355184206992,163.17007083644953)\" d=\"M7.041343080057778,0A7.041343080057778,7.041343080057778,0,1,1,-7.041343080057778,0A7.041343080057778,7.041343080057778,0,1,1,7.041343080057778,0\" stroke=\"rgb(99, 168, 210)\" stroke-width=\"2\" opacity=\"0.7\"></path><path aria-label=\"x: 1.38353544732; y: 1.79586940539\" role=\"graphics-symbol\" aria-roledescription=\"point\" transform=\"translate(232.1285617206683,173.47101982029406)\" d=\"M7.060782815906485,0A7.060782815906485,7.060782815906485,0,1,1,-7.060782815906485,0A7.060782815906485,7.060782815906485,0,1,1,7.060782815906485,0\" stroke=\"rgb(108, 173, 212)\" stroke-width=\"2\" opacity=\"0.7\"></path><path aria-label=\"x: -2.40664702204; y: -0.567380376673\" role=\"graphics-symbol\" aria-roledescription=\"point\" transform=\"translate(94.30374465292824,252.24601255577096)\" d=\"M3.9099092170577254,0A3.9099092170577254,3.9099092170577254,0,1,1,-3.9099092170577254,0A3.9099092170577254,3.9099092170577254,0,1,1,3.9099092170577254,0\" stroke=\"rgb(179, 211, 233)\" stroke-width=\"2\" opacity=\"0.7\"></path><path aria-label=\"x: 1.74244591008; y: 2.82971896255\" role=\"graphics-symbol\" aria-roledescription=\"point\" transform=\"translate(245.17985127571808,139.00936791512777)\" d=\"M7.288895192522455,0A7.288895192522455,7.288895192522455,0,1,1,-7.288895192522455,0A7.288895192522455,7.288895192522455,0,1,1,7.288895192522455,0\" stroke=\"rgb(79, 154, 202)\" stroke-width=\"2\" opacity=\"0.7\"></path><path aria-label=\"x: 0.576868523219; y: 1.15938169072\" role=\"graphics-symbol\" aria-roledescription=\"point\" transform=\"translate(202.7952190261363,194.6872769761257)\" d=\"M6.519024575092429,0A6.519024575092429,6.519024575092429,0,1,1,-6.519024575092429,0A6.519024575092429,6.519024575092429,0,1,1,6.519024575092429,0\" stroke=\"rgb(128, 185, 218)\" stroke-width=\"2\" opacity=\"0.7\"></path><path aria-label=\"x: -0.57017739811; y: 0.279420088634\" role=\"graphics-symbol\" aria-roledescription=\"point\" transform=\"translate(161.08445825052976,224.01933037885058)\" d=\"M5.660068954504212,0A5.660068954504212,5.660068954504212,0,1,1,-5.660068954504212,0A5.660068954504212,5.660068954504212,0,1,1,5.660068954504212,0\" stroke=\"rgb(155, 199, 225)\" stroke-width=\"2\" opacity=\"0.7\"></path><path aria-label=\"x: 2.20244092224; y: 3.12497719625\" role=\"graphics-symbol\" aria-roledescription=\"point\" transform=\"translate(261.90694262677783,129.16742679150525)\" d=\"M7.571211574250475,0A7.571211574250475,7.571211574250475,0,1,1,-7.571211574250475,0A7.571211574250475,7.571211574250475,0,1,1,7.571211574250475,0\" stroke=\"rgb(71, 148, 199)\" stroke-width=\"2\" opacity=\"0.7\"></path><path aria-label=\"x: 0.750240995525; y: 1.37829228693\" role=\"graphics-symbol\" aria-roledescription=\"point\" transform=\"translate(209.09967256455087,187.39025710230493)\" d=\"M6.639192341049794,0A6.639192341049794,6.639192341049794,0,1,1,-6.639192341049794,0A6.639192341049794,6.639192341049794,0,1,1,6.639192341049794,0\" stroke=\"rgb(121, 181, 216)\" stroke-width=\"2\" opacity=\"0.7\"></path><path aria-label=\"x: 0.868338738743; y: 3.04184652437\" role=\"graphics-symbol\" aria-roledescription=\"point\" transform=\"translate(213.39413595427973,131.9384491876162)\" d=\"M6.719817801058834,0A6.719817801058834,6.719817801058834,0,1,1,-6.719817801058834,0A6.719817801058834,6.719817801058834,0,1,1,6.719817801058834,0\" stroke=\"rgb(73, 149, 200)\" stroke-width=\"2\" opacity=\"0.7\"></path><path aria-label=\"x: 1.24404182171; y: 2.58741146483\" role=\"graphics-symbol\" aria-roledescription=\"point\" transform=\"translate(227.05606624395577,147.08628450564595)\" d=\"M6.970110664348331,0A6.970110664348331,6.970110664348331,0,1,1,-6.970110664348331,0A6.970110664348331,6.970110664348331,0,1,1,6.970110664348331,0\" stroke=\"rgb(85, 158, 205)\" stroke-width=\"2\" opacity=\"0.7\"></path><path aria-label=\"x: 1.37427061231; y: 1.22121694462\" role=\"graphics-symbol\" aria-roledescription=\"point\" transform=\"translate(231.7916586295485,192.62610184605134)\" d=\"M7.054796717352863,0A7.054796717352863,7.054796717352863,0,1,1,-7.054796717352863,0A7.054796717352863,7.054796717352863,0,1,1,7.054796717352863,0\" stroke=\"rgb(126, 184, 218)\" stroke-width=\"2\" opacity=\"0.7\"></path><path aria-label=\"x: 4.20391742563; y: 3.71846556326\" role=\"graphics-symbol\" aria-roledescription=\"point\" transform=\"translate(334.6879063864944,109.38448122471421)\" d=\"M8.693510956165388,0A8.693510956165388,8.693510956165388,0,1,1,-8.693510956165388,0A8.693510956165388,8.693510956165388,0,1,1,8.693510956165388,0\" stroke=\"rgb(57, 135, 192)\" stroke-width=\"2\" opacity=\"0.7\"></path><path aria-label=\"x: 2.75693947625; y: 1.67185612359\" role=\"graphics-symbol\" aria-roledescription=\"point\" transform=\"translate(282.0705264090147,177.6047958801851)\" d=\"M7.898125633307098,0A7.898125633307098,7.898125633307098,0,1,1,-7.898125633307098,0A7.898125633307098,7.898125633307098,0,1,1,7.898125633307098,0\" stroke=\"rgb(112, 175, 214)\" stroke-width=\"2\" opacity=\"0.7\"></path><path aria-label=\"x: 3.88070957898; y: 3.56985272456\" role=\"graphics-symbol\" aria-roledescription=\"point\" transform=\"translate(322.93489378120427,114.33824251472502)\" d=\"M8.522288952118851,0A8.522288952118851,8.522288952118851,0,1,1,-8.522288952118851,0A8.522288952118851,8.522288952118851,0,1,1,8.522288952118851,0\" stroke=\"rgb(60, 139, 194)\" stroke-width=\"2\" opacity=\"0.7\"></path><path aria-label=\"x: 1.1584963542; y: 3.22666747357\" role=\"graphics-symbol\" aria-roledescription=\"point\" transform=\"translate(223.94532197108336,125.77775088106391)\" d=\"M6.9139171211882005,0A6.9139171211882005,6.9139171211882005,0,1,1,-6.9139171211882005,0A6.9139171211882005,6.9139171211882005,0,1,1,6.9139171211882005,0\" stroke=\"rgb(68, 145, 198)\" stroke-width=\"2\" opacity=\"0.7\"></path><path aria-label=\"x: 1.64034361172; y: 2.40342453772\" role=\"graphics-symbol\" aria-roledescription=\"point\" transform=\"translate(241.4670404263076,153.2191820759324)\" d=\"M7.224735193895895,0A7.224735193895895,7.224735193895895,0,1,1,-7.224735193895895,0A7.224735193895895,7.224735193895895,0,1,1,7.224735193895895,0\" stroke=\"rgb(90, 162, 207)\" stroke-width=\"2\" opacity=\"0.7\"></path><path aria-label=\"x: -0.138720676603; y: 2.31612646902\" role=\"graphics-symbol\" aria-roledescription=\"point\" transform=\"translate(176.77379357808823,156.12911769941672)\" d=\"M5.997612600999263,0A5.997612600999263,5.997612600999263,0,1,1,-5.997612600999263,0A5.997612600999263,5.997612600999263,0,1,1,5.997612600999263,0\" stroke=\"rgb(92, 164, 207)\" stroke-width=\"2\" opacity=\"0.7\"></path><path aria-label=\"x: -2.78849830104; y: -0.403479255432\" role=\"graphics-symbol\" aria-roledescription=\"point\" transform=\"translate(80.4182435983676,246.78264184773786)\" d=\"M3.435815164794617,0A3.435815164794617,3.435815164794617,0,1,1,-3.435815164794617,0A3.435815164794617,3.435815164794617,0,1,1,3.435815164794617,0\" stroke=\"rgb(175, 209, 231)\" stroke-width=\"2\" opacity=\"0.7\"></path><path aria-label=\"x: 0.621549713173; y: 1.67453953629\" role=\"graphics-symbol\" aria-roledescription=\"point\" transform=\"translate(204.41998956990938,177.51534879033088)\" d=\"M6.55020482818853,0A6.55020482818853,6.55020482818853,0,1,1,-6.55020482818853,0A6.55020482818853,6.55020482818853,0,1,1,6.55020482818853,0\" stroke=\"rgb(112, 175, 214)\" stroke-width=\"2\" opacity=\"0.7\"></path><path aria-label=\"x: 0.114536437321; y: 2.37393185272\" role=\"graphics-symbol\" aria-roledescription=\"point\" transform=\"translate(185.98314317531626,154.20227157602713)\" d=\"M6.187173444351252,0A6.187173444351252,6.187173444351252,0,1,1,-6.187173444351252,0A6.187173444351252,6.187173444351252,0,1,1,6.187173444351252,0\" stroke=\"rgb(91, 163, 207)\" stroke-width=\"2\" opacity=\"0.7\"></path><path aria-label=\"x: 3.680326672; y: 5.21117284544\" role=\"graphics-symbol\" aria-roledescription=\"point\" transform=\"translate(315.6482426182102,59.627571818557314)\" d=\"M8.414384979836015,0A8.414384979836015,8.414384979836015,0,1,1,-8.414384979836015,0A8.414384979836015,8.414384979836015,0,1,1,8.414384979836015,0\" stroke=\"rgb(26, 103, 172)\" stroke-width=\"2\" opacity=\"0.7\"></path><path aria-label=\"x: 0.91973878251; y: 1.87221065309\" role=\"graphics-symbol\" aria-roledescription=\"point\" transform=\"translate(215.26322845491995,170.92631156370823)\" d=\"M6.754608095553842,0A6.754608095553842,6.754608095553842,0,1,1,-6.754608095553842,0A6.754608095553842,6.754608095553842,0,1,1,6.754608095553842,0\" stroke=\"rgb(106, 172, 212)\" stroke-width=\"2\" opacity=\"0.7\"></path><path aria-label=\"x: 3.21509225027; y: 3.9828388434\" role=\"graphics-symbol\" aria-roledescription=\"point\" transform=\"translate(298.7306272825682,100.57203855340606)\" d=\"M8.15836003701114,0A8.15836003701114,8.15836003701114,0,1,1,-8.15836003701114,0A8.15836003701114,8.15836003701114,0,1,1,8.15836003701114,0\" stroke=\"rgb(50, 130, 190)\" stroke-width=\"2\" opacity=\"0.7\"></path><path aria-label=\"x: 2.84374963421; y: 3.9832403143\" role=\"graphics-symbol\" aria-roledescription=\"point\" transform=\"translate(285.2272594257358,100.55865618993842)\" d=\"M7.948088794038821,0A7.948088794038821,7.948088794038821,0,1,1,-7.948088794038821,0A7.948088794038821,7.948088794038821,0,1,1,7.948088794038821,0\" stroke=\"rgb(50, 130, 190)\" stroke-width=\"2\" opacity=\"0.7\"></path><path aria-label=\"x: 1.75612317048; y: 1.89125132337\" role=\"graphics-symbol\" aria-roledescription=\"point\" transform=\"translate(245.67720619934116,170.2916225541883)\" d=\"M7.29744699387828,0A7.29744699387828,7.29744699387828,0,1,1,-7.29744699387828,0A7.29744699387828,7.29744699387828,0,1,1,7.29744699387828,0\" stroke=\"rgb(105, 172, 212)\" stroke-width=\"2\" opacity=\"0.7\"></path><path aria-label=\"x: -0.937826210943; y: 0.675534628184\" role=\"graphics-symbol\" aria-roledescription=\"point\" transform=\"translate(147.71541051117296,210.81551239387753)\" d=\"M5.355683506244607,0A5.355683506244607,5.355683506244607,0,1,1,-5.355683506244607,0A5.355683506244607,5.355683506244607,0,1,1,5.355683506244607,0\" stroke=\"rgb(144, 193, 222)\" stroke-width=\"2\" opacity=\"0.7\"></path><path aria-label=\"x: 5.67979915458; y: 6.54282988575\" role=\"graphics-symbol\" aria-roledescription=\"point\" transform=\"translate(388.3563328937625,15.2390038082041)\" d=\"M9.43596765250369,0A9.43596765250369,9.43596765250369,0,1,1,-9.43596765250369,0A9.43596765250369,9.43596765250369,0,1,1,9.43596765250369,0\" stroke=\"rgb(10, 74, 144)\" stroke-width=\"2\" opacity=\"0.7\"></path><path aria-label=\"x: 4.05667883055; y: 3.46104813305\" role=\"graphics-symbol\" aria-roledescription=\"point\" transform=\"translate(329.33377565651983,117.96506223182325)\" d=\"M8.61593208475113,0A8.61593208475113,8.61593208475113,0,1,1,-8.61593208475113,0A8.61593208475113,8.61593208475113,0,1,1,8.61593208475113,0\" stroke=\"rgb(63, 141, 195)\" stroke-width=\"2\" opacity=\"0.7\"></path><path aria-label=\"x: -1.12386131964; y: 0.565630106083\" role=\"graphics-symbol\" aria-roledescription=\"point\" transform=\"translate(140.9504974675279,214.47899646390033)\" d=\"M5.194869235352129,0A5.194869235352129,5.194869235352129,0,1,1,-5.194869235352129,0A5.194869235352129,5.194869235352129,0,1,1,5.194869235352129,0\" stroke=\"rgb(147, 195, 223)\" stroke-width=\"2\" opacity=\"0.7\"></path><path aria-label=\"x: 4.23811692147; y: 5.81039790225\" role=\"graphics-symbol\" aria-roledescription=\"point\" transform=\"translate(335.9315244172623,39.65340325849538)\" d=\"M8.71143153353838,0A8.71143153353838,8.71143153353838,0,1,1,-8.71143153353838,0A8.71143153353838,8.71143153353838,0,1,1,8.71143153353838,0\" stroke=\"rgb(17, 90, 162)\" stroke-width=\"2\" opacity=\"0.7\"></path><path aria-label=\"x: 3.64023148087; y: 3.30458024346\" role=\"graphics-symbol\" aria-roledescription=\"point\" transform=\"translate(314.1902356678925,123.18065855117285)\" d=\"M8.392627597198375,0A8.392627597198375,8.392627597198375,0,1,1,-8.392627597198375,0A8.392627597198375,8.392627597198375,0,1,1,8.392627597198375,0\" stroke=\"rgb(67, 144, 197)\" stroke-width=\"2\" opacity=\"0.7\"></path><path aria-label=\"x: 1.5855303729; y: 1.66557197745\" role=\"graphics-symbol\" aria-roledescription=\"point\" transform=\"translate(239.4738317418455,177.81426741821846)\" d=\"M7.190054959296355,0A7.190054959296355,7.190054959296355,0,1,1,-7.190054959296355,0A7.190054959296355,7.190054959296355,0,1,1,7.190054959296355,0\" stroke=\"rgb(112, 176, 214)\" stroke-width=\"2\" opacity=\"0.7\"></path><path aria-label=\"x: -0.526675896481; y: 0.222256191064\" role=\"graphics-symbol\" aria-roledescription=\"point\" transform=\"translate(162.6663310370642,225.92479363118855)\" d=\"M5.695008643001871,0A5.695008643001871,5.695008643001871,0,1,1,-5.695008643001871,0A5.695008643001871,5.695008643001871,0,1,1,5.695008643001871,0\" stroke=\"rgb(157, 200, 226)\" stroke-width=\"2\" opacity=\"0.7\"></path><path aria-label=\"x: 0.120533893379; y: 1.82371062306\" role=\"graphics-symbol\" aria-roledescription=\"point\" transform=\"translate(186.20123248649526,172.54297923118426)\" d=\"M6.191592145422166,0A6.191592145422166,6.191592145422166,0,1,1,-6.191592145422166,0A6.191592145422166,6.191592145422166,0,1,1,6.191592145422166,0\" stroke=\"rgb(107, 173, 212)\" stroke-width=\"2\" opacity=\"0.7\"></path><path aria-label=\"x: 0.220644655248; y: 0.750110250634\" role=\"graphics-symbol\" aria-roledescription=\"point\" transform=\"translate(189.84162382721442,208.3296583121981)\" d=\"M6.2648898288715476,0A6.2648898288715476,6.2648898288715476,0,1,1,-6.2648898288715476,0A6.2648898288715476,6.2648898288715476,0,1,1,6.2648898288715476,0\" stroke=\"rgb(141, 192, 222)\" stroke-width=\"2\" opacity=\"0.7\"></path><path aria-label=\"x: 1.89750651315; y: 0.849269115725\" role=\"graphics-symbol\" aria-roledescription=\"point\" transform=\"translate(250.81841865985584,205.02436280917746)\" d=\"M7.385267669278363,0A7.385267669278363,7.385267669278363,0,1,1,-7.385267669278363,0A7.385267669278363,7.385267669278363,0,1,1,7.385267669278363,0\" stroke=\"rgb(138, 190, 221)\" stroke-width=\"2\" opacity=\"0.7\"></path><path aria-label=\"x: 1.86437739477; y: 4.21615854994\" role=\"graphics-symbol\" aria-roledescription=\"point\" transform=\"translate(249.61372344605937,92.7947150018433)\" d=\"M7.364783363866589,0A7.364783363866589,7.364783363866589,0,1,1,-7.364783363866589,0A7.364783363866589,7.364783363866589,0,1,1,7.364783363866589,0\" stroke=\"rgb(45, 125, 187)\" stroke-width=\"2\" opacity=\"0.7\"></path><path aria-label=\"x: 2.38560897908; y: 2.40250996615\" role=\"graphics-symbol\" aria-roledescription=\"point\" transform=\"translate(268.5675992393587,153.24966779484052)\" d=\"M7.680740591299044,0A7.680740591299044,7.680740591299044,0,1,1,-7.680740591299044,0A7.680740591299044,7.680740591299044,0,1,1,7.680740591299044,0\" stroke=\"rgb(90, 162, 207)\" stroke-width=\"2\" opacity=\"0.7\"></path><path aria-label=\"x: 2.41622517535; y: 3.81273411537\" role=\"graphics-symbol\" aria-roledescription=\"point\" transform=\"translate(269.6809154670923,106.24219615425481)\" d=\"M7.698896167703146,0A7.698896167703146,7.698896167703146,0,1,1,-7.698896167703146,0A7.698896167703146,7.698896167703146,0,1,1,7.698896167703146,0\" stroke=\"rgb(54, 134, 191)\" stroke-width=\"2\" opacity=\"0.7\"></path><path aria-label=\"x: 1.44191149652; y: 2.37187520638\" role=\"graphics-symbol\" aria-roledescription=\"point\" transform=\"translate(234.25132714631172,154.27082645408822)\" d=\"M7.098384031601401,0A7.098384031601401,7.098384031601401,0,1,1,-7.098384031601401,0A7.098384031601401,7.098384031601401,0,1,1,7.098384031601401,0\" stroke=\"rgb(91, 163, 207)\" stroke-width=\"2\" opacity=\"0.7\"></path><path aria-label=\"x: 0.846173414984; y: 1.58796051633\" role=\"graphics-symbol\" aria-roledescription=\"point\" transform=\"translate(212.58812418123117,180.40131612222203)\" d=\"M6.70475941772985,0A6.70475941772985,6.70475941772985,0,1,1,-6.70475941772985,0A6.70475941772985,6.70475941772985,0,1,1,6.70475941772985,0\" stroke=\"rgb(114, 177, 214)\" stroke-width=\"2\" opacity=\"0.7\"></path><path aria-label=\"x: 1.63350474667; y: 1.10675941729\" role=\"graphics-symbol\" aria-roledescription=\"point\" transform=\"translate(241.21835442422065,196.44135275699642)\" d=\"M7.220417351477975,0A7.220417351477975,7.220417351477975,0,1,1,-7.220417351477975,0A7.220417351477975,7.220417351477975,0,1,1,7.220417351477975,0\" stroke=\"rgb(130, 186, 219)\" stroke-width=\"2\" opacity=\"0.7\"></path><path aria-label=\"x: 1.8376847344; y: 3.43968359435\" role=\"graphics-symbol\" aria-roledescription=\"point\" transform=\"translate(248.64308125094396,118.67721352166404)\" d=\"M7.348237292148874,0A7.348237292148874,7.348237292148874,0,1,1,-7.348237292148874,0A7.348237292148874,7.348237292148874,0,1,1,7.348237292148874,0\" stroke=\"rgb(63, 141, 195)\" stroke-width=\"2\" opacity=\"0.7\"></path><path aria-label=\"x: 3.06428567993; y: 3.58504098838\" role=\"graphics-symbol\" aria-roledescription=\"point\" transform=\"translate(293.2467519973074,113.83196705396107)\" d=\"M8.073626864689238,0A8.073626864689238,8.073626864689238,0,1,1,-8.073626864689238,0A8.073626864689238,8.073626864689238,0,1,1,8.073626864689238,0\" stroke=\"rgb(60, 138, 194)\" stroke-width=\"2\" opacity=\"0.7\"></path><path aria-label=\"x: 1.80814186718; y: 2.23555116771\" role=\"graphics-symbol\" aria-roledescription=\"point\" transform=\"translate(247.56879517023935,158.81496107621913)\" d=\"M7.329880907548241,0A7.329880907548241,7.329880907548241,0,1,1,-7.329880907548241,0A7.329880907548241,7.329880907548241,0,1,1,7.329880907548241,0\" stroke=\"rgb(95, 165, 208)\" stroke-width=\"2\" opacity=\"0.7\"></path><path aria-label=\"x: 1.34531795253; y: 2.41795902274\" role=\"graphics-symbol\" aria-roledescription=\"point\" transform=\"translate(230.7388346373338,152.73469924208425)\" d=\"M7.036057301970942,0A7.036057301970942,7.036057301970942,0,1,1,-7.036057301970942,0A7.036057301970942,7.036057301970942,0,1,1,7.036057301970942,0\" stroke=\"rgb(90, 162, 206)\" stroke-width=\"2\" opacity=\"0.7\"></path><path aria-label=\"x: 0.958864301476; y: 2.41235504679\" role=\"graphics-symbol\" aria-roledescription=\"point\" transform=\"translate(216.68597459913985,152.92149844046872)\" d=\"M6.78097069108661,0A6.78097069108661,6.78097069108661,0,1,1,-6.78097069108661,0A6.78097069108661,6.78097069108661,0,1,1,6.78097069108661,0\" stroke=\"rgb(90, 162, 207)\" stroke-width=\"2\" opacity=\"0.7\"></path><path aria-label=\"x: -2.35151647317; y: -0.478668522331\" role=\"graphics-symbol\" aria-roledescription=\"point\" transform=\"translate(96.3084918847985,249.28895074435468)\" d=\"M3.973687497085599,0A3.973687497085599,3.973687497085599,0,1,1,-3.973687497085599,0A3.973687497085599,3.973687497085599,0,1,1,3.973687497085599,0\" stroke=\"rgb(177, 210, 232)\" stroke-width=\"2\" opacity=\"0.7\"></path><path aria-label=\"x: 1.89826655114; y: 1.89041897664\" role=\"graphics-symbol\" aria-roledescription=\"point\" transform=\"translate(250.8460564052061,170.3193674454006)\" d=\"M7.385736947238094,0A7.385736947238094,7.385736947238094,0,1,1,-7.385736947238094,0A7.385736947238094,7.385736947238094,0,1,1,7.385736947238094,0\" stroke=\"rgb(105, 172, 212)\" stroke-width=\"2\" opacity=\"0.7\"></path><path aria-label=\"x: -0.101217634321; y: 1.70369947985\" role=\"graphics-symbol\" aria-roledescription=\"point\" transform=\"translate(178.13754057013006,176.54335067155236)\" d=\"M6.026059456294291,0A6.026059456294291,6.026059456294291,0,1,1,-6.026059456294291,0A6.026059456294291,6.026059456294291,0,1,1,6.026059456294291,0\" stroke=\"rgb(111, 175, 213)\" stroke-width=\"2\" opacity=\"0.7\"></path><path aria-label=\"x: 1.34864400969; y: 3.24216580596\" role=\"graphics-symbol\" aria-roledescription=\"point\" transform=\"translate(230.859782170494,125.26113980145188)\" d=\"M7.038212606888711,0A7.038212606888711,7.038212606888711,0,1,1,-7.038212606888711,0A7.038212606888711,7.038212606888711,0,1,1,7.038212606888711,0\" stroke=\"rgb(68, 145, 198)\" stroke-width=\"2\" opacity=\"0.7\"></path><path aria-label=\"x: 1.13622627721; y: 1.37576131993\" role=\"graphics-symbol\" aria-roledescription=\"point\" transform=\"translate(223.13550098928596,187.47462266902403)\" d=\"M6.89921315493376,0A6.89921315493376,6.89921315493376,0,1,1,-6.89921315493376,0A6.89921315493376,6.89921315493376,0,1,1,6.89921315493376,0\" stroke=\"rgb(121, 181, 216)\" stroke-width=\"2\" opacity=\"0.7\"></path><path aria-label=\"x: 1.88056855644; y: 4.01459253287\" role=\"graphics-symbol\" aria-roledescription=\"point\" transform=\"translate(250.20249296145985,99.51358223763891)\" d=\"M7.374801747006413,0A7.374801747006413,7.374801747006413,0,1,1,-7.374801747006413,0A7.374801747006413,7.374801747006413,0,1,1,7.374801747006413,0\" stroke=\"rgb(50, 129, 189)\" stroke-width=\"2\" opacity=\"0.7\"></path><path aria-label=\"x: 0.997905437685; y: 2.23789141247\" role=\"graphics-symbol\" aria-roledescription=\"point\" transform=\"translate(218.10565227944795,158.73695291779748)\" d=\"M6.807174664548797,0A6.807174664548797,6.807174664548797,0,1,1,-6.807174664548797,0A6.807174664548797,6.807174664548797,0,1,1,6.807174664548797,0\" stroke=\"rgb(95, 165, 208)\" stroke-width=\"2\" opacity=\"0.7\"></path><path aria-label=\"x: -0.912289519627; y: 2.65530387418\" role=\"graphics-symbol\" aria-roledescription=\"point\" transform=\"translate(148.64401746811063,144.8232041938767)\" d=\"M5.37738280507934,0A5.37738280507934,5.37738280507934,0,1,1,-5.37738280507934,0A5.37738280507934,5.37738280507934,0,1,1,5.37738280507934,0\" stroke=\"rgb(83, 157, 204)\" stroke-width=\"2\" opacity=\"0.7\"></path><path aria-label=\"x: -2.03719708538; y: -0.708967080944\" role=\"graphics-symbol\" aria-roledescription=\"point\" transform=\"translate(107.73828780436094,256.9655693648117)\" d=\"M4.319357760792568,0A4.319357760792568,4.319357760792568,0,1,1,-4.319357760792568,0A4.319357760792568,4.319357760792568,0,1,1,4.319357760792568,0\" stroke=\"rgb(183, 213, 234)\" stroke-width=\"2\" opacity=\"0.7\"></path><path aria-label=\"x: -0.492911821318; y: 0.578470397284\" role=\"graphics-symbol\" aria-roledescription=\"point\" transform=\"translate(163.89411558844637,214.0509867571883)\" d=\"M5.721980333234034,0A5.721980333234034,5.721980333234034,0,1,1,-5.721980333234034,0A5.721980333234034,5.721980333234034,0,1,1,5.721980333234034,0\" stroke=\"rgb(146, 195, 223)\" stroke-width=\"2\" opacity=\"0.7\"></path><path aria-label=\"x: 3.13215648864; y: 3.69070767508\" role=\"graphics-symbol\" aria-roledescription=\"point\" transform=\"translate(295.71478140508833,110.30974416396651)\" d=\"M8.111870736589463,0A8.111870736589463,8.111870736589463,0,1,1,-8.111870736589463,0A8.111870736589463,8.111870736589463,0,1,1,8.111870736589463,0\" stroke=\"rgb(57, 136, 193)\" stroke-width=\"2\" opacity=\"0.7\"></path><path aria-label=\"x: 3.81673946319; y: 3.31561643461\" role=\"graphics-symbol\" aria-roledescription=\"point\" transform=\"translate(320.60870775235514,122.81278551294457)\" d=\"M8.487990812260842,0A8.487990812260842,8.487990812260842,0,1,1,-8.487990812260842,0A8.487990812260842,8.487990812260842,0,1,1,8.487990812260842,0\" stroke=\"rgb(66, 144, 197)\" stroke-width=\"2\" opacity=\"0.7\"></path><path aria-label=\"x: -1.03173794995; y: 0.558254573135\" role=\"graphics-symbol\" aria-roledescription=\"point\" transform=\"translate(144.30043818362043,214.72484756216866)\" d=\"M5.275116201845709,0A5.275116201845709,5.275116201845709,0,1,1,-5.275116201845709,0A5.275116201845709,5.275116201845709,0,1,1,5.275116201845709,0\" stroke=\"rgb(147, 195, 223)\" stroke-width=\"2\" opacity=\"0.7\"></path><path aria-label=\"x: 3.67127245017; y: 1.50370845035\" role=\"graphics-symbol\" aria-roledescription=\"point\" transform=\"translate(315.3189981879058,183.20971832168135)\" d=\"M8.409476688548247,0A8.409476688548247,8.409476688548247,0,1,1,-8.409476688548247,0A8.409476688548247,8.409476688548247,0,1,1,8.409476688548247,0\" stroke=\"rgb(117, 178, 215)\" stroke-width=\"2\" opacity=\"0.7\"></path><path aria-label=\"x: 2.98502032508; y: 3.90710380234\" role=\"graphics-symbol\" aria-roledescription=\"point\" transform=\"translate(290.3643754574758,103.09653992207515)\" d=\"M8.028731779567881,0A8.028731779567881,8.028731779567881,0,1,1,-8.028731779567881,0A8.028731779567881,8.028731779567881,0,1,1,8.028731779567881,0\" stroke=\"rgb(52, 132, 190)\" stroke-width=\"2\" opacity=\"0.7\"></path><path aria-label=\"x: 2.10658822772; y: 3.55078436476\" role=\"graphics-symbol\" aria-roledescription=\"point\" transform=\"translate(258.42139009899023,114.97385450813107)\" d=\"M7.513258141592004,0A7.513258141592004,7.513258141592004,0,1,1,-7.513258141592004,0A7.513258141592004,7.513258141592004,0,1,1,7.513258141592004,0\" stroke=\"rgb(61, 139, 194)\" stroke-width=\"2\" opacity=\"0.7\"></path><path aria-label=\"x: 0.964944220459; y: 1.45289297113\" role=\"graphics-symbol\" aria-roledescription=\"point\" transform=\"translate(216.90706256216177,184.9035676290962)\" d=\"M6.785058117468593,0A6.785058117468593,6.785058117468593,0,1,1,-6.785058117468593,0A6.785058117468593,6.785058117468593,0,1,1,6.785058117468593,0\" stroke=\"rgb(119, 179, 216)\" stroke-width=\"2\" opacity=\"0.7\"></path><path aria-label=\"x: -0.209079098821; y: 0.687454720898\" role=\"graphics-symbol\" aria-roledescription=\"point\" transform=\"translate(174.2153054974164,210.41817597007392)\" d=\"M5.943876954874451,0A5.943876954874451,5.943876954874451,0,1,1,-5.943876954874451,0A5.943876954874451,5.943876954874451,0,1,1,5.943876954874451,0\" stroke=\"rgb(143, 193, 222)\" stroke-width=\"2\" opacity=\"0.7\"></path><path aria-label=\"x: -0.720998971049; y: 0.93084720336\" role=\"graphics-symbol\" aria-roledescription=\"point\" transform=\"translate(155.60003741641557,202.30509322133585)\" d=\"M5.537224575512141,0A5.537224575512141,5.537224575512141,0,1,1,-5.537224575512141,0A5.537224575512141,5.537224575512141,0,1,1,5.537224575512141,0\" stroke=\"rgb(135, 189, 220)\" stroke-width=\"2\" opacity=\"0.7\"></path><path aria-label=\"x: 0.274058052484; y: 0.594602476974\" role=\"graphics-symbol\" aria-roledescription=\"point\" transform=\"translate(191.78392918124544,213.51325076753216)\" d=\"M6.3036486276965835,0A6.3036486276965835,6.3036486276965835,0,1,1,-6.3036486276965835,0A6.3036486276965835,6.3036486276965835,0,1,1,6.3036486276965835,0\" stroke=\"rgb(146, 195, 223)\" stroke-width=\"2\" opacity=\"0.7\"></path><path aria-label=\"x: 1.26487369576; y: 1.73618061396\" role=\"graphics-symbol\" aria-roledescription=\"point\" transform=\"translate(227.81358893662795,175.4606462012415)\" d=\"M6.983726352050351,0A6.983726352050351,6.983726352050351,0,1,1,-6.983726352050351,0A6.983726352050351,6.983726352050351,0,1,1,6.983726352050351,0\" stroke=\"rgb(110, 174, 213)\" stroke-width=\"2\" opacity=\"0.7\"></path><path aria-label=\"x: -1.66603888466; y: -0.439791817889\" role=\"graphics-symbol\" aria-roledescription=\"point\" transform=\"translate(121.23494964884185,247.99306059630374)\" d=\"M4.694879399354434,0A4.694879399354434,4.694879399354434,0,1,1,-4.694879399354434,0A4.694879399354434,4.694879399354434,0,1,1,4.694879399354434,0\" stroke=\"rgb(176, 210, 232)\" stroke-width=\"2\" opacity=\"0.7\"></path><path aria-label=\"x: 1.69152732112; y: 1.12443335115\" role=\"graphics-symbol\" aria-roledescription=\"point\" transform=\"translate(243.32826622247197,195.85222162832926)\" d=\"M7.2569693985768575,0A7.2569693985768575,7.2569693985768575,0,1,1,-7.2569693985768575,0A7.2569693985768575,7.2569693985768575,0,1,1,7.2569693985768575,0\" stroke=\"rgb(129, 185, 218)\" stroke-width=\"2\" opacity=\"0.7\"></path><path aria-label=\"x: 0.600573830477; y: 2.76149777721\" role=\"graphics-symbol\" aria-roledescription=\"point\" transform=\"translate(203.65723019917746,141.28340742631724)\" d=\"M6.5355855755180405,0A6.5355855755180405,6.5355855755180405,0,1,1,-6.5355855755180405,0A6.5355855755180405,6.5355855755180405,0,1,1,6.5355855755180405,0\" stroke=\"rgb(81, 155, 203)\" stroke-width=\"2\" opacity=\"0.7\"></path><path aria-label=\"x: -1.05214822902; y: 1.37212192017\" role=\"graphics-symbol\" aria-roledescription=\"point\" transform=\"translate(143.55824621746908,187.59593599424667)\" d=\"M5.257442809112352,0A5.257442809112352,5.257442809112352,0,1,1,-5.257442809112352,0A5.257442809112352,5.257442809112352,0,1,1,5.257442809112352,0\" stroke=\"rgb(121, 181, 216)\" stroke-width=\"2\" opacity=\"0.7\"></path><path aria-label=\"x: -0.837908920498; y: 0.770238038486\" role=\"graphics-symbol\" aria-roledescription=\"point\" transform=\"translate(151.3487665273279,207.65873205047967)\" d=\"M5.4400930682737485,0A5.4400930682737485,5.4400930682737485,0,1,1,-5.4400930682737485,0A5.4400930682737485,5.4400930682737485,0,1,1,5.4400930682737485,0\" stroke=\"rgb(141, 192, 221)\" stroke-width=\"2\" opacity=\"0.7\"></path><path aria-label=\"x: -2.6345793319; y: 0.934668691828\" role=\"graphics-symbol\" aria-roledescription=\"point\" transform=\"translate(86.01529702169461,202.1777102723856)\" d=\"M3.6343636752086654,0A3.6343636752086654,3.6343636752086654,0,1,1,-3.6343636752086654,0A3.6343636752086654,3.6343636752086654,0,1,1,3.6343636752086654,0\" stroke=\"rgb(135, 189, 220)\" stroke-width=\"2\" opacity=\"0.7\"></path><path aria-label=\"x: 0.519322275466; y: 1.32104961164\" role=\"graphics-symbol\" aria-roledescription=\"point\" transform=\"translate(200.70262819877428,189.29834627880086)\" d=\"M6.47864549796569,0A6.47864549796569,6.47864549796569,0,1,1,-6.47864549796569,0A6.47864549796569,6.47864549796569,0,1,1,6.47864549796569,0\" stroke=\"rgb(123, 182, 217)\" stroke-width=\"2\" opacity=\"0.7\"></path><path aria-label=\"x: -2.03960337985; y: 0.814524202364\" role=\"graphics-symbol\" aria-roledescription=\"point\" transform=\"translate(107.65078618728168,206.18252658785767)\" d=\"M4.3168165993475816,0A4.3168165993475816,4.3168165993475816,0,1,1,-4.3168165993475816,0A4.3168165993475816,4.3168165993475816,0,1,1,4.3168165993475816,0\" stroke=\"rgb(139, 191, 221)\" stroke-width=\"2\" opacity=\"0.7\"></path><path aria-label=\"x: 0.909125654095; y: 2.91090979459\" role=\"graphics-symbol\" aria-roledescription=\"point\" transform=\"translate(214.87729651253687,136.30300684707782)\" d=\"M6.747439258999923,0A6.747439258999923,6.747439258999923,0,1,1,-6.747439258999923,0A6.747439258999923,6.747439258999923,0,1,1,6.747439258999923,0\" stroke=\"rgb(77, 152, 201)\" stroke-width=\"2\" opacity=\"0.7\"></path><path aria-label=\"x: 0.981792667855; y: 0.718633719211\" role=\"graphics-symbol\" aria-roledescription=\"point\" transform=\"translate(217.51973337652765,209.378876026302)\" d=\"M6.7963721979349945,0A6.7963721979349945,6.7963721979349945,0,1,1,-6.7963721979349945,0A6.7963721979349945,6.7963721979349945,0,1,1,6.7963721979349945,0\" stroke=\"rgb(142, 193, 222)\" stroke-width=\"2\" opacity=\"0.7\"></path><path aria-label=\"x: 0.813244324498; y: 3.33602908111\" role=\"graphics-symbol\" aria-roledescription=\"point\" transform=\"translate(211.39070270903218,122.13236396292791)\" d=\"M6.682325837314092,0A6.682325837314092,6.682325837314092,0,1,1,-6.682325837314092,0A6.682325837314092,6.682325837314092,0,1,1,6.682325837314092,0\" stroke=\"rgb(66, 143, 197)\" stroke-width=\"2\" opacity=\"0.7\"></path><path aria-label=\"x: 2.42783476249; y: 3.4148548021\" role=\"graphics-symbol\" aria-roledescription=\"point\" transform=\"translate(270.1030822723337,119.50483992997127)\" d=\"M7.70576953234199,0A7.70576953234199,7.70576953234199,0,1,1,-7.70576953234199,0A7.70576953234199,7.70576953234199,0,1,1,7.70576953234199,0\" stroke=\"rgb(64, 142, 196)\" stroke-width=\"2\" opacity=\"0.7\"></path><path aria-label=\"x: 2.14680994014; y: 2.48037090062\" role=\"graphics-symbol\" aria-roledescription=\"point\" transform=\"translate(259.8839978231147,150.65430331267683)\" d=\"M7.5376308218564745,0A7.5376308218564745,7.5376308218564745,0,1,1,-7.5376308218564745,0A7.5376308218564745,7.5376308218564745,0,1,1,7.5376308218564745,0\" stroke=\"rgb(88, 161, 206)\" stroke-width=\"2\" opacity=\"0.7\"></path><path aria-label=\"x: -1.35519743449; y: 1.41983152764\" role=\"graphics-symbol\" aria-roledescription=\"point\" transform=\"translate(132.538275109478,186.00561574525796)\" d=\"M4.987668011278235,0A4.987668011278235,4.987668011278235,0,1,1,-4.987668011278235,0A4.987668011278235,4.987668011278235,0,1,1,4.987668011278235,0\" stroke=\"rgb(120, 180, 216)\" stroke-width=\"2\" opacity=\"0.7\"></path><path aria-label=\"x: 4.02106767221; y: 4.94849054917\" role=\"graphics-symbol\" aria-roledescription=\"point\" transform=\"translate(328.038824444066,68.3836483610605)\" d=\"M8.597063708653248,0A8.597063708653248,8.597063708653248,0,1,1,-8.597063708653248,0A8.597063708653248,8.597063708653248,0,1,1,8.597063708653248,0\" stroke=\"rgb(31, 109, 177)\" stroke-width=\"2\" opacity=\"0.7\"></path><path aria-label=\"x: 3.44341035986; y: 4.83560195551\" role=\"graphics-symbol\" aria-roledescription=\"point\" transform=\"translate(307.03310399486656,72.14660148304412)\" d=\"M8.284995342810754,0A8.284995342810754,8.284995342810754,0,1,1,-8.284995342810754,0A8.284995342810754,8.284995342810754,0,1,1,8.284995342810754,0\" stroke=\"rgb(33, 112, 178)\" stroke-width=\"2\" opacity=\"0.7\"></path><path aria-label=\"x: 4.33487482119; y: 3.97158780054\" role=\"graphics-symbol\" aria-roledescription=\"point\" transform=\"translate(339.4499934978407,100.9470733152528)\" d=\"M8.761934251399067,0A8.761934251399067,8.761934251399067,0,1,1,-8.761934251399067,0A8.761934251399067,8.761934251399067,0,1,1,8.761934251399067,0\" stroke=\"rgb(51, 130, 190)\" stroke-width=\"2\" opacity=\"0.7\"></path><path aria-label=\"x: 1.1231355712; y: 2.46621243601\" role=\"graphics-symbol\" aria-roledescription=\"point\" transform=\"translate(222.65947531651204,151.12625213293344)\" d=\"M6.890555286492286,0A6.890555286492286,6.890555286492286,0,1,1,-6.890555286492286,0A6.890555286492286,6.890555286492286,0,1,1,6.890555286492286,0\" stroke=\"rgb(88, 161, 206)\" stroke-width=\"2\" opacity=\"0.7\"></path><path aria-label=\"x: 0.46959312222; y: 1.9420740851\" role=\"graphics-symbol\" aria-roledescription=\"point\" transform=\"translate(198.89429535345505,168.59753049682277)\" d=\"M6.443547712040802,0A6.443547712040802,6.443547712040802,0,1,1,-6.443547712040802,0A6.443547712040802,6.443547712040802,0,1,1,6.443547712040802,0\" stroke=\"rgb(104, 171, 211)\" stroke-width=\"2\" opacity=\"0.7\"></path><path aria-label=\"x: -1.18341483899; y: 0.8811258361\" role=\"graphics-symbol\" aria-roledescription=\"point\" transform=\"translate(138.78491494591145,203.9624721299917)\" d=\"M5.142326876967887,0A5.142326876967887,5.142326876967887,0,1,1,-5.142326876967887,0A5.142326876967887,5.142326876967887,0,1,1,5.142326876967887,0\" stroke=\"rgb(137, 190, 220)\" stroke-width=\"2\" opacity=\"0.7\"></path><path aria-label=\"x: 1.49799940739; y: 3.06517357189\" role=\"graphics-symbol\" aria-roledescription=\"point\" transform=\"translate(236.29088754150413,131.16088093704062)\" d=\"M7.13432473625427,0A7.13432473625427,7.13432473625427,0,1,1,-7.13432473625427,0A7.13432473625427,7.13432473625427,0,1,1,7.13432473625427,0\" stroke=\"rgb(73, 149, 199)\" stroke-width=\"2\" opacity=\"0.7\"></path><path aria-label=\"x: 0.362327130294; y: 1.71883141318\" role=\"graphics-symbol\" aria-roledescription=\"point\" transform=\"translate(194.99371382887554,176.03895289397565)\" d=\"M6.367182943560112,0A6.367182943560112,6.367182943560112,0,1,1,-6.367182943560112,0A6.367182943560112,6.367182943560112,0,1,1,6.367182943560112,0\" stroke=\"rgb(110, 175, 213)\" stroke-width=\"2\" opacity=\"0.7\"></path><path aria-label=\"x: 0.618720359162; y: 2.08760500975\" role=\"graphics-symbol\" aria-roledescription=\"point\" transform=\"translate(204.31710396954264,163.74649967494548)\" d=\"M6.548234799213434,0A6.548234799213434,6.548234799213434,0,1,1,-6.548234799213434,0A6.548234799213434,6.548234799213434,0,1,1,6.548234799213434,0\" stroke=\"rgb(99, 168, 210)\" stroke-width=\"2\" opacity=\"0.7\"></path><path aria-label=\"x: 0.480335191629; y: 1.85890919163\" role=\"graphics-symbol\" aria-roledescription=\"point\" transform=\"translate(199.28491605923085,171.36969361219704)\" d=\"M6.451145406595723,0A6.451145406595723,6.451145406595723,0,1,1,-6.451145406595723,0A6.451145406595723,6.451145406595723,0,1,1,6.451145406595723,0\" stroke=\"rgb(106, 172, 212)\" stroke-width=\"2\" opacity=\"0.7\"></path><path aria-label=\"x: -0.103854911347; y: 2.54096398951\" role=\"graphics-symbol\" aria-roledescription=\"point\" transform=\"translate(178.0416395873842,148.63453368287094)\" d=\"M6.02406341665066,0A6.02406341665066,6.02406341665066,0,1,1,-6.02406341665066,0A6.02406341665066,6.02406341665066,0,1,1,6.02406341665066,0\" stroke=\"rgb(86, 159, 205)\" stroke-width=\"2\" opacity=\"0.7\"></path><path aria-label=\"x: 1.01736473128; y: 2.37213365426\" role=\"graphics-symbol\" aria-roledescription=\"point\" transform=\"translate(218.81326295549553,154.26221152450418)\" d=\"M6.820197928017725,0A6.820197928017725,6.820197928017725,0,1,1,-6.820197928017725,0A6.820197928017725,6.820197928017725,0,1,1,6.820197928017725,0\" stroke=\"rgb(91, 163, 207)\" stroke-width=\"2\" opacity=\"0.7\"></path><path aria-label=\"x: 2.39679558937; y: 2.11223473731\" role=\"graphics-symbol\" aria-roledescription=\"point\" transform=\"translate(268.9743850680608,162.9255087562616)\" d=\"M7.687379285371327,0A7.687379285371327,7.687379285371327,0,1,1,-7.687379285371327,0A7.687379285371327,7.687379285371327,0,1,1,7.687379285371327,0\" stroke=\"rgb(99, 168, 209)\" stroke-width=\"2\" opacity=\"0.7\"></path><path aria-label=\"x: 0.803768778814; y: 2.33087298533\" role=\"graphics-symbol\" aria-roledescription=\"point\" transform=\"translate(211.04613741141804,155.63756715558017)\" d=\"M6.675856470892482,0A6.675856470892482,6.675856470892482,0,1,1,-6.675856470892482,0A6.675856470892482,6.675856470892482,0,1,1,6.675856470892482,0\" stroke=\"rgb(92, 164, 207)\" stroke-width=\"2\" opacity=\"0.7\"></path><path aria-label=\"x: -0.0969896855713; y: 2.54648696308\" role=\"graphics-symbol\" aria-roledescription=\"point\" transform=\"translate(178.29128416104402,148.45043456413376)\" d=\"M6.0292580269495355,0A6.0292580269495355,6.0292580269495355,0,1,1,-6.0292580269495355,0A6.0292580269495355,6.0292580269495355,0,1,1,6.0292580269495355,0\" stroke=\"rgb(86, 159, 205)\" stroke-width=\"2\" opacity=\"0.7\"></path><path aria-label=\"x: 1.86507488601; y: 3.32682435238\" role=\"graphics-symbol\" aria-roledescription=\"point\" transform=\"translate(249.6390867641081,122.43918825403316)\" d=\"M7.3652152218404625,0A7.3652152218404625,7.3652152218404625,0,1,1,-7.3652152218404625,0A7.3652152218404625,7.3652152218404625,0,1,1,7.3652152218404625,0\" stroke=\"rgb(66, 143, 197)\" stroke-width=\"2\" opacity=\"0.7\"></path><path aria-label=\"x: 0.715962388204; y: 2.48602428497\" role=\"graphics-symbol\" aria-roledescription=\"point\" transform=\"translate(207.85317775286805,150.46585716758523)\" d=\"M6.615606307024946,0A6.615606307024946,6.615606307024946,0,1,1,-6.615606307024946,0A6.615606307024946,6.615606307024946,0,1,1,6.615606307024946,0\" stroke=\"rgb(88, 161, 206)\" stroke-width=\"2\" opacity=\"0.7\"></path><path aria-label=\"x: 1.28731789515; y: 1.18254495009\" role=\"graphics-symbol\" aria-roledescription=\"point\" transform=\"translate(228.62974164184263,193.9151683304766)\" d=\"M6.998366208962306,0A6.998366208962306,6.998366208962306,0,1,1,-6.998366208962306,0A6.998366208962306,6.998366208962306,0,1,1,6.998366208962306,0\" stroke=\"rgb(127, 184, 218)\" stroke-width=\"2\" opacity=\"0.7\"></path><path aria-label=\"x: 2.05780801099; y: 3.83178988979\" role=\"graphics-symbol\" aria-roledescription=\"point\" transform=\"translate(256.6475640358646,105.60700367376003)\" d=\"M7.4835928558709774,0A7.4835928558709774,7.4835928558709774,0,1,1,-7.4835928558709774,0A7.4835928558709774,7.4835928558709774,0,1,1,7.4835928558709774,0\" stroke=\"rgb(54, 133, 191)\" stroke-width=\"2\" opacity=\"0.7\"></path><path aria-label=\"x: 2.02556265696; y: 1.94446110004\" role=\"graphics-symbol\" aria-roledescription=\"point\" transform=\"translate(255.47500570748394,168.51796333203714)\" d=\"M7.463918381090893,0A7.463918381090893,7.463918381090893,0,1,1,-7.463918381090893,0A7.463918381090893,7.463918381090893,0,1,1,7.463918381090893,0\" stroke=\"rgb(104, 171, 211)\" stroke-width=\"2\" opacity=\"0.7\"></path><path aria-label=\"x: 2.45594456087; y: 3.50256195508\" role=\"graphics-symbol\" aria-roledescription=\"point\" transform=\"translate(271.12525675883745,116.58126816409306)\" d=\"M7.72238637846097,0A7.72238637846097,7.72238637846097,0,1,1,-7.72238637846097,0A7.72238637846097,7.72238637846097,0,1,1,7.72238637846097,0\" stroke=\"rgb(62, 140, 195)\" stroke-width=\"2\" opacity=\"0.7\"></path><path aria-label=\"x: 0.657986605671; y: 1.6706794083\" role=\"graphics-symbol\" aria-roledescription=\"point\" transform=\"translate(205.74496747895446,177.64401972339283)\" d=\"M6.575522446115516,0A6.575522446115516,6.575522446115516,0,1,1,-6.575522446115516,0A6.575522446115516,6.575522446115516,0,1,1,6.575522446115516,0\" stroke=\"rgb(112, 175, 214)\" stroke-width=\"2\" opacity=\"0.7\"></path><path aria-label=\"x: -0.413730484759; y: 1.29180036533\" role=\"graphics-symbol\" aria-roledescription=\"point\" transform=\"translate(166.77343691785492,190.27332115565073)\" d=\"M5.7847393572574,0A5.7847393572574,5.7847393572574,0,1,1,-5.7847393572574,0A5.7847393572574,5.7847393572574,0,1,1,5.7847393572574,0\" stroke=\"rgb(124, 182, 217)\" stroke-width=\"2\" opacity=\"0.7\"></path><path aria-label=\"x: 2.92554726579; y: 3.97279184941\" role=\"graphics-symbol\" aria-roledescription=\"point\" transform=\"translate(288.20171875594355,100.90693835295899)\" d=\"M7.9948813085671615,0A7.9948813085671615,7.9948813085671615,0,1,1,-7.9948813085671615,0A7.9948813085671615,7.9948813085671615,0,1,1,7.9948813085671615,0\" stroke=\"rgb(51, 130, 190)\" stroke-width=\"2\" opacity=\"0.7\"></path><path aria-label=\"x: 0.622158494783; y: 1.78556435245\" role=\"graphics-symbol\" aria-roledescription=\"point\" transform=\"translate(204.44212708303394,173.81452158502125)\" d=\"M6.550628634564403,0A6.550628634564403,6.550628634564403,0,1,1,-6.550628634564403,0A6.550628634564403,6.550628634564403,0,1,1,6.550628634564403,0\" stroke=\"rgb(108, 173, 213)\" stroke-width=\"2\" opacity=\"0.7\"></path><path aria-label=\"x: 2.51157902516; y: 3.55468881058\" role=\"graphics-symbol\" aria-roledescription=\"point\" transform=\"translate(273.1483281875281,114.84370631393467)\" d=\"M7.755169207180127,0A7.755169207180127,7.755169207180127,0,1,1,-7.755169207180127,0A7.755169207180127,7.755169207180127,0,1,1,7.755169207180127,0\" stroke=\"rgb(61, 139, 194)\" stroke-width=\"2\" opacity=\"0.7\"></path><path aria-label=\"x: 2.4351207864; y: 3.6289826518\" role=\"graphics-symbol\" aria-roledescription=\"point\" transform=\"translate(270.36802859629165,112.36724494006896)\" d=\"M7.710080035968767,0A7.710080035968767,7.710080035968767,0,1,1,-7.710080035968767,0A7.710080035968767,7.710080035968767,0,1,1,7.710080035968767,0\" stroke=\"rgb(59, 137, 193)\" stroke-width=\"2\" opacity=\"0.7\"></path><path aria-label=\"x: 0.54651064676; y: 2.42674425358\" role=\"graphics-symbol\" aria-roledescription=\"point\" transform=\"translate(201.69129624582527,152.44185821403318)\" d=\"M6.497754317572748,0A6.497754317572748,6.497754317572748,0,1,1,-6.497754317572748,0A6.497754317572748,6.497754317572748,0,1,1,6.497754317572748,0\" stroke=\"rgb(89, 162, 206)\" stroke-width=\"2\" opacity=\"0.7\"></path><path aria-label=\"x: 2.1934606873; y: 3.31056738575\" role=\"graphics-symbol\" aria-roledescription=\"point\" transform=\"translate(261.58038862909206,122.98108714170284)\" d=\"M7.565800887184617,0A7.565800887184617,7.565800887184617,0,1,1,-7.565800887184617,0A7.565800887184617,7.565800887184617,0,1,1,7.565800887184617,0\" stroke=\"rgb(66, 144, 197)\" stroke-width=\"2\" opacity=\"0.7\"></path><path aria-label=\"x: 5.43378681061; y: 4.71211714195\" role=\"graphics-symbol\" aria-roledescription=\"point\" transform=\"translate(379.4104294767601,76.26276193508836)\" d=\"M9.31631907198314,0A9.31631907198314,9.31631907198314,0,1,1,-9.31631907198314,0A9.31631907198314,9.31631907198314,0,1,1,9.31631907198314,0\" stroke=\"rgb(35, 114, 180)\" stroke-width=\"2\" opacity=\"0.7\"></path><path aria-label=\"x: 1.09809077705; y: 1.83497499589\" role=\"graphics-symbol\" aria-roledescription=\"point\" transform=\"translate(221.74875552909765,172.16750013689364)\" d=\"M6.873960892296095,0A6.873960892296095,6.873960892296095,0,1,1,-6.873960892296095,0A6.873960892296095,6.873960892296095,0,1,1,6.873960892296095,0\" stroke=\"rgb(107, 173, 212)\" stroke-width=\"2\" opacity=\"0.7\"></path><path aria-label=\"x: 0.202404136724; y: 0.256900024855\" role=\"graphics-symbol\" aria-roledescription=\"point\" transform=\"translate(189.17833224451363,224.7699991714887)\" d=\"M6.251598770716277,0A6.251598770716277,6.251598770716277,0,1,1,-6.251598770716277,0A6.251598770716277,6.251598770716277,0,1,1,6.251598770716277,0\" stroke=\"rgb(156, 200, 226)\" stroke-width=\"2\" opacity=\"0.7\"></path><path aria-label=\"x: 0.495305982152; y: 1.20679146721\" role=\"graphics-symbol\" aria-roledescription=\"point\" transform=\"translate(199.82930844189838,193.10695109285876)\" d=\"M6.461719107606246,0A6.461719107606246,6.461719107606246,0,1,1,-6.461719107606246,0A6.461719107606246,6.461719107606246,0,1,1,6.461719107606246,0\" stroke=\"rgb(126, 184, 218)\" stroke-width=\"2\" opacity=\"0.7\"></path><path aria-label=\"x: 2.87068372928; y: 4.14307326752\" role=\"graphics-symbol\" aria-roledescription=\"point\" transform=\"translate(286.2066810646283,95.23089108255148)\" d=\"M7.963526863665912,0A7.963526863665912,7.963526863665912,0,1,1,-7.963526863665912,0A7.963526863665912,7.963526863665912,0,1,1,7.963526863665912,0\" stroke=\"rgb(47, 127, 188)\" stroke-width=\"2\" opacity=\"0.7\"></path><path aria-label=\"x: 0.228286050903; y: 0.629223848231\" role=\"graphics-symbol\" aria-roledescription=\"point\" transform=\"translate(190.1194927601087,212.35920505897218)\" d=\"M6.270449402449597,0A6.270449402449597,6.270449402449597,0,1,1,-6.270449402449597,0A6.270449402449597,6.270449402449597,0,1,1,6.270449402449597,0\" stroke=\"rgb(145, 194, 223)\" stroke-width=\"2\" opacity=\"0.7\"></path><path aria-label=\"x: -0.544518949176; y: 0.53540347931\" role=\"graphics-symbol\" aria-roledescription=\"point\" transform=\"translate(162.01749275722764,215.48655068968324)\" d=\"M5.68070339290979,0A5.68070339290979,5.68070339290979,0,1,1,-5.68070339290979,0A5.68070339290979,5.68070339290979,0,1,1,5.68070339290979,0\" stroke=\"rgb(148, 195, 223)\" stroke-width=\"2\" opacity=\"0.7\"></path><path aria-label=\"x: 2.90390920395; y: 2.58050504941\" role=\"graphics-symbol\" aria-roledescription=\"point\" transform=\"translate(287.4148801435576,147.31649835296804)\" d=\"M7.98252989021891,0A7.98252989021891,7.98252989021891,0,1,1,-7.98252989021891,0A7.98252989021891,7.98252989021891,0,1,1,7.98252989021891,0\" stroke=\"rgb(85, 159, 205)\" stroke-width=\"2\" opacity=\"0.7\"></path><path aria-label=\"x: 2.37400127603; y: 3.58952276714\" role=\"graphics-symbol\" aria-roledescription=\"point\" transform=\"translate(268.1455009466107,113.68257442860097)\" d=\"M7.673845928194269,0A7.673845928194269,7.673845928194269,0,1,1,-7.673845928194269,0A7.673845928194269,7.673845928194269,0,1,1,7.673845928194269,0\" stroke=\"rgb(60, 138, 194)\" stroke-width=\"2\" opacity=\"0.7\"></path><path aria-label=\"x: 3.82682162738; y: 3.49688513037\" role=\"graphics-symbol\" aria-roledescription=\"point\" transform=\"translate(320.9753319046868,116.77049565436867)\" d=\"M8.493405647552034,0A8.493405647552034,8.493405647552034,0,1,1,-8.493405647552034,0A8.493405647552034,8.493405647552034,0,1,1,8.493405647552034,0\" stroke=\"rgb(62, 140, 195)\" stroke-width=\"2\" opacity=\"0.7\"></path><path aria-label=\"x: 1.15515365179; y: 2.545554899\" role=\"graphics-symbol\" aria-roledescription=\"point\" transform=\"translate(223.82376915598797,148.48150336671304)\" d=\"M6.911712074970216,0A6.911712074970216,6.911712074970216,0,1,1,-6.911712074970216,0A6.911712074970216,6.911712074970216,0,1,1,6.911712074970216,0\" stroke=\"rgb(86, 159, 205)\" stroke-width=\"2\" opacity=\"0.7\"></path><path aria-label=\"x: 2.88784406749; y: 2.37746173127\" role=\"graphics-symbol\" aria-roledescription=\"point\" transform=\"translate(286.83069336330226,154.08460895760496)\" d=\"M7.9733472277232815,0A7.9733472277232815,7.9733472277232815,0,1,1,-7.9733472277232815,0A7.9733472277232815,7.9733472277232815,0,1,1,7.9733472277232815,0\" stroke=\"rgb(91, 163, 207)\" stroke-width=\"2\" opacity=\"0.7\"></path><path aria-label=\"x: 3.19762082201; y: 2.42434730071\" role=\"graphics-symbol\" aria-roledescription=\"point\" transform=\"translate(298.0953026186895,152.52175664309038)\" d=\"M8.148588551470127,0A8.148588551470127,8.148588551470127,0,1,1,-8.148588551470127,0A8.148588551470127,8.148588551470127,0,1,1,8.148588551470127,0\" stroke=\"rgb(89, 162, 206)\" stroke-width=\"2\" opacity=\"0.7\"></path><path aria-label=\"x: 1.60067977807; y: 1.81051335452\" role=\"graphics-symbol\" aria-roledescription=\"point\" transform=\"translate(240.02471920237878,172.98288818282506)\" d=\"M7.199656664694709,0A7.199656664694709,7.199656664694709,0,1,1,-7.199656664694709,0A7.199656664694709,7.199656664694709,0,1,1,7.199656664694709,0\" stroke=\"rgb(108, 173, 212)\" stroke-width=\"2\" opacity=\"0.7\"></path><path aria-label=\"x: 1.2362422545; y: 1.90415699579\" role=\"graphics-symbol\" aria-roledescription=\"point\" transform=\"translate(226.77244561823358,169.8614334736181)\" d=\"M6.965006028320644,0A6.965006028320644,6.965006028320644,0,1,1,-6.965006028320644,0A6.965006028320644,6.965006028320644,0,1,1,6.965006028320644,0\" stroke=\"rgb(105, 171, 211)\" stroke-width=\"2\" opacity=\"0.7\"></path><path aria-label=\"x: 1.32710757036; y: 2.116139479\" role=\"graphics-symbol\" aria-roledescription=\"point\" transform=\"translate(230.07663892229635,162.79535070004297)\" d=\"M7.024245142982323,0A7.024245142982323,7.024245142982323,0,1,1,-7.024245142982323,0A7.024245142982323,7.024245142982323,0,1,1,7.024245142982323,0\" stroke=\"rgb(98, 167, 209)\" stroke-width=\"2\" opacity=\"0.7\"></path><path aria-label=\"x: 0.0235307644711; y: 0.523256481548\" role=\"graphics-symbol\" aria-roledescription=\"point\" transform=\"translate(182.67384598076833,215.8914506150535)\" d=\"M6.119732370861251,0A6.119732370861251,6.119732370861251,0,1,1,-6.119732370861251,0A6.119732370861251,6.119732370861251,0,1,1,6.119732370861251,0\" stroke=\"rgb(148, 196, 223)\" stroke-width=\"2\" opacity=\"0.7\"></path><path aria-label=\"x: -2.77907358382; y: -1.62076050875\" role=\"graphics-symbol\" aria-roledescription=\"point\" transform=\"translate(80.76096058841138,287.35868362488895)\" d=\"M3.4483012131261317,0A3.4483012131261317,3.4483012131261317,0,1,1,-3.4483012131261317,0A3.4483012131261317,3.4483012131261317,0,1,1,3.4483012131261317,0\" stroke=\"rgb(203, 223, 241)\" stroke-width=\"2\" opacity=\"0.7\"></path><path aria-label=\"x: -0.706607617309; y: 0.360084246528\" role=\"graphics-symbol\" aria-roledescription=\"point\" transform=\"translate(156.1233593705776,221.3305251157405)\" d=\"M5.549063721249014,0A5.549063721249014,5.549063721249014,0,1,1,-5.549063721249014,0A5.549063721249014,5.549063721249014,0,1,1,5.549063721249014,0\" stroke=\"rgb(153, 198, 225)\" stroke-width=\"2\" opacity=\"0.7\"></path><path aria-label=\"x: 0.298117446475; y: 0.828256369085\" role=\"graphics-symbol\" aria-roledescription=\"point\" transform=\"translate(192.65881623545616,205.72478769717563)\" d=\"M6.321029407575534,0A6.321029407575534,6.321029407575534,0,1,1,-6.321029407575534,0A6.321029407575534,6.321029407575534,0,1,1,6.321029407575534,0\" stroke=\"rgb(139, 191, 221)\" stroke-width=\"2\" opacity=\"0.7\"></path><path aria-label=\"x: 1.67848563934; y: 1.93098654811\" role=\"graphics-symbol\" aria-roledescription=\"point\" transform=\"translate(242.8540232488471,168.96711506300562)\" d=\"M7.248769686103146,0A7.248769686103146,7.248769686103146,0,1,1,-7.248769686103146,0A7.248769686103146,7.248769686103146,0,1,1,7.248769686103146,0\" stroke=\"rgb(104, 171, 211)\" stroke-width=\"2\" opacity=\"0.7\"></path><path aria-label=\"x: 1.73141165993; y: 0.285669673985\" role=\"graphics-symbol\" aria-roledescription=\"point\" transform=\"translate(244.7786058156772,223.81101086716757)\" d=\"M7.281988632088032,0A7.281988632088032,7.281988632088032,0,1,1,-7.281988632088032,0A7.281988632088032,7.281988632088032,0,1,1,7.281988632088032,0\" stroke=\"rgb(155, 199, 225)\" stroke-width=\"2\" opacity=\"0.7\"></path><path aria-label=\"x: 2.2639247111; y: 1.8960300435\" role=\"graphics-symbol\" aria-roledescription=\"point\" transform=\"translate(264.1427167671776,170.132331883441)\" d=\"M7.608152852708959,0A7.608152852708959,7.608152852708959,0,1,1,-7.608152852708959,0A7.608152852708959,7.608152852708959,0,1,1,7.608152852708959,0\" stroke=\"rgb(105, 171, 212)\" stroke-width=\"2\" opacity=\"0.7\"></path><path aria-label=\"x: 0.425965799745; y: 2.66061833518\" role=\"graphics-symbol\" aria-roledescription=\"point\" transform=\"translate(197.30784726345297,144.64605549407514)\" d=\"M6.412598282331702,0A6.412598282331702,6.412598282331702,0,1,1,-6.412598282331702,0A6.412598282331702,6.412598282331702,0,1,1,6.412598282331702,0\" stroke=\"rgb(83, 157, 204)\" stroke-width=\"2\" opacity=\"0.7\"></path><path aria-label=\"x: 3.23802458219; y: 3.64583063575\" role=\"graphics-symbol\" aria-roledescription=\"point\" transform=\"translate(299.56453026128315,111.80564547493852)\" d=\"M8.171167982578634,0A8.171167982578634,8.171167982578634,0,1,1,-8.171167982578634,0A8.171167982578634,8.171167982578634,0,1,1,8.171167982578634,0\" stroke=\"rgb(58, 137, 193)\" stroke-width=\"2\" opacity=\"0.7\"></path><path aria-label=\"x: -0.823553213785; y: 0.316808856172\" role=\"graphics-symbol\" aria-roledescription=\"point\" transform=\"translate(151.87079222599195,222.7730381275983)\" d=\"M5.452113321080702,0A5.452113321080702,5.452113321080702,0,1,1,-5.452113321080702,0A5.452113321080702,5.452113321080702,0,1,1,5.452113321080702,0\" stroke=\"rgb(154, 199, 225)\" stroke-width=\"2\" opacity=\"0.7\"></path><path aria-label=\"x: 3.76886299192; y: 2.8767387812\" role=\"graphics-symbol\" aria-roledescription=\"point\" transform=\"translate(318.8677451607501,137.44204062678133)\" d=\"M8.462230468890924,0A8.462230468890924,8.462230468890924,0,1,1,-8.462230468890924,0A8.462230468890924,8.462230468890924,0,1,1,8.462230468890924,0\" stroke=\"rgb(78, 153, 201)\" stroke-width=\"2\" opacity=\"0.7\"></path><path aria-label=\"x: 0.174050320534; y: 1.1278820576\" role=\"graphics-symbol\" aria-roledescription=\"point\" transform=\"translate(188.14728438305016,195.73726474680774)\" d=\"M6.230882313398454,0A6.230882313398454,6.230882313398454,0,1,1,-6.230882313398454,0A6.230882313398454,6.230882313398454,0,1,1,6.230882313398454,0\" stroke=\"rgb(129, 185, 218)\" stroke-width=\"2\" opacity=\"0.7\"></path><path aria-label=\"x: 0.97834031947; y: 1.8488830916\" role=\"graphics-symbol\" aria-roledescription=\"point\" transform=\"translate(217.39419343527686,171.7038969466866)\" d=\"M6.794055409482419,0A6.794055409482419,6.794055409482419,0,1,1,-6.794055409482419,0A6.794055409482419,6.794055409482419,0,1,1,6.794055409482419,0\" stroke=\"rgb(106, 172, 212)\" stroke-width=\"2\" opacity=\"0.7\"></path><path aria-label=\"x: -1.31841063742; y: -0.0801961094666\" role=\"graphics-symbol\" aria-roledescription=\"point\" transform=\"translate(133.87597682099005,236.00653698221944)\" d=\"M5.02118865831239,0A5.02118865831239,5.02118865831239,0,1,1,-5.02118865831239,0A5.02118865831239,5.02118865831239,0,1,1,5.02118865831239,0\" stroke=\"rgb(166, 205, 228)\" stroke-width=\"2\" opacity=\"0.7\"></path><path aria-label=\"x: 3.50957290684; y: 3.31594744531\" role=\"graphics-symbol\" aria-roledescription=\"point\" transform=\"translate(309.4390147940239,122.80175182290887)\" d=\"M8.321331877758338,0A8.321331877758338,8.321331877758338,0,1,1,-8.321331877758338,0A8.321331877758338,8.321331877758338,0,1,1,8.321331877758338,0\" stroke=\"rgb(66, 144, 197)\" stroke-width=\"2\" opacity=\"0.7\"></path><path aria-label=\"x: 0.575306229135; y: 1.73874632946\" role=\"graphics-symbol\" aria-roledescription=\"point\" transform=\"translate(202.73840833218802,175.37512235126604)\" d=\"M6.517931647306283,0A6.517931647306283,6.517931647306283,0,1,1,-6.517931647306283,0A6.517931647306283,6.517931647306283,0,1,1,6.517931647306283,0\" stroke=\"rgb(110, 174, 213)\" stroke-width=\"2\" opacity=\"0.7\"></path><path aria-label=\"x: 0.766355502695; y: 3.51855915517\" role=\"graphics-symbol\" aria-roledescription=\"point\" transform=\"translate(209.68565464345969,116.04802816112849)\" d=\"M6.650251322105807,0A6.650251322105807,6.650251322105807,0,1,1,-6.650251322105807,0A6.650251322105807,6.650251322105807,0,1,1,6.650251322105807,0\" stroke=\"rgb(61, 140, 195)\" stroke-width=\"2\" opacity=\"0.7\"></path><path aria-label=\"x: 2.14529064575; y: 1.47998446078\" role=\"graphics-symbol\" aria-roledescription=\"point\" transform=\"translate(259.8287507544352,184.00051797394937)\" d=\"M7.536711625184372,0A7.536711625184372,7.536711625184372,0,1,1,-7.536711625184372,0A7.536711625184372,7.536711625184372,0,1,1,7.536711625184372,0\" stroke=\"rgb(118, 179, 215)\" stroke-width=\"2\" opacity=\"0.7\"></path><path aria-label=\"x: 4.20377749353; y: 5.0441324339\" role=\"graphics-symbol\" aria-roledescription=\"point\" transform=\"translate(334.6828179464556,65.19558553664253)\" d=\"M8.693437555689854,0A8.693437555689854,8.693437555689854,0,1,1,-8.693437555689854,0A8.693437555689854,8.693437555689854,0,1,1,8.693437555689854,0\" stroke=\"rgb(29, 107, 175)\" stroke-width=\"2\" opacity=\"0.7\"></path><path aria-label=\"x: -0.668679078163; y: -0.163176464815\" role=\"graphics-symbol\" aria-roledescription=\"point\" transform=\"translate(157.50257897589108,238.77254882716724)\" d=\"M5.580145559284577,0A5.580145559284577,5.580145559284577,0,1,1,-5.580145559284577,0A5.580145559284577,5.580145559284577,0,1,1,5.580145559284577,0\" stroke=\"rgb(169, 206, 229)\" stroke-width=\"2\" opacity=\"0.7\"></path><path aria-label=\"x: -1.99562982444; y: 0.179357348624\" role=\"graphics-symbol\" aria-roledescription=\"point\" transform=\"translate(109.24982456577695,227.35475504585395)\" d=\"M4.363021161603316,0A4.363021161603316,4.363021161603316,0,1,1,-4.363021161603316,0A4.363021161603316,4.363021161603316,0,1,1,4.363021161603316,0\" stroke=\"rgb(158, 201, 226)\" stroke-width=\"2\" opacity=\"0.7\"></path><path aria-label=\"x: 4.37503867529; y: 3.43720045437\" role=\"graphics-symbol\" aria-roledescription=\"point\" transform=\"translate(340.9104972832779,118.75998485422727)\" d=\"M8.782812456736783,0A8.782812456736783,8.782812456736783,0,1,1,-8.782812456736783,0A8.782812456736783,8.782812456736783,0,1,1,8.782812456736783,0\" stroke=\"rgb(63, 141, 195)\" stroke-width=\"2\" opacity=\"0.7\"></path><path aria-label=\"x: 0.71977765555; y: 1.64719510287\" role=\"graphics-symbol\" aria-roledescription=\"point\" transform=\"translate(207.99191474728298,178.42682990416915)\" d=\"M6.618235629894712,0A6.618235629894712,6.618235629894712,0,1,1,-6.618235629894712,0A6.618235629894712,6.618235629894712,0,1,1,6.618235629894712,0\" stroke=\"rgb(113, 176, 214)\" stroke-width=\"2\" opacity=\"0.7\"></path><path aria-label=\"x: 3.42366684375; y: 2.83235069341\" role=\"graphics-symbol\" aria-roledescription=\"point\" transform=\"translate(306.3151579545909,138.92164355300463)\" d=\"M8.274121270407592,0A8.274121270407592,8.274121270407592,0,1,1,-8.274121270407592,0A8.274121270407592,8.274121270407592,0,1,1,8.274121270407592,0\" stroke=\"rgb(79, 154, 202)\" stroke-width=\"2\" opacity=\"0.7\"></path><path aria-label=\"x: 1.52469638799; y: 2.94921346447\" role=\"graphics-symbol\" aria-roledescription=\"point\" transform=\"translate(237.2616868358921,135.02621785107746)\" d=\"M7.151368508103703,0A7.151368508103703,7.151368508103703,0,1,1,-7.151368508103703,0A7.151368508103703,7.151368508103703,0,1,1,7.151368508103703,0\" stroke=\"rgb(76, 151, 201)\" stroke-width=\"2\" opacity=\"0.7\"></path><path aria-label=\"x: -4.08285715233; y: -0.944488181846\" role=\"graphics-symbol\" aria-roledescription=\"point\" transform=\"translate(33.35064900623566,264.8162727282012)\" d=\"M0,0\" stroke=\"rgb(189, 216, 236)\" stroke-width=\"2\" opacity=\"0.7\"></path><path aria-label=\"x: 1.9927246039; y: 2.77494282782\" role=\"graphics-symbol\" aria-roledescription=\"point\" transform=\"translate(254.28089468745355,140.83523907271658)\" d=\"M7.443828828405351,0A7.443828828405351,7.443828828405351,0,1,1,-7.443828828405351,0A7.443828828405351,7.443828828405351,0,1,1,7.443828828405351,0\" stroke=\"rgb(80, 155, 203)\" stroke-width=\"2\" opacity=\"0.7\"></path><path aria-label=\"x: 2.58659397229; y: 1.80196140759\" role=\"graphics-symbol\" aria-roledescription=\"point\" transform=\"translate(275.8761444468544,173.26795308024606)\" d=\"M7.799153901466057,0A7.799153901466057,7.799153901466057,0,1,1,-7.799153901466057,0A7.799153901466057,7.799153901466057,0,1,1,7.799153901466057,0\" stroke=\"rgb(108, 173, 212)\" stroke-width=\"2\" opacity=\"0.7\"></path><path aria-label=\"x: 3.76031766461; y: 6.26568843446\" role=\"graphics-symbol\" aria-roledescription=\"point\" transform=\"translate(318.5570059858936,24.477052184655378)\" d=\"M8.457624330769288,0A8.457624330769288,8.457624330769288,0,1,1,-8.457624330769288,0A8.457624330769288,8.457624330769288,0,1,1,8.457624330769288,0\" stroke=\"rgb(13, 80, 151)\" stroke-width=\"2\" opacity=\"0.7\"></path><path aria-label=\"x: -0.724986388789; y: 1.84496105722\" role=\"graphics-symbol\" aria-roledescription=\"point\" transform=\"translate(155.4550404076638,171.83463142608477)\" d=\"M5.533939817930336,0A5.533939817930336,5.533939817930336,0,1,1,-5.533939817930336,0A5.533939817930336,5.533939817930336,0,1,1,5.533939817930336,0\" stroke=\"rgb(107, 172, 212)\" stroke-width=\"2\" opacity=\"0.7\"></path><path aria-label=\"x: 0.961797116502; y: 2.36923420075\" role=\"graphics-symbol\" aria-roledescription=\"point\" transform=\"translate(216.79262241824992,154.3588599749848)\" d=\"M6.782942680375703,0A6.782942680375703,6.782942680375703,0,1,1,-6.782942680375703,0A6.782942680375703,6.782942680375703,0,1,1,6.782942680375703,0\" stroke=\"rgb(91, 163, 207)\" stroke-width=\"2\" opacity=\"0.7\"></path><path aria-label=\"x: -2.59159686907; y: -1.11524738068\" role=\"graphics-symbol\" aria-roledescription=\"point\" transform=\"translate(87.57829567027353,270.5082460227868)\" d=\"M3.6879002771872917,0A3.6879002771872917,3.6879002771872917,0,1,1,-3.6879002771872917,0A3.6879002771872917,3.6879002771872917,0,1,1,3.6879002771872917,0\" stroke=\"rgb(193, 218, 237)\" stroke-width=\"2\" opacity=\"0.7\"></path><path aria-label=\"x: 0.903673920667; y: 1.46511203563\" role=\"graphics-symbol\" aria-roledescription=\"point\" transform=\"translate(214.67905166061226,184.49626547909043)\" d=\"M6.743753820733624,0A6.743753820733624,6.743753820733624,0,1,1,-6.743753820733624,0A6.743753820733624,6.743753820733624,0,1,1,6.743753820733624,0\" stroke=\"rgb(118, 179, 216)\" stroke-width=\"2\" opacity=\"0.7\"></path><path aria-label=\"x: -1.73372172731; y: -0.191411813061\" role=\"graphics-symbol\" aria-roledescription=\"point\" transform=\"translate(118.77375537056514,239.71372710203312)\" d=\"M4.628672678827093,0A4.628672678827093,4.628672678827093,0,1,1,-4.628672678827093,0A4.628672678827093,4.628672678827093,0,1,1,4.628672678827093,0\" stroke=\"rgb(169, 207, 229)\" stroke-width=\"2\" opacity=\"0.7\"></path><path aria-label=\"x: 2.79747543346; y: 3.34659977037\" role=\"graphics-symbol\" aria-roledescription=\"point\" transform=\"translate(283.5445612168774,121.7800076544605)\" d=\"M7.921495124205736,0A7.921495124205736,7.921495124205736,0,1,1,-7.921495124205736,0A7.921495124205736,7.921495124205736,0,1,1,7.921495124205736,0\" stroke=\"rgb(66, 143, 196)\" stroke-width=\"2\" opacity=\"0.7\"></path><path aria-label=\"x: 3.92033000055; y: 3.27957433616\" role=\"graphics-symbol\" aria-roledescription=\"point\" transform=\"translate(324.37563638369966,124.01418879478466)\" d=\"M8.543462739921452,0A8.543462739921452,8.543462739921452,0,1,1,-8.543462739921452,0A8.543462739921452,8.543462739921452,0,1,1,8.543462739921452,0\" stroke=\"rgb(67, 144, 197)\" stroke-width=\"2\" opacity=\"0.7\"></path><path aria-label=\"x: 0.665545290414; y: 0.67908580182\" role=\"graphics-symbol\" aria-roledescription=\"point\" transform=\"translate(206.01982874234142,210.69713993934587)\" d=\"M6.5807622840508415,0A6.5807622840508415,6.5807622840508415,0,1,1,-6.5807622840508415,0A6.5807622840508415,6.5807622840508415,0,1,1,6.5807622840508415,0\" stroke=\"rgb(143, 193, 222)\" stroke-width=\"2\" opacity=\"0.7\"></path><path aria-label=\"x: -0.406188263684; y: 1.25577791421\" role=\"graphics-symbol\" aria-roledescription=\"point\" transform=\"translate(167.04769950241328,191.47406952645636)\" d=\"M5.790681831968978,0A5.790681831968978,5.790681831968978,0,1,1,-5.790681831968978,0A5.790681831968978,5.790681831968978,0,1,1,5.790681831968978,0\" stroke=\"rgb(125, 183, 217)\" stroke-width=\"2\" opacity=\"0.7\"></path><path aria-label=\"x: 3.70043347805; y: 2.70096379533\" role=\"graphics-symbol\" aria-roledescription=\"point\" transform=\"translate(316.37939920178167,143.30120682235938)\" d=\"M8.42527464850796,0A8.42527464850796,8.42527464850796,0,1,1,-8.42527464850796,0A8.42527464850796,8.42527464850796,0,1,1,8.42527464850796,0\" stroke=\"rgb(82, 156, 203)\" stroke-width=\"2\" opacity=\"0.7\"></path><path aria-label=\"x: 1.84422300445; y: 3.42566553458\" role=\"graphics-symbol\" aria-roledescription=\"point\" transform=\"translate(248.88083652530938,119.1444821806541)\" d=\"M7.3522936356065065,0A7.3522936356065065,7.3522936356065065,0,1,1,-7.3522936356065065,0A7.3522936356065065,7.3522936356065065,0,1,1,7.3522936356065065,0\" stroke=\"rgb(64, 141, 196)\" stroke-width=\"2\" opacity=\"0.7\"></path><path aria-label=\"x: 1.8974957975; y: 2.84793922236\" role=\"graphics-symbol\" aria-roledescription=\"point\" transform=\"translate(250.81802900012104,138.40202592119044)\" d=\"M7.385261052797367,0A7.385261052797367,7.385261052797367,0,1,1,-7.385261052797367,0A7.385261052797367,7.385261052797367,0,1,1,7.385261052797367,0\" stroke=\"rgb(78, 153, 202)\" stroke-width=\"2\" opacity=\"0.7\"></path><path aria-label=\"x: 1.47956647805; y: 2.24784398374\" role=\"graphics-symbol\" aria-roledescription=\"point\" transform=\"translate(235.62059920175403,158.40520054190011)\" d=\"M7.122533063256642,0A7.122533063256642,7.122533063256642,0,1,1,-7.122533063256642,0A7.122533063256642,7.122533063256642,0,1,1,7.122533063256642,0\" stroke=\"rgb(95, 165, 208)\" stroke-width=\"2\" opacity=\"0.7\"></path><path aria-label=\"x: 0.815520074994; y: 1.8252220718\" role=\"graphics-symbol\" aria-roledescription=\"point\" transform=\"translate(211.47345727251206,172.49259760660627)\" d=\"M6.683878658440982,0A6.683878658440982,6.683878658440982,0,1,1,-6.683878658440982,0A6.683878658440982,6.683878658440982,0,1,1,6.683878658440982,0\" stroke=\"rgb(107, 173, 212)\" stroke-width=\"2\" opacity=\"0.7\"></path><path aria-label=\"x: 0.946086955803; y: 2.56666167075\" role=\"graphics-symbol\" aria-roledescription=\"point\" transform=\"translate(216.22134384736452,147.77794430832017)\" d=\"M6.772372658432201,0A6.772372658432201,6.772372658432201,0,1,1,-6.772372658432201,0A6.772372658432201,6.772372658432201,0,1,1,6.772372658432201,0\" stroke=\"rgb(86, 159, 205)\" stroke-width=\"2\" opacity=\"0.7\"></path><path aria-label=\"x: 2.19871373583; y: 4.20436748296\" role=\"graphics-symbol\" aria-roledescription=\"point\" transform=\"translate(261.771408575714,93.18775056800426)\" d=\"M7.568966374319758,0A7.568966374319758,7.568966374319758,0,1,1,-7.568966374319758,0A7.568966374319758,7.568966374319758,0,1,1,7.568966374319758,0\" stroke=\"rgb(46, 125, 187)\" stroke-width=\"2\" opacity=\"0.7\"></path><path aria-label=\"x: 0.20872888533; y: 1.94893917042\" role=\"graphics-symbol\" aria-roledescription=\"point\" transform=\"translate(189.40832310292447,168.36869431923483)\" d=\"M6.25621053289427,0A6.25621053289427,6.25621053289427,0,1,1,-6.25621053289427,0A6.25621053289427,6.25621053289427,0,1,1,6.25621053289427,0\" stroke=\"rgb(103, 170, 211)\" stroke-width=\"2\" opacity=\"0.7\"></path><path aria-label=\"x: 0.0654962585557; y: 1.06959162501\" role=\"graphics-symbol\" aria-roledescription=\"point\" transform=\"translate(184.19986394747906,197.6802791662149)\" d=\"M6.150923382075704,0A6.150923382075704,6.150923382075704,0,1,1,-6.150923382075704,0A6.150923382075704,6.150923382075704,0,1,1,6.150923382075704,0\" stroke=\"rgb(131, 186, 219)\" stroke-width=\"2\" opacity=\"0.7\"></path><path aria-label=\"x: 1.48572079112; y: 3.10385493121\" role=\"graphics-symbol\" aria-roledescription=\"point\" transform=\"translate(235.84439240435873,129.87150229304854)\" d=\"M7.126472189731758,0A7.126472189731758,7.126472189731758,0,1,1,-7.126472189731758,0A7.126472189731758,7.126472189731758,0,1,1,7.126472189731758,0\" stroke=\"rgb(72, 148, 199)\" stroke-width=\"2\" opacity=\"0.7\"></path><path aria-label=\"x: 1.9541512034; y: 2.47490307557\" role=\"graphics-symbol\" aria-roledescription=\"point\" transform=\"translate(252.8782255780073,150.83656414780128)\" d=\"M7.420161054489877,0A7.420161054489877,7.420161054489877,0,1,1,-7.420161054489877,0A7.420161054489877,7.420161054489877,0,1,1,7.420161054489877,0\" stroke=\"rgb(88, 161, 206)\" stroke-width=\"2\" opacity=\"0.7\"></path><path aria-label=\"x: -1.24840553927; y: 1.11325515235\" role=\"graphics-symbol\" aria-roledescription=\"point\" transform=\"translate(136.42161675396378,196.22482825495706)\" d=\"M5.084367886900482,0A5.084367886900482,5.084367886900482,0,1,1,-5.084367886900482,0A5.084367886900482,5.084367886900482,0,1,1,5.084367886900482,0\" stroke=\"rgb(129, 185, 218)\" stroke-width=\"2\" opacity=\"0.7\"></path><path aria-label=\"x: 1.12216570561; y: 2.53498028885\" role=\"graphics-symbol\" aria-roledescription=\"point\" transform=\"translate(222.6242074767146,148.83399037162312)\" d=\"M6.889913408551232,0A6.889913408551232,6.889913408551232,0,1,1,-6.889913408551232,0A6.889913408551232,6.889913408551232,0,1,1,6.889913408551232,0\" stroke=\"rgb(87, 160, 205)\" stroke-width=\"2\" opacity=\"0.7\"></path><path aria-label=\"x: 2.47474948402; y: 3.64654495788\" role=\"graphics-symbol\" aria-roledescription=\"point\" transform=\"translate(271.8090721461084,111.78183473739386)\" d=\"M7.733482801778108,0A7.733482801778108,7.733482801778108,0,1,1,-7.733482801778108,0A7.733482801778108,7.733482801778108,0,1,1,7.733482801778108,0\" stroke=\"rgb(58, 137, 193)\" stroke-width=\"2\" opacity=\"0.7\"></path><path aria-label=\"x: 0.43324060627; y: 2.47599691203\" role=\"graphics-symbol\" aria-roledescription=\"point\" transform=\"translate(197.5723856825318,150.80010293238087)\" d=\"M6.417769433465717,0A6.417769433465717,6.417769433465717,0,1,1,-6.417769433465717,0A6.417769433465717,6.417769433465717,0,1,1,6.417769433465717,0\" stroke=\"rgb(88, 161, 206)\" stroke-width=\"2\" opacity=\"0.7\"></path><path aria-label=\"x: 2.07129781751; y: 2.38913098132\" role=\"graphics-symbol\" aria-roledescription=\"point\" transform=\"translate(257.1381024550077,153.69563395601847)\" d=\"M7.491808320722778,0A7.491808320722778,7.491808320722778,0,1,1,-7.491808320722778,0A7.491808320722778,7.491808320722778,0,1,1,7.491808320722778,0\" stroke=\"rgb(90, 163, 207)\" stroke-width=\"2\" opacity=\"0.7\"></path><path aria-label=\"x: 0.525002202281; y: 0.984478081921\" role=\"graphics-symbol\" aria-roledescription=\"point\" transform=\"translate(200.90917099204648,200.51739726929355)\" d=\"M6.482642178879404,0A6.482642178879404,6.482642178879404,0,1,1,-6.482642178879404,0A6.482642178879404,6.482642178879404,0,1,1,6.482642178879404,0\" stroke=\"rgb(134, 188, 220)\" stroke-width=\"2\" opacity=\"0.7\"></path><path aria-label=\"x: -0.212511491151; y: 1.1607441777\" role=\"graphics-symbol\" aria-roledescription=\"point\" transform=\"translate(174.09049123086174,194.64186074335262)\" d=\"M5.941243061209149,0A5.941243061209149,5.941243061209149,0,1,1,-5.941243061209149,0A5.941243061209149,5.941243061209149,0,1,1,5.941243061209149,0\" stroke=\"rgb(128, 185, 218)\" stroke-width=\"2\" opacity=\"0.7\"></path><path aria-label=\"x: 2.34406623449; y: 2.59340545339\" role=\"graphics-symbol\" aria-roledescription=\"point\" transform=\"translate(267.05695398155956,146.88648488703114)\" d=\"M7.656036666202017,0A7.656036666202017,7.656036666202017,0,1,1,-7.656036666202017,0A7.656036666202017,7.656036666202017,0,1,1,7.656036666202017,0\" stroke=\"rgb(85, 158, 205)\" stroke-width=\"2\" opacity=\"0.7\"></path><path aria-label=\"x: -2.54753260936; y: -1.69606702123\" role=\"graphics-symbol\" aria-roledescription=\"point\" transform=\"translate(89.18063238675896,289.86890070768726)\" d=\"M3.7419892839212014,0A3.7419892839212014,3.7419892839212014,0,1,1,-3.7419892839212014,0A3.7419892839212014,3.7419892839212014,0,1,1,3.7419892839212014,0\" stroke=\"rgb(205, 224, 241)\" stroke-width=\"2\" opacity=\"0.7\"></path><path aria-label=\"x: 5.59770643455; y: 4.5511328011\" role=\"graphics-symbol\" aria-roledescription=\"point\" transform=\"translate(385.37114307467203,81.62890663000233)\" d=\"M9.396211077347424,0A9.396211077347424,9.396211077347424,0,1,1,-9.396211077347424,0A9.396211077347424,9.396211077347424,0,1,1,9.396211077347424,0\" stroke=\"rgb(39, 118, 182)\" stroke-width=\"2\" opacity=\"0.7\"></path><path aria-label=\"x: 1.3128505324; y: 1.42968153951\" role=\"graphics-symbol\" aria-roledescription=\"point\" transform=\"translate(229.55820117818618,185.67728201649388)\" d=\"M7.014983437906851,0A7.014983437906851,7.014983437906851,0,1,1,-7.014983437906851,0A7.014983437906851,7.014983437906851,0,1,1,7.014983437906851,0\" stroke=\"rgb(119, 180, 216)\" stroke-width=\"2\" opacity=\"0.7\"></path><path aria-label=\"x: 1.06674270802; y: 2.20171575256\" role=\"graphics-symbol\" aria-roledescription=\"point\" transform=\"translate(220.6088257463562,159.94280824792136)\" d=\"M6.8531333960854806,0A6.8531333960854806,6.8531333960854806,0,1,1,-6.8531333960854806,0A6.8531333960854806,6.8531333960854806,0,1,1,6.8531333960854806,0\" stroke=\"rgb(96, 166, 209)\" stroke-width=\"2\" opacity=\"0.7\"></path><path aria-label=\"x: 3.34012505717; y: 4.46462195564\" role=\"graphics-symbol\" aria-roledescription=\"point\" transform=\"translate(303.27727480636145,84.51260147869175)\" d=\"M8.22795017459792,0A8.22795017459792,8.22795017459792,0,1,1,-8.22795017459792,0A8.22795017459792,8.22795017459792,0,1,1,8.22795017459792,0\" stroke=\"rgb(40, 120, 183)\" stroke-width=\"2\" opacity=\"0.7\"></path><path aria-label=\"x: 0.84352326977; y: 1.66425322116\" role=\"graphics-symbol\" aria-roledescription=\"point\" transform=\"translate(212.49175526436602,177.8582259614447)\" d=\"M6.702956733120067,0A6.702956733120067,6.702956733120067,0,1,1,-6.702956733120067,0A6.702956733120067,6.702956733120067,0,1,1,6.702956733120067,0\" stroke=\"rgb(112, 176, 214)\" stroke-width=\"2\" opacity=\"0.7\"></path><path aria-label=\"x: 0.969741810125; y: 1.59671440779\" role=\"graphics-symbol\" aria-roledescription=\"point\" transform=\"translate(217.0815203681835,180.10951974032545)\" d=\"M6.788281718337645,0A6.788281718337645,6.788281718337645,0,1,1,-6.788281718337645,0A6.788281718337645,6.788281718337645,0,1,1,6.788281718337645,0\" stroke=\"rgb(114, 177, 214)\" stroke-width=\"2\" opacity=\"0.7\"></path><path aria-label=\"x: 2.3102327439; y: 3.33688281976\" role=\"graphics-symbol\" aria-roledescription=\"point\" transform=\"translate(265.8266452327419,122.10390600816262)\" d=\"M7.635858095906083,0A7.635858095906083,7.635858095906083,0,1,1,-7.635858095906083,0A7.635858095906083,7.635858095906083,0,1,1,7.635858095906083,0\" stroke=\"rgb(66, 143, 197)\" stroke-width=\"2\" opacity=\"0.7\"></path><path aria-label=\"x: -2.62862183291; y: -0.777408996056\" role=\"graphics-symbol\" aria-roledescription=\"point\" transform=\"translate(86.23193334882859,259.24696653519294)\" d=\"M3.64183099163244,0A3.64183099163244,3.64183099163244,0,1,1,-3.64183099163244,0A3.64183099163244,3.64183099163244,0,1,1,3.64183099163244,0\" stroke=\"rgb(185, 214, 234)\" stroke-width=\"2\" opacity=\"0.7\"></path><path aria-label=\"x: 0.100623386779; y: 2.58938457824\" role=\"graphics-symbol\" aria-roledescription=\"point\" transform=\"translate(185.47721406468963,147.02051405859618)\" d=\"M6.176910657743444,0A6.176910657743444,6.176910657743444,0,1,1,-6.176910657743444,0A6.176910657743444,6.176910657743444,0,1,1,6.176910657743444,0\" stroke=\"rgb(85, 158, 205)\" stroke-width=\"2\" opacity=\"0.7\"></path><path aria-label=\"x: 4.10407756248; y: 2.31609469191\" role=\"graphics-symbol\" aria-roledescription=\"point\" transform=\"translate(331.0573659085168,156.13017693645142)\" d=\"M8.640982127389277,0A8.640982127389277,8.640982127389277,0,1,1,-8.640982127389277,0A8.640982127389277,8.640982127389277,0,1,1,8.640982127389277,0\" stroke=\"rgb(92, 164, 207)\" stroke-width=\"2\" opacity=\"0.7\"></path><path aria-label=\"x: 0.423024325459; y: 2.08629684714\" role=\"graphics-symbol\" aria-roledescription=\"point\" transform=\"translate(197.20088456213963,163.79010509528575)\" d=\"M6.410506209683681,0A6.410506209683681,6.410506209683681,0,1,1,-6.410506209683681,0A6.410506209683681,6.410506209683681,0,1,1,6.410506209683681,0\" stroke=\"rgb(99, 168, 210)\" stroke-width=\"2\" opacity=\"0.7\"></path><path aria-label=\"x: 2.23660908408; y: 3.17531009906\" role=\"graphics-symbol\" aria-roledescription=\"point\" transform=\"translate(263.1494212394096,127.48966336479867)\" d=\"M7.591763006571215,0A7.591763006571215,7.591763006571215,0,1,1,-7.591763006571215,0A7.591763006571215,7.591763006571215,0,1,1,7.591763006571215,0\" stroke=\"rgb(70, 147, 198)\" stroke-width=\"2\" opacity=\"0.7\"></path><path aria-label=\"x: 0.141628811798; y: 2.04477349956\" role=\"graphics-symbol\" aria-roledescription=\"point\" transform=\"translate(186.96832042901278,165.17421668139812)\" d=\"M6.207109101866981,0A6.207109101866981,6.207109101866981,0,1,1,-6.207109101866981,0A6.207109101866981,6.207109101866981,0,1,1,6.207109101866981,0\" stroke=\"rgb(101, 169, 210)\" stroke-width=\"2\" opacity=\"0.7\"></path><path aria-label=\"x: -0.327785231021; y: 1.29291181728\" role=\"graphics-symbol\" aria-roledescription=\"point\" transform=\"translate(169.89871887196438,190.23627275747688)\" d=\"M5.852097767537635,0A5.852097767537635,5.852097767537635,0,1,1,-5.852097767537635,0A5.852097767537635,5.852097767537635,0,1,1,5.852097767537635,0\" stroke=\"rgb(124, 182, 217)\" stroke-width=\"2\" opacity=\"0.7\"></path><path aria-label=\"x: 3.57956301123; y: 4.4655650659\" role=\"graphics-symbol\" aria-roledescription=\"point\" transform=\"translate(311.9841094991087,84.48116446994753)\" d=\"M8.359598599242586,0A8.359598599242586,8.359598599242586,0,1,1,-8.359598599242586,0A8.359598599242586,8.359598599242586,0,1,1,8.359598599242586,0\" stroke=\"rgb(40, 120, 183)\" stroke-width=\"2\" opacity=\"0.7\"></path><path aria-label=\"x: 1.14609106223; y: 3.7401469518\" role=\"graphics-symbol\" aria-roledescription=\"point\" transform=\"translate(223.49422044459436,108.66176827325931)\" d=\"M6.9057303073731955,0A6.9057303073731955,6.9057303073731955,0,1,1,-6.9057303073731955,0A6.9057303073731955,6.9057303073731955,0,1,1,6.9057303073731955,0\" stroke=\"rgb(56, 135, 192)\" stroke-width=\"2\" opacity=\"0.7\"></path><path aria-label=\"x: -1.27734975136; y: -1.04873212953\" role=\"graphics-symbol\" aria-roledescription=\"point\" transform=\"translate(135.3690999507014,268.29107098420354)\" d=\"M5.058341574820996,0A5.058341574820996,5.058341574820996,0,1,1,-5.058341574820996,0A5.058341574820996,5.058341574820996,0,1,1,5.058341574820996,0\" stroke=\"rgb(191, 217, 237)\" stroke-width=\"2\" opacity=\"0.7\"></path><path aria-label=\"x: -2.15238299105; y: -0.208727066019\" role=\"graphics-symbol\" aria-roledescription=\"point\" transform=\"translate(103.54970941627748,240.29090220062037)\" d=\"M4.1959899547766,0A4.1959899547766,4.1959899547766,0,1,1,-4.1959899547766,0A4.1959899547766,4.1959899547766,0,1,1,4.1959899547766,0\" stroke=\"rgb(170, 207, 230)\" stroke-width=\"2\" opacity=\"0.7\"></path><path aria-label=\"x: 0.493507961789; y: 2.33241794982\" role=\"graphics-symbol\" aria-roledescription=\"point\" transform=\"translate(199.76392588322236,155.58606833934186)\" d=\"M6.460450100456399,0A6.460450100456399,6.460450100456399,0,1,1,-6.460450100456399,0A6.460450100456399,6.460450100456399,0,1,1,6.460450100456399,0\" stroke=\"rgb(92, 164, 207)\" stroke-width=\"2\" opacity=\"0.7\"></path><path aria-label=\"x: 2.16018176754; y: 2.78647255904\" role=\"graphics-symbol\" aria-roledescription=\"point\" transform=\"translate(260.37024609223545,140.45091469872185)\" d=\"M7.545716155149771,0A7.545716155149771,7.545716155149771,0,1,1,-7.545716155149771,0A7.545716155149771,7.545716155149771,0,1,1,7.545716155149771,0\" stroke=\"rgb(80, 154, 202)\" stroke-width=\"2\" opacity=\"0.7\"></path><path aria-label=\"x: 0.351522118391; y: 1.29327918033\" role=\"graphics-symbol\" aria-roledescription=\"point\" transform=\"translate(194.6008043051235,190.2240273224214)\" d=\"M6.359439806165166,0A6.359439806165166,6.359439806165166,0,1,1,-6.359439806165166,0A6.359439806165166,6.359439806165166,0,1,1,6.359439806165166,0\" stroke=\"rgb(124, 182, 217)\" stroke-width=\"2\" opacity=\"0.7\"></path><path aria-label=\"x: -1.31211209154; y: 0.378773406457\" role=\"graphics-symbol\" aria-roledescription=\"point\" transform=\"translate(134.1050148530999,220.7075531181116)\" d=\"M5.026905570017759,0A5.026905570017759,5.026905570017759,0,1,1,-5.026905570017759,0A5.026905570017759,5.026905570017759,0,1,1,5.026905570017759,0\" stroke=\"rgb(152, 198, 225)\" stroke-width=\"2\" opacity=\"0.7\"></path><path aria-label=\"x: 1.29628769652; y: 2.34602650936\" role=\"graphics-symbol\" aria-roledescription=\"point\" transform=\"translate(228.9559162370789,155.13244968784633)\" d=\"M7.0042084546328525,0A7.0042084546328525,7.0042084546328525,0,1,1,-7.0042084546328525,0A7.0042084546328525,7.0042084546328525,0,1,1,7.0042084546328525,0\" stroke=\"rgb(92, 163, 207)\" stroke-width=\"2\" opacity=\"0.7\"></path><path aria-label=\"x: 2.38204298; y: 2.25590307172\" role=\"graphics-symbol\" aria-roledescription=\"point\" transform=\"translate(268.43792654558507,158.1365642758853)\" d=\"M7.678623142645311,0A7.678623142645311,7.678623142645311,0,1,1,-7.678623142645311,0A7.678623142645311,7.678623142645311,0,1,1,7.678623142645311,0\" stroke=\"rgb(94, 165, 208)\" stroke-width=\"2\" opacity=\"0.7\"></path><path aria-label=\"x: -0.974951524381; y: 0.531871753234\" role=\"graphics-symbol\" aria-roledescription=\"point\" transform=\"translate(146.36539911342956,215.6042748921938)\" d=\"M5.323979256785896,0A5.323979256785896,5.323979256785896,0,1,1,-5.323979256785896,0A5.323979256785896,5.323979256785896,0,1,1,5.323979256785896,0\" stroke=\"rgb(148, 196, 223)\" stroke-width=\"2\" opacity=\"0.7\"></path><path aria-label=\"x: -0.916204756345; y: 0.787567503462\" role=\"graphics-symbol\" aria-roledescription=\"point\" transform=\"translate(148.5016452238168,207.08108321794734)\" d=\"M5.374061596905935,0A5.374061596905935,5.374061596905935,0,1,1,-5.374061596905935,0A5.374061596905935,5.374061596905935,0,1,1,5.374061596905935,0\" stroke=\"rgb(140, 191, 221)\" stroke-width=\"2\" opacity=\"0.7\"></path><path aria-label=\"x: 2.26921939556; y: 1.31711495289\" role=\"graphics-symbol\" aria-roledescription=\"point\" transform=\"translate(264.3352507477284,189.4295015704467)\" d=\"M7.611325670981243,0A7.611325670981243,7.611325670981243,0,1,1,-7.611325670981243,0A7.611325670981243,7.611325670981243,0,1,1,7.611325670981243,0\" stroke=\"rgb(123, 182, 217)\" stroke-width=\"2\" opacity=\"0.7\"></path><path aria-label=\"x: 1.24845250102; y: 2.48178836124\" role=\"graphics-symbol\" aria-roledescription=\"point\" transform=\"translate(227.21645458265266,150.6070546253497)\" d=\"M6.972995697639994,0A6.972995697639994,6.972995697639994,0,1,1,-6.972995697639994,0A6.972995697639994,6.972995697639994,0,1,1,6.972995697639994,0\" stroke=\"rgb(88, 161, 206)\" stroke-width=\"2\" opacity=\"0.7\"></path><path aria-label=\"x: 2.76922934351; y: 4.98005945491\" role=\"graphics-symbol\" aria-roledescription=\"point\" transform=\"translate(282.5174306730028,67.33135150305918)\" d=\"M7.9052181944711855,0A7.9052181944711855,7.9052181944711855,0,1,1,-7.9052181944711855,0A7.9052181944711855,7.9052181944711855,0,1,1,7.9052181944711855,0\" stroke=\"rgb(30, 109, 176)\" stroke-width=\"2\" opacity=\"0.7\"></path><path aria-label=\"x: 1.6085565718; y: 2.88904351728\" role=\"graphics-symbol\" aria-roledescription=\"point\" transform=\"translate(240.31114806562596,137.03188275742585)\" d=\"M7.20464392669542,0A7.20464392669542,7.20464392669542,0,1,1,-7.20464392669542,0A7.20464392669542,7.20464392669542,0,1,1,7.20464392669542,0\" stroke=\"rgb(77, 152, 201)\" stroke-width=\"2\" opacity=\"0.7\"></path><path aria-label=\"x: 2.66018112132; y: 4.86384616146\" role=\"graphics-symbol\" aria-roledescription=\"point\" transform=\"translate(278.552040775323,71.20512795132305)\" d=\"M7.842061712685799,0A7.842061712685799,7.842061712685799,0,1,1,-7.842061712685799,0A7.842061712685799,7.842061712685799,0,1,1,7.842061712685799,0\" stroke=\"rgb(32, 111, 178)\" stroke-width=\"2\" opacity=\"0.7\"></path><path aria-label=\"x: -0.545813161153; y: 2.98286433419\" role=\"graphics-symbol\" aria-roledescription=\"point\" transform=\"translate(161.9704305035276,133.9045221935944)\" d=\"M5.67966438725889,0A5.67966438725889,5.67966438725889,0,1,1,-5.67966438725889,0A5.67966438725889,5.67966438725889,0,1,1,5.67966438725889,0\" stroke=\"rgb(75, 150, 200)\" stroke-width=\"2\" opacity=\"0.7\"></path><path aria-label=\"x: 1.21821931862; y: 1.81223538212\" role=\"graphics-symbol\" aria-roledescription=\"point\" transform=\"translate(226.11706613180752,172.9254872625802)\" d=\"M6.9531960993721365,0A6.9531960993721365,6.9531960993721365,0,1,1,-6.9531960993721365,0A6.9531960993721365,6.9531960993721365,0,1,1,6.9531960993721365,0\" stroke=\"rgb(108, 173, 212)\" stroke-width=\"2\" opacity=\"0.7\"></path><path aria-label=\"x: 2.07657089235; y: 3.30901487749\" role=\"graphics-symbol\" aria-roledescription=\"point\" transform=\"translate(257.32985063077876,123.03283741710274)\" d=\"M7.495017242782502,0A7.495017242782502,7.495017242782502,0,1,1,-7.495017242782502,0A7.495017242782502,7.495017242782502,0,1,1,7.495017242782502,0\" stroke=\"rgb(66, 144, 197)\" stroke-width=\"2\" opacity=\"0.7\"></path><path aria-label=\"x: 0.992142792139; y: 1.50681052065\" role=\"graphics-symbol\" aria-roledescription=\"point\" transform=\"translate(217.89610153233974,183.10631597828845)\" d=\"M6.8033131906684465,0A6.8033131906684465,6.8033131906684465,0,1,1,-6.8033131906684465,0A6.8033131906684465,6.8033131906684465,0,1,1,6.8033131906684465,0\" stroke=\"rgb(117, 178, 215)\" stroke-width=\"2\" opacity=\"0.7\"></path><path aria-label=\"x: 0.326233320431; y: 0.458726411246\" role=\"graphics-symbol\" aria-roledescription=\"point\" transform=\"translate(193.68121165202567,218.04245295845013)\" d=\"M6.341280270942664,0A6.341280270942664,6.341280270942664,0,1,1,-6.341280270942664,0A6.341280270942664,6.341280270942664,0,1,1,6.341280270942664,0\" stroke=\"rgb(150, 197, 224)\" stroke-width=\"2\" opacity=\"0.7\"></path><path aria-label=\"x: 3.37379564326; y: 3.3938816679\" role=\"graphics-symbol\" aria-roledescription=\"point\" transform=\"translate(304.50165975504706,120.20394440342344)\" d=\"M8.246590018039791,0A8.246590018039791,8.246590018039791,0,1,1,-8.246590018039791,0A8.246590018039791,8.246590018039791,0,1,1,8.246590018039791,0\" stroke=\"rgb(64, 142, 196)\" stroke-width=\"2\" opacity=\"0.7\"></path><path aria-label=\"x: -1.13368997049; y: 0.811572167554\" role=\"graphics-symbol\" aria-roledescription=\"point\" transform=\"translate(140.59309198206256,206.28092774820814)\" d=\"M5.186234375990702,0A5.186234375990702,5.186234375990702,0,1,1,-5.186234375990702,0A5.186234375990702,5.186234375990702,0,1,1,5.186234375990702,0\" stroke=\"rgb(139, 191, 221)\" stroke-width=\"2\" opacity=\"0.7\"></path><path aria-label=\"x: 4.0589645235; y: 4.43683022419\" role=\"graphics-symbol\" aria-roledescription=\"point\" transform=\"translate(329.41689176359375,85.43899252683845)\" d=\"M8.617141735575819,0A8.617141735575819,8.617141735575819,0,1,1,-8.617141735575819,0A8.617141735575819,8.617141735575819,0,1,1,8.617141735575819,0\" stroke=\"rgb(41, 120, 184)\" stroke-width=\"2\" opacity=\"0.7\"></path><path aria-label=\"x: -0.166249373455; y: 0.459145875837\" role=\"graphics-symbol\" aria-roledescription=\"point\" transform=\"translate(175.77275005616585,218.02847080544632)\" d=\"M5.976645328905761,0A5.976645328905761,5.976645328905761,0,1,1,-5.976645328905761,0A5.976645328905761,5.976645328905761,0,1,1,5.976645328905761,0\" stroke=\"rgb(150, 197, 224)\" stroke-width=\"2\" opacity=\"0.7\"></path><path aria-label=\"x: -0.614156615717; y: 0.874715583285\" role=\"graphics-symbol\" aria-roledescription=\"point\" transform=\"translate(159.48521397393924,204.17614722382456)\" d=\"M5.6245249421715435,0A5.6245249421715435,5.6245249421715435,0,1,1,-5.6245249421715435,0A5.6245249421715435,5.6245249421715435,0,1,1,5.6245249421715435,0\" stroke=\"rgb(137, 190, 220)\" stroke-width=\"2\" opacity=\"0.7\"></path><path aria-label=\"x: 3.46881074732; y: 4.06057316071\" role=\"graphics-symbol\" aria-roledescription=\"point\" transform=\"translate(307.95675444817647,97.9808946429791)\" d=\"M8.298964075342592,0A8.298964075342592,8.298964075342592,0,1,1,-8.298964075342592,0A8.298964075342592,8.298964075342592,0,1,1,8.298964075342592,0\" stroke=\"rgb(49, 128, 189)\" stroke-width=\"2\" opacity=\"0.7\"></path><path aria-label=\"x: -0.482167545438; y: 0.0205159424817\" role=\"graphics-symbol\" aria-roledescription=\"point\" transform=\"translate(164.28481652952186,232.64946858394293)\" d=\"M5.730536536581077,0A5.730536536581077,5.730536536581077,0,1,1,-5.730536536581077,0A5.730536536581077,5.730536536581077,0,1,1,5.730536536581077,0\" stroke=\"rgb(163, 204, 228)\" stroke-width=\"2\" opacity=\"0.7\"></path><path aria-label=\"x: 2.89642654535; y: 3.54600917063\" role=\"graphics-symbol\" aria-roledescription=\"point\" transform=\"translate(287.1427834674049,115.1330276457664)\" d=\"M7.978254196435578,0A7.978254196435578,7.978254196435578,0,1,1,-7.978254196435578,0A7.978254196435578,7.978254196435578,0,1,1,7.978254196435578,0\" stroke=\"rgb(61, 139, 194)\" stroke-width=\"2\" opacity=\"0.7\"></path><path aria-label=\"x: 1.90731499541; y: 2.23425609523\" role=\"graphics-symbol\" aria-roledescription=\"point\" transform=\"translate(251.17509074230972,158.85813015887362)\" d=\"M7.3913215310157865,0A7.3913215310157865,7.3913215310157865,0,1,1,-7.3913215310157865,0A7.3913215310157865,7.3913215310157865,0,1,1,7.3913215310157865,0\" stroke=\"rgb(95, 165, 208)\" stroke-width=\"2\" opacity=\"0.7\"></path><path aria-label=\"x: -0.721604364711; y: 0.501772156033\" role=\"graphics-symbol\" aria-roledescription=\"point\" transform=\"translate(155.57802310140488,216.60759479890564)\" d=\"M5.536725989400839,0A5.536725989400839,5.536725989400839,0,1,1,-5.536725989400839,0A5.536725989400839,5.536725989400839,0,1,1,5.536725989400839,0\" stroke=\"rgb(149, 196, 224)\" stroke-width=\"2\" opacity=\"0.7\"></path><path aria-label=\"x: 0.48875839808; y: 0.86079571012\" role=\"graphics-symbol\" aria-roledescription=\"point\" transform=\"translate(199.5912144756278,204.64014299600578)\" d=\"M6.457096752973117,0A6.457096752973117,6.457096752973117,0,1,1,-6.457096752973117,0A6.457096752973117,6.457096752973117,0,1,1,6.457096752973117,0\" stroke=\"rgb(138, 190, 221)\" stroke-width=\"2\" opacity=\"0.7\"></path><path aria-label=\"x: 1.07678387959; y: 2.8661767057\" role=\"graphics-symbol\" aria-roledescription=\"point\" transform=\"translate(220.97395925799023,137.7941098099018)\" d=\"M6.859811582547263,0A6.859811582547263,6.859811582547263,0,1,1,-6.859811582547263,0A6.859811582547263,6.859811582547263,0,1,1,6.859811582547263,0\" stroke=\"rgb(78, 153, 202)\" stroke-width=\"2\" opacity=\"0.7\"></path><path aria-label=\"x: 1.42174856353; y: 2.39581992926\" role=\"graphics-symbol\" aria-roledescription=\"point\" transform=\"translate(233.51812958284356,153.4726690248013)\" d=\"M7.085419229416938,0A7.085419229416938,7.085419229416938,0,1,1,-7.085419229416938,0A7.085419229416938,7.085419229416938,0,1,1,7.085419229416938,0\" stroke=\"rgb(90, 162, 207)\" stroke-width=\"2\" opacity=\"0.7\"></path><path aria-label=\"x: 1.51890846871; y: 1.6020902673\" role=\"graphics-symbol\" aria-roledescription=\"point\" transform=\"translate(237.05121704395364,179.9303244234382)\" d=\"M7.147676859901348,0A7.147676859901348,7.147676859901348,0,1,1,-7.147676859901348,0A7.147676859901348,7.147676859901348,0,1,1,7.147676859901348,0\" stroke=\"rgb(114, 177, 214)\" stroke-width=\"2\" opacity=\"0.7\"></path><path aria-label=\"x: 2.84356154629; y: 3.32830600391\" role=\"graphics-symbol\" aria-roledescription=\"point\" transform=\"translate(285.2204198652627,122.38979986956818)\" d=\"M7.947980880479669,0A7.947980880479669,7.947980880479669,0,1,1,-7.947980880479669,0A7.947980880479669,7.947980880479669,0,1,1,7.947980880479669,0\" stroke=\"rgb(66, 143, 197)\" stroke-width=\"2\" opacity=\"0.7\"></path><path aria-label=\"x: 1.22192741421; y: 0.764054601808\" role=\"graphics-symbol\" aria-roledescription=\"point\" transform=\"translate(226.25190597115127,207.86484660640124)\" d=\"M6.955627549723843,0A6.955627549723843,6.955627549723843,0,1,1,-6.955627549723843,0A6.955627549723843,6.955627549723843,0,1,1,6.955627549723843,0\" stroke=\"rgb(141, 192, 221)\" stroke-width=\"2\" opacity=\"0.7\"></path><path aria-label=\"x: 1.49264816855; y: 2.40727843546\" role=\"graphics-symbol\" aria-roledescription=\"point\" transform=\"translate(236.09629703827716,153.09071881799778)\" d=\"M7.130903520238809,0A7.130903520238809,7.130903520238809,0,1,1,-7.130903520238809,0A7.130903520238809,7.130903520238809,0,1,1,7.130903520238809,0\" stroke=\"rgb(90, 162, 207)\" stroke-width=\"2\" opacity=\"0.7\"></path><path aria-label=\"x: -1.37371145726; y: 0.799523631321\" role=\"graphics-symbol\" aria-roledescription=\"point\" transform=\"translate(131.86503791776127,206.68254562262757)\" d=\"M4.970712262482902,0A4.970712262482902,4.970712262482902,0,1,1,-4.970712262482902,0A4.970712262482902,4.970712262482902,0,1,1,4.970712262482902,0\" stroke=\"rgb(140, 191, 221)\" stroke-width=\"2\" opacity=\"0.7\"></path><path aria-label=\"x: -0.630740287702; y: 1.46884721215\" role=\"graphics-symbol\" aria-roledescription=\"point\" transform=\"translate(158.88217135630796,184.37175959506973)\" d=\"M5.611063556696169,0A5.611063556696169,5.611063556696169,0,1,1,-5.611063556696169,0A5.611063556696169,5.611063556696169,0,1,1,5.611063556696169,0\" stroke=\"rgb(118, 179, 216)\" stroke-width=\"2\" opacity=\"0.7\"></path><path aria-label=\"x: 0.652597047652; y: 0.999784632495\" role=\"graphics-symbol\" aria-roledescription=\"point\" transform=\"translate(205.54898355099667,200.00717891684204)\" d=\"M6.57178374058257,0A6.57178374058257,6.57178374058257,0,1,1,-6.57178374058257,0A6.57178374058257,6.57178374058257,0,1,1,6.57178374058257,0\" stroke=\"rgb(133, 188, 219)\" stroke-width=\"2\" opacity=\"0.7\"></path><path aria-label=\"x: 3.16871893355; y: 2.27706519064\" role=\"graphics-symbol\" aria-roledescription=\"point\" transform=\"translate(297.0443248564488,157.43116031203806)\" d=\"M8.132398419887371,0A8.132398419887371,8.132398419887371,0,1,1,-8.132398419887371,0A8.132398419887371,8.132398419887371,0,1,1,8.132398419887371,0\" stroke=\"rgb(94, 165, 208)\" stroke-width=\"2\" opacity=\"0.7\"></path><path aria-label=\"x: 3.44102126765; y: 4.01691453929\" role=\"graphics-symbol\" aria-roledescription=\"point\" transform=\"translate(306.94622791463917,99.43618202367522)\" d=\"M8.2836802693822,0A8.2836802693822,8.2836802693822,0,1,1,-8.2836802693822,0A8.2836802693822,8.2836802693822,0,1,1,8.2836802693822,0\" stroke=\"rgb(49, 129, 189)\" stroke-width=\"2\" opacity=\"0.7\"></path><path aria-label=\"x: 1.46155087061; y: 3.6953546238\" role=\"graphics-symbol\" aria-roledescription=\"point\" transform=\"translate(234.96548620396928,110.15484587330975)\" d=\"M7.110989459692836,0A7.110989459692836,7.110989459692836,0,1,1,-7.110989459692836,0A7.110989459692836,7.110989459692836,0,1,1,7.110989459692836,0\" stroke=\"rgb(57, 136, 193)\" stroke-width=\"2\" opacity=\"0.7\"></path><path aria-label=\"x: 4.26926889153; y: 3.73947624598\" role=\"graphics-symbol\" aria-roledescription=\"point\" transform=\"translate(337.0643233283714,108.6841251341001)\" d=\"M8.727723179834278,0A8.727723179834278,8.727723179834278,0,1,1,-8.727723179834278,0A8.727723179834278,8.727723179834278,0,1,1,8.727723179834278,0\" stroke=\"rgb(56, 135, 192)\" stroke-width=\"2\" opacity=\"0.7\"></path><path aria-label=\"x: 1.19920243051; y: 2.2045219764\" role=\"graphics-symbol\" aria-roledescription=\"point\" transform=\"translate(225.42554292751365,159.8492674532792)\" d=\"M6.940713073159669,0A6.940713073159669,6.940713073159669,0,1,1,-6.940713073159669,0A6.940713073159669,6.940713073159669,0,1,1,6.940713073159669,0\" stroke=\"rgb(96, 166, 209)\" stroke-width=\"2\" opacity=\"0.7\"></path><path aria-label=\"x: 0.53312086301; y: 2.07290959706\" role=\"graphics-symbol\" aria-roledescription=\"point\" transform=\"translate(201.20439501855637,164.2363467646628)\" d=\"M6.4883506007578875,0A6.4883506007578875,6.4883506007578875,0,1,1,-6.4883506007578875,0A6.4883506007578875,6.4883506007578875,0,1,1,6.4883506007578875,0\" stroke=\"rgb(100, 168, 210)\" stroke-width=\"2\" opacity=\"0.7\"></path><path aria-label=\"x: -1.58751129633; y: -1.15290464784\" role=\"graphics-symbol\" aria-roledescription=\"point\" transform=\"translate(124.09049831529619,271.7634882612979)\" d=\"M4.770543024662064,0A4.770543024662064,4.770543024662064,0,1,1,-4.770543024662064,0A4.770543024662064,4.770543024662064,0,1,1,4.770543024662064,0\" stroke=\"rgb(194, 218, 237)\" stroke-width=\"2\" opacity=\"0.7\"></path><path aria-label=\"x: -0.320137172509; y: 0.153616377114\" role=\"graphics-symbol\" aria-roledescription=\"point\" transform=\"translate(170.17683009059897,228.21278742953876)\" d=\"M5.858054300556707,0A5.858054300556707,5.858054300556707,0,1,1,-5.858054300556707,0A5.858054300556707,5.858054300556707,0,1,1,5.858054300556707,0\" stroke=\"rgb(159, 201, 227)\" stroke-width=\"2\" opacity=\"0.7\"></path><path aria-label=\"x: -0.307016099199; y: 1.6912777743\" role=\"graphics-symbol\" aria-roledescription=\"point\" transform=\"translate(170.6539600291238,176.95740752336368)\" d=\"M5.868259294333654,0A5.868259294333654,5.868259294333654,0,1,1,-5.868259294333654,0A5.868259294333654,5.868259294333654,0,1,1,5.868259294333654,0\" stroke=\"rgb(111, 175, 213)\" stroke-width=\"2\" opacity=\"0.7\"></path><path aria-label=\"x: -3.12769201156; y: -1.81070588371\" role=\"graphics-symbol\" aria-roledescription=\"point\" transform=\"translate(68.08392685218737,293.69019612381817)\" d=\"M2.9514924416905455,0A2.9514924416905455,2.9514924416905455,0,1,1,-2.9514924416905455,0A2.9514924416905455,2.9514924416905455,0,1,1,2.9514924416905455,0\" stroke=\"rgb(207, 225, 242)\" stroke-width=\"2\" opacity=\"0.7\"></path><path aria-label=\"x: 0.51562437373; y: 2.51693714381\" role=\"graphics-symbol\" aria-roledescription=\"point\" transform=\"translate(200.56815904472396,149.43542853965099)\" d=\"M6.476042143483959,0A6.476042143483959,6.476042143483959,0,1,1,-6.476042143483959,0A6.476042143483959,6.476042143483959,0,1,1,6.476042143483959,0\" stroke=\"rgb(87, 160, 205)\" stroke-width=\"2\" opacity=\"0.7\"></path><path aria-label=\"x: 0.876951033167; y: 0.772882281398\" role=\"graphics-symbol\" aria-roledescription=\"point\" transform=\"translate(213.70731029697123,207.57059062005618)\" d=\"M6.725659612399086,0A6.725659612399086,6.725659612399086,0,1,1,-6.725659612399086,0A6.725659612399086,6.725659612399086,0,1,1,6.725659612399086,0\" stroke=\"rgb(140, 192, 221)\" stroke-width=\"2\" opacity=\"0.7\"></path><path aria-label=\"x: -1.99614161555; y: -0.278327557566\" role=\"graphics-symbol\" aria-roledescription=\"point\" transform=\"translate(109.23121397984801,242.6109185855281)\" d=\"M4.362486219308232,0A4.362486219308232,4.362486219308232,0,1,1,-4.362486219308232,0A4.362486219308232,4.362486219308232,0,1,1,4.362486219308232,0\" stroke=\"rgb(172, 208, 230)\" stroke-width=\"2\" opacity=\"0.7\"></path><path aria-label=\"x: 2.53569896094; y: 3.02015980379\" role=\"graphics-symbol\" aria-roledescription=\"point\" transform=\"translate(274.0254167613811,132.66133987370588)\" d=\"M7.769338989635461,0A7.769338989635461,7.769338989635461,0,1,1,-7.769338989635461,0A7.769338989635461,7.769338989635461,0,1,1,7.769338989635461,0\" stroke=\"rgb(74, 150, 200)\" stroke-width=\"2\" opacity=\"0.7\"></path><path aria-label=\"x: -0.533425071085; y: 0.404186565\" role=\"graphics-symbol\" aria-roledescription=\"point\" transform=\"translate(162.42090650598982,219.86044783332386)\" d=\"M5.689601879510361,0A5.689601879510361,5.689601879510361,0,1,1,-5.689601879510361,0A5.689601879510361,5.689601879510361,0,1,1,5.689601879510361,0\" stroke=\"rgb(152, 198, 224)\" stroke-width=\"2\" opacity=\"0.7\"></path><path aria-label=\"x: 1.29585883352; y: 1.00518882368\" role=\"graphics-symbol\" aria-roledescription=\"point\" transform=\"translate(228.94032121882339,199.82703921069464)\" d=\"M7.003929236855366,0A7.003929236855366,7.003929236855366,0,1,1,-7.003929236855366,0A7.003929236855366,7.003929236855366,0,1,1,7.003929236855366,0\" stroke=\"rgb(133, 187, 219)\" stroke-width=\"2\" opacity=\"0.7\"></path><path aria-label=\"x: 0.0828977870122; y: 0.97414848031\" role=\"graphics-symbol\" aria-roledescription=\"point\" transform=\"translate(184.83264680044374,200.86171732300087)\" d=\"M6.163810839374392,0A6.163810839374392,6.163810839374392,0,1,1,-6.163810839374392,0A6.163810839374392,6.163810839374392,0,1,1,6.163810839374392,0\" stroke=\"rgb(134, 188, 220)\" stroke-width=\"2\" opacity=\"0.7\"></path><path aria-label=\"x: -2.77211794432; y: -0.374273212404\" role=\"graphics-symbol\" aria-roledescription=\"point\" transform=\"translate(81.01389293384126,245.80910708013133)\" d=\"M3.457487260481501,0A3.457487260481501,3.457487260481501,0,1,1,-3.457487260481501,0A3.457487260481501,3.457487260481501,0,1,1,3.457487260481501,0\" stroke=\"rgb(174, 209, 231)\" stroke-width=\"2\" opacity=\"0.7\"></path><path aria-label=\"x: 1.2863127993; y: 2.75151786759\" role=\"graphics-symbol\" aria-roledescription=\"point\" transform=\"translate(228.59319270183533,141.61607108018237)\" d=\"M6.997711262156089,0A6.997711262156089,6.997711262156089,0,1,1,-6.997711262156089,0A6.997711262156089,6.997711262156089,0,1,1,6.997711262156089,0\" stroke=\"rgb(81, 155, 203)\" stroke-width=\"2\" opacity=\"0.7\"></path><path aria-label=\"x: 2.00733615565; y: 4.00014479183\" role=\"graphics-symbol\" aria-roledescription=\"point\" transform=\"translate(254.81222384192952,99.99517360562315)\" d=\"M7.452774521057757,0A7.452774521057757,7.452774521057757,0,1,1,-7.452774521057757,0A7.452774521057757,7.452774521057757,0,1,1,7.452774521057757,0\" stroke=\"rgb(50, 130, 189)\" stroke-width=\"2\" opacity=\"0.7\"></path></g><g class=\"mark-group role-legend\" role=\"graphics-symbol\" aria-roledescription=\"legend\" aria-label=\"Gradient legend titled 'y' for stroke color with values from -2 to 7\"><g transform=\"translate(418,0)\"><path class=\"background\" aria-hidden=\"true\" d=\"M0,0h24v216h-24Z\" pointer-events=\"none\"></path><g><g class=\"mark-group role-legend-entry\"><g transform=\"translate(0,16)\"><path class=\"background\" aria-hidden=\"true\" d=\"M0,0h0v0h0Z\" pointer-events=\"none\"></path><g><g class=\"mark-rect role-legend-gradient\" pointer-events=\"none\"><path d=\"M0,0h16v200h-16Z\" fill=\"url(#gradient_0)\" stroke=\"#ddd\" stroke-width=\"0\" opacity=\"0.7\"></path></g><g class=\"mark-text role-legend-label\" pointer-events=\"none\"><text text-anchor=\"start\" transform=\"translate(18,159.6481563332129)\" font-family=\"sans-serif\" font-size=\"10px\" fill=\"#000\" opacity=\"1\">0</text><text text-anchor=\"start\" transform=\"translate(18,111.7642409423228)\" font-family=\"sans-serif\" font-size=\"10px\" fill=\"#000\" opacity=\"1\">2</text><text text-anchor=\"start\" transform=\"translate(18,63.880325551432705)\" font-family=\"sans-serif\" font-size=\"10px\" fill=\"#000\" opacity=\"1\">4</text><text text-anchor=\"start\" transform=\"translate(18,15.996410160542581)\" font-family=\"sans-serif\" font-size=\"10px\" fill=\"#000\" opacity=\"1\">6</text></g></g><path class=\"foreground\" aria-hidden=\"true\" d=\"\" pointer-events=\"none\" display=\"none\"></path></g></g><g class=\"mark-text role-legend-title\" pointer-events=\"none\"><text text-anchor=\"start\" transform=\"translate(0,9)\" font-family=\"sans-serif\" font-size=\"11px\" font-weight=\"bold\" fill=\"#000\" opacity=\"1\">y</text></g></g><path class=\"foreground\" aria-hidden=\"true\" d=\"\" pointer-events=\"none\" display=\"none\"></path></g></g><g class=\"mark-group role-legend\" role=\"graphics-symbol\" aria-roledescription=\"legend\" aria-label=\"Symbol legend titled 'x' for size with values from -4 to 6\"><g transform=\"translate(418,224)\"><path class=\"background\" aria-hidden=\"true\" d=\"M0,0h33v103h-33Z\" pointer-events=\"none\"></path><g><g class=\"mark-group role-legend-entry\"><g transform=\"translate(0,16)\"><path class=\"background\" aria-hidden=\"true\" d=\"M0,0h0v0h0Z\" pointer-events=\"none\"></path><g><g class=\"mark-group role-scope\" role=\"graphics-object\" aria-roledescription=\"group mark container\"><g transform=\"translate(0,0)\"><path class=\"background\" aria-hidden=\"true\" d=\"M0,0h33v10h-33Z\" pointer-events=\"none\" opacity=\"1\"></path><g><g class=\"mark-symbol role-legend-symbol\" pointer-events=\"none\"><path transform=\"translate(9.5,5)\" d=\"M0.8692955268151087,0A0.8692955268151087,0.8692955268151087,0,1,1,-0.8692955268151087,0A0.8692955268151087,0.8692955268151087,0,1,1,0.8692955268151087,0\" stroke=\"#888\" stroke-width=\"1.5\" opacity=\"0.7\"></path></g><g class=\"mark-text role-legend-label\" pointer-events=\"none\"><text text-anchor=\"start\" transform=\"translate(23,8)\" font-family=\"sans-serif\" font-size=\"10px\" fill=\"#000\" opacity=\"1\">-4</text></g></g><path class=\"foreground\" aria-hidden=\"true\" d=\"\" pointer-events=\"none\" display=\"none\"></path></g><g transform=\"translate(0,13)\"><path class=\"background\" aria-hidden=\"true\" d=\"M0,0h33v11.358451185151655h-33Z\" pointer-events=\"none\" opacity=\"1\"></path><g><g class=\"mark-symbol role-legend-symbol\" pointer-events=\"none\"><path transform=\"translate(9.5,5.5)\" d=\"M4.358451185151654,0A4.358451185151654,4.358451185151654,0,1,1,-4.358451185151654,0A4.358451185151654,4.358451185151654,0,1,1,4.358451185151654,0\" stroke=\"#888\" stroke-width=\"1.5\" opacity=\"0.7\"></path></g><g class=\"mark-text role-legend-label\" pointer-events=\"none\"><text text-anchor=\"start\" transform=\"translate(23,8.5)\" font-family=\"sans-serif\" font-size=\"10px\" fill=\"#000\" opacity=\"1\">-2</text></g></g><path class=\"foreground\" aria-hidden=\"true\" d=\"\" pointer-events=\"none\" display=\"none\"></path></g><g transform=\"translate(0,28)\"><path class=\"background\" aria-hidden=\"true\" d=\"M0,0h33v14.60217328119736h-33Z\" pointer-events=\"none\" opacity=\"1\"></path><g><g class=\"mark-symbol role-legend-symbol\" pointer-events=\"none\"><path transform=\"translate(9.5,7)\" d=\"M6.102173281197359,0A6.102173281197359,6.102173281197359,0,1,1,-6.102173281197359,0A6.102173281197359,6.102173281197359,0,1,1,6.102173281197359,0\" stroke=\"#888\" stroke-width=\"1.5\" opacity=\"0.7\"></path></g><g class=\"mark-text role-legend-label\" pointer-events=\"none\"><text text-anchor=\"start\" transform=\"translate(23,10)\" font-family=\"sans-serif\" font-size=\"10px\" fill=\"#000\" opacity=\"1\">0</text></g></g><path class=\"foreground\" aria-hidden=\"true\" d=\"\" pointer-events=\"none\" display=\"none\"></path></g><g transform=\"translate(0,46)\"><path class=\"background\" aria-hidden=\"true\" d=\"M0,0h33v17.44828441818437h-33Z\" pointer-events=\"none\" opacity=\"1\"></path><g><g class=\"mark-symbol role-legend-symbol\" pointer-events=\"none\"><path transform=\"translate(9.5,8.5)\" d=\"M7.448284418184368,0A7.448284418184368,7.448284418184368,0,1,1,-7.448284418184368,0A7.448284418184368,7.448284418184368,0,1,1,7.448284418184368,0\" stroke=\"#888\" stroke-width=\"1.5\" opacity=\"0.7\"></path></g><g class=\"mark-text role-legend-label\" pointer-events=\"none\"><text text-anchor=\"start\" transform=\"translate(23,11.5)\" font-family=\"sans-serif\" font-size=\"10px\" fill=\"#000\" opacity=\"1\">2</text></g></g><path class=\"foreground\" aria-hidden=\"true\" d=\"\" pointer-events=\"none\" display=\"none\"></path></g><g transform=\"translate(0,67)\"><path class=\"background\" aria-hidden=\"true\" d=\"M0,0h33v19.585881596817956h-33Z\" pointer-events=\"none\" opacity=\"1\"></path><g><g class=\"mark-symbol role-legend-symbol\" pointer-events=\"none\"><path transform=\"translate(9.5,9.5)\" d=\"M8.58588159681795,0A8.58588159681795,8.58588159681795,0,1,1,-8.58588159681795,0A8.58588159681795,8.58588159681795,0,1,1,8.58588159681795,0\" stroke=\"#888\" stroke-width=\"1.5\" opacity=\"0.7\"></path></g><g class=\"mark-text role-legend-label\" pointer-events=\"none\"><text text-anchor=\"start\" transform=\"translate(23,12.5)\" font-family=\"sans-serif\" font-size=\"10px\" fill=\"#000\" opacity=\"1\">4</text></g></g><path class=\"foreground\" aria-hidden=\"true\" d=\"\" pointer-events=\"none\" display=\"none\"></path></g></g></g><path class=\"foreground\" aria-hidden=\"true\" d=\"\" pointer-events=\"none\" display=\"none\"></path></g></g><g class=\"mark-text role-legend-title\" pointer-events=\"none\"><text text-anchor=\"start\" transform=\"translate(0,9)\" font-family=\"sans-serif\" font-size=\"11px\" font-weight=\"bold\" fill=\"#000\" opacity=\"1\">x</text></g></g><path class=\"foreground\" aria-hidden=\"true\" d=\"\" pointer-events=\"none\" display=\"none\"></path></g></g></g><path class=\"foreground\" aria-hidden=\"true\" d=\"\" display=\"none\"></path></g></g></g></svg>\n"
      ],
      "text/plain": [
       "@vlplot(\n",
       "    data={\n",
       "        values=...\n",
       "    },\n",
       "    mark=\"point\",\n",
       "    width=400,\n",
       "    height=300,\n",
       "    encoding={\n",
       "        x={\n",
       "            field=\"x\",\n",
       "            type=\"q\"\n",
       "        },\n",
       "        y={\n",
       "            field=\"y\"\n",
       "        },\n",
       "        size={\n",
       "            field=\"x\",\n",
       "            type=\"q\"\n",
       "        },\n",
       "        color={\n",
       "            field=\"y\"\n",
       "        }\n",
       "    }\n",
       ")"
      ]
     },
     "execution_count": 5,
     "metadata": {},
     "output_type": "execute_result"
    }
   ],
   "source": [
    "xp = vlfrag(field=:x,type=:q)\n",
    "sp = vlfrag(field=:x,type=:q)\n",
    "d = vlfrag()\n",
    "vlplot(data=data, mark=:point,x=xp,y=:y,width=400,height=300,size=sp,color=:y)\n",
    "# vlplot(mark=:point,x=randn(100),y=randn(100),width=400,height=300,color=rand(100),size=randn(100))\n",
    "# vlplot(p)\n"
   ]
  },
  {
   "cell_type": "code",
   "execution_count": null,
   "metadata": {},
   "outputs": [],
   "source": []
  },
  {
   "cell_type": "code",
   "execution_count": null,
   "metadata": {},
   "outputs": [],
   "source": []
  },
  {
   "cell_type": "code",
   "execution_count": null,
   "metadata": {},
   "outputs": [],
   "source": []
  },
  {
   "cell_type": "code",
   "execution_count": null,
   "metadata": {},
   "outputs": [],
   "source": []
  },
  {
   "cell_type": "code",
   "execution_count": null,
   "metadata": {},
   "outputs": [],
   "source": []
  }
 ],
 "metadata": {
  "kernelspec": {
   "display_name": "Julia 1.6.1",
   "language": "julia",
   "name": "julia-1.6"
  },
  "language_info": {
   "file_extension": ".jl",
   "mimetype": "application/julia",
   "name": "julia",
   "version": "1.6.1"
  }
 },
 "nbformat": 4,
 "nbformat_minor": 4
}
