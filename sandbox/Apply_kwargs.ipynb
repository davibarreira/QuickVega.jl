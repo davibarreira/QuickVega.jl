{
 "cells": [
  {
   "cell_type": "markdown",
   "metadata": {},
   "source": [
    "### Apply_kwargs()\n",
    "It's an auxiliary function to apply common modifications to each plot in QuickVega. Here are a list of possible attirbutes (I'm trying to use similar notation to Plots.jl):\n",
    "* color    - specify a single color for the whole plot (e.g color = \"blue\");\n",
    "* zcolor   - this is for assigning a variable to color (e.g color = randn(100));\n",
    "* size     - this is for assigning a variable to size  (e.g size  = randn(100));\n",
    "* palette  - choose a color scheme;\n",
    "* width\n",
    "* height\n",
    "* stroke   - true or false for the line across the image;\n",
    "* opacity  - use a variable to be the opacity of the plot;\n",
    "* marktype \n",
    "* marksize \n",
    "* markopacity \n",
    "* markstroke \n",
    "* markstrokewidth\n",
    "* title\n",
    "* xlabel\n",
    "* ylabel\n",
    "* grid\n",
    "* gridx    - grid vertical true or false;\n",
    "* gridy    - grid horizontal true or false;\n",
    "* xscale   - example, allow log scale;\n",
    "* yscale\n",
    "\n",
    "\n",
    "Implement a Cheat_Sheet for the possible parameters;"
   ]
  },
  {
   "cell_type": "code",
   "execution_count": 3,
   "metadata": {},
   "outputs": [
    {
     "name": "stderr",
     "output_type": "stream",
     "text": [
      "\u001b[32m\u001b[1m Activating\u001b[22m\u001b[39m environment at `~/MEGAsync/EMAp/QuickVega.jl/Project.toml`\n",
      "┌ Info: Precompiling QuickVega [8cbdc466-600a-49fa-b107-91fd9d936351]\n",
      "└ @ Base loading.jl:1278\n",
      "┌ Warning: Package QuickVega does not have DataFrames in its dependencies:\n",
      "│ - If you have QuickVega checked out for development and have\n",
      "│   added DataFrames as a dependency but haven't updated your primary\n",
      "│   environment's manifest file, try `Pkg.resolve()`.\n",
      "│ - Otherwise you may need to report an issue with QuickVega\n",
      "└ Loading DataFrames into QuickVega from project dependency, future warnings for QuickVega are suppressed.\n"
     ]
    }
   ],
   "source": [
    "using Revise, Pkg\n",
    "Pkg.activate(\"../.\")\n",
    "using QuickVega, DataFrames, VegaLite, VegaDatasets\n",
    "using Distributions, KernelDensity\n",
    "using Contour\n",
    "using Setfield\n",
    "using VegaDatasets\n",
    "using DataStructures\n",
    "using DataTables"
   ]
  },
  {
   "cell_type": "code",
   "execution_count": 4,
   "metadata": {},
   "outputs": [
    {
     "data": {
      "application/vnd.vegalite.v4+json": {
       "data": {
        "values": [
         {
          "x": 2.5195636666398675,
          "y": 4.155114110400551
         },
         {
          "x": -1.970510301602776,
          "y": -0.9930177374879969
         },
         {
          "x": 1.2520827402846038,
          "y": 2.2613906712109424
         },
         {
          "x": 2.501560030886088,
          "y": 2.3299186209528786
         },
         {
          "x": 1.121550081367214,
          "y": 1.474443801035707
         },
         {
          "x": 0.19204320376371498,
          "y": 2.482841820931337
         },
         {
          "x": 0.7520683923685728,
          "y": 2.304482576316157
         },
         {
          "x": -1.8451213093943388,
          "y": 0.047609152311841374
         },
         {
          "x": -0.30621300200171464,
          "y": 0.8202010166433513
         },
         {
          "x": 0.9720278933069958,
          "y": 1.9877318918669673
         },
         {
          "x": -1.782573625258439,
          "y": 0.24935930301017772
         },
         {
          "x": 0.10072098694277332,
          "y": 1.5695813763801985
         },
         {
          "x": 2.3539372308351325,
          "y": 2.6251547784874125
         },
         {
          "x": -0.3219071430156608,
          "y": -0.4510236530889764
         },
         {
          "x": 1.831219164277392,
          "y": 0.9109804170849323
         },
         {
          "x": 1.591267857079496,
          "y": 1.7430391592743621
         },
         {
          "x": 3.4357722095562164,
          "y": 3.9496677414959045
         },
         {
          "x": 0.5828620320723825,
          "y": 1.2544132221492883
         },
         {
          "x": -1.3896853750387073,
          "y": 0.6927444408457997
         },
         {
          "x": -0.8131433340700203,
          "y": -0.691993710693589
         },
         {
          "x": 0.8990594194821624,
          "y": 2.2007009569730354
         },
         {
          "x": 3.793738780819395,
          "y": 4.036242577931205
         },
         {
          "x": 0.1301194698732433,
          "y": 1.7350163894622685
         },
         {
          "x": -3.3004151110749502,
          "y": -0.9798255682035251
         },
         {
          "x": 2.2084585102526093,
          "y": 1.5210552209435613
         },
         {
          "x": 0.7843024614469731,
          "y": 1.1017429259926441
         },
         {
          "x": 3.3465627820348773,
          "y": 2.6358371231592583
         },
         {
          "x": 1.3510914119362778,
          "y": 1.2338096693494467
         },
         {
          "x": 0.35376731031744124,
          "y": 1.891224356800863
         },
         {
          "x": 3.224861750066452,
          "y": 3.6723574221885933
         },
         {
          "x": 1.6870757616565752,
          "y": 3.6876338775938966
         },
         {
          "x": 1.9243331016295462,
          "y": 3.639857345626721
         },
         {
          "x": 0.43849459381444966,
          "y": 1.063015145799249
         },
         {
          "x": 2.851700986094907,
          "y": 3.9905840732896882
         },
         {
          "x": 1.9378929031975214,
          "y": 3.0009711404083923
         },
         {
          "x": 1.9440074619799201,
          "y": 2.42232135363876
         },
         {
          "x": -1.160914840200988,
          "y": 1.5135103908180756
         },
         {
          "x": 2.3162496742945216,
          "y": 3.705771413803065
         },
         {
          "x": 1.0267180532468363,
          "y": 2.7324164834247195
         },
         {
          "x": 2.9551765155030294,
          "y": 4.892445826545961
         },
         {
          "x": 1.0705040955129788,
          "y": 0.7514182669736447
         },
         {
          "x": 0.7925133057534733,
          "y": 3.2724021799020298
         },
         {
          "x": 1.393521448269945,
          "y": 2.1541108449414654
         },
         {
          "x": 4.419019631436434,
          "y": 4.9908635693920775
         },
         {
          "x": 0.9965619570014029,
          "y": 2.630162339878411
         },
         {
          "x": -2.4843070422788958,
          "y": 0.31109472039552744
         },
         {
          "x": -1.2878874863815457,
          "y": -0.8576134397988051
         },
         {
          "x": -0.6606416752109683,
          "y": 0.475671979822875
         },
         {
          "x": 1.4002217195168813,
          "y": 3.596335801758694
         },
         {
          "x": 0.8408241806085479,
          "y": 1.6489258744235529
         },
         {
          "x": -1.4923261759747048,
          "y": 0.7489508914428764
         },
         {
          "x": 4.067035643552288,
          "y": 2.758881809814751
         },
         {
          "x": 4.633553837669615,
          "y": 3.5566112334509628
         },
         {
          "x": 0.086076624233835,
          "y": 1.84391941113498
         },
         {
          "x": 3.4776729020544113,
          "y": 4.286948250371617
         },
         {
          "x": 4.444454683477193,
          "y": 3.577992542102759
         },
         {
          "x": 0.3553240855082813,
          "y": 0.40046229861012983
         },
         {
          "x": -0.39079839067347466,
          "y": 0.6660505139545121
         },
         {
          "x": 1.6813936764630468,
          "y": 3.992782140961621
         },
         {
          "x": 2.4033026230697425,
          "y": 3.7739743368864396
         },
         {
          "x": -1.8188942298997905,
          "y": 0.3106928988892439
         },
         {
          "x": 2.0037478434453133,
          "y": 3.278383016492846
         },
         {
          "x": 0.7705461402266345,
          "y": 2.3397054125469374
         },
         {
          "x": 2.7840576087403623,
          "y": 3.708892430370601
         },
         {
          "x": 2.677058143509133,
          "y": 3.3772825547153627
         },
         {
          "x": -0.47497625440828073,
          "y": 0.6228001300386989
         },
         {
          "x": -0.017573049948011343,
          "y": 0.06264797169179914
         },
         {
          "x": -0.9095133985486699,
          "y": -0.28734230270179895
         },
         {
          "x": 2.3590311327426217,
          "y": 2.7534690828637594
         },
         {
          "x": -1.3232412504741742,
          "y": 0.046088966988818036
         },
         {
          "x": 2.7562249887115957,
          "y": 2.6500341646117893
         },
         {
          "x": -0.5209172319778854,
          "y": 1.452732172754295
         },
         {
          "x": 0.8498426868033162,
          "y": 1.9635477012501499
         },
         {
          "x": 1.3455085070966724,
          "y": 1.8003252531677332
         },
         {
          "x": 1.7445800211385656,
          "y": 1.4294934424363435
         },
         {
          "x": 2.5348137890749127,
          "y": 3.2897650067754243
         },
         {
          "x": -1.2874171384536894,
          "y": -0.07342332224253578
         },
         {
          "x": 2.455262446228063,
          "y": 2.707604750738702
         },
         {
          "x": 0.011786520907472564,
          "y": 1.884967768790795
         },
         {
          "x": -0.5291347531575386,
          "y": 0.7826419129218154
         },
         {
          "x": 1.4908565960046065,
          "y": 3.455500151263598
         },
         {
          "x": 0.4962938861457089,
          "y": 1.9651549464753035
         },
         {
          "x": 3.0432890587134014,
          "y": 3.6078107161742654
         },
         {
          "x": 0.42813617640225143,
          "y": 0.8108736988851084
         },
         {
          "x": 2.6966888297262877,
          "y": 3.572000638794382
         },
         {
          "x": 2.6960938503153096,
          "y": 3.940628428671521
         },
         {
          "x": 1.4442534209398294,
          "y": 2.921640407855495
         },
         {
          "x": 0.06201090169522405,
          "y": -1.1415768452135282
         },
         {
          "x": 1.0672477797898052,
          "y": 2.9674879019187257
         },
         {
          "x": 1.83553960613368,
          "y": 1.3077095306873405
         },
         {
          "x": 1.1057666570171512,
          "y": 1.624760636834812
         },
         {
          "x": 1.1801942123032683,
          "y": 1.4933112298598623
         },
         {
          "x": -1.0296945247165263,
          "y": 0.7398650384208476
         },
         {
          "x": 2.0594493990741913,
          "y": 2.9487412994689284
         },
         {
          "x": 1.353827683648603,
          "y": 3.068419150339677
         },
         {
          "x": 0.3057778312336532,
          "y": 0.5558962630626323
         },
         {
          "x": 1.0376834286435566,
          "y": 0.821913597882991
         },
         {
          "x": -2.2279577324375786,
          "y": -0.869733035167342
         },
         {
          "x": 0.9929723998656539,
          "y": 2.1656701450343534
         },
         {
          "x": -0.6048472740204229,
          "y": 0.8130501994204749
         },
         {
          "x": -0.6529814148949673,
          "y": 0.6217654373911592
         },
         {
          "x": -1.223749169871296,
          "y": 0.7586828534845766
         },
         {
          "x": 0.865836811861393,
          "y": 1.649874694403001
         },
         {
          "x": -1.2044381776409616,
          "y": -1.5935972027666487
         },
         {
          "x": 3.031983400906208,
          "y": 2.900298623191429
         },
         {
          "x": 1.1506565567846532,
          "y": 2.1465581681412838
         },
         {
          "x": -1.6217686684521584,
          "y": -0.1905936375511268
         },
         {
          "x": -1.2237168124797595,
          "y": 0.6220472926685865
         },
         {
          "x": 2.5964454168026427,
          "y": 3.5139171990658356
         },
         {
          "x": 3.324512053308773,
          "y": 3.5915165379580394
         },
         {
          "x": 1.9240876702754135,
          "y": 2.791726887940997
         },
         {
          "x": 1.5061578504319866,
          "y": 1.2597111717409668
         },
         {
          "x": 2.6477378030081296,
          "y": 3.6604476128940515
         },
         {
          "x": -1.4262882209433356,
          "y": 0.6923341491015698
         },
         {
          "x": 1.0373758255385443,
          "y": 2.411667702674953
         },
         {
          "x": -0.8914395904724972,
          "y": -0.8195916440991526
         },
         {
          "x": 2.478438545522488,
          "y": 3.4136583236742655
         },
         {
          "x": 0.656531883509006,
          "y": 1.4142064951831008
         },
         {
          "x": 2.378159735936466,
          "y": 2.752450840082748
         },
         {
          "x": -0.7560268426534131,
          "y": 2.671359224620401
         },
         {
          "x": -0.033106015281621604,
          "y": 1.7731840992515007
         },
         {
          "x": 2.6953836890559275,
          "y": 3.2852729558787876
         },
         {
          "x": 1.962145461510807,
          "y": 2.0584061349864955
         },
         {
          "x": 0.6334307846666823,
          "y": 2.259666149960674
         },
         {
          "x": -0.32703448870205953,
          "y": 1.6108014218861677
         },
         {
          "x": 1.0625296920489702,
          "y": 3.4137937260326665
         },
         {
          "x": -0.1223085586923065,
          "y": 1.3810467053492794
         },
         {
          "x": -0.03201336884263606,
          "y": 1.4269513732716752
         },
         {
          "x": -1.4857685357903732,
          "y": 0.13375917664748815
         },
         {
          "x": 3.486486695833739,
          "y": 3.3606327615521883
         },
         {
          "x": 3.140682426376868,
          "y": 3.4691615819287422
         },
         {
          "x": 1.4721266173765992,
          "y": 0.9212002108604904
         },
         {
          "x": 1.944803984202529,
          "y": 2.4241117129532506
         },
         {
          "x": 6.520868877879352,
          "y": 3.243741190638045
         },
         {
          "x": 0.12938112674572566,
          "y": 1.3484062919295052
         },
         {
          "x": 2.873175086047387,
          "y": 2.4175294418008697
         },
         {
          "x": 2.927588167894566,
          "y": 3.450428233482065
         },
         {
          "x": 0.8147282834319989,
          "y": 2.9010593975592815
         },
         {
          "x": 2.5806104166042068,
          "y": 1.7320878504885768
         },
         {
          "x": 1.2741215438336297,
          "y": 1.6674336789483122
         },
         {
          "x": -0.9369728770939121,
          "y": 1.007375799352784
         },
         {
          "x": -0.20755679877839306,
          "y": 1.665080279601665
         },
         {
          "x": -0.6788856466681372,
          "y": 1.0457310615290343
         },
         {
          "x": -1.4346376479339082,
          "y": 0.8357726071719567
         },
         {
          "x": 1.9645700788892764,
          "y": 2.5091119954885803
         },
         {
          "x": 0.25748865222982864,
          "y": 2.8782260524617174
         },
         {
          "x": 2.0317746448490164,
          "y": 4.36638417936317
         },
         {
          "x": 1.1239854692995255,
          "y": 1.214684863175486
         },
         {
          "x": 1.229505098428763,
          "y": 2.6660408819073584
         },
         {
          "x": -2.336325685452576,
          "y": 0.24606616728716824
         },
         {
          "x": 0.5573019721746921,
          "y": 0.5425860075746527
         },
         {
          "x": 3.7194821535429368,
          "y": 5.526498719950934
         },
         {
          "x": 0.842154676906556,
          "y": 2.7424543301176993
         },
         {
          "x": -1.0790193284087075,
          "y": -0.005191224193097366
         },
         {
          "x": -0.12207119309924552,
          "y": 2.0725015411791645
         },
         {
          "x": 2.2329539323744765,
          "y": 2.980320264407803
         },
         {
          "x": 0.7985289859096629,
          "y": 2.46713688854444
         },
         {
          "x": 0.7445709940719749,
          "y": 2.3610009592970327
         },
         {
          "x": -0.06876915561841979,
          "y": -1.0415780098309901
         },
         {
          "x": -1.7117276008703168,
          "y": 0.6693122466826338
         },
         {
          "x": -2.0861088984776344,
          "y": -0.2922538842918212
         },
         {
          "x": -0.9897640048306608,
          "y": -0.9997989421187952
         },
         {
          "x": -0.2128048877942632,
          "y": 0.4510536579121016
         },
         {
          "x": 0.6677618139824067,
          "y": 3.150200168683599
         },
         {
          "x": 1.179103145446564,
          "y": 0.873977681558177
         },
         {
          "x": -0.519192486577098,
          "y": 0.6052919050022245
         },
         {
          "x": 1.2617049235496356,
          "y": 3.6825417574650023
         },
         {
          "x": 1.1820434073171078,
          "y": 2.5595203495878214
         },
         {
          "x": -0.9913463519909331,
          "y": -0.6874209620772622
         },
         {
          "x": 3.392397474024353,
          "y": 1.510102565970206
         },
         {
          "x": -1.0605794555177859,
          "y": 1.535167445778828
         },
         {
          "x": 2.6212075153769,
          "y": 3.1708994859015682
         },
         {
          "x": -2.40508723503283,
          "y": 0.2625595853627054
         },
         {
          "x": 3.606653684006416,
          "y": 2.2861523204212135
         },
         {
          "x": 0.8805381064413738,
          "y": 2.4764164515707665
         },
         {
          "x": 3.2328954971252,
          "y": 1.9323967294880142
         },
         {
          "x": -3.2463805732026136,
          "y": -1.4734176575132354
         },
         {
          "x": 2.3279628602518514,
          "y": 4.4252799228877056
         },
         {
          "x": 5.224766048529881,
          "y": 4.78634906128609
         },
         {
          "x": 2.8489033451165673,
          "y": 3.6748584585931643
         },
         {
          "x": 0.15104499582937747,
          "y": -0.3989383701091431
         },
         {
          "x": 0.9534619127554466,
          "y": 2.3107575032796555
         },
         {
          "x": 3.4334213700242016,
          "y": 4.658724570960294
         },
         {
          "x": 1.0550183633524899,
          "y": 2.156349295655461
         },
         {
          "x": 0.7009152977641884,
          "y": 2.2101216130342225
         },
         {
          "x": 0.3716212003000995,
          "y": 2.9106402409088754
         },
         {
          "x": 0.14751809115378023,
          "y": 1.9257107907531819
         },
         {
          "x": -1.3543084559725278,
          "y": 0.788641995572553
         },
         {
          "x": 1.9455507439170368,
          "y": 2.6858082556086877
         },
         {
          "x": 3.629346191312125,
          "y": 4.924856611328002
         },
         {
          "x": 1.6635374732761172,
          "y": 1.5695968324533633
         },
         {
          "x": 0.2949876176560683,
          "y": 2.8120775079458653
         },
         {
          "x": -5.114620959774064,
          "y": -0.7424615993435668
         },
         {
          "x": 1.3235316601118021,
          "y": 1.507683922074571
         },
         {
          "x": 1.5550349255644385,
          "y": 2.8800683122491875
         },
         {
          "x": 0.9466453373004433,
          "y": 1.5851414754295599
         },
         {
          "x": -1.367256113914471,
          "y": -1.6724948756199964
         },
         {
          "x": 1.5820248093907026,
          "y": 2.1518673433589255
         },
         {
          "x": 1.062978398702289,
          "y": 1.7174658124397677
         },
         {
          "x": 0.42713048696993106,
          "y": 1.9234207128670888
         },
         {
          "x": -0.4608604347565375,
          "y": 0.9811642807454528
         },
         {
          "x": 3.688439165031307,
          "y": 4.377663234366723
         },
         {
          "x": 0.47125914223743426,
          "y": 2.0238097641971358
         },
         {
          "x": 1.375893531813238,
          "y": 2.535484231520294
         },
         {
          "x": 1.8266031016000648,
          "y": 3.9757827359023428
         },
         {
          "x": -1.7651956238876774,
          "y": -0.21762573524482898
         },
         {
          "x": 2.345458668109579,
          "y": 2.5951228085980915
         },
         {
          "x": 3.1407898421800153,
          "y": 3.2327706969960106
         },
         {
          "x": 1.6611346409183232,
          "y": 3.91793642299319
         },
         {
          "x": 0.44833768108359795,
          "y": 1.1732082056044069
         },
         {
          "x": -0.30071543612040963,
          "y": 1.1407508271222584
         },
         {
          "x": -1.2023709622558663,
          "y": 0.8313852702844784
         },
         {
          "x": -2.1082520441227244,
          "y": -0.26713281196225314
         },
         {
          "x": 2.1890023928486806,
          "y": 2.622474540522245
         },
         {
          "x": 4.080876098111013,
          "y": 3.9154122792347854
         },
         {
          "x": -0.7014985946459888,
          "y": 1.881427510861058
         },
         {
          "x": 1.3697124141710315,
          "y": 3.8284466534716275
         },
         {
          "x": 1.4708550639928895,
          "y": 2.4002321285490527
         },
         {
          "x": 1.3332932567415907,
          "y": 2.2538418057386242
         },
         {
          "x": 1.5823214506100942,
          "y": 2.525048475589387
         },
         {
          "x": 5.218216693982889,
          "y": 5.072781125613341
         },
         {
          "x": 0.8655084949952647,
          "y": 2.711935340883269
         },
         {
          "x": 0.2555311089047031,
          "y": 1.7795919757499767
         },
         {
          "x": -0.31757975658066906,
          "y": 2.281660814900012
         },
         {
          "x": -1.316251004994252,
          "y": 0.2081646963429069
         },
         {
          "x": 0.7099710727748887,
          "y": 1.0477920336586128
         },
         {
          "x": 1.1111555387290795,
          "y": 0.732739217809611
         },
         {
          "x": 1.2060855159809503,
          "y": 2.1408389622063324
         },
         {
          "x": -0.5211931470001272,
          "y": 1.3162321335415812
         },
         {
          "x": 1.0958204977665624,
          "y": 1.1448689840303543
         },
         {
          "x": -0.8030820560661267,
          "y": 0.648541322767952
         },
         {
          "x": 4.757286032030722,
          "y": 3.667794086407866
         },
         {
          "x": -0.1401038127565264,
          "y": 1.2183102055348796
         },
         {
          "x": 0.12478521467068804,
          "y": 2.422413152656445
         },
         {
          "x": 1.6190892055118575,
          "y": 1.1977026977053988
         },
         {
          "x": 0.457391618682949,
          "y": 1.6873672301348417
         },
         {
          "x": 2.431516043715983,
          "y": 3.0511509540541866
         },
         {
          "x": 1.0167250681119437,
          "y": 1.8853217223668395
         },
         {
          "x": 3.9554165664285583,
          "y": 4.778570724172354
         },
         {
          "x": -2.815441295820513,
          "y": -1.0097336166482318
         },
         {
          "x": 0.34553609224224413,
          "y": 2.511960437605552
         },
         {
          "x": -2.8676693323240974,
          "y": -0.3485222011259932
         },
         {
          "x": 2.7793096094113494,
          "y": 3.764840047657321
         },
         {
          "x": 0.4941894947304597,
          "y": 1.882239528644716
         },
         {
          "x": 2.8658293399706682,
          "y": 4.5749295581190745
         },
         {
          "x": 1.1382340294420663,
          "y": 0.900090072588422
         },
         {
          "x": -0.15683200795142316,
          "y": 0.49215268467980455
         },
         {
          "x": 1.1700505015580585,
          "y": 2.561289240887972
         },
         {
          "x": 3.8964918438517664,
          "y": 3.3741025856634876
         },
         {
          "x": 1.002920816145373,
          "y": 0.3385906083785877
         },
         {
          "x": 0.16954016625640234,
          "y": 2.1811134525970757
         },
         {
          "x": 4.625904362735611,
          "y": 3.969721375137151
         },
         {
          "x": 0.9284172291909852,
          "y": 2.0032900268891116
         },
         {
          "x": 0.3838113181117365,
          "y": 0.7352141810785158
         },
         {
          "x": 4.227916507346633,
          "y": 3.4884533568535923
         },
         {
          "x": 2.3163536315195796,
          "y": 2.7398017781409933
         },
         {
          "x": -1.6778301406066078,
          "y": 0.9607894123187957
         },
         {
          "x": 0.8833576181808867,
          "y": 1.2036329810453943
         },
         {
          "x": 2.4968860451451205,
          "y": 3.388480747002254
         },
         {
          "x": 0.19455325103806786,
          "y": 1.14253899742935
         },
         {
          "x": 0.6304121049445808,
          "y": 0.6306089754347135
         },
         {
          "x": 1.0621993742870486,
          "y": 2.5285782297157025
         },
         {
          "x": 0.08710718062607659,
          "y": 1.2041333022351637
         },
         {
          "x": 0.545354370471088,
          "y": 2.440121424657603
         },
         {
          "x": 2.2350653419406075,
          "y": 2.6356554037494
         },
         {
          "x": 0.8497831146782663,
          "y": 1.725730825417556
         },
         {
          "x": 2.287192911892567,
          "y": 1.9651937288451986
         },
         {
          "x": -0.4218527312567142,
          "y": 1.193868224225888
         },
         {
          "x": -0.6405724061564133,
          "y": 1.0478101984324604
         },
         {
          "x": -1.3575860059165503,
          "y": -0.003920729238459764
         },
         {
          "x": 1.4285458622460356,
          "y": 2.5188084565159174
         },
         {
          "x": 0.8632716286625042,
          "y": 1.547892239084387
         },
         {
          "x": 2.391660297161097,
          "y": 1.825858405045218
         },
         {
          "x": 1.373628006251915,
          "y": 2.3606434609664206
         },
         {
          "x": 1.388491554090268,
          "y": 2.703214195496675
         },
         {
          "x": 1.8001896470407166,
          "y": 1.8395068874787226
         },
         {
          "x": 3.2559808266360726,
          "y": 2.8048719883429962
         },
         {
          "x": 2.4562170483256223,
          "y": 1.153500887331889
         },
         {
          "x": 5.055003799036157,
          "y": 4.609041244960712
         },
         {
          "x": -1.5207419460528775,
          "y": 1.3150805165524604
         },
         {
          "x": -0.6413705700875771,
          "y": 0.0834086324796437
         },
         {
          "x": 0.5898882285681567,
          "y": 1.443187597486152
         },
         {
          "x": -0.8055722544498427,
          "y": 0.8818772497981242
         },
         {
          "x": 0.49009887686696385,
          "y": 1.599679245239049
         },
         {
          "x": -0.4428355150079204,
          "y": 2.4709542463502276
         },
         {
          "x": 0.3516435855513994,
          "y": 1.1234799495729926
         },
         {
          "x": 1.617985660441701,
          "y": 1.016462306120897
         },
         {
          "x": 0.6352886890953837,
          "y": 1.3402412364364111
         },
         {
          "x": 2.1591860706818577,
          "y": 3.881347161927015
         },
         {
          "x": 2.713730694963617,
          "y": 3.2844341352674276
         },
         {
          "x": -0.6995312213601383,
          "y": 1.3728943072195836
         },
         {
          "x": 2.0776586640781485,
          "y": 3.6941675995478693
         },
         {
          "x": 0.08010070033075012,
          "y": 0.7936779116974972
         },
         {
          "x": 0.8175663629282911,
          "y": 0.9281355785378291
         },
         {
          "x": 0.32753053865019777,
          "y": 0.5478641354671314
         },
         {
          "x": 0.2866148790424802,
          "y": 1.7995412122006602
         },
         {
          "x": 0.3891135521434508,
          "y": 1.4156805435911601
         },
         {
          "x": 0.588455624120098,
          "y": 2.1065247849062567
         },
         {
          "x": 3.536074057126881,
          "y": 4.023527131461503
         },
         {
          "x": 0.5102686016657494,
          "y": 1.4105054594882596
         }
        ]
       },
       "encoding": {
        "x": {
         "field": "x",
         "type": "quantitative"
        },
        "y": {
         "field": "y",
         "type": "quantitative"
        }
       },
       "mark": "circle"
      },
      "image/png": "[encoded data removed]",
      "image/svg+xml": [
       "<?xml version=\"1.0\" encoding=\"utf-8\"?>\n",
       "<!DOCTYPE svg PUBLIC \"-//W3C//DTD SVG 1.1//EN\" \"http://www.w3.org/Graphics/SVG/1.1/DTD/svg11.dtd\">\n",
       "<svg class=\"marks\" width=\"242\" height=\"247\" viewBox=\"0 0 242 247\" version=\"1.1\" xmlns=\"http://www.w3.org/2000/svg\" xmlns:xlink=\"http://www.w3.org/1999/xlink\"><rect width=\"242\" height=\"247\" fill=\"white\"></rect><g fill=\"none\" stroke-miterlimit=\"10\" transform=\"translate(37,10)\"><g class=\"mark-group role-frame root\" role=\"graphics-object\" aria-roledescription=\"group mark container\"><g transform=\"translate(0,0)\"><path class=\"background\" aria-hidden=\"true\" d=\"M0.5,0.5h200v200h-200Z\" stroke=\"#ddd\"></path><g><g class=\"mark-group role-axis\" aria-hidden=\"true\"><g transform=\"translate(0.5,200.5)\"><path class=\"background\" aria-hidden=\"true\" d=\"M0,0h0v0h0Z\" pointer-events=\"none\"></path><g><g class=\"mark-rule role-axis-grid\" pointer-events=\"none\"><line transform=\"translate(0,-200)\" x2=\"0\" y2=\"200\" stroke=\"#ddd\" stroke-width=\"1\" opacity=\"1\"></line><line transform=\"translate(31,-200)\" x2=\"0\" y2=\"200\" stroke=\"#ddd\" stroke-width=\"1\" opacity=\"1\"></line><line transform=\"translate(62,-200)\" x2=\"0\" y2=\"200\" stroke=\"#ddd\" stroke-width=\"1\" opacity=\"1\"></line><line transform=\"translate(92,-200)\" x2=\"0\" y2=\"200\" stroke=\"#ddd\" stroke-width=\"1\" opacity=\"1\"></line><line transform=\"translate(123,-200)\" x2=\"0\" y2=\"200\" stroke=\"#ddd\" stroke-width=\"1\" opacity=\"1\"></line><line transform=\"translate(154,-200)\" x2=\"0\" y2=\"200\" stroke=\"#ddd\" stroke-width=\"1\" opacity=\"1\"></line><line transform=\"translate(185,-200)\" x2=\"0\" y2=\"200\" stroke=\"#ddd\" stroke-width=\"1\" opacity=\"1\"></line></g></g><path class=\"foreground\" aria-hidden=\"true\" d=\"\" pointer-events=\"none\" display=\"none\"></path></g></g><g class=\"mark-group role-axis\" aria-hidden=\"true\"><g transform=\"translate(0.5,0.5)\"><path class=\"background\" aria-hidden=\"true\" d=\"M0,0h0v0h0Z\" pointer-events=\"none\"></path><g><g class=\"mark-rule role-axis-grid\" pointer-events=\"none\"><line transform=\"translate(0,200)\" x2=\"200\" y2=\"0\" stroke=\"#ddd\" stroke-width=\"1\" opacity=\"1\"></line><line transform=\"translate(0,150)\" x2=\"200\" y2=\"0\" stroke=\"#ddd\" stroke-width=\"1\" opacity=\"1\"></line><line transform=\"translate(0,100)\" x2=\"200\" y2=\"0\" stroke=\"#ddd\" stroke-width=\"1\" opacity=\"1\"></line><line transform=\"translate(0,50)\" x2=\"200\" y2=\"0\" stroke=\"#ddd\" stroke-width=\"1\" opacity=\"1\"></line><line transform=\"translate(0,0)\" x2=\"200\" y2=\"0\" stroke=\"#ddd\" stroke-width=\"1\" opacity=\"1\"></line></g></g><path class=\"foreground\" aria-hidden=\"true\" d=\"\" pointer-events=\"none\" display=\"none\"></path></g></g><g class=\"mark-group role-axis\" role=\"graphics-symbol\" aria-roledescription=\"axis\" aria-label=\"X-axis titled 'x' for a linear scale with values from -6 to 7\"><g transform=\"translate(0.5,200.5)\"><path class=\"background\" aria-hidden=\"true\" d=\"M0,0h0v0h0Z\" pointer-events=\"none\"></path><g><g class=\"mark-rule role-axis-tick\" pointer-events=\"none\"><line transform=\"translate(0,0)\" x2=\"0\" y2=\"5\" stroke=\"#888\" stroke-width=\"1\" opacity=\"1\"></line><line transform=\"translate(31,0)\" x2=\"0\" y2=\"5\" stroke=\"#888\" stroke-width=\"1\" opacity=\"1\"></line><line transform=\"translate(62,0)\" x2=\"0\" y2=\"5\" stroke=\"#888\" stroke-width=\"1\" opacity=\"1\"></line><line transform=\"translate(92,0)\" x2=\"0\" y2=\"5\" stroke=\"#888\" stroke-width=\"1\" opacity=\"1\"></line><line transform=\"translate(123,0)\" x2=\"0\" y2=\"5\" stroke=\"#888\" stroke-width=\"1\" opacity=\"1\"></line><line transform=\"translate(154,0)\" x2=\"0\" y2=\"5\" stroke=\"#888\" stroke-width=\"1\" opacity=\"1\"></line><line transform=\"translate(185,0)\" x2=\"0\" y2=\"5\" stroke=\"#888\" stroke-width=\"1\" opacity=\"1\"></line></g><g class=\"mark-text role-axis-label\" pointer-events=\"none\"><text text-anchor=\"start\" transform=\"translate(0,15)\" font-family=\"sans-serif\" font-size=\"10px\" fill=\"#000\" opacity=\"1\">-6</text><text text-anchor=\"middle\" transform=\"translate(30.76923076923077,15)\" font-family=\"sans-serif\" font-size=\"10px\" fill=\"#000\" opacity=\"1\">-4</text><text text-anchor=\"middle\" transform=\"translate(61.53846153846154,15)\" font-family=\"sans-serif\" font-size=\"10px\" fill=\"#000\" opacity=\"1\">-2</text><text text-anchor=\"middle\" transform=\"translate(92.3076923076923,15)\" font-family=\"sans-serif\" font-size=\"10px\" fill=\"#000\" opacity=\"1\">0</text><text text-anchor=\"middle\" transform=\"translate(123.07692307692308,15)\" font-family=\"sans-serif\" font-size=\"10px\" fill=\"#000\" opacity=\"1\">2</text><text text-anchor=\"middle\" transform=\"translate(153.84615384615387,15)\" font-family=\"sans-serif\" font-size=\"10px\" fill=\"#000\" opacity=\"1\">4</text><text text-anchor=\"middle\" transform=\"translate(184.6153846153846,15)\" font-family=\"sans-serif\" font-size=\"10px\" fill=\"#000\" opacity=\"1\">6</text></g><g class=\"mark-rule role-axis-domain\" pointer-events=\"none\"><line transform=\"translate(0,0)\" x2=\"200\" y2=\"0\" stroke=\"#888\" stroke-width=\"1\" opacity=\"1\"></line></g><g class=\"mark-text role-axis-title\" pointer-events=\"none\"><text text-anchor=\"middle\" transform=\"translate(100,30)\" font-family=\"sans-serif\" font-size=\"11px\" font-weight=\"bold\" fill=\"#000\" opacity=\"1\">x</text></g></g><path class=\"foreground\" aria-hidden=\"true\" d=\"\" pointer-events=\"none\" display=\"none\"></path></g></g><g class=\"mark-group role-axis\" role=\"graphics-symbol\" aria-roledescription=\"axis\" aria-label=\"Y-axis titled 'y' for a linear scale with values from -2 to 6\"><g transform=\"translate(0.5,0.5)\"><path class=\"background\" aria-hidden=\"true\" d=\"M0,0h0v0h0Z\" pointer-events=\"none\"></path><g><g class=\"mark-rule role-axis-tick\" pointer-events=\"none\"><line transform=\"translate(0,200)\" x2=\"-5\" y2=\"0\" stroke=\"#888\" stroke-width=\"1\" opacity=\"1\"></line><line transform=\"translate(0,150)\" x2=\"-5\" y2=\"0\" stroke=\"#888\" stroke-width=\"1\" opacity=\"1\"></line><line transform=\"translate(0,100)\" x2=\"-5\" y2=\"0\" stroke=\"#888\" stroke-width=\"1\" opacity=\"1\"></line><line transform=\"translate(0,50)\" x2=\"-5\" y2=\"0\" stroke=\"#888\" stroke-width=\"1\" opacity=\"1\"></line><line transform=\"translate(0,0)\" x2=\"-5\" y2=\"0\" stroke=\"#888\" stroke-width=\"1\" opacity=\"1\"></line></g><g class=\"mark-text role-axis-label\" pointer-events=\"none\"><text text-anchor=\"end\" transform=\"translate(-7,203)\" font-family=\"sans-serif\" font-size=\"10px\" fill=\"#000\" opacity=\"1\">-2</text><text text-anchor=\"end\" transform=\"translate(-7,153)\" font-family=\"sans-serif\" font-size=\"10px\" fill=\"#000\" opacity=\"1\">0</text><text text-anchor=\"end\" transform=\"translate(-7,103)\" font-family=\"sans-serif\" font-size=\"10px\" fill=\"#000\" opacity=\"1\">2</text><text text-anchor=\"end\" transform=\"translate(-7,53)\" font-family=\"sans-serif\" font-size=\"10px\" fill=\"#000\" opacity=\"1\">4</text><text text-anchor=\"end\" transform=\"translate(-7,3)\" font-family=\"sans-serif\" font-size=\"10px\" fill=\"#000\" opacity=\"1\">6</text></g><g class=\"mark-rule role-axis-domain\" pointer-events=\"none\"><line transform=\"translate(0,200)\" x2=\"0\" y2=\"-200\" stroke=\"#888\" stroke-width=\"1\" opacity=\"1\"></line></g><g class=\"mark-text role-axis-title\" pointer-events=\"none\"><text text-anchor=\"middle\" transform=\"translate(-21,100) rotate(-90) translate(0,-2)\" font-family=\"sans-serif\" font-size=\"11px\" font-weight=\"bold\" fill=\"#000\" opacity=\"1\">y</text></g></g><path class=\"foreground\" aria-hidden=\"true\" d=\"\" pointer-events=\"none\" display=\"none\"></path></g></g><g class=\"mark-symbol role-mark marks\" role=\"graphics-object\" aria-roledescription=\"symbol mark container\"><path aria-label=\"x: 2.51956366664; y: 4.1551141104\" role=\"graphics-symbol\" aria-roledescription=\"circle\" transform=\"translate(131.07021025599798,46.12214723998622)\" d=\"M2.7386127875258306,0A2.7386127875258306,2.7386127875258306,0,1,1,-2.7386127875258306,0A2.7386127875258306,2.7386127875258306,0,1,1,2.7386127875258306,0\" fill=\"#4c78a8\" stroke-width=\"2\" opacity=\"0.7\"></path><path aria-label=\"x: -1.9705103016; y: -0.993017737488\" role=\"graphics-symbol\" aria-roledescription=\"circle\" transform=\"translate(61.992149206111144,174.82544343719994)\" d=\"M2.7386127875258306,0A2.7386127875258306,2.7386127875258306,0,1,1,-2.7386127875258306,0A2.7386127875258306,2.7386127875258306,0,1,1,2.7386127875258306,0\" fill=\"#4c78a8\" stroke-width=\"2\" opacity=\"0.7\"></path><path aria-label=\"x: 1.25208274028; y: 2.26139067121\" role=\"graphics-symbol\" aria-roledescription=\"circle\" transform=\"translate(111.57050369668622,93.46523321972644)\" d=\"M2.7386127875258306,0A2.7386127875258306,2.7386127875258306,0,1,1,-2.7386127875258306,0A2.7386127875258306,2.7386127875258306,0,1,1,2.7386127875258306,0\" fill=\"#4c78a8\" stroke-width=\"2\" opacity=\"0.7\"></path><path aria-label=\"x: 2.50156003089; y: 2.32991862095\" role=\"graphics-symbol\" aria-roledescription=\"circle\" transform=\"translate(130.79323124440134,91.75203447617804)\" d=\"M2.7386127875258306,0A2.7386127875258306,2.7386127875258306,0,1,1,-2.7386127875258306,0A2.7386127875258306,2.7386127875258306,0,1,1,2.7386127875258306,0\" fill=\"#4c78a8\" stroke-width=\"2\" opacity=\"0.7\"></path><path aria-label=\"x: 1.12155008137; y: 1.47444380104\" role=\"graphics-symbol\" aria-roledescription=\"circle\" transform=\"translate(109.56230894411098,113.13890497410732)\" d=\"M2.7386127875258306,0A2.7386127875258306,2.7386127875258306,0,1,1,-2.7386127875258306,0A2.7386127875258306,2.7386127875258306,0,1,1,2.7386127875258306,0\" fill=\"#4c78a8\" stroke-width=\"2\" opacity=\"0.7\"></path><path aria-label=\"x: 0.192043203764; y: 2.48284182093\" role=\"graphics-symbol\" aria-roledescription=\"circle\" transform=\"translate(95.26220313482638,87.92895447671656)\" d=\"M2.7386127875258306,0A2.7386127875258306,2.7386127875258306,0,1,1,-2.7386127875258306,0A2.7386127875258306,2.7386127875258306,0,1,1,2.7386127875258306,0\" fill=\"#4c78a8\" stroke-width=\"2\" opacity=\"0.7\"></path><path aria-label=\"x: 0.752068392369; y: 2.30448257632\" role=\"graphics-symbol\" aria-roledescription=\"circle\" transform=\"translate(103.87797526720881,92.38793559209606)\" d=\"M2.7386127875258306,0A2.7386127875258306,2.7386127875258306,0,1,1,-2.7386127875258306,0A2.7386127875258306,2.7386127875258306,0,1,1,2.7386127875258306,0\" fill=\"#4c78a8\" stroke-width=\"2\" opacity=\"0.7\"></path><path aria-label=\"x: -1.84512130939; y: 0.0476091523118\" role=\"graphics-symbol\" aria-roledescription=\"circle\" transform=\"translate(63.92121062470248,148.80977119220398)\" d=\"M2.7386127875258306,0A2.7386127875258306,2.7386127875258306,0,1,1,-2.7386127875258306,0A2.7386127875258306,2.7386127875258306,0,1,1,2.7386127875258306,0\" fill=\"#4c78a8\" stroke-width=\"2\" opacity=\"0.7\"></path><path aria-label=\"x: -0.306213002002; y: 0.820201016643\" role=\"graphics-symbol\" aria-roledescription=\"circle\" transform=\"translate(87.59672304612747,129.49497458391622)\" d=\"M2.7386127875258306,0A2.7386127875258306,2.7386127875258306,0,1,1,-2.7386127875258306,0A2.7386127875258306,2.7386127875258306,0,1,1,2.7386127875258306,0\" fill=\"#4c78a8\" stroke-width=\"2\" opacity=\"0.7\"></path><path aria-label=\"x: 0.972027893307; y: 1.98773189187\" role=\"graphics-symbol\" aria-roledescription=\"circle\" transform=\"translate(107.2619675893384,100.30670270332583)\" d=\"M2.7386127875258306,0A2.7386127875258306,2.7386127875258306,0,1,1,-2.7386127875258306,0A2.7386127875258306,2.7386127875258306,0,1,1,2.7386127875258306,0\" fill=\"#4c78a8\" stroke-width=\"2\" opacity=\"0.7\"></path><path aria-label=\"x: -1.78257362526; y: 0.24935930301\" role=\"graphics-symbol\" aria-roledescription=\"circle\" transform=\"translate(64.88348268833171,143.76601742474554)\" d=\"M2.7386127875258306,0A2.7386127875258306,2.7386127875258306,0,1,1,-2.7386127875258306,0A2.7386127875258306,2.7386127875258306,0,1,1,2.7386127875258306,0\" fill=\"#4c78a8\" stroke-width=\"2\" opacity=\"0.7\"></path><path aria-label=\"x: 0.100720986943; y: 1.56958137638\" role=\"graphics-symbol\" aria-roledescription=\"circle\" transform=\"translate(93.85724595296576,110.76046559049504)\" d=\"M2.7386127875258306,0A2.7386127875258306,2.7386127875258306,0,1,1,-2.7386127875258306,0A2.7386127875258306,2.7386127875258306,0,1,1,2.7386127875258306,0\" fill=\"#4c78a8\" stroke-width=\"2\" opacity=\"0.7\"></path><path aria-label=\"x: 2.35393723084; y: 2.62515477849\" role=\"graphics-symbol\" aria-roledescription=\"circle\" transform=\"translate(128.52211124361745,84.3711305378147)\" d=\"M2.7386127875258306,0A2.7386127875258306,2.7386127875258306,0,1,1,-2.7386127875258306,0A2.7386127875258306,2.7386127875258306,0,1,1,2.7386127875258306,0\" fill=\"#4c78a8\" stroke-width=\"2\" opacity=\"0.7\"></path><path aria-label=\"x: -0.321907143016; y: -0.451023653089\" role=\"graphics-symbol\" aria-roledescription=\"circle\" transform=\"translate(87.35527472283599,161.2755913272244)\" d=\"M2.7386127875258306,0A2.7386127875258306,2.7386127875258306,0,1,1,-2.7386127875258306,0A2.7386127875258306,2.7386127875258306,0,1,1,2.7386127875258306,0\" fill=\"#4c78a8\" stroke-width=\"2\" opacity=\"0.7\"></path><path aria-label=\"x: 1.83121916428; y: 0.910980417085\" role=\"graphics-symbol\" aria-roledescription=\"circle\" transform=\"translate(120.48029483503682,127.2254895728767)\" d=\"M2.7386127875258306,0A2.7386127875258306,2.7386127875258306,0,1,1,-2.7386127875258306,0A2.7386127875258306,2.7386127875258306,0,1,1,2.7386127875258306,0\" fill=\"#4c78a8\" stroke-width=\"2\" opacity=\"0.7\"></path><path aria-label=\"x: 1.59126785708; y: 1.74303915927\" role=\"graphics-symbol\" aria-roledescription=\"circle\" transform=\"translate(116.78873626276147,106.42402101814095)\" d=\"M2.7386127875258306,0A2.7386127875258306,2.7386127875258306,0,1,1,-2.7386127875258306,0A2.7386127875258306,2.7386127875258306,0,1,1,2.7386127875258306,0\" fill=\"#4c78a8\" stroke-width=\"2\" opacity=\"0.7\"></path><path aria-label=\"x: 3.43577220956; y: 3.9496677415\" role=\"graphics-symbol\" aria-roledescription=\"circle\" transform=\"translate(145.16572630086486,51.25830646260239)\" d=\"M2.7386127875258306,0A2.7386127875258306,2.7386127875258306,0,1,1,-2.7386127875258306,0A2.7386127875258306,2.7386127875258306,0,1,1,2.7386127875258306,0\" fill=\"#4c78a8\" stroke-width=\"2\" opacity=\"0.7\"></path><path aria-label=\"x: 0.582862032072; y: 1.25441322215\" role=\"graphics-symbol\" aria-roledescription=\"circle\" transform=\"translate(101.27480049342128,118.63966944626779)\" d=\"M2.7386127875258306,0A2.7386127875258306,2.7386127875258306,0,1,1,-2.7386127875258306,0A2.7386127875258306,2.7386127875258306,0,1,1,2.7386127875258306,0\" fill=\"#4c78a8\" stroke-width=\"2\" opacity=\"0.7\"></path><path aria-label=\"x: -1.38968537504; y: 0.692744440846\" role=\"graphics-symbol\" aria-roledescription=\"circle\" transform=\"translate(70.9279173070968,132.681388978855)\" d=\"M2.7386127875258306,0A2.7386127875258306,2.7386127875258306,0,1,1,-2.7386127875258306,0A2.7386127875258306,2.7386127875258306,0,1,1,2.7386127875258306,0\" fill=\"#4c78a8\" stroke-width=\"2\" opacity=\"0.7\"></path><path aria-label=\"x: -0.81314333407; y: -0.691993710694\" role=\"graphics-symbol\" aria-roledescription=\"circle\" transform=\"translate(79.79779486046124,167.29984276733973)\" d=\"M2.7386127875258306,0A2.7386127875258306,2.7386127875258306,0,1,1,-2.7386127875258306,0A2.7386127875258306,2.7386127875258306,0,1,1,2.7386127875258306,0\" fill=\"#4c78a8\" stroke-width=\"2\" opacity=\"0.7\"></path><path aria-label=\"x: 0.899059419482; y: 2.20070095697\" role=\"graphics-symbol\" aria-roledescription=\"circle\" transform=\"translate(106.13937568434095,94.98247607567411)\" d=\"M2.7386127875258306,0A2.7386127875258306,2.7386127875258306,0,1,1,-2.7386127875258306,0A2.7386127875258306,2.7386127875258306,0,1,1,2.7386127875258306,0\" fill=\"#4c78a8\" stroke-width=\"2\" opacity=\"0.7\"></path><path aria-label=\"x: 3.79373878082; y: 4.03624257793\" role=\"graphics-symbol\" aria-roledescription=\"circle\" transform=\"translate(150.67290432029841,49.09393555171988)\" d=\"M2.7386127875258306,0A2.7386127875258306,2.7386127875258306,0,1,1,-2.7386127875258306,0A2.7386127875258306,2.7386127875258306,0,1,1,2.7386127875258306,0\" fill=\"#4c78a8\" stroke-width=\"2\" opacity=\"0.7\"></path><path aria-label=\"x: 0.130119469873; y: 1.73501638946\" role=\"graphics-symbol\" aria-roledescription=\"circle\" transform=\"translate(94.3095303057422,106.62459026344328)\" d=\"M2.7386127875258306,0A2.7386127875258306,2.7386127875258306,0,1,1,-2.7386127875258306,0A2.7386127875258306,2.7386127875258306,0,1,1,2.7386127875258306,0\" fill=\"#4c78a8\" stroke-width=\"2\" opacity=\"0.7\"></path><path aria-label=\"x: -3.30041511107; y: -0.979825568204\" role=\"graphics-symbol\" aria-roledescription=\"circle\" transform=\"translate(41.53207521423153,174.49563920508814)\" d=\"M2.7386127875258306,0A2.7386127875258306,2.7386127875258306,0,1,1,-2.7386127875258306,0A2.7386127875258306,2.7386127875258306,0,1,1,2.7386127875258306,0\" fill=\"#4c78a8\" stroke-width=\"2\" opacity=\"0.7\"></path><path aria-label=\"x: 2.20845851025; y: 1.52105522094\" role=\"graphics-symbol\" aria-roledescription=\"circle\" transform=\"translate(126.28397708080936,111.97361947641097)\" d=\"M2.7386127875258306,0A2.7386127875258306,2.7386127875258306,0,1,1,-2.7386127875258306,0A2.7386127875258306,2.7386127875258306,0,1,1,2.7386127875258306,0\" fill=\"#4c78a8\" stroke-width=\"2\" opacity=\"0.7\"></path><path aria-label=\"x: 0.784302461447; y: 1.10174292599\" role=\"graphics-symbol\" aria-roledescription=\"circle\" transform=\"translate(104.37388402226114,122.4564268501839)\" d=\"M2.7386127875258306,0A2.7386127875258306,2.7386127875258306,0,1,1,-2.7386127875258306,0A2.7386127875258306,2.7386127875258306,0,1,1,2.7386127875258306,0\" fill=\"#4c78a8\" stroke-width=\"2\" opacity=\"0.7\"></path><path aria-label=\"x: 3.34656278203; y: 2.63583712316\" role=\"graphics-symbol\" aria-roledescription=\"circle\" transform=\"translate(143.7932735697673,84.10407192101854)\" d=\"M2.7386127875258306,0A2.7386127875258306,2.7386127875258306,0,1,1,-2.7386127875258306,0A2.7386127875258306,2.7386127875258306,0,1,1,2.7386127875258306,0\" fill=\"#4c78a8\" stroke-width=\"2\" opacity=\"0.7\"></path><path aria-label=\"x: 1.35109141194; y: 1.23380966935\" role=\"graphics-symbol\" aria-roledescription=\"circle\" transform=\"translate(113.09371402978887,119.15475826626383)\" d=\"M2.7386127875258306,0A2.7386127875258306,2.7386127875258306,0,1,1,-2.7386127875258306,0A2.7386127875258306,2.7386127875258306,0,1,1,2.7386127875258306,0\" fill=\"#4c78a8\" stroke-width=\"2\" opacity=\"0.7\"></path><path aria-label=\"x: 0.353767310317; y: 1.8912243568\" role=\"graphics-symbol\" aria-roledescription=\"circle\" transform=\"translate(97.75026631257602,102.71939107997842)\" d=\"M2.7386127875258306,0A2.7386127875258306,2.7386127875258306,0,1,1,-2.7386127875258306,0A2.7386127875258306,2.7386127875258306,0,1,1,2.7386127875258306,0\" fill=\"#4c78a8\" stroke-width=\"2\" opacity=\"0.7\"></path><path aria-label=\"x: 3.22486175007; y: 3.67235742219\" role=\"graphics-symbol\" aria-roledescription=\"circle\" transform=\"translate(141.92095000102233,58.191064445285164)\" d=\"M2.7386127875258306,0A2.7386127875258306,2.7386127875258306,0,1,1,-2.7386127875258306,0A2.7386127875258306,2.7386127875258306,0,1,1,2.7386127875258306,0\" fill=\"#4c78a8\" stroke-width=\"2\" opacity=\"0.7\"></path><path aria-label=\"x: 1.68707576166; y: 3.68763387759\" role=\"graphics-symbol\" aria-roledescription=\"circle\" transform=\"translate(118.26270402548577,57.809153060152596)\" d=\"M2.7386127875258306,0A2.7386127875258306,2.7386127875258306,0,1,1,-2.7386127875258306,0A2.7386127875258306,2.7386127875258306,0,1,1,2.7386127875258306,0\" fill=\"#4c78a8\" stroke-width=\"2\" opacity=\"0.7\"></path><path aria-label=\"x: 1.92433310163; y: 3.63985734563\" role=\"graphics-symbol\" aria-roledescription=\"circle\" transform=\"translate(121.91281694814687,59.00356635933197)\" d=\"M2.7386127875258306,0A2.7386127875258306,2.7386127875258306,0,1,1,-2.7386127875258306,0A2.7386127875258306,2.7386127875258306,0,1,1,2.7386127875258306,0\" fill=\"#4c78a8\" stroke-width=\"2\" opacity=\"0.7\"></path><path aria-label=\"x: 0.438494593814; y: 1.0630151458\" role=\"graphics-symbol\" aria-roledescription=\"circle\" transform=\"translate(99.05376298176077,123.42462135501877)\" d=\"M2.7386127875258306,0A2.7386127875258306,2.7386127875258306,0,1,1,-2.7386127875258306,0A2.7386127875258306,2.7386127875258306,0,1,1,2.7386127875258306,0\" fill=\"#4c78a8\" stroke-width=\"2\" opacity=\"0.7\"></path><path aria-label=\"x: 2.85170098609; y: 3.99058407329\" role=\"graphics-symbol\" aria-roledescription=\"circle\" transform=\"translate(136.1800151706909,50.23539816775779)\" d=\"M2.7386127875258306,0A2.7386127875258306,2.7386127875258306,0,1,1,-2.7386127875258306,0A2.7386127875258306,2.7386127875258306,0,1,1,2.7386127875258306,0\" fill=\"#4c78a8\" stroke-width=\"2\" opacity=\"0.7\"></path><path aria-label=\"x: 1.9378929032; y: 3.00097114041\" role=\"graphics-symbol\" aria-roledescription=\"circle\" transform=\"translate(122.12142927996187,74.97572148979019)\" d=\"M2.7386127875258306,0A2.7386127875258306,2.7386127875258306,0,1,1,-2.7386127875258306,0A2.7386127875258306,2.7386127875258306,0,1,1,2.7386127875258306,0\" fill=\"#4c78a8\" stroke-width=\"2\" opacity=\"0.7\"></path><path aria-label=\"x: 1.94400746198; y: 2.42232135364\" role=\"graphics-symbol\" aria-roledescription=\"circle\" transform=\"translate(122.2154994150757,89.441966159031)\" d=\"M2.7386127875258306,0A2.7386127875258306,2.7386127875258306,0,1,1,-2.7386127875258306,0A2.7386127875258306,2.7386127875258306,0,1,1,2.7386127875258306,0\" fill=\"#4c78a8\" stroke-width=\"2\" opacity=\"0.7\"></path><path aria-label=\"x: -1.1609148402; y: 1.51351039082\" role=\"graphics-symbol\" aria-roledescription=\"circle\" transform=\"translate(74.44746399690789,112.1622402295481)\" d=\"M2.7386127875258306,0A2.7386127875258306,2.7386127875258306,0,1,1,-2.7386127875258306,0A2.7386127875258306,2.7386127875258306,0,1,1,2.7386127875258306,0\" fill=\"#4c78a8\" stroke-width=\"2\" opacity=\"0.7\"></path><path aria-label=\"x: 2.31624967429; y: 3.7057714138\" role=\"graphics-symbol\" aria-roledescription=\"circle\" transform=\"translate(127.94230268145417,57.355714654923375)\" d=\"M2.7386127875258306,0A2.7386127875258306,2.7386127875258306,0,1,1,-2.7386127875258306,0A2.7386127875258306,2.7386127875258306,0,1,1,2.7386127875258306,0\" fill=\"#4c78a8\" stroke-width=\"2\" opacity=\"0.7\"></path><path aria-label=\"x: 1.02671805325; y: 2.73241648342\" role=\"graphics-symbol\" aria-roledescription=\"circle\" transform=\"translate(108.10335466533594,81.68958791438202)\" d=\"M2.7386127875258306,0A2.7386127875258306,2.7386127875258306,0,1,1,-2.7386127875258306,0A2.7386127875258306,2.7386127875258306,0,1,1,2.7386127875258306,0\" fill=\"#4c78a8\" stroke-width=\"2\" opacity=\"0.7\"></path><path aria-label=\"x: 2.9551765155; y: 4.89244582655\" role=\"graphics-symbol\" aria-roledescription=\"circle\" transform=\"translate(137.7719463923543,27.68885433635098)\" d=\"M2.7386127875258306,0A2.7386127875258306,2.7386127875258306,0,1,1,-2.7386127875258306,0A2.7386127875258306,2.7386127875258306,0,1,1,2.7386127875258306,0\" fill=\"#4c78a8\" stroke-width=\"2\" opacity=\"0.7\"></path><path aria-label=\"x: 1.07050409551; y: 0.751418266974\" role=\"graphics-symbol\" aria-roledescription=\"circle\" transform=\"translate(108.77698608481505,131.2145433256589)\" d=\"M2.7386127875258306,0A2.7386127875258306,2.7386127875258306,0,1,1,-2.7386127875258306,0A2.7386127875258306,2.7386127875258306,0,1,1,2.7386127875258306,0\" fill=\"#4c78a8\" stroke-width=\"2\" opacity=\"0.7\"></path><path aria-label=\"x: 0.792513305753; y: 3.2724021799\" role=\"graphics-symbol\" aria-roledescription=\"circle\" transform=\"translate(104.5002047038996,68.18994550244926)\" d=\"M2.7386127875258306,0A2.7386127875258306,2.7386127875258306,0,1,1,-2.7386127875258306,0A2.7386127875258306,2.7386127875258306,0,1,1,2.7386127875258306,0\" fill=\"#4c78a8\" stroke-width=\"2\" opacity=\"0.7\"></path><path aria-label=\"x: 1.39352144827; y: 2.15411084494\" role=\"graphics-symbol\" aria-roledescription=\"circle\" transform=\"translate(113.74648381953763,96.14722887646336)\" d=\"M2.7386127875258306,0A2.7386127875258306,2.7386127875258306,0,1,1,-2.7386127875258306,0A2.7386127875258306,2.7386127875258306,0,1,1,2.7386127875258306,0\" fill=\"#4c78a8\" stroke-width=\"2\" opacity=\"0.7\"></path><path aria-label=\"x: 4.41901963144; y: 4.99086356939\" role=\"graphics-symbol\" aria-roledescription=\"circle\" transform=\"translate(160.2926097144067,25.228410765198063)\" d=\"M2.7386127875258306,0A2.7386127875258306,2.7386127875258306,0,1,1,-2.7386127875258306,0A2.7386127875258306,2.7386127875258306,0,1,1,2.7386127875258306,0\" fill=\"#4c78a8\" stroke-width=\"2\" opacity=\"0.7\"></path><path aria-label=\"x: 0.996561957001; y: 2.63016233988\" role=\"graphics-symbol\" aria-roledescription=\"circle\" transform=\"translate(107.6394147230985,84.24594150303972)\" d=\"M2.7386127875258306,0A2.7386127875258306,2.7386127875258306,0,1,1,-2.7386127875258306,0A2.7386127875258306,2.7386127875258306,0,1,1,2.7386127875258306,0\" fill=\"#4c78a8\" stroke-width=\"2\" opacity=\"0.7\"></path><path aria-label=\"x: -2.48430704228; y: 0.311094720396\" role=\"graphics-symbol\" aria-roledescription=\"circle\" transform=\"translate(54.087583964940066,142.22263199011184)\" d=\"M2.7386127875258306,0A2.7386127875258306,2.7386127875258306,0,1,1,-2.7386127875258306,0A2.7386127875258306,2.7386127875258306,0,1,1,2.7386127875258306,0\" fill=\"#4c78a8\" stroke-width=\"2\" opacity=\"0.7\"></path><path aria-label=\"x: -1.28788748638; y: -0.857613439799\" role=\"graphics-symbol\" aria-roledescription=\"circle\" transform=\"translate(72.49403867105315,171.44033599497013)\" d=\"M2.7386127875258306,0A2.7386127875258306,2.7386127875258306,0,1,1,-2.7386127875258306,0A2.7386127875258306,2.7386127875258306,0,1,1,2.7386127875258306,0\" fill=\"#4c78a8\" stroke-width=\"2\" opacity=\"0.7\"></path><path aria-label=\"x: -0.660641675211; y: 0.475671979823\" role=\"graphics-symbol\" aria-roledescription=\"circle\" transform=\"translate(82.14397422752356,138.1082005044281)\" d=\"M2.7386127875258306,0A2.7386127875258306,2.7386127875258306,0,1,1,-2.7386127875258306,0A2.7386127875258306,2.7386127875258306,0,1,1,2.7386127875258306,0\" fill=\"#4c78a8\" stroke-width=\"2\" opacity=\"0.7\"></path><path aria-label=\"x: 1.40022171952; y: 3.59633580176\" role=\"graphics-symbol\" aria-roledescription=\"circle\" transform=\"translate(113.84956491564434,60.091604956032654)\" d=\"M2.7386127875258306,0A2.7386127875258306,2.7386127875258306,0,1,1,-2.7386127875258306,0A2.7386127875258306,2.7386127875258306,0,1,1,2.7386127875258306,0\" fill=\"#4c78a8\" stroke-width=\"2\" opacity=\"0.7\"></path><path aria-label=\"x: 0.840824180609; y: 1.64892587442\" role=\"graphics-symbol\" aria-roledescription=\"circle\" transform=\"translate(105.2434489324392,108.77685313941119)\" d=\"M2.7386127875258306,0A2.7386127875258306,2.7386127875258306,0,1,1,-2.7386127875258306,0A2.7386127875258306,2.7386127875258306,0,1,1,2.7386127875258306,0\" fill=\"#4c78a8\" stroke-width=\"2\" opacity=\"0.7\"></path><path aria-label=\"x: -1.49232617597; y: 0.748950891443\" role=\"graphics-symbol\" aria-roledescription=\"circle\" transform=\"translate(69.34882806192762,131.27622771392808)\" d=\"M2.7386127875258306,0A2.7386127875258306,2.7386127875258306,0,1,1,-2.7386127875258306,0A2.7386127875258306,2.7386127875258306,0,1,1,2.7386127875258306,0\" fill=\"#4c78a8\" stroke-width=\"2\" opacity=\"0.7\"></path><path aria-label=\"x: 4.06703564355; y: 2.75888180981\" role=\"graphics-symbol\" aria-roledescription=\"circle\" transform=\"translate(154.87747143926595,81.02795475463122)\" d=\"M2.7386127875258306,0A2.7386127875258306,2.7386127875258306,0,1,1,-2.7386127875258306,0A2.7386127875258306,2.7386127875258306,0,1,1,2.7386127875258306,0\" fill=\"#4c78a8\" stroke-width=\"2\" opacity=\"0.7\"></path><path aria-label=\"x: 4.63355383767; y: 3.55661123345\" role=\"graphics-symbol\" aria-roledescription=\"circle\" transform=\"translate(163.5931359641479,61.08471916372593)\" d=\"M2.7386127875258306,0A2.7386127875258306,2.7386127875258306,0,1,1,-2.7386127875258306,0A2.7386127875258306,2.7386127875258306,0,1,1,2.7386127875258306,0\" fill=\"#4c78a8\" stroke-width=\"2\" opacity=\"0.7\"></path><path aria-label=\"x: 0.0860766242338; y: 1.84391941113\" role=\"graphics-symbol\" aria-roledescription=\"circle\" transform=\"translate(93.63194806513592,103.9020147216255)\" d=\"M2.7386127875258306,0A2.7386127875258306,2.7386127875258306,0,1,1,-2.7386127875258306,0A2.7386127875258306,2.7386127875258306,0,1,1,2.7386127875258306,0\" fill=\"#4c78a8\" stroke-width=\"2\" opacity=\"0.7\"></path><path aria-label=\"x: 3.47767290205; y: 4.28694825037\" role=\"graphics-symbol\" aria-roledescription=\"circle\" transform=\"translate(145.81035233929865,42.826293740709566)\" d=\"M2.7386127875258306,0A2.7386127875258306,2.7386127875258306,0,1,1,-2.7386127875258306,0A2.7386127875258306,2.7386127875258306,0,1,1,2.7386127875258306,0\" fill=\"#4c78a8\" stroke-width=\"2\" opacity=\"0.7\"></path><path aria-label=\"x: 4.44445468348; y: 3.5779925421\" role=\"graphics-symbol\" aria-roledescription=\"circle\" transform=\"translate(160.68391820734143,60.55018644743102)\" d=\"M2.7386127875258306,0A2.7386127875258306,2.7386127875258306,0,1,1,-2.7386127875258306,0A2.7386127875258306,2.7386127875258306,0,1,1,2.7386127875258306,0\" fill=\"#4c78a8\" stroke-width=\"2\" opacity=\"0.7\"></path><path aria-label=\"x: 0.355324085508; y: 0.40046229861\" role=\"graphics-symbol\" aria-roledescription=\"circle\" transform=\"translate(97.7742167001274,139.98844253474675)\" d=\"M2.7386127875258306,0A2.7386127875258306,2.7386127875258306,0,1,1,-2.7386127875258306,0A2.7386127875258306,2.7386127875258306,0,1,1,2.7386127875258306,0\" fill=\"#4c78a8\" stroke-width=\"2\" opacity=\"0.7\"></path><path aria-label=\"x: -0.390798390673; y: 0.666050513955\" role=\"graphics-symbol\" aria-roledescription=\"circle\" transform=\"translate(86.29540937425423,133.3487371511372)\" d=\"M2.7386127875258306,0A2.7386127875258306,2.7386127875258306,0,1,1,-2.7386127875258306,0A2.7386127875258306,2.7386127875258306,0,1,1,2.7386127875258306,0\" fill=\"#4c78a8\" stroke-width=\"2\" opacity=\"0.7\"></path><path aria-label=\"x: 1.68139367646; y: 3.99278214096\" role=\"graphics-symbol\" aria-roledescription=\"circle\" transform=\"translate(118.17528733020073,50.18044647595947)\" d=\"M2.7386127875258306,0A2.7386127875258306,2.7386127875258306,0,1,1,-2.7386127875258306,0A2.7386127875258306,2.7386127875258306,0,1,1,2.7386127875258306,0\" fill=\"#4c78a8\" stroke-width=\"2\" opacity=\"0.7\"></path><path aria-label=\"x: 2.40330262307; y: 3.77397433689\" role=\"graphics-symbol\" aria-roledescription=\"circle\" transform=\"translate(129.28157881645757,55.65064157783901)\" d=\"M2.7386127875258306,0A2.7386127875258306,2.7386127875258306,0,1,1,-2.7386127875258306,0A2.7386127875258306,2.7386127875258306,0,1,1,2.7386127875258306,0\" fill=\"#4c78a8\" stroke-width=\"2\" opacity=\"0.7\"></path><path aria-label=\"x: -1.8188942299; y: 0.310692898889\" role=\"graphics-symbol\" aria-roledescription=\"circle\" transform=\"translate(64.32470415538785,142.2326775277689)\" d=\"M2.7386127875258306,0A2.7386127875258306,2.7386127875258306,0,1,1,-2.7386127875258306,0A2.7386127875258306,2.7386127875258306,0,1,1,2.7386127875258306,0\" fill=\"#4c78a8\" stroke-width=\"2\" opacity=\"0.7\"></path><path aria-label=\"x: 2.00374784345; y: 3.27838301649\" role=\"graphics-symbol\" aria-roledescription=\"circle\" transform=\"translate(123.13458220685098,68.04042458767884)\" d=\"M2.7386127875258306,0A2.7386127875258306,2.7386127875258306,0,1,1,-2.7386127875258306,0A2.7386127875258306,2.7386127875258306,0,1,1,2.7386127875258306,0\" fill=\"#4c78a8\" stroke-width=\"2\" opacity=\"0.7\"></path><path aria-label=\"x: 0.770546140227; y: 2.33970541255\" role=\"graphics-symbol\" aria-roledescription=\"circle\" transform=\"translate(104.162248311179,91.50736468632657)\" d=\"M2.7386127875258306,0A2.7386127875258306,2.7386127875258306,0,1,1,-2.7386127875258306,0A2.7386127875258306,2.7386127875258306,0,1,1,2.7386127875258306,0\" fill=\"#4c78a8\" stroke-width=\"2\" opacity=\"0.7\"></path><path aria-label=\"x: 2.78405760874; y: 3.70889243037\" role=\"graphics-symbol\" aria-roledescription=\"circle\" transform=\"translate(135.13934782677478,57.27768924073497)\" d=\"M2.7386127875258306,0A2.7386127875258306,2.7386127875258306,0,1,1,-2.7386127875258306,0A2.7386127875258306,2.7386127875258306,0,1,1,2.7386127875258306,0\" fill=\"#4c78a8\" stroke-width=\"2\" opacity=\"0.7\"></path><path aria-label=\"x: 2.67705814351; y: 3.37728255472\" role=\"graphics-symbol\" aria-roledescription=\"circle\" transform=\"translate(133.4932022078328,65.56793613211593)\" d=\"M2.7386127875258306,0A2.7386127875258306,2.7386127875258306,0,1,1,-2.7386127875258306,0A2.7386127875258306,2.7386127875258306,0,1,1,2.7386127875258306,0\" fill=\"#4c78a8\" stroke-width=\"2\" opacity=\"0.7\"></path><path aria-label=\"x: -0.474976254408; y: 0.622800130039\" role=\"graphics-symbol\" aria-roledescription=\"circle\" transform=\"translate(85.00036531679568,134.42999674903254)\" d=\"M2.7386127875258306,0A2.7386127875258306,2.7386127875258306,0,1,1,-2.7386127875258306,0A2.7386127875258306,2.7386127875258306,0,1,1,2.7386127875258306,0\" fill=\"#4c78a8\" stroke-width=\"2\" opacity=\"0.7\"></path><path aria-label=\"x: -0.017573049948; y: 0.0626479716918\" role=\"graphics-symbol\" aria-roledescription=\"circle\" transform=\"translate(92.03733769310752,148.43380070770502)\" d=\"M2.7386127875258306,0A2.7386127875258306,2.7386127875258306,0,1,1,-2.7386127875258306,0A2.7386127875258306,2.7386127875258306,0,1,1,2.7386127875258306,0\" fill=\"#4c78a8\" stroke-width=\"2\" opacity=\"0.7\"></path><path aria-label=\"x: -0.909513398549; y: -0.287342302702\" role=\"graphics-symbol\" aria-roledescription=\"circle\" transform=\"translate(78.3151784838666,157.18355756754497)\" d=\"M2.7386127875258306,0A2.7386127875258306,2.7386127875258306,0,1,1,-2.7386127875258306,0A2.7386127875258306,2.7386127875258306,0,1,1,2.7386127875258306,0\" fill=\"#4c78a8\" stroke-width=\"2\" opacity=\"0.7\"></path><path aria-label=\"x: 2.35903113274; y: 2.75346908286\" role=\"graphics-symbol\" aria-roledescription=\"circle\" transform=\"translate(128.60047896527112,81.16327292840602)\" d=\"M2.7386127875258306,0A2.7386127875258306,2.7386127875258306,0,1,1,-2.7386127875258306,0A2.7386127875258306,2.7386127875258306,0,1,1,2.7386127875258306,0\" fill=\"#4c78a8\" stroke-width=\"2\" opacity=\"0.7\"></path><path aria-label=\"x: -1.32324125047; y: 0.0460889669888\" role=\"graphics-symbol\" aria-roledescription=\"circle\" transform=\"translate(71.95013460808963,148.84777582527954)\" d=\"M2.7386127875258306,0A2.7386127875258306,2.7386127875258306,0,1,1,-2.7386127875258306,0A2.7386127875258306,2.7386127875258306,0,1,1,2.7386127875258306,0\" fill=\"#4c78a8\" stroke-width=\"2\" opacity=\"0.7\"></path><path aria-label=\"x: 2.75622498871; y: 2.65003416461\" role=\"graphics-symbol\" aria-roledescription=\"circle\" transform=\"translate(134.7111536724861,83.74914588470529)\" d=\"M2.7386127875258306,0A2.7386127875258306,2.7386127875258306,0,1,1,-2.7386127875258306,0A2.7386127875258306,2.7386127875258306,0,1,1,2.7386127875258306,0\" fill=\"#4c78a8\" stroke-width=\"2\" opacity=\"0.7\"></path><path aria-label=\"x: -0.520917231978; y: 1.45273217275\" role=\"graphics-symbol\" aria-roledescription=\"circle\" transform=\"translate(84.29358104649407,113.68169568114261)\" d=\"M2.7386127875258306,0A2.7386127875258306,2.7386127875258306,0,1,1,-2.7386127875258306,0A2.7386127875258306,2.7386127875258306,0,1,1,2.7386127875258306,0\" fill=\"#4c78a8\" stroke-width=\"2\" opacity=\"0.7\"></path><path aria-label=\"x: 0.849842686803; y: 1.96354770125\" role=\"graphics-symbol\" aria-roledescription=\"circle\" transform=\"translate(105.3821951815895,100.91130746874626)\" d=\"M2.7386127875258306,0A2.7386127875258306,2.7386127875258306,0,1,1,-2.7386127875258306,0A2.7386127875258306,2.7386127875258306,0,1,1,2.7386127875258306,0\" fill=\"#4c78a8\" stroke-width=\"2\" opacity=\"0.7\"></path><path aria-label=\"x: 1.3455085071; y: 1.80032525317\" role=\"graphics-symbol\" aria-roledescription=\"circle\" transform=\"translate(113.00782318610266,104.99186867080668)\" d=\"M2.7386127875258306,0A2.7386127875258306,2.7386127875258306,0,1,1,-2.7386127875258306,0A2.7386127875258306,2.7386127875258306,0,1,1,2.7386127875258306,0\" fill=\"#4c78a8\" stroke-width=\"2\" opacity=\"0.7\"></path><path aria-label=\"x: 1.74458002114; y: 1.42949344244\" role=\"graphics-symbol\" aria-roledescription=\"circle\" transform=\"translate(119.14738494059331,114.26266393909141)\" d=\"M2.7386127875258306,0A2.7386127875258306,2.7386127875258306,0,1,1,-2.7386127875258306,0A2.7386127875258306,2.7386127875258306,0,1,1,2.7386127875258306,0\" fill=\"#4c78a8\" stroke-width=\"2\" opacity=\"0.7\"></path><path aria-label=\"x: 2.53481378907; y: 3.28976500678\" role=\"graphics-symbol\" aria-roledescription=\"circle\" transform=\"translate(131.30482752422944,67.7558748306144)\" d=\"M2.7386127875258306,0A2.7386127875258306,2.7386127875258306,0,1,1,-2.7386127875258306,0A2.7386127875258306,2.7386127875258306,0,1,1,2.7386127875258306,0\" fill=\"#4c78a8\" stroke-width=\"2\" opacity=\"0.7\"></path><path aria-label=\"x: -1.28741713845; y: -0.0734233222425\" role=\"graphics-symbol\" aria-roledescription=\"circle\" transform=\"translate(72.50127479302016,151.8355830560634)\" d=\"M2.7386127875258306,0A2.7386127875258306,2.7386127875258306,0,1,1,-2.7386127875258306,0A2.7386127875258306,2.7386127875258306,0,1,1,2.7386127875258306,0\" fill=\"#4c78a8\" stroke-width=\"2\" opacity=\"0.7\"></path><path aria-label=\"x: 2.45526244623; y: 2.70760475074\" role=\"graphics-symbol\" aria-roledescription=\"circle\" transform=\"translate(130.08096071120093,82.30988123153244)\" d=\"M2.7386127875258306,0A2.7386127875258306,2.7386127875258306,0,1,1,-2.7386127875258306,0A2.7386127875258306,2.7386127875258306,0,1,1,2.7386127875258306,0\" fill=\"#4c78a8\" stroke-width=\"2\" opacity=\"0.7\"></path><path aria-label=\"x: 0.0117865209075; y: 1.88496776879\" role=\"graphics-symbol\" aria-roledescription=\"circle\" transform=\"translate(92.48902339857649,102.87580578023012)\" d=\"M2.7386127875258306,0A2.7386127875258306,2.7386127875258306,0,1,1,-2.7386127875258306,0A2.7386127875258306,2.7386127875258306,0,1,1,2.7386127875258306,0\" fill=\"#4c78a8\" stroke-width=\"2\" opacity=\"0.7\"></path><path aria-label=\"x: -0.529134753158; y: 0.782641912922\" role=\"graphics-symbol\" aria-roledescription=\"circle\" transform=\"translate(84.16715764373018,130.43395217695462)\" d=\"M2.7386127875258306,0A2.7386127875258306,2.7386127875258306,0,1,1,-2.7386127875258306,0A2.7386127875258306,2.7386127875258306,0,1,1,2.7386127875258306,0\" fill=\"#4c78a8\" stroke-width=\"2\" opacity=\"0.7\"></path><path aria-label=\"x: 1.490856596; y: 3.45550015126\" role=\"graphics-symbol\" aria-roledescription=\"circle\" transform=\"translate(115.2439476308401,63.61249621841005)\" d=\"M2.7386127875258306,0A2.7386127875258306,2.7386127875258306,0,1,1,-2.7386127875258306,0A2.7386127875258306,2.7386127875258306,0,1,1,2.7386127875258306,0\" fill=\"#4c78a8\" stroke-width=\"2\" opacity=\"0.7\"></path><path aria-label=\"x: 0.496293886146; y: 1.96515494648\" role=\"graphics-symbol\" aria-roledescription=\"circle\" transform=\"translate(99.94298286378014,100.8711263381174)\" d=\"M2.7386127875258306,0A2.7386127875258306,2.7386127875258306,0,1,1,-2.7386127875258306,0A2.7386127875258306,2.7386127875258306,0,1,1,2.7386127875258306,0\" fill=\"#4c78a8\" stroke-width=\"2\" opacity=\"0.7\"></path><path aria-label=\"x: 3.04328905871; y: 3.60781071617\" role=\"graphics-symbol\" aria-roledescription=\"circle\" transform=\"translate(139.12752398020618,59.80473209564337)\" d=\"M2.7386127875258306,0A2.7386127875258306,2.7386127875258306,0,1,1,-2.7386127875258306,0A2.7386127875258306,2.7386127875258306,0,1,1,2.7386127875258306,0\" fill=\"#4c78a8\" stroke-width=\"2\" opacity=\"0.7\"></path><path aria-label=\"x: 0.428136176402; y: 0.810873698885\" role=\"graphics-symbol\" aria-roledescription=\"circle\" transform=\"translate(98.8944027138808,129.72815752787227)\" d=\"M2.7386127875258306,0A2.7386127875258306,2.7386127875258306,0,1,1,-2.7386127875258306,0A2.7386127875258306,2.7386127875258306,0,1,1,2.7386127875258306,0\" fill=\"#4c78a8\" stroke-width=\"2\" opacity=\"0.7\"></path><path aria-label=\"x: 2.69668882973; y: 3.57200063879\" role=\"graphics-symbol\" aria-roledescription=\"circle\" transform=\"translate(133.7952127650198,60.699984030140456)\" d=\"M2.7386127875258306,0A2.7386127875258306,2.7386127875258306,0,1,1,-2.7386127875258306,0A2.7386127875258306,2.7386127875258306,0,1,1,2.7386127875258306,0\" fill=\"#4c78a8\" stroke-width=\"2\" opacity=\"0.7\"></path><path aria-label=\"x: 2.69609385032; y: 3.94062842867\" role=\"graphics-symbol\" aria-roledescription=\"circle\" transform=\"translate(133.78605923562014,51.48428928321196)\" d=\"M2.7386127875258306,0A2.7386127875258306,2.7386127875258306,0,1,1,-2.7386127875258306,0A2.7386127875258306,2.7386127875258306,0,1,1,2.7386127875258306,0\" fill=\"#4c78a8\" stroke-width=\"2\" opacity=\"0.7\"></path><path aria-label=\"x: 1.44425342094; y: 2.92164040786\" role=\"graphics-symbol\" aria-roledescription=\"circle\" transform=\"translate(114.52697570676659,76.95898980361262)\" d=\"M2.7386127875258306,0A2.7386127875258306,2.7386127875258306,0,1,1,-2.7386127875258306,0A2.7386127875258306,2.7386127875258306,0,1,1,2.7386127875258306,0\" fill=\"#4c78a8\" stroke-width=\"2\" opacity=\"0.7\"></path><path aria-label=\"x: 0.0620109016952; y: -1.14157684521\" role=\"graphics-symbol\" aria-roledescription=\"circle\" transform=\"translate(93.26170617992653,178.5394211303382)\" d=\"M2.7386127875258306,0A2.7386127875258306,2.7386127875258306,0,1,1,-2.7386127875258306,0A2.7386127875258306,2.7386127875258306,0,1,1,2.7386127875258306,0\" fill=\"#4c78a8\" stroke-width=\"2\" opacity=\"0.7\"></path><path aria-label=\"x: 1.06724777979; y: 2.96748790192\" role=\"graphics-symbol\" aria-roledescription=\"circle\" transform=\"translate(108.72688891984316,75.81280245203186)\" d=\"M2.7386127875258306,0A2.7386127875258306,2.7386127875258306,0,1,1,-2.7386127875258306,0A2.7386127875258306,2.7386127875258306,0,1,1,2.7386127875258306,0\" fill=\"#4c78a8\" stroke-width=\"2\" opacity=\"0.7\"></path><path aria-label=\"x: 1.83553960613; y: 1.30770953069\" role=\"graphics-symbol\" aria-roledescription=\"circle\" transform=\"translate(120.54676317128738,117.3072617328165)\" d=\"M2.7386127875258306,0A2.7386127875258306,2.7386127875258306,0,1,1,-2.7386127875258306,0A2.7386127875258306,2.7386127875258306,0,1,1,2.7386127875258306,0\" fill=\"#4c78a8\" stroke-width=\"2\" opacity=\"0.7\"></path><path aria-label=\"x: 1.10576665702; y: 1.62476063683\" role=\"graphics-symbol\" aria-roledescription=\"circle\" transform=\"translate(109.31948703103309,109.3809840791297)\" d=\"M2.7386127875258306,0A2.7386127875258306,2.7386127875258306,0,1,1,-2.7386127875258306,0A2.7386127875258306,2.7386127875258306,0,1,1,2.7386127875258306,0\" fill=\"#4c78a8\" stroke-width=\"2\" opacity=\"0.7\"></path><path aria-label=\"x: 1.1801942123; y: 1.49331122986\" role=\"graphics-symbol\" aria-roledescription=\"circle\" transform=\"translate(110.4645263431272,112.66721925350345)\" d=\"M2.7386127875258306,0A2.7386127875258306,2.7386127875258306,0,1,1,-2.7386127875258306,0A2.7386127875258306,2.7386127875258306,0,1,1,2.7386127875258306,0\" fill=\"#4c78a8\" stroke-width=\"2\" opacity=\"0.7\"></path><path aria-label=\"x: -1.02969452472; y: 0.739865038421\" role=\"graphics-symbol\" aria-roledescription=\"circle\" transform=\"translate(76.46623808128422,131.5033740394788)\" d=\"M2.7386127875258306,0A2.7386127875258306,2.7386127875258306,0,1,1,-2.7386127875258306,0A2.7386127875258306,2.7386127875258306,0,1,1,2.7386127875258306,0\" fill=\"#4c78a8\" stroke-width=\"2\" opacity=\"0.7\"></path><path aria-label=\"x: 2.05944939907; y: 2.94874129947\" role=\"graphics-symbol\" aria-roledescription=\"circle\" transform=\"translate(123.99152921652603,76.2814675132768)\" d=\"M2.7386127875258306,0A2.7386127875258306,2.7386127875258306,0,1,1,-2.7386127875258306,0A2.7386127875258306,2.7386127875258306,0,1,1,2.7386127875258306,0\" fill=\"#4c78a8\" stroke-width=\"2\" opacity=\"0.7\"></path><path aria-label=\"x: 1.35382768365; y: 3.06841915034\" role=\"graphics-symbol\" aria-roledescription=\"circle\" transform=\"translate(113.13581051767083,73.28952124150807)\" d=\"M2.7386127875258306,0A2.7386127875258306,2.7386127875258306,0,1,1,-2.7386127875258306,0A2.7386127875258306,2.7386127875258306,0,1,1,2.7386127875258306,0\" fill=\"#4c78a8\" stroke-width=\"2\" opacity=\"0.7\"></path><path aria-label=\"x: 0.305777831234; y: 0.555896263063\" role=\"graphics-symbol\" aria-roledescription=\"circle\" transform=\"translate(97.0119666343639,136.1025934234342)\" d=\"M2.7386127875258306,0A2.7386127875258306,2.7386127875258306,0,1,1,-2.7386127875258306,0A2.7386127875258306,2.7386127875258306,0,1,1,2.7386127875258306,0\" fill=\"#4c78a8\" stroke-width=\"2\" opacity=\"0.7\"></path><path aria-label=\"x: 1.03768342864; y: 0.821913597883\" role=\"graphics-symbol\" aria-roledescription=\"circle\" transform=\"translate(108.2720527483624,129.45216005292522)\" d=\"M2.7386127875258306,0A2.7386127875258306,2.7386127875258306,0,1,1,-2.7386127875258306,0A2.7386127875258306,2.7386127875258306,0,1,1,2.7386127875258306,0\" fill=\"#4c78a8\" stroke-width=\"2\" opacity=\"0.7\"></path><path aria-label=\"x: -2.22795773244; y: -0.869733035167\" role=\"graphics-symbol\" aria-roledescription=\"circle\" transform=\"translate(58.03141950096033,171.74332587918354)\" d=\"M2.7386127875258306,0A2.7386127875258306,2.7386127875258306,0,1,1,-2.7386127875258306,0A2.7386127875258306,2.7386127875258306,0,1,1,2.7386127875258306,0\" fill=\"#4c78a8\" stroke-width=\"2\" opacity=\"0.7\"></path><path aria-label=\"x: 0.992972399866; y: 2.16567014503\" role=\"graphics-symbol\" aria-roledescription=\"circle\" transform=\"translate(107.5841907671639,95.85824637414117)\" d=\"M2.7386127875258306,0A2.7386127875258306,2.7386127875258306,0,1,1,-2.7386127875258306,0A2.7386127875258306,2.7386127875258306,0,1,1,2.7386127875258306,0\" fill=\"#4c78a8\" stroke-width=\"2\" opacity=\"0.7\"></path><path aria-label=\"x: -0.60484727402; y: 0.81305019942\" role=\"graphics-symbol\" aria-roledescription=\"circle\" transform=\"translate(83.00234963045503,129.6737450144881)\" d=\"M2.7386127875258306,0A2.7386127875258306,2.7386127875258306,0,1,1,-2.7386127875258306,0A2.7386127875258306,2.7386127875258306,0,1,1,2.7386127875258306,0\" fill=\"#4c78a8\" stroke-width=\"2\" opacity=\"0.7\"></path><path aria-label=\"x: -0.652981414895; y: 0.621765437391\" role=\"graphics-symbol\" aria-roledescription=\"circle\" transform=\"translate(82.26182438623127,134.45586406522102)\" d=\"M2.7386127875258306,0A2.7386127875258306,2.7386127875258306,0,1,1,-2.7386127875258306,0A2.7386127875258306,2.7386127875258306,0,1,1,2.7386127875258306,0\" fill=\"#4c78a8\" stroke-width=\"2\" opacity=\"0.7\"></path><path aria-label=\"x: -1.22374916987; y: 0.758682853485\" role=\"graphics-symbol\" aria-roledescription=\"circle\" transform=\"translate(73.48078200198007,131.03292866288558)\" d=\"M2.7386127875258306,0A2.7386127875258306,2.7386127875258306,0,1,1,-2.7386127875258306,0A2.7386127875258306,2.7386127875258306,0,1,1,2.7386127875258306,0\" fill=\"#4c78a8\" stroke-width=\"2\" opacity=\"0.7\"></path><path aria-label=\"x: 0.865836811861; y: 1.6498746944\" role=\"graphics-symbol\" aria-roledescription=\"circle\" transform=\"translate(105.62825864402143,108.75313263992497)\" d=\"M2.7386127875258306,0A2.7386127875258306,2.7386127875258306,0,1,1,-2.7386127875258306,0A2.7386127875258306,2.7386127875258306,0,1,1,2.7386127875258306,0\" fill=\"#4c78a8\" stroke-width=\"2\" opacity=\"0.7\"></path><path aria-label=\"x: -1.20443817764; y: -1.59359720277\" role=\"graphics-symbol\" aria-roledescription=\"circle\" transform=\"translate(73.77787419013906,189.83993006916623)\" d=\"M2.7386127875258306,0A2.7386127875258306,2.7386127875258306,0,1,1,-2.7386127875258306,0A2.7386127875258306,2.7386127875258306,0,1,1,2.7386127875258306,0\" fill=\"#4c78a8\" stroke-width=\"2\" opacity=\"0.7\"></path><path aria-label=\"x: 3.03198340091; y: 2.90029862319\" role=\"graphics-symbol\" aria-roledescription=\"circle\" transform=\"translate(138.95359078317244,77.49253442021428)\" d=\"M2.7386127875258306,0A2.7386127875258306,2.7386127875258306,0,1,1,-2.7386127875258306,0A2.7386127875258306,2.7386127875258306,0,1,1,2.7386127875258306,0\" fill=\"#4c78a8\" stroke-width=\"2\" opacity=\"0.7\"></path><path aria-label=\"x: 1.15065655678; y: 2.14655816814\" role=\"graphics-symbol\" aria-roledescription=\"circle\" transform=\"translate(110.01010087361006,96.3360457964679)\" d=\"M2.7386127875258306,0A2.7386127875258306,2.7386127875258306,0,1,1,-2.7386127875258306,0A2.7386127875258306,2.7386127875258306,0,1,1,2.7386127875258306,0\" fill=\"#4c78a8\" stroke-width=\"2\" opacity=\"0.7\"></path><path aria-label=\"x: -1.62176866845; y: -0.190593637551\" role=\"graphics-symbol\" aria-roledescription=\"circle\" transform=\"translate(67.35740510073602,154.76484093877815)\" d=\"M2.7386127875258306,0A2.7386127875258306,2.7386127875258306,0,1,1,-2.7386127875258306,0A2.7386127875258306,2.7386127875258306,0,1,1,2.7386127875258306,0\" fill=\"#4c78a8\" stroke-width=\"2\" opacity=\"0.7\"></path><path aria-label=\"x: -1.22371681248; y: 0.622047292669\" role=\"graphics-symbol\" aria-roledescription=\"circle\" transform=\"translate(73.48127980800369,134.44881768328534)\" d=\"M2.7386127875258306,0A2.7386127875258306,2.7386127875258306,0,1,1,-2.7386127875258306,0A2.7386127875258306,2.7386127875258306,0,1,1,2.7386127875258306,0\" fill=\"#4c78a8\" stroke-width=\"2\" opacity=\"0.7\"></path><path aria-label=\"x: 2.5964454168; y: 3.51391719907\" role=\"graphics-symbol\" aria-roledescription=\"circle\" transform=\"translate(132.25300641234836,62.15207002335412)\" d=\"M2.7386127875258306,0A2.7386127875258306,2.7386127875258306,0,1,1,-2.7386127875258306,0A2.7386127875258306,2.7386127875258306,0,1,1,2.7386127875258306,0\" fill=\"#4c78a8\" stroke-width=\"2\" opacity=\"0.7\"></path><path aria-label=\"x: 3.32451205331; y: 3.59151653796\" role=\"graphics-symbol\" aria-roledescription=\"circle\" transform=\"translate(143.45403158936574,60.21208655104901)\" d=\"M2.7386127875258306,0A2.7386127875258306,2.7386127875258306,0,1,1,-2.7386127875258306,0A2.7386127875258306,2.7386127875258306,0,1,1,2.7386127875258306,0\" fill=\"#4c78a8\" stroke-width=\"2\" opacity=\"0.7\"></path><path aria-label=\"x: 1.92408767028; y: 2.79172688794\" role=\"graphics-symbol\" aria-roledescription=\"circle\" transform=\"translate(121.90904108116021,80.20682780147507)\" d=\"M2.7386127875258306,0A2.7386127875258306,2.7386127875258306,0,1,1,-2.7386127875258306,0A2.7386127875258306,2.7386127875258306,0,1,1,2.7386127875258306,0\" fill=\"#4c78a8\" stroke-width=\"2\" opacity=\"0.7\"></path><path aria-label=\"x: 1.50615785043; y: 1.25971117174\" role=\"graphics-symbol\" aria-roledescription=\"circle\" transform=\"translate(115.47935154510749,118.50722070647583)\" d=\"M2.7386127875258306,0A2.7386127875258306,2.7386127875258306,0,1,1,-2.7386127875258306,0A2.7386127875258306,2.7386127875258306,0,1,1,2.7386127875258306,0\" fill=\"#4c78a8\" stroke-width=\"2\" opacity=\"0.7\"></path><path aria-label=\"x: 2.64773780301; y: 3.66044761289\" role=\"graphics-symbol\" aria-roledescription=\"circle\" transform=\"translate(133.04212004627894,58.48880967764871)\" d=\"M2.7386127875258306,0A2.7386127875258306,2.7386127875258306,0,1,1,-2.7386127875258306,0A2.7386127875258306,2.7386127875258306,0,1,1,2.7386127875258306,0\" fill=\"#4c78a8\" stroke-width=\"2\" opacity=\"0.7\"></path><path aria-label=\"x: -1.42628822094; y: 0.692334149102\" role=\"graphics-symbol\" aria-roledescription=\"circle\" transform=\"translate(70.36479660087174,132.69164627246076)\" d=\"M2.7386127875258306,0A2.7386127875258306,2.7386127875258306,0,1,1,-2.7386127875258306,0A2.7386127875258306,2.7386127875258306,0,1,1,2.7386127875258306,0\" fill=\"#4c78a8\" stroke-width=\"2\" opacity=\"0.7\"></path><path aria-label=\"x: 1.03737582554; y: 2.41166770267\" role=\"graphics-symbol\" aria-roledescription=\"circle\" transform=\"translate(108.26732039290067,89.7083074331262)\" d=\"M2.7386127875258306,0A2.7386127875258306,2.7386127875258306,0,1,1,-2.7386127875258306,0A2.7386127875258306,2.7386127875258306,0,1,1,2.7386127875258306,0\" fill=\"#4c78a8\" stroke-width=\"2\" opacity=\"0.7\"></path><path aria-label=\"x: -0.891439590472; y: -0.819591644099\" role=\"graphics-symbol\" aria-roledescription=\"circle\" transform=\"translate(78.59323706965388,170.48979110247882)\" d=\"M2.7386127875258306,0A2.7386127875258306,2.7386127875258306,0,1,1,-2.7386127875258306,0A2.7386127875258306,2.7386127875258306,0,1,1,2.7386127875258306,0\" fill=\"#4c78a8\" stroke-width=\"2\" opacity=\"0.7\"></path><path aria-label=\"x: 2.47843854552; y: 3.41365832367\" role=\"graphics-symbol\" aria-roledescription=\"circle\" transform=\"translate(130.43751608496135,64.65854190814335)\" d=\"M2.7386127875258306,0A2.7386127875258306,2.7386127875258306,0,1,1,-2.7386127875258306,0A2.7386127875258306,2.7386127875258306,0,1,1,2.7386127875258306,0\" fill=\"#4c78a8\" stroke-width=\"2\" opacity=\"0.7\"></path><path aria-label=\"x: 0.656531883509; y: 1.41420649518\" role=\"graphics-symbol\" aria-roledescription=\"circle\" transform=\"translate(102.40818282321547,114.64483762042248)\" d=\"M2.7386127875258306,0A2.7386127875258306,2.7386127875258306,0,1,1,-2.7386127875258306,0A2.7386127875258306,2.7386127875258306,0,1,1,2.7386127875258306,0\" fill=\"#4c78a8\" stroke-width=\"2\" opacity=\"0.7\"></path><path aria-label=\"x: 2.37815973594; y: 2.75245084008\" role=\"graphics-symbol\" aria-roledescription=\"circle\" transform=\"translate(128.89476516825331,81.1887289979313)\" d=\"M2.7386127875258306,0A2.7386127875258306,2.7386127875258306,0,1,1,-2.7386127875258306,0A2.7386127875258306,2.7386127875258306,0,1,1,2.7386127875258306,0\" fill=\"#4c78a8\" stroke-width=\"2\" opacity=\"0.7\"></path><path aria-label=\"x: -0.756026842653; y: 2.67135922462\" role=\"graphics-symbol\" aria-roledescription=\"circle\" transform=\"translate(80.67651011302442,83.21601938448997)\" d=\"M2.7386127875258306,0A2.7386127875258306,2.7386127875258306,0,1,1,-2.7386127875258306,0A2.7386127875258306,2.7386127875258306,0,1,1,2.7386127875258306,0\" fill=\"#4c78a8\" stroke-width=\"2\" opacity=\"0.7\"></path><path aria-label=\"x: -0.0331060152816; y: 1.77318409925\" role=\"graphics-symbol\" aria-roledescription=\"circle\" transform=\"translate(91.79836899566737,105.67039751871248)\" d=\"M2.7386127875258306,0A2.7386127875258306,2.7386127875258306,0,1,1,-2.7386127875258306,0A2.7386127875258306,2.7386127875258306,0,1,1,2.7386127875258306,0\" fill=\"#4c78a8\" stroke-width=\"2\" opacity=\"0.7\"></path><path aria-label=\"x: 2.69538368906; y: 3.28527295588\" role=\"graphics-symbol\" aria-roledescription=\"circle\" transform=\"translate(133.7751336777835,67.86817610303031)\" d=\"M2.7386127875258306,0A2.7386127875258306,2.7386127875258306,0,1,1,-2.7386127875258306,0A2.7386127875258306,2.7386127875258306,0,1,1,2.7386127875258306,0\" fill=\"#4c78a8\" stroke-width=\"2\" opacity=\"0.7\"></path><path aria-label=\"x: 1.96214546151; y: 2.05840613499\" role=\"graphics-symbol\" aria-roledescription=\"circle\" transform=\"translate(122.49454556170471,98.53984662533762)\" d=\"M2.7386127875258306,0A2.7386127875258306,2.7386127875258306,0,1,1,-2.7386127875258306,0A2.7386127875258306,2.7386127875258306,0,1,1,2.7386127875258306,0\" fill=\"#4c78a8\" stroke-width=\"2\" opacity=\"0.7\"></path><path aria-label=\"x: 0.633430784667; y: 2.25966614996\" role=\"graphics-symbol\" aria-roledescription=\"circle\" transform=\"translate(102.05278130256434,93.50834625098314)\" d=\"M2.7386127875258306,0A2.7386127875258306,2.7386127875258306,0,1,1,-2.7386127875258306,0A2.7386127875258306,2.7386127875258306,0,1,1,2.7386127875258306,0\" fill=\"#4c78a8\" stroke-width=\"2\" opacity=\"0.7\"></path><path aria-label=\"x: -0.327034488702; y: 1.61080142189\" role=\"graphics-symbol\" aria-roledescription=\"circle\" transform=\"translate(87.27639248150678,109.72996445284582)\" d=\"M2.7386127875258306,0A2.7386127875258306,2.7386127875258306,0,1,1,-2.7386127875258306,0A2.7386127875258306,2.7386127875258306,0,1,1,2.7386127875258306,0\" fill=\"#4c78a8\" stroke-width=\"2\" opacity=\"0.7\"></path><path aria-label=\"x: 1.06252969205; y: 3.41379372603\" role=\"graphics-symbol\" aria-roledescription=\"circle\" transform=\"translate(108.65430295459954,64.65515684918333)\" d=\"M2.7386127875258306,0A2.7386127875258306,2.7386127875258306,0,1,1,-2.7386127875258306,0A2.7386127875258306,2.7386127875258306,0,1,1,2.7386127875258306,0\" fill=\"#4c78a8\" stroke-width=\"2\" opacity=\"0.7\"></path><path aria-label=\"x: -0.122308558692; y: 1.38104670535\" role=\"graphics-symbol\" aria-roledescription=\"circle\" transform=\"translate(90.4260221739645,115.47383236626803)\" d=\"M2.7386127875258306,0A2.7386127875258306,2.7386127875258306,0,1,1,-2.7386127875258306,0A2.7386127875258306,2.7386127875258306,0,1,1,2.7386127875258306,0\" fill=\"#4c78a8\" stroke-width=\"2\" opacity=\"0.7\"></path><path aria-label=\"x: -0.0320133688426; y: 1.42695137327\" role=\"graphics-symbol\" aria-roledescription=\"circle\" transform=\"translate(91.81517894088252,114.3262156682081)\" d=\"M2.7386127875258306,0A2.7386127875258306,2.7386127875258306,0,1,1,-2.7386127875258306,0A2.7386127875258306,2.7386127875258306,0,1,1,2.7386127875258306,0\" fill=\"#4c78a8\" stroke-width=\"2\" opacity=\"0.7\"></path><path aria-label=\"x: -1.48576853579; y: 0.133759176647\" role=\"graphics-symbol\" aria-roledescription=\"circle\" transform=\"translate(69.44971483399426,146.6560205838128)\" d=\"M2.7386127875258306,0A2.7386127875258306,2.7386127875258306,0,1,1,-2.7386127875258306,0A2.7386127875258306,2.7386127875258306,0,1,1,2.7386127875258306,0\" fill=\"#4c78a8\" stroke-width=\"2\" opacity=\"0.7\"></path><path aria-label=\"x: 3.48648669583; y: 3.36063276155\" role=\"graphics-symbol\" aria-roledescription=\"circle\" transform=\"translate(145.9459491666729,65.98418096119529)\" d=\"M2.7386127875258306,0A2.7386127875258306,2.7386127875258306,0,1,1,-2.7386127875258306,0A2.7386127875258306,2.7386127875258306,0,1,1,2.7386127875258306,0\" fill=\"#4c78a8\" stroke-width=\"2\" opacity=\"0.7\"></path><path aria-label=\"x: 3.14068242638; y: 3.46916158193\" role=\"graphics-symbol\" aria-roledescription=\"circle\" transform=\"translate(140.62588348272104,63.27096045178144)\" d=\"M2.7386127875258306,0A2.7386127875258306,2.7386127875258306,0,1,1,-2.7386127875258306,0A2.7386127875258306,2.7386127875258306,0,1,1,2.7386127875258306,0\" fill=\"#4c78a8\" stroke-width=\"2\" opacity=\"0.7\"></path><path aria-label=\"x: 1.47212661738; y: 0.92120021086\" role=\"graphics-symbol\" aria-roledescription=\"circle\" transform=\"translate(114.95579411348614,126.96999472848773)\" d=\"M2.7386127875258306,0A2.7386127875258306,2.7386127875258306,0,1,1,-2.7386127875258306,0A2.7386127875258306,2.7386127875258306,0,1,1,2.7386127875258306,0\" fill=\"#4c78a8\" stroke-width=\"2\" opacity=\"0.7\"></path><path aria-label=\"x: 1.9448039842; y: 2.42411171295\" role=\"graphics-symbol\" aria-roledescription=\"circle\" transform=\"translate(122.22775360311584,89.39720717616875)\" d=\"M2.7386127875258306,0A2.7386127875258306,2.7386127875258306,0,1,1,-2.7386127875258306,0A2.7386127875258306,2.7386127875258306,0,1,1,2.7386127875258306,0\" fill=\"#4c78a8\" stroke-width=\"2\" opacity=\"0.7\"></path><path aria-label=\"x: 6.52086887788; y: 3.24374119064\" role=\"graphics-symbol\" aria-roledescription=\"circle\" transform=\"translate(192.62875196737463,68.90647023404888)\" d=\"M2.7386127875258306,0A2.7386127875258306,2.7386127875258306,0,1,1,-2.7386127875258306,0A2.7386127875258306,2.7386127875258306,0,1,1,2.7386127875258306,0\" fill=\"#4c78a8\" stroke-width=\"2\" opacity=\"0.7\"></path><path aria-label=\"x: 0.129381126746; y: 1.34840629193\" role=\"graphics-symbol\" aria-roledescription=\"circle\" transform=\"translate(94.29817118070348,116.28984270176237)\" d=\"M2.7386127875258306,0A2.7386127875258306,2.7386127875258306,0,1,1,-2.7386127875258306,0A2.7386127875258306,2.7386127875258306,0,1,1,2.7386127875258306,0\" fill=\"#4c78a8\" stroke-width=\"2\" opacity=\"0.7\"></path><path aria-label=\"x: 2.87317508605; y: 2.4175294418\" role=\"graphics-symbol\" aria-roledescription=\"circle\" transform=\"translate(136.51038593919057,89.56176395497826)\" d=\"M2.7386127875258306,0A2.7386127875258306,2.7386127875258306,0,1,1,-2.7386127875258306,0A2.7386127875258306,2.7386127875258306,0,1,1,2.7386127875258306,0\" fill=\"#4c78a8\" stroke-width=\"2\" opacity=\"0.7\"></path><path aria-label=\"x: 2.92758816789; y: 3.45042823348\" role=\"graphics-symbol\" aria-roledescription=\"circle\" transform=\"translate(137.347510275301,63.73929416294839)\" d=\"M2.7386127875258306,0A2.7386127875258306,2.7386127875258306,0,1,1,-2.7386127875258306,0A2.7386127875258306,2.7386127875258306,0,1,1,2.7386127875258306,0\" fill=\"#4c78a8\" stroke-width=\"2\" opacity=\"0.7\"></path><path aria-label=\"x: 0.814728283432; y: 2.90105939756\" role=\"graphics-symbol\" aria-roledescription=\"circle\" transform=\"translate(104.8419735912615,77.47351506101796)\" d=\"M2.7386127875258306,0A2.7386127875258306,2.7386127875258306,0,1,1,-2.7386127875258306,0A2.7386127875258306,2.7386127875258306,0,1,1,2.7386127875258306,0\" fill=\"#4c78a8\" stroke-width=\"2\" opacity=\"0.7\"></path><path aria-label=\"x: 2.5806104166; y: 1.73208785049\" role=\"graphics-symbol\" aria-roledescription=\"circle\" transform=\"translate(132.0093910246801,106.69780373778556)\" d=\"M2.7386127875258306,0A2.7386127875258306,2.7386127875258306,0,1,1,-2.7386127875258306,0A2.7386127875258306,2.7386127875258306,0,1,1,2.7386127875258306,0\" fill=\"#4c78a8\" stroke-width=\"2\" opacity=\"0.7\"></path><path aria-label=\"x: 1.27412154383; y: 1.66743367895\" role=\"graphics-symbol\" aria-roledescription=\"circle\" transform=\"translate(111.90956221282507,108.3141580262922)\" d=\"M2.7386127875258306,0A2.7386127875258306,2.7386127875258306,0,1,1,-2.7386127875258306,0A2.7386127875258306,2.7386127875258306,0,1,1,2.7386127875258306,0\" fill=\"#4c78a8\" stroke-width=\"2\" opacity=\"0.7\"></path><path aria-label=\"x: -0.936972877094; y: 1.00737579935\" role=\"graphics-symbol\" aria-roledescription=\"circle\" transform=\"translate(77.89272496778597,124.81560501618038)\" d=\"M2.7386127875258306,0A2.7386127875258306,2.7386127875258306,0,1,1,-2.7386127875258306,0A2.7386127875258306,2.7386127875258306,0,1,1,2.7386127875258306,0\" fill=\"#4c78a8\" stroke-width=\"2\" opacity=\"0.7\"></path><path aria-label=\"x: -0.207556798778; y: 1.6650802796\" role=\"graphics-symbol\" aria-roledescription=\"circle\" transform=\"translate(89.11451078802473,108.37299300995838)\" d=\"M2.7386127875258306,0A2.7386127875258306,2.7386127875258306,0,1,1,-2.7386127875258306,0A2.7386127875258306,2.7386127875258306,0,1,1,2.7386127875258306,0\" fill=\"#4c78a8\" stroke-width=\"2\" opacity=\"0.7\"></path><path aria-label=\"x: -0.678885646668; y: 1.04573106153\" role=\"graphics-symbol\" aria-roledescription=\"circle\" transform=\"translate(81.86329774356712,123.85672346177414)\" d=\"M2.7386127875258306,0A2.7386127875258306,2.7386127875258306,0,1,1,-2.7386127875258306,0A2.7386127875258306,2.7386127875258306,0,1,1,2.7386127875258306,0\" fill=\"#4c78a8\" stroke-width=\"2\" opacity=\"0.7\"></path><path aria-label=\"x: -1.43463764793; y: 0.835772607172\" role=\"graphics-symbol\" aria-roledescription=\"circle\" transform=\"translate(70.23634387793987,129.10568482070107)\" d=\"M2.7386127875258306,0A2.7386127875258306,2.7386127875258306,0,1,1,-2.7386127875258306,0A2.7386127875258306,2.7386127875258306,0,1,1,2.7386127875258306,0\" fill=\"#4c78a8\" stroke-width=\"2\" opacity=\"0.7\"></path><path aria-label=\"x: 1.96457007889; y: 2.50911199549\" role=\"graphics-symbol\" aria-roledescription=\"circle\" transform=\"translate(122.53184736752733,87.2722001127855)\" d=\"M2.7386127875258306,0A2.7386127875258306,2.7386127875258306,0,1,1,-2.7386127875258306,0A2.7386127875258306,2.7386127875258306,0,1,1,2.7386127875258306,0\" fill=\"#4c78a8\" stroke-width=\"2\" opacity=\"0.7\"></path><path aria-label=\"x: 0.25748865223; y: 2.87822605246\" role=\"graphics-symbol\" aria-roledescription=\"circle\" transform=\"translate(96.26905618815121,78.04434868845706)\" d=\"M2.7386127875258306,0A2.7386127875258306,2.7386127875258306,0,1,1,-2.7386127875258306,0A2.7386127875258306,2.7386127875258306,0,1,1,2.7386127875258306,0\" fill=\"#4c78a8\" stroke-width=\"2\" opacity=\"0.7\"></path><path aria-label=\"x: 2.03177464485; y: 4.36638417936\" role=\"graphics-symbol\" aria-roledescription=\"circle\" transform=\"translate(123.56576376690793,40.84039551592076)\" d=\"M2.7386127875258306,0A2.7386127875258306,2.7386127875258306,0,1,1,-2.7386127875258306,0A2.7386127875258306,2.7386127875258306,0,1,1,2.7386127875258306,0\" fill=\"#4c78a8\" stroke-width=\"2\" opacity=\"0.7\"></path><path aria-label=\"x: 1.1239854693; y: 1.21468486318\" role=\"graphics-symbol\" aria-roledescription=\"circle\" transform=\"translate(109.59977645076194,119.63287842061285)\" d=\"M2.7386127875258306,0A2.7386127875258306,2.7386127875258306,0,1,1,-2.7386127875258306,0A2.7386127875258306,2.7386127875258306,0,1,1,2.7386127875258306,0\" fill=\"#4c78a8\" stroke-width=\"2\" opacity=\"0.7\"></path><path aria-label=\"x: 1.22950509843; y: 2.66604088191\" role=\"graphics-symbol\" aria-roledescription=\"circle\" transform=\"translate(111.22315536044252,83.34897795231603)\" d=\"M2.7386127875258306,0A2.7386127875258306,2.7386127875258306,0,1,1,-2.7386127875258306,0A2.7386127875258306,2.7386127875258306,0,1,1,2.7386127875258306,0\" fill=\"#4c78a8\" stroke-width=\"2\" opacity=\"0.7\"></path><path aria-label=\"x: -2.33632568545; y: 0.246066167287\" role=\"graphics-symbol\" aria-roledescription=\"circle\" transform=\"translate(56.36422022380653,143.8483458178208)\" d=\"M2.7386127875258306,0A2.7386127875258306,2.7386127875258306,0,1,1,-2.7386127875258306,0A2.7386127875258306,2.7386127875258306,0,1,1,2.7386127875258306,0\" fill=\"#4c78a8\" stroke-width=\"2\" opacity=\"0.7\"></path><path aria-label=\"x: 0.557301972175; y: 0.542586007575\" role=\"graphics-symbol\" aria-roledescription=\"circle\" transform=\"translate(100.88156880268757,136.43534981063368)\" d=\"M2.7386127875258306,0A2.7386127875258306,2.7386127875258306,0,1,1,-2.7386127875258306,0A2.7386127875258306,2.7386127875258306,0,1,1,2.7386127875258306,0\" fill=\"#4c78a8\" stroke-width=\"2\" opacity=\"0.7\"></path><path aria-label=\"x: 3.71948215354; y: 5.52649871995\" role=\"graphics-symbol\" aria-roledescription=\"circle\" transform=\"translate(149.53049466989134,11.83753200122666)\" d=\"M2.7386127875258306,0A2.7386127875258306,2.7386127875258306,0,1,1,-2.7386127875258306,0A2.7386127875258306,2.7386127875258306,0,1,1,2.7386127875258306,0\" fill=\"#4c78a8\" stroke-width=\"2\" opacity=\"0.7\"></path><path aria-label=\"x: 0.842154676907; y: 2.74245433012\" role=\"graphics-symbol\" aria-roledescription=\"circle\" transform=\"translate(105.2639181062547,81.43864174705753)\" d=\"M2.7386127875258306,0A2.7386127875258306,2.7386127875258306,0,1,1,-2.7386127875258306,0A2.7386127875258306,2.7386127875258306,0,1,1,2.7386127875258306,0\" fill=\"#4c78a8\" stroke-width=\"2\" opacity=\"0.7\"></path><path aria-label=\"x: -1.07901932841; y: -0.0051912241931\" role=\"graphics-symbol\" aria-roledescription=\"circle\" transform=\"translate(75.70739494755834,150.12978060482743)\" d=\"M2.7386127875258306,0A2.7386127875258306,2.7386127875258306,0,1,1,-2.7386127875258306,0A2.7386127875258306,2.7386127875258306,0,1,1,2.7386127875258306,0\" fill=\"#4c78a8\" stroke-width=\"2\" opacity=\"0.7\"></path><path aria-label=\"x: -0.122071193099; y: 2.07250154118\" role=\"graphics-symbol\" aria-roledescription=\"circle\" transform=\"translate(90.4296739523193,98.18746147052089)\" d=\"M2.7386127875258306,0A2.7386127875258306,2.7386127875258306,0,1,1,-2.7386127875258306,0A2.7386127875258306,2.7386127875258306,0,1,1,2.7386127875258306,0\" fill=\"#4c78a8\" stroke-width=\"2\" opacity=\"0.7\"></path><path aria-label=\"x: 2.23295393237; y: 2.98032026441\" role=\"graphics-symbol\" aria-roledescription=\"circle\" transform=\"translate(126.6608297288381,75.49199338980492)\" d=\"M2.7386127875258306,0A2.7386127875258306,2.7386127875258306,0,1,1,-2.7386127875258306,0A2.7386127875258306,2.7386127875258306,0,1,1,2.7386127875258306,0\" fill=\"#4c78a8\" stroke-width=\"2\" opacity=\"0.7\"></path><path aria-label=\"x: 0.79852898591; y: 2.46713688854\" role=\"graphics-symbol\" aria-roledescription=\"circle\" transform=\"translate(104.59275362937943,88.321577786389)\" d=\"M2.7386127875258306,0A2.7386127875258306,2.7386127875258306,0,1,1,-2.7386127875258306,0A2.7386127875258306,2.7386127875258306,0,1,1,2.7386127875258306,0\" fill=\"#4c78a8\" stroke-width=\"2\" opacity=\"0.7\"></path><path aria-label=\"x: 0.744570994072; y: 2.3610009593\" role=\"graphics-symbol\" aria-roledescription=\"circle\" transform=\"translate(103.76263067803038,90.97497601757418)\" d=\"M2.7386127875258306,0A2.7386127875258306,2.7386127875258306,0,1,1,-2.7386127875258306,0A2.7386127875258306,2.7386127875258306,0,1,1,2.7386127875258306,0\" fill=\"#4c78a8\" stroke-width=\"2\" opacity=\"0.7\"></path><path aria-label=\"x: -0.0687691556184; y: -1.04157800983\" role=\"graphics-symbol\" aria-roledescription=\"circle\" transform=\"translate(91.24970529817816,176.03945024577476)\" d=\"M2.7386127875258306,0A2.7386127875258306,2.7386127875258306,0,1,1,-2.7386127875258306,0A2.7386127875258306,2.7386127875258306,0,1,1,2.7386127875258306,0\" fill=\"#4c78a8\" stroke-width=\"2\" opacity=\"0.7\"></path><path aria-label=\"x: -1.71172760087; y: 0.669312246683\" role=\"graphics-symbol\" aria-roledescription=\"circle\" transform=\"translate(65.97342152507206,133.26719383293414)\" d=\"M2.7386127875258306,0A2.7386127875258306,2.7386127875258306,0,1,1,-2.7386127875258306,0A2.7386127875258306,2.7386127875258306,0,1,1,2.7386127875258306,0\" fill=\"#4c78a8\" stroke-width=\"2\" opacity=\"0.7\"></path><path aria-label=\"x: -2.08610889848; y: -0.292253884292\" role=\"graphics-symbol\" aria-roledescription=\"circle\" transform=\"translate(60.21370925419024,157.30634710729552)\" d=\"M2.7386127875258306,0A2.7386127875258306,2.7386127875258306,0,1,1,-2.7386127875258306,0A2.7386127875258306,2.7386127875258306,0,1,1,2.7386127875258306,0\" fill=\"#4c78a8\" stroke-width=\"2\" opacity=\"0.7\"></path><path aria-label=\"x: -0.989764004831; y: -0.999798942119\" role=\"graphics-symbol\" aria-roledescription=\"circle\" transform=\"translate(77.08055377183598,174.9949735529699)\" d=\"M2.7386127875258306,0A2.7386127875258306,2.7386127875258306,0,1,1,-2.7386127875258306,0A2.7386127875258306,2.7386127875258306,0,1,1,2.7386127875258306,0\" fill=\"#4c78a8\" stroke-width=\"2\" opacity=\"0.7\"></path><path aria-label=\"x: -0.212804887794; y: 0.451053657912\" role=\"graphics-symbol\" aria-roledescription=\"circle\" transform=\"translate(89.03377095701134,138.72365855219746)\" d=\"M2.7386127875258306,0A2.7386127875258306,2.7386127875258306,0,1,1,-2.7386127875258306,0A2.7386127875258306,2.7386127875258306,0,1,1,2.7386127875258306,0\" fill=\"#4c78a8\" stroke-width=\"2\" opacity=\"0.7\"></path><path aria-label=\"x: 0.667761813982; y: 3.15020016868\" role=\"graphics-symbol\" aria-roledescription=\"circle\" transform=\"translate(102.58095098434472,71.24499578291004)\" d=\"M2.7386127875258306,0A2.7386127875258306,2.7386127875258306,0,1,1,-2.7386127875258306,0A2.7386127875258306,2.7386127875258306,0,1,1,2.7386127875258306,0\" fill=\"#4c78a8\" stroke-width=\"2\" opacity=\"0.7\"></path><path aria-label=\"x: 1.17910314545; y: 0.873977681558\" role=\"graphics-symbol\" aria-roledescription=\"circle\" transform=\"translate(110.44774069917791,128.15055796104556)\" d=\"M2.7386127875258306,0A2.7386127875258306,2.7386127875258306,0,1,1,-2.7386127875258306,0A2.7386127875258306,2.7386127875258306,0,1,1,2.7386127875258306,0\" fill=\"#4c78a8\" stroke-width=\"2\" opacity=\"0.7\"></path><path aria-label=\"x: -0.519192486577; y: 0.605291905002\" role=\"graphics-symbol\" aria-roledescription=\"circle\" transform=\"translate(84.32011559112156,134.8677023749444)\" d=\"M2.7386127875258306,0A2.7386127875258306,2.7386127875258306,0,1,1,-2.7386127875258306,0A2.7386127875258306,2.7386127875258306,0,1,1,2.7386127875258306,0\" fill=\"#4c78a8\" stroke-width=\"2\" opacity=\"0.7\"></path><path aria-label=\"x: 1.26170492355; y: 3.68254175747\" role=\"graphics-symbol\" aria-roledescription=\"circle\" transform=\"translate(111.71853728537901,57.93645606337494)\" d=\"M2.7386127875258306,0A2.7386127875258306,2.7386127875258306,0,1,1,-2.7386127875258306,0A2.7386127875258306,2.7386127875258306,0,1,1,2.7386127875258306,0\" fill=\"#4c78a8\" stroke-width=\"2\" opacity=\"0.7\"></path><path aria-label=\"x: 1.18204340732; y: 2.55952034959\" role=\"graphics-symbol\" aria-roledescription=\"circle\" transform=\"translate(110.49297549718628,86.01199126030448)\" d=\"M2.7386127875258306,0A2.7386127875258306,2.7386127875258306,0,1,1,-2.7386127875258306,0A2.7386127875258306,2.7386127875258306,0,1,1,2.7386127875258306,0\" fill=\"#4c78a8\" stroke-width=\"2\" opacity=\"0.7\"></path><path aria-label=\"x: -0.991346351991; y: -0.687420962077\" role=\"graphics-symbol\" aria-roledescription=\"circle\" transform=\"translate(77.05620996937026,167.18552405193154)\" d=\"M2.7386127875258306,0A2.7386127875258306,2.7386127875258306,0,1,1,-2.7386127875258306,0A2.7386127875258306,2.7386127875258306,0,1,1,2.7386127875258306,0\" fill=\"#4c78a8\" stroke-width=\"2\" opacity=\"0.7\"></path><path aria-label=\"x: 3.39239747402; y: 1.51010256597\" role=\"graphics-symbol\" aria-roledescription=\"circle\" transform=\"translate(144.49842267729773,112.24743585074486)\" d=\"M2.7386127875258306,0A2.7386127875258306,2.7386127875258306,0,1,1,-2.7386127875258306,0A2.7386127875258306,2.7386127875258306,0,1,1,2.7386127875258306,0\" fill=\"#4c78a8\" stroke-width=\"2\" opacity=\"0.7\"></path><path aria-label=\"x: -1.06057945552; y: 1.53516744578\" role=\"graphics-symbol\" aria-roledescription=\"circle\" transform=\"translate(75.99108529972636,111.62081385552929)\" d=\"M2.7386127875258306,0A2.7386127875258306,2.7386127875258306,0,1,1,-2.7386127875258306,0A2.7386127875258306,2.7386127875258306,0,1,1,2.7386127875258306,0\" fill=\"#4c78a8\" stroke-width=\"2\" opacity=\"0.7\"></path><path aria-label=\"x: 2.62120751538; y: 3.1708994859\" role=\"graphics-symbol\" aria-roledescription=\"circle\" transform=\"translate(132.63396177502923,70.72751285246079)\" d=\"M2.7386127875258306,0A2.7386127875258306,2.7386127875258306,0,1,1,-2.7386127875258306,0A2.7386127875258306,2.7386127875258306,0,1,1,2.7386127875258306,0\" fill=\"#4c78a8\" stroke-width=\"2\" opacity=\"0.7\"></path><path aria-label=\"x: -2.40508723503; y: 0.262559585363\" role=\"graphics-symbol\" aria-roledescription=\"circle\" transform=\"translate(55.30635023026416,143.43601036593236)\" d=\"M2.7386127875258306,0A2.7386127875258306,2.7386127875258306,0,1,1,-2.7386127875258306,0A2.7386127875258306,2.7386127875258306,0,1,1,2.7386127875258306,0\" fill=\"#4c78a8\" stroke-width=\"2\" opacity=\"0.7\"></path><path aria-label=\"x: 3.60665368401; y: 2.28615232042\" role=\"graphics-symbol\" aria-roledescription=\"circle\" transform=\"translate(147.79467206163716,92.84619198946966)\" d=\"M2.7386127875258306,0A2.7386127875258306,2.7386127875258306,0,1,1,-2.7386127875258306,0A2.7386127875258306,2.7386127875258306,0,1,1,2.7386127875258306,0\" fill=\"#4c78a8\" stroke-width=\"2\" opacity=\"0.7\"></path><path aria-label=\"x: 0.880538106441; y: 2.47641645157\" role=\"graphics-symbol\" aria-roledescription=\"circle\" transform=\"translate(105.85443240679035,88.08958871073082)\" d=\"M2.7386127875258306,0A2.7386127875258306,2.7386127875258306,0,1,1,-2.7386127875258306,0A2.7386127875258306,2.7386127875258306,0,1,1,2.7386127875258306,0\" fill=\"#4c78a8\" stroke-width=\"2\" opacity=\"0.7\"></path><path aria-label=\"x: 3.23289549713; y: 1.93239672949\" role=\"graphics-symbol\" aria-roledescription=\"circle\" transform=\"translate(142.04454610961847,101.69008176279965)\" d=\"M2.7386127875258306,0A2.7386127875258306,2.7386127875258306,0,1,1,-2.7386127875258306,0A2.7386127875258306,2.7386127875258306,0,1,1,2.7386127875258306,0\" fill=\"#4c78a8\" stroke-width=\"2\" opacity=\"0.7\"></path><path aria-label=\"x: -3.2463805732; y: -1.47341765751\" role=\"graphics-symbol\" aria-roledescription=\"circle\" transform=\"translate(42.36337579688287,186.8354414378309)\" d=\"M2.7386127875258306,0A2.7386127875258306,2.7386127875258306,0,1,1,-2.7386127875258306,0A2.7386127875258306,2.7386127875258306,0,1,1,2.7386127875258306,0\" fill=\"#4c78a8\" stroke-width=\"2\" opacity=\"0.7\"></path><path aria-label=\"x: 2.32796286025; y: 4.42527992289\" role=\"graphics-symbol\" aria-roledescription=\"circle\" transform=\"translate(128.12250554233617,39.36800192780736)\" d=\"M2.7386127875258306,0A2.7386127875258306,2.7386127875258306,0,1,1,-2.7386127875258306,0A2.7386127875258306,2.7386127875258306,0,1,1,2.7386127875258306,0\" fill=\"#4c78a8\" stroke-width=\"2\" opacity=\"0.7\"></path><path aria-label=\"x: 5.22476604853; y: 4.78634906129\" role=\"graphics-symbol\" aria-roledescription=\"circle\" transform=\"translate(172.68870843892125,30.341273467847742)\" d=\"M2.7386127875258306,0A2.7386127875258306,2.7386127875258306,0,1,1,-2.7386127875258306,0A2.7386127875258306,2.7386127875258306,0,1,1,2.7386127875258306,0\" fill=\"#4c78a8\" stroke-width=\"2\" opacity=\"0.7\"></path><path aria-label=\"x: 2.84890334512; y: 3.67485845859\" role=\"graphics-symbol\" aria-roledescription=\"circle\" transform=\"translate(136.1369745402549,58.128538535170904)\" d=\"M2.7386127875258306,0A2.7386127875258306,2.7386127875258306,0,1,1,-2.7386127875258306,0A2.7386127875258306,2.7386127875258306,0,1,1,2.7386127875258306,0\" fill=\"#4c78a8\" stroke-width=\"2\" opacity=\"0.7\"></path><path aria-label=\"x: 0.151044995829; y: -0.398938370109\" role=\"graphics-symbol\" aria-roledescription=\"circle\" transform=\"translate(94.63146147429812,159.97345925272856)\" d=\"M2.7386127875258306,0A2.7386127875258306,2.7386127875258306,0,1,1,-2.7386127875258306,0A2.7386127875258306,2.7386127875258306,0,1,1,2.7386127875258306,0\" fill=\"#4c78a8\" stroke-width=\"2\" opacity=\"0.7\"></path><path aria-label=\"x: 0.953461912755; y: 2.31075750328\" role=\"graphics-symbol\" aria-roledescription=\"circle\" transform=\"translate(106.97633711931456,92.23106241800862)\" d=\"M2.7386127875258306,0A2.7386127875258306,2.7386127875258306,0,1,1,-2.7386127875258306,0A2.7386127875258306,2.7386127875258306,0,1,1,2.7386127875258306,0\" fill=\"#4c78a8\" stroke-width=\"2\" opacity=\"0.7\"></path><path aria-label=\"x: 3.43342137002; y: 4.65872457096\" role=\"graphics-symbol\" aria-roledescription=\"circle\" transform=\"translate(145.1295595388339,33.53188572599266)\" d=\"M2.7386127875258306,0A2.7386127875258306,2.7386127875258306,0,1,1,-2.7386127875258306,0A2.7386127875258306,2.7386127875258306,0,1,1,2.7386127875258306,0\" fill=\"#4c78a8\" stroke-width=\"2\" opacity=\"0.7\"></path><path aria-label=\"x: 1.05501836335; y: 2.15634929566\" role=\"graphics-symbol\" aria-roledescription=\"circle\" transform=\"translate(108.53874405157677,96.09126760861346)\" d=\"M2.7386127875258306,0A2.7386127875258306,2.7386127875258306,0,1,1,-2.7386127875258306,0A2.7386127875258306,2.7386127875258306,0,1,1,2.7386127875258306,0\" fill=\"#4c78a8\" stroke-width=\"2\" opacity=\"0.7\"></path><path aria-label=\"x: 0.700915297764; y: 2.21012161303\" role=\"graphics-symbol\" aria-roledescription=\"circle\" transform=\"translate(103.09100458098752,94.74695967414443)\" d=\"M2.7386127875258306,0A2.7386127875258306,2.7386127875258306,0,1,1,-2.7386127875258306,0A2.7386127875258306,2.7386127875258306,0,1,1,2.7386127875258306,0\" fill=\"#4c78a8\" stroke-width=\"2\" opacity=\"0.7\"></path><path aria-label=\"x: 0.3716212003; y: 2.91064024091\" role=\"graphics-symbol\" aria-roledescription=\"circle\" transform=\"translate(98.02494154307844,77.2339939772781)\" d=\"M2.7386127875258306,0A2.7386127875258306,2.7386127875258306,0,1,1,-2.7386127875258306,0A2.7386127875258306,2.7386127875258306,0,1,1,2.7386127875258306,0\" fill=\"#4c78a8\" stroke-width=\"2\" opacity=\"0.7\"></path><path aria-label=\"x: 0.147518091154; y: 1.92571079075\" role=\"graphics-symbol\" aria-roledescription=\"circle\" transform=\"translate(94.57720140236586,101.85723023117046)\" d=\"M2.7386127875258306,0A2.7386127875258306,2.7386127875258306,0,1,1,-2.7386127875258306,0A2.7386127875258306,2.7386127875258306,0,1,1,2.7386127875258306,0\" fill=\"#4c78a8\" stroke-width=\"2\" opacity=\"0.7\"></path><path aria-label=\"x: -1.35430845597; y: 0.788641995573\" role=\"graphics-symbol\" aria-roledescription=\"circle\" transform=\"translate(71.47217760042265,130.2839501106862)\" d=\"M2.7386127875258306,0A2.7386127875258306,2.7386127875258306,0,1,1,-2.7386127875258306,0A2.7386127875258306,2.7386127875258306,0,1,1,2.7386127875258306,0\" fill=\"#4c78a8\" stroke-width=\"2\" opacity=\"0.7\"></path><path aria-label=\"x: 1.94555074392; y: 2.68580825561\" role=\"graphics-symbol\" aria-roledescription=\"circle\" transform=\"translate(122.23924221410827,82.8547936097828)\" d=\"M2.7386127875258306,0A2.7386127875258306,2.7386127875258306,0,1,1,-2.7386127875258306,0A2.7386127875258306,2.7386127875258306,0,1,1,2.7386127875258306,0\" fill=\"#4c78a8\" stroke-width=\"2\" opacity=\"0.7\"></path><path aria-label=\"x: 3.62934619131; y: 4.92485661133\" role=\"graphics-symbol\" aria-roledescription=\"circle\" transform=\"translate(148.14378755864809,26.878584716799956)\" d=\"M2.7386127875258306,0A2.7386127875258306,2.7386127875258306,0,1,1,-2.7386127875258306,0A2.7386127875258306,2.7386127875258306,0,1,1,2.7386127875258306,0\" fill=\"#4c78a8\" stroke-width=\"2\" opacity=\"0.7\"></path><path aria-label=\"x: 1.66353747328; y: 1.56959683245\" role=\"graphics-symbol\" aria-roledescription=\"circle\" transform=\"translate(117.90057651194026,110.76007918866591)\" d=\"M2.7386127875258306,0A2.7386127875258306,2.7386127875258306,0,1,1,-2.7386127875258306,0A2.7386127875258306,2.7386127875258306,0,1,1,2.7386127875258306,0\" fill=\"#4c78a8\" stroke-width=\"2\" opacity=\"0.7\"></path><path aria-label=\"x: 0.294987617656; y: 2.81207750795\" role=\"graphics-symbol\" aria-roledescription=\"circle\" transform=\"translate(96.8459633485549,79.69806230135336)\" d=\"M2.7386127875258306,0A2.7386127875258306,2.7386127875258306,0,1,1,-2.7386127875258306,0A2.7386127875258306,2.7386127875258306,0,1,1,2.7386127875258306,0\" fill=\"#4c78a8\" stroke-width=\"2\" opacity=\"0.7\"></path><path aria-label=\"x: -5.11462095977; y: -0.742461599344\" role=\"graphics-symbol\" aria-roledescription=\"circle\" transform=\"translate(13.621216003475936,168.56153998358917)\" d=\"M2.7386127875258306,0A2.7386127875258306,2.7386127875258306,0,1,1,-2.7386127875258306,0A2.7386127875258306,2.7386127875258306,0,1,1,2.7386127875258306,0\" fill=\"#4c78a8\" stroke-width=\"2\" opacity=\"0.7\"></path><path aria-label=\"x: 1.32353166011; y: 1.50768392207\" role=\"graphics-symbol\" aria-roledescription=\"circle\" transform=\"translate(112.6697178478739,112.30790194813571)\" d=\"M2.7386127875258306,0A2.7386127875258306,2.7386127875258306,0,1,1,-2.7386127875258306,0A2.7386127875258306,2.7386127875258306,0,1,1,2.7386127875258306,0\" fill=\"#4c78a8\" stroke-width=\"2\" opacity=\"0.7\"></path><path aria-label=\"x: 1.55503492556; y: 2.88006831225\" role=\"graphics-symbol\" aria-roledescription=\"circle\" transform=\"translate(116.2313065471452,77.9982921937703)\" d=\"M2.7386127875258306,0A2.7386127875258306,2.7386127875258306,0,1,1,-2.7386127875258306,0A2.7386127875258306,2.7386127875258306,0,1,1,2.7386127875258306,0\" fill=\"#4c78a8\" stroke-width=\"2\" opacity=\"0.7\"></path><path aria-label=\"x: 0.9466453373; y: 1.58514147543\" role=\"graphics-symbol\" aria-roledescription=\"circle\" transform=\"translate(106.87146672769914,110.371463114261)\" d=\"M2.7386127875258306,0A2.7386127875258306,2.7386127875258306,0,1,1,-2.7386127875258306,0A2.7386127875258306,2.7386127875258306,0,1,1,2.7386127875258306,0\" fill=\"#4c78a8\" stroke-width=\"2\" opacity=\"0.7\"></path><path aria-label=\"x: -1.36725611391; y: -1.67249487562\" role=\"graphics-symbol\" aria-roledescription=\"circle\" transform=\"translate(71.27298286285429,191.81237189049992)\" d=\"M2.7386127875258306,0A2.7386127875258306,2.7386127875258306,0,1,1,-2.7386127875258306,0A2.7386127875258306,2.7386127875258306,0,1,1,2.7386127875258306,0\" fill=\"#4c78a8\" stroke-width=\"2\" opacity=\"0.7\"></path><path aria-label=\"x: 1.58202480939; y: 2.15186734336\" role=\"graphics-symbol\" aria-roledescription=\"circle\" transform=\"translate(116.64653552908773,96.20331641602687)\" d=\"M2.7386127875258306,0A2.7386127875258306,2.7386127875258306,0,1,1,-2.7386127875258306,0A2.7386127875258306,2.7386127875258306,0,1,1,2.7386127875258306,0\" fill=\"#4c78a8\" stroke-width=\"2\" opacity=\"0.7\"></path><path aria-label=\"x: 1.0629783987; y: 1.71746581244\" role=\"graphics-symbol\" aria-roledescription=\"circle\" transform=\"translate(108.66120613388136,107.0633546890058)\" d=\"M2.7386127875258306,0A2.7386127875258306,2.7386127875258306,0,1,1,-2.7386127875258306,0A2.7386127875258306,2.7386127875258306,0,1,1,2.7386127875258306,0\" fill=\"#4c78a8\" stroke-width=\"2\" opacity=\"0.7\"></path><path aria-label=\"x: 0.42713048697; y: 1.92342071287\" role=\"graphics-symbol\" aria-roledescription=\"circle\" transform=\"translate(98.87893056876817,101.91448217832277)\" d=\"M2.7386127875258306,0A2.7386127875258306,2.7386127875258306,0,1,1,-2.7386127875258306,0A2.7386127875258306,2.7386127875258306,0,1,1,2.7386127875258306,0\" fill=\"#4c78a8\" stroke-width=\"2\" opacity=\"0.7\"></path><path aria-label=\"x: -0.460860434757; y: 0.981164280745\" role=\"graphics-symbol\" aria-roledescription=\"circle\" transform=\"translate(85.21753177297634,125.47089298136368)\" d=\"M2.7386127875258306,0A2.7386127875258306,2.7386127875258306,0,1,1,-2.7386127875258306,0A2.7386127875258306,2.7386127875258306,0,1,1,2.7386127875258306,0\" fill=\"#4c78a8\" stroke-width=\"2\" opacity=\"0.7\"></path><path aria-label=\"x: 3.68843916503; y: 4.37766323437\" role=\"graphics-symbol\" aria-roledescription=\"circle\" transform=\"translate(149.05291023125088,40.558419140831916)\" d=\"M2.7386127875258306,0A2.7386127875258306,2.7386127875258306,0,1,1,-2.7386127875258306,0A2.7386127875258306,2.7386127875258306,0,1,1,2.7386127875258306,0\" fill=\"#4c78a8\" stroke-width=\"2\" opacity=\"0.7\"></path><path aria-label=\"x: 0.471259142237; y: 2.0238097642\" role=\"graphics-symbol\" aria-roledescription=\"circle\" transform=\"translate(99.55783295749899,99.4047558950716)\" d=\"M2.7386127875258306,0A2.7386127875258306,2.7386127875258306,0,1,1,-2.7386127875258306,0A2.7386127875258306,2.7386127875258306,0,1,1,2.7386127875258306,0\" fill=\"#4c78a8\" stroke-width=\"2\" opacity=\"0.7\"></path><path aria-label=\"x: 1.37589353181; y: 2.53548423152\" role=\"graphics-symbol\" aria-roledescription=\"circle\" transform=\"translate(113.47528510481905,86.61289421199265)\" d=\"M2.7386127875258306,0A2.7386127875258306,2.7386127875258306,0,1,1,-2.7386127875258306,0A2.7386127875258306,2.7386127875258306,0,1,1,2.7386127875258306,0\" fill=\"#4c78a8\" stroke-width=\"2\" opacity=\"0.7\"></path><path aria-label=\"x: 1.8266031016; y: 3.9757827359\" role=\"graphics-symbol\" aria-roledescription=\"circle\" transform=\"translate(120.40927848615483,50.60543160244144)\" d=\"M2.7386127875258306,0A2.7386127875258306,2.7386127875258306,0,1,1,-2.7386127875258306,0A2.7386127875258306,2.7386127875258306,0,1,1,2.7386127875258306,0\" fill=\"#4c78a8\" stroke-width=\"2\" opacity=\"0.7\"></path><path aria-label=\"x: -1.76519562389; y: -0.217625735245\" role=\"graphics-symbol\" aria-roledescription=\"circle\" transform=\"translate(65.15083655557419,155.4406433811207)\" d=\"M2.7386127875258306,0A2.7386127875258306,2.7386127875258306,0,1,1,-2.7386127875258306,0A2.7386127875258306,2.7386127875258306,0,1,1,2.7386127875258306,0\" fill=\"#4c78a8\" stroke-width=\"2\" opacity=\"0.7\"></path><path aria-label=\"x: 2.34545866811; y: 2.5951228086\" role=\"graphics-symbol\" aria-roledescription=\"circle\" transform=\"translate(128.39167181707046,85.12192978504771)\" d=\"M2.7386127875258306,0A2.7386127875258306,2.7386127875258306,0,1,1,-2.7386127875258306,0A2.7386127875258306,2.7386127875258306,0,1,1,2.7386127875258306,0\" fill=\"#4c78a8\" stroke-width=\"2\" opacity=\"0.7\"></path><path aria-label=\"x: 3.14078984218; y: 3.232770697\" role=\"graphics-symbol\" aria-roledescription=\"circle\" transform=\"translate(140.6275360335387,69.18073257509974)\" d=\"M2.7386127875258306,0A2.7386127875258306,2.7386127875258306,0,1,1,-2.7386127875258306,0A2.7386127875258306,2.7386127875258306,0,1,1,2.7386127875258306,0\" fill=\"#4c78a8\" stroke-width=\"2\" opacity=\"0.7\"></path><path aria-label=\"x: 1.66113464092; y: 3.91793642299\" role=\"graphics-symbol\" aria-roledescription=\"circle\" transform=\"translate(117.8636098602819,52.05158942517025)\" d=\"M2.7386127875258306,0A2.7386127875258306,2.7386127875258306,0,1,1,-2.7386127875258306,0A2.7386127875258306,2.7386127875258306,0,1,1,2.7386127875258306,0\" fill=\"#4c78a8\" stroke-width=\"2\" opacity=\"0.7\"></path><path aria-label=\"x: 0.448337681084; y: 1.1732082056\" role=\"graphics-symbol\" aria-roledescription=\"circle\" transform=\"translate(99.20519509359382,120.66979485988982)\" d=\"M2.7386127875258306,0A2.7386127875258306,2.7386127875258306,0,1,1,-2.7386127875258306,0A2.7386127875258306,2.7386127875258306,0,1,1,2.7386127875258306,0\" fill=\"#4c78a8\" stroke-width=\"2\" opacity=\"0.7\"></path><path aria-label=\"x: -0.30071543612; y: 1.14075082712\" role=\"graphics-symbol\" aria-roledescription=\"circle\" transform=\"translate(87.68130098276293,121.48122932194354)\" d=\"M2.7386127875258306,0A2.7386127875258306,2.7386127875258306,0,1,1,-2.7386127875258306,0A2.7386127875258306,2.7386127875258306,0,1,1,2.7386127875258306,0\" fill=\"#4c78a8\" stroke-width=\"2\" opacity=\"0.7\"></path><path aria-label=\"x: -1.20237096226; y: 0.831385270284\" role=\"graphics-symbol\" aria-roledescription=\"circle\" transform=\"translate(73.80967750375589,129.21536824288805)\" d=\"M2.7386127875258306,0A2.7386127875258306,2.7386127875258306,0,1,1,-2.7386127875258306,0A2.7386127875258306,2.7386127875258306,0,1,1,2.7386127875258306,0\" fill=\"#4c78a8\" stroke-width=\"2\" opacity=\"0.7\"></path><path aria-label=\"x: -2.10825204412; y: -0.267132811962\" role=\"graphics-symbol\" aria-roledescription=\"circle\" transform=\"translate(59.87304547503501,156.67832029905634)\" d=\"M2.7386127875258306,0A2.7386127875258306,2.7386127875258306,0,1,1,-2.7386127875258306,0A2.7386127875258306,2.7386127875258306,0,1,1,2.7386127875258306,0\" fill=\"#4c78a8\" stroke-width=\"2\" opacity=\"0.7\"></path><path aria-label=\"x: 2.18900239285; y: 2.62247454052\" role=\"graphics-symbol\" aria-roledescription=\"circle\" transform=\"translate(125.984652197672,84.43813648694388)\" d=\"M2.7386127875258306,0A2.7386127875258306,2.7386127875258306,0,1,1,-2.7386127875258306,0A2.7386127875258306,2.7386127875258306,0,1,1,2.7386127875258306,0\" fill=\"#4c78a8\" stroke-width=\"2\" opacity=\"0.7\"></path><path aria-label=\"x: 4.08087609811; y: 3.91541227923\" role=\"graphics-symbol\" aria-roledescription=\"circle\" transform=\"translate(155.09040150940018,52.114693019130364)\" d=\"M2.7386127875258306,0A2.7386127875258306,2.7386127875258306,0,1,1,-2.7386127875258306,0A2.7386127875258306,2.7386127875258306,0,1,1,2.7386127875258306,0\" fill=\"#4c78a8\" stroke-width=\"2\" opacity=\"0.7\"></path><path aria-label=\"x: -0.701498594646; y: 1.88142751086\" role=\"graphics-symbol\" aria-roledescription=\"circle\" transform=\"translate(81.51540623621555,102.96431222847356)\" d=\"M2.7386127875258306,0A2.7386127875258306,2.7386127875258306,0,1,1,-2.7386127875258306,0A2.7386127875258306,2.7386127875258306,0,1,1,2.7386127875258306,0\" fill=\"#4c78a8\" stroke-width=\"2\" opacity=\"0.7\"></path><path aria-label=\"x: 1.36971241417; y: 3.82844665347\" role=\"graphics-symbol\" aria-roledescription=\"circle\" transform=\"translate(113.38019098724664,54.28883366320931)\" d=\"M2.7386127875258306,0A2.7386127875258306,2.7386127875258306,0,1,1,-2.7386127875258306,0A2.7386127875258306,2.7386127875258306,0,1,1,2.7386127875258306,0\" fill=\"#4c78a8\" stroke-width=\"2\" opacity=\"0.7\"></path><path aria-label=\"x: 1.47085506399; y: 2.40023212855\" role=\"graphics-symbol\" aria-roledescription=\"circle\" transform=\"translate(114.93623175373675,89.99419678627368)\" d=\"M2.7386127875258306,0A2.7386127875258306,2.7386127875258306,0,1,1,-2.7386127875258306,0A2.7386127875258306,2.7386127875258306,0,1,1,2.7386127875258306,0\" fill=\"#4c78a8\" stroke-width=\"2\" opacity=\"0.7\"></path><path aria-label=\"x: 1.33329325674; y: 2.25384180574\" role=\"graphics-symbol\" aria-roledescription=\"circle\" transform=\"translate(112.81989625756295,93.6539548565344)\" d=\"M2.7386127875258306,0A2.7386127875258306,2.7386127875258306,0,1,1,-2.7386127875258306,0A2.7386127875258306,2.7386127875258306,0,1,1,2.7386127875258306,0\" fill=\"#4c78a8\" stroke-width=\"2\" opacity=\"0.7\"></path><path aria-label=\"x: 1.58232145061; y: 2.52504847559\" role=\"graphics-symbol\" aria-roledescription=\"circle\" transform=\"translate(116.6510992401553,86.87378811026534)\" d=\"M2.7386127875258306,0A2.7386127875258306,2.7386127875258306,0,1,1,-2.7386127875258306,0A2.7386127875258306,2.7386127875258306,0,1,1,2.7386127875258306,0\" fill=\"#4c78a8\" stroke-width=\"2\" opacity=\"0.7\"></path><path aria-label=\"x: 5.21821669398; y: 5.07278112561\" role=\"graphics-symbol\" aria-roledescription=\"circle\" transform=\"translate(172.58794913819827,23.180471859666476)\" d=\"M2.7386127875258306,0A2.7386127875258306,2.7386127875258306,0,1,1,-2.7386127875258306,0A2.7386127875258306,2.7386127875258306,0,1,1,2.7386127875258306,0\" fill=\"#4c78a8\" stroke-width=\"2\" opacity=\"0.7\"></path><path aria-label=\"x: 0.865508494995; y: 2.71193534088\" role=\"graphics-symbol\" aria-roledescription=\"circle\" transform=\"translate(105.62320761531177,82.20161647791828)\" d=\"M2.7386127875258306,0A2.7386127875258306,2.7386127875258306,0,1,1,-2.7386127875258306,0A2.7386127875258306,2.7386127875258306,0,1,1,2.7386127875258306,0\" fill=\"#4c78a8\" stroke-width=\"2\" opacity=\"0.7\"></path><path aria-label=\"x: 0.255531108905; y: 1.77959197575\" role=\"graphics-symbol\" aria-roledescription=\"circle\" transform=\"translate(96.23894013699544,105.51020060625058)\" d=\"M2.7386127875258306,0A2.7386127875258306,2.7386127875258306,0,1,1,-2.7386127875258306,0A2.7386127875258306,2.7386127875258306,0,1,1,2.7386127875258306,0\" fill=\"#4c78a8\" stroke-width=\"2\" opacity=\"0.7\"></path><path aria-label=\"x: -0.317579756581; y: 2.2816608149\" role=\"graphics-symbol\" aria-roledescription=\"circle\" transform=\"translate(87.42184989875894,92.9584796274997)\" d=\"M2.7386127875258306,0A2.7386127875258306,2.7386127875258306,0,1,1,-2.7386127875258306,0A2.7386127875258306,2.7386127875258306,0,1,1,2.7386127875258306,0\" fill=\"#4c78a8\" stroke-width=\"2\" opacity=\"0.7\"></path><path aria-label=\"x: -1.31625100499; y: 0.208164696343\" role=\"graphics-symbol\" aria-roledescription=\"circle\" transform=\"translate(72.05767684624227,144.79588259142733)\" d=\"M2.7386127875258306,0A2.7386127875258306,2.7386127875258306,0,1,1,-2.7386127875258306,0A2.7386127875258306,2.7386127875258306,0,1,1,2.7386127875258306,0\" fill=\"#4c78a8\" stroke-width=\"2\" opacity=\"0.7\"></path><path aria-label=\"x: 0.709971072775; y: 1.04779203366\" role=\"graphics-symbol\" aria-roledescription=\"circle\" transform=\"translate(103.23032419653674,123.80519915853468)\" d=\"M2.7386127875258306,0A2.7386127875258306,2.7386127875258306,0,1,1,-2.7386127875258306,0A2.7386127875258306,2.7386127875258306,0,1,1,2.7386127875258306,0\" fill=\"#4c78a8\" stroke-width=\"2\" opacity=\"0.7\"></path><path aria-label=\"x: 1.11115553873; y: 0.73273921781\" role=\"graphics-symbol\" aria-roledescription=\"circle\" transform=\"translate(109.40239290352429,131.68151955475972)\" d=\"M2.7386127875258306,0A2.7386127875258306,2.7386127875258306,0,1,1,-2.7386127875258306,0A2.7386127875258306,2.7386127875258306,0,1,1,2.7386127875258306,0\" fill=\"#4c78a8\" stroke-width=\"2\" opacity=\"0.7\"></path><path aria-label=\"x: 1.20608551598; y: 2.14083896221\" role=\"graphics-symbol\" aria-roledescription=\"circle\" transform=\"translate(110.86285409201462,96.47902594484168)\" d=\"M2.7386127875258306,0A2.7386127875258306,2.7386127875258306,0,1,1,-2.7386127875258306,0A2.7386127875258306,2.7386127875258306,0,1,1,2.7386127875258306,0\" fill=\"#4c78a8\" stroke-width=\"2\" opacity=\"0.7\"></path><path aria-label=\"x: -0.521193147; y: 1.31623213354\" role=\"graphics-symbol\" aria-roledescription=\"circle\" transform=\"translate(84.28933619999805,117.09419666146049)\" d=\"M2.7386127875258306,0A2.7386127875258306,2.7386127875258306,0,1,1,-2.7386127875258306,0A2.7386127875258306,2.7386127875258306,0,1,1,2.7386127875258306,0\" fill=\"#4c78a8\" stroke-width=\"2\" opacity=\"0.7\"></path><path aria-label=\"x: 1.09582049777; y: 1.14486898403\" role=\"graphics-symbol\" aria-roledescription=\"circle\" transform=\"translate(109.16646919640864,121.37827539924113)\" d=\"M2.7386127875258306,0A2.7386127875258306,2.7386127875258306,0,1,1,-2.7386127875258306,0A2.7386127875258306,2.7386127875258306,0,1,1,2.7386127875258306,0\" fill=\"#4c78a8\" stroke-width=\"2\" opacity=\"0.7\"></path><path aria-label=\"x: -0.803082056066; y: 0.648541322768\" role=\"graphics-symbol\" aria-roledescription=\"circle\" transform=\"translate(79.95258375282882,133.7864669308012)\" d=\"M2.7386127875258306,0A2.7386127875258306,2.7386127875258306,0,1,1,-2.7386127875258306,0A2.7386127875258306,2.7386127875258306,0,1,1,2.7386127875258306,0\" fill=\"#4c78a8\" stroke-width=\"2\" opacity=\"0.7\"></path><path aria-label=\"x: 4.75728603203; y: 3.66779408641\" role=\"graphics-symbol\" aria-roledescription=\"circle\" transform=\"translate(165.49670818508804,58.30514783980334)\" d=\"M2.7386127875258306,0A2.7386127875258306,2.7386127875258306,0,1,1,-2.7386127875258306,0A2.7386127875258306,2.7386127875258306,0,1,1,2.7386127875258306,0\" fill=\"#4c78a8\" stroke-width=\"2\" opacity=\"0.7\"></path><path aria-label=\"x: -0.140103812757; y: 1.21831020553\" role=\"graphics-symbol\" aria-roledescription=\"circle\" transform=\"translate(90.15224903451498,119.542244861628)\" d=\"M2.7386127875258306,0A2.7386127875258306,2.7386127875258306,0,1,1,-2.7386127875258306,0A2.7386127875258306,2.7386127875258306,0,1,1,2.7386127875258306,0\" fill=\"#4c78a8\" stroke-width=\"2\" opacity=\"0.7\"></path><path aria-label=\"x: 0.124785214671; y: 2.42241315266\" role=\"graphics-symbol\" aria-roledescription=\"circle\" transform=\"translate(94.22746484108751,89.43967118358889)\" d=\"M2.7386127875258306,0A2.7386127875258306,2.7386127875258306,0,1,1,-2.7386127875258306,0A2.7386127875258306,2.7386127875258306,0,1,1,2.7386127875258306,0\" fill=\"#4c78a8\" stroke-width=\"2\" opacity=\"0.7\"></path><path aria-label=\"x: 1.61908920551; y: 1.19770269771\" role=\"graphics-symbol\" aria-roledescription=\"circle\" transform=\"translate(117.21675700787473,120.05743255736503)\" d=\"M2.7386127875258306,0A2.7386127875258306,2.7386127875258306,0,1,1,-2.7386127875258306,0A2.7386127875258306,2.7386127875258306,0,1,1,2.7386127875258306,0\" fill=\"#4c78a8\" stroke-width=\"2\" opacity=\"0.7\"></path><path aria-label=\"x: 0.457391618683; y: 1.68736723013\" role=\"graphics-symbol\" aria-roledescription=\"circle\" transform=\"translate(99.34448644127613,107.81581924662895)\" d=\"M2.7386127875258306,0A2.7386127875258306,2.7386127875258306,0,1,1,-2.7386127875258306,0A2.7386127875258306,2.7386127875258306,0,1,1,2.7386127875258306,0\" fill=\"#4c78a8\" stroke-width=\"2\" opacity=\"0.7\"></path><path aria-label=\"x: 2.43151604372; y: 3.05115095405\" role=\"graphics-symbol\" aria-roledescription=\"circle\" transform=\"translate(129.71563144178438,73.72122614864534)\" d=\"M2.7386127875258306,0A2.7386127875258306,2.7386127875258306,0,1,1,-2.7386127875258306,0A2.7386127875258306,2.7386127875258306,0,1,1,2.7386127875258306,0\" fill=\"#4c78a8\" stroke-width=\"2\" opacity=\"0.7\"></path><path aria-label=\"x: 1.01672506811; y: 1.88532172237\" role=\"graphics-symbol\" aria-roledescription=\"circle\" transform=\"translate(107.94961643249144,102.86695694082901)\" d=\"M2.7386127875258306,0A2.7386127875258306,2.7386127875258306,0,1,1,-2.7386127875258306,0A2.7386127875258306,2.7386127875258306,0,1,1,2.7386127875258306,0\" fill=\"#4c78a8\" stroke-width=\"2\" opacity=\"0.7\"></path><path aria-label=\"x: 3.95541656643; y: 4.77857072417\" role=\"graphics-symbol\" aria-roledescription=\"circle\" transform=\"translate(153.1602548681317,30.535731895691143)\" d=\"M2.7386127875258306,0A2.7386127875258306,2.7386127875258306,0,1,1,-2.7386127875258306,0A2.7386127875258306,2.7386127875258306,0,1,1,2.7386127875258306,0\" fill=\"#4c78a8\" stroke-width=\"2\" opacity=\"0.7\"></path><path aria-label=\"x: -2.81544129582; y: -1.00973361665\" role=\"graphics-symbol\" aria-roledescription=\"circle\" transform=\"translate(48.99321083353057,175.2433404162058)\" d=\"M2.7386127875258306,0A2.7386127875258306,2.7386127875258306,0,1,1,-2.7386127875258306,0A2.7386127875258306,2.7386127875258306,0,1,1,2.7386127875258306,0\" fill=\"#4c78a8\" stroke-width=\"2\" opacity=\"0.7\"></path><path aria-label=\"x: 0.345536092242; y: 2.51196043761\" role=\"graphics-symbol\" aria-roledescription=\"circle\" transform=\"translate(97.62363218834221,87.2009890598612)\" d=\"M2.7386127875258306,0A2.7386127875258306,2.7386127875258306,0,1,1,-2.7386127875258306,0A2.7386127875258306,2.7386127875258306,0,1,1,2.7386127875258306,0\" fill=\"#4c78a8\" stroke-width=\"2\" opacity=\"0.7\"></path><path aria-label=\"x: -2.86766933232; y: -0.348522201126\" role=\"graphics-symbol\" aria-roledescription=\"circle\" transform=\"translate(48.18970257962928,158.71305502814982)\" d=\"M2.7386127875258306,0A2.7386127875258306,2.7386127875258306,0,1,1,-2.7386127875258306,0A2.7386127875258306,2.7386127875258306,0,1,1,2.7386127875258306,0\" fill=\"#4c78a8\" stroke-width=\"2\" opacity=\"0.7\"></path><path aria-label=\"x: 2.77930960941; y: 3.76484004766\" role=\"graphics-symbol\" aria-roledescription=\"circle\" transform=\"translate(135.06630168325154,55.87899880856697)\" d=\"M2.7386127875258306,0A2.7386127875258306,2.7386127875258306,0,1,1,-2.7386127875258306,0A2.7386127875258306,2.7386127875258306,0,1,1,2.7386127875258306,0\" fill=\"#4c78a8\" stroke-width=\"2\" opacity=\"0.7\"></path><path aria-label=\"x: 0.49418949473; y: 1.88223952864\" role=\"graphics-symbol\" aria-roledescription=\"circle\" transform=\"translate(99.91060761123785,102.9440117838821)\" d=\"M2.7386127875258306,0A2.7386127875258306,2.7386127875258306,0,1,1,-2.7386127875258306,0A2.7386127875258306,2.7386127875258306,0,1,1,2.7386127875258306,0\" fill=\"#4c78a8\" stroke-width=\"2\" opacity=\"0.7\"></path><path aria-label=\"x: 2.86582933997; y: 4.57492955812\" role=\"graphics-symbol\" aria-roledescription=\"circle\" transform=\"translate(136.3973744610872,35.62676104702314)\" d=\"M2.7386127875258306,0A2.7386127875258306,2.7386127875258306,0,1,1,-2.7386127875258306,0A2.7386127875258306,2.7386127875258306,0,1,1,2.7386127875258306,0\" fill=\"#4c78a8\" stroke-width=\"2\" opacity=\"0.7\"></path><path aria-label=\"x: 1.13823402944; y: 0.900090072588\" role=\"graphics-symbol\" aria-roledescription=\"circle\" transform=\"translate(109.81898506833949,127.49774818528945)\" d=\"M2.7386127875258306,0A2.7386127875258306,2.7386127875258306,0,1,1,-2.7386127875258306,0A2.7386127875258306,2.7386127875258306,0,1,1,2.7386127875258306,0\" fill=\"#4c78a8\" stroke-width=\"2\" opacity=\"0.7\"></path><path aria-label=\"x: -0.156832007951; y: 0.49215268468\" role=\"graphics-symbol\" aria-roledescription=\"circle\" transform=\"translate(89.89489218536272,137.6961828830049)\" d=\"M2.7386127875258306,0A2.7386127875258306,2.7386127875258306,0,1,1,-2.7386127875258306,0A2.7386127875258306,2.7386127875258306,0,1,1,2.7386127875258306,0\" fill=\"#4c78a8\" stroke-width=\"2\" opacity=\"0.7\"></path><path aria-label=\"x: 1.17005050156; y: 2.56128924089\" role=\"graphics-symbol\" aria-roledescription=\"circle\" transform=\"translate(110.30846925473936,85.9677689778007)\" d=\"M2.7386127875258306,0A2.7386127875258306,2.7386127875258306,0,1,1,-2.7386127875258306,0A2.7386127875258306,2.7386127875258306,0,1,1,2.7386127875258306,0\" fill=\"#4c78a8\" stroke-width=\"2\" opacity=\"0.7\"></path><path aria-label=\"x: 3.89649184385; y: 3.37410258566\" role=\"graphics-symbol\" aria-roledescription=\"circle\" transform=\"translate(152.25372067464255,65.64743535841279)\" d=\"M2.7386127875258306,0A2.7386127875258306,2.7386127875258306,0,1,1,-2.7386127875258306,0A2.7386127875258306,2.7386127875258306,0,1,1,2.7386127875258306,0\" fill=\"#4c78a8\" stroke-width=\"2\" opacity=\"0.7\"></path><path aria-label=\"x: 1.00292081615; y: 0.338590608379\" role=\"graphics-symbol\" aria-roledescription=\"circle\" transform=\"translate(107.73724332531343,141.53523479053533)\" d=\"M2.7386127875258306,0A2.7386127875258306,2.7386127875258306,0,1,1,-2.7386127875258306,0A2.7386127875258306,2.7386127875258306,0,1,1,2.7386127875258306,0\" fill=\"#4c78a8\" stroke-width=\"2\" opacity=\"0.7\"></path><path aria-label=\"x: 0.169540166256; y: 2.1811134526\" role=\"graphics-symbol\" aria-roledescription=\"circle\" transform=\"translate(94.9160025577908,95.4721636850731)\" d=\"M2.7386127875258306,0A2.7386127875258306,2.7386127875258306,0,1,1,-2.7386127875258306,0A2.7386127875258306,2.7386127875258306,0,1,1,2.7386127875258306,0\" fill=\"#4c78a8\" stroke-width=\"2\" opacity=\"0.7\"></path><path aria-label=\"x: 4.62590436274; y: 3.96972137514\" role=\"graphics-symbol\" aria-roledescription=\"circle\" transform=\"translate(163.47545173439403,50.75696562157121)\" d=\"M2.7386127875258306,0A2.7386127875258306,2.7386127875258306,0,1,1,-2.7386127875258306,0A2.7386127875258306,2.7386127875258306,0,1,1,2.7386127875258306,0\" fill=\"#4c78a8\" stroke-width=\"2\" opacity=\"0.7\"></path><path aria-label=\"x: 0.928417229191; y: 2.00329002689\" role=\"graphics-symbol\" aria-roledescription=\"circle\" transform=\"translate(106.59103429524592,99.91774932777221)\" d=\"M2.7386127875258306,0A2.7386127875258306,2.7386127875258306,0,1,1,-2.7386127875258306,0A2.7386127875258306,2.7386127875258306,0,1,1,2.7386127875258306,0\" fill=\"#4c78a8\" stroke-width=\"2\" opacity=\"0.7\"></path><path aria-label=\"x: 0.383811318112; y: 0.735214181079\" role=\"graphics-symbol\" aria-roledescription=\"circle\" transform=\"translate(98.21248181710364,131.6196454730371)\" d=\"M2.7386127875258306,0A2.7386127875258306,2.7386127875258306,0,1,1,-2.7386127875258306,0A2.7386127875258306,2.7386127875258306,0,1,1,2.7386127875258306,0\" fill=\"#4c78a8\" stroke-width=\"2\" opacity=\"0.7\"></path><path aria-label=\"x: 4.22791650735; y: 3.48845335685\" role=\"graphics-symbol\" aria-roledescription=\"circle\" transform=\"translate(157.35256165148667,62.788666078660206)\" d=\"M2.7386127875258306,0A2.7386127875258306,2.7386127875258306,0,1,1,-2.7386127875258306,0A2.7386127875258306,2.7386127875258306,0,1,1,2.7386127875258306,0\" fill=\"#4c78a8\" stroke-width=\"2\" opacity=\"0.7\"></path><path aria-label=\"x: 2.31635363152; y: 2.73980177814\" role=\"graphics-symbol\" aria-roledescription=\"circle\" transform=\"translate(127.94390202337813,81.50495554647517)\" d=\"M2.7386127875258306,0A2.7386127875258306,2.7386127875258306,0,1,1,-2.7386127875258306,0A2.7386127875258306,2.7386127875258306,0,1,1,2.7386127875258306,0\" fill=\"#4c78a8\" stroke-width=\"2\" opacity=\"0.7\"></path><path aria-label=\"x: -1.67783014061; y: 0.960789412319\" role=\"graphics-symbol\" aria-roledescription=\"circle\" transform=\"translate(66.49492091374451,125.98026469203009)\" d=\"M2.7386127875258306,0A2.7386127875258306,2.7386127875258306,0,1,1,-2.7386127875258306,0A2.7386127875258306,2.7386127875258306,0,1,1,2.7386127875258306,0\" fill=\"#4c78a8\" stroke-width=\"2\" opacity=\"0.7\"></path><path aria-label=\"x: 0.883357618181; y: 1.20363298105\" role=\"graphics-symbol\" aria-roledescription=\"circle\" transform=\"translate(105.89780951047518,119.90917547386515)\" d=\"M2.7386127875258306,0A2.7386127875258306,2.7386127875258306,0,1,1,-2.7386127875258306,0A2.7386127875258306,2.7386127875258306,0,1,1,2.7386127875258306,0\" fill=\"#4c78a8\" stroke-width=\"2\" opacity=\"0.7\"></path><path aria-label=\"x: 2.49688604515; y: 3.388480747\" role=\"graphics-symbol\" aria-roledescription=\"circle\" transform=\"translate(130.7213237714634,65.28798132494364)\" d=\"M2.7386127875258306,0A2.7386127875258306,2.7386127875258306,0,1,1,-2.7386127875258306,0A2.7386127875258306,2.7386127875258306,0,1,1,2.7386127875258306,0\" fill=\"#4c78a8\" stroke-width=\"2\" opacity=\"0.7\"></path><path aria-label=\"x: 0.194553251038; y: 1.14253899743\" role=\"graphics-symbol\" aria-roledescription=\"circle\" transform=\"translate(95.3008192467395,121.43652506426625)\" d=\"M2.7386127875258306,0A2.7386127875258306,2.7386127875258306,0,1,1,-2.7386127875258306,0A2.7386127875258306,2.7386127875258306,0,1,1,2.7386127875258306,0\" fill=\"#4c78a8\" stroke-width=\"2\" opacity=\"0.7\"></path><path aria-label=\"x: 0.630412104945; y: 0.630608975435\" role=\"graphics-symbol\" aria-roledescription=\"circle\" transform=\"translate(102.00634007607047,134.23477561413216)\" d=\"M2.7386127875258306,0A2.7386127875258306,2.7386127875258306,0,1,1,-2.7386127875258306,0A2.7386127875258306,2.7386127875258306,0,1,1,2.7386127875258306,0\" fill=\"#4c78a8\" stroke-width=\"2\" opacity=\"0.7\"></path><path aria-label=\"x: 1.06219937429; y: 2.52857822972\" role=\"graphics-symbol\" aria-roledescription=\"circle\" transform=\"translate(108.64922114287768,86.78554425710745)\" d=\"M2.7386127875258306,0A2.7386127875258306,2.7386127875258306,0,1,1,-2.7386127875258306,0A2.7386127875258306,2.7386127875258306,0,1,1,2.7386127875258306,0\" fill=\"#4c78a8\" stroke-width=\"2\" opacity=\"0.7\"></path><path aria-label=\"x: 0.0871071806261; y: 1.20413330224\" role=\"graphics-symbol\" aria-roledescription=\"circle\" transform=\"translate(93.64780277886271,119.89666744412091)\" d=\"M2.7386127875258306,0A2.7386127875258306,2.7386127875258306,0,1,1,-2.7386127875258306,0A2.7386127875258306,2.7386127875258306,0,1,1,2.7386127875258306,0\" fill=\"#4c78a8\" stroke-width=\"2\" opacity=\"0.7\"></path><path aria-label=\"x: 0.545354370471; y: 2.44012142466\" role=\"graphics-symbol\" aria-roledescription=\"circle\" transform=\"translate(100.69775954570905,88.99696438355993)\" d=\"M2.7386127875258306,0A2.7386127875258306,2.7386127875258306,0,1,1,-2.7386127875258306,0A2.7386127875258306,2.7386127875258306,0,1,1,2.7386127875258306,0\" fill=\"#4c78a8\" stroke-width=\"2\" opacity=\"0.7\"></path><path aria-label=\"x: 2.23506534194; y: 2.63565540375\" role=\"graphics-symbol\" aria-roledescription=\"circle\" transform=\"translate(126.69331295293243,84.108614906265)\" d=\"M2.7386127875258306,0A2.7386127875258306,2.7386127875258306,0,1,1,-2.7386127875258306,0A2.7386127875258306,2.7386127875258306,0,1,1,2.7386127875258306,0\" fill=\"#4c78a8\" stroke-width=\"2\" opacity=\"0.7\"></path><path aria-label=\"x: 0.849783114678; y: 1.72573082542\" role=\"graphics-symbol\" aria-roledescription=\"circle\" transform=\"translate(105.38127868735793,106.8567293645611)\" d=\"M2.7386127875258306,0A2.7386127875258306,2.7386127875258306,0,1,1,-2.7386127875258306,0A2.7386127875258306,2.7386127875258306,0,1,1,2.7386127875258306,0\" fill=\"#4c78a8\" stroke-width=\"2\" opacity=\"0.7\"></path><path aria-label=\"x: 2.28719291189; y: 1.96519372885\" role=\"graphics-symbol\" aria-roledescription=\"circle\" transform=\"translate(127.49527556757796,100.87015677887004)\" d=\"M2.7386127875258306,0A2.7386127875258306,2.7386127875258306,0,1,1,-2.7386127875258306,0A2.7386127875258306,2.7386127875258306,0,1,1,2.7386127875258306,0\" fill=\"#4c78a8\" stroke-width=\"2\" opacity=\"0.7\"></path><path aria-label=\"x: -0.421852731257; y: 1.19386822423\" role=\"graphics-symbol\" aria-roledescription=\"circle\" transform=\"translate(85.81765028835824,120.1532943943528)\" d=\"M2.7386127875258306,0A2.7386127875258306,2.7386127875258306,0,1,1,-2.7386127875258306,0A2.7386127875258306,2.7386127875258306,0,1,1,2.7386127875258306,0\" fill=\"#4c78a8\" stroke-width=\"2\" opacity=\"0.7\"></path><path aria-label=\"x: -0.640572406156; y: 1.04781019843\" role=\"graphics-symbol\" aria-roledescription=\"circle\" transform=\"translate(82.45273221297826,123.8047450391885)\" d=\"M2.7386127875258306,0A2.7386127875258306,2.7386127875258306,0,1,1,-2.7386127875258306,0A2.7386127875258306,2.7386127875258306,0,1,1,2.7386127875258306,0\" fill=\"#4c78a8\" stroke-width=\"2\" opacity=\"0.7\"></path><path aria-label=\"x: -1.35758600592; y: -0.00392072923846\" role=\"graphics-symbol\" aria-roledescription=\"circle\" transform=\"translate(71.42175375512998,150.0980182309615)\" d=\"M2.7386127875258306,0A2.7386127875258306,2.7386127875258306,0,1,1,-2.7386127875258306,0A2.7386127875258306,2.7386127875258306,0,1,1,2.7386127875258306,0\" fill=\"#4c78a8\" stroke-width=\"2\" opacity=\"0.7\"></path><path aria-label=\"x: 1.42854586225; y: 2.51880845652\" role=\"graphics-symbol\" aria-roledescription=\"circle\" transform=\"translate(114.28532095763133,87.02978858710206)\" d=\"M2.7386127875258306,0A2.7386127875258306,2.7386127875258306,0,1,1,-2.7386127875258306,0A2.7386127875258306,2.7386127875258306,0,1,1,2.7386127875258306,0\" fill=\"#4c78a8\" stroke-width=\"2\" opacity=\"0.7\"></path><path aria-label=\"x: 0.863271628663; y: 1.54789223908\" role=\"graphics-symbol\" aria-roledescription=\"circle\" transform=\"translate(105.58879428711545,111.30269402289032)\" d=\"M2.7386127875258306,0A2.7386127875258306,2.7386127875258306,0,1,1,-2.7386127875258306,0A2.7386127875258306,2.7386127875258306,0,1,1,2.7386127875258306,0\" fill=\"#4c78a8\" stroke-width=\"2\" opacity=\"0.7\"></path><path aria-label=\"x: 2.39166029716; y: 1.82585840505\" role=\"graphics-symbol\" aria-roledescription=\"circle\" transform=\"translate(129.10246611017072,104.35353987386955)\" d=\"M2.7386127875258306,0A2.7386127875258306,2.7386127875258306,0,1,1,-2.7386127875258306,0A2.7386127875258306,2.7386127875258306,0,1,1,2.7386127875258306,0\" fill=\"#4c78a8\" stroke-width=\"2\" opacity=\"0.7\"></path><path aria-label=\"x: 1.37362800625; y: 2.36064346097\" role=\"graphics-symbol\" aria-roledescription=\"circle\" transform=\"translate(113.44043086541407,90.9839134758395)\" d=\"M2.7386127875258306,0A2.7386127875258306,2.7386127875258306,0,1,1,-2.7386127875258306,0A2.7386127875258306,2.7386127875258306,0,1,1,2.7386127875258306,0\" fill=\"#4c78a8\" stroke-width=\"2\" opacity=\"0.7\"></path><path aria-label=\"x: 1.38849155409; y: 2.7032141955\" role=\"graphics-symbol\" aria-roledescription=\"circle\" transform=\"translate(113.66910083215798,82.41964511258313)\" d=\"M2.7386127875258306,0A2.7386127875258306,2.7386127875258306,0,1,1,-2.7386127875258306,0A2.7386127875258306,2.7386127875258306,0,1,1,2.7386127875258306,0\" fill=\"#4c78a8\" stroke-width=\"2\" opacity=\"0.7\"></path><path aria-label=\"x: 1.80018964704; y: 1.83950688748\" role=\"graphics-symbol\" aria-roledescription=\"circle\" transform=\"translate(120.00291764678026,104.01232781303193)\" d=\"M2.7386127875258306,0A2.7386127875258306,2.7386127875258306,0,1,1,-2.7386127875258306,0A2.7386127875258306,2.7386127875258306,0,1,1,2.7386127875258306,0\" fill=\"#4c78a8\" stroke-width=\"2\" opacity=\"0.7\"></path><path aria-label=\"x: 3.25598082664; y: 2.80487198834\" role=\"graphics-symbol\" aria-roledescription=\"circle\" transform=\"translate(142.39970502517033,79.87820029142509)\" d=\"M2.7386127875258306,0A2.7386127875258306,2.7386127875258306,0,1,1,-2.7386127875258306,0A2.7386127875258306,2.7386127875258306,0,1,1,2.7386127875258306,0\" fill=\"#4c78a8\" stroke-width=\"2\" opacity=\"0.7\"></path><path aria-label=\"x: 2.45621704833; y: 1.15350088733\" role=\"graphics-symbol\" aria-roledescription=\"circle\" transform=\"translate(130.09564689731727,121.16247781670278)\" d=\"M2.7386127875258306,0A2.7386127875258306,2.7386127875258306,0,1,1,-2.7386127875258306,0A2.7386127875258306,2.7386127875258306,0,1,1,2.7386127875258306,0\" fill=\"#4c78a8\" stroke-width=\"2\" opacity=\"0.7\"></path><path aria-label=\"x: 5.05500379904; y: 4.60904124496\" role=\"graphics-symbol\" aria-roledescription=\"circle\" transform=\"translate(170.0769815236332,34.773968875982206)\" d=\"M2.7386127875258306,0A2.7386127875258306,2.7386127875258306,0,1,1,-2.7386127875258306,0A2.7386127875258306,2.7386127875258306,0,1,1,2.7386127875258306,0\" fill=\"#4c78a8\" stroke-width=\"2\" opacity=\"0.7\"></path><path aria-label=\"x: -1.52074194605; y: 1.31508051655\" role=\"graphics-symbol\" aria-roledescription=\"circle\" transform=\"translate(68.91166236841725,117.12298708618849)\" d=\"M2.7386127875258306,0A2.7386127875258306,2.7386127875258306,0,1,1,-2.7386127875258306,0A2.7386127875258306,2.7386127875258306,0,1,1,2.7386127875258306,0\" fill=\"#4c78a8\" stroke-width=\"2\" opacity=\"0.7\"></path><path aria-label=\"x: -0.641370570088; y: 0.0834086324796\" role=\"graphics-symbol\" aria-roledescription=\"circle\" transform=\"translate(82.44045276788341,147.9147841880089)\" d=\"M2.7386127875258306,0A2.7386127875258306,2.7386127875258306,0,1,1,-2.7386127875258306,0A2.7386127875258306,2.7386127875258306,0,1,1,2.7386127875258306,0\" fill=\"#4c78a8\" stroke-width=\"2\" opacity=\"0.7\"></path><path aria-label=\"x: 0.589888228568; y: 1.44318759749\" role=\"graphics-symbol\" aria-roledescription=\"circle\" transform=\"translate(101.3828958241255,113.9203100628462)\" d=\"M2.7386127875258306,0A2.7386127875258306,2.7386127875258306,0,1,1,-2.7386127875258306,0A2.7386127875258306,2.7386127875258306,0,1,1,2.7386127875258306,0\" fill=\"#4c78a8\" stroke-width=\"2\" opacity=\"0.7\"></path><path aria-label=\"x: -0.80557225445; y: 0.881877249798\" role=\"graphics-symbol\" aria-roledescription=\"circle\" transform=\"translate(79.91427300846397,127.95306875504689)\" d=\"M2.7386127875258306,0A2.7386127875258306,2.7386127875258306,0,1,1,-2.7386127875258306,0A2.7386127875258306,2.7386127875258306,0,1,1,2.7386127875258306,0\" fill=\"#4c78a8\" stroke-width=\"2\" opacity=\"0.7\"></path><path aria-label=\"x: 0.490098876867; y: 1.59967924524\" role=\"graphics-symbol\" aria-roledescription=\"circle\" transform=\"translate(99.84767502872252,110.00801886902379)\" d=\"M2.7386127875258306,0A2.7386127875258306,2.7386127875258306,0,1,1,-2.7386127875258306,0A2.7386127875258306,2.7386127875258306,0,1,1,2.7386127875258306,0\" fill=\"#4c78a8\" stroke-width=\"2\" opacity=\"0.7\"></path><path aria-label=\"x: -0.442835515008; y: 2.47095424635\" role=\"graphics-symbol\" aria-roledescription=\"circle\" transform=\"translate(85.49483823064737,88.2261438412443)\" d=\"M2.7386127875258306,0A2.7386127875258306,2.7386127875258306,0,1,1,-2.7386127875258306,0A2.7386127875258306,2.7386127875258306,0,1,1,2.7386127875258306,0\" fill=\"#4c78a8\" stroke-width=\"2\" opacity=\"0.7\"></path><path aria-label=\"x: 0.351643585551; y: 1.12347994957\" role=\"graphics-symbol\" aria-roledescription=\"circle\" transform=\"translate(97.71759362386769,121.91300126067519)\" d=\"M2.7386127875258306,0A2.7386127875258306,2.7386127875258306,0,1,1,-2.7386127875258306,0A2.7386127875258306,2.7386127875258306,0,1,1,2.7386127875258306,0\" fill=\"#4c78a8\" stroke-width=\"2\" opacity=\"0.7\"></path><path aria-label=\"x: 1.61798566044; y: 1.01646230612\" role=\"graphics-symbol\" aria-roledescription=\"circle\" transform=\"translate(117.19977939141077,124.58844234697757)\" d=\"M2.7386127875258306,0A2.7386127875258306,2.7386127875258306,0,1,1,-2.7386127875258306,0A2.7386127875258306,2.7386127875258306,0,1,1,2.7386127875258306,0\" fill=\"#4c78a8\" stroke-width=\"2\" opacity=\"0.7\"></path><path aria-label=\"x: 0.635288689095; y: 1.34024123644\" role=\"graphics-symbol\" aria-roledescription=\"circle\" transform=\"translate(102.08136444762128,116.49396908908973)\" d=\"M2.7386127875258306,0A2.7386127875258306,2.7386127875258306,0,1,1,-2.7386127875258306,0A2.7386127875258306,2.7386127875258306,0,1,1,2.7386127875258306,0\" fill=\"#4c78a8\" stroke-width=\"2\" opacity=\"0.7\"></path><path aria-label=\"x: 2.15918607068; y: 3.88134716193\" role=\"graphics-symbol\" aria-roledescription=\"circle\" transform=\"translate(125.52593954895168,52.96632095182463)\" d=\"M2.7386127875258306,0A2.7386127875258306,2.7386127875258306,0,1,1,-2.7386127875258306,0A2.7386127875258306,2.7386127875258306,0,1,1,2.7386127875258306,0\" fill=\"#4c78a8\" stroke-width=\"2\" opacity=\"0.7\"></path><path aria-label=\"x: 2.71373069496; y: 3.28443413527\" role=\"graphics-symbol\" aria-roledescription=\"circle\" transform=\"translate(134.05739530713257,67.88914661831431)\" d=\"M2.7386127875258306,0A2.7386127875258306,2.7386127875258306,0,1,1,-2.7386127875258306,0A2.7386127875258306,2.7386127875258306,0,1,1,2.7386127875258306,0\" fill=\"#4c78a8\" stroke-width=\"2\" opacity=\"0.7\"></path><path aria-label=\"x: -0.69953122136; y: 1.37289430722\" role=\"graphics-symbol\" aria-roledescription=\"circle\" transform=\"translate(81.54567351753633,115.67764231951041)\" d=\"M2.7386127875258306,0A2.7386127875258306,2.7386127875258306,0,1,1,-2.7386127875258306,0A2.7386127875258306,2.7386127875258306,0,1,1,2.7386127875258306,0\" fill=\"#4c78a8\" stroke-width=\"2\" opacity=\"0.7\"></path><path aria-label=\"x: 2.07765866408; y: 3.69416759955\" role=\"graphics-symbol\" aria-roledescription=\"circle\" transform=\"translate(124.27167175504843,57.64581001130327)\" d=\"M2.7386127875258306,0A2.7386127875258306,2.7386127875258306,0,1,1,-2.7386127875258306,0A2.7386127875258306,2.7386127875258306,0,1,1,2.7386127875258306,0\" fill=\"#4c78a8\" stroke-width=\"2\" opacity=\"0.7\"></path><path aria-label=\"x: 0.0801007003308; y: 0.793677911697\" role=\"graphics-symbol\" aria-roledescription=\"circle\" transform=\"translate(93.54001077431923,130.15805220756258)\" d=\"M2.7386127875258306,0A2.7386127875258306,2.7386127875258306,0,1,1,-2.7386127875258306,0A2.7386127875258306,2.7386127875258306,0,1,1,2.7386127875258306,0\" fill=\"#4c78a8\" stroke-width=\"2\" opacity=\"0.7\"></path><path aria-label=\"x: 0.817566362928; y: 0.928135578538\" role=\"graphics-symbol\" aria-roledescription=\"circle\" transform=\"translate(104.88563635274295,126.79661053655427)\" d=\"M2.7386127875258306,0A2.7386127875258306,2.7386127875258306,0,1,1,-2.7386127875258306,0A2.7386127875258306,2.7386127875258306,0,1,1,2.7386127875258306,0\" fill=\"#4c78a8\" stroke-width=\"2\" opacity=\"0.7\"></path><path aria-label=\"x: 0.32753053865; y: 0.547864135467\" role=\"graphics-symbol\" aria-roledescription=\"circle\" transform=\"translate(97.3466236715415,136.30339661332172)\" d=\"M2.7386127875258306,0A2.7386127875258306,2.7386127875258306,0,1,1,-2.7386127875258306,0A2.7386127875258306,2.7386127875258306,0,1,1,2.7386127875258306,0\" fill=\"#4c78a8\" stroke-width=\"2\" opacity=\"0.7\"></path><path aria-label=\"x: 0.286614879042; y: 1.7995412122\" role=\"graphics-symbol\" aria-roledescription=\"circle\" transform=\"translate(96.71715198526893,105.01146969498349)\" d=\"M2.7386127875258306,0A2.7386127875258306,2.7386127875258306,0,1,1,-2.7386127875258306,0A2.7386127875258306,2.7386127875258306,0,1,1,2.7386127875258306,0\" fill=\"#4c78a8\" stroke-width=\"2\" opacity=\"0.7\"></path><path aria-label=\"x: 0.389113552143; y: 1.41568054359\" role=\"graphics-symbol\" aria-roledescription=\"circle\" transform=\"translate(98.29405464836078,114.607986410221)\" d=\"M2.7386127875258306,0A2.7386127875258306,2.7386127875258306,0,1,1,-2.7386127875258306,0A2.7386127875258306,2.7386127875258306,0,1,1,2.7386127875258306,0\" fill=\"#4c78a8\" stroke-width=\"2\" opacity=\"0.7\"></path><path aria-label=\"x: 0.58845562412; y: 2.10652478491\" role=\"graphics-symbol\" aria-roledescription=\"circle\" transform=\"translate(101.3608557556938,97.33688037734358)\" d=\"M2.7386127875258306,0A2.7386127875258306,2.7386127875258306,0,1,1,-2.7386127875258306,0A2.7386127875258306,2.7386127875258306,0,1,1,2.7386127875258306,0\" fill=\"#4c78a8\" stroke-width=\"2\" opacity=\"0.7\"></path><path aria-label=\"x: 3.53607405713; y: 4.02352713146\" role=\"graphics-symbol\" aria-roledescription=\"circle\" transform=\"translate(146.7088316481059,49.41182171346243)\" d=\"M2.7386127875258306,0A2.7386127875258306,2.7386127875258306,0,1,1,-2.7386127875258306,0A2.7386127875258306,2.7386127875258306,0,1,1,2.7386127875258306,0\" fill=\"#4c78a8\" stroke-width=\"2\" opacity=\"0.7\"></path><path aria-label=\"x: 0.510268601666; y: 1.41050545949\" role=\"graphics-symbol\" aria-roledescription=\"circle\" transform=\"translate(100.15797848716537,114.73736351279351)\" d=\"M2.7386127875258306,0A2.7386127875258306,2.7386127875258306,0,1,1,-2.7386127875258306,0A2.7386127875258306,2.7386127875258306,0,1,1,2.7386127875258306,0\" fill=\"#4c78a8\" stroke-width=\"2\" opacity=\"0.7\"></path></g></g><path class=\"foreground\" aria-hidden=\"true\" d=\"\" display=\"none\"></path></g></g></g></svg>\n"
      ],
      "text/plain": [
       "@vlplot(\n",
       "    mark=\"circle\",\n",
       "    encoding={\n",
       "        x={\n",
       "            field=\"x\"\n",
       "        },\n",
       "        y={\n",
       "            field=\"y\"\n",
       "        }\n",
       "    },\n",
       "    data={\n",
       "        values=...\n",
       "    }\n",
       ")"
      ]
     },
     "execution_count": 4,
     "metadata": {},
     "output_type": "execute_result"
    }
   ],
   "source": [
    "μ = [1.0,2.0]\n",
    "Σ = [3.0 2.0;\n",
    "     2.0 2.0]\n",
    "d = Distributions.MultivariateNormal(μ,Σ)\n",
    "samples = rand(d,300)';\n",
    "data = DataTables.DataTable(x=samples[:,1],y=samples[:,2])\n",
    "p = QuickVega.scatterplot(samples)"
   ]
  },
  {
   "cell_type": "code",
   "execution_count": null,
   "metadata": {},
   "outputs": [],
   "source": []
  },
  {
   "cell_type": "code",
   "execution_count": 79,
   "metadata": {},
   "outputs": [
    {
     "data": {
      "application/vnd.vegalite.v4+json": {
       "data": {
        "values": [
         {
          "x": 2.5195636666398675,
          "y": 4.155114110400551
         },
         {
          "x": -1.970510301602776,
          "y": -0.9930177374879969
         },
         {
          "x": 1.2520827402846038,
          "y": 2.2613906712109424
         },
         {
          "x": 2.501560030886088,
          "y": 2.3299186209528786
         },
         {
          "x": 1.121550081367214,
          "y": 1.474443801035707
         },
         {
          "x": 0.19204320376371498,
          "y": 2.482841820931337
         },
         {
          "x": 0.7520683923685728,
          "y": 2.304482576316157
         },
         {
          "x": -1.8451213093943388,
          "y": 0.047609152311841374
         },
         {
          "x": -0.30621300200171464,
          "y": 0.8202010166433513
         },
         {
          "x": 0.9720278933069958,
          "y": 1.9877318918669673
         },
         {
          "x": -1.782573625258439,
          "y": 0.24935930301017772
         },
         {
          "x": 0.10072098694277332,
          "y": 1.5695813763801985
         },
         {
          "x": 2.3539372308351325,
          "y": 2.6251547784874125
         },
         {
          "x": -0.3219071430156608,
          "y": -0.4510236530889764
         },
         {
          "x": 1.831219164277392,
          "y": 0.9109804170849323
         },
         {
          "x": 1.591267857079496,
          "y": 1.7430391592743621
         },
         {
          "x": 3.4357722095562164,
          "y": 3.9496677414959045
         },
         {
          "x": 0.5828620320723825,
          "y": 1.2544132221492883
         },
         {
          "x": -1.3896853750387073,
          "y": 0.6927444408457997
         },
         {
          "x": -0.8131433340700203,
          "y": -0.691993710693589
         },
         {
          "x": 0.8990594194821624,
          "y": 2.2007009569730354
         },
         {
          "x": 3.793738780819395,
          "y": 4.036242577931205
         },
         {
          "x": 0.1301194698732433,
          "y": 1.7350163894622685
         },
         {
          "x": -3.3004151110749502,
          "y": -0.9798255682035251
         },
         {
          "x": 2.2084585102526093,
          "y": 1.5210552209435613
         },
         {
          "x": 0.7843024614469731,
          "y": 1.1017429259926441
         },
         {
          "x": 3.3465627820348773,
          "y": 2.6358371231592583
         },
         {
          "x": 1.3510914119362778,
          "y": 1.2338096693494467
         },
         {
          "x": 0.35376731031744124,
          "y": 1.891224356800863
         },
         {
          "x": 3.224861750066452,
          "y": 3.6723574221885933
         },
         {
          "x": 1.6870757616565752,
          "y": 3.6876338775938966
         },
         {
          "x": 1.9243331016295462,
          "y": 3.639857345626721
         },
         {
          "x": 0.43849459381444966,
          "y": 1.063015145799249
         },
         {
          "x": 2.851700986094907,
          "y": 3.9905840732896882
         },
         {
          "x": 1.9378929031975214,
          "y": 3.0009711404083923
         },
         {
          "x": 1.9440074619799201,
          "y": 2.42232135363876
         },
         {
          "x": -1.160914840200988,
          "y": 1.5135103908180756
         },
         {
          "x": 2.3162496742945216,
          "y": 3.705771413803065
         },
         {
          "x": 1.0267180532468363,
          "y": 2.7324164834247195
         },
         {
          "x": 2.9551765155030294,
          "y": 4.892445826545961
         },
         {
          "x": 1.0705040955129788,
          "y": 0.7514182669736447
         },
         {
          "x": 0.7925133057534733,
          "y": 3.2724021799020298
         },
         {
          "x": 1.393521448269945,
          "y": 2.1541108449414654
         },
         {
          "x": 4.419019631436434,
          "y": 4.9908635693920775
         },
         {
          "x": 0.9965619570014029,
          "y": 2.630162339878411
         },
         {
          "x": -2.4843070422788958,
          "y": 0.31109472039552744
         },
         {
          "x": -1.2878874863815457,
          "y": -0.8576134397988051
         },
         {
          "x": -0.6606416752109683,
          "y": 0.475671979822875
         },
         {
          "x": 1.4002217195168813,
          "y": 3.596335801758694
         },
         {
          "x": 0.8408241806085479,
          "y": 1.6489258744235529
         },
         {
          "x": -1.4923261759747048,
          "y": 0.7489508914428764
         },
         {
          "x": 4.067035643552288,
          "y": 2.758881809814751
         },
         {
          "x": 4.633553837669615,
          "y": 3.5566112334509628
         },
         {
          "x": 0.086076624233835,
          "y": 1.84391941113498
         },
         {
          "x": 3.4776729020544113,
          "y": 4.286948250371617
         },
         {
          "x": 4.444454683477193,
          "y": 3.577992542102759
         },
         {
          "x": 0.3553240855082813,
          "y": 0.40046229861012983
         },
         {
          "x": -0.39079839067347466,
          "y": 0.6660505139545121
         },
         {
          "x": 1.6813936764630468,
          "y": 3.992782140961621
         },
         {
          "x": 2.4033026230697425,
          "y": 3.7739743368864396
         },
         {
          "x": -1.8188942298997905,
          "y": 0.3106928988892439
         },
         {
          "x": 2.0037478434453133,
          "y": 3.278383016492846
         },
         {
          "x": 0.7705461402266345,
          "y": 2.3397054125469374
         },
         {
          "x": 2.7840576087403623,
          "y": 3.708892430370601
         },
         {
          "x": 2.677058143509133,
          "y": 3.3772825547153627
         },
         {
          "x": -0.47497625440828073,
          "y": 0.6228001300386989
         },
         {
          "x": -0.017573049948011343,
          "y": 0.06264797169179914
         },
         {
          "x": -0.9095133985486699,
          "y": -0.28734230270179895
         },
         {
          "x": 2.3590311327426217,
          "y": 2.7534690828637594
         },
         {
          "x": -1.3232412504741742,
          "y": 0.046088966988818036
         },
         {
          "x": 2.7562249887115957,
          "y": 2.6500341646117893
         },
         {
          "x": -0.5209172319778854,
          "y": 1.452732172754295
         },
         {
          "x": 0.8498426868033162,
          "y": 1.9635477012501499
         },
         {
          "x": 1.3455085070966724,
          "y": 1.8003252531677332
         },
         {
          "x": 1.7445800211385656,
          "y": 1.4294934424363435
         },
         {
          "x": 2.5348137890749127,
          "y": 3.2897650067754243
         },
         {
          "x": -1.2874171384536894,
          "y": -0.07342332224253578
         },
         {
          "x": 2.455262446228063,
          "y": 2.707604750738702
         },
         {
          "x": 0.011786520907472564,
          "y": 1.884967768790795
         },
         {
          "x": -0.5291347531575386,
          "y": 0.7826419129218154
         },
         {
          "x": 1.4908565960046065,
          "y": 3.455500151263598
         },
         {
          "x": 0.4962938861457089,
          "y": 1.9651549464753035
         },
         {
          "x": 3.0432890587134014,
          "y": 3.6078107161742654
         },
         {
          "x": 0.42813617640225143,
          "y": 0.8108736988851084
         },
         {
          "x": 2.6966888297262877,
          "y": 3.572000638794382
         },
         {
          "x": 2.6960938503153096,
          "y": 3.940628428671521
         },
         {
          "x": 1.4442534209398294,
          "y": 2.921640407855495
         },
         {
          "x": 0.06201090169522405,
          "y": -1.1415768452135282
         },
         {
          "x": 1.0672477797898052,
          "y": 2.9674879019187257
         },
         {
          "x": 1.83553960613368,
          "y": 1.3077095306873405
         },
         {
          "x": 1.1057666570171512,
          "y": 1.624760636834812
         },
         {
          "x": 1.1801942123032683,
          "y": 1.4933112298598623
         },
         {
          "x": -1.0296945247165263,
          "y": 0.7398650384208476
         },
         {
          "x": 2.0594493990741913,
          "y": 2.9487412994689284
         },
         {
          "x": 1.353827683648603,
          "y": 3.068419150339677
         },
         {
          "x": 0.3057778312336532,
          "y": 0.5558962630626323
         },
         {
          "x": 1.0376834286435566,
          "y": 0.821913597882991
         },
         {
          "x": -2.2279577324375786,
          "y": -0.869733035167342
         },
         {
          "x": 0.9929723998656539,
          "y": 2.1656701450343534
         },
         {
          "x": -0.6048472740204229,
          "y": 0.8130501994204749
         },
         {
          "x": -0.6529814148949673,
          "y": 0.6217654373911592
         },
         {
          "x": -1.223749169871296,
          "y": 0.7586828534845766
         },
         {
          "x": 0.865836811861393,
          "y": 1.649874694403001
         },
         {
          "x": -1.2044381776409616,
          "y": -1.5935972027666487
         },
         {
          "x": 3.031983400906208,
          "y": 2.900298623191429
         },
         {
          "x": 1.1506565567846532,
          "y": 2.1465581681412838
         },
         {
          "x": -1.6217686684521584,
          "y": -0.1905936375511268
         },
         {
          "x": -1.2237168124797595,
          "y": 0.6220472926685865
         },
         {
          "x": 2.5964454168026427,
          "y": 3.5139171990658356
         },
         {
          "x": 3.324512053308773,
          "y": 3.5915165379580394
         },
         {
          "x": 1.9240876702754135,
          "y": 2.791726887940997
         },
         {
          "x": 1.5061578504319866,
          "y": 1.2597111717409668
         },
         {
          "x": 2.6477378030081296,
          "y": 3.6604476128940515
         },
         {
          "x": -1.4262882209433356,
          "y": 0.6923341491015698
         },
         {
          "x": 1.0373758255385443,
          "y": 2.411667702674953
         },
         {
          "x": -0.8914395904724972,
          "y": -0.8195916440991526
         },
         {
          "x": 2.478438545522488,
          "y": 3.4136583236742655
         },
         {
          "x": 0.656531883509006,
          "y": 1.4142064951831008
         },
         {
          "x": 2.378159735936466,
          "y": 2.752450840082748
         },
         {
          "x": -0.7560268426534131,
          "y": 2.671359224620401
         },
         {
          "x": -0.033106015281621604,
          "y": 1.7731840992515007
         },
         {
          "x": 2.6953836890559275,
          "y": 3.2852729558787876
         },
         {
          "x": 1.962145461510807,
          "y": 2.0584061349864955
         },
         {
          "x": 0.6334307846666823,
          "y": 2.259666149960674
         },
         {
          "x": -0.32703448870205953,
          "y": 1.6108014218861677
         },
         {
          "x": 1.0625296920489702,
          "y": 3.4137937260326665
         },
         {
          "x": -0.1223085586923065,
          "y": 1.3810467053492794
         },
         {
          "x": -0.03201336884263606,
          "y": 1.4269513732716752
         },
         {
          "x": -1.4857685357903732,
          "y": 0.13375917664748815
         },
         {
          "x": 3.486486695833739,
          "y": 3.3606327615521883
         },
         {
          "x": 3.140682426376868,
          "y": 3.4691615819287422
         },
         {
          "x": 1.4721266173765992,
          "y": 0.9212002108604904
         },
         {
          "x": 1.944803984202529,
          "y": 2.4241117129532506
         },
         {
          "x": 6.520868877879352,
          "y": 3.243741190638045
         },
         {
          "x": 0.12938112674572566,
          "y": 1.3484062919295052
         },
         {
          "x": 2.873175086047387,
          "y": 2.4175294418008697
         },
         {
          "x": 2.927588167894566,
          "y": 3.450428233482065
         },
         {
          "x": 0.8147282834319989,
          "y": 2.9010593975592815
         },
         {
          "x": 2.5806104166042068,
          "y": 1.7320878504885768
         },
         {
          "x": 1.2741215438336297,
          "y": 1.6674336789483122
         },
         {
          "x": -0.9369728770939121,
          "y": 1.007375799352784
         },
         {
          "x": -0.20755679877839306,
          "y": 1.665080279601665
         },
         {
          "x": -0.6788856466681372,
          "y": 1.0457310615290343
         },
         {
          "x": -1.4346376479339082,
          "y": 0.8357726071719567
         },
         {
          "x": 1.9645700788892764,
          "y": 2.5091119954885803
         },
         {
          "x": 0.25748865222982864,
          "y": 2.8782260524617174
         },
         {
          "x": 2.0317746448490164,
          "y": 4.36638417936317
         },
         {
          "x": 1.1239854692995255,
          "y": 1.214684863175486
         },
         {
          "x": 1.229505098428763,
          "y": 2.6660408819073584
         },
         {
          "x": -2.336325685452576,
          "y": 0.24606616728716824
         },
         {
          "x": 0.5573019721746921,
          "y": 0.5425860075746527
         },
         {
          "x": 3.7194821535429368,
          "y": 5.526498719950934
         },
         {
          "x": 0.842154676906556,
          "y": 2.7424543301176993
         },
         {
          "x": -1.0790193284087075,
          "y": -0.005191224193097366
         },
         {
          "x": -0.12207119309924552,
          "y": 2.0725015411791645
         },
         {
          "x": 2.2329539323744765,
          "y": 2.980320264407803
         },
         {
          "x": 0.7985289859096629,
          "y": 2.46713688854444
         },
         {
          "x": 0.7445709940719749,
          "y": 2.3610009592970327
         },
         {
          "x": -0.06876915561841979,
          "y": -1.0415780098309901
         },
         {
          "x": -1.7117276008703168,
          "y": 0.6693122466826338
         },
         {
          "x": -2.0861088984776344,
          "y": -0.2922538842918212
         },
         {
          "x": -0.9897640048306608,
          "y": -0.9997989421187952
         },
         {
          "x": -0.2128048877942632,
          "y": 0.4510536579121016
         },
         {
          "x": 0.6677618139824067,
          "y": 3.150200168683599
         },
         {
          "x": 1.179103145446564,
          "y": 0.873977681558177
         },
         {
          "x": -0.519192486577098,
          "y": 0.6052919050022245
         },
         {
          "x": 1.2617049235496356,
          "y": 3.6825417574650023
         },
         {
          "x": 1.1820434073171078,
          "y": 2.5595203495878214
         },
         {
          "x": -0.9913463519909331,
          "y": -0.6874209620772622
         },
         {
          "x": 3.392397474024353,
          "y": 1.510102565970206
         },
         {
          "x": -1.0605794555177859,
          "y": 1.535167445778828
         },
         {
          "x": 2.6212075153769,
          "y": 3.1708994859015682
         },
         {
          "x": -2.40508723503283,
          "y": 0.2625595853627054
         },
         {
          "x": 3.606653684006416,
          "y": 2.2861523204212135
         },
         {
          "x": 0.8805381064413738,
          "y": 2.4764164515707665
         },
         {
          "x": 3.2328954971252,
          "y": 1.9323967294880142
         },
         {
          "x": -3.2463805732026136,
          "y": -1.4734176575132354
         },
         {
          "x": 2.3279628602518514,
          "y": 4.4252799228877056
         },
         {
          "x": 5.224766048529881,
          "y": 4.78634906128609
         },
         {
          "x": 2.8489033451165673,
          "y": 3.6748584585931643
         },
         {
          "x": 0.15104499582937747,
          "y": -0.3989383701091431
         },
         {
          "x": 0.9534619127554466,
          "y": 2.3107575032796555
         },
         {
          "x": 3.4334213700242016,
          "y": 4.658724570960294
         },
         {
          "x": 1.0550183633524899,
          "y": 2.156349295655461
         },
         {
          "x": 0.7009152977641884,
          "y": 2.2101216130342225
         },
         {
          "x": 0.3716212003000995,
          "y": 2.9106402409088754
         },
         {
          "x": 0.14751809115378023,
          "y": 1.9257107907531819
         },
         {
          "x": -1.3543084559725278,
          "y": 0.788641995572553
         },
         {
          "x": 1.9455507439170368,
          "y": 2.6858082556086877
         },
         {
          "x": 3.629346191312125,
          "y": 4.924856611328002
         },
         {
          "x": 1.6635374732761172,
          "y": 1.5695968324533633
         },
         {
          "x": 0.2949876176560683,
          "y": 2.8120775079458653
         },
         {
          "x": -5.114620959774064,
          "y": -0.7424615993435668
         },
         {
          "x": 1.3235316601118021,
          "y": 1.507683922074571
         },
         {
          "x": 1.5550349255644385,
          "y": 2.8800683122491875
         },
         {
          "x": 0.9466453373004433,
          "y": 1.5851414754295599
         },
         {
          "x": -1.367256113914471,
          "y": -1.6724948756199964
         },
         {
          "x": 1.5820248093907026,
          "y": 2.1518673433589255
         },
         {
          "x": 1.062978398702289,
          "y": 1.7174658124397677
         },
         {
          "x": 0.42713048696993106,
          "y": 1.9234207128670888
         },
         {
          "x": -0.4608604347565375,
          "y": 0.9811642807454528
         },
         {
          "x": 3.688439165031307,
          "y": 4.377663234366723
         },
         {
          "x": 0.47125914223743426,
          "y": 2.0238097641971358
         },
         {
          "x": 1.375893531813238,
          "y": 2.535484231520294
         },
         {
          "x": 1.8266031016000648,
          "y": 3.9757827359023428
         },
         {
          "x": -1.7651956238876774,
          "y": -0.21762573524482898
         },
         {
          "x": 2.345458668109579,
          "y": 2.5951228085980915
         },
         {
          "x": 3.1407898421800153,
          "y": 3.2327706969960106
         },
         {
          "x": 1.6611346409183232,
          "y": 3.91793642299319
         },
         {
          "x": 0.44833768108359795,
          "y": 1.1732082056044069
         },
         {
          "x": -0.30071543612040963,
          "y": 1.1407508271222584
         },
         {
          "x": -1.2023709622558663,
          "y": 0.8313852702844784
         },
         {
          "x": -2.1082520441227244,
          "y": -0.26713281196225314
         },
         {
          "x": 2.1890023928486806,
          "y": 2.622474540522245
         },
         {
          "x": 4.080876098111013,
          "y": 3.9154122792347854
         },
         {
          "x": -0.7014985946459888,
          "y": 1.881427510861058
         },
         {
          "x": 1.3697124141710315,
          "y": 3.8284466534716275
         },
         {
          "x": 1.4708550639928895,
          "y": 2.4002321285490527
         },
         {
          "x": 1.3332932567415907,
          "y": 2.2538418057386242
         },
         {
          "x": 1.5823214506100942,
          "y": 2.525048475589387
         },
         {
          "x": 5.218216693982889,
          "y": 5.072781125613341
         },
         {
          "x": 0.8655084949952647,
          "y": 2.711935340883269
         },
         {
          "x": 0.2555311089047031,
          "y": 1.7795919757499767
         },
         {
          "x": -0.31757975658066906,
          "y": 2.281660814900012
         },
         {
          "x": -1.316251004994252,
          "y": 0.2081646963429069
         },
         {
          "x": 0.7099710727748887,
          "y": 1.0477920336586128
         },
         {
          "x": 1.1111555387290795,
          "y": 0.732739217809611
         },
         {
          "x": 1.2060855159809503,
          "y": 2.1408389622063324
         },
         {
          "x": -0.5211931470001272,
          "y": 1.3162321335415812
         },
         {
          "x": 1.0958204977665624,
          "y": 1.1448689840303543
         },
         {
          "x": -0.8030820560661267,
          "y": 0.648541322767952
         },
         {
          "x": 4.757286032030722,
          "y": 3.667794086407866
         },
         {
          "x": -0.1401038127565264,
          "y": 1.2183102055348796
         },
         {
          "x": 0.12478521467068804,
          "y": 2.422413152656445
         },
         {
          "x": 1.6190892055118575,
          "y": 1.1977026977053988
         },
         {
          "x": 0.457391618682949,
          "y": 1.6873672301348417
         },
         {
          "x": 2.431516043715983,
          "y": 3.0511509540541866
         },
         {
          "x": 1.0167250681119437,
          "y": 1.8853217223668395
         },
         {
          "x": 3.9554165664285583,
          "y": 4.778570724172354
         },
         {
          "x": -2.815441295820513,
          "y": -1.0097336166482318
         },
         {
          "x": 0.34553609224224413,
          "y": 2.511960437605552
         },
         {
          "x": -2.8676693323240974,
          "y": -0.3485222011259932
         },
         {
          "x": 2.7793096094113494,
          "y": 3.764840047657321
         },
         {
          "x": 0.4941894947304597,
          "y": 1.882239528644716
         },
         {
          "x": 2.8658293399706682,
          "y": 4.5749295581190745
         },
         {
          "x": 1.1382340294420663,
          "y": 0.900090072588422
         },
         {
          "x": -0.15683200795142316,
          "y": 0.49215268467980455
         },
         {
          "x": 1.1700505015580585,
          "y": 2.561289240887972
         },
         {
          "x": 3.8964918438517664,
          "y": 3.3741025856634876
         },
         {
          "x": 1.002920816145373,
          "y": 0.3385906083785877
         },
         {
          "x": 0.16954016625640234,
          "y": 2.1811134525970757
         },
         {
          "x": 4.625904362735611,
          "y": 3.969721375137151
         },
         {
          "x": 0.9284172291909852,
          "y": 2.0032900268891116
         },
         {
          "x": 0.3838113181117365,
          "y": 0.7352141810785158
         },
         {
          "x": 4.227916507346633,
          "y": 3.4884533568535923
         },
         {
          "x": 2.3163536315195796,
          "y": 2.7398017781409933
         },
         {
          "x": -1.6778301406066078,
          "y": 0.9607894123187957
         },
         {
          "x": 0.8833576181808867,
          "y": 1.2036329810453943
         },
         {
          "x": 2.4968860451451205,
          "y": 3.388480747002254
         },
         {
          "x": 0.19455325103806786,
          "y": 1.14253899742935
         },
         {
          "x": 0.6304121049445808,
          "y": 0.6306089754347135
         },
         {
          "x": 1.0621993742870486,
          "y": 2.5285782297157025
         },
         {
          "x": 0.08710718062607659,
          "y": 1.2041333022351637
         },
         {
          "x": 0.545354370471088,
          "y": 2.440121424657603
         },
         {
          "x": 2.2350653419406075,
          "y": 2.6356554037494
         },
         {
          "x": 0.8497831146782663,
          "y": 1.725730825417556
         },
         {
          "x": 2.287192911892567,
          "y": 1.9651937288451986
         },
         {
          "x": -0.4218527312567142,
          "y": 1.193868224225888
         },
         {
          "x": -0.6405724061564133,
          "y": 1.0478101984324604
         },
         {
          "x": -1.3575860059165503,
          "y": -0.003920729238459764
         },
         {
          "x": 1.4285458622460356,
          "y": 2.5188084565159174
         },
         {
          "x": 0.8632716286625042,
          "y": 1.547892239084387
         },
         {
          "x": 2.391660297161097,
          "y": 1.825858405045218
         },
         {
          "x": 1.373628006251915,
          "y": 2.3606434609664206
         },
         {
          "x": 1.388491554090268,
          "y": 2.703214195496675
         },
         {
          "x": 1.8001896470407166,
          "y": 1.8395068874787226
         },
         {
          "x": 3.2559808266360726,
          "y": 2.8048719883429962
         },
         {
          "x": 2.4562170483256223,
          "y": 1.153500887331889
         },
         {
          "x": 5.055003799036157,
          "y": 4.609041244960712
         },
         {
          "x": -1.5207419460528775,
          "y": 1.3150805165524604
         },
         {
          "x": -0.6413705700875771,
          "y": 0.0834086324796437
         },
         {
          "x": 0.5898882285681567,
          "y": 1.443187597486152
         },
         {
          "x": -0.8055722544498427,
          "y": 0.8818772497981242
         },
         {
          "x": 0.49009887686696385,
          "y": 1.599679245239049
         },
         {
          "x": -0.4428355150079204,
          "y": 2.4709542463502276
         },
         {
          "x": 0.3516435855513994,
          "y": 1.1234799495729926
         },
         {
          "x": 1.617985660441701,
          "y": 1.016462306120897
         },
         {
          "x": 0.6352886890953837,
          "y": 1.3402412364364111
         },
         {
          "x": 2.1591860706818577,
          "y": 3.881347161927015
         },
         {
          "x": 2.713730694963617,
          "y": 3.2844341352674276
         },
         {
          "x": -0.6995312213601383,
          "y": 1.3728943072195836
         },
         {
          "x": 2.0776586640781485,
          "y": 3.6941675995478693
         },
         {
          "x": 0.08010070033075012,
          "y": 0.7936779116974972
         },
         {
          "x": 0.8175663629282911,
          "y": 0.9281355785378291
         },
         {
          "x": 0.32753053865019777,
          "y": 0.5478641354671314
         },
         {
          "x": 0.2866148790424802,
          "y": 1.7995412122006602
         },
         {
          "x": 0.3891135521434508,
          "y": 1.4156805435911601
         },
         {
          "x": 0.588455624120098,
          "y": 2.1065247849062567
         },
         {
          "x": 3.536074057126881,
          "y": 4.023527131461503
         },
         {
          "x": 0.5102686016657494,
          "y": 1.4105054594882596
         }
        ]
       },
       "encoding": {
        "color": {
         "field": "y",
         "type": "quantitative"
        },
        "size": {
         "field": "x",
         "type": "q"
        },
        "x": {
         "field": "x",
         "type": "q"
        },
        "y": {
         "field": "y",
         "type": "quantitative"
        }
       },
       "height": 300,
       "mark": "point",
       "width": 400
      },
      "image/png": "[encoded data removed]",
      "image/svg+xml": [
       "<?xml version=\"1.0\" encoding=\"utf-8\"?>\n",
       "<!DOCTYPE svg PUBLIC \"-//W3C//DTD SVG 1.1//EN\" \"http://www.w3.org/Graphics/SVG/1.1/DTD/svg11.dtd\">\n",
       "<svg class=\"marks\" width=\"495\" height=\"369\" viewBox=\"0 0 495 369\" version=\"1.1\" xmlns=\"http://www.w3.org/2000/svg\" xmlns:xlink=\"http://www.w3.org/1999/xlink\"><defs><linearGradient id=\"gradient_0\" x1=\"0\" x2=\"0\" y1=\"1\" y2=\"0\"><stop offset=\"0\" stop-color=\"rgb(207, 225, 242)\"></stop><stop offset=\"0.02396097083988535\" stop-color=\"rgb(203, 223, 241)\"></stop><stop offset=\"0.09341512347416707\" stop-color=\"rgb(191, 217, 236)\"></stop><stop offset=\"0.1628692761084488\" stop-color=\"rgb(176, 210, 232)\"></stop><stop offset=\"0.23232342874273054\" stop-color=\"rgb(160, 202, 227)\"></stop><stop offset=\"0.30177758137701227\" stop-color=\"rgb(143, 193, 222)\"></stop><stop offset=\"0.371231734011294\" stop-color=\"rgb(124, 182, 217)\"></stop><stop offset=\"0.44068588664557573\" stop-color=\"rgb(106, 172, 212)\"></stop><stop offset=\"0.5101400392798574\" stop-color=\"rgb(89, 161, 206)\"></stop><stop offset=\"0.5795941919141392\" stop-color=\"rgb(73, 149, 200)\"></stop><stop offset=\"0.6490483445484209\" stop-color=\"rgb(59, 138, 194)\"></stop><stop offset=\"0.7185024971827026\" stop-color=\"rgb(46, 126, 187)\"></stop><stop offset=\"0.7879566498169843\" stop-color=\"rgb(34, 113, 179)\"></stop><stop offset=\"0.8574108024512661\" stop-color=\"rgb(24, 100, 170)\"></stop><stop offset=\"0.9268649550855478\" stop-color=\"rgb(16, 87, 159)\"></stop><stop offset=\"0.9963191077198296\" stop-color=\"rgb(10, 75, 145)\"></stop><stop offset=\"1\" stop-color=\"rgb(10, 74, 144)\"></stop></linearGradient></defs><rect width=\"495\" height=\"369\" fill=\"white\"></rect><g fill=\"none\" stroke-miterlimit=\"10\" transform=\"translate(37,10)\"><g class=\"mark-group role-frame root\" role=\"graphics-object\" aria-roledescription=\"group mark container\"><g transform=\"translate(0,0)\"><path class=\"background\" aria-hidden=\"true\" d=\"M0.5,0.5h400v300h-400Z\" stroke=\"#ddd\"></path><g><g class=\"mark-group role-axis\" aria-hidden=\"true\"><g transform=\"translate(0.5,300.5)\"><path class=\"background\" aria-hidden=\"true\" d=\"M0,0h0v0h0Z\" pointer-events=\"none\"></path><g><g class=\"mark-rule role-axis-grid\" pointer-events=\"none\"><line transform=\"translate(0,-300)\" x2=\"0\" y2=\"300\" stroke=\"#ddd\" stroke-width=\"1\" opacity=\"1\"></line><line transform=\"translate(31,-300)\" x2=\"0\" y2=\"300\" stroke=\"#ddd\" stroke-width=\"1\" opacity=\"1\"></line><line transform=\"translate(62,-300)\" x2=\"0\" y2=\"300\" stroke=\"#ddd\" stroke-width=\"1\" opacity=\"1\"></line><line transform=\"translate(92,-300)\" x2=\"0\" y2=\"300\" stroke=\"#ddd\" stroke-width=\"1\" opacity=\"1\"></line><line transform=\"translate(123,-300)\" x2=\"0\" y2=\"300\" stroke=\"#ddd\" stroke-width=\"1\" opacity=\"1\"></line><line transform=\"translate(154,-300)\" x2=\"0\" y2=\"300\" stroke=\"#ddd\" stroke-width=\"1\" opacity=\"1\"></line><line transform=\"translate(185,-300)\" x2=\"0\" y2=\"300\" stroke=\"#ddd\" stroke-width=\"1\" opacity=\"1\"></line><line transform=\"translate(215,-300)\" x2=\"0\" y2=\"300\" stroke=\"#ddd\" stroke-width=\"1\" opacity=\"1\"></line><line transform=\"translate(246,-300)\" x2=\"0\" y2=\"300\" stroke=\"#ddd\" stroke-width=\"1\" opacity=\"1\"></line><line transform=\"translate(277,-300)\" x2=\"0\" y2=\"300\" stroke=\"#ddd\" stroke-width=\"1\" opacity=\"1\"></line><line transform=\"translate(308,-300)\" x2=\"0\" y2=\"300\" stroke=\"#ddd\" stroke-width=\"1\" opacity=\"1\"></line><line transform=\"translate(338,-300)\" x2=\"0\" y2=\"300\" stroke=\"#ddd\" stroke-width=\"1\" opacity=\"1\"></line><line transform=\"translate(369,-300)\" x2=\"0\" y2=\"300\" stroke=\"#ddd\" stroke-width=\"1\" opacity=\"1\"></line><line transform=\"translate(400,-300)\" x2=\"0\" y2=\"300\" stroke=\"#ddd\" stroke-width=\"1\" opacity=\"1\"></line></g></g><path class=\"foreground\" aria-hidden=\"true\" d=\"\" pointer-events=\"none\" display=\"none\"></path></g></g><g class=\"mark-group role-axis\" aria-hidden=\"true\"><g transform=\"translate(0.5,0.5)\"><path class=\"background\" aria-hidden=\"true\" d=\"M0,0h0v0h0Z\" pointer-events=\"none\"></path><g><g class=\"mark-rule role-axis-grid\" pointer-events=\"none\"><line transform=\"translate(0,300)\" x2=\"400\" y2=\"0\" stroke=\"#ddd\" stroke-width=\"1\" opacity=\"1\"></line><line transform=\"translate(0,263)\" x2=\"400\" y2=\"0\" stroke=\"#ddd\" stroke-width=\"1\" opacity=\"1\"></line><line transform=\"translate(0,225)\" x2=\"400\" y2=\"0\" stroke=\"#ddd\" stroke-width=\"1\" opacity=\"1\"></line><line transform=\"translate(0,188)\" x2=\"400\" y2=\"0\" stroke=\"#ddd\" stroke-width=\"1\" opacity=\"1\"></line><line transform=\"translate(0,150)\" x2=\"400\" y2=\"0\" stroke=\"#ddd\" stroke-width=\"1\" opacity=\"1\"></line><line transform=\"translate(0,113)\" x2=\"400\" y2=\"0\" stroke=\"#ddd\" stroke-width=\"1\" opacity=\"1\"></line><line transform=\"translate(0,75)\" x2=\"400\" y2=\"0\" stroke=\"#ddd\" stroke-width=\"1\" opacity=\"1\"></line><line transform=\"translate(0,38)\" x2=\"400\" y2=\"0\" stroke=\"#ddd\" stroke-width=\"1\" opacity=\"1\"></line><line transform=\"translate(0,0)\" x2=\"400\" y2=\"0\" stroke=\"#ddd\" stroke-width=\"1\" opacity=\"1\"></line></g></g><path class=\"foreground\" aria-hidden=\"true\" d=\"\" pointer-events=\"none\" display=\"none\"></path></g></g><g class=\"mark-group role-axis\" role=\"graphics-symbol\" aria-roledescription=\"axis\" aria-label=\"X-axis titled 'x' for a linear scale with values from -6 to 7\"><g transform=\"translate(0.5,300.5)\"><path class=\"background\" aria-hidden=\"true\" d=\"M0,0h0v0h0Z\" pointer-events=\"none\"></path><g><g class=\"mark-rule role-axis-tick\" pointer-events=\"none\"><line transform=\"translate(0,0)\" x2=\"0\" y2=\"5\" stroke=\"#888\" stroke-width=\"1\" opacity=\"1\"></line><line transform=\"translate(31,0)\" x2=\"0\" y2=\"5\" stroke=\"#888\" stroke-width=\"1\" opacity=\"1\"></line><line transform=\"translate(62,0)\" x2=\"0\" y2=\"5\" stroke=\"#888\" stroke-width=\"1\" opacity=\"1\"></line><line transform=\"translate(92,0)\" x2=\"0\" y2=\"5\" stroke=\"#888\" stroke-width=\"1\" opacity=\"1\"></line><line transform=\"translate(123,0)\" x2=\"0\" y2=\"5\" stroke=\"#888\" stroke-width=\"1\" opacity=\"1\"></line><line transform=\"translate(154,0)\" x2=\"0\" y2=\"5\" stroke=\"#888\" stroke-width=\"1\" opacity=\"1\"></line><line transform=\"translate(185,0)\" x2=\"0\" y2=\"5\" stroke=\"#888\" stroke-width=\"1\" opacity=\"1\"></line><line transform=\"translate(215,0)\" x2=\"0\" y2=\"5\" stroke=\"#888\" stroke-width=\"1\" opacity=\"1\"></line><line transform=\"translate(246,0)\" x2=\"0\" y2=\"5\" stroke=\"#888\" stroke-width=\"1\" opacity=\"1\"></line><line transform=\"translate(277,0)\" x2=\"0\" y2=\"5\" stroke=\"#888\" stroke-width=\"1\" opacity=\"1\"></line><line transform=\"translate(308,0)\" x2=\"0\" y2=\"5\" stroke=\"#888\" stroke-width=\"1\" opacity=\"1\"></line><line transform=\"translate(338,0)\" x2=\"0\" y2=\"5\" stroke=\"#888\" stroke-width=\"1\" opacity=\"1\"></line><line transform=\"translate(369,0)\" x2=\"0\" y2=\"5\" stroke=\"#888\" stroke-width=\"1\" opacity=\"1\"></line><line transform=\"translate(400,0)\" x2=\"0\" y2=\"5\" stroke=\"#888\" stroke-width=\"1\" opacity=\"1\"></line></g><g class=\"mark-text role-axis-label\" pointer-events=\"none\"><text text-anchor=\"start\" transform=\"translate(0,15)\" font-family=\"sans-serif\" font-size=\"10px\" fill=\"#000\" opacity=\"1\">-6</text><text text-anchor=\"middle\" transform=\"translate(30.76923076923077,15)\" font-family=\"sans-serif\" font-size=\"10px\" fill=\"#000\" opacity=\"1\">-5</text><text text-anchor=\"middle\" transform=\"translate(61.53846153846154,15)\" font-family=\"sans-serif\" font-size=\"10px\" fill=\"#000\" opacity=\"1\">-4</text><text text-anchor=\"middle\" transform=\"translate(92.3076923076923,15)\" font-family=\"sans-serif\" font-size=\"10px\" fill=\"#000\" opacity=\"1\">-3</text><text text-anchor=\"middle\" transform=\"translate(123.07692307692308,15)\" font-family=\"sans-serif\" font-size=\"10px\" fill=\"#000\" opacity=\"1\">-2</text><text text-anchor=\"middle\" transform=\"translate(153.84615384615387,15)\" font-family=\"sans-serif\" font-size=\"10px\" fill=\"#000\" opacity=\"1\">-1</text><text text-anchor=\"middle\" transform=\"translate(184.6153846153846,15)\" font-family=\"sans-serif\" font-size=\"10px\" fill=\"#000\" opacity=\"1\">0</text><text text-anchor=\"middle\" transform=\"translate(215.3846153846154,15)\" font-family=\"sans-serif\" font-size=\"10px\" fill=\"#000\" opacity=\"1\">1</text><text text-anchor=\"middle\" transform=\"translate(246.15384615384616,15)\" font-family=\"sans-serif\" font-size=\"10px\" fill=\"#000\" opacity=\"1\">2</text><text text-anchor=\"middle\" transform=\"translate(276.9230769230769,15)\" font-family=\"sans-serif\" font-size=\"10px\" fill=\"#000\" opacity=\"1\">3</text><text text-anchor=\"middle\" transform=\"translate(307.69230769230774,15)\" font-family=\"sans-serif\" font-size=\"10px\" fill=\"#000\" opacity=\"1\">4</text><text text-anchor=\"middle\" transform=\"translate(338.46153846153845,15)\" font-family=\"sans-serif\" font-size=\"10px\" fill=\"#000\" opacity=\"1\">5</text><text text-anchor=\"middle\" transform=\"translate(369.2307692307692,15)\" font-family=\"sans-serif\" font-size=\"10px\" fill=\"#000\" opacity=\"1\">6</text><text text-anchor=\"end\" transform=\"translate(400,15)\" font-family=\"sans-serif\" font-size=\"10px\" fill=\"#000\" opacity=\"1\">7</text></g><g class=\"mark-rule role-axis-domain\" pointer-events=\"none\"><line transform=\"translate(0,0)\" x2=\"400\" y2=\"0\" stroke=\"#888\" stroke-width=\"1\" opacity=\"1\"></line></g><g class=\"mark-text role-axis-title\" pointer-events=\"none\"><text text-anchor=\"middle\" transform=\"translate(200,30)\" font-family=\"sans-serif\" font-size=\"11px\" font-weight=\"bold\" fill=\"#000\" opacity=\"1\">x</text></g></g><path class=\"foreground\" aria-hidden=\"true\" d=\"\" pointer-events=\"none\" display=\"none\"></path></g></g><g class=\"mark-group role-axis\" role=\"graphics-symbol\" aria-roledescription=\"axis\" aria-label=\"Y-axis titled 'y' for a linear scale with values from -2 to 6\"><g transform=\"translate(0.5,0.5)\"><path class=\"background\" aria-hidden=\"true\" d=\"M0,0h0v0h0Z\" pointer-events=\"none\"></path><g><g class=\"mark-rule role-axis-tick\" pointer-events=\"none\"><line transform=\"translate(0,300)\" x2=\"-5\" y2=\"0\" stroke=\"#888\" stroke-width=\"1\" opacity=\"1\"></line><line transform=\"translate(0,263)\" x2=\"-5\" y2=\"0\" stroke=\"#888\" stroke-width=\"1\" opacity=\"1\"></line><line transform=\"translate(0,225)\" x2=\"-5\" y2=\"0\" stroke=\"#888\" stroke-width=\"1\" opacity=\"1\"></line><line transform=\"translate(0,188)\" x2=\"-5\" y2=\"0\" stroke=\"#888\" stroke-width=\"1\" opacity=\"1\"></line><line transform=\"translate(0,150)\" x2=\"-5\" y2=\"0\" stroke=\"#888\" stroke-width=\"1\" opacity=\"1\"></line><line transform=\"translate(0,113)\" x2=\"-5\" y2=\"0\" stroke=\"#888\" stroke-width=\"1\" opacity=\"1\"></line><line transform=\"translate(0,75)\" x2=\"-5\" y2=\"0\" stroke=\"#888\" stroke-width=\"1\" opacity=\"1\"></line><line transform=\"translate(0,38)\" x2=\"-5\" y2=\"0\" stroke=\"#888\" stroke-width=\"1\" opacity=\"1\"></line><line transform=\"translate(0,0)\" x2=\"-5\" y2=\"0\" stroke=\"#888\" stroke-width=\"1\" opacity=\"1\"></line></g><g class=\"mark-text role-axis-label\" pointer-events=\"none\"><text text-anchor=\"end\" transform=\"translate(-7,303)\" font-family=\"sans-serif\" font-size=\"10px\" fill=\"#000\" opacity=\"1\">-2</text><text text-anchor=\"end\" transform=\"translate(-7,265.5)\" font-family=\"sans-serif\" font-size=\"10px\" fill=\"#000\" opacity=\"1\">-1</text><text text-anchor=\"end\" transform=\"translate(-7,228)\" font-family=\"sans-serif\" font-size=\"10px\" fill=\"#000\" opacity=\"1\">0</text><text text-anchor=\"end\" transform=\"translate(-7,190.5)\" font-family=\"sans-serif\" font-size=\"10px\" fill=\"#000\" opacity=\"1\">1</text><text text-anchor=\"end\" transform=\"translate(-7,153)\" font-family=\"sans-serif\" font-size=\"10px\" fill=\"#000\" opacity=\"1\">2</text><text text-anchor=\"end\" transform=\"translate(-7,115.5)\" font-family=\"sans-serif\" font-size=\"10px\" fill=\"#000\" opacity=\"1\">3</text><text text-anchor=\"end\" transform=\"translate(-7,78)\" font-family=\"sans-serif\" font-size=\"10px\" fill=\"#000\" opacity=\"1\">4</text><text text-anchor=\"end\" transform=\"translate(-7,40.5)\" font-family=\"sans-serif\" font-size=\"10px\" fill=\"#000\" opacity=\"1\">5</text><text text-anchor=\"end\" transform=\"translate(-7,3)\" font-family=\"sans-serif\" font-size=\"10px\" fill=\"#000\" opacity=\"1\">6</text></g><g class=\"mark-rule role-axis-domain\" pointer-events=\"none\"><line transform=\"translate(0,300)\" x2=\"0\" y2=\"-300\" stroke=\"#888\" stroke-width=\"1\" opacity=\"1\"></line></g><g class=\"mark-text role-axis-title\" pointer-events=\"none\"><text text-anchor=\"middle\" transform=\"translate(-21,150) rotate(-90) translate(0,-2)\" font-family=\"sans-serif\" font-size=\"11px\" font-weight=\"bold\" fill=\"#000\" opacity=\"1\">y</text></g></g><path class=\"foreground\" aria-hidden=\"true\" d=\"\" pointer-events=\"none\" display=\"none\"></path></g></g><g class=\"mark-symbol role-mark marks\" role=\"graphics-object\" aria-roledescription=\"symbol mark container\"><path aria-label=\"x: 2.51956366664; y: 4.1551141104\" role=\"graphics-symbol\" aria-roledescription=\"point\" transform=\"translate(262.14042051199596,69.18322085997933)\" d=\"M7.6950704295450985,0A7.6950704295450985,7.6950704295450985,0,1,1,-7.6950704295450985,0A7.6950704295450985,7.6950704295450985,0,1,1,7.6950704295450985,0\" stroke=\"rgb(31, 109, 177)\" stroke-width=\"2\" opacity=\"0.7\"></path><path aria-label=\"x: -1.9705103016; y: -0.993017737488\" role=\"graphics-symbol\" aria-roledescription=\"point\" transform=\"translate(123.98429841222229,262.2381651557999)\" d=\"M4.938330831673207,0A4.938330831673207,4.938330831673207,0,1,1,-4.938330831673207,0A4.938330831673207,4.938330831673207,0,1,1,4.938330831673207,0\" stroke=\"rgb(191, 217, 236)\" stroke-width=\"2\" opacity=\"0.7\"></path><path aria-label=\"x: 1.25208274028; y: 2.26139067121\" role=\"graphics-symbol\" aria-roledescription=\"point\" transform=\"translate(223.14100739337243,140.19784982958967)\" d=\"M7.027301533980134,0A7.027301533980134,7.027301533980134,0,1,1,-7.027301533980134,0A7.027301533980134,7.027301533980134,0,1,1,7.027301533980134,0\" stroke=\"rgb(81, 155, 203)\" stroke-width=\"2\" opacity=\"0.7\"></path><path aria-label=\"x: 2.50156003089; y: 2.32991862095\" role=\"graphics-symbol\" aria-roledescription=\"point\" transform=\"translate(261.5864624888027,137.62805171426706)\" d=\"M7.685991462546968,0A7.685991462546968,7.685991462546968,0,1,1,-7.685991462546968,0A7.685991462546968,7.685991462546968,0,1,1,7.685991462546968,0\" stroke=\"rgb(79, 153, 202)\" stroke-width=\"2\" opacity=\"0.7\"></path><path aria-label=\"x: 1.12155008137; y: 1.47444380104\" role=\"graphics-symbol\" aria-roledescription=\"point\" transform=\"translate(219.12461788822196,169.70835746116097)\" d=\"M6.954890212984929,0A6.954890212984929,6.954890212984929,0,1,1,-6.954890212984929,0A6.954890212984929,6.954890212984929,0,1,1,6.954890212984929,0\" stroke=\"rgb(107, 172, 212)\" stroke-width=\"2\" opacity=\"0.7\"></path><path aria-label=\"x: 0.192043203764; y: 2.48284182093\" role=\"graphics-symbol\" aria-roledescription=\"point\" transform=\"translate(190.52440626965276,131.89343171507483)\" d=\"M6.415670803204607,0A6.415670803204607,6.415670803204607,0,1,1,-6.415670803204607,0A6.415670803204607,6.415670803204607,0,1,1,6.415670803204607,0\" stroke=\"rgb(74, 150, 200)\" stroke-width=\"2\" opacity=\"0.7\"></path><path aria-label=\"x: 0.752068392369; y: 2.30448257632\" role=\"graphics-symbol\" aria-roledescription=\"point\" transform=\"translate(207.75595053441762,138.5819033881441)\" d=\"M6.745712315948674,0A6.745712315948674,6.745712315948674,0,1,1,-6.745712315948674,0A6.745712315948674,6.745712315948674,0,1,1,6.745712315948674,0\" stroke=\"rgb(79, 154, 202)\" stroke-width=\"2\" opacity=\"0.7\"></path><path aria-label=\"x: -1.84512130939; y: 0.0476091523118\" role=\"graphics-symbol\" aria-roledescription=\"point\" transform=\"translate(127.84242124940496,223.21465678830597)\" d=\"M5.035839932551347,0A5.035839932551347,5.035839932551347,0,1,1,-5.035839932551347,0A5.035839932551347,5.035839932551347,0,1,1,5.035839932551347,0\" stroke=\"rgb(158, 201, 226)\" stroke-width=\"2\" opacity=\"0.7\"></path><path aria-label=\"x: -0.306213002002; y: 0.820201016643\" role=\"graphics-symbol\" aria-roledescription=\"point\" transform=\"translate(175.19344609225493,194.2424618758743)\" d=\"M6.107056294358243,0A6.107056294358243,6.107056294358243,0,1,1,-6.107056294358243,0A6.107056294358243,6.107056294358243,0,1,1,6.107056294358243,0\" stroke=\"rgb(131, 186, 219)\" stroke-width=\"2\" opacity=\"0.7\"></path><path aria-label=\"x: 0.972027893307; y: 1.98773189187\" role=\"graphics-symbol\" aria-roledescription=\"point\" transform=\"translate(214.5239351786768,150.46005405498875)\" d=\"M6.871007038406954,0A6.871007038406954,6.871007038406954,0,1,1,-6.871007038406954,0A6.871007038406954,6.871007038406954,0,1,1,6.871007038406954,0\" stroke=\"rgb(89, 162, 206)\" stroke-width=\"2\" opacity=\"0.7\"></path><path aria-label=\"x: -1.78257362526; y: 0.24935930301\" role=\"graphics-symbol\" aria-roledescription=\"point\" transform=\"translate(129.76696537666342,215.64902613711834)\" d=\"M5.083781200976293,0A5.083781200976293,5.083781200976293,0,1,1,-5.083781200976293,0A5.083781200976293,5.083781200976293,0,1,1,5.083781200976293,0\" stroke=\"rgb(151, 197, 224)\" stroke-width=\"2\" opacity=\"0.7\"></path><path aria-label=\"x: 0.100720986943; y: 1.56958137638\" role=\"graphics-symbol\" aria-roledescription=\"point\" transform=\"translate(187.7144919059315,166.14069838574255)\" d=\"M6.3602276997946205,0A6.3602276997946205,6.3602276997946205,0,1,1,-6.3602276997946205,0A6.3602276997946205,6.3602276997946205,0,1,1,6.3602276997946205,0\" stroke=\"rgb(103, 170, 211)\" stroke-width=\"2\" opacity=\"0.7\"></path><path aria-label=\"x: 2.35393723084; y: 2.62515477849\" role=\"graphics-symbol\" aria-roledescription=\"point\" transform=\"translate(257.0442224872349,126.55669580672203)\" d=\"M7.611139014766521,0A7.611139014766521,7.611139014766521,0,1,1,-7.611139014766521,0A7.611139014766521,7.611139014766521,0,1,1,7.611139014766521,0\" stroke=\"rgb(70, 147, 198)\" stroke-width=\"2\" opacity=\"0.7\"></path><path aria-label=\"x: -0.321907143016; y: -0.451023653089\" role=\"graphics-symbol\" aria-roledescription=\"point\" transform=\"translate(174.71054944567197,241.91338699083659)\" d=\"M6.097081752013385,0A6.097081752013385,6.097081752013385,0,1,1,-6.097081752013385,0A6.097081752013385,6.097081752013385,0,1,1,6.097081752013385,0\" stroke=\"rgb(175, 209, 231)\" stroke-width=\"2\" opacity=\"0.7\"></path><path aria-label=\"x: 1.83121916428; y: 0.910980417085\" role=\"graphics-symbol\" aria-roledescription=\"point\" transform=\"translate(240.96058967007363,190.83823435931504)\" d=\"M7.339959456929467,0A7.339959456929467,7.339959456929467,0,1,1,-7.339959456929467,0A7.339959456929467,7.339959456929467,0,1,1,7.339959456929467,0\" stroke=\"rgb(127, 184, 218)\" stroke-width=\"2\" opacity=\"0.7\"></path><path aria-label=\"x: 1.59126785708; y: 1.74303915927\" role=\"graphics-symbol\" aria-roledescription=\"point\" transform=\"translate(233.57747252552295,159.63603152721143)\" d=\"M7.212061874034171,0A7.212061874034171,7.212061874034171,0,1,1,-7.212061874034171,0A7.212061874034171,7.212061874034171,0,1,1,7.212061874034171,0\" stroke=\"rgb(97, 167, 209)\" stroke-width=\"2\" opacity=\"0.7\"></path><path aria-label=\"x: 3.43577220956; y: 3.9496677415\" role=\"graphics-symbol\" aria-roledescription=\"point\" transform=\"translate(290.3314526017297,76.88745969390358)\" d=\"M8.143747735281725,0A8.143747735281725,8.143747735281725,0,1,1,-8.143747735281725,0A8.143747735281725,8.143747735281725,0,1,1,8.143747735281725,0\" stroke=\"rgb(35, 114, 180)\" stroke-width=\"2\" opacity=\"0.7\"></path><path aria-label=\"x: 0.582862032072; y: 1.25441322215\" role=\"graphics-symbol\" aria-roledescription=\"point\" transform=\"translate(202.54960098684256,177.95950416940167)\" d=\"M6.647721065142327,0A6.647721065142327,6.647721065142327,0,1,1,-6.647721065142327,0A6.647721065142327,6.647721065142327,0,1,1,6.647721065142327,0\" stroke=\"rgb(114, 177, 214)\" stroke-width=\"2\" opacity=\"0.7\"></path><path aria-label=\"x: -1.38968537504; y: 0.692744440846\" role=\"graphics-symbol\" aria-roledescription=\"point\" transform=\"translate(141.8558346141936,199.0220834682825)\" d=\"M5.375150802991852,0A5.375150802991852,5.375150802991852,0,1,1,-5.375150802991852,0A5.375150802991852,5.375150802991852,0,1,1,5.375150802991852,0\" stroke=\"rgb(135, 189, 220)\" stroke-width=\"2\" opacity=\"0.7\"></path><path aria-label=\"x: -0.81314333407; y: -0.691993710694\" role=\"graphics-symbol\" aria-roledescription=\"point\" transform=\"translate(159.59558972092248,250.9497641510096)\" d=\"M5.776171825162533,0A5.776171825162533,5.776171825162533,0,1,1,-5.776171825162533,0A5.776171825162533,5.776171825162533,0,1,1,5.776171825162533,0\" stroke=\"rgb(182, 212, 233)\" stroke-width=\"2\" opacity=\"0.7\"></path><path aria-label=\"x: 0.899059419482; y: 2.20070095697\" role=\"graphics-symbol\" aria-roledescription=\"point\" transform=\"translate(212.2787513686819,142.47371411351116)\" d=\"M6.829697065006017,0A6.829697065006017,6.829697065006017,0,1,1,-6.829697065006017,0A6.829697065006017,6.829697065006017,0,1,1,6.829697065006017,0\" stroke=\"rgb(83, 157, 204)\" stroke-width=\"2\" opacity=\"0.7\"></path><path aria-label=\"x: 3.79373878082; y: 4.03624257793\" role=\"graphics-symbol\" aria-roledescription=\"point\" transform=\"translate(301.34580864059683,73.64090332757982)\" d=\"M8.312470996054412,0A8.312470996054412,8.312470996054412,0,1,1,-8.312470996054412,0A8.312470996054412,8.312470996054412,0,1,1,8.312470996054412,0\" stroke=\"rgb(33, 112, 179)\" stroke-width=\"2\" opacity=\"0.7\"></path><path aria-label=\"x: 0.130119469873; y: 1.73501638946\" role=\"graphics-symbol\" aria-roledescription=\"point\" transform=\"translate(188.6190606114844,159.93688539516492)\" d=\"M6.378128566887746,0A6.378128566887746,6.378128566887746,0,1,1,-6.378128566887746,0A6.378128566887746,6.378128566887746,0,1,1,6.378128566887746,0\" stroke=\"rgb(98, 167, 209)\" stroke-width=\"2\" opacity=\"0.7\"></path><path aria-label=\"x: -3.30041511107; y: -0.979825568204\" role=\"graphics-symbol\" aria-roledescription=\"point\" transform=\"translate(83.06415042846307,261.7434588076322)\" d=\"M3.751237411728893,0A3.751237411728893,3.751237411728893,0,1,1,-3.751237411728893,0A3.751237411728893,3.751237411728893,0,1,1,3.751237411728893,0\" stroke=\"rgb(191, 216, 236)\" stroke-width=\"2\" opacity=\"0.7\"></path><path aria-label=\"x: 2.20845851025; y: 1.52105522094\" role=\"graphics-symbol\" aria-roledescription=\"point\" transform=\"translate(252.56795416161873,167.96042921461648)\" d=\"M7.536646460430304,0A7.536646460430304,7.536646460430304,0,1,1,-7.536646460430304,0A7.536646460430304,7.536646460430304,0,1,1,7.536646460430304,0\" stroke=\"rgb(105, 171, 212)\" stroke-width=\"2\" opacity=\"0.7\"></path><path aria-label=\"x: 0.784302461447; y: 1.10174292599\" role=\"graphics-symbol\" aria-roledescription=\"point\" transform=\"translate(208.74776804452227,183.68464027527585)\" d=\"M6.7642188263719705,0A6.7642188263719705,6.7642188263719705,0,1,1,-6.7642188263719705,0A6.7642188263719705,6.7642188263719705,0,1,1,6.7642188263719705,0\" stroke=\"rgb(120, 180, 216)\" stroke-width=\"2\" opacity=\"0.7\"></path><path aria-label=\"x: 3.34656278203; y: 2.63583712316\" role=\"graphics-symbol\" aria-roledescription=\"point\" transform=\"translate(287.5865471395346,126.15610788152782)\" d=\"M8.101152969876209,0A8.101152969876209,8.101152969876209,0,1,1,-8.101152969876209,0A8.101152969876209,8.101152969876209,0,1,1,8.101152969876209,0\" stroke=\"rgb(69, 146, 198)\" stroke-width=\"2\" opacity=\"0.7\"></path><path aria-label=\"x: 1.35109141194; y: 1.23380966935\" role=\"graphics-symbol\" aria-roledescription=\"point\" transform=\"translate(226.18742805957774,178.73213739939575)\" d=\"M7.081731557398327,0A7.081731557398327,7.081731557398327,0,1,1,-7.081731557398327,0A7.081731557398327,7.081731557398327,0,1,1,7.081731557398327,0\" stroke=\"rgb(115, 177, 215)\" stroke-width=\"2\" opacity=\"0.7\"></path><path aria-label=\"x: 0.353767310317; y: 1.8912243568\" role=\"graphics-symbol\" aria-roledescription=\"point\" transform=\"translate(195.50053262515203,154.07908661996765)\" d=\"M6.512698018397854,0A6.512698018397854,6.512698018397854,0,1,1,-6.512698018397854,0A6.512698018397854,6.512698018397854,0,1,1,6.512698018397854,0\" stroke=\"rgb(92, 164, 207)\" stroke-width=\"2\" opacity=\"0.7\"></path><path aria-label=\"x: 3.22486175007; y: 3.67235742219\" role=\"graphics-symbol\" aria-roledescription=\"point\" transform=\"translate(283.84190000204467,87.28659666792775)\" d=\"M8.042680676686986,0A8.042680676686986,8.042680676686986,0,1,1,-8.042680676686986,0A8.042680676686986,8.042680676686986,0,1,1,8.042680676686986,0\" stroke=\"rgb(42, 121, 184)\" stroke-width=\"2\" opacity=\"0.7\"></path><path aria-label=\"x: 1.68707576166; y: 3.68763387759\" role=\"graphics-symbol\" aria-roledescription=\"point\" transform=\"translate(236.52540805097155,86.7137295902289)\" d=\"M7.263398991716492,0A7.263398991716492,7.263398991716492,0,1,1,-7.263398991716492,0A7.263398991716492,7.263398991716492,0,1,1,7.263398991716492,0\" stroke=\"rgb(41, 121, 184)\" stroke-width=\"2\" opacity=\"0.7\"></path><path aria-label=\"x: 1.92433310163; y: 3.63985734563\" role=\"graphics-symbol\" aria-roledescription=\"point\" transform=\"translate(243.82563389629374,88.50534953899796)\" d=\"M7.388994361026934,0A7.388994361026934,7.388994361026934,0,1,1,-7.388994361026934,0A7.388994361026934,7.388994361026934,0,1,1,7.388994361026934,0\" stroke=\"rgb(43, 122, 185)\" stroke-width=\"2\" opacity=\"0.7\"></path><path aria-label=\"x: 0.438494593814; y: 1.0630151458\" role=\"graphics-symbol\" aria-roledescription=\"point\" transform=\"translate(198.10752596352154,185.13693203252816)\" d=\"M6.56295800108849,0A6.56295800108849,6.56295800108849,0,1,1,-6.56295800108849,0A6.56295800108849,6.56295800108849,0,1,1,6.56295800108849,0\" stroke=\"rgb(121, 181, 216)\" stroke-width=\"2\" opacity=\"0.7\"></path><path aria-label=\"x: 2.85170098609; y: 3.99058407329\" role=\"graphics-symbol\" aria-roledescription=\"point\" transform=\"translate(272.3600303413818,75.3530972516367)\" d=\"M7.860681440628097,0A7.860681440628097,7.860681440628097,0,1,1,-7.860681440628097,0A7.860681440628097,7.860681440628097,0,1,1,7.860681440628097,0\" stroke=\"rgb(34, 113, 179)\" stroke-width=\"2\" opacity=\"0.7\"></path><path aria-label=\"x: 1.9378929032; y: 3.00097114041\" role=\"graphics-symbol\" aria-roledescription=\"point\" transform=\"translate(244.24285855992375,112.46358223468529)\" d=\"M7.396107995376493,0A7.396107995376493,7.396107995376493,0,1,1,-7.396107995376493,0A7.396107995376493,7.396107995376493,0,1,1,7.396107995376493,0\" stroke=\"rgb(59, 138, 194)\" stroke-width=\"2\" opacity=\"0.7\"></path><path aria-label=\"x: 1.94400746198; y: 2.42232135364\" role=\"graphics-symbol\" aria-roledescription=\"point\" transform=\"translate(244.4309988301514,134.1629492385465)\" d=\"M7.399313528884753,0A7.399313528884753,7.399313528884753,0,1,1,-7.399313528884753,0A7.399313528884753,7.399313528884753,0,1,1,7.399313528884753,0\" stroke=\"rgb(76, 151, 201)\" stroke-width=\"2\" opacity=\"0.7\"></path><path aria-label=\"x: -1.1609148402; y: 1.51351039082\" role=\"graphics-symbol\" aria-roledescription=\"point\" transform=\"translate(148.89492799381577,168.24336034432216)\" d=\"M5.537751484044283,0A5.537751484044283,5.537751484044283,0,1,1,-5.537751484044283,0A5.537751484044283,5.537751484044283,0,1,1,5.537751484044283,0\" stroke=\"rgb(105, 172, 212)\" stroke-width=\"2\" opacity=\"0.7\"></path><path aria-label=\"x: 2.31624967429; y: 3.7057714138\" role=\"graphics-symbol\" aria-roledescription=\"point\" transform=\"translate(255.88460536290833,86.03357198238506)\" d=\"M7.591911206169913,0A7.591911206169913,7.591911206169913,0,1,1,-7.591911206169913,0A7.591911206169913,7.591911206169913,0,1,1,7.591911206169913,0\" stroke=\"rgb(41, 121, 184)\" stroke-width=\"2\" opacity=\"0.7\"></path><path aria-label=\"x: 1.02671805325; y: 2.73241648342\" role=\"graphics-symbol\" aria-roledescription=\"point\" transform=\"translate(216.20670933067188,122.53438187157302)\" d=\"M6.901806920340851,0A6.901806920340851,6.901806920340851,0,1,1,-6.901806920340851,0A6.901806920340851,6.901806920340851,0,1,1,6.901806920340851,0\" stroke=\"rgb(67, 144, 197)\" stroke-width=\"2\" opacity=\"0.7\"></path><path aria-label=\"x: 2.9551765155; y: 4.89244582655\" role=\"graphics-symbol\" aria-roledescription=\"point\" transform=\"translate(275.5438927847086,41.533281504526464)\" d=\"M7.911568405501105,0A7.911568405501105,7.911568405501105,0,1,1,-7.911568405501105,0A7.911568405501105,7.911568405501105,0,1,1,7.911568405501105,0\" stroke=\"rgb(17, 90, 162)\" stroke-width=\"2\" opacity=\"0.7\"></path><path aria-label=\"x: 1.07050409551; y: 0.751418266974\" role=\"graphics-symbol\" aria-roledescription=\"point\" transform=\"translate(217.5539721696301,196.82181498848834)\" d=\"M6.9263672047569065,0A6.9263672047569065,6.9263672047569065,0,1,1,-6.9263672047569065,0A6.9263672047569065,6.9263672047569065,0,1,1,6.9263672047569065,0\" stroke=\"rgb(133, 187, 219)\" stroke-width=\"2\" opacity=\"0.7\"></path><path aria-label=\"x: 0.792513305753; y: 3.2724021799\" role=\"graphics-symbol\" aria-roledescription=\"point\" transform=\"translate(209.0004094077992,102.28491825367388)\" d=\"M6.76892482357579,0A6.76892482357579,6.76892482357579,0,1,1,-6.76892482357579,0A6.76892482357579,6.76892482357579,0,1,1,6.76892482357579,0\" stroke=\"rgb(52, 131, 190)\" stroke-width=\"2\" opacity=\"0.7\"></path><path aria-label=\"x: 1.39352144827; y: 2.15411084494\" role=\"graphics-symbol\" aria-roledescription=\"point\" transform=\"translate(227.49296763907526,144.22084331469506)\" d=\"M7.104929834938027,0A7.104929834938027,7.104929834938027,0,1,1,-7.104929834938027,0A7.104929834938027,7.104929834938027,0,1,1,7.104929834938027,0\" stroke=\"rgb(84, 158, 204)\" stroke-width=\"2\" opacity=\"0.7\"></path><path aria-label=\"x: 4.41901963144; y: 4.99086356939\" role=\"graphics-symbol\" aria-roledescription=\"point\" transform=\"translate(320.5852194288134,37.842616147797095)\" d=\"M8.59925163026819,0A8.59925163026819,8.59925163026819,0,1,1,-8.59925163026819,0A8.59925163026819,8.59925163026819,0,1,1,8.59925163026819,0\" stroke=\"rgb(16, 87, 159)\" stroke-width=\"2\" opacity=\"0.7\"></path><path aria-label=\"x: 0.996561957001; y: 2.63016233988\" role=\"graphics-symbol\" aria-roledescription=\"point\" transform=\"translate(215.278829446197,126.36891225455959)\" d=\"M6.8848409393063505,0A6.8848409393063505,6.8848409393063505,0,1,1,-6.8848409393063505,0A6.8848409393063505,6.8848409393063505,0,1,1,6.8848409393063505,0\" stroke=\"rgb(70, 146, 198)\" stroke-width=\"2\" opacity=\"0.7\"></path><path aria-label=\"x: -2.48430704228; y: 0.311094720396\" role=\"graphics-symbol\" aria-roledescription=\"point\" transform=\"translate(108.17516792988013,213.33394798516773)\" d=\"M4.516843685085882,0A4.516843685085882,4.516843685085882,0,1,1,-4.516843685085882,0A4.516843685085882,4.516843685085882,0,1,1,4.516843685085882,0\" stroke=\"rgb(149, 196, 224)\" stroke-width=\"2\" opacity=\"0.7\"></path><path aria-label=\"x: -1.28788748638; y: -0.857613439799\" role=\"graphics-symbol\" aria-roledescription=\"point\" transform=\"translate(144.9880773421063,257.1605039924552)\" d=\"M5.448103849589198,0A5.448103849589198,5.448103849589198,0,1,1,-5.448103849589198,0A5.448103849589198,5.448103849589198,0,1,1,5.448103849589198,0\" stroke=\"rgb(187, 215, 235)\" stroke-width=\"2\" opacity=\"0.7\"></path><path aria-label=\"x: -0.660641675211; y: 0.475671979823\" role=\"graphics-symbol\" aria-roledescription=\"point\" transform=\"translate(164.28794845504711,207.16230075664217)\" d=\"M5.877672260219142,0A5.877672260219142,5.877672260219142,0,1,1,-5.877672260219142,0A5.877672260219142,5.877672260219142,0,1,1,5.877672260219142,0\" stroke=\"rgb(143, 193, 222)\" stroke-width=\"2\" opacity=\"0.7\"></path><path aria-label=\"x: 1.40022171952; y: 3.59633580176\" role=\"graphics-symbol\" aria-roledescription=\"point\" transform=\"translate(227.69912983128867,90.13740743404898)\" d=\"M7.108586232403258,0A7.108586232403258,7.108586232403258,0,1,1,-7.108586232403258,0A7.108586232403258,7.108586232403258,0,1,1,7.108586232403258,0\" stroke=\"rgb(44, 123, 185)\" stroke-width=\"2\" opacity=\"0.7\"></path><path aria-label=\"x: 0.840824180609; y: 1.64892587442\" role=\"graphics-symbol\" aria-roledescription=\"point\" transform=\"translate(210.4868978648784,163.1652797091168)\" d=\"M6.796547929457975,0A6.796547929457975,6.796547929457975,0,1,1,-6.796547929457975,0A6.796547929457975,6.796547929457975,0,1,1,6.796547929457975,0\" stroke=\"rgb(101, 169, 210)\" stroke-width=\"2\" opacity=\"0.7\"></path><path aria-label=\"x: -1.49232617597; y: 0.748950891443\" role=\"graphics-symbol\" aria-roledescription=\"point\" transform=\"translate(138.69765612385524,196.91434157089213)\" d=\"M5.300577209497769,0A5.300577209497769,5.300577209497769,0,1,1,-5.300577209497769,0A5.300577209497769,5.300577209497769,0,1,1,5.300577209497769,0\" stroke=\"rgb(133, 188, 219)\" stroke-width=\"2\" opacity=\"0.7\"></path><path aria-label=\"x: 4.06703564355; y: 2.75888180981\" role=\"graphics-symbol\" aria-roledescription=\"point\" transform=\"translate(309.7549428785319,121.54193213194684)\" d=\"M8.439015658017064,0A8.439015658017064,8.439015658017064,0,1,1,-8.439015658017064,0A8.439015658017064,8.439015658017064,0,1,1,8.439015658017064,0\" stroke=\"rgb(66, 143, 197)\" stroke-width=\"2\" opacity=\"0.7\"></path><path aria-label=\"x: 4.63355383767; y: 3.55661123345\" role=\"graphics-symbol\" aria-roledescription=\"point\" transform=\"translate(327.1862719282958,91.6270787455889)\" d=\"M8.695467249677629,0A8.695467249677629,8.695467249677629,0,1,1,-8.695467249677629,0A8.695467249677629,8.695467249677629,0,1,1,8.695467249677629,0\" stroke=\"rgb(45, 124, 186)\" stroke-width=\"2\" opacity=\"0.7\"></path><path aria-label=\"x: 0.0860766242338; y: 1.84391941113\" role=\"graphics-symbol\" aria-roledescription=\"point\" transform=\"translate(187.26389613027183,155.85302208243826)\" d=\"M6.351291856453919,0A6.351291856453919,6.351291856453919,0,1,1,-6.351291856453919,0A6.351291856453919,6.351291856453919,0,1,1,6.351291856453919,0\" stroke=\"rgb(94, 165, 208)\" stroke-width=\"2\" opacity=\"0.7\"></path><path aria-label=\"x: 3.47767290205; y: 4.28694825037\" role=\"graphics-symbol\" aria-roledescription=\"point\" transform=\"translate(291.6207046785973,64.23944061106435)\" d=\"M8.163677324562967,0A8.163677324562967,8.163677324562967,0,1,1,-8.163677324562967,0A8.163677324562967,8.163677324562967,0,1,1,8.163677324562967,0\" stroke=\"rgb(28, 106, 174)\" stroke-width=\"2\" opacity=\"0.7\"></path><path aria-label=\"x: 4.44445468348; y: 3.5779925421\" role=\"graphics-symbol\" aria-roledescription=\"point\" transform=\"translate(321.36783641468287,90.82527967114653)\" d=\"M8.610715074955857,0A8.610715074955857,8.610715074955857,0,1,1,-8.610715074955857,0A8.610715074955857,8.610715074955857,0,1,1,8.610715074955857,0\" stroke=\"rgb(44, 124, 186)\" stroke-width=\"2\" opacity=\"0.7\"></path><path aria-label=\"x: 0.355324085508; y: 0.40046229861\" role=\"graphics-symbol\" aria-roledescription=\"point\" transform=\"translate(195.5484334002548,209.98266380212013)\" d=\"M6.513624990359941,0A6.513624990359941,6.513624990359941,0,1,1,-6.513624990359941,0A6.513624990359941,6.513624990359941,0,1,1,6.513624990359941,0\" stroke=\"rgb(146, 195, 223)\" stroke-width=\"2\" opacity=\"0.7\"></path><path aria-label=\"x: -0.390798390673; y: 0.666050513955\" role=\"graphics-symbol\" aria-roledescription=\"point\" transform=\"translate(172.59081874850847,200.0231057267058)\" d=\"M6.053102918025553,0A6.053102918025553,6.053102918025553,0,1,1,-6.053102918025553,0A6.053102918025553,6.053102918025553,0,1,1,6.053102918025553,0\" stroke=\"rgb(136, 189, 220)\" stroke-width=\"2\" opacity=\"0.7\"></path><path aria-label=\"x: 1.68139367646; y: 3.99278214096\" role=\"graphics-symbol\" aria-roledescription=\"point\" transform=\"translate(236.35057466040146,75.27066971393921)\" d=\"M7.260364463967015,0A7.260364463967015,7.260364463967015,0,1,1,-7.260364463967015,0A7.260364463967015,7.260364463967015,0,1,1,7.260364463967015,0\" stroke=\"rgb(34, 113, 179)\" stroke-width=\"2\" opacity=\"0.7\"></path><path aria-label=\"x: 2.40330262307; y: 3.77397433689\" role=\"graphics-symbol\" aria-roledescription=\"point\" transform=\"translate(258.56315763291514,83.47596236675852)\" d=\"M7.63625149500755,0A7.63625149500755,7.63625149500755,0,1,1,-7.63625149500755,0A7.63625149500755,7.63625149500755,0,1,1,7.63625149500755,0\" stroke=\"rgb(39, 119, 183)\" stroke-width=\"2\" opacity=\"0.7\"></path><path aria-label=\"x: -1.8188942299; y: 0.310692898889\" role=\"graphics-symbol\" aria-roledescription=\"point\" transform=\"translate(128.6494083107757,213.34901629165336)\" d=\"M5.055997690124837,0A5.055997690124837,5.055997690124837,0,1,1,-5.055997690124837,0A5.055997690124837,5.055997690124837,0,1,1,5.055997690124837,0\" stroke=\"rgb(149, 196, 224)\" stroke-width=\"2\" opacity=\"0.7\"></path><path aria-label=\"x: 2.00374784345; y: 3.27838301649\" role=\"graphics-symbol\" aria-roledescription=\"point\" transform=\"translate(246.26916441370196,102.06063688151828)\" d=\"M7.430559433314339,0A7.430559433314339,7.430559433314339,0,1,1,-7.430559433314339,0A7.430559433314339,7.430559433314339,0,1,1,7.430559433314339,0\" stroke=\"rgb(51, 131, 190)\" stroke-width=\"2\" opacity=\"0.7\"></path><path aria-label=\"x: 0.770546140227; y: 2.33970541255\" role=\"graphics-symbol\" aria-roledescription=\"point\" transform=\"translate(208.324496622358,137.26104702948984)\" d=\"M6.756327125429188,0A6.756327125429188,6.756327125429188,0,1,1,-6.756327125429188,0A6.756327125429188,6.756327125429188,0,1,1,6.756327125429188,0\" stroke=\"rgb(78, 153, 202)\" stroke-width=\"2\" opacity=\"0.7\"></path><path aria-label=\"x: 2.78405760874; y: 3.70889243037\" role=\"graphics-symbol\" aria-roledescription=\"point\" transform=\"translate(270.27869565354956,85.91653386110247)\" d=\"M7.827237110878844,0A7.827237110878844,7.827237110878844,0,1,1,-7.827237110878844,0A7.827237110878844,7.827237110878844,0,1,1,7.827237110878844,0\" stroke=\"rgb(41, 120, 184)\" stroke-width=\"2\" opacity=\"0.7\"></path><path aria-label=\"x: 2.67705814351; y: 3.37728255472\" role=\"graphics-symbol\" aria-roledescription=\"point\" transform=\"translate(266.9864044156656,98.3519041981739)\" d=\"M7.774040497889961,0A7.774040497889961,7.774040497889961,0,1,1,-7.774040497889961,0A7.774040497889961,7.774040497889961,0,1,1,7.774040497889961,0\" stroke=\"rgb(49, 129, 189)\" stroke-width=\"2\" opacity=\"0.7\"></path><path aria-label=\"x: -0.474976254408; y: 0.622800130039\" role=\"graphics-symbol\" aria-roledescription=\"point\" transform=\"translate(170.00073063359136,201.6449951235488)\" d=\"M5.998927756976486,0A5.998927756976486,5.998927756976486,0,1,1,-5.998927756976486,0A5.998927756976486,5.998927756976486,0,1,1,5.998927756976486,0\" stroke=\"rgb(138, 190, 221)\" stroke-width=\"2\" opacity=\"0.7\"></path><path aria-label=\"x: -0.017573049948; y: 0.0626479716918\" role=\"graphics-symbol\" aria-roledescription=\"point\" transform=\"translate(184.07467538621503,222.65070106155753)\" d=\"M6.28768284649946,0A6.28768284649946,6.28768284649946,0,1,1,-6.28768284649946,0A6.28768284649946,6.28768284649946,0,1,1,6.28768284649946,0\" stroke=\"rgb(158, 201, 226)\" stroke-width=\"2\" opacity=\"0.7\"></path><path aria-label=\"x: -0.909513398549; y: -0.287342302702\" role=\"graphics-symbol\" aria-roledescription=\"point\" transform=\"translate(156.6303569677332,235.77533635131743)\" d=\"M5.711100783146732,0A5.711100783146732,5.711100783146732,0,1,1,-5.711100783146732,0A5.711100783146732,5.711100783146732,0,1,1,5.711100783146732,0\" stroke=\"rgb(170, 207, 230)\" stroke-width=\"2\" opacity=\"0.7\"></path><path aria-label=\"x: 2.35903113274; y: 2.75346908286\" role=\"graphics-symbol\" aria-roledescription=\"point\" transform=\"translate(257.20095793054224,121.74490939260903)\" d=\"M7.613734146652032,0A7.613734146652032,7.613734146652032,0,1,1,-7.613734146652032,0A7.613734146652032,7.613734146652032,0,1,1,7.613734146652032,0\" stroke=\"rgb(66, 143, 197)\" stroke-width=\"2\" opacity=\"0.7\"></path><path aria-label=\"x: -1.32324125047; y: 0.0460889669888\" role=\"graphics-symbol\" aria-roledescription=\"point\" transform=\"translate(143.90026921617925,223.2716637379193)\" d=\"M5.422878953242825,0A5.422878953242825,5.422878953242825,0,1,1,-5.422878953242825,0A5.422878953242825,5.422878953242825,0,1,1,5.422878953242825,0\" stroke=\"rgb(158, 201, 226)\" stroke-width=\"2\" opacity=\"0.7\"></path><path aria-label=\"x: 2.75622498871; y: 2.65003416461\" role=\"graphics-symbol\" aria-roledescription=\"point\" transform=\"translate(269.4223073449722,125.62371882705791)\" d=\"M7.813434500391169,0A7.813434500391169,7.813434500391169,0,1,1,-7.813434500391169,0A7.813434500391169,7.813434500391169,0,1,1,7.813434500391169,0\" stroke=\"rgb(69, 146, 198)\" stroke-width=\"2\" opacity=\"0.7\"></path><path aria-label=\"x: -0.520917231978; y: 1.45273217275\" role=\"graphics-symbol\" aria-roledescription=\"point\" transform=\"translate(168.58716209298814,170.5225435217139)\" d=\"M5.969153684873896,0A5.969153684873896,5.969153684873896,0,1,1,-5.969153684873896,0A5.969153684873896,5.969153684873896,0,1,1,5.969153684873896,0\" stroke=\"rgb(107, 173, 212)\" stroke-width=\"2\" opacity=\"0.7\"></path><path aria-label=\"x: 0.849842686803; y: 1.96354770125\" role=\"graphics-symbol\" aria-roledescription=\"point\" transform=\"translate(210.764390363179,151.3669612031194)\" d=\"M6.801692089182182,0A6.801692089182182,6.801692089182182,0,1,1,-6.801692089182182,0A6.801692089182182,6.801692089182182,0,1,1,6.801692089182182,0\" stroke=\"rgb(90, 162, 207)\" stroke-width=\"2\" opacity=\"0.7\"></path><path aria-label=\"x: 1.3455085071; y: 1.80032525317\" role=\"graphics-symbol\" aria-roledescription=\"point\" transform=\"translate(226.0156463722053,157.48780300621002)\" d=\"M7.078673489748158,0A7.078673489748158,7.078673489748158,0,1,1,-7.078673489748158,0A7.078673489748158,7.078673489748158,0,1,1,7.078673489748158,0\" stroke=\"rgb(95, 166, 208)\" stroke-width=\"2\" opacity=\"0.7\"></path><path aria-label=\"x: 1.74458002114; y: 1.42949344244\" role=\"graphics-symbol\" aria-roledescription=\"point\" transform=\"translate(238.29476988118662,171.39399590863712)\" d=\"M7.294038206376221,0A7.294038206376221,7.294038206376221,0,1,1,-7.294038206376221,0A7.294038206376221,7.294038206376221,0,1,1,7.294038206376221,0\" stroke=\"rgb(108, 173, 213)\" stroke-width=\"2\" opacity=\"0.7\"></path><path aria-label=\"x: 2.53481378907; y: 3.28976500678\" role=\"graphics-symbol\" aria-roledescription=\"point\" transform=\"translate(262.6096550484589,101.6338122459216)\" d=\"M7.702752469287205,0A7.702752469287205,7.702752469287205,0,1,1,-7.702752469287205,0A7.702752469287205,7.702752469287205,0,1,1,7.702752469287205,0\" stroke=\"rgb(51, 131, 190)\" stroke-width=\"2\" opacity=\"0.7\"></path><path aria-label=\"x: -1.28741713845; y: -0.0734233222425\" role=\"graphics-symbol\" aria-roledescription=\"point\" transform=\"translate(145.00254958604032,227.7533745840951)\" d=\"M5.448438655454176,0A5.448438655454176,5.448438655454176,0,1,1,-5.448438655454176,0A5.448438655454176,5.448438655454176,0,1,1,5.448438655454176,0\" stroke=\"rgb(162, 203, 227)\" stroke-width=\"2\" opacity=\"0.7\"></path><path aria-label=\"x: 2.45526244623; y: 2.70760475074\" role=\"graphics-symbol\" aria-roledescription=\"point\" transform=\"translate(260.16192142240186,123.46482184729867)\" d=\"M7.662594876439103,0A7.662594876439103,7.662594876439103,0,1,1,-7.662594876439103,0A7.662594876439103,7.662594876439103,0,1,1,7.662594876439103,0\" stroke=\"rgb(67, 145, 197)\" stroke-width=\"2\" opacity=\"0.7\"></path><path aria-label=\"x: 0.0117865209075; y: 1.88496776879\" role=\"graphics-symbol\" aria-roledescription=\"point\" transform=\"translate(184.97804679715298,154.3137086703452)\" d=\"M6.305765725225804,0A6.305765725225804,6.305765725225804,0,1,1,-6.305765725225804,0A6.305765725225804,6.305765725225804,0,1,1,6.305765725225804,0\" stroke=\"rgb(92, 164, 207)\" stroke-width=\"2\" opacity=\"0.7\"></path><path aria-label=\"x: -0.529134753158; y: 0.782641912922\" role=\"graphics-symbol\" aria-roledescription=\"point\" transform=\"translate(168.33431528746036,195.65092826543193)\" d=\"M5.963812286506838,0A5.963812286506838,5.963812286506838,0,1,1,-5.963812286506838,0A5.963812286506838,5.963812286506838,0,1,1,5.963812286506838,0\" stroke=\"rgb(132, 187, 219)\" stroke-width=\"2\" opacity=\"0.7\"></path><path aria-label=\"x: 1.490856596; y: 3.45550015126\" role=\"graphics-symbol\" aria-roledescription=\"point\" transform=\"translate(230.4878952616802,95.41874432761507)\" d=\"M7.157862975082976,0A7.157862975082976,7.157862975082976,0,1,1,-7.157862975082976,0A7.157862975082976,7.157862975082976,0,1,1,7.157862975082976,0\" stroke=\"rgb(47, 127, 188)\" stroke-width=\"2\" opacity=\"0.7\"></path><path aria-label=\"x: 0.496293886146; y: 1.96515494648\" role=\"graphics-symbol\" aria-roledescription=\"point\" transform=\"translate(199.8859657275603,151.30668950717612)\" d=\"M6.597024675745145,0A6.597024675745145,6.597024675745145,0,1,1,-6.597024675745145,0A6.597024675745145,6.597024675745145,0,1,1,6.597024675745145,0\" stroke=\"rgb(90, 162, 207)\" stroke-width=\"2\" opacity=\"0.7\"></path><path aria-label=\"x: 3.04328905871; y: 3.60781071617\" role=\"graphics-symbol\" aria-roledescription=\"point\" transform=\"translate(278.25504796041236,89.70709814346505)\" d=\"M7.95464357781991,0A7.95464357781991,7.95464357781991,0,1,1,-7.95464357781991,0A7.95464357781991,7.95464357781991,0,1,1,7.95464357781991,0\" stroke=\"rgb(43, 123, 185)\" stroke-width=\"2\" opacity=\"0.7\"></path><path aria-label=\"x: 0.428136176402; y: 0.810873698885\" role=\"graphics-symbol\" aria-roledescription=\"point\" transform=\"translate(197.7888054277616,194.5922362918084)\" d=\"M6.556834088340376,0A6.556834088340376,6.556834088340376,0,1,1,-6.556834088340376,0A6.556834088340376,6.556834088340376,0,1,1,6.556834088340376,0\" stroke=\"rgb(131, 186, 219)\" stroke-width=\"2\" opacity=\"0.7\"></path><path aria-label=\"x: 2.69668882973; y: 3.57200063879\" role=\"graphics-symbol\" aria-roledescription=\"point\" transform=\"translate(267.5904255300396,91.04997604521068)\" d=\"M7.783827460729641,0A7.783827460729641,7.783827460729641,0,1,1,-7.783827460729641,0A7.783827460729641,7.783827460729641,0,1,1,7.783827460729641,0\" stroke=\"rgb(44, 124, 186)\" stroke-width=\"2\" opacity=\"0.7\"></path><path aria-label=\"x: 2.69609385032; y: 3.94062842867\" role=\"graphics-symbol\" aria-roledescription=\"point\" transform=\"translate(267.5721184712403,77.22643392481794)\" d=\"M7.783531012029316,0A7.783531012029316,7.783531012029316,0,1,1,-7.783531012029316,0A7.783531012029316,7.783531012029316,0,1,1,7.783531012029316,0\" stroke=\"rgb(35, 115, 180)\" stroke-width=\"2\" opacity=\"0.7\"></path><path aria-label=\"x: 1.44425342094; y: 2.92164040786\" role=\"graphics-symbol\" aria-roledescription=\"point\" transform=\"translate(229.05395141353318,115.43848470541893)\" d=\"M7.132568089681176,0A7.132568089681176,7.132568089681176,0,1,1,-7.132568089681176,0A7.132568089681176,7.132568089681176,0,1,1,7.132568089681176,0\" stroke=\"rgb(61, 140, 195)\" stroke-width=\"2\" opacity=\"0.7\"></path><path aria-label=\"x: 0.0620109016952; y: -1.14157684521\" role=\"graphics-symbol\" aria-roledescription=\"point\" transform=\"translate(186.52341235985307,267.8091316955073)\" d=\"M6.336579824248642,0A6.336579824248642,6.336579824248642,0,1,1,-6.336579824248642,0A6.336579824248642,6.336579824248642,0,1,1,6.336579824248642,0\" stroke=\"rgb(194, 218, 238)\" stroke-width=\"2\" opacity=\"0.7\"></path><path aria-label=\"x: 1.06724777979; y: 2.96748790192\" role=\"graphics-symbol\" aria-roledescription=\"point\" transform=\"translate(217.45377783968632,113.71920367804779)\" d=\"M6.924543684003307,0A6.924543684003307,6.924543684003307,0,1,1,-6.924543684003307,0A6.924543684003307,6.924543684003307,0,1,1,6.924543684003307,0\" stroke=\"rgb(60, 138, 194)\" stroke-width=\"2\" opacity=\"0.7\"></path><path aria-label=\"x: 1.83553960613; y: 1.30770953069\" role=\"graphics-symbol\" aria-roledescription=\"point\" transform=\"translate(241.09352634257476,175.96089259922474)\" d=\"M7.342241897763473,0A7.342241897763473,7.342241897763473,0,1,1,-7.342241897763473,0A7.342241897763473,7.342241897763473,0,1,1,7.342241897763473,0\" stroke=\"rgb(113, 176, 214)\" stroke-width=\"2\" opacity=\"0.7\"></path><path aria-label=\"x: 1.10576665702; y: 1.62476063683\" role=\"graphics-symbol\" aria-roledescription=\"point\" transform=\"translate(218.63897406206618,164.07147611869456)\" d=\"M6.9460834044766,0A6.9460834044766,6.9460834044766,0,1,1,-6.9460834044766,0A6.9460834044766,6.9460834044766,0,1,1,6.9460834044766,0\" stroke=\"rgb(101, 169, 210)\" stroke-width=\"2\" opacity=\"0.7\"></path><path aria-label=\"x: 1.1801942123; y: 1.49331122986\" role=\"graphics-symbol\" aria-roledescription=\"point\" transform=\"translate(220.9290526862544,169.00082888025517)\" d=\"M6.9875151280337,0A6.9875151280337,6.9875151280337,0,1,1,-6.9875151280337,0A6.9875151280337,6.9875151280337,0,1,1,6.9875151280337,0\" stroke=\"rgb(106, 172, 212)\" stroke-width=\"2\" opacity=\"0.7\"></path><path aria-label=\"x: -1.02969452472; y: 0.739865038421\" role=\"graphics-symbol\" aria-roledescription=\"point\" transform=\"translate(152.93247616256843,197.2550610592182)\" d=\"M5.628898137468546,0A5.628898137468546,5.628898137468546,0,1,1,-5.628898137468546,0A5.628898137468546,5.628898137468546,0,1,1,5.628898137468546,0\" stroke=\"rgb(134, 188, 220)\" stroke-width=\"2\" opacity=\"0.7\"></path><path aria-label=\"x: 2.05944939907; y: 2.94874129947\" role=\"graphics-symbol\" aria-roledescription=\"point\" transform=\"translate(247.98305843305207,114.4222012699152)\" d=\"M7.459575012536909,0A7.459575012536909,7.459575012536909,0,1,1,-7.459575012536909,0A7.459575012536909,7.459575012536909,0,1,1,7.459575012536909,0\" stroke=\"rgb(61, 139, 194)\" stroke-width=\"2\" opacity=\"0.7\"></path><path aria-label=\"x: 1.35382768365; y: 3.06841915034\" role=\"graphics-symbol\" aria-roledescription=\"point\" transform=\"translate(226.27162103534167,109.93428186226211)\" d=\"M7.083229883562868,0A7.083229883562868,7.083229883562868,0,1,1,-7.083229883562868,0A7.083229883562868,7.083229883562868,0,1,1,7.083229883562868,0\" stroke=\"rgb(57, 136, 193)\" stroke-width=\"2\" opacity=\"0.7\"></path><path aria-label=\"x: 0.305777831234; y: 0.555896263063\" role=\"graphics-symbol\" aria-roledescription=\"point\" transform=\"translate(194.0239332687278,204.1538901351513)\" d=\"M6.484057979093518,0A6.484057979093518,6.484057979093518,0,1,1,-6.484057979093518,0A6.484057979093518,6.484057979093518,0,1,1,6.484057979093518,0\" stroke=\"rgb(140, 192, 221)\" stroke-width=\"2\" opacity=\"0.7\"></path><path aria-label=\"x: 1.03768342864; y: 0.821913597883\" role=\"graphics-symbol\" aria-roledescription=\"point\" transform=\"translate(216.5441054967248,194.17824007938782)\" d=\"M6.907965768733185,0A6.907965768733185,6.907965768733185,0,1,1,-6.907965768733185,0A6.907965768733185,6.907965768733185,0,1,1,6.907965768733185,0\" stroke=\"rgb(130, 186, 219)\" stroke-width=\"2\" opacity=\"0.7\"></path><path aria-label=\"x: -2.22795773244; y: -0.869733035167\" role=\"graphics-symbol\" aria-roledescription=\"point\" transform=\"translate(116.06283900192066,257.6149888187753)\" d=\"M4.731832138133947,0A4.731832138133947,4.731832138133947,0,1,1,-4.731832138133947,0A4.731832138133947,4.731832138133947,0,1,1,4.731832138133947,0\" stroke=\"rgb(187, 215, 235)\" stroke-width=\"2\" opacity=\"0.7\"></path><path aria-label=\"x: 0.992972399866; y: 2.16567014503\" role=\"graphics-symbol\" aria-roledescription=\"point\" transform=\"translate(215.1683815343278,143.78736956121176)\" d=\"M6.882818649975998,0A6.882818649975998,6.882818649975998,0,1,1,-6.882818649975998,0A6.882818649975998,6.882818649975998,0,1,1,6.882818649975998,0\" stroke=\"rgb(84, 157, 204)\" stroke-width=\"2\" opacity=\"0.7\"></path><path aria-label=\"x: -0.60484727402; y: 0.81305019942\" role=\"graphics-symbol\" aria-roledescription=\"point\" transform=\"translate(166.00469926091006,194.51061752173217)\" d=\"M5.914372090543126,0A5.914372090543126,5.914372090543126,0,1,1,-5.914372090543126,0A5.914372090543126,5.914372090543126,0,1,1,5.914372090543126,0\" stroke=\"rgb(131, 186, 219)\" stroke-width=\"2\" opacity=\"0.7\"></path><path aria-label=\"x: -0.652981414895; y: 0.621765437391\" role=\"graphics-symbol\" aria-roledescription=\"point\" transform=\"translate(164.52364877246254,201.6837960978315)\" d=\"M5.88272450162631,0A5.88272450162631,5.88272450162631,0,1,1,-5.88272450162631,0A5.88272450162631,5.88272450162631,0,1,1,5.88272450162631,0\" stroke=\"rgb(138, 190, 221)\" stroke-width=\"2\" opacity=\"0.7\"></path><path aria-label=\"x: -1.22374916987; y: 0.758682853485\" role=\"graphics-symbol\" aria-roledescription=\"point\" transform=\"translate(146.96156400396015,196.54939299432837)\" d=\"M5.493570849320339,0A5.493570849320339,5.493570849320339,0,1,1,-5.493570849320339,0A5.493570849320339,5.493570849320339,0,1,1,5.493570849320339,0\" stroke=\"rgb(133, 187, 219)\" stroke-width=\"2\" opacity=\"0.7\"></path><path aria-label=\"x: 0.865836811861; y: 1.6498746944\" role=\"graphics-symbol\" aria-roledescription=\"point\" transform=\"translate(211.25651728804286,163.12969895988743)\" d=\"M6.81080558939656,0A6.81080558939656,6.81080558939656,0,1,1,-6.81080558939656,0A6.81080558939656,6.81080558939656,0,1,1,6.81080558939656,0\" stroke=\"rgb(101, 169, 210)\" stroke-width=\"2\" opacity=\"0.7\"></path><path aria-label=\"x: -1.20443817764; y: -1.59359720277\" role=\"graphics-symbol\" aria-roledescription=\"point\" transform=\"translate(147.55574838027812,284.75989510374933)\" d=\"M5.507186692338305,0A5.507186692338305,5.507186692338305,0,1,1,-5.507186692338305,0A5.507186692338305,5.507186692338305,0,1,1,5.507186692338305,0\" stroke=\"rgb(205, 224, 241)\" stroke-width=\"2\" opacity=\"0.7\"></path><path aria-label=\"x: 3.03198340091; y: 2.90029862319\" role=\"graphics-symbol\" aria-roledescription=\"point\" transform=\"translate(277.9071815663449,116.23880163032143)\" d=\"M7.9491296865195835,0A7.9491296865195835,7.9491296865195835,0,1,1,-7.9491296865195835,0A7.9491296865195835,7.9491296865195835,0,1,1,7.9491296865195835,0\" stroke=\"rgb(62, 140, 195)\" stroke-width=\"2\" opacity=\"0.7\"></path><path aria-label=\"x: 1.15065655678; y: 2.14655816814\" role=\"graphics-symbol\" aria-roledescription=\"point\" transform=\"translate(220.0202017472201,144.50406869470186)\" d=\"M6.971101818070212,0A6.971101818070212,6.971101818070212,0,1,1,-6.971101818070212,0A6.971101818070212,6.971101818070212,0,1,1,6.971101818070212,0\" stroke=\"rgb(84, 158, 204)\" stroke-width=\"2\" opacity=\"0.7\"></path><path aria-label=\"x: -1.62176866845; y: -0.190593637551\" role=\"graphics-symbol\" aria-roledescription=\"point\" transform=\"translate(134.71481020147203,232.14726140816722)\" d=\"M5.205007741743444,0A5.205007741743444,5.205007741743444,0,1,1,-5.205007741743444,0A5.205007741743444,5.205007741743444,0,1,1,5.205007741743444,0\" stroke=\"rgb(167, 205, 229)\" stroke-width=\"2\" opacity=\"0.7\"></path><path aria-label=\"x: -1.22371681248; y: 0.622047292669\" role=\"graphics-symbol\" aria-roledescription=\"point\" transform=\"translate(146.96255961600738,201.673226524928)\" d=\"M5.493593692177022,0A5.493593692177022,5.493593692177022,0,1,1,-5.493593692177022,0A5.493593692177022,5.493593692177022,0,1,1,5.493593692177022,0\" stroke=\"rgb(138, 190, 221)\" stroke-width=\"2\" opacity=\"0.7\"></path><path aria-label=\"x: 2.5964454168; y: 3.51391719907\" role=\"graphics-symbol\" aria-roledescription=\"point\" transform=\"translate(264.5060128246967,93.22810503503118)\" d=\"M7.733720821053433,0A7.733720821053433,7.733720821053433,0,1,1,-7.733720821053433,0A7.733720821053433,7.733720821053433,0,1,1,7.733720821053433,0\" stroke=\"rgb(46, 125, 187)\" stroke-width=\"2\" opacity=\"0.7\"></path><path aria-label=\"x: 3.32451205331; y: 3.59151653796\" role=\"graphics-symbol\" aria-roledescription=\"point\" transform=\"translate(286.9080631787315,90.31812982657353)\" d=\"M8.090589857781092,0A8.090589857781092,8.090589857781092,0,1,1,-8.090589857781092,0A8.090589857781092,8.090589857781092,0,1,1,8.090589857781092,0\" stroke=\"rgb(44, 123, 186)\" stroke-width=\"2\" opacity=\"0.7\"></path><path aria-label=\"x: 1.92408767028; y: 2.79172688794\" role=\"graphics-symbol\" aria-roledescription=\"point\" transform=\"translate(243.81808216232042,120.31024170221262)\" d=\"M7.388865541696378,0A7.388865541696378,7.388865541696378,0,1,1,-7.388865541696378,0A7.388865541696378,7.388865541696378,0,1,1,7.388865541696378,0\" stroke=\"rgb(65, 143, 196)\" stroke-width=\"2\" opacity=\"0.7\"></path><path aria-label=\"x: 1.50615785043; y: 1.25971117174\" role=\"graphics-symbol\" aria-roledescription=\"point\" transform=\"translate(230.95870309021498,177.76083105971375)\" d=\"M7.166148593201111,0A7.166148593201111,7.166148593201111,0,1,1,-7.166148593201111,0A7.166148593201111,7.166148593201111,0,1,1,7.166148593201111,0\" stroke=\"rgb(114, 177, 214)\" stroke-width=\"2\" opacity=\"0.7\"></path><path aria-label=\"x: 2.64773780301; y: 3.66044761289\" role=\"graphics-symbol\" aria-roledescription=\"point\" transform=\"translate(266.0842400925579,87.73321451647307)\" d=\"M7.75939972855674,0A7.75939972855674,7.75939972855674,0,1,1,-7.75939972855674,0A7.75939972855674,7.75939972855674,0,1,1,7.75939972855674,0\" stroke=\"rgb(42, 122, 185)\" stroke-width=\"2\" opacity=\"0.7\"></path><path aria-label=\"x: -1.42628822094; y: 0.692334149102\" role=\"graphics-symbol\" aria-roledescription=\"point\" transform=\"translate(140.72959320174348,199.03746940869112)\" d=\"M5.348676313828798,0A5.348676313828798,5.348676313828798,0,1,1,-5.348676313828798,0A5.348676313828798,5.348676313828798,0,1,1,5.348676313828798,0\" stroke=\"rgb(135, 189, 220)\" stroke-width=\"2\" opacity=\"0.7\"></path><path aria-label=\"x: 1.03737582554; y: 2.41166770267\" role=\"graphics-symbol\" aria-roledescription=\"point\" transform=\"translate(216.53464078580134,134.56246114968928)\" d=\"M6.907793074231528,0A6.907793074231528,6.907793074231528,0,1,1,-6.907793074231528,0A6.907793074231528,6.907793074231528,0,1,1,6.907793074231528,0\" stroke=\"rgb(76, 152, 201)\" stroke-width=\"2\" opacity=\"0.7\"></path><path aria-label=\"x: -0.891439590472; y: -0.819591644099\" role=\"graphics-symbol\" aria-roledescription=\"point\" transform=\"translate(157.18647413930776,255.73468665371823)\" d=\"M5.723360952806481,0A5.723360952806481,5.723360952806481,0,1,1,-5.723360952806481,0A5.723360952806481,5.723360952806481,0,1,1,5.723360952806481,0\" stroke=\"rgb(186, 214, 235)\" stroke-width=\"2\" opacity=\"0.7\"></path><path aria-label=\"x: 2.47843854552; y: 3.41365832367\" role=\"graphics-symbol\" aria-roledescription=\"point\" transform=\"translate(260.8750321699227,96.98781286221502)\" d=\"M7.674315885228885,0A7.674315885228885,7.674315885228885,0,1,1,-7.674315885228885,0A7.674315885228885,7.674315885228885,0,1,1,7.674315885228885,0\" stroke=\"rgb(48, 128, 188)\" stroke-width=\"2\" opacity=\"0.7\"></path><path aria-label=\"x: 0.656531883509; y: 1.41420649518\" role=\"graphics-symbol\" aria-roledescription=\"point\" transform=\"translate(204.81636564643094,171.9672564306337)\" d=\"M6.6905613573649,0A6.6905613573649,6.6905613573649,0,1,1,-6.6905613573649,0A6.6905613573649,6.6905613573649,0,1,1,6.6905613573649,0\" stroke=\"rgb(109, 174, 213)\" stroke-width=\"2\" opacity=\"0.7\"></path><path aria-label=\"x: 2.37815973594; y: 2.75245084008\" role=\"graphics-symbol\" aria-roledescription=\"point\" transform=\"translate(257.78953033650663,121.78309349689695)\" d=\"M7.623471489663388,0A7.623471489663388,7.623471489663388,0,1,1,-7.623471489663388,0A7.623471489663388,7.623471489663388,0,1,1,7.623471489663388,0\" stroke=\"rgb(66, 144, 197)\" stroke-width=\"2\" opacity=\"0.7\"></path><path aria-label=\"x: -0.756026842653; y: 2.67135922462\" role=\"graphics-symbol\" aria-roledescription=\"point\" transform=\"translate(161.35302022604884,124.82402907673496)\" d=\"M5.814394353375908,0A5.814394353375908,5.814394353375908,0,1,1,-5.814394353375908,0A5.814394353375908,5.814394353375908,0,1,1,5.814394353375908,0\" stroke=\"rgb(68, 145, 198)\" stroke-width=\"2\" opacity=\"0.7\"></path><path aria-label=\"x: -0.0331060152816; y: 1.77318409925\" role=\"graphics-symbol\" aria-roledescription=\"point\" transform=\"translate(183.59673799133475,158.5055962780687)\" d=\"M6.278094857217852,0A6.278094857217852,6.278094857217852,0,1,1,-6.278094857217852,0A6.278094857217852,6.278094857217852,0,1,1,6.278094857217852,0\" stroke=\"rgb(96, 166, 209)\" stroke-width=\"2\" opacity=\"0.7\"></path><path aria-label=\"x: 2.69538368906; y: 3.28527295588\" role=\"graphics-symbol\" aria-roledescription=\"point\" transform=\"translate(267.550267355567,101.80226415454547)\" d=\"M7.783177159150962,0A7.783177159150962,7.783177159150962,0,1,1,-7.783177159150962,0A7.783177159150962,7.783177159150962,0,1,1,7.783177159150962,0\" stroke=\"rgb(51, 131, 190)\" stroke-width=\"2\" opacity=\"0.7\"></path><path aria-label=\"x: 1.96214546151; y: 2.05840613499\" role=\"graphics-symbol\" aria-roledescription=\"point\" transform=\"translate(244.98909112340942,147.8097699380064)\" d=\"M7.408814145116046,0A7.408814145116046,7.408814145116046,0,1,1,-7.408814145116046,0A7.408814145116046,7.408814145116046,0,1,1,7.408814145116046,0\" stroke=\"rgb(87, 160, 205)\" stroke-width=\"2\" opacity=\"0.7\"></path><path aria-label=\"x: 0.633430784667; y: 2.25966614996\" role=\"graphics-symbol\" aria-roledescription=\"point\" transform=\"translate(204.10556260512868,140.26251937647473)\" d=\"M6.677157250466864,0A6.677157250466864,6.677157250466864,0,1,1,-6.677157250466864,0A6.677157250466864,6.677157250466864,0,1,1,6.677157250466864,0\" stroke=\"rgb(81, 155, 203)\" stroke-width=\"2\" opacity=\"0.7\"></path><path aria-label=\"x: -0.327034488702; y: 1.61080142189\" role=\"graphics-symbol\" aria-roledescription=\"point\" transform=\"translate(174.55278496301355,164.59494667926873)\" d=\"M6.093819486349683,0A6.093819486349683,6.093819486349683,0,1,1,-6.093819486349683,0A6.093819486349683,6.093819486349683,0,1,1,6.093819486349683,0\" stroke=\"rgb(102, 170, 211)\" stroke-width=\"2\" opacity=\"0.7\"></path><path aria-label=\"x: 1.06252969205; y: 3.41379372603\" role=\"graphics-symbol\" aria-roledescription=\"point\" transform=\"translate(217.3086059091991,96.98273527377499)\" d=\"M6.921900725855268,0A6.921900725855268,6.921900725855268,0,1,1,-6.921900725855268,0A6.921900725855268,6.921900725855268,0,1,1,6.921900725855268,0\" stroke=\"rgb(48, 128, 188)\" stroke-width=\"2\" opacity=\"0.7\"></path><path aria-label=\"x: -0.122308558692; y: 1.38104670535\" role=\"graphics-symbol\" aria-roledescription=\"point\" transform=\"translate(180.852044347929,173.21074854940204)\" d=\"M6.222747037913154,0A6.222747037913154,6.222747037913154,0,1,1,-6.222747037913154,0A6.222747037913154,6.222747037913154,0,1,1,6.222747037913154,0\" stroke=\"rgb(110, 174, 213)\" stroke-width=\"2\" opacity=\"0.7\"></path><path aria-label=\"x: -0.0320133688426; y: 1.42695137327\" role=\"graphics-symbol\" aria-roledescription=\"point\" transform=\"translate(183.63035788176504,171.48932350231217)\" d=\"M6.278769790712317,0A6.278769790712317,6.278769790712317,0,1,1,-6.278769790712317,0A6.278769790712317,6.278769790712317,0,1,1,6.278769790712317,0\" stroke=\"rgb(108, 173, 213)\" stroke-width=\"2\" opacity=\"0.7\"></path><path aria-label=\"x: -1.48576853579; y: 0.133759176647\" role=\"graphics-symbol\" aria-roledescription=\"point\" transform=\"translate(138.89942966798853,219.98403087571918)\" d=\"M5.30537300370376,0A5.30537300370376,5.30537300370376,0,1,1,-5.30537300370376,0A5.30537300370376,5.30537300370376,0,1,1,5.30537300370376,0\" stroke=\"rgb(155, 199, 225)\" stroke-width=\"2\" opacity=\"0.7\"></path><path aria-label=\"x: 3.48648669583; y: 3.36063276155\" role=\"graphics-symbol\" aria-roledescription=\"point\" transform=\"translate(291.8918983333458,98.97627144179295)\" d=\"M8.167863315351628,0A8.167863315351628,8.167863315351628,0,1,1,-8.167863315351628,0A8.167863315351628,8.167863315351628,0,1,1,8.167863315351628,0\" stroke=\"rgb(49, 129, 189)\" stroke-width=\"2\" opacity=\"0.7\"></path><path aria-label=\"x: 3.14068242638; y: 3.46916158193\" role=\"graphics-symbol\" aria-roledescription=\"point\" transform=\"translate(281.2517669654421,94.90644067767217)\" d=\"M8.001986030999642,0A8.001986030999642,8.001986030999642,0,1,1,-8.001986030999642,0A8.001986030999642,8.001986030999642,0,1,1,8.001986030999642,0\" stroke=\"rgb(47, 126, 187)\" stroke-width=\"2\" opacity=\"0.7\"></path><path aria-label=\"x: 1.47212661738; y: 0.92120021086\" role=\"graphics-symbol\" aria-roledescription=\"point\" transform=\"translate(229.91158822697227,190.4549920927316)\" d=\"M7.147707631157154,0A7.147707631157154,7.147707631157154,0,1,1,-7.147707631157154,0A7.147707631157154,7.147707631157154,0,1,1,7.147707631157154,0\" stroke=\"rgb(127, 184, 218)\" stroke-width=\"2\" opacity=\"0.7\"></path><path aria-label=\"x: 1.9448039842; y: 2.42411171295\" role=\"graphics-symbol\" aria-roledescription=\"point\" transform=\"translate(244.4555072062317,134.09581076425312)\" d=\"M7.399731000314592,0A7.399731000314592,7.399731000314592,0,1,1,-7.399731000314592,0A7.399731000314592,7.399731000314592,0,1,1,7.399731000314592,0\" stroke=\"rgb(76, 151, 201)\" stroke-width=\"2\" opacity=\"0.7\"></path><path aria-label=\"x: 6.52086887788; y: 3.24374119064\" role=\"graphics-symbol\" aria-roledescription=\"point\" transform=\"translate(385.25750393474925,103.35970535107332)\" d=\"M9.5,0A9.5,9.5,0,1,1,-9.5,0A9.5,9.5,0,1,1,9.5,0\" stroke=\"rgb(52, 132, 191)\" stroke-width=\"2\" opacity=\"0.7\"></path><path aria-label=\"x: 0.129381126746; y: 1.34840629193\" role=\"graphics-symbol\" aria-roledescription=\"point\" transform=\"translate(188.59634236140695,174.43476405264354)\" d=\"M6.37767960156639,0A6.37767960156639,6.37767960156639,0,1,1,-6.37767960156639,0A6.37767960156639,6.37767960156639,0,1,1,6.37767960156639,0\" stroke=\"rgb(111, 175, 213)\" stroke-width=\"2\" opacity=\"0.7\"></path><path aria-label=\"x: 2.87317508605; y: 2.4175294418\" role=\"graphics-symbol\" aria-roledescription=\"point\" transform=\"translate(273.02077187838114,134.34264593246738)\" d=\"M7.871268977617471,0A7.871268977617471,7.871268977617471,0,1,1,-7.871268977617471,0A7.871268977617471,7.871268977617471,0,1,1,7.871268977617471,0\" stroke=\"rgb(76, 151, 201)\" stroke-width=\"2\" opacity=\"0.7\"></path><path aria-label=\"x: 2.92758816789; y: 3.45042823348\" role=\"graphics-symbol\" aria-roledescription=\"point\" transform=\"translate(274.695020550602,95.60894124442258)\" d=\"M7.898033123615284,0A7.898033123615284,7.898033123615284,0,1,1,-7.898033123615284,0A7.898033123615284,7.898033123615284,0,1,1,7.898033123615284,0\" stroke=\"rgb(47, 127, 188)\" stroke-width=\"2\" opacity=\"0.7\"></path><path aria-label=\"x: 0.814728283432; y: 2.90105939756\" role=\"graphics-symbol\" aria-roledescription=\"point\" transform=\"translate(209.683947182523,116.21027259152694)\" d=\"M6.781640837523633,0A6.781640837523633,6.781640837523633,0,1,1,-6.781640837523633,0A6.781640837523633,6.781640837523633,0,1,1,6.781640837523633,0\" stroke=\"rgb(62, 140, 195)\" stroke-width=\"2\" opacity=\"0.7\"></path><path aria-label=\"x: 2.5806104166; y: 1.73208785049\" role=\"graphics-symbol\" aria-roledescription=\"point\" transform=\"translate(264.0187820493602,160.04670560667836)\" d=\"M7.725775979162205,0A7.725775979162205,7.725775979162205,0,1,1,-7.725775979162205,0A7.725775979162205,7.725775979162205,0,1,1,7.725775979162205,0\" stroke=\"rgb(98, 167, 209)\" stroke-width=\"2\" opacity=\"0.7\"></path><path aria-label=\"x: 1.27412154383; y: 1.66743367895\" role=\"graphics-symbol\" aria-roledescription=\"point\" transform=\"translate(223.81912442565013,162.4712370394383)\" d=\"M7.03945378186697,0A7.03945378186697,7.03945378186697,0,1,1,-7.03945378186697,0A7.03945378186697,7.03945378186697,0,1,1,7.03945378186697,0\" stroke=\"rgb(100, 168, 210)\" stroke-width=\"2\" opacity=\"0.7\"></path><path aria-label=\"x: -0.936972877094; y: 1.00737579935\" role=\"graphics-symbol\" aria-roledescription=\"point\" transform=\"translate(155.78544993557193,187.22340752427058)\" d=\"M5.692423412524028,0A5.692423412524028,5.692423412524028,0,1,1,-5.692423412524028,0A5.692423412524028,5.692423412524028,0,1,1,5.692423412524028,0\" stroke=\"rgb(123, 182, 217)\" stroke-width=\"2\" opacity=\"0.7\"></path><path aria-label=\"x: -0.207556798778; y: 1.6650802796\" role=\"graphics-symbol\" aria-roledescription=\"point\" transform=\"translate(178.22902157604946,162.55948951493755)\" d=\"M6.169388760904414,0A6.169388760904414,6.169388760904414,0,1,1,-6.169388760904414,0A6.169388760904414,6.169388760904414,0,1,1,6.169388760904414,0\" stroke=\"rgb(100, 168, 210)\" stroke-width=\"2\" opacity=\"0.7\"></path><path aria-label=\"x: -0.678885646668; y: 1.04573106153\" role=\"graphics-symbol\" aria-roledescription=\"point\" transform=\"translate(163.72659548713423,185.78508519266123)\" d=\"M5.865622123469422,0A5.865622123469422,5.865622123469422,0,1,1,-5.865622123469422,0A5.865622123469422,5.865622123469422,0,1,1,5.865622123469422,0\" stroke=\"rgb(122, 181, 217)\" stroke-width=\"2\" opacity=\"0.7\"></path><path aria-label=\"x: -1.43463764793; y: 0.835772607172\" role=\"graphics-symbol\" aria-roledescription=\"point\" transform=\"translate(140.47268775587975,193.65852723105164)\" d=\"M5.3426188770500085,0A5.3426188770500085,5.3426188770500085,0,1,1,-5.3426188770500085,0A5.3426188770500085,5.3426188770500085,0,1,1,5.3426188770500085,0\" stroke=\"rgb(130, 186, 219)\" stroke-width=\"2\" opacity=\"0.7\"></path><path aria-label=\"x: 1.96457007889; y: 2.50911199549\" role=\"graphics-symbol\" aria-roledescription=\"point\" transform=\"translate(245.06369473505467,130.90830016917823)\" d=\"M7.41008322763713,0A7.41008322763713,7.41008322763713,0,1,1,-7.41008322763713,0A7.41008322763713,7.41008322763713,0,1,1,7.41008322763713,0\" stroke=\"rgb(73, 149, 200)\" stroke-width=\"2\" opacity=\"0.7\"></path><path aria-label=\"x: 0.25748865223; y: 2.87822605246\" role=\"graphics-symbol\" aria-roledescription=\"point\" transform=\"translate(192.53811237630242,117.0665230326856)\" d=\"M6.45511081768976,0A6.45511081768976,6.45511081768976,0,1,1,-6.45511081768976,0A6.45511081768976,6.45511081768976,0,1,1,6.45511081768976,0\" stroke=\"rgb(63, 141, 195)\" stroke-width=\"2\" opacity=\"0.7\"></path><path aria-label=\"x: 2.03177464485; y: 4.36638417936\" role=\"graphics-symbol\" aria-roledescription=\"point\" transform=\"translate(247.13152753381587,61.260593273881135)\" d=\"M7.445173050142646,0A7.445173050142646,7.445173050142646,0,1,1,-7.445173050142646,0A7.445173050142646,7.445173050142646,0,1,1,7.445173050142646,0\" stroke=\"rgb(27, 104, 173)\" stroke-width=\"2\" opacity=\"0.7\"></path><path aria-label=\"x: 1.1239854693; y: 1.21468486318\" role=\"graphics-symbol\" aria-roledescription=\"point\" transform=\"translate(219.19955290152387,179.44931763091927)\" d=\"M6.956248113709381,0A6.956248113709381,6.956248113709381,0,1,1,-6.956248113709381,0A6.956248113709381,6.956248113709381,0,1,1,6.956248113709381,0\" stroke=\"rgb(116, 178, 215)\" stroke-width=\"2\" opacity=\"0.7\"></path><path aria-label=\"x: 1.22950509843; y: 2.66604088191\" role=\"graphics-symbol\" aria-roledescription=\"point\" transform=\"translate(222.44631072088504,125.02346692847406)\" d=\"M7.0148303389276245,0A7.0148303389276245,7.0148303389276245,0,1,1,-7.0148303389276245,0A7.0148303389276245,7.0148303389276245,0,1,1,7.0148303389276245,0\" stroke=\"rgb(68, 146, 198)\" stroke-width=\"2\" opacity=\"0.7\"></path><path aria-label=\"x: -2.33632568545; y: 0.246066167287\" role=\"graphics-symbol\" aria-roledescription=\"point\" transform=\"translate(112.72844044761305,215.7725187267312)\" d=\"M4.64216389849735,0A4.64216389849735,4.64216389849735,0,1,1,-4.64216389849735,0A4.64216389849735,4.64216389849735,0,1,1,4.64216389849735,0\" stroke=\"rgb(151, 197, 224)\" stroke-width=\"2\" opacity=\"0.7\"></path><path aria-label=\"x: 0.557301972175; y: 0.542586007575\" role=\"graphics-symbol\" aria-roledescription=\"point\" transform=\"translate(201.76313760537514,204.65302471595052)\" d=\"M6.632792793564826,0A6.632792793564826,6.632792793564826,0,1,1,-6.632792793564826,0A6.632792793564826,6.632792793564826,0,1,1,6.632792793564826,0\" stroke=\"rgb(141, 192, 221)\" stroke-width=\"2\" opacity=\"0.7\"></path><path aria-label=\"x: 3.71948215354; y: 5.52649871995\" role=\"graphics-symbol\" aria-roledescription=\"point\" transform=\"translate(299.0609893397827,17.756298001839987)\" d=\"M8.277753732194139,0A8.277753732194139,8.277753732194139,0,1,1,-8.277753732194139,0A8.277753732194139,8.277753732194139,0,1,1,8.277753732194139,0\" stroke=\"rgb(10, 74, 144)\" stroke-width=\"2\" opacity=\"0.7\"></path><path aria-label=\"x: 0.842154676907; y: 2.74245433012\" role=\"graphics-symbol\" aria-roledescription=\"point\" transform=\"translate(210.5278362125094,122.15796262058629)\" d=\"M6.797307089910666,0A6.797307089910666,6.797307089910666,0,1,1,-6.797307089910666,0A6.797307089910666,6.797307089910666,0,1,1,6.797307089910666,0\" stroke=\"rgb(66, 144, 197)\" stroke-width=\"2\" opacity=\"0.7\"></path><path aria-label=\"x: -1.07901932841; y: -0.0051912241931\" role=\"graphics-symbol\" aria-roledescription=\"point\" transform=\"translate(151.41478989511668,225.19467090724117)\" d=\"M5.594810923682847,0A5.594810923682847,5.594810923682847,0,1,1,-5.594810923682847,0A5.594810923682847,5.594810923682847,0,1,1,5.594810923682847,0\" stroke=\"rgb(160, 202, 227)\" stroke-width=\"2\" opacity=\"0.7\"></path><path aria-label=\"x: -0.122071193099; y: 2.07250154118\" role=\"graphics-symbol\" aria-roledescription=\"point\" transform=\"translate(180.8593479046386,147.28119220578134)\" d=\"M6.222894970210418,0A6.222894970210418,6.222894970210418,0,1,1,-6.222894970210418,0A6.222894970210418,6.222894970210418,0,1,1,6.222894970210418,0\" stroke=\"rgb(87, 160, 205)\" stroke-width=\"2\" opacity=\"0.7\"></path><path aria-label=\"x: 2.23295393237; y: 2.98032026441\" role=\"graphics-symbol\" aria-roledescription=\"point\" transform=\"translate(253.3216594576762,113.23799008470739)\" d=\"M7.549240835085218,0A7.549240835085218,7.549240835085218,0,1,1,-7.549240835085218,0A7.549240835085218,7.549240835085218,0,1,1,7.549240835085218,0\" stroke=\"rgb(60, 138, 194)\" stroke-width=\"2\" opacity=\"0.7\"></path><path aria-label=\"x: 0.79852898591; y: 2.46713688854\" role=\"graphics-symbol\" aria-roledescription=\"point\" transform=\"translate(209.18550725875886,132.48236667958352)\" d=\"M6.772370599751148,0A6.772370599751148,6.772370599751148,0,1,1,-6.772370599751148,0A6.772370599751148,6.772370599751148,0,1,1,6.772370599751148,0\" stroke=\"rgb(74, 150, 200)\" stroke-width=\"2\" opacity=\"0.7\"></path><path aria-label=\"x: 0.744570994072; y: 2.3610009593\" role=\"graphics-symbol\" aria-roledescription=\"point\" transform=\"translate(207.52526135606075,136.46246402636126)\" d=\"M6.741400560405476,0A6.741400560405476,6.741400560405476,0,1,1,-6.741400560405476,0A6.741400560405476,6.741400560405476,0,1,1,6.741400560405476,0\" stroke=\"rgb(78, 153, 202)\" stroke-width=\"2\" opacity=\"0.7\"></path><path aria-label=\"x: -0.0687691556184; y: -1.04157800983\" role=\"graphics-symbol\" aria-roledescription=\"point\" transform=\"translate(182.4994105963563,264.0591753686621)\" d=\"M6.256025572438261,0A6.256025572438261,6.256025572438261,0,1,1,-6.256025572438261,0A6.256025572438261,6.256025572438261,0,1,1,6.256025572438261,0\" stroke=\"rgb(192, 217, 237)\" stroke-width=\"2\" opacity=\"0.7\"></path><path aria-label=\"x: -1.71172760087; y: 0.669312246683\" role=\"graphics-symbol\" aria-roledescription=\"point\" transform=\"translate(131.9468430501441,199.90079074940124)\" d=\"M5.137542638841002,0A5.137542638841002,5.137542638841002,0,1,1,-5.137542638841002,0A5.137542638841002,5.137542638841002,0,1,1,5.137542638841002,0\" stroke=\"rgb(136, 189, 220)\" stroke-width=\"2\" opacity=\"0.7\"></path><path aria-label=\"x: -2.08610889848; y: -0.292253884292\" role=\"graphics-symbol\" aria-roledescription=\"point\" transform=\"translate(120.42741850838048,235.95952066094327)\" d=\"M4.846697598535736,0A4.846697598535736,4.846697598535736,0,1,1,-4.846697598535736,0A4.846697598535736,4.846697598535736,0,1,1,4.846697598535736,0\" stroke=\"rgb(170, 207, 230)\" stroke-width=\"2\" opacity=\"0.7\"></path><path aria-label=\"x: -0.989764004831; y: -0.999798942119\" role=\"graphics-symbol\" aria-roledescription=\"point\" transform=\"translate(154.16110754367196,262.49246032945484)\" d=\"M5.656342722681038,0A5.656342722681038,5.656342722681038,0,1,1,-5.656342722681038,0A5.656342722681038,5.656342722681038,0,1,1,5.656342722681038,0\" stroke=\"rgb(191, 217, 236)\" stroke-width=\"2\" opacity=\"0.7\"></path><path aria-label=\"x: -0.212804887794; y: 0.451053657912\" role=\"graphics-symbol\" aria-roledescription=\"point\" transform=\"translate(178.06754191402268,208.08548782829618)\" d=\"M6.166088807829784,0A6.166088807829784,6.166088807829784,0,1,1,-6.166088807829784,0A6.166088807829784,6.166088807829784,0,1,1,6.166088807829784,0\" stroke=\"rgb(144, 194, 222)\" stroke-width=\"2\" opacity=\"0.7\"></path><path aria-label=\"x: 0.667761813982; y: 3.15020016868\" role=\"graphics-symbol\" aria-roledescription=\"point\" transform=\"translate(205.16190196868945,106.86749367436505)\" d=\"M6.697067685117877,0A6.697067685117877,6.697067685117877,0,1,1,-6.697067685117877,0A6.697067685117877,6.697067685117877,0,1,1,6.697067685117877,0\" stroke=\"rgb(55, 134, 192)\" stroke-width=\"2\" opacity=\"0.7\"></path><path aria-label=\"x: 1.17910314545; y: 0.873977681558\" role=\"graphics-symbol\" aria-roledescription=\"point\" transform=\"translate(220.89548139835583,192.22583694156836)\" d=\"M6.986909536261473,0A6.986909536261473,6.986909536261473,0,1,1,-6.986909536261473,0A6.986909536261473,6.986909536261473,0,1,1,6.986909536261473,0\" stroke=\"rgb(128, 185, 218)\" stroke-width=\"2\" opacity=\"0.7\"></path><path aria-label=\"x: -0.519192486577; y: 0.605291905002\" role=\"graphics-symbol\" aria-roledescription=\"point\" transform=\"translate(168.64023118224313,202.3015535624166)\" d=\"M5.970274164642955,0A5.970274164642955,5.970274164642955,0,1,1,-5.970274164642955,0A5.970274164642955,5.970274164642955,0,1,1,5.970274164642955,0\" stroke=\"rgb(139, 191, 221)\" stroke-width=\"2\" opacity=\"0.7\"></path><path aria-label=\"x: 1.26170492355; y: 3.68254175747\" role=\"graphics-symbol\" aria-roledescription=\"point\" transform=\"translate(223.43707457075803,86.90468409506241)\" d=\"M7.032609811028798,0A7.032609811028798,7.032609811028798,0,1,1,-7.032609811028798,0A7.032609811028798,7.032609811028798,0,1,1,7.032609811028798,0\" stroke=\"rgb(42, 121, 184)\" stroke-width=\"2\" opacity=\"0.7\"></path><path aria-label=\"x: 1.18204340732; y: 2.55952034959\" role=\"graphics-symbol\" aria-roledescription=\"point\" transform=\"translate(220.98595099437256,129.0179868904567)\" d=\"M6.988541395602002,0A6.988541395602002,6.988541395602002,0,1,1,-6.988541395602002,0A6.988541395602002,6.988541395602002,0,1,1,6.988541395602002,0\" stroke=\"rgb(72, 148, 199)\" stroke-width=\"2\" opacity=\"0.7\"></path><path aria-label=\"x: -0.991346351991; y: -0.687420962077\" role=\"graphics-symbol\" aria-roledescription=\"point\" transform=\"translate(154.11241993874052,250.77828607789732)\" d=\"M5.655257696403884,0A5.655257696403884,5.655257696403884,0,1,1,-5.655257696403884,0A5.655257696403884,5.655257696403884,0,1,1,5.655257696403884,0\" stroke=\"rgb(182, 212, 233)\" stroke-width=\"2\" opacity=\"0.7\"></path><path aria-label=\"x: 3.39239747402; y: 1.51010256597\" role=\"graphics-symbol\" aria-roledescription=\"point\" transform=\"translate(288.99684535459545,168.3711537761173)\" d=\"M8.123065527446805,0A8.123065527446805,8.123065527446805,0,1,1,-8.123065527446805,0A8.123065527446805,8.123065527446805,0,1,1,8.123065527446805,0\" stroke=\"rgb(105, 172, 212)\" stroke-width=\"2\" opacity=\"0.7\"></path><path aria-label=\"x: -1.06057945552; y: 1.53516744578\" role=\"graphics-symbol\" aria-roledescription=\"point\" transform=\"translate(151.98217059945273,167.43122078329392)\" d=\"M5.607578539178065,0A5.607578539178065,5.607578539178065,0,1,1,-5.607578539178065,0A5.607578539178065,5.607578539178065,0,1,1,5.607578539178065,0\" stroke=\"rgb(105, 171, 211)\" stroke-width=\"2\" opacity=\"0.7\"></path><path aria-label=\"x: 2.62120751538; y: 3.1708994859\" role=\"graphics-symbol\" aria-roledescription=\"point\" transform=\"translate(265.26792355005847,106.09126927869119)\" d=\"M7.7461282919265715,0A7.7461282919265715,7.7461282919265715,0,1,1,-7.7461282919265715,0A7.7461282919265715,7.7461282919265715,0,1,1,7.7461282919265715,0\" stroke=\"rgb(54, 134, 191)\" stroke-width=\"2\" opacity=\"0.7\"></path><path aria-label=\"x: -2.40508723503; y: 0.262559585363\" role=\"graphics-symbol\" aria-roledescription=\"point\" transform=\"translate(110.61270046052832,215.15401554889854)\" d=\"M4.584358264967959,0A4.584358264967959,4.584358264967959,0,1,1,-4.584358264967959,0A4.584358264967959,4.584358264967959,0,1,1,4.584358264967959,0\" stroke=\"rgb(151, 197, 224)\" stroke-width=\"2\" opacity=\"0.7\"></path><path aria-label=\"x: 3.60665368401; y: 2.28615232042\" role=\"graphics-symbol\" aria-roledescription=\"point\" transform=\"translate(295.5893441232743,139.26928798420448)\" d=\"M8.224722450696566,0A8.224722450696566,8.224722450696566,0,1,1,-8.224722450696566,0A8.224722450696566,8.224722450696566,0,1,1,8.224722450696566,0\" stroke=\"rgb(80, 155, 203)\" stroke-width=\"2\" opacity=\"0.7\"></path><path aria-label=\"x: 0.880538106441; y: 2.47641645157\" role=\"graphics-symbol\" aria-roledescription=\"point\" transform=\"translate(211.7088648135807,132.13438306609623)\" d=\"M6.819171688165497,0A6.819171688165497,6.819171688165497,0,1,1,-6.819171688165497,0A6.819171688165497,6.819171688165497,0,1,1,6.819171688165497,0\" stroke=\"rgb(74, 150, 200)\" stroke-width=\"2\" opacity=\"0.7\"></path><path aria-label=\"x: 3.23289549713; y: 1.93239672949\" role=\"graphics-symbol\" aria-roledescription=\"point\" transform=\"translate(284.08909221923693,152.53512264419948)\" d=\"M8.04655365723927,0A8.04655365723927,8.04655365723927,0,1,1,-8.04655365723927,0A8.04655365723927,8.04655365723927,0,1,1,8.04655365723927,0\" stroke=\"rgb(91, 163, 207)\" stroke-width=\"2\" opacity=\"0.7\"></path><path aria-label=\"x: -3.2463805732; y: -1.47341765751\" role=\"graphics-symbol\" aria-roledescription=\"point\" transform=\"translate(84.72675159376574,280.2531621567463)\" d=\"M3.8066911969001924,0A3.8066911969001924,3.8066911969001924,0,1,1,-3.8066911969001924,0A3.8066911969001924,3.8066911969001924,0,1,1,3.8066911969001924,0\" stroke=\"rgb(202, 223, 240)\" stroke-width=\"2\" opacity=\"0.7\"></path><path aria-label=\"x: 2.32796286025; y: 4.42527992289\" role=\"graphics-symbol\" aria-roledescription=\"point\" transform=\"translate(256.24501108467234,59.05200289171104)\" d=\"M7.597892366163157,0A7.597892366163157,7.597892366163157,0,1,1,-7.597892366163157,0A7.597892366163157,7.597892366163157,0,1,1,7.597892366163157,0\" stroke=\"rgb(25, 102, 171)\" stroke-width=\"2\" opacity=\"0.7\"></path><path aria-label=\"x: 5.22476604853; y: 4.78634906129\" role=\"graphics-symbol\" aria-roledescription=\"point\" transform=\"translate(345.3774168778425,45.51191020177161)\" d=\"M8.955269611150822,0A8.955269611150822,8.955269611150822,0,1,1,-8.955269611150822,0A8.955269611150822,8.955269611150822,0,1,1,8.955269611150822,0\" stroke=\"rgb(18, 93, 164)\" stroke-width=\"2\" opacity=\"0.7\"></path><path aria-label=\"x: 2.84890334512; y: 3.67485845859\" role=\"graphics-symbol\" aria-roledescription=\"point\" transform=\"translate(272.2739490805098,87.19280780275636)\" d=\"M7.859301048537763,0A7.859301048537763,7.859301048537763,0,1,1,-7.859301048537763,0A7.859301048537763,7.859301048537763,0,1,1,7.859301048537763,0\" stroke=\"rgb(42, 121, 184)\" stroke-width=\"2\" opacity=\"0.7\"></path><path aria-label=\"x: 0.151044995829; y: -0.398938370109\" role=\"graphics-symbol\" aria-roledescription=\"point\" transform=\"translate(189.26292294859624,239.96018887909284)\" d=\"M6.390839666305972,0A6.390839666305972,6.390839666305972,0,1,1,-6.390839666305972,0A6.390839666305972,6.390839666305972,0,1,1,6.390839666305972,0\" stroke=\"rgb(173, 208, 231)\" stroke-width=\"2\" opacity=\"0.7\"></path><path aria-label=\"x: 0.953461912755; y: 2.31075750328\" role=\"graphics-symbol\" aria-roledescription=\"point\" transform=\"translate(213.95267423862913,138.34659362701294)\" d=\"M6.860519788894673,0A6.860519788894673,6.860519788894673,0,1,1,-6.860519788894673,0A6.860519788894673,6.860519788894673,0,1,1,6.860519788894673,0\" stroke=\"rgb(79, 154, 202)\" stroke-width=\"2\" opacity=\"0.7\"></path><path aria-label=\"x: 3.43342137002; y: 4.65872457096\" role=\"graphics-symbol\" aria-roledescription=\"point\" transform=\"translate(290.2591190776678,50.29782858898899)\" d=\"M8.14262813997069,0A8.14262813997069,8.14262813997069,0,1,1,-8.14262813997069,0A8.14262813997069,8.14262813997069,0,1,1,8.14262813997069,0\" stroke=\"rgb(21, 96, 167)\" stroke-width=\"2\" opacity=\"0.7\"></path><path aria-label=\"x: 1.05501836335; y: 2.15634929566\" role=\"graphics-symbol\" aria-roledescription=\"point\" transform=\"translate(217.07748810315354,144.1369014129202)\" d=\"M6.91769097853851,0A6.91769097853851,6.91769097853851,0,1,1,-6.91769097853851,0A6.91769097853851,6.91769097853851,0,1,1,6.91769097853851,0\" stroke=\"rgb(84, 158, 204)\" stroke-width=\"2\" opacity=\"0.7\"></path><path aria-label=\"x: 0.700915297764; y: 2.21012161303\" role=\"graphics-symbol\" aria-roledescription=\"point\" transform=\"translate(206.18200916197503,142.12043951121666)\" d=\"M6.716239174360222,0A6.716239174360222,6.716239174360222,0,1,1,-6.716239174360222,0A6.716239174360222,6.716239174360222,0,1,1,6.716239174360222,0\" stroke=\"rgb(82, 156, 203)\" stroke-width=\"2\" opacity=\"0.7\"></path><path aria-label=\"x: 0.3716212003; y: 2.91064024091\" role=\"graphics-symbol\" aria-roledescription=\"point\" transform=\"translate(196.04988308615688,115.85099096591716)\" d=\"M6.523321097247629,0A6.523321097247629,6.523321097247629,0,1,1,-6.523321097247629,0A6.523321097247629,6.523321097247629,0,1,1,6.523321097247629,0\" stroke=\"rgb(62, 140, 195)\" stroke-width=\"2\" opacity=\"0.7\"></path><path aria-label=\"x: 0.147518091154; y: 1.92571079075\" role=\"graphics-symbol\" aria-roledescription=\"point\" transform=\"translate(189.15440280473172,152.78584534675568)\" d=\"M6.388699038888956,0A6.388699038888956,6.388699038888956,0,1,1,-6.388699038888956,0A6.388699038888956,6.388699038888956,0,1,1,6.388699038888956,0\" stroke=\"rgb(91, 163, 207)\" stroke-width=\"2\" opacity=\"0.7\"></path><path aria-label=\"x: -1.35430845597; y: 0.788641995573\" role=\"graphics-symbol\" aria-roledescription=\"point\" transform=\"translate(142.9443552008453,195.4259251660293)\" d=\"M5.4006152584213805,0A5.4006152584213805,5.4006152584213805,0,1,1,-5.4006152584213805,0A5.4006152584213805,5.4006152584213805,0,1,1,5.4006152584213805,0\" stroke=\"rgb(132, 187, 219)\" stroke-width=\"2\" opacity=\"0.7\"></path><path aria-label=\"x: 1.94555074392; y: 2.68580825561\" role=\"graphics-symbol\" aria-roledescription=\"point\" transform=\"translate(244.47848442821655,124.2821904146742)\" d=\"M7.400122368940775,0A7.400122368940775,7.400122368940775,0,1,1,-7.400122368940775,0A7.400122368940775,7.400122368940775,0,1,1,7.400122368940775,0\" stroke=\"rgb(68, 145, 198)\" stroke-width=\"2\" opacity=\"0.7\"></path><path aria-label=\"x: 3.62934619131; y: 4.92485661133\" role=\"graphics-symbol\" aria-roledescription=\"point\" transform=\"translate(296.28757511729617,40.31787707519994)\" d=\"M8.235415745650702,0A8.235415745650702,8.235415745650702,0,1,1,-8.235415745650702,0A8.235415745650702,8.235415745650702,0,1,1,8.235415745650702,0\" stroke=\"rgb(17, 89, 161)\" stroke-width=\"2\" opacity=\"0.7\"></path><path aria-label=\"x: 1.66353747328; y: 1.56959683245\" role=\"graphics-symbol\" aria-roledescription=\"point\" transform=\"translate(235.80115302388052,166.14011878299885)\" d=\"M7.250820060410274,0A7.250820060410274,7.250820060410274,0,1,1,-7.250820060410274,0A7.250820060410274,7.250820060410274,0,1,1,7.250820060410274,0\" stroke=\"rgb(103, 170, 211)\" stroke-width=\"2\" opacity=\"0.7\"></path><path aria-label=\"x: 0.294987617656; y: 2.81207750795\" role=\"graphics-symbol\" aria-roledescription=\"point\" transform=\"translate(193.6919266971098,119.54709345203005)\" d=\"M6.477600961187816,0A6.477600961187816,6.477600961187816,0,1,1,-6.477600961187816,0A6.477600961187816,6.477600961187816,0,1,1,6.477600961187816,0\" stroke=\"rgb(64, 142, 196)\" stroke-width=\"2\" opacity=\"0.7\"></path><path aria-label=\"x: -5.11462095977; y: -0.742461599344\" role=\"graphics-symbol\" aria-roledescription=\"point\" transform=\"translate(27.242432006951873,252.84230997538378)\" d=\"M0,0\" stroke=\"rgb(184, 213, 234)\" stroke-width=\"2\" opacity=\"0.7\"></path><path aria-label=\"x: 1.32353166011; y: 1.50768392207\" role=\"graphics-symbol\" aria-roledescription=\"point\" transform=\"translate(225.3394356957478,168.46185292220358)\" d=\"M7.066622689756904,0A7.066622689756904,7.066622689756904,0,1,1,-7.066622689756904,0A7.066622689756904,7.066622689756904,0,1,1,7.066622689756904,0\" stroke=\"rgb(106, 172, 212)\" stroke-width=\"2\" opacity=\"0.7\"></path><path aria-label=\"x: 1.55503492556; y: 2.88006831225\" role=\"graphics-symbol\" aria-roledescription=\"point\" transform=\"translate(232.4626130942904,116.99743829065545)\" d=\"M7.192551553485625,0A7.192551553485625,7.192551553485625,0,1,1,-7.192551553485625,0A7.192551553485625,7.192551553485625,0,1,1,7.192551553485625,0\" stroke=\"rgb(63, 140, 195)\" stroke-width=\"2\" opacity=\"0.7\"></path><path aria-label=\"x: 0.9466453373; y: 1.58514147543\" role=\"graphics-symbol\" aria-roledescription=\"point\" transform=\"translate(213.7429334553983,165.5571946713915)\" d=\"M6.856665326736547,0A6.856665326736547,6.856665326736547,0,1,1,-6.856665326736547,0A6.856665326736547,6.856665326736547,0,1,1,6.856665326736547,0\" stroke=\"rgb(103, 170, 211)\" stroke-width=\"2\" opacity=\"0.7\"></path><path aria-label=\"x: -1.36725611391; y: -1.67249487562\" role=\"graphics-symbol\" aria-roledescription=\"point\" transform=\"translate(142.54596572570858,287.7185578357499)\" d=\"M5.3913094340736745,0A5.3913094340736745,5.3913094340736745,0,1,1,-5.3913094340736745,0A5.3913094340736745,5.3913094340736745,0,1,1,5.3913094340736745,0\" stroke=\"rgb(207, 225, 242)\" stroke-width=\"2\" opacity=\"0.7\"></path><path aria-label=\"x: 1.58202480939; y: 2.15186734336\" role=\"graphics-symbol\" aria-roledescription=\"point\" transform=\"translate(233.29307105817546,144.30497462404028)\" d=\"M7.2070897950031245,0A7.2070897950031245,7.2070897950031245,0,1,1,-7.2070897950031245,0A7.2070897950031245,7.2070897950031245,0,1,1,7.2070897950031245,0\" stroke=\"rgb(84, 158, 204)\" stroke-width=\"2\" opacity=\"0.7\"></path><path aria-label=\"x: 1.0629783987; y: 1.71746581244\" role=\"graphics-symbol\" aria-roledescription=\"point\" transform=\"translate(217.32241226776273,160.59503203350872)\" d=\"M6.922152123844683,0A6.922152123844683,6.922152123844683,0,1,1,-6.922152123844683,0A6.922152123844683,6.922152123844683,0,1,1,6.922152123844683,0\" stroke=\"rgb(98, 167, 209)\" stroke-width=\"2\" opacity=\"0.7\"></path><path aria-label=\"x: 0.42713048697; y: 1.92342071287\" role=\"graphics-symbol\" aria-roledescription=\"point\" transform=\"translate(197.75786113753634,152.87172326748416)\" d=\"M6.5562392185192,0A6.5562392185192,6.5562392185192,0,1,1,-6.5562392185192,0A6.5562392185192,6.5562392185192,0,1,1,6.5562392185192,0\" stroke=\"rgb(91, 163, 207)\" stroke-width=\"2\" opacity=\"0.7\"></path><path aria-label=\"x: -0.460860434757; y: 0.981164280745\" role=\"graphics-symbol\" aria-roledescription=\"point\" transform=\"translate(170.4350635459527,188.2063394720455)\" d=\"M6.008046501761291,0A6.008046501761291,6.008046501761291,0,1,1,-6.008046501761291,0A6.008046501761291,6.008046501761291,0,1,1,6.008046501761291,0\" stroke=\"rgb(124, 183, 217)\" stroke-width=\"2\" opacity=\"0.7\"></path><path aria-label=\"x: 3.68843916503; y: 4.37766323437\" role=\"graphics-symbol\" aria-roledescription=\"point\" transform=\"translate(298.10582046250175,60.83762871124787)\" d=\"M8.263196942858889,0A8.263196942858889,8.263196942858889,0,1,1,-8.263196942858889,0A8.263196942858889,8.263196942858889,0,1,1,8.263196942858889,0\" stroke=\"rgb(26, 103, 172)\" stroke-width=\"2\" opacity=\"0.7\"></path><path aria-label=\"x: 0.471259142237; y: 2.0238097642\" role=\"graphics-symbol\" aria-roledescription=\"point\" transform=\"translate(199.11566591499798,149.1071338426074)\" d=\"M6.582290941437414,0A6.582290941437414,6.582290941437414,0,1,1,-6.582290941437414,0A6.582290941437414,6.582290941437414,0,1,1,6.582290941437414,0\" stroke=\"rgb(88, 161, 206)\" stroke-width=\"2\" opacity=\"0.7\"></path><path aria-label=\"x: 1.37589353181; y: 2.53548423152\" role=\"graphics-symbol\" aria-roledescription=\"point\" transform=\"translate(226.9505702096381,129.91934131798897)\" d=\"M7.095301124754838,0A7.095301124754838,7.095301124754838,0,1,1,-7.095301124754838,0A7.095301124754838,7.095301124754838,0,1,1,7.095301124754838,0\" stroke=\"rgb(72, 149, 199)\" stroke-width=\"2\" opacity=\"0.7\"></path><path aria-label=\"x: 1.8266031016; y: 3.9757827359\" role=\"graphics-symbol\" aria-roledescription=\"point\" transform=\"translate(240.81855697230966,75.90814740366216)\" d=\"M7.337520058423244,0A7.337520058423244,7.337520058423244,0,1,1,-7.337520058423244,0A7.337520058423244,7.337520058423244,0,1,1,7.337520058423244,0\" stroke=\"rgb(35, 114, 180)\" stroke-width=\"2\" opacity=\"0.7\"></path><path aria-label=\"x: -1.76519562389; y: -0.217625735245\" role=\"graphics-symbol\" aria-roledescription=\"point\" transform=\"translate(130.30167311114838,233.16096507168106)\" d=\"M5.0970209687640615,0A5.0970209687640615,5.0970209687640615,0,1,1,-5.0970209687640615,0A5.0970209687640615,5.0970209687640615,0,1,1,5.0970209687640615,0\" stroke=\"rgb(167, 206, 229)\" stroke-width=\"2\" opacity=\"0.7\"></path><path aria-label=\"x: 2.34545866811; y: 2.5951228086\" role=\"graphics-symbol\" aria-roledescription=\"point\" transform=\"translate(256.7833436341409,127.68289467757157)\" d=\"M7.606817575279652,0A7.606817575279652,7.606817575279652,0,1,1,-7.606817575279652,0A7.606817575279652,7.606817575279652,0,1,1,7.606817575279652,0\" stroke=\"rgb(71, 147, 199)\" stroke-width=\"2\" opacity=\"0.7\"></path><path aria-label=\"x: 3.14078984218; y: 3.232770697\" role=\"graphics-symbol\" aria-roledescription=\"point\" transform=\"translate(281.2550720670774,103.77109886264961)\" d=\"M8.002038090682982,0A8.002038090682982,8.002038090682982,0,1,1,-8.002038090682982,0A8.002038090682982,8.002038090682982,0,1,1,8.002038090682982,0\" stroke=\"rgb(53, 132, 191)\" stroke-width=\"2\" opacity=\"0.7\"></path><path aria-label=\"x: 1.66113464092; y: 3.91793642299\" role=\"graphics-symbol\" aria-roledescription=\"point\" transform=\"translate(235.7272197205638,78.07738413775537)\" d=\"M7.249534751903464,0A7.249534751903464,7.249534751903464,0,1,1,-7.249534751903464,0A7.249534751903464,7.249534751903464,0,1,1,7.249534751903464,0\" stroke=\"rgb(36, 115, 181)\" stroke-width=\"2\" opacity=\"0.7\"></path><path aria-label=\"x: 0.448337681084; y: 1.1732082056\" role=\"graphics-symbol\" aria-roledescription=\"point\" transform=\"translate(198.41039018718763,181.00469228983474)\" d=\"M6.568771959644104,0A6.568771959644104,6.568771959644104,0,1,1,-6.568771959644104,0A6.568771959644104,6.568771959644104,0,1,1,6.568771959644104,0\" stroke=\"rgb(117, 179, 215)\" stroke-width=\"2\" opacity=\"0.7\"></path><path aria-label=\"x: -0.30071543612; y: 1.14075082712\" role=\"graphics-symbol\" aria-roledescription=\"point\" transform=\"translate(175.36260196552587,182.22184398291532)\" d=\"M6.110546467574187,0A6.110546467574187,6.110546467574187,0,1,1,-6.110546467574187,0A6.110546467574187,6.110546467574187,0,1,1,6.110546467574187,0\" stroke=\"rgb(118, 179, 216)\" stroke-width=\"2\" opacity=\"0.7\"></path><path aria-label=\"x: -1.20237096226; y: 0.831385270284\" role=\"graphics-symbol\" aria-roledescription=\"point\" transform=\"translate(147.61935500751179,193.82305236433206)\" d=\"M5.508642255595913,0A5.508642255595913,5.508642255595913,0,1,1,-5.508642255595913,0A5.508642255595913,5.508642255595913,0,1,1,5.508642255595913,0\" stroke=\"rgb(130, 186, 219)\" stroke-width=\"2\" opacity=\"0.7\"></path><path aria-label=\"x: -2.10825204412; y: -0.267132811962\" role=\"graphics-symbol\" aria-roledescription=\"point\" transform=\"translate(119.74609095007003,235.01748044858448)\" d=\"M4.828946633655489,0A4.828946633655489,4.828946633655489,0,1,1,-4.828946633655489,0A4.828946633655489,4.828946633655489,0,1,1,4.828946633655489,0\" stroke=\"rgb(169, 206, 229)\" stroke-width=\"2\" opacity=\"0.7\"></path><path aria-label=\"x: 2.18900239285; y: 2.62247454052\" role=\"graphics-symbol\" aria-roledescription=\"point\" transform=\"translate(251.969304395344,126.65720473041581)\" d=\"M7.526628038290769,0A7.526628038290769,7.526628038290769,0,1,1,-7.526628038290769,0A7.526628038290769,7.526628038290769,0,1,1,7.526628038290769,0\" stroke=\"rgb(70, 147, 198)\" stroke-width=\"2\" opacity=\"0.7\"></path><path aria-label=\"x: 4.08087609811; y: 3.91541227923\" role=\"graphics-symbol\" aria-roledescription=\"point\" transform=\"translate(310.18080301880036,78.17203952869555)\" d=\"M8.445373760635846,0A8.445373760635846,8.445373760635846,0,1,1,-8.445373760635846,0A8.445373760635846,8.445373760635846,0,1,1,8.445373760635846,0\" stroke=\"rgb(36, 115, 181)\" stroke-width=\"2\" opacity=\"0.7\"></path><path aria-label=\"x: -0.701498594646; y: 1.88142751086\" role=\"graphics-symbol\" aria-roledescription=\"point\" transform=\"translate(163.0308124724311,154.44646834271032)\" d=\"M5.85065183376284,0A5.85065183376284,5.85065183376284,0,1,1,-5.85065183376284,0A5.85065183376284,5.85065183376284,0,1,1,5.85065183376284,0\" stroke=\"rgb(93, 164, 208)\" stroke-width=\"2\" opacity=\"0.7\"></path><path aria-label=\"x: 1.36971241417; y: 3.82844665347\" role=\"graphics-symbol\" aria-roledescription=\"point\" transform=\"translate(226.76038197449327,81.43325049481398)\" d=\"M7.091921782673477,0A7.091921782673477,7.091921782673477,0,1,1,-7.091921782673477,0A7.091921782673477,7.091921782673477,0,1,1,7.091921782673477,0\" stroke=\"rgb(38, 117, 182)\" stroke-width=\"2\" opacity=\"0.7\"></path><path aria-label=\"x: 1.47085506399; y: 2.40023212855\" role=\"graphics-symbol\" aria-roledescription=\"point\" transform=\"translate(229.8724635074735,134.9912951794105)\" d=\"M7.1470176752724965,0A7.1470176752724965,7.1470176752724965,0,1,1,-7.1470176752724965,0A7.1470176752724965,7.1470176752724965,0,1,1,7.1470176752724965,0\" stroke=\"rgb(77, 152, 201)\" stroke-width=\"2\" opacity=\"0.7\"></path><path aria-label=\"x: 1.33329325674; y: 2.25384180574\" role=\"graphics-symbol\" aria-roledescription=\"point\" transform=\"translate(225.6397925151259,140.4809322848016)\" d=\"M7.071977905490022,0A7.071977905490022,7.071977905490022,0,1,1,-7.071977905490022,0A7.071977905490022,7.071977905490022,0,1,1,7.071977905490022,0\" stroke=\"rgb(81, 155, 203)\" stroke-width=\"2\" opacity=\"0.7\"></path><path aria-label=\"x: 1.58232145061; y: 2.52504847559\" role=\"graphics-symbol\" aria-roledescription=\"point\" transform=\"translate(233.3021984803106,130.31068216539802)\" d=\"M7.207249419410882,0A7.207249419410882,7.207249419410882,0,1,1,-7.207249419410882,0A7.207249419410882,7.207249419410882,0,1,1,7.207249419410882,0\" stroke=\"rgb(73, 149, 200)\" stroke-width=\"2\" opacity=\"0.7\"></path><path aria-label=\"x: 5.21821669398; y: 5.07278112561\" role=\"graphics-symbol\" aria-roledescription=\"point\" transform=\"translate(345.17589827639654,34.77070778949971)\" d=\"M8.952432860451056,0A8.952432860451056,8.952432860451056,0,1,1,-8.952432860451056,0A8.952432860451056,8.952432860451056,0,1,1,8.952432860451056,0\" stroke=\"rgb(15, 85, 157)\" stroke-width=\"2\" opacity=\"0.7\"></path><path aria-label=\"x: 0.865508494995; y: 2.71193534088\" role=\"graphics-symbol\" aria-roledescription=\"point\" transform=\"translate(211.24641523062354,123.30242471687743)\" d=\"M6.810618636062659,0A6.810618636062659,6.810618636062659,0,1,1,-6.810618636062659,0A6.810618636062659,6.810618636062659,0,1,1,6.810618636062659,0\" stroke=\"rgb(67, 144, 197)\" stroke-width=\"2\" opacity=\"0.7\"></path><path aria-label=\"x: 0.255531108905; y: 1.77959197575\" role=\"graphics-symbol\" aria-roledescription=\"point\" transform=\"translate(192.47788027399088,158.26530090937587)\" d=\"M6.453934621433606,0A6.453934621433606,6.453934621433606,0,1,1,-6.453934621433606,0A6.453934621433606,6.453934621433606,0,1,1,6.453934621433606,0\" stroke=\"rgb(96, 166, 209)\" stroke-width=\"2\" opacity=\"0.7\"></path><path aria-label=\"x: -0.317579756581; y: 2.2816608149\" role=\"graphics-symbol\" aria-roledescription=\"point\" transform=\"translate(174.84369979751787,139.43771944124956)\" d=\"M6.099833687229541,0A6.099833687229541,6.099833687229541,0,1,1,-6.099833687229541,0A6.099833687229541,6.099833687229541,0,1,1,6.099833687229541,0\" stroke=\"rgb(80, 155, 203)\" stroke-width=\"2\" opacity=\"0.7\"></path><path aria-label=\"x: -1.31625100499; y: 0.208164696343\" role=\"graphics-symbol\" aria-roledescription=\"point\" transform=\"translate(144.11535369248455,217.19382388714098)\" d=\"M5.427875788364429,0A5.427875788364429,5.427875788364429,0,1,1,-5.427875788364429,0A5.427875788364429,5.427875788364429,0,1,1,5.427875788364429,0\" stroke=\"rgb(153, 198, 225)\" stroke-width=\"2\" opacity=\"0.7\"></path><path aria-label=\"x: 0.709971072775; y: 1.04779203366\" role=\"graphics-symbol\" aria-roledescription=\"point\" transform=\"translate(206.46064839307348,185.70779873780202)\" d=\"M6.721466301279611,0A6.721466301279611,6.721466301279611,0,1,1,-6.721466301279611,0A6.721466301279611,6.721466301279611,0,1,1,6.721466301279611,0\" stroke=\"rgb(122, 181, 217)\" stroke-width=\"2\" opacity=\"0.7\"></path><path aria-label=\"x: 1.11115553873; y: 0.73273921781\" role=\"graphics-symbol\" aria-roledescription=\"point\" transform=\"translate(218.80478580704857,197.5222793321396)\" d=\"M6.94909153842653,0A6.94909153842653,6.94909153842653,0,1,1,-6.94909153842653,0A6.94909153842653,6.94909153842653,0,1,1,6.94909153842653,0\" stroke=\"rgb(134, 188, 220)\" stroke-width=\"2\" opacity=\"0.7\"></path><path aria-label=\"x: 1.20608551598; y: 2.14083896221\" role=\"graphics-symbol\" aria-roledescription=\"point\" transform=\"translate(221.72570818402923,144.71853891726252)\" d=\"M7.001870611142416,0A7.001870611142416,7.001870611142416,0,1,1,-7.001870611142416,0A7.001870611142416,7.001870611142416,0,1,1,7.001870611142416,0\" stroke=\"rgb(84, 158, 204)\" stroke-width=\"2\" opacity=\"0.7\"></path><path aria-label=\"x: -0.521193147; y: 1.31623213354\" role=\"graphics-symbol\" aria-roledescription=\"point\" transform=\"translate(168.5786723999961,175.64129499219072)\" d=\"M5.968974417337177,0A5.968974417337177,5.968974417337177,0,1,1,-5.968974417337177,0A5.968974417337177,5.968974417337177,0,1,1,5.968974417337177,0\" stroke=\"rgb(112, 176, 214)\" stroke-width=\"2\" opacity=\"0.7\"></path><path aria-label=\"x: 1.09582049777; y: 1.14486898403\" role=\"graphics-symbol\" aria-roledescription=\"point\" transform=\"translate(218.33293839281728,182.0674130988617)\" d=\"M6.940527923462486,0A6.940527923462486,6.940527923462486,0,1,1,-6.940527923462486,0A6.940527923462486,6.940527923462486,0,1,1,6.940527923462486,0\" stroke=\"rgb(118, 179, 216)\" stroke-width=\"2\" opacity=\"0.7\"></path><path aria-label=\"x: -0.803082056066; y: 0.648541322768\" role=\"graphics-symbol\" aria-roledescription=\"point\" transform=\"translate(159.90516750565763,200.6797003962018)\" d=\"M5.78292319431072,0A5.78292319431072,5.78292319431072,0,1,1,-5.78292319431072,0A5.78292319431072,5.78292319431072,0,1,1,5.78292319431072,0\" stroke=\"rgb(137, 190, 220)\" stroke-width=\"2\" opacity=\"0.7\"></path><path aria-label=\"x: 4.75728603203; y: 3.66779408641\" role=\"graphics-symbol\" aria-roledescription=\"point\" transform=\"translate(330.9934163701761,87.45772175970501)\" d=\"M8.7504784016262,0A8.7504784016262,8.7504784016262,0,1,1,-8.7504784016262,0A8.7504784016262,8.7504784016262,0,1,1,8.7504784016262,0\" stroke=\"rgb(42, 121, 184)\" stroke-width=\"2\" opacity=\"0.7\"></path><path aria-label=\"x: -0.140103812757; y: 1.21831020553\" role=\"graphics-symbol\" aria-roledescription=\"point\" transform=\"translate(180.30449806902996,179.31336729244202)\" d=\"M6.211646548620932,0A6.211646548620932,6.211646548620932,0,1,1,-6.211646548620932,0A6.211646548620932,6.211646548620932,0,1,1,6.211646548620932,0\" stroke=\"rgb(116, 178, 215)\" stroke-width=\"2\" opacity=\"0.7\"></path><path aria-label=\"x: 0.124785214671; y: 2.42241315266\" role=\"graphics-symbol\" aria-roledescription=\"point\" transform=\"translate(188.45492968217502,134.15950677538333)\" d=\"M6.374884248016233,0A6.374884248016233,6.374884248016233,0,1,1,-6.374884248016233,0A6.374884248016233,6.374884248016233,0,1,1,6.374884248016233,0\" stroke=\"rgb(76, 151, 201)\" stroke-width=\"2\" opacity=\"0.7\"></path><path aria-label=\"x: 1.61908920551; y: 1.19770269771\" role=\"graphics-symbol\" aria-roledescription=\"point\" transform=\"translate(234.43351401574947,180.08614883604756)\" d=\"M7.2270070669282935,0A7.2270070669282935,7.2270070669282935,0,1,1,-7.2270070669282935,0A7.2270070669282935,7.2270070669282935,0,1,1,7.2270070669282935,0\" stroke=\"rgb(116, 178, 215)\" stroke-width=\"2\" opacity=\"0.7\"></path><path aria-label=\"x: 0.457391618683; y: 1.68736723013\" role=\"graphics-symbol\" aria-roledescription=\"point\" transform=\"translate(198.68897288255226,161.72372886994341)\" d=\"M6.57411525591535,0A6.57411525591535,6.57411525591535,0,1,1,-6.57411525591535,0A6.57411525591535,6.57411525591535,0,1,1,6.57411525591535,0\" stroke=\"rgb(99, 168, 210)\" stroke-width=\"2\" opacity=\"0.7\"></path><path aria-label=\"x: 2.43151604372; y: 3.05115095405\" role=\"graphics-symbol\" aria-roledescription=\"point\" transform=\"translate(259.43126288356876,110.581839222968)\" d=\"M7.650566818926318,0A7.650566818926318,7.650566818926318,0,1,1,-7.650566818926318,0A7.650566818926318,7.650566818926318,0,1,1,7.650566818926318,0\" stroke=\"rgb(58, 136, 193)\" stroke-width=\"2\" opacity=\"0.7\"></path><path aria-label=\"x: 1.01672506811; y: 1.88532172237\" role=\"graphics-symbol\" aria-roledescription=\"point\" transform=\"translate(215.89923286498288,154.3004354112435)\" d=\"M6.896189437496241,0A6.896189437496241,6.896189437496241,0,1,1,-6.896189437496241,0A6.896189437496241,6.896189437496241,0,1,1,6.896189437496241,0\" stroke=\"rgb(92, 164, 207)\" stroke-width=\"2\" opacity=\"0.7\"></path><path aria-label=\"x: 3.95541656643; y: 4.77857072417\" role=\"graphics-symbol\" aria-roledescription=\"point\" transform=\"translate(306.3205097362634,45.803597843536714)\" d=\"M8.387563317095465,0A8.387563317095465,8.387563317095465,0,1,1,-8.387563317095465,0A8.387563317095465,8.387563317095465,0,1,1,8.387563317095465,0\" stroke=\"rgb(19, 93, 165)\" stroke-width=\"2\" opacity=\"0.7\"></path><path aria-label=\"x: -2.81544129582; y: -1.00973361665\" role=\"graphics-symbol\" aria-roledescription=\"point\" transform=\"translate(97.98642166706114,262.8650106243087)\" d=\"M4.2229673575018305,0A4.2229673575018305,4.2229673575018305,0,1,1,-4.2229673575018305,0A4.2229673575018305,4.2229673575018305,0,1,1,4.2229673575018305,0\" stroke=\"rgb(191, 217, 236)\" stroke-width=\"2\" opacity=\"0.7\"></path><path aria-label=\"x: 0.345536092242; y: 2.51196043761\" role=\"graphics-symbol\" aria-roledescription=\"point\" transform=\"translate(195.24726437668443,130.80148358979181)\" d=\"M6.5077945968443265,0A6.5077945968443265,6.5077945968443265,0,1,1,-6.5077945968443265,0A6.5077945968443265,6.5077945968443265,0,1,1,6.5077945968443265,0\" stroke=\"rgb(73, 149, 200)\" stroke-width=\"2\" opacity=\"0.7\"></path><path aria-label=\"x: -2.86766933232; y: -0.348522201126\" role=\"graphics-symbol\" aria-roledescription=\"point\" transform=\"translate(96.37940515925855,238.06958254222474)\" d=\"M4.174727485224842,0A4.174727485224842,4.174727485224842,0,1,1,-4.174727485224842,0A4.174727485224842,4.174727485224842,0,1,1,4.174727485224842,0\" stroke=\"rgb(172, 208, 230)\" stroke-width=\"2\" opacity=\"0.7\"></path><path aria-label=\"x: 2.77930960941; y: 3.76484004766\" role=\"graphics-symbol\" aria-roledescription=\"point\" transform=\"translate(270.1326033665031,83.81849821285046)\" d=\"M7.824884229773056,0A7.824884229773056,7.824884229773056,0,1,1,-7.824884229773056,0A7.824884229773056,7.824884229773056,0,1,1,7.824884229773056,0\" stroke=\"rgb(40, 119, 183)\" stroke-width=\"2\" opacity=\"0.7\"></path><path aria-label=\"x: 0.49418949473; y: 1.88223952864\" role=\"graphics-symbol\" aria-roledescription=\"point\" transform=\"translate(199.8212152224757,154.41601767582316)\" d=\"M6.59578744220935,0A6.59578744220935,6.59578744220935,0,1,1,-6.59578744220935,0A6.59578744220935,6.59578744220935,0,1,1,6.59578744220935,0\" stroke=\"rgb(93, 164, 207)\" stroke-width=\"2\" opacity=\"0.7\"></path><path aria-label=\"x: 2.86582933997; y: 4.57492955812\" role=\"graphics-symbol\" aria-roledescription=\"point\" transform=\"translate(272.7947489221744,53.440141570534706)\" d=\"M7.867648852479219,0A7.867648852479219,7.867648852479219,0,1,1,-7.867648852479219,0A7.867648852479219,7.867648852479219,0,1,1,7.867648852479219,0\" stroke=\"rgb(23, 98, 169)\" stroke-width=\"2\" opacity=\"0.7\"></path><path aria-label=\"x: 1.13823402944; y: 0.900090072588\" role=\"graphics-symbol\" aria-roledescription=\"point\" transform=\"translate(219.63797013667897,191.24662227793416)\" d=\"M6.9641873859972225,0A6.9641873859972225,6.9641873859972225,0,1,1,-6.9641873859972225,0A6.9641873859972225,6.9641873859972225,0,1,1,6.9641873859972225,0\" stroke=\"rgb(128, 184, 218)\" stroke-width=\"2\" opacity=\"0.7\"></path><path aria-label=\"x: -0.156832007951; y: 0.49215268468\" role=\"graphics-symbol\" aria-roledescription=\"point\" transform=\"translate(179.78978437072544,206.54427432450734)\" d=\"M6.201193560289232,0A6.201193560289232,6.201193560289232,0,1,1,-6.201193560289232,0A6.201193560289232,6.201193560289232,0,1,1,6.201193560289232,0\" stroke=\"rgb(143, 193, 222)\" stroke-width=\"2\" opacity=\"0.7\"></path><path aria-label=\"x: 1.17005050156; y: 2.56128924089\" role=\"graphics-symbol\" aria-roledescription=\"point\" transform=\"translate(220.61693850947873,128.95165346670103)\" d=\"M6.981882880874048,0A6.981882880874048,6.981882880874048,0,1,1,-6.981882880874048,0A6.981882880874048,6.981882880874048,0,1,1,6.981882880874048,0\" stroke=\"rgb(72, 148, 199)\" stroke-width=\"2\" opacity=\"0.7\"></path><path aria-label=\"x: 3.89649184385; y: 3.37410258566\" role=\"graphics-symbol\" aria-roledescription=\"point\" transform=\"translate(304.5074413492851,98.4711530376192)\" d=\"M8.360273453405817,0A8.360273453405817,8.360273453405817,0,1,1,-8.360273453405817,0A8.360273453405817,8.360273453405817,0,1,1,8.360273453405817,0\" stroke=\"rgb(49, 129, 189)\" stroke-width=\"2\" opacity=\"0.7\"></path><path aria-label=\"x: 1.00292081615; y: 0.338590608379\" role=\"graphics-symbol\" aria-roledescription=\"point\" transform=\"translate(215.47448665062686,212.30285218580298)\" d=\"M6.888421944143325,0A6.888421944143325,6.888421944143325,0,1,1,-6.888421944143325,0A6.888421944143325,6.888421944143325,0,1,1,6.888421944143325,0\" stroke=\"rgb(148, 196, 223)\" stroke-width=\"2\" opacity=\"0.7\"></path><path aria-label=\"x: 0.169540166256; y: 2.1811134526\" role=\"graphics-symbol\" aria-roledescription=\"point\" transform=\"translate(189.8320051155816,143.20824552760965)\" d=\"M6.402053448218079,0A6.402053448218079,6.402053448218079,0,1,1,-6.402053448218079,0A6.402053448218079,6.402053448218079,0,1,1,6.402053448218079,0\" stroke=\"rgb(83, 157, 204)\" stroke-width=\"2\" opacity=\"0.7\"></path><path aria-label=\"x: 4.62590436274; y: 3.96972137514\" role=\"graphics-symbol\" aria-roledescription=\"point\" transform=\"translate(326.95090346878806,76.13544843235682)\" d=\"M8.692054876892994,0A8.692054876892994,8.692054876892994,0,1,1,-8.692054876892994,0A8.692054876892994,8.692054876892994,0,1,1,8.692054876892994,0\" stroke=\"rgb(35, 114, 180)\" stroke-width=\"2\" opacity=\"0.7\"></path><path aria-label=\"x: 0.928417229191; y: 2.00329002689\" role=\"graphics-symbol\" aria-roledescription=\"point\" transform=\"translate(213.18206859049184,149.87662399165833)\" d=\"M6.846347503800048,0A6.846347503800048,6.846347503800048,0,1,1,-6.846347503800048,0A6.846347503800048,6.846347503800048,0,1,1,6.846347503800048,0\" stroke=\"rgb(89, 161, 206)\" stroke-width=\"2\" opacity=\"0.7\"></path><path aria-label=\"x: 0.383811318112; y: 0.735214181079\" role=\"graphics-symbol\" aria-roledescription=\"point\" transform=\"translate(196.42496363420727,197.42946820955567)\" d=\"M6.53056430007463,0A6.53056430007463,6.53056430007463,0,1,1,-6.53056430007463,0A6.53056430007463,6.53056430007463,0,1,1,6.53056430007463,0\" stroke=\"rgb(134, 188, 220)\" stroke-width=\"2\" opacity=\"0.7\"></path><path aria-label=\"x: 4.22791650735; y: 3.48845335685\" role=\"graphics-symbol\" aria-roledescription=\"point\" transform=\"translate(314.70512330297333,94.1829991179903)\" d=\"M8.512628755948613,0A8.512628755948613,8.512628755948613,0,1,1,-8.512628755948613,0A8.512628755948613,8.512628755948613,0,1,1,8.512628755948613,0\" stroke=\"rgb(46, 126, 187)\" stroke-width=\"2\" opacity=\"0.7\"></path><path aria-label=\"x: 2.31635363152; y: 2.73980177814\" role=\"graphics-symbol\" aria-roledescription=\"point\" transform=\"translate(255.88780404675626,122.25743331971275)\" d=\"M7.591964311068412,0A7.591964311068412,7.591964311068412,0,1,1,-7.591964311068412,0A7.591964311068412,7.591964311068412,0,1,1,7.591964311068412,0\" stroke=\"rgb(66, 144, 197)\" stroke-width=\"2\" opacity=\"0.7\"></path><path aria-label=\"x: -1.67783014061; y: 0.960789412319\" role=\"graphics-symbol\" aria-roledescription=\"point\" transform=\"translate(132.98984182748902,188.97039703804515)\" d=\"M5.163067697054665,0A5.163067697054665,5.163067697054665,0,1,1,-5.163067697054665,0A5.163067697054665,5.163067697054665,0,1,1,5.163067697054665,0\" stroke=\"rgb(125, 183, 217)\" stroke-width=\"2\" opacity=\"0.7\"></path><path aria-label=\"x: 0.883357618181; y: 1.20363298105\" role=\"graphics-symbol\" aria-roledescription=\"point\" transform=\"translate(211.79561902095037,179.8637632107977)\" d=\"M6.820775021319262,0A6.820775021319262,6.820775021319262,0,1,1,-6.820775021319262,0A6.820775021319262,6.820775021319262,0,1,1,6.820775021319262,0\" stroke=\"rgb(116, 178, 215)\" stroke-width=\"2\" opacity=\"0.7\"></path><path aria-label=\"x: 2.49688604515; y: 3.388480747\" role=\"graphics-symbol\" aria-roledescription=\"point\" transform=\"translate(261.4426475429268,97.93197198741547)\" d=\"M7.683632686683213,0A7.683632686683213,7.683632686683213,0,1,1,-7.683632686683213,0A7.683632686683213,7.683632686683213,0,1,1,7.683632686683213,0\" stroke=\"rgb(48, 128, 189)\" stroke-width=\"2\" opacity=\"0.7\"></path><path aria-label=\"x: 0.194553251038; y: 1.14253899743\" role=\"graphics-symbol\" aria-roledescription=\"point\" transform=\"translate(190.601638493479,182.1547875963994)\" d=\"M6.417187927024332,0A6.417187927024332,6.417187927024332,0,1,1,-6.417187927024332,0A6.417187927024332,6.417187927024332,0,1,1,6.417187927024332,0\" stroke=\"rgb(118, 179, 216)\" stroke-width=\"2\" opacity=\"0.7\"></path><path aria-label=\"x: 0.630412104945; y: 0.630608975435\" role=\"graphics-symbol\" aria-roledescription=\"point\" transform=\"translate(204.01268015214094,201.35216342119827)\" d=\"M6.675403713171025,0A6.675403713171025,6.675403713171025,0,1,1,-6.675403713171025,0A6.675403713171025,6.675403713171025,0,1,1,6.675403713171025,0\" stroke=\"rgb(138, 190, 221)\" stroke-width=\"2\" opacity=\"0.7\"></path><path aria-label=\"x: 1.06219937429; y: 2.52857822972\" role=\"graphics-symbol\" aria-roledescription=\"point\" transform=\"translate(217.29844228575536,130.17831638566116)\" d=\"M6.921715652068674,0A6.921715652068674,6.921715652068674,0,1,1,-6.921715652068674,0A6.921715652068674,6.921715652068674,0,1,1,6.921715652068674,0\" stroke=\"rgb(73, 149, 199)\" stroke-width=\"2\" opacity=\"0.7\"></path><path aria-label=\"x: 0.0871071806261; y: 1.20413330224\" role=\"graphics-symbol\" aria-roledescription=\"point\" transform=\"translate(187.29560555772542,179.84500116618136)\" d=\"M6.3519211028285705,0A6.3519211028285705,6.3519211028285705,0,1,1,-6.3519211028285705,0A6.3519211028285705,6.3519211028285705,0,1,1,6.3519211028285705,0\" stroke=\"rgb(116, 178, 215)\" stroke-width=\"2\" opacity=\"0.7\"></path><path aria-label=\"x: 0.545354370471; y: 2.44012142466\" role=\"graphics-symbol\" aria-roledescription=\"point\" transform=\"translate(201.3955190914181,133.49544657533988)\" d=\"M6.6258032995882985,0A6.6258032995882985,6.6258032995882985,0,1,1,-6.6258032995882985,0A6.6258032995882985,6.6258032995882985,0,1,1,6.6258032995882985,0\" stroke=\"rgb(75, 151, 201)\" stroke-width=\"2\" opacity=\"0.7\"></path><path aria-label=\"x: 2.23506534194; y: 2.63565540375\" role=\"graphics-symbol\" aria-roledescription=\"point\" transform=\"translate(253.38662590586486,126.1629223593975)\" d=\"M7.550325437461683,0A7.550325437461683,7.550325437461683,0,1,1,-7.550325437461683,0A7.550325437461683,7.550325437461683,0,1,1,7.550325437461683,0\" stroke=\"rgb(69, 146, 198)\" stroke-width=\"2\" opacity=\"0.7\"></path><path aria-label=\"x: 0.849783114678; y: 1.72573082542\" role=\"graphics-symbol\" aria-roledescription=\"point\" transform=\"translate(210.76255737471587,160.28509404684164)\" d=\"M6.801658121981822,0A6.801658121981822,6.801658121981822,0,1,1,-6.801658121981822,0A6.801658121981822,6.801658121981822,0,1,1,6.801658121981822,0\" stroke=\"rgb(98, 167, 209)\" stroke-width=\"2\" opacity=\"0.7\"></path><path aria-label=\"x: 2.28719291189; y: 1.96519372885\" role=\"graphics-symbol\" aria-roledescription=\"point\" transform=\"translate(254.99055113515593,151.30523516830505)\" d=\"M7.577053429615793,0A7.577053429615793,7.577053429615793,0,1,1,-7.577053429615793,0A7.577053429615793,7.577053429615793,0,1,1,7.577053429615793,0\" stroke=\"rgb(90, 162, 207)\" stroke-width=\"2\" opacity=\"0.7\"></path><path aria-label=\"x: -0.421852731257; y: 1.19386822423\" role=\"graphics-symbol\" aria-roledescription=\"point\" transform=\"translate(171.63530057671647,180.2299415915292)\" d=\"M6.0331736051720695,0A6.0331736051720695,6.0331736051720695,0,1,1,-6.0331736051720695,0A6.0331736051720695,6.0331736051720695,0,1,1,6.0331736051720695,0\" stroke=\"rgb(116, 178, 215)\" stroke-width=\"2\" opacity=\"0.7\"></path><path aria-label=\"x: -0.640572406156; y: 1.04781019843\" role=\"graphics-symbol\" aria-roledescription=\"point\" transform=\"translate(164.90546442595652,185.70711755878276)\" d=\"M5.890899533720451,0A5.890899533720451,5.890899533720451,0,1,1,-5.890899533720451,0A5.890899533720451,5.890899533720451,0,1,1,5.890899533720451,0\" stroke=\"rgb(122, 181, 217)\" stroke-width=\"2\" opacity=\"0.7\"></path><path aria-label=\"x: -1.35758600592; y: -0.00392072923846\" role=\"graphics-symbol\" aria-roledescription=\"point\" transform=\"translate(142.84350751025997,225.14702734644223)\" d=\"M5.398261112991225,0A5.398261112991225,5.398261112991225,0,1,1,-5.398261112991225,0A5.398261112991225,5.398261112991225,0,1,1,5.398261112991225,0\" stroke=\"rgb(160, 202, 227)\" stroke-width=\"2\" opacity=\"0.7\"></path><path aria-label=\"x: 1.42854586225; y: 2.51880845652\" role=\"graphics-symbol\" aria-roledescription=\"point\" transform=\"translate(228.57064191526266,130.54468288065308)\" d=\"M7.124022233875961,0A7.124022233875961,7.124022233875961,0,1,1,-7.124022233875961,0A7.124022233875961,7.124022233875961,0,1,1,7.124022233875961,0\" stroke=\"rgb(73, 149, 200)\" stroke-width=\"2\" opacity=\"0.7\"></path><path aria-label=\"x: 0.863271628663; y: 1.54789223908\" role=\"graphics-symbol\" aria-roledescription=\"point\" transform=\"translate(211.1775885742309,166.9540410343355)\" d=\"M6.809344761598552,0A6.809344761598552,6.809344761598552,0,1,1,-6.809344761598552,0A6.809344761598552,6.809344761598552,0,1,1,6.809344761598552,0\" stroke=\"rgb(104, 171, 211)\" stroke-width=\"2\" opacity=\"0.7\"></path><path aria-label=\"x: 2.39166029716; y: 1.82585840505\" role=\"graphics-symbol\" aria-roledescription=\"point\" transform=\"translate(258.20493222034145,156.5303098108043)\" d=\"M7.630336419281793,0A7.630336419281793,7.630336419281793,0,1,1,-7.630336419281793,0A7.630336419281793,7.630336419281793,0,1,1,7.630336419281793,0\" stroke=\"rgb(95, 165, 208)\" stroke-width=\"2\" opacity=\"0.7\"></path><path aria-label=\"x: 1.37362800625; y: 2.36064346097\" role=\"graphics-symbol\" aria-roledescription=\"point\" transform=\"translate(226.88086173082814,136.47587021375924)\" d=\"M7.094062702974501,0A7.094062702974501,7.094062702974501,0,1,1,-7.094062702974501,0A7.094062702974501,7.094062702974501,0,1,1,7.094062702974501,0\" stroke=\"rgb(78, 153, 202)\" stroke-width=\"2\" opacity=\"0.7\"></path><path aria-label=\"x: 1.38849155409; y: 2.7032141955\" role=\"graphics-symbol\" aria-roledescription=\"point\" transform=\"translate(227.33820166431596,123.6294676688747)\" d=\"M7.1021837400770895,0A7.1021837400770895,7.1021837400770895,0,1,1,-7.1021837400770895,0A7.1021837400770895,7.1021837400770895,0,1,1,7.1021837400770895,0\" stroke=\"rgb(67, 145, 197)\" stroke-width=\"2\" opacity=\"0.7\"></path><path aria-label=\"x: 1.80018964704; y: 1.83950688748\" role=\"graphics-symbol\" aria-roledescription=\"point\" transform=\"translate(240.00583529356052,156.0184917195479)\" d=\"M7.323546011608534,0A7.323546011608534,7.323546011608534,0,1,1,-7.323546011608534,0A7.323546011608534,7.323546011608534,0,1,1,7.323546011608534,0\" stroke=\"rgb(94, 165, 208)\" stroke-width=\"2\" opacity=\"0.7\"></path><path aria-label=\"x: 3.25598082664; y: 2.80487198834\" role=\"graphics-symbol\" aria-roledescription=\"point\" transform=\"translate(284.79941005034067,119.81730043713765)\" d=\"M8.057672478708165,0A8.057672478708165,8.057672478708165,0,1,1,-8.057672478708165,0A8.057672478708165,8.057672478708165,0,1,1,8.057672478708165,0\" stroke=\"rgb(65, 142, 196)\" stroke-width=\"2\" opacity=\"0.7\"></path><path aria-label=\"x: 2.45621704833; y: 1.15350088733\" role=\"graphics-symbol\" aria-roledescription=\"point\" transform=\"translate(260.19129379463453,181.74371672505416)\" d=\"M7.663078007958942,0A7.663078007958942,7.663078007958942,0,1,1,-7.663078007958942,0A7.663078007958942,7.663078007958942,0,1,1,7.663078007958942,0\" stroke=\"rgb(118, 179, 216)\" stroke-width=\"2\" opacity=\"0.7\"></path><path aria-label=\"x: 5.05500379904; y: 4.60904124496\" role=\"graphics-symbol\" aria-roledescription=\"point\" transform=\"translate(340.1539630472664,52.160953313973316)\" d=\"M8.881447111624125,0A8.881447111624125,8.881447111624125,0,1,1,-8.881447111624125,0A8.881447111624125,8.881447111624125,0,1,1,8.881447111624125,0\" stroke=\"rgb(22, 97, 168)\" stroke-width=\"2\" opacity=\"0.7\"></path><path aria-label=\"x: -1.52074194605; y: 1.31508051655\" role=\"graphics-symbol\" aria-roledescription=\"point\" transform=\"translate(137.8233247368345,175.68448062928275)\" d=\"M5.2797455891737135,0A5.2797455891737135,5.2797455891737135,0,1,1,-5.2797455891737135,0A5.2797455891737135,5.2797455891737135,0,1,1,5.2797455891737135,0\" stroke=\"rgb(112, 176, 214)\" stroke-width=\"2\" opacity=\"0.7\"></path><path aria-label=\"x: -0.641370570088; y: 0.0834086324796\" role=\"graphics-symbol\" aria-roledescription=\"point\" transform=\"translate(164.88090553576683,221.87217628201336)\" d=\"M5.8903740462122665,0A5.8903740462122665,5.8903740462122665,0,1,1,-5.8903740462122665,0A5.8903740462122665,5.8903740462122665,0,1,1,5.8903740462122665,0\" stroke=\"rgb(157, 200, 226)\" stroke-width=\"2\" opacity=\"0.7\"></path><path aria-label=\"x: 0.589888228568; y: 1.44318759749\" role=\"graphics-symbol\" aria-roledescription=\"point\" transform=\"translate(202.765791648251,170.88046509426928)\" d=\"M6.651818822268742,0A6.651818822268742,6.651818822268742,0,1,1,-6.651818822268742,0A6.651818822268742,6.651818822268742,0,1,1,6.651818822268742,0\" stroke=\"rgb(108, 173, 212)\" stroke-width=\"2\" opacity=\"0.7\"></path><path aria-label=\"x: -0.80557225445; y: 0.881877249798\" role=\"graphics-symbol\" aria-roledescription=\"point\" transform=\"translate(159.82854601692793,191.92960313257032)\" d=\"M5.7812529431263915,0A5.7812529431263915,5.7812529431263915,0,1,1,-5.7812529431263915,0A5.7812529431263915,5.7812529431263915,0,1,1,5.7812529431263915,0\" stroke=\"rgb(128, 185, 218)\" stroke-width=\"2\" opacity=\"0.7\"></path><path aria-label=\"x: 0.490098876867; y: 1.59967924524\" role=\"graphics-symbol\" aria-roledescription=\"point\" transform=\"translate(199.69535005744504,165.0120283035357)\" d=\"M6.593381783525887,0A6.593381783525887,6.593381783525887,0,1,1,-6.593381783525887,0A6.593381783525887,6.593381783525887,0,1,1,6.593381783525887,0\" stroke=\"rgb(102, 170, 211)\" stroke-width=\"2\" opacity=\"0.7\"></path><path aria-label=\"x: -0.442835515008; y: 2.47095424635\" role=\"graphics-symbol\" aria-roledescription=\"point\" transform=\"translate(170.98967646129475,132.33921576186646)\" d=\"M6.019670423595324,0A6.019670423595324,6.019670423595324,0,1,1,-6.019670423595324,0A6.019670423595324,6.019670423595324,0,1,1,6.019670423595324,0\" stroke=\"rgb(74, 150, 200)\" stroke-width=\"2\" opacity=\"0.7\"></path><path aria-label=\"x: 0.351643585551; y: 1.12347994957\" role=\"graphics-symbol\" aria-roledescription=\"point\" transform=\"translate(195.43518724773537,182.8695018910128)\" d=\"M6.511433247085384,0A6.511433247085384,6.511433247085384,0,1,1,-6.511433247085384,0A6.511433247085384,6.511433247085384,0,1,1,6.511433247085384,0\" stroke=\"rgb(119, 180, 216)\" stroke-width=\"2\" opacity=\"0.7\"></path><path aria-label=\"x: 1.61798566044; y: 1.01646230612\" role=\"graphics-symbol\" aria-roledescription=\"point\" transform=\"translate(234.39955878282154,186.88266352046637)\" d=\"M7.226414848477529,0A7.226414848477529,7.226414848477529,0,1,1,-7.226414848477529,0A7.226414848477529,7.226414848477529,0,1,1,7.226414848477529,0\" stroke=\"rgb(123, 182, 217)\" stroke-width=\"2\" opacity=\"0.7\"></path><path aria-label=\"x: 0.635288689095; y: 1.34024123644\" role=\"graphics-symbol\" aria-roledescription=\"point\" transform=\"translate(204.16272889524257,174.7409536336346)\" d=\"M6.678236269785224,0A6.678236269785224,6.678236269785224,0,1,1,-6.678236269785224,0A6.678236269785224,6.678236269785224,0,1,1,6.678236269785224,0\" stroke=\"rgb(111, 175, 214)\" stroke-width=\"2\" opacity=\"0.7\"></path><path aria-label=\"x: 2.15918607068; y: 3.88134716193\" role=\"graphics-symbol\" aria-roledescription=\"point\" transform=\"translate(251.05187909790337,79.44948142773694)\" d=\"M7.511248967950811,0A7.511248967950811,7.511248967950811,0,1,1,-7.511248967950811,0A7.511248967950811,7.511248967950811,0,1,1,7.511248967950811,0\" stroke=\"rgb(37, 116, 181)\" stroke-width=\"2\" opacity=\"0.7\"></path><path aria-label=\"x: 2.71373069496; y: 3.28443413527\" role=\"graphics-symbol\" aria-roledescription=\"point\" transform=\"translate(268.11479061426513,101.83371992747146)\" d=\"M7.7923137882573785,0A7.7923137882573785,7.7923137882573785,0,1,1,-7.7923137882573785,0A7.7923137882573785,7.7923137882573785,0,1,1,7.7923137882573785,0\" stroke=\"rgb(51, 131, 190)\" stroke-width=\"2\" opacity=\"0.7\"></path><path aria-label=\"x: -0.69953122136; y: 1.37289430722\" role=\"graphics-symbol\" aria-roledescription=\"point\" transform=\"translate(163.09134703507266,173.5164634792656)\" d=\"M5.851955800956375,0A5.851955800956375,5.851955800956375,0,1,1,-5.851955800956375,0A5.851955800956375,5.851955800956375,0,1,1,5.851955800956375,0\" stroke=\"rgb(110, 175, 213)\" stroke-width=\"2\" opacity=\"0.7\"></path><path aria-label=\"x: 2.07765866408; y: 3.69416759955\" role=\"graphics-symbol\" aria-roledescription=\"point\" transform=\"translate(248.54334351009686,86.4687150169549)\" d=\"M7.469035980117883,0A7.469035980117883,7.469035980117883,0,1,1,-7.469035980117883,0A7.469035980117883,7.469035980117883,0,1,1,7.469035980117883,0\" stroke=\"rgb(41, 121, 184)\" stroke-width=\"2\" opacity=\"0.7\"></path><path aria-label=\"x: 0.0801007003308; y: 0.793677911697\" role=\"graphics-symbol\" aria-roledescription=\"point\" transform=\"translate(187.08002154863846,195.23707831134388)\" d=\"M6.347641793593032,0A6.347641793593032,6.347641793593032,0,1,1,-6.347641793593032,0A6.347641793593032,6.347641793593032,0,1,1,6.347641793593032,0\" stroke=\"rgb(132, 187, 219)\" stroke-width=\"2\" opacity=\"0.7\"></path><path aria-label=\"x: 0.817566362928; y: 0.928135578538\" role=\"graphics-symbol\" aria-roledescription=\"point\" transform=\"translate(209.7712727054859,190.1949158048314)\" d=\"M6.783263657537451,0A6.783263657537451,6.783263657537451,0,1,1,-6.783263657537451,0A6.783263657537451,6.783263657537451,0,1,1,6.783263657537451,0\" stroke=\"rgb(126, 184, 218)\" stroke-width=\"2\" opacity=\"0.7\"></path><path aria-label=\"x: 0.32753053865; y: 0.547864135467\" role=\"graphics-symbol\" aria-roledescription=\"point\" transform=\"translate(194.693247343083,204.45509491998257)\" d=\"M6.497055601255139,0A6.497055601255139,6.497055601255139,0,1,1,-6.497055601255139,0A6.497055601255139,6.497055601255139,0,1,1,6.497055601255139,0\" stroke=\"rgb(141, 192, 221)\" stroke-width=\"2\" opacity=\"0.7\"></path><path aria-label=\"x: 0.286614879042; y: 1.7995412122\" role=\"graphics-symbol\" aria-roledescription=\"point\" transform=\"translate(193.43430397053785,157.51720454247524)\" d=\"M6.472586156431716,0A6.472586156431716,6.472586156431716,0,1,1,-6.472586156431716,0A6.472586156431716,6.472586156431716,0,1,1,6.472586156431716,0\" stroke=\"rgb(95, 166, 208)\" stroke-width=\"2\" opacity=\"0.7\"></path><path aria-label=\"x: 0.389113552143; y: 1.41568054359\" role=\"graphics-symbol\" aria-roledescription=\"point\" transform=\"translate(196.58810929672157,171.91197961533152)\" d=\"M6.533712309797898,0A6.533712309797898,6.533712309797898,0,1,1,-6.533712309797898,0A6.533712309797898,6.533712309797898,0,1,1,6.533712309797898,0\" stroke=\"rgb(109, 174, 213)\" stroke-width=\"2\" opacity=\"0.7\"></path><path aria-label=\"x: 0.58845562412; y: 2.10652478491\" role=\"graphics-symbol\" aria-roledescription=\"point\" transform=\"translate(202.7217115113876,146.00532056601537)\" d=\"M6.650983516084892,0A6.650983516084892,6.650983516084892,0,1,1,-6.650983516084892,0A6.650983516084892,6.650983516084892,0,1,1,6.650983516084892,0\" stroke=\"rgb(86, 159, 205)\" stroke-width=\"2\" opacity=\"0.7\"></path><path aria-label=\"x: 3.53607405713; y: 4.02352713146\" role=\"graphics-symbol\" aria-roledescription=\"point\" transform=\"translate(293.4176632962118,74.11773257019365)\" d=\"M8.191374281600108,0A8.191374281600108,8.191374281600108,0,1,1,-8.191374281600108,0A8.191374281600108,8.191374281600108,0,1,1,8.191374281600108,0\" stroke=\"rgb(33, 113, 179)\" stroke-width=\"2\" opacity=\"0.7\"></path><path aria-label=\"x: 0.510268601666; y: 1.41050545949\" role=\"graphics-symbol\" aria-roledescription=\"point\" transform=\"translate(200.31595697433073,172.10604526919028)\" d=\"M6.6052349420974465,0A6.6052349420974465,6.6052349420974465,0,1,1,-6.6052349420974465,0A6.6052349420974465,6.6052349420974465,0,1,1,6.6052349420974465,0\" stroke=\"rgb(109, 174, 213)\" stroke-width=\"2\" opacity=\"0.7\"></path></g><g class=\"mark-group role-legend\" role=\"graphics-symbol\" aria-roledescription=\"legend\" aria-label=\"Gradient legend titled 'y' for stroke color with values from -2 to 6\"><g transform=\"translate(418,0)\"><path class=\"background\" aria-hidden=\"true\" d=\"M0,0h24v216h-24Z\" pointer-events=\"none\"></path><g><g class=\"mark-group role-legend-entry\"><g transform=\"translate(0,16)\"><path class=\"background\" aria-hidden=\"true\" d=\"M0,0h0v0h0Z\" pointer-events=\"none\"></path><g><g class=\"mark-rect role-legend-gradient\" pointer-events=\"none\"><path d=\"M0,0h16v200h-16Z\" fill=\"url(#gradient_0)\" stroke=\"#ddd\" stroke-width=\"0\" opacity=\"0.7\"></path></g><g class=\"mark-text role-legend-label\" pointer-events=\"none\"><text text-anchor=\"start\" transform=\"translate(18,156.5353142514539)\" font-family=\"sans-serif\" font-size=\"10px\" fill=\"#000\" opacity=\"1\">0</text><text text-anchor=\"start\" transform=\"translate(18,100.97199214402852)\" font-family=\"sans-serif\" font-size=\"10px\" fill=\"#000\" opacity=\"1\">2</text><text text-anchor=\"start\" transform=\"translate(18,45.408670036603134)\" font-family=\"sans-serif\" font-size=\"10px\" fill=\"#000\" opacity=\"1\">4</text></g></g><path class=\"foreground\" aria-hidden=\"true\" d=\"\" pointer-events=\"none\" display=\"none\"></path></g></g><g class=\"mark-text role-legend-title\" pointer-events=\"none\"><text text-anchor=\"start\" transform=\"translate(0,9)\" font-family=\"sans-serif\" font-size=\"11px\" font-weight=\"bold\" fill=\"#000\" opacity=\"1\">y</text></g></g><path class=\"foreground\" aria-hidden=\"true\" d=\"\" pointer-events=\"none\" display=\"none\"></path></g></g><g class=\"mark-group role-legend\" role=\"graphics-symbol\" aria-roledescription=\"legend\" aria-label=\"Symbol legend titled 'x' for size with values from -5 to 7\"><g transform=\"translate(418,224)\"><path class=\"background\" aria-hidden=\"true\" d=\"M0,0h35v130h-35Z\" pointer-events=\"none\"></path><g><g class=\"mark-group role-legend-entry\"><g transform=\"translate(0,16)\"><path class=\"background\" aria-hidden=\"true\" d=\"M0,0h0v0h0Z\" pointer-events=\"none\"></path><g><g class=\"mark-group role-scope\" role=\"graphics-object\" aria-roledescription=\"group mark container\"><g transform=\"translate(0,0)\"><path class=\"background\" aria-hidden=\"true\" d=\"M0,0h35v10h-35Z\" pointer-events=\"none\" opacity=\"1\"></path><g><g class=\"mark-symbol role-legend-symbol\" pointer-events=\"none\"><path transform=\"translate(10.5,5)\" d=\"M2.9403218579656185,0A2.9403218579656185,2.9403218579656185,0,1,1,-2.9403218579656185,0A2.9403218579656185,2.9403218579656185,0,1,1,2.9403218579656185,0\" stroke=\"#888\" stroke-width=\"1.5\" opacity=\"0.7\"></path></g><g class=\"mark-text role-legend-label\" pointer-events=\"none\"><text text-anchor=\"start\" transform=\"translate(25,8)\" font-family=\"sans-serif\" font-size=\"10px\" fill=\"#000\" opacity=\"1\">-4</text></g></g><path class=\"foreground\" aria-hidden=\"true\" d=\"\" pointer-events=\"none\" display=\"none\"></path></g><g transform=\"translate(0,13)\"><path class=\"background\" aria-hidden=\"true\" d=\"M0,0h35v12.415117116923895h-35Z\" pointer-events=\"none\" opacity=\"1\"></path><g><g class=\"mark-symbol role-legend-symbol\" pointer-events=\"none\"><path transform=\"translate(10.5,6)\" d=\"M4.915117116923893,0A4.915117116923893,4.915117116923893,0,1,1,-4.915117116923893,0A4.915117116923893,4.915117116923893,0,1,1,4.915117116923893,0\" stroke=\"#888\" stroke-width=\"1.5\" opacity=\"0.7\"></path></g><g class=\"mark-text role-legend-label\" pointer-events=\"none\"><text text-anchor=\"start\" transform=\"translate(25,9)\" font-family=\"sans-serif\" font-size=\"10px\" fill=\"#000\" opacity=\"1\">-2</text></g></g><path class=\"foreground\" aria-hidden=\"true\" d=\"\" pointer-events=\"none\" display=\"none\"></path></g><g transform=\"translate(0,29)\"><path class=\"background\" aria-hidden=\"true\" d=\"M0,0h35v15.298512516279231h-35Z\" pointer-events=\"none\" opacity=\"1\"></path><g><g class=\"mark-symbol role-legend-symbol\" pointer-events=\"none\"><path transform=\"translate(10.5,7.5)\" d=\"M6.298512516279228,0A6.298512516279228,6.298512516279228,0,1,1,-6.298512516279228,0A6.298512516279228,6.298512516279228,0,1,1,6.298512516279228,0\" stroke=\"#888\" stroke-width=\"1.5\" opacity=\"0.7\"></path></g><g class=\"mark-text role-legend-label\" pointer-events=\"none\"><text text-anchor=\"start\" transform=\"translate(25,10.5)\" font-family=\"sans-serif\" font-size=\"10px\" fill=\"#000\" opacity=\"1\">0</text></g></g><path class=\"foreground\" aria-hidden=\"true\" d=\"\" pointer-events=\"none\" display=\"none\"></path></g><g transform=\"translate(0,48)\"><path class=\"background\" aria-hidden=\"true\" d=\"M0,0h35v17.428603069378113h-35Z\" pointer-events=\"none\" opacity=\"1\"></path><g><g class=\"mark-symbol role-legend-symbol\" pointer-events=\"none\"><path transform=\"translate(10.5,8.5)\" d=\"M7.4286030693781155,0A7.4286030693781155,7.4286030693781155,0,1,1,-7.4286030693781155,0A7.4286030693781155,7.4286030693781155,0,1,1,7.4286030693781155,0\" stroke=\"#888\" stroke-width=\"1.5\" opacity=\"0.7\"></path></g><g class=\"mark-text role-legend-label\" pointer-events=\"none\"><text text-anchor=\"start\" transform=\"translate(25,11.5)\" font-family=\"sans-serif\" font-size=\"10px\" fill=\"#000\" opacity=\"1\">2</text></g></g><path class=\"foreground\" aria-hidden=\"true\" d=\"\" pointer-events=\"none\" display=\"none\"></path></g><g transform=\"translate(0,69)\"><path class=\"background\" aria-hidden=\"true\" d=\"M0,0h35v19.408152425296635h-35Z\" pointer-events=\"none\" opacity=\"1\"></path><g><g class=\"mark-symbol role-legend-symbol\" pointer-events=\"none\"><path transform=\"translate(10.5,9.5)\" d=\"M8.408152425296644,0A8.408152425296644,8.408152425296644,0,1,1,-8.408152425296644,0A8.408152425296644,8.408152425296644,0,1,1,8.408152425296644,0\" stroke=\"#888\" stroke-width=\"1.5\" opacity=\"0.7\"></path></g><g class=\"mark-text role-legend-label\" pointer-events=\"none\"><text text-anchor=\"start\" transform=\"translate(25,12.5)\" font-family=\"sans-serif\" font-size=\"10px\" fill=\"#000\" opacity=\"1\">4</text></g></g><path class=\"foreground\" aria-hidden=\"true\" d=\"\" pointer-events=\"none\" display=\"none\"></path></g><g transform=\"translate(0,92)\"><path class=\"background\" aria-hidden=\"true\" d=\"M0,0h35v21.284929232453507h-35Z\" pointer-events=\"none\" opacity=\"1\"></path><g><g class=\"mark-symbol role-legend-symbol\" pointer-events=\"none\"><path transform=\"translate(10.5,10.5)\" d=\"M9.284929232453507,0A9.284929232453507,9.284929232453507,0,1,1,-9.284929232453507,0A9.284929232453507,9.284929232453507,0,1,1,9.284929232453507,0\" stroke=\"#888\" stroke-width=\"1.5\" opacity=\"0.7\"></path></g><g class=\"mark-text role-legend-label\" pointer-events=\"none\"><text text-anchor=\"start\" transform=\"translate(25,13.5)\" font-family=\"sans-serif\" font-size=\"10px\" fill=\"#000\" opacity=\"1\">6</text></g></g><path class=\"foreground\" aria-hidden=\"true\" d=\"\" pointer-events=\"none\" display=\"none\"></path></g></g></g><path class=\"foreground\" aria-hidden=\"true\" d=\"\" pointer-events=\"none\" display=\"none\"></path></g></g><g class=\"mark-text role-legend-title\" pointer-events=\"none\"><text text-anchor=\"start\" transform=\"translate(0,9)\" font-family=\"sans-serif\" font-size=\"11px\" font-weight=\"bold\" fill=\"#000\" opacity=\"1\">x</text></g></g><path class=\"foreground\" aria-hidden=\"true\" d=\"\" pointer-events=\"none\" display=\"none\"></path></g></g></g><path class=\"foreground\" aria-hidden=\"true\" d=\"\" display=\"none\"></path></g></g></g></svg>\n"
      ],
      "text/plain": [
       "@vlplot(\n",
       "    data={\n",
       "        values=...\n",
       "    },\n",
       "    mark=\"point\",\n",
       "    width=400,\n",
       "    height=300,\n",
       "    encoding={\n",
       "        x={\n",
       "            field=\"x\",\n",
       "            type=\"q\"\n",
       "        },\n",
       "        y={\n",
       "            field=\"y\"\n",
       "        },\n",
       "        size={\n",
       "            field=\"x\",\n",
       "            type=\"q\"\n",
       "        },\n",
       "        color={\n",
       "            field=\"y\"\n",
       "        }\n",
       "    }\n",
       ")"
      ]
     },
     "execution_count": 79,
     "metadata": {},
     "output_type": "execute_result"
    }
   ],
   "source": [
    "xp = vlfrag(field=:x,type=:q)\n",
    "sp = vlfrag(field=:x,type=:q)\n",
    "d = vlfrag()\n",
    "vlplot(data=data, mark=:point,x=xp,y=:y,width=400,height=300,size=sp,color=:y)\n",
    "# vlplot(mark=:point,x=randn(100),y=randn(100),width=400,height=300,color=rand(100),size=randn(100))\n",
    "# vlplot(p)\n"
   ]
  },
  {
   "cell_type": "code",
   "execution_count": 40,
   "metadata": {},
   "outputs": [
    {
     "data": {
      "text/plain": [
       "apply_kwargs_to_plot! (generic function with 1 method)"
      ]
     },
     "execution_count": 40,
     "metadata": {},
     "output_type": "execute_result"
    }
   ],
   "source": [
    "function apply_kwargs_to_plot!(p;kwargs...)\n",
    "    for (k,v) in kwargs\n",
    "        eval(:(p = @set p.$k = $v))\n",
    "    end\n",
    "end\n"
   ]
  },
  {
   "cell_type": "code",
   "execution_count": 55,
   "metadata": {},
   "outputs": [
    {
     "data": {
      "application/vnd.vegalite.v4+json": {
       "data": {
        "values": [
         {
          "x": 2.5195636666398675,
          "y": 4.155114110400551
         },
         {
          "x": -1.970510301602776,
          "y": -0.9930177374879969
         },
         {
          "x": 1.2520827402846038,
          "y": 2.2613906712109424
         },
         {
          "x": 2.501560030886088,
          "y": 2.3299186209528786
         },
         {
          "x": 1.121550081367214,
          "y": 1.474443801035707
         },
         {
          "x": 0.19204320376371498,
          "y": 2.482841820931337
         },
         {
          "x": 0.7520683923685728,
          "y": 2.304482576316157
         },
         {
          "x": -1.8451213093943388,
          "y": 0.047609152311841374
         },
         {
          "x": -0.30621300200171464,
          "y": 0.8202010166433513
         },
         {
          "x": 0.9720278933069958,
          "y": 1.9877318918669673
         },
         {
          "x": -1.782573625258439,
          "y": 0.24935930301017772
         },
         {
          "x": 0.10072098694277332,
          "y": 1.5695813763801985
         },
         {
          "x": 2.3539372308351325,
          "y": 2.6251547784874125
         },
         {
          "x": -0.3219071430156608,
          "y": -0.4510236530889764
         },
         {
          "x": 1.831219164277392,
          "y": 0.9109804170849323
         },
         {
          "x": 1.591267857079496,
          "y": 1.7430391592743621
         },
         {
          "x": 3.4357722095562164,
          "y": 3.9496677414959045
         },
         {
          "x": 0.5828620320723825,
          "y": 1.2544132221492883
         },
         {
          "x": -1.3896853750387073,
          "y": 0.6927444408457997
         },
         {
          "x": -0.8131433340700203,
          "y": -0.691993710693589
         },
         {
          "x": 0.8990594194821624,
          "y": 2.2007009569730354
         },
         {
          "x": 3.793738780819395,
          "y": 4.036242577931205
         },
         {
          "x": 0.1301194698732433,
          "y": 1.7350163894622685
         },
         {
          "x": -3.3004151110749502,
          "y": -0.9798255682035251
         },
         {
          "x": 2.2084585102526093,
          "y": 1.5210552209435613
         },
         {
          "x": 0.7843024614469731,
          "y": 1.1017429259926441
         },
         {
          "x": 3.3465627820348773,
          "y": 2.6358371231592583
         },
         {
          "x": 1.3510914119362778,
          "y": 1.2338096693494467
         },
         {
          "x": 0.35376731031744124,
          "y": 1.891224356800863
         },
         {
          "x": 3.224861750066452,
          "y": 3.6723574221885933
         },
         {
          "x": 1.6870757616565752,
          "y": 3.6876338775938966
         },
         {
          "x": 1.9243331016295462,
          "y": 3.639857345626721
         },
         {
          "x": 0.43849459381444966,
          "y": 1.063015145799249
         },
         {
          "x": 2.851700986094907,
          "y": 3.9905840732896882
         },
         {
          "x": 1.9378929031975214,
          "y": 3.0009711404083923
         },
         {
          "x": 1.9440074619799201,
          "y": 2.42232135363876
         },
         {
          "x": -1.160914840200988,
          "y": 1.5135103908180756
         },
         {
          "x": 2.3162496742945216,
          "y": 3.705771413803065
         },
         {
          "x": 1.0267180532468363,
          "y": 2.7324164834247195
         },
         {
          "x": 2.9551765155030294,
          "y": 4.892445826545961
         },
         {
          "x": 1.0705040955129788,
          "y": 0.7514182669736447
         },
         {
          "x": 0.7925133057534733,
          "y": 3.2724021799020298
         },
         {
          "x": 1.393521448269945,
          "y": 2.1541108449414654
         },
         {
          "x": 4.419019631436434,
          "y": 4.9908635693920775
         },
         {
          "x": 0.9965619570014029,
          "y": 2.630162339878411
         },
         {
          "x": -2.4843070422788958,
          "y": 0.31109472039552744
         },
         {
          "x": -1.2878874863815457,
          "y": -0.8576134397988051
         },
         {
          "x": -0.6606416752109683,
          "y": 0.475671979822875
         },
         {
          "x": 1.4002217195168813,
          "y": 3.596335801758694
         },
         {
          "x": 0.8408241806085479,
          "y": 1.6489258744235529
         },
         {
          "x": -1.4923261759747048,
          "y": 0.7489508914428764
         },
         {
          "x": 4.067035643552288,
          "y": 2.758881809814751
         },
         {
          "x": 4.633553837669615,
          "y": 3.5566112334509628
         },
         {
          "x": 0.086076624233835,
          "y": 1.84391941113498
         },
         {
          "x": 3.4776729020544113,
          "y": 4.286948250371617
         },
         {
          "x": 4.444454683477193,
          "y": 3.577992542102759
         },
         {
          "x": 0.3553240855082813,
          "y": 0.40046229861012983
         },
         {
          "x": -0.39079839067347466,
          "y": 0.6660505139545121
         },
         {
          "x": 1.6813936764630468,
          "y": 3.992782140961621
         },
         {
          "x": 2.4033026230697425,
          "y": 3.7739743368864396
         },
         {
          "x": -1.8188942298997905,
          "y": 0.3106928988892439
         },
         {
          "x": 2.0037478434453133,
          "y": 3.278383016492846
         },
         {
          "x": 0.7705461402266345,
          "y": 2.3397054125469374
         },
         {
          "x": 2.7840576087403623,
          "y": 3.708892430370601
         },
         {
          "x": 2.677058143509133,
          "y": 3.3772825547153627
         },
         {
          "x": -0.47497625440828073,
          "y": 0.6228001300386989
         },
         {
          "x": -0.017573049948011343,
          "y": 0.06264797169179914
         },
         {
          "x": -0.9095133985486699,
          "y": -0.28734230270179895
         },
         {
          "x": 2.3590311327426217,
          "y": 2.7534690828637594
         },
         {
          "x": -1.3232412504741742,
          "y": 0.046088966988818036
         },
         {
          "x": 2.7562249887115957,
          "y": 2.6500341646117893
         },
         {
          "x": -0.5209172319778854,
          "y": 1.452732172754295
         },
         {
          "x": 0.8498426868033162,
          "y": 1.9635477012501499
         },
         {
          "x": 1.3455085070966724,
          "y": 1.8003252531677332
         },
         {
          "x": 1.7445800211385656,
          "y": 1.4294934424363435
         },
         {
          "x": 2.5348137890749127,
          "y": 3.2897650067754243
         },
         {
          "x": -1.2874171384536894,
          "y": -0.07342332224253578
         },
         {
          "x": 2.455262446228063,
          "y": 2.707604750738702
         },
         {
          "x": 0.011786520907472564,
          "y": 1.884967768790795
         },
         {
          "x": -0.5291347531575386,
          "y": 0.7826419129218154
         },
         {
          "x": 1.4908565960046065,
          "y": 3.455500151263598
         },
         {
          "x": 0.4962938861457089,
          "y": 1.9651549464753035
         },
         {
          "x": 3.0432890587134014,
          "y": 3.6078107161742654
         },
         {
          "x": 0.42813617640225143,
          "y": 0.8108736988851084
         },
         {
          "x": 2.6966888297262877,
          "y": 3.572000638794382
         },
         {
          "x": 2.6960938503153096,
          "y": 3.940628428671521
         },
         {
          "x": 1.4442534209398294,
          "y": 2.921640407855495
         },
         {
          "x": 0.06201090169522405,
          "y": -1.1415768452135282
         },
         {
          "x": 1.0672477797898052,
          "y": 2.9674879019187257
         },
         {
          "x": 1.83553960613368,
          "y": 1.3077095306873405
         },
         {
          "x": 1.1057666570171512,
          "y": 1.624760636834812
         },
         {
          "x": 1.1801942123032683,
          "y": 1.4933112298598623
         },
         {
          "x": -1.0296945247165263,
          "y": 0.7398650384208476
         },
         {
          "x": 2.0594493990741913,
          "y": 2.9487412994689284
         },
         {
          "x": 1.353827683648603,
          "y": 3.068419150339677
         },
         {
          "x": 0.3057778312336532,
          "y": 0.5558962630626323
         },
         {
          "x": 1.0376834286435566,
          "y": 0.821913597882991
         },
         {
          "x": -2.2279577324375786,
          "y": -0.869733035167342
         },
         {
          "x": 0.9929723998656539,
          "y": 2.1656701450343534
         },
         {
          "x": -0.6048472740204229,
          "y": 0.8130501994204749
         },
         {
          "x": -0.6529814148949673,
          "y": 0.6217654373911592
         },
         {
          "x": -1.223749169871296,
          "y": 0.7586828534845766
         },
         {
          "x": 0.865836811861393,
          "y": 1.649874694403001
         },
         {
          "x": -1.2044381776409616,
          "y": -1.5935972027666487
         },
         {
          "x": 3.031983400906208,
          "y": 2.900298623191429
         },
         {
          "x": 1.1506565567846532,
          "y": 2.1465581681412838
         },
         {
          "x": -1.6217686684521584,
          "y": -0.1905936375511268
         },
         {
          "x": -1.2237168124797595,
          "y": 0.6220472926685865
         },
         {
          "x": 2.5964454168026427,
          "y": 3.5139171990658356
         },
         {
          "x": 3.324512053308773,
          "y": 3.5915165379580394
         },
         {
          "x": 1.9240876702754135,
          "y": 2.791726887940997
         },
         {
          "x": 1.5061578504319866,
          "y": 1.2597111717409668
         },
         {
          "x": 2.6477378030081296,
          "y": 3.6604476128940515
         },
         {
          "x": -1.4262882209433356,
          "y": 0.6923341491015698
         },
         {
          "x": 1.0373758255385443,
          "y": 2.411667702674953
         },
         {
          "x": -0.8914395904724972,
          "y": -0.8195916440991526
         },
         {
          "x": 2.478438545522488,
          "y": 3.4136583236742655
         },
         {
          "x": 0.656531883509006,
          "y": 1.4142064951831008
         },
         {
          "x": 2.378159735936466,
          "y": 2.752450840082748
         },
         {
          "x": -0.7560268426534131,
          "y": 2.671359224620401
         },
         {
          "x": -0.033106015281621604,
          "y": 1.7731840992515007
         },
         {
          "x": 2.6953836890559275,
          "y": 3.2852729558787876
         },
         {
          "x": 1.962145461510807,
          "y": 2.0584061349864955
         },
         {
          "x": 0.6334307846666823,
          "y": 2.259666149960674
         },
         {
          "x": -0.32703448870205953,
          "y": 1.6108014218861677
         },
         {
          "x": 1.0625296920489702,
          "y": 3.4137937260326665
         },
         {
          "x": -0.1223085586923065,
          "y": 1.3810467053492794
         },
         {
          "x": -0.03201336884263606,
          "y": 1.4269513732716752
         },
         {
          "x": -1.4857685357903732,
          "y": 0.13375917664748815
         },
         {
          "x": 3.486486695833739,
          "y": 3.3606327615521883
         },
         {
          "x": 3.140682426376868,
          "y": 3.4691615819287422
         },
         {
          "x": 1.4721266173765992,
          "y": 0.9212002108604904
         },
         {
          "x": 1.944803984202529,
          "y": 2.4241117129532506
         },
         {
          "x": 6.520868877879352,
          "y": 3.243741190638045
         },
         {
          "x": 0.12938112674572566,
          "y": 1.3484062919295052
         },
         {
          "x": 2.873175086047387,
          "y": 2.4175294418008697
         },
         {
          "x": 2.927588167894566,
          "y": 3.450428233482065
         },
         {
          "x": 0.8147282834319989,
          "y": 2.9010593975592815
         },
         {
          "x": 2.5806104166042068,
          "y": 1.7320878504885768
         },
         {
          "x": 1.2741215438336297,
          "y": 1.6674336789483122
         },
         {
          "x": -0.9369728770939121,
          "y": 1.007375799352784
         },
         {
          "x": -0.20755679877839306,
          "y": 1.665080279601665
         },
         {
          "x": -0.6788856466681372,
          "y": 1.0457310615290343
         },
         {
          "x": -1.4346376479339082,
          "y": 0.8357726071719567
         },
         {
          "x": 1.9645700788892764,
          "y": 2.5091119954885803
         },
         {
          "x": 0.25748865222982864,
          "y": 2.8782260524617174
         },
         {
          "x": 2.0317746448490164,
          "y": 4.36638417936317
         },
         {
          "x": 1.1239854692995255,
          "y": 1.214684863175486
         },
         {
          "x": 1.229505098428763,
          "y": 2.6660408819073584
         },
         {
          "x": -2.336325685452576,
          "y": 0.24606616728716824
         },
         {
          "x": 0.5573019721746921,
          "y": 0.5425860075746527
         },
         {
          "x": 3.7194821535429368,
          "y": 5.526498719950934
         },
         {
          "x": 0.842154676906556,
          "y": 2.7424543301176993
         },
         {
          "x": -1.0790193284087075,
          "y": -0.005191224193097366
         },
         {
          "x": -0.12207119309924552,
          "y": 2.0725015411791645
         },
         {
          "x": 2.2329539323744765,
          "y": 2.980320264407803
         },
         {
          "x": 0.7985289859096629,
          "y": 2.46713688854444
         },
         {
          "x": 0.7445709940719749,
          "y": 2.3610009592970327
         },
         {
          "x": -0.06876915561841979,
          "y": -1.0415780098309901
         },
         {
          "x": -1.7117276008703168,
          "y": 0.6693122466826338
         },
         {
          "x": -2.0861088984776344,
          "y": -0.2922538842918212
         },
         {
          "x": -0.9897640048306608,
          "y": -0.9997989421187952
         },
         {
          "x": -0.2128048877942632,
          "y": 0.4510536579121016
         },
         {
          "x": 0.6677618139824067,
          "y": 3.150200168683599
         },
         {
          "x": 1.179103145446564,
          "y": 0.873977681558177
         },
         {
          "x": -0.519192486577098,
          "y": 0.6052919050022245
         },
         {
          "x": 1.2617049235496356,
          "y": 3.6825417574650023
         },
         {
          "x": 1.1820434073171078,
          "y": 2.5595203495878214
         },
         {
          "x": -0.9913463519909331,
          "y": -0.6874209620772622
         },
         {
          "x": 3.392397474024353,
          "y": 1.510102565970206
         },
         {
          "x": -1.0605794555177859,
          "y": 1.535167445778828
         },
         {
          "x": 2.6212075153769,
          "y": 3.1708994859015682
         },
         {
          "x": -2.40508723503283,
          "y": 0.2625595853627054
         },
         {
          "x": 3.606653684006416,
          "y": 2.2861523204212135
         },
         {
          "x": 0.8805381064413738,
          "y": 2.4764164515707665
         },
         {
          "x": 3.2328954971252,
          "y": 1.9323967294880142
         },
         {
          "x": -3.2463805732026136,
          "y": -1.4734176575132354
         },
         {
          "x": 2.3279628602518514,
          "y": 4.4252799228877056
         },
         {
          "x": 5.224766048529881,
          "y": 4.78634906128609
         },
         {
          "x": 2.8489033451165673,
          "y": 3.6748584585931643
         },
         {
          "x": 0.15104499582937747,
          "y": -0.3989383701091431
         },
         {
          "x": 0.9534619127554466,
          "y": 2.3107575032796555
         },
         {
          "x": 3.4334213700242016,
          "y": 4.658724570960294
         },
         {
          "x": 1.0550183633524899,
          "y": 2.156349295655461
         },
         {
          "x": 0.7009152977641884,
          "y": 2.2101216130342225
         },
         {
          "x": 0.3716212003000995,
          "y": 2.9106402409088754
         },
         {
          "x": 0.14751809115378023,
          "y": 1.9257107907531819
         },
         {
          "x": -1.3543084559725278,
          "y": 0.788641995572553
         },
         {
          "x": 1.9455507439170368,
          "y": 2.6858082556086877
         },
         {
          "x": 3.629346191312125,
          "y": 4.924856611328002
         },
         {
          "x": 1.6635374732761172,
          "y": 1.5695968324533633
         },
         {
          "x": 0.2949876176560683,
          "y": 2.8120775079458653
         },
         {
          "x": -5.114620959774064,
          "y": -0.7424615993435668
         },
         {
          "x": 1.3235316601118021,
          "y": 1.507683922074571
         },
         {
          "x": 1.5550349255644385,
          "y": 2.8800683122491875
         },
         {
          "x": 0.9466453373004433,
          "y": 1.5851414754295599
         },
         {
          "x": -1.367256113914471,
          "y": -1.6724948756199964
         },
         {
          "x": 1.5820248093907026,
          "y": 2.1518673433589255
         },
         {
          "x": 1.062978398702289,
          "y": 1.7174658124397677
         },
         {
          "x": 0.42713048696993106,
          "y": 1.9234207128670888
         },
         {
          "x": -0.4608604347565375,
          "y": 0.9811642807454528
         },
         {
          "x": 3.688439165031307,
          "y": 4.377663234366723
         },
         {
          "x": 0.47125914223743426,
          "y": 2.0238097641971358
         },
         {
          "x": 1.375893531813238,
          "y": 2.535484231520294
         },
         {
          "x": 1.8266031016000648,
          "y": 3.9757827359023428
         },
         {
          "x": -1.7651956238876774,
          "y": -0.21762573524482898
         },
         {
          "x": 2.345458668109579,
          "y": 2.5951228085980915
         },
         {
          "x": 3.1407898421800153,
          "y": 3.2327706969960106
         },
         {
          "x": 1.6611346409183232,
          "y": 3.91793642299319
         },
         {
          "x": 0.44833768108359795,
          "y": 1.1732082056044069
         },
         {
          "x": -0.30071543612040963,
          "y": 1.1407508271222584
         },
         {
          "x": -1.2023709622558663,
          "y": 0.8313852702844784
         },
         {
          "x": -2.1082520441227244,
          "y": -0.26713281196225314
         },
         {
          "x": 2.1890023928486806,
          "y": 2.622474540522245
         },
         {
          "x": 4.080876098111013,
          "y": 3.9154122792347854
         },
         {
          "x": -0.7014985946459888,
          "y": 1.881427510861058
         },
         {
          "x": 1.3697124141710315,
          "y": 3.8284466534716275
         },
         {
          "x": 1.4708550639928895,
          "y": 2.4002321285490527
         },
         {
          "x": 1.3332932567415907,
          "y": 2.2538418057386242
         },
         {
          "x": 1.5823214506100942,
          "y": 2.525048475589387
         },
         {
          "x": 5.218216693982889,
          "y": 5.072781125613341
         },
         {
          "x": 0.8655084949952647,
          "y": 2.711935340883269
         },
         {
          "x": 0.2555311089047031,
          "y": 1.7795919757499767
         },
         {
          "x": -0.31757975658066906,
          "y": 2.281660814900012
         },
         {
          "x": -1.316251004994252,
          "y": 0.2081646963429069
         },
         {
          "x": 0.7099710727748887,
          "y": 1.0477920336586128
         },
         {
          "x": 1.1111555387290795,
          "y": 0.732739217809611
         },
         {
          "x": 1.2060855159809503,
          "y": 2.1408389622063324
         },
         {
          "x": -0.5211931470001272,
          "y": 1.3162321335415812
         },
         {
          "x": 1.0958204977665624,
          "y": 1.1448689840303543
         },
         {
          "x": -0.8030820560661267,
          "y": 0.648541322767952
         },
         {
          "x": 4.757286032030722,
          "y": 3.667794086407866
         },
         {
          "x": -0.1401038127565264,
          "y": 1.2183102055348796
         },
         {
          "x": 0.12478521467068804,
          "y": 2.422413152656445
         },
         {
          "x": 1.6190892055118575,
          "y": 1.1977026977053988
         },
         {
          "x": 0.457391618682949,
          "y": 1.6873672301348417
         },
         {
          "x": 2.431516043715983,
          "y": 3.0511509540541866
         },
         {
          "x": 1.0167250681119437,
          "y": 1.8853217223668395
         },
         {
          "x": 3.9554165664285583,
          "y": 4.778570724172354
         },
         {
          "x": -2.815441295820513,
          "y": -1.0097336166482318
         },
         {
          "x": 0.34553609224224413,
          "y": 2.511960437605552
         },
         {
          "x": -2.8676693323240974,
          "y": -0.3485222011259932
         },
         {
          "x": 2.7793096094113494,
          "y": 3.764840047657321
         },
         {
          "x": 0.4941894947304597,
          "y": 1.882239528644716
         },
         {
          "x": 2.8658293399706682,
          "y": 4.5749295581190745
         },
         {
          "x": 1.1382340294420663,
          "y": 0.900090072588422
         },
         {
          "x": -0.15683200795142316,
          "y": 0.49215268467980455
         },
         {
          "x": 1.1700505015580585,
          "y": 2.561289240887972
         },
         {
          "x": 3.8964918438517664,
          "y": 3.3741025856634876
         },
         {
          "x": 1.002920816145373,
          "y": 0.3385906083785877
         },
         {
          "x": 0.16954016625640234,
          "y": 2.1811134525970757
         },
         {
          "x": 4.625904362735611,
          "y": 3.969721375137151
         },
         {
          "x": 0.9284172291909852,
          "y": 2.0032900268891116
         },
         {
          "x": 0.3838113181117365,
          "y": 0.7352141810785158
         },
         {
          "x": 4.227916507346633,
          "y": 3.4884533568535923
         },
         {
          "x": 2.3163536315195796,
          "y": 2.7398017781409933
         },
         {
          "x": -1.6778301406066078,
          "y": 0.9607894123187957
         },
         {
          "x": 0.8833576181808867,
          "y": 1.2036329810453943
         },
         {
          "x": 2.4968860451451205,
          "y": 3.388480747002254
         },
         {
          "x": 0.19455325103806786,
          "y": 1.14253899742935
         },
         {
          "x": 0.6304121049445808,
          "y": 0.6306089754347135
         },
         {
          "x": 1.0621993742870486,
          "y": 2.5285782297157025
         },
         {
          "x": 0.08710718062607659,
          "y": 1.2041333022351637
         },
         {
          "x": 0.545354370471088,
          "y": 2.440121424657603
         },
         {
          "x": 2.2350653419406075,
          "y": 2.6356554037494
         },
         {
          "x": 0.8497831146782663,
          "y": 1.725730825417556
         },
         {
          "x": 2.287192911892567,
          "y": 1.9651937288451986
         },
         {
          "x": -0.4218527312567142,
          "y": 1.193868224225888
         },
         {
          "x": -0.6405724061564133,
          "y": 1.0478101984324604
         },
         {
          "x": -1.3575860059165503,
          "y": -0.003920729238459764
         },
         {
          "x": 1.4285458622460356,
          "y": 2.5188084565159174
         },
         {
          "x": 0.8632716286625042,
          "y": 1.547892239084387
         },
         {
          "x": 2.391660297161097,
          "y": 1.825858405045218
         },
         {
          "x": 1.373628006251915,
          "y": 2.3606434609664206
         },
         {
          "x": 1.388491554090268,
          "y": 2.703214195496675
         },
         {
          "x": 1.8001896470407166,
          "y": 1.8395068874787226
         },
         {
          "x": 3.2559808266360726,
          "y": 2.8048719883429962
         },
         {
          "x": 2.4562170483256223,
          "y": 1.153500887331889
         },
         {
          "x": 5.055003799036157,
          "y": 4.609041244960712
         },
         {
          "x": -1.5207419460528775,
          "y": 1.3150805165524604
         },
         {
          "x": -0.6413705700875771,
          "y": 0.0834086324796437
         },
         {
          "x": 0.5898882285681567,
          "y": 1.443187597486152
         },
         {
          "x": -0.8055722544498427,
          "y": 0.8818772497981242
         },
         {
          "x": 0.49009887686696385,
          "y": 1.599679245239049
         },
         {
          "x": -0.4428355150079204,
          "y": 2.4709542463502276
         },
         {
          "x": 0.3516435855513994,
          "y": 1.1234799495729926
         },
         {
          "x": 1.617985660441701,
          "y": 1.016462306120897
         },
         {
          "x": 0.6352886890953837,
          "y": 1.3402412364364111
         },
         {
          "x": 2.1591860706818577,
          "y": 3.881347161927015
         },
         {
          "x": 2.713730694963617,
          "y": 3.2844341352674276
         },
         {
          "x": -0.6995312213601383,
          "y": 1.3728943072195836
         },
         {
          "x": 2.0776586640781485,
          "y": 3.6941675995478693
         },
         {
          "x": 0.08010070033075012,
          "y": 0.7936779116974972
         },
         {
          "x": 0.8175663629282911,
          "y": 0.9281355785378291
         },
         {
          "x": 0.32753053865019777,
          "y": 0.5478641354671314
         },
         {
          "x": 0.2866148790424802,
          "y": 1.7995412122006602
         },
         {
          "x": 0.3891135521434508,
          "y": 1.4156805435911601
         },
         {
          "x": 0.588455624120098,
          "y": 2.1065247849062567
         },
         {
          "x": 3.536074057126881,
          "y": 4.023527131461503
         },
         {
          "x": 0.5102686016657494,
          "y": 1.4105054594882596
         }
        ]
       },
       "encoding": {
        "x": {
         "field": "x",
         "type": "q"
        },
        "y": {
         "field": "y",
         "type": "quantitative"
        }
       },
       "mark": "circle"
      },
      "image/png": "[encoded data removed]",
      "image/svg+xml": [
       "<?xml version=\"1.0\" encoding=\"utf-8\"?>\n",
       "<!DOCTYPE svg PUBLIC \"-//W3C//DTD SVG 1.1//EN\" \"http://www.w3.org/Graphics/SVG/1.1/DTD/svg11.dtd\">\n",
       "<svg class=\"marks\" width=\"242\" height=\"247\" viewBox=\"0 0 242 247\" version=\"1.1\" xmlns=\"http://www.w3.org/2000/svg\" xmlns:xlink=\"http://www.w3.org/1999/xlink\"><rect width=\"242\" height=\"247\" fill=\"white\"></rect><g fill=\"none\" stroke-miterlimit=\"10\" transform=\"translate(37,10)\"><g class=\"mark-group role-frame root\" role=\"graphics-object\" aria-roledescription=\"group mark container\"><g transform=\"translate(0,0)\"><path class=\"background\" aria-hidden=\"true\" d=\"M0.5,0.5h200v200h-200Z\" stroke=\"#ddd\"></path><g><g class=\"mark-group role-axis\" aria-hidden=\"true\"><g transform=\"translate(0.5,200.5)\"><path class=\"background\" aria-hidden=\"true\" d=\"M0,0h0v0h0Z\" pointer-events=\"none\"></path><g><g class=\"mark-rule role-axis-grid\" pointer-events=\"none\"><line transform=\"translate(0,-200)\" x2=\"0\" y2=\"200\" stroke=\"#ddd\" stroke-width=\"1\" opacity=\"1\"></line><line transform=\"translate(31,-200)\" x2=\"0\" y2=\"200\" stroke=\"#ddd\" stroke-width=\"1\" opacity=\"1\"></line><line transform=\"translate(62,-200)\" x2=\"0\" y2=\"200\" stroke=\"#ddd\" stroke-width=\"1\" opacity=\"1\"></line><line transform=\"translate(92,-200)\" x2=\"0\" y2=\"200\" stroke=\"#ddd\" stroke-width=\"1\" opacity=\"1\"></line><line transform=\"translate(123,-200)\" x2=\"0\" y2=\"200\" stroke=\"#ddd\" stroke-width=\"1\" opacity=\"1\"></line><line transform=\"translate(154,-200)\" x2=\"0\" y2=\"200\" stroke=\"#ddd\" stroke-width=\"1\" opacity=\"1\"></line><line transform=\"translate(185,-200)\" x2=\"0\" y2=\"200\" stroke=\"#ddd\" stroke-width=\"1\" opacity=\"1\"></line></g></g><path class=\"foreground\" aria-hidden=\"true\" d=\"\" pointer-events=\"none\" display=\"none\"></path></g></g><g class=\"mark-group role-axis\" aria-hidden=\"true\"><g transform=\"translate(0.5,0.5)\"><path class=\"background\" aria-hidden=\"true\" d=\"M0,0h0v0h0Z\" pointer-events=\"none\"></path><g><g class=\"mark-rule role-axis-grid\" pointer-events=\"none\"><line transform=\"translate(0,200)\" x2=\"200\" y2=\"0\" stroke=\"#ddd\" stroke-width=\"1\" opacity=\"1\"></line><line transform=\"translate(0,150)\" x2=\"200\" y2=\"0\" stroke=\"#ddd\" stroke-width=\"1\" opacity=\"1\"></line><line transform=\"translate(0,100)\" x2=\"200\" y2=\"0\" stroke=\"#ddd\" stroke-width=\"1\" opacity=\"1\"></line><line transform=\"translate(0,50)\" x2=\"200\" y2=\"0\" stroke=\"#ddd\" stroke-width=\"1\" opacity=\"1\"></line><line transform=\"translate(0,0)\" x2=\"200\" y2=\"0\" stroke=\"#ddd\" stroke-width=\"1\" opacity=\"1\"></line></g></g><path class=\"foreground\" aria-hidden=\"true\" d=\"\" pointer-events=\"none\" display=\"none\"></path></g></g><g class=\"mark-group role-axis\" role=\"graphics-symbol\" aria-roledescription=\"axis\" aria-label=\"X-axis titled 'x' for a linear scale with values from -6 to 7\"><g transform=\"translate(0.5,200.5)\"><path class=\"background\" aria-hidden=\"true\" d=\"M0,0h0v0h0Z\" pointer-events=\"none\"></path><g><g class=\"mark-rule role-axis-tick\" pointer-events=\"none\"><line transform=\"translate(0,0)\" x2=\"0\" y2=\"5\" stroke=\"#888\" stroke-width=\"1\" opacity=\"1\"></line><line transform=\"translate(31,0)\" x2=\"0\" y2=\"5\" stroke=\"#888\" stroke-width=\"1\" opacity=\"1\"></line><line transform=\"translate(62,0)\" x2=\"0\" y2=\"5\" stroke=\"#888\" stroke-width=\"1\" opacity=\"1\"></line><line transform=\"translate(92,0)\" x2=\"0\" y2=\"5\" stroke=\"#888\" stroke-width=\"1\" opacity=\"1\"></line><line transform=\"translate(123,0)\" x2=\"0\" y2=\"5\" stroke=\"#888\" stroke-width=\"1\" opacity=\"1\"></line><line transform=\"translate(154,0)\" x2=\"0\" y2=\"5\" stroke=\"#888\" stroke-width=\"1\" opacity=\"1\"></line><line transform=\"translate(185,0)\" x2=\"0\" y2=\"5\" stroke=\"#888\" stroke-width=\"1\" opacity=\"1\"></line></g><g class=\"mark-text role-axis-label\" pointer-events=\"none\"><text text-anchor=\"start\" transform=\"translate(0,15)\" font-family=\"sans-serif\" font-size=\"10px\" fill=\"#000\" opacity=\"1\">-6</text><text text-anchor=\"middle\" transform=\"translate(30.76923076923077,15)\" font-family=\"sans-serif\" font-size=\"10px\" fill=\"#000\" opacity=\"1\">-4</text><text text-anchor=\"middle\" transform=\"translate(61.53846153846154,15)\" font-family=\"sans-serif\" font-size=\"10px\" fill=\"#000\" opacity=\"1\">-2</text><text text-anchor=\"middle\" transform=\"translate(92.3076923076923,15)\" font-family=\"sans-serif\" font-size=\"10px\" fill=\"#000\" opacity=\"1\">0</text><text text-anchor=\"middle\" transform=\"translate(123.07692307692308,15)\" font-family=\"sans-serif\" font-size=\"10px\" fill=\"#000\" opacity=\"1\">2</text><text text-anchor=\"middle\" transform=\"translate(153.84615384615387,15)\" font-family=\"sans-serif\" font-size=\"10px\" fill=\"#000\" opacity=\"1\">4</text><text text-anchor=\"middle\" transform=\"translate(184.6153846153846,15)\" font-family=\"sans-serif\" font-size=\"10px\" fill=\"#000\" opacity=\"1\">6</text></g><g class=\"mark-rule role-axis-domain\" pointer-events=\"none\"><line transform=\"translate(0,0)\" x2=\"200\" y2=\"0\" stroke=\"#888\" stroke-width=\"1\" opacity=\"1\"></line></g><g class=\"mark-text role-axis-title\" pointer-events=\"none\"><text text-anchor=\"middle\" transform=\"translate(100,30)\" font-family=\"sans-serif\" font-size=\"11px\" font-weight=\"bold\" fill=\"#000\" opacity=\"1\">x</text></g></g><path class=\"foreground\" aria-hidden=\"true\" d=\"\" pointer-events=\"none\" display=\"none\"></path></g></g><g class=\"mark-group role-axis\" role=\"graphics-symbol\" aria-roledescription=\"axis\" aria-label=\"Y-axis titled 'y' for a linear scale with values from -2 to 6\"><g transform=\"translate(0.5,0.5)\"><path class=\"background\" aria-hidden=\"true\" d=\"M0,0h0v0h0Z\" pointer-events=\"none\"></path><g><g class=\"mark-rule role-axis-tick\" pointer-events=\"none\"><line transform=\"translate(0,200)\" x2=\"-5\" y2=\"0\" stroke=\"#888\" stroke-width=\"1\" opacity=\"1\"></line><line transform=\"translate(0,150)\" x2=\"-5\" y2=\"0\" stroke=\"#888\" stroke-width=\"1\" opacity=\"1\"></line><line transform=\"translate(0,100)\" x2=\"-5\" y2=\"0\" stroke=\"#888\" stroke-width=\"1\" opacity=\"1\"></line><line transform=\"translate(0,50)\" x2=\"-5\" y2=\"0\" stroke=\"#888\" stroke-width=\"1\" opacity=\"1\"></line><line transform=\"translate(0,0)\" x2=\"-5\" y2=\"0\" stroke=\"#888\" stroke-width=\"1\" opacity=\"1\"></line></g><g class=\"mark-text role-axis-label\" pointer-events=\"none\"><text text-anchor=\"end\" transform=\"translate(-7,203)\" font-family=\"sans-serif\" font-size=\"10px\" fill=\"#000\" opacity=\"1\">-2</text><text text-anchor=\"end\" transform=\"translate(-7,153)\" font-family=\"sans-serif\" font-size=\"10px\" fill=\"#000\" opacity=\"1\">0</text><text text-anchor=\"end\" transform=\"translate(-7,103)\" font-family=\"sans-serif\" font-size=\"10px\" fill=\"#000\" opacity=\"1\">2</text><text text-anchor=\"end\" transform=\"translate(-7,53)\" font-family=\"sans-serif\" font-size=\"10px\" fill=\"#000\" opacity=\"1\">4</text><text text-anchor=\"end\" transform=\"translate(-7,3)\" font-family=\"sans-serif\" font-size=\"10px\" fill=\"#000\" opacity=\"1\">6</text></g><g class=\"mark-rule role-axis-domain\" pointer-events=\"none\"><line transform=\"translate(0,200)\" x2=\"0\" y2=\"-200\" stroke=\"#888\" stroke-width=\"1\" opacity=\"1\"></line></g><g class=\"mark-text role-axis-title\" pointer-events=\"none\"><text text-anchor=\"middle\" transform=\"translate(-21,100) rotate(-90) translate(0,-2)\" font-family=\"sans-serif\" font-size=\"11px\" font-weight=\"bold\" fill=\"#000\" opacity=\"1\">y</text></g></g><path class=\"foreground\" aria-hidden=\"true\" d=\"\" pointer-events=\"none\" display=\"none\"></path></g></g><g class=\"mark-symbol role-mark marks\" role=\"graphics-object\" aria-roledescription=\"symbol mark container\"><path aria-label=\"x: 2.51956366664; y: 4.1551141104\" role=\"graphics-symbol\" aria-roledescription=\"circle\" transform=\"translate(131.07021025599798,46.12214723998622)\" d=\"M2.7386127875258306,0A2.7386127875258306,2.7386127875258306,0,1,1,-2.7386127875258306,0A2.7386127875258306,2.7386127875258306,0,1,1,2.7386127875258306,0\" fill=\"#4c78a8\" stroke-width=\"2\" opacity=\"0.7\"></path><path aria-label=\"x: -1.9705103016; y: -0.993017737488\" role=\"graphics-symbol\" aria-roledescription=\"circle\" transform=\"translate(61.992149206111144,174.82544343719994)\" d=\"M2.7386127875258306,0A2.7386127875258306,2.7386127875258306,0,1,1,-2.7386127875258306,0A2.7386127875258306,2.7386127875258306,0,1,1,2.7386127875258306,0\" fill=\"#4c78a8\" stroke-width=\"2\" opacity=\"0.7\"></path><path aria-label=\"x: 1.25208274028; y: 2.26139067121\" role=\"graphics-symbol\" aria-roledescription=\"circle\" transform=\"translate(111.57050369668622,93.46523321972644)\" d=\"M2.7386127875258306,0A2.7386127875258306,2.7386127875258306,0,1,1,-2.7386127875258306,0A2.7386127875258306,2.7386127875258306,0,1,1,2.7386127875258306,0\" fill=\"#4c78a8\" stroke-width=\"2\" opacity=\"0.7\"></path><path aria-label=\"x: 2.50156003089; y: 2.32991862095\" role=\"graphics-symbol\" aria-roledescription=\"circle\" transform=\"translate(130.79323124440134,91.75203447617804)\" d=\"M2.7386127875258306,0A2.7386127875258306,2.7386127875258306,0,1,1,-2.7386127875258306,0A2.7386127875258306,2.7386127875258306,0,1,1,2.7386127875258306,0\" fill=\"#4c78a8\" stroke-width=\"2\" opacity=\"0.7\"></path><path aria-label=\"x: 1.12155008137; y: 1.47444380104\" role=\"graphics-symbol\" aria-roledescription=\"circle\" transform=\"translate(109.56230894411098,113.13890497410732)\" d=\"M2.7386127875258306,0A2.7386127875258306,2.7386127875258306,0,1,1,-2.7386127875258306,0A2.7386127875258306,2.7386127875258306,0,1,1,2.7386127875258306,0\" fill=\"#4c78a8\" stroke-width=\"2\" opacity=\"0.7\"></path><path aria-label=\"x: 0.192043203764; y: 2.48284182093\" role=\"graphics-symbol\" aria-roledescription=\"circle\" transform=\"translate(95.26220313482638,87.92895447671656)\" d=\"M2.7386127875258306,0A2.7386127875258306,2.7386127875258306,0,1,1,-2.7386127875258306,0A2.7386127875258306,2.7386127875258306,0,1,1,2.7386127875258306,0\" fill=\"#4c78a8\" stroke-width=\"2\" opacity=\"0.7\"></path><path aria-label=\"x: 0.752068392369; y: 2.30448257632\" role=\"graphics-symbol\" aria-roledescription=\"circle\" transform=\"translate(103.87797526720881,92.38793559209606)\" d=\"M2.7386127875258306,0A2.7386127875258306,2.7386127875258306,0,1,1,-2.7386127875258306,0A2.7386127875258306,2.7386127875258306,0,1,1,2.7386127875258306,0\" fill=\"#4c78a8\" stroke-width=\"2\" opacity=\"0.7\"></path><path aria-label=\"x: -1.84512130939; y: 0.0476091523118\" role=\"graphics-symbol\" aria-roledescription=\"circle\" transform=\"translate(63.92121062470248,148.80977119220398)\" d=\"M2.7386127875258306,0A2.7386127875258306,2.7386127875258306,0,1,1,-2.7386127875258306,0A2.7386127875258306,2.7386127875258306,0,1,1,2.7386127875258306,0\" fill=\"#4c78a8\" stroke-width=\"2\" opacity=\"0.7\"></path><path aria-label=\"x: -0.306213002002; y: 0.820201016643\" role=\"graphics-symbol\" aria-roledescription=\"circle\" transform=\"translate(87.59672304612747,129.49497458391622)\" d=\"M2.7386127875258306,0A2.7386127875258306,2.7386127875258306,0,1,1,-2.7386127875258306,0A2.7386127875258306,2.7386127875258306,0,1,1,2.7386127875258306,0\" fill=\"#4c78a8\" stroke-width=\"2\" opacity=\"0.7\"></path><path aria-label=\"x: 0.972027893307; y: 1.98773189187\" role=\"graphics-symbol\" aria-roledescription=\"circle\" transform=\"translate(107.2619675893384,100.30670270332583)\" d=\"M2.7386127875258306,0A2.7386127875258306,2.7386127875258306,0,1,1,-2.7386127875258306,0A2.7386127875258306,2.7386127875258306,0,1,1,2.7386127875258306,0\" fill=\"#4c78a8\" stroke-width=\"2\" opacity=\"0.7\"></path><path aria-label=\"x: -1.78257362526; y: 0.24935930301\" role=\"graphics-symbol\" aria-roledescription=\"circle\" transform=\"translate(64.88348268833171,143.76601742474554)\" d=\"M2.7386127875258306,0A2.7386127875258306,2.7386127875258306,0,1,1,-2.7386127875258306,0A2.7386127875258306,2.7386127875258306,0,1,1,2.7386127875258306,0\" fill=\"#4c78a8\" stroke-width=\"2\" opacity=\"0.7\"></path><path aria-label=\"x: 0.100720986943; y: 1.56958137638\" role=\"graphics-symbol\" aria-roledescription=\"circle\" transform=\"translate(93.85724595296576,110.76046559049504)\" d=\"M2.7386127875258306,0A2.7386127875258306,2.7386127875258306,0,1,1,-2.7386127875258306,0A2.7386127875258306,2.7386127875258306,0,1,1,2.7386127875258306,0\" fill=\"#4c78a8\" stroke-width=\"2\" opacity=\"0.7\"></path><path aria-label=\"x: 2.35393723084; y: 2.62515477849\" role=\"graphics-symbol\" aria-roledescription=\"circle\" transform=\"translate(128.52211124361745,84.3711305378147)\" d=\"M2.7386127875258306,0A2.7386127875258306,2.7386127875258306,0,1,1,-2.7386127875258306,0A2.7386127875258306,2.7386127875258306,0,1,1,2.7386127875258306,0\" fill=\"#4c78a8\" stroke-width=\"2\" opacity=\"0.7\"></path><path aria-label=\"x: -0.321907143016; y: -0.451023653089\" role=\"graphics-symbol\" aria-roledescription=\"circle\" transform=\"translate(87.35527472283599,161.2755913272244)\" d=\"M2.7386127875258306,0A2.7386127875258306,2.7386127875258306,0,1,1,-2.7386127875258306,0A2.7386127875258306,2.7386127875258306,0,1,1,2.7386127875258306,0\" fill=\"#4c78a8\" stroke-width=\"2\" opacity=\"0.7\"></path><path aria-label=\"x: 1.83121916428; y: 0.910980417085\" role=\"graphics-symbol\" aria-roledescription=\"circle\" transform=\"translate(120.48029483503682,127.2254895728767)\" d=\"M2.7386127875258306,0A2.7386127875258306,2.7386127875258306,0,1,1,-2.7386127875258306,0A2.7386127875258306,2.7386127875258306,0,1,1,2.7386127875258306,0\" fill=\"#4c78a8\" stroke-width=\"2\" opacity=\"0.7\"></path><path aria-label=\"x: 1.59126785708; y: 1.74303915927\" role=\"graphics-symbol\" aria-roledescription=\"circle\" transform=\"translate(116.78873626276147,106.42402101814095)\" d=\"M2.7386127875258306,0A2.7386127875258306,2.7386127875258306,0,1,1,-2.7386127875258306,0A2.7386127875258306,2.7386127875258306,0,1,1,2.7386127875258306,0\" fill=\"#4c78a8\" stroke-width=\"2\" opacity=\"0.7\"></path><path aria-label=\"x: 3.43577220956; y: 3.9496677415\" role=\"graphics-symbol\" aria-roledescription=\"circle\" transform=\"translate(145.16572630086486,51.25830646260239)\" d=\"M2.7386127875258306,0A2.7386127875258306,2.7386127875258306,0,1,1,-2.7386127875258306,0A2.7386127875258306,2.7386127875258306,0,1,1,2.7386127875258306,0\" fill=\"#4c78a8\" stroke-width=\"2\" opacity=\"0.7\"></path><path aria-label=\"x: 0.582862032072; y: 1.25441322215\" role=\"graphics-symbol\" aria-roledescription=\"circle\" transform=\"translate(101.27480049342128,118.63966944626779)\" d=\"M2.7386127875258306,0A2.7386127875258306,2.7386127875258306,0,1,1,-2.7386127875258306,0A2.7386127875258306,2.7386127875258306,0,1,1,2.7386127875258306,0\" fill=\"#4c78a8\" stroke-width=\"2\" opacity=\"0.7\"></path><path aria-label=\"x: -1.38968537504; y: 0.692744440846\" role=\"graphics-symbol\" aria-roledescription=\"circle\" transform=\"translate(70.9279173070968,132.681388978855)\" d=\"M2.7386127875258306,0A2.7386127875258306,2.7386127875258306,0,1,1,-2.7386127875258306,0A2.7386127875258306,2.7386127875258306,0,1,1,2.7386127875258306,0\" fill=\"#4c78a8\" stroke-width=\"2\" opacity=\"0.7\"></path><path aria-label=\"x: -0.81314333407; y: -0.691993710694\" role=\"graphics-symbol\" aria-roledescription=\"circle\" transform=\"translate(79.79779486046124,167.29984276733973)\" d=\"M2.7386127875258306,0A2.7386127875258306,2.7386127875258306,0,1,1,-2.7386127875258306,0A2.7386127875258306,2.7386127875258306,0,1,1,2.7386127875258306,0\" fill=\"#4c78a8\" stroke-width=\"2\" opacity=\"0.7\"></path><path aria-label=\"x: 0.899059419482; y: 2.20070095697\" role=\"graphics-symbol\" aria-roledescription=\"circle\" transform=\"translate(106.13937568434095,94.98247607567411)\" d=\"M2.7386127875258306,0A2.7386127875258306,2.7386127875258306,0,1,1,-2.7386127875258306,0A2.7386127875258306,2.7386127875258306,0,1,1,2.7386127875258306,0\" fill=\"#4c78a8\" stroke-width=\"2\" opacity=\"0.7\"></path><path aria-label=\"x: 3.79373878082; y: 4.03624257793\" role=\"graphics-symbol\" aria-roledescription=\"circle\" transform=\"translate(150.67290432029841,49.09393555171988)\" d=\"M2.7386127875258306,0A2.7386127875258306,2.7386127875258306,0,1,1,-2.7386127875258306,0A2.7386127875258306,2.7386127875258306,0,1,1,2.7386127875258306,0\" fill=\"#4c78a8\" stroke-width=\"2\" opacity=\"0.7\"></path><path aria-label=\"x: 0.130119469873; y: 1.73501638946\" role=\"graphics-symbol\" aria-roledescription=\"circle\" transform=\"translate(94.3095303057422,106.62459026344328)\" d=\"M2.7386127875258306,0A2.7386127875258306,2.7386127875258306,0,1,1,-2.7386127875258306,0A2.7386127875258306,2.7386127875258306,0,1,1,2.7386127875258306,0\" fill=\"#4c78a8\" stroke-width=\"2\" opacity=\"0.7\"></path><path aria-label=\"x: -3.30041511107; y: -0.979825568204\" role=\"graphics-symbol\" aria-roledescription=\"circle\" transform=\"translate(41.53207521423153,174.49563920508814)\" d=\"M2.7386127875258306,0A2.7386127875258306,2.7386127875258306,0,1,1,-2.7386127875258306,0A2.7386127875258306,2.7386127875258306,0,1,1,2.7386127875258306,0\" fill=\"#4c78a8\" stroke-width=\"2\" opacity=\"0.7\"></path><path aria-label=\"x: 2.20845851025; y: 1.52105522094\" role=\"graphics-symbol\" aria-roledescription=\"circle\" transform=\"translate(126.28397708080936,111.97361947641097)\" d=\"M2.7386127875258306,0A2.7386127875258306,2.7386127875258306,0,1,1,-2.7386127875258306,0A2.7386127875258306,2.7386127875258306,0,1,1,2.7386127875258306,0\" fill=\"#4c78a8\" stroke-width=\"2\" opacity=\"0.7\"></path><path aria-label=\"x: 0.784302461447; y: 1.10174292599\" role=\"graphics-symbol\" aria-roledescription=\"circle\" transform=\"translate(104.37388402226114,122.4564268501839)\" d=\"M2.7386127875258306,0A2.7386127875258306,2.7386127875258306,0,1,1,-2.7386127875258306,0A2.7386127875258306,2.7386127875258306,0,1,1,2.7386127875258306,0\" fill=\"#4c78a8\" stroke-width=\"2\" opacity=\"0.7\"></path><path aria-label=\"x: 3.34656278203; y: 2.63583712316\" role=\"graphics-symbol\" aria-roledescription=\"circle\" transform=\"translate(143.7932735697673,84.10407192101854)\" d=\"M2.7386127875258306,0A2.7386127875258306,2.7386127875258306,0,1,1,-2.7386127875258306,0A2.7386127875258306,2.7386127875258306,0,1,1,2.7386127875258306,0\" fill=\"#4c78a8\" stroke-width=\"2\" opacity=\"0.7\"></path><path aria-label=\"x: 1.35109141194; y: 1.23380966935\" role=\"graphics-symbol\" aria-roledescription=\"circle\" transform=\"translate(113.09371402978887,119.15475826626383)\" d=\"M2.7386127875258306,0A2.7386127875258306,2.7386127875258306,0,1,1,-2.7386127875258306,0A2.7386127875258306,2.7386127875258306,0,1,1,2.7386127875258306,0\" fill=\"#4c78a8\" stroke-width=\"2\" opacity=\"0.7\"></path><path aria-label=\"x: 0.353767310317; y: 1.8912243568\" role=\"graphics-symbol\" aria-roledescription=\"circle\" transform=\"translate(97.75026631257602,102.71939107997842)\" d=\"M2.7386127875258306,0A2.7386127875258306,2.7386127875258306,0,1,1,-2.7386127875258306,0A2.7386127875258306,2.7386127875258306,0,1,1,2.7386127875258306,0\" fill=\"#4c78a8\" stroke-width=\"2\" opacity=\"0.7\"></path><path aria-label=\"x: 3.22486175007; y: 3.67235742219\" role=\"graphics-symbol\" aria-roledescription=\"circle\" transform=\"translate(141.92095000102233,58.191064445285164)\" d=\"M2.7386127875258306,0A2.7386127875258306,2.7386127875258306,0,1,1,-2.7386127875258306,0A2.7386127875258306,2.7386127875258306,0,1,1,2.7386127875258306,0\" fill=\"#4c78a8\" stroke-width=\"2\" opacity=\"0.7\"></path><path aria-label=\"x: 1.68707576166; y: 3.68763387759\" role=\"graphics-symbol\" aria-roledescription=\"circle\" transform=\"translate(118.26270402548577,57.809153060152596)\" d=\"M2.7386127875258306,0A2.7386127875258306,2.7386127875258306,0,1,1,-2.7386127875258306,0A2.7386127875258306,2.7386127875258306,0,1,1,2.7386127875258306,0\" fill=\"#4c78a8\" stroke-width=\"2\" opacity=\"0.7\"></path><path aria-label=\"x: 1.92433310163; y: 3.63985734563\" role=\"graphics-symbol\" aria-roledescription=\"circle\" transform=\"translate(121.91281694814687,59.00356635933197)\" d=\"M2.7386127875258306,0A2.7386127875258306,2.7386127875258306,0,1,1,-2.7386127875258306,0A2.7386127875258306,2.7386127875258306,0,1,1,2.7386127875258306,0\" fill=\"#4c78a8\" stroke-width=\"2\" opacity=\"0.7\"></path><path aria-label=\"x: 0.438494593814; y: 1.0630151458\" role=\"graphics-symbol\" aria-roledescription=\"circle\" transform=\"translate(99.05376298176077,123.42462135501877)\" d=\"M2.7386127875258306,0A2.7386127875258306,2.7386127875258306,0,1,1,-2.7386127875258306,0A2.7386127875258306,2.7386127875258306,0,1,1,2.7386127875258306,0\" fill=\"#4c78a8\" stroke-width=\"2\" opacity=\"0.7\"></path><path aria-label=\"x: 2.85170098609; y: 3.99058407329\" role=\"graphics-symbol\" aria-roledescription=\"circle\" transform=\"translate(136.1800151706909,50.23539816775779)\" d=\"M2.7386127875258306,0A2.7386127875258306,2.7386127875258306,0,1,1,-2.7386127875258306,0A2.7386127875258306,2.7386127875258306,0,1,1,2.7386127875258306,0\" fill=\"#4c78a8\" stroke-width=\"2\" opacity=\"0.7\"></path><path aria-label=\"x: 1.9378929032; y: 3.00097114041\" role=\"graphics-symbol\" aria-roledescription=\"circle\" transform=\"translate(122.12142927996187,74.97572148979019)\" d=\"M2.7386127875258306,0A2.7386127875258306,2.7386127875258306,0,1,1,-2.7386127875258306,0A2.7386127875258306,2.7386127875258306,0,1,1,2.7386127875258306,0\" fill=\"#4c78a8\" stroke-width=\"2\" opacity=\"0.7\"></path><path aria-label=\"x: 1.94400746198; y: 2.42232135364\" role=\"graphics-symbol\" aria-roledescription=\"circle\" transform=\"translate(122.2154994150757,89.441966159031)\" d=\"M2.7386127875258306,0A2.7386127875258306,2.7386127875258306,0,1,1,-2.7386127875258306,0A2.7386127875258306,2.7386127875258306,0,1,1,2.7386127875258306,0\" fill=\"#4c78a8\" stroke-width=\"2\" opacity=\"0.7\"></path><path aria-label=\"x: -1.1609148402; y: 1.51351039082\" role=\"graphics-symbol\" aria-roledescription=\"circle\" transform=\"translate(74.44746399690789,112.1622402295481)\" d=\"M2.7386127875258306,0A2.7386127875258306,2.7386127875258306,0,1,1,-2.7386127875258306,0A2.7386127875258306,2.7386127875258306,0,1,1,2.7386127875258306,0\" fill=\"#4c78a8\" stroke-width=\"2\" opacity=\"0.7\"></path><path aria-label=\"x: 2.31624967429; y: 3.7057714138\" role=\"graphics-symbol\" aria-roledescription=\"circle\" transform=\"translate(127.94230268145417,57.355714654923375)\" d=\"M2.7386127875258306,0A2.7386127875258306,2.7386127875258306,0,1,1,-2.7386127875258306,0A2.7386127875258306,2.7386127875258306,0,1,1,2.7386127875258306,0\" fill=\"#4c78a8\" stroke-width=\"2\" opacity=\"0.7\"></path><path aria-label=\"x: 1.02671805325; y: 2.73241648342\" role=\"graphics-symbol\" aria-roledescription=\"circle\" transform=\"translate(108.10335466533594,81.68958791438202)\" d=\"M2.7386127875258306,0A2.7386127875258306,2.7386127875258306,0,1,1,-2.7386127875258306,0A2.7386127875258306,2.7386127875258306,0,1,1,2.7386127875258306,0\" fill=\"#4c78a8\" stroke-width=\"2\" opacity=\"0.7\"></path><path aria-label=\"x: 2.9551765155; y: 4.89244582655\" role=\"graphics-symbol\" aria-roledescription=\"circle\" transform=\"translate(137.7719463923543,27.68885433635098)\" d=\"M2.7386127875258306,0A2.7386127875258306,2.7386127875258306,0,1,1,-2.7386127875258306,0A2.7386127875258306,2.7386127875258306,0,1,1,2.7386127875258306,0\" fill=\"#4c78a8\" stroke-width=\"2\" opacity=\"0.7\"></path><path aria-label=\"x: 1.07050409551; y: 0.751418266974\" role=\"graphics-symbol\" aria-roledescription=\"circle\" transform=\"translate(108.77698608481505,131.2145433256589)\" d=\"M2.7386127875258306,0A2.7386127875258306,2.7386127875258306,0,1,1,-2.7386127875258306,0A2.7386127875258306,2.7386127875258306,0,1,1,2.7386127875258306,0\" fill=\"#4c78a8\" stroke-width=\"2\" opacity=\"0.7\"></path><path aria-label=\"x: 0.792513305753; y: 3.2724021799\" role=\"graphics-symbol\" aria-roledescription=\"circle\" transform=\"translate(104.5002047038996,68.18994550244926)\" d=\"M2.7386127875258306,0A2.7386127875258306,2.7386127875258306,0,1,1,-2.7386127875258306,0A2.7386127875258306,2.7386127875258306,0,1,1,2.7386127875258306,0\" fill=\"#4c78a8\" stroke-width=\"2\" opacity=\"0.7\"></path><path aria-label=\"x: 1.39352144827; y: 2.15411084494\" role=\"graphics-symbol\" aria-roledescription=\"circle\" transform=\"translate(113.74648381953763,96.14722887646336)\" d=\"M2.7386127875258306,0A2.7386127875258306,2.7386127875258306,0,1,1,-2.7386127875258306,0A2.7386127875258306,2.7386127875258306,0,1,1,2.7386127875258306,0\" fill=\"#4c78a8\" stroke-width=\"2\" opacity=\"0.7\"></path><path aria-label=\"x: 4.41901963144; y: 4.99086356939\" role=\"graphics-symbol\" aria-roledescription=\"circle\" transform=\"translate(160.2926097144067,25.228410765198063)\" d=\"M2.7386127875258306,0A2.7386127875258306,2.7386127875258306,0,1,1,-2.7386127875258306,0A2.7386127875258306,2.7386127875258306,0,1,1,2.7386127875258306,0\" fill=\"#4c78a8\" stroke-width=\"2\" opacity=\"0.7\"></path><path aria-label=\"x: 0.996561957001; y: 2.63016233988\" role=\"graphics-symbol\" aria-roledescription=\"circle\" transform=\"translate(107.6394147230985,84.24594150303972)\" d=\"M2.7386127875258306,0A2.7386127875258306,2.7386127875258306,0,1,1,-2.7386127875258306,0A2.7386127875258306,2.7386127875258306,0,1,1,2.7386127875258306,0\" fill=\"#4c78a8\" stroke-width=\"2\" opacity=\"0.7\"></path><path aria-label=\"x: -2.48430704228; y: 0.311094720396\" role=\"graphics-symbol\" aria-roledescription=\"circle\" transform=\"translate(54.087583964940066,142.22263199011184)\" d=\"M2.7386127875258306,0A2.7386127875258306,2.7386127875258306,0,1,1,-2.7386127875258306,0A2.7386127875258306,2.7386127875258306,0,1,1,2.7386127875258306,0\" fill=\"#4c78a8\" stroke-width=\"2\" opacity=\"0.7\"></path><path aria-label=\"x: -1.28788748638; y: -0.857613439799\" role=\"graphics-symbol\" aria-roledescription=\"circle\" transform=\"translate(72.49403867105315,171.44033599497013)\" d=\"M2.7386127875258306,0A2.7386127875258306,2.7386127875258306,0,1,1,-2.7386127875258306,0A2.7386127875258306,2.7386127875258306,0,1,1,2.7386127875258306,0\" fill=\"#4c78a8\" stroke-width=\"2\" opacity=\"0.7\"></path><path aria-label=\"x: -0.660641675211; y: 0.475671979823\" role=\"graphics-symbol\" aria-roledescription=\"circle\" transform=\"translate(82.14397422752356,138.1082005044281)\" d=\"M2.7386127875258306,0A2.7386127875258306,2.7386127875258306,0,1,1,-2.7386127875258306,0A2.7386127875258306,2.7386127875258306,0,1,1,2.7386127875258306,0\" fill=\"#4c78a8\" stroke-width=\"2\" opacity=\"0.7\"></path><path aria-label=\"x: 1.40022171952; y: 3.59633580176\" role=\"graphics-symbol\" aria-roledescription=\"circle\" transform=\"translate(113.84956491564434,60.091604956032654)\" d=\"M2.7386127875258306,0A2.7386127875258306,2.7386127875258306,0,1,1,-2.7386127875258306,0A2.7386127875258306,2.7386127875258306,0,1,1,2.7386127875258306,0\" fill=\"#4c78a8\" stroke-width=\"2\" opacity=\"0.7\"></path><path aria-label=\"x: 0.840824180609; y: 1.64892587442\" role=\"graphics-symbol\" aria-roledescription=\"circle\" transform=\"translate(105.2434489324392,108.77685313941119)\" d=\"M2.7386127875258306,0A2.7386127875258306,2.7386127875258306,0,1,1,-2.7386127875258306,0A2.7386127875258306,2.7386127875258306,0,1,1,2.7386127875258306,0\" fill=\"#4c78a8\" stroke-width=\"2\" opacity=\"0.7\"></path><path aria-label=\"x: -1.49232617597; y: 0.748950891443\" role=\"graphics-symbol\" aria-roledescription=\"circle\" transform=\"translate(69.34882806192762,131.27622771392808)\" d=\"M2.7386127875258306,0A2.7386127875258306,2.7386127875258306,0,1,1,-2.7386127875258306,0A2.7386127875258306,2.7386127875258306,0,1,1,2.7386127875258306,0\" fill=\"#4c78a8\" stroke-width=\"2\" opacity=\"0.7\"></path><path aria-label=\"x: 4.06703564355; y: 2.75888180981\" role=\"graphics-symbol\" aria-roledescription=\"circle\" transform=\"translate(154.87747143926595,81.02795475463122)\" d=\"M2.7386127875258306,0A2.7386127875258306,2.7386127875258306,0,1,1,-2.7386127875258306,0A2.7386127875258306,2.7386127875258306,0,1,1,2.7386127875258306,0\" fill=\"#4c78a8\" stroke-width=\"2\" opacity=\"0.7\"></path><path aria-label=\"x: 4.63355383767; y: 3.55661123345\" role=\"graphics-symbol\" aria-roledescription=\"circle\" transform=\"translate(163.5931359641479,61.08471916372593)\" d=\"M2.7386127875258306,0A2.7386127875258306,2.7386127875258306,0,1,1,-2.7386127875258306,0A2.7386127875258306,2.7386127875258306,0,1,1,2.7386127875258306,0\" fill=\"#4c78a8\" stroke-width=\"2\" opacity=\"0.7\"></path><path aria-label=\"x: 0.0860766242338; y: 1.84391941113\" role=\"graphics-symbol\" aria-roledescription=\"circle\" transform=\"translate(93.63194806513592,103.9020147216255)\" d=\"M2.7386127875258306,0A2.7386127875258306,2.7386127875258306,0,1,1,-2.7386127875258306,0A2.7386127875258306,2.7386127875258306,0,1,1,2.7386127875258306,0\" fill=\"#4c78a8\" stroke-width=\"2\" opacity=\"0.7\"></path><path aria-label=\"x: 3.47767290205; y: 4.28694825037\" role=\"graphics-symbol\" aria-roledescription=\"circle\" transform=\"translate(145.81035233929865,42.826293740709566)\" d=\"M2.7386127875258306,0A2.7386127875258306,2.7386127875258306,0,1,1,-2.7386127875258306,0A2.7386127875258306,2.7386127875258306,0,1,1,2.7386127875258306,0\" fill=\"#4c78a8\" stroke-width=\"2\" opacity=\"0.7\"></path><path aria-label=\"x: 4.44445468348; y: 3.5779925421\" role=\"graphics-symbol\" aria-roledescription=\"circle\" transform=\"translate(160.68391820734143,60.55018644743102)\" d=\"M2.7386127875258306,0A2.7386127875258306,2.7386127875258306,0,1,1,-2.7386127875258306,0A2.7386127875258306,2.7386127875258306,0,1,1,2.7386127875258306,0\" fill=\"#4c78a8\" stroke-width=\"2\" opacity=\"0.7\"></path><path aria-label=\"x: 0.355324085508; y: 0.40046229861\" role=\"graphics-symbol\" aria-roledescription=\"circle\" transform=\"translate(97.7742167001274,139.98844253474675)\" d=\"M2.7386127875258306,0A2.7386127875258306,2.7386127875258306,0,1,1,-2.7386127875258306,0A2.7386127875258306,2.7386127875258306,0,1,1,2.7386127875258306,0\" fill=\"#4c78a8\" stroke-width=\"2\" opacity=\"0.7\"></path><path aria-label=\"x: -0.390798390673; y: 0.666050513955\" role=\"graphics-symbol\" aria-roledescription=\"circle\" transform=\"translate(86.29540937425423,133.3487371511372)\" d=\"M2.7386127875258306,0A2.7386127875258306,2.7386127875258306,0,1,1,-2.7386127875258306,0A2.7386127875258306,2.7386127875258306,0,1,1,2.7386127875258306,0\" fill=\"#4c78a8\" stroke-width=\"2\" opacity=\"0.7\"></path><path aria-label=\"x: 1.68139367646; y: 3.99278214096\" role=\"graphics-symbol\" aria-roledescription=\"circle\" transform=\"translate(118.17528733020073,50.18044647595947)\" d=\"M2.7386127875258306,0A2.7386127875258306,2.7386127875258306,0,1,1,-2.7386127875258306,0A2.7386127875258306,2.7386127875258306,0,1,1,2.7386127875258306,0\" fill=\"#4c78a8\" stroke-width=\"2\" opacity=\"0.7\"></path><path aria-label=\"x: 2.40330262307; y: 3.77397433689\" role=\"graphics-symbol\" aria-roledescription=\"circle\" transform=\"translate(129.28157881645757,55.65064157783901)\" d=\"M2.7386127875258306,0A2.7386127875258306,2.7386127875258306,0,1,1,-2.7386127875258306,0A2.7386127875258306,2.7386127875258306,0,1,1,2.7386127875258306,0\" fill=\"#4c78a8\" stroke-width=\"2\" opacity=\"0.7\"></path><path aria-label=\"x: -1.8188942299; y: 0.310692898889\" role=\"graphics-symbol\" aria-roledescription=\"circle\" transform=\"translate(64.32470415538785,142.2326775277689)\" d=\"M2.7386127875258306,0A2.7386127875258306,2.7386127875258306,0,1,1,-2.7386127875258306,0A2.7386127875258306,2.7386127875258306,0,1,1,2.7386127875258306,0\" fill=\"#4c78a8\" stroke-width=\"2\" opacity=\"0.7\"></path><path aria-label=\"x: 2.00374784345; y: 3.27838301649\" role=\"graphics-symbol\" aria-roledescription=\"circle\" transform=\"translate(123.13458220685098,68.04042458767884)\" d=\"M2.7386127875258306,0A2.7386127875258306,2.7386127875258306,0,1,1,-2.7386127875258306,0A2.7386127875258306,2.7386127875258306,0,1,1,2.7386127875258306,0\" fill=\"#4c78a8\" stroke-width=\"2\" opacity=\"0.7\"></path><path aria-label=\"x: 0.770546140227; y: 2.33970541255\" role=\"graphics-symbol\" aria-roledescription=\"circle\" transform=\"translate(104.162248311179,91.50736468632657)\" d=\"M2.7386127875258306,0A2.7386127875258306,2.7386127875258306,0,1,1,-2.7386127875258306,0A2.7386127875258306,2.7386127875258306,0,1,1,2.7386127875258306,0\" fill=\"#4c78a8\" stroke-width=\"2\" opacity=\"0.7\"></path><path aria-label=\"x: 2.78405760874; y: 3.70889243037\" role=\"graphics-symbol\" aria-roledescription=\"circle\" transform=\"translate(135.13934782677478,57.27768924073497)\" d=\"M2.7386127875258306,0A2.7386127875258306,2.7386127875258306,0,1,1,-2.7386127875258306,0A2.7386127875258306,2.7386127875258306,0,1,1,2.7386127875258306,0\" fill=\"#4c78a8\" stroke-width=\"2\" opacity=\"0.7\"></path><path aria-label=\"x: 2.67705814351; y: 3.37728255472\" role=\"graphics-symbol\" aria-roledescription=\"circle\" transform=\"translate(133.4932022078328,65.56793613211593)\" d=\"M2.7386127875258306,0A2.7386127875258306,2.7386127875258306,0,1,1,-2.7386127875258306,0A2.7386127875258306,2.7386127875258306,0,1,1,2.7386127875258306,0\" fill=\"#4c78a8\" stroke-width=\"2\" opacity=\"0.7\"></path><path aria-label=\"x: -0.474976254408; y: 0.622800130039\" role=\"graphics-symbol\" aria-roledescription=\"circle\" transform=\"translate(85.00036531679568,134.42999674903254)\" d=\"M2.7386127875258306,0A2.7386127875258306,2.7386127875258306,0,1,1,-2.7386127875258306,0A2.7386127875258306,2.7386127875258306,0,1,1,2.7386127875258306,0\" fill=\"#4c78a8\" stroke-width=\"2\" opacity=\"0.7\"></path><path aria-label=\"x: -0.017573049948; y: 0.0626479716918\" role=\"graphics-symbol\" aria-roledescription=\"circle\" transform=\"translate(92.03733769310752,148.43380070770502)\" d=\"M2.7386127875258306,0A2.7386127875258306,2.7386127875258306,0,1,1,-2.7386127875258306,0A2.7386127875258306,2.7386127875258306,0,1,1,2.7386127875258306,0\" fill=\"#4c78a8\" stroke-width=\"2\" opacity=\"0.7\"></path><path aria-label=\"x: -0.909513398549; y: -0.287342302702\" role=\"graphics-symbol\" aria-roledescription=\"circle\" transform=\"translate(78.3151784838666,157.18355756754497)\" d=\"M2.7386127875258306,0A2.7386127875258306,2.7386127875258306,0,1,1,-2.7386127875258306,0A2.7386127875258306,2.7386127875258306,0,1,1,2.7386127875258306,0\" fill=\"#4c78a8\" stroke-width=\"2\" opacity=\"0.7\"></path><path aria-label=\"x: 2.35903113274; y: 2.75346908286\" role=\"graphics-symbol\" aria-roledescription=\"circle\" transform=\"translate(128.60047896527112,81.16327292840602)\" d=\"M2.7386127875258306,0A2.7386127875258306,2.7386127875258306,0,1,1,-2.7386127875258306,0A2.7386127875258306,2.7386127875258306,0,1,1,2.7386127875258306,0\" fill=\"#4c78a8\" stroke-width=\"2\" opacity=\"0.7\"></path><path aria-label=\"x: -1.32324125047; y: 0.0460889669888\" role=\"graphics-symbol\" aria-roledescription=\"circle\" transform=\"translate(71.95013460808963,148.84777582527954)\" d=\"M2.7386127875258306,0A2.7386127875258306,2.7386127875258306,0,1,1,-2.7386127875258306,0A2.7386127875258306,2.7386127875258306,0,1,1,2.7386127875258306,0\" fill=\"#4c78a8\" stroke-width=\"2\" opacity=\"0.7\"></path><path aria-label=\"x: 2.75622498871; y: 2.65003416461\" role=\"graphics-symbol\" aria-roledescription=\"circle\" transform=\"translate(134.7111536724861,83.74914588470529)\" d=\"M2.7386127875258306,0A2.7386127875258306,2.7386127875258306,0,1,1,-2.7386127875258306,0A2.7386127875258306,2.7386127875258306,0,1,1,2.7386127875258306,0\" fill=\"#4c78a8\" stroke-width=\"2\" opacity=\"0.7\"></path><path aria-label=\"x: -0.520917231978; y: 1.45273217275\" role=\"graphics-symbol\" aria-roledescription=\"circle\" transform=\"translate(84.29358104649407,113.68169568114261)\" d=\"M2.7386127875258306,0A2.7386127875258306,2.7386127875258306,0,1,1,-2.7386127875258306,0A2.7386127875258306,2.7386127875258306,0,1,1,2.7386127875258306,0\" fill=\"#4c78a8\" stroke-width=\"2\" opacity=\"0.7\"></path><path aria-label=\"x: 0.849842686803; y: 1.96354770125\" role=\"graphics-symbol\" aria-roledescription=\"circle\" transform=\"translate(105.3821951815895,100.91130746874626)\" d=\"M2.7386127875258306,0A2.7386127875258306,2.7386127875258306,0,1,1,-2.7386127875258306,0A2.7386127875258306,2.7386127875258306,0,1,1,2.7386127875258306,0\" fill=\"#4c78a8\" stroke-width=\"2\" opacity=\"0.7\"></path><path aria-label=\"x: 1.3455085071; y: 1.80032525317\" role=\"graphics-symbol\" aria-roledescription=\"circle\" transform=\"translate(113.00782318610266,104.99186867080668)\" d=\"M2.7386127875258306,0A2.7386127875258306,2.7386127875258306,0,1,1,-2.7386127875258306,0A2.7386127875258306,2.7386127875258306,0,1,1,2.7386127875258306,0\" fill=\"#4c78a8\" stroke-width=\"2\" opacity=\"0.7\"></path><path aria-label=\"x: 1.74458002114; y: 1.42949344244\" role=\"graphics-symbol\" aria-roledescription=\"circle\" transform=\"translate(119.14738494059331,114.26266393909141)\" d=\"M2.7386127875258306,0A2.7386127875258306,2.7386127875258306,0,1,1,-2.7386127875258306,0A2.7386127875258306,2.7386127875258306,0,1,1,2.7386127875258306,0\" fill=\"#4c78a8\" stroke-width=\"2\" opacity=\"0.7\"></path><path aria-label=\"x: 2.53481378907; y: 3.28976500678\" role=\"graphics-symbol\" aria-roledescription=\"circle\" transform=\"translate(131.30482752422944,67.7558748306144)\" d=\"M2.7386127875258306,0A2.7386127875258306,2.7386127875258306,0,1,1,-2.7386127875258306,0A2.7386127875258306,2.7386127875258306,0,1,1,2.7386127875258306,0\" fill=\"#4c78a8\" stroke-width=\"2\" opacity=\"0.7\"></path><path aria-label=\"x: -1.28741713845; y: -0.0734233222425\" role=\"graphics-symbol\" aria-roledescription=\"circle\" transform=\"translate(72.50127479302016,151.8355830560634)\" d=\"M2.7386127875258306,0A2.7386127875258306,2.7386127875258306,0,1,1,-2.7386127875258306,0A2.7386127875258306,2.7386127875258306,0,1,1,2.7386127875258306,0\" fill=\"#4c78a8\" stroke-width=\"2\" opacity=\"0.7\"></path><path aria-label=\"x: 2.45526244623; y: 2.70760475074\" role=\"graphics-symbol\" aria-roledescription=\"circle\" transform=\"translate(130.08096071120093,82.30988123153244)\" d=\"M2.7386127875258306,0A2.7386127875258306,2.7386127875258306,0,1,1,-2.7386127875258306,0A2.7386127875258306,2.7386127875258306,0,1,1,2.7386127875258306,0\" fill=\"#4c78a8\" stroke-width=\"2\" opacity=\"0.7\"></path><path aria-label=\"x: 0.0117865209075; y: 1.88496776879\" role=\"graphics-symbol\" aria-roledescription=\"circle\" transform=\"translate(92.48902339857649,102.87580578023012)\" d=\"M2.7386127875258306,0A2.7386127875258306,2.7386127875258306,0,1,1,-2.7386127875258306,0A2.7386127875258306,2.7386127875258306,0,1,1,2.7386127875258306,0\" fill=\"#4c78a8\" stroke-width=\"2\" opacity=\"0.7\"></path><path aria-label=\"x: -0.529134753158; y: 0.782641912922\" role=\"graphics-symbol\" aria-roledescription=\"circle\" transform=\"translate(84.16715764373018,130.43395217695462)\" d=\"M2.7386127875258306,0A2.7386127875258306,2.7386127875258306,0,1,1,-2.7386127875258306,0A2.7386127875258306,2.7386127875258306,0,1,1,2.7386127875258306,0\" fill=\"#4c78a8\" stroke-width=\"2\" opacity=\"0.7\"></path><path aria-label=\"x: 1.490856596; y: 3.45550015126\" role=\"graphics-symbol\" aria-roledescription=\"circle\" transform=\"translate(115.2439476308401,63.61249621841005)\" d=\"M2.7386127875258306,0A2.7386127875258306,2.7386127875258306,0,1,1,-2.7386127875258306,0A2.7386127875258306,2.7386127875258306,0,1,1,2.7386127875258306,0\" fill=\"#4c78a8\" stroke-width=\"2\" opacity=\"0.7\"></path><path aria-label=\"x: 0.496293886146; y: 1.96515494648\" role=\"graphics-symbol\" aria-roledescription=\"circle\" transform=\"translate(99.94298286378014,100.8711263381174)\" d=\"M2.7386127875258306,0A2.7386127875258306,2.7386127875258306,0,1,1,-2.7386127875258306,0A2.7386127875258306,2.7386127875258306,0,1,1,2.7386127875258306,0\" fill=\"#4c78a8\" stroke-width=\"2\" opacity=\"0.7\"></path><path aria-label=\"x: 3.04328905871; y: 3.60781071617\" role=\"graphics-symbol\" aria-roledescription=\"circle\" transform=\"translate(139.12752398020618,59.80473209564337)\" d=\"M2.7386127875258306,0A2.7386127875258306,2.7386127875258306,0,1,1,-2.7386127875258306,0A2.7386127875258306,2.7386127875258306,0,1,1,2.7386127875258306,0\" fill=\"#4c78a8\" stroke-width=\"2\" opacity=\"0.7\"></path><path aria-label=\"x: 0.428136176402; y: 0.810873698885\" role=\"graphics-symbol\" aria-roledescription=\"circle\" transform=\"translate(98.8944027138808,129.72815752787227)\" d=\"M2.7386127875258306,0A2.7386127875258306,2.7386127875258306,0,1,1,-2.7386127875258306,0A2.7386127875258306,2.7386127875258306,0,1,1,2.7386127875258306,0\" fill=\"#4c78a8\" stroke-width=\"2\" opacity=\"0.7\"></path><path aria-label=\"x: 2.69668882973; y: 3.57200063879\" role=\"graphics-symbol\" aria-roledescription=\"circle\" transform=\"translate(133.7952127650198,60.699984030140456)\" d=\"M2.7386127875258306,0A2.7386127875258306,2.7386127875258306,0,1,1,-2.7386127875258306,0A2.7386127875258306,2.7386127875258306,0,1,1,2.7386127875258306,0\" fill=\"#4c78a8\" stroke-width=\"2\" opacity=\"0.7\"></path><path aria-label=\"x: 2.69609385032; y: 3.94062842867\" role=\"graphics-symbol\" aria-roledescription=\"circle\" transform=\"translate(133.78605923562014,51.48428928321196)\" d=\"M2.7386127875258306,0A2.7386127875258306,2.7386127875258306,0,1,1,-2.7386127875258306,0A2.7386127875258306,2.7386127875258306,0,1,1,2.7386127875258306,0\" fill=\"#4c78a8\" stroke-width=\"2\" opacity=\"0.7\"></path><path aria-label=\"x: 1.44425342094; y: 2.92164040786\" role=\"graphics-symbol\" aria-roledescription=\"circle\" transform=\"translate(114.52697570676659,76.95898980361262)\" d=\"M2.7386127875258306,0A2.7386127875258306,2.7386127875258306,0,1,1,-2.7386127875258306,0A2.7386127875258306,2.7386127875258306,0,1,1,2.7386127875258306,0\" fill=\"#4c78a8\" stroke-width=\"2\" opacity=\"0.7\"></path><path aria-label=\"x: 0.0620109016952; y: -1.14157684521\" role=\"graphics-symbol\" aria-roledescription=\"circle\" transform=\"translate(93.26170617992653,178.5394211303382)\" d=\"M2.7386127875258306,0A2.7386127875258306,2.7386127875258306,0,1,1,-2.7386127875258306,0A2.7386127875258306,2.7386127875258306,0,1,1,2.7386127875258306,0\" fill=\"#4c78a8\" stroke-width=\"2\" opacity=\"0.7\"></path><path aria-label=\"x: 1.06724777979; y: 2.96748790192\" role=\"graphics-symbol\" aria-roledescription=\"circle\" transform=\"translate(108.72688891984316,75.81280245203186)\" d=\"M2.7386127875258306,0A2.7386127875258306,2.7386127875258306,0,1,1,-2.7386127875258306,0A2.7386127875258306,2.7386127875258306,0,1,1,2.7386127875258306,0\" fill=\"#4c78a8\" stroke-width=\"2\" opacity=\"0.7\"></path><path aria-label=\"x: 1.83553960613; y: 1.30770953069\" role=\"graphics-symbol\" aria-roledescription=\"circle\" transform=\"translate(120.54676317128738,117.3072617328165)\" d=\"M2.7386127875258306,0A2.7386127875258306,2.7386127875258306,0,1,1,-2.7386127875258306,0A2.7386127875258306,2.7386127875258306,0,1,1,2.7386127875258306,0\" fill=\"#4c78a8\" stroke-width=\"2\" opacity=\"0.7\"></path><path aria-label=\"x: 1.10576665702; y: 1.62476063683\" role=\"graphics-symbol\" aria-roledescription=\"circle\" transform=\"translate(109.31948703103309,109.3809840791297)\" d=\"M2.7386127875258306,0A2.7386127875258306,2.7386127875258306,0,1,1,-2.7386127875258306,0A2.7386127875258306,2.7386127875258306,0,1,1,2.7386127875258306,0\" fill=\"#4c78a8\" stroke-width=\"2\" opacity=\"0.7\"></path><path aria-label=\"x: 1.1801942123; y: 1.49331122986\" role=\"graphics-symbol\" aria-roledescription=\"circle\" transform=\"translate(110.4645263431272,112.66721925350345)\" d=\"M2.7386127875258306,0A2.7386127875258306,2.7386127875258306,0,1,1,-2.7386127875258306,0A2.7386127875258306,2.7386127875258306,0,1,1,2.7386127875258306,0\" fill=\"#4c78a8\" stroke-width=\"2\" opacity=\"0.7\"></path><path aria-label=\"x: -1.02969452472; y: 0.739865038421\" role=\"graphics-symbol\" aria-roledescription=\"circle\" transform=\"translate(76.46623808128422,131.5033740394788)\" d=\"M2.7386127875258306,0A2.7386127875258306,2.7386127875258306,0,1,1,-2.7386127875258306,0A2.7386127875258306,2.7386127875258306,0,1,1,2.7386127875258306,0\" fill=\"#4c78a8\" stroke-width=\"2\" opacity=\"0.7\"></path><path aria-label=\"x: 2.05944939907; y: 2.94874129947\" role=\"graphics-symbol\" aria-roledescription=\"circle\" transform=\"translate(123.99152921652603,76.2814675132768)\" d=\"M2.7386127875258306,0A2.7386127875258306,2.7386127875258306,0,1,1,-2.7386127875258306,0A2.7386127875258306,2.7386127875258306,0,1,1,2.7386127875258306,0\" fill=\"#4c78a8\" stroke-width=\"2\" opacity=\"0.7\"></path><path aria-label=\"x: 1.35382768365; y: 3.06841915034\" role=\"graphics-symbol\" aria-roledescription=\"circle\" transform=\"translate(113.13581051767083,73.28952124150807)\" d=\"M2.7386127875258306,0A2.7386127875258306,2.7386127875258306,0,1,1,-2.7386127875258306,0A2.7386127875258306,2.7386127875258306,0,1,1,2.7386127875258306,0\" fill=\"#4c78a8\" stroke-width=\"2\" opacity=\"0.7\"></path><path aria-label=\"x: 0.305777831234; y: 0.555896263063\" role=\"graphics-symbol\" aria-roledescription=\"circle\" transform=\"translate(97.0119666343639,136.1025934234342)\" d=\"M2.7386127875258306,0A2.7386127875258306,2.7386127875258306,0,1,1,-2.7386127875258306,0A2.7386127875258306,2.7386127875258306,0,1,1,2.7386127875258306,0\" fill=\"#4c78a8\" stroke-width=\"2\" opacity=\"0.7\"></path><path aria-label=\"x: 1.03768342864; y: 0.821913597883\" role=\"graphics-symbol\" aria-roledescription=\"circle\" transform=\"translate(108.2720527483624,129.45216005292522)\" d=\"M2.7386127875258306,0A2.7386127875258306,2.7386127875258306,0,1,1,-2.7386127875258306,0A2.7386127875258306,2.7386127875258306,0,1,1,2.7386127875258306,0\" fill=\"#4c78a8\" stroke-width=\"2\" opacity=\"0.7\"></path><path aria-label=\"x: -2.22795773244; y: -0.869733035167\" role=\"graphics-symbol\" aria-roledescription=\"circle\" transform=\"translate(58.03141950096033,171.74332587918354)\" d=\"M2.7386127875258306,0A2.7386127875258306,2.7386127875258306,0,1,1,-2.7386127875258306,0A2.7386127875258306,2.7386127875258306,0,1,1,2.7386127875258306,0\" fill=\"#4c78a8\" stroke-width=\"2\" opacity=\"0.7\"></path><path aria-label=\"x: 0.992972399866; y: 2.16567014503\" role=\"graphics-symbol\" aria-roledescription=\"circle\" transform=\"translate(107.5841907671639,95.85824637414117)\" d=\"M2.7386127875258306,0A2.7386127875258306,2.7386127875258306,0,1,1,-2.7386127875258306,0A2.7386127875258306,2.7386127875258306,0,1,1,2.7386127875258306,0\" fill=\"#4c78a8\" stroke-width=\"2\" opacity=\"0.7\"></path><path aria-label=\"x: -0.60484727402; y: 0.81305019942\" role=\"graphics-symbol\" aria-roledescription=\"circle\" transform=\"translate(83.00234963045503,129.6737450144881)\" d=\"M2.7386127875258306,0A2.7386127875258306,2.7386127875258306,0,1,1,-2.7386127875258306,0A2.7386127875258306,2.7386127875258306,0,1,1,2.7386127875258306,0\" fill=\"#4c78a8\" stroke-width=\"2\" opacity=\"0.7\"></path><path aria-label=\"x: -0.652981414895; y: 0.621765437391\" role=\"graphics-symbol\" aria-roledescription=\"circle\" transform=\"translate(82.26182438623127,134.45586406522102)\" d=\"M2.7386127875258306,0A2.7386127875258306,2.7386127875258306,0,1,1,-2.7386127875258306,0A2.7386127875258306,2.7386127875258306,0,1,1,2.7386127875258306,0\" fill=\"#4c78a8\" stroke-width=\"2\" opacity=\"0.7\"></path><path aria-label=\"x: -1.22374916987; y: 0.758682853485\" role=\"graphics-symbol\" aria-roledescription=\"circle\" transform=\"translate(73.48078200198007,131.03292866288558)\" d=\"M2.7386127875258306,0A2.7386127875258306,2.7386127875258306,0,1,1,-2.7386127875258306,0A2.7386127875258306,2.7386127875258306,0,1,1,2.7386127875258306,0\" fill=\"#4c78a8\" stroke-width=\"2\" opacity=\"0.7\"></path><path aria-label=\"x: 0.865836811861; y: 1.6498746944\" role=\"graphics-symbol\" aria-roledescription=\"circle\" transform=\"translate(105.62825864402143,108.75313263992497)\" d=\"M2.7386127875258306,0A2.7386127875258306,2.7386127875258306,0,1,1,-2.7386127875258306,0A2.7386127875258306,2.7386127875258306,0,1,1,2.7386127875258306,0\" fill=\"#4c78a8\" stroke-width=\"2\" opacity=\"0.7\"></path><path aria-label=\"x: -1.20443817764; y: -1.59359720277\" role=\"graphics-symbol\" aria-roledescription=\"circle\" transform=\"translate(73.77787419013906,189.83993006916623)\" d=\"M2.7386127875258306,0A2.7386127875258306,2.7386127875258306,0,1,1,-2.7386127875258306,0A2.7386127875258306,2.7386127875258306,0,1,1,2.7386127875258306,0\" fill=\"#4c78a8\" stroke-width=\"2\" opacity=\"0.7\"></path><path aria-label=\"x: 3.03198340091; y: 2.90029862319\" role=\"graphics-symbol\" aria-roledescription=\"circle\" transform=\"translate(138.95359078317244,77.49253442021428)\" d=\"M2.7386127875258306,0A2.7386127875258306,2.7386127875258306,0,1,1,-2.7386127875258306,0A2.7386127875258306,2.7386127875258306,0,1,1,2.7386127875258306,0\" fill=\"#4c78a8\" stroke-width=\"2\" opacity=\"0.7\"></path><path aria-label=\"x: 1.15065655678; y: 2.14655816814\" role=\"graphics-symbol\" aria-roledescription=\"circle\" transform=\"translate(110.01010087361006,96.3360457964679)\" d=\"M2.7386127875258306,0A2.7386127875258306,2.7386127875258306,0,1,1,-2.7386127875258306,0A2.7386127875258306,2.7386127875258306,0,1,1,2.7386127875258306,0\" fill=\"#4c78a8\" stroke-width=\"2\" opacity=\"0.7\"></path><path aria-label=\"x: -1.62176866845; y: -0.190593637551\" role=\"graphics-symbol\" aria-roledescription=\"circle\" transform=\"translate(67.35740510073602,154.76484093877815)\" d=\"M2.7386127875258306,0A2.7386127875258306,2.7386127875258306,0,1,1,-2.7386127875258306,0A2.7386127875258306,2.7386127875258306,0,1,1,2.7386127875258306,0\" fill=\"#4c78a8\" stroke-width=\"2\" opacity=\"0.7\"></path><path aria-label=\"x: -1.22371681248; y: 0.622047292669\" role=\"graphics-symbol\" aria-roledescription=\"circle\" transform=\"translate(73.48127980800369,134.44881768328534)\" d=\"M2.7386127875258306,0A2.7386127875258306,2.7386127875258306,0,1,1,-2.7386127875258306,0A2.7386127875258306,2.7386127875258306,0,1,1,2.7386127875258306,0\" fill=\"#4c78a8\" stroke-width=\"2\" opacity=\"0.7\"></path><path aria-label=\"x: 2.5964454168; y: 3.51391719907\" role=\"graphics-symbol\" aria-roledescription=\"circle\" transform=\"translate(132.25300641234836,62.15207002335412)\" d=\"M2.7386127875258306,0A2.7386127875258306,2.7386127875258306,0,1,1,-2.7386127875258306,0A2.7386127875258306,2.7386127875258306,0,1,1,2.7386127875258306,0\" fill=\"#4c78a8\" stroke-width=\"2\" opacity=\"0.7\"></path><path aria-label=\"x: 3.32451205331; y: 3.59151653796\" role=\"graphics-symbol\" aria-roledescription=\"circle\" transform=\"translate(143.45403158936574,60.21208655104901)\" d=\"M2.7386127875258306,0A2.7386127875258306,2.7386127875258306,0,1,1,-2.7386127875258306,0A2.7386127875258306,2.7386127875258306,0,1,1,2.7386127875258306,0\" fill=\"#4c78a8\" stroke-width=\"2\" opacity=\"0.7\"></path><path aria-label=\"x: 1.92408767028; y: 2.79172688794\" role=\"graphics-symbol\" aria-roledescription=\"circle\" transform=\"translate(121.90904108116021,80.20682780147507)\" d=\"M2.7386127875258306,0A2.7386127875258306,2.7386127875258306,0,1,1,-2.7386127875258306,0A2.7386127875258306,2.7386127875258306,0,1,1,2.7386127875258306,0\" fill=\"#4c78a8\" stroke-width=\"2\" opacity=\"0.7\"></path><path aria-label=\"x: 1.50615785043; y: 1.25971117174\" role=\"graphics-symbol\" aria-roledescription=\"circle\" transform=\"translate(115.47935154510749,118.50722070647583)\" d=\"M2.7386127875258306,0A2.7386127875258306,2.7386127875258306,0,1,1,-2.7386127875258306,0A2.7386127875258306,2.7386127875258306,0,1,1,2.7386127875258306,0\" fill=\"#4c78a8\" stroke-width=\"2\" opacity=\"0.7\"></path><path aria-label=\"x: 2.64773780301; y: 3.66044761289\" role=\"graphics-symbol\" aria-roledescription=\"circle\" transform=\"translate(133.04212004627894,58.48880967764871)\" d=\"M2.7386127875258306,0A2.7386127875258306,2.7386127875258306,0,1,1,-2.7386127875258306,0A2.7386127875258306,2.7386127875258306,0,1,1,2.7386127875258306,0\" fill=\"#4c78a8\" stroke-width=\"2\" opacity=\"0.7\"></path><path aria-label=\"x: -1.42628822094; y: 0.692334149102\" role=\"graphics-symbol\" aria-roledescription=\"circle\" transform=\"translate(70.36479660087174,132.69164627246076)\" d=\"M2.7386127875258306,0A2.7386127875258306,2.7386127875258306,0,1,1,-2.7386127875258306,0A2.7386127875258306,2.7386127875258306,0,1,1,2.7386127875258306,0\" fill=\"#4c78a8\" stroke-width=\"2\" opacity=\"0.7\"></path><path aria-label=\"x: 1.03737582554; y: 2.41166770267\" role=\"graphics-symbol\" aria-roledescription=\"circle\" transform=\"translate(108.26732039290067,89.7083074331262)\" d=\"M2.7386127875258306,0A2.7386127875258306,2.7386127875258306,0,1,1,-2.7386127875258306,0A2.7386127875258306,2.7386127875258306,0,1,1,2.7386127875258306,0\" fill=\"#4c78a8\" stroke-width=\"2\" opacity=\"0.7\"></path><path aria-label=\"x: -0.891439590472; y: -0.819591644099\" role=\"graphics-symbol\" aria-roledescription=\"circle\" transform=\"translate(78.59323706965388,170.48979110247882)\" d=\"M2.7386127875258306,0A2.7386127875258306,2.7386127875258306,0,1,1,-2.7386127875258306,0A2.7386127875258306,2.7386127875258306,0,1,1,2.7386127875258306,0\" fill=\"#4c78a8\" stroke-width=\"2\" opacity=\"0.7\"></path><path aria-label=\"x: 2.47843854552; y: 3.41365832367\" role=\"graphics-symbol\" aria-roledescription=\"circle\" transform=\"translate(130.43751608496135,64.65854190814335)\" d=\"M2.7386127875258306,0A2.7386127875258306,2.7386127875258306,0,1,1,-2.7386127875258306,0A2.7386127875258306,2.7386127875258306,0,1,1,2.7386127875258306,0\" fill=\"#4c78a8\" stroke-width=\"2\" opacity=\"0.7\"></path><path aria-label=\"x: 0.656531883509; y: 1.41420649518\" role=\"graphics-symbol\" aria-roledescription=\"circle\" transform=\"translate(102.40818282321547,114.64483762042248)\" d=\"M2.7386127875258306,0A2.7386127875258306,2.7386127875258306,0,1,1,-2.7386127875258306,0A2.7386127875258306,2.7386127875258306,0,1,1,2.7386127875258306,0\" fill=\"#4c78a8\" stroke-width=\"2\" opacity=\"0.7\"></path><path aria-label=\"x: 2.37815973594; y: 2.75245084008\" role=\"graphics-symbol\" aria-roledescription=\"circle\" transform=\"translate(128.89476516825331,81.1887289979313)\" d=\"M2.7386127875258306,0A2.7386127875258306,2.7386127875258306,0,1,1,-2.7386127875258306,0A2.7386127875258306,2.7386127875258306,0,1,1,2.7386127875258306,0\" fill=\"#4c78a8\" stroke-width=\"2\" opacity=\"0.7\"></path><path aria-label=\"x: -0.756026842653; y: 2.67135922462\" role=\"graphics-symbol\" aria-roledescription=\"circle\" transform=\"translate(80.67651011302442,83.21601938448997)\" d=\"M2.7386127875258306,0A2.7386127875258306,2.7386127875258306,0,1,1,-2.7386127875258306,0A2.7386127875258306,2.7386127875258306,0,1,1,2.7386127875258306,0\" fill=\"#4c78a8\" stroke-width=\"2\" opacity=\"0.7\"></path><path aria-label=\"x: -0.0331060152816; y: 1.77318409925\" role=\"graphics-symbol\" aria-roledescription=\"circle\" transform=\"translate(91.79836899566737,105.67039751871248)\" d=\"M2.7386127875258306,0A2.7386127875258306,2.7386127875258306,0,1,1,-2.7386127875258306,0A2.7386127875258306,2.7386127875258306,0,1,1,2.7386127875258306,0\" fill=\"#4c78a8\" stroke-width=\"2\" opacity=\"0.7\"></path><path aria-label=\"x: 2.69538368906; y: 3.28527295588\" role=\"graphics-symbol\" aria-roledescription=\"circle\" transform=\"translate(133.7751336777835,67.86817610303031)\" d=\"M2.7386127875258306,0A2.7386127875258306,2.7386127875258306,0,1,1,-2.7386127875258306,0A2.7386127875258306,2.7386127875258306,0,1,1,2.7386127875258306,0\" fill=\"#4c78a8\" stroke-width=\"2\" opacity=\"0.7\"></path><path aria-label=\"x: 1.96214546151; y: 2.05840613499\" role=\"graphics-symbol\" aria-roledescription=\"circle\" transform=\"translate(122.49454556170471,98.53984662533762)\" d=\"M2.7386127875258306,0A2.7386127875258306,2.7386127875258306,0,1,1,-2.7386127875258306,0A2.7386127875258306,2.7386127875258306,0,1,1,2.7386127875258306,0\" fill=\"#4c78a8\" stroke-width=\"2\" opacity=\"0.7\"></path><path aria-label=\"x: 0.633430784667; y: 2.25966614996\" role=\"graphics-symbol\" aria-roledescription=\"circle\" transform=\"translate(102.05278130256434,93.50834625098314)\" d=\"M2.7386127875258306,0A2.7386127875258306,2.7386127875258306,0,1,1,-2.7386127875258306,0A2.7386127875258306,2.7386127875258306,0,1,1,2.7386127875258306,0\" fill=\"#4c78a8\" stroke-width=\"2\" opacity=\"0.7\"></path><path aria-label=\"x: -0.327034488702; y: 1.61080142189\" role=\"graphics-symbol\" aria-roledescription=\"circle\" transform=\"translate(87.27639248150678,109.72996445284582)\" d=\"M2.7386127875258306,0A2.7386127875258306,2.7386127875258306,0,1,1,-2.7386127875258306,0A2.7386127875258306,2.7386127875258306,0,1,1,2.7386127875258306,0\" fill=\"#4c78a8\" stroke-width=\"2\" opacity=\"0.7\"></path><path aria-label=\"x: 1.06252969205; y: 3.41379372603\" role=\"graphics-symbol\" aria-roledescription=\"circle\" transform=\"translate(108.65430295459954,64.65515684918333)\" d=\"M2.7386127875258306,0A2.7386127875258306,2.7386127875258306,0,1,1,-2.7386127875258306,0A2.7386127875258306,2.7386127875258306,0,1,1,2.7386127875258306,0\" fill=\"#4c78a8\" stroke-width=\"2\" opacity=\"0.7\"></path><path aria-label=\"x: -0.122308558692; y: 1.38104670535\" role=\"graphics-symbol\" aria-roledescription=\"circle\" transform=\"translate(90.4260221739645,115.47383236626803)\" d=\"M2.7386127875258306,0A2.7386127875258306,2.7386127875258306,0,1,1,-2.7386127875258306,0A2.7386127875258306,2.7386127875258306,0,1,1,2.7386127875258306,0\" fill=\"#4c78a8\" stroke-width=\"2\" opacity=\"0.7\"></path><path aria-label=\"x: -0.0320133688426; y: 1.42695137327\" role=\"graphics-symbol\" aria-roledescription=\"circle\" transform=\"translate(91.81517894088252,114.3262156682081)\" d=\"M2.7386127875258306,0A2.7386127875258306,2.7386127875258306,0,1,1,-2.7386127875258306,0A2.7386127875258306,2.7386127875258306,0,1,1,2.7386127875258306,0\" fill=\"#4c78a8\" stroke-width=\"2\" opacity=\"0.7\"></path><path aria-label=\"x: -1.48576853579; y: 0.133759176647\" role=\"graphics-symbol\" aria-roledescription=\"circle\" transform=\"translate(69.44971483399426,146.6560205838128)\" d=\"M2.7386127875258306,0A2.7386127875258306,2.7386127875258306,0,1,1,-2.7386127875258306,0A2.7386127875258306,2.7386127875258306,0,1,1,2.7386127875258306,0\" fill=\"#4c78a8\" stroke-width=\"2\" opacity=\"0.7\"></path><path aria-label=\"x: 3.48648669583; y: 3.36063276155\" role=\"graphics-symbol\" aria-roledescription=\"circle\" transform=\"translate(145.9459491666729,65.98418096119529)\" d=\"M2.7386127875258306,0A2.7386127875258306,2.7386127875258306,0,1,1,-2.7386127875258306,0A2.7386127875258306,2.7386127875258306,0,1,1,2.7386127875258306,0\" fill=\"#4c78a8\" stroke-width=\"2\" opacity=\"0.7\"></path><path aria-label=\"x: 3.14068242638; y: 3.46916158193\" role=\"graphics-symbol\" aria-roledescription=\"circle\" transform=\"translate(140.62588348272104,63.27096045178144)\" d=\"M2.7386127875258306,0A2.7386127875258306,2.7386127875258306,0,1,1,-2.7386127875258306,0A2.7386127875258306,2.7386127875258306,0,1,1,2.7386127875258306,0\" fill=\"#4c78a8\" stroke-width=\"2\" opacity=\"0.7\"></path><path aria-label=\"x: 1.47212661738; y: 0.92120021086\" role=\"graphics-symbol\" aria-roledescription=\"circle\" transform=\"translate(114.95579411348614,126.96999472848773)\" d=\"M2.7386127875258306,0A2.7386127875258306,2.7386127875258306,0,1,1,-2.7386127875258306,0A2.7386127875258306,2.7386127875258306,0,1,1,2.7386127875258306,0\" fill=\"#4c78a8\" stroke-width=\"2\" opacity=\"0.7\"></path><path aria-label=\"x: 1.9448039842; y: 2.42411171295\" role=\"graphics-symbol\" aria-roledescription=\"circle\" transform=\"translate(122.22775360311584,89.39720717616875)\" d=\"M2.7386127875258306,0A2.7386127875258306,2.7386127875258306,0,1,1,-2.7386127875258306,0A2.7386127875258306,2.7386127875258306,0,1,1,2.7386127875258306,0\" fill=\"#4c78a8\" stroke-width=\"2\" opacity=\"0.7\"></path><path aria-label=\"x: 6.52086887788; y: 3.24374119064\" role=\"graphics-symbol\" aria-roledescription=\"circle\" transform=\"translate(192.62875196737463,68.90647023404888)\" d=\"M2.7386127875258306,0A2.7386127875258306,2.7386127875258306,0,1,1,-2.7386127875258306,0A2.7386127875258306,2.7386127875258306,0,1,1,2.7386127875258306,0\" fill=\"#4c78a8\" stroke-width=\"2\" opacity=\"0.7\"></path><path aria-label=\"x: 0.129381126746; y: 1.34840629193\" role=\"graphics-symbol\" aria-roledescription=\"circle\" transform=\"translate(94.29817118070348,116.28984270176237)\" d=\"M2.7386127875258306,0A2.7386127875258306,2.7386127875258306,0,1,1,-2.7386127875258306,0A2.7386127875258306,2.7386127875258306,0,1,1,2.7386127875258306,0\" fill=\"#4c78a8\" stroke-width=\"2\" opacity=\"0.7\"></path><path aria-label=\"x: 2.87317508605; y: 2.4175294418\" role=\"graphics-symbol\" aria-roledescription=\"circle\" transform=\"translate(136.51038593919057,89.56176395497826)\" d=\"M2.7386127875258306,0A2.7386127875258306,2.7386127875258306,0,1,1,-2.7386127875258306,0A2.7386127875258306,2.7386127875258306,0,1,1,2.7386127875258306,0\" fill=\"#4c78a8\" stroke-width=\"2\" opacity=\"0.7\"></path><path aria-label=\"x: 2.92758816789; y: 3.45042823348\" role=\"graphics-symbol\" aria-roledescription=\"circle\" transform=\"translate(137.347510275301,63.73929416294839)\" d=\"M2.7386127875258306,0A2.7386127875258306,2.7386127875258306,0,1,1,-2.7386127875258306,0A2.7386127875258306,2.7386127875258306,0,1,1,2.7386127875258306,0\" fill=\"#4c78a8\" stroke-width=\"2\" opacity=\"0.7\"></path><path aria-label=\"x: 0.814728283432; y: 2.90105939756\" role=\"graphics-symbol\" aria-roledescription=\"circle\" transform=\"translate(104.8419735912615,77.47351506101796)\" d=\"M2.7386127875258306,0A2.7386127875258306,2.7386127875258306,0,1,1,-2.7386127875258306,0A2.7386127875258306,2.7386127875258306,0,1,1,2.7386127875258306,0\" fill=\"#4c78a8\" stroke-width=\"2\" opacity=\"0.7\"></path><path aria-label=\"x: 2.5806104166; y: 1.73208785049\" role=\"graphics-symbol\" aria-roledescription=\"circle\" transform=\"translate(132.0093910246801,106.69780373778556)\" d=\"M2.7386127875258306,0A2.7386127875258306,2.7386127875258306,0,1,1,-2.7386127875258306,0A2.7386127875258306,2.7386127875258306,0,1,1,2.7386127875258306,0\" fill=\"#4c78a8\" stroke-width=\"2\" opacity=\"0.7\"></path><path aria-label=\"x: 1.27412154383; y: 1.66743367895\" role=\"graphics-symbol\" aria-roledescription=\"circle\" transform=\"translate(111.90956221282507,108.3141580262922)\" d=\"M2.7386127875258306,0A2.7386127875258306,2.7386127875258306,0,1,1,-2.7386127875258306,0A2.7386127875258306,2.7386127875258306,0,1,1,2.7386127875258306,0\" fill=\"#4c78a8\" stroke-width=\"2\" opacity=\"0.7\"></path><path aria-label=\"x: -0.936972877094; y: 1.00737579935\" role=\"graphics-symbol\" aria-roledescription=\"circle\" transform=\"translate(77.89272496778597,124.81560501618038)\" d=\"M2.7386127875258306,0A2.7386127875258306,2.7386127875258306,0,1,1,-2.7386127875258306,0A2.7386127875258306,2.7386127875258306,0,1,1,2.7386127875258306,0\" fill=\"#4c78a8\" stroke-width=\"2\" opacity=\"0.7\"></path><path aria-label=\"x: -0.207556798778; y: 1.6650802796\" role=\"graphics-symbol\" aria-roledescription=\"circle\" transform=\"translate(89.11451078802473,108.37299300995838)\" d=\"M2.7386127875258306,0A2.7386127875258306,2.7386127875258306,0,1,1,-2.7386127875258306,0A2.7386127875258306,2.7386127875258306,0,1,1,2.7386127875258306,0\" fill=\"#4c78a8\" stroke-width=\"2\" opacity=\"0.7\"></path><path aria-label=\"x: -0.678885646668; y: 1.04573106153\" role=\"graphics-symbol\" aria-roledescription=\"circle\" transform=\"translate(81.86329774356712,123.85672346177414)\" d=\"M2.7386127875258306,0A2.7386127875258306,2.7386127875258306,0,1,1,-2.7386127875258306,0A2.7386127875258306,2.7386127875258306,0,1,1,2.7386127875258306,0\" fill=\"#4c78a8\" stroke-width=\"2\" opacity=\"0.7\"></path><path aria-label=\"x: -1.43463764793; y: 0.835772607172\" role=\"graphics-symbol\" aria-roledescription=\"circle\" transform=\"translate(70.23634387793987,129.10568482070107)\" d=\"M2.7386127875258306,0A2.7386127875258306,2.7386127875258306,0,1,1,-2.7386127875258306,0A2.7386127875258306,2.7386127875258306,0,1,1,2.7386127875258306,0\" fill=\"#4c78a8\" stroke-width=\"2\" opacity=\"0.7\"></path><path aria-label=\"x: 1.96457007889; y: 2.50911199549\" role=\"graphics-symbol\" aria-roledescription=\"circle\" transform=\"translate(122.53184736752733,87.2722001127855)\" d=\"M2.7386127875258306,0A2.7386127875258306,2.7386127875258306,0,1,1,-2.7386127875258306,0A2.7386127875258306,2.7386127875258306,0,1,1,2.7386127875258306,0\" fill=\"#4c78a8\" stroke-width=\"2\" opacity=\"0.7\"></path><path aria-label=\"x: 0.25748865223; y: 2.87822605246\" role=\"graphics-symbol\" aria-roledescription=\"circle\" transform=\"translate(96.26905618815121,78.04434868845706)\" d=\"M2.7386127875258306,0A2.7386127875258306,2.7386127875258306,0,1,1,-2.7386127875258306,0A2.7386127875258306,2.7386127875258306,0,1,1,2.7386127875258306,0\" fill=\"#4c78a8\" stroke-width=\"2\" opacity=\"0.7\"></path><path aria-label=\"x: 2.03177464485; y: 4.36638417936\" role=\"graphics-symbol\" aria-roledescription=\"circle\" transform=\"translate(123.56576376690793,40.84039551592076)\" d=\"M2.7386127875258306,0A2.7386127875258306,2.7386127875258306,0,1,1,-2.7386127875258306,0A2.7386127875258306,2.7386127875258306,0,1,1,2.7386127875258306,0\" fill=\"#4c78a8\" stroke-width=\"2\" opacity=\"0.7\"></path><path aria-label=\"x: 1.1239854693; y: 1.21468486318\" role=\"graphics-symbol\" aria-roledescription=\"circle\" transform=\"translate(109.59977645076194,119.63287842061285)\" d=\"M2.7386127875258306,0A2.7386127875258306,2.7386127875258306,0,1,1,-2.7386127875258306,0A2.7386127875258306,2.7386127875258306,0,1,1,2.7386127875258306,0\" fill=\"#4c78a8\" stroke-width=\"2\" opacity=\"0.7\"></path><path aria-label=\"x: 1.22950509843; y: 2.66604088191\" role=\"graphics-symbol\" aria-roledescription=\"circle\" transform=\"translate(111.22315536044252,83.34897795231603)\" d=\"M2.7386127875258306,0A2.7386127875258306,2.7386127875258306,0,1,1,-2.7386127875258306,0A2.7386127875258306,2.7386127875258306,0,1,1,2.7386127875258306,0\" fill=\"#4c78a8\" stroke-width=\"2\" opacity=\"0.7\"></path><path aria-label=\"x: -2.33632568545; y: 0.246066167287\" role=\"graphics-symbol\" aria-roledescription=\"circle\" transform=\"translate(56.36422022380653,143.8483458178208)\" d=\"M2.7386127875258306,0A2.7386127875258306,2.7386127875258306,0,1,1,-2.7386127875258306,0A2.7386127875258306,2.7386127875258306,0,1,1,2.7386127875258306,0\" fill=\"#4c78a8\" stroke-width=\"2\" opacity=\"0.7\"></path><path aria-label=\"x: 0.557301972175; y: 0.542586007575\" role=\"graphics-symbol\" aria-roledescription=\"circle\" transform=\"translate(100.88156880268757,136.43534981063368)\" d=\"M2.7386127875258306,0A2.7386127875258306,2.7386127875258306,0,1,1,-2.7386127875258306,0A2.7386127875258306,2.7386127875258306,0,1,1,2.7386127875258306,0\" fill=\"#4c78a8\" stroke-width=\"2\" opacity=\"0.7\"></path><path aria-label=\"x: 3.71948215354; y: 5.52649871995\" role=\"graphics-symbol\" aria-roledescription=\"circle\" transform=\"translate(149.53049466989134,11.83753200122666)\" d=\"M2.7386127875258306,0A2.7386127875258306,2.7386127875258306,0,1,1,-2.7386127875258306,0A2.7386127875258306,2.7386127875258306,0,1,1,2.7386127875258306,0\" fill=\"#4c78a8\" stroke-width=\"2\" opacity=\"0.7\"></path><path aria-label=\"x: 0.842154676907; y: 2.74245433012\" role=\"graphics-symbol\" aria-roledescription=\"circle\" transform=\"translate(105.2639181062547,81.43864174705753)\" d=\"M2.7386127875258306,0A2.7386127875258306,2.7386127875258306,0,1,1,-2.7386127875258306,0A2.7386127875258306,2.7386127875258306,0,1,1,2.7386127875258306,0\" fill=\"#4c78a8\" stroke-width=\"2\" opacity=\"0.7\"></path><path aria-label=\"x: -1.07901932841; y: -0.0051912241931\" role=\"graphics-symbol\" aria-roledescription=\"circle\" transform=\"translate(75.70739494755834,150.12978060482743)\" d=\"M2.7386127875258306,0A2.7386127875258306,2.7386127875258306,0,1,1,-2.7386127875258306,0A2.7386127875258306,2.7386127875258306,0,1,1,2.7386127875258306,0\" fill=\"#4c78a8\" stroke-width=\"2\" opacity=\"0.7\"></path><path aria-label=\"x: -0.122071193099; y: 2.07250154118\" role=\"graphics-symbol\" aria-roledescription=\"circle\" transform=\"translate(90.4296739523193,98.18746147052089)\" d=\"M2.7386127875258306,0A2.7386127875258306,2.7386127875258306,0,1,1,-2.7386127875258306,0A2.7386127875258306,2.7386127875258306,0,1,1,2.7386127875258306,0\" fill=\"#4c78a8\" stroke-width=\"2\" opacity=\"0.7\"></path><path aria-label=\"x: 2.23295393237; y: 2.98032026441\" role=\"graphics-symbol\" aria-roledescription=\"circle\" transform=\"translate(126.6608297288381,75.49199338980492)\" d=\"M2.7386127875258306,0A2.7386127875258306,2.7386127875258306,0,1,1,-2.7386127875258306,0A2.7386127875258306,2.7386127875258306,0,1,1,2.7386127875258306,0\" fill=\"#4c78a8\" stroke-width=\"2\" opacity=\"0.7\"></path><path aria-label=\"x: 0.79852898591; y: 2.46713688854\" role=\"graphics-symbol\" aria-roledescription=\"circle\" transform=\"translate(104.59275362937943,88.321577786389)\" d=\"M2.7386127875258306,0A2.7386127875258306,2.7386127875258306,0,1,1,-2.7386127875258306,0A2.7386127875258306,2.7386127875258306,0,1,1,2.7386127875258306,0\" fill=\"#4c78a8\" stroke-width=\"2\" opacity=\"0.7\"></path><path aria-label=\"x: 0.744570994072; y: 2.3610009593\" role=\"graphics-symbol\" aria-roledescription=\"circle\" transform=\"translate(103.76263067803038,90.97497601757418)\" d=\"M2.7386127875258306,0A2.7386127875258306,2.7386127875258306,0,1,1,-2.7386127875258306,0A2.7386127875258306,2.7386127875258306,0,1,1,2.7386127875258306,0\" fill=\"#4c78a8\" stroke-width=\"2\" opacity=\"0.7\"></path><path aria-label=\"x: -0.0687691556184; y: -1.04157800983\" role=\"graphics-symbol\" aria-roledescription=\"circle\" transform=\"translate(91.24970529817816,176.03945024577476)\" d=\"M2.7386127875258306,0A2.7386127875258306,2.7386127875258306,0,1,1,-2.7386127875258306,0A2.7386127875258306,2.7386127875258306,0,1,1,2.7386127875258306,0\" fill=\"#4c78a8\" stroke-width=\"2\" opacity=\"0.7\"></path><path aria-label=\"x: -1.71172760087; y: 0.669312246683\" role=\"graphics-symbol\" aria-roledescription=\"circle\" transform=\"translate(65.97342152507206,133.26719383293414)\" d=\"M2.7386127875258306,0A2.7386127875258306,2.7386127875258306,0,1,1,-2.7386127875258306,0A2.7386127875258306,2.7386127875258306,0,1,1,2.7386127875258306,0\" fill=\"#4c78a8\" stroke-width=\"2\" opacity=\"0.7\"></path><path aria-label=\"x: -2.08610889848; y: -0.292253884292\" role=\"graphics-symbol\" aria-roledescription=\"circle\" transform=\"translate(60.21370925419024,157.30634710729552)\" d=\"M2.7386127875258306,0A2.7386127875258306,2.7386127875258306,0,1,1,-2.7386127875258306,0A2.7386127875258306,2.7386127875258306,0,1,1,2.7386127875258306,0\" fill=\"#4c78a8\" stroke-width=\"2\" opacity=\"0.7\"></path><path aria-label=\"x: -0.989764004831; y: -0.999798942119\" role=\"graphics-symbol\" aria-roledescription=\"circle\" transform=\"translate(77.08055377183598,174.9949735529699)\" d=\"M2.7386127875258306,0A2.7386127875258306,2.7386127875258306,0,1,1,-2.7386127875258306,0A2.7386127875258306,2.7386127875258306,0,1,1,2.7386127875258306,0\" fill=\"#4c78a8\" stroke-width=\"2\" opacity=\"0.7\"></path><path aria-label=\"x: -0.212804887794; y: 0.451053657912\" role=\"graphics-symbol\" aria-roledescription=\"circle\" transform=\"translate(89.03377095701134,138.72365855219746)\" d=\"M2.7386127875258306,0A2.7386127875258306,2.7386127875258306,0,1,1,-2.7386127875258306,0A2.7386127875258306,2.7386127875258306,0,1,1,2.7386127875258306,0\" fill=\"#4c78a8\" stroke-width=\"2\" opacity=\"0.7\"></path><path aria-label=\"x: 0.667761813982; y: 3.15020016868\" role=\"graphics-symbol\" aria-roledescription=\"circle\" transform=\"translate(102.58095098434472,71.24499578291004)\" d=\"M2.7386127875258306,0A2.7386127875258306,2.7386127875258306,0,1,1,-2.7386127875258306,0A2.7386127875258306,2.7386127875258306,0,1,1,2.7386127875258306,0\" fill=\"#4c78a8\" stroke-width=\"2\" opacity=\"0.7\"></path><path aria-label=\"x: 1.17910314545; y: 0.873977681558\" role=\"graphics-symbol\" aria-roledescription=\"circle\" transform=\"translate(110.44774069917791,128.15055796104556)\" d=\"M2.7386127875258306,0A2.7386127875258306,2.7386127875258306,0,1,1,-2.7386127875258306,0A2.7386127875258306,2.7386127875258306,0,1,1,2.7386127875258306,0\" fill=\"#4c78a8\" stroke-width=\"2\" opacity=\"0.7\"></path><path aria-label=\"x: -0.519192486577; y: 0.605291905002\" role=\"graphics-symbol\" aria-roledescription=\"circle\" transform=\"translate(84.32011559112156,134.8677023749444)\" d=\"M2.7386127875258306,0A2.7386127875258306,2.7386127875258306,0,1,1,-2.7386127875258306,0A2.7386127875258306,2.7386127875258306,0,1,1,2.7386127875258306,0\" fill=\"#4c78a8\" stroke-width=\"2\" opacity=\"0.7\"></path><path aria-label=\"x: 1.26170492355; y: 3.68254175747\" role=\"graphics-symbol\" aria-roledescription=\"circle\" transform=\"translate(111.71853728537901,57.93645606337494)\" d=\"M2.7386127875258306,0A2.7386127875258306,2.7386127875258306,0,1,1,-2.7386127875258306,0A2.7386127875258306,2.7386127875258306,0,1,1,2.7386127875258306,0\" fill=\"#4c78a8\" stroke-width=\"2\" opacity=\"0.7\"></path><path aria-label=\"x: 1.18204340732; y: 2.55952034959\" role=\"graphics-symbol\" aria-roledescription=\"circle\" transform=\"translate(110.49297549718628,86.01199126030448)\" d=\"M2.7386127875258306,0A2.7386127875258306,2.7386127875258306,0,1,1,-2.7386127875258306,0A2.7386127875258306,2.7386127875258306,0,1,1,2.7386127875258306,0\" fill=\"#4c78a8\" stroke-width=\"2\" opacity=\"0.7\"></path><path aria-label=\"x: -0.991346351991; y: -0.687420962077\" role=\"graphics-symbol\" aria-roledescription=\"circle\" transform=\"translate(77.05620996937026,167.18552405193154)\" d=\"M2.7386127875258306,0A2.7386127875258306,2.7386127875258306,0,1,1,-2.7386127875258306,0A2.7386127875258306,2.7386127875258306,0,1,1,2.7386127875258306,0\" fill=\"#4c78a8\" stroke-width=\"2\" opacity=\"0.7\"></path><path aria-label=\"x: 3.39239747402; y: 1.51010256597\" role=\"graphics-symbol\" aria-roledescription=\"circle\" transform=\"translate(144.49842267729773,112.24743585074486)\" d=\"M2.7386127875258306,0A2.7386127875258306,2.7386127875258306,0,1,1,-2.7386127875258306,0A2.7386127875258306,2.7386127875258306,0,1,1,2.7386127875258306,0\" fill=\"#4c78a8\" stroke-width=\"2\" opacity=\"0.7\"></path><path aria-label=\"x: -1.06057945552; y: 1.53516744578\" role=\"graphics-symbol\" aria-roledescription=\"circle\" transform=\"translate(75.99108529972636,111.62081385552929)\" d=\"M2.7386127875258306,0A2.7386127875258306,2.7386127875258306,0,1,1,-2.7386127875258306,0A2.7386127875258306,2.7386127875258306,0,1,1,2.7386127875258306,0\" fill=\"#4c78a8\" stroke-width=\"2\" opacity=\"0.7\"></path><path aria-label=\"x: 2.62120751538; y: 3.1708994859\" role=\"graphics-symbol\" aria-roledescription=\"circle\" transform=\"translate(132.63396177502923,70.72751285246079)\" d=\"M2.7386127875258306,0A2.7386127875258306,2.7386127875258306,0,1,1,-2.7386127875258306,0A2.7386127875258306,2.7386127875258306,0,1,1,2.7386127875258306,0\" fill=\"#4c78a8\" stroke-width=\"2\" opacity=\"0.7\"></path><path aria-label=\"x: -2.40508723503; y: 0.262559585363\" role=\"graphics-symbol\" aria-roledescription=\"circle\" transform=\"translate(55.30635023026416,143.43601036593236)\" d=\"M2.7386127875258306,0A2.7386127875258306,2.7386127875258306,0,1,1,-2.7386127875258306,0A2.7386127875258306,2.7386127875258306,0,1,1,2.7386127875258306,0\" fill=\"#4c78a8\" stroke-width=\"2\" opacity=\"0.7\"></path><path aria-label=\"x: 3.60665368401; y: 2.28615232042\" role=\"graphics-symbol\" aria-roledescription=\"circle\" transform=\"translate(147.79467206163716,92.84619198946966)\" d=\"M2.7386127875258306,0A2.7386127875258306,2.7386127875258306,0,1,1,-2.7386127875258306,0A2.7386127875258306,2.7386127875258306,0,1,1,2.7386127875258306,0\" fill=\"#4c78a8\" stroke-width=\"2\" opacity=\"0.7\"></path><path aria-label=\"x: 0.880538106441; y: 2.47641645157\" role=\"graphics-symbol\" aria-roledescription=\"circle\" transform=\"translate(105.85443240679035,88.08958871073082)\" d=\"M2.7386127875258306,0A2.7386127875258306,2.7386127875258306,0,1,1,-2.7386127875258306,0A2.7386127875258306,2.7386127875258306,0,1,1,2.7386127875258306,0\" fill=\"#4c78a8\" stroke-width=\"2\" opacity=\"0.7\"></path><path aria-label=\"x: 3.23289549713; y: 1.93239672949\" role=\"graphics-symbol\" aria-roledescription=\"circle\" transform=\"translate(142.04454610961847,101.69008176279965)\" d=\"M2.7386127875258306,0A2.7386127875258306,2.7386127875258306,0,1,1,-2.7386127875258306,0A2.7386127875258306,2.7386127875258306,0,1,1,2.7386127875258306,0\" fill=\"#4c78a8\" stroke-width=\"2\" opacity=\"0.7\"></path><path aria-label=\"x: -3.2463805732; y: -1.47341765751\" role=\"graphics-symbol\" aria-roledescription=\"circle\" transform=\"translate(42.36337579688287,186.8354414378309)\" d=\"M2.7386127875258306,0A2.7386127875258306,2.7386127875258306,0,1,1,-2.7386127875258306,0A2.7386127875258306,2.7386127875258306,0,1,1,2.7386127875258306,0\" fill=\"#4c78a8\" stroke-width=\"2\" opacity=\"0.7\"></path><path aria-label=\"x: 2.32796286025; y: 4.42527992289\" role=\"graphics-symbol\" aria-roledescription=\"circle\" transform=\"translate(128.12250554233617,39.36800192780736)\" d=\"M2.7386127875258306,0A2.7386127875258306,2.7386127875258306,0,1,1,-2.7386127875258306,0A2.7386127875258306,2.7386127875258306,0,1,1,2.7386127875258306,0\" fill=\"#4c78a8\" stroke-width=\"2\" opacity=\"0.7\"></path><path aria-label=\"x: 5.22476604853; y: 4.78634906129\" role=\"graphics-symbol\" aria-roledescription=\"circle\" transform=\"translate(172.68870843892125,30.341273467847742)\" d=\"M2.7386127875258306,0A2.7386127875258306,2.7386127875258306,0,1,1,-2.7386127875258306,0A2.7386127875258306,2.7386127875258306,0,1,1,2.7386127875258306,0\" fill=\"#4c78a8\" stroke-width=\"2\" opacity=\"0.7\"></path><path aria-label=\"x: 2.84890334512; y: 3.67485845859\" role=\"graphics-symbol\" aria-roledescription=\"circle\" transform=\"translate(136.1369745402549,58.128538535170904)\" d=\"M2.7386127875258306,0A2.7386127875258306,2.7386127875258306,0,1,1,-2.7386127875258306,0A2.7386127875258306,2.7386127875258306,0,1,1,2.7386127875258306,0\" fill=\"#4c78a8\" stroke-width=\"2\" opacity=\"0.7\"></path><path aria-label=\"x: 0.151044995829; y: -0.398938370109\" role=\"graphics-symbol\" aria-roledescription=\"circle\" transform=\"translate(94.63146147429812,159.97345925272856)\" d=\"M2.7386127875258306,0A2.7386127875258306,2.7386127875258306,0,1,1,-2.7386127875258306,0A2.7386127875258306,2.7386127875258306,0,1,1,2.7386127875258306,0\" fill=\"#4c78a8\" stroke-width=\"2\" opacity=\"0.7\"></path><path aria-label=\"x: 0.953461912755; y: 2.31075750328\" role=\"graphics-symbol\" aria-roledescription=\"circle\" transform=\"translate(106.97633711931456,92.23106241800862)\" d=\"M2.7386127875258306,0A2.7386127875258306,2.7386127875258306,0,1,1,-2.7386127875258306,0A2.7386127875258306,2.7386127875258306,0,1,1,2.7386127875258306,0\" fill=\"#4c78a8\" stroke-width=\"2\" opacity=\"0.7\"></path><path aria-label=\"x: 3.43342137002; y: 4.65872457096\" role=\"graphics-symbol\" aria-roledescription=\"circle\" transform=\"translate(145.1295595388339,33.53188572599266)\" d=\"M2.7386127875258306,0A2.7386127875258306,2.7386127875258306,0,1,1,-2.7386127875258306,0A2.7386127875258306,2.7386127875258306,0,1,1,2.7386127875258306,0\" fill=\"#4c78a8\" stroke-width=\"2\" opacity=\"0.7\"></path><path aria-label=\"x: 1.05501836335; y: 2.15634929566\" role=\"graphics-symbol\" aria-roledescription=\"circle\" transform=\"translate(108.53874405157677,96.09126760861346)\" d=\"M2.7386127875258306,0A2.7386127875258306,2.7386127875258306,0,1,1,-2.7386127875258306,0A2.7386127875258306,2.7386127875258306,0,1,1,2.7386127875258306,0\" fill=\"#4c78a8\" stroke-width=\"2\" opacity=\"0.7\"></path><path aria-label=\"x: 0.700915297764; y: 2.21012161303\" role=\"graphics-symbol\" aria-roledescription=\"circle\" transform=\"translate(103.09100458098752,94.74695967414443)\" d=\"M2.7386127875258306,0A2.7386127875258306,2.7386127875258306,0,1,1,-2.7386127875258306,0A2.7386127875258306,2.7386127875258306,0,1,1,2.7386127875258306,0\" fill=\"#4c78a8\" stroke-width=\"2\" opacity=\"0.7\"></path><path aria-label=\"x: 0.3716212003; y: 2.91064024091\" role=\"graphics-symbol\" aria-roledescription=\"circle\" transform=\"translate(98.02494154307844,77.2339939772781)\" d=\"M2.7386127875258306,0A2.7386127875258306,2.7386127875258306,0,1,1,-2.7386127875258306,0A2.7386127875258306,2.7386127875258306,0,1,1,2.7386127875258306,0\" fill=\"#4c78a8\" stroke-width=\"2\" opacity=\"0.7\"></path><path aria-label=\"x: 0.147518091154; y: 1.92571079075\" role=\"graphics-symbol\" aria-roledescription=\"circle\" transform=\"translate(94.57720140236586,101.85723023117046)\" d=\"M2.7386127875258306,0A2.7386127875258306,2.7386127875258306,0,1,1,-2.7386127875258306,0A2.7386127875258306,2.7386127875258306,0,1,1,2.7386127875258306,0\" fill=\"#4c78a8\" stroke-width=\"2\" opacity=\"0.7\"></path><path aria-label=\"x: -1.35430845597; y: 0.788641995573\" role=\"graphics-symbol\" aria-roledescription=\"circle\" transform=\"translate(71.47217760042265,130.2839501106862)\" d=\"M2.7386127875258306,0A2.7386127875258306,2.7386127875258306,0,1,1,-2.7386127875258306,0A2.7386127875258306,2.7386127875258306,0,1,1,2.7386127875258306,0\" fill=\"#4c78a8\" stroke-width=\"2\" opacity=\"0.7\"></path><path aria-label=\"x: 1.94555074392; y: 2.68580825561\" role=\"graphics-symbol\" aria-roledescription=\"circle\" transform=\"translate(122.23924221410827,82.8547936097828)\" d=\"M2.7386127875258306,0A2.7386127875258306,2.7386127875258306,0,1,1,-2.7386127875258306,0A2.7386127875258306,2.7386127875258306,0,1,1,2.7386127875258306,0\" fill=\"#4c78a8\" stroke-width=\"2\" opacity=\"0.7\"></path><path aria-label=\"x: 3.62934619131; y: 4.92485661133\" role=\"graphics-symbol\" aria-roledescription=\"circle\" transform=\"translate(148.14378755864809,26.878584716799956)\" d=\"M2.7386127875258306,0A2.7386127875258306,2.7386127875258306,0,1,1,-2.7386127875258306,0A2.7386127875258306,2.7386127875258306,0,1,1,2.7386127875258306,0\" fill=\"#4c78a8\" stroke-width=\"2\" opacity=\"0.7\"></path><path aria-label=\"x: 1.66353747328; y: 1.56959683245\" role=\"graphics-symbol\" aria-roledescription=\"circle\" transform=\"translate(117.90057651194026,110.76007918866591)\" d=\"M2.7386127875258306,0A2.7386127875258306,2.7386127875258306,0,1,1,-2.7386127875258306,0A2.7386127875258306,2.7386127875258306,0,1,1,2.7386127875258306,0\" fill=\"#4c78a8\" stroke-width=\"2\" opacity=\"0.7\"></path><path aria-label=\"x: 0.294987617656; y: 2.81207750795\" role=\"graphics-symbol\" aria-roledescription=\"circle\" transform=\"translate(96.8459633485549,79.69806230135336)\" d=\"M2.7386127875258306,0A2.7386127875258306,2.7386127875258306,0,1,1,-2.7386127875258306,0A2.7386127875258306,2.7386127875258306,0,1,1,2.7386127875258306,0\" fill=\"#4c78a8\" stroke-width=\"2\" opacity=\"0.7\"></path><path aria-label=\"x: -5.11462095977; y: -0.742461599344\" role=\"graphics-symbol\" aria-roledescription=\"circle\" transform=\"translate(13.621216003475936,168.56153998358917)\" d=\"M2.7386127875258306,0A2.7386127875258306,2.7386127875258306,0,1,1,-2.7386127875258306,0A2.7386127875258306,2.7386127875258306,0,1,1,2.7386127875258306,0\" fill=\"#4c78a8\" stroke-width=\"2\" opacity=\"0.7\"></path><path aria-label=\"x: 1.32353166011; y: 1.50768392207\" role=\"graphics-symbol\" aria-roledescription=\"circle\" transform=\"translate(112.6697178478739,112.30790194813571)\" d=\"M2.7386127875258306,0A2.7386127875258306,2.7386127875258306,0,1,1,-2.7386127875258306,0A2.7386127875258306,2.7386127875258306,0,1,1,2.7386127875258306,0\" fill=\"#4c78a8\" stroke-width=\"2\" opacity=\"0.7\"></path><path aria-label=\"x: 1.55503492556; y: 2.88006831225\" role=\"graphics-symbol\" aria-roledescription=\"circle\" transform=\"translate(116.2313065471452,77.9982921937703)\" d=\"M2.7386127875258306,0A2.7386127875258306,2.7386127875258306,0,1,1,-2.7386127875258306,0A2.7386127875258306,2.7386127875258306,0,1,1,2.7386127875258306,0\" fill=\"#4c78a8\" stroke-width=\"2\" opacity=\"0.7\"></path><path aria-label=\"x: 0.9466453373; y: 1.58514147543\" role=\"graphics-symbol\" aria-roledescription=\"circle\" transform=\"translate(106.87146672769914,110.371463114261)\" d=\"M2.7386127875258306,0A2.7386127875258306,2.7386127875258306,0,1,1,-2.7386127875258306,0A2.7386127875258306,2.7386127875258306,0,1,1,2.7386127875258306,0\" fill=\"#4c78a8\" stroke-width=\"2\" opacity=\"0.7\"></path><path aria-label=\"x: -1.36725611391; y: -1.67249487562\" role=\"graphics-symbol\" aria-roledescription=\"circle\" transform=\"translate(71.27298286285429,191.81237189049992)\" d=\"M2.7386127875258306,0A2.7386127875258306,2.7386127875258306,0,1,1,-2.7386127875258306,0A2.7386127875258306,2.7386127875258306,0,1,1,2.7386127875258306,0\" fill=\"#4c78a8\" stroke-width=\"2\" opacity=\"0.7\"></path><path aria-label=\"x: 1.58202480939; y: 2.15186734336\" role=\"graphics-symbol\" aria-roledescription=\"circle\" transform=\"translate(116.64653552908773,96.20331641602687)\" d=\"M2.7386127875258306,0A2.7386127875258306,2.7386127875258306,0,1,1,-2.7386127875258306,0A2.7386127875258306,2.7386127875258306,0,1,1,2.7386127875258306,0\" fill=\"#4c78a8\" stroke-width=\"2\" opacity=\"0.7\"></path><path aria-label=\"x: 1.0629783987; y: 1.71746581244\" role=\"graphics-symbol\" aria-roledescription=\"circle\" transform=\"translate(108.66120613388136,107.0633546890058)\" d=\"M2.7386127875258306,0A2.7386127875258306,2.7386127875258306,0,1,1,-2.7386127875258306,0A2.7386127875258306,2.7386127875258306,0,1,1,2.7386127875258306,0\" fill=\"#4c78a8\" stroke-width=\"2\" opacity=\"0.7\"></path><path aria-label=\"x: 0.42713048697; y: 1.92342071287\" role=\"graphics-symbol\" aria-roledescription=\"circle\" transform=\"translate(98.87893056876817,101.91448217832277)\" d=\"M2.7386127875258306,0A2.7386127875258306,2.7386127875258306,0,1,1,-2.7386127875258306,0A2.7386127875258306,2.7386127875258306,0,1,1,2.7386127875258306,0\" fill=\"#4c78a8\" stroke-width=\"2\" opacity=\"0.7\"></path><path aria-label=\"x: -0.460860434757; y: 0.981164280745\" role=\"graphics-symbol\" aria-roledescription=\"circle\" transform=\"translate(85.21753177297634,125.47089298136368)\" d=\"M2.7386127875258306,0A2.7386127875258306,2.7386127875258306,0,1,1,-2.7386127875258306,0A2.7386127875258306,2.7386127875258306,0,1,1,2.7386127875258306,0\" fill=\"#4c78a8\" stroke-width=\"2\" opacity=\"0.7\"></path><path aria-label=\"x: 3.68843916503; y: 4.37766323437\" role=\"graphics-symbol\" aria-roledescription=\"circle\" transform=\"translate(149.05291023125088,40.558419140831916)\" d=\"M2.7386127875258306,0A2.7386127875258306,2.7386127875258306,0,1,1,-2.7386127875258306,0A2.7386127875258306,2.7386127875258306,0,1,1,2.7386127875258306,0\" fill=\"#4c78a8\" stroke-width=\"2\" opacity=\"0.7\"></path><path aria-label=\"x: 0.471259142237; y: 2.0238097642\" role=\"graphics-symbol\" aria-roledescription=\"circle\" transform=\"translate(99.55783295749899,99.4047558950716)\" d=\"M2.7386127875258306,0A2.7386127875258306,2.7386127875258306,0,1,1,-2.7386127875258306,0A2.7386127875258306,2.7386127875258306,0,1,1,2.7386127875258306,0\" fill=\"#4c78a8\" stroke-width=\"2\" opacity=\"0.7\"></path><path aria-label=\"x: 1.37589353181; y: 2.53548423152\" role=\"graphics-symbol\" aria-roledescription=\"circle\" transform=\"translate(113.47528510481905,86.61289421199265)\" d=\"M2.7386127875258306,0A2.7386127875258306,2.7386127875258306,0,1,1,-2.7386127875258306,0A2.7386127875258306,2.7386127875258306,0,1,1,2.7386127875258306,0\" fill=\"#4c78a8\" stroke-width=\"2\" opacity=\"0.7\"></path><path aria-label=\"x: 1.8266031016; y: 3.9757827359\" role=\"graphics-symbol\" aria-roledescription=\"circle\" transform=\"translate(120.40927848615483,50.60543160244144)\" d=\"M2.7386127875258306,0A2.7386127875258306,2.7386127875258306,0,1,1,-2.7386127875258306,0A2.7386127875258306,2.7386127875258306,0,1,1,2.7386127875258306,0\" fill=\"#4c78a8\" stroke-width=\"2\" opacity=\"0.7\"></path><path aria-label=\"x: -1.76519562389; y: -0.217625735245\" role=\"graphics-symbol\" aria-roledescription=\"circle\" transform=\"translate(65.15083655557419,155.4406433811207)\" d=\"M2.7386127875258306,0A2.7386127875258306,2.7386127875258306,0,1,1,-2.7386127875258306,0A2.7386127875258306,2.7386127875258306,0,1,1,2.7386127875258306,0\" fill=\"#4c78a8\" stroke-width=\"2\" opacity=\"0.7\"></path><path aria-label=\"x: 2.34545866811; y: 2.5951228086\" role=\"graphics-symbol\" aria-roledescription=\"circle\" transform=\"translate(128.39167181707046,85.12192978504771)\" d=\"M2.7386127875258306,0A2.7386127875258306,2.7386127875258306,0,1,1,-2.7386127875258306,0A2.7386127875258306,2.7386127875258306,0,1,1,2.7386127875258306,0\" fill=\"#4c78a8\" stroke-width=\"2\" opacity=\"0.7\"></path><path aria-label=\"x: 3.14078984218; y: 3.232770697\" role=\"graphics-symbol\" aria-roledescription=\"circle\" transform=\"translate(140.6275360335387,69.18073257509974)\" d=\"M2.7386127875258306,0A2.7386127875258306,2.7386127875258306,0,1,1,-2.7386127875258306,0A2.7386127875258306,2.7386127875258306,0,1,1,2.7386127875258306,0\" fill=\"#4c78a8\" stroke-width=\"2\" opacity=\"0.7\"></path><path aria-label=\"x: 1.66113464092; y: 3.91793642299\" role=\"graphics-symbol\" aria-roledescription=\"circle\" transform=\"translate(117.8636098602819,52.05158942517025)\" d=\"M2.7386127875258306,0A2.7386127875258306,2.7386127875258306,0,1,1,-2.7386127875258306,0A2.7386127875258306,2.7386127875258306,0,1,1,2.7386127875258306,0\" fill=\"#4c78a8\" stroke-width=\"2\" opacity=\"0.7\"></path><path aria-label=\"x: 0.448337681084; y: 1.1732082056\" role=\"graphics-symbol\" aria-roledescription=\"circle\" transform=\"translate(99.20519509359382,120.66979485988982)\" d=\"M2.7386127875258306,0A2.7386127875258306,2.7386127875258306,0,1,1,-2.7386127875258306,0A2.7386127875258306,2.7386127875258306,0,1,1,2.7386127875258306,0\" fill=\"#4c78a8\" stroke-width=\"2\" opacity=\"0.7\"></path><path aria-label=\"x: -0.30071543612; y: 1.14075082712\" role=\"graphics-symbol\" aria-roledescription=\"circle\" transform=\"translate(87.68130098276293,121.48122932194354)\" d=\"M2.7386127875258306,0A2.7386127875258306,2.7386127875258306,0,1,1,-2.7386127875258306,0A2.7386127875258306,2.7386127875258306,0,1,1,2.7386127875258306,0\" fill=\"#4c78a8\" stroke-width=\"2\" opacity=\"0.7\"></path><path aria-label=\"x: -1.20237096226; y: 0.831385270284\" role=\"graphics-symbol\" aria-roledescription=\"circle\" transform=\"translate(73.80967750375589,129.21536824288805)\" d=\"M2.7386127875258306,0A2.7386127875258306,2.7386127875258306,0,1,1,-2.7386127875258306,0A2.7386127875258306,2.7386127875258306,0,1,1,2.7386127875258306,0\" fill=\"#4c78a8\" stroke-width=\"2\" opacity=\"0.7\"></path><path aria-label=\"x: -2.10825204412; y: -0.267132811962\" role=\"graphics-symbol\" aria-roledescription=\"circle\" transform=\"translate(59.87304547503501,156.67832029905634)\" d=\"M2.7386127875258306,0A2.7386127875258306,2.7386127875258306,0,1,1,-2.7386127875258306,0A2.7386127875258306,2.7386127875258306,0,1,1,2.7386127875258306,0\" fill=\"#4c78a8\" stroke-width=\"2\" opacity=\"0.7\"></path><path aria-label=\"x: 2.18900239285; y: 2.62247454052\" role=\"graphics-symbol\" aria-roledescription=\"circle\" transform=\"translate(125.984652197672,84.43813648694388)\" d=\"M2.7386127875258306,0A2.7386127875258306,2.7386127875258306,0,1,1,-2.7386127875258306,0A2.7386127875258306,2.7386127875258306,0,1,1,2.7386127875258306,0\" fill=\"#4c78a8\" stroke-width=\"2\" opacity=\"0.7\"></path><path aria-label=\"x: 4.08087609811; y: 3.91541227923\" role=\"graphics-symbol\" aria-roledescription=\"circle\" transform=\"translate(155.09040150940018,52.114693019130364)\" d=\"M2.7386127875258306,0A2.7386127875258306,2.7386127875258306,0,1,1,-2.7386127875258306,0A2.7386127875258306,2.7386127875258306,0,1,1,2.7386127875258306,0\" fill=\"#4c78a8\" stroke-width=\"2\" opacity=\"0.7\"></path><path aria-label=\"x: -0.701498594646; y: 1.88142751086\" role=\"graphics-symbol\" aria-roledescription=\"circle\" transform=\"translate(81.51540623621555,102.96431222847356)\" d=\"M2.7386127875258306,0A2.7386127875258306,2.7386127875258306,0,1,1,-2.7386127875258306,0A2.7386127875258306,2.7386127875258306,0,1,1,2.7386127875258306,0\" fill=\"#4c78a8\" stroke-width=\"2\" opacity=\"0.7\"></path><path aria-label=\"x: 1.36971241417; y: 3.82844665347\" role=\"graphics-symbol\" aria-roledescription=\"circle\" transform=\"translate(113.38019098724664,54.28883366320931)\" d=\"M2.7386127875258306,0A2.7386127875258306,2.7386127875258306,0,1,1,-2.7386127875258306,0A2.7386127875258306,2.7386127875258306,0,1,1,2.7386127875258306,0\" fill=\"#4c78a8\" stroke-width=\"2\" opacity=\"0.7\"></path><path aria-label=\"x: 1.47085506399; y: 2.40023212855\" role=\"graphics-symbol\" aria-roledescription=\"circle\" transform=\"translate(114.93623175373675,89.99419678627368)\" d=\"M2.7386127875258306,0A2.7386127875258306,2.7386127875258306,0,1,1,-2.7386127875258306,0A2.7386127875258306,2.7386127875258306,0,1,1,2.7386127875258306,0\" fill=\"#4c78a8\" stroke-width=\"2\" opacity=\"0.7\"></path><path aria-label=\"x: 1.33329325674; y: 2.25384180574\" role=\"graphics-symbol\" aria-roledescription=\"circle\" transform=\"translate(112.81989625756295,93.6539548565344)\" d=\"M2.7386127875258306,0A2.7386127875258306,2.7386127875258306,0,1,1,-2.7386127875258306,0A2.7386127875258306,2.7386127875258306,0,1,1,2.7386127875258306,0\" fill=\"#4c78a8\" stroke-width=\"2\" opacity=\"0.7\"></path><path aria-label=\"x: 1.58232145061; y: 2.52504847559\" role=\"graphics-symbol\" aria-roledescription=\"circle\" transform=\"translate(116.6510992401553,86.87378811026534)\" d=\"M2.7386127875258306,0A2.7386127875258306,2.7386127875258306,0,1,1,-2.7386127875258306,0A2.7386127875258306,2.7386127875258306,0,1,1,2.7386127875258306,0\" fill=\"#4c78a8\" stroke-width=\"2\" opacity=\"0.7\"></path><path aria-label=\"x: 5.21821669398; y: 5.07278112561\" role=\"graphics-symbol\" aria-roledescription=\"circle\" transform=\"translate(172.58794913819827,23.180471859666476)\" d=\"M2.7386127875258306,0A2.7386127875258306,2.7386127875258306,0,1,1,-2.7386127875258306,0A2.7386127875258306,2.7386127875258306,0,1,1,2.7386127875258306,0\" fill=\"#4c78a8\" stroke-width=\"2\" opacity=\"0.7\"></path><path aria-label=\"x: 0.865508494995; y: 2.71193534088\" role=\"graphics-symbol\" aria-roledescription=\"circle\" transform=\"translate(105.62320761531177,82.20161647791828)\" d=\"M2.7386127875258306,0A2.7386127875258306,2.7386127875258306,0,1,1,-2.7386127875258306,0A2.7386127875258306,2.7386127875258306,0,1,1,2.7386127875258306,0\" fill=\"#4c78a8\" stroke-width=\"2\" opacity=\"0.7\"></path><path aria-label=\"x: 0.255531108905; y: 1.77959197575\" role=\"graphics-symbol\" aria-roledescription=\"circle\" transform=\"translate(96.23894013699544,105.51020060625058)\" d=\"M2.7386127875258306,0A2.7386127875258306,2.7386127875258306,0,1,1,-2.7386127875258306,0A2.7386127875258306,2.7386127875258306,0,1,1,2.7386127875258306,0\" fill=\"#4c78a8\" stroke-width=\"2\" opacity=\"0.7\"></path><path aria-label=\"x: -0.317579756581; y: 2.2816608149\" role=\"graphics-symbol\" aria-roledescription=\"circle\" transform=\"translate(87.42184989875894,92.9584796274997)\" d=\"M2.7386127875258306,0A2.7386127875258306,2.7386127875258306,0,1,1,-2.7386127875258306,0A2.7386127875258306,2.7386127875258306,0,1,1,2.7386127875258306,0\" fill=\"#4c78a8\" stroke-width=\"2\" opacity=\"0.7\"></path><path aria-label=\"x: -1.31625100499; y: 0.208164696343\" role=\"graphics-symbol\" aria-roledescription=\"circle\" transform=\"translate(72.05767684624227,144.79588259142733)\" d=\"M2.7386127875258306,0A2.7386127875258306,2.7386127875258306,0,1,1,-2.7386127875258306,0A2.7386127875258306,2.7386127875258306,0,1,1,2.7386127875258306,0\" fill=\"#4c78a8\" stroke-width=\"2\" opacity=\"0.7\"></path><path aria-label=\"x: 0.709971072775; y: 1.04779203366\" role=\"graphics-symbol\" aria-roledescription=\"circle\" transform=\"translate(103.23032419653674,123.80519915853468)\" d=\"M2.7386127875258306,0A2.7386127875258306,2.7386127875258306,0,1,1,-2.7386127875258306,0A2.7386127875258306,2.7386127875258306,0,1,1,2.7386127875258306,0\" fill=\"#4c78a8\" stroke-width=\"2\" opacity=\"0.7\"></path><path aria-label=\"x: 1.11115553873; y: 0.73273921781\" role=\"graphics-symbol\" aria-roledescription=\"circle\" transform=\"translate(109.40239290352429,131.68151955475972)\" d=\"M2.7386127875258306,0A2.7386127875258306,2.7386127875258306,0,1,1,-2.7386127875258306,0A2.7386127875258306,2.7386127875258306,0,1,1,2.7386127875258306,0\" fill=\"#4c78a8\" stroke-width=\"2\" opacity=\"0.7\"></path><path aria-label=\"x: 1.20608551598; y: 2.14083896221\" role=\"graphics-symbol\" aria-roledescription=\"circle\" transform=\"translate(110.86285409201462,96.47902594484168)\" d=\"M2.7386127875258306,0A2.7386127875258306,2.7386127875258306,0,1,1,-2.7386127875258306,0A2.7386127875258306,2.7386127875258306,0,1,1,2.7386127875258306,0\" fill=\"#4c78a8\" stroke-width=\"2\" opacity=\"0.7\"></path><path aria-label=\"x: -0.521193147; y: 1.31623213354\" role=\"graphics-symbol\" aria-roledescription=\"circle\" transform=\"translate(84.28933619999805,117.09419666146049)\" d=\"M2.7386127875258306,0A2.7386127875258306,2.7386127875258306,0,1,1,-2.7386127875258306,0A2.7386127875258306,2.7386127875258306,0,1,1,2.7386127875258306,0\" fill=\"#4c78a8\" stroke-width=\"2\" opacity=\"0.7\"></path><path aria-label=\"x: 1.09582049777; y: 1.14486898403\" role=\"graphics-symbol\" aria-roledescription=\"circle\" transform=\"translate(109.16646919640864,121.37827539924113)\" d=\"M2.7386127875258306,0A2.7386127875258306,2.7386127875258306,0,1,1,-2.7386127875258306,0A2.7386127875258306,2.7386127875258306,0,1,1,2.7386127875258306,0\" fill=\"#4c78a8\" stroke-width=\"2\" opacity=\"0.7\"></path><path aria-label=\"x: -0.803082056066; y: 0.648541322768\" role=\"graphics-symbol\" aria-roledescription=\"circle\" transform=\"translate(79.95258375282882,133.7864669308012)\" d=\"M2.7386127875258306,0A2.7386127875258306,2.7386127875258306,0,1,1,-2.7386127875258306,0A2.7386127875258306,2.7386127875258306,0,1,1,2.7386127875258306,0\" fill=\"#4c78a8\" stroke-width=\"2\" opacity=\"0.7\"></path><path aria-label=\"x: 4.75728603203; y: 3.66779408641\" role=\"graphics-symbol\" aria-roledescription=\"circle\" transform=\"translate(165.49670818508804,58.30514783980334)\" d=\"M2.7386127875258306,0A2.7386127875258306,2.7386127875258306,0,1,1,-2.7386127875258306,0A2.7386127875258306,2.7386127875258306,0,1,1,2.7386127875258306,0\" fill=\"#4c78a8\" stroke-width=\"2\" opacity=\"0.7\"></path><path aria-label=\"x: -0.140103812757; y: 1.21831020553\" role=\"graphics-symbol\" aria-roledescription=\"circle\" transform=\"translate(90.15224903451498,119.542244861628)\" d=\"M2.7386127875258306,0A2.7386127875258306,2.7386127875258306,0,1,1,-2.7386127875258306,0A2.7386127875258306,2.7386127875258306,0,1,1,2.7386127875258306,0\" fill=\"#4c78a8\" stroke-width=\"2\" opacity=\"0.7\"></path><path aria-label=\"x: 0.124785214671; y: 2.42241315266\" role=\"graphics-symbol\" aria-roledescription=\"circle\" transform=\"translate(94.22746484108751,89.43967118358889)\" d=\"M2.7386127875258306,0A2.7386127875258306,2.7386127875258306,0,1,1,-2.7386127875258306,0A2.7386127875258306,2.7386127875258306,0,1,1,2.7386127875258306,0\" fill=\"#4c78a8\" stroke-width=\"2\" opacity=\"0.7\"></path><path aria-label=\"x: 1.61908920551; y: 1.19770269771\" role=\"graphics-symbol\" aria-roledescription=\"circle\" transform=\"translate(117.21675700787473,120.05743255736503)\" d=\"M2.7386127875258306,0A2.7386127875258306,2.7386127875258306,0,1,1,-2.7386127875258306,0A2.7386127875258306,2.7386127875258306,0,1,1,2.7386127875258306,0\" fill=\"#4c78a8\" stroke-width=\"2\" opacity=\"0.7\"></path><path aria-label=\"x: 0.457391618683; y: 1.68736723013\" role=\"graphics-symbol\" aria-roledescription=\"circle\" transform=\"translate(99.34448644127613,107.81581924662895)\" d=\"M2.7386127875258306,0A2.7386127875258306,2.7386127875258306,0,1,1,-2.7386127875258306,0A2.7386127875258306,2.7386127875258306,0,1,1,2.7386127875258306,0\" fill=\"#4c78a8\" stroke-width=\"2\" opacity=\"0.7\"></path><path aria-label=\"x: 2.43151604372; y: 3.05115095405\" role=\"graphics-symbol\" aria-roledescription=\"circle\" transform=\"translate(129.71563144178438,73.72122614864534)\" d=\"M2.7386127875258306,0A2.7386127875258306,2.7386127875258306,0,1,1,-2.7386127875258306,0A2.7386127875258306,2.7386127875258306,0,1,1,2.7386127875258306,0\" fill=\"#4c78a8\" stroke-width=\"2\" opacity=\"0.7\"></path><path aria-label=\"x: 1.01672506811; y: 1.88532172237\" role=\"graphics-symbol\" aria-roledescription=\"circle\" transform=\"translate(107.94961643249144,102.86695694082901)\" d=\"M2.7386127875258306,0A2.7386127875258306,2.7386127875258306,0,1,1,-2.7386127875258306,0A2.7386127875258306,2.7386127875258306,0,1,1,2.7386127875258306,0\" fill=\"#4c78a8\" stroke-width=\"2\" opacity=\"0.7\"></path><path aria-label=\"x: 3.95541656643; y: 4.77857072417\" role=\"graphics-symbol\" aria-roledescription=\"circle\" transform=\"translate(153.1602548681317,30.535731895691143)\" d=\"M2.7386127875258306,0A2.7386127875258306,2.7386127875258306,0,1,1,-2.7386127875258306,0A2.7386127875258306,2.7386127875258306,0,1,1,2.7386127875258306,0\" fill=\"#4c78a8\" stroke-width=\"2\" opacity=\"0.7\"></path><path aria-label=\"x: -2.81544129582; y: -1.00973361665\" role=\"graphics-symbol\" aria-roledescription=\"circle\" transform=\"translate(48.99321083353057,175.2433404162058)\" d=\"M2.7386127875258306,0A2.7386127875258306,2.7386127875258306,0,1,1,-2.7386127875258306,0A2.7386127875258306,2.7386127875258306,0,1,1,2.7386127875258306,0\" fill=\"#4c78a8\" stroke-width=\"2\" opacity=\"0.7\"></path><path aria-label=\"x: 0.345536092242; y: 2.51196043761\" role=\"graphics-symbol\" aria-roledescription=\"circle\" transform=\"translate(97.62363218834221,87.2009890598612)\" d=\"M2.7386127875258306,0A2.7386127875258306,2.7386127875258306,0,1,1,-2.7386127875258306,0A2.7386127875258306,2.7386127875258306,0,1,1,2.7386127875258306,0\" fill=\"#4c78a8\" stroke-width=\"2\" opacity=\"0.7\"></path><path aria-label=\"x: -2.86766933232; y: -0.348522201126\" role=\"graphics-symbol\" aria-roledescription=\"circle\" transform=\"translate(48.18970257962928,158.71305502814982)\" d=\"M2.7386127875258306,0A2.7386127875258306,2.7386127875258306,0,1,1,-2.7386127875258306,0A2.7386127875258306,2.7386127875258306,0,1,1,2.7386127875258306,0\" fill=\"#4c78a8\" stroke-width=\"2\" opacity=\"0.7\"></path><path aria-label=\"x: 2.77930960941; y: 3.76484004766\" role=\"graphics-symbol\" aria-roledescription=\"circle\" transform=\"translate(135.06630168325154,55.87899880856697)\" d=\"M2.7386127875258306,0A2.7386127875258306,2.7386127875258306,0,1,1,-2.7386127875258306,0A2.7386127875258306,2.7386127875258306,0,1,1,2.7386127875258306,0\" fill=\"#4c78a8\" stroke-width=\"2\" opacity=\"0.7\"></path><path aria-label=\"x: 0.49418949473; y: 1.88223952864\" role=\"graphics-symbol\" aria-roledescription=\"circle\" transform=\"translate(99.91060761123785,102.9440117838821)\" d=\"M2.7386127875258306,0A2.7386127875258306,2.7386127875258306,0,1,1,-2.7386127875258306,0A2.7386127875258306,2.7386127875258306,0,1,1,2.7386127875258306,0\" fill=\"#4c78a8\" stroke-width=\"2\" opacity=\"0.7\"></path><path aria-label=\"x: 2.86582933997; y: 4.57492955812\" role=\"graphics-symbol\" aria-roledescription=\"circle\" transform=\"translate(136.3973744610872,35.62676104702314)\" d=\"M2.7386127875258306,0A2.7386127875258306,2.7386127875258306,0,1,1,-2.7386127875258306,0A2.7386127875258306,2.7386127875258306,0,1,1,2.7386127875258306,0\" fill=\"#4c78a8\" stroke-width=\"2\" opacity=\"0.7\"></path><path aria-label=\"x: 1.13823402944; y: 0.900090072588\" role=\"graphics-symbol\" aria-roledescription=\"circle\" transform=\"translate(109.81898506833949,127.49774818528945)\" d=\"M2.7386127875258306,0A2.7386127875258306,2.7386127875258306,0,1,1,-2.7386127875258306,0A2.7386127875258306,2.7386127875258306,0,1,1,2.7386127875258306,0\" fill=\"#4c78a8\" stroke-width=\"2\" opacity=\"0.7\"></path><path aria-label=\"x: -0.156832007951; y: 0.49215268468\" role=\"graphics-symbol\" aria-roledescription=\"circle\" transform=\"translate(89.89489218536272,137.6961828830049)\" d=\"M2.7386127875258306,0A2.7386127875258306,2.7386127875258306,0,1,1,-2.7386127875258306,0A2.7386127875258306,2.7386127875258306,0,1,1,2.7386127875258306,0\" fill=\"#4c78a8\" stroke-width=\"2\" opacity=\"0.7\"></path><path aria-label=\"x: 1.17005050156; y: 2.56128924089\" role=\"graphics-symbol\" aria-roledescription=\"circle\" transform=\"translate(110.30846925473936,85.9677689778007)\" d=\"M2.7386127875258306,0A2.7386127875258306,2.7386127875258306,0,1,1,-2.7386127875258306,0A2.7386127875258306,2.7386127875258306,0,1,1,2.7386127875258306,0\" fill=\"#4c78a8\" stroke-width=\"2\" opacity=\"0.7\"></path><path aria-label=\"x: 3.89649184385; y: 3.37410258566\" role=\"graphics-symbol\" aria-roledescription=\"circle\" transform=\"translate(152.25372067464255,65.64743535841279)\" d=\"M2.7386127875258306,0A2.7386127875258306,2.7386127875258306,0,1,1,-2.7386127875258306,0A2.7386127875258306,2.7386127875258306,0,1,1,2.7386127875258306,0\" fill=\"#4c78a8\" stroke-width=\"2\" opacity=\"0.7\"></path><path aria-label=\"x: 1.00292081615; y: 0.338590608379\" role=\"graphics-symbol\" aria-roledescription=\"circle\" transform=\"translate(107.73724332531343,141.53523479053533)\" d=\"M2.7386127875258306,0A2.7386127875258306,2.7386127875258306,0,1,1,-2.7386127875258306,0A2.7386127875258306,2.7386127875258306,0,1,1,2.7386127875258306,0\" fill=\"#4c78a8\" stroke-width=\"2\" opacity=\"0.7\"></path><path aria-label=\"x: 0.169540166256; y: 2.1811134526\" role=\"graphics-symbol\" aria-roledescription=\"circle\" transform=\"translate(94.9160025577908,95.4721636850731)\" d=\"M2.7386127875258306,0A2.7386127875258306,2.7386127875258306,0,1,1,-2.7386127875258306,0A2.7386127875258306,2.7386127875258306,0,1,1,2.7386127875258306,0\" fill=\"#4c78a8\" stroke-width=\"2\" opacity=\"0.7\"></path><path aria-label=\"x: 4.62590436274; y: 3.96972137514\" role=\"graphics-symbol\" aria-roledescription=\"circle\" transform=\"translate(163.47545173439403,50.75696562157121)\" d=\"M2.7386127875258306,0A2.7386127875258306,2.7386127875258306,0,1,1,-2.7386127875258306,0A2.7386127875258306,2.7386127875258306,0,1,1,2.7386127875258306,0\" fill=\"#4c78a8\" stroke-width=\"2\" opacity=\"0.7\"></path><path aria-label=\"x: 0.928417229191; y: 2.00329002689\" role=\"graphics-symbol\" aria-roledescription=\"circle\" transform=\"translate(106.59103429524592,99.91774932777221)\" d=\"M2.7386127875258306,0A2.7386127875258306,2.7386127875258306,0,1,1,-2.7386127875258306,0A2.7386127875258306,2.7386127875258306,0,1,1,2.7386127875258306,0\" fill=\"#4c78a8\" stroke-width=\"2\" opacity=\"0.7\"></path><path aria-label=\"x: 0.383811318112; y: 0.735214181079\" role=\"graphics-symbol\" aria-roledescription=\"circle\" transform=\"translate(98.21248181710364,131.6196454730371)\" d=\"M2.7386127875258306,0A2.7386127875258306,2.7386127875258306,0,1,1,-2.7386127875258306,0A2.7386127875258306,2.7386127875258306,0,1,1,2.7386127875258306,0\" fill=\"#4c78a8\" stroke-width=\"2\" opacity=\"0.7\"></path><path aria-label=\"x: 4.22791650735; y: 3.48845335685\" role=\"graphics-symbol\" aria-roledescription=\"circle\" transform=\"translate(157.35256165148667,62.788666078660206)\" d=\"M2.7386127875258306,0A2.7386127875258306,2.7386127875258306,0,1,1,-2.7386127875258306,0A2.7386127875258306,2.7386127875258306,0,1,1,2.7386127875258306,0\" fill=\"#4c78a8\" stroke-width=\"2\" opacity=\"0.7\"></path><path aria-label=\"x: 2.31635363152; y: 2.73980177814\" role=\"graphics-symbol\" aria-roledescription=\"circle\" transform=\"translate(127.94390202337813,81.50495554647517)\" d=\"M2.7386127875258306,0A2.7386127875258306,2.7386127875258306,0,1,1,-2.7386127875258306,0A2.7386127875258306,2.7386127875258306,0,1,1,2.7386127875258306,0\" fill=\"#4c78a8\" stroke-width=\"2\" opacity=\"0.7\"></path><path aria-label=\"x: -1.67783014061; y: 0.960789412319\" role=\"graphics-symbol\" aria-roledescription=\"circle\" transform=\"translate(66.49492091374451,125.98026469203009)\" d=\"M2.7386127875258306,0A2.7386127875258306,2.7386127875258306,0,1,1,-2.7386127875258306,0A2.7386127875258306,2.7386127875258306,0,1,1,2.7386127875258306,0\" fill=\"#4c78a8\" stroke-width=\"2\" opacity=\"0.7\"></path><path aria-label=\"x: 0.883357618181; y: 1.20363298105\" role=\"graphics-symbol\" aria-roledescription=\"circle\" transform=\"translate(105.89780951047518,119.90917547386515)\" d=\"M2.7386127875258306,0A2.7386127875258306,2.7386127875258306,0,1,1,-2.7386127875258306,0A2.7386127875258306,2.7386127875258306,0,1,1,2.7386127875258306,0\" fill=\"#4c78a8\" stroke-width=\"2\" opacity=\"0.7\"></path><path aria-label=\"x: 2.49688604515; y: 3.388480747\" role=\"graphics-symbol\" aria-roledescription=\"circle\" transform=\"translate(130.7213237714634,65.28798132494364)\" d=\"M2.7386127875258306,0A2.7386127875258306,2.7386127875258306,0,1,1,-2.7386127875258306,0A2.7386127875258306,2.7386127875258306,0,1,1,2.7386127875258306,0\" fill=\"#4c78a8\" stroke-width=\"2\" opacity=\"0.7\"></path><path aria-label=\"x: 0.194553251038; y: 1.14253899743\" role=\"graphics-symbol\" aria-roledescription=\"circle\" transform=\"translate(95.3008192467395,121.43652506426625)\" d=\"M2.7386127875258306,0A2.7386127875258306,2.7386127875258306,0,1,1,-2.7386127875258306,0A2.7386127875258306,2.7386127875258306,0,1,1,2.7386127875258306,0\" fill=\"#4c78a8\" stroke-width=\"2\" opacity=\"0.7\"></path><path aria-label=\"x: 0.630412104945; y: 0.630608975435\" role=\"graphics-symbol\" aria-roledescription=\"circle\" transform=\"translate(102.00634007607047,134.23477561413216)\" d=\"M2.7386127875258306,0A2.7386127875258306,2.7386127875258306,0,1,1,-2.7386127875258306,0A2.7386127875258306,2.7386127875258306,0,1,1,2.7386127875258306,0\" fill=\"#4c78a8\" stroke-width=\"2\" opacity=\"0.7\"></path><path aria-label=\"x: 1.06219937429; y: 2.52857822972\" role=\"graphics-symbol\" aria-roledescription=\"circle\" transform=\"translate(108.64922114287768,86.78554425710745)\" d=\"M2.7386127875258306,0A2.7386127875258306,2.7386127875258306,0,1,1,-2.7386127875258306,0A2.7386127875258306,2.7386127875258306,0,1,1,2.7386127875258306,0\" fill=\"#4c78a8\" stroke-width=\"2\" opacity=\"0.7\"></path><path aria-label=\"x: 0.0871071806261; y: 1.20413330224\" role=\"graphics-symbol\" aria-roledescription=\"circle\" transform=\"translate(93.64780277886271,119.89666744412091)\" d=\"M2.7386127875258306,0A2.7386127875258306,2.7386127875258306,0,1,1,-2.7386127875258306,0A2.7386127875258306,2.7386127875258306,0,1,1,2.7386127875258306,0\" fill=\"#4c78a8\" stroke-width=\"2\" opacity=\"0.7\"></path><path aria-label=\"x: 0.545354370471; y: 2.44012142466\" role=\"graphics-symbol\" aria-roledescription=\"circle\" transform=\"translate(100.69775954570905,88.99696438355993)\" d=\"M2.7386127875258306,0A2.7386127875258306,2.7386127875258306,0,1,1,-2.7386127875258306,0A2.7386127875258306,2.7386127875258306,0,1,1,2.7386127875258306,0\" fill=\"#4c78a8\" stroke-width=\"2\" opacity=\"0.7\"></path><path aria-label=\"x: 2.23506534194; y: 2.63565540375\" role=\"graphics-symbol\" aria-roledescription=\"circle\" transform=\"translate(126.69331295293243,84.108614906265)\" d=\"M2.7386127875258306,0A2.7386127875258306,2.7386127875258306,0,1,1,-2.7386127875258306,0A2.7386127875258306,2.7386127875258306,0,1,1,2.7386127875258306,0\" fill=\"#4c78a8\" stroke-width=\"2\" opacity=\"0.7\"></path><path aria-label=\"x: 0.849783114678; y: 1.72573082542\" role=\"graphics-symbol\" aria-roledescription=\"circle\" transform=\"translate(105.38127868735793,106.8567293645611)\" d=\"M2.7386127875258306,0A2.7386127875258306,2.7386127875258306,0,1,1,-2.7386127875258306,0A2.7386127875258306,2.7386127875258306,0,1,1,2.7386127875258306,0\" fill=\"#4c78a8\" stroke-width=\"2\" opacity=\"0.7\"></path><path aria-label=\"x: 2.28719291189; y: 1.96519372885\" role=\"graphics-symbol\" aria-roledescription=\"circle\" transform=\"translate(127.49527556757796,100.87015677887004)\" d=\"M2.7386127875258306,0A2.7386127875258306,2.7386127875258306,0,1,1,-2.7386127875258306,0A2.7386127875258306,2.7386127875258306,0,1,1,2.7386127875258306,0\" fill=\"#4c78a8\" stroke-width=\"2\" opacity=\"0.7\"></path><path aria-label=\"x: -0.421852731257; y: 1.19386822423\" role=\"graphics-symbol\" aria-roledescription=\"circle\" transform=\"translate(85.81765028835824,120.1532943943528)\" d=\"M2.7386127875258306,0A2.7386127875258306,2.7386127875258306,0,1,1,-2.7386127875258306,0A2.7386127875258306,2.7386127875258306,0,1,1,2.7386127875258306,0\" fill=\"#4c78a8\" stroke-width=\"2\" opacity=\"0.7\"></path><path aria-label=\"x: -0.640572406156; y: 1.04781019843\" role=\"graphics-symbol\" aria-roledescription=\"circle\" transform=\"translate(82.45273221297826,123.8047450391885)\" d=\"M2.7386127875258306,0A2.7386127875258306,2.7386127875258306,0,1,1,-2.7386127875258306,0A2.7386127875258306,2.7386127875258306,0,1,1,2.7386127875258306,0\" fill=\"#4c78a8\" stroke-width=\"2\" opacity=\"0.7\"></path><path aria-label=\"x: -1.35758600592; y: -0.00392072923846\" role=\"graphics-symbol\" aria-roledescription=\"circle\" transform=\"translate(71.42175375512998,150.0980182309615)\" d=\"M2.7386127875258306,0A2.7386127875258306,2.7386127875258306,0,1,1,-2.7386127875258306,0A2.7386127875258306,2.7386127875258306,0,1,1,2.7386127875258306,0\" fill=\"#4c78a8\" stroke-width=\"2\" opacity=\"0.7\"></path><path aria-label=\"x: 1.42854586225; y: 2.51880845652\" role=\"graphics-symbol\" aria-roledescription=\"circle\" transform=\"translate(114.28532095763133,87.02978858710206)\" d=\"M2.7386127875258306,0A2.7386127875258306,2.7386127875258306,0,1,1,-2.7386127875258306,0A2.7386127875258306,2.7386127875258306,0,1,1,2.7386127875258306,0\" fill=\"#4c78a8\" stroke-width=\"2\" opacity=\"0.7\"></path><path aria-label=\"x: 0.863271628663; y: 1.54789223908\" role=\"graphics-symbol\" aria-roledescription=\"circle\" transform=\"translate(105.58879428711545,111.30269402289032)\" d=\"M2.7386127875258306,0A2.7386127875258306,2.7386127875258306,0,1,1,-2.7386127875258306,0A2.7386127875258306,2.7386127875258306,0,1,1,2.7386127875258306,0\" fill=\"#4c78a8\" stroke-width=\"2\" opacity=\"0.7\"></path><path aria-label=\"x: 2.39166029716; y: 1.82585840505\" role=\"graphics-symbol\" aria-roledescription=\"circle\" transform=\"translate(129.10246611017072,104.35353987386955)\" d=\"M2.7386127875258306,0A2.7386127875258306,2.7386127875258306,0,1,1,-2.7386127875258306,0A2.7386127875258306,2.7386127875258306,0,1,1,2.7386127875258306,0\" fill=\"#4c78a8\" stroke-width=\"2\" opacity=\"0.7\"></path><path aria-label=\"x: 1.37362800625; y: 2.36064346097\" role=\"graphics-symbol\" aria-roledescription=\"circle\" transform=\"translate(113.44043086541407,90.9839134758395)\" d=\"M2.7386127875258306,0A2.7386127875258306,2.7386127875258306,0,1,1,-2.7386127875258306,0A2.7386127875258306,2.7386127875258306,0,1,1,2.7386127875258306,0\" fill=\"#4c78a8\" stroke-width=\"2\" opacity=\"0.7\"></path><path aria-label=\"x: 1.38849155409; y: 2.7032141955\" role=\"graphics-symbol\" aria-roledescription=\"circle\" transform=\"translate(113.66910083215798,82.41964511258313)\" d=\"M2.7386127875258306,0A2.7386127875258306,2.7386127875258306,0,1,1,-2.7386127875258306,0A2.7386127875258306,2.7386127875258306,0,1,1,2.7386127875258306,0\" fill=\"#4c78a8\" stroke-width=\"2\" opacity=\"0.7\"></path><path aria-label=\"x: 1.80018964704; y: 1.83950688748\" role=\"graphics-symbol\" aria-roledescription=\"circle\" transform=\"translate(120.00291764678026,104.01232781303193)\" d=\"M2.7386127875258306,0A2.7386127875258306,2.7386127875258306,0,1,1,-2.7386127875258306,0A2.7386127875258306,2.7386127875258306,0,1,1,2.7386127875258306,0\" fill=\"#4c78a8\" stroke-width=\"2\" opacity=\"0.7\"></path><path aria-label=\"x: 3.25598082664; y: 2.80487198834\" role=\"graphics-symbol\" aria-roledescription=\"circle\" transform=\"translate(142.39970502517033,79.87820029142509)\" d=\"M2.7386127875258306,0A2.7386127875258306,2.7386127875258306,0,1,1,-2.7386127875258306,0A2.7386127875258306,2.7386127875258306,0,1,1,2.7386127875258306,0\" fill=\"#4c78a8\" stroke-width=\"2\" opacity=\"0.7\"></path><path aria-label=\"x: 2.45621704833; y: 1.15350088733\" role=\"graphics-symbol\" aria-roledescription=\"circle\" transform=\"translate(130.09564689731727,121.16247781670278)\" d=\"M2.7386127875258306,0A2.7386127875258306,2.7386127875258306,0,1,1,-2.7386127875258306,0A2.7386127875258306,2.7386127875258306,0,1,1,2.7386127875258306,0\" fill=\"#4c78a8\" stroke-width=\"2\" opacity=\"0.7\"></path><path aria-label=\"x: 5.05500379904; y: 4.60904124496\" role=\"graphics-symbol\" aria-roledescription=\"circle\" transform=\"translate(170.0769815236332,34.773968875982206)\" d=\"M2.7386127875258306,0A2.7386127875258306,2.7386127875258306,0,1,1,-2.7386127875258306,0A2.7386127875258306,2.7386127875258306,0,1,1,2.7386127875258306,0\" fill=\"#4c78a8\" stroke-width=\"2\" opacity=\"0.7\"></path><path aria-label=\"x: -1.52074194605; y: 1.31508051655\" role=\"graphics-symbol\" aria-roledescription=\"circle\" transform=\"translate(68.91166236841725,117.12298708618849)\" d=\"M2.7386127875258306,0A2.7386127875258306,2.7386127875258306,0,1,1,-2.7386127875258306,0A2.7386127875258306,2.7386127875258306,0,1,1,2.7386127875258306,0\" fill=\"#4c78a8\" stroke-width=\"2\" opacity=\"0.7\"></path><path aria-label=\"x: -0.641370570088; y: 0.0834086324796\" role=\"graphics-symbol\" aria-roledescription=\"circle\" transform=\"translate(82.44045276788341,147.9147841880089)\" d=\"M2.7386127875258306,0A2.7386127875258306,2.7386127875258306,0,1,1,-2.7386127875258306,0A2.7386127875258306,2.7386127875258306,0,1,1,2.7386127875258306,0\" fill=\"#4c78a8\" stroke-width=\"2\" opacity=\"0.7\"></path><path aria-label=\"x: 0.589888228568; y: 1.44318759749\" role=\"graphics-symbol\" aria-roledescription=\"circle\" transform=\"translate(101.3828958241255,113.9203100628462)\" d=\"M2.7386127875258306,0A2.7386127875258306,2.7386127875258306,0,1,1,-2.7386127875258306,0A2.7386127875258306,2.7386127875258306,0,1,1,2.7386127875258306,0\" fill=\"#4c78a8\" stroke-width=\"2\" opacity=\"0.7\"></path><path aria-label=\"x: -0.80557225445; y: 0.881877249798\" role=\"graphics-symbol\" aria-roledescription=\"circle\" transform=\"translate(79.91427300846397,127.95306875504689)\" d=\"M2.7386127875258306,0A2.7386127875258306,2.7386127875258306,0,1,1,-2.7386127875258306,0A2.7386127875258306,2.7386127875258306,0,1,1,2.7386127875258306,0\" fill=\"#4c78a8\" stroke-width=\"2\" opacity=\"0.7\"></path><path aria-label=\"x: 0.490098876867; y: 1.59967924524\" role=\"graphics-symbol\" aria-roledescription=\"circle\" transform=\"translate(99.84767502872252,110.00801886902379)\" d=\"M2.7386127875258306,0A2.7386127875258306,2.7386127875258306,0,1,1,-2.7386127875258306,0A2.7386127875258306,2.7386127875258306,0,1,1,2.7386127875258306,0\" fill=\"#4c78a8\" stroke-width=\"2\" opacity=\"0.7\"></path><path aria-label=\"x: -0.442835515008; y: 2.47095424635\" role=\"graphics-symbol\" aria-roledescription=\"circle\" transform=\"translate(85.49483823064737,88.2261438412443)\" d=\"M2.7386127875258306,0A2.7386127875258306,2.7386127875258306,0,1,1,-2.7386127875258306,0A2.7386127875258306,2.7386127875258306,0,1,1,2.7386127875258306,0\" fill=\"#4c78a8\" stroke-width=\"2\" opacity=\"0.7\"></path><path aria-label=\"x: 0.351643585551; y: 1.12347994957\" role=\"graphics-symbol\" aria-roledescription=\"circle\" transform=\"translate(97.71759362386769,121.91300126067519)\" d=\"M2.7386127875258306,0A2.7386127875258306,2.7386127875258306,0,1,1,-2.7386127875258306,0A2.7386127875258306,2.7386127875258306,0,1,1,2.7386127875258306,0\" fill=\"#4c78a8\" stroke-width=\"2\" opacity=\"0.7\"></path><path aria-label=\"x: 1.61798566044; y: 1.01646230612\" role=\"graphics-symbol\" aria-roledescription=\"circle\" transform=\"translate(117.19977939141077,124.58844234697757)\" d=\"M2.7386127875258306,0A2.7386127875258306,2.7386127875258306,0,1,1,-2.7386127875258306,0A2.7386127875258306,2.7386127875258306,0,1,1,2.7386127875258306,0\" fill=\"#4c78a8\" stroke-width=\"2\" opacity=\"0.7\"></path><path aria-label=\"x: 0.635288689095; y: 1.34024123644\" role=\"graphics-symbol\" aria-roledescription=\"circle\" transform=\"translate(102.08136444762128,116.49396908908973)\" d=\"M2.7386127875258306,0A2.7386127875258306,2.7386127875258306,0,1,1,-2.7386127875258306,0A2.7386127875258306,2.7386127875258306,0,1,1,2.7386127875258306,0\" fill=\"#4c78a8\" stroke-width=\"2\" opacity=\"0.7\"></path><path aria-label=\"x: 2.15918607068; y: 3.88134716193\" role=\"graphics-symbol\" aria-roledescription=\"circle\" transform=\"translate(125.52593954895168,52.96632095182463)\" d=\"M2.7386127875258306,0A2.7386127875258306,2.7386127875258306,0,1,1,-2.7386127875258306,0A2.7386127875258306,2.7386127875258306,0,1,1,2.7386127875258306,0\" fill=\"#4c78a8\" stroke-width=\"2\" opacity=\"0.7\"></path><path aria-label=\"x: 2.71373069496; y: 3.28443413527\" role=\"graphics-symbol\" aria-roledescription=\"circle\" transform=\"translate(134.05739530713257,67.88914661831431)\" d=\"M2.7386127875258306,0A2.7386127875258306,2.7386127875258306,0,1,1,-2.7386127875258306,0A2.7386127875258306,2.7386127875258306,0,1,1,2.7386127875258306,0\" fill=\"#4c78a8\" stroke-width=\"2\" opacity=\"0.7\"></path><path aria-label=\"x: -0.69953122136; y: 1.37289430722\" role=\"graphics-symbol\" aria-roledescription=\"circle\" transform=\"translate(81.54567351753633,115.67764231951041)\" d=\"M2.7386127875258306,0A2.7386127875258306,2.7386127875258306,0,1,1,-2.7386127875258306,0A2.7386127875258306,2.7386127875258306,0,1,1,2.7386127875258306,0\" fill=\"#4c78a8\" stroke-width=\"2\" opacity=\"0.7\"></path><path aria-label=\"x: 2.07765866408; y: 3.69416759955\" role=\"graphics-symbol\" aria-roledescription=\"circle\" transform=\"translate(124.27167175504843,57.64581001130327)\" d=\"M2.7386127875258306,0A2.7386127875258306,2.7386127875258306,0,1,1,-2.7386127875258306,0A2.7386127875258306,2.7386127875258306,0,1,1,2.7386127875258306,0\" fill=\"#4c78a8\" stroke-width=\"2\" opacity=\"0.7\"></path><path aria-label=\"x: 0.0801007003308; y: 0.793677911697\" role=\"graphics-symbol\" aria-roledescription=\"circle\" transform=\"translate(93.54001077431923,130.15805220756258)\" d=\"M2.7386127875258306,0A2.7386127875258306,2.7386127875258306,0,1,1,-2.7386127875258306,0A2.7386127875258306,2.7386127875258306,0,1,1,2.7386127875258306,0\" fill=\"#4c78a8\" stroke-width=\"2\" opacity=\"0.7\"></path><path aria-label=\"x: 0.817566362928; y: 0.928135578538\" role=\"graphics-symbol\" aria-roledescription=\"circle\" transform=\"translate(104.88563635274295,126.79661053655427)\" d=\"M2.7386127875258306,0A2.7386127875258306,2.7386127875258306,0,1,1,-2.7386127875258306,0A2.7386127875258306,2.7386127875258306,0,1,1,2.7386127875258306,0\" fill=\"#4c78a8\" stroke-width=\"2\" opacity=\"0.7\"></path><path aria-label=\"x: 0.32753053865; y: 0.547864135467\" role=\"graphics-symbol\" aria-roledescription=\"circle\" transform=\"translate(97.3466236715415,136.30339661332172)\" d=\"M2.7386127875258306,0A2.7386127875258306,2.7386127875258306,0,1,1,-2.7386127875258306,0A2.7386127875258306,2.7386127875258306,0,1,1,2.7386127875258306,0\" fill=\"#4c78a8\" stroke-width=\"2\" opacity=\"0.7\"></path><path aria-label=\"x: 0.286614879042; y: 1.7995412122\" role=\"graphics-symbol\" aria-roledescription=\"circle\" transform=\"translate(96.71715198526893,105.01146969498349)\" d=\"M2.7386127875258306,0A2.7386127875258306,2.7386127875258306,0,1,1,-2.7386127875258306,0A2.7386127875258306,2.7386127875258306,0,1,1,2.7386127875258306,0\" fill=\"#4c78a8\" stroke-width=\"2\" opacity=\"0.7\"></path><path aria-label=\"x: 0.389113552143; y: 1.41568054359\" role=\"graphics-symbol\" aria-roledescription=\"circle\" transform=\"translate(98.29405464836078,114.607986410221)\" d=\"M2.7386127875258306,0A2.7386127875258306,2.7386127875258306,0,1,1,-2.7386127875258306,0A2.7386127875258306,2.7386127875258306,0,1,1,2.7386127875258306,0\" fill=\"#4c78a8\" stroke-width=\"2\" opacity=\"0.7\"></path><path aria-label=\"x: 0.58845562412; y: 2.10652478491\" role=\"graphics-symbol\" aria-roledescription=\"circle\" transform=\"translate(101.3608557556938,97.33688037734358)\" d=\"M2.7386127875258306,0A2.7386127875258306,2.7386127875258306,0,1,1,-2.7386127875258306,0A2.7386127875258306,2.7386127875258306,0,1,1,2.7386127875258306,0\" fill=\"#4c78a8\" stroke-width=\"2\" opacity=\"0.7\"></path><path aria-label=\"x: 3.53607405713; y: 4.02352713146\" role=\"graphics-symbol\" aria-roledescription=\"circle\" transform=\"translate(146.7088316481059,49.41182171346243)\" d=\"M2.7386127875258306,0A2.7386127875258306,2.7386127875258306,0,1,1,-2.7386127875258306,0A2.7386127875258306,2.7386127875258306,0,1,1,2.7386127875258306,0\" fill=\"#4c78a8\" stroke-width=\"2\" opacity=\"0.7\"></path><path aria-label=\"x: 0.510268601666; y: 1.41050545949\" role=\"graphics-symbol\" aria-roledescription=\"circle\" transform=\"translate(100.15797848716537,114.73736351279351)\" d=\"M2.7386127875258306,0A2.7386127875258306,2.7386127875258306,0,1,1,-2.7386127875258306,0A2.7386127875258306,2.7386127875258306,0,1,1,2.7386127875258306,0\" fill=\"#4c78a8\" stroke-width=\"2\" opacity=\"0.7\"></path></g></g><path class=\"foreground\" aria-hidden=\"true\" d=\"\" display=\"none\"></path></g></g></g></svg>\n"
      ],
      "text/plain": [
       "@vlplot(\n",
       "    mark=\"circle\",\n",
       "    encoding={\n",
       "        x={\n",
       "            field=\"x\",\n",
       "            type=\"q\"\n",
       "        },\n",
       "        y={\n",
       "            field=\"y\"\n",
       "        }\n",
       "    },\n",
       "    data={\n",
       "        values=...\n",
       "    }\n",
       ")"
      ]
     },
     "execution_count": 55,
     "metadata": {},
     "output_type": "execute_result"
    }
   ],
   "source": [
    "p = @set p.encoding.x.type = :q"
   ]
  },
  {
   "cell_type": "code",
   "execution_count": 241,
   "metadata": {},
   "outputs": [],
   "source": [
    "apply_kwargs_to_plot!(p,width=500)#,height=500)"
   ]
  },
  {
   "cell_type": "code",
   "execution_count": 242,
   "metadata": {},
   "outputs": [],
   "source": [
    "# colors = randn(300)\n",
    "# @set p.encoding.color = \"red\""
   ]
  },
  {
   "cell_type": "code",
   "execution_count": 264,
   "metadata": {},
   "outputs": [
    {
     "data": {
      "application/vnd.vegalite.v4+json": {
       "encoding": {
        "color": {
         "value": "red"
        },
        "x": {
         "field": "x"
        },
        "y": {
         "field": "y"
        }
       },
       "mark": "circle",
       "width": 500
      },
      "image/png": "[encoded data removed]",
      "image/svg+xml": [
       "<?xml version=\"1.0\" encoding=\"utf-8\"?>\n",
       "<!DOCTYPE svg PUBLIC \"-//W3C//DTD SVG 1.1//EN\" \"http://www.w3.org/Graphics/SVG/1.1/DTD/svg11.dtd\">\n",
       "<svg class=\"marks\" width=\"525\" height=\"225\" viewBox=\"0 0 525 225\" version=\"1.1\" xmlns=\"http://www.w3.org/2000/svg\" xmlns:xlink=\"http://www.w3.org/1999/xlink\"><rect width=\"525\" height=\"225\" fill=\"white\"></rect><g fill=\"none\" stroke-miterlimit=\"10\" transform=\"translate(20,5)\"><g class=\"mark-group role-frame root\" role=\"graphics-object\" aria-roledescription=\"group mark container\"><g transform=\"translate(0,0)\"><path class=\"background\" aria-hidden=\"true\" d=\"M0.5,0.5h500v200h-500Z\" stroke=\"#ddd\"></path><g><g class=\"mark-group role-axis\" aria-hidden=\"true\"><g transform=\"translate(0.5,200.5)\"><path class=\"background\" aria-hidden=\"true\" d=\"M0,0h0v0h0Z\" pointer-events=\"none\"></path><g><g class=\"mark-rule role-axis-grid\" pointer-events=\"none\"></g></g><path class=\"foreground\" aria-hidden=\"true\" d=\"\" pointer-events=\"none\" display=\"none\"></path></g></g><g class=\"mark-group role-axis\" aria-hidden=\"true\"><g transform=\"translate(0.5,0.5)\"><path class=\"background\" aria-hidden=\"true\" d=\"M0,0h0v0h0Z\" pointer-events=\"none\"></path><g><g class=\"mark-rule role-axis-grid\" pointer-events=\"none\"></g></g><path class=\"foreground\" aria-hidden=\"true\" d=\"\" pointer-events=\"none\" display=\"none\"></path></g></g><g class=\"mark-group role-axis\" role=\"graphics-symbol\" aria-roledescription=\"axis\" aria-label=\"X-axis titled 'x' for a linear scale with values from NaN to NaN\"><g transform=\"translate(0.5,200.5)\"><path class=\"background\" aria-hidden=\"true\" d=\"M0,0h0v0h0Z\" pointer-events=\"none\"></path><g><g class=\"mark-rule role-axis-tick\" pointer-events=\"none\"></g><g class=\"mark-text role-axis-label\" pointer-events=\"none\"></g><g class=\"mark-rule role-axis-domain\" pointer-events=\"none\"><line transform=\"translate(0,0)\" x2=\"500\" y2=\"0\" stroke=\"#888\" stroke-width=\"1\" opacity=\"1\"></line></g><g class=\"mark-text role-axis-title\" pointer-events=\"none\"><text text-anchor=\"middle\" transform=\"translate(250,13)\" font-family=\"sans-serif\" font-size=\"11px\" font-weight=\"bold\" fill=\"#000\" opacity=\"1\">x</text></g></g><path class=\"foreground\" aria-hidden=\"true\" d=\"\" pointer-events=\"none\" display=\"none\"></path></g></g><g class=\"mark-group role-axis\" role=\"graphics-symbol\" aria-roledescription=\"axis\" aria-label=\"Y-axis titled 'y' for a linear scale with values from NaN to NaN\"><g transform=\"translate(0.5,0.5)\"><path class=\"background\" aria-hidden=\"true\" d=\"M0,0h0v0h0Z\" pointer-events=\"none\"></path><g><g class=\"mark-rule role-axis-tick\" pointer-events=\"none\"></g><g class=\"mark-text role-axis-label\" pointer-events=\"none\"></g><g class=\"mark-rule role-axis-domain\" pointer-events=\"none\"><line transform=\"translate(0,200)\" x2=\"0\" y2=\"-200\" stroke=\"#888\" stroke-width=\"1\" opacity=\"1\"></line></g><g class=\"mark-text role-axis-title\" pointer-events=\"none\"><text text-anchor=\"middle\" transform=\"translate(-4,100) rotate(-90) translate(0,-2)\" font-family=\"sans-serif\" font-size=\"11px\" font-weight=\"bold\" fill=\"#000\" opacity=\"1\">y</text></g></g><path class=\"foreground\" aria-hidden=\"true\" d=\"\" pointer-events=\"none\" display=\"none\"></path></g></g><g class=\"mark-symbol role-mark marks\" role=\"graphics-symbol\" aria-roledescription=\"symbol mark container\"></g></g><path class=\"foreground\" aria-hidden=\"true\" d=\"\" display=\"none\"></path></g></g></g></svg>\n"
      ],
      "text/plain": [
       "@vlplot(\n",
       "    mark=\"circle\",\n",
       "    encoding={\n",
       "        x={\n",
       "            field=\"x\"\n",
       "        },\n",
       "        y={\n",
       "            field=\"y\"\n",
       "        },\n",
       "        color={\n",
       "            value=\"red\"\n",
       "        }\n",
       "    },\n",
       "    width=500\n",
       ")"
      ]
     },
     "execution_count": 264,
     "metadata": {},
     "output_type": "execute_result"
    },
    {
     "name": "stderr",
     "output_type": "stream",
     "text": [
      "WARN Missing type for channel \"x\", using \"quantitative\" instead.\n",
      "WARN Missing type for channel \"y\", using \"quantitative\" instead.\n",
      "WARN Missing type for channel \"x\", using \"quantitative\" instead.\n",
      "WARN Missing type for channel \"y\", using \"quantitative\" instead.\n"
     ]
    }
   ],
   "source": [
    "@vlfrag(:point,:x,:y,data=data).named[\"data\"]\n",
    "deletedata!(p)\n",
    "@vl_str()"
   ]
  },
  {
   "cell_type": "code",
   "execution_count": 262,
   "metadata": {},
   "outputs": [
    {
     "data": {
      "text/plain": [
       "@vlplot(\n",
       "    mark=\"circle\",\n",
       "    encoding={\n",
       "        x={\n",
       "            field=\"x\"\n",
       "        },\n",
       "        y={\n",
       "            field=\"y\"\n",
       "        },\n",
       "        color={\n",
       "            value=\"red\"\n",
       "        }\n",
       "    },\n",
       "    width=500,\n",
       "    data=[\n",
       "        (x = -0.08415501071982812, y = 0.9881520298780699),\n",
       "        (x = 2.5867465041222104, y = 3.6201913494704496),\n",
       "        (x = 2.267780496280009, y = 3.8319673322704135),\n",
       "        (x = 1.4459526088468084, y = 3.626590105923641),\n",
       "        (x = 1.0209254840208026, y = 2.5194497039215067),\n",
       "        (x = -0.4044493161806282, y = 0.01704400755230262),\n",
       "        (x = 1.5499028070599299, y = 3.032051557124073),\n",
       "        (x = 1.5413718444328326, y = 3.1254272641880987),\n",
       "        (x = 2.2640554000184467, y = 3.302836420226024),\n",
       "        (x = -2.4078464486569855, y = -0.29584460979563953),\n",
       "        (x = 2.636414119937017, y = 2.931154939182031),\n",
       "        (x = 3.811155209485936, y = 2.981599182350063),\n",
       "        (x = 1.6130927573091507, y = 2.885520205958849),\n",
       "        (x = -0.780766405396351, y = 2.51209473863297),\n",
       "        (x = -0.056802812733240726, y = 0.8793632931346183),\n",
       "        (x = 0.5000038913577296, y = 0.3224928596132961),\n",
       "        (x = 0.1724104670404918, y = 1.3042122651366612),\n",
       "        (x = 2.14101958551627, y = 2.6240583329798253),\n",
       "        (x = 1.3231379095407547, y = 1.5477156662870444),\n",
       "        (x = 0.4137238034318137, y = 1.0816897376060668),\n",
       "        (x = 2.4307998681092133, y = 3.3888521322891796),\n",
       "        (x = -2.18606673607429, y = 0.674482009347396),\n",
       "        (x = -4.1997546686566345, y = -1.0045667711064685),\n",
       "        (x = -1.080271064242138, y = 1.2193879861891697),\n",
       "        (x = 1.931382034344988, y = 1.8437454324887668),\n",
       "        (x = 0.2212428105769202, y = 1.992642542012459),\n",
       "        (x = 2.184777152654508, y = 1.2796410367662618),\n",
       "        (x = 0.5244778574575737, y = 0.8032744101400933),\n",
       "        (x = 0.10975395916712449, y = 0.8924625712941863),\n",
       "        (x = -2.113482682831805, y = -0.8079888279056711),\n",
       "        (x = 3.0074546948466443, y = 4.182420115006951),\n",
       "        (x = -0.4493330002042242, y = 0.8135444659312778),\n",
       "        (x = 0.639791251141814, y = 1.8223736118340812),\n",
       "        (x = 2.1404805661876596, y = 2.932200302391467),\n",
       "        (x = 4.788901198281197, y = 4.979253162992736),\n",
       "        (x = 3.1069104636340246, y = 3.1880091124029177),\n",
       "        (x = 1.813769042596426, y = 2.1517354696511073),\n",
       "        (x = 1.0069054149792467, y = 2.0566272104677843),\n",
       "        (x = 2.3605378919091415, y = 3.7159257391680662),\n",
       "        (x = -1.344692697768227, y = -1.1946228706148894),\n",
       "        (x = 2.4546381812820766, y = 2.9519416004224603),\n",
       "        (x = 2.2367777436774854, y = 2.8000687633324173),\n",
       "        (x = 2.3130743123211936, y = 2.1359603411691555),\n",
       "        (x = 1.7226066719372046, y = 4.177519299347657),\n",
       "        (x = 1.5602495476577112, y = 1.3789118576608388),\n",
       "        (x = -0.12305646474809273, y = 1.827249666435313),\n",
       "        (x = 2.969779711100035, y = 2.5726687975630385),\n",
       "        (x = 1.7746765206721449, y = 1.1717532967418323),\n",
       "        (x = 1.4377004743259576, y = 2.074690072054576),\n",
       "        (x = 2.2414425325165905, y = 1.5308943654502678),\n",
       "        (x = 3.506343859224803, y = 3.5995751676551686),\n",
       "        (x = 2.484547660975011, y = 3.654234576326137),\n",
       "        (x = 1.7071869607567143, y = 2.113087394309723),\n",
       "        (x = 2.7972680267601433, y = 2.4609885041654707),\n",
       "        (x = 2.2222922413118456, y = 1.5962386786775267),\n",
       "        (x = 2.0210357221678437, y = 3.7381133298785705),\n",
       "        (x = 2.1741565510772123, y = 2.6394729137452444),\n",
       "        (x = 0.49691034843270254, y = 4.2120212158034915),\n",
       "        (x = 1.712404550610934, y = 2.5559581454733262),\n",
       "        (x = 2.7154197843118246, y = 3.5643563583758215),\n",
       "        (x = 0.5467861476448321, y = 1.864414233445203),\n",
       "        (x = 3.39495421963158, y = 3.4882642325179454),\n",
       "        (x = -0.44803170590546126, y = 1.0115790856498985),\n",
       "        (x = -0.2724057429821436, y = -0.2044433653043498),\n",
       "        (x = 2.9675044781770996, y = 2.585587593269879),\n",
       "        (x = 0.6833973424680648, y = -0.31036126094754923),\n",
       "        (x = 1.1639726040047855, y = 0.2920343612396059),\n",
       "        (x = -1.5465751950269722, y = -0.4111211478271053),\n",
       "        (x = -1.1805150097912827, y = 2.2731265872251187),\n",
       "        (x = 1.0855709539842355, y = 2.8765211384427873),\n",
       "        (x = 2.631364644519585, y = 2.617421820103315),\n",
       "        (x = 1.32971302721744, y = 2.4565631553874976),\n",
       "        (x = 2.457352668076903, y = 2.7298060525095877),\n",
       "        (x = 3.2912628258277703, y = 3.2226869975944394),\n",
       "        (x = 4.223751803264149, y = 3.634694512746993),\n",
       "        (x = -1.2422470989312089, y = 0.25741715617664584),\n",
       "        (x = 1.8430153612862255, y = 2.4015283910915333),\n",
       "        (x = 2.5868586729561995, y = 3.8949486244620894),\n",
       "        (x = -0.9130166368939956, y = 0.6020664722921425),\n",
       "        (x = 0.6770038731802314, y = 1.9163900554424347),\n",
       "        (x = -1.4397841070062807, y = 0.2535851341688924),\n",
       "        (x = 0.6413847932867864, y = 3.1380421568019012),\n",
       "        (x = 1.9990458609407984, y = 1.8330772014443577),\n",
       "        (x = -1.0890115465388774, y = -0.32755719968976793),\n",
       "        (x = 3.617042676041876, y = 3.377892157208142),\n",
       "        (x = 1.30927907442455, y = 2.327516817889584),\n",
       "        (x = -1.3727392884600746, y = 0.3910566420879429),\n",
       "        (x = 1.3199141439010442, y = 2.337761820334361),\n",
       "        (x = 1.1420803765159777, y = 1.847225090771672),\n",
       "        (x = 0.5791574763089407, y = 0.783674524898555),\n",
       "        (x = 0.31533039712696265, y = 2.033696158347478),\n",
       "        (x = 0.3887551391303551, y = 2.6838798707457965),\n",
       "        (x = -0.34805597330526195, y = 1.100638898685621),\n",
       "        (x = 5.97552741440282, y = 3.9720572260618026),\n",
       "        (x = 2.221967674627834, y = 2.6388865962010364),\n",
       "        (x = 0.5476528470503506, y = 1.3525437697108904),\n",
       "        (x = 0.2189837502668438, y = 1.4969664753373388),\n",
       "        (x = 2.5049005145205863, y = 2.670031652628925),\n",
       "        (x = 2.9223135847211, y = 1.6531278759087553),\n",
       "        (x = -1.609019451658765, y = 0.8508632979905277),\n",
       "        (x = 2.25009170852877, y = 3.8640619753111975),\n",
       "        (x = 2.5042631581092785, y = 1.377922144857387),\n",
       "        (x = 1.4027628300994017, y = 4.355004085900183),\n",
       "        (x = 2.114457277811381, y = 0.995854907464881),\n",
       "        (x = 1.2851038863189825, y = 2.5914390190021086),\n",
       "        (x = -0.17415095609618225, y = 1.8675800300228187),\n",
       "        (x = -1.7330555098088944, y = 0.0707307495262588),\n",
       "        (x = 1.128853545372979, y = 1.7687142022830484),\n",
       "        (x = -0.21318724574208403, y = -0.3179310811631937),\n",
       "        (x = 0.23963853830959658, y = 2.2308419790188703),\n",
       "        (x = 0.7432793894451544, y = 1.95248936846139),\n",
       "        (x = -0.21677601201073982, y = -0.09119760013949385),\n",
       "        (x = 0.39690860334622247, y = 2.9464325008138896),\n",
       "        (x = 1.5612539766083415, y = 1.834535265988211),\n",
       "        (x = 4.313394772405174, y = 4.705276838035015),\n",
       "        (x = 4.319373344107738, y = 5.3757633700383565),\n",
       "        (x = 2.509948603585083, y = 3.8934833414149046),\n",
       "        (x = 2.402719474752139, y = 3.7116153527750138),\n",
       "        (x = 0.9697772516403222, y = 1.4181605546701017),\n",
       "        (x = 2.1794895414043784, y = 2.857586137544834),\n",
       "        (x = 1.0271940622670632, y = 2.414507838677487),\n",
       "        (x = 0.5765597436263371, y = 1.4762816244199501),\n",
       "        (x = 0.9592797510246965, y = 2.272392711043149),\n",
       "        (x = -2.009415399710112, y = 0.4992570617463534),\n",
       "        (x = 0.6774995917000478, y = 2.0110284858509675),\n",
       "        (x = -1.4390587531616572, y = 2.048736434187626),\n",
       "        (x = 1.454051433364784, y = 1.6709418376214193),\n",
       "        (x = -0.4977521633309665, y = 1.5797120801664222),\n",
       "        (x = 1.6502038061433868, y = 2.9142113342332654),\n",
       "        (x = 0.4955864569358902, y = 0.722875265344185),\n",
       "        (x = 0.5263996298962661, y = 2.4991482539777286),\n",
       "        (x = 1.377473170824982, y = 2.933483545909483),\n",
       "        (x = 0.011464241640529171, y = 2.37796399339072),\n",
       "        (x = 2.59835651635478, y = 3.5453197583993603),\n",
       "        (x = -2.9298531212567935, y = -0.7540166737353946),\n",
       "        (x = -4.0424696495211805, y = -2.511528529279939),\n",
       "        (x = -1.5619711160751657, y = 0.9904669200878307),\n",
       "        (x = 0.6116238757179574, y = 1.0277574914527399),\n",
       "        (x = 1.4972903977921068, y = 3.1547312006515185),\n",
       "        (x = 3.5252333686653956, y = 3.120384286587498),\n",
       "        (x = -1.4652457879991183, y = 0.6681303831486805),\n",
       "        (x = -0.583142903475472, y = 2.1209454169384205),\n",
       "        (x = 0.2141285896030296, y = 1.9766564076592645),\n",
       "        (x = 0.9444582823760961, y = 1.6939191278889654),\n",
       "        (x = 0.9841250099553966, y = 1.170357428301576),\n",
       "        (x = -0.8760341947794974, y = 0.7372085494694114),\n",
       "        (x = 3.0681021096317815, y = 2.803757217992629),\n",
       "        (x = 3.0679310290333546, y = 2.7131504061414673),\n",
       "        (x = 2.8566350268923504, y = 2.853498802996248),\n",
       "        (x = 3.196574587653088, y = 2.797954051417241),\n",
       "        (x = -1.540997221187729, y = 1.1580520476586147),\n",
       "        (x = -0.5546975928594449, y = 1.318670191052782),\n",
       "        (x = -1.4570777711796001, y = -0.262000420211697),\n",
       "        (x = 2.1380828396882787, y = 3.1490857812504074),\n",
       "        (x = 4.489560375746542, y = 3.8281105153789983),\n",
       "        (x = 2.910071969391481, y = 1.8626262777900917),\n",
       "        (x = 3.8666923070037207, y = 3.932040117491729),\n",
       "        (x = -1.6947712165283693, y = 0.5426664099189242),\n",
       "        (x = 0.2921874413533335, y = 1.9441368745275314),\n",
       "        (x = 1.3894273223715652, y = 3.6355028631085675),\n",
       "        (x = 3.154224657318459, y = 3.635779434429148),\n",
       "        (x = -0.7320476059646, y = 0.18861444031590224),\n",
       "        (x = 1.344242769470016, y = 2.6688586393543225),\n",
       "        (x = 3.1325909015463735, y = 3.435362276233511),\n",
       "        (x = 3.0602965667165947, y = 1.9353356089439007),\n",
       "        (x = -0.26106303486182014, y = 0.3597739935367472),\n",
       "        (x = -0.2055487580971771, y = 0.6010222534234084),\n",
       "        (x = 0.3139449342532996, y = 1.8017971794412921),\n",
       "        (x = -0.27577862459886515, y = 1.2866380468402376),\n",
       "        (x = 0.7946799371851166, y = 2.1568209112294396),\n",
       "        (x = 2.334193386050005, y = 3.4890203431299556),\n",
       "        (x = 0.20489033509416843, y = 1.2606864994355655),\n",
       "        (x = 0.7587597627340867, y = 1.1486173673616837),\n",
       "        (x = 5.632206074147653, y = 3.1474861320367493),\n",
       "        (x = 0.6041334047735163, y = 1.560990444200078),\n",
       "        (x = 3.772987778234335, y = 4.918180800204673),\n",
       "        (x = 0.44393519445478435, y = 1.329428497773506),\n",
       "        (x = -0.7316080550255615, y = 0.25054277453994134),\n",
       "        (x = 0.9946092015774812, y = 2.792461964847977),\n",
       "        (x = 0.5871444175892082, y = 1.9607514017970566),\n",
       "        (x = -1.6914437863264262, y = -0.8851307645855724),\n",
       "        (x = -0.7867620211749697, y = 0.8039449302696695),\n",
       "        (x = 0.33872770270911745, y = 2.4786095906627885),\n",
       "        (x = -0.1697057080425053, y = 0.47559031871878066),\n",
       "        (x = 2.7679559084946628, y = 2.967875184289539),\n",
       "        (x = -1.2987148809028324, y = 0.31141542628788854),\n",
       "        (x = 1.2712404572537963, y = 0.9866773429209934),\n",
       "        (x = 0.009712247800507279, y = 3.14739934827316),\n",
       "        (x = -1.2251360323157132, y = 2.168620001010125),\n",
       "        (x = 2.112173271289527, y = 3.3957403531957473),\n",
       "        (x = 1.7731498927695162, y = 2.477378612895074),\n",
       "        (x = 2.091288714247165, y = 1.7297482391930277),\n",
       "        (x = 3.1651141795138233, y = 3.5180687912934565),\n",
       "        (x = -0.931724492719495, y = 1.3841173387348849),\n",
       "        (x = 1.8831538282077152, y = 2.785170118199642),\n",
       "        (x = -1.0027228395667698, y = 1.0937981727844215),\n",
       "        (x = 0.6371692857628615, y = 2.2766655082754714),\n",
       "        (x = 3.076088858583667, y = 4.1688321683989),\n",
       "        (x = -0.28184791280320765, y = 0.7973476905922396),\n",
       "        (x = 2.986759701316579, y = 2.2959666286741904),\n",
       "        (x = 2.8776029852777176, y = 1.8377140503521028),\n",
       "        (x = 1.697940082506156, y = 1.4804983780263283),\n",
       "        (x = 0.01630917832177914, y = 3.0917582154646857),\n",
       "        (x = 2.4811363415780185, y = 0.6648675300756095),\n",
       "        (x = 2.0827236748016498, y = 3.9188527547538614),\n",
       "        (x = 0.5803079958828554, y = 1.7657417798720643),\n",
       "        (x = 1.4338058741601258, y = 1.5610659273504823),\n",
       "        (x = 0.0910078152995819, y = 2.070249933533946),\n",
       "        (x = 0.1633987075928165, y = 2.6052846217081287),\n",
       "        (x = 2.04084270109139, y = 3.96349646715756),\n",
       "        (x = 2.02702752405197, y = 1.8585829998195753),\n",
       "        (x = -1.552774314469028, y = 0.019534845401182332),\n",
       "        (x = 0.9871047587159782, y = 3.195865722434661),\n",
       "        (x = -0.24199077579836992, y = 1.2785513432736602),\n",
       "        (x = 5.46797807472799, y = 5.021132078322005),\n",
       "        (x = 1.8389580410964546, y = 1.3172992011414077),\n",
       "        (x = -2.250817836211816, y = 0.5604212513449096),\n",
       "        (x = 0.09668251921338356, y = 1.332312754193972),\n",
       "        (x = 2.361671828080854, y = 2.300994136201466),\n",
       "        (x = 1.7872799814024742, y = 1.849461941688241),\n",
       "        (x = 2.3928667618841595, y = 3.127020982121417),\n",
       "        (x = 0.8826017039363296, y = -0.20336376248684518),\n",
       "        (x = 0.9137929621118501, y = 2.072925595646402),\n",
       "        (x = -2.616757273876181, y = 0.1973437297636087),\n",
       "        (x = 3.431577290390752, y = 2.768481004386844),\n",
       "        (x = 0.8334546250935714, y = 1.3405167019305484),\n",
       "        (x = 1.121259764319807, y = 0.6910133478103828),\n",
       "        (x = 3.9321420938138747, y = 3.6666495789996962),\n",
       "        (x = 2.4832480195966578, y = 3.6348864148830486),\n",
       "        (x = 1.6518274787924403, y = 1.9981239498697363),\n",
       "        (x = 0.31561425288951417, y = 3.1515869119201283),\n",
       "        (x = 2.2622437867042384, y = 2.656279992866083),\n",
       "        (x = 0.735635571436999, y = 1.5620992652272174),\n",
       "        (x = -0.9433717513097415, y = 0.5326634668050914),\n",
       "        (x = 1.487009342012192, y = 2.9002949172859096),\n",
       "        (x = -1.616275620886356, y = 1.0412769929432042),\n",
       "        (x = -0.8613238537395256, y = -1.2084899544728485),\n",
       "        (x = 3.7112639265471974, y = 4.383577403830829),\n",
       "        (x = -0.9933869495265497, y = -0.45710846118315995),\n",
       "        (x = 2.213807117700799, y = 2.418011320870063),\n",
       "        (x = 2.664501324779928, y = 3.9699944823125644),\n",
       "        (x = 0.07097404157345355, y = 1.180178002141162),\n",
       "        (x = 3.382861452508739, y = 3.740407942259694),\n",
       "        (x = 2.1154896953267883, y = 2.6066194795658846),\n",
       "        (x = 1.5008772296784976, y = 1.5412326722588032),\n",
       "        (x = 2.994388535460768, y = 3.7879089148706417),\n",
       "        (x = 2.4496654997826344, y = 1.2061470627285276),\n",
       "        (x = 4.2772938775506395, y = 3.198780151324394),\n",
       "        (x = 0.9911942367212792, y = 1.6398596818570936),\n",
       "        (x = 3.6930634120155528, y = 5.002441934421321),\n",
       "        (x = 3.564941766709458, y = 3.982924675929199),\n",
       "        (x = 0.7733494596861301, y = 1.744008951169888),\n",
       "        (x = 1.006675920515878, y = 2.3361752597593988),\n",
       "        (x = -0.2487365561397925, y = 2.47407494409689),\n",
       "        (x = 2.5392382634270776, y = 3.034444267099314),\n",
       "        (x = 3.534580953046869, y = 2.3959926312221587),\n",
       "        (x = 2.1114336279471697, y = 3.8569000309266777),\n",
       "        (x = 1.7960149106973788, y = 1.709334119420934),\n",
       "        (x = 5.009309349523045, y = 5.14351068354324),\n",
       "        (x = -0.2550449618728783, y = 3.472676310548007),\n",
       "        (x = -0.16433091077833217, y = 1.7712288346572538),\n",
       "        (x = -1.3056298819563104, y = -0.5741624543346471),\n",
       "        (x = 0.6549049447154303, y = 1.6036593135607347),\n",
       "        (x = -1.5603632308880186, y = 0.4000666940355626),\n",
       "        (x = 0.21822048686123197, y = 1.9542465130946762),\n",
       "        (x = -2.648025074125177, y = -1.3367300474848993),\n",
       "        (x = 1.886343560595459, y = 2.2757460343384457),\n",
       "        (x = 3.095372242974475, y = 4.1829412257150835),\n",
       "        (x = 3.195954437623413, y = 2.4758673553167716),\n",
       "        (x = 1.3321726416015458, y = 2.295694307399871),\n",
       "        (x = 1.475947890226248, y = 3.1368914467168514),\n",
       "        (x = 0.20498559299651697, y = 1.827954920954232),\n",
       "        (x = -0.1603984554403899, y = 1.728541955933182),\n",
       "        (x = 3.1858773299118175, y = 2.850557377216761),\n",
       "        (x = 1.7422154409726234, y = 1.5837282136007005),\n",
       "        (x = 0.20940170839097705, y = 0.43021296007247756),\n",
       "        (x = 1.271141705520075, y = 1.2653492589503),\n",
       "        (x = 3.4734273098242134, y = 4.6490564694271),\n",
       "        (x = 1.723103355813562, y = 1.392305012377213),\n",
       "        (x = 1.9095497337012022, y = 3.0889726105422644),\n",
       "        (x = -0.31362607610464366, y = -0.07702367023397416),\n",
       "        (x = 0.007630488637183963, y = 2.084264502630451),\n",
       "        (x = 1.3158163031886887, y = 2.6568798662370403),\n",
       "        (x = 0.11440870924194768, y = 1.6075979992300664),\n",
       "        (x = 3.387019416852036, y = 2.2886801266894428),\n",
       "        (x = 2.411535611269179, y = 3.379825684041717),\n",
       "        (x = 1.3242665076665978, y = 2.498993536381911),\n",
       "        (x = 0.5673028660049637, y = 1.7704829765480627),\n",
       "        (x = 2.327293650822874, y = 3.635448430485138),\n",
       "        (x = 2.4259882462968836, y = 3.375778798802399),\n",
       "        (x = 3.080474276479775, y = 4.444011382809636),\n",
       "        (x = 0.3055824708058694, y = 3.0558614215277156),\n",
       "        (x = 3.305678701268194, y = 5.280565959216696),\n",
       "        (x = -2.3910046533994986, y = -0.8688736350692463),\n",
       "        (x = 4.07688989634646, y = 3.168841280488249),\n",
       "        (x = 2.2640386547615954, y = 3.456017562477579),\n",
       "        (x = 0.7109363438923119, y = 1.016787242690717),\n",
       "        (x = -0.37710680114536643, y = 0.8698804585949824),\n",
       "        (x = -1.5914514741719659, y = 1.945047096711558),\n",
       "        (x = 1.6423525238053023, y = 1.668667089263641)\n",
       "    ]\n",
       ")"
      ]
     },
     "execution_count": 262,
     "metadata": {},
     "output_type": "execute_result"
    }
   ],
   "source": [
    "# @set p.encoding.color\n",
    "p = @set p.encoding.color = Dict(\"valVegaLite\"red\")\n",
    "@set p.data = data"
   ]
  },
  {
   "cell_type": "code",
   "execution_count": 238,
   "metadata": {},
   "outputs": [
    {
     "data": {
      "text/plain": [
       "Vega.DataValuesNode(OrderedDict{Symbol,AbstractArray{T,1} where T}(:x => [-0.08415501071982812, 2.5867465041222104, 2.267780496280009, 1.4459526088468084, 1.0209254840208026, -0.4044493161806282, 1.5499028070599299, 1.5413718444328326, 2.2640554000184467, -2.4078464486569855  …  3.080474276479775, 0.3055824708058694, 3.305678701268194, -2.3910046533994986, 4.07688989634646, 2.2640386547615954, 0.7109363438923119, -0.37710680114536643, -1.5914514741719659, 1.6423525238053023],:y => [0.9881520298780699, 3.6201913494704496, 3.8319673322704135, 3.626590105923641, 2.5194497039215067, 0.01704400755230262, 3.032051557124073, 3.1254272641880987, 3.302836420226024, -0.29584460979563953  …  4.444011382809636, 3.0558614215277156, 5.280565959216696, -0.8688736350692463, 3.168841280488249, 3.456017562477579, 1.016787242690717, 0.8698804585949824, 1.945047096711558, 1.668667089263641]))"
      ]
     },
     "execution_count": 238,
     "metadata": {},
     "output_type": "execute_result"
    }
   ],
   "source": [
    "p"
   ]
  },
  {
   "cell_type": "code",
   "execution_count": null,
   "metadata": {},
   "outputs": [],
   "source": []
  },
  {
   "cell_type": "code",
   "execution_count": null,
   "metadata": {},
   "outputs": [],
   "source": []
  },
  {
   "cell_type": "code",
   "execution_count": null,
   "metadata": {},
   "outputs": [],
   "source": []
  }
 ],
 "metadata": {
  "kernelspec": {
   "display_name": "JuliaML 1.5.2",
   "language": "julia",
   "name": "juliaml-1.5"
  },
  "language_info": {
   "file_extension": ".jl",
   "mimetype": "application/julia",
   "name": "julia",
   "version": "1.5.2"
  }
 },
 "nbformat": 4,
 "nbformat_minor": 4
}
