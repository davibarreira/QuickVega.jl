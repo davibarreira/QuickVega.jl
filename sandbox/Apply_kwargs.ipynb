{
 "cells": [
  {
   "cell_type": "markdown",
   "metadata": {},
   "source": [
    "### Apply_kwargs()\n",
    "It's an auxiliary function to apply common modifications to each plot in QuickVega. Here are a list of possible attirbutes (I'm trying to use similar notation to Plots.jl):\n",
    "* color    - specify a single color for the whole plot (e.g color = \"blue\");\n",
    "* color_scheme  - specify a color scheme;\n",
    "* zcolor   - this is for assigning a variable to color (e.g color = randn(100));\n",
    "* size     - this is for assigning a variable to size  (e.g size  = randn(100));\n",
    "* shape    - this is for assigning a variable to size  (e.g size  = randn(100));\n",
    "* opacity  - use a variable to be the opacity of the plot;\n",
    "* strokedash - use a variable to be the opacity of the plot;\n",
    "* palette  - choose a color scheme;\n",
    "* width\n",
    "* height\n",
    "* stroke   - true or false for the line across the image;\n",
    "* marktype \n",
    "* marksize \n",
    "* markopacity \n",
    "* markstroke \n",
    "* markstrokewidth\n",
    "* title\n",
    "* xlabel\n",
    "* ylabel\n",
    "* xlim\n",
    "* ylim\n",
    "* legend\n",
    "* orient\n",
    "* order\n",
    "* grid\n",
    "* gridx    - grid vertical true or false;\n",
    "* gridy    - grid horizontal true or false;\n",
    "* xscale   - example, allow log scale;\n",
    "* yscale\n",
    "* interactive - true or false, to enable zoom and panning;\n",
    "* tooltip\n",
    "\n",
    "\n",
    "Implement a Cheat_Sheet for the possible parameters;"
   ]
  },
  {
   "cell_type": "code",
   "execution_count": 134,
   "metadata": {},
   "outputs": [],
   "source": [
    "using Revise, Pkg\n",
    "Pkg.activate(\"../.\")\n",
    "using QuickVega, DataFrames, VegaLite, VegaDatasets\n",
    "using Distributions, KernelDensity\n",
    "using Contour\n",
    "using Setfield\n",
    "using VegaDatasets\n",
    "using DataStructures\n",
    "using DataTables"
   ]
  },
  {
   "cell_type": "code",
   "execution_count": 135,
   "metadata": {},
   "outputs": [
    {
     "data": {
      "application/vnd.vegalite.v4+json": {
       "data": {
        "values": [
         {
          "c": 0.004413662511336458,
          "x": 0.30921893326329863,
          "y": 0.684776837854584
         },
         {
          "c": 0.012313101625253786,
          "x": 0.9924564586990601,
          "y": 0.4447683100931372
         },
         {
          "c": 0.6118859122930269,
          "x": 0.6090096308357431,
          "y": 0.3898483398450858
         },
         {
          "c": 0.9875039104064574,
          "x": 0.35357262492819674,
          "y": 0.2545233068057502
         },
         {
          "c": 0.3226380254017611,
          "x": 0.056778627117494596,
          "y": 0.8874670073560373
         },
         {
          "c": 0.19323101233008155,
          "x": 0.9667639875357827,
          "y": 0.19978245686435803
         },
         {
          "c": 0.5734105508346845,
          "x": 0.8648033627139577,
          "y": 0.4731097542649112
         },
         {
          "c": 0.8645177542909546,
          "x": 0.8185186217225455,
          "y": 0.24154149156001803
         },
         {
          "c": 0.4162855736805604,
          "x": 0.9654940399461418,
          "y": 0.9198532328590585
         },
         {
          "c": 0.14288527863568845,
          "x": 0.5020900782997022,
          "y": 0.9104829336550415
         }
        ]
       },
       "encoding": {
        "x": {
         "field": "x",
         "type": "quantitative"
        },
        "y": {
         "field": "y",
         "type": "quantitative"
        }
       },
       "mark": "circle"
      },
      "image/png": "[encoded data removed]",
      "image/svg+xml": [
       "<?xml version=\"1.0\" encoding=\"utf-8\"?>\n",
       "<!DOCTYPE svg PUBLIC \"-//W3C//DTD SVG 1.1//EN\" \"http://www.w3.org/Graphics/SVG/1.1/DTD/svg11.dtd\">\n",
       "<svg class=\"marks\" width=\"249\" height=\"247\" viewBox=\"0 0 249 247\" version=\"1.1\" xmlns=\"http://www.w3.org/2000/svg\" xmlns:xlink=\"http://www.w3.org/1999/xlink\"><rect width=\"249\" height=\"247\" fill=\"white\"></rect><g fill=\"none\" stroke-miterlimit=\"10\" transform=\"translate(42,10)\"><g class=\"mark-group role-frame root\" role=\"graphics-object\" aria-roledescription=\"group mark container\"><g transform=\"translate(0,0)\"><path class=\"background\" aria-hidden=\"true\" d=\"M0.5,0.5h200v200h-200Z\" stroke=\"#ddd\"></path><g><g class=\"mark-group role-axis\" aria-hidden=\"true\"><g transform=\"translate(0.5,200.5)\"><path class=\"background\" aria-hidden=\"true\" d=\"M0,0h0v0h0Z\" pointer-events=\"none\"></path><g><g class=\"mark-rule role-axis-grid\" pointer-events=\"none\"><line transform=\"translate(0,-200)\" x2=\"0\" y2=\"200\" stroke=\"#ddd\" stroke-width=\"1\" opacity=\"1\"></line><line transform=\"translate(40,-200)\" x2=\"0\" y2=\"200\" stroke=\"#ddd\" stroke-width=\"1\" opacity=\"1\"></line><line transform=\"translate(80,-200)\" x2=\"0\" y2=\"200\" stroke=\"#ddd\" stroke-width=\"1\" opacity=\"1\"></line><line transform=\"translate(120,-200)\" x2=\"0\" y2=\"200\" stroke=\"#ddd\" stroke-width=\"1\" opacity=\"1\"></line><line transform=\"translate(160,-200)\" x2=\"0\" y2=\"200\" stroke=\"#ddd\" stroke-width=\"1\" opacity=\"1\"></line><line transform=\"translate(200,-200)\" x2=\"0\" y2=\"200\" stroke=\"#ddd\" stroke-width=\"1\" opacity=\"1\"></line></g></g><path class=\"foreground\" aria-hidden=\"true\" d=\"\" pointer-events=\"none\" display=\"none\"></path></g></g><g class=\"mark-group role-axis\" aria-hidden=\"true\"><g transform=\"translate(0.5,0.5)\"><path class=\"background\" aria-hidden=\"true\" d=\"M0,0h0v0h0Z\" pointer-events=\"none\"></path><g><g class=\"mark-rule role-axis-grid\" pointer-events=\"none\"><line transform=\"translate(0,200)\" x2=\"200\" y2=\"0\" stroke=\"#ddd\" stroke-width=\"1\" opacity=\"1\"></line><line transform=\"translate(0,160)\" x2=\"200\" y2=\"0\" stroke=\"#ddd\" stroke-width=\"1\" opacity=\"1\"></line><line transform=\"translate(0,120)\" x2=\"200\" y2=\"0\" stroke=\"#ddd\" stroke-width=\"1\" opacity=\"1\"></line><line transform=\"translate(0,80)\" x2=\"200\" y2=\"0\" stroke=\"#ddd\" stroke-width=\"1\" opacity=\"1\"></line><line transform=\"translate(0,40)\" x2=\"200\" y2=\"0\" stroke=\"#ddd\" stroke-width=\"1\" opacity=\"1\"></line><line transform=\"translate(0,0)\" x2=\"200\" y2=\"0\" stroke=\"#ddd\" stroke-width=\"1\" opacity=\"1\"></line></g></g><path class=\"foreground\" aria-hidden=\"true\" d=\"\" pointer-events=\"none\" display=\"none\"></path></g></g><g class=\"mark-group role-axis\" role=\"graphics-symbol\" aria-roledescription=\"axis\" aria-label=\"X-axis titled 'x' for a linear scale with values from 0.0 to 1.0\"><g transform=\"translate(0.5,200.5)\"><path class=\"background\" aria-hidden=\"true\" d=\"M0,0h0v0h0Z\" pointer-events=\"none\"></path><g><g class=\"mark-rule role-axis-tick\" pointer-events=\"none\"><line transform=\"translate(0,0)\" x2=\"0\" y2=\"5\" stroke=\"#888\" stroke-width=\"1\" opacity=\"1\"></line><line transform=\"translate(40,0)\" x2=\"0\" y2=\"5\" stroke=\"#888\" stroke-width=\"1\" opacity=\"1\"></line><line transform=\"translate(80,0)\" x2=\"0\" y2=\"5\" stroke=\"#888\" stroke-width=\"1\" opacity=\"1\"></line><line transform=\"translate(120,0)\" x2=\"0\" y2=\"5\" stroke=\"#888\" stroke-width=\"1\" opacity=\"1\"></line><line transform=\"translate(160,0)\" x2=\"0\" y2=\"5\" stroke=\"#888\" stroke-width=\"1\" opacity=\"1\"></line><line transform=\"translate(200,0)\" x2=\"0\" y2=\"5\" stroke=\"#888\" stroke-width=\"1\" opacity=\"1\"></line></g><g class=\"mark-text role-axis-label\" pointer-events=\"none\"><text text-anchor=\"start\" transform=\"translate(0,15)\" font-family=\"sans-serif\" font-size=\"10px\" fill=\"#000\" opacity=\"1\">0.0</text><text text-anchor=\"middle\" transform=\"translate(40,15)\" font-family=\"sans-serif\" font-size=\"10px\" fill=\"#000\" opacity=\"1\">0.2</text><text text-anchor=\"middle\" transform=\"translate(80,15)\" font-family=\"sans-serif\" font-size=\"10px\" fill=\"#000\" opacity=\"1\">0.4</text><text text-anchor=\"middle\" transform=\"translate(120,15)\" font-family=\"sans-serif\" font-size=\"10px\" fill=\"#000\" opacity=\"1\">0.6</text><text text-anchor=\"middle\" transform=\"translate(160,15)\" font-family=\"sans-serif\" font-size=\"10px\" fill=\"#000\" opacity=\"1\">0.8</text><text text-anchor=\"end\" transform=\"translate(200,15)\" font-family=\"sans-serif\" font-size=\"10px\" fill=\"#000\" opacity=\"1\">1.0</text></g><g class=\"mark-rule role-axis-domain\" pointer-events=\"none\"><line transform=\"translate(0,0)\" x2=\"200\" y2=\"0\" stroke=\"#888\" stroke-width=\"1\" opacity=\"1\"></line></g><g class=\"mark-text role-axis-title\" pointer-events=\"none\"><text text-anchor=\"middle\" transform=\"translate(100,30)\" font-family=\"sans-serif\" font-size=\"11px\" font-weight=\"bold\" fill=\"#000\" opacity=\"1\">x</text></g></g><path class=\"foreground\" aria-hidden=\"true\" d=\"\" pointer-events=\"none\" display=\"none\"></path></g></g><g class=\"mark-group role-axis\" role=\"graphics-symbol\" aria-roledescription=\"axis\" aria-label=\"Y-axis titled 'y' for a linear scale with values from 0.0 to 1.0\"><g transform=\"translate(0.5,0.5)\"><path class=\"background\" aria-hidden=\"true\" d=\"M0,0h0v0h0Z\" pointer-events=\"none\"></path><g><g class=\"mark-rule role-axis-tick\" pointer-events=\"none\"><line transform=\"translate(0,200)\" x2=\"-5\" y2=\"0\" stroke=\"#888\" stroke-width=\"1\" opacity=\"1\"></line><line transform=\"translate(0,160)\" x2=\"-5\" y2=\"0\" stroke=\"#888\" stroke-width=\"1\" opacity=\"1\"></line><line transform=\"translate(0,120)\" x2=\"-5\" y2=\"0\" stroke=\"#888\" stroke-width=\"1\" opacity=\"1\"></line><line transform=\"translate(0,80)\" x2=\"-5\" y2=\"0\" stroke=\"#888\" stroke-width=\"1\" opacity=\"1\"></line><line transform=\"translate(0,40)\" x2=\"-5\" y2=\"0\" stroke=\"#888\" stroke-width=\"1\" opacity=\"1\"></line><line transform=\"translate(0,0)\" x2=\"-5\" y2=\"0\" stroke=\"#888\" stroke-width=\"1\" opacity=\"1\"></line></g><g class=\"mark-text role-axis-label\" pointer-events=\"none\"><text text-anchor=\"end\" transform=\"translate(-7,203)\" font-family=\"sans-serif\" font-size=\"10px\" fill=\"#000\" opacity=\"1\">0.0</text><text text-anchor=\"end\" transform=\"translate(-7,163)\" font-family=\"sans-serif\" font-size=\"10px\" fill=\"#000\" opacity=\"1\">0.2</text><text text-anchor=\"end\" transform=\"translate(-7,123)\" font-family=\"sans-serif\" font-size=\"10px\" fill=\"#000\" opacity=\"1\">0.4</text><text text-anchor=\"end\" transform=\"translate(-7,83)\" font-family=\"sans-serif\" font-size=\"10px\" fill=\"#000\" opacity=\"1\">0.6</text><text text-anchor=\"end\" transform=\"translate(-7,42.99999999999999)\" font-family=\"sans-serif\" font-size=\"10px\" fill=\"#000\" opacity=\"1\">0.8</text><text text-anchor=\"end\" transform=\"translate(-7,3)\" font-family=\"sans-serif\" font-size=\"10px\" fill=\"#000\" opacity=\"1\">1.0</text></g><g class=\"mark-rule role-axis-domain\" pointer-events=\"none\"><line transform=\"translate(0,200)\" x2=\"0\" y2=\"-200\" stroke=\"#888\" stroke-width=\"1\" opacity=\"1\"></line></g><g class=\"mark-text role-axis-title\" pointer-events=\"none\"><text text-anchor=\"middle\" transform=\"translate(-26,100) rotate(-90) translate(0,-2)\" font-family=\"sans-serif\" font-size=\"11px\" font-weight=\"bold\" fill=\"#000\" opacity=\"1\">y</text></g></g><path class=\"foreground\" aria-hidden=\"true\" d=\"\" pointer-events=\"none\" display=\"none\"></path></g></g><g class=\"mark-symbol role-mark marks\" role=\"graphics-object\" aria-roledescription=\"symbol mark container\"><path aria-label=\"x: 0.309218933263; y: 0.684776837855\" role=\"graphics-symbol\" aria-roledescription=\"circle\" transform=\"translate(61.84378665265973,63.0446324290832)\" d=\"M2.7386127875258306,0A2.7386127875258306,2.7386127875258306,0,1,1,-2.7386127875258306,0A2.7386127875258306,2.7386127875258306,0,1,1,2.7386127875258306,0\" fill=\"#4c78a8\" stroke-width=\"2\" opacity=\"0.7\"></path><path aria-label=\"x: 0.992456458699; y: 0.444768310093\" role=\"graphics-symbol\" aria-roledescription=\"circle\" transform=\"translate(198.49129173981203,111.04633798137256)\" d=\"M2.7386127875258306,0A2.7386127875258306,2.7386127875258306,0,1,1,-2.7386127875258306,0A2.7386127875258306,2.7386127875258306,0,1,1,2.7386127875258306,0\" fill=\"#4c78a8\" stroke-width=\"2\" opacity=\"0.7\"></path><path aria-label=\"x: 0.609009630836; y: 0.389848339845\" role=\"graphics-symbol\" aria-roledescription=\"circle\" transform=\"translate(121.80192616714862,122.03033203098283)\" d=\"M2.7386127875258306,0A2.7386127875258306,2.7386127875258306,0,1,1,-2.7386127875258306,0A2.7386127875258306,2.7386127875258306,0,1,1,2.7386127875258306,0\" fill=\"#4c78a8\" stroke-width=\"2\" opacity=\"0.7\"></path><path aria-label=\"x: 0.353572624928; y: 0.254523306806\" role=\"graphics-symbol\" aria-roledescription=\"circle\" transform=\"translate(70.71452498563934,149.09533863884997)\" d=\"M2.7386127875258306,0A2.7386127875258306,2.7386127875258306,0,1,1,-2.7386127875258306,0A2.7386127875258306,2.7386127875258306,0,1,1,2.7386127875258306,0\" fill=\"#4c78a8\" stroke-width=\"2\" opacity=\"0.7\"></path><path aria-label=\"x: 0.0567786271175; y: 0.887467007356\" role=\"graphics-symbol\" aria-roledescription=\"circle\" transform=\"translate(11.35572542349892,22.50659852879253)\" d=\"M2.7386127875258306,0A2.7386127875258306,2.7386127875258306,0,1,1,-2.7386127875258306,0A2.7386127875258306,2.7386127875258306,0,1,1,2.7386127875258306,0\" fill=\"#4c78a8\" stroke-width=\"2\" opacity=\"0.7\"></path><path aria-label=\"x: 0.966763987536; y: 0.199782456864\" role=\"graphics-symbol\" aria-roledescription=\"circle\" transform=\"translate(193.35279750715654,160.0435086271284)\" d=\"M2.7386127875258306,0A2.7386127875258306,2.7386127875258306,0,1,1,-2.7386127875258306,0A2.7386127875258306,2.7386127875258306,0,1,1,2.7386127875258306,0\" fill=\"#4c78a8\" stroke-width=\"2\" opacity=\"0.7\"></path><path aria-label=\"x: 0.864803362714; y: 0.473109754265\" role=\"graphics-symbol\" aria-roledescription=\"circle\" transform=\"translate(172.96067254279154,105.37804914701776)\" d=\"M2.7386127875258306,0A2.7386127875258306,2.7386127875258306,0,1,1,-2.7386127875258306,0A2.7386127875258306,2.7386127875258306,0,1,1,2.7386127875258306,0\" fill=\"#4c78a8\" stroke-width=\"2\" opacity=\"0.7\"></path><path aria-label=\"x: 0.818518621723; y: 0.24154149156\" role=\"graphics-symbol\" aria-roledescription=\"circle\" transform=\"translate(163.7037243445091,151.69170168799639)\" d=\"M2.7386127875258306,0A2.7386127875258306,2.7386127875258306,0,1,1,-2.7386127875258306,0A2.7386127875258306,2.7386127875258306,0,1,1,2.7386127875258306,0\" fill=\"#4c78a8\" stroke-width=\"2\" opacity=\"0.7\"></path><path aria-label=\"x: 0.965494039946; y: 0.919853232859\" role=\"graphics-symbol\" aria-roledescription=\"circle\" transform=\"translate(193.09880798922836,16.029353428188298)\" d=\"M2.7386127875258306,0A2.7386127875258306,2.7386127875258306,0,1,1,-2.7386127875258306,0A2.7386127875258306,2.7386127875258306,0,1,1,2.7386127875258306,0\" fill=\"#4c78a8\" stroke-width=\"2\" opacity=\"0.7\"></path><path aria-label=\"x: 0.5020900783; y: 0.910482933655\" role=\"graphics-symbol\" aria-roledescription=\"circle\" transform=\"translate(100.41801565994044,17.9034132689917)\" d=\"M2.7386127875258306,0A2.7386127875258306,2.7386127875258306,0,1,1,-2.7386127875258306,0A2.7386127875258306,2.7386127875258306,0,1,1,2.7386127875258306,0\" fill=\"#4c78a8\" stroke-width=\"2\" opacity=\"0.7\"></path></g></g><path class=\"foreground\" aria-hidden=\"true\" d=\"\" display=\"none\"></path></g></g></g></svg>\n"
      ],
      "text/plain": [
       "@vlplot(\n",
       "    data={\n",
       "        values=...\n",
       "    },\n",
       "    mark=\"circle\",\n",
       "    encoding={\n",
       "        x={\n",
       "            field=\"x\"\n",
       "        },\n",
       "        y={\n",
       "            field=\"y\"\n",
       "        }\n",
       "    }\n",
       ")"
      ]
     },
     "execution_count": 135,
     "metadata": {},
     "output_type": "execute_result"
    }
   ],
   "source": [
    "# vlplot(:circle, x=rand(10),y=rand(10),color=(field=rand(10),type=\"ordinal\",scale=(scheme=\"plasma\",)))\n",
    "df = DataFrame(x=rand(10),y=rand(10),c=rand(10))\n",
    "# vlplot(data=df,:circle, x=:x,y=:y,color=(field=:c,type=\"quantitative\",scale=(scheme=\"category20b\")))\n",
    "p = @vlplot(data=df,:circle,:x,:y,color={field=:c,scale={scheme=\"plasma\"}})\n",
    "p = @vlplot(data=df,:circle,:x,:y)"
   ]
  },
  {
   "cell_type": "code",
   "execution_count": 132,
   "metadata": {},
   "outputs": [
    {
     "data": {
      "text/plain": [
       "OrderedDict{String, Any} with 1 entry:\n",
       "  \"scale\" => OrderedDict{String, Any}(\"scheme\"=>\"plasma\")"
      ]
     },
     "execution_count": 132,
     "metadata": {},
     "output_type": "execute_result"
    }
   ],
   "source": [
    "p.params[\"encoding\"][\"color\"] = OrderedDict{String,Any}(\"scale\"=>OrderedDict{String,Any}(\"scheme\"=>\"plasma\"))"
   ]
  },
  {
   "cell_type": "code",
   "execution_count": 133,
   "metadata": {},
   "outputs": [
    {
     "name": "stderr",
     "output_type": "stream",
     "text": [
      "WARN Dropping {\"scale\":{\"scheme\":\"plasma\"}} from channel \"color\" since it does not contain any data field, datum, value, or signal.\n",
      "WARN Dropping {\"scale\":{\"scheme\":\"plasma\"}} from channel \"color\" since it does not contain any data field, datum, value, or signal.\n"
     ]
    },
    {
     "data": {
      "application/vnd.vegalite.v4+json": {
       "data": {
        "values": [
         {
          "c": 0.4025493952018879,
          "x": 0.9747640721801818,
          "y": 0.08097491835223813
         },
         {
          "c": 0.5198746371604561,
          "x": 0.27936495043585996,
          "y": 0.5757353312372477
         },
         {
          "c": 0.13078976864205116,
          "x": 0.6415527988181102,
          "y": 0.7976100893101457
         },
         {
          "c": 0.8735833290366,
          "x": 0.07438997386711099,
          "y": 0.5703328877768576
         },
         {
          "c": 0.8626189777049069,
          "x": 0.5348970252516054,
          "y": 0.18725626790851102
         },
         {
          "c": 0.4990496119928107,
          "x": 0.19675340711504496,
          "y": 0.5446371256385003
         },
         {
          "c": 0.9439295459561605,
          "x": 0.9279263511014795,
          "y": 0.02879641188945503
         },
         {
          "c": 0.7627654260341437,
          "x": 0.35546359691985585,
          "y": 0.03354240668283026
         },
         {
          "c": 0.05205213381957563,
          "x": 0.8358739837451092,
          "y": 0.418878742583799
         },
         {
          "c": 0.5983288377606919,
          "x": 0.027813928175817182,
          "y": 0.907054777581956
         }
        ]
       },
       "encoding": {
        "color": {
         "scale": {
          "scheme": "plasma"
         }
        },
        "x": {
         "field": "x",
         "type": "quantitative"
        },
        "y": {
         "field": "y",
         "type": "quantitative"
        }
       },
       "mark": "circle"
      },
      "image/png": "[encoded data removed]",
      "image/svg+xml": [
       "<?xml version=\"1.0\" encoding=\"utf-8\"?>\n",
       "<!DOCTYPE svg PUBLIC \"-//W3C//DTD SVG 1.1//EN\" \"http://www.w3.org/Graphics/SVG/1.1/DTD/svg11.dtd\">\n",
       "<svg class=\"marks\" width=\"248\" height=\"247\" viewBox=\"0 0 248 247\" version=\"1.1\" xmlns=\"http://www.w3.org/2000/svg\" xmlns:xlink=\"http://www.w3.org/1999/xlink\"><rect width=\"248\" height=\"247\" fill=\"white\"></rect><g fill=\"none\" stroke-miterlimit=\"10\" transform=\"translate(42,10)\"><g class=\"mark-group role-frame root\" role=\"graphics-object\" aria-roledescription=\"group mark container\"><g transform=\"translate(0,0)\"><path class=\"background\" aria-hidden=\"true\" d=\"M0.5,0.5h200v200h-200Z\" stroke=\"#ddd\"></path><g><g class=\"mark-group role-axis\" aria-hidden=\"true\"><g transform=\"translate(0.5,200.5)\"><path class=\"background\" aria-hidden=\"true\" d=\"M0,0h0v0h0Z\" pointer-events=\"none\"></path><g><g class=\"mark-rule role-axis-grid\" pointer-events=\"none\"><line transform=\"translate(0,-200)\" x2=\"0\" y2=\"200\" stroke=\"#ddd\" stroke-width=\"1\" opacity=\"1\"></line><line transform=\"translate(40,-200)\" x2=\"0\" y2=\"200\" stroke=\"#ddd\" stroke-width=\"1\" opacity=\"1\"></line><line transform=\"translate(80,-200)\" x2=\"0\" y2=\"200\" stroke=\"#ddd\" stroke-width=\"1\" opacity=\"1\"></line><line transform=\"translate(120,-200)\" x2=\"0\" y2=\"200\" stroke=\"#ddd\" stroke-width=\"1\" opacity=\"1\"></line><line transform=\"translate(160,-200)\" x2=\"0\" y2=\"200\" stroke=\"#ddd\" stroke-width=\"1\" opacity=\"1\"></line><line transform=\"translate(200,-200)\" x2=\"0\" y2=\"200\" stroke=\"#ddd\" stroke-width=\"1\" opacity=\"1\"></line></g></g><path class=\"foreground\" aria-hidden=\"true\" d=\"\" pointer-events=\"none\" display=\"none\"></path></g></g><g class=\"mark-group role-axis\" aria-hidden=\"true\"><g transform=\"translate(0.5,0.5)\"><path class=\"background\" aria-hidden=\"true\" d=\"M0,0h0v0h0Z\" pointer-events=\"none\"></path><g><g class=\"mark-rule role-axis-grid\" pointer-events=\"none\"><line transform=\"translate(0,200)\" x2=\"200\" y2=\"0\" stroke=\"#ddd\" stroke-width=\"1\" opacity=\"1\"></line><line transform=\"translate(0,160)\" x2=\"200\" y2=\"0\" stroke=\"#ddd\" stroke-width=\"1\" opacity=\"1\"></line><line transform=\"translate(0,120)\" x2=\"200\" y2=\"0\" stroke=\"#ddd\" stroke-width=\"1\" opacity=\"1\"></line><line transform=\"translate(0,80)\" x2=\"200\" y2=\"0\" stroke=\"#ddd\" stroke-width=\"1\" opacity=\"1\"></line><line transform=\"translate(0,40)\" x2=\"200\" y2=\"0\" stroke=\"#ddd\" stroke-width=\"1\" opacity=\"1\"></line><line transform=\"translate(0,0)\" x2=\"200\" y2=\"0\" stroke=\"#ddd\" stroke-width=\"1\" opacity=\"1\"></line></g></g><path class=\"foreground\" aria-hidden=\"true\" d=\"\" pointer-events=\"none\" display=\"none\"></path></g></g><g class=\"mark-group role-axis\" role=\"graphics-symbol\" aria-roledescription=\"axis\" aria-label=\"X-axis titled 'x' for a linear scale with values from 0.0 to 1.0\"><g transform=\"translate(0.5,200.5)\"><path class=\"background\" aria-hidden=\"true\" d=\"M0,0h0v0h0Z\" pointer-events=\"none\"></path><g><g class=\"mark-rule role-axis-tick\" pointer-events=\"none\"><line transform=\"translate(0,0)\" x2=\"0\" y2=\"5\" stroke=\"#888\" stroke-width=\"1\" opacity=\"1\"></line><line transform=\"translate(40,0)\" x2=\"0\" y2=\"5\" stroke=\"#888\" stroke-width=\"1\" opacity=\"1\"></line><line transform=\"translate(80,0)\" x2=\"0\" y2=\"5\" stroke=\"#888\" stroke-width=\"1\" opacity=\"1\"></line><line transform=\"translate(120,0)\" x2=\"0\" y2=\"5\" stroke=\"#888\" stroke-width=\"1\" opacity=\"1\"></line><line transform=\"translate(160,0)\" x2=\"0\" y2=\"5\" stroke=\"#888\" stroke-width=\"1\" opacity=\"1\"></line><line transform=\"translate(200,0)\" x2=\"0\" y2=\"5\" stroke=\"#888\" stroke-width=\"1\" opacity=\"1\"></line></g><g class=\"mark-text role-axis-label\" pointer-events=\"none\"><text text-anchor=\"start\" transform=\"translate(0,15)\" font-family=\"sans-serif\" font-size=\"10px\" fill=\"#000\" opacity=\"1\">0.0</text><text text-anchor=\"middle\" transform=\"translate(40,15)\" font-family=\"sans-serif\" font-size=\"10px\" fill=\"#000\" opacity=\"1\">0.2</text><text text-anchor=\"middle\" transform=\"translate(80,15)\" font-family=\"sans-serif\" font-size=\"10px\" fill=\"#000\" opacity=\"1\">0.4</text><text text-anchor=\"middle\" transform=\"translate(120,15)\" font-family=\"sans-serif\" font-size=\"10px\" fill=\"#000\" opacity=\"1\">0.6</text><text text-anchor=\"middle\" transform=\"translate(160,15)\" font-family=\"sans-serif\" font-size=\"10px\" fill=\"#000\" opacity=\"1\">0.8</text><text text-anchor=\"end\" transform=\"translate(200,15)\" font-family=\"sans-serif\" font-size=\"10px\" fill=\"#000\" opacity=\"1\">1.0</text></g><g class=\"mark-rule role-axis-domain\" pointer-events=\"none\"><line transform=\"translate(0,0)\" x2=\"200\" y2=\"0\" stroke=\"#888\" stroke-width=\"1\" opacity=\"1\"></line></g><g class=\"mark-text role-axis-title\" pointer-events=\"none\"><text text-anchor=\"middle\" transform=\"translate(100,30)\" font-family=\"sans-serif\" font-size=\"11px\" font-weight=\"bold\" fill=\"#000\" opacity=\"1\">x</text></g></g><path class=\"foreground\" aria-hidden=\"true\" d=\"\" pointer-events=\"none\" display=\"none\"></path></g></g><g class=\"mark-group role-axis\" role=\"graphics-symbol\" aria-roledescription=\"axis\" aria-label=\"Y-axis titled 'y' for a linear scale with values from 0.0 to 1.0\"><g transform=\"translate(0.5,0.5)\"><path class=\"background\" aria-hidden=\"true\" d=\"M0,0h0v0h0Z\" pointer-events=\"none\"></path><g><g class=\"mark-rule role-axis-tick\" pointer-events=\"none\"><line transform=\"translate(0,200)\" x2=\"-5\" y2=\"0\" stroke=\"#888\" stroke-width=\"1\" opacity=\"1\"></line><line transform=\"translate(0,160)\" x2=\"-5\" y2=\"0\" stroke=\"#888\" stroke-width=\"1\" opacity=\"1\"></line><line transform=\"translate(0,120)\" x2=\"-5\" y2=\"0\" stroke=\"#888\" stroke-width=\"1\" opacity=\"1\"></line><line transform=\"translate(0,80)\" x2=\"-5\" y2=\"0\" stroke=\"#888\" stroke-width=\"1\" opacity=\"1\"></line><line transform=\"translate(0,40)\" x2=\"-5\" y2=\"0\" stroke=\"#888\" stroke-width=\"1\" opacity=\"1\"></line><line transform=\"translate(0,0)\" x2=\"-5\" y2=\"0\" stroke=\"#888\" stroke-width=\"1\" opacity=\"1\"></line></g><g class=\"mark-text role-axis-label\" pointer-events=\"none\"><text text-anchor=\"end\" transform=\"translate(-7,203)\" font-family=\"sans-serif\" font-size=\"10px\" fill=\"#000\" opacity=\"1\">0.0</text><text text-anchor=\"end\" transform=\"translate(-7,163)\" font-family=\"sans-serif\" font-size=\"10px\" fill=\"#000\" opacity=\"1\">0.2</text><text text-anchor=\"end\" transform=\"translate(-7,123)\" font-family=\"sans-serif\" font-size=\"10px\" fill=\"#000\" opacity=\"1\">0.4</text><text text-anchor=\"end\" transform=\"translate(-7,83)\" font-family=\"sans-serif\" font-size=\"10px\" fill=\"#000\" opacity=\"1\">0.6</text><text text-anchor=\"end\" transform=\"translate(-7,42.99999999999999)\" font-family=\"sans-serif\" font-size=\"10px\" fill=\"#000\" opacity=\"1\">0.8</text><text text-anchor=\"end\" transform=\"translate(-7,3)\" font-family=\"sans-serif\" font-size=\"10px\" fill=\"#000\" opacity=\"1\">1.0</text></g><g class=\"mark-rule role-axis-domain\" pointer-events=\"none\"><line transform=\"translate(0,200)\" x2=\"0\" y2=\"-200\" stroke=\"#888\" stroke-width=\"1\" opacity=\"1\"></line></g><g class=\"mark-text role-axis-title\" pointer-events=\"none\"><text text-anchor=\"middle\" transform=\"translate(-26,100) rotate(-90) translate(0,-2)\" font-family=\"sans-serif\" font-size=\"11px\" font-weight=\"bold\" fill=\"#000\" opacity=\"1\">y</text></g></g><path class=\"foreground\" aria-hidden=\"true\" d=\"\" pointer-events=\"none\" display=\"none\"></path></g></g><g class=\"mark-symbol role-mark marks\" role=\"graphics-object\" aria-roledescription=\"symbol mark container\"><path aria-label=\"x: 0.97476407218; y: 0.0809749183522\" role=\"graphics-symbol\" aria-roledescription=\"circle\" transform=\"translate(194.95281443603636,183.80501632955236)\" d=\"M2.7386127875258306,0A2.7386127875258306,2.7386127875258306,0,1,1,-2.7386127875258306,0A2.7386127875258306,2.7386127875258306,0,1,1,2.7386127875258306,0\" fill=\"#4c78a8\" stroke-width=\"2\" opacity=\"0.7\"></path><path aria-label=\"x: 0.279364950436; y: 0.575735331237\" role=\"graphics-symbol\" aria-roledescription=\"circle\" transform=\"translate(55.87299008717199,84.85293375255046)\" d=\"M2.7386127875258306,0A2.7386127875258306,2.7386127875258306,0,1,1,-2.7386127875258306,0A2.7386127875258306,2.7386127875258306,0,1,1,2.7386127875258306,0\" fill=\"#4c78a8\" stroke-width=\"2\" opacity=\"0.7\"></path><path aria-label=\"x: 0.641552798818; y: 0.79761008931\" role=\"graphics-symbol\" aria-roledescription=\"circle\" transform=\"translate(128.31055976362205,40.47798213797087)\" d=\"M2.7386127875258306,0A2.7386127875258306,2.7386127875258306,0,1,1,-2.7386127875258306,0A2.7386127875258306,2.7386127875258306,0,1,1,2.7386127875258306,0\" fill=\"#4c78a8\" stroke-width=\"2\" opacity=\"0.7\"></path><path aria-label=\"x: 0.0743899738671; y: 0.570332887777\" role=\"graphics-symbol\" aria-roledescription=\"circle\" transform=\"translate(14.877994773422198,85.93342244462848)\" d=\"M2.7386127875258306,0A2.7386127875258306,2.7386127875258306,0,1,1,-2.7386127875258306,0A2.7386127875258306,2.7386127875258306,0,1,1,2.7386127875258306,0\" fill=\"#4c78a8\" stroke-width=\"2\" opacity=\"0.7\"></path><path aria-label=\"x: 0.534897025252; y: 0.187256267909\" role=\"graphics-symbol\" aria-roledescription=\"circle\" transform=\"translate(106.97940505032109,162.5487464182978)\" d=\"M2.7386127875258306,0A2.7386127875258306,2.7386127875258306,0,1,1,-2.7386127875258306,0A2.7386127875258306,2.7386127875258306,0,1,1,2.7386127875258306,0\" fill=\"#4c78a8\" stroke-width=\"2\" opacity=\"0.7\"></path><path aria-label=\"x: 0.196753407115; y: 0.544637125639\" role=\"graphics-symbol\" aria-roledescription=\"circle\" transform=\"translate(39.35068142300899,91.07257487229994)\" d=\"M2.7386127875258306,0A2.7386127875258306,2.7386127875258306,0,1,1,-2.7386127875258306,0A2.7386127875258306,2.7386127875258306,0,1,1,2.7386127875258306,0\" fill=\"#4c78a8\" stroke-width=\"2\" opacity=\"0.7\"></path><path aria-label=\"x: 0.927926351101; y: 0.0287964118895\" role=\"graphics-symbol\" aria-roledescription=\"circle\" transform=\"translate(185.58527022029588,194.240717622109)\" d=\"M2.7386127875258306,0A2.7386127875258306,2.7386127875258306,0,1,1,-2.7386127875258306,0A2.7386127875258306,2.7386127875258306,0,1,1,2.7386127875258306,0\" fill=\"#4c78a8\" stroke-width=\"2\" opacity=\"0.7\"></path><path aria-label=\"x: 0.35546359692; y: 0.0335424066828\" role=\"graphics-symbol\" aria-roledescription=\"circle\" transform=\"translate(71.09271938397117,193.29151866343395)\" d=\"M2.7386127875258306,0A2.7386127875258306,2.7386127875258306,0,1,1,-2.7386127875258306,0A2.7386127875258306,2.7386127875258306,0,1,1,2.7386127875258306,0\" fill=\"#4c78a8\" stroke-width=\"2\" opacity=\"0.7\"></path><path aria-label=\"x: 0.835873983745; y: 0.418878742584\" role=\"graphics-symbol\" aria-roledescription=\"circle\" transform=\"translate(167.17479674902185,116.22425148324021)\" d=\"M2.7386127875258306,0A2.7386127875258306,2.7386127875258306,0,1,1,-2.7386127875258306,0A2.7386127875258306,2.7386127875258306,0,1,1,2.7386127875258306,0\" fill=\"#4c78a8\" stroke-width=\"2\" opacity=\"0.7\"></path><path aria-label=\"x: 0.0278139281758; y: 0.907054777582\" role=\"graphics-symbol\" aria-roledescription=\"circle\" transform=\"translate(5.562785635163436,18.58904448360881)\" d=\"M2.7386127875258306,0A2.7386127875258306,2.7386127875258306,0,1,1,-2.7386127875258306,0A2.7386127875258306,2.7386127875258306,0,1,1,2.7386127875258306,0\" fill=\"#4c78a8\" stroke-width=\"2\" opacity=\"0.7\"></path></g></g><path class=\"foreground\" aria-hidden=\"true\" d=\"\" display=\"none\"></path></g></g></g></svg>\n"
      ],
      "text/plain": [
       "@vlplot(\n",
       "    data={\n",
       "        values=...\n",
       "    },\n",
       "    mark=\"circle\",\n",
       "    encoding={\n",
       "        x={\n",
       "            field=\"x\"\n",
       "        },\n",
       "        y={\n",
       "            field=\"y\"\n",
       "        },\n",
       "        color={\n",
       "            scale={\n",
       "                scheme=\"plasma\"\n",
       "            }\n",
       "        }\n",
       "    }\n",
       ")"
      ]
     },
     "execution_count": 133,
     "metadata": {},
     "output_type": "execute_result"
    }
   ],
   "source": [
    "p"
   ]
  },
  {
   "cell_type": "code",
   "execution_count": 131,
   "metadata": {},
   "outputs": [
    {
     "ename": "LoadError",
     "evalue": "KeyError: key \"color\" not found",
     "output_type": "error",
     "traceback": [
      "KeyError: key \"color\" not found",
      "",
      "Stacktrace:",
      " [1] getindex(h::OrderedDict{String, Any}, key::String)",
      "   @ OrderedCollections ~/.julia/packages/OrderedCollections/cP9uu/src/ordered_dict.jl:380",
      " [2] top-level scope",
      "   @ In[131]:1",
      " [3] eval",
      "   @ ./boot.jl:360 [inlined]",
      " [4] include_string(mapexpr::typeof(REPL.softscope), mod::Module, code::String, filename::String)",
      "   @ Base ./loading.jl:1094"
     ]
    }
   ],
   "source": [
    "p.params[\"encoding\"][\"color\"][\"scale\"] = OrderedDict{String,Any}(\"scheme\"=>\"plasma\") "
   ]
  },
  {
   "cell_type": "code",
   "execution_count": 128,
   "metadata": {},
   "outputs": [
    {
     "data": {
      "application/vnd.vegalite.v4+json": {
       "data": {
        "values": [
         {
          "c": 0.1776844281946901,
          "x": 0.9560378942312344,
          "y": 0.5168668739172237
         },
         {
          "c": 0.6543163726287946,
          "x": 0.4585256316421298,
          "y": 0.8821948336157059
         },
         {
          "c": 0.2156495378516321,
          "x": 0.9154575267258556,
          "y": 0.9444347693273387
         },
         {
          "c": 0.9803194418843175,
          "x": 0.41128677245416956,
          "y": 0.01916035657802051
         },
         {
          "c": 0.3679482338881397,
          "x": 0.2342630668765049,
          "y": 0.9878198536179523
         },
         {
          "c": 0.2715201371865843,
          "x": 0.888853797886648,
          "y": 0.9407287575611745
         },
         {
          "c": 0.46072503768644557,
          "x": 0.0016939789761925006,
          "y": 0.7347187484470958
         },
         {
          "c": 0.0297018012350152,
          "x": 0.9192763300983029,
          "y": 0.6540201543416653
         },
         {
          "c": 0.9499421954433407,
          "x": 0.7942829809219354,
          "y": 0.5210139583877271
         },
         {
          "c": 0.21328749265001812,
          "x": 0.776266917253039,
          "y": 0.9921353895087781
         }
        ]
       },
       "encoding": {
        "color": {
         "field": "c",
         "scale": {
          "scheme": "plasma"
         },
         "type": "quantitative"
        },
        "x": {
         "field": "x",
         "type": "quantitative"
        },
        "y": {
         "field": "y",
         "type": "quantitative"
        }
       },
       "mark": "circle"
      },
      "image/png": "[encoded data removed]",
      "image/svg+xml": [
       "<?xml version=\"1.0\" encoding=\"utf-8\"?>\n",
       "<!DOCTYPE svg PUBLIC \"-//W3C//DTD SVG 1.1//EN\" \"http://www.w3.org/Graphics/SVG/1.1/DTD/svg11.dtd\">\n",
       "<svg class=\"marks\" width=\"298\" height=\"247\" viewBox=\"0 0 298 247\" version=\"1.1\" xmlns=\"http://www.w3.org/2000/svg\" xmlns:xlink=\"http://www.w3.org/1999/xlink\"><defs><linearGradient id=\"gradient_0\" x1=\"0\" x2=\"0\" y1=\"1\" y2=\"0\"><stop offset=\"0\" stop-color=\"rgb(13, 8, 135)\"></stop><stop offset=\"0.02135264263676033\" stop-color=\"rgb(27, 7, 141)\"></stop><stop offset=\"0.07395002549812654\" stop-color=\"rgb(54, 5, 152)\"></stop><stop offset=\"0.12654740835949274\" stop-color=\"rgb(77, 2, 161)\"></stop><stop offset=\"0.17914479122085897\" stop-color=\"rgb(98, 1, 167)\"></stop><stop offset=\"0.2317421740822252\" stop-color=\"rgb(119, 1, 168)\"></stop><stop offset=\"0.28433955694359137\" stop-color=\"rgb(138, 9, 165)\"></stop><stop offset=\"0.3369369398049576\" stop-color=\"rgb(157, 24, 157)\"></stop><stop offset=\"0.3895343226663238\" stop-color=\"rgb(174, 39, 147)\"></stop><stop offset=\"0.44213170552769004\" stop-color=\"rgb(188, 54, 134)\"></stop><stop offset=\"0.49472908838905627\" stop-color=\"rgb(202, 69, 122)\"></stop><stop offset=\"0.5473264712504226\" stop-color=\"rgb(214, 85, 110)\"></stop><stop offset=\"0.5999238541117886\" stop-color=\"rgb(225, 100, 98)\"></stop><stop offset=\"0.6525212369731549\" stop-color=\"rgb(234, 116, 86)\"></stop><stop offset=\"0.7051186198345211\" stop-color=\"rgb(243, 133, 75)\"></stop><stop offset=\"0.7577160026958873\" stop-color=\"rgb(249, 151, 63)\"></stop><stop offset=\"0.8103133855572536\" stop-color=\"rgb(252, 170, 52)\"></stop><stop offset=\"0.8629107684186197\" stop-color=\"rgb(254, 191, 42)\"></stop><stop offset=\"0.915508151279986\" stop-color=\"rgb(251, 213, 37)\"></stop><stop offset=\"0.9681055341413521\" stop-color=\"rgb(245, 235, 39)\"></stop><stop offset=\"1\" stop-color=\"rgb(240, 249, 33)\"></stop></linearGradient></defs><rect width=\"298\" height=\"247\" fill=\"white\"></rect><g fill=\"none\" stroke-miterlimit=\"10\" transform=\"translate(42,10)\"><g class=\"mark-group role-frame root\" role=\"graphics-object\" aria-roledescription=\"group mark container\"><g transform=\"translate(0,0)\"><path class=\"background\" aria-hidden=\"true\" d=\"M0.5,0.5h200v200h-200Z\" stroke=\"#ddd\"></path><g><g class=\"mark-group role-axis\" aria-hidden=\"true\"><g transform=\"translate(0.5,200.5)\"><path class=\"background\" aria-hidden=\"true\" d=\"M0,0h0v0h0Z\" pointer-events=\"none\"></path><g><g class=\"mark-rule role-axis-grid\" pointer-events=\"none\"><line transform=\"translate(0,-200)\" x2=\"0\" y2=\"200\" stroke=\"#ddd\" stroke-width=\"1\" opacity=\"1\"></line><line transform=\"translate(40,-200)\" x2=\"0\" y2=\"200\" stroke=\"#ddd\" stroke-width=\"1\" opacity=\"1\"></line><line transform=\"translate(80,-200)\" x2=\"0\" y2=\"200\" stroke=\"#ddd\" stroke-width=\"1\" opacity=\"1\"></line><line transform=\"translate(120,-200)\" x2=\"0\" y2=\"200\" stroke=\"#ddd\" stroke-width=\"1\" opacity=\"1\"></line><line transform=\"translate(160,-200)\" x2=\"0\" y2=\"200\" stroke=\"#ddd\" stroke-width=\"1\" opacity=\"1\"></line><line transform=\"translate(200,-200)\" x2=\"0\" y2=\"200\" stroke=\"#ddd\" stroke-width=\"1\" opacity=\"1\"></line></g></g><path class=\"foreground\" aria-hidden=\"true\" d=\"\" pointer-events=\"none\" display=\"none\"></path></g></g><g class=\"mark-group role-axis\" aria-hidden=\"true\"><g transform=\"translate(0.5,0.5)\"><path class=\"background\" aria-hidden=\"true\" d=\"M0,0h0v0h0Z\" pointer-events=\"none\"></path><g><g class=\"mark-rule role-axis-grid\" pointer-events=\"none\"><line transform=\"translate(0,200)\" x2=\"200\" y2=\"0\" stroke=\"#ddd\" stroke-width=\"1\" opacity=\"1\"></line><line transform=\"translate(0,160)\" x2=\"200\" y2=\"0\" stroke=\"#ddd\" stroke-width=\"1\" opacity=\"1\"></line><line transform=\"translate(0,120)\" x2=\"200\" y2=\"0\" stroke=\"#ddd\" stroke-width=\"1\" opacity=\"1\"></line><line transform=\"translate(0,80)\" x2=\"200\" y2=\"0\" stroke=\"#ddd\" stroke-width=\"1\" opacity=\"1\"></line><line transform=\"translate(0,40)\" x2=\"200\" y2=\"0\" stroke=\"#ddd\" stroke-width=\"1\" opacity=\"1\"></line><line transform=\"translate(0,0)\" x2=\"200\" y2=\"0\" stroke=\"#ddd\" stroke-width=\"1\" opacity=\"1\"></line></g></g><path class=\"foreground\" aria-hidden=\"true\" d=\"\" pointer-events=\"none\" display=\"none\"></path></g></g><g class=\"mark-group role-axis\" role=\"graphics-symbol\" aria-roledescription=\"axis\" aria-label=\"X-axis titled 'x' for a linear scale with values from 0.0 to 1.0\"><g transform=\"translate(0.5,200.5)\"><path class=\"background\" aria-hidden=\"true\" d=\"M0,0h0v0h0Z\" pointer-events=\"none\"></path><g><g class=\"mark-rule role-axis-tick\" pointer-events=\"none\"><line transform=\"translate(0,0)\" x2=\"0\" y2=\"5\" stroke=\"#888\" stroke-width=\"1\" opacity=\"1\"></line><line transform=\"translate(40,0)\" x2=\"0\" y2=\"5\" stroke=\"#888\" stroke-width=\"1\" opacity=\"1\"></line><line transform=\"translate(80,0)\" x2=\"0\" y2=\"5\" stroke=\"#888\" stroke-width=\"1\" opacity=\"1\"></line><line transform=\"translate(120,0)\" x2=\"0\" y2=\"5\" stroke=\"#888\" stroke-width=\"1\" opacity=\"1\"></line><line transform=\"translate(160,0)\" x2=\"0\" y2=\"5\" stroke=\"#888\" stroke-width=\"1\" opacity=\"1\"></line><line transform=\"translate(200,0)\" x2=\"0\" y2=\"5\" stroke=\"#888\" stroke-width=\"1\" opacity=\"1\"></line></g><g class=\"mark-text role-axis-label\" pointer-events=\"none\"><text text-anchor=\"start\" transform=\"translate(0,15)\" font-family=\"sans-serif\" font-size=\"10px\" fill=\"#000\" opacity=\"1\">0.0</text><text text-anchor=\"middle\" transform=\"translate(40,15)\" font-family=\"sans-serif\" font-size=\"10px\" fill=\"#000\" opacity=\"1\">0.2</text><text text-anchor=\"middle\" transform=\"translate(80,15)\" font-family=\"sans-serif\" font-size=\"10px\" fill=\"#000\" opacity=\"1\">0.4</text><text text-anchor=\"middle\" transform=\"translate(120,15)\" font-family=\"sans-serif\" font-size=\"10px\" fill=\"#000\" opacity=\"1\">0.6</text><text text-anchor=\"middle\" transform=\"translate(160,15)\" font-family=\"sans-serif\" font-size=\"10px\" fill=\"#000\" opacity=\"1\">0.8</text><text text-anchor=\"end\" transform=\"translate(200,15)\" font-family=\"sans-serif\" font-size=\"10px\" fill=\"#000\" opacity=\"1\">1.0</text></g><g class=\"mark-rule role-axis-domain\" pointer-events=\"none\"><line transform=\"translate(0,0)\" x2=\"200\" y2=\"0\" stroke=\"#888\" stroke-width=\"1\" opacity=\"1\"></line></g><g class=\"mark-text role-axis-title\" pointer-events=\"none\"><text text-anchor=\"middle\" transform=\"translate(100,30)\" font-family=\"sans-serif\" font-size=\"11px\" font-weight=\"bold\" fill=\"#000\" opacity=\"1\">x</text></g></g><path class=\"foreground\" aria-hidden=\"true\" d=\"\" pointer-events=\"none\" display=\"none\"></path></g></g><g class=\"mark-group role-axis\" role=\"graphics-symbol\" aria-roledescription=\"axis\" aria-label=\"Y-axis titled 'y' for a linear scale with values from 0.0 to 1.0\"><g transform=\"translate(0.5,0.5)\"><path class=\"background\" aria-hidden=\"true\" d=\"M0,0h0v0h0Z\" pointer-events=\"none\"></path><g><g class=\"mark-rule role-axis-tick\" pointer-events=\"none\"><line transform=\"translate(0,200)\" x2=\"-5\" y2=\"0\" stroke=\"#888\" stroke-width=\"1\" opacity=\"1\"></line><line transform=\"translate(0,160)\" x2=\"-5\" y2=\"0\" stroke=\"#888\" stroke-width=\"1\" opacity=\"1\"></line><line transform=\"translate(0,120)\" x2=\"-5\" y2=\"0\" stroke=\"#888\" stroke-width=\"1\" opacity=\"1\"></line><line transform=\"translate(0,80)\" x2=\"-5\" y2=\"0\" stroke=\"#888\" stroke-width=\"1\" opacity=\"1\"></line><line transform=\"translate(0,40)\" x2=\"-5\" y2=\"0\" stroke=\"#888\" stroke-width=\"1\" opacity=\"1\"></line><line transform=\"translate(0,0)\" x2=\"-5\" y2=\"0\" stroke=\"#888\" stroke-width=\"1\" opacity=\"1\"></line></g><g class=\"mark-text role-axis-label\" pointer-events=\"none\"><text text-anchor=\"end\" transform=\"translate(-7,203)\" font-family=\"sans-serif\" font-size=\"10px\" fill=\"#000\" opacity=\"1\">0.0</text><text text-anchor=\"end\" transform=\"translate(-7,163)\" font-family=\"sans-serif\" font-size=\"10px\" fill=\"#000\" opacity=\"1\">0.2</text><text text-anchor=\"end\" transform=\"translate(-7,123)\" font-family=\"sans-serif\" font-size=\"10px\" fill=\"#000\" opacity=\"1\">0.4</text><text text-anchor=\"end\" transform=\"translate(-7,83)\" font-family=\"sans-serif\" font-size=\"10px\" fill=\"#000\" opacity=\"1\">0.6</text><text text-anchor=\"end\" transform=\"translate(-7,42.99999999999999)\" font-family=\"sans-serif\" font-size=\"10px\" fill=\"#000\" opacity=\"1\">0.8</text><text text-anchor=\"end\" transform=\"translate(-7,3)\" font-family=\"sans-serif\" font-size=\"10px\" fill=\"#000\" opacity=\"1\">1.0</text></g><g class=\"mark-rule role-axis-domain\" pointer-events=\"none\"><line transform=\"translate(0,200)\" x2=\"0\" y2=\"-200\" stroke=\"#888\" stroke-width=\"1\" opacity=\"1\"></line></g><g class=\"mark-text role-axis-title\" pointer-events=\"none\"><text text-anchor=\"middle\" transform=\"translate(-26,100) rotate(-90) translate(0,-2)\" font-family=\"sans-serif\" font-size=\"11px\" font-weight=\"bold\" fill=\"#000\" opacity=\"1\">y</text></g></g><path class=\"foreground\" aria-hidden=\"true\" d=\"\" pointer-events=\"none\" display=\"none\"></path></g></g><g class=\"mark-symbol role-mark marks\" role=\"graphics-object\" aria-roledescription=\"symbol mark container\"><path aria-label=\"c: 0.177684428195; x: 0.956037894231; y: 0.516866873917\" role=\"graphics-symbol\" aria-roledescription=\"circle\" transform=\"translate(191.2075788462469,96.62662521655525)\" d=\"M2.7386127875258306,0A2.7386127875258306,2.7386127875258306,0,1,1,-2.7386127875258306,0A2.7386127875258306,2.7386127875258306,0,1,1,2.7386127875258306,0\" fill=\"rgb(89, 1, 165)\" stroke-width=\"2\" opacity=\"0.7\"></path><path aria-label=\"c: 0.654316372629; x: 0.458525631642; y: 0.882194833616\" role=\"graphics-symbol\" aria-roledescription=\"circle\" transform=\"translate(91.70512632842596,23.56103327685881)\" d=\"M2.7386127875258306,0A2.7386127875258306,2.7386127875258306,0,1,1,-2.7386127875258306,0A2.7386127875258306,2.7386127875258306,0,1,1,2.7386127875258306,0\" fill=\"rgb(235, 118, 85)\" stroke-width=\"2\" opacity=\"0.7\"></path><path aria-label=\"c: 0.215649537852; x: 0.915457526726; y: 0.944434769327\" role=\"graphics-symbol\" aria-roledescription=\"circle\" transform=\"translate(183.0915053451711,11.113046134532256)\" d=\"M2.7386127875258306,0A2.7386127875258306,2.7386127875258306,0,1,1,-2.7386127875258306,0A2.7386127875258306,2.7386127875258306,0,1,1,2.7386127875258306,0\" fill=\"rgb(104, 0, 168)\" stroke-width=\"2\" opacity=\"0.7\"></path><path aria-label=\"c: 0.980319441884; x: 0.411286772454; y: 0.019160356578\" role=\"graphics-symbol\" aria-roledescription=\"circle\" transform=\"translate(82.2573544908339,196.1679286843959)\" d=\"M2.7386127875258306,0A2.7386127875258306,2.7386127875258306,0,1,1,-2.7386127875258306,0A2.7386127875258306,2.7386127875258306,0,1,1,2.7386127875258306,0\" fill=\"rgb(240, 249, 33)\" stroke-width=\"2\" opacity=\"0.7\"></path><path aria-label=\"c: 0.367948233888; x: 0.234263066877; y: 0.987819853618\" role=\"graphics-symbol\" aria-roledescription=\"circle\" transform=\"translate(46.852613375300976,2.436029276409535)\" d=\"M2.7386127875258306,0A2.7386127875258306,2.7386127875258306,0,1,1,-2.7386127875258306,0A2.7386127875258306,2.7386127875258306,0,1,1,2.7386127875258306,0\" fill=\"rgb(163, 30, 154)\" stroke-width=\"2\" opacity=\"0.7\"></path><path aria-label=\"c: 0.271520137187; x: 0.888853797887; y: 0.940728757561\" role=\"graphics-symbol\" aria-roledescription=\"circle\" transform=\"translate(177.77075957732958,11.854248487765107)\" d=\"M2.7386127875258306,0A2.7386127875258306,2.7386127875258306,0,1,1,-2.7386127875258306,0A2.7386127875258306,2.7386127875258306,0,1,1,2.7386127875258306,0\" fill=\"rgb(128, 4, 167)\" stroke-width=\"2\" opacity=\"0.7\"></path><path aria-label=\"c: 0.460725037686; x: 0.00169397897619; y: 0.734718748447\" role=\"graphics-symbol\" aria-roledescription=\"circle\" transform=\"translate(0.3387957952385001,53.056250310580836)\" d=\"M2.7386127875258306,0A2.7386127875258306,2.7386127875258306,0,1,1,-2.7386127875258306,0A2.7386127875258306,2.7386127875258306,0,1,1,2.7386127875258306,0\" fill=\"rgb(191, 57, 131)\" stroke-width=\"2\" opacity=\"0.7\"></path><path aria-label=\"c: 0.029701801235; x: 0.919276330098; y: 0.654020154342\" role=\"graphics-symbol\" aria-roledescription=\"circle\" transform=\"translate(183.85526601966058,69.19596913166694)\" d=\"M2.7386127875258306,0A2.7386127875258306,2.7386127875258306,0,1,1,-2.7386127875258306,0A2.7386127875258306,2.7386127875258306,0,1,1,2.7386127875258306,0\" fill=\"rgb(13, 8, 135)\" stroke-width=\"2\" opacity=\"0.7\"></path><path aria-label=\"c: 0.949942195443; x: 0.794282980922; y: 0.521013958388\" role=\"graphics-symbol\" aria-roledescription=\"circle\" transform=\"translate(158.8565961843871,95.79720832245458)\" d=\"M2.7386127875258306,0A2.7386127875258306,2.7386127875258306,0,1,1,-2.7386127875258306,0A2.7386127875258306,2.7386127875258306,0,1,1,2.7386127875258306,0\" fill=\"rgb(245, 235, 39)\" stroke-width=\"2\" opacity=\"0.7\"></path><path aria-label=\"c: 0.21328749265; x: 0.776266917253; y: 0.992135389509\" role=\"graphics-symbol\" aria-roledescription=\"circle\" transform=\"translate(155.2533834506078,1.5729220982443781)\" d=\"M2.7386127875258306,0A2.7386127875258306,2.7386127875258306,0,1,1,-2.7386127875258306,0A2.7386127875258306,2.7386127875258306,0,1,1,2.7386127875258306,0\" fill=\"rgb(103, 0, 168)\" stroke-width=\"2\" opacity=\"0.7\"></path></g><g class=\"mark-group role-legend\" role=\"graphics-symbol\" aria-roledescription=\"legend\" aria-label=\"Gradient legend titled 'c' for fill color with values from 0.0 to 1.0\"><g transform=\"translate(218,0)\"><path class=\"background\" aria-hidden=\"true\" d=\"M0,0h33v216h-33Z\" pointer-events=\"none\"></path><g><g class=\"mark-group role-legend-entry\"><g transform=\"translate(0,16)\"><path class=\"background\" aria-hidden=\"true\" d=\"M0,0h0v0h0Z\" pointer-events=\"none\"></path><g><g class=\"mark-rect role-legend-gradient\" pointer-events=\"none\"><path d=\"M0,0h16v200h-16Z\" fill=\"url(#gradient_0)\" stroke=\"#ddd\" stroke-width=\"0\" opacity=\"0.7\"></path></g><g class=\"mark-text role-legend-label\" pointer-events=\"none\"><text text-anchor=\"start\" transform=\"translate(18,167.17104175582818)\" font-family=\"sans-serif\" font-size=\"10px\" fill=\"#000\" opacity=\"1\">0.2</text><text text-anchor=\"start\" transform=\"translate(18,125.09313546673523)\" font-family=\"sans-serif\" font-size=\"10px\" fill=\"#000\" opacity=\"1\">0.4</text><text text-anchor=\"start\" transform=\"translate(18,83.01522917764228)\" font-family=\"sans-serif\" font-size=\"10px\" fill=\"#000\" opacity=\"1\">0.6</text><text text-anchor=\"start\" transform=\"translate(18,40.937322888549275)\" font-family=\"sans-serif\" font-size=\"10px\" fill=\"#000\" opacity=\"1\">0.8</text></g></g><path class=\"foreground\" aria-hidden=\"true\" d=\"\" pointer-events=\"none\" display=\"none\"></path></g></g><g class=\"mark-text role-legend-title\" pointer-events=\"none\"><text text-anchor=\"start\" transform=\"translate(0,9)\" font-family=\"sans-serif\" font-size=\"11px\" font-weight=\"bold\" fill=\"#000\" opacity=\"1\">c</text></g></g><path class=\"foreground\" aria-hidden=\"true\" d=\"\" pointer-events=\"none\" display=\"none\"></path></g></g></g><path class=\"foreground\" aria-hidden=\"true\" d=\"\" display=\"none\"></path></g></g></g></svg>\n"
      ],
      "text/plain": [
       "@vlplot(\n",
       "    data={\n",
       "        values=...\n",
       "    },\n",
       "    mark=\"circle\",\n",
       "    encoding={\n",
       "        color={\n",
       "            field=\"c\",\n",
       "            scale={\n",
       "                scheme=\"plasma\"\n",
       "            }\n",
       "        },\n",
       "        x={\n",
       "            field=\"x\"\n",
       "        },\n",
       "        y={\n",
       "            field=\"y\"\n",
       "        }\n",
       "    }\n",
       ")"
      ]
     },
     "execution_count": 128,
     "metadata": {},
     "output_type": "execute_result"
    }
   ],
   "source": [
    "p"
   ]
  },
  {
   "cell_type": "code",
   "execution_count": 50,
   "metadata": {},
   "outputs": [
    {
     "data": {
      "text/plain": [
       "test (generic function with 2 methods)"
      ]
     },
     "execution_count": 50,
     "metadata": {},
     "output_type": "execute_result"
    }
   ],
   "source": [
    "function test(;kwargs...)\n",
    "    print(kwargs)\n",
    "    for (key,value) in kwargs\n",
    "        print(key)\n",
    "    end\n",
    "    return Dict(kwargs)\n",
    "end"
   ]
  },
  {
   "cell_type": "code",
   "execution_count": 51,
   "metadata": {},
   "outputs": [
    {
     "data": {
      "text/plain": [
       "test2 (generic function with 1 method)"
      ]
     },
     "execution_count": 51,
     "metadata": {},
     "output_type": "execute_result"
    }
   ],
   "source": [
    "function test2(;kwargs...)\n",
    "    for kwarg in kwargs\n",
    "        test(kwarg)\n",
    "    end\n",
    "end"
   ]
  },
  {
   "cell_type": "code",
   "execution_count": 52,
   "metadata": {},
   "outputs": [
    {
     "name": "stdout",
     "output_type": "stream",
     "text": [
      "Base.Iterators.Pairs(:o => \"ok\")o"
     ]
    },
    {
     "data": {
      "text/plain": [
       "Dict{Symbol, String} with 1 entry:\n",
       "  :o => \"ok\""
      ]
     },
     "execution_count": 52,
     "metadata": {},
     "output_type": "execute_result"
    }
   ],
   "source": [
    "t=test(o=\"ok\")"
   ]
  },
  {
   "cell_type": "code",
   "execution_count": 53,
   "metadata": {},
   "outputs": [
    {
     "data": {
      "text/plain": [
       "Dict{Symbol, String} with 1 entry:\n",
       "  :o => \"ok\""
      ]
     },
     "execution_count": 53,
     "metadata": {},
     "output_type": "execute_result"
    }
   ],
   "source": [
    "t"
   ]
  },
  {
   "cell_type": "code",
   "execution_count": 74,
   "metadata": {},
   "outputs": [
    {
     "data": {
      "application/vnd.vegalite.v4+json": {
       "data": {
        "values": [
         {
          "x": -0.7559790266422084,
          "y": 0.7264613249853538
         },
         {
          "x": 2.2501275198720485,
          "y": 3.894247603787416
         },
         {
          "x": 3.1077378636227473,
          "y": 3.817476297457956
         },
         {
          "x": 0.6609354036457806,
          "y": 1.2845733260935783
         },
         {
          "x": 1.1311835863833564,
          "y": 4.389508033602705
         },
         {
          "x": -0.0734707272466042,
          "y": 0.5782303283617494
         },
         {
          "x": 3.8784043866886297,
          "y": 3.4158543907591135
         },
         {
          "x": 0.6874807656221349,
          "y": 0.7011030631458672
         },
         {
          "x": 0.27785292730446876,
          "y": 2.5530148257119967
         },
         {
          "x": 2.2995257396487663,
          "y": 3.134438202927857
         },
         {
          "x": 3.7656406987176387,
          "y": 2.742835619276854
         },
         {
          "x": 2.203977896681142,
          "y": 2.2072057955849993
         },
         {
          "x": -0.23460559621162114,
          "y": 0.7757600152299782
         },
         {
          "x": 0.9551682143788102,
          "y": 2.1858016712960198
         },
         {
          "x": 3.807527611951134,
          "y": 3.015126968164185
         },
         {
          "x": 1.0516095273699868,
          "y": 1.3482810133685157
         },
         {
          "x": 0.1397499737395157,
          "y": 1.1741477338244177
         },
         {
          "x": 1.5674584228034014,
          "y": 3.1735595483559464
         },
         {
          "x": 0.6380045798376888,
          "y": 1.2596056109932392
         },
         {
          "x": 3.7908241659577575,
          "y": 5.369727374701162
         },
         {
          "x": 3.489393652087202,
          "y": 4.717681083695276
         },
         {
          "x": 2.9385362744505286,
          "y": 4.996388148909635
         },
         {
          "x": 0.21970057742178672,
          "y": 0.8033623056392669
         },
         {
          "x": 3.0462693091197215,
          "y": 3.7191281169913446
         },
         {
          "x": 2.4840474824238115,
          "y": 3.287234880191261
         },
         {
          "x": -0.06544486009611172,
          "y": 2.2601480611109475
         },
         {
          "x": 1.7040087571793676,
          "y": 2.756791060322523
         },
         {
          "x": 2.427530998473565,
          "y": 3.3890127001597024
         },
         {
          "x": -2.077920198422339,
          "y": -0.41423153197146645
         },
         {
          "x": 0.16916853737986015,
          "y": 1.7103828127488692
         },
         {
          "x": -0.9967678237745436,
          "y": 0.0580825384003556
         },
         {
          "x": -0.13231254712757345,
          "y": 1.1723871506183436
         },
         {
          "x": 2.8895015619738222,
          "y": 3.986437744186258
         },
         {
          "x": 3.3046530101478853,
          "y": 3.6423137769071143
         },
         {
          "x": 5.636264026200539,
          "y": 5.021722741166068
         },
         {
          "x": -0.46335070982771165,
          "y": 0.5153465325998554
         },
         {
          "x": -0.12549133145968439,
          "y": 1.0884563198747057
         },
         {
          "x": -0.3199408633136367,
          "y": 2.6483128487779166
         },
         {
          "x": -2.6785757159621597,
          "y": -0.2404251572745526
         },
         {
          "x": 1.8084949040800582,
          "y": 1.7360073676793375
         },
         {
          "x": -0.2013219714804828,
          "y": 0.6342454246170415
         },
         {
          "x": -1.6853720461079411,
          "y": 0.49592144922514336
         },
         {
          "x": 0.5540195136790832,
          "y": 2.4036613060679706
         },
         {
          "x": 0.8971564431949439,
          "y": 0.6559972180325302
         },
         {
          "x": 3.115866560268819,
          "y": 2.724631076189942
         },
         {
          "x": 4.012671618942663,
          "y": 3.9793936729355215
         },
         {
          "x": -2.632009722312445,
          "y": -1.1449862584685095
         },
         {
          "x": 1.2020252570386314,
          "y": 2.155319117384096
         },
         {
          "x": 0.13092391940574866,
          "y": 2.303006829110335
         },
         {
          "x": 3.059832334947378,
          "y": 2.3330608329317952
         },
         {
          "x": -2.4815568783497826,
          "y": -0.8077768651608594
         },
         {
          "x": 2.5403154626836564,
          "y": 3.5869151061025595
         },
         {
          "x": 3.940147725215076,
          "y": 4.441765273998261
         },
         {
          "x": 0.7806091923737567,
          "y": 0.7261673998020453
         },
         {
          "x": -0.5743336144916982,
          "y": 2.0569383359117666
         },
         {
          "x": 2.30872666652952,
          "y": 3.570615834792374
         },
         {
          "x": -0.43171716649964,
          "y": 0.9877173522463527
         },
         {
          "x": -0.3778088987989563,
          "y": 0.92259545333117
         },
         {
          "x": -0.29420045726374,
          "y": 1.2296034219310328
         },
         {
          "x": 2.282706648127828,
          "y": 3.3323787661461335
         },
         {
          "x": 3.1908680404209346,
          "y": 2.6054732734958175
         },
         {
          "x": -1.2039816300910742,
          "y": -0.22866910013294195
         },
         {
          "x": 1.6037514780716942,
          "y": 2.6956028794113367
         },
         {
          "x": 3.2123681164468234,
          "y": 2.5707579239901808
         },
         {
          "x": 1.2931555217410802,
          "y": 3.126774612780636
         },
         {
          "x": -1.5958296389562752,
          "y": -1.0665215424619832
         },
         {
          "x": 1.421727869279626,
          "y": 3.853077780041341
         },
         {
          "x": 1.0994236997353282,
          "y": 2.0762599341655585
         },
         {
          "x": 1.8546864668269043,
          "y": 2.4482038235269945
         },
         {
          "x": -2.3730539615137842,
          "y": -0.37477285597575927
         },
         {
          "x": -0.9297865392575644,
          "y": 0.48871422093687933
         },
         {
          "x": 1.4068654122991222,
          "y": 4.2920622705000895
         },
         {
          "x": 1.6630984916096443,
          "y": 2.742807132075005
         },
         {
          "x": 0.4715156509905615,
          "y": 1.8932446102121834
         },
         {
          "x": 0.34174181090254674,
          "y": 0.34366463174400197
         },
         {
          "x": -1.1239537728388402,
          "y": 0.7682723646708458
         },
         {
          "x": -0.6667384975546147,
          "y": 0.7667120742488425
         },
         {
          "x": -0.04536437090269718,
          "y": 2.522336675328839
         },
         {
          "x": 0.37790534410529997,
          "y": 0.6336529359760108
         },
         {
          "x": 2.893695801301514,
          "y": 2.4000839931879523
         },
         {
          "x": 1.5383204068435345,
          "y": 1.9845186538644715
         },
         {
          "x": -2.212765113646531,
          "y": -1.2533780459828394
         },
         {
          "x": -0.5736977013217397,
          "y": 1.6377330839549555
         },
         {
          "x": 1.8898974225958278,
          "y": 1.7397004688175302
         },
         {
          "x": 2.4811572741985897,
          "y": 3.04880376777981
         },
         {
          "x": 1.2467003010743594,
          "y": 3.309423769918236
         },
         {
          "x": 1.288371662922193,
          "y": 2.5021839358912312
         },
         {
          "x": 1.1036798604174995,
          "y": 3.130458853923035
         },
         {
          "x": 2.647749066428344,
          "y": 4.0823276055506055
         },
         {
          "x": 0.45996695121281106,
          "y": 2.1085498574601496
         },
         {
          "x": -0.23625246853718918,
          "y": 0.712238528261472
         },
         {
          "x": 3.328180695135818,
          "y": 4.070628080049727
         },
         {
          "x": 3.216333932759522,
          "y": 3.6651541753826127
         },
         {
          "x": 2.2101577832416988,
          "y": 2.0363252312802818
         },
         {
          "x": 0.9500545939741013,
          "y": 1.7611345326975452
         },
         {
          "x": -1.3856518821758388,
          "y": -0.23266928596065828
         },
         {
          "x": -0.5906429426926219,
          "y": 1.603473196242684
         },
         {
          "x": 1.7089124862397316,
          "y": 2.06455413736853
         },
         {
          "x": -0.9300829645453881,
          "y": 1.2526765646962899
         },
         {
          "x": 1.483106655721823,
          "y": 2.3351595497026736
         },
         {
          "x": -0.7369047530971116,
          "y": 1.2442261964287384
         },
         {
          "x": -0.6842250112912465,
          "y": 0.9617585184802411
         },
         {
          "x": 0.016592909783161747,
          "y": 1.8776780690633652
         },
         {
          "x": -1.0490446717669735,
          "y": 1.5948954196792071
         },
         {
          "x": 2.6370880308752853,
          "y": 2.317231336095614
         },
         {
          "x": -2.199684692295185,
          "y": 0.6158782344137133
         },
         {
          "x": 2.872186619167432,
          "y": 3.76039892763601
         },
         {
          "x": -0.27715699137462413,
          "y": 0.07098377574208214
         },
         {
          "x": 3.1729241714869634,
          "y": 3.7829613933780664
         },
         {
          "x": -0.7551539241524012,
          "y": 1.841839276779104
         },
         {
          "x": 1.085640927943154,
          "y": 2.320960497985998
         },
         {
          "x": -2.6182536086915733,
          "y": -0.6104151843208228
         },
         {
          "x": -1.629694958310683,
          "y": 0.6066002053595263
         },
         {
          "x": -1.8541543627924053,
          "y": 0.9972190490405843
         },
         {
          "x": 2.4092952307028397,
          "y": 2.1613387514706117
         },
         {
          "x": 0.9999435295956571,
          "y": 1.996843652013519
         },
         {
          "x": 2.1327502712988133,
          "y": 3.945089187268496
         },
         {
          "x": -0.5457570475151732,
          "y": 0.9831068384948256
         },
         {
          "x": -0.24295399063691647,
          "y": 0.8919035384179037
         },
         {
          "x": 4.574563098067081,
          "y": 3.4373433134217537
         },
         {
          "x": 2.723528330591552,
          "y": 1.964963775327659
         },
         {
          "x": 2.081332344319725,
          "y": 1.7959797054083233
         },
         {
          "x": -0.07091914174192415,
          "y": 1.6905358384825373
         },
         {
          "x": 1.0100103523037143,
          "y": 2.173406549835959
         },
         {
          "x": 1.3414957692453973,
          "y": 2.307699419041637
         },
         {
          "x": -1.951394804512021,
          "y": -0.293813580225176
         },
         {
          "x": 0.21508912443524342,
          "y": 1.4869032472316657
         },
         {
          "x": 0.6711595780758008,
          "y": 1.7090011911976841
         },
         {
          "x": 2.00875365849373,
          "y": 3.7660600103077293
         },
         {
          "x": 0.24320510028057263,
          "y": 1.14317664365735
         },
         {
          "x": 3.6117187704433253,
          "y": 4.1787693357755415
         },
         {
          "x": -1.643809352963482,
          "y": 0.04895408425431613
         },
         {
          "x": 0.9897826997990592,
          "y": 1.561014174418121
         },
         {
          "x": 2.2473225343195624,
          "y": 2.6549286848303946
         },
         {
          "x": -0.8567904931665569,
          "y": 2.1318976801000673
         },
         {
          "x": 0.8172254644336145,
          "y": 2.049239945236541
         },
         {
          "x": 1.1637141937100859,
          "y": 1.32610327819008
         },
         {
          "x": 3.4001479264438306,
          "y": 4.809758835185926
         },
         {
          "x": 0.8128633719972926,
          "y": 3.047598582422683
         },
         {
          "x": 2.3704007988755222,
          "y": 3.1141789971843385
         },
         {
          "x": 1.7269763485186225,
          "y": 2.4326036783399627
         },
         {
          "x": 3.0031304264711505,
          "y": 3.5357797136426448
         },
         {
          "x": 2.8748623807184863,
          "y": 3.478655493594119
         },
         {
          "x": 0.866348844570419,
          "y": 1.3088731101981055
         },
         {
          "x": 2.6867165277474934,
          "y": 2.8868808553875507
         },
         {
          "x": 0.7504036175864179,
          "y": 2.705479100306633
         },
         {
          "x": 2.968044233549734,
          "y": 3.9629814523627256
         },
         {
          "x": 2.111193263212562,
          "y": 1.534606993187979
         },
         {
          "x": 2.4688573506540017,
          "y": 2.7237928456516647
         },
         {
          "x": 0.025873929923350136,
          "y": 1.4191441045277862
         },
         {
          "x": -0.12098049361684571,
          "y": -1.8509460173428858
         },
         {
          "x": 0.7254477975692268,
          "y": 1.64859568575794
         },
         {
          "x": 0.09003750828475399,
          "y": 1.892565479206823
         },
         {
          "x": 0.12189430392642975,
          "y": 1.9113048056176187
         },
         {
          "x": -0.20001765288695128,
          "y": 2.38536345596849
         },
         {
          "x": 2.0482917330446373,
          "y": 2.508385481153893
         },
         {
          "x": -1.3440817590503666,
          "y": -0.3227774997622026
         },
         {
          "x": -1.74476825717433,
          "y": 0.5046115894340342
         },
         {
          "x": -0.06272212810896294,
          "y": 1.8962872741344348
         },
         {
          "x": -1.1093681206229582,
          "y": 0.6353171083775346
         },
         {
          "x": 0.44723453735940355,
          "y": 1.6957889627339946
         },
         {
          "x": 2.4116030413701215,
          "y": 1.708871374708979
         },
         {
          "x": 3.2869242793941265,
          "y": 2.01605397223758
         },
         {
          "x": 3.4848948892938707,
          "y": 3.71432599677711
         },
         {
          "x": 0.42769784528209853,
          "y": 3.0392432635818425
         },
         {
          "x": 0.9944660492521499,
          "y": 3.423391919101844
         },
         {
          "x": 0.5489406846076322,
          "y": 0.4163031251883711
         },
         {
          "x": 0.6410905130000406,
          "y": 1.7351504255530792
         },
         {
          "x": 4.7561683134673185,
          "y": 3.08382736787446
         },
         {
          "x": 0.7300106912363233,
          "y": 1.1887839356157741
         },
         {
          "x": 0.2940837375643055,
          "y": 1.6250042607611457
         },
         {
          "x": -1.02454407262036,
          "y": 0.8456252239806497
         },
         {
          "x": -0.06183274121925009,
          "y": 1.6158028320793307
         },
         {
          "x": 2.2252427939083583,
          "y": 2.488547874026727
         },
         {
          "x": 3.760859516640942,
          "y": 3.907379501963031
         },
         {
          "x": 2.938011437821044,
          "y": 3.7245236749455097
         },
         {
          "x": 1.3324555551472765,
          "y": 4.275644459558915
         },
         {
          "x": 0.8656965846934076,
          "y": 2.216793659702454
         },
         {
          "x": -0.428461184236437,
          "y": 1.4034475863368407
         },
         {
          "x": 0.0286237185838486,
          "y": -0.29680493620300474
         },
         {
          "x": -0.6266780975382966,
          "y": 0.8632413569340511
         },
         {
          "x": 1.3261513000768022,
          "y": -0.25234098454552845
         },
         {
          "x": 2.4996348512216597,
          "y": 3.1238543377982912
         },
         {
          "x": 1.3743281252094364,
          "y": 1.9951749416696019
         },
         {
          "x": 0.04636408913400891,
          "y": 1.333759178219816
         },
         {
          "x": 2.040136561231303,
          "y": 4.04936999341828
         },
         {
          "x": 1.1483778715837492,
          "y": 0.9243512005732302
         },
         {
          "x": -1.949437486430833,
          "y": 1.4622685868337153
         },
         {
          "x": -2.1146674392829437,
          "y": -0.2496051771075467
         },
         {
          "x": 1.849390705830571,
          "y": 4.197053643209108
         },
         {
          "x": 0.747100137103528,
          "y": 0.3627769814621198
         },
         {
          "x": 2.0016426130916525,
          "y": 2.1458623398502374
         },
         {
          "x": -0.1284707502034821,
          "y": 1.4909529018292287
         },
         {
          "x": -0.3136736626511283,
          "y": 2.385123521050705
         },
         {
          "x": -0.15987187706252404,
          "y": 0.613405408119668
         },
         {
          "x": 4.142721028436535,
          "y": 3.6554434321025226
         },
         {
          "x": 2.5267094957142717,
          "y": 3.6829731342883627
         },
         {
          "x": -1.3832501618172843,
          "y": 1.3620238296188476
         },
         {
          "x": 0.08082507318137488,
          "y": 1.5536055755866411
         },
         {
          "x": -0.6150144075027113,
          "y": 0.12397470774307084
         },
         {
          "x": 2.5726100364206967,
          "y": 3.2405237858360687
         },
         {
          "x": 0.9018562067120885,
          "y": 2.546153789594065
         },
         {
          "x": 3.733153720898013,
          "y": 3.850914198862691
         },
         {
          "x": -0.5431876937518574,
          "y": 1.764998029017762
         },
         {
          "x": 2.7879834859653885,
          "y": 2.3973304849522554
         },
         {
          "x": 0.5294939027207677,
          "y": 2.550067664194263
         },
         {
          "x": 0.8074700022736192,
          "y": 1.9485771613977598
         },
         {
          "x": 2.004531430820073,
          "y": 2.134122691448857
         },
         {
          "x": -0.5772543077007906,
          "y": -0.13985832684942778
         },
         {
          "x": -3.371277998718856,
          "y": -0.660602884524907
         },
         {
          "x": 1.8525569782252658,
          "y": 2.601913014434565
         },
         {
          "x": 3.3799885413857536,
          "y": 4.312200843789908
         },
         {
          "x": -1.511153409136989,
          "y": 0.5735324656907128
         },
         {
          "x": 0.646182227000669,
          "y": 1.1151743797677973
         },
         {
          "x": -3.0385145479014657,
          "y": -1.5261771604817347
         },
         {
          "x": 3.2102111702503278,
          "y": 3.159540186657071
         },
         {
          "x": 0.2867498813674495,
          "y": 1.5701580417959793
         },
         {
          "x": 0.23486530034010566,
          "y": 1.7238192489888466
         },
         {
          "x": 0.5060535485061208,
          "y": 2.216694265426954
         },
         {
          "x": 3.274249069460642,
          "y": 2.273766414295249
         },
         {
          "x": 1.326308030630102,
          "y": 2.6441643182408825
         },
         {
          "x": -0.7302931328050253,
          "y": 1.602873073980136
         },
         {
          "x": -0.6794840867982228,
          "y": 0.5672067307455808
         },
         {
          "x": 1.1766049813782078,
          "y": 2.759224982476696
         },
         {
          "x": 3.729090202107894,
          "y": 3.818589809046537
         },
         {
          "x": -0.5251354140776043,
          "y": 0.7619873854977479
         },
         {
          "x": 3.175682958649489,
          "y": 3.1226435036047953
         },
         {
          "x": -0.4807512408497594,
          "y": 1.7663856134969866
         },
         {
          "x": 0.7563379999819462,
          "y": 1.4632724628524634
         },
         {
          "x": 1.3382069357681183,
          "y": 2.0930263458224174
         },
         {
          "x": 1.1069169639308611,
          "y": 2.080108023890598
         },
         {
          "x": 1.184237192666498,
          "y": 1.1147478444709198
         },
         {
          "x": 3.705474735347331,
          "y": 4.380963063313535
         },
         {
          "x": 2.01054456669882,
          "y": 4.374098433611995
         },
         {
          "x": 4.329035421843843,
          "y": 5.249515047378483
         },
         {
          "x": 3.2591474519157804,
          "y": 4.405870060473463
         },
         {
          "x": 2.475575738829323,
          "y": 2.359475392462601
         },
         {
          "x": -0.005730995262436922,
          "y": 1.5593132642741643
         },
         {
          "x": 3.1127700966655127,
          "y": 3.0933665023436023
         },
         {
          "x": -0.1100068714411615,
          "y": -0.13307810221314043
         },
         {
          "x": 1.0639058459868789,
          "y": 1.684214568450495
         },
         {
          "x": -1.683739988842512,
          "y": -0.1689183697485026
         },
         {
          "x": -2.4247973412064137,
          "y": 0.48225783654106547
         },
         {
          "x": 0.39968051937414917,
          "y": 1.840441428627728
         },
         {
          "x": 2.2137997369405085,
          "y": 2.7532437543044512
         },
         {
          "x": 3.049952753546093,
          "y": 2.875477394725487
         },
         {
          "x": 1.390853460042353,
          "y": 1.5103995614259234
         },
         {
          "x": 2.9113158271255974,
          "y": 4.084667611017627
         },
         {
          "x": 1.1372275452136638,
          "y": 3.237539915851981
         },
         {
          "x": 1.3036683028597087,
          "y": 2.4300985934436037
         },
         {
          "x": 2.2290467783583274,
          "y": 2.7224149158668522
         },
         {
          "x": -0.16350762588211687,
          "y": 3.005313207504593
         },
         {
          "x": 1.2501577932685404,
          "y": 2.8361607164715403
         },
         {
          "x": 1.6180866385581054,
          "y": 2.1441093909690987
         },
         {
          "x": 2.9572883718577185,
          "y": 3.845583046419127
         },
         {
          "x": 3.203546595580171,
          "y": 3.4263382809920255
         },
         {
          "x": 0.18784385009523352,
          "y": 3.6016946918817343
         },
         {
          "x": -0.5143415518600867,
          "y": 1.5783929696136698
         },
         {
          "x": 2.467177831597806,
          "y": 1.9351535484493376
         },
         {
          "x": -1.8245164873439013,
          "y": 1.1308927429664082
         },
         {
          "x": -0.20269447715152755,
          "y": 0.952497418219227
         },
         {
          "x": 2.6971511123254297,
          "y": 3.5369715424216572
         },
         {
          "x": 0.49207714221874577,
          "y": 2.452761576033056
         },
         {
          "x": 1.5828748664929084,
          "y": 2.371850225026231
         },
         {
          "x": -0.3996549613428484,
          "y": 0.4234883517391417
         },
         {
          "x": 0.7957223720417714,
          "y": 2.9231129265178617
         },
         {
          "x": 3.520446412582578,
          "y": 3.607647260177222
         },
         {
          "x": 2.7392935157315073,
          "y": 2.7633363981905728
         },
         {
          "x": 0.9348655049184406,
          "y": 1.2658658207471238
         },
         {
          "x": 3.0128620763351925,
          "y": 2.2840156908062674
         },
         {
          "x": 0.012499875607745903,
          "y": 2.0530791156430954
         },
         {
          "x": 1.916885962570328,
          "y": 2.9818754438286477
         },
         {
          "x": 1.4538772082756721,
          "y": 1.4033154591837964
         },
         {
          "x": 0.5939373635371198,
          "y": 2.293371775817475
         },
         {
          "x": -0.5570372750231476,
          "y": 1.7589718133453123
         },
         {
          "x": 3.272477569410927,
          "y": 4.061008764673874
         },
         {
          "x": 2.6628664052737223,
          "y": 3.3747492132213264
         },
         {
          "x": 0.36007693641596883,
          "y": 2.432331205584245
         },
         {
          "x": -0.24168250139416791,
          "y": 1.0813584309069881
         },
         {
          "x": 3.0714850969702625,
          "y": 3.4359514536382987
         },
         {
          "x": 1.0202048202698095,
          "y": 0.9193130491052206
         },
         {
          "x": 0.1377461495582626,
          "y": 1.357124133603862
         },
         {
          "x": 0.875102343094891,
          "y": 1.5564402858214892
         },
         {
          "x": 0.33249861231546374,
          "y": 1.3035644922027623
         },
         {
          "x": 1.686134668800831,
          "y": 3.2006145249879854
         },
         {
          "x": 2.4051350708203683,
          "y": 3.3653940102327264
         },
         {
          "x": 3.15818478210453,
          "y": 2.7874877399272284
         },
         {
          "x": 2.7298485994328154,
          "y": 3.875910500437275
         },
         {
          "x": 2.0196323000613035,
          "y": 3.2102917487547016
         },
         {
          "x": 3.0080412804047456,
          "y": 2.0076681280744753
         },
         {
          "x": -1.3704478409935716,
          "y": 0.5084345491581967
         },
         {
          "x": 2.4743563365271894,
          "y": 1.6436139663210314
         },
         {
          "x": 0.06448067491485288,
          "y": 0.26342660565489484
         },
         {
          "x": -1.041919827981196,
          "y": 0.9393367991540789
         },
         {
          "x": 3.1727436041116195,
          "y": 4.259215189084681
         },
         {
          "x": 1.6512112956475418,
          "y": 2.528422576075722
         },
         {
          "x": 0.6778248486948575,
          "y": 2.1514365211864055
         },
         {
          "x": 1.595580203339018,
          "y": 2.389665592375914
         },
         {
          "x": -1.484496444794293,
          "y": 0.5341178224436587
         },
         {
          "x": 0.051116819771610755,
          "y": 0.8592554374412904
         }
        ]
       },
       "encoding": {
        "x": {
         "field": "x",
         "type": "quantitative"
        },
        "y": {
         "field": "y",
         "type": "quantitative"
        }
       },
       "mark": "circle"
      },
      "image/png": "[encoded data removed]",
      "image/svg+xml": [
       "<?xml version=\"1.0\" encoding=\"utf-8\"?>\n",
       "<!DOCTYPE svg PUBLIC \"-//W3C//DTD SVG 1.1//EN\" \"http://www.w3.org/Graphics/SVG/1.1/DTD/svg11.dtd\">\n",
       "<svg class=\"marks\" width=\"243\" height=\"247\" viewBox=\"0 0 243 247\" version=\"1.1\" xmlns=\"http://www.w3.org/2000/svg\" xmlns:xlink=\"http://www.w3.org/1999/xlink\"><rect width=\"243\" height=\"247\" fill=\"white\"></rect><g fill=\"none\" stroke-miterlimit=\"10\" transform=\"translate(37,10)\"><g class=\"mark-group role-frame root\" role=\"graphics-object\" aria-roledescription=\"group mark container\"><g transform=\"translate(0,0)\"><path class=\"background\" aria-hidden=\"true\" d=\"M0.5,0.5h200v200h-200Z\" stroke=\"#ddd\"></path><g><g class=\"mark-group role-axis\" aria-hidden=\"true\"><g transform=\"translate(0.5,200.5)\"><path class=\"background\" aria-hidden=\"true\" d=\"M0,0h0v0h0Z\" pointer-events=\"none\"></path><g><g class=\"mark-rule role-axis-grid\" pointer-events=\"none\"><line transform=\"translate(0,-200)\" x2=\"0\" y2=\"200\" stroke=\"#ddd\" stroke-width=\"1\" opacity=\"1\"></line><line transform=\"translate(40,-200)\" x2=\"0\" y2=\"200\" stroke=\"#ddd\" stroke-width=\"1\" opacity=\"1\"></line><line transform=\"translate(80,-200)\" x2=\"0\" y2=\"200\" stroke=\"#ddd\" stroke-width=\"1\" opacity=\"1\"></line><line transform=\"translate(120,-200)\" x2=\"0\" y2=\"200\" stroke=\"#ddd\" stroke-width=\"1\" opacity=\"1\"></line><line transform=\"translate(160,-200)\" x2=\"0\" y2=\"200\" stroke=\"#ddd\" stroke-width=\"1\" opacity=\"1\"></line><line transform=\"translate(200,-200)\" x2=\"0\" y2=\"200\" stroke=\"#ddd\" stroke-width=\"1\" opacity=\"1\"></line></g></g><path class=\"foreground\" aria-hidden=\"true\" d=\"\" pointer-events=\"none\" display=\"none\"></path></g></g><g class=\"mark-group role-axis\" aria-hidden=\"true\"><g transform=\"translate(0.5,0.5)\"><path class=\"background\" aria-hidden=\"true\" d=\"M0,0h0v0h0Z\" pointer-events=\"none\"></path><g><g class=\"mark-rule role-axis-grid\" pointer-events=\"none\"><line transform=\"translate(0,200)\" x2=\"200\" y2=\"0\" stroke=\"#ddd\" stroke-width=\"1\" opacity=\"1\"></line><line transform=\"translate(0,150)\" x2=\"200\" y2=\"0\" stroke=\"#ddd\" stroke-width=\"1\" opacity=\"1\"></line><line transform=\"translate(0,100)\" x2=\"200\" y2=\"0\" stroke=\"#ddd\" stroke-width=\"1\" opacity=\"1\"></line><line transform=\"translate(0,50)\" x2=\"200\" y2=\"0\" stroke=\"#ddd\" stroke-width=\"1\" opacity=\"1\"></line><line transform=\"translate(0,0)\" x2=\"200\" y2=\"0\" stroke=\"#ddd\" stroke-width=\"1\" opacity=\"1\"></line></g></g><path class=\"foreground\" aria-hidden=\"true\" d=\"\" pointer-events=\"none\" display=\"none\"></path></g></g><g class=\"mark-group role-axis\" role=\"graphics-symbol\" aria-roledescription=\"axis\" aria-label=\"X-axis titled 'x' for a linear scale with values from -4 to 6\"><g transform=\"translate(0.5,200.5)\"><path class=\"background\" aria-hidden=\"true\" d=\"M0,0h0v0h0Z\" pointer-events=\"none\"></path><g><g class=\"mark-rule role-axis-tick\" pointer-events=\"none\"><line transform=\"translate(0,0)\" x2=\"0\" y2=\"5\" stroke=\"#888\" stroke-width=\"1\" opacity=\"1\"></line><line transform=\"translate(40,0)\" x2=\"0\" y2=\"5\" stroke=\"#888\" stroke-width=\"1\" opacity=\"1\"></line><line transform=\"translate(80,0)\" x2=\"0\" y2=\"5\" stroke=\"#888\" stroke-width=\"1\" opacity=\"1\"></line><line transform=\"translate(120,0)\" x2=\"0\" y2=\"5\" stroke=\"#888\" stroke-width=\"1\" opacity=\"1\"></line><line transform=\"translate(160,0)\" x2=\"0\" y2=\"5\" stroke=\"#888\" stroke-width=\"1\" opacity=\"1\"></line><line transform=\"translate(200,0)\" x2=\"0\" y2=\"5\" stroke=\"#888\" stroke-width=\"1\" opacity=\"1\"></line></g><g class=\"mark-text role-axis-label\" pointer-events=\"none\"><text text-anchor=\"start\" transform=\"translate(0,15)\" font-family=\"sans-serif\" font-size=\"10px\" fill=\"#000\" opacity=\"1\">-4</text><text text-anchor=\"middle\" transform=\"translate(40,15)\" font-family=\"sans-serif\" font-size=\"10px\" fill=\"#000\" opacity=\"1\">-2</text><text text-anchor=\"middle\" transform=\"translate(80,15)\" font-family=\"sans-serif\" font-size=\"10px\" fill=\"#000\" opacity=\"1\">0</text><text text-anchor=\"middle\" transform=\"translate(120,15)\" font-family=\"sans-serif\" font-size=\"10px\" fill=\"#000\" opacity=\"1\">2</text><text text-anchor=\"middle\" transform=\"translate(160,15)\" font-family=\"sans-serif\" font-size=\"10px\" fill=\"#000\" opacity=\"1\">4</text><text text-anchor=\"end\" transform=\"translate(200,15)\" font-family=\"sans-serif\" font-size=\"10px\" fill=\"#000\" opacity=\"1\">6</text></g><g class=\"mark-rule role-axis-domain\" pointer-events=\"none\"><line transform=\"translate(0,0)\" x2=\"200\" y2=\"0\" stroke=\"#888\" stroke-width=\"1\" opacity=\"1\"></line></g><g class=\"mark-text role-axis-title\" pointer-events=\"none\"><text text-anchor=\"middle\" transform=\"translate(100,30)\" font-family=\"sans-serif\" font-size=\"11px\" font-weight=\"bold\" fill=\"#000\" opacity=\"1\">x</text></g></g><path class=\"foreground\" aria-hidden=\"true\" d=\"\" pointer-events=\"none\" display=\"none\"></path></g></g><g class=\"mark-group role-axis\" role=\"graphics-symbol\" aria-roledescription=\"axis\" aria-label=\"Y-axis titled 'y' for a linear scale with values from -2 to 6\"><g transform=\"translate(0.5,0.5)\"><path class=\"background\" aria-hidden=\"true\" d=\"M0,0h0v0h0Z\" pointer-events=\"none\"></path><g><g class=\"mark-rule role-axis-tick\" pointer-events=\"none\"><line transform=\"translate(0,200)\" x2=\"-5\" y2=\"0\" stroke=\"#888\" stroke-width=\"1\" opacity=\"1\"></line><line transform=\"translate(0,150)\" x2=\"-5\" y2=\"0\" stroke=\"#888\" stroke-width=\"1\" opacity=\"1\"></line><line transform=\"translate(0,100)\" x2=\"-5\" y2=\"0\" stroke=\"#888\" stroke-width=\"1\" opacity=\"1\"></line><line transform=\"translate(0,50)\" x2=\"-5\" y2=\"0\" stroke=\"#888\" stroke-width=\"1\" opacity=\"1\"></line><line transform=\"translate(0,0)\" x2=\"-5\" y2=\"0\" stroke=\"#888\" stroke-width=\"1\" opacity=\"1\"></line></g><g class=\"mark-text role-axis-label\" pointer-events=\"none\"><text text-anchor=\"end\" transform=\"translate(-7,203)\" font-family=\"sans-serif\" font-size=\"10px\" fill=\"#000\" opacity=\"1\">-2</text><text text-anchor=\"end\" transform=\"translate(-7,153)\" font-family=\"sans-serif\" font-size=\"10px\" fill=\"#000\" opacity=\"1\">0</text><text text-anchor=\"end\" transform=\"translate(-7,103)\" font-family=\"sans-serif\" font-size=\"10px\" fill=\"#000\" opacity=\"1\">2</text><text text-anchor=\"end\" transform=\"translate(-7,53)\" font-family=\"sans-serif\" font-size=\"10px\" fill=\"#000\" opacity=\"1\">4</text><text text-anchor=\"end\" transform=\"translate(-7,3)\" font-family=\"sans-serif\" font-size=\"10px\" fill=\"#000\" opacity=\"1\">6</text></g><g class=\"mark-rule role-axis-domain\" pointer-events=\"none\"><line transform=\"translate(0,200)\" x2=\"0\" y2=\"-200\" stroke=\"#888\" stroke-width=\"1\" opacity=\"1\"></line></g><g class=\"mark-text role-axis-title\" pointer-events=\"none\"><text text-anchor=\"middle\" transform=\"translate(-21,100) rotate(-90) translate(0,-2)\" font-family=\"sans-serif\" font-size=\"11px\" font-weight=\"bold\" fill=\"#000\" opacity=\"1\">y</text></g></g><path class=\"foreground\" aria-hidden=\"true\" d=\"\" pointer-events=\"none\" display=\"none\"></path></g></g><g class=\"mark-symbol role-mark marks\" role=\"graphics-object\" aria-roledescription=\"symbol mark container\"><path aria-label=\"x: -0.755979026642; y: 0.726461324985\" role=\"graphics-symbol\" aria-roledescription=\"circle\" transform=\"translate(64.88041946715583,131.83846687536615)\" d=\"M2.7386127875258306,0A2.7386127875258306,2.7386127875258306,0,1,1,-2.7386127875258306,0A2.7386127875258306,2.7386127875258306,0,1,1,2.7386127875258306,0\" fill=\"#4c78a8\" stroke-width=\"2\" opacity=\"0.7\"></path><path aria-label=\"x: 2.25012751987; y: 3.89424760379\" role=\"graphics-symbol\" aria-roledescription=\"circle\" transform=\"translate(125.00255039744097,52.64380990531458)\" d=\"M2.7386127875258306,0A2.7386127875258306,2.7386127875258306,0,1,1,-2.7386127875258306,0A2.7386127875258306,2.7386127875258306,0,1,1,2.7386127875258306,0\" fill=\"#4c78a8\" stroke-width=\"2\" opacity=\"0.7\"></path><path aria-label=\"x: 3.10773786362; y: 3.81747629746\" role=\"graphics-symbol\" aria-roledescription=\"circle\" transform=\"translate(142.15475727245496,54.563092563551095)\" d=\"M2.7386127875258306,0A2.7386127875258306,2.7386127875258306,0,1,1,-2.7386127875258306,0A2.7386127875258306,2.7386127875258306,0,1,1,2.7386127875258306,0\" fill=\"#4c78a8\" stroke-width=\"2\" opacity=\"0.7\"></path><path aria-label=\"x: 0.660935403646; y: 1.28457332609\" role=\"graphics-symbol\" aria-roledescription=\"circle\" transform=\"translate(93.2187080729156,117.88566684766053)\" d=\"M2.7386127875258306,0A2.7386127875258306,2.7386127875258306,0,1,1,-2.7386127875258306,0A2.7386127875258306,2.7386127875258306,0,1,1,2.7386127875258306,0\" fill=\"#4c78a8\" stroke-width=\"2\" opacity=\"0.7\"></path><path aria-label=\"x: 1.13118358638; y: 4.3895080336\" role=\"graphics-symbol\" aria-roledescription=\"circle\" transform=\"translate(102.62367172766713,40.26229915993238)\" d=\"M2.7386127875258306,0A2.7386127875258306,2.7386127875258306,0,1,1,-2.7386127875258306,0A2.7386127875258306,2.7386127875258306,0,1,1,2.7386127875258306,0\" fill=\"#4c78a8\" stroke-width=\"2\" opacity=\"0.7\"></path><path aria-label=\"x: -0.0734707272466; y: 0.578230328362\" role=\"graphics-symbol\" aria-roledescription=\"circle\" transform=\"translate(78.53058545506791,135.54424179095625)\" d=\"M2.7386127875258306,0A2.7386127875258306,2.7386127875258306,0,1,1,-2.7386127875258306,0A2.7386127875258306,2.7386127875258306,0,1,1,2.7386127875258306,0\" fill=\"#4c78a8\" stroke-width=\"2\" opacity=\"0.7\"></path><path aria-label=\"x: 3.87840438669; y: 3.41585439076\" role=\"graphics-symbol\" aria-roledescription=\"circle\" transform=\"translate(157.5680877337726,64.60364023102217)\" d=\"M2.7386127875258306,0A2.7386127875258306,2.7386127875258306,0,1,1,-2.7386127875258306,0A2.7386127875258306,2.7386127875258306,0,1,1,2.7386127875258306,0\" fill=\"#4c78a8\" stroke-width=\"2\" opacity=\"0.7\"></path><path aria-label=\"x: 0.687480765622; y: 0.701103063146\" role=\"graphics-symbol\" aria-roledescription=\"circle\" transform=\"translate(93.7496153124427,132.4724234213533)\" d=\"M2.7386127875258306,0A2.7386127875258306,2.7386127875258306,0,1,1,-2.7386127875258306,0A2.7386127875258306,2.7386127875258306,0,1,1,2.7386127875258306,0\" fill=\"#4c78a8\" stroke-width=\"2\" opacity=\"0.7\"></path><path aria-label=\"x: 0.277852927304; y: 2.55301482571\" role=\"graphics-symbol\" aria-roledescription=\"circle\" transform=\"translate(85.55705854608938,86.17462935720009)\" d=\"M2.7386127875258306,0A2.7386127875258306,2.7386127875258306,0,1,1,-2.7386127875258306,0A2.7386127875258306,2.7386127875258306,0,1,1,2.7386127875258306,0\" fill=\"#4c78a8\" stroke-width=\"2\" opacity=\"0.7\"></path><path aria-label=\"x: 2.29952573965; y: 3.13443820293\" role=\"graphics-symbol\" aria-roledescription=\"circle\" transform=\"translate(125.99051479297532,71.63904492680358)\" d=\"M2.7386127875258306,0A2.7386127875258306,2.7386127875258306,0,1,1,-2.7386127875258306,0A2.7386127875258306,2.7386127875258306,0,1,1,2.7386127875258306,0\" fill=\"#4c78a8\" stroke-width=\"2\" opacity=\"0.7\"></path><path aria-label=\"x: 3.76564069872; y: 2.74283561928\" role=\"graphics-symbol\" aria-roledescription=\"circle\" transform=\"translate(155.31281397435276,81.42910951807865)\" d=\"M2.7386127875258306,0A2.7386127875258306,2.7386127875258306,0,1,1,-2.7386127875258306,0A2.7386127875258306,2.7386127875258306,0,1,1,2.7386127875258306,0\" fill=\"#4c78a8\" stroke-width=\"2\" opacity=\"0.7\"></path><path aria-label=\"x: 2.20397789668; y: 2.20720579558\" role=\"graphics-symbol\" aria-roledescription=\"circle\" transform=\"translate(124.07955793362284,94.81985511037503)\" d=\"M2.7386127875258306,0A2.7386127875258306,2.7386127875258306,0,1,1,-2.7386127875258306,0A2.7386127875258306,2.7386127875258306,0,1,1,2.7386127875258306,0\" fill=\"#4c78a8\" stroke-width=\"2\" opacity=\"0.7\"></path><path aria-label=\"x: -0.234605596212; y: 0.77576001523\" role=\"graphics-symbol\" aria-roledescription=\"circle\" transform=\"translate(75.30788807576758,130.60599961925055)\" d=\"M2.7386127875258306,0A2.7386127875258306,2.7386127875258306,0,1,1,-2.7386127875258306,0A2.7386127875258306,2.7386127875258306,0,1,1,2.7386127875258306,0\" fill=\"#4c78a8\" stroke-width=\"2\" opacity=\"0.7\"></path><path aria-label=\"x: 0.955168214379; y: 2.1858016713\" role=\"graphics-symbol\" aria-roledescription=\"circle\" transform=\"translate(99.1033642875762,95.35495821759952)\" d=\"M2.7386127875258306,0A2.7386127875258306,2.7386127875258306,0,1,1,-2.7386127875258306,0A2.7386127875258306,2.7386127875258306,0,1,1,2.7386127875258306,0\" fill=\"#4c78a8\" stroke-width=\"2\" opacity=\"0.7\"></path><path aria-label=\"x: 3.80752761195; y: 3.01512696816\" role=\"graphics-symbol\" aria-roledescription=\"circle\" transform=\"translate(156.1505522390227,74.62182579589538)\" d=\"M2.7386127875258306,0A2.7386127875258306,2.7386127875258306,0,1,1,-2.7386127875258306,0A2.7386127875258306,2.7386127875258306,0,1,1,2.7386127875258306,0\" fill=\"#4c78a8\" stroke-width=\"2\" opacity=\"0.7\"></path><path aria-label=\"x: 1.05160952737; y: 1.34828101337\" role=\"graphics-symbol\" aria-roledescription=\"circle\" transform=\"translate(101.03219054739974,116.29297466578711)\" d=\"M2.7386127875258306,0A2.7386127875258306,2.7386127875258306,0,1,1,-2.7386127875258306,0A2.7386127875258306,2.7386127875258306,0,1,1,2.7386127875258306,0\" fill=\"#4c78a8\" stroke-width=\"2\" opacity=\"0.7\"></path><path aria-label=\"x: 0.13974997374; y: 1.17414773382\" role=\"graphics-symbol\" aria-roledescription=\"circle\" transform=\"translate(82.79499947479032,120.64630665438956)\" d=\"M2.7386127875258306,0A2.7386127875258306,2.7386127875258306,0,1,1,-2.7386127875258306,0A2.7386127875258306,2.7386127875258306,0,1,1,2.7386127875258306,0\" fill=\"#4c78a8\" stroke-width=\"2\" opacity=\"0.7\"></path><path aria-label=\"x: 1.5674584228; y: 3.17355954836\" role=\"graphics-symbol\" aria-roledescription=\"circle\" transform=\"translate(111.34916845606804,70.66101129110135)\" d=\"M2.7386127875258306,0A2.7386127875258306,2.7386127875258306,0,1,1,-2.7386127875258306,0A2.7386127875258306,2.7386127875258306,0,1,1,2.7386127875258306,0\" fill=\"#4c78a8\" stroke-width=\"2\" opacity=\"0.7\"></path><path aria-label=\"x: 0.638004579838; y: 1.25960561099\" role=\"graphics-symbol\" aria-roledescription=\"circle\" transform=\"translate(92.76009159675377,118.50985972516904)\" d=\"M2.7386127875258306,0A2.7386127875258306,2.7386127875258306,0,1,1,-2.7386127875258306,0A2.7386127875258306,2.7386127875258306,0,1,1,2.7386127875258306,0\" fill=\"#4c78a8\" stroke-width=\"2\" opacity=\"0.7\"></path><path aria-label=\"x: 3.79082416596; y: 5.3697273747\" role=\"graphics-symbol\" aria-roledescription=\"circle\" transform=\"translate(155.81648331915514,15.756815632470955)\" d=\"M2.7386127875258306,0A2.7386127875258306,2.7386127875258306,0,1,1,-2.7386127875258306,0A2.7386127875258306,2.7386127875258306,0,1,1,2.7386127875258306,0\" fill=\"#4c78a8\" stroke-width=\"2\" opacity=\"0.7\"></path><path aria-label=\"x: 3.48939365209; y: 4.7176810837\" role=\"graphics-symbol\" aria-roledescription=\"circle\" transform=\"translate(149.78787304174404,32.057972907618094)\" d=\"M2.7386127875258306,0A2.7386127875258306,2.7386127875258306,0,1,1,-2.7386127875258306,0A2.7386127875258306,2.7386127875258306,0,1,1,2.7386127875258306,0\" fill=\"#4c78a8\" stroke-width=\"2\" opacity=\"0.7\"></path><path aria-label=\"x: 2.93853627445; y: 4.99638814891\" role=\"graphics-symbol\" aria-roledescription=\"circle\" transform=\"translate(138.77072548901057,25.090296277259117)\" d=\"M2.7386127875258306,0A2.7386127875258306,2.7386127875258306,0,1,1,-2.7386127875258306,0A2.7386127875258306,2.7386127875258306,0,1,1,2.7386127875258306,0\" fill=\"#4c78a8\" stroke-width=\"2\" opacity=\"0.7\"></path><path aria-label=\"x: 0.219700577422; y: 0.803362305639\" role=\"graphics-symbol\" aria-roledescription=\"circle\" transform=\"translate(84.39401154843573,129.91594235901835)\" d=\"M2.7386127875258306,0A2.7386127875258306,2.7386127875258306,0,1,1,-2.7386127875258306,0A2.7386127875258306,2.7386127875258306,0,1,1,2.7386127875258306,0\" fill=\"#4c78a8\" stroke-width=\"2\" opacity=\"0.7\"></path><path aria-label=\"x: 3.04626930912; y: 3.71912811699\" role=\"graphics-symbol\" aria-roledescription=\"circle\" transform=\"translate(140.92538618239442,57.0217970752164)\" d=\"M2.7386127875258306,0A2.7386127875258306,2.7386127875258306,0,1,1,-2.7386127875258306,0A2.7386127875258306,2.7386127875258306,0,1,1,2.7386127875258306,0\" fill=\"#4c78a8\" stroke-width=\"2\" opacity=\"0.7\"></path><path aria-label=\"x: 2.48404748242; y: 3.28723488019\" role=\"graphics-symbol\" aria-roledescription=\"circle\" transform=\"translate(129.68094964847623,67.81912799521848)\" d=\"M2.7386127875258306,0A2.7386127875258306,2.7386127875258306,0,1,1,-2.7386127875258306,0A2.7386127875258306,2.7386127875258306,0,1,1,2.7386127875258306,0\" fill=\"#4c78a8\" stroke-width=\"2\" opacity=\"0.7\"></path><path aria-label=\"x: -0.0654448600961; y: 2.26014806111\" role=\"graphics-symbol\" aria-roledescription=\"circle\" transform=\"translate(78.69110279807776,93.49629847222631)\" d=\"M2.7386127875258306,0A2.7386127875258306,2.7386127875258306,0,1,1,-2.7386127875258306,0A2.7386127875258306,2.7386127875258306,0,1,1,2.7386127875258306,0\" fill=\"#4c78a8\" stroke-width=\"2\" opacity=\"0.7\"></path><path aria-label=\"x: 1.70400875718; y: 2.75679106032\" role=\"graphics-symbol\" aria-roledescription=\"circle\" transform=\"translate(114.08017514358737,81.0802234919369)\" d=\"M2.7386127875258306,0A2.7386127875258306,2.7386127875258306,0,1,1,-2.7386127875258306,0A2.7386127875258306,2.7386127875258306,0,1,1,2.7386127875258306,0\" fill=\"#4c78a8\" stroke-width=\"2\" opacity=\"0.7\"></path><path aria-label=\"x: 2.42753099847; y: 3.38901270016\" role=\"graphics-symbol\" aria-roledescription=\"circle\" transform=\"translate(128.5506199694713,65.27468249600746)\" d=\"M2.7386127875258306,0A2.7386127875258306,2.7386127875258306,0,1,1,-2.7386127875258306,0A2.7386127875258306,2.7386127875258306,0,1,1,2.7386127875258306,0\" fill=\"#4c78a8\" stroke-width=\"2\" opacity=\"0.7\"></path><path aria-label=\"x: -2.07792019842; y: -0.414231531971\" role=\"graphics-symbol\" aria-roledescription=\"circle\" transform=\"translate(38.44159603155322,160.35578829928667)\" d=\"M2.7386127875258306,0A2.7386127875258306,2.7386127875258306,0,1,1,-2.7386127875258306,0A2.7386127875258306,2.7386127875258306,0,1,1,2.7386127875258306,0\" fill=\"#4c78a8\" stroke-width=\"2\" opacity=\"0.7\"></path><path aria-label=\"x: 0.16916853738; y: 1.71038281275\" role=\"graphics-symbol\" aria-roledescription=\"circle\" transform=\"translate(83.38337074759721,107.24042968127827)\" d=\"M2.7386127875258306,0A2.7386127875258306,2.7386127875258306,0,1,1,-2.7386127875258306,0A2.7386127875258306,2.7386127875258306,0,1,1,2.7386127875258306,0\" fill=\"#4c78a8\" stroke-width=\"2\" opacity=\"0.7\"></path><path aria-label=\"x: -0.996767823775; y: 0.0580825384004\" role=\"graphics-symbol\" aria-roledescription=\"circle\" transform=\"translate(60.06464352450912,148.5479365399911)\" d=\"M2.7386127875258306,0A2.7386127875258306,2.7386127875258306,0,1,1,-2.7386127875258306,0A2.7386127875258306,2.7386127875258306,0,1,1,2.7386127875258306,0\" fill=\"#4c78a8\" stroke-width=\"2\" opacity=\"0.7\"></path><path aria-label=\"x: -0.132312547128; y: 1.17238715062\" role=\"graphics-symbol\" aria-roledescription=\"circle\" transform=\"translate(77.35374905744854,120.69032123454141)\" d=\"M2.7386127875258306,0A2.7386127875258306,2.7386127875258306,0,1,1,-2.7386127875258306,0A2.7386127875258306,2.7386127875258306,0,1,1,2.7386127875258306,0\" fill=\"#4c78a8\" stroke-width=\"2\" opacity=\"0.7\"></path><path aria-label=\"x: 2.88950156197; y: 3.98643774419\" role=\"graphics-symbol\" aria-roledescription=\"circle\" transform=\"translate(137.79003123947643,50.33905639534355)\" d=\"M2.7386127875258306,0A2.7386127875258306,2.7386127875258306,0,1,1,-2.7386127875258306,0A2.7386127875258306,2.7386127875258306,0,1,1,2.7386127875258306,0\" fill=\"#4c78a8\" stroke-width=\"2\" opacity=\"0.7\"></path><path aria-label=\"x: 3.30465301015; y: 3.64231377691\" role=\"graphics-symbol\" aria-roledescription=\"circle\" transform=\"translate(146.0930602029577,58.94215557732214)\" d=\"M2.7386127875258306,0A2.7386127875258306,2.7386127875258306,0,1,1,-2.7386127875258306,0A2.7386127875258306,2.7386127875258306,0,1,1,2.7386127875258306,0\" fill=\"#4c78a8\" stroke-width=\"2\" opacity=\"0.7\"></path><path aria-label=\"x: 5.6362640262; y: 5.02172274117\" role=\"graphics-symbol\" aria-roledescription=\"circle\" transform=\"translate(192.7252805240108,24.45693147084831)\" d=\"M2.7386127875258306,0A2.7386127875258306,2.7386127875258306,0,1,1,-2.7386127875258306,0A2.7386127875258306,2.7386127875258306,0,1,1,2.7386127875258306,0\" fill=\"#4c78a8\" stroke-width=\"2\" opacity=\"0.7\"></path><path aria-label=\"x: -0.463350709828; y: 0.5153465326\" role=\"graphics-symbol\" aria-roledescription=\"circle\" transform=\"translate(70.73298580344577,137.11633668500363)\" d=\"M2.7386127875258306,0A2.7386127875258306,2.7386127875258306,0,1,1,-2.7386127875258306,0A2.7386127875258306,2.7386127875258306,0,1,1,2.7386127875258306,0\" fill=\"#4c78a8\" stroke-width=\"2\" opacity=\"0.7\"></path><path aria-label=\"x: -0.12549133146; y: 1.08845631987\" role=\"graphics-symbol\" aria-roledescription=\"circle\" transform=\"translate(77.49017337080632,122.78859200313236)\" d=\"M2.7386127875258306,0A2.7386127875258306,2.7386127875258306,0,1,1,-2.7386127875258306,0A2.7386127875258306,2.7386127875258306,0,1,1,2.7386127875258306,0\" fill=\"#4c78a8\" stroke-width=\"2\" opacity=\"0.7\"></path><path aria-label=\"x: -0.319940863314; y: 2.64831284878\" role=\"graphics-symbol\" aria-roledescription=\"circle\" transform=\"translate(73.60118273372727,83.79217878055209)\" d=\"M2.7386127875258306,0A2.7386127875258306,2.7386127875258306,0,1,1,-2.7386127875258306,0A2.7386127875258306,2.7386127875258306,0,1,1,2.7386127875258306,0\" fill=\"#4c78a8\" stroke-width=\"2\" opacity=\"0.7\"></path><path aria-label=\"x: -2.67857571596; y: -0.240425157275\" role=\"graphics-symbol\" aria-roledescription=\"circle\" transform=\"translate(26.428485680756808,156.0106289318638)\" d=\"M2.7386127875258306,0A2.7386127875258306,2.7386127875258306,0,1,1,-2.7386127875258306,0A2.7386127875258306,2.7386127875258306,0,1,1,2.7386127875258306,0\" fill=\"#4c78a8\" stroke-width=\"2\" opacity=\"0.7\"></path><path aria-label=\"x: 1.80849490408; y: 1.73600736768\" role=\"graphics-symbol\" aria-roledescription=\"circle\" transform=\"translate(116.16989808160116,106.59981580801656)\" d=\"M2.7386127875258306,0A2.7386127875258306,2.7386127875258306,0,1,1,-2.7386127875258306,0A2.7386127875258306,2.7386127875258306,0,1,1,2.7386127875258306,0\" fill=\"#4c78a8\" stroke-width=\"2\" opacity=\"0.7\"></path><path aria-label=\"x: -0.20132197148; y: 0.634245424617\" role=\"graphics-symbol\" aria-roledescription=\"circle\" transform=\"translate(75.97356057039035,134.14386438457396)\" d=\"M2.7386127875258306,0A2.7386127875258306,2.7386127875258306,0,1,1,-2.7386127875258306,0A2.7386127875258306,2.7386127875258306,0,1,1,2.7386127875258306,0\" fill=\"#4c78a8\" stroke-width=\"2\" opacity=\"0.7\"></path><path aria-label=\"x: -1.68537204611; y: 0.495921449225\" role=\"graphics-symbol\" aria-roledescription=\"circle\" transform=\"translate(46.292559077841176,137.60196376937142)\" d=\"M2.7386127875258306,0A2.7386127875258306,2.7386127875258306,0,1,1,-2.7386127875258306,0A2.7386127875258306,2.7386127875258306,0,1,1,2.7386127875258306,0\" fill=\"#4c78a8\" stroke-width=\"2\" opacity=\"0.7\"></path><path aria-label=\"x: 0.554019513679; y: 2.40366130607\" role=\"graphics-symbol\" aria-roledescription=\"circle\" transform=\"translate(91.08039027358167,89.90846734830073)\" d=\"M2.7386127875258306,0A2.7386127875258306,2.7386127875258306,0,1,1,-2.7386127875258306,0A2.7386127875258306,2.7386127875258306,0,1,1,2.7386127875258306,0\" fill=\"#4c78a8\" stroke-width=\"2\" opacity=\"0.7\"></path><path aria-label=\"x: 0.897156443195; y: 0.655997218033\" role=\"graphics-symbol\" aria-roledescription=\"circle\" transform=\"translate(97.94312886389888,133.60006954918674)\" d=\"M2.7386127875258306,0A2.7386127875258306,2.7386127875258306,0,1,1,-2.7386127875258306,0A2.7386127875258306,2.7386127875258306,0,1,1,2.7386127875258306,0\" fill=\"#4c78a8\" stroke-width=\"2\" opacity=\"0.7\"></path><path aria-label=\"x: 3.11586656027; y: 2.72463107619\" role=\"graphics-symbol\" aria-roledescription=\"circle\" transform=\"translate(142.31733120537638,81.88422309525146)\" d=\"M2.7386127875258306,0A2.7386127875258306,2.7386127875258306,0,1,1,-2.7386127875258306,0A2.7386127875258306,2.7386127875258306,0,1,1,2.7386127875258306,0\" fill=\"#4c78a8\" stroke-width=\"2\" opacity=\"0.7\"></path><path aria-label=\"x: 4.01267161894; y: 3.97939367294\" role=\"graphics-symbol\" aria-roledescription=\"circle\" transform=\"translate(160.2534323788533,50.51515817661196)\" d=\"M2.7386127875258306,0A2.7386127875258306,2.7386127875258306,0,1,1,-2.7386127875258306,0A2.7386127875258306,2.7386127875258306,0,1,1,2.7386127875258306,0\" fill=\"#4c78a8\" stroke-width=\"2\" opacity=\"0.7\"></path><path aria-label=\"x: -2.63200972231; y: -1.14498625847\" role=\"graphics-symbol\" aria-roledescription=\"circle\" transform=\"translate(27.359805553751098,178.62465646171276)\" d=\"M2.7386127875258306,0A2.7386127875258306,2.7386127875258306,0,1,1,-2.7386127875258306,0A2.7386127875258306,2.7386127875258306,0,1,1,2.7386127875258306,0\" fill=\"#4c78a8\" stroke-width=\"2\" opacity=\"0.7\"></path><path aria-label=\"x: 1.20202525704; y: 2.15531911738\" role=\"graphics-symbol\" aria-roledescription=\"circle\" transform=\"translate(104.04050514077264,96.1170220653976)\" d=\"M2.7386127875258306,0A2.7386127875258306,2.7386127875258306,0,1,1,-2.7386127875258306,0A2.7386127875258306,2.7386127875258306,0,1,1,2.7386127875258306,0\" fill=\"#4c78a8\" stroke-width=\"2\" opacity=\"0.7\"></path><path aria-label=\"x: 0.130923919406; y: 2.30300682911\" role=\"graphics-symbol\" aria-roledescription=\"circle\" transform=\"translate(82.61847838811498,92.42482927224162)\" d=\"M2.7386127875258306,0A2.7386127875258306,2.7386127875258306,0,1,1,-2.7386127875258306,0A2.7386127875258306,2.7386127875258306,0,1,1,2.7386127875258306,0\" fill=\"#4c78a8\" stroke-width=\"2\" opacity=\"0.7\"></path><path aria-label=\"x: 3.05983233495; y: 2.33306083293\" role=\"graphics-symbol\" aria-roledescription=\"circle\" transform=\"translate(141.19664669894755,91.67347917670511)\" d=\"M2.7386127875258306,0A2.7386127875258306,2.7386127875258306,0,1,1,-2.7386127875258306,0A2.7386127875258306,2.7386127875258306,0,1,1,2.7386127875258306,0\" fill=\"#4c78a8\" stroke-width=\"2\" opacity=\"0.7\"></path><path aria-label=\"x: -2.48155687835; y: -0.807776865161\" role=\"graphics-symbol\" aria-roledescription=\"circle\" transform=\"translate(30.368862433004352,170.19442162902146)\" d=\"M2.7386127875258306,0A2.7386127875258306,2.7386127875258306,0,1,1,-2.7386127875258306,0A2.7386127875258306,2.7386127875258306,0,1,1,2.7386127875258306,0\" fill=\"#4c78a8\" stroke-width=\"2\" opacity=\"0.7\"></path><path aria-label=\"x: 2.54031546268; y: 3.5869151061\" role=\"graphics-symbol\" aria-roledescription=\"circle\" transform=\"translate(130.80630925367313,60.327122347436024)\" d=\"M2.7386127875258306,0A2.7386127875258306,2.7386127875258306,0,1,1,-2.7386127875258306,0A2.7386127875258306,2.7386127875258306,0,1,1,2.7386127875258306,0\" fill=\"#4c78a8\" stroke-width=\"2\" opacity=\"0.7\"></path><path aria-label=\"x: 3.94014772522; y: 4.441765274\" role=\"graphics-symbol\" aria-roledescription=\"circle\" transform=\"translate(158.80295450430154,38.955868150043486)\" d=\"M2.7386127875258306,0A2.7386127875258306,2.7386127875258306,0,1,1,-2.7386127875258306,0A2.7386127875258306,2.7386127875258306,0,1,1,2.7386127875258306,0\" fill=\"#4c78a8\" stroke-width=\"2\" opacity=\"0.7\"></path><path aria-label=\"x: 0.780609192374; y: 0.726167399802\" role=\"graphics-symbol\" aria-roledescription=\"circle\" transform=\"translate(95.61218384747514,131.84581500494886)\" d=\"M2.7386127875258306,0A2.7386127875258306,2.7386127875258306,0,1,1,-2.7386127875258306,0A2.7386127875258306,2.7386127875258306,0,1,1,2.7386127875258306,0\" fill=\"#4c78a8\" stroke-width=\"2\" opacity=\"0.7\"></path><path aria-label=\"x: -0.574333614492; y: 2.05693833591\" role=\"graphics-symbol\" aria-roledescription=\"circle\" transform=\"translate(68.51332771016604,98.57654160220584)\" d=\"M2.7386127875258306,0A2.7386127875258306,2.7386127875258306,0,1,1,-2.7386127875258306,0A2.7386127875258306,2.7386127875258306,0,1,1,2.7386127875258306,0\" fill=\"#4c78a8\" stroke-width=\"2\" opacity=\"0.7\"></path><path aria-label=\"x: 2.30872666653; y: 3.57061583479\" role=\"graphics-symbol\" aria-roledescription=\"circle\" transform=\"translate(126.17453333059039,60.73460413019065)\" d=\"M2.7386127875258306,0A2.7386127875258306,2.7386127875258306,0,1,1,-2.7386127875258306,0A2.7386127875258306,2.7386127875258306,0,1,1,2.7386127875258306,0\" fill=\"#4c78a8\" stroke-width=\"2\" opacity=\"0.7\"></path><path aria-label=\"x: -0.4317171665; y: 0.987717352246\" role=\"graphics-symbol\" aria-roledescription=\"circle\" transform=\"translate(71.36565667000721,125.30706619384118)\" d=\"M2.7386127875258306,0A2.7386127875258306,2.7386127875258306,0,1,1,-2.7386127875258306,0A2.7386127875258306,2.7386127875258306,0,1,1,2.7386127875258306,0\" fill=\"#4c78a8\" stroke-width=\"2\" opacity=\"0.7\"></path><path aria-label=\"x: -0.377808898799; y: 0.922595453331\" role=\"graphics-symbol\" aria-roledescription=\"circle\" transform=\"translate(72.44382202402088,126.93511366672074)\" d=\"M2.7386127875258306,0A2.7386127875258306,2.7386127875258306,0,1,1,-2.7386127875258306,0A2.7386127875258306,2.7386127875258306,0,1,1,2.7386127875258306,0\" fill=\"#4c78a8\" stroke-width=\"2\" opacity=\"0.7\"></path><path aria-label=\"x: -0.294200457264; y: 1.22960342193\" role=\"graphics-symbol\" aria-roledescription=\"circle\" transform=\"translate(74.1159908547252,119.25991445172417)\" d=\"M2.7386127875258306,0A2.7386127875258306,2.7386127875258306,0,1,1,-2.7386127875258306,0A2.7386127875258306,2.7386127875258306,0,1,1,2.7386127875258306,0\" fill=\"#4c78a8\" stroke-width=\"2\" opacity=\"0.7\"></path><path aria-label=\"x: 2.28270664813; y: 3.33237876615\" role=\"graphics-symbol\" aria-roledescription=\"circle\" transform=\"translate(125.65413296255656,66.69053084634666)\" d=\"M2.7386127875258306,0A2.7386127875258306,2.7386127875258306,0,1,1,-2.7386127875258306,0A2.7386127875258306,2.7386127875258306,0,1,1,2.7386127875258306,0\" fill=\"#4c78a8\" stroke-width=\"2\" opacity=\"0.7\"></path><path aria-label=\"x: 3.19086804042; y: 2.6054732735\" role=\"graphics-symbol\" aria-roledescription=\"circle\" transform=\"translate(143.8173608084187,84.86316816260455)\" d=\"M2.7386127875258306,0A2.7386127875258306,2.7386127875258306,0,1,1,-2.7386127875258306,0A2.7386127875258306,2.7386127875258306,0,1,1,2.7386127875258306,0\" fill=\"#4c78a8\" stroke-width=\"2\" opacity=\"0.7\"></path><path aria-label=\"x: -1.20398163009; y: -0.228669100133\" role=\"graphics-symbol\" aria-roledescription=\"circle\" transform=\"translate(55.92036739817851,155.71672750332354)\" d=\"M2.7386127875258306,0A2.7386127875258306,2.7386127875258306,0,1,1,-2.7386127875258306,0A2.7386127875258306,2.7386127875258306,0,1,1,2.7386127875258306,0\" fill=\"#4c78a8\" stroke-width=\"2\" opacity=\"0.7\"></path><path aria-label=\"x: 1.60375147807; y: 2.69560287941\" role=\"graphics-symbol\" aria-roledescription=\"circle\" transform=\"translate(112.0750295614339,82.60992801471659)\" d=\"M2.7386127875258306,0A2.7386127875258306,2.7386127875258306,0,1,1,-2.7386127875258306,0A2.7386127875258306,2.7386127875258306,0,1,1,2.7386127875258306,0\" fill=\"#4c78a8\" stroke-width=\"2\" opacity=\"0.7\"></path><path aria-label=\"x: 3.21236811645; y: 2.57075792399\" role=\"graphics-symbol\" aria-roledescription=\"circle\" transform=\"translate(144.24736232893648,85.73105190024548)\" d=\"M2.7386127875258306,0A2.7386127875258306,2.7386127875258306,0,1,1,-2.7386127875258306,0A2.7386127875258306,2.7386127875258306,0,1,1,2.7386127875258306,0\" fill=\"#4c78a8\" stroke-width=\"2\" opacity=\"0.7\"></path><path aria-label=\"x: 1.29315552174; y: 3.12677461278\" role=\"graphics-symbol\" aria-roledescription=\"circle\" transform=\"translate(105.86311043482159,71.8306346804841)\" d=\"M2.7386127875258306,0A2.7386127875258306,2.7386127875258306,0,1,1,-2.7386127875258306,0A2.7386127875258306,2.7386127875258306,0,1,1,2.7386127875258306,0\" fill=\"#4c78a8\" stroke-width=\"2\" opacity=\"0.7\"></path><path aria-label=\"x: -1.59582963896; y: -1.06652154246\" role=\"graphics-symbol\" aria-roledescription=\"circle\" transform=\"translate(48.0834072208745,176.66303856154957)\" d=\"M2.7386127875258306,0A2.7386127875258306,2.7386127875258306,0,1,1,-2.7386127875258306,0A2.7386127875258306,2.7386127875258306,0,1,1,2.7386127875258306,0\" fill=\"#4c78a8\" stroke-width=\"2\" opacity=\"0.7\"></path><path aria-label=\"x: 1.42172786928; y: 3.85307778004\" role=\"graphics-symbol\" aria-roledescription=\"circle\" transform=\"translate(108.43455738559251,53.673055498966484)\" d=\"M2.7386127875258306,0A2.7386127875258306,2.7386127875258306,0,1,1,-2.7386127875258306,0A2.7386127875258306,2.7386127875258306,0,1,1,2.7386127875258306,0\" fill=\"#4c78a8\" stroke-width=\"2\" opacity=\"0.7\"></path><path aria-label=\"x: 1.09942369974; y: 2.07625993417\" role=\"graphics-symbol\" aria-roledescription=\"circle\" transform=\"translate(101.98847399470657,98.09350164586104)\" d=\"M2.7386127875258306,0A2.7386127875258306,2.7386127875258306,0,1,1,-2.7386127875258306,0A2.7386127875258306,2.7386127875258306,0,1,1,2.7386127875258306,0\" fill=\"#4c78a8\" stroke-width=\"2\" opacity=\"0.7\"></path><path aria-label=\"x: 1.85468646683; y: 2.44820382353\" role=\"graphics-symbol\" aria-roledescription=\"circle\" transform=\"translate(117.09372933653808,88.79490441182514)\" d=\"M2.7386127875258306,0A2.7386127875258306,2.7386127875258306,0,1,1,-2.7386127875258306,0A2.7386127875258306,2.7386127875258306,0,1,1,2.7386127875258306,0\" fill=\"#4c78a8\" stroke-width=\"2\" opacity=\"0.7\"></path><path aria-label=\"x: -2.37305396151; y: -0.374772855976\" role=\"graphics-symbol\" aria-roledescription=\"circle\" transform=\"translate(32.538920769724314,159.36932139939398)\" d=\"M2.7386127875258306,0A2.7386127875258306,2.7386127875258306,0,1,1,-2.7386127875258306,0A2.7386127875258306,2.7386127875258306,0,1,1,2.7386127875258306,0\" fill=\"#4c78a8\" stroke-width=\"2\" opacity=\"0.7\"></path><path aria-label=\"x: -0.929786539258; y: 0.488714220937\" role=\"graphics-symbol\" aria-roledescription=\"circle\" transform=\"translate(61.40426921484872,137.78214447657803)\" d=\"M2.7386127875258306,0A2.7386127875258306,2.7386127875258306,0,1,1,-2.7386127875258306,0A2.7386127875258306,2.7386127875258306,0,1,1,2.7386127875258306,0\" fill=\"#4c78a8\" stroke-width=\"2\" opacity=\"0.7\"></path><path aria-label=\"x: 1.4068654123; y: 4.2920622705\" role=\"graphics-symbol\" aria-roledescription=\"circle\" transform=\"translate(108.13730824598244,42.69844323749776)\" d=\"M2.7386127875258306,0A2.7386127875258306,2.7386127875258306,0,1,1,-2.7386127875258306,0A2.7386127875258306,2.7386127875258306,0,1,1,2.7386127875258306,0\" fill=\"#4c78a8\" stroke-width=\"2\" opacity=\"0.7\"></path><path aria-label=\"x: 1.66309849161; y: 2.74280713208\" role=\"graphics-symbol\" aria-roledescription=\"circle\" transform=\"translate(113.26196983219288,81.42982169812487)\" d=\"M2.7386127875258306,0A2.7386127875258306,2.7386127875258306,0,1,1,-2.7386127875258306,0A2.7386127875258306,2.7386127875258306,0,1,1,2.7386127875258306,0\" fill=\"#4c78a8\" stroke-width=\"2\" opacity=\"0.7\"></path><path aria-label=\"x: 0.471515650991; y: 1.89324461021\" role=\"graphics-symbol\" aria-roledescription=\"circle\" transform=\"translate(89.43031301981122,102.66888474469542)\" d=\"M2.7386127875258306,0A2.7386127875258306,2.7386127875258306,0,1,1,-2.7386127875258306,0A2.7386127875258306,2.7386127875258306,0,1,1,2.7386127875258306,0\" fill=\"#4c78a8\" stroke-width=\"2\" opacity=\"0.7\"></path><path aria-label=\"x: 0.341741810903; y: 0.343664631744\" role=\"graphics-symbol\" aria-roledescription=\"circle\" transform=\"translate(86.83483621805094,141.40838420639997)\" d=\"M2.7386127875258306,0A2.7386127875258306,2.7386127875258306,0,1,1,-2.7386127875258306,0A2.7386127875258306,2.7386127875258306,0,1,1,2.7386127875258306,0\" fill=\"#4c78a8\" stroke-width=\"2\" opacity=\"0.7\"></path><path aria-label=\"x: -1.12395377284; y: 0.768272364671\" role=\"graphics-symbol\" aria-roledescription=\"circle\" transform=\"translate(57.520924543223195,130.79319088322885)\" d=\"M2.7386127875258306,0A2.7386127875258306,2.7386127875258306,0,1,1,-2.7386127875258306,0A2.7386127875258306,2.7386127875258306,0,1,1,2.7386127875258306,0\" fill=\"#4c78a8\" stroke-width=\"2\" opacity=\"0.7\"></path><path aria-label=\"x: -0.666738497555; y: 0.766712074249\" role=\"graphics-symbol\" aria-roledescription=\"circle\" transform=\"translate(66.6652300489077,130.83219814377892)\" d=\"M2.7386127875258306,0A2.7386127875258306,2.7386127875258306,0,1,1,-2.7386127875258306,0A2.7386127875258306,2.7386127875258306,0,1,1,2.7386127875258306,0\" fill=\"#4c78a8\" stroke-width=\"2\" opacity=\"0.7\"></path><path aria-label=\"x: -0.0453643709027; y: 2.52233667533\" role=\"graphics-symbol\" aria-roledescription=\"circle\" transform=\"translate(79.09271258194606,86.94158311677901)\" d=\"M2.7386127875258306,0A2.7386127875258306,2.7386127875258306,0,1,1,-2.7386127875258306,0A2.7386127875258306,2.7386127875258306,0,1,1,2.7386127875258306,0\" fill=\"#4c78a8\" stroke-width=\"2\" opacity=\"0.7\"></path><path aria-label=\"x: 0.377905344105; y: 0.633652935976\" role=\"graphics-symbol\" aria-roledescription=\"circle\" transform=\"translate(87.558106882106,134.15867660059973)\" d=\"M2.7386127875258306,0A2.7386127875258306,2.7386127875258306,0,1,1,-2.7386127875258306,0A2.7386127875258306,2.7386127875258306,0,1,1,2.7386127875258306,0\" fill=\"#4c78a8\" stroke-width=\"2\" opacity=\"0.7\"></path><path aria-label=\"x: 2.8936958013; y: 2.40008399319\" role=\"graphics-symbol\" aria-roledescription=\"circle\" transform=\"translate(137.8739160260303,89.99790017030121)\" d=\"M2.7386127875258306,0A2.7386127875258306,2.7386127875258306,0,1,1,-2.7386127875258306,0A2.7386127875258306,2.7386127875258306,0,1,1,2.7386127875258306,0\" fill=\"#4c78a8\" stroke-width=\"2\" opacity=\"0.7\"></path><path aria-label=\"x: 1.53832040684; y: 1.98451865386\" role=\"graphics-symbol\" aria-roledescription=\"circle\" transform=\"translate(110.76640813687068,100.38703365338822)\" d=\"M2.7386127875258306,0A2.7386127875258306,2.7386127875258306,0,1,1,-2.7386127875258306,0A2.7386127875258306,2.7386127875258306,0,1,1,2.7386127875258306,0\" fill=\"#4c78a8\" stroke-width=\"2\" opacity=\"0.7\"></path><path aria-label=\"x: -2.21276511365; y: -1.25337804598\" role=\"graphics-symbol\" aria-roledescription=\"circle\" transform=\"translate(35.74469772706938,181.33445114957098)\" d=\"M2.7386127875258306,0A2.7386127875258306,2.7386127875258306,0,1,1,-2.7386127875258306,0A2.7386127875258306,2.7386127875258306,0,1,1,2.7386127875258306,0\" fill=\"#4c78a8\" stroke-width=\"2\" opacity=\"0.7\"></path><path aria-label=\"x: -0.573697701322; y: 1.63773308395\" role=\"graphics-symbol\" aria-roledescription=\"circle\" transform=\"translate(68.5260459735652,109.0566729011261)\" d=\"M2.7386127875258306,0A2.7386127875258306,2.7386127875258306,0,1,1,-2.7386127875258306,0A2.7386127875258306,2.7386127875258306,0,1,1,2.7386127875258306,0\" fill=\"#4c78a8\" stroke-width=\"2\" opacity=\"0.7\"></path><path aria-label=\"x: 1.8898974226; y: 1.73970046882\" role=\"graphics-symbol\" aria-roledescription=\"circle\" transform=\"translate(117.79794845191655,106.50748827956176)\" d=\"M2.7386127875258306,0A2.7386127875258306,2.7386127875258306,0,1,1,-2.7386127875258306,0A2.7386127875258306,2.7386127875258306,0,1,1,2.7386127875258306,0\" fill=\"#4c78a8\" stroke-width=\"2\" opacity=\"0.7\"></path><path aria-label=\"x: 2.4811572742; y: 3.04880376778\" role=\"graphics-symbol\" aria-roledescription=\"circle\" transform=\"translate(129.6231454839718,73.77990580550475)\" d=\"M2.7386127875258306,0A2.7386127875258306,2.7386127875258306,0,1,1,-2.7386127875258306,0A2.7386127875258306,2.7386127875258306,0,1,1,2.7386127875258306,0\" fill=\"#4c78a8\" stroke-width=\"2\" opacity=\"0.7\"></path><path aria-label=\"x: 1.24670030107; y: 3.30942376992\" role=\"graphics-symbol\" aria-roledescription=\"circle\" transform=\"translate(104.93400602148716,67.26440575204408)\" d=\"M2.7386127875258306,0A2.7386127875258306,2.7386127875258306,0,1,1,-2.7386127875258306,0A2.7386127875258306,2.7386127875258306,0,1,1,2.7386127875258306,0\" fill=\"#4c78a8\" stroke-width=\"2\" opacity=\"0.7\"></path><path aria-label=\"x: 1.28837166292; y: 2.50218393589\" role=\"graphics-symbol\" aria-roledescription=\"circle\" transform=\"translate(105.76743325844387,87.44540160271922)\" d=\"M2.7386127875258306,0A2.7386127875258306,2.7386127875258306,0,1,1,-2.7386127875258306,0A2.7386127875258306,2.7386127875258306,0,1,1,2.7386127875258306,0\" fill=\"#4c78a8\" stroke-width=\"2\" opacity=\"0.7\"></path><path aria-label=\"x: 1.10367986042; y: 3.13045885392\" role=\"graphics-symbol\" aria-roledescription=\"circle\" transform=\"translate(102.07359720834998,71.73852865192414)\" d=\"M2.7386127875258306,0A2.7386127875258306,2.7386127875258306,0,1,1,-2.7386127875258306,0A2.7386127875258306,2.7386127875258306,0,1,1,2.7386127875258306,0\" fill=\"#4c78a8\" stroke-width=\"2\" opacity=\"0.7\"></path><path aria-label=\"x: 2.64774906643; y: 4.08232760555\" role=\"graphics-symbol\" aria-roledescription=\"circle\" transform=\"translate(132.95498132856687,47.941809861234866)\" d=\"M2.7386127875258306,0A2.7386127875258306,2.7386127875258306,0,1,1,-2.7386127875258306,0A2.7386127875258306,2.7386127875258306,0,1,1,2.7386127875258306,0\" fill=\"#4c78a8\" stroke-width=\"2\" opacity=\"0.7\"></path><path aria-label=\"x: 0.459966951213; y: 2.10854985746\" role=\"graphics-symbol\" aria-roledescription=\"circle\" transform=\"translate(89.19933902425623,97.28625356349627)\" d=\"M2.7386127875258306,0A2.7386127875258306,2.7386127875258306,0,1,1,-2.7386127875258306,0A2.7386127875258306,2.7386127875258306,0,1,1,2.7386127875258306,0\" fill=\"#4c78a8\" stroke-width=\"2\" opacity=\"0.7\"></path><path aria-label=\"x: -0.236252468537; y: 0.712238528261\" role=\"graphics-symbol\" aria-roledescription=\"circle\" transform=\"translate(75.27495062925622,132.1940367934632)\" d=\"M2.7386127875258306,0A2.7386127875258306,2.7386127875258306,0,1,1,-2.7386127875258306,0A2.7386127875258306,2.7386127875258306,0,1,1,2.7386127875258306,0\" fill=\"#4c78a8\" stroke-width=\"2\" opacity=\"0.7\"></path><path aria-label=\"x: 3.32818069514; y: 4.07062808005\" role=\"graphics-symbol\" aria-roledescription=\"circle\" transform=\"translate(146.56361390271636,48.23429799875682)\" d=\"M2.7386127875258306,0A2.7386127875258306,2.7386127875258306,0,1,1,-2.7386127875258306,0A2.7386127875258306,2.7386127875258306,0,1,1,2.7386127875258306,0\" fill=\"#4c78a8\" stroke-width=\"2\" opacity=\"0.7\"></path><path aria-label=\"x: 3.21633393276; y: 3.66515417538\" role=\"graphics-symbol\" aria-roledescription=\"circle\" transform=\"translate(144.32667865519045,58.371145615434685)\" d=\"M2.7386127875258306,0A2.7386127875258306,2.7386127875258306,0,1,1,-2.7386127875258306,0A2.7386127875258306,2.7386127875258306,0,1,1,2.7386127875258306,0\" fill=\"#4c78a8\" stroke-width=\"2\" opacity=\"0.7\"></path><path aria-label=\"x: 2.21015778324; y: 2.03632523128\" role=\"graphics-symbol\" aria-roledescription=\"circle\" transform=\"translate(124.20315566483397,99.09186921799295)\" d=\"M2.7386127875258306,0A2.7386127875258306,2.7386127875258306,0,1,1,-2.7386127875258306,0A2.7386127875258306,2.7386127875258306,0,1,1,2.7386127875258306,0\" fill=\"#4c78a8\" stroke-width=\"2\" opacity=\"0.7\"></path><path aria-label=\"x: 0.950054593974; y: 1.7611345327\" role=\"graphics-symbol\" aria-roledescription=\"circle\" transform=\"translate(99.00109187948203,105.97163668256138)\" d=\"M2.7386127875258306,0A2.7386127875258306,2.7386127875258306,0,1,1,-2.7386127875258306,0A2.7386127875258306,2.7386127875258306,0,1,1,2.7386127875258306,0\" fill=\"#4c78a8\" stroke-width=\"2\" opacity=\"0.7\"></path><path aria-label=\"x: -1.38565188218; y: -0.232669285961\" role=\"graphics-symbol\" aria-roledescription=\"circle\" transform=\"translate(52.28696235648322,155.81673214901645)\" d=\"M2.7386127875258306,0A2.7386127875258306,2.7386127875258306,0,1,1,-2.7386127875258306,0A2.7386127875258306,2.7386127875258306,0,1,1,2.7386127875258306,0\" fill=\"#4c78a8\" stroke-width=\"2\" opacity=\"0.7\"></path><path aria-label=\"x: -0.590642942693; y: 1.60347319624\" role=\"graphics-symbol\" aria-roledescription=\"circle\" transform=\"translate(68.18714114614757,109.9131700939329)\" d=\"M2.7386127875258306,0A2.7386127875258306,2.7386127875258306,0,1,1,-2.7386127875258306,0A2.7386127875258306,2.7386127875258306,0,1,1,2.7386127875258306,0\" fill=\"#4c78a8\" stroke-width=\"2\" opacity=\"0.7\"></path><path aria-label=\"x: 1.70891248624; y: 2.06455413737\" role=\"graphics-symbol\" aria-roledescription=\"circle\" transform=\"translate(114.17824972479464,98.38614656578675)\" d=\"M2.7386127875258306,0A2.7386127875258306,2.7386127875258306,0,1,1,-2.7386127875258306,0A2.7386127875258306,2.7386127875258306,0,1,1,2.7386127875258306,0\" fill=\"#4c78a8\" stroke-width=\"2\" opacity=\"0.7\"></path><path aria-label=\"x: -0.930082964545; y: 1.2526765647\" role=\"graphics-symbol\" aria-roledescription=\"circle\" transform=\"translate(61.39834070909224,118.68308588259275)\" d=\"M2.7386127875258306,0A2.7386127875258306,2.7386127875258306,0,1,1,-2.7386127875258306,0A2.7386127875258306,2.7386127875258306,0,1,1,2.7386127875258306,0\" fill=\"#4c78a8\" stroke-width=\"2\" opacity=\"0.7\"></path><path aria-label=\"x: 1.48310665572; y: 2.3351595497\" role=\"graphics-symbol\" aria-roledescription=\"circle\" transform=\"translate(109.66213311443647,91.62101125743317)\" d=\"M2.7386127875258306,0A2.7386127875258306,2.7386127875258306,0,1,1,-2.7386127875258306,0A2.7386127875258306,2.7386127875258306,0,1,1,2.7386127875258306,0\" fill=\"#4c78a8\" stroke-width=\"2\" opacity=\"0.7\"></path><path aria-label=\"x: -0.736904753097; y: 1.24422619643\" role=\"graphics-symbol\" aria-roledescription=\"circle\" transform=\"translate(65.26190493805777,118.89434508928154)\" d=\"M2.7386127875258306,0A2.7386127875258306,2.7386127875258306,0,1,1,-2.7386127875258306,0A2.7386127875258306,2.7386127875258306,0,1,1,2.7386127875258306,0\" fill=\"#4c78a8\" stroke-width=\"2\" opacity=\"0.7\"></path><path aria-label=\"x: -0.684225011291; y: 0.96175851848\" role=\"graphics-symbol\" aria-roledescription=\"circle\" transform=\"translate(66.31549977417507,125.95603703799397)\" d=\"M2.7386127875258306,0A2.7386127875258306,2.7386127875258306,0,1,1,-2.7386127875258306,0A2.7386127875258306,2.7386127875258306,0,1,1,2.7386127875258306,0\" fill=\"#4c78a8\" stroke-width=\"2\" opacity=\"0.7\"></path><path aria-label=\"x: 0.0165929097832; y: 1.87767806906\" role=\"graphics-symbol\" aria-roledescription=\"circle\" transform=\"translate(80.33185819566324,103.05804827341586)\" d=\"M2.7386127875258306,0A2.7386127875258306,2.7386127875258306,0,1,1,-2.7386127875258306,0A2.7386127875258306,2.7386127875258306,0,1,1,2.7386127875258306,0\" fill=\"#4c78a8\" stroke-width=\"2\" opacity=\"0.7\"></path><path aria-label=\"x: -1.04904467177; y: 1.59489541968\" role=\"graphics-symbol\" aria-roledescription=\"circle\" transform=\"translate(59.019106564660525,110.12761450801982)\" d=\"M2.7386127875258306,0A2.7386127875258306,2.7386127875258306,0,1,1,-2.7386127875258306,0A2.7386127875258306,2.7386127875258306,0,1,1,2.7386127875258306,0\" fill=\"#4c78a8\" stroke-width=\"2\" opacity=\"0.7\"></path><path aria-label=\"x: 2.63708803088; y: 2.3172313361\" role=\"graphics-symbol\" aria-roledescription=\"circle\" transform=\"translate(132.7417606175057,92.06921659760965)\" d=\"M2.7386127875258306,0A2.7386127875258306,2.7386127875258306,0,1,1,-2.7386127875258306,0A2.7386127875258306,2.7386127875258306,0,1,1,2.7386127875258306,0\" fill=\"#4c78a8\" stroke-width=\"2\" opacity=\"0.7\"></path><path aria-label=\"x: -2.1996846923; y: 0.615878234414\" role=\"graphics-symbol\" aria-roledescription=\"circle\" transform=\"translate(36.00630615409629,134.60304413965716)\" d=\"M2.7386127875258306,0A2.7386127875258306,2.7386127875258306,0,1,1,-2.7386127875258306,0A2.7386127875258306,2.7386127875258306,0,1,1,2.7386127875258306,0\" fill=\"#4c78a8\" stroke-width=\"2\" opacity=\"0.7\"></path><path aria-label=\"x: 2.87218661917; y: 3.76039892764\" role=\"graphics-symbol\" aria-roledescription=\"circle\" transform=\"translate(137.44373238334865,55.990026809099746)\" d=\"M2.7386127875258306,0A2.7386127875258306,2.7386127875258306,0,1,1,-2.7386127875258306,0A2.7386127875258306,2.7386127875258306,0,1,1,2.7386127875258306,0\" fill=\"#4c78a8\" stroke-width=\"2\" opacity=\"0.7\"></path><path aria-label=\"x: -0.277156991375; y: 0.0709837757421\" role=\"graphics-symbol\" aria-roledescription=\"circle\" transform=\"translate(74.45686017250752,148.22540560644794)\" d=\"M2.7386127875258306,0A2.7386127875258306,2.7386127875258306,0,1,1,-2.7386127875258306,0A2.7386127875258306,2.7386127875258306,0,1,1,2.7386127875258306,0\" fill=\"#4c78a8\" stroke-width=\"2\" opacity=\"0.7\"></path><path aria-label=\"x: 3.17292417149; y: 3.78296139338\" role=\"graphics-symbol\" aria-roledescription=\"circle\" transform=\"translate(143.45848342973926,55.42596516554834)\" d=\"M2.7386127875258306,0A2.7386127875258306,2.7386127875258306,0,1,1,-2.7386127875258306,0A2.7386127875258306,2.7386127875258306,0,1,1,2.7386127875258306,0\" fill=\"#4c78a8\" stroke-width=\"2\" opacity=\"0.7\"></path><path aria-label=\"x: -0.755153924152; y: 1.84183927678\" role=\"graphics-symbol\" aria-roledescription=\"circle\" transform=\"translate(64.89692151695198,103.9540180805224)\" d=\"M2.7386127875258306,0A2.7386127875258306,2.7386127875258306,0,1,1,-2.7386127875258306,0A2.7386127875258306,2.7386127875258306,0,1,1,2.7386127875258306,0\" fill=\"#4c78a8\" stroke-width=\"2\" opacity=\"0.7\"></path><path aria-label=\"x: 1.08564092794; y: 2.32096049799\" role=\"graphics-symbol\" aria-roledescription=\"circle\" transform=\"translate(101.71281855886308,91.97598755035004)\" d=\"M2.7386127875258306,0A2.7386127875258306,2.7386127875258306,0,1,1,-2.7386127875258306,0A2.7386127875258306,2.7386127875258306,0,1,1,2.7386127875258306,0\" fill=\"#4c78a8\" stroke-width=\"2\" opacity=\"0.7\"></path><path aria-label=\"x: -2.61825360869; y: -0.610415184321\" role=\"graphics-symbol\" aria-roledescription=\"circle\" transform=\"translate(27.634927826168532,165.26037960802057)\" d=\"M2.7386127875258306,0A2.7386127875258306,2.7386127875258306,0,1,1,-2.7386127875258306,0A2.7386127875258306,2.7386127875258306,0,1,1,2.7386127875258306,0\" fill=\"#4c78a8\" stroke-width=\"2\" opacity=\"0.7\"></path><path aria-label=\"x: -1.62969495831; y: 0.60660020536\" role=\"graphics-symbol\" aria-roledescription=\"circle\" transform=\"translate(47.40610083378634,134.83499486601184)\" d=\"M2.7386127875258306,0A2.7386127875258306,2.7386127875258306,0,1,1,-2.7386127875258306,0A2.7386127875258306,2.7386127875258306,0,1,1,2.7386127875258306,0\" fill=\"#4c78a8\" stroke-width=\"2\" opacity=\"0.7\"></path><path aria-label=\"x: -1.85415436279; y: 0.997219049041\" role=\"graphics-symbol\" aria-roledescription=\"circle\" transform=\"translate(42.916912744151894,125.0695237739854)\" d=\"M2.7386127875258306,0A2.7386127875258306,2.7386127875258306,0,1,1,-2.7386127875258306,0A2.7386127875258306,2.7386127875258306,0,1,1,2.7386127875258306,0\" fill=\"#4c78a8\" stroke-width=\"2\" opacity=\"0.7\"></path><path aria-label=\"x: 2.4092952307; y: 2.16133875147\" role=\"graphics-symbol\" aria-roledescription=\"circle\" transform=\"translate(128.18590461405682,95.9665312132347)\" d=\"M2.7386127875258306,0A2.7386127875258306,2.7386127875258306,0,1,1,-2.7386127875258306,0A2.7386127875258306,2.7386127875258306,0,1,1,2.7386127875258306,0\" fill=\"#4c78a8\" stroke-width=\"2\" opacity=\"0.7\"></path><path aria-label=\"x: 0.999943529596; y: 1.99684365201\" role=\"graphics-symbol\" aria-roledescription=\"circle\" transform=\"translate(99.99887059191315,100.07890869966202)\" d=\"M2.7386127875258306,0A2.7386127875258306,2.7386127875258306,0,1,1,-2.7386127875258306,0A2.7386127875258306,2.7386127875258306,0,1,1,2.7386127875258306,0\" fill=\"#4c78a8\" stroke-width=\"2\" opacity=\"0.7\"></path><path aria-label=\"x: 2.1327502713; y: 3.94508918727\" role=\"graphics-symbol\" aria-roledescription=\"circle\" transform=\"translate(122.65500542597627,51.3727703182876)\" d=\"M2.7386127875258306,0A2.7386127875258306,2.7386127875258306,0,1,1,-2.7386127875258306,0A2.7386127875258306,2.7386127875258306,0,1,1,2.7386127875258306,0\" fill=\"#4c78a8\" stroke-width=\"2\" opacity=\"0.7\"></path><path aria-label=\"x: -0.545757047515; y: 0.983106838495\" role=\"graphics-symbol\" aria-roledescription=\"circle\" transform=\"translate(69.08485904969653,125.42232903762935)\" d=\"M2.7386127875258306,0A2.7386127875258306,2.7386127875258306,0,1,1,-2.7386127875258306,0A2.7386127875258306,2.7386127875258306,0,1,1,2.7386127875258306,0\" fill=\"#4c78a8\" stroke-width=\"2\" opacity=\"0.7\"></path><path aria-label=\"x: -0.242953990637; y: 0.891903538418\" role=\"graphics-symbol\" aria-roledescription=\"circle\" transform=\"translate(75.14092018726167,127.70241153955241)\" d=\"M2.7386127875258306,0A2.7386127875258306,2.7386127875258306,0,1,1,-2.7386127875258306,0A2.7386127875258306,2.7386127875258306,0,1,1,2.7386127875258306,0\" fill=\"#4c78a8\" stroke-width=\"2\" opacity=\"0.7\"></path><path aria-label=\"x: 4.57456309807; y: 3.43734331342\" role=\"graphics-symbol\" aria-roledescription=\"circle\" transform=\"translate(171.49126196134162,64.06641716445615)\" d=\"M2.7386127875258306,0A2.7386127875258306,2.7386127875258306,0,1,1,-2.7386127875258306,0A2.7386127875258306,2.7386127875258306,0,1,1,2.7386127875258306,0\" fill=\"#4c78a8\" stroke-width=\"2\" opacity=\"0.7\"></path><path aria-label=\"x: 2.72352833059; y: 1.96496377533\" role=\"graphics-symbol\" aria-roledescription=\"circle\" transform=\"translate(134.47056661183106,100.87590561680852)\" d=\"M2.7386127875258306,0A2.7386127875258306,2.7386127875258306,0,1,1,-2.7386127875258306,0A2.7386127875258306,2.7386127875258306,0,1,1,2.7386127875258306,0\" fill=\"#4c78a8\" stroke-width=\"2\" opacity=\"0.7\"></path><path aria-label=\"x: 2.08133234432; y: 1.79597970541\" role=\"graphics-symbol\" aria-roledescription=\"circle\" transform=\"translate(121.62664688639448,105.10050736479192)\" d=\"M2.7386127875258306,0A2.7386127875258306,2.7386127875258306,0,1,1,-2.7386127875258306,0A2.7386127875258306,2.7386127875258306,0,1,1,2.7386127875258306,0\" fill=\"#4c78a8\" stroke-width=\"2\" opacity=\"0.7\"></path><path aria-label=\"x: -0.0709191417419; y: 1.69053583848\" role=\"graphics-symbol\" aria-roledescription=\"circle\" transform=\"translate(78.58161716516152,107.73660403793657)\" d=\"M2.7386127875258306,0A2.7386127875258306,2.7386127875258306,0,1,1,-2.7386127875258306,0A2.7386127875258306,2.7386127875258306,0,1,1,2.7386127875258306,0\" fill=\"#4c78a8\" stroke-width=\"2\" opacity=\"0.7\"></path><path aria-label=\"x: 1.0100103523; y: 2.17340654984\" role=\"graphics-symbol\" aria-roledescription=\"circle\" transform=\"translate(100.20020704607428,95.66483625410103)\" d=\"M2.7386127875258306,0A2.7386127875258306,2.7386127875258306,0,1,1,-2.7386127875258306,0A2.7386127875258306,2.7386127875258306,0,1,1,2.7386127875258306,0\" fill=\"#4c78a8\" stroke-width=\"2\" opacity=\"0.7\"></path><path aria-label=\"x: 1.34149576925; y: 2.30769941904\" role=\"graphics-symbol\" aria-roledescription=\"circle\" transform=\"translate(106.82991538490793,92.30751452395909)\" d=\"M2.7386127875258306,0A2.7386127875258306,2.7386127875258306,0,1,1,-2.7386127875258306,0A2.7386127875258306,2.7386127875258306,0,1,1,2.7386127875258306,0\" fill=\"#4c78a8\" stroke-width=\"2\" opacity=\"0.7\"></path><path aria-label=\"x: -1.95139480451; y: -0.293813580225\" role=\"graphics-symbol\" aria-roledescription=\"circle\" transform=\"translate(40.972103909759575,157.3453395056294)\" d=\"M2.7386127875258306,0A2.7386127875258306,2.7386127875258306,0,1,1,-2.7386127875258306,0A2.7386127875258306,2.7386127875258306,0,1,1,2.7386127875258306,0\" fill=\"#4c78a8\" stroke-width=\"2\" opacity=\"0.7\"></path><path aria-label=\"x: 0.215089124435; y: 1.48690324723\" role=\"graphics-symbol\" aria-roledescription=\"circle\" transform=\"translate(84.30178248870487,112.82741881920835)\" d=\"M2.7386127875258306,0A2.7386127875258306,2.7386127875258306,0,1,1,-2.7386127875258306,0A2.7386127875258306,2.7386127875258306,0,1,1,2.7386127875258306,0\" fill=\"#4c78a8\" stroke-width=\"2\" opacity=\"0.7\"></path><path aria-label=\"x: 0.671159578076; y: 1.7090011912\" role=\"graphics-symbol\" aria-roledescription=\"circle\" transform=\"translate(93.42319156151602,107.2749702200579)\" d=\"M2.7386127875258306,0A2.7386127875258306,2.7386127875258306,0,1,1,-2.7386127875258306,0A2.7386127875258306,2.7386127875258306,0,1,1,2.7386127875258306,0\" fill=\"#4c78a8\" stroke-width=\"2\" opacity=\"0.7\"></path><path aria-label=\"x: 2.00875365849; y: 3.76606001031\" role=\"graphics-symbol\" aria-roledescription=\"circle\" transform=\"translate(120.17507316987461,55.84849974230677)\" d=\"M2.7386127875258306,0A2.7386127875258306,2.7386127875258306,0,1,1,-2.7386127875258306,0A2.7386127875258306,2.7386127875258306,0,1,1,2.7386127875258306,0\" fill=\"#4c78a8\" stroke-width=\"2\" opacity=\"0.7\"></path><path aria-label=\"x: 0.243205100281; y: 1.14317664366\" role=\"graphics-symbol\" aria-roledescription=\"circle\" transform=\"translate(84.86410200561146,121.42058390856624)\" d=\"M2.7386127875258306,0A2.7386127875258306,2.7386127875258306,0,1,1,-2.7386127875258306,0A2.7386127875258306,2.7386127875258306,0,1,1,2.7386127875258306,0\" fill=\"#4c78a8\" stroke-width=\"2\" opacity=\"0.7\"></path><path aria-label=\"x: 3.61171877044; y: 4.17876933578\" role=\"graphics-symbol\" aria-roledescription=\"circle\" transform=\"translate(152.2343754088665,45.53076660561146)\" d=\"M2.7386127875258306,0A2.7386127875258306,2.7386127875258306,0,1,1,-2.7386127875258306,0A2.7386127875258306,2.7386127875258306,0,1,1,2.7386127875258306,0\" fill=\"#4c78a8\" stroke-width=\"2\" opacity=\"0.7\"></path><path aria-label=\"x: -1.64380935296; y: 0.0489540842543\" role=\"graphics-symbol\" aria-roledescription=\"circle\" transform=\"translate(47.12381294073036,148.7761478936421)\" d=\"M2.7386127875258306,0A2.7386127875258306,2.7386127875258306,0,1,1,-2.7386127875258306,0A2.7386127875258306,2.7386127875258306,0,1,1,2.7386127875258306,0\" fill=\"#4c78a8\" stroke-width=\"2\" opacity=\"0.7\"></path><path aria-label=\"x: 0.989782699799; y: 1.56101417442\" role=\"graphics-symbol\" aria-roledescription=\"circle\" transform=\"translate(99.7956539959812,110.97464563954698)\" d=\"M2.7386127875258306,0A2.7386127875258306,2.7386127875258306,0,1,1,-2.7386127875258306,0A2.7386127875258306,2.7386127875258306,0,1,1,2.7386127875258306,0\" fill=\"#4c78a8\" stroke-width=\"2\" opacity=\"0.7\"></path><path aria-label=\"x: 2.24732253432; y: 2.65492868483\" role=\"graphics-symbol\" aria-roledescription=\"circle\" transform=\"translate(124.94645068639126,83.62678287924012)\" d=\"M2.7386127875258306,0A2.7386127875258306,2.7386127875258306,0,1,1,-2.7386127875258306,0A2.7386127875258306,2.7386127875258306,0,1,1,2.7386127875258306,0\" fill=\"#4c78a8\" stroke-width=\"2\" opacity=\"0.7\"></path><path aria-label=\"x: -0.856790493167; y: 2.1318976801\" role=\"graphics-symbol\" aria-roledescription=\"circle\" transform=\"translate(62.86419013666886,96.70255799749832)\" d=\"M2.7386127875258306,0A2.7386127875258306,2.7386127875258306,0,1,1,-2.7386127875258306,0A2.7386127875258306,2.7386127875258306,0,1,1,2.7386127875258306,0\" fill=\"#4c78a8\" stroke-width=\"2\" opacity=\"0.7\"></path><path aria-label=\"x: 0.817225464434; y: 2.04923994524\" role=\"graphics-symbol\" aria-roledescription=\"circle\" transform=\"translate(96.3445092886723,98.76900136908647)\" d=\"M2.7386127875258306,0A2.7386127875258306,2.7386127875258306,0,1,1,-2.7386127875258306,0A2.7386127875258306,2.7386127875258306,0,1,1,2.7386127875258306,0\" fill=\"#4c78a8\" stroke-width=\"2\" opacity=\"0.7\"></path><path aria-label=\"x: 1.16371419371; y: 1.32610327819\" role=\"graphics-symbol\" aria-roledescription=\"circle\" transform=\"translate(103.27428387420173,116.847418045248)\" d=\"M2.7386127875258306,0A2.7386127875258306,2.7386127875258306,0,1,1,-2.7386127875258306,0A2.7386127875258306,2.7386127875258306,0,1,1,2.7386127875258306,0\" fill=\"#4c78a8\" stroke-width=\"2\" opacity=\"0.7\"></path><path aria-label=\"x: 3.40014792644; y: 4.80975883519\" role=\"graphics-symbol\" aria-roledescription=\"circle\" transform=\"translate(148.0029585288766,29.756029120351847)\" d=\"M2.7386127875258306,0A2.7386127875258306,2.7386127875258306,0,1,1,-2.7386127875258306,0A2.7386127875258306,2.7386127875258306,0,1,1,2.7386127875258306,0\" fill=\"#4c78a8\" stroke-width=\"2\" opacity=\"0.7\"></path><path aria-label=\"x: 0.812863371997; y: 3.04759858242\" role=\"graphics-symbol\" aria-roledescription=\"circle\" transform=\"translate(96.25726743994585,73.81003543943292)\" d=\"M2.7386127875258306,0A2.7386127875258306,2.7386127875258306,0,1,1,-2.7386127875258306,0A2.7386127875258306,2.7386127875258306,0,1,1,2.7386127875258306,0\" fill=\"#4c78a8\" stroke-width=\"2\" opacity=\"0.7\"></path><path aria-label=\"x: 2.37040079888; y: 3.11417899718\" role=\"graphics-symbol\" aria-roledescription=\"circle\" transform=\"translate(127.40801597751043,72.14552507039154)\" d=\"M2.7386127875258306,0A2.7386127875258306,2.7386127875258306,0,1,1,-2.7386127875258306,0A2.7386127875258306,2.7386127875258306,0,1,1,2.7386127875258306,0\" fill=\"#4c78a8\" stroke-width=\"2\" opacity=\"0.7\"></path><path aria-label=\"x: 1.72697634852; y: 2.43260367834\" role=\"graphics-symbol\" aria-roledescription=\"circle\" transform=\"translate(114.53952697037244,89.18490804150095)\" d=\"M2.7386127875258306,0A2.7386127875258306,2.7386127875258306,0,1,1,-2.7386127875258306,0A2.7386127875258306,2.7386127875258306,0,1,1,2.7386127875258306,0\" fill=\"#4c78a8\" stroke-width=\"2\" opacity=\"0.7\"></path><path aria-label=\"x: 3.00313042647; y: 3.53577971364\" role=\"graphics-symbol\" aria-roledescription=\"circle\" transform=\"translate(140.06260852942302,61.60550715893387)\" d=\"M2.7386127875258306,0A2.7386127875258306,2.7386127875258306,0,1,1,-2.7386127875258306,0A2.7386127875258306,2.7386127875258306,0,1,1,2.7386127875258306,0\" fill=\"#4c78a8\" stroke-width=\"2\" opacity=\"0.7\"></path><path aria-label=\"x: 2.87486238072; y: 3.47865549359\" role=\"graphics-symbol\" aria-roledescription=\"circle\" transform=\"translate(137.4972476143697,63.03361266014702)\" d=\"M2.7386127875258306,0A2.7386127875258306,2.7386127875258306,0,1,1,-2.7386127875258306,0A2.7386127875258306,2.7386127875258306,0,1,1,2.7386127875258306,0\" fill=\"#4c78a8\" stroke-width=\"2\" opacity=\"0.7\"></path><path aria-label=\"x: 0.86634884457; y: 1.3088731102\" role=\"graphics-symbol\" aria-roledescription=\"circle\" transform=\"translate(97.32697689140839,117.27817224504737)\" d=\"M2.7386127875258306,0A2.7386127875258306,2.7386127875258306,0,1,1,-2.7386127875258306,0A2.7386127875258306,2.7386127875258306,0,1,1,2.7386127875258306,0\" fill=\"#4c78a8\" stroke-width=\"2\" opacity=\"0.7\"></path><path aria-label=\"x: 2.68671652775; y: 2.88688085539\" role=\"graphics-symbol\" aria-roledescription=\"circle\" transform=\"translate(133.73433055494988,77.82797861531124)\" d=\"M2.7386127875258306,0A2.7386127875258306,2.7386127875258306,0,1,1,-2.7386127875258306,0A2.7386127875258306,2.7386127875258306,0,1,1,2.7386127875258306,0\" fill=\"#4c78a8\" stroke-width=\"2\" opacity=\"0.7\"></path><path aria-label=\"x: 0.750403617586; y: 2.70547910031\" role=\"graphics-symbol\" aria-roledescription=\"circle\" transform=\"translate(95.00807235172836,82.36302249233418)\" d=\"M2.7386127875258306,0A2.7386127875258306,2.7386127875258306,0,1,1,-2.7386127875258306,0A2.7386127875258306,2.7386127875258306,0,1,1,2.7386127875258306,0\" fill=\"#4c78a8\" stroke-width=\"2\" opacity=\"0.7\"></path><path aria-label=\"x: 2.96804423355; y: 3.96298145236\" role=\"graphics-symbol\" aria-roledescription=\"circle\" transform=\"translate(139.36088467099466,50.92546369093185)\" d=\"M2.7386127875258306,0A2.7386127875258306,2.7386127875258306,0,1,1,-2.7386127875258306,0A2.7386127875258306,2.7386127875258306,0,1,1,2.7386127875258306,0\" fill=\"#4c78a8\" stroke-width=\"2\" opacity=\"0.7\"></path><path aria-label=\"x: 2.11119326321; y: 1.53460699319\" role=\"graphics-symbol\" aria-roledescription=\"circle\" transform=\"translate(122.22386526425124,111.63482517030052)\" d=\"M2.7386127875258306,0A2.7386127875258306,2.7386127875258306,0,1,1,-2.7386127875258306,0A2.7386127875258306,2.7386127875258306,0,1,1,2.7386127875258306,0\" fill=\"#4c78a8\" stroke-width=\"2\" opacity=\"0.7\"></path><path aria-label=\"x: 2.46885735065; y: 2.72379284565\" role=\"graphics-symbol\" aria-roledescription=\"circle\" transform=\"translate(129.37714701308002,81.90517885870838)\" d=\"M2.7386127875258306,0A2.7386127875258306,2.7386127875258306,0,1,1,-2.7386127875258306,0A2.7386127875258306,2.7386127875258306,0,1,1,2.7386127875258306,0\" fill=\"#4c78a8\" stroke-width=\"2\" opacity=\"0.7\"></path><path aria-label=\"x: 0.0258739299234; y: 1.41914410453\" role=\"graphics-symbol\" aria-roledescription=\"circle\" transform=\"translate(80.517478598467,114.52139738680533)\" d=\"M2.7386127875258306,0A2.7386127875258306,2.7386127875258306,0,1,1,-2.7386127875258306,0A2.7386127875258306,2.7386127875258306,0,1,1,2.7386127875258306,0\" fill=\"#4c78a8\" stroke-width=\"2\" opacity=\"0.7\"></path><path aria-label=\"x: -0.120980493617; y: -1.85094601734\" role=\"graphics-symbol\" aria-roledescription=\"circle\" transform=\"translate(77.5803901276631,196.27365043357216)\" d=\"M2.7386127875258306,0A2.7386127875258306,2.7386127875258306,0,1,1,-2.7386127875258306,0A2.7386127875258306,2.7386127875258306,0,1,1,2.7386127875258306,0\" fill=\"#4c78a8\" stroke-width=\"2\" opacity=\"0.7\"></path><path aria-label=\"x: 0.725447797569; y: 1.64859568576\" role=\"graphics-symbol\" aria-roledescription=\"circle\" transform=\"translate(94.50895595138454,108.78510785605151)\" d=\"M2.7386127875258306,0A2.7386127875258306,2.7386127875258306,0,1,1,-2.7386127875258306,0A2.7386127875258306,2.7386127875258306,0,1,1,2.7386127875258306,0\" fill=\"#4c78a8\" stroke-width=\"2\" opacity=\"0.7\"></path><path aria-label=\"x: 0.0900375082848; y: 1.89256547921\" role=\"graphics-symbol\" aria-roledescription=\"circle\" transform=\"translate(81.80075016569506,102.68586301982943)\" d=\"M2.7386127875258306,0A2.7386127875258306,2.7386127875258306,0,1,1,-2.7386127875258306,0A2.7386127875258306,2.7386127875258306,0,1,1,2.7386127875258306,0\" fill=\"#4c78a8\" stroke-width=\"2\" opacity=\"0.7\"></path><path aria-label=\"x: 0.121894303926; y: 1.91130480562\" role=\"graphics-symbol\" aria-roledescription=\"circle\" transform=\"translate(82.4378860785286,102.21737985955954)\" d=\"M2.7386127875258306,0A2.7386127875258306,2.7386127875258306,0,1,1,-2.7386127875258306,0A2.7386127875258306,2.7386127875258306,0,1,1,2.7386127875258306,0\" fill=\"#4c78a8\" stroke-width=\"2\" opacity=\"0.7\"></path><path aria-label=\"x: -0.200017652887; y: 2.38536345597\" role=\"graphics-symbol\" aria-roledescription=\"circle\" transform=\"translate(75.99964694226097,90.36591360078776)\" d=\"M2.7386127875258306,0A2.7386127875258306,2.7386127875258306,0,1,1,-2.7386127875258306,0A2.7386127875258306,2.7386127875258306,0,1,1,2.7386127875258306,0\" fill=\"#4c78a8\" stroke-width=\"2\" opacity=\"0.7\"></path><path aria-label=\"x: 2.04829173304; y: 2.50838548115\" role=\"graphics-symbol\" aria-roledescription=\"circle\" transform=\"translate(120.96583466089274,87.29036297115269)\" d=\"M2.7386127875258306,0A2.7386127875258306,2.7386127875258306,0,1,1,-2.7386127875258306,0A2.7386127875258306,2.7386127875258306,0,1,1,2.7386127875258306,0\" fill=\"#4c78a8\" stroke-width=\"2\" opacity=\"0.7\"></path><path aria-label=\"x: -1.34408175905; y: -0.322777499762\" role=\"graphics-symbol\" aria-roledescription=\"circle\" transform=\"translate(53.11836481899267,158.06943749405505)\" d=\"M2.7386127875258306,0A2.7386127875258306,2.7386127875258306,0,1,1,-2.7386127875258306,0A2.7386127875258306,2.7386127875258306,0,1,1,2.7386127875258306,0\" fill=\"#4c78a8\" stroke-width=\"2\" opacity=\"0.7\"></path><path aria-label=\"x: -1.74476825717; y: 0.504611589434\" role=\"graphics-symbol\" aria-roledescription=\"circle\" transform=\"translate(45.10463485651341,137.38471026414913)\" d=\"M2.7386127875258306,0A2.7386127875258306,2.7386127875258306,0,1,1,-2.7386127875258306,0A2.7386127875258306,2.7386127875258306,0,1,1,2.7386127875258306,0\" fill=\"#4c78a8\" stroke-width=\"2\" opacity=\"0.7\"></path><path aria-label=\"x: -0.062722128109; y: 1.89628727413\" role=\"graphics-symbol\" aria-roledescription=\"circle\" transform=\"translate(78.74555743782075,102.59281814663912)\" d=\"M2.7386127875258306,0A2.7386127875258306,2.7386127875258306,0,1,1,-2.7386127875258306,0A2.7386127875258306,2.7386127875258306,0,1,1,2.7386127875258306,0\" fill=\"#4c78a8\" stroke-width=\"2\" opacity=\"0.7\"></path><path aria-label=\"x: -1.10936812062; y: 0.635317108378\" role=\"graphics-symbol\" aria-roledescription=\"circle\" transform=\"translate(57.81263758754084,134.11707229056162)\" d=\"M2.7386127875258306,0A2.7386127875258306,2.7386127875258306,0,1,1,-2.7386127875258306,0A2.7386127875258306,2.7386127875258306,0,1,1,2.7386127875258306,0\" fill=\"#4c78a8\" stroke-width=\"2\" opacity=\"0.7\"></path><path aria-label=\"x: 0.447234537359; y: 1.69578896273\" role=\"graphics-symbol\" aria-roledescription=\"circle\" transform=\"translate(88.94469074718806,107.60527593165014)\" d=\"M2.7386127875258306,0A2.7386127875258306,2.7386127875258306,0,1,1,-2.7386127875258306,0A2.7386127875258306,2.7386127875258306,0,1,1,2.7386127875258306,0\" fill=\"#4c78a8\" stroke-width=\"2\" opacity=\"0.7\"></path><path aria-label=\"x: 2.41160304137; y: 1.70887137471\" role=\"graphics-symbol\" aria-roledescription=\"circle\" transform=\"translate(128.23206082740242,107.27821563227553)\" d=\"M2.7386127875258306,0A2.7386127875258306,2.7386127875258306,0,1,1,-2.7386127875258306,0A2.7386127875258306,2.7386127875258306,0,1,1,2.7386127875258306,0\" fill=\"#4c78a8\" stroke-width=\"2\" opacity=\"0.7\"></path><path aria-label=\"x: 3.28692427939; y: 2.01605397224\" role=\"graphics-symbol\" aria-roledescription=\"circle\" transform=\"translate(145.73848558788254,99.59865069406048)\" d=\"M2.7386127875258306,0A2.7386127875258306,2.7386127875258306,0,1,1,-2.7386127875258306,0A2.7386127875258306,2.7386127875258306,0,1,1,2.7386127875258306,0\" fill=\"#4c78a8\" stroke-width=\"2\" opacity=\"0.7\"></path><path aria-label=\"x: 3.48489488929; y: 3.71432599678\" role=\"graphics-symbol\" aria-roledescription=\"circle\" transform=\"translate(149.69789778587744,57.14185008057227)\" d=\"M2.7386127875258306,0A2.7386127875258306,2.7386127875258306,0,1,1,-2.7386127875258306,0A2.7386127875258306,2.7386127875258306,0,1,1,2.7386127875258306,0\" fill=\"#4c78a8\" stroke-width=\"2\" opacity=\"0.7\"></path><path aria-label=\"x: 0.427697845282; y: 3.03924326358\" role=\"graphics-symbol\" aria-roledescription=\"circle\" transform=\"translate(88.55395690564197,74.01891841045394)\" d=\"M2.7386127875258306,0A2.7386127875258306,2.7386127875258306,0,1,1,-2.7386127875258306,0A2.7386127875258306,2.7386127875258306,0,1,1,2.7386127875258306,0\" fill=\"#4c78a8\" stroke-width=\"2\" opacity=\"0.7\"></path><path aria-label=\"x: 0.994466049252; y: 3.4233919191\" role=\"graphics-symbol\" aria-roledescription=\"circle\" transform=\"translate(99.889320985043,64.4152020224539)\" d=\"M2.7386127875258306,0A2.7386127875258306,2.7386127875258306,0,1,1,-2.7386127875258306,0A2.7386127875258306,2.7386127875258306,0,1,1,2.7386127875258306,0\" fill=\"#4c78a8\" stroke-width=\"2\" opacity=\"0.7\"></path><path aria-label=\"x: 0.548940684608; y: 0.416303125188\" role=\"graphics-symbol\" aria-roledescription=\"circle\" transform=\"translate(90.97881369215264,139.59242187029074)\" d=\"M2.7386127875258306,0A2.7386127875258306,2.7386127875258306,0,1,1,-2.7386127875258306,0A2.7386127875258306,2.7386127875258306,0,1,1,2.7386127875258306,0\" fill=\"#4c78a8\" stroke-width=\"2\" opacity=\"0.7\"></path><path aria-label=\"x: 0.641090513; y: 1.73515042555\" role=\"graphics-symbol\" aria-roledescription=\"circle\" transform=\"translate(92.82181026000082,106.62123936117302)\" d=\"M2.7386127875258306,0A2.7386127875258306,2.7386127875258306,0,1,1,-2.7386127875258306,0A2.7386127875258306,2.7386127875258306,0,1,1,2.7386127875258306,0\" fill=\"#4c78a8\" stroke-width=\"2\" opacity=\"0.7\"></path><path aria-label=\"x: 4.75616831347; y: 3.08382736787\" role=\"graphics-symbol\" aria-roledescription=\"circle\" transform=\"translate(175.12336626934638,72.9043158031385)\" d=\"M2.7386127875258306,0A2.7386127875258306,2.7386127875258306,0,1,1,-2.7386127875258306,0A2.7386127875258306,2.7386127875258306,0,1,1,2.7386127875258306,0\" fill=\"#4c78a8\" stroke-width=\"2\" opacity=\"0.7\"></path><path aria-label=\"x: 0.730010691236; y: 1.18878393562\" role=\"graphics-symbol\" aria-roledescription=\"circle\" transform=\"translate(94.60021382472647,120.28040160960565)\" d=\"M2.7386127875258306,0A2.7386127875258306,2.7386127875258306,0,1,1,-2.7386127875258306,0A2.7386127875258306,2.7386127875258306,0,1,1,2.7386127875258306,0\" fill=\"#4c78a8\" stroke-width=\"2\" opacity=\"0.7\"></path><path aria-label=\"x: 0.294083737564; y: 1.62500426076\" role=\"graphics-symbol\" aria-roledescription=\"circle\" transform=\"translate(85.88167475128611,109.37489348097135)\" d=\"M2.7386127875258306,0A2.7386127875258306,2.7386127875258306,0,1,1,-2.7386127875258306,0A2.7386127875258306,2.7386127875258306,0,1,1,2.7386127875258306,0\" fill=\"#4c78a8\" stroke-width=\"2\" opacity=\"0.7\"></path><path aria-label=\"x: -1.02454407262; y: 0.845625223981\" role=\"graphics-symbol\" aria-roledescription=\"circle\" transform=\"translate(59.5091185475928,128.85936940048376)\" d=\"M2.7386127875258306,0A2.7386127875258306,2.7386127875258306,0,1,1,-2.7386127875258306,0A2.7386127875258306,2.7386127875258306,0,1,1,2.7386127875258306,0\" fill=\"#4c78a8\" stroke-width=\"2\" opacity=\"0.7\"></path><path aria-label=\"x: -0.0618327412193; y: 1.61580283208\" role=\"graphics-symbol\" aria-roledescription=\"circle\" transform=\"translate(78.763345175615,109.60492919801675)\" d=\"M2.7386127875258306,0A2.7386127875258306,2.7386127875258306,0,1,1,-2.7386127875258306,0A2.7386127875258306,2.7386127875258306,0,1,1,2.7386127875258306,0\" fill=\"#4c78a8\" stroke-width=\"2\" opacity=\"0.7\"></path><path aria-label=\"x: 2.22524279391; y: 2.48854787403\" role=\"graphics-symbol\" aria-roledescription=\"circle\" transform=\"translate(124.50485587816718,87.78630314933183)\" d=\"M2.7386127875258306,0A2.7386127875258306,2.7386127875258306,0,1,1,-2.7386127875258306,0A2.7386127875258306,2.7386127875258306,0,1,1,2.7386127875258306,0\" fill=\"#4c78a8\" stroke-width=\"2\" opacity=\"0.7\"></path><path aria-label=\"x: 3.76085951664; y: 3.90737950196\" role=\"graphics-symbol\" aria-roledescription=\"circle\" transform=\"translate(155.21719033281883,52.31551245092423)\" d=\"M2.7386127875258306,0A2.7386127875258306,2.7386127875258306,0,1,1,-2.7386127875258306,0A2.7386127875258306,2.7386127875258306,0,1,1,2.7386127875258306,0\" fill=\"#4c78a8\" stroke-width=\"2\" opacity=\"0.7\"></path><path aria-label=\"x: 2.93801143782; y: 3.72452367495\" role=\"graphics-symbol\" aria-roledescription=\"circle\" transform=\"translate(138.76022875642087,56.88690812636226)\" d=\"M2.7386127875258306,0A2.7386127875258306,2.7386127875258306,0,1,1,-2.7386127875258306,0A2.7386127875258306,2.7386127875258306,0,1,1,2.7386127875258306,0\" fill=\"#4c78a8\" stroke-width=\"2\" opacity=\"0.7\"></path><path aria-label=\"x: 1.33245555515; y: 4.27564445956\" role=\"graphics-symbol\" aria-roledescription=\"circle\" transform=\"translate(106.64911110294555,43.10888851102712)\" d=\"M2.7386127875258306,0A2.7386127875258306,2.7386127875258306,0,1,1,-2.7386127875258306,0A2.7386127875258306,2.7386127875258306,0,1,1,2.7386127875258306,0\" fill=\"#4c78a8\" stroke-width=\"2\" opacity=\"0.7\"></path><path aria-label=\"x: 0.865696584693; y: 2.2167936597\" role=\"graphics-symbol\" aria-roledescription=\"circle\" transform=\"translate(97.31393169386816,94.58015850743865)\" d=\"M2.7386127875258306,0A2.7386127875258306,2.7386127875258306,0,1,1,-2.7386127875258306,0A2.7386127875258306,2.7386127875258306,0,1,1,2.7386127875258306,0\" fill=\"#4c78a8\" stroke-width=\"2\" opacity=\"0.7\"></path><path aria-label=\"x: -0.428461184236; y: 1.40344758634\" role=\"graphics-symbol\" aria-roledescription=\"circle\" transform=\"translate(71.43077631527126,114.913810341579)\" d=\"M2.7386127875258306,0A2.7386127875258306,2.7386127875258306,0,1,1,-2.7386127875258306,0A2.7386127875258306,2.7386127875258306,0,1,1,2.7386127875258306,0\" fill=\"#4c78a8\" stroke-width=\"2\" opacity=\"0.7\"></path><path aria-label=\"x: 0.0286237185838; y: -0.296804936203\" role=\"graphics-symbol\" aria-roledescription=\"circle\" transform=\"translate(80.57247437167699,157.42012340507512)\" d=\"M2.7386127875258306,0A2.7386127875258306,2.7386127875258306,0,1,1,-2.7386127875258306,0A2.7386127875258306,2.7386127875258306,0,1,1,2.7386127875258306,0\" fill=\"#4c78a8\" stroke-width=\"2\" opacity=\"0.7\"></path><path aria-label=\"x: -0.626678097538; y: 0.863241356934\" role=\"graphics-symbol\" aria-roledescription=\"circle\" transform=\"translate(67.46643804923407,128.41896607664873)\" d=\"M2.7386127875258306,0A2.7386127875258306,2.7386127875258306,0,1,1,-2.7386127875258306,0A2.7386127875258306,2.7386127875258306,0,1,1,2.7386127875258306,0\" fill=\"#4c78a8\" stroke-width=\"2\" opacity=\"0.7\"></path><path aria-label=\"x: 1.32615130008; y: -0.252340984546\" role=\"graphics-symbol\" aria-roledescription=\"circle\" transform=\"translate(106.52302600153605,156.3085246136382)\" d=\"M2.7386127875258306,0A2.7386127875258306,2.7386127875258306,0,1,1,-2.7386127875258306,0A2.7386127875258306,2.7386127875258306,0,1,1,2.7386127875258306,0\" fill=\"#4c78a8\" stroke-width=\"2\" opacity=\"0.7\"></path><path aria-label=\"x: 2.49963485122; y: 3.1238543378\" role=\"graphics-symbol\" aria-roledescription=\"circle\" transform=\"translate(129.9926970244332,71.90364155504273)\" d=\"M2.7386127875258306,0A2.7386127875258306,2.7386127875258306,0,1,1,-2.7386127875258306,0A2.7386127875258306,2.7386127875258306,0,1,1,2.7386127875258306,0\" fill=\"#4c78a8\" stroke-width=\"2\" opacity=\"0.7\"></path><path aria-label=\"x: 1.37432812521; y: 1.99517494167\" role=\"graphics-symbol\" aria-roledescription=\"circle\" transform=\"translate(107.48656250418871,100.12062645825996)\" d=\"M2.7386127875258306,0A2.7386127875258306,2.7386127875258306,0,1,1,-2.7386127875258306,0A2.7386127875258306,2.7386127875258306,0,1,1,2.7386127875258306,0\" fill=\"#4c78a8\" stroke-width=\"2\" opacity=\"0.7\"></path><path aria-label=\"x: 0.046364089134; y: 1.33375917822\" role=\"graphics-symbol\" aria-roledescription=\"circle\" transform=\"translate(80.92728178268018,116.65602054450459)\" d=\"M2.7386127875258306,0A2.7386127875258306,2.7386127875258306,0,1,1,-2.7386127875258306,0A2.7386127875258306,2.7386127875258306,0,1,1,2.7386127875258306,0\" fill=\"#4c78a8\" stroke-width=\"2\" opacity=\"0.7\"></path><path aria-label=\"x: 2.04013656123; y: 4.04936999342\" role=\"graphics-symbol\" aria-roledescription=\"circle\" transform=\"translate(120.80273122462609,48.76575016454301)\" d=\"M2.7386127875258306,0A2.7386127875258306,2.7386127875258306,0,1,1,-2.7386127875258306,0A2.7386127875258306,2.7386127875258306,0,1,1,2.7386127875258306,0\" fill=\"#4c78a8\" stroke-width=\"2\" opacity=\"0.7\"></path><path aria-label=\"x: 1.14837787158; y: 0.924351200573\" role=\"graphics-symbol\" aria-roledescription=\"circle\" transform=\"translate(102.96755743167498,126.89121998566924)\" d=\"M2.7386127875258306,0A2.7386127875258306,2.7386127875258306,0,1,1,-2.7386127875258306,0A2.7386127875258306,2.7386127875258306,0,1,1,2.7386127875258306,0\" fill=\"#4c78a8\" stroke-width=\"2\" opacity=\"0.7\"></path><path aria-label=\"x: -1.94943748643; y: 1.46226858683\" role=\"graphics-symbol\" aria-roledescription=\"circle\" transform=\"translate(41.01125027138334,113.4432853291571)\" d=\"M2.7386127875258306,0A2.7386127875258306,2.7386127875258306,0,1,1,-2.7386127875258306,0A2.7386127875258306,2.7386127875258306,0,1,1,2.7386127875258306,0\" fill=\"#4c78a8\" stroke-width=\"2\" opacity=\"0.7\"></path><path aria-label=\"x: -2.11466743928; y: -0.249605177108\" role=\"graphics-symbol\" aria-roledescription=\"circle\" transform=\"translate(37.70665121434112,156.2401294276887)\" d=\"M2.7386127875258306,0A2.7386127875258306,2.7386127875258306,0,1,1,-2.7386127875258306,0A2.7386127875258306,2.7386127875258306,0,1,1,2.7386127875258306,0\" fill=\"#4c78a8\" stroke-width=\"2\" opacity=\"0.7\"></path><path aria-label=\"x: 1.84939070583; y: 4.19705364321\" role=\"graphics-symbol\" aria-roledescription=\"circle\" transform=\"translate(116.98781411661142,45.073658919772306)\" d=\"M2.7386127875258306,0A2.7386127875258306,2.7386127875258306,0,1,1,-2.7386127875258306,0A2.7386127875258306,2.7386127875258306,0,1,1,2.7386127875258306,0\" fill=\"#4c78a8\" stroke-width=\"2\" opacity=\"0.7\"></path><path aria-label=\"x: 0.747100137104; y: 0.362776981462\" role=\"graphics-symbol\" aria-roledescription=\"circle\" transform=\"translate(94.94200274207057,140.930575463447)\" d=\"M2.7386127875258306,0A2.7386127875258306,2.7386127875258306,0,1,1,-2.7386127875258306,0A2.7386127875258306,2.7386127875258306,0,1,1,2.7386127875258306,0\" fill=\"#4c78a8\" stroke-width=\"2\" opacity=\"0.7\"></path><path aria-label=\"x: 2.00164261309; y: 2.14586233985\" role=\"graphics-symbol\" aria-roledescription=\"circle\" transform=\"translate(120.03285226183304,96.35344150374405)\" d=\"M2.7386127875258306,0A2.7386127875258306,2.7386127875258306,0,1,1,-2.7386127875258306,0A2.7386127875258306,2.7386127875258306,0,1,1,2.7386127875258306,0\" fill=\"#4c78a8\" stroke-width=\"2\" opacity=\"0.7\"></path><path aria-label=\"x: -0.128470750203; y: 1.49095290183\" role=\"graphics-symbol\" aria-roledescription=\"circle\" transform=\"translate(77.43058499593036,112.72617745426929)\" d=\"M2.7386127875258306,0A2.7386127875258306,2.7386127875258306,0,1,1,-2.7386127875258306,0A2.7386127875258306,2.7386127875258306,0,1,1,2.7386127875258306,0\" fill=\"#4c78a8\" stroke-width=\"2\" opacity=\"0.7\"></path><path aria-label=\"x: -0.313673662651; y: 2.38512352105\" role=\"graphics-symbol\" aria-roledescription=\"circle\" transform=\"translate(73.72652674697744,90.37191197373238)\" d=\"M2.7386127875258306,0A2.7386127875258306,2.7386127875258306,0,1,1,-2.7386127875258306,0A2.7386127875258306,2.7386127875258306,0,1,1,2.7386127875258306,0\" fill=\"#4c78a8\" stroke-width=\"2\" opacity=\"0.7\"></path><path aria-label=\"x: -0.159871877063; y: 0.61340540812\" role=\"graphics-symbol\" aria-roledescription=\"circle\" transform=\"translate(76.80256245874952,134.6648647970083)\" d=\"M2.7386127875258306,0A2.7386127875258306,2.7386127875258306,0,1,1,-2.7386127875258306,0A2.7386127875258306,2.7386127875258306,0,1,1,2.7386127875258306,0\" fill=\"#4c78a8\" stroke-width=\"2\" opacity=\"0.7\"></path><path aria-label=\"x: 4.14272102844; y: 3.6554434321\" role=\"graphics-symbol\" aria-roledescription=\"circle\" transform=\"translate(162.8544205687307,58.613914197436934)\" d=\"M2.7386127875258306,0A2.7386127875258306,2.7386127875258306,0,1,1,-2.7386127875258306,0A2.7386127875258306,2.7386127875258306,0,1,1,2.7386127875258306,0\" fill=\"#4c78a8\" stroke-width=\"2\" opacity=\"0.7\"></path><path aria-label=\"x: 2.52670949571; y: 3.68297313429\" role=\"graphics-symbol\" aria-roledescription=\"circle\" transform=\"translate(130.53418991428543,57.925671642790945)\" d=\"M2.7386127875258306,0A2.7386127875258306,2.7386127875258306,0,1,1,-2.7386127875258306,0A2.7386127875258306,2.7386127875258306,0,1,1,2.7386127875258306,0\" fill=\"#4c78a8\" stroke-width=\"2\" opacity=\"0.7\"></path><path aria-label=\"x: -1.38325016182; y: 1.36202382962\" role=\"graphics-symbol\" aria-roledescription=\"circle\" transform=\"translate(52.33499676365432,115.94940425952882)\" d=\"M2.7386127875258306,0A2.7386127875258306,2.7386127875258306,0,1,1,-2.7386127875258306,0A2.7386127875258306,2.7386127875258306,0,1,1,2.7386127875258306,0\" fill=\"#4c78a8\" stroke-width=\"2\" opacity=\"0.7\"></path><path aria-label=\"x: 0.0808250731814; y: 1.55360557559\" role=\"graphics-symbol\" aria-roledescription=\"circle\" transform=\"translate(81.61650146362749,111.15986061033398)\" d=\"M2.7386127875258306,0A2.7386127875258306,2.7386127875258306,0,1,1,-2.7386127875258306,0A2.7386127875258306,2.7386127875258306,0,1,1,2.7386127875258306,0\" fill=\"#4c78a8\" stroke-width=\"2\" opacity=\"0.7\"></path><path aria-label=\"x: -0.615014407503; y: 0.123974707743\" role=\"graphics-symbol\" aria-roledescription=\"circle\" transform=\"translate(67.69971184994577,146.90063230642323)\" d=\"M2.7386127875258306,0A2.7386127875258306,2.7386127875258306,0,1,1,-2.7386127875258306,0A2.7386127875258306,2.7386127875258306,0,1,1,2.7386127875258306,0\" fill=\"#4c78a8\" stroke-width=\"2\" opacity=\"0.7\"></path><path aria-label=\"x: 2.57261003642; y: 3.24052378584\" role=\"graphics-symbol\" aria-roledescription=\"circle\" transform=\"translate(131.4522007284139,68.98690535409828)\" d=\"M2.7386127875258306,0A2.7386127875258306,2.7386127875258306,0,1,1,-2.7386127875258306,0A2.7386127875258306,2.7386127875258306,0,1,1,2.7386127875258306,0\" fill=\"#4c78a8\" stroke-width=\"2\" opacity=\"0.7\"></path><path aria-label=\"x: 0.901856206712; y: 2.54615378959\" role=\"graphics-symbol\" aria-roledescription=\"circle\" transform=\"translate(98.03712413424176,86.34615526014838)\" d=\"M2.7386127875258306,0A2.7386127875258306,2.7386127875258306,0,1,1,-2.7386127875258306,0A2.7386127875258306,2.7386127875258306,0,1,1,2.7386127875258306,0\" fill=\"#4c78a8\" stroke-width=\"2\" opacity=\"0.7\"></path><path aria-label=\"x: 3.7331537209; y: 3.85091419886\" role=\"graphics-symbol\" aria-roledescription=\"circle\" transform=\"translate(154.66307441796025,53.72714502843272)\" d=\"M2.7386127875258306,0A2.7386127875258306,2.7386127875258306,0,1,1,-2.7386127875258306,0A2.7386127875258306,2.7386127875258306,0,1,1,2.7386127875258306,0\" fill=\"#4c78a8\" stroke-width=\"2\" opacity=\"0.7\"></path><path aria-label=\"x: -0.543187693752; y: 1.76499802902\" role=\"graphics-symbol\" aria-roledescription=\"circle\" transform=\"translate(69.13624612496285,105.87504927455595)\" d=\"M2.7386127875258306,0A2.7386127875258306,2.7386127875258306,0,1,1,-2.7386127875258306,0A2.7386127875258306,2.7386127875258306,0,1,1,2.7386127875258306,0\" fill=\"#4c78a8\" stroke-width=\"2\" opacity=\"0.7\"></path><path aria-label=\"x: 2.78798348597; y: 2.39733048495\" role=\"graphics-symbol\" aria-roledescription=\"circle\" transform=\"translate(135.75966971930777,90.06673787619361)\" d=\"M2.7386127875258306,0A2.7386127875258306,2.7386127875258306,0,1,1,-2.7386127875258306,0A2.7386127875258306,2.7386127875258306,0,1,1,2.7386127875258306,0\" fill=\"#4c78a8\" stroke-width=\"2\" opacity=\"0.7\"></path><path aria-label=\"x: 0.529493902721; y: 2.55006766419\" role=\"graphics-symbol\" aria-roledescription=\"circle\" transform=\"translate(90.58987805441537,86.24830839514344)\" d=\"M2.7386127875258306,0A2.7386127875258306,2.7386127875258306,0,1,1,-2.7386127875258306,0A2.7386127875258306,2.7386127875258306,0,1,1,2.7386127875258306,0\" fill=\"#4c78a8\" stroke-width=\"2\" opacity=\"0.7\"></path><path aria-label=\"x: 0.807470002274; y: 1.9485771614\" role=\"graphics-symbol\" aria-roledescription=\"circle\" transform=\"translate(96.14940004547238,101.28557096505601)\" d=\"M2.7386127875258306,0A2.7386127875258306,2.7386127875258306,0,1,1,-2.7386127875258306,0A2.7386127875258306,2.7386127875258306,0,1,1,2.7386127875258306,0\" fill=\"#4c78a8\" stroke-width=\"2\" opacity=\"0.7\"></path><path aria-label=\"x: 2.00453143082; y: 2.13412269145\" role=\"graphics-symbol\" aria-roledescription=\"circle\" transform=\"translate(120.09062861640145,96.64693271377858)\" d=\"M2.7386127875258306,0A2.7386127875258306,2.7386127875258306,0,1,1,-2.7386127875258306,0A2.7386127875258306,2.7386127875258306,0,1,1,2.7386127875258306,0\" fill=\"#4c78a8\" stroke-width=\"2\" opacity=\"0.7\"></path><path aria-label=\"x: -0.577254307701; y: -0.139858326849\" role=\"graphics-symbol\" aria-roledescription=\"circle\" transform=\"translate(68.4549138459842,153.4964581712357)\" d=\"M2.7386127875258306,0A2.7386127875258306,2.7386127875258306,0,1,1,-2.7386127875258306,0A2.7386127875258306,2.7386127875258306,0,1,1,2.7386127875258306,0\" fill=\"#4c78a8\" stroke-width=\"2\" opacity=\"0.7\"></path><path aria-label=\"x: -3.37127799872; y: -0.660602884525\" role=\"graphics-symbol\" aria-roledescription=\"circle\" transform=\"translate(12.574440025622877,166.5150721131227)\" d=\"M2.7386127875258306,0A2.7386127875258306,2.7386127875258306,0,1,1,-2.7386127875258306,0A2.7386127875258306,2.7386127875258306,0,1,1,2.7386127875258306,0\" fill=\"#4c78a8\" stroke-width=\"2\" opacity=\"0.7\"></path><path aria-label=\"x: 1.85255697823; y: 2.60191301443\" role=\"graphics-symbol\" aria-roledescription=\"circle\" transform=\"translate(117.05113956450532,84.95217463913588)\" d=\"M2.7386127875258306,0A2.7386127875258306,2.7386127875258306,0,1,1,-2.7386127875258306,0A2.7386127875258306,2.7386127875258306,0,1,1,2.7386127875258306,0\" fill=\"#4c78a8\" stroke-width=\"2\" opacity=\"0.7\"></path><path aria-label=\"x: 3.37998854139; y: 4.31220084379\" role=\"graphics-symbol\" aria-roledescription=\"circle\" transform=\"translate(147.59977082771508,42.1949789052523)\" d=\"M2.7386127875258306,0A2.7386127875258306,2.7386127875258306,0,1,1,-2.7386127875258306,0A2.7386127875258306,2.7386127875258306,0,1,1,2.7386127875258306,0\" fill=\"#4c78a8\" stroke-width=\"2\" opacity=\"0.7\"></path><path aria-label=\"x: -1.51115340914; y: 0.573532465691\" role=\"graphics-symbol\" aria-roledescription=\"circle\" transform=\"translate(49.77693181726022,135.66168835773217)\" d=\"M2.7386127875258306,0A2.7386127875258306,2.7386127875258306,0,1,1,-2.7386127875258306,0A2.7386127875258306,2.7386127875258306,0,1,1,2.7386127875258306,0\" fill=\"#4c78a8\" stroke-width=\"2\" opacity=\"0.7\"></path><path aria-label=\"x: 0.646182227001; y: 1.11517437977\" role=\"graphics-symbol\" aria-roledescription=\"circle\" transform=\"translate(92.92364454001337,122.12064050580507)\" d=\"M2.7386127875258306,0A2.7386127875258306,2.7386127875258306,0,1,1,-2.7386127875258306,0A2.7386127875258306,2.7386127875258306,0,1,1,2.7386127875258306,0\" fill=\"#4c78a8\" stroke-width=\"2\" opacity=\"0.7\"></path><path aria-label=\"x: -3.0385145479; y: -1.52617716048\" role=\"graphics-symbol\" aria-roledescription=\"circle\" transform=\"translate(19.229709041970686,188.15442901204338)\" d=\"M2.7386127875258306,0A2.7386127875258306,2.7386127875258306,0,1,1,-2.7386127875258306,0A2.7386127875258306,2.7386127875258306,0,1,1,2.7386127875258306,0\" fill=\"#4c78a8\" stroke-width=\"2\" opacity=\"0.7\"></path><path aria-label=\"x: 3.21021117025; y: 3.15954018666\" role=\"graphics-symbol\" aria-roledescription=\"circle\" transform=\"translate(144.20422340500656,71.01149533357322)\" d=\"M2.7386127875258306,0A2.7386127875258306,2.7386127875258306,0,1,1,-2.7386127875258306,0A2.7386127875258306,2.7386127875258306,0,1,1,2.7386127875258306,0\" fill=\"#4c78a8\" stroke-width=\"2\" opacity=\"0.7\"></path><path aria-label=\"x: 0.286749881367; y: 1.5701580418\" role=\"graphics-symbol\" aria-roledescription=\"circle\" transform=\"translate(85.734997627349,110.74604895510052)\" d=\"M2.7386127875258306,0A2.7386127875258306,2.7386127875258306,0,1,1,-2.7386127875258306,0A2.7386127875258306,2.7386127875258306,0,1,1,2.7386127875258306,0\" fill=\"#4c78a8\" stroke-width=\"2\" opacity=\"0.7\"></path><path aria-label=\"x: 0.23486530034; y: 1.72381924899\" role=\"graphics-symbol\" aria-roledescription=\"circle\" transform=\"translate(84.69730600680212,106.90451877527885)\" d=\"M2.7386127875258306,0A2.7386127875258306,2.7386127875258306,0,1,1,-2.7386127875258306,0A2.7386127875258306,2.7386127875258306,0,1,1,2.7386127875258306,0\" fill=\"#4c78a8\" stroke-width=\"2\" opacity=\"0.7\"></path><path aria-label=\"x: 0.506053548506; y: 2.21669426543\" role=\"graphics-symbol\" aria-roledescription=\"circle\" transform=\"translate(90.12107097012242,94.58264336432616)\" d=\"M2.7386127875258306,0A2.7386127875258306,2.7386127875258306,0,1,1,-2.7386127875258306,0A2.7386127875258306,2.7386127875258306,0,1,1,2.7386127875258306,0\" fill=\"#4c78a8\" stroke-width=\"2\" opacity=\"0.7\"></path><path aria-label=\"x: 3.27424906946; y: 2.2737664143\" role=\"graphics-symbol\" aria-roledescription=\"circle\" transform=\"translate(145.48498138921283,93.15583964261877)\" d=\"M2.7386127875258306,0A2.7386127875258306,2.7386127875258306,0,1,1,-2.7386127875258306,0A2.7386127875258306,2.7386127875258306,0,1,1,2.7386127875258306,0\" fill=\"#4c78a8\" stroke-width=\"2\" opacity=\"0.7\"></path><path aria-label=\"x: 1.32630803063; y: 2.64416431824\" role=\"graphics-symbol\" aria-roledescription=\"circle\" transform=\"translate(106.52616061260206,83.89589204397794)\" d=\"M2.7386127875258306,0A2.7386127875258306,2.7386127875258306,0,1,1,-2.7386127875258306,0A2.7386127875258306,2.7386127875258306,0,1,1,2.7386127875258306,0\" fill=\"#4c78a8\" stroke-width=\"2\" opacity=\"0.7\"></path><path aria-label=\"x: -0.730293132805; y: 1.60287307398\" role=\"graphics-symbol\" aria-roledescription=\"circle\" transform=\"translate(65.3941373438995,109.92817315049659)\" d=\"M2.7386127875258306,0A2.7386127875258306,2.7386127875258306,0,1,1,-2.7386127875258306,0A2.7386127875258306,2.7386127875258306,0,1,1,2.7386127875258306,0\" fill=\"#4c78a8\" stroke-width=\"2\" opacity=\"0.7\"></path><path aria-label=\"x: -0.679484086798; y: 0.567206730746\" role=\"graphics-symbol\" aria-roledescription=\"circle\" transform=\"translate(66.41031826403554,135.81983173136047)\" d=\"M2.7386127875258306,0A2.7386127875258306,2.7386127875258306,0,1,1,-2.7386127875258306,0A2.7386127875258306,2.7386127875258306,0,1,1,2.7386127875258306,0\" fill=\"#4c78a8\" stroke-width=\"2\" opacity=\"0.7\"></path><path aria-label=\"x: 1.17660498138; y: 2.75922498248\" role=\"graphics-symbol\" aria-roledescription=\"circle\" transform=\"translate(103.53209962756415,81.01937543808259)\" d=\"M2.7386127875258306,0A2.7386127875258306,2.7386127875258306,0,1,1,-2.7386127875258306,0A2.7386127875258306,2.7386127875258306,0,1,1,2.7386127875258306,0\" fill=\"#4c78a8\" stroke-width=\"2\" opacity=\"0.7\"></path><path aria-label=\"x: 3.72909020211; y: 3.81858980905\" role=\"graphics-symbol\" aria-roledescription=\"circle\" transform=\"translate(154.5818040421579,54.53525477383656)\" d=\"M2.7386127875258306,0A2.7386127875258306,2.7386127875258306,0,1,1,-2.7386127875258306,0A2.7386127875258306,2.7386127875258306,0,1,1,2.7386127875258306,0\" fill=\"#4c78a8\" stroke-width=\"2\" opacity=\"0.7\"></path><path aria-label=\"x: -0.525135414078; y: 0.761987385498\" role=\"graphics-symbol\" aria-roledescription=\"circle\" transform=\"translate(69.49729171844791,130.9503153625563)\" d=\"M2.7386127875258306,0A2.7386127875258306,2.7386127875258306,0,1,1,-2.7386127875258306,0A2.7386127875258306,2.7386127875258306,0,1,1,2.7386127875258306,0\" fill=\"#4c78a8\" stroke-width=\"2\" opacity=\"0.7\"></path><path aria-label=\"x: 3.17568295865; y: 3.1226435036\" role=\"graphics-symbol\" aria-roledescription=\"circle\" transform=\"translate(143.51365917298978,71.93391240988012)\" d=\"M2.7386127875258306,0A2.7386127875258306,2.7386127875258306,0,1,1,-2.7386127875258306,0A2.7386127875258306,2.7386127875258306,0,1,1,2.7386127875258306,0\" fill=\"#4c78a8\" stroke-width=\"2\" opacity=\"0.7\"></path><path aria-label=\"x: -0.48075124085; y: 1.7663856135\" role=\"graphics-symbol\" aria-roledescription=\"circle\" transform=\"translate(70.38497518300481,105.84035966257534)\" d=\"M2.7386127875258306,0A2.7386127875258306,2.7386127875258306,0,1,1,-2.7386127875258306,0A2.7386127875258306,2.7386127875258306,0,1,1,2.7386127875258306,0\" fill=\"#4c78a8\" stroke-width=\"2\" opacity=\"0.7\"></path><path aria-label=\"x: 0.756337999982; y: 1.46327246285\" role=\"graphics-symbol\" aria-roledescription=\"circle\" transform=\"translate(95.12675999963894,113.41818842868841)\" d=\"M2.7386127875258306,0A2.7386127875258306,2.7386127875258306,0,1,1,-2.7386127875258306,0A2.7386127875258306,2.7386127875258306,0,1,1,2.7386127875258306,0\" fill=\"#4c78a8\" stroke-width=\"2\" opacity=\"0.7\"></path><path aria-label=\"x: 1.33820693577; y: 2.09302634582\" role=\"graphics-symbol\" aria-roledescription=\"circle\" transform=\"translate(106.76413871536236,97.67434135443955)\" d=\"M2.7386127875258306,0A2.7386127875258306,2.7386127875258306,0,1,1,-2.7386127875258306,0A2.7386127875258306,2.7386127875258306,0,1,1,2.7386127875258306,0\" fill=\"#4c78a8\" stroke-width=\"2\" opacity=\"0.7\"></path><path aria-label=\"x: 1.10691696393; y: 2.08010802389\" role=\"graphics-symbol\" aria-roledescription=\"circle\" transform=\"translate(102.13833927861722,97.99729940273505)\" d=\"M2.7386127875258306,0A2.7386127875258306,2.7386127875258306,0,1,1,-2.7386127875258306,0A2.7386127875258306,2.7386127875258306,0,1,1,2.7386127875258306,0\" fill=\"#4c78a8\" stroke-width=\"2\" opacity=\"0.7\"></path><path aria-label=\"x: 1.18423719267; y: 1.11474784447\" role=\"graphics-symbol\" aria-roledescription=\"circle\" transform=\"translate(103.68474385332998,122.13130388822702)\" d=\"M2.7386127875258306,0A2.7386127875258306,2.7386127875258306,0,1,1,-2.7386127875258306,0A2.7386127875258306,2.7386127875258306,0,1,1,2.7386127875258306,0\" fill=\"#4c78a8\" stroke-width=\"2\" opacity=\"0.7\"></path><path aria-label=\"x: 3.70547473535; y: 4.38096306331\" role=\"graphics-symbol\" aria-roledescription=\"circle\" transform=\"translate(154.1094947069466,40.47592341716162)\" d=\"M2.7386127875258306,0A2.7386127875258306,2.7386127875258306,0,1,1,-2.7386127875258306,0A2.7386127875258306,2.7386127875258306,0,1,1,2.7386127875258306,0\" fill=\"#4c78a8\" stroke-width=\"2\" opacity=\"0.7\"></path><path aria-label=\"x: 2.0105445667; y: 4.37409843361\" role=\"graphics-symbol\" aria-roledescription=\"circle\" transform=\"translate(120.21089133397642,40.647539159700116)\" d=\"M2.7386127875258306,0A2.7386127875258306,2.7386127875258306,0,1,1,-2.7386127875258306,0A2.7386127875258306,2.7386127875258306,0,1,1,2.7386127875258306,0\" fill=\"#4c78a8\" stroke-width=\"2\" opacity=\"0.7\"></path><path aria-label=\"x: 4.32903542184; y: 5.24951504738\" role=\"graphics-symbol\" aria-roledescription=\"circle\" transform=\"translate(166.58070843687685,18.762123815537922)\" d=\"M2.7386127875258306,0A2.7386127875258306,2.7386127875258306,0,1,1,-2.7386127875258306,0A2.7386127875258306,2.7386127875258306,0,1,1,2.7386127875258306,0\" fill=\"#4c78a8\" stroke-width=\"2\" opacity=\"0.7\"></path><path aria-label=\"x: 3.25914745192; y: 4.40587006047\" role=\"graphics-symbol\" aria-roledescription=\"circle\" transform=\"translate(145.1829490383156,39.85324848816343)\" d=\"M2.7386127875258306,0A2.7386127875258306,2.7386127875258306,0,1,1,-2.7386127875258306,0A2.7386127875258306,2.7386127875258306,0,1,1,2.7386127875258306,0\" fill=\"#4c78a8\" stroke-width=\"2\" opacity=\"0.7\"></path><path aria-label=\"x: 2.47557573883; y: 2.35947539246\" role=\"graphics-symbol\" aria-roledescription=\"circle\" transform=\"translate(129.51151477658647,91.01311518843498)\" d=\"M2.7386127875258306,0A2.7386127875258306,2.7386127875258306,0,1,1,-2.7386127875258306,0A2.7386127875258306,2.7386127875258306,0,1,1,2.7386127875258306,0\" fill=\"#4c78a8\" stroke-width=\"2\" opacity=\"0.7\"></path><path aria-label=\"x: -0.00573099526244; y: 1.55931326427\" role=\"graphics-symbol\" aria-roledescription=\"circle\" transform=\"translate(79.88538009475127,111.01716839314588)\" d=\"M2.7386127875258306,0A2.7386127875258306,2.7386127875258306,0,1,1,-2.7386127875258306,0A2.7386127875258306,2.7386127875258306,0,1,1,2.7386127875258306,0\" fill=\"#4c78a8\" stroke-width=\"2\" opacity=\"0.7\"></path><path aria-label=\"x: 3.11277009667; y: 3.09336650234\" role=\"graphics-symbol\" aria-roledescription=\"circle\" transform=\"translate(142.25540193331025,72.66583744140993)\" d=\"M2.7386127875258306,0A2.7386127875258306,2.7386127875258306,0,1,1,-2.7386127875258306,0A2.7386127875258306,2.7386127875258306,0,1,1,2.7386127875258306,0\" fill=\"#4c78a8\" stroke-width=\"2\" opacity=\"0.7\"></path><path aria-label=\"x: -0.110006871441; y: -0.133078102213\" role=\"graphics-symbol\" aria-roledescription=\"circle\" transform=\"translate(77.79986257117677,153.32695255532852)\" d=\"M2.7386127875258306,0A2.7386127875258306,2.7386127875258306,0,1,1,-2.7386127875258306,0A2.7386127875258306,2.7386127875258306,0,1,1,2.7386127875258306,0\" fill=\"#4c78a8\" stroke-width=\"2\" opacity=\"0.7\"></path><path aria-label=\"x: 1.06390584599; y: 1.68421456845\" role=\"graphics-symbol\" aria-roledescription=\"circle\" transform=\"translate(101.27811691973758,107.89463578873763)\" d=\"M2.7386127875258306,0A2.7386127875258306,2.7386127875258306,0,1,1,-2.7386127875258306,0A2.7386127875258306,2.7386127875258306,0,1,1,2.7386127875258306,0\" fill=\"#4c78a8\" stroke-width=\"2\" opacity=\"0.7\"></path><path aria-label=\"x: -1.68373998884; y: -0.168918369749\" role=\"graphics-symbol\" aria-roledescription=\"circle\" transform=\"translate(46.32520022314976,154.22295924371255)\" d=\"M2.7386127875258306,0A2.7386127875258306,2.7386127875258306,0,1,1,-2.7386127875258306,0A2.7386127875258306,2.7386127875258306,0,1,1,2.7386127875258306,0\" fill=\"#4c78a8\" stroke-width=\"2\" opacity=\"0.7\"></path><path aria-label=\"x: -2.42479734121; y: 0.482257836541\" role=\"graphics-symbol\" aria-roledescription=\"circle\" transform=\"translate(31.504053175871725,137.94355408647337)\" d=\"M2.7386127875258306,0A2.7386127875258306,2.7386127875258306,0,1,1,-2.7386127875258306,0A2.7386127875258306,2.7386127875258306,0,1,1,2.7386127875258306,0\" fill=\"#4c78a8\" stroke-width=\"2\" opacity=\"0.7\"></path><path aria-label=\"x: 0.399680519374; y: 1.84044142863\" role=\"graphics-symbol\" aria-roledescription=\"circle\" transform=\"translate(87.99361038748297,103.98896428430679)\" d=\"M2.7386127875258306,0A2.7386127875258306,2.7386127875258306,0,1,1,-2.7386127875258306,0A2.7386127875258306,2.7386127875258306,0,1,1,2.7386127875258306,0\" fill=\"#4c78a8\" stroke-width=\"2\" opacity=\"0.7\"></path><path aria-label=\"x: 2.21379973694; y: 2.7532437543\" role=\"graphics-symbol\" aria-roledescription=\"circle\" transform=\"translate(124.27599473881017,81.16890614238872)\" d=\"M2.7386127875258306,0A2.7386127875258306,2.7386127875258306,0,1,1,-2.7386127875258306,0A2.7386127875258306,2.7386127875258306,0,1,1,2.7386127875258306,0\" fill=\"#4c78a8\" stroke-width=\"2\" opacity=\"0.7\"></path><path aria-label=\"x: 3.04995275355; y: 2.87547739473\" role=\"graphics-symbol\" aria-roledescription=\"circle\" transform=\"translate(140.99905507092186,78.11306513186283)\" d=\"M2.7386127875258306,0A2.7386127875258306,2.7386127875258306,0,1,1,-2.7386127875258306,0A2.7386127875258306,2.7386127875258306,0,1,1,2.7386127875258306,0\" fill=\"#4c78a8\" stroke-width=\"2\" opacity=\"0.7\"></path><path aria-label=\"x: 1.39085346004; y: 1.51039956143\" role=\"graphics-symbol\" aria-roledescription=\"circle\" transform=\"translate(107.81706920084706,112.24001096435192)\" d=\"M2.7386127875258306,0A2.7386127875258306,2.7386127875258306,0,1,1,-2.7386127875258306,0A2.7386127875258306,2.7386127875258306,0,1,1,2.7386127875258306,0\" fill=\"#4c78a8\" stroke-width=\"2\" opacity=\"0.7\"></path><path aria-label=\"x: 2.91131582713; y: 4.08466761102\" role=\"graphics-symbol\" aria-roledescription=\"circle\" transform=\"translate(138.22631654251194,47.88330972455932)\" d=\"M2.7386127875258306,0A2.7386127875258306,2.7386127875258306,0,1,1,-2.7386127875258306,0A2.7386127875258306,2.7386127875258306,0,1,1,2.7386127875258306,0\" fill=\"#4c78a8\" stroke-width=\"2\" opacity=\"0.7\"></path><path aria-label=\"x: 1.13722754521; y: 3.23753991585\" role=\"graphics-symbol\" aria-roledescription=\"circle\" transform=\"translate(102.74455090427328,69.06150210370048)\" d=\"M2.7386127875258306,0A2.7386127875258306,2.7386127875258306,0,1,1,-2.7386127875258306,0A2.7386127875258306,2.7386127875258306,0,1,1,2.7386127875258306,0\" fill=\"#4c78a8\" stroke-width=\"2\" opacity=\"0.7\"></path><path aria-label=\"x: 1.30366830286; y: 2.43009859344\" role=\"graphics-symbol\" aria-roledescription=\"circle\" transform=\"translate(106.07336605719418,89.2475351639099)\" d=\"M2.7386127875258306,0A2.7386127875258306,2.7386127875258306,0,1,1,-2.7386127875258306,0A2.7386127875258306,2.7386127875258306,0,1,1,2.7386127875258306,0\" fill=\"#4c78a8\" stroke-width=\"2\" opacity=\"0.7\"></path><path aria-label=\"x: 2.22904677836; y: 2.72241491587\" role=\"graphics-symbol\" aria-roledescription=\"circle\" transform=\"translate(124.58093556716653,81.93962710332869)\" d=\"M2.7386127875258306,0A2.7386127875258306,2.7386127875258306,0,1,1,-2.7386127875258306,0A2.7386127875258306,2.7386127875258306,0,1,1,2.7386127875258306,0\" fill=\"#4c78a8\" stroke-width=\"2\" opacity=\"0.7\"></path><path aria-label=\"x: -0.163507625882; y: 3.0053132075\" role=\"graphics-symbol\" aria-roledescription=\"circle\" transform=\"translate(76.72984748235766,74.86716981238517)\" d=\"M2.7386127875258306,0A2.7386127875258306,2.7386127875258306,0,1,1,-2.7386127875258306,0A2.7386127875258306,2.7386127875258306,0,1,1,2.7386127875258306,0\" fill=\"#4c78a8\" stroke-width=\"2\" opacity=\"0.7\"></path><path aria-label=\"x: 1.25015779327; y: 2.83616071647\" role=\"graphics-symbol\" aria-roledescription=\"circle\" transform=\"translate(105.00315586537081,79.09598208821149)\" d=\"M2.7386127875258306,0A2.7386127875258306,2.7386127875258306,0,1,1,-2.7386127875258306,0A2.7386127875258306,2.7386127875258306,0,1,1,2.7386127875258306,0\" fill=\"#4c78a8\" stroke-width=\"2\" opacity=\"0.7\"></path><path aria-label=\"x: 1.61808663856; y: 2.14410939097\" role=\"graphics-symbol\" aria-roledescription=\"circle\" transform=\"translate(112.36173277116212,96.39726522577251)\" d=\"M2.7386127875258306,0A2.7386127875258306,2.7386127875258306,0,1,1,-2.7386127875258306,0A2.7386127875258306,2.7386127875258306,0,1,1,2.7386127875258306,0\" fill=\"#4c78a8\" stroke-width=\"2\" opacity=\"0.7\"></path><path aria-label=\"x: 2.95728837186; y: 3.84558304642\" role=\"graphics-symbol\" aria-roledescription=\"circle\" transform=\"translate(139.14576743715438,53.86042383952181)\" d=\"M2.7386127875258306,0A2.7386127875258306,2.7386127875258306,0,1,1,-2.7386127875258306,0A2.7386127875258306,2.7386127875258306,0,1,1,2.7386127875258306,0\" fill=\"#4c78a8\" stroke-width=\"2\" opacity=\"0.7\"></path><path aria-label=\"x: 3.20354659558; y: 3.42633828099\" role=\"graphics-symbol\" aria-roledescription=\"circle\" transform=\"translate(144.07093191160342,64.34154297519936)\" d=\"M2.7386127875258306,0A2.7386127875258306,2.7386127875258306,0,1,1,-2.7386127875258306,0A2.7386127875258306,2.7386127875258306,0,1,1,2.7386127875258306,0\" fill=\"#4c78a8\" stroke-width=\"2\" opacity=\"0.7\"></path><path aria-label=\"x: 0.187843850095; y: 3.60169469188\" role=\"graphics-symbol\" aria-roledescription=\"circle\" transform=\"translate(83.75687700190466,59.957632702956644)\" d=\"M2.7386127875258306,0A2.7386127875258306,2.7386127875258306,0,1,1,-2.7386127875258306,0A2.7386127875258306,2.7386127875258306,0,1,1,2.7386127875258306,0\" fill=\"#4c78a8\" stroke-width=\"2\" opacity=\"0.7\"></path><path aria-label=\"x: -0.51434155186; y: 1.57839296961\" role=\"graphics-symbol\" aria-roledescription=\"circle\" transform=\"translate(69.71316896279826,110.54017575965824)\" d=\"M2.7386127875258306,0A2.7386127875258306,2.7386127875258306,0,1,1,-2.7386127875258306,0A2.7386127875258306,2.7386127875258306,0,1,1,2.7386127875258306,0\" fill=\"#4c78a8\" stroke-width=\"2\" opacity=\"0.7\"></path><path aria-label=\"x: 2.4671778316; y: 1.93515354845\" role=\"graphics-symbol\" aria-roledescription=\"circle\" transform=\"translate(129.34355663195612,101.62116128876657)\" d=\"M2.7386127875258306,0A2.7386127875258306,2.7386127875258306,0,1,1,-2.7386127875258306,0A2.7386127875258306,2.7386127875258306,0,1,1,2.7386127875258306,0\" fill=\"#4c78a8\" stroke-width=\"2\" opacity=\"0.7\"></path><path aria-label=\"x: -1.82451648734; y: 1.13089274297\" role=\"graphics-symbol\" aria-roledescription=\"circle\" transform=\"translate(43.509670253121975,121.7276814258398)\" d=\"M2.7386127875258306,0A2.7386127875258306,2.7386127875258306,0,1,1,-2.7386127875258306,0A2.7386127875258306,2.7386127875258306,0,1,1,2.7386127875258306,0\" fill=\"#4c78a8\" stroke-width=\"2\" opacity=\"0.7\"></path><path aria-label=\"x: -0.202694477152; y: 0.952497418219\" role=\"graphics-symbol\" aria-roledescription=\"circle\" transform=\"translate(75.94611045696945,126.18756454451932)\" d=\"M2.7386127875258306,0A2.7386127875258306,2.7386127875258306,0,1,1,-2.7386127875258306,0A2.7386127875258306,2.7386127875258306,0,1,1,2.7386127875258306,0\" fill=\"#4c78a8\" stroke-width=\"2\" opacity=\"0.7\"></path><path aria-label=\"x: 2.69715111233; y: 3.53697154242\" role=\"graphics-symbol\" aria-roledescription=\"circle\" transform=\"translate(133.9430222465086,61.57571143945857)\" d=\"M2.7386127875258306,0A2.7386127875258306,2.7386127875258306,0,1,1,-2.7386127875258306,0A2.7386127875258306,2.7386127875258306,0,1,1,2.7386127875258306,0\" fill=\"#4c78a8\" stroke-width=\"2\" opacity=\"0.7\"></path><path aria-label=\"x: 0.492077142219; y: 2.45276157603\" role=\"graphics-symbol\" aria-roledescription=\"circle\" transform=\"translate(89.84154284437491,88.68096059917359)\" d=\"M2.7386127875258306,0A2.7386127875258306,2.7386127875258306,0,1,1,-2.7386127875258306,0A2.7386127875258306,2.7386127875258306,0,1,1,2.7386127875258306,0\" fill=\"#4c78a8\" stroke-width=\"2\" opacity=\"0.7\"></path><path aria-label=\"x: 1.58287486649; y: 2.37185022503\" role=\"graphics-symbol\" aria-roledescription=\"circle\" transform=\"translate(111.65749732985817,90.70374437434423)\" d=\"M2.7386127875258306,0A2.7386127875258306,2.7386127875258306,0,1,1,-2.7386127875258306,0A2.7386127875258306,2.7386127875258306,0,1,1,2.7386127875258306,0\" fill=\"#4c78a8\" stroke-width=\"2\" opacity=\"0.7\"></path><path aria-label=\"x: -0.399654961343; y: 0.423488351739\" role=\"graphics-symbol\" aria-roledescription=\"circle\" transform=\"translate(72.00690077314303,139.41279120652146)\" d=\"M2.7386127875258306,0A2.7386127875258306,2.7386127875258306,0,1,1,-2.7386127875258306,0A2.7386127875258306,2.7386127875258306,0,1,1,2.7386127875258306,0\" fill=\"#4c78a8\" stroke-width=\"2\" opacity=\"0.7\"></path><path aria-label=\"x: 0.795722372042; y: 2.92311292652\" role=\"graphics-symbol\" aria-roledescription=\"circle\" transform=\"translate(95.91444744083543,76.92217683705347)\" d=\"M2.7386127875258306,0A2.7386127875258306,2.7386127875258306,0,1,1,-2.7386127875258306,0A2.7386127875258306,2.7386127875258306,0,1,1,2.7386127875258306,0\" fill=\"#4c78a8\" stroke-width=\"2\" opacity=\"0.7\"></path><path aria-label=\"x: 3.52044641258; y: 3.60764726018\" role=\"graphics-symbol\" aria-roledescription=\"circle\" transform=\"translate(150.40892825165156,59.80881849556945)\" d=\"M2.7386127875258306,0A2.7386127875258306,2.7386127875258306,0,1,1,-2.7386127875258306,0A2.7386127875258306,2.7386127875258306,0,1,1,2.7386127875258306,0\" fill=\"#4c78a8\" stroke-width=\"2\" opacity=\"0.7\"></path><path aria-label=\"x: 2.73929351573; y: 2.76333639819\" role=\"graphics-symbol\" aria-roledescription=\"circle\" transform=\"translate(134.78587031463013,80.91659004523568)\" d=\"M2.7386127875258306,0A2.7386127875258306,2.7386127875258306,0,1,1,-2.7386127875258306,0A2.7386127875258306,2.7386127875258306,0,1,1,2.7386127875258306,0\" fill=\"#4c78a8\" stroke-width=\"2\" opacity=\"0.7\"></path><path aria-label=\"x: 0.934865504918; y: 1.26586582075\" role=\"graphics-symbol\" aria-roledescription=\"circle\" transform=\"translate(98.69731009836882,118.35335448132192)\" d=\"M2.7386127875258306,0A2.7386127875258306,2.7386127875258306,0,1,1,-2.7386127875258306,0A2.7386127875258306,2.7386127875258306,0,1,1,2.7386127875258306,0\" fill=\"#4c78a8\" stroke-width=\"2\" opacity=\"0.7\"></path><path aria-label=\"x: 3.01286207634; y: 2.28401569081\" role=\"graphics-symbol\" aria-roledescription=\"circle\" transform=\"translate(140.25724152670384,92.89960772984331)\" d=\"M2.7386127875258306,0A2.7386127875258306,2.7386127875258306,0,1,1,-2.7386127875258306,0A2.7386127875258306,2.7386127875258306,0,1,1,2.7386127875258306,0\" fill=\"#4c78a8\" stroke-width=\"2\" opacity=\"0.7\"></path><path aria-label=\"x: 0.0124998756077; y: 2.05307911564\" role=\"graphics-symbol\" aria-roledescription=\"circle\" transform=\"translate(80.24999751215492,98.67302210892261)\" d=\"M2.7386127875258306,0A2.7386127875258306,2.7386127875258306,0,1,1,-2.7386127875258306,0A2.7386127875258306,2.7386127875258306,0,1,1,2.7386127875258306,0\" fill=\"#4c78a8\" stroke-width=\"2\" opacity=\"0.7\"></path><path aria-label=\"x: 1.91688596257; y: 2.98187544383\" role=\"graphics-symbol\" aria-roledescription=\"circle\" transform=\"translate(118.33771925140657,75.45311390428382)\" d=\"M2.7386127875258306,0A2.7386127875258306,2.7386127875258306,0,1,1,-2.7386127875258306,0A2.7386127875258306,2.7386127875258306,0,1,1,2.7386127875258306,0\" fill=\"#4c78a8\" stroke-width=\"2\" opacity=\"0.7\"></path><path aria-label=\"x: 1.45387720828; y: 1.40331545918\" role=\"graphics-symbol\" aria-roledescription=\"circle\" transform=\"translate(109.07754416551344,114.9171135204051)\" d=\"M2.7386127875258306,0A2.7386127875258306,2.7386127875258306,0,1,1,-2.7386127875258306,0A2.7386127875258306,2.7386127875258306,0,1,1,2.7386127875258306,0\" fill=\"#4c78a8\" stroke-width=\"2\" opacity=\"0.7\"></path><path aria-label=\"x: 0.593937363537; y: 2.29337177582\" role=\"graphics-symbol\" aria-roledescription=\"circle\" transform=\"translate(91.8787472707424,92.66570560456313)\" d=\"M2.7386127875258306,0A2.7386127875258306,2.7386127875258306,0,1,1,-2.7386127875258306,0A2.7386127875258306,2.7386127875258306,0,1,1,2.7386127875258306,0\" fill=\"#4c78a8\" stroke-width=\"2\" opacity=\"0.7\"></path><path aria-label=\"x: -0.557037275023; y: 1.75897181335\" role=\"graphics-symbol\" aria-roledescription=\"circle\" transform=\"translate(68.85925449953704,106.0257046663672)\" d=\"M2.7386127875258306,0A2.7386127875258306,2.7386127875258306,0,1,1,-2.7386127875258306,0A2.7386127875258306,2.7386127875258306,0,1,1,2.7386127875258306,0\" fill=\"#4c78a8\" stroke-width=\"2\" opacity=\"0.7\"></path><path aria-label=\"x: 3.27247756941; y: 4.06100876467\" role=\"graphics-symbol\" aria-roledescription=\"circle\" transform=\"translate(145.44955138821857,48.47478088315316)\" d=\"M2.7386127875258306,0A2.7386127875258306,2.7386127875258306,0,1,1,-2.7386127875258306,0A2.7386127875258306,2.7386127875258306,0,1,1,2.7386127875258306,0\" fill=\"#4c78a8\" stroke-width=\"2\" opacity=\"0.7\"></path><path aria-label=\"x: 2.66286640527; y: 3.37474921322\" role=\"graphics-symbol\" aria-roledescription=\"circle\" transform=\"translate(133.25732810547444,65.63126966946685)\" d=\"M2.7386127875258306,0A2.7386127875258306,2.7386127875258306,0,1,1,-2.7386127875258306,0A2.7386127875258306,2.7386127875258306,0,1,1,2.7386127875258306,0\" fill=\"#4c78a8\" stroke-width=\"2\" opacity=\"0.7\"></path><path aria-label=\"x: 0.360076936416; y: 2.43233120558\" role=\"graphics-symbol\" aria-roledescription=\"circle\" transform=\"translate(87.20153872831938,89.19171986039387)\" d=\"M2.7386127875258306,0A2.7386127875258306,2.7386127875258306,0,1,1,-2.7386127875258306,0A2.7386127875258306,2.7386127875258306,0,1,1,2.7386127875258306,0\" fill=\"#4c78a8\" stroke-width=\"2\" opacity=\"0.7\"></path><path aria-label=\"x: -0.241682501394; y: 1.08135843091\" role=\"graphics-symbol\" aria-roledescription=\"circle\" transform=\"translate(75.16634997211665,122.9660392273253)\" d=\"M2.7386127875258306,0A2.7386127875258306,2.7386127875258306,0,1,1,-2.7386127875258306,0A2.7386127875258306,2.7386127875258306,0,1,1,2.7386127875258306,0\" fill=\"#4c78a8\" stroke-width=\"2\" opacity=\"0.7\"></path><path aria-label=\"x: 3.07148509697; y: 3.43595145364\" role=\"graphics-symbol\" aria-roledescription=\"circle\" transform=\"translate(141.42970193940525,64.10121365904253)\" d=\"M2.7386127875258306,0A2.7386127875258306,2.7386127875258306,0,1,1,-2.7386127875258306,0A2.7386127875258306,2.7386127875258306,0,1,1,2.7386127875258306,0\" fill=\"#4c78a8\" stroke-width=\"2\" opacity=\"0.7\"></path><path aria-label=\"x: 1.02020482027; y: 0.919313049105\" role=\"graphics-symbol\" aria-roledescription=\"circle\" transform=\"translate(100.40409640539619,127.01717377236949)\" d=\"M2.7386127875258306,0A2.7386127875258306,2.7386127875258306,0,1,1,-2.7386127875258306,0A2.7386127875258306,2.7386127875258306,0,1,1,2.7386127875258306,0\" fill=\"#4c78a8\" stroke-width=\"2\" opacity=\"0.7\"></path><path aria-label=\"x: 0.137746149558; y: 1.3571241336\" role=\"graphics-symbol\" aria-roledescription=\"circle\" transform=\"translate(82.75492299116524,116.07189665990344)\" d=\"M2.7386127875258306,0A2.7386127875258306,2.7386127875258306,0,1,1,-2.7386127875258306,0A2.7386127875258306,2.7386127875258306,0,1,1,2.7386127875258306,0\" fill=\"#4c78a8\" stroke-width=\"2\" opacity=\"0.7\"></path><path aria-label=\"x: 0.875102343095; y: 1.55644028582\" role=\"graphics-symbol\" aria-roledescription=\"circle\" transform=\"translate(97.50204686189782,111.08899285446276)\" d=\"M2.7386127875258306,0A2.7386127875258306,2.7386127875258306,0,1,1,-2.7386127875258306,0A2.7386127875258306,2.7386127875258306,0,1,1,2.7386127875258306,0\" fill=\"#4c78a8\" stroke-width=\"2\" opacity=\"0.7\"></path><path aria-label=\"x: 0.332498612315; y: 1.3035644922\" role=\"graphics-symbol\" aria-roledescription=\"circle\" transform=\"translate(86.64997224630928,117.41088769493095)\" d=\"M2.7386127875258306,0A2.7386127875258306,2.7386127875258306,0,1,1,-2.7386127875258306,0A2.7386127875258306,2.7386127875258306,0,1,1,2.7386127875258306,0\" fill=\"#4c78a8\" stroke-width=\"2\" opacity=\"0.7\"></path><path aria-label=\"x: 1.6861346688; y: 3.20061452499\" role=\"graphics-symbol\" aria-roledescription=\"circle\" transform=\"translate(113.72269337601662,69.98463687530037)\" d=\"M2.7386127875258306,0A2.7386127875258306,2.7386127875258306,0,1,1,-2.7386127875258306,0A2.7386127875258306,2.7386127875258306,0,1,1,2.7386127875258306,0\" fill=\"#4c78a8\" stroke-width=\"2\" opacity=\"0.7\"></path><path aria-label=\"x: 2.40513507082; y: 3.36539401023\" role=\"graphics-symbol\" aria-roledescription=\"circle\" transform=\"translate(128.10270141640737,65.86514974418182)\" d=\"M2.7386127875258306,0A2.7386127875258306,2.7386127875258306,0,1,1,-2.7386127875258306,0A2.7386127875258306,2.7386127875258306,0,1,1,2.7386127875258306,0\" fill=\"#4c78a8\" stroke-width=\"2\" opacity=\"0.7\"></path><path aria-label=\"x: 3.1581847821; y: 2.78748773993\" role=\"graphics-symbol\" aria-roledescription=\"circle\" transform=\"translate(143.1636956420906,80.3128065018193)\" d=\"M2.7386127875258306,0A2.7386127875258306,2.7386127875258306,0,1,1,-2.7386127875258306,0A2.7386127875258306,2.7386127875258306,0,1,1,2.7386127875258306,0\" fill=\"#4c78a8\" stroke-width=\"2\" opacity=\"0.7\"></path><path aria-label=\"x: 2.72984859943; y: 3.87591050044\" role=\"graphics-symbol\" aria-roledescription=\"circle\" transform=\"translate(134.5969719886563,53.10223748906813)\" d=\"M2.7386127875258306,0A2.7386127875258306,2.7386127875258306,0,1,1,-2.7386127875258306,0A2.7386127875258306,2.7386127875258306,0,1,1,2.7386127875258306,0\" fill=\"#4c78a8\" stroke-width=\"2\" opacity=\"0.7\"></path><path aria-label=\"x: 2.01963230006; y: 3.21029174875\" role=\"graphics-symbol\" aria-roledescription=\"circle\" transform=\"translate(120.39264600122608,69.74270628113246)\" d=\"M2.7386127875258306,0A2.7386127875258306,2.7386127875258306,0,1,1,-2.7386127875258306,0A2.7386127875258306,2.7386127875258306,0,1,1,2.7386127875258306,0\" fill=\"#4c78a8\" stroke-width=\"2\" opacity=\"0.7\"></path><path aria-label=\"x: 3.0080412804; y: 2.00766812807\" role=\"graphics-symbol\" aria-roledescription=\"circle\" transform=\"translate(140.1608256080949,99.80829679813812)\" d=\"M2.7386127875258306,0A2.7386127875258306,2.7386127875258306,0,1,1,-2.7386127875258306,0A2.7386127875258306,2.7386127875258306,0,1,1,2.7386127875258306,0\" fill=\"#4c78a8\" stroke-width=\"2\" opacity=\"0.7\"></path><path aria-label=\"x: -1.37044784099; y: 0.508434549158\" role=\"graphics-symbol\" aria-roledescription=\"circle\" transform=\"translate(52.59104318012857,137.2891362710451)\" d=\"M2.7386127875258306,0A2.7386127875258306,2.7386127875258306,0,1,1,-2.7386127875258306,0A2.7386127875258306,2.7386127875258306,0,1,1,2.7386127875258306,0\" fill=\"#4c78a8\" stroke-width=\"2\" opacity=\"0.7\"></path><path aria-label=\"x: 2.47435633653; y: 1.64361396632\" role=\"graphics-symbol\" aria-roledescription=\"circle\" transform=\"translate(129.4871267305438,108.90965084197421)\" d=\"M2.7386127875258306,0A2.7386127875258306,2.7386127875258306,0,1,1,-2.7386127875258306,0A2.7386127875258306,2.7386127875258306,0,1,1,2.7386127875258306,0\" fill=\"#4c78a8\" stroke-width=\"2\" opacity=\"0.7\"></path><path aria-label=\"x: 0.0644806749149; y: 0.263426605655\" role=\"graphics-symbol\" aria-roledescription=\"circle\" transform=\"translate(81.28961349829706,143.41433485862763)\" d=\"M2.7386127875258306,0A2.7386127875258306,2.7386127875258306,0,1,1,-2.7386127875258306,0A2.7386127875258306,2.7386127875258306,0,1,1,2.7386127875258306,0\" fill=\"#4c78a8\" stroke-width=\"2\" opacity=\"0.7\"></path><path aria-label=\"x: -1.04191982798; y: 0.939336799154\" role=\"graphics-symbol\" aria-roledescription=\"circle\" transform=\"translate(59.161603440376076,126.51658002114803)\" d=\"M2.7386127875258306,0A2.7386127875258306,2.7386127875258306,0,1,1,-2.7386127875258306,0A2.7386127875258306,2.7386127875258306,0,1,1,2.7386127875258306,0\" fill=\"#4c78a8\" stroke-width=\"2\" opacity=\"0.7\"></path><path aria-label=\"x: 3.17274360411; y: 4.25921518908\" role=\"graphics-symbol\" aria-roledescription=\"circle\" transform=\"translate(143.45487208223238,43.51962027288296)\" d=\"M2.7386127875258306,0A2.7386127875258306,2.7386127875258306,0,1,1,-2.7386127875258306,0A2.7386127875258306,2.7386127875258306,0,1,1,2.7386127875258306,0\" fill=\"#4c78a8\" stroke-width=\"2\" opacity=\"0.7\"></path><path aria-label=\"x: 1.65121129565; y: 2.52842257608\" role=\"graphics-symbol\" aria-roledescription=\"circle\" transform=\"translate(113.02422591295085,86.78943559810695)\" d=\"M2.7386127875258306,0A2.7386127875258306,2.7386127875258306,0,1,1,-2.7386127875258306,0A2.7386127875258306,2.7386127875258306,0,1,1,2.7386127875258306,0\" fill=\"#4c78a8\" stroke-width=\"2\" opacity=\"0.7\"></path><path aria-label=\"x: 0.677824848695; y: 2.15143652119\" role=\"graphics-symbol\" aria-roledescription=\"circle\" transform=\"translate(93.55649697389715,96.21408697033986)\" d=\"M2.7386127875258306,0A2.7386127875258306,2.7386127875258306,0,1,1,-2.7386127875258306,0A2.7386127875258306,2.7386127875258306,0,1,1,2.7386127875258306,0\" fill=\"#4c78a8\" stroke-width=\"2\" opacity=\"0.7\"></path><path aria-label=\"x: 1.59558020334; y: 2.38966559238\" role=\"graphics-symbol\" aria-roledescription=\"circle\" transform=\"translate(111.91160406678038,90.25836019060213)\" d=\"M2.7386127875258306,0A2.7386127875258306,2.7386127875258306,0,1,1,-2.7386127875258306,0A2.7386127875258306,2.7386127875258306,0,1,1,2.7386127875258306,0\" fill=\"#4c78a8\" stroke-width=\"2\" opacity=\"0.7\"></path><path aria-label=\"x: -1.48449644479; y: 0.534117822444\" role=\"graphics-symbol\" aria-roledescription=\"circle\" transform=\"translate(50.310071104114144,136.64705443890855)\" d=\"M2.7386127875258306,0A2.7386127875258306,2.7386127875258306,0,1,1,-2.7386127875258306,0A2.7386127875258306,2.7386127875258306,0,1,1,2.7386127875258306,0\" fill=\"#4c78a8\" stroke-width=\"2\" opacity=\"0.7\"></path><path aria-label=\"x: 0.0511168197716; y: 0.859255437441\" role=\"graphics-symbol\" aria-roledescription=\"circle\" transform=\"translate(81.02233639543222,128.51861406396773)\" d=\"M2.7386127875258306,0A2.7386127875258306,2.7386127875258306,0,1,1,-2.7386127875258306,0A2.7386127875258306,2.7386127875258306,0,1,1,2.7386127875258306,0\" fill=\"#4c78a8\" stroke-width=\"2\" opacity=\"0.7\"></path></g></g><path class=\"foreground\" aria-hidden=\"true\" d=\"\" display=\"none\"></path></g></g></g></svg>\n"
      ],
      "text/plain": [
       "@vlplot(\n",
       "    mark=\"circle\",\n",
       "    encoding={\n",
       "        x={\n",
       "            field=\"x\"\n",
       "        },\n",
       "        y={\n",
       "            field=\"y\"\n",
       "        }\n",
       "    },\n",
       "    data={\n",
       "        values=...\n",
       "    }\n",
       ")"
      ]
     },
     "execution_count": 74,
     "metadata": {},
     "output_type": "execute_result"
    }
   ],
   "source": [
    "μ = [1.0,2.0]\n",
    "Σ = [3.0 2.0;\n",
    "     2.0 2.0]\n",
    "d = Distributions.MultivariateNormal(μ,Σ)\n",
    "samples = rand(d,300)';\n",
    "data = DataTables.DataTable(x=samples[:,1],y=samples[:,2])\n",
    "p = QuickVega.scatterplot(samples)"
   ]
  },
  {
   "cell_type": "code",
   "execution_count": 75,
   "metadata": {},
   "outputs": [
    {
     "data": {
      "text/plain": [
       "OrderedDict{String, Any} with 1 entry:\n",
       "  \"value\" => \"red\""
      ]
     },
     "execution_count": 75,
     "metadata": {},
     "output_type": "execute_result"
    }
   ],
   "source": [
    "# @set p.params\n",
    "p.params[\"encoding\"][\"color\"] = OrderedDict{String,Any}(\"value\"=>\"red\")"
   ]
  },
  {
   "cell_type": "code",
   "execution_count": 76,
   "metadata": {},
   "outputs": [
    {
     "data": {
      "text/plain": [
       "OrderedDict{String, Any} with 3 entries:\n",
       "  \"x\"     => OrderedDict{String, Any}(\"field\"=>\"x\")\n",
       "  \"y\"     => OrderedDict{String, Any}(\"field\"=>\"y\")\n",
       "  \"color\" => OrderedDict{String, Any}(\"value\"=>\"red\")"
      ]
     },
     "execution_count": 76,
     "metadata": {},
     "output_type": "execute_result"
    }
   ],
   "source": [
    "p.params[\"encoding\"]"
   ]
  },
  {
   "cell_type": "code",
   "execution_count": 80,
   "metadata": {},
   "outputs": [
    {
     "data": {
      "text/plain": [
       "OrderedDict{String, Any} with 3 entries:\n",
       "  \"mark\"     => :circle\n",
       "  \"encoding\" => OrderedDict{String, Any}(\"x\"=>OrderedDict{String, Any}(\"field\"=…\n",
       "  \"data\"     => OrderedDict{String, Any}(\"values\"=>DataValuesNode(OrderedDict{S…"
      ]
     },
     "execution_count": 80,
     "metadata": {},
     "output_type": "execute_result"
    }
   ],
   "source": [
    "append!(p.params[\"encoding\"][\"color\"],OrderedDict{String,Any}(\"scale\"=>\"red\")"
   ]
  },
  {
   "cell_type": "code",
   "execution_count": 78,
   "metadata": {},
   "outputs": [
    {
     "data": {
      "application/vnd.vegalite.v4+json": {
       "data": {
        "values": [
         {
          "x": -0.7559790266422084,
          "y": 0.7264613249853538
         },
         {
          "x": 2.2501275198720485,
          "y": 3.894247603787416
         },
         {
          "x": 3.1077378636227473,
          "y": 3.817476297457956
         },
         {
          "x": 0.6609354036457806,
          "y": 1.2845733260935783
         },
         {
          "x": 1.1311835863833564,
          "y": 4.389508033602705
         },
         {
          "x": -0.0734707272466042,
          "y": 0.5782303283617494
         },
         {
          "x": 3.8784043866886297,
          "y": 3.4158543907591135
         },
         {
          "x": 0.6874807656221349,
          "y": 0.7011030631458672
         },
         {
          "x": 0.27785292730446876,
          "y": 2.5530148257119967
         },
         {
          "x": 2.2995257396487663,
          "y": 3.134438202927857
         },
         {
          "x": 3.7656406987176387,
          "y": 2.742835619276854
         },
         {
          "x": 2.203977896681142,
          "y": 2.2072057955849993
         },
         {
          "x": -0.23460559621162114,
          "y": 0.7757600152299782
         },
         {
          "x": 0.9551682143788102,
          "y": 2.1858016712960198
         },
         {
          "x": 3.807527611951134,
          "y": 3.015126968164185
         },
         {
          "x": 1.0516095273699868,
          "y": 1.3482810133685157
         },
         {
          "x": 0.1397499737395157,
          "y": 1.1741477338244177
         },
         {
          "x": 1.5674584228034014,
          "y": 3.1735595483559464
         },
         {
          "x": 0.6380045798376888,
          "y": 1.2596056109932392
         },
         {
          "x": 3.7908241659577575,
          "y": 5.369727374701162
         },
         {
          "x": 3.489393652087202,
          "y": 4.717681083695276
         },
         {
          "x": 2.9385362744505286,
          "y": 4.996388148909635
         },
         {
          "x": 0.21970057742178672,
          "y": 0.8033623056392669
         },
         {
          "x": 3.0462693091197215,
          "y": 3.7191281169913446
         },
         {
          "x": 2.4840474824238115,
          "y": 3.287234880191261
         },
         {
          "x": -0.06544486009611172,
          "y": 2.2601480611109475
         },
         {
          "x": 1.7040087571793676,
          "y": 2.756791060322523
         },
         {
          "x": 2.427530998473565,
          "y": 3.3890127001597024
         },
         {
          "x": -2.077920198422339,
          "y": -0.41423153197146645
         },
         {
          "x": 0.16916853737986015,
          "y": 1.7103828127488692
         },
         {
          "x": -0.9967678237745436,
          "y": 0.0580825384003556
         },
         {
          "x": -0.13231254712757345,
          "y": 1.1723871506183436
         },
         {
          "x": 2.8895015619738222,
          "y": 3.986437744186258
         },
         {
          "x": 3.3046530101478853,
          "y": 3.6423137769071143
         },
         {
          "x": 5.636264026200539,
          "y": 5.021722741166068
         },
         {
          "x": -0.46335070982771165,
          "y": 0.5153465325998554
         },
         {
          "x": -0.12549133145968439,
          "y": 1.0884563198747057
         },
         {
          "x": -0.3199408633136367,
          "y": 2.6483128487779166
         },
         {
          "x": -2.6785757159621597,
          "y": -0.2404251572745526
         },
         {
          "x": 1.8084949040800582,
          "y": 1.7360073676793375
         },
         {
          "x": -0.2013219714804828,
          "y": 0.6342454246170415
         },
         {
          "x": -1.6853720461079411,
          "y": 0.49592144922514336
         },
         {
          "x": 0.5540195136790832,
          "y": 2.4036613060679706
         },
         {
          "x": 0.8971564431949439,
          "y": 0.6559972180325302
         },
         {
          "x": 3.115866560268819,
          "y": 2.724631076189942
         },
         {
          "x": 4.012671618942663,
          "y": 3.9793936729355215
         },
         {
          "x": -2.632009722312445,
          "y": -1.1449862584685095
         },
         {
          "x": 1.2020252570386314,
          "y": 2.155319117384096
         },
         {
          "x": 0.13092391940574866,
          "y": 2.303006829110335
         },
         {
          "x": 3.059832334947378,
          "y": 2.3330608329317952
         },
         {
          "x": -2.4815568783497826,
          "y": -0.8077768651608594
         },
         {
          "x": 2.5403154626836564,
          "y": 3.5869151061025595
         },
         {
          "x": 3.940147725215076,
          "y": 4.441765273998261
         },
         {
          "x": 0.7806091923737567,
          "y": 0.7261673998020453
         },
         {
          "x": -0.5743336144916982,
          "y": 2.0569383359117666
         },
         {
          "x": 2.30872666652952,
          "y": 3.570615834792374
         },
         {
          "x": -0.43171716649964,
          "y": 0.9877173522463527
         },
         {
          "x": -0.3778088987989563,
          "y": 0.92259545333117
         },
         {
          "x": -0.29420045726374,
          "y": 1.2296034219310328
         },
         {
          "x": 2.282706648127828,
          "y": 3.3323787661461335
         },
         {
          "x": 3.1908680404209346,
          "y": 2.6054732734958175
         },
         {
          "x": -1.2039816300910742,
          "y": -0.22866910013294195
         },
         {
          "x": 1.6037514780716942,
          "y": 2.6956028794113367
         },
         {
          "x": 3.2123681164468234,
          "y": 2.5707579239901808
         },
         {
          "x": 1.2931555217410802,
          "y": 3.126774612780636
         },
         {
          "x": -1.5958296389562752,
          "y": -1.0665215424619832
         },
         {
          "x": 1.421727869279626,
          "y": 3.853077780041341
         },
         {
          "x": 1.0994236997353282,
          "y": 2.0762599341655585
         },
         {
          "x": 1.8546864668269043,
          "y": 2.4482038235269945
         },
         {
          "x": -2.3730539615137842,
          "y": -0.37477285597575927
         },
         {
          "x": -0.9297865392575644,
          "y": 0.48871422093687933
         },
         {
          "x": 1.4068654122991222,
          "y": 4.2920622705000895
         },
         {
          "x": 1.6630984916096443,
          "y": 2.742807132075005
         },
         {
          "x": 0.4715156509905615,
          "y": 1.8932446102121834
         },
         {
          "x": 0.34174181090254674,
          "y": 0.34366463174400197
         },
         {
          "x": -1.1239537728388402,
          "y": 0.7682723646708458
         },
         {
          "x": -0.6667384975546147,
          "y": 0.7667120742488425
         },
         {
          "x": -0.04536437090269718,
          "y": 2.522336675328839
         },
         {
          "x": 0.37790534410529997,
          "y": 0.6336529359760108
         },
         {
          "x": 2.893695801301514,
          "y": 2.4000839931879523
         },
         {
          "x": 1.5383204068435345,
          "y": 1.9845186538644715
         },
         {
          "x": -2.212765113646531,
          "y": -1.2533780459828394
         },
         {
          "x": -0.5736977013217397,
          "y": 1.6377330839549555
         },
         {
          "x": 1.8898974225958278,
          "y": 1.7397004688175302
         },
         {
          "x": 2.4811572741985897,
          "y": 3.04880376777981
         },
         {
          "x": 1.2467003010743594,
          "y": 3.309423769918236
         },
         {
          "x": 1.288371662922193,
          "y": 2.5021839358912312
         },
         {
          "x": 1.1036798604174995,
          "y": 3.130458853923035
         },
         {
          "x": 2.647749066428344,
          "y": 4.0823276055506055
         },
         {
          "x": 0.45996695121281106,
          "y": 2.1085498574601496
         },
         {
          "x": -0.23625246853718918,
          "y": 0.712238528261472
         },
         {
          "x": 3.328180695135818,
          "y": 4.070628080049727
         },
         {
          "x": 3.216333932759522,
          "y": 3.6651541753826127
         },
         {
          "x": 2.2101577832416988,
          "y": 2.0363252312802818
         },
         {
          "x": 0.9500545939741013,
          "y": 1.7611345326975452
         },
         {
          "x": -1.3856518821758388,
          "y": -0.23266928596065828
         },
         {
          "x": -0.5906429426926219,
          "y": 1.603473196242684
         },
         {
          "x": 1.7089124862397316,
          "y": 2.06455413736853
         },
         {
          "x": -0.9300829645453881,
          "y": 1.2526765646962899
         },
         {
          "x": 1.483106655721823,
          "y": 2.3351595497026736
         },
         {
          "x": -0.7369047530971116,
          "y": 1.2442261964287384
         },
         {
          "x": -0.6842250112912465,
          "y": 0.9617585184802411
         },
         {
          "x": 0.016592909783161747,
          "y": 1.8776780690633652
         },
         {
          "x": -1.0490446717669735,
          "y": 1.5948954196792071
         },
         {
          "x": 2.6370880308752853,
          "y": 2.317231336095614
         },
         {
          "x": -2.199684692295185,
          "y": 0.6158782344137133
         },
         {
          "x": 2.872186619167432,
          "y": 3.76039892763601
         },
         {
          "x": -0.27715699137462413,
          "y": 0.07098377574208214
         },
         {
          "x": 3.1729241714869634,
          "y": 3.7829613933780664
         },
         {
          "x": -0.7551539241524012,
          "y": 1.841839276779104
         },
         {
          "x": 1.085640927943154,
          "y": 2.320960497985998
         },
         {
          "x": -2.6182536086915733,
          "y": -0.6104151843208228
         },
         {
          "x": -1.629694958310683,
          "y": 0.6066002053595263
         },
         {
          "x": -1.8541543627924053,
          "y": 0.9972190490405843
         },
         {
          "x": 2.4092952307028397,
          "y": 2.1613387514706117
         },
         {
          "x": 0.9999435295956571,
          "y": 1.996843652013519
         },
         {
          "x": 2.1327502712988133,
          "y": 3.945089187268496
         },
         {
          "x": -0.5457570475151732,
          "y": 0.9831068384948256
         },
         {
          "x": -0.24295399063691647,
          "y": 0.8919035384179037
         },
         {
          "x": 4.574563098067081,
          "y": 3.4373433134217537
         },
         {
          "x": 2.723528330591552,
          "y": 1.964963775327659
         },
         {
          "x": 2.081332344319725,
          "y": 1.7959797054083233
         },
         {
          "x": -0.07091914174192415,
          "y": 1.6905358384825373
         },
         {
          "x": 1.0100103523037143,
          "y": 2.173406549835959
         },
         {
          "x": 1.3414957692453973,
          "y": 2.307699419041637
         },
         {
          "x": -1.951394804512021,
          "y": -0.293813580225176
         },
         {
          "x": 0.21508912443524342,
          "y": 1.4869032472316657
         },
         {
          "x": 0.6711595780758008,
          "y": 1.7090011911976841
         },
         {
          "x": 2.00875365849373,
          "y": 3.7660600103077293
         },
         {
          "x": 0.24320510028057263,
          "y": 1.14317664365735
         },
         {
          "x": 3.6117187704433253,
          "y": 4.1787693357755415
         },
         {
          "x": -1.643809352963482,
          "y": 0.04895408425431613
         },
         {
          "x": 0.9897826997990592,
          "y": 1.561014174418121
         },
         {
          "x": 2.2473225343195624,
          "y": 2.6549286848303946
         },
         {
          "x": -0.8567904931665569,
          "y": 2.1318976801000673
         },
         {
          "x": 0.8172254644336145,
          "y": 2.049239945236541
         },
         {
          "x": 1.1637141937100859,
          "y": 1.32610327819008
         },
         {
          "x": 3.4001479264438306,
          "y": 4.809758835185926
         },
         {
          "x": 0.8128633719972926,
          "y": 3.047598582422683
         },
         {
          "x": 2.3704007988755222,
          "y": 3.1141789971843385
         },
         {
          "x": 1.7269763485186225,
          "y": 2.4326036783399627
         },
         {
          "x": 3.0031304264711505,
          "y": 3.5357797136426448
         },
         {
          "x": 2.8748623807184863,
          "y": 3.478655493594119
         },
         {
          "x": 0.866348844570419,
          "y": 1.3088731101981055
         },
         {
          "x": 2.6867165277474934,
          "y": 2.8868808553875507
         },
         {
          "x": 0.7504036175864179,
          "y": 2.705479100306633
         },
         {
          "x": 2.968044233549734,
          "y": 3.9629814523627256
         },
         {
          "x": 2.111193263212562,
          "y": 1.534606993187979
         },
         {
          "x": 2.4688573506540017,
          "y": 2.7237928456516647
         },
         {
          "x": 0.025873929923350136,
          "y": 1.4191441045277862
         },
         {
          "x": -0.12098049361684571,
          "y": -1.8509460173428858
         },
         {
          "x": 0.7254477975692268,
          "y": 1.64859568575794
         },
         {
          "x": 0.09003750828475399,
          "y": 1.892565479206823
         },
         {
          "x": 0.12189430392642975,
          "y": 1.9113048056176187
         },
         {
          "x": -0.20001765288695128,
          "y": 2.38536345596849
         },
         {
          "x": 2.0482917330446373,
          "y": 2.508385481153893
         },
         {
          "x": -1.3440817590503666,
          "y": -0.3227774997622026
         },
         {
          "x": -1.74476825717433,
          "y": 0.5046115894340342
         },
         {
          "x": -0.06272212810896294,
          "y": 1.8962872741344348
         },
         {
          "x": -1.1093681206229582,
          "y": 0.6353171083775346
         },
         {
          "x": 0.44723453735940355,
          "y": 1.6957889627339946
         },
         {
          "x": 2.4116030413701215,
          "y": 1.708871374708979
         },
         {
          "x": 3.2869242793941265,
          "y": 2.01605397223758
         },
         {
          "x": 3.4848948892938707,
          "y": 3.71432599677711
         },
         {
          "x": 0.42769784528209853,
          "y": 3.0392432635818425
         },
         {
          "x": 0.9944660492521499,
          "y": 3.423391919101844
         },
         {
          "x": 0.5489406846076322,
          "y": 0.4163031251883711
         },
         {
          "x": 0.6410905130000406,
          "y": 1.7351504255530792
         },
         {
          "x": 4.7561683134673185,
          "y": 3.08382736787446
         },
         {
          "x": 0.7300106912363233,
          "y": 1.1887839356157741
         },
         {
          "x": 0.2940837375643055,
          "y": 1.6250042607611457
         },
         {
          "x": -1.02454407262036,
          "y": 0.8456252239806497
         },
         {
          "x": -0.06183274121925009,
          "y": 1.6158028320793307
         },
         {
          "x": 2.2252427939083583,
          "y": 2.488547874026727
         },
         {
          "x": 3.760859516640942,
          "y": 3.907379501963031
         },
         {
          "x": 2.938011437821044,
          "y": 3.7245236749455097
         },
         {
          "x": 1.3324555551472765,
          "y": 4.275644459558915
         },
         {
          "x": 0.8656965846934076,
          "y": 2.216793659702454
         },
         {
          "x": -0.428461184236437,
          "y": 1.4034475863368407
         },
         {
          "x": 0.0286237185838486,
          "y": -0.29680493620300474
         },
         {
          "x": -0.6266780975382966,
          "y": 0.8632413569340511
         },
         {
          "x": 1.3261513000768022,
          "y": -0.25234098454552845
         },
         {
          "x": 2.4996348512216597,
          "y": 3.1238543377982912
         },
         {
          "x": 1.3743281252094364,
          "y": 1.9951749416696019
         },
         {
          "x": 0.04636408913400891,
          "y": 1.333759178219816
         },
         {
          "x": 2.040136561231303,
          "y": 4.04936999341828
         },
         {
          "x": 1.1483778715837492,
          "y": 0.9243512005732302
         },
         {
          "x": -1.949437486430833,
          "y": 1.4622685868337153
         },
         {
          "x": -2.1146674392829437,
          "y": -0.2496051771075467
         },
         {
          "x": 1.849390705830571,
          "y": 4.197053643209108
         },
         {
          "x": 0.747100137103528,
          "y": 0.3627769814621198
         },
         {
          "x": 2.0016426130916525,
          "y": 2.1458623398502374
         },
         {
          "x": -0.1284707502034821,
          "y": 1.4909529018292287
         },
         {
          "x": -0.3136736626511283,
          "y": 2.385123521050705
         },
         {
          "x": -0.15987187706252404,
          "y": 0.613405408119668
         },
         {
          "x": 4.142721028436535,
          "y": 3.6554434321025226
         },
         {
          "x": 2.5267094957142717,
          "y": 3.6829731342883627
         },
         {
          "x": -1.3832501618172843,
          "y": 1.3620238296188476
         },
         {
          "x": 0.08082507318137488,
          "y": 1.5536055755866411
         },
         {
          "x": -0.6150144075027113,
          "y": 0.12397470774307084
         },
         {
          "x": 2.5726100364206967,
          "y": 3.2405237858360687
         },
         {
          "x": 0.9018562067120885,
          "y": 2.546153789594065
         },
         {
          "x": 3.733153720898013,
          "y": 3.850914198862691
         },
         {
          "x": -0.5431876937518574,
          "y": 1.764998029017762
         },
         {
          "x": 2.7879834859653885,
          "y": 2.3973304849522554
         },
         {
          "x": 0.5294939027207677,
          "y": 2.550067664194263
         },
         {
          "x": 0.8074700022736192,
          "y": 1.9485771613977598
         },
         {
          "x": 2.004531430820073,
          "y": 2.134122691448857
         },
         {
          "x": -0.5772543077007906,
          "y": -0.13985832684942778
         },
         {
          "x": -3.371277998718856,
          "y": -0.660602884524907
         },
         {
          "x": 1.8525569782252658,
          "y": 2.601913014434565
         },
         {
          "x": 3.3799885413857536,
          "y": 4.312200843789908
         },
         {
          "x": -1.511153409136989,
          "y": 0.5735324656907128
         },
         {
          "x": 0.646182227000669,
          "y": 1.1151743797677973
         },
         {
          "x": -3.0385145479014657,
          "y": -1.5261771604817347
         },
         {
          "x": 3.2102111702503278,
          "y": 3.159540186657071
         },
         {
          "x": 0.2867498813674495,
          "y": 1.5701580417959793
         },
         {
          "x": 0.23486530034010566,
          "y": 1.7238192489888466
         },
         {
          "x": 0.5060535485061208,
          "y": 2.216694265426954
         },
         {
          "x": 3.274249069460642,
          "y": 2.273766414295249
         },
         {
          "x": 1.326308030630102,
          "y": 2.6441643182408825
         },
         {
          "x": -0.7302931328050253,
          "y": 1.602873073980136
         },
         {
          "x": -0.6794840867982228,
          "y": 0.5672067307455808
         },
         {
          "x": 1.1766049813782078,
          "y": 2.759224982476696
         },
         {
          "x": 3.729090202107894,
          "y": 3.818589809046537
         },
         {
          "x": -0.5251354140776043,
          "y": 0.7619873854977479
         },
         {
          "x": 3.175682958649489,
          "y": 3.1226435036047953
         },
         {
          "x": -0.4807512408497594,
          "y": 1.7663856134969866
         },
         {
          "x": 0.7563379999819462,
          "y": 1.4632724628524634
         },
         {
          "x": 1.3382069357681183,
          "y": 2.0930263458224174
         },
         {
          "x": 1.1069169639308611,
          "y": 2.080108023890598
         },
         {
          "x": 1.184237192666498,
          "y": 1.1147478444709198
         },
         {
          "x": 3.705474735347331,
          "y": 4.380963063313535
         },
         {
          "x": 2.01054456669882,
          "y": 4.374098433611995
         },
         {
          "x": 4.329035421843843,
          "y": 5.249515047378483
         },
         {
          "x": 3.2591474519157804,
          "y": 4.405870060473463
         },
         {
          "x": 2.475575738829323,
          "y": 2.359475392462601
         },
         {
          "x": -0.005730995262436922,
          "y": 1.5593132642741643
         },
         {
          "x": 3.1127700966655127,
          "y": 3.0933665023436023
         },
         {
          "x": -0.1100068714411615,
          "y": -0.13307810221314043
         },
         {
          "x": 1.0639058459868789,
          "y": 1.684214568450495
         },
         {
          "x": -1.683739988842512,
          "y": -0.1689183697485026
         },
         {
          "x": -2.4247973412064137,
          "y": 0.48225783654106547
         },
         {
          "x": 0.39968051937414917,
          "y": 1.840441428627728
         },
         {
          "x": 2.2137997369405085,
          "y": 2.7532437543044512
         },
         {
          "x": 3.049952753546093,
          "y": 2.875477394725487
         },
         {
          "x": 1.390853460042353,
          "y": 1.5103995614259234
         },
         {
          "x": 2.9113158271255974,
          "y": 4.084667611017627
         },
         {
          "x": 1.1372275452136638,
          "y": 3.237539915851981
         },
         {
          "x": 1.3036683028597087,
          "y": 2.4300985934436037
         },
         {
          "x": 2.2290467783583274,
          "y": 2.7224149158668522
         },
         {
          "x": -0.16350762588211687,
          "y": 3.005313207504593
         },
         {
          "x": 1.2501577932685404,
          "y": 2.8361607164715403
         },
         {
          "x": 1.6180866385581054,
          "y": 2.1441093909690987
         },
         {
          "x": 2.9572883718577185,
          "y": 3.845583046419127
         },
         {
          "x": 3.203546595580171,
          "y": 3.4263382809920255
         },
         {
          "x": 0.18784385009523352,
          "y": 3.6016946918817343
         },
         {
          "x": -0.5143415518600867,
          "y": 1.5783929696136698
         },
         {
          "x": 2.467177831597806,
          "y": 1.9351535484493376
         },
         {
          "x": -1.8245164873439013,
          "y": 1.1308927429664082
         },
         {
          "x": -0.20269447715152755,
          "y": 0.952497418219227
         },
         {
          "x": 2.6971511123254297,
          "y": 3.5369715424216572
         },
         {
          "x": 0.49207714221874577,
          "y": 2.452761576033056
         },
         {
          "x": 1.5828748664929084,
          "y": 2.371850225026231
         },
         {
          "x": -0.3996549613428484,
          "y": 0.4234883517391417
         },
         {
          "x": 0.7957223720417714,
          "y": 2.9231129265178617
         },
         {
          "x": 3.520446412582578,
          "y": 3.607647260177222
         },
         {
          "x": 2.7392935157315073,
          "y": 2.7633363981905728
         },
         {
          "x": 0.9348655049184406,
          "y": 1.2658658207471238
         },
         {
          "x": 3.0128620763351925,
          "y": 2.2840156908062674
         },
         {
          "x": 0.012499875607745903,
          "y": 2.0530791156430954
         },
         {
          "x": 1.916885962570328,
          "y": 2.9818754438286477
         },
         {
          "x": 1.4538772082756721,
          "y": 1.4033154591837964
         },
         {
          "x": 0.5939373635371198,
          "y": 2.293371775817475
         },
         {
          "x": -0.5570372750231476,
          "y": 1.7589718133453123
         },
         {
          "x": 3.272477569410927,
          "y": 4.061008764673874
         },
         {
          "x": 2.6628664052737223,
          "y": 3.3747492132213264
         },
         {
          "x": 0.36007693641596883,
          "y": 2.432331205584245
         },
         {
          "x": -0.24168250139416791,
          "y": 1.0813584309069881
         },
         {
          "x": 3.0714850969702625,
          "y": 3.4359514536382987
         },
         {
          "x": 1.0202048202698095,
          "y": 0.9193130491052206
         },
         {
          "x": 0.1377461495582626,
          "y": 1.357124133603862
         },
         {
          "x": 0.875102343094891,
          "y": 1.5564402858214892
         },
         {
          "x": 0.33249861231546374,
          "y": 1.3035644922027623
         },
         {
          "x": 1.686134668800831,
          "y": 3.2006145249879854
         },
         {
          "x": 2.4051350708203683,
          "y": 3.3653940102327264
         },
         {
          "x": 3.15818478210453,
          "y": 2.7874877399272284
         },
         {
          "x": 2.7298485994328154,
          "y": 3.875910500437275
         },
         {
          "x": 2.0196323000613035,
          "y": 3.2102917487547016
         },
         {
          "x": 3.0080412804047456,
          "y": 2.0076681280744753
         },
         {
          "x": -1.3704478409935716,
          "y": 0.5084345491581967
         },
         {
          "x": 2.4743563365271894,
          "y": 1.6436139663210314
         },
         {
          "x": 0.06448067491485288,
          "y": 0.26342660565489484
         },
         {
          "x": -1.041919827981196,
          "y": 0.9393367991540789
         },
         {
          "x": 3.1727436041116195,
          "y": 4.259215189084681
         },
         {
          "x": 1.6512112956475418,
          "y": 2.528422576075722
         },
         {
          "x": 0.6778248486948575,
          "y": 2.1514365211864055
         },
         {
          "x": 1.595580203339018,
          "y": 2.389665592375914
         },
         {
          "x": -1.484496444794293,
          "y": 0.5341178224436587
         },
         {
          "x": 0.051116819771610755,
          "y": 0.8592554374412904
         }
        ]
       },
       "encoding": {
        "color": {
         "value": "red"
        },
        "x": {
         "field": "x",
         "type": "quantitative"
        },
        "y": {
         "field": "y",
         "type": "quantitative"
        }
       },
       "mark": "circle"
      },
      "image/png": "[encoded data removed]",
      "image/svg+xml": [
       "<?xml version=\"1.0\" encoding=\"utf-8\"?>\n",
       "<!DOCTYPE svg PUBLIC \"-//W3C//DTD SVG 1.1//EN\" \"http://www.w3.org/Graphics/SVG/1.1/DTD/svg11.dtd\">\n",
       "<svg class=\"marks\" width=\"243\" height=\"247\" viewBox=\"0 0 243 247\" version=\"1.1\" xmlns=\"http://www.w3.org/2000/svg\" xmlns:xlink=\"http://www.w3.org/1999/xlink\"><rect width=\"243\" height=\"247\" fill=\"white\"></rect><g fill=\"none\" stroke-miterlimit=\"10\" transform=\"translate(37,10)\"><g class=\"mark-group role-frame root\" role=\"graphics-object\" aria-roledescription=\"group mark container\"><g transform=\"translate(0,0)\"><path class=\"background\" aria-hidden=\"true\" d=\"M0.5,0.5h200v200h-200Z\" stroke=\"#ddd\"></path><g><g class=\"mark-group role-axis\" aria-hidden=\"true\"><g transform=\"translate(0.5,200.5)\"><path class=\"background\" aria-hidden=\"true\" d=\"M0,0h0v0h0Z\" pointer-events=\"none\"></path><g><g class=\"mark-rule role-axis-grid\" pointer-events=\"none\"><line transform=\"translate(0,-200)\" x2=\"0\" y2=\"200\" stroke=\"#ddd\" stroke-width=\"1\" opacity=\"1\"></line><line transform=\"translate(40,-200)\" x2=\"0\" y2=\"200\" stroke=\"#ddd\" stroke-width=\"1\" opacity=\"1\"></line><line transform=\"translate(80,-200)\" x2=\"0\" y2=\"200\" stroke=\"#ddd\" stroke-width=\"1\" opacity=\"1\"></line><line transform=\"translate(120,-200)\" x2=\"0\" y2=\"200\" stroke=\"#ddd\" stroke-width=\"1\" opacity=\"1\"></line><line transform=\"translate(160,-200)\" x2=\"0\" y2=\"200\" stroke=\"#ddd\" stroke-width=\"1\" opacity=\"1\"></line><line transform=\"translate(200,-200)\" x2=\"0\" y2=\"200\" stroke=\"#ddd\" stroke-width=\"1\" opacity=\"1\"></line></g></g><path class=\"foreground\" aria-hidden=\"true\" d=\"\" pointer-events=\"none\" display=\"none\"></path></g></g><g class=\"mark-group role-axis\" aria-hidden=\"true\"><g transform=\"translate(0.5,0.5)\"><path class=\"background\" aria-hidden=\"true\" d=\"M0,0h0v0h0Z\" pointer-events=\"none\"></path><g><g class=\"mark-rule role-axis-grid\" pointer-events=\"none\"><line transform=\"translate(0,200)\" x2=\"200\" y2=\"0\" stroke=\"#ddd\" stroke-width=\"1\" opacity=\"1\"></line><line transform=\"translate(0,150)\" x2=\"200\" y2=\"0\" stroke=\"#ddd\" stroke-width=\"1\" opacity=\"1\"></line><line transform=\"translate(0,100)\" x2=\"200\" y2=\"0\" stroke=\"#ddd\" stroke-width=\"1\" opacity=\"1\"></line><line transform=\"translate(0,50)\" x2=\"200\" y2=\"0\" stroke=\"#ddd\" stroke-width=\"1\" opacity=\"1\"></line><line transform=\"translate(0,0)\" x2=\"200\" y2=\"0\" stroke=\"#ddd\" stroke-width=\"1\" opacity=\"1\"></line></g></g><path class=\"foreground\" aria-hidden=\"true\" d=\"\" pointer-events=\"none\" display=\"none\"></path></g></g><g class=\"mark-group role-axis\" role=\"graphics-symbol\" aria-roledescription=\"axis\" aria-label=\"X-axis titled 'x' for a linear scale with values from -4 to 6\"><g transform=\"translate(0.5,200.5)\"><path class=\"background\" aria-hidden=\"true\" d=\"M0,0h0v0h0Z\" pointer-events=\"none\"></path><g><g class=\"mark-rule role-axis-tick\" pointer-events=\"none\"><line transform=\"translate(0,0)\" x2=\"0\" y2=\"5\" stroke=\"#888\" stroke-width=\"1\" opacity=\"1\"></line><line transform=\"translate(40,0)\" x2=\"0\" y2=\"5\" stroke=\"#888\" stroke-width=\"1\" opacity=\"1\"></line><line transform=\"translate(80,0)\" x2=\"0\" y2=\"5\" stroke=\"#888\" stroke-width=\"1\" opacity=\"1\"></line><line transform=\"translate(120,0)\" x2=\"0\" y2=\"5\" stroke=\"#888\" stroke-width=\"1\" opacity=\"1\"></line><line transform=\"translate(160,0)\" x2=\"0\" y2=\"5\" stroke=\"#888\" stroke-width=\"1\" opacity=\"1\"></line><line transform=\"translate(200,0)\" x2=\"0\" y2=\"5\" stroke=\"#888\" stroke-width=\"1\" opacity=\"1\"></line></g><g class=\"mark-text role-axis-label\" pointer-events=\"none\"><text text-anchor=\"start\" transform=\"translate(0,15)\" font-family=\"sans-serif\" font-size=\"10px\" fill=\"#000\" opacity=\"1\">-4</text><text text-anchor=\"middle\" transform=\"translate(40,15)\" font-family=\"sans-serif\" font-size=\"10px\" fill=\"#000\" opacity=\"1\">-2</text><text text-anchor=\"middle\" transform=\"translate(80,15)\" font-family=\"sans-serif\" font-size=\"10px\" fill=\"#000\" opacity=\"1\">0</text><text text-anchor=\"middle\" transform=\"translate(120,15)\" font-family=\"sans-serif\" font-size=\"10px\" fill=\"#000\" opacity=\"1\">2</text><text text-anchor=\"middle\" transform=\"translate(160,15)\" font-family=\"sans-serif\" font-size=\"10px\" fill=\"#000\" opacity=\"1\">4</text><text text-anchor=\"end\" transform=\"translate(200,15)\" font-family=\"sans-serif\" font-size=\"10px\" fill=\"#000\" opacity=\"1\">6</text></g><g class=\"mark-rule role-axis-domain\" pointer-events=\"none\"><line transform=\"translate(0,0)\" x2=\"200\" y2=\"0\" stroke=\"#888\" stroke-width=\"1\" opacity=\"1\"></line></g><g class=\"mark-text role-axis-title\" pointer-events=\"none\"><text text-anchor=\"middle\" transform=\"translate(100,30)\" font-family=\"sans-serif\" font-size=\"11px\" font-weight=\"bold\" fill=\"#000\" opacity=\"1\">x</text></g></g><path class=\"foreground\" aria-hidden=\"true\" d=\"\" pointer-events=\"none\" display=\"none\"></path></g></g><g class=\"mark-group role-axis\" role=\"graphics-symbol\" aria-roledescription=\"axis\" aria-label=\"Y-axis titled 'y' for a linear scale with values from -2 to 6\"><g transform=\"translate(0.5,0.5)\"><path class=\"background\" aria-hidden=\"true\" d=\"M0,0h0v0h0Z\" pointer-events=\"none\"></path><g><g class=\"mark-rule role-axis-tick\" pointer-events=\"none\"><line transform=\"translate(0,200)\" x2=\"-5\" y2=\"0\" stroke=\"#888\" stroke-width=\"1\" opacity=\"1\"></line><line transform=\"translate(0,150)\" x2=\"-5\" y2=\"0\" stroke=\"#888\" stroke-width=\"1\" opacity=\"1\"></line><line transform=\"translate(0,100)\" x2=\"-5\" y2=\"0\" stroke=\"#888\" stroke-width=\"1\" opacity=\"1\"></line><line transform=\"translate(0,50)\" x2=\"-5\" y2=\"0\" stroke=\"#888\" stroke-width=\"1\" opacity=\"1\"></line><line transform=\"translate(0,0)\" x2=\"-5\" y2=\"0\" stroke=\"#888\" stroke-width=\"1\" opacity=\"1\"></line></g><g class=\"mark-text role-axis-label\" pointer-events=\"none\"><text text-anchor=\"end\" transform=\"translate(-7,203)\" font-family=\"sans-serif\" font-size=\"10px\" fill=\"#000\" opacity=\"1\">-2</text><text text-anchor=\"end\" transform=\"translate(-7,153)\" font-family=\"sans-serif\" font-size=\"10px\" fill=\"#000\" opacity=\"1\">0</text><text text-anchor=\"end\" transform=\"translate(-7,103)\" font-family=\"sans-serif\" font-size=\"10px\" fill=\"#000\" opacity=\"1\">2</text><text text-anchor=\"end\" transform=\"translate(-7,53)\" font-family=\"sans-serif\" font-size=\"10px\" fill=\"#000\" opacity=\"1\">4</text><text text-anchor=\"end\" transform=\"translate(-7,3)\" font-family=\"sans-serif\" font-size=\"10px\" fill=\"#000\" opacity=\"1\">6</text></g><g class=\"mark-rule role-axis-domain\" pointer-events=\"none\"><line transform=\"translate(0,200)\" x2=\"0\" y2=\"-200\" stroke=\"#888\" stroke-width=\"1\" opacity=\"1\"></line></g><g class=\"mark-text role-axis-title\" pointer-events=\"none\"><text text-anchor=\"middle\" transform=\"translate(-21,100) rotate(-90) translate(0,-2)\" font-family=\"sans-serif\" font-size=\"11px\" font-weight=\"bold\" fill=\"#000\" opacity=\"1\">y</text></g></g><path class=\"foreground\" aria-hidden=\"true\" d=\"\" pointer-events=\"none\" display=\"none\"></path></g></g><g class=\"mark-symbol role-mark marks\" role=\"graphics-object\" aria-roledescription=\"symbol mark container\"><path aria-label=\"x: -0.755979026642; y: 0.726461324985\" role=\"graphics-symbol\" aria-roledescription=\"circle\" transform=\"translate(64.88041946715583,131.83846687536615)\" d=\"M2.7386127875258306,0A2.7386127875258306,2.7386127875258306,0,1,1,-2.7386127875258306,0A2.7386127875258306,2.7386127875258306,0,1,1,2.7386127875258306,0\" fill=\"red\" stroke-width=\"2\" opacity=\"0.7\"></path><path aria-label=\"x: 2.25012751987; y: 3.89424760379\" role=\"graphics-symbol\" aria-roledescription=\"circle\" transform=\"translate(125.00255039744097,52.64380990531458)\" d=\"M2.7386127875258306,0A2.7386127875258306,2.7386127875258306,0,1,1,-2.7386127875258306,0A2.7386127875258306,2.7386127875258306,0,1,1,2.7386127875258306,0\" fill=\"red\" stroke-width=\"2\" opacity=\"0.7\"></path><path aria-label=\"x: 3.10773786362; y: 3.81747629746\" role=\"graphics-symbol\" aria-roledescription=\"circle\" transform=\"translate(142.15475727245496,54.563092563551095)\" d=\"M2.7386127875258306,0A2.7386127875258306,2.7386127875258306,0,1,1,-2.7386127875258306,0A2.7386127875258306,2.7386127875258306,0,1,1,2.7386127875258306,0\" fill=\"red\" stroke-width=\"2\" opacity=\"0.7\"></path><path aria-label=\"x: 0.660935403646; y: 1.28457332609\" role=\"graphics-symbol\" aria-roledescription=\"circle\" transform=\"translate(93.2187080729156,117.88566684766053)\" d=\"M2.7386127875258306,0A2.7386127875258306,2.7386127875258306,0,1,1,-2.7386127875258306,0A2.7386127875258306,2.7386127875258306,0,1,1,2.7386127875258306,0\" fill=\"red\" stroke-width=\"2\" opacity=\"0.7\"></path><path aria-label=\"x: 1.13118358638; y: 4.3895080336\" role=\"graphics-symbol\" aria-roledescription=\"circle\" transform=\"translate(102.62367172766713,40.26229915993238)\" d=\"M2.7386127875258306,0A2.7386127875258306,2.7386127875258306,0,1,1,-2.7386127875258306,0A2.7386127875258306,2.7386127875258306,0,1,1,2.7386127875258306,0\" fill=\"red\" stroke-width=\"2\" opacity=\"0.7\"></path><path aria-label=\"x: -0.0734707272466; y: 0.578230328362\" role=\"graphics-symbol\" aria-roledescription=\"circle\" transform=\"translate(78.53058545506791,135.54424179095625)\" d=\"M2.7386127875258306,0A2.7386127875258306,2.7386127875258306,0,1,1,-2.7386127875258306,0A2.7386127875258306,2.7386127875258306,0,1,1,2.7386127875258306,0\" fill=\"red\" stroke-width=\"2\" opacity=\"0.7\"></path><path aria-label=\"x: 3.87840438669; y: 3.41585439076\" role=\"graphics-symbol\" aria-roledescription=\"circle\" transform=\"translate(157.5680877337726,64.60364023102217)\" d=\"M2.7386127875258306,0A2.7386127875258306,2.7386127875258306,0,1,1,-2.7386127875258306,0A2.7386127875258306,2.7386127875258306,0,1,1,2.7386127875258306,0\" fill=\"red\" stroke-width=\"2\" opacity=\"0.7\"></path><path aria-label=\"x: 0.687480765622; y: 0.701103063146\" role=\"graphics-symbol\" aria-roledescription=\"circle\" transform=\"translate(93.7496153124427,132.4724234213533)\" d=\"M2.7386127875258306,0A2.7386127875258306,2.7386127875258306,0,1,1,-2.7386127875258306,0A2.7386127875258306,2.7386127875258306,0,1,1,2.7386127875258306,0\" fill=\"red\" stroke-width=\"2\" opacity=\"0.7\"></path><path aria-label=\"x: 0.277852927304; y: 2.55301482571\" role=\"graphics-symbol\" aria-roledescription=\"circle\" transform=\"translate(85.55705854608938,86.17462935720009)\" d=\"M2.7386127875258306,0A2.7386127875258306,2.7386127875258306,0,1,1,-2.7386127875258306,0A2.7386127875258306,2.7386127875258306,0,1,1,2.7386127875258306,0\" fill=\"red\" stroke-width=\"2\" opacity=\"0.7\"></path><path aria-label=\"x: 2.29952573965; y: 3.13443820293\" role=\"graphics-symbol\" aria-roledescription=\"circle\" transform=\"translate(125.99051479297532,71.63904492680358)\" d=\"M2.7386127875258306,0A2.7386127875258306,2.7386127875258306,0,1,1,-2.7386127875258306,0A2.7386127875258306,2.7386127875258306,0,1,1,2.7386127875258306,0\" fill=\"red\" stroke-width=\"2\" opacity=\"0.7\"></path><path aria-label=\"x: 3.76564069872; y: 2.74283561928\" role=\"graphics-symbol\" aria-roledescription=\"circle\" transform=\"translate(155.31281397435276,81.42910951807865)\" d=\"M2.7386127875258306,0A2.7386127875258306,2.7386127875258306,0,1,1,-2.7386127875258306,0A2.7386127875258306,2.7386127875258306,0,1,1,2.7386127875258306,0\" fill=\"red\" stroke-width=\"2\" opacity=\"0.7\"></path><path aria-label=\"x: 2.20397789668; y: 2.20720579558\" role=\"graphics-symbol\" aria-roledescription=\"circle\" transform=\"translate(124.07955793362284,94.81985511037503)\" d=\"M2.7386127875258306,0A2.7386127875258306,2.7386127875258306,0,1,1,-2.7386127875258306,0A2.7386127875258306,2.7386127875258306,0,1,1,2.7386127875258306,0\" fill=\"red\" stroke-width=\"2\" opacity=\"0.7\"></path><path aria-label=\"x: -0.234605596212; y: 0.77576001523\" role=\"graphics-symbol\" aria-roledescription=\"circle\" transform=\"translate(75.30788807576758,130.60599961925055)\" d=\"M2.7386127875258306,0A2.7386127875258306,2.7386127875258306,0,1,1,-2.7386127875258306,0A2.7386127875258306,2.7386127875258306,0,1,1,2.7386127875258306,0\" fill=\"red\" stroke-width=\"2\" opacity=\"0.7\"></path><path aria-label=\"x: 0.955168214379; y: 2.1858016713\" role=\"graphics-symbol\" aria-roledescription=\"circle\" transform=\"translate(99.1033642875762,95.35495821759952)\" d=\"M2.7386127875258306,0A2.7386127875258306,2.7386127875258306,0,1,1,-2.7386127875258306,0A2.7386127875258306,2.7386127875258306,0,1,1,2.7386127875258306,0\" fill=\"red\" stroke-width=\"2\" opacity=\"0.7\"></path><path aria-label=\"x: 3.80752761195; y: 3.01512696816\" role=\"graphics-symbol\" aria-roledescription=\"circle\" transform=\"translate(156.1505522390227,74.62182579589538)\" d=\"M2.7386127875258306,0A2.7386127875258306,2.7386127875258306,0,1,1,-2.7386127875258306,0A2.7386127875258306,2.7386127875258306,0,1,1,2.7386127875258306,0\" fill=\"red\" stroke-width=\"2\" opacity=\"0.7\"></path><path aria-label=\"x: 1.05160952737; y: 1.34828101337\" role=\"graphics-symbol\" aria-roledescription=\"circle\" transform=\"translate(101.03219054739974,116.29297466578711)\" d=\"M2.7386127875258306,0A2.7386127875258306,2.7386127875258306,0,1,1,-2.7386127875258306,0A2.7386127875258306,2.7386127875258306,0,1,1,2.7386127875258306,0\" fill=\"red\" stroke-width=\"2\" opacity=\"0.7\"></path><path aria-label=\"x: 0.13974997374; y: 1.17414773382\" role=\"graphics-symbol\" aria-roledescription=\"circle\" transform=\"translate(82.79499947479032,120.64630665438956)\" d=\"M2.7386127875258306,0A2.7386127875258306,2.7386127875258306,0,1,1,-2.7386127875258306,0A2.7386127875258306,2.7386127875258306,0,1,1,2.7386127875258306,0\" fill=\"red\" stroke-width=\"2\" opacity=\"0.7\"></path><path aria-label=\"x: 1.5674584228; y: 3.17355954836\" role=\"graphics-symbol\" aria-roledescription=\"circle\" transform=\"translate(111.34916845606804,70.66101129110135)\" d=\"M2.7386127875258306,0A2.7386127875258306,2.7386127875258306,0,1,1,-2.7386127875258306,0A2.7386127875258306,2.7386127875258306,0,1,1,2.7386127875258306,0\" fill=\"red\" stroke-width=\"2\" opacity=\"0.7\"></path><path aria-label=\"x: 0.638004579838; y: 1.25960561099\" role=\"graphics-symbol\" aria-roledescription=\"circle\" transform=\"translate(92.76009159675377,118.50985972516904)\" d=\"M2.7386127875258306,0A2.7386127875258306,2.7386127875258306,0,1,1,-2.7386127875258306,0A2.7386127875258306,2.7386127875258306,0,1,1,2.7386127875258306,0\" fill=\"red\" stroke-width=\"2\" opacity=\"0.7\"></path><path aria-label=\"x: 3.79082416596; y: 5.3697273747\" role=\"graphics-symbol\" aria-roledescription=\"circle\" transform=\"translate(155.81648331915514,15.756815632470955)\" d=\"M2.7386127875258306,0A2.7386127875258306,2.7386127875258306,0,1,1,-2.7386127875258306,0A2.7386127875258306,2.7386127875258306,0,1,1,2.7386127875258306,0\" fill=\"red\" stroke-width=\"2\" opacity=\"0.7\"></path><path aria-label=\"x: 3.48939365209; y: 4.7176810837\" role=\"graphics-symbol\" aria-roledescription=\"circle\" transform=\"translate(149.78787304174404,32.057972907618094)\" d=\"M2.7386127875258306,0A2.7386127875258306,2.7386127875258306,0,1,1,-2.7386127875258306,0A2.7386127875258306,2.7386127875258306,0,1,1,2.7386127875258306,0\" fill=\"red\" stroke-width=\"2\" opacity=\"0.7\"></path><path aria-label=\"x: 2.93853627445; y: 4.99638814891\" role=\"graphics-symbol\" aria-roledescription=\"circle\" transform=\"translate(138.77072548901057,25.090296277259117)\" d=\"M2.7386127875258306,0A2.7386127875258306,2.7386127875258306,0,1,1,-2.7386127875258306,0A2.7386127875258306,2.7386127875258306,0,1,1,2.7386127875258306,0\" fill=\"red\" stroke-width=\"2\" opacity=\"0.7\"></path><path aria-label=\"x: 0.219700577422; y: 0.803362305639\" role=\"graphics-symbol\" aria-roledescription=\"circle\" transform=\"translate(84.39401154843573,129.91594235901835)\" d=\"M2.7386127875258306,0A2.7386127875258306,2.7386127875258306,0,1,1,-2.7386127875258306,0A2.7386127875258306,2.7386127875258306,0,1,1,2.7386127875258306,0\" fill=\"red\" stroke-width=\"2\" opacity=\"0.7\"></path><path aria-label=\"x: 3.04626930912; y: 3.71912811699\" role=\"graphics-symbol\" aria-roledescription=\"circle\" transform=\"translate(140.92538618239442,57.0217970752164)\" d=\"M2.7386127875258306,0A2.7386127875258306,2.7386127875258306,0,1,1,-2.7386127875258306,0A2.7386127875258306,2.7386127875258306,0,1,1,2.7386127875258306,0\" fill=\"red\" stroke-width=\"2\" opacity=\"0.7\"></path><path aria-label=\"x: 2.48404748242; y: 3.28723488019\" role=\"graphics-symbol\" aria-roledescription=\"circle\" transform=\"translate(129.68094964847623,67.81912799521848)\" d=\"M2.7386127875258306,0A2.7386127875258306,2.7386127875258306,0,1,1,-2.7386127875258306,0A2.7386127875258306,2.7386127875258306,0,1,1,2.7386127875258306,0\" fill=\"red\" stroke-width=\"2\" opacity=\"0.7\"></path><path aria-label=\"x: -0.0654448600961; y: 2.26014806111\" role=\"graphics-symbol\" aria-roledescription=\"circle\" transform=\"translate(78.69110279807776,93.49629847222631)\" d=\"M2.7386127875258306,0A2.7386127875258306,2.7386127875258306,0,1,1,-2.7386127875258306,0A2.7386127875258306,2.7386127875258306,0,1,1,2.7386127875258306,0\" fill=\"red\" stroke-width=\"2\" opacity=\"0.7\"></path><path aria-label=\"x: 1.70400875718; y: 2.75679106032\" role=\"graphics-symbol\" aria-roledescription=\"circle\" transform=\"translate(114.08017514358737,81.0802234919369)\" d=\"M2.7386127875258306,0A2.7386127875258306,2.7386127875258306,0,1,1,-2.7386127875258306,0A2.7386127875258306,2.7386127875258306,0,1,1,2.7386127875258306,0\" fill=\"red\" stroke-width=\"2\" opacity=\"0.7\"></path><path aria-label=\"x: 2.42753099847; y: 3.38901270016\" role=\"graphics-symbol\" aria-roledescription=\"circle\" transform=\"translate(128.5506199694713,65.27468249600746)\" d=\"M2.7386127875258306,0A2.7386127875258306,2.7386127875258306,0,1,1,-2.7386127875258306,0A2.7386127875258306,2.7386127875258306,0,1,1,2.7386127875258306,0\" fill=\"red\" stroke-width=\"2\" opacity=\"0.7\"></path><path aria-label=\"x: -2.07792019842; y: -0.414231531971\" role=\"graphics-symbol\" aria-roledescription=\"circle\" transform=\"translate(38.44159603155322,160.35578829928667)\" d=\"M2.7386127875258306,0A2.7386127875258306,2.7386127875258306,0,1,1,-2.7386127875258306,0A2.7386127875258306,2.7386127875258306,0,1,1,2.7386127875258306,0\" fill=\"red\" stroke-width=\"2\" opacity=\"0.7\"></path><path aria-label=\"x: 0.16916853738; y: 1.71038281275\" role=\"graphics-symbol\" aria-roledescription=\"circle\" transform=\"translate(83.38337074759721,107.24042968127827)\" d=\"M2.7386127875258306,0A2.7386127875258306,2.7386127875258306,0,1,1,-2.7386127875258306,0A2.7386127875258306,2.7386127875258306,0,1,1,2.7386127875258306,0\" fill=\"red\" stroke-width=\"2\" opacity=\"0.7\"></path><path aria-label=\"x: -0.996767823775; y: 0.0580825384004\" role=\"graphics-symbol\" aria-roledescription=\"circle\" transform=\"translate(60.06464352450912,148.5479365399911)\" d=\"M2.7386127875258306,0A2.7386127875258306,2.7386127875258306,0,1,1,-2.7386127875258306,0A2.7386127875258306,2.7386127875258306,0,1,1,2.7386127875258306,0\" fill=\"red\" stroke-width=\"2\" opacity=\"0.7\"></path><path aria-label=\"x: -0.132312547128; y: 1.17238715062\" role=\"graphics-symbol\" aria-roledescription=\"circle\" transform=\"translate(77.35374905744854,120.69032123454141)\" d=\"M2.7386127875258306,0A2.7386127875258306,2.7386127875258306,0,1,1,-2.7386127875258306,0A2.7386127875258306,2.7386127875258306,0,1,1,2.7386127875258306,0\" fill=\"red\" stroke-width=\"2\" opacity=\"0.7\"></path><path aria-label=\"x: 2.88950156197; y: 3.98643774419\" role=\"graphics-symbol\" aria-roledescription=\"circle\" transform=\"translate(137.79003123947643,50.33905639534355)\" d=\"M2.7386127875258306,0A2.7386127875258306,2.7386127875258306,0,1,1,-2.7386127875258306,0A2.7386127875258306,2.7386127875258306,0,1,1,2.7386127875258306,0\" fill=\"red\" stroke-width=\"2\" opacity=\"0.7\"></path><path aria-label=\"x: 3.30465301015; y: 3.64231377691\" role=\"graphics-symbol\" aria-roledescription=\"circle\" transform=\"translate(146.0930602029577,58.94215557732214)\" d=\"M2.7386127875258306,0A2.7386127875258306,2.7386127875258306,0,1,1,-2.7386127875258306,0A2.7386127875258306,2.7386127875258306,0,1,1,2.7386127875258306,0\" fill=\"red\" stroke-width=\"2\" opacity=\"0.7\"></path><path aria-label=\"x: 5.6362640262; y: 5.02172274117\" role=\"graphics-symbol\" aria-roledescription=\"circle\" transform=\"translate(192.7252805240108,24.45693147084831)\" d=\"M2.7386127875258306,0A2.7386127875258306,2.7386127875258306,0,1,1,-2.7386127875258306,0A2.7386127875258306,2.7386127875258306,0,1,1,2.7386127875258306,0\" fill=\"red\" stroke-width=\"2\" opacity=\"0.7\"></path><path aria-label=\"x: -0.463350709828; y: 0.5153465326\" role=\"graphics-symbol\" aria-roledescription=\"circle\" transform=\"translate(70.73298580344577,137.11633668500363)\" d=\"M2.7386127875258306,0A2.7386127875258306,2.7386127875258306,0,1,1,-2.7386127875258306,0A2.7386127875258306,2.7386127875258306,0,1,1,2.7386127875258306,0\" fill=\"red\" stroke-width=\"2\" opacity=\"0.7\"></path><path aria-label=\"x: -0.12549133146; y: 1.08845631987\" role=\"graphics-symbol\" aria-roledescription=\"circle\" transform=\"translate(77.49017337080632,122.78859200313236)\" d=\"M2.7386127875258306,0A2.7386127875258306,2.7386127875258306,0,1,1,-2.7386127875258306,0A2.7386127875258306,2.7386127875258306,0,1,1,2.7386127875258306,0\" fill=\"red\" stroke-width=\"2\" opacity=\"0.7\"></path><path aria-label=\"x: -0.319940863314; y: 2.64831284878\" role=\"graphics-symbol\" aria-roledescription=\"circle\" transform=\"translate(73.60118273372727,83.79217878055209)\" d=\"M2.7386127875258306,0A2.7386127875258306,2.7386127875258306,0,1,1,-2.7386127875258306,0A2.7386127875258306,2.7386127875258306,0,1,1,2.7386127875258306,0\" fill=\"red\" stroke-width=\"2\" opacity=\"0.7\"></path><path aria-label=\"x: -2.67857571596; y: -0.240425157275\" role=\"graphics-symbol\" aria-roledescription=\"circle\" transform=\"translate(26.428485680756808,156.0106289318638)\" d=\"M2.7386127875258306,0A2.7386127875258306,2.7386127875258306,0,1,1,-2.7386127875258306,0A2.7386127875258306,2.7386127875258306,0,1,1,2.7386127875258306,0\" fill=\"red\" stroke-width=\"2\" opacity=\"0.7\"></path><path aria-label=\"x: 1.80849490408; y: 1.73600736768\" role=\"graphics-symbol\" aria-roledescription=\"circle\" transform=\"translate(116.16989808160116,106.59981580801656)\" d=\"M2.7386127875258306,0A2.7386127875258306,2.7386127875258306,0,1,1,-2.7386127875258306,0A2.7386127875258306,2.7386127875258306,0,1,1,2.7386127875258306,0\" fill=\"red\" stroke-width=\"2\" opacity=\"0.7\"></path><path aria-label=\"x: -0.20132197148; y: 0.634245424617\" role=\"graphics-symbol\" aria-roledescription=\"circle\" transform=\"translate(75.97356057039035,134.14386438457396)\" d=\"M2.7386127875258306,0A2.7386127875258306,2.7386127875258306,0,1,1,-2.7386127875258306,0A2.7386127875258306,2.7386127875258306,0,1,1,2.7386127875258306,0\" fill=\"red\" stroke-width=\"2\" opacity=\"0.7\"></path><path aria-label=\"x: -1.68537204611; y: 0.495921449225\" role=\"graphics-symbol\" aria-roledescription=\"circle\" transform=\"translate(46.292559077841176,137.60196376937142)\" d=\"M2.7386127875258306,0A2.7386127875258306,2.7386127875258306,0,1,1,-2.7386127875258306,0A2.7386127875258306,2.7386127875258306,0,1,1,2.7386127875258306,0\" fill=\"red\" stroke-width=\"2\" opacity=\"0.7\"></path><path aria-label=\"x: 0.554019513679; y: 2.40366130607\" role=\"graphics-symbol\" aria-roledescription=\"circle\" transform=\"translate(91.08039027358167,89.90846734830073)\" d=\"M2.7386127875258306,0A2.7386127875258306,2.7386127875258306,0,1,1,-2.7386127875258306,0A2.7386127875258306,2.7386127875258306,0,1,1,2.7386127875258306,0\" fill=\"red\" stroke-width=\"2\" opacity=\"0.7\"></path><path aria-label=\"x: 0.897156443195; y: 0.655997218033\" role=\"graphics-symbol\" aria-roledescription=\"circle\" transform=\"translate(97.94312886389888,133.60006954918674)\" d=\"M2.7386127875258306,0A2.7386127875258306,2.7386127875258306,0,1,1,-2.7386127875258306,0A2.7386127875258306,2.7386127875258306,0,1,1,2.7386127875258306,0\" fill=\"red\" stroke-width=\"2\" opacity=\"0.7\"></path><path aria-label=\"x: 3.11586656027; y: 2.72463107619\" role=\"graphics-symbol\" aria-roledescription=\"circle\" transform=\"translate(142.31733120537638,81.88422309525146)\" d=\"M2.7386127875258306,0A2.7386127875258306,2.7386127875258306,0,1,1,-2.7386127875258306,0A2.7386127875258306,2.7386127875258306,0,1,1,2.7386127875258306,0\" fill=\"red\" stroke-width=\"2\" opacity=\"0.7\"></path><path aria-label=\"x: 4.01267161894; y: 3.97939367294\" role=\"graphics-symbol\" aria-roledescription=\"circle\" transform=\"translate(160.2534323788533,50.51515817661196)\" d=\"M2.7386127875258306,0A2.7386127875258306,2.7386127875258306,0,1,1,-2.7386127875258306,0A2.7386127875258306,2.7386127875258306,0,1,1,2.7386127875258306,0\" fill=\"red\" stroke-width=\"2\" opacity=\"0.7\"></path><path aria-label=\"x: -2.63200972231; y: -1.14498625847\" role=\"graphics-symbol\" aria-roledescription=\"circle\" transform=\"translate(27.359805553751098,178.62465646171276)\" d=\"M2.7386127875258306,0A2.7386127875258306,2.7386127875258306,0,1,1,-2.7386127875258306,0A2.7386127875258306,2.7386127875258306,0,1,1,2.7386127875258306,0\" fill=\"red\" stroke-width=\"2\" opacity=\"0.7\"></path><path aria-label=\"x: 1.20202525704; y: 2.15531911738\" role=\"graphics-symbol\" aria-roledescription=\"circle\" transform=\"translate(104.04050514077264,96.1170220653976)\" d=\"M2.7386127875258306,0A2.7386127875258306,2.7386127875258306,0,1,1,-2.7386127875258306,0A2.7386127875258306,2.7386127875258306,0,1,1,2.7386127875258306,0\" fill=\"red\" stroke-width=\"2\" opacity=\"0.7\"></path><path aria-label=\"x: 0.130923919406; y: 2.30300682911\" role=\"graphics-symbol\" aria-roledescription=\"circle\" transform=\"translate(82.61847838811498,92.42482927224162)\" d=\"M2.7386127875258306,0A2.7386127875258306,2.7386127875258306,0,1,1,-2.7386127875258306,0A2.7386127875258306,2.7386127875258306,0,1,1,2.7386127875258306,0\" fill=\"red\" stroke-width=\"2\" opacity=\"0.7\"></path><path aria-label=\"x: 3.05983233495; y: 2.33306083293\" role=\"graphics-symbol\" aria-roledescription=\"circle\" transform=\"translate(141.19664669894755,91.67347917670511)\" d=\"M2.7386127875258306,0A2.7386127875258306,2.7386127875258306,0,1,1,-2.7386127875258306,0A2.7386127875258306,2.7386127875258306,0,1,1,2.7386127875258306,0\" fill=\"red\" stroke-width=\"2\" opacity=\"0.7\"></path><path aria-label=\"x: -2.48155687835; y: -0.807776865161\" role=\"graphics-symbol\" aria-roledescription=\"circle\" transform=\"translate(30.368862433004352,170.19442162902146)\" d=\"M2.7386127875258306,0A2.7386127875258306,2.7386127875258306,0,1,1,-2.7386127875258306,0A2.7386127875258306,2.7386127875258306,0,1,1,2.7386127875258306,0\" fill=\"red\" stroke-width=\"2\" opacity=\"0.7\"></path><path aria-label=\"x: 2.54031546268; y: 3.5869151061\" role=\"graphics-symbol\" aria-roledescription=\"circle\" transform=\"translate(130.80630925367313,60.327122347436024)\" d=\"M2.7386127875258306,0A2.7386127875258306,2.7386127875258306,0,1,1,-2.7386127875258306,0A2.7386127875258306,2.7386127875258306,0,1,1,2.7386127875258306,0\" fill=\"red\" stroke-width=\"2\" opacity=\"0.7\"></path><path aria-label=\"x: 3.94014772522; y: 4.441765274\" role=\"graphics-symbol\" aria-roledescription=\"circle\" transform=\"translate(158.80295450430154,38.955868150043486)\" d=\"M2.7386127875258306,0A2.7386127875258306,2.7386127875258306,0,1,1,-2.7386127875258306,0A2.7386127875258306,2.7386127875258306,0,1,1,2.7386127875258306,0\" fill=\"red\" stroke-width=\"2\" opacity=\"0.7\"></path><path aria-label=\"x: 0.780609192374; y: 0.726167399802\" role=\"graphics-symbol\" aria-roledescription=\"circle\" transform=\"translate(95.61218384747514,131.84581500494886)\" d=\"M2.7386127875258306,0A2.7386127875258306,2.7386127875258306,0,1,1,-2.7386127875258306,0A2.7386127875258306,2.7386127875258306,0,1,1,2.7386127875258306,0\" fill=\"red\" stroke-width=\"2\" opacity=\"0.7\"></path><path aria-label=\"x: -0.574333614492; y: 2.05693833591\" role=\"graphics-symbol\" aria-roledescription=\"circle\" transform=\"translate(68.51332771016604,98.57654160220584)\" d=\"M2.7386127875258306,0A2.7386127875258306,2.7386127875258306,0,1,1,-2.7386127875258306,0A2.7386127875258306,2.7386127875258306,0,1,1,2.7386127875258306,0\" fill=\"red\" stroke-width=\"2\" opacity=\"0.7\"></path><path aria-label=\"x: 2.30872666653; y: 3.57061583479\" role=\"graphics-symbol\" aria-roledescription=\"circle\" transform=\"translate(126.17453333059039,60.73460413019065)\" d=\"M2.7386127875258306,0A2.7386127875258306,2.7386127875258306,0,1,1,-2.7386127875258306,0A2.7386127875258306,2.7386127875258306,0,1,1,2.7386127875258306,0\" fill=\"red\" stroke-width=\"2\" opacity=\"0.7\"></path><path aria-label=\"x: -0.4317171665; y: 0.987717352246\" role=\"graphics-symbol\" aria-roledescription=\"circle\" transform=\"translate(71.36565667000721,125.30706619384118)\" d=\"M2.7386127875258306,0A2.7386127875258306,2.7386127875258306,0,1,1,-2.7386127875258306,0A2.7386127875258306,2.7386127875258306,0,1,1,2.7386127875258306,0\" fill=\"red\" stroke-width=\"2\" opacity=\"0.7\"></path><path aria-label=\"x: -0.377808898799; y: 0.922595453331\" role=\"graphics-symbol\" aria-roledescription=\"circle\" transform=\"translate(72.44382202402088,126.93511366672074)\" d=\"M2.7386127875258306,0A2.7386127875258306,2.7386127875258306,0,1,1,-2.7386127875258306,0A2.7386127875258306,2.7386127875258306,0,1,1,2.7386127875258306,0\" fill=\"red\" stroke-width=\"2\" opacity=\"0.7\"></path><path aria-label=\"x: -0.294200457264; y: 1.22960342193\" role=\"graphics-symbol\" aria-roledescription=\"circle\" transform=\"translate(74.1159908547252,119.25991445172417)\" d=\"M2.7386127875258306,0A2.7386127875258306,2.7386127875258306,0,1,1,-2.7386127875258306,0A2.7386127875258306,2.7386127875258306,0,1,1,2.7386127875258306,0\" fill=\"red\" stroke-width=\"2\" opacity=\"0.7\"></path><path aria-label=\"x: 2.28270664813; y: 3.33237876615\" role=\"graphics-symbol\" aria-roledescription=\"circle\" transform=\"translate(125.65413296255656,66.69053084634666)\" d=\"M2.7386127875258306,0A2.7386127875258306,2.7386127875258306,0,1,1,-2.7386127875258306,0A2.7386127875258306,2.7386127875258306,0,1,1,2.7386127875258306,0\" fill=\"red\" stroke-width=\"2\" opacity=\"0.7\"></path><path aria-label=\"x: 3.19086804042; y: 2.6054732735\" role=\"graphics-symbol\" aria-roledescription=\"circle\" transform=\"translate(143.8173608084187,84.86316816260455)\" d=\"M2.7386127875258306,0A2.7386127875258306,2.7386127875258306,0,1,1,-2.7386127875258306,0A2.7386127875258306,2.7386127875258306,0,1,1,2.7386127875258306,0\" fill=\"red\" stroke-width=\"2\" opacity=\"0.7\"></path><path aria-label=\"x: -1.20398163009; y: -0.228669100133\" role=\"graphics-symbol\" aria-roledescription=\"circle\" transform=\"translate(55.92036739817851,155.71672750332354)\" d=\"M2.7386127875258306,0A2.7386127875258306,2.7386127875258306,0,1,1,-2.7386127875258306,0A2.7386127875258306,2.7386127875258306,0,1,1,2.7386127875258306,0\" fill=\"red\" stroke-width=\"2\" opacity=\"0.7\"></path><path aria-label=\"x: 1.60375147807; y: 2.69560287941\" role=\"graphics-symbol\" aria-roledescription=\"circle\" transform=\"translate(112.0750295614339,82.60992801471659)\" d=\"M2.7386127875258306,0A2.7386127875258306,2.7386127875258306,0,1,1,-2.7386127875258306,0A2.7386127875258306,2.7386127875258306,0,1,1,2.7386127875258306,0\" fill=\"red\" stroke-width=\"2\" opacity=\"0.7\"></path><path aria-label=\"x: 3.21236811645; y: 2.57075792399\" role=\"graphics-symbol\" aria-roledescription=\"circle\" transform=\"translate(144.24736232893648,85.73105190024548)\" d=\"M2.7386127875258306,0A2.7386127875258306,2.7386127875258306,0,1,1,-2.7386127875258306,0A2.7386127875258306,2.7386127875258306,0,1,1,2.7386127875258306,0\" fill=\"red\" stroke-width=\"2\" opacity=\"0.7\"></path><path aria-label=\"x: 1.29315552174; y: 3.12677461278\" role=\"graphics-symbol\" aria-roledescription=\"circle\" transform=\"translate(105.86311043482159,71.8306346804841)\" d=\"M2.7386127875258306,0A2.7386127875258306,2.7386127875258306,0,1,1,-2.7386127875258306,0A2.7386127875258306,2.7386127875258306,0,1,1,2.7386127875258306,0\" fill=\"red\" stroke-width=\"2\" opacity=\"0.7\"></path><path aria-label=\"x: -1.59582963896; y: -1.06652154246\" role=\"graphics-symbol\" aria-roledescription=\"circle\" transform=\"translate(48.0834072208745,176.66303856154957)\" d=\"M2.7386127875258306,0A2.7386127875258306,2.7386127875258306,0,1,1,-2.7386127875258306,0A2.7386127875258306,2.7386127875258306,0,1,1,2.7386127875258306,0\" fill=\"red\" stroke-width=\"2\" opacity=\"0.7\"></path><path aria-label=\"x: 1.42172786928; y: 3.85307778004\" role=\"graphics-symbol\" aria-roledescription=\"circle\" transform=\"translate(108.43455738559251,53.673055498966484)\" d=\"M2.7386127875258306,0A2.7386127875258306,2.7386127875258306,0,1,1,-2.7386127875258306,0A2.7386127875258306,2.7386127875258306,0,1,1,2.7386127875258306,0\" fill=\"red\" stroke-width=\"2\" opacity=\"0.7\"></path><path aria-label=\"x: 1.09942369974; y: 2.07625993417\" role=\"graphics-symbol\" aria-roledescription=\"circle\" transform=\"translate(101.98847399470657,98.09350164586104)\" d=\"M2.7386127875258306,0A2.7386127875258306,2.7386127875258306,0,1,1,-2.7386127875258306,0A2.7386127875258306,2.7386127875258306,0,1,1,2.7386127875258306,0\" fill=\"red\" stroke-width=\"2\" opacity=\"0.7\"></path><path aria-label=\"x: 1.85468646683; y: 2.44820382353\" role=\"graphics-symbol\" aria-roledescription=\"circle\" transform=\"translate(117.09372933653808,88.79490441182514)\" d=\"M2.7386127875258306,0A2.7386127875258306,2.7386127875258306,0,1,1,-2.7386127875258306,0A2.7386127875258306,2.7386127875258306,0,1,1,2.7386127875258306,0\" fill=\"red\" stroke-width=\"2\" opacity=\"0.7\"></path><path aria-label=\"x: -2.37305396151; y: -0.374772855976\" role=\"graphics-symbol\" aria-roledescription=\"circle\" transform=\"translate(32.538920769724314,159.36932139939398)\" d=\"M2.7386127875258306,0A2.7386127875258306,2.7386127875258306,0,1,1,-2.7386127875258306,0A2.7386127875258306,2.7386127875258306,0,1,1,2.7386127875258306,0\" fill=\"red\" stroke-width=\"2\" opacity=\"0.7\"></path><path aria-label=\"x: -0.929786539258; y: 0.488714220937\" role=\"graphics-symbol\" aria-roledescription=\"circle\" transform=\"translate(61.40426921484872,137.78214447657803)\" d=\"M2.7386127875258306,0A2.7386127875258306,2.7386127875258306,0,1,1,-2.7386127875258306,0A2.7386127875258306,2.7386127875258306,0,1,1,2.7386127875258306,0\" fill=\"red\" stroke-width=\"2\" opacity=\"0.7\"></path><path aria-label=\"x: 1.4068654123; y: 4.2920622705\" role=\"graphics-symbol\" aria-roledescription=\"circle\" transform=\"translate(108.13730824598244,42.69844323749776)\" d=\"M2.7386127875258306,0A2.7386127875258306,2.7386127875258306,0,1,1,-2.7386127875258306,0A2.7386127875258306,2.7386127875258306,0,1,1,2.7386127875258306,0\" fill=\"red\" stroke-width=\"2\" opacity=\"0.7\"></path><path aria-label=\"x: 1.66309849161; y: 2.74280713208\" role=\"graphics-symbol\" aria-roledescription=\"circle\" transform=\"translate(113.26196983219288,81.42982169812487)\" d=\"M2.7386127875258306,0A2.7386127875258306,2.7386127875258306,0,1,1,-2.7386127875258306,0A2.7386127875258306,2.7386127875258306,0,1,1,2.7386127875258306,0\" fill=\"red\" stroke-width=\"2\" opacity=\"0.7\"></path><path aria-label=\"x: 0.471515650991; y: 1.89324461021\" role=\"graphics-symbol\" aria-roledescription=\"circle\" transform=\"translate(89.43031301981122,102.66888474469542)\" d=\"M2.7386127875258306,0A2.7386127875258306,2.7386127875258306,0,1,1,-2.7386127875258306,0A2.7386127875258306,2.7386127875258306,0,1,1,2.7386127875258306,0\" fill=\"red\" stroke-width=\"2\" opacity=\"0.7\"></path><path aria-label=\"x: 0.341741810903; y: 0.343664631744\" role=\"graphics-symbol\" aria-roledescription=\"circle\" transform=\"translate(86.83483621805094,141.40838420639997)\" d=\"M2.7386127875258306,0A2.7386127875258306,2.7386127875258306,0,1,1,-2.7386127875258306,0A2.7386127875258306,2.7386127875258306,0,1,1,2.7386127875258306,0\" fill=\"red\" stroke-width=\"2\" opacity=\"0.7\"></path><path aria-label=\"x: -1.12395377284; y: 0.768272364671\" role=\"graphics-symbol\" aria-roledescription=\"circle\" transform=\"translate(57.520924543223195,130.79319088322885)\" d=\"M2.7386127875258306,0A2.7386127875258306,2.7386127875258306,0,1,1,-2.7386127875258306,0A2.7386127875258306,2.7386127875258306,0,1,1,2.7386127875258306,0\" fill=\"red\" stroke-width=\"2\" opacity=\"0.7\"></path><path aria-label=\"x: -0.666738497555; y: 0.766712074249\" role=\"graphics-symbol\" aria-roledescription=\"circle\" transform=\"translate(66.6652300489077,130.83219814377892)\" d=\"M2.7386127875258306,0A2.7386127875258306,2.7386127875258306,0,1,1,-2.7386127875258306,0A2.7386127875258306,2.7386127875258306,0,1,1,2.7386127875258306,0\" fill=\"red\" stroke-width=\"2\" opacity=\"0.7\"></path><path aria-label=\"x: -0.0453643709027; y: 2.52233667533\" role=\"graphics-symbol\" aria-roledescription=\"circle\" transform=\"translate(79.09271258194606,86.94158311677901)\" d=\"M2.7386127875258306,0A2.7386127875258306,2.7386127875258306,0,1,1,-2.7386127875258306,0A2.7386127875258306,2.7386127875258306,0,1,1,2.7386127875258306,0\" fill=\"red\" stroke-width=\"2\" opacity=\"0.7\"></path><path aria-label=\"x: 0.377905344105; y: 0.633652935976\" role=\"graphics-symbol\" aria-roledescription=\"circle\" transform=\"translate(87.558106882106,134.15867660059973)\" d=\"M2.7386127875258306,0A2.7386127875258306,2.7386127875258306,0,1,1,-2.7386127875258306,0A2.7386127875258306,2.7386127875258306,0,1,1,2.7386127875258306,0\" fill=\"red\" stroke-width=\"2\" opacity=\"0.7\"></path><path aria-label=\"x: 2.8936958013; y: 2.40008399319\" role=\"graphics-symbol\" aria-roledescription=\"circle\" transform=\"translate(137.8739160260303,89.99790017030121)\" d=\"M2.7386127875258306,0A2.7386127875258306,2.7386127875258306,0,1,1,-2.7386127875258306,0A2.7386127875258306,2.7386127875258306,0,1,1,2.7386127875258306,0\" fill=\"red\" stroke-width=\"2\" opacity=\"0.7\"></path><path aria-label=\"x: 1.53832040684; y: 1.98451865386\" role=\"graphics-symbol\" aria-roledescription=\"circle\" transform=\"translate(110.76640813687068,100.38703365338822)\" d=\"M2.7386127875258306,0A2.7386127875258306,2.7386127875258306,0,1,1,-2.7386127875258306,0A2.7386127875258306,2.7386127875258306,0,1,1,2.7386127875258306,0\" fill=\"red\" stroke-width=\"2\" opacity=\"0.7\"></path><path aria-label=\"x: -2.21276511365; y: -1.25337804598\" role=\"graphics-symbol\" aria-roledescription=\"circle\" transform=\"translate(35.74469772706938,181.33445114957098)\" d=\"M2.7386127875258306,0A2.7386127875258306,2.7386127875258306,0,1,1,-2.7386127875258306,0A2.7386127875258306,2.7386127875258306,0,1,1,2.7386127875258306,0\" fill=\"red\" stroke-width=\"2\" opacity=\"0.7\"></path><path aria-label=\"x: -0.573697701322; y: 1.63773308395\" role=\"graphics-symbol\" aria-roledescription=\"circle\" transform=\"translate(68.5260459735652,109.0566729011261)\" d=\"M2.7386127875258306,0A2.7386127875258306,2.7386127875258306,0,1,1,-2.7386127875258306,0A2.7386127875258306,2.7386127875258306,0,1,1,2.7386127875258306,0\" fill=\"red\" stroke-width=\"2\" opacity=\"0.7\"></path><path aria-label=\"x: 1.8898974226; y: 1.73970046882\" role=\"graphics-symbol\" aria-roledescription=\"circle\" transform=\"translate(117.79794845191655,106.50748827956176)\" d=\"M2.7386127875258306,0A2.7386127875258306,2.7386127875258306,0,1,1,-2.7386127875258306,0A2.7386127875258306,2.7386127875258306,0,1,1,2.7386127875258306,0\" fill=\"red\" stroke-width=\"2\" opacity=\"0.7\"></path><path aria-label=\"x: 2.4811572742; y: 3.04880376778\" role=\"graphics-symbol\" aria-roledescription=\"circle\" transform=\"translate(129.6231454839718,73.77990580550475)\" d=\"M2.7386127875258306,0A2.7386127875258306,2.7386127875258306,0,1,1,-2.7386127875258306,0A2.7386127875258306,2.7386127875258306,0,1,1,2.7386127875258306,0\" fill=\"red\" stroke-width=\"2\" opacity=\"0.7\"></path><path aria-label=\"x: 1.24670030107; y: 3.30942376992\" role=\"graphics-symbol\" aria-roledescription=\"circle\" transform=\"translate(104.93400602148716,67.26440575204408)\" d=\"M2.7386127875258306,0A2.7386127875258306,2.7386127875258306,0,1,1,-2.7386127875258306,0A2.7386127875258306,2.7386127875258306,0,1,1,2.7386127875258306,0\" fill=\"red\" stroke-width=\"2\" opacity=\"0.7\"></path><path aria-label=\"x: 1.28837166292; y: 2.50218393589\" role=\"graphics-symbol\" aria-roledescription=\"circle\" transform=\"translate(105.76743325844387,87.44540160271922)\" d=\"M2.7386127875258306,0A2.7386127875258306,2.7386127875258306,0,1,1,-2.7386127875258306,0A2.7386127875258306,2.7386127875258306,0,1,1,2.7386127875258306,0\" fill=\"red\" stroke-width=\"2\" opacity=\"0.7\"></path><path aria-label=\"x: 1.10367986042; y: 3.13045885392\" role=\"graphics-symbol\" aria-roledescription=\"circle\" transform=\"translate(102.07359720834998,71.73852865192414)\" d=\"M2.7386127875258306,0A2.7386127875258306,2.7386127875258306,0,1,1,-2.7386127875258306,0A2.7386127875258306,2.7386127875258306,0,1,1,2.7386127875258306,0\" fill=\"red\" stroke-width=\"2\" opacity=\"0.7\"></path><path aria-label=\"x: 2.64774906643; y: 4.08232760555\" role=\"graphics-symbol\" aria-roledescription=\"circle\" transform=\"translate(132.95498132856687,47.941809861234866)\" d=\"M2.7386127875258306,0A2.7386127875258306,2.7386127875258306,0,1,1,-2.7386127875258306,0A2.7386127875258306,2.7386127875258306,0,1,1,2.7386127875258306,0\" fill=\"red\" stroke-width=\"2\" opacity=\"0.7\"></path><path aria-label=\"x: 0.459966951213; y: 2.10854985746\" role=\"graphics-symbol\" aria-roledescription=\"circle\" transform=\"translate(89.19933902425623,97.28625356349627)\" d=\"M2.7386127875258306,0A2.7386127875258306,2.7386127875258306,0,1,1,-2.7386127875258306,0A2.7386127875258306,2.7386127875258306,0,1,1,2.7386127875258306,0\" fill=\"red\" stroke-width=\"2\" opacity=\"0.7\"></path><path aria-label=\"x: -0.236252468537; y: 0.712238528261\" role=\"graphics-symbol\" aria-roledescription=\"circle\" transform=\"translate(75.27495062925622,132.1940367934632)\" d=\"M2.7386127875258306,0A2.7386127875258306,2.7386127875258306,0,1,1,-2.7386127875258306,0A2.7386127875258306,2.7386127875258306,0,1,1,2.7386127875258306,0\" fill=\"red\" stroke-width=\"2\" opacity=\"0.7\"></path><path aria-label=\"x: 3.32818069514; y: 4.07062808005\" role=\"graphics-symbol\" aria-roledescription=\"circle\" transform=\"translate(146.56361390271636,48.23429799875682)\" d=\"M2.7386127875258306,0A2.7386127875258306,2.7386127875258306,0,1,1,-2.7386127875258306,0A2.7386127875258306,2.7386127875258306,0,1,1,2.7386127875258306,0\" fill=\"red\" stroke-width=\"2\" opacity=\"0.7\"></path><path aria-label=\"x: 3.21633393276; y: 3.66515417538\" role=\"graphics-symbol\" aria-roledescription=\"circle\" transform=\"translate(144.32667865519045,58.371145615434685)\" d=\"M2.7386127875258306,0A2.7386127875258306,2.7386127875258306,0,1,1,-2.7386127875258306,0A2.7386127875258306,2.7386127875258306,0,1,1,2.7386127875258306,0\" fill=\"red\" stroke-width=\"2\" opacity=\"0.7\"></path><path aria-label=\"x: 2.21015778324; y: 2.03632523128\" role=\"graphics-symbol\" aria-roledescription=\"circle\" transform=\"translate(124.20315566483397,99.09186921799295)\" d=\"M2.7386127875258306,0A2.7386127875258306,2.7386127875258306,0,1,1,-2.7386127875258306,0A2.7386127875258306,2.7386127875258306,0,1,1,2.7386127875258306,0\" fill=\"red\" stroke-width=\"2\" opacity=\"0.7\"></path><path aria-label=\"x: 0.950054593974; y: 1.7611345327\" role=\"graphics-symbol\" aria-roledescription=\"circle\" transform=\"translate(99.00109187948203,105.97163668256138)\" d=\"M2.7386127875258306,0A2.7386127875258306,2.7386127875258306,0,1,1,-2.7386127875258306,0A2.7386127875258306,2.7386127875258306,0,1,1,2.7386127875258306,0\" fill=\"red\" stroke-width=\"2\" opacity=\"0.7\"></path><path aria-label=\"x: -1.38565188218; y: -0.232669285961\" role=\"graphics-symbol\" aria-roledescription=\"circle\" transform=\"translate(52.28696235648322,155.81673214901645)\" d=\"M2.7386127875258306,0A2.7386127875258306,2.7386127875258306,0,1,1,-2.7386127875258306,0A2.7386127875258306,2.7386127875258306,0,1,1,2.7386127875258306,0\" fill=\"red\" stroke-width=\"2\" opacity=\"0.7\"></path><path aria-label=\"x: -0.590642942693; y: 1.60347319624\" role=\"graphics-symbol\" aria-roledescription=\"circle\" transform=\"translate(68.18714114614757,109.9131700939329)\" d=\"M2.7386127875258306,0A2.7386127875258306,2.7386127875258306,0,1,1,-2.7386127875258306,0A2.7386127875258306,2.7386127875258306,0,1,1,2.7386127875258306,0\" fill=\"red\" stroke-width=\"2\" opacity=\"0.7\"></path><path aria-label=\"x: 1.70891248624; y: 2.06455413737\" role=\"graphics-symbol\" aria-roledescription=\"circle\" transform=\"translate(114.17824972479464,98.38614656578675)\" d=\"M2.7386127875258306,0A2.7386127875258306,2.7386127875258306,0,1,1,-2.7386127875258306,0A2.7386127875258306,2.7386127875258306,0,1,1,2.7386127875258306,0\" fill=\"red\" stroke-width=\"2\" opacity=\"0.7\"></path><path aria-label=\"x: -0.930082964545; y: 1.2526765647\" role=\"graphics-symbol\" aria-roledescription=\"circle\" transform=\"translate(61.39834070909224,118.68308588259275)\" d=\"M2.7386127875258306,0A2.7386127875258306,2.7386127875258306,0,1,1,-2.7386127875258306,0A2.7386127875258306,2.7386127875258306,0,1,1,2.7386127875258306,0\" fill=\"red\" stroke-width=\"2\" opacity=\"0.7\"></path><path aria-label=\"x: 1.48310665572; y: 2.3351595497\" role=\"graphics-symbol\" aria-roledescription=\"circle\" transform=\"translate(109.66213311443647,91.62101125743317)\" d=\"M2.7386127875258306,0A2.7386127875258306,2.7386127875258306,0,1,1,-2.7386127875258306,0A2.7386127875258306,2.7386127875258306,0,1,1,2.7386127875258306,0\" fill=\"red\" stroke-width=\"2\" opacity=\"0.7\"></path><path aria-label=\"x: -0.736904753097; y: 1.24422619643\" role=\"graphics-symbol\" aria-roledescription=\"circle\" transform=\"translate(65.26190493805777,118.89434508928154)\" d=\"M2.7386127875258306,0A2.7386127875258306,2.7386127875258306,0,1,1,-2.7386127875258306,0A2.7386127875258306,2.7386127875258306,0,1,1,2.7386127875258306,0\" fill=\"red\" stroke-width=\"2\" opacity=\"0.7\"></path><path aria-label=\"x: -0.684225011291; y: 0.96175851848\" role=\"graphics-symbol\" aria-roledescription=\"circle\" transform=\"translate(66.31549977417507,125.95603703799397)\" d=\"M2.7386127875258306,0A2.7386127875258306,2.7386127875258306,0,1,1,-2.7386127875258306,0A2.7386127875258306,2.7386127875258306,0,1,1,2.7386127875258306,0\" fill=\"red\" stroke-width=\"2\" opacity=\"0.7\"></path><path aria-label=\"x: 0.0165929097832; y: 1.87767806906\" role=\"graphics-symbol\" aria-roledescription=\"circle\" transform=\"translate(80.33185819566324,103.05804827341586)\" d=\"M2.7386127875258306,0A2.7386127875258306,2.7386127875258306,0,1,1,-2.7386127875258306,0A2.7386127875258306,2.7386127875258306,0,1,1,2.7386127875258306,0\" fill=\"red\" stroke-width=\"2\" opacity=\"0.7\"></path><path aria-label=\"x: -1.04904467177; y: 1.59489541968\" role=\"graphics-symbol\" aria-roledescription=\"circle\" transform=\"translate(59.019106564660525,110.12761450801982)\" d=\"M2.7386127875258306,0A2.7386127875258306,2.7386127875258306,0,1,1,-2.7386127875258306,0A2.7386127875258306,2.7386127875258306,0,1,1,2.7386127875258306,0\" fill=\"red\" stroke-width=\"2\" opacity=\"0.7\"></path><path aria-label=\"x: 2.63708803088; y: 2.3172313361\" role=\"graphics-symbol\" aria-roledescription=\"circle\" transform=\"translate(132.7417606175057,92.06921659760965)\" d=\"M2.7386127875258306,0A2.7386127875258306,2.7386127875258306,0,1,1,-2.7386127875258306,0A2.7386127875258306,2.7386127875258306,0,1,1,2.7386127875258306,0\" fill=\"red\" stroke-width=\"2\" opacity=\"0.7\"></path><path aria-label=\"x: -2.1996846923; y: 0.615878234414\" role=\"graphics-symbol\" aria-roledescription=\"circle\" transform=\"translate(36.00630615409629,134.60304413965716)\" d=\"M2.7386127875258306,0A2.7386127875258306,2.7386127875258306,0,1,1,-2.7386127875258306,0A2.7386127875258306,2.7386127875258306,0,1,1,2.7386127875258306,0\" fill=\"red\" stroke-width=\"2\" opacity=\"0.7\"></path><path aria-label=\"x: 2.87218661917; y: 3.76039892764\" role=\"graphics-symbol\" aria-roledescription=\"circle\" transform=\"translate(137.44373238334865,55.990026809099746)\" d=\"M2.7386127875258306,0A2.7386127875258306,2.7386127875258306,0,1,1,-2.7386127875258306,0A2.7386127875258306,2.7386127875258306,0,1,1,2.7386127875258306,0\" fill=\"red\" stroke-width=\"2\" opacity=\"0.7\"></path><path aria-label=\"x: -0.277156991375; y: 0.0709837757421\" role=\"graphics-symbol\" aria-roledescription=\"circle\" transform=\"translate(74.45686017250752,148.22540560644794)\" d=\"M2.7386127875258306,0A2.7386127875258306,2.7386127875258306,0,1,1,-2.7386127875258306,0A2.7386127875258306,2.7386127875258306,0,1,1,2.7386127875258306,0\" fill=\"red\" stroke-width=\"2\" opacity=\"0.7\"></path><path aria-label=\"x: 3.17292417149; y: 3.78296139338\" role=\"graphics-symbol\" aria-roledescription=\"circle\" transform=\"translate(143.45848342973926,55.42596516554834)\" d=\"M2.7386127875258306,0A2.7386127875258306,2.7386127875258306,0,1,1,-2.7386127875258306,0A2.7386127875258306,2.7386127875258306,0,1,1,2.7386127875258306,0\" fill=\"red\" stroke-width=\"2\" opacity=\"0.7\"></path><path aria-label=\"x: -0.755153924152; y: 1.84183927678\" role=\"graphics-symbol\" aria-roledescription=\"circle\" transform=\"translate(64.89692151695198,103.9540180805224)\" d=\"M2.7386127875258306,0A2.7386127875258306,2.7386127875258306,0,1,1,-2.7386127875258306,0A2.7386127875258306,2.7386127875258306,0,1,1,2.7386127875258306,0\" fill=\"red\" stroke-width=\"2\" opacity=\"0.7\"></path><path aria-label=\"x: 1.08564092794; y: 2.32096049799\" role=\"graphics-symbol\" aria-roledescription=\"circle\" transform=\"translate(101.71281855886308,91.97598755035004)\" d=\"M2.7386127875258306,0A2.7386127875258306,2.7386127875258306,0,1,1,-2.7386127875258306,0A2.7386127875258306,2.7386127875258306,0,1,1,2.7386127875258306,0\" fill=\"red\" stroke-width=\"2\" opacity=\"0.7\"></path><path aria-label=\"x: -2.61825360869; y: -0.610415184321\" role=\"graphics-symbol\" aria-roledescription=\"circle\" transform=\"translate(27.634927826168532,165.26037960802057)\" d=\"M2.7386127875258306,0A2.7386127875258306,2.7386127875258306,0,1,1,-2.7386127875258306,0A2.7386127875258306,2.7386127875258306,0,1,1,2.7386127875258306,0\" fill=\"red\" stroke-width=\"2\" opacity=\"0.7\"></path><path aria-label=\"x: -1.62969495831; y: 0.60660020536\" role=\"graphics-symbol\" aria-roledescription=\"circle\" transform=\"translate(47.40610083378634,134.83499486601184)\" d=\"M2.7386127875258306,0A2.7386127875258306,2.7386127875258306,0,1,1,-2.7386127875258306,0A2.7386127875258306,2.7386127875258306,0,1,1,2.7386127875258306,0\" fill=\"red\" stroke-width=\"2\" opacity=\"0.7\"></path><path aria-label=\"x: -1.85415436279; y: 0.997219049041\" role=\"graphics-symbol\" aria-roledescription=\"circle\" transform=\"translate(42.916912744151894,125.0695237739854)\" d=\"M2.7386127875258306,0A2.7386127875258306,2.7386127875258306,0,1,1,-2.7386127875258306,0A2.7386127875258306,2.7386127875258306,0,1,1,2.7386127875258306,0\" fill=\"red\" stroke-width=\"2\" opacity=\"0.7\"></path><path aria-label=\"x: 2.4092952307; y: 2.16133875147\" role=\"graphics-symbol\" aria-roledescription=\"circle\" transform=\"translate(128.18590461405682,95.9665312132347)\" d=\"M2.7386127875258306,0A2.7386127875258306,2.7386127875258306,0,1,1,-2.7386127875258306,0A2.7386127875258306,2.7386127875258306,0,1,1,2.7386127875258306,0\" fill=\"red\" stroke-width=\"2\" opacity=\"0.7\"></path><path aria-label=\"x: 0.999943529596; y: 1.99684365201\" role=\"graphics-symbol\" aria-roledescription=\"circle\" transform=\"translate(99.99887059191315,100.07890869966202)\" d=\"M2.7386127875258306,0A2.7386127875258306,2.7386127875258306,0,1,1,-2.7386127875258306,0A2.7386127875258306,2.7386127875258306,0,1,1,2.7386127875258306,0\" fill=\"red\" stroke-width=\"2\" opacity=\"0.7\"></path><path aria-label=\"x: 2.1327502713; y: 3.94508918727\" role=\"graphics-symbol\" aria-roledescription=\"circle\" transform=\"translate(122.65500542597627,51.3727703182876)\" d=\"M2.7386127875258306,0A2.7386127875258306,2.7386127875258306,0,1,1,-2.7386127875258306,0A2.7386127875258306,2.7386127875258306,0,1,1,2.7386127875258306,0\" fill=\"red\" stroke-width=\"2\" opacity=\"0.7\"></path><path aria-label=\"x: -0.545757047515; y: 0.983106838495\" role=\"graphics-symbol\" aria-roledescription=\"circle\" transform=\"translate(69.08485904969653,125.42232903762935)\" d=\"M2.7386127875258306,0A2.7386127875258306,2.7386127875258306,0,1,1,-2.7386127875258306,0A2.7386127875258306,2.7386127875258306,0,1,1,2.7386127875258306,0\" fill=\"red\" stroke-width=\"2\" opacity=\"0.7\"></path><path aria-label=\"x: -0.242953990637; y: 0.891903538418\" role=\"graphics-symbol\" aria-roledescription=\"circle\" transform=\"translate(75.14092018726167,127.70241153955241)\" d=\"M2.7386127875258306,0A2.7386127875258306,2.7386127875258306,0,1,1,-2.7386127875258306,0A2.7386127875258306,2.7386127875258306,0,1,1,2.7386127875258306,0\" fill=\"red\" stroke-width=\"2\" opacity=\"0.7\"></path><path aria-label=\"x: 4.57456309807; y: 3.43734331342\" role=\"graphics-symbol\" aria-roledescription=\"circle\" transform=\"translate(171.49126196134162,64.06641716445615)\" d=\"M2.7386127875258306,0A2.7386127875258306,2.7386127875258306,0,1,1,-2.7386127875258306,0A2.7386127875258306,2.7386127875258306,0,1,1,2.7386127875258306,0\" fill=\"red\" stroke-width=\"2\" opacity=\"0.7\"></path><path aria-label=\"x: 2.72352833059; y: 1.96496377533\" role=\"graphics-symbol\" aria-roledescription=\"circle\" transform=\"translate(134.47056661183106,100.87590561680852)\" d=\"M2.7386127875258306,0A2.7386127875258306,2.7386127875258306,0,1,1,-2.7386127875258306,0A2.7386127875258306,2.7386127875258306,0,1,1,2.7386127875258306,0\" fill=\"red\" stroke-width=\"2\" opacity=\"0.7\"></path><path aria-label=\"x: 2.08133234432; y: 1.79597970541\" role=\"graphics-symbol\" aria-roledescription=\"circle\" transform=\"translate(121.62664688639448,105.10050736479192)\" d=\"M2.7386127875258306,0A2.7386127875258306,2.7386127875258306,0,1,1,-2.7386127875258306,0A2.7386127875258306,2.7386127875258306,0,1,1,2.7386127875258306,0\" fill=\"red\" stroke-width=\"2\" opacity=\"0.7\"></path><path aria-label=\"x: -0.0709191417419; y: 1.69053583848\" role=\"graphics-symbol\" aria-roledescription=\"circle\" transform=\"translate(78.58161716516152,107.73660403793657)\" d=\"M2.7386127875258306,0A2.7386127875258306,2.7386127875258306,0,1,1,-2.7386127875258306,0A2.7386127875258306,2.7386127875258306,0,1,1,2.7386127875258306,0\" fill=\"red\" stroke-width=\"2\" opacity=\"0.7\"></path><path aria-label=\"x: 1.0100103523; y: 2.17340654984\" role=\"graphics-symbol\" aria-roledescription=\"circle\" transform=\"translate(100.20020704607428,95.66483625410103)\" d=\"M2.7386127875258306,0A2.7386127875258306,2.7386127875258306,0,1,1,-2.7386127875258306,0A2.7386127875258306,2.7386127875258306,0,1,1,2.7386127875258306,0\" fill=\"red\" stroke-width=\"2\" opacity=\"0.7\"></path><path aria-label=\"x: 1.34149576925; y: 2.30769941904\" role=\"graphics-symbol\" aria-roledescription=\"circle\" transform=\"translate(106.82991538490793,92.30751452395909)\" d=\"M2.7386127875258306,0A2.7386127875258306,2.7386127875258306,0,1,1,-2.7386127875258306,0A2.7386127875258306,2.7386127875258306,0,1,1,2.7386127875258306,0\" fill=\"red\" stroke-width=\"2\" opacity=\"0.7\"></path><path aria-label=\"x: -1.95139480451; y: -0.293813580225\" role=\"graphics-symbol\" aria-roledescription=\"circle\" transform=\"translate(40.972103909759575,157.3453395056294)\" d=\"M2.7386127875258306,0A2.7386127875258306,2.7386127875258306,0,1,1,-2.7386127875258306,0A2.7386127875258306,2.7386127875258306,0,1,1,2.7386127875258306,0\" fill=\"red\" stroke-width=\"2\" opacity=\"0.7\"></path><path aria-label=\"x: 0.215089124435; y: 1.48690324723\" role=\"graphics-symbol\" aria-roledescription=\"circle\" transform=\"translate(84.30178248870487,112.82741881920835)\" d=\"M2.7386127875258306,0A2.7386127875258306,2.7386127875258306,0,1,1,-2.7386127875258306,0A2.7386127875258306,2.7386127875258306,0,1,1,2.7386127875258306,0\" fill=\"red\" stroke-width=\"2\" opacity=\"0.7\"></path><path aria-label=\"x: 0.671159578076; y: 1.7090011912\" role=\"graphics-symbol\" aria-roledescription=\"circle\" transform=\"translate(93.42319156151602,107.2749702200579)\" d=\"M2.7386127875258306,0A2.7386127875258306,2.7386127875258306,0,1,1,-2.7386127875258306,0A2.7386127875258306,2.7386127875258306,0,1,1,2.7386127875258306,0\" fill=\"red\" stroke-width=\"2\" opacity=\"0.7\"></path><path aria-label=\"x: 2.00875365849; y: 3.76606001031\" role=\"graphics-symbol\" aria-roledescription=\"circle\" transform=\"translate(120.17507316987461,55.84849974230677)\" d=\"M2.7386127875258306,0A2.7386127875258306,2.7386127875258306,0,1,1,-2.7386127875258306,0A2.7386127875258306,2.7386127875258306,0,1,1,2.7386127875258306,0\" fill=\"red\" stroke-width=\"2\" opacity=\"0.7\"></path><path aria-label=\"x: 0.243205100281; y: 1.14317664366\" role=\"graphics-symbol\" aria-roledescription=\"circle\" transform=\"translate(84.86410200561146,121.42058390856624)\" d=\"M2.7386127875258306,0A2.7386127875258306,2.7386127875258306,0,1,1,-2.7386127875258306,0A2.7386127875258306,2.7386127875258306,0,1,1,2.7386127875258306,0\" fill=\"red\" stroke-width=\"2\" opacity=\"0.7\"></path><path aria-label=\"x: 3.61171877044; y: 4.17876933578\" role=\"graphics-symbol\" aria-roledescription=\"circle\" transform=\"translate(152.2343754088665,45.53076660561146)\" d=\"M2.7386127875258306,0A2.7386127875258306,2.7386127875258306,0,1,1,-2.7386127875258306,0A2.7386127875258306,2.7386127875258306,0,1,1,2.7386127875258306,0\" fill=\"red\" stroke-width=\"2\" opacity=\"0.7\"></path><path aria-label=\"x: -1.64380935296; y: 0.0489540842543\" role=\"graphics-symbol\" aria-roledescription=\"circle\" transform=\"translate(47.12381294073036,148.7761478936421)\" d=\"M2.7386127875258306,0A2.7386127875258306,2.7386127875258306,0,1,1,-2.7386127875258306,0A2.7386127875258306,2.7386127875258306,0,1,1,2.7386127875258306,0\" fill=\"red\" stroke-width=\"2\" opacity=\"0.7\"></path><path aria-label=\"x: 0.989782699799; y: 1.56101417442\" role=\"graphics-symbol\" aria-roledescription=\"circle\" transform=\"translate(99.7956539959812,110.97464563954698)\" d=\"M2.7386127875258306,0A2.7386127875258306,2.7386127875258306,0,1,1,-2.7386127875258306,0A2.7386127875258306,2.7386127875258306,0,1,1,2.7386127875258306,0\" fill=\"red\" stroke-width=\"2\" opacity=\"0.7\"></path><path aria-label=\"x: 2.24732253432; y: 2.65492868483\" role=\"graphics-symbol\" aria-roledescription=\"circle\" transform=\"translate(124.94645068639126,83.62678287924012)\" d=\"M2.7386127875258306,0A2.7386127875258306,2.7386127875258306,0,1,1,-2.7386127875258306,0A2.7386127875258306,2.7386127875258306,0,1,1,2.7386127875258306,0\" fill=\"red\" stroke-width=\"2\" opacity=\"0.7\"></path><path aria-label=\"x: -0.856790493167; y: 2.1318976801\" role=\"graphics-symbol\" aria-roledescription=\"circle\" transform=\"translate(62.86419013666886,96.70255799749832)\" d=\"M2.7386127875258306,0A2.7386127875258306,2.7386127875258306,0,1,1,-2.7386127875258306,0A2.7386127875258306,2.7386127875258306,0,1,1,2.7386127875258306,0\" fill=\"red\" stroke-width=\"2\" opacity=\"0.7\"></path><path aria-label=\"x: 0.817225464434; y: 2.04923994524\" role=\"graphics-symbol\" aria-roledescription=\"circle\" transform=\"translate(96.3445092886723,98.76900136908647)\" d=\"M2.7386127875258306,0A2.7386127875258306,2.7386127875258306,0,1,1,-2.7386127875258306,0A2.7386127875258306,2.7386127875258306,0,1,1,2.7386127875258306,0\" fill=\"red\" stroke-width=\"2\" opacity=\"0.7\"></path><path aria-label=\"x: 1.16371419371; y: 1.32610327819\" role=\"graphics-symbol\" aria-roledescription=\"circle\" transform=\"translate(103.27428387420173,116.847418045248)\" d=\"M2.7386127875258306,0A2.7386127875258306,2.7386127875258306,0,1,1,-2.7386127875258306,0A2.7386127875258306,2.7386127875258306,0,1,1,2.7386127875258306,0\" fill=\"red\" stroke-width=\"2\" opacity=\"0.7\"></path><path aria-label=\"x: 3.40014792644; y: 4.80975883519\" role=\"graphics-symbol\" aria-roledescription=\"circle\" transform=\"translate(148.0029585288766,29.756029120351847)\" d=\"M2.7386127875258306,0A2.7386127875258306,2.7386127875258306,0,1,1,-2.7386127875258306,0A2.7386127875258306,2.7386127875258306,0,1,1,2.7386127875258306,0\" fill=\"red\" stroke-width=\"2\" opacity=\"0.7\"></path><path aria-label=\"x: 0.812863371997; y: 3.04759858242\" role=\"graphics-symbol\" aria-roledescription=\"circle\" transform=\"translate(96.25726743994585,73.81003543943292)\" d=\"M2.7386127875258306,0A2.7386127875258306,2.7386127875258306,0,1,1,-2.7386127875258306,0A2.7386127875258306,2.7386127875258306,0,1,1,2.7386127875258306,0\" fill=\"red\" stroke-width=\"2\" opacity=\"0.7\"></path><path aria-label=\"x: 2.37040079888; y: 3.11417899718\" role=\"graphics-symbol\" aria-roledescription=\"circle\" transform=\"translate(127.40801597751043,72.14552507039154)\" d=\"M2.7386127875258306,0A2.7386127875258306,2.7386127875258306,0,1,1,-2.7386127875258306,0A2.7386127875258306,2.7386127875258306,0,1,1,2.7386127875258306,0\" fill=\"red\" stroke-width=\"2\" opacity=\"0.7\"></path><path aria-label=\"x: 1.72697634852; y: 2.43260367834\" role=\"graphics-symbol\" aria-roledescription=\"circle\" transform=\"translate(114.53952697037244,89.18490804150095)\" d=\"M2.7386127875258306,0A2.7386127875258306,2.7386127875258306,0,1,1,-2.7386127875258306,0A2.7386127875258306,2.7386127875258306,0,1,1,2.7386127875258306,0\" fill=\"red\" stroke-width=\"2\" opacity=\"0.7\"></path><path aria-label=\"x: 3.00313042647; y: 3.53577971364\" role=\"graphics-symbol\" aria-roledescription=\"circle\" transform=\"translate(140.06260852942302,61.60550715893387)\" d=\"M2.7386127875258306,0A2.7386127875258306,2.7386127875258306,0,1,1,-2.7386127875258306,0A2.7386127875258306,2.7386127875258306,0,1,1,2.7386127875258306,0\" fill=\"red\" stroke-width=\"2\" opacity=\"0.7\"></path><path aria-label=\"x: 2.87486238072; y: 3.47865549359\" role=\"graphics-symbol\" aria-roledescription=\"circle\" transform=\"translate(137.4972476143697,63.03361266014702)\" d=\"M2.7386127875258306,0A2.7386127875258306,2.7386127875258306,0,1,1,-2.7386127875258306,0A2.7386127875258306,2.7386127875258306,0,1,1,2.7386127875258306,0\" fill=\"red\" stroke-width=\"2\" opacity=\"0.7\"></path><path aria-label=\"x: 0.86634884457; y: 1.3088731102\" role=\"graphics-symbol\" aria-roledescription=\"circle\" transform=\"translate(97.32697689140839,117.27817224504737)\" d=\"M2.7386127875258306,0A2.7386127875258306,2.7386127875258306,0,1,1,-2.7386127875258306,0A2.7386127875258306,2.7386127875258306,0,1,1,2.7386127875258306,0\" fill=\"red\" stroke-width=\"2\" opacity=\"0.7\"></path><path aria-label=\"x: 2.68671652775; y: 2.88688085539\" role=\"graphics-symbol\" aria-roledescription=\"circle\" transform=\"translate(133.73433055494988,77.82797861531124)\" d=\"M2.7386127875258306,0A2.7386127875258306,2.7386127875258306,0,1,1,-2.7386127875258306,0A2.7386127875258306,2.7386127875258306,0,1,1,2.7386127875258306,0\" fill=\"red\" stroke-width=\"2\" opacity=\"0.7\"></path><path aria-label=\"x: 0.750403617586; y: 2.70547910031\" role=\"graphics-symbol\" aria-roledescription=\"circle\" transform=\"translate(95.00807235172836,82.36302249233418)\" d=\"M2.7386127875258306,0A2.7386127875258306,2.7386127875258306,0,1,1,-2.7386127875258306,0A2.7386127875258306,2.7386127875258306,0,1,1,2.7386127875258306,0\" fill=\"red\" stroke-width=\"2\" opacity=\"0.7\"></path><path aria-label=\"x: 2.96804423355; y: 3.96298145236\" role=\"graphics-symbol\" aria-roledescription=\"circle\" transform=\"translate(139.36088467099466,50.92546369093185)\" d=\"M2.7386127875258306,0A2.7386127875258306,2.7386127875258306,0,1,1,-2.7386127875258306,0A2.7386127875258306,2.7386127875258306,0,1,1,2.7386127875258306,0\" fill=\"red\" stroke-width=\"2\" opacity=\"0.7\"></path><path aria-label=\"x: 2.11119326321; y: 1.53460699319\" role=\"graphics-symbol\" aria-roledescription=\"circle\" transform=\"translate(122.22386526425124,111.63482517030052)\" d=\"M2.7386127875258306,0A2.7386127875258306,2.7386127875258306,0,1,1,-2.7386127875258306,0A2.7386127875258306,2.7386127875258306,0,1,1,2.7386127875258306,0\" fill=\"red\" stroke-width=\"2\" opacity=\"0.7\"></path><path aria-label=\"x: 2.46885735065; y: 2.72379284565\" role=\"graphics-symbol\" aria-roledescription=\"circle\" transform=\"translate(129.37714701308002,81.90517885870838)\" d=\"M2.7386127875258306,0A2.7386127875258306,2.7386127875258306,0,1,1,-2.7386127875258306,0A2.7386127875258306,2.7386127875258306,0,1,1,2.7386127875258306,0\" fill=\"red\" stroke-width=\"2\" opacity=\"0.7\"></path><path aria-label=\"x: 0.0258739299234; y: 1.41914410453\" role=\"graphics-symbol\" aria-roledescription=\"circle\" transform=\"translate(80.517478598467,114.52139738680533)\" d=\"M2.7386127875258306,0A2.7386127875258306,2.7386127875258306,0,1,1,-2.7386127875258306,0A2.7386127875258306,2.7386127875258306,0,1,1,2.7386127875258306,0\" fill=\"red\" stroke-width=\"2\" opacity=\"0.7\"></path><path aria-label=\"x: -0.120980493617; y: -1.85094601734\" role=\"graphics-symbol\" aria-roledescription=\"circle\" transform=\"translate(77.5803901276631,196.27365043357216)\" d=\"M2.7386127875258306,0A2.7386127875258306,2.7386127875258306,0,1,1,-2.7386127875258306,0A2.7386127875258306,2.7386127875258306,0,1,1,2.7386127875258306,0\" fill=\"red\" stroke-width=\"2\" opacity=\"0.7\"></path><path aria-label=\"x: 0.725447797569; y: 1.64859568576\" role=\"graphics-symbol\" aria-roledescription=\"circle\" transform=\"translate(94.50895595138454,108.78510785605151)\" d=\"M2.7386127875258306,0A2.7386127875258306,2.7386127875258306,0,1,1,-2.7386127875258306,0A2.7386127875258306,2.7386127875258306,0,1,1,2.7386127875258306,0\" fill=\"red\" stroke-width=\"2\" opacity=\"0.7\"></path><path aria-label=\"x: 0.0900375082848; y: 1.89256547921\" role=\"graphics-symbol\" aria-roledescription=\"circle\" transform=\"translate(81.80075016569506,102.68586301982943)\" d=\"M2.7386127875258306,0A2.7386127875258306,2.7386127875258306,0,1,1,-2.7386127875258306,0A2.7386127875258306,2.7386127875258306,0,1,1,2.7386127875258306,0\" fill=\"red\" stroke-width=\"2\" opacity=\"0.7\"></path><path aria-label=\"x: 0.121894303926; y: 1.91130480562\" role=\"graphics-symbol\" aria-roledescription=\"circle\" transform=\"translate(82.4378860785286,102.21737985955954)\" d=\"M2.7386127875258306,0A2.7386127875258306,2.7386127875258306,0,1,1,-2.7386127875258306,0A2.7386127875258306,2.7386127875258306,0,1,1,2.7386127875258306,0\" fill=\"red\" stroke-width=\"2\" opacity=\"0.7\"></path><path aria-label=\"x: -0.200017652887; y: 2.38536345597\" role=\"graphics-symbol\" aria-roledescription=\"circle\" transform=\"translate(75.99964694226097,90.36591360078776)\" d=\"M2.7386127875258306,0A2.7386127875258306,2.7386127875258306,0,1,1,-2.7386127875258306,0A2.7386127875258306,2.7386127875258306,0,1,1,2.7386127875258306,0\" fill=\"red\" stroke-width=\"2\" opacity=\"0.7\"></path><path aria-label=\"x: 2.04829173304; y: 2.50838548115\" role=\"graphics-symbol\" aria-roledescription=\"circle\" transform=\"translate(120.96583466089274,87.29036297115269)\" d=\"M2.7386127875258306,0A2.7386127875258306,2.7386127875258306,0,1,1,-2.7386127875258306,0A2.7386127875258306,2.7386127875258306,0,1,1,2.7386127875258306,0\" fill=\"red\" stroke-width=\"2\" opacity=\"0.7\"></path><path aria-label=\"x: -1.34408175905; y: -0.322777499762\" role=\"graphics-symbol\" aria-roledescription=\"circle\" transform=\"translate(53.11836481899267,158.06943749405505)\" d=\"M2.7386127875258306,0A2.7386127875258306,2.7386127875258306,0,1,1,-2.7386127875258306,0A2.7386127875258306,2.7386127875258306,0,1,1,2.7386127875258306,0\" fill=\"red\" stroke-width=\"2\" opacity=\"0.7\"></path><path aria-label=\"x: -1.74476825717; y: 0.504611589434\" role=\"graphics-symbol\" aria-roledescription=\"circle\" transform=\"translate(45.10463485651341,137.38471026414913)\" d=\"M2.7386127875258306,0A2.7386127875258306,2.7386127875258306,0,1,1,-2.7386127875258306,0A2.7386127875258306,2.7386127875258306,0,1,1,2.7386127875258306,0\" fill=\"red\" stroke-width=\"2\" opacity=\"0.7\"></path><path aria-label=\"x: -0.062722128109; y: 1.89628727413\" role=\"graphics-symbol\" aria-roledescription=\"circle\" transform=\"translate(78.74555743782075,102.59281814663912)\" d=\"M2.7386127875258306,0A2.7386127875258306,2.7386127875258306,0,1,1,-2.7386127875258306,0A2.7386127875258306,2.7386127875258306,0,1,1,2.7386127875258306,0\" fill=\"red\" stroke-width=\"2\" opacity=\"0.7\"></path><path aria-label=\"x: -1.10936812062; y: 0.635317108378\" role=\"graphics-symbol\" aria-roledescription=\"circle\" transform=\"translate(57.81263758754084,134.11707229056162)\" d=\"M2.7386127875258306,0A2.7386127875258306,2.7386127875258306,0,1,1,-2.7386127875258306,0A2.7386127875258306,2.7386127875258306,0,1,1,2.7386127875258306,0\" fill=\"red\" stroke-width=\"2\" opacity=\"0.7\"></path><path aria-label=\"x: 0.447234537359; y: 1.69578896273\" role=\"graphics-symbol\" aria-roledescription=\"circle\" transform=\"translate(88.94469074718806,107.60527593165014)\" d=\"M2.7386127875258306,0A2.7386127875258306,2.7386127875258306,0,1,1,-2.7386127875258306,0A2.7386127875258306,2.7386127875258306,0,1,1,2.7386127875258306,0\" fill=\"red\" stroke-width=\"2\" opacity=\"0.7\"></path><path aria-label=\"x: 2.41160304137; y: 1.70887137471\" role=\"graphics-symbol\" aria-roledescription=\"circle\" transform=\"translate(128.23206082740242,107.27821563227553)\" d=\"M2.7386127875258306,0A2.7386127875258306,2.7386127875258306,0,1,1,-2.7386127875258306,0A2.7386127875258306,2.7386127875258306,0,1,1,2.7386127875258306,0\" fill=\"red\" stroke-width=\"2\" opacity=\"0.7\"></path><path aria-label=\"x: 3.28692427939; y: 2.01605397224\" role=\"graphics-symbol\" aria-roledescription=\"circle\" transform=\"translate(145.73848558788254,99.59865069406048)\" d=\"M2.7386127875258306,0A2.7386127875258306,2.7386127875258306,0,1,1,-2.7386127875258306,0A2.7386127875258306,2.7386127875258306,0,1,1,2.7386127875258306,0\" fill=\"red\" stroke-width=\"2\" opacity=\"0.7\"></path><path aria-label=\"x: 3.48489488929; y: 3.71432599678\" role=\"graphics-symbol\" aria-roledescription=\"circle\" transform=\"translate(149.69789778587744,57.14185008057227)\" d=\"M2.7386127875258306,0A2.7386127875258306,2.7386127875258306,0,1,1,-2.7386127875258306,0A2.7386127875258306,2.7386127875258306,0,1,1,2.7386127875258306,0\" fill=\"red\" stroke-width=\"2\" opacity=\"0.7\"></path><path aria-label=\"x: 0.427697845282; y: 3.03924326358\" role=\"graphics-symbol\" aria-roledescription=\"circle\" transform=\"translate(88.55395690564197,74.01891841045394)\" d=\"M2.7386127875258306,0A2.7386127875258306,2.7386127875258306,0,1,1,-2.7386127875258306,0A2.7386127875258306,2.7386127875258306,0,1,1,2.7386127875258306,0\" fill=\"red\" stroke-width=\"2\" opacity=\"0.7\"></path><path aria-label=\"x: 0.994466049252; y: 3.4233919191\" role=\"graphics-symbol\" aria-roledescription=\"circle\" transform=\"translate(99.889320985043,64.4152020224539)\" d=\"M2.7386127875258306,0A2.7386127875258306,2.7386127875258306,0,1,1,-2.7386127875258306,0A2.7386127875258306,2.7386127875258306,0,1,1,2.7386127875258306,0\" fill=\"red\" stroke-width=\"2\" opacity=\"0.7\"></path><path aria-label=\"x: 0.548940684608; y: 0.416303125188\" role=\"graphics-symbol\" aria-roledescription=\"circle\" transform=\"translate(90.97881369215264,139.59242187029074)\" d=\"M2.7386127875258306,0A2.7386127875258306,2.7386127875258306,0,1,1,-2.7386127875258306,0A2.7386127875258306,2.7386127875258306,0,1,1,2.7386127875258306,0\" fill=\"red\" stroke-width=\"2\" opacity=\"0.7\"></path><path aria-label=\"x: 0.641090513; y: 1.73515042555\" role=\"graphics-symbol\" aria-roledescription=\"circle\" transform=\"translate(92.82181026000082,106.62123936117302)\" d=\"M2.7386127875258306,0A2.7386127875258306,2.7386127875258306,0,1,1,-2.7386127875258306,0A2.7386127875258306,2.7386127875258306,0,1,1,2.7386127875258306,0\" fill=\"red\" stroke-width=\"2\" opacity=\"0.7\"></path><path aria-label=\"x: 4.75616831347; y: 3.08382736787\" role=\"graphics-symbol\" aria-roledescription=\"circle\" transform=\"translate(175.12336626934638,72.9043158031385)\" d=\"M2.7386127875258306,0A2.7386127875258306,2.7386127875258306,0,1,1,-2.7386127875258306,0A2.7386127875258306,2.7386127875258306,0,1,1,2.7386127875258306,0\" fill=\"red\" stroke-width=\"2\" opacity=\"0.7\"></path><path aria-label=\"x: 0.730010691236; y: 1.18878393562\" role=\"graphics-symbol\" aria-roledescription=\"circle\" transform=\"translate(94.60021382472647,120.28040160960565)\" d=\"M2.7386127875258306,0A2.7386127875258306,2.7386127875258306,0,1,1,-2.7386127875258306,0A2.7386127875258306,2.7386127875258306,0,1,1,2.7386127875258306,0\" fill=\"red\" stroke-width=\"2\" opacity=\"0.7\"></path><path aria-label=\"x: 0.294083737564; y: 1.62500426076\" role=\"graphics-symbol\" aria-roledescription=\"circle\" transform=\"translate(85.88167475128611,109.37489348097135)\" d=\"M2.7386127875258306,0A2.7386127875258306,2.7386127875258306,0,1,1,-2.7386127875258306,0A2.7386127875258306,2.7386127875258306,0,1,1,2.7386127875258306,0\" fill=\"red\" stroke-width=\"2\" opacity=\"0.7\"></path><path aria-label=\"x: -1.02454407262; y: 0.845625223981\" role=\"graphics-symbol\" aria-roledescription=\"circle\" transform=\"translate(59.5091185475928,128.85936940048376)\" d=\"M2.7386127875258306,0A2.7386127875258306,2.7386127875258306,0,1,1,-2.7386127875258306,0A2.7386127875258306,2.7386127875258306,0,1,1,2.7386127875258306,0\" fill=\"red\" stroke-width=\"2\" opacity=\"0.7\"></path><path aria-label=\"x: -0.0618327412193; y: 1.61580283208\" role=\"graphics-symbol\" aria-roledescription=\"circle\" transform=\"translate(78.763345175615,109.60492919801675)\" d=\"M2.7386127875258306,0A2.7386127875258306,2.7386127875258306,0,1,1,-2.7386127875258306,0A2.7386127875258306,2.7386127875258306,0,1,1,2.7386127875258306,0\" fill=\"red\" stroke-width=\"2\" opacity=\"0.7\"></path><path aria-label=\"x: 2.22524279391; y: 2.48854787403\" role=\"graphics-symbol\" aria-roledescription=\"circle\" transform=\"translate(124.50485587816718,87.78630314933183)\" d=\"M2.7386127875258306,0A2.7386127875258306,2.7386127875258306,0,1,1,-2.7386127875258306,0A2.7386127875258306,2.7386127875258306,0,1,1,2.7386127875258306,0\" fill=\"red\" stroke-width=\"2\" opacity=\"0.7\"></path><path aria-label=\"x: 3.76085951664; y: 3.90737950196\" role=\"graphics-symbol\" aria-roledescription=\"circle\" transform=\"translate(155.21719033281883,52.31551245092423)\" d=\"M2.7386127875258306,0A2.7386127875258306,2.7386127875258306,0,1,1,-2.7386127875258306,0A2.7386127875258306,2.7386127875258306,0,1,1,2.7386127875258306,0\" fill=\"red\" stroke-width=\"2\" opacity=\"0.7\"></path><path aria-label=\"x: 2.93801143782; y: 3.72452367495\" role=\"graphics-symbol\" aria-roledescription=\"circle\" transform=\"translate(138.76022875642087,56.88690812636226)\" d=\"M2.7386127875258306,0A2.7386127875258306,2.7386127875258306,0,1,1,-2.7386127875258306,0A2.7386127875258306,2.7386127875258306,0,1,1,2.7386127875258306,0\" fill=\"red\" stroke-width=\"2\" opacity=\"0.7\"></path><path aria-label=\"x: 1.33245555515; y: 4.27564445956\" role=\"graphics-symbol\" aria-roledescription=\"circle\" transform=\"translate(106.64911110294555,43.10888851102712)\" d=\"M2.7386127875258306,0A2.7386127875258306,2.7386127875258306,0,1,1,-2.7386127875258306,0A2.7386127875258306,2.7386127875258306,0,1,1,2.7386127875258306,0\" fill=\"red\" stroke-width=\"2\" opacity=\"0.7\"></path><path aria-label=\"x: 0.865696584693; y: 2.2167936597\" role=\"graphics-symbol\" aria-roledescription=\"circle\" transform=\"translate(97.31393169386816,94.58015850743865)\" d=\"M2.7386127875258306,0A2.7386127875258306,2.7386127875258306,0,1,1,-2.7386127875258306,0A2.7386127875258306,2.7386127875258306,0,1,1,2.7386127875258306,0\" fill=\"red\" stroke-width=\"2\" opacity=\"0.7\"></path><path aria-label=\"x: -0.428461184236; y: 1.40344758634\" role=\"graphics-symbol\" aria-roledescription=\"circle\" transform=\"translate(71.43077631527126,114.913810341579)\" d=\"M2.7386127875258306,0A2.7386127875258306,2.7386127875258306,0,1,1,-2.7386127875258306,0A2.7386127875258306,2.7386127875258306,0,1,1,2.7386127875258306,0\" fill=\"red\" stroke-width=\"2\" opacity=\"0.7\"></path><path aria-label=\"x: 0.0286237185838; y: -0.296804936203\" role=\"graphics-symbol\" aria-roledescription=\"circle\" transform=\"translate(80.57247437167699,157.42012340507512)\" d=\"M2.7386127875258306,0A2.7386127875258306,2.7386127875258306,0,1,1,-2.7386127875258306,0A2.7386127875258306,2.7386127875258306,0,1,1,2.7386127875258306,0\" fill=\"red\" stroke-width=\"2\" opacity=\"0.7\"></path><path aria-label=\"x: -0.626678097538; y: 0.863241356934\" role=\"graphics-symbol\" aria-roledescription=\"circle\" transform=\"translate(67.46643804923407,128.41896607664873)\" d=\"M2.7386127875258306,0A2.7386127875258306,2.7386127875258306,0,1,1,-2.7386127875258306,0A2.7386127875258306,2.7386127875258306,0,1,1,2.7386127875258306,0\" fill=\"red\" stroke-width=\"2\" opacity=\"0.7\"></path><path aria-label=\"x: 1.32615130008; y: -0.252340984546\" role=\"graphics-symbol\" aria-roledescription=\"circle\" transform=\"translate(106.52302600153605,156.3085246136382)\" d=\"M2.7386127875258306,0A2.7386127875258306,2.7386127875258306,0,1,1,-2.7386127875258306,0A2.7386127875258306,2.7386127875258306,0,1,1,2.7386127875258306,0\" fill=\"red\" stroke-width=\"2\" opacity=\"0.7\"></path><path aria-label=\"x: 2.49963485122; y: 3.1238543378\" role=\"graphics-symbol\" aria-roledescription=\"circle\" transform=\"translate(129.9926970244332,71.90364155504273)\" d=\"M2.7386127875258306,0A2.7386127875258306,2.7386127875258306,0,1,1,-2.7386127875258306,0A2.7386127875258306,2.7386127875258306,0,1,1,2.7386127875258306,0\" fill=\"red\" stroke-width=\"2\" opacity=\"0.7\"></path><path aria-label=\"x: 1.37432812521; y: 1.99517494167\" role=\"graphics-symbol\" aria-roledescription=\"circle\" transform=\"translate(107.48656250418871,100.12062645825996)\" d=\"M2.7386127875258306,0A2.7386127875258306,2.7386127875258306,0,1,1,-2.7386127875258306,0A2.7386127875258306,2.7386127875258306,0,1,1,2.7386127875258306,0\" fill=\"red\" stroke-width=\"2\" opacity=\"0.7\"></path><path aria-label=\"x: 0.046364089134; y: 1.33375917822\" role=\"graphics-symbol\" aria-roledescription=\"circle\" transform=\"translate(80.92728178268018,116.65602054450459)\" d=\"M2.7386127875258306,0A2.7386127875258306,2.7386127875258306,0,1,1,-2.7386127875258306,0A2.7386127875258306,2.7386127875258306,0,1,1,2.7386127875258306,0\" fill=\"red\" stroke-width=\"2\" opacity=\"0.7\"></path><path aria-label=\"x: 2.04013656123; y: 4.04936999342\" role=\"graphics-symbol\" aria-roledescription=\"circle\" transform=\"translate(120.80273122462609,48.76575016454301)\" d=\"M2.7386127875258306,0A2.7386127875258306,2.7386127875258306,0,1,1,-2.7386127875258306,0A2.7386127875258306,2.7386127875258306,0,1,1,2.7386127875258306,0\" fill=\"red\" stroke-width=\"2\" opacity=\"0.7\"></path><path aria-label=\"x: 1.14837787158; y: 0.924351200573\" role=\"graphics-symbol\" aria-roledescription=\"circle\" transform=\"translate(102.96755743167498,126.89121998566924)\" d=\"M2.7386127875258306,0A2.7386127875258306,2.7386127875258306,0,1,1,-2.7386127875258306,0A2.7386127875258306,2.7386127875258306,0,1,1,2.7386127875258306,0\" fill=\"red\" stroke-width=\"2\" opacity=\"0.7\"></path><path aria-label=\"x: -1.94943748643; y: 1.46226858683\" role=\"graphics-symbol\" aria-roledescription=\"circle\" transform=\"translate(41.01125027138334,113.4432853291571)\" d=\"M2.7386127875258306,0A2.7386127875258306,2.7386127875258306,0,1,1,-2.7386127875258306,0A2.7386127875258306,2.7386127875258306,0,1,1,2.7386127875258306,0\" fill=\"red\" stroke-width=\"2\" opacity=\"0.7\"></path><path aria-label=\"x: -2.11466743928; y: -0.249605177108\" role=\"graphics-symbol\" aria-roledescription=\"circle\" transform=\"translate(37.70665121434112,156.2401294276887)\" d=\"M2.7386127875258306,0A2.7386127875258306,2.7386127875258306,0,1,1,-2.7386127875258306,0A2.7386127875258306,2.7386127875258306,0,1,1,2.7386127875258306,0\" fill=\"red\" stroke-width=\"2\" opacity=\"0.7\"></path><path aria-label=\"x: 1.84939070583; y: 4.19705364321\" role=\"graphics-symbol\" aria-roledescription=\"circle\" transform=\"translate(116.98781411661142,45.073658919772306)\" d=\"M2.7386127875258306,0A2.7386127875258306,2.7386127875258306,0,1,1,-2.7386127875258306,0A2.7386127875258306,2.7386127875258306,0,1,1,2.7386127875258306,0\" fill=\"red\" stroke-width=\"2\" opacity=\"0.7\"></path><path aria-label=\"x: 0.747100137104; y: 0.362776981462\" role=\"graphics-symbol\" aria-roledescription=\"circle\" transform=\"translate(94.94200274207057,140.930575463447)\" d=\"M2.7386127875258306,0A2.7386127875258306,2.7386127875258306,0,1,1,-2.7386127875258306,0A2.7386127875258306,2.7386127875258306,0,1,1,2.7386127875258306,0\" fill=\"red\" stroke-width=\"2\" opacity=\"0.7\"></path><path aria-label=\"x: 2.00164261309; y: 2.14586233985\" role=\"graphics-symbol\" aria-roledescription=\"circle\" transform=\"translate(120.03285226183304,96.35344150374405)\" d=\"M2.7386127875258306,0A2.7386127875258306,2.7386127875258306,0,1,1,-2.7386127875258306,0A2.7386127875258306,2.7386127875258306,0,1,1,2.7386127875258306,0\" fill=\"red\" stroke-width=\"2\" opacity=\"0.7\"></path><path aria-label=\"x: -0.128470750203; y: 1.49095290183\" role=\"graphics-symbol\" aria-roledescription=\"circle\" transform=\"translate(77.43058499593036,112.72617745426929)\" d=\"M2.7386127875258306,0A2.7386127875258306,2.7386127875258306,0,1,1,-2.7386127875258306,0A2.7386127875258306,2.7386127875258306,0,1,1,2.7386127875258306,0\" fill=\"red\" stroke-width=\"2\" opacity=\"0.7\"></path><path aria-label=\"x: -0.313673662651; y: 2.38512352105\" role=\"graphics-symbol\" aria-roledescription=\"circle\" transform=\"translate(73.72652674697744,90.37191197373238)\" d=\"M2.7386127875258306,0A2.7386127875258306,2.7386127875258306,0,1,1,-2.7386127875258306,0A2.7386127875258306,2.7386127875258306,0,1,1,2.7386127875258306,0\" fill=\"red\" stroke-width=\"2\" opacity=\"0.7\"></path><path aria-label=\"x: -0.159871877063; y: 0.61340540812\" role=\"graphics-symbol\" aria-roledescription=\"circle\" transform=\"translate(76.80256245874952,134.6648647970083)\" d=\"M2.7386127875258306,0A2.7386127875258306,2.7386127875258306,0,1,1,-2.7386127875258306,0A2.7386127875258306,2.7386127875258306,0,1,1,2.7386127875258306,0\" fill=\"red\" stroke-width=\"2\" opacity=\"0.7\"></path><path aria-label=\"x: 4.14272102844; y: 3.6554434321\" role=\"graphics-symbol\" aria-roledescription=\"circle\" transform=\"translate(162.8544205687307,58.613914197436934)\" d=\"M2.7386127875258306,0A2.7386127875258306,2.7386127875258306,0,1,1,-2.7386127875258306,0A2.7386127875258306,2.7386127875258306,0,1,1,2.7386127875258306,0\" fill=\"red\" stroke-width=\"2\" opacity=\"0.7\"></path><path aria-label=\"x: 2.52670949571; y: 3.68297313429\" role=\"graphics-symbol\" aria-roledescription=\"circle\" transform=\"translate(130.53418991428543,57.925671642790945)\" d=\"M2.7386127875258306,0A2.7386127875258306,2.7386127875258306,0,1,1,-2.7386127875258306,0A2.7386127875258306,2.7386127875258306,0,1,1,2.7386127875258306,0\" fill=\"red\" stroke-width=\"2\" opacity=\"0.7\"></path><path aria-label=\"x: -1.38325016182; y: 1.36202382962\" role=\"graphics-symbol\" aria-roledescription=\"circle\" transform=\"translate(52.33499676365432,115.94940425952882)\" d=\"M2.7386127875258306,0A2.7386127875258306,2.7386127875258306,0,1,1,-2.7386127875258306,0A2.7386127875258306,2.7386127875258306,0,1,1,2.7386127875258306,0\" fill=\"red\" stroke-width=\"2\" opacity=\"0.7\"></path><path aria-label=\"x: 0.0808250731814; y: 1.55360557559\" role=\"graphics-symbol\" aria-roledescription=\"circle\" transform=\"translate(81.61650146362749,111.15986061033398)\" d=\"M2.7386127875258306,0A2.7386127875258306,2.7386127875258306,0,1,1,-2.7386127875258306,0A2.7386127875258306,2.7386127875258306,0,1,1,2.7386127875258306,0\" fill=\"red\" stroke-width=\"2\" opacity=\"0.7\"></path><path aria-label=\"x: -0.615014407503; y: 0.123974707743\" role=\"graphics-symbol\" aria-roledescription=\"circle\" transform=\"translate(67.69971184994577,146.90063230642323)\" d=\"M2.7386127875258306,0A2.7386127875258306,2.7386127875258306,0,1,1,-2.7386127875258306,0A2.7386127875258306,2.7386127875258306,0,1,1,2.7386127875258306,0\" fill=\"red\" stroke-width=\"2\" opacity=\"0.7\"></path><path aria-label=\"x: 2.57261003642; y: 3.24052378584\" role=\"graphics-symbol\" aria-roledescription=\"circle\" transform=\"translate(131.4522007284139,68.98690535409828)\" d=\"M2.7386127875258306,0A2.7386127875258306,2.7386127875258306,0,1,1,-2.7386127875258306,0A2.7386127875258306,2.7386127875258306,0,1,1,2.7386127875258306,0\" fill=\"red\" stroke-width=\"2\" opacity=\"0.7\"></path><path aria-label=\"x: 0.901856206712; y: 2.54615378959\" role=\"graphics-symbol\" aria-roledescription=\"circle\" transform=\"translate(98.03712413424176,86.34615526014838)\" d=\"M2.7386127875258306,0A2.7386127875258306,2.7386127875258306,0,1,1,-2.7386127875258306,0A2.7386127875258306,2.7386127875258306,0,1,1,2.7386127875258306,0\" fill=\"red\" stroke-width=\"2\" opacity=\"0.7\"></path><path aria-label=\"x: 3.7331537209; y: 3.85091419886\" role=\"graphics-symbol\" aria-roledescription=\"circle\" transform=\"translate(154.66307441796025,53.72714502843272)\" d=\"M2.7386127875258306,0A2.7386127875258306,2.7386127875258306,0,1,1,-2.7386127875258306,0A2.7386127875258306,2.7386127875258306,0,1,1,2.7386127875258306,0\" fill=\"red\" stroke-width=\"2\" opacity=\"0.7\"></path><path aria-label=\"x: -0.543187693752; y: 1.76499802902\" role=\"graphics-symbol\" aria-roledescription=\"circle\" transform=\"translate(69.13624612496285,105.87504927455595)\" d=\"M2.7386127875258306,0A2.7386127875258306,2.7386127875258306,0,1,1,-2.7386127875258306,0A2.7386127875258306,2.7386127875258306,0,1,1,2.7386127875258306,0\" fill=\"red\" stroke-width=\"2\" opacity=\"0.7\"></path><path aria-label=\"x: 2.78798348597; y: 2.39733048495\" role=\"graphics-symbol\" aria-roledescription=\"circle\" transform=\"translate(135.75966971930777,90.06673787619361)\" d=\"M2.7386127875258306,0A2.7386127875258306,2.7386127875258306,0,1,1,-2.7386127875258306,0A2.7386127875258306,2.7386127875258306,0,1,1,2.7386127875258306,0\" fill=\"red\" stroke-width=\"2\" opacity=\"0.7\"></path><path aria-label=\"x: 0.529493902721; y: 2.55006766419\" role=\"graphics-symbol\" aria-roledescription=\"circle\" transform=\"translate(90.58987805441537,86.24830839514344)\" d=\"M2.7386127875258306,0A2.7386127875258306,2.7386127875258306,0,1,1,-2.7386127875258306,0A2.7386127875258306,2.7386127875258306,0,1,1,2.7386127875258306,0\" fill=\"red\" stroke-width=\"2\" opacity=\"0.7\"></path><path aria-label=\"x: 0.807470002274; y: 1.9485771614\" role=\"graphics-symbol\" aria-roledescription=\"circle\" transform=\"translate(96.14940004547238,101.28557096505601)\" d=\"M2.7386127875258306,0A2.7386127875258306,2.7386127875258306,0,1,1,-2.7386127875258306,0A2.7386127875258306,2.7386127875258306,0,1,1,2.7386127875258306,0\" fill=\"red\" stroke-width=\"2\" opacity=\"0.7\"></path><path aria-label=\"x: 2.00453143082; y: 2.13412269145\" role=\"graphics-symbol\" aria-roledescription=\"circle\" transform=\"translate(120.09062861640145,96.64693271377858)\" d=\"M2.7386127875258306,0A2.7386127875258306,2.7386127875258306,0,1,1,-2.7386127875258306,0A2.7386127875258306,2.7386127875258306,0,1,1,2.7386127875258306,0\" fill=\"red\" stroke-width=\"2\" opacity=\"0.7\"></path><path aria-label=\"x: -0.577254307701; y: -0.139858326849\" role=\"graphics-symbol\" aria-roledescription=\"circle\" transform=\"translate(68.4549138459842,153.4964581712357)\" d=\"M2.7386127875258306,0A2.7386127875258306,2.7386127875258306,0,1,1,-2.7386127875258306,0A2.7386127875258306,2.7386127875258306,0,1,1,2.7386127875258306,0\" fill=\"red\" stroke-width=\"2\" opacity=\"0.7\"></path><path aria-label=\"x: -3.37127799872; y: -0.660602884525\" role=\"graphics-symbol\" aria-roledescription=\"circle\" transform=\"translate(12.574440025622877,166.5150721131227)\" d=\"M2.7386127875258306,0A2.7386127875258306,2.7386127875258306,0,1,1,-2.7386127875258306,0A2.7386127875258306,2.7386127875258306,0,1,1,2.7386127875258306,0\" fill=\"red\" stroke-width=\"2\" opacity=\"0.7\"></path><path aria-label=\"x: 1.85255697823; y: 2.60191301443\" role=\"graphics-symbol\" aria-roledescription=\"circle\" transform=\"translate(117.05113956450532,84.95217463913588)\" d=\"M2.7386127875258306,0A2.7386127875258306,2.7386127875258306,0,1,1,-2.7386127875258306,0A2.7386127875258306,2.7386127875258306,0,1,1,2.7386127875258306,0\" fill=\"red\" stroke-width=\"2\" opacity=\"0.7\"></path><path aria-label=\"x: 3.37998854139; y: 4.31220084379\" role=\"graphics-symbol\" aria-roledescription=\"circle\" transform=\"translate(147.59977082771508,42.1949789052523)\" d=\"M2.7386127875258306,0A2.7386127875258306,2.7386127875258306,0,1,1,-2.7386127875258306,0A2.7386127875258306,2.7386127875258306,0,1,1,2.7386127875258306,0\" fill=\"red\" stroke-width=\"2\" opacity=\"0.7\"></path><path aria-label=\"x: -1.51115340914; y: 0.573532465691\" role=\"graphics-symbol\" aria-roledescription=\"circle\" transform=\"translate(49.77693181726022,135.66168835773217)\" d=\"M2.7386127875258306,0A2.7386127875258306,2.7386127875258306,0,1,1,-2.7386127875258306,0A2.7386127875258306,2.7386127875258306,0,1,1,2.7386127875258306,0\" fill=\"red\" stroke-width=\"2\" opacity=\"0.7\"></path><path aria-label=\"x: 0.646182227001; y: 1.11517437977\" role=\"graphics-symbol\" aria-roledescription=\"circle\" transform=\"translate(92.92364454001337,122.12064050580507)\" d=\"M2.7386127875258306,0A2.7386127875258306,2.7386127875258306,0,1,1,-2.7386127875258306,0A2.7386127875258306,2.7386127875258306,0,1,1,2.7386127875258306,0\" fill=\"red\" stroke-width=\"2\" opacity=\"0.7\"></path><path aria-label=\"x: -3.0385145479; y: -1.52617716048\" role=\"graphics-symbol\" aria-roledescription=\"circle\" transform=\"translate(19.229709041970686,188.15442901204338)\" d=\"M2.7386127875258306,0A2.7386127875258306,2.7386127875258306,0,1,1,-2.7386127875258306,0A2.7386127875258306,2.7386127875258306,0,1,1,2.7386127875258306,0\" fill=\"red\" stroke-width=\"2\" opacity=\"0.7\"></path><path aria-label=\"x: 3.21021117025; y: 3.15954018666\" role=\"graphics-symbol\" aria-roledescription=\"circle\" transform=\"translate(144.20422340500656,71.01149533357322)\" d=\"M2.7386127875258306,0A2.7386127875258306,2.7386127875258306,0,1,1,-2.7386127875258306,0A2.7386127875258306,2.7386127875258306,0,1,1,2.7386127875258306,0\" fill=\"red\" stroke-width=\"2\" opacity=\"0.7\"></path><path aria-label=\"x: 0.286749881367; y: 1.5701580418\" role=\"graphics-symbol\" aria-roledescription=\"circle\" transform=\"translate(85.734997627349,110.74604895510052)\" d=\"M2.7386127875258306,0A2.7386127875258306,2.7386127875258306,0,1,1,-2.7386127875258306,0A2.7386127875258306,2.7386127875258306,0,1,1,2.7386127875258306,0\" fill=\"red\" stroke-width=\"2\" opacity=\"0.7\"></path><path aria-label=\"x: 0.23486530034; y: 1.72381924899\" role=\"graphics-symbol\" aria-roledescription=\"circle\" transform=\"translate(84.69730600680212,106.90451877527885)\" d=\"M2.7386127875258306,0A2.7386127875258306,2.7386127875258306,0,1,1,-2.7386127875258306,0A2.7386127875258306,2.7386127875258306,0,1,1,2.7386127875258306,0\" fill=\"red\" stroke-width=\"2\" opacity=\"0.7\"></path><path aria-label=\"x: 0.506053548506; y: 2.21669426543\" role=\"graphics-symbol\" aria-roledescription=\"circle\" transform=\"translate(90.12107097012242,94.58264336432616)\" d=\"M2.7386127875258306,0A2.7386127875258306,2.7386127875258306,0,1,1,-2.7386127875258306,0A2.7386127875258306,2.7386127875258306,0,1,1,2.7386127875258306,0\" fill=\"red\" stroke-width=\"2\" opacity=\"0.7\"></path><path aria-label=\"x: 3.27424906946; y: 2.2737664143\" role=\"graphics-symbol\" aria-roledescription=\"circle\" transform=\"translate(145.48498138921283,93.15583964261877)\" d=\"M2.7386127875258306,0A2.7386127875258306,2.7386127875258306,0,1,1,-2.7386127875258306,0A2.7386127875258306,2.7386127875258306,0,1,1,2.7386127875258306,0\" fill=\"red\" stroke-width=\"2\" opacity=\"0.7\"></path><path aria-label=\"x: 1.32630803063; y: 2.64416431824\" role=\"graphics-symbol\" aria-roledescription=\"circle\" transform=\"translate(106.52616061260206,83.89589204397794)\" d=\"M2.7386127875258306,0A2.7386127875258306,2.7386127875258306,0,1,1,-2.7386127875258306,0A2.7386127875258306,2.7386127875258306,0,1,1,2.7386127875258306,0\" fill=\"red\" stroke-width=\"2\" opacity=\"0.7\"></path><path aria-label=\"x: -0.730293132805; y: 1.60287307398\" role=\"graphics-symbol\" aria-roledescription=\"circle\" transform=\"translate(65.3941373438995,109.92817315049659)\" d=\"M2.7386127875258306,0A2.7386127875258306,2.7386127875258306,0,1,1,-2.7386127875258306,0A2.7386127875258306,2.7386127875258306,0,1,1,2.7386127875258306,0\" fill=\"red\" stroke-width=\"2\" opacity=\"0.7\"></path><path aria-label=\"x: -0.679484086798; y: 0.567206730746\" role=\"graphics-symbol\" aria-roledescription=\"circle\" transform=\"translate(66.41031826403554,135.81983173136047)\" d=\"M2.7386127875258306,0A2.7386127875258306,2.7386127875258306,0,1,1,-2.7386127875258306,0A2.7386127875258306,2.7386127875258306,0,1,1,2.7386127875258306,0\" fill=\"red\" stroke-width=\"2\" opacity=\"0.7\"></path><path aria-label=\"x: 1.17660498138; y: 2.75922498248\" role=\"graphics-symbol\" aria-roledescription=\"circle\" transform=\"translate(103.53209962756415,81.01937543808259)\" d=\"M2.7386127875258306,0A2.7386127875258306,2.7386127875258306,0,1,1,-2.7386127875258306,0A2.7386127875258306,2.7386127875258306,0,1,1,2.7386127875258306,0\" fill=\"red\" stroke-width=\"2\" opacity=\"0.7\"></path><path aria-label=\"x: 3.72909020211; y: 3.81858980905\" role=\"graphics-symbol\" aria-roledescription=\"circle\" transform=\"translate(154.5818040421579,54.53525477383656)\" d=\"M2.7386127875258306,0A2.7386127875258306,2.7386127875258306,0,1,1,-2.7386127875258306,0A2.7386127875258306,2.7386127875258306,0,1,1,2.7386127875258306,0\" fill=\"red\" stroke-width=\"2\" opacity=\"0.7\"></path><path aria-label=\"x: -0.525135414078; y: 0.761987385498\" role=\"graphics-symbol\" aria-roledescription=\"circle\" transform=\"translate(69.49729171844791,130.9503153625563)\" d=\"M2.7386127875258306,0A2.7386127875258306,2.7386127875258306,0,1,1,-2.7386127875258306,0A2.7386127875258306,2.7386127875258306,0,1,1,2.7386127875258306,0\" fill=\"red\" stroke-width=\"2\" opacity=\"0.7\"></path><path aria-label=\"x: 3.17568295865; y: 3.1226435036\" role=\"graphics-symbol\" aria-roledescription=\"circle\" transform=\"translate(143.51365917298978,71.93391240988012)\" d=\"M2.7386127875258306,0A2.7386127875258306,2.7386127875258306,0,1,1,-2.7386127875258306,0A2.7386127875258306,2.7386127875258306,0,1,1,2.7386127875258306,0\" fill=\"red\" stroke-width=\"2\" opacity=\"0.7\"></path><path aria-label=\"x: -0.48075124085; y: 1.7663856135\" role=\"graphics-symbol\" aria-roledescription=\"circle\" transform=\"translate(70.38497518300481,105.84035966257534)\" d=\"M2.7386127875258306,0A2.7386127875258306,2.7386127875258306,0,1,1,-2.7386127875258306,0A2.7386127875258306,2.7386127875258306,0,1,1,2.7386127875258306,0\" fill=\"red\" stroke-width=\"2\" opacity=\"0.7\"></path><path aria-label=\"x: 0.756337999982; y: 1.46327246285\" role=\"graphics-symbol\" aria-roledescription=\"circle\" transform=\"translate(95.12675999963894,113.41818842868841)\" d=\"M2.7386127875258306,0A2.7386127875258306,2.7386127875258306,0,1,1,-2.7386127875258306,0A2.7386127875258306,2.7386127875258306,0,1,1,2.7386127875258306,0\" fill=\"red\" stroke-width=\"2\" opacity=\"0.7\"></path><path aria-label=\"x: 1.33820693577; y: 2.09302634582\" role=\"graphics-symbol\" aria-roledescription=\"circle\" transform=\"translate(106.76413871536236,97.67434135443955)\" d=\"M2.7386127875258306,0A2.7386127875258306,2.7386127875258306,0,1,1,-2.7386127875258306,0A2.7386127875258306,2.7386127875258306,0,1,1,2.7386127875258306,0\" fill=\"red\" stroke-width=\"2\" opacity=\"0.7\"></path><path aria-label=\"x: 1.10691696393; y: 2.08010802389\" role=\"graphics-symbol\" aria-roledescription=\"circle\" transform=\"translate(102.13833927861722,97.99729940273505)\" d=\"M2.7386127875258306,0A2.7386127875258306,2.7386127875258306,0,1,1,-2.7386127875258306,0A2.7386127875258306,2.7386127875258306,0,1,1,2.7386127875258306,0\" fill=\"red\" stroke-width=\"2\" opacity=\"0.7\"></path><path aria-label=\"x: 1.18423719267; y: 1.11474784447\" role=\"graphics-symbol\" aria-roledescription=\"circle\" transform=\"translate(103.68474385332998,122.13130388822702)\" d=\"M2.7386127875258306,0A2.7386127875258306,2.7386127875258306,0,1,1,-2.7386127875258306,0A2.7386127875258306,2.7386127875258306,0,1,1,2.7386127875258306,0\" fill=\"red\" stroke-width=\"2\" opacity=\"0.7\"></path><path aria-label=\"x: 3.70547473535; y: 4.38096306331\" role=\"graphics-symbol\" aria-roledescription=\"circle\" transform=\"translate(154.1094947069466,40.47592341716162)\" d=\"M2.7386127875258306,0A2.7386127875258306,2.7386127875258306,0,1,1,-2.7386127875258306,0A2.7386127875258306,2.7386127875258306,0,1,1,2.7386127875258306,0\" fill=\"red\" stroke-width=\"2\" opacity=\"0.7\"></path><path aria-label=\"x: 2.0105445667; y: 4.37409843361\" role=\"graphics-symbol\" aria-roledescription=\"circle\" transform=\"translate(120.21089133397642,40.647539159700116)\" d=\"M2.7386127875258306,0A2.7386127875258306,2.7386127875258306,0,1,1,-2.7386127875258306,0A2.7386127875258306,2.7386127875258306,0,1,1,2.7386127875258306,0\" fill=\"red\" stroke-width=\"2\" opacity=\"0.7\"></path><path aria-label=\"x: 4.32903542184; y: 5.24951504738\" role=\"graphics-symbol\" aria-roledescription=\"circle\" transform=\"translate(166.58070843687685,18.762123815537922)\" d=\"M2.7386127875258306,0A2.7386127875258306,2.7386127875258306,0,1,1,-2.7386127875258306,0A2.7386127875258306,2.7386127875258306,0,1,1,2.7386127875258306,0\" fill=\"red\" stroke-width=\"2\" opacity=\"0.7\"></path><path aria-label=\"x: 3.25914745192; y: 4.40587006047\" role=\"graphics-symbol\" aria-roledescription=\"circle\" transform=\"translate(145.1829490383156,39.85324848816343)\" d=\"M2.7386127875258306,0A2.7386127875258306,2.7386127875258306,0,1,1,-2.7386127875258306,0A2.7386127875258306,2.7386127875258306,0,1,1,2.7386127875258306,0\" fill=\"red\" stroke-width=\"2\" opacity=\"0.7\"></path><path aria-label=\"x: 2.47557573883; y: 2.35947539246\" role=\"graphics-symbol\" aria-roledescription=\"circle\" transform=\"translate(129.51151477658647,91.01311518843498)\" d=\"M2.7386127875258306,0A2.7386127875258306,2.7386127875258306,0,1,1,-2.7386127875258306,0A2.7386127875258306,2.7386127875258306,0,1,1,2.7386127875258306,0\" fill=\"red\" stroke-width=\"2\" opacity=\"0.7\"></path><path aria-label=\"x: -0.00573099526244; y: 1.55931326427\" role=\"graphics-symbol\" aria-roledescription=\"circle\" transform=\"translate(79.88538009475127,111.01716839314588)\" d=\"M2.7386127875258306,0A2.7386127875258306,2.7386127875258306,0,1,1,-2.7386127875258306,0A2.7386127875258306,2.7386127875258306,0,1,1,2.7386127875258306,0\" fill=\"red\" stroke-width=\"2\" opacity=\"0.7\"></path><path aria-label=\"x: 3.11277009667; y: 3.09336650234\" role=\"graphics-symbol\" aria-roledescription=\"circle\" transform=\"translate(142.25540193331025,72.66583744140993)\" d=\"M2.7386127875258306,0A2.7386127875258306,2.7386127875258306,0,1,1,-2.7386127875258306,0A2.7386127875258306,2.7386127875258306,0,1,1,2.7386127875258306,0\" fill=\"red\" stroke-width=\"2\" opacity=\"0.7\"></path><path aria-label=\"x: -0.110006871441; y: -0.133078102213\" role=\"graphics-symbol\" aria-roledescription=\"circle\" transform=\"translate(77.79986257117677,153.32695255532852)\" d=\"M2.7386127875258306,0A2.7386127875258306,2.7386127875258306,0,1,1,-2.7386127875258306,0A2.7386127875258306,2.7386127875258306,0,1,1,2.7386127875258306,0\" fill=\"red\" stroke-width=\"2\" opacity=\"0.7\"></path><path aria-label=\"x: 1.06390584599; y: 1.68421456845\" role=\"graphics-symbol\" aria-roledescription=\"circle\" transform=\"translate(101.27811691973758,107.89463578873763)\" d=\"M2.7386127875258306,0A2.7386127875258306,2.7386127875258306,0,1,1,-2.7386127875258306,0A2.7386127875258306,2.7386127875258306,0,1,1,2.7386127875258306,0\" fill=\"red\" stroke-width=\"2\" opacity=\"0.7\"></path><path aria-label=\"x: -1.68373998884; y: -0.168918369749\" role=\"graphics-symbol\" aria-roledescription=\"circle\" transform=\"translate(46.32520022314976,154.22295924371255)\" d=\"M2.7386127875258306,0A2.7386127875258306,2.7386127875258306,0,1,1,-2.7386127875258306,0A2.7386127875258306,2.7386127875258306,0,1,1,2.7386127875258306,0\" fill=\"red\" stroke-width=\"2\" opacity=\"0.7\"></path><path aria-label=\"x: -2.42479734121; y: 0.482257836541\" role=\"graphics-symbol\" aria-roledescription=\"circle\" transform=\"translate(31.504053175871725,137.94355408647337)\" d=\"M2.7386127875258306,0A2.7386127875258306,2.7386127875258306,0,1,1,-2.7386127875258306,0A2.7386127875258306,2.7386127875258306,0,1,1,2.7386127875258306,0\" fill=\"red\" stroke-width=\"2\" opacity=\"0.7\"></path><path aria-label=\"x: 0.399680519374; y: 1.84044142863\" role=\"graphics-symbol\" aria-roledescription=\"circle\" transform=\"translate(87.99361038748297,103.98896428430679)\" d=\"M2.7386127875258306,0A2.7386127875258306,2.7386127875258306,0,1,1,-2.7386127875258306,0A2.7386127875258306,2.7386127875258306,0,1,1,2.7386127875258306,0\" fill=\"red\" stroke-width=\"2\" opacity=\"0.7\"></path><path aria-label=\"x: 2.21379973694; y: 2.7532437543\" role=\"graphics-symbol\" aria-roledescription=\"circle\" transform=\"translate(124.27599473881017,81.16890614238872)\" d=\"M2.7386127875258306,0A2.7386127875258306,2.7386127875258306,0,1,1,-2.7386127875258306,0A2.7386127875258306,2.7386127875258306,0,1,1,2.7386127875258306,0\" fill=\"red\" stroke-width=\"2\" opacity=\"0.7\"></path><path aria-label=\"x: 3.04995275355; y: 2.87547739473\" role=\"graphics-symbol\" aria-roledescription=\"circle\" transform=\"translate(140.99905507092186,78.11306513186283)\" d=\"M2.7386127875258306,0A2.7386127875258306,2.7386127875258306,0,1,1,-2.7386127875258306,0A2.7386127875258306,2.7386127875258306,0,1,1,2.7386127875258306,0\" fill=\"red\" stroke-width=\"2\" opacity=\"0.7\"></path><path aria-label=\"x: 1.39085346004; y: 1.51039956143\" role=\"graphics-symbol\" aria-roledescription=\"circle\" transform=\"translate(107.81706920084706,112.24001096435192)\" d=\"M2.7386127875258306,0A2.7386127875258306,2.7386127875258306,0,1,1,-2.7386127875258306,0A2.7386127875258306,2.7386127875258306,0,1,1,2.7386127875258306,0\" fill=\"red\" stroke-width=\"2\" opacity=\"0.7\"></path><path aria-label=\"x: 2.91131582713; y: 4.08466761102\" role=\"graphics-symbol\" aria-roledescription=\"circle\" transform=\"translate(138.22631654251194,47.88330972455932)\" d=\"M2.7386127875258306,0A2.7386127875258306,2.7386127875258306,0,1,1,-2.7386127875258306,0A2.7386127875258306,2.7386127875258306,0,1,1,2.7386127875258306,0\" fill=\"red\" stroke-width=\"2\" opacity=\"0.7\"></path><path aria-label=\"x: 1.13722754521; y: 3.23753991585\" role=\"graphics-symbol\" aria-roledescription=\"circle\" transform=\"translate(102.74455090427328,69.06150210370048)\" d=\"M2.7386127875258306,0A2.7386127875258306,2.7386127875258306,0,1,1,-2.7386127875258306,0A2.7386127875258306,2.7386127875258306,0,1,1,2.7386127875258306,0\" fill=\"red\" stroke-width=\"2\" opacity=\"0.7\"></path><path aria-label=\"x: 1.30366830286; y: 2.43009859344\" role=\"graphics-symbol\" aria-roledescription=\"circle\" transform=\"translate(106.07336605719418,89.2475351639099)\" d=\"M2.7386127875258306,0A2.7386127875258306,2.7386127875258306,0,1,1,-2.7386127875258306,0A2.7386127875258306,2.7386127875258306,0,1,1,2.7386127875258306,0\" fill=\"red\" stroke-width=\"2\" opacity=\"0.7\"></path><path aria-label=\"x: 2.22904677836; y: 2.72241491587\" role=\"graphics-symbol\" aria-roledescription=\"circle\" transform=\"translate(124.58093556716653,81.93962710332869)\" d=\"M2.7386127875258306,0A2.7386127875258306,2.7386127875258306,0,1,1,-2.7386127875258306,0A2.7386127875258306,2.7386127875258306,0,1,1,2.7386127875258306,0\" fill=\"red\" stroke-width=\"2\" opacity=\"0.7\"></path><path aria-label=\"x: -0.163507625882; y: 3.0053132075\" role=\"graphics-symbol\" aria-roledescription=\"circle\" transform=\"translate(76.72984748235766,74.86716981238517)\" d=\"M2.7386127875258306,0A2.7386127875258306,2.7386127875258306,0,1,1,-2.7386127875258306,0A2.7386127875258306,2.7386127875258306,0,1,1,2.7386127875258306,0\" fill=\"red\" stroke-width=\"2\" opacity=\"0.7\"></path><path aria-label=\"x: 1.25015779327; y: 2.83616071647\" role=\"graphics-symbol\" aria-roledescription=\"circle\" transform=\"translate(105.00315586537081,79.09598208821149)\" d=\"M2.7386127875258306,0A2.7386127875258306,2.7386127875258306,0,1,1,-2.7386127875258306,0A2.7386127875258306,2.7386127875258306,0,1,1,2.7386127875258306,0\" fill=\"red\" stroke-width=\"2\" opacity=\"0.7\"></path><path aria-label=\"x: 1.61808663856; y: 2.14410939097\" role=\"graphics-symbol\" aria-roledescription=\"circle\" transform=\"translate(112.36173277116212,96.39726522577251)\" d=\"M2.7386127875258306,0A2.7386127875258306,2.7386127875258306,0,1,1,-2.7386127875258306,0A2.7386127875258306,2.7386127875258306,0,1,1,2.7386127875258306,0\" fill=\"red\" stroke-width=\"2\" opacity=\"0.7\"></path><path aria-label=\"x: 2.95728837186; y: 3.84558304642\" role=\"graphics-symbol\" aria-roledescription=\"circle\" transform=\"translate(139.14576743715438,53.86042383952181)\" d=\"M2.7386127875258306,0A2.7386127875258306,2.7386127875258306,0,1,1,-2.7386127875258306,0A2.7386127875258306,2.7386127875258306,0,1,1,2.7386127875258306,0\" fill=\"red\" stroke-width=\"2\" opacity=\"0.7\"></path><path aria-label=\"x: 3.20354659558; y: 3.42633828099\" role=\"graphics-symbol\" aria-roledescription=\"circle\" transform=\"translate(144.07093191160342,64.34154297519936)\" d=\"M2.7386127875258306,0A2.7386127875258306,2.7386127875258306,0,1,1,-2.7386127875258306,0A2.7386127875258306,2.7386127875258306,0,1,1,2.7386127875258306,0\" fill=\"red\" stroke-width=\"2\" opacity=\"0.7\"></path><path aria-label=\"x: 0.187843850095; y: 3.60169469188\" role=\"graphics-symbol\" aria-roledescription=\"circle\" transform=\"translate(83.75687700190466,59.957632702956644)\" d=\"M2.7386127875258306,0A2.7386127875258306,2.7386127875258306,0,1,1,-2.7386127875258306,0A2.7386127875258306,2.7386127875258306,0,1,1,2.7386127875258306,0\" fill=\"red\" stroke-width=\"2\" opacity=\"0.7\"></path><path aria-label=\"x: -0.51434155186; y: 1.57839296961\" role=\"graphics-symbol\" aria-roledescription=\"circle\" transform=\"translate(69.71316896279826,110.54017575965824)\" d=\"M2.7386127875258306,0A2.7386127875258306,2.7386127875258306,0,1,1,-2.7386127875258306,0A2.7386127875258306,2.7386127875258306,0,1,1,2.7386127875258306,0\" fill=\"red\" stroke-width=\"2\" opacity=\"0.7\"></path><path aria-label=\"x: 2.4671778316; y: 1.93515354845\" role=\"graphics-symbol\" aria-roledescription=\"circle\" transform=\"translate(129.34355663195612,101.62116128876657)\" d=\"M2.7386127875258306,0A2.7386127875258306,2.7386127875258306,0,1,1,-2.7386127875258306,0A2.7386127875258306,2.7386127875258306,0,1,1,2.7386127875258306,0\" fill=\"red\" stroke-width=\"2\" opacity=\"0.7\"></path><path aria-label=\"x: -1.82451648734; y: 1.13089274297\" role=\"graphics-symbol\" aria-roledescription=\"circle\" transform=\"translate(43.509670253121975,121.7276814258398)\" d=\"M2.7386127875258306,0A2.7386127875258306,2.7386127875258306,0,1,1,-2.7386127875258306,0A2.7386127875258306,2.7386127875258306,0,1,1,2.7386127875258306,0\" fill=\"red\" stroke-width=\"2\" opacity=\"0.7\"></path><path aria-label=\"x: -0.202694477152; y: 0.952497418219\" role=\"graphics-symbol\" aria-roledescription=\"circle\" transform=\"translate(75.94611045696945,126.18756454451932)\" d=\"M2.7386127875258306,0A2.7386127875258306,2.7386127875258306,0,1,1,-2.7386127875258306,0A2.7386127875258306,2.7386127875258306,0,1,1,2.7386127875258306,0\" fill=\"red\" stroke-width=\"2\" opacity=\"0.7\"></path><path aria-label=\"x: 2.69715111233; y: 3.53697154242\" role=\"graphics-symbol\" aria-roledescription=\"circle\" transform=\"translate(133.9430222465086,61.57571143945857)\" d=\"M2.7386127875258306,0A2.7386127875258306,2.7386127875258306,0,1,1,-2.7386127875258306,0A2.7386127875258306,2.7386127875258306,0,1,1,2.7386127875258306,0\" fill=\"red\" stroke-width=\"2\" opacity=\"0.7\"></path><path aria-label=\"x: 0.492077142219; y: 2.45276157603\" role=\"graphics-symbol\" aria-roledescription=\"circle\" transform=\"translate(89.84154284437491,88.68096059917359)\" d=\"M2.7386127875258306,0A2.7386127875258306,2.7386127875258306,0,1,1,-2.7386127875258306,0A2.7386127875258306,2.7386127875258306,0,1,1,2.7386127875258306,0\" fill=\"red\" stroke-width=\"2\" opacity=\"0.7\"></path><path aria-label=\"x: 1.58287486649; y: 2.37185022503\" role=\"graphics-symbol\" aria-roledescription=\"circle\" transform=\"translate(111.65749732985817,90.70374437434423)\" d=\"M2.7386127875258306,0A2.7386127875258306,2.7386127875258306,0,1,1,-2.7386127875258306,0A2.7386127875258306,2.7386127875258306,0,1,1,2.7386127875258306,0\" fill=\"red\" stroke-width=\"2\" opacity=\"0.7\"></path><path aria-label=\"x: -0.399654961343; y: 0.423488351739\" role=\"graphics-symbol\" aria-roledescription=\"circle\" transform=\"translate(72.00690077314303,139.41279120652146)\" d=\"M2.7386127875258306,0A2.7386127875258306,2.7386127875258306,0,1,1,-2.7386127875258306,0A2.7386127875258306,2.7386127875258306,0,1,1,2.7386127875258306,0\" fill=\"red\" stroke-width=\"2\" opacity=\"0.7\"></path><path aria-label=\"x: 0.795722372042; y: 2.92311292652\" role=\"graphics-symbol\" aria-roledescription=\"circle\" transform=\"translate(95.91444744083543,76.92217683705347)\" d=\"M2.7386127875258306,0A2.7386127875258306,2.7386127875258306,0,1,1,-2.7386127875258306,0A2.7386127875258306,2.7386127875258306,0,1,1,2.7386127875258306,0\" fill=\"red\" stroke-width=\"2\" opacity=\"0.7\"></path><path aria-label=\"x: 3.52044641258; y: 3.60764726018\" role=\"graphics-symbol\" aria-roledescription=\"circle\" transform=\"translate(150.40892825165156,59.80881849556945)\" d=\"M2.7386127875258306,0A2.7386127875258306,2.7386127875258306,0,1,1,-2.7386127875258306,0A2.7386127875258306,2.7386127875258306,0,1,1,2.7386127875258306,0\" fill=\"red\" stroke-width=\"2\" opacity=\"0.7\"></path><path aria-label=\"x: 2.73929351573; y: 2.76333639819\" role=\"graphics-symbol\" aria-roledescription=\"circle\" transform=\"translate(134.78587031463013,80.91659004523568)\" d=\"M2.7386127875258306,0A2.7386127875258306,2.7386127875258306,0,1,1,-2.7386127875258306,0A2.7386127875258306,2.7386127875258306,0,1,1,2.7386127875258306,0\" fill=\"red\" stroke-width=\"2\" opacity=\"0.7\"></path><path aria-label=\"x: 0.934865504918; y: 1.26586582075\" role=\"graphics-symbol\" aria-roledescription=\"circle\" transform=\"translate(98.69731009836882,118.35335448132192)\" d=\"M2.7386127875258306,0A2.7386127875258306,2.7386127875258306,0,1,1,-2.7386127875258306,0A2.7386127875258306,2.7386127875258306,0,1,1,2.7386127875258306,0\" fill=\"red\" stroke-width=\"2\" opacity=\"0.7\"></path><path aria-label=\"x: 3.01286207634; y: 2.28401569081\" role=\"graphics-symbol\" aria-roledescription=\"circle\" transform=\"translate(140.25724152670384,92.89960772984331)\" d=\"M2.7386127875258306,0A2.7386127875258306,2.7386127875258306,0,1,1,-2.7386127875258306,0A2.7386127875258306,2.7386127875258306,0,1,1,2.7386127875258306,0\" fill=\"red\" stroke-width=\"2\" opacity=\"0.7\"></path><path aria-label=\"x: 0.0124998756077; y: 2.05307911564\" role=\"graphics-symbol\" aria-roledescription=\"circle\" transform=\"translate(80.24999751215492,98.67302210892261)\" d=\"M2.7386127875258306,0A2.7386127875258306,2.7386127875258306,0,1,1,-2.7386127875258306,0A2.7386127875258306,2.7386127875258306,0,1,1,2.7386127875258306,0\" fill=\"red\" stroke-width=\"2\" opacity=\"0.7\"></path><path aria-label=\"x: 1.91688596257; y: 2.98187544383\" role=\"graphics-symbol\" aria-roledescription=\"circle\" transform=\"translate(118.33771925140657,75.45311390428382)\" d=\"M2.7386127875258306,0A2.7386127875258306,2.7386127875258306,0,1,1,-2.7386127875258306,0A2.7386127875258306,2.7386127875258306,0,1,1,2.7386127875258306,0\" fill=\"red\" stroke-width=\"2\" opacity=\"0.7\"></path><path aria-label=\"x: 1.45387720828; y: 1.40331545918\" role=\"graphics-symbol\" aria-roledescription=\"circle\" transform=\"translate(109.07754416551344,114.9171135204051)\" d=\"M2.7386127875258306,0A2.7386127875258306,2.7386127875258306,0,1,1,-2.7386127875258306,0A2.7386127875258306,2.7386127875258306,0,1,1,2.7386127875258306,0\" fill=\"red\" stroke-width=\"2\" opacity=\"0.7\"></path><path aria-label=\"x: 0.593937363537; y: 2.29337177582\" role=\"graphics-symbol\" aria-roledescription=\"circle\" transform=\"translate(91.8787472707424,92.66570560456313)\" d=\"M2.7386127875258306,0A2.7386127875258306,2.7386127875258306,0,1,1,-2.7386127875258306,0A2.7386127875258306,2.7386127875258306,0,1,1,2.7386127875258306,0\" fill=\"red\" stroke-width=\"2\" opacity=\"0.7\"></path><path aria-label=\"x: -0.557037275023; y: 1.75897181335\" role=\"graphics-symbol\" aria-roledescription=\"circle\" transform=\"translate(68.85925449953704,106.0257046663672)\" d=\"M2.7386127875258306,0A2.7386127875258306,2.7386127875258306,0,1,1,-2.7386127875258306,0A2.7386127875258306,2.7386127875258306,0,1,1,2.7386127875258306,0\" fill=\"red\" stroke-width=\"2\" opacity=\"0.7\"></path><path aria-label=\"x: 3.27247756941; y: 4.06100876467\" role=\"graphics-symbol\" aria-roledescription=\"circle\" transform=\"translate(145.44955138821857,48.47478088315316)\" d=\"M2.7386127875258306,0A2.7386127875258306,2.7386127875258306,0,1,1,-2.7386127875258306,0A2.7386127875258306,2.7386127875258306,0,1,1,2.7386127875258306,0\" fill=\"red\" stroke-width=\"2\" opacity=\"0.7\"></path><path aria-label=\"x: 2.66286640527; y: 3.37474921322\" role=\"graphics-symbol\" aria-roledescription=\"circle\" transform=\"translate(133.25732810547444,65.63126966946685)\" d=\"M2.7386127875258306,0A2.7386127875258306,2.7386127875258306,0,1,1,-2.7386127875258306,0A2.7386127875258306,2.7386127875258306,0,1,1,2.7386127875258306,0\" fill=\"red\" stroke-width=\"2\" opacity=\"0.7\"></path><path aria-label=\"x: 0.360076936416; y: 2.43233120558\" role=\"graphics-symbol\" aria-roledescription=\"circle\" transform=\"translate(87.20153872831938,89.19171986039387)\" d=\"M2.7386127875258306,0A2.7386127875258306,2.7386127875258306,0,1,1,-2.7386127875258306,0A2.7386127875258306,2.7386127875258306,0,1,1,2.7386127875258306,0\" fill=\"red\" stroke-width=\"2\" opacity=\"0.7\"></path><path aria-label=\"x: -0.241682501394; y: 1.08135843091\" role=\"graphics-symbol\" aria-roledescription=\"circle\" transform=\"translate(75.16634997211665,122.9660392273253)\" d=\"M2.7386127875258306,0A2.7386127875258306,2.7386127875258306,0,1,1,-2.7386127875258306,0A2.7386127875258306,2.7386127875258306,0,1,1,2.7386127875258306,0\" fill=\"red\" stroke-width=\"2\" opacity=\"0.7\"></path><path aria-label=\"x: 3.07148509697; y: 3.43595145364\" role=\"graphics-symbol\" aria-roledescription=\"circle\" transform=\"translate(141.42970193940525,64.10121365904253)\" d=\"M2.7386127875258306,0A2.7386127875258306,2.7386127875258306,0,1,1,-2.7386127875258306,0A2.7386127875258306,2.7386127875258306,0,1,1,2.7386127875258306,0\" fill=\"red\" stroke-width=\"2\" opacity=\"0.7\"></path><path aria-label=\"x: 1.02020482027; y: 0.919313049105\" role=\"graphics-symbol\" aria-roledescription=\"circle\" transform=\"translate(100.40409640539619,127.01717377236949)\" d=\"M2.7386127875258306,0A2.7386127875258306,2.7386127875258306,0,1,1,-2.7386127875258306,0A2.7386127875258306,2.7386127875258306,0,1,1,2.7386127875258306,0\" fill=\"red\" stroke-width=\"2\" opacity=\"0.7\"></path><path aria-label=\"x: 0.137746149558; y: 1.3571241336\" role=\"graphics-symbol\" aria-roledescription=\"circle\" transform=\"translate(82.75492299116524,116.07189665990344)\" d=\"M2.7386127875258306,0A2.7386127875258306,2.7386127875258306,0,1,1,-2.7386127875258306,0A2.7386127875258306,2.7386127875258306,0,1,1,2.7386127875258306,0\" fill=\"red\" stroke-width=\"2\" opacity=\"0.7\"></path><path aria-label=\"x: 0.875102343095; y: 1.55644028582\" role=\"graphics-symbol\" aria-roledescription=\"circle\" transform=\"translate(97.50204686189782,111.08899285446276)\" d=\"M2.7386127875258306,0A2.7386127875258306,2.7386127875258306,0,1,1,-2.7386127875258306,0A2.7386127875258306,2.7386127875258306,0,1,1,2.7386127875258306,0\" fill=\"red\" stroke-width=\"2\" opacity=\"0.7\"></path><path aria-label=\"x: 0.332498612315; y: 1.3035644922\" role=\"graphics-symbol\" aria-roledescription=\"circle\" transform=\"translate(86.64997224630928,117.41088769493095)\" d=\"M2.7386127875258306,0A2.7386127875258306,2.7386127875258306,0,1,1,-2.7386127875258306,0A2.7386127875258306,2.7386127875258306,0,1,1,2.7386127875258306,0\" fill=\"red\" stroke-width=\"2\" opacity=\"0.7\"></path><path aria-label=\"x: 1.6861346688; y: 3.20061452499\" role=\"graphics-symbol\" aria-roledescription=\"circle\" transform=\"translate(113.72269337601662,69.98463687530037)\" d=\"M2.7386127875258306,0A2.7386127875258306,2.7386127875258306,0,1,1,-2.7386127875258306,0A2.7386127875258306,2.7386127875258306,0,1,1,2.7386127875258306,0\" fill=\"red\" stroke-width=\"2\" opacity=\"0.7\"></path><path aria-label=\"x: 2.40513507082; y: 3.36539401023\" role=\"graphics-symbol\" aria-roledescription=\"circle\" transform=\"translate(128.10270141640737,65.86514974418182)\" d=\"M2.7386127875258306,0A2.7386127875258306,2.7386127875258306,0,1,1,-2.7386127875258306,0A2.7386127875258306,2.7386127875258306,0,1,1,2.7386127875258306,0\" fill=\"red\" stroke-width=\"2\" opacity=\"0.7\"></path><path aria-label=\"x: 3.1581847821; y: 2.78748773993\" role=\"graphics-symbol\" aria-roledescription=\"circle\" transform=\"translate(143.1636956420906,80.3128065018193)\" d=\"M2.7386127875258306,0A2.7386127875258306,2.7386127875258306,0,1,1,-2.7386127875258306,0A2.7386127875258306,2.7386127875258306,0,1,1,2.7386127875258306,0\" fill=\"red\" stroke-width=\"2\" opacity=\"0.7\"></path><path aria-label=\"x: 2.72984859943; y: 3.87591050044\" role=\"graphics-symbol\" aria-roledescription=\"circle\" transform=\"translate(134.5969719886563,53.10223748906813)\" d=\"M2.7386127875258306,0A2.7386127875258306,2.7386127875258306,0,1,1,-2.7386127875258306,0A2.7386127875258306,2.7386127875258306,0,1,1,2.7386127875258306,0\" fill=\"red\" stroke-width=\"2\" opacity=\"0.7\"></path><path aria-label=\"x: 2.01963230006; y: 3.21029174875\" role=\"graphics-symbol\" aria-roledescription=\"circle\" transform=\"translate(120.39264600122608,69.74270628113246)\" d=\"M2.7386127875258306,0A2.7386127875258306,2.7386127875258306,0,1,1,-2.7386127875258306,0A2.7386127875258306,2.7386127875258306,0,1,1,2.7386127875258306,0\" fill=\"red\" stroke-width=\"2\" opacity=\"0.7\"></path><path aria-label=\"x: 3.0080412804; y: 2.00766812807\" role=\"graphics-symbol\" aria-roledescription=\"circle\" transform=\"translate(140.1608256080949,99.80829679813812)\" d=\"M2.7386127875258306,0A2.7386127875258306,2.7386127875258306,0,1,1,-2.7386127875258306,0A2.7386127875258306,2.7386127875258306,0,1,1,2.7386127875258306,0\" fill=\"red\" stroke-width=\"2\" opacity=\"0.7\"></path><path aria-label=\"x: -1.37044784099; y: 0.508434549158\" role=\"graphics-symbol\" aria-roledescription=\"circle\" transform=\"translate(52.59104318012857,137.2891362710451)\" d=\"M2.7386127875258306,0A2.7386127875258306,2.7386127875258306,0,1,1,-2.7386127875258306,0A2.7386127875258306,2.7386127875258306,0,1,1,2.7386127875258306,0\" fill=\"red\" stroke-width=\"2\" opacity=\"0.7\"></path><path aria-label=\"x: 2.47435633653; y: 1.64361396632\" role=\"graphics-symbol\" aria-roledescription=\"circle\" transform=\"translate(129.4871267305438,108.90965084197421)\" d=\"M2.7386127875258306,0A2.7386127875258306,2.7386127875258306,0,1,1,-2.7386127875258306,0A2.7386127875258306,2.7386127875258306,0,1,1,2.7386127875258306,0\" fill=\"red\" stroke-width=\"2\" opacity=\"0.7\"></path><path aria-label=\"x: 0.0644806749149; y: 0.263426605655\" role=\"graphics-symbol\" aria-roledescription=\"circle\" transform=\"translate(81.28961349829706,143.41433485862763)\" d=\"M2.7386127875258306,0A2.7386127875258306,2.7386127875258306,0,1,1,-2.7386127875258306,0A2.7386127875258306,2.7386127875258306,0,1,1,2.7386127875258306,0\" fill=\"red\" stroke-width=\"2\" opacity=\"0.7\"></path><path aria-label=\"x: -1.04191982798; y: 0.939336799154\" role=\"graphics-symbol\" aria-roledescription=\"circle\" transform=\"translate(59.161603440376076,126.51658002114803)\" d=\"M2.7386127875258306,0A2.7386127875258306,2.7386127875258306,0,1,1,-2.7386127875258306,0A2.7386127875258306,2.7386127875258306,0,1,1,2.7386127875258306,0\" fill=\"red\" stroke-width=\"2\" opacity=\"0.7\"></path><path aria-label=\"x: 3.17274360411; y: 4.25921518908\" role=\"graphics-symbol\" aria-roledescription=\"circle\" transform=\"translate(143.45487208223238,43.51962027288296)\" d=\"M2.7386127875258306,0A2.7386127875258306,2.7386127875258306,0,1,1,-2.7386127875258306,0A2.7386127875258306,2.7386127875258306,0,1,1,2.7386127875258306,0\" fill=\"red\" stroke-width=\"2\" opacity=\"0.7\"></path><path aria-label=\"x: 1.65121129565; y: 2.52842257608\" role=\"graphics-symbol\" aria-roledescription=\"circle\" transform=\"translate(113.02422591295085,86.78943559810695)\" d=\"M2.7386127875258306,0A2.7386127875258306,2.7386127875258306,0,1,1,-2.7386127875258306,0A2.7386127875258306,2.7386127875258306,0,1,1,2.7386127875258306,0\" fill=\"red\" stroke-width=\"2\" opacity=\"0.7\"></path><path aria-label=\"x: 0.677824848695; y: 2.15143652119\" role=\"graphics-symbol\" aria-roledescription=\"circle\" transform=\"translate(93.55649697389715,96.21408697033986)\" d=\"M2.7386127875258306,0A2.7386127875258306,2.7386127875258306,0,1,1,-2.7386127875258306,0A2.7386127875258306,2.7386127875258306,0,1,1,2.7386127875258306,0\" fill=\"red\" stroke-width=\"2\" opacity=\"0.7\"></path><path aria-label=\"x: 1.59558020334; y: 2.38966559238\" role=\"graphics-symbol\" aria-roledescription=\"circle\" transform=\"translate(111.91160406678038,90.25836019060213)\" d=\"M2.7386127875258306,0A2.7386127875258306,2.7386127875258306,0,1,1,-2.7386127875258306,0A2.7386127875258306,2.7386127875258306,0,1,1,2.7386127875258306,0\" fill=\"red\" stroke-width=\"2\" opacity=\"0.7\"></path><path aria-label=\"x: -1.48449644479; y: 0.534117822444\" role=\"graphics-symbol\" aria-roledescription=\"circle\" transform=\"translate(50.310071104114144,136.64705443890855)\" d=\"M2.7386127875258306,0A2.7386127875258306,2.7386127875258306,0,1,1,-2.7386127875258306,0A2.7386127875258306,2.7386127875258306,0,1,1,2.7386127875258306,0\" fill=\"red\" stroke-width=\"2\" opacity=\"0.7\"></path><path aria-label=\"x: 0.0511168197716; y: 0.859255437441\" role=\"graphics-symbol\" aria-roledescription=\"circle\" transform=\"translate(81.02233639543222,128.51861406396773)\" d=\"M2.7386127875258306,0A2.7386127875258306,2.7386127875258306,0,1,1,-2.7386127875258306,0A2.7386127875258306,2.7386127875258306,0,1,1,2.7386127875258306,0\" fill=\"red\" stroke-width=\"2\" opacity=\"0.7\"></path></g></g><path class=\"foreground\" aria-hidden=\"true\" d=\"\" display=\"none\"></path></g></g></g></svg>\n"
      ],
      "text/plain": [
       "@vlplot(\n",
       "    mark=\"circle\",\n",
       "    encoding={\n",
       "        x={\n",
       "            field=\"x\"\n",
       "        },\n",
       "        y={\n",
       "            field=\"y\"\n",
       "        },\n",
       "        color={\n",
       "            value=\"red\"\n",
       "        }\n",
       "    },\n",
       "    data={\n",
       "        values=...\n",
       "    }\n",
       ")"
      ]
     },
     "execution_count": 78,
     "metadata": {},
     "output_type": "execute_result"
    }
   ],
   "source": [
    "p"
   ]
  },
  {
   "cell_type": "code",
   "execution_count": 43,
   "metadata": {},
   "outputs": [],
   "source": [
    "# v = KernelDensity.kde(samples);\n",
    "# p = QuickVega.scatterplot(samples)\n",
    "# @vlplot() + p + contourplot(v.x,v.y,v.density,6)"
   ]
  },
  {
   "cell_type": "code",
   "execution_count": 44,
   "metadata": {},
   "outputs": [
    {
     "data": {
      "application/vnd.vegalite.v4+json": {
       "data": {
        "values": [
         {
          "x": 0.29678515156844865,
          "y": 1.328275789906288
         },
         {
          "x": 0.1468154857638968,
          "y": 2.6536552136066778
         },
         {
          "x": 4.504717962515068,
          "y": 4.027532542707671
         },
         {
          "x": 1.2453704614439198,
          "y": 2.1159686225103216
         },
         {
          "x": 0.10698473924998508,
          "y": 1.9218400487625171
         },
         {
          "x": -0.5018331700179637,
          "y": 1.4555051347195855
         },
         {
          "x": 0.3158534038743931,
          "y": 2.789156952986936
         },
         {
          "x": 1.731771787213991,
          "y": 1.783169813801661
         },
         {
          "x": 2.9278277249153555,
          "y": 2.411952269859851
         },
         {
          "x": 1.4801858884390422,
          "y": 2.471561470491699
         },
         {
          "x": -0.7590047618994136,
          "y": 1.5965355303018005
         },
         {
          "x": 2.3937296604643343,
          "y": 2.3391625581188698
         },
         {
          "x": -0.2687334625774356,
          "y": 1.2439446929974474
         },
         {
          "x": 0.8237180333924383,
          "y": 2.526327272715771
         },
         {
          "x": -0.8603736984906085,
          "y": -0.2846619619506745
         },
         {
          "x": -1.9639407683080776,
          "y": 0.7514054857274428
         },
         {
          "x": 0.6467558130142346,
          "y": 1.238608551433758
         },
         {
          "x": -0.6668814271968353,
          "y": 0.9688142749324793
         },
         {
          "x": 5.178528592907379,
          "y": 3.968004732044126
         },
         {
          "x": 2.586469489881802,
          "y": 2.0019151160517135
         },
         {
          "x": 0.2875736322445258,
          "y": 0.0026958936344296802
         },
         {
          "x": 0.4853576177977176,
          "y": 1.1020832436168777
         },
         {
          "x": 5.411125589919645,
          "y": 5.395699459281367
         },
         {
          "x": 1.1512198361231698,
          "y": 1.3865638034058214
         },
         {
          "x": -0.7553669922101911,
          "y": 0.7680144095482992
         },
         {
          "x": 3.7504543100967647,
          "y": 2.583384357056655
         },
         {
          "x": 0.8798062590582048,
          "y": 1.5319056446359927
         },
         {
          "x": -0.0005677907179877373,
          "y": 1.840189354283823
         },
         {
          "x": 2.6496424064376605,
          "y": 3.5337986283917866
         },
         {
          "x": 4.18368474922738,
          "y": 3.6120981079195316
         },
         {
          "x": -1.4143065751242019,
          "y": 0.6349366423438292
         },
         {
          "x": -0.9707295061174015,
          "y": 0.08740992709051021
         },
         {
          "x": 2.4689661164059027,
          "y": 3.735875737607138
         },
         {
          "x": 2.6007644556724623,
          "y": 3.473080298523777
         },
         {
          "x": -0.15089081283404093,
          "y": 0.9314869555775436
         },
         {
          "x": 2.4172022641330226,
          "y": 3.1638793764897892
         },
         {
          "x": 2.1186894671636356,
          "y": 2.096700348315174
         },
         {
          "x": 1.0605420951050601,
          "y": 2.176135744417618
         },
         {
          "x": 1.8803835712593049,
          "y": 1.9351545336166853
         },
         {
          "x": 1.9880852926710924,
          "y": 1.9301554412734938
         },
         {
          "x": -1.000946131978603,
          "y": 1.2508899500091821
         },
         {
          "x": 0.08886352563916433,
          "y": 1.122400048167994
         },
         {
          "x": -0.8085840982993293,
          "y": 0.31934234630901703
         },
         {
          "x": 2.1169868781515335,
          "y": 2.6917217454759252
         },
         {
          "x": -0.3274901189385908,
          "y": 1.2585486339674792
         },
         {
          "x": 2.5971841901833894,
          "y": 3.134032434166749
         },
         {
          "x": 2.914056309679423,
          "y": 3.003422029244361
         },
         {
          "x": 0.5577566222238448,
          "y": 1.0653234902249529
         },
         {
          "x": 3.969873073692943,
          "y": 3.3246375909512547
         },
         {
          "x": -1.8343341652863017,
          "y": 0.20797427032922755
         },
         {
          "x": 0.7375679330294957,
          "y": 1.32215715791316
         },
         {
          "x": 1.2352626464496799,
          "y": 4.186166841366747
         },
         {
          "x": 2.4407458052422646,
          "y": 3.0653490616122196
         },
         {
          "x": -0.7415175416446351,
          "y": -0.5316586380004651
         },
         {
          "x": 4.791182868389839,
          "y": 5.101277632298005
         },
         {
          "x": 0.7247835993047897,
          "y": 1.6993536666001865
         },
         {
          "x": -0.5385847155946875,
          "y": 0.23121810170799506
         },
         {
          "x": 2.0117320660182045,
          "y": 3.596709781690084
         },
         {
          "x": -3.0353402576766912,
          "y": -1.1186206213661531
         },
         {
          "x": 0.965784636687588,
          "y": 1.1539856678995264
         },
         {
          "x": 0.5520164958060904,
          "y": 0.8759324090390104
         },
         {
          "x": 0.5746065394034184,
          "y": 1.3499916152188682
         },
         {
          "x": 2.052650523384465,
          "y": 2.5317554241277502
         },
         {
          "x": 3.5904529568683445,
          "y": 3.9239006019796814
         },
         {
          "x": 0.5535023190657729,
          "y": 2.8674725117582613
         },
         {
          "x": 1.7270635102694263,
          "y": 2.9969293670151598
         },
         {
          "x": 2.767119197007844,
          "y": 2.371092559394924
         },
         {
          "x": 1.6030970831211628,
          "y": 2.396648649435651
         },
         {
          "x": 3.0841546550763224,
          "y": 4.106959637924787
         },
         {
          "x": 1.256577746075094,
          "y": 3.2240136668497548
         },
         {
          "x": 0.654458087745378,
          "y": 2.5038611104316026
         },
         {
          "x": 0.6696726291431514,
          "y": 1.5566266327272347
         },
         {
          "x": 0.49655766278717073,
          "y": 1.4475580261065226
         },
         {
          "x": 0.44542977691144114,
          "y": 3.0023674799483047
         },
         {
          "x": 0.6764337009443088,
          "y": 1.507885995406444
         },
         {
          "x": 1.2018992134665276,
          "y": 1.3256610539126963
         },
         {
          "x": 4.072707285260821,
          "y": 5.636230462839621
         },
         {
          "x": 2.580922165284298,
          "y": 3.6577911138015375
         },
         {
          "x": -1.1088010223270541,
          "y": 1.805915479976956
         },
         {
          "x": 2.0587035577494017,
          "y": 2.2113856012690056
         },
         {
          "x": 2.1243423163330206,
          "y": 1.722284065659629
         },
         {
          "x": 0.8444527260598499,
          "y": 2.2783825132420668
         },
         {
          "x": 1.0304480504275482,
          "y": 3.4039208087078077
         },
         {
          "x": 2.005281100352285,
          "y": 3.5119119475528007
         },
         {
          "x": 3.3898803419289107,
          "y": 3.8030974333147247
         },
         {
          "x": 1.9627743157739739,
          "y": 1.3255682305274323
         },
         {
          "x": 1.9491245654419405,
          "y": 2.438458788411313
         },
         {
          "x": 2.6757593567498503,
          "y": 4.009312770791195
         },
         {
          "x": 0.9637409207806734,
          "y": 1.0660912932220155
         },
         {
          "x": 2.6039716647924536,
          "y": 2.312515897257094
         },
         {
          "x": -2.852760466114676,
          "y": 0.07252642460388548
         },
         {
          "x": 5.3756518140132314,
          "y": 4.32287978135222
         },
         {
          "x": -0.7315947675930423,
          "y": 1.0128847408146409
         },
         {
          "x": 3.8363956190567134,
          "y": 4.825522329148121
         },
         {
          "x": -0.29387410576220163,
          "y": 1.1666460351987653
         },
         {
          "x": 0.7161561165645682,
          "y": 2.628690744820512
         },
         {
          "x": 1.5685652256373612,
          "y": 2.792154718226309
         },
         {
          "x": 0.9937786908200119,
          "y": 2.0244751706852973
         },
         {
          "x": 1.6856082597120008,
          "y": 1.7977323116111001
         },
         {
          "x": -0.019612551094436492,
          "y": 2.5281061984638047
         },
         {
          "x": -1.5695608994713184,
          "y": 0.5805528157474773
         },
         {
          "x": 1.3956964850720261,
          "y": 2.262705738365727
         },
         {
          "x": 2.418286097652656,
          "y": 3.063360201736626
         },
         {
          "x": 0.6444030550922013,
          "y": 1.9753525573080952
         },
         {
          "x": 2.5798710542388643,
          "y": 3.2671370505459496
         },
         {
          "x": 0.12105371435819579,
          "y": 2.0337291128685018
         },
         {
          "x": -1.5902956300924198,
          "y": -0.12746173862845778
         },
         {
          "x": 0.4970374782427158,
          "y": 1.9440151442327358
         },
         {
          "x": 2.883901752588092,
          "y": 2.652208382976637
         },
         {
          "x": 0.5615601403681281,
          "y": 3.095739307723966
         },
         {
          "x": 1.3193983336432753,
          "y": 2.672506393311111
         },
         {
          "x": 0.7548862682069789,
          "y": 1.0285707775838915
         },
         {
          "x": 0.5346210454466933,
          "y": 0.029106837109230677
         },
         {
          "x": 1.4897148490567567,
          "y": 1.5348893625559363
         },
         {
          "x": 3.2855945528108337,
          "y": 4.244985190817355
         },
         {
          "x": 1.0406993571638712,
          "y": 2.356880296324081
         },
         {
          "x": -3.1071423245964995,
          "y": -1.1582949291678175
         },
         {
          "x": -0.7148352635736535,
          "y": 0.39025297938109405
         },
         {
          "x": 3.2096489585218504,
          "y": 3.2826698435936916
         },
         {
          "x": -0.6076954535614791,
          "y": 0.8452890466840373
         },
         {
          "x": 1.9595242557697576,
          "y": 1.879619999839508
         },
         {
          "x": 2.138710729215145,
          "y": 1.9253473144181705
         },
         {
          "x": 3.9718652719470895,
          "y": 4.66440017894662
         },
         {
          "x": -1.8261490129453568,
          "y": -0.8043023227701056
         },
         {
          "x": -1.2521740844027058,
          "y": -1.787320796662995
         },
         {
          "x": -1.5187228841612037,
          "y": -0.4589220946307737
         },
         {
          "x": -2.317145749058966,
          "y": 0.7925850370185457
         },
         {
          "x": 1.5563662721533786,
          "y": 1.2373248850903227
         },
         {
          "x": -3.581732530668658,
          "y": -1.809805814779819
         },
         {
          "x": 0.2943354272221018,
          "y": 1.5329198679336238
         },
         {
          "x": -0.16418378840063763,
          "y": 1.7777476936360253
         },
         {
          "x": -0.8064918762676672,
          "y": -0.12834879591121906
         },
         {
          "x": 0.709873106924092,
          "y": 1.5265065902452881
         },
         {
          "x": 1.5306656768169002,
          "y": 2.7232409908979243
         },
         {
          "x": 2.008777783354949,
          "y": 1.602121940517696
         },
         {
          "x": -1.2067371847876949,
          "y": 0.743702752792464
         },
         {
          "x": -0.7118436730622955,
          "y": 0.8664291148400123
         },
         {
          "x": 2.6417735410965566,
          "y": 3.772046382380429
         },
         {
          "x": -1.0014530928069898,
          "y": 0.006865844613171301
         },
         {
          "x": 2.565710171207594,
          "y": 2.927131746534977
         },
         {
          "x": 0.6337139535623821,
          "y": 2.8790522543805923
         },
         {
          "x": -0.34719188255051603,
          "y": 0.6007507810155406
         },
         {
          "x": -0.2413459871400232,
          "y": -0.3093729502899216
         },
         {
          "x": 0.8404862940605077,
          "y": 1.3534569876946443
         },
         {
          "x": 1.7142831938910477,
          "y": 3.963001436265468
         },
         {
          "x": 3.2326818955404164,
          "y": 3.442362278307626
         },
         {
          "x": 2.4985756924926195,
          "y": 2.8479219141244076
         },
         {
          "x": -0.00859282220859936,
          "y": 0.7876501794209769
         },
         {
          "x": 2.0069614956316397,
          "y": 2.5224639397328303
         },
         {
          "x": 1.389373158263317,
          "y": 2.4203276134195773
         },
         {
          "x": 1.9676455534726596,
          "y": 3.513085084655234
         },
         {
          "x": 2.5342744508913997,
          "y": 3.5604931408484535
         },
         {
          "x": -1.8120937803716677,
          "y": -1.418531137863253
         },
         {
          "x": 0.19481696007823823,
          "y": -0.09269406042742201
         },
         {
          "x": 2.2258861291643344,
          "y": 3.8958689958665924
         },
         {
          "x": 2.2368959211881574,
          "y": 1.9396838893304218
         },
         {
          "x": -0.30170684591807095,
          "y": 0.7303037259962819
         },
         {
          "x": -1.7217540166014418,
          "y": 0.9650908620738763
         },
         {
          "x": 2.725022645874093,
          "y": 4.456549376603419
         },
         {
          "x": 2.7820670010561077,
          "y": 2.6986770688907913
         },
         {
          "x": 1.7225649180485776,
          "y": 2.4492583836021002
         },
         {
          "x": 2.8821717060415204,
          "y": 2.740507199972763
         },
         {
          "x": 1.9071344658953748,
          "y": 2.612183426626189
         },
         {
          "x": 1.9499358557822626,
          "y": 2.916078436169249
         },
         {
          "x": -0.6096635066595111,
          "y": 1.3505284249769987
         },
         {
          "x": 1.2338253007850566,
          "y": 2.277979894267654
         },
         {
          "x": -1.197185568265108,
          "y": -0.037097915595134534
         },
         {
          "x": -0.6321300969809596,
          "y": 0.5782198595789956
         },
         {
          "x": 2.1812785373924015,
          "y": 3.7289579831647996
         },
         {
          "x": 1.7726207412220627,
          "y": 2.6263991228988797
         },
         {
          "x": -1.3265647611907574,
          "y": 0.3552657215394026
         },
         {
          "x": 1.8458436192666163,
          "y": 2.800131490727534
         },
         {
          "x": 0.5713213310479919,
          "y": 0.8290473608664357
         },
         {
          "x": -0.20031429328329287,
          "y": 1.6767818265491914
         },
         {
          "x": 0.47290535491418295,
          "y": 1.846462406612314
         },
         {
          "x": 4.012427790429605,
          "y": 3.7767184874553466
         },
         {
          "x": 0.06231425373811017,
          "y": 1.1679882843099487
         },
         {
          "x": 0.6414040694915053,
          "y": 1.1434306416844815
         },
         {
          "x": 4.4548411794762535,
          "y": 2.1026834396585166
         },
         {
          "x": 1.555940325055721,
          "y": 2.159574258151136
         },
         {
          "x": 1.9533516733262792,
          "y": 2.1252550562459653
         },
         {
          "x": -2.5534456460812254,
          "y": 0.2502789521901714
         },
         {
          "x": 1.8261072973202928,
          "y": 3.1382414486093637
         },
         {
          "x": 4.699232247900976,
          "y": 3.0189623815614888
         },
         {
          "x": -2.5409468230719,
          "y": -0.045385876549635995
         },
         {
          "x": -0.8419844893636435,
          "y": -0.9591269474066104
         },
         {
          "x": 1.2044371713654431,
          "y": 2.6245741630620736
         },
         {
          "x": 0.6192278906116737,
          "y": 1.3593288807336283
         },
         {
          "x": 0.28439144057471477,
          "y": 2.7950476621992246
         },
         {
          "x": 0.7903643570172227,
          "y": 1.2065600285569191
         },
         {
          "x": 1.7502996586272979,
          "y": 3.189269618691439
         },
         {
          "x": -1.7037102117268663,
          "y": 0.06536381786960277
         },
         {
          "x": 0.02484160626997256,
          "y": 2.8003365470117934
         },
         {
          "x": 1.6726302723485107,
          "y": 2.2478669270516276
         },
         {
          "x": 0.2652390139941614,
          "y": 1.6004240020429752
         },
         {
          "x": -0.7837304575423198,
          "y": 1.7970585445636742
         },
         {
          "x": 2.1749894553782774,
          "y": 4.436762368930793
         },
         {
          "x": 1.0879617420305523,
          "y": 1.7841882681699213
         },
         {
          "x": -0.3960504817568251,
          "y": 1.550223661884659
         },
         {
          "x": 1.8456576050870481,
          "y": 2.8929152976453967
         },
         {
          "x": 3.3515752121300815,
          "y": 2.820467400239458
         },
         {
          "x": 1.071758909261406,
          "y": 2.108330036768518
         },
         {
          "x": 2.2151534654924445,
          "y": 2.1542540922029456
         },
         {
          "x": 1.4178163911520194,
          "y": 3.588800713573716
         },
         {
          "x": 3.987039678075268,
          "y": 2.5754758459837372
         },
         {
          "x": 0.8921486586769619,
          "y": 1.2738076742970041
         },
         {
          "x": 0.018592647666686668,
          "y": 1.802733796126
         },
         {
          "x": 2.148748877859714,
          "y": 3.6244091801898897
         },
         {
          "x": 0.18646986271876642,
          "y": 0.47689869864844736
         },
         {
          "x": 0.19882943221126548,
          "y": 2.3071087707666678
         },
         {
          "x": 2.093985349681366,
          "y": 3.378085953912397
         },
         {
          "x": 2.5640606440677436,
          "y": 2.543431822321585
         },
         {
          "x": 2.202165674718757,
          "y": 4.227856874915691
         },
         {
          "x": 1.3222154497840215,
          "y": 2.136056603195796
         },
         {
          "x": 2.418252365336936,
          "y": 2.7752634599721198
         },
         {
          "x": -1.816783515633161,
          "y": -0.009309377971226773
         },
         {
          "x": 0.8367227302489089,
          "y": 1.9850992459055614
         },
         {
          "x": 3.0316920182183527,
          "y": 2.3267316337998225
         },
         {
          "x": -1.313498742088552,
          "y": 1.1349191801627545
         },
         {
          "x": -1.0662986862538912,
          "y": -0.6142173106165321
         },
         {
          "x": -2.518891222593511,
          "y": -0.47442819992627516
         },
         {
          "x": -2.2683773599552572,
          "y": 0.44949977005534336
         },
         {
          "x": -1.2031183941405894,
          "y": -0.03234247787954647
         },
         {
          "x": 1.971122709649049,
          "y": 2.1036320905565384
         },
         {
          "x": 0.5907579484233034,
          "y": 0.7158645164010828
         },
         {
          "x": 0.6784219611815928,
          "y": 2.2381064863995648
         },
         {
          "x": 1.3487342651311254,
          "y": 3.0750584231390605
         },
         {
          "x": 3.5646661000388047,
          "y": 2.94501533380563
         },
         {
          "x": 3.129253200341607,
          "y": 3.0283392353886778
         },
         {
          "x": 2.2165737634705525,
          "y": 2.1242002155034387
         },
         {
          "x": 1.3253223481235876,
          "y": 3.503482663436051
         },
         {
          "x": -0.07512180592841222,
          "y": 2.230398856293171
         },
         {
          "x": 1.2141703162078787,
          "y": 2.171789066015265
         },
         {
          "x": -1.9721905152130779,
          "y": 0.15095197883744893
         },
         {
          "x": 1.5735818867081233,
          "y": 2.0603141953468125
         },
         {
          "x": -2.3085633004146326,
          "y": 0.8137448540250924
         },
         {
          "x": -0.7942089736723603,
          "y": 1.175611510759639
         },
         {
          "x": 1.072769745423471,
          "y": 3.843485473443325
         },
         {
          "x": 2.714254127171197,
          "y": 4.697781433584076
         },
         {
          "x": 0.58309617365244,
          "y": 1.0869888130611376
         },
         {
          "x": -3.1924240567792523,
          "y": -1.4752805116511096
         },
         {
          "x": 0.6182670343847225,
          "y": 0.9202753948250244
         },
         {
          "x": 1.2948419182687898,
          "y": 2.9602788857750104
         },
         {
          "x": 1.178489852885542,
          "y": 2.306109115412284
         },
         {
          "x": 3.022203481126702,
          "y": 2.706257504458644
         },
         {
          "x": -0.1341709565789715,
          "y": 0.6546920020636318
         },
         {
          "x": 0.7008202767116622,
          "y": 3.706543844545282
         },
         {
          "x": -0.7120056443960681,
          "y": 1.1233503576224186
         },
         {
          "x": 2.2789652034410386,
          "y": 3.4595888982581133
         },
         {
          "x": -1.2433196628493643,
          "y": 0.050207502175356966
         },
         {
          "x": -0.3746653724700255,
          "y": 1.3713703915021975
         },
         {
          "x": 1.6183351975775981,
          "y": 2.2557076339536586
         },
         {
          "x": -1.6558878501060006,
          "y": -1.274263444685225
         },
         {
          "x": 1.8195046620175557,
          "y": 3.6200043122870884
         },
         {
          "x": 0.8163545067385397,
          "y": -0.8317454921088143
         },
         {
          "x": 0.7662498116356806,
          "y": 2.384840444834608
         },
         {
          "x": 1.1257360327851502,
          "y": 1.7859845913045813
         },
         {
          "x": 4.611842346847583,
          "y": 4.347436466872676
         },
         {
          "x": -0.4997674629823645,
          "y": 1.6386065280520665
         },
         {
          "x": 0.6805137549076272,
          "y": 2.0809354880343127
         },
         {
          "x": -1.2276053193716292,
          "y": 1.5053609995182469
         },
         {
          "x": 0.26980865269428045,
          "y": 1.3173122407868427
         },
         {
          "x": 0.33980825612635734,
          "y": 1.7880545592678714
         },
         {
          "x": 0.8939129956057164,
          "y": 1.1538564639753641
         },
         {
          "x": 2.757260959534748,
          "y": 3.2501390076996097
         },
         {
          "x": 1.9146001960686467,
          "y": 2.012574448855908
         },
         {
          "x": 2.242546287262429,
          "y": 2.8780280845878146
         },
         {
          "x": 2.66559184416073,
          "y": 2.6071833978121886
         },
         {
          "x": 1.0807890829632358,
          "y": 1.5847217087638683
         },
         {
          "x": 3.753056316152558,
          "y": 2.896167679764498
         },
         {
          "x": 0.9365669384185783,
          "y": 1.1217503139003198
         },
         {
          "x": 1.9139348638095286,
          "y": 3.272512979243905
         },
         {
          "x": -0.24225659206546157,
          "y": 0.19969627071055607
         },
         {
          "x": -0.4419867173218781,
          "y": 0.5616894711739973
         },
         {
          "x": 1.427668651895489,
          "y": 1.3165386751152248
         },
         {
          "x": 1.7791644355592022,
          "y": 3.8689402151067305
         },
         {
          "x": 2.8309634431677173,
          "y": 2.9274881228952156
         },
         {
          "x": 3.1223315260159605,
          "y": 3.521549815468201
         },
         {
          "x": -1.6313713088363953,
          "y": 0.31206035268628485
         },
         {
          "x": 3.765750339141502,
          "y": 3.2783886802298614
         },
         {
          "x": 4.304749490916674,
          "y": 4.51347583954258
         },
         {
          "x": -0.22402198388174543,
          "y": 0.8397247055459467
         },
         {
          "x": 2.6166264763725144,
          "y": 2.37822530405608
         },
         {
          "x": 3.4564126140088742,
          "y": 2.857069073569229
         },
         {
          "x": -0.39555273398953217,
          "y": 3.3510708564109914
         },
         {
          "x": 0.19100497919109538,
          "y": 0.7167248834405726
         },
         {
          "x": 2.309955880591554,
          "y": 4.075911782581175
         },
         {
          "x": -0.7839633958047114,
          "y": 1.074581337412423
         },
         {
          "x": 4.661904690610287,
          "y": 4.77487788291958
         },
         {
          "x": 2.4142570028918175,
          "y": 1.6249870505589108
         },
         {
          "x": 2.3667257033806113,
          "y": 2.3161427341212977
         },
         {
          "x": 2.3285005880218854,
          "y": 2.5897822232392746
         },
         {
          "x": -1.6108791778144442,
          "y": 0.5682215049788508
         },
         {
          "x": 0.26661988378973656,
          "y": 1.6197384315116778
         },
         {
          "x": -1.1467679602070215,
          "y": 1.0483352700569004
         },
         {
          "x": -0.8814694170481074,
          "y": -0.9485827122462887
         },
         {
          "x": 2.291054428376187,
          "y": 3.052371707613454
         },
         {
          "x": -1.0464317727201888,
          "y": -0.18957658667642008
         },
         {
          "x": 3.3355372318955645,
          "y": 3.2532892493630743
         },
         {
          "x": -0.5821805694568498,
          "y": 1.5975843370838916
         }
        ]
       },
       "encoding": {
        "color": {
         "field": "y",
         "type": "quantitative"
        },
        "size": {
         "field": "x",
         "type": "q"
        },
        "x": {
         "field": "x",
         "type": "q"
        },
        "y": {
         "field": "y",
         "type": "quantitative"
        }
       },
       "height": 300,
       "mark": "point",
       "width": 400
      },
      "image/png": "[encoded data removed]",
      "image/svg+xml": [
       "<?xml version=\"1.0\" encoding=\"utf-8\"?>\n",
       "<!DOCTYPE svg PUBLIC \"-//W3C//DTD SVG 1.1//EN\" \"http://www.w3.org/Graphics/SVG/1.1/DTD/svg11.dtd\">\n",
       "<svg class=\"marks\" width=\"493\" height=\"347\" viewBox=\"0 0 493 347\" version=\"1.1\" xmlns=\"http://www.w3.org/2000/svg\" xmlns:xlink=\"http://www.w3.org/1999/xlink\"><defs><linearGradient id=\"gradient_0\" x1=\"0\" x2=\"0\" y1=\"1\" y2=\"0\"><stop offset=\"0\" stop-color=\"rgb(207, 225, 242)\"></stop><stop offset=\"0.04160680974802698\" stop-color=\"rgb(200, 221, 240)\"></stop><stop offset=\"0.1087566303180463\" stop-color=\"rgb(188, 215, 235)\"></stop><stop offset=\"0.17590645088806564\" stop-color=\"rgb(173, 208, 231)\"></stop><stop offset=\"0.24305627145808498\" stop-color=\"rgb(157, 200, 226)\"></stop><stop offset=\"0.3102060920281043\" stop-color=\"rgb(140, 191, 221)\"></stop><stop offset=\"0.3773559125981236\" stop-color=\"rgb(122, 181, 217)\"></stop><stop offset=\"0.44450573316814296\" stop-color=\"rgb(105, 171, 211)\"></stop><stop offset=\"0.5116555537381623\" stop-color=\"rgb(88, 161, 206)\"></stop><stop offset=\"0.5788053743081817\" stop-color=\"rgb(74, 150, 200)\"></stop><stop offset=\"0.645955194878201\" stop-color=\"rgb(60, 138, 194)\"></stop><stop offset=\"0.7131050154482204\" stop-color=\"rgb(47, 127, 188)\"></stop><stop offset=\"0.7802548360182396\" stop-color=\"rgb(35, 115, 180)\"></stop><stop offset=\"0.8474046565882589\" stop-color=\"rgb(25, 102, 171)\"></stop><stop offset=\"0.9145544771582783\" stop-color=\"rgb(17, 89, 161)\"></stop><stop offset=\"0.9817042977282976\" stop-color=\"rgb(11, 77, 148)\"></stop><stop offset=\"1\" stop-color=\"rgb(10, 74, 144)\"></stop></linearGradient></defs><rect width=\"493\" height=\"347\" fill=\"white\"></rect><g fill=\"none\" stroke-miterlimit=\"10\" transform=\"translate(37,10)\"><g class=\"mark-group role-frame root\" role=\"graphics-object\" aria-roledescription=\"group mark container\"><g transform=\"translate(0,0)\"><path class=\"background\" aria-hidden=\"true\" d=\"M0.5,0.5h400v300h-400Z\" stroke=\"#ddd\"></path><g><g class=\"mark-group role-axis\" aria-hidden=\"true\"><g transform=\"translate(0.5,300.5)\"><path class=\"background\" aria-hidden=\"true\" d=\"M0,0h0v0h0Z\" pointer-events=\"none\"></path><g><g class=\"mark-rule role-axis-grid\" pointer-events=\"none\"><line transform=\"translate(0,-300)\" x2=\"0\" y2=\"300\" stroke=\"#ddd\" stroke-width=\"1\" opacity=\"1\"></line><line transform=\"translate(40,-300)\" x2=\"0\" y2=\"300\" stroke=\"#ddd\" stroke-width=\"1\" opacity=\"1\"></line><line transform=\"translate(80,-300)\" x2=\"0\" y2=\"300\" stroke=\"#ddd\" stroke-width=\"1\" opacity=\"1\"></line><line transform=\"translate(120,-300)\" x2=\"0\" y2=\"300\" stroke=\"#ddd\" stroke-width=\"1\" opacity=\"1\"></line><line transform=\"translate(160,-300)\" x2=\"0\" y2=\"300\" stroke=\"#ddd\" stroke-width=\"1\" opacity=\"1\"></line><line transform=\"translate(200,-300)\" x2=\"0\" y2=\"300\" stroke=\"#ddd\" stroke-width=\"1\" opacity=\"1\"></line><line transform=\"translate(240,-300)\" x2=\"0\" y2=\"300\" stroke=\"#ddd\" stroke-width=\"1\" opacity=\"1\"></line><line transform=\"translate(280,-300)\" x2=\"0\" y2=\"300\" stroke=\"#ddd\" stroke-width=\"1\" opacity=\"1\"></line><line transform=\"translate(320,-300)\" x2=\"0\" y2=\"300\" stroke=\"#ddd\" stroke-width=\"1\" opacity=\"1\"></line><line transform=\"translate(360,-300)\" x2=\"0\" y2=\"300\" stroke=\"#ddd\" stroke-width=\"1\" opacity=\"1\"></line><line transform=\"translate(400,-300)\" x2=\"0\" y2=\"300\" stroke=\"#ddd\" stroke-width=\"1\" opacity=\"1\"></line></g></g><path class=\"foreground\" aria-hidden=\"true\" d=\"\" pointer-events=\"none\" display=\"none\"></path></g></g><g class=\"mark-group role-axis\" aria-hidden=\"true\"><g transform=\"translate(0.5,0.5)\"><path class=\"background\" aria-hidden=\"true\" d=\"M0,0h0v0h0Z\" pointer-events=\"none\"></path><g><g class=\"mark-rule role-axis-grid\" pointer-events=\"none\"><line transform=\"translate(0,300)\" x2=\"400\" y2=\"0\" stroke=\"#ddd\" stroke-width=\"1\" opacity=\"1\"></line><line transform=\"translate(0,263)\" x2=\"400\" y2=\"0\" stroke=\"#ddd\" stroke-width=\"1\" opacity=\"1\"></line><line transform=\"translate(0,225)\" x2=\"400\" y2=\"0\" stroke=\"#ddd\" stroke-width=\"1\" opacity=\"1\"></line><line transform=\"translate(0,188)\" x2=\"400\" y2=\"0\" stroke=\"#ddd\" stroke-width=\"1\" opacity=\"1\"></line><line transform=\"translate(0,150)\" x2=\"400\" y2=\"0\" stroke=\"#ddd\" stroke-width=\"1\" opacity=\"1\"></line><line transform=\"translate(0,113)\" x2=\"400\" y2=\"0\" stroke=\"#ddd\" stroke-width=\"1\" opacity=\"1\"></line><line transform=\"translate(0,75)\" x2=\"400\" y2=\"0\" stroke=\"#ddd\" stroke-width=\"1\" opacity=\"1\"></line><line transform=\"translate(0,38)\" x2=\"400\" y2=\"0\" stroke=\"#ddd\" stroke-width=\"1\" opacity=\"1\"></line><line transform=\"translate(0,0)\" x2=\"400\" y2=\"0\" stroke=\"#ddd\" stroke-width=\"1\" opacity=\"1\"></line></g></g><path class=\"foreground\" aria-hidden=\"true\" d=\"\" pointer-events=\"none\" display=\"none\"></path></g></g><g class=\"mark-group role-axis\" role=\"graphics-symbol\" aria-roledescription=\"axis\" aria-label=\"X-axis titled 'x' for a linear scale with values from -4 to 6\"><g transform=\"translate(0.5,300.5)\"><path class=\"background\" aria-hidden=\"true\" d=\"M0,0h0v0h0Z\" pointer-events=\"none\"></path><g><g class=\"mark-rule role-axis-tick\" pointer-events=\"none\"><line transform=\"translate(0,0)\" x2=\"0\" y2=\"5\" stroke=\"#888\" stroke-width=\"1\" opacity=\"1\"></line><line transform=\"translate(40,0)\" x2=\"0\" y2=\"5\" stroke=\"#888\" stroke-width=\"1\" opacity=\"1\"></line><line transform=\"translate(80,0)\" x2=\"0\" y2=\"5\" stroke=\"#888\" stroke-width=\"1\" opacity=\"1\"></line><line transform=\"translate(120,0)\" x2=\"0\" y2=\"5\" stroke=\"#888\" stroke-width=\"1\" opacity=\"1\"></line><line transform=\"translate(160,0)\" x2=\"0\" y2=\"5\" stroke=\"#888\" stroke-width=\"1\" opacity=\"1\"></line><line transform=\"translate(200,0)\" x2=\"0\" y2=\"5\" stroke=\"#888\" stroke-width=\"1\" opacity=\"1\"></line><line transform=\"translate(240,0)\" x2=\"0\" y2=\"5\" stroke=\"#888\" stroke-width=\"1\" opacity=\"1\"></line><line transform=\"translate(280,0)\" x2=\"0\" y2=\"5\" stroke=\"#888\" stroke-width=\"1\" opacity=\"1\"></line><line transform=\"translate(320,0)\" x2=\"0\" y2=\"5\" stroke=\"#888\" stroke-width=\"1\" opacity=\"1\"></line><line transform=\"translate(360,0)\" x2=\"0\" y2=\"5\" stroke=\"#888\" stroke-width=\"1\" opacity=\"1\"></line><line transform=\"translate(400,0)\" x2=\"0\" y2=\"5\" stroke=\"#888\" stroke-width=\"1\" opacity=\"1\"></line></g><g class=\"mark-text role-axis-label\" pointer-events=\"none\"><text text-anchor=\"start\" transform=\"translate(0,15)\" font-family=\"sans-serif\" font-size=\"10px\" fill=\"#000\" opacity=\"1\">-4</text><text text-anchor=\"middle\" transform=\"translate(40,15)\" font-family=\"sans-serif\" font-size=\"10px\" fill=\"#000\" opacity=\"1\">-3</text><text text-anchor=\"middle\" transform=\"translate(80,15)\" font-family=\"sans-serif\" font-size=\"10px\" fill=\"#000\" opacity=\"1\">-2</text><text text-anchor=\"middle\" transform=\"translate(120,15)\" font-family=\"sans-serif\" font-size=\"10px\" fill=\"#000\" opacity=\"1\">-1</text><text text-anchor=\"middle\" transform=\"translate(160,15)\" font-family=\"sans-serif\" font-size=\"10px\" fill=\"#000\" opacity=\"1\">0</text><text text-anchor=\"middle\" transform=\"translate(200,15)\" font-family=\"sans-serif\" font-size=\"10px\" fill=\"#000\" opacity=\"1\">1</text><text text-anchor=\"middle\" transform=\"translate(240,15)\" font-family=\"sans-serif\" font-size=\"10px\" fill=\"#000\" opacity=\"1\">2</text><text text-anchor=\"middle\" transform=\"translate(280,15)\" font-family=\"sans-serif\" font-size=\"10px\" fill=\"#000\" opacity=\"1\">3</text><text text-anchor=\"middle\" transform=\"translate(320,15)\" font-family=\"sans-serif\" font-size=\"10px\" fill=\"#000\" opacity=\"1\">4</text><text text-anchor=\"middle\" transform=\"translate(360,15)\" font-family=\"sans-serif\" font-size=\"10px\" fill=\"#000\" opacity=\"1\">5</text><text text-anchor=\"end\" transform=\"translate(400,15)\" font-family=\"sans-serif\" font-size=\"10px\" fill=\"#000\" opacity=\"1\">6</text></g><g class=\"mark-rule role-axis-domain\" pointer-events=\"none\"><line transform=\"translate(0,0)\" x2=\"400\" y2=\"0\" stroke=\"#888\" stroke-width=\"1\" opacity=\"1\"></line></g><g class=\"mark-text role-axis-title\" pointer-events=\"none\"><text text-anchor=\"middle\" transform=\"translate(200,30)\" font-family=\"sans-serif\" font-size=\"11px\" font-weight=\"bold\" fill=\"#000\" opacity=\"1\">x</text></g></g><path class=\"foreground\" aria-hidden=\"true\" d=\"\" pointer-events=\"none\" display=\"none\"></path></g></g><g class=\"mark-group role-axis\" role=\"graphics-symbol\" aria-roledescription=\"axis\" aria-label=\"Y-axis titled 'y' for a linear scale with values from -2 to 6\"><g transform=\"translate(0.5,0.5)\"><path class=\"background\" aria-hidden=\"true\" d=\"M0,0h0v0h0Z\" pointer-events=\"none\"></path><g><g class=\"mark-rule role-axis-tick\" pointer-events=\"none\"><line transform=\"translate(0,300)\" x2=\"-5\" y2=\"0\" stroke=\"#888\" stroke-width=\"1\" opacity=\"1\"></line><line transform=\"translate(0,263)\" x2=\"-5\" y2=\"0\" stroke=\"#888\" stroke-width=\"1\" opacity=\"1\"></line><line transform=\"translate(0,225)\" x2=\"-5\" y2=\"0\" stroke=\"#888\" stroke-width=\"1\" opacity=\"1\"></line><line transform=\"translate(0,188)\" x2=\"-5\" y2=\"0\" stroke=\"#888\" stroke-width=\"1\" opacity=\"1\"></line><line transform=\"translate(0,150)\" x2=\"-5\" y2=\"0\" stroke=\"#888\" stroke-width=\"1\" opacity=\"1\"></line><line transform=\"translate(0,113)\" x2=\"-5\" y2=\"0\" stroke=\"#888\" stroke-width=\"1\" opacity=\"1\"></line><line transform=\"translate(0,75)\" x2=\"-5\" y2=\"0\" stroke=\"#888\" stroke-width=\"1\" opacity=\"1\"></line><line transform=\"translate(0,38)\" x2=\"-5\" y2=\"0\" stroke=\"#888\" stroke-width=\"1\" opacity=\"1\"></line><line transform=\"translate(0,0)\" x2=\"-5\" y2=\"0\" stroke=\"#888\" stroke-width=\"1\" opacity=\"1\"></line></g><g class=\"mark-text role-axis-label\" pointer-events=\"none\"><text text-anchor=\"end\" transform=\"translate(-7,303)\" font-family=\"sans-serif\" font-size=\"10px\" fill=\"#000\" opacity=\"1\">-2</text><text text-anchor=\"end\" transform=\"translate(-7,265.5)\" font-family=\"sans-serif\" font-size=\"10px\" fill=\"#000\" opacity=\"1\">-1</text><text text-anchor=\"end\" transform=\"translate(-7,228)\" font-family=\"sans-serif\" font-size=\"10px\" fill=\"#000\" opacity=\"1\">0</text><text text-anchor=\"end\" transform=\"translate(-7,190.5)\" font-family=\"sans-serif\" font-size=\"10px\" fill=\"#000\" opacity=\"1\">1</text><text text-anchor=\"end\" transform=\"translate(-7,153)\" font-family=\"sans-serif\" font-size=\"10px\" fill=\"#000\" opacity=\"1\">2</text><text text-anchor=\"end\" transform=\"translate(-7,115.5)\" font-family=\"sans-serif\" font-size=\"10px\" fill=\"#000\" opacity=\"1\">3</text><text text-anchor=\"end\" transform=\"translate(-7,78)\" font-family=\"sans-serif\" font-size=\"10px\" fill=\"#000\" opacity=\"1\">4</text><text text-anchor=\"end\" transform=\"translate(-7,40.5)\" font-family=\"sans-serif\" font-size=\"10px\" fill=\"#000\" opacity=\"1\">5</text><text text-anchor=\"end\" transform=\"translate(-7,3)\" font-family=\"sans-serif\" font-size=\"10px\" fill=\"#000\" opacity=\"1\">6</text></g><g class=\"mark-rule role-axis-domain\" pointer-events=\"none\"><line transform=\"translate(0,300)\" x2=\"0\" y2=\"-300\" stroke=\"#888\" stroke-width=\"1\" opacity=\"1\"></line></g><g class=\"mark-text role-axis-title\" pointer-events=\"none\"><text text-anchor=\"middle\" transform=\"translate(-21,150) rotate(-90) translate(0,-2)\" font-family=\"sans-serif\" font-size=\"11px\" font-weight=\"bold\" fill=\"#000\" opacity=\"1\">y</text></g></g><path class=\"foreground\" aria-hidden=\"true\" d=\"\" pointer-events=\"none\" display=\"none\"></path></g></g><g class=\"mark-symbol role-mark marks\" role=\"graphics-object\" aria-roledescription=\"symbol mark container\"><path aria-label=\"x: 0.296785151568; y: 1.32827578991\" role=\"graphics-symbol\" aria-roledescription=\"point\" transform=\"translate(171.87140606273795,175.18965787851423)\" d=\"M6.23889422107273,0A6.23889422107273,6.23889422107273,0,1,1,-6.23889422107273,0A6.23889422107273,6.23889422107273,0,1,1,6.23889422107273,0\" stroke=\"rgb(111, 175, 213)\" stroke-width=\"2\" opacity=\"0.7\"></path><path aria-label=\"x: 0.146815485764; y: 2.65365521361\" role=\"graphics-symbol\" aria-roledescription=\"point\" transform=\"translate(165.87261943055586,125.48792948974959)\" d=\"M6.117086258474156,0A6.117086258474156,6.117086258474156,0,1,1,-6.117086258474156,0A6.117086258474156,6.117086258474156,0,1,1,6.117086258474156,0\" stroke=\"rgb(69, 146, 198)\" stroke-width=\"2\" opacity=\"0.7\"></path><path aria-label=\"x: 4.50471796252; y: 4.02753254271\" role=\"graphics-symbol\" aria-roledescription=\"point\" transform=\"translate(340.1887185006027,73.96752964846235)\" d=\"M9.008525256763138,0A9.008525256763138,9.008525256763138,0,1,1,-9.008525256763138,0A9.008525256763138,9.008525256763138,0,1,1,9.008525256763138,0\" stroke=\"rgb(35, 114, 180)\" stroke-width=\"2\" opacity=\"0.7\"></path><path aria-label=\"x: 1.24537046144; y: 2.11596862251\" role=\"graphics-symbol\" aria-roledescription=\"point\" transform=\"translate(209.81481845775681,145.65117665586297)\" d=\"M6.960140668186827,0A6.960140668186827,6.960140668186827,0,1,1,-6.960140668186827,0A6.960140668186827,6.960140668186827,0,1,1,6.960140668186827,0\" stroke=\"rgb(85, 158, 205)\" stroke-width=\"2\" opacity=\"0.7\"></path><path aria-label=\"x: 0.10698473925; y: 1.92184004876\" role=\"graphics-symbol\" aria-roledescription=\"point\" transform=\"translate(164.2793895699994,152.9309981714056)\" d=\"M6.084325206248173,0A6.084325206248173,6.084325206248173,0,1,1,-6.084325206248173,0A6.084325206248173,6.084325206248173,0,1,1,6.084325206248173,0\" stroke=\"rgb(91, 163, 207)\" stroke-width=\"2\" opacity=\"0.7\"></path><path aria-label=\"x: -0.501833170018; y: 1.45550513472\" role=\"graphics-symbol\" aria-roledescription=\"point\" transform=\"translate(139.92667319928145,170.41855744801555)\" d=\"M5.559592972492598,0A5.559592972492598,5.559592972492598,0,1,1,-5.559592972492598,0A5.559592972492598,5.559592972492598,0,1,1,5.559592972492598,0\" stroke=\"rgb(106, 172, 212)\" stroke-width=\"2\" opacity=\"0.7\"></path><path aria-label=\"x: 0.315853403874; y: 2.78915695299\" role=\"graphics-symbol\" aria-roledescription=\"point\" transform=\"translate(172.63413615497575,120.4066142629899)\" d=\"M6.254211793176821,0A6.254211793176821,6.254211793176821,0,1,1,-6.254211793176821,0A6.254211793176821,6.254211793176821,0,1,1,6.254211793176821,0\" stroke=\"rgb(65, 143, 196)\" stroke-width=\"2\" opacity=\"0.7\"></path><path aria-label=\"x: 1.73177178721; y: 1.7831698138\" role=\"graphics-symbol\" aria-roledescription=\"point\" transform=\"translate(229.27087148855964,158.13113198243772)\" d=\"M7.302393862404637,0A7.302393862404637,7.302393862404637,0,1,1,-7.302393862404637,0A7.302393862404637,7.302393862404637,0,1,1,7.302393862404637,0\" stroke=\"rgb(95, 166, 208)\" stroke-width=\"2\" opacity=\"0.7\"></path><path aria-label=\"x: 2.92782772492; y: 2.41195226986\" role=\"graphics-symbol\" aria-roledescription=\"point\" transform=\"translate(277.1131089966142,134.55178988025557)\" d=\"M8.082590204005834,0A8.082590204005834,8.082590204005834,0,1,1,-8.082590204005834,0A8.082590204005834,8.082590204005834,0,1,1,8.082590204005834,0\" stroke=\"rgb(76, 152, 201)\" stroke-width=\"2\" opacity=\"0.7\"></path><path aria-label=\"x: 1.48018588844; y: 2.47156147049\" role=\"graphics-symbol\" aria-roledescription=\"point\" transform=\"translate(219.20743553756168,132.3164448565613)\" d=\"M7.1274192426846055,0A7.1274192426846055,7.1274192426846055,0,1,1,-7.1274192426846055,0A7.1274192426846055,7.1274192426846055,0,1,1,7.1274192426846055,0\" stroke=\"rgb(75, 150, 200)\" stroke-width=\"2\" opacity=\"0.7\"></path><path aria-label=\"x: -0.759004761899; y: 1.5965355303\" role=\"graphics-symbol\" aria-roledescription=\"point\" transform=\"translate(129.63980952402346,165.1299176136825)\" d=\"M5.322421101964282,0A5.322421101964282,5.322421101964282,0,1,1,-5.322421101964282,0A5.322421101964282,5.322421101964282,0,1,1,5.322421101964282,0\" stroke=\"rgb(102, 169, 210)\" stroke-width=\"2\" opacity=\"0.7\"></path><path aria-label=\"x: 2.39372966046; y: 2.33916255812\" role=\"graphics-symbol\" aria-roledescription=\"point\" transform=\"translate(255.74918641857337,137.28140407054238)\" d=\"M7.743913368731112,0A7.743913368731112,7.743913368731112,0,1,1,-7.743913368731112,0A7.743913368731112,7.743913368731112,0,1,1,7.743913368731112,0\" stroke=\"rgb(78, 153, 202)\" stroke-width=\"2\" opacity=\"0.7\"></path><path aria-label=\"x: -0.268733462577; y: 1.243944693\" role=\"graphics-symbol\" aria-roledescription=\"point\" transform=\"translate(149.25066149690258,178.35207401259575)\" d=\"M5.766142769806286,0A5.766142769806286,5.766142769806286,0,1,1,-5.766142769806286,0A5.766142769806286,5.766142769806286,0,1,1,5.766142769806286,0\" stroke=\"rgb(113, 176, 214)\" stroke-width=\"2\" opacity=\"0.7\"></path><path aria-label=\"x: 0.823718033392; y: 2.52632727272\" role=\"graphics-symbol\" aria-roledescription=\"point\" transform=\"translate(192.94872133569754,130.2627272731586)\" d=\"M6.649207721535362,0A6.649207721535362,6.649207721535362,0,1,1,-6.649207721535362,0A6.649207721535362,6.649207721535362,0,1,1,6.649207721535362,0\" stroke=\"rgb(73, 149, 200)\" stroke-width=\"2\" opacity=\"0.7\"></path><path aria-label=\"x: -0.860373698491; y: -0.284661961951\" role=\"graphics-symbol\" aria-roledescription=\"point\" transform=\"translate(125.58505206037567,235.6748235731503)\" d=\"M5.225978753938132,0A5.225978753938132,5.225978753938132,0,1,1,-5.225978753938132,0A5.225978753938132,5.225978753938132,0,1,1,5.225978753938132,0\" stroke=\"rgb(167, 205, 229)\" stroke-width=\"2\" opacity=\"0.7\"></path><path aria-label=\"x: -1.96394076831; y: 0.751405485727\" role=\"graphics-symbol\" aria-roledescription=\"point\" transform=\"translate(81.4423692676769,196.82229428522092)\" d=\"M4.029359754083917,0A4.029359754083917,4.029359754083917,0,1,1,-4.029359754083917,0A4.029359754083917,4.029359754083917,0,1,1,4.029359754083917,0\" stroke=\"rgb(131, 186, 219)\" stroke-width=\"2\" opacity=\"0.7\"></path><path aria-label=\"x: 0.646755813014; y: 1.23860855143\" role=\"graphics-symbol\" aria-roledescription=\"point\" transform=\"translate(185.87023252056937,178.55217932123406)\" d=\"M6.514293224457328,0A6.514293224457328,6.514293224457328,0,1,1,-6.514293224457328,0A6.514293224457328,6.514293224457328,0,1,1,6.514293224457328,0\" stroke=\"rgb(114, 177, 214)\" stroke-width=\"2\" opacity=\"0.7\"></path><path aria-label=\"x: -0.666881427197; y: 0.968814274932\" role=\"graphics-symbol\" aria-roledescription=\"point\" transform=\"translate(133.3247429121266,188.66946469003202)\" d=\"M5.408575816748743,0A5.408575816748743,5.408575816748743,0,1,1,-5.408575816748743,0A5.408575816748743,5.408575816748743,0,1,1,5.408575816748743,0\" stroke=\"rgb(123, 182, 217)\" stroke-width=\"2\" opacity=\"0.7\"></path><path aria-label=\"x: 5.17852859291; y: 3.96800473204\" role=\"graphics-symbol\" aria-roledescription=\"point\" transform=\"translate(367.14114371629523,76.1998225483453)\" d=\"M9.3763381258324,0A9.3763381258324,9.3763381258324,0,1,1,-9.3763381258324,0A9.3763381258324,9.3763381258324,0,1,1,9.3763381258324,0\" stroke=\"rgb(36, 115, 181)\" stroke-width=\"2\" opacity=\"0.7\"></path><path aria-label=\"x: 2.58646948988; y: 2.00191511605\" role=\"graphics-symbol\" aria-roledescription=\"point\" transform=\"translate(263.45877959527206,149.92818314806075)\" d=\"M7.867812998483642,0A7.867812998483642,7.867812998483642,0,1,1,-7.867812998483642,0A7.867812998483642,7.867812998483642,0,1,1,7.867812998483642,0\" stroke=\"rgb(88, 161, 206)\" stroke-width=\"2\" opacity=\"0.7\"></path><path aria-label=\"x: 0.287573632245; y: 0.00269589363443\" role=\"graphics-symbol\" aria-roledescription=\"point\" transform=\"translate(171.50294528978105,224.8989039887089)\" d=\"M6.231481097974097,0A6.231481097974097,6.231481097974097,0,1,1,-6.231481097974097,0A6.231481097974097,6.231481097974097,0,1,1,6.231481097974097,0\" stroke=\"rgb(157, 200, 226)\" stroke-width=\"2\" opacity=\"0.7\"></path><path aria-label=\"x: 0.485357617798; y: 1.10208324362\" role=\"graphics-symbol\" aria-roledescription=\"point\" transform=\"translate(179.4143047119087,183.67187836436707)\" d=\"M6.388760884434444,0A6.388760884434444,6.388760884434444,0,1,1,-6.388760884434444,0A6.388760884434444,6.388760884434444,0,1,1,6.388760884434444,0\" stroke=\"rgb(118, 179, 216)\" stroke-width=\"2\" opacity=\"0.7\"></path><path aria-label=\"x: 5.41112558992; y: 5.39569945928\" role=\"graphics-symbol\" aria-roledescription=\"point\" transform=\"translate(376.4450235967858,22.66127027694873)\" d=\"M9.5,0A9.5,9.5,0,1,1,-9.5,0A9.5,9.5,0,1,1,9.5,0\" stroke=\"rgb(13, 80, 150)\" stroke-width=\"2\" opacity=\"0.7\"></path><path aria-label=\"x: 1.15121983612; y: 1.38656380341\" role=\"graphics-symbol\" aria-roledescription=\"point\" transform=\"translate(206.0487934449268,173.0038573722817)\" d=\"M6.89192910420217,0A6.89192910420217,6.89192910420217,0,1,1,-6.89192910420217,0A6.89192910420217,6.89192910420217,0,1,1,6.89192910420217,0\" stroke=\"rgb(109, 174, 213)\" stroke-width=\"2\" opacity=\"0.7\"></path><path aria-label=\"x: -0.75536699221; y: 0.768014409548\" role=\"graphics-symbol\" aria-roledescription=\"point\" transform=\"translate(129.78532031159236,196.19945964193877)\" d=\"M5.3258496132633155,0A5.3258496132633155,5.3258496132633155,0,1,1,-5.3258496132633155,0A5.3258496132633155,5.3258496132633155,0,1,1,5.3258496132633155,0\" stroke=\"rgb(131, 186, 219)\" stroke-width=\"2\" opacity=\"0.7\"></path><path aria-label=\"x: 3.7504543101; y: 2.58338435706\" role=\"graphics-symbol\" aria-roledescription=\"point\" transform=\"translate(310.0181724038706,128.12308661037542)\" d=\"M8.578107729366845,0A8.578107729366845,8.578107729366845,0,1,1,-8.578107729366845,0A8.578107729366845,8.578107729366845,0,1,1,8.578107729366845,0\" stroke=\"rgb(71, 148, 199)\" stroke-width=\"2\" opacity=\"0.7\"></path><path aria-label=\"x: 0.879806259058; y: 1.53190564464\" role=\"graphics-symbol\" aria-roledescription=\"point\" transform=\"translate(195.1922503623282,167.5535383261503)\" d=\"M6.691401218098196,0A6.691401218098196,6.691401218098196,0,1,1,-6.691401218098196,0A6.691401218098196,6.691401218098196,0,1,1,6.691401218098196,0\" stroke=\"rgb(104, 171, 211)\" stroke-width=\"2\" opacity=\"0.7\"></path><path aria-label=\"x: -0.000567790717988; y: 1.84018935428\" role=\"graphics-symbol\" aria-roledescription=\"point\" transform=\"translate(159.97728837128048,155.99289921435664)\" d=\"M5.994968208448853,0A5.994968208448853,5.994968208448853,0,1,1,-5.994968208448853,0A5.994968208448853,5.994968208448853,0,1,1,5.994968208448853,0\" stroke=\"rgb(93, 164, 208)\" stroke-width=\"2\" opacity=\"0.7\"></path><path aria-label=\"x: 2.64964240644; y: 3.53379862839\" role=\"graphics-symbol\" aria-roledescription=\"point\" transform=\"translate(265.9856962575064,92.482551435308)\" d=\"M7.908000280941244,0A7.908000280941244,7.908000280941244,0,1,1,-7.908000280941244,0A7.908000280941244,7.908000280941244,0,1,1,7.908000280941244,0\" stroke=\"rgb(46, 126, 187)\" stroke-width=\"2\" opacity=\"0.7\"></path><path aria-label=\"x: 4.18368474923; y: 3.61209810792\" role=\"graphics-symbol\" aria-roledescription=\"point\" transform=\"translate(327.3473899690952,89.54632095301757)\" d=\"M8.827894479457465,0A8.827894479457465,8.827894479457465,0,1,1,-8.827894479457465,0A8.827894479457465,8.827894479457465,0,1,1,8.827894479457465,0\" stroke=\"rgb(44, 124, 186)\" stroke-width=\"2\" opacity=\"0.7\"></path><path aria-label=\"x: -1.41430657512; y: 0.634936642344\" role=\"graphics-symbol\" aria-roledescription=\"point\" transform=\"translate(103.42773699503192,201.1898759121064)\" d=\"M4.663874649274286,0A4.663874649274286,4.663874649274286,0,1,1,-4.663874649274286,0A4.663874649274286,4.663874649274286,0,1,1,4.663874649274286,0\" stroke=\"rgb(135, 189, 220)\" stroke-width=\"2\" opacity=\"0.7\"></path><path aria-label=\"x: -0.970729506117; y: 0.0874099270905\" role=\"graphics-symbol\" aria-roledescription=\"point\" transform=\"translate(121.17081975530392,221.72212773410587)\" d=\"M5.118920938188876,0A5.118920938188876,5.118920938188876,0,1,1,-5.118920938188876,0A5.118920938188876,5.118920938188876,0,1,1,5.118920938188876,0\" stroke=\"rgb(154, 199, 225)\" stroke-width=\"2\" opacity=\"0.7\"></path><path aria-label=\"x: 2.46896611641; y: 3.73587573761\" role=\"graphics-symbol\" aria-roledescription=\"point\" transform=\"translate(258.75864465623613,84.90465983973232)\" d=\"M7.7925122964462785,0A7.7925122964462785,7.7925122964462785,0,1,1,-7.7925122964462785,0A7.7925122964462785,7.7925122964462785,0,1,1,7.7925122964462785,0\" stroke=\"rgb(41, 121, 184)\" stroke-width=\"2\" opacity=\"0.7\"></path><path aria-label=\"x: 2.60076445567; y: 3.47308029852\" role=\"graphics-symbol\" aria-roledescription=\"point\" transform=\"translate(264.03057822689846,94.75948880535834)\" d=\"M7.8769246512466875,0A7.8769246512466875,7.8769246512466875,0,1,1,-7.8769246512466875,0A7.8769246512466875,7.8769246512466875,0,1,1,7.8769246512466875,0\" stroke=\"rgb(47, 127, 188)\" stroke-width=\"2\" opacity=\"0.7\"></path><path aria-label=\"x: -0.150890812834; y: 0.931486955578\" role=\"graphics-symbol\" aria-roledescription=\"point\" transform=\"translate(153.96436748663837,190.0692391658421)\" d=\"M5.867796930669094,0A5.867796930669094,5.867796930669094,0,1,1,-5.867796930669094,0A5.867796930669094,5.867796930669094,0,1,1,5.867796930669094,0\" stroke=\"rgb(125, 183, 217)\" stroke-width=\"2\" opacity=\"0.7\"></path><path aria-label=\"x: 2.41720226413; y: 3.16387937649\" role=\"graphics-symbol\" aria-roledescription=\"point\" transform=\"translate(256.6880905653209,106.3545233816329)\" d=\"M7.759108147629697,0A7.759108147629697,7.759108147629697,0,1,1,-7.759108147629697,0A7.759108147629697,7.759108147629697,0,1,1,7.759108147629697,0\" stroke=\"rgb(55, 134, 192)\" stroke-width=\"2\" opacity=\"0.7\"></path><path aria-label=\"x: 2.11868946716; y: 2.09670034832\" role=\"graphics-symbol\" aria-roledescription=\"point\" transform=\"translate(244.74757868654544,146.37373693818097)\" d=\"M7.563594513413841,0A7.563594513413841,7.563594513413841,0,1,1,-7.563594513413841,0A7.563594513413841,7.563594513413841,0,1,1,7.563594513413841,0\" stroke=\"rgb(86, 159, 205)\" stroke-width=\"2\" opacity=\"0.7\"></path><path aria-label=\"x: 1.06054209511; y: 2.17613574442\" role=\"graphics-symbol\" aria-roledescription=\"point\" transform=\"translate(202.4216838042024,143.39490958433933)\" d=\"M6.825589234863533,0A6.825589234863533,6.825589234863533,0,1,1,-6.825589234863533,0A6.825589234863533,6.825589234863533,0,1,1,6.825589234863533,0\" stroke=\"rgb(83, 157, 204)\" stroke-width=\"2\" opacity=\"0.7\"></path><path aria-label=\"x: 1.88038357126; y: 1.93515453362\" role=\"graphics-symbol\" aria-roledescription=\"point\" transform=\"translate(235.21534285037217,152.43170498937428)\" d=\"M7.403808856217123,0A7.403808856217123,7.403808856217123,0,1,1,-7.403808856217123,0A7.403808856217123,7.403808856217123,0,1,1,7.403808856217123,0\" stroke=\"rgb(90, 162, 207)\" stroke-width=\"2\" opacity=\"0.7\"></path><path aria-label=\"x: 1.98808529267; y: 1.93015544127\" role=\"graphics-symbol\" aria-roledescription=\"point\" transform=\"translate(239.52341170684372,152.619170952244)\" d=\"M7.4764464969159565,0A7.4764464969159565,7.4764464969159565,0,1,1,-7.4764464969159565,0A7.4764464969159565,7.4764464969159565,0,1,1,7.4764464969159565,0\" stroke=\"rgb(90, 163, 207)\" stroke-width=\"2\" opacity=\"0.7\"></path><path aria-label=\"x: -1.00094613198; y: 1.25088995001\" role=\"graphics-symbol\" aria-roledescription=\"point\" transform=\"translate(119.96215472085588,178.09162687465567)\" d=\"M5.089214607718602,0A5.089214607718602,5.089214607718602,0,1,1,-5.089214607718602,0A5.089214607718602,5.089214607718602,0,1,1,5.089214607718602,0\" stroke=\"rgb(113, 176, 214)\" stroke-width=\"2\" opacity=\"0.7\"></path><path aria-label=\"x: 0.0888635256392; y: 1.12240004817\" role=\"graphics-symbol\" aria-roledescription=\"point\" transform=\"translate(163.55454102556658,182.90999819370023)\" d=\"M6.069361860921033,0A6.069361860921033,6.069361860921033,0,1,1,-6.069361860921033,0A6.069361860921033,6.069361860921033,0,1,1,6.069361860921033,0\" stroke=\"rgb(118, 179, 215)\" stroke-width=\"2\" opacity=\"0.7\"></path><path aria-label=\"x: -0.808584098299; y: 0.319342346309\" role=\"graphics-symbol\" aria-roledescription=\"point\" transform=\"translate(127.65663606802681,213.02466201341187)\" d=\"M5.2754716357611535,0A5.2754716357611535,5.2754716357611535,0,1,1,-5.2754716357611535,0A5.2754716357611535,5.2754716357611535,0,1,1,5.2754716357611535,0\" stroke=\"rgb(147, 195, 223)\" stroke-width=\"2\" opacity=\"0.7\"></path><path aria-label=\"x: 2.11698687815; y: 2.69172174548\" role=\"graphics-symbol\" aria-roledescription=\"point\" transform=\"translate(244.67947512606133,124.0604345446528)\" d=\"M7.562464890499167,0A7.562464890499167,7.562464890499167,0,1,1,-7.562464890499167,0A7.562464890499167,7.562464890499167,0,1,1,7.562464890499167,0\" stroke=\"rgb(68, 145, 198)\" stroke-width=\"2\" opacity=\"0.7\"></path><path aria-label=\"x: -0.327490118939; y: 1.25854863397\" role=\"graphics-symbol\" aria-roledescription=\"point\" transform=\"translate(146.90039524245637,177.80442622621956)\" d=\"M5.714782220130028,0A5.714782220130028,5.714782220130028,0,1,1,-5.714782220130028,0A5.714782220130028,5.714782220130028,0,1,1,5.714782220130028,0\" stroke=\"rgb(113, 176, 214)\" stroke-width=\"2\" opacity=\"0.7\"></path><path aria-label=\"x: 2.59718419018; y: 3.13403243417\" role=\"graphics-symbol\" aria-roledescription=\"point\" transform=\"translate(263.8873676073356,107.4737837187469)\" d=\"M7.874643569219298,0A7.874643569219298,7.874643569219298,0,1,1,-7.874643569219298,0A7.874643569219298,7.874643569219298,0,1,1,7.874643569219298,0\" stroke=\"rgb(56, 135, 192)\" stroke-width=\"2\" opacity=\"0.7\"></path><path aria-label=\"x: 2.91405630968; y: 3.00342202924\" role=\"graphics-symbol\" aria-roledescription=\"point\" transform=\"translate(276.5622523871769,112.37167390333646)\" d=\"M8.074036044113456,0A8.074036044113456,8.074036044113456,0,1,1,-8.074036044113456,0A8.074036044113456,8.074036044113456,0,1,1,8.074036044113456,0\" stroke=\"rgb(60, 138, 194)\" stroke-width=\"2\" opacity=\"0.7\"></path><path aria-label=\"x: 0.557756622224; y: 1.06532349022\" role=\"graphics-symbol\" aria-roledescription=\"point\" transform=\"translate(182.3102648889538,185.05036911656424)\" d=\"M6.445373793367654,0A6.445373793367654,6.445373793367654,0,1,1,-6.445373793367654,0A6.445373793367654,6.445373793367654,0,1,1,6.445373793367654,0\" stroke=\"rgb(120, 180, 216)\" stroke-width=\"2\" opacity=\"0.7\"></path><path aria-label=\"x: 3.96987307369; y: 3.32463759095\" role=\"graphics-symbol\" aria-roledescription=\"point\" transform=\"translate(318.79492294771774,100.32609033932793)\" d=\"M8.705513323284292,0A8.705513323284292,8.705513323284292,0,1,1,-8.705513323284292,0A8.705513323284292,8.705513323284292,0,1,1,8.705513323284292,0\" stroke=\"rgb(51, 131, 190)\" stroke-width=\"2\" opacity=\"0.7\"></path><path aria-label=\"x: -1.83433416529; y: 0.207974270329\" role=\"graphics-symbol\" aria-roledescription=\"point\" transform=\"translate(86.62663338854793,217.20096486265396)\" d=\"M4.187653089793646,0A4.187653089793646,4.187653089793646,0,1,1,-4.187653089793646,0A4.187653089793646,4.187653089793646,0,1,1,4.187653089793646,0\" stroke=\"rgb(150, 197, 224)\" stroke-width=\"2\" opacity=\"0.7\"></path><path aria-label=\"x: 0.737567933029; y: 1.32215715791\" role=\"graphics-symbol\" aria-roledescription=\"point\" transform=\"translate(189.50271732117983,175.4191065782565)\" d=\"M6.583872962122019,0A6.583872962122019,6.583872962122019,0,1,1,-6.583872962122019,0A6.583872962122019,6.583872962122019,0,1,1,6.583872962122019,0\" stroke=\"rgb(111, 175, 213)\" stroke-width=\"2\" opacity=\"0.7\"></path><path aria-label=\"x: 1.23526264645; y: 4.18616684137\" role=\"graphics-symbol\" aria-roledescription=\"point\" transform=\"translate(209.4105058579872,68.01874344874699)\" d=\"M6.952849682102417,0A6.952849682102417,6.952849682102417,0,1,1,-6.952849682102417,0A6.952849682102417,6.952849682102417,0,1,1,6.952849682102417,0\" stroke=\"rgb(31, 110, 177)\" stroke-width=\"2\" opacity=\"0.7\"></path><path aria-label=\"x: 2.44074580524; y: 3.06534906161\" role=\"graphics-symbol\" aria-roledescription=\"point\" transform=\"translate(257.6298322096906,110.04941018954176)\" d=\"M7.774319014591252,0A7.774319014591252,7.774319014591252,0,1,1,-7.774319014591252,0A7.774319014591252,7.774319014591252,0,1,1,7.774319014591252,0\" stroke=\"rgb(58, 137, 193)\" stroke-width=\"2\" opacity=\"0.7\"></path><path aria-label=\"x: -0.741517541645; y: -0.531658638\" role=\"graphics-symbol\" aria-roledescription=\"point\" transform=\"translate(130.33929833421462,244.93719892501744)\" d=\"M5.33888224347996,0A5.33888224347996,5.33888224347996,0,1,1,-5.33888224347996,0A5.33888224347996,5.33888224347996,0,1,1,5.33888224347996,0\" stroke=\"rgb(174, 209, 231)\" stroke-width=\"2\" opacity=\"0.7\"></path><path aria-label=\"x: 4.79118286839; y: 5.1012776323\" role=\"graphics-symbol\" aria-roledescription=\"point\" transform=\"translate(351.64731473559357,33.702088788824824)\" d=\"M9.166701427646636,0A9.166701427646636,9.166701427646636,0,1,1,-9.166701427646636,0A9.166701427646636,9.166701427646636,0,1,1,9.166701427646636,0\" stroke=\"rgb(16, 87, 158)\" stroke-width=\"2\" opacity=\"0.7\"></path><path aria-label=\"x: 0.724783599305; y: 1.6993536666\" role=\"graphics-symbol\" aria-roledescription=\"point\" transform=\"translate(188.99134397219157,161.27423750249298)\" d=\"M6.574122216087912,0A6.574122216087912,6.574122216087912,0,1,1,-6.574122216087912,0A6.574122216087912,6.574122216087912,0,1,1,6.574122216087912,0\" stroke=\"rgb(98, 167, 209)\" stroke-width=\"2\" opacity=\"0.7\"></path><path aria-label=\"x: -0.538584715595; y: 0.231218101708\" role=\"graphics-symbol\" aria-roledescription=\"point\" transform=\"translate(138.4566113762125,216.3293211859502)\" d=\"M5.526322919119459,0A5.526322919119459,5.526322919119459,0,1,1,-5.526322919119459,0A5.526322919119459,5.526322919119459,0,1,1,5.526322919119459,0\" stroke=\"rgb(149, 196, 224)\" stroke-width=\"2\" opacity=\"0.7\"></path><path aria-label=\"x: 2.01173206602; y: 3.59670978169\" role=\"graphics-symbol\" aria-roledescription=\"point\" transform=\"translate(240.4692826407282,90.12338318662185)\" d=\"M7.492300389555169,0A7.492300389555169,7.492300389555169,0,1,1,-7.492300389555169,0A7.492300389555169,7.492300389555169,0,1,1,7.492300389555169,0\" stroke=\"rgb(45, 124, 186)\" stroke-width=\"2\" opacity=\"0.7\"></path><path aria-label=\"x: -3.03534025768; y: -1.11862062137\" role=\"graphics-symbol\" aria-roledescription=\"point\" transform=\"translate(38.58638969293235,266.94827330123076)\" d=\"M2.341677100520525,0A2.341677100520525,2.341677100520525,0,1,1,-2.341677100520525,0A2.341677100520525,2.341677100520525,0,1,1,2.341677100520525,0\" stroke=\"rgb(191, 217, 236)\" stroke-width=\"2\" opacity=\"0.7\"></path><path aria-label=\"x: 0.965784636688; y: 1.1539856679\" role=\"graphics-symbol\" aria-roledescription=\"point\" transform=\"translate(198.63138546750352,181.72553745376777)\" d=\"M6.755568594822782,0A6.755568594822782,6.755568594822782,0,1,1,-6.755568594822782,0A6.755568594822782,6.755568594822782,0,1,1,6.755568594822782,0\" stroke=\"rgb(117, 178, 215)\" stroke-width=\"2\" opacity=\"0.7\"></path><path aria-label=\"x: 0.552016495806; y: 0.875932409039\" role=\"graphics-symbol\" aria-roledescription=\"point\" transform=\"translate(182.0806598322436,192.15253466103712)\" d=\"M6.440903423509003,0A6.440903423509003,6.440903423509003,0,1,1,-6.440903423509003,0A6.440903423509003,6.440903423509003,0,1,1,6.440903423509003,0\" stroke=\"rgb(127, 184, 218)\" stroke-width=\"2\" opacity=\"0.7\"></path><path aria-label=\"x: 0.574606539403; y: 1.34999161522\" role=\"graphics-symbol\" aria-roledescription=\"point\" transform=\"translate(182.98426157613673,174.37531442929244)\" d=\"M6.458478516677296,0A6.458478516677296,6.458478516677296,0,1,1,-6.458478516677296,0A6.458478516677296,6.458478516677296,0,1,1,6.458478516677296,0\" stroke=\"rgb(110, 174, 213)\" stroke-width=\"2\" opacity=\"0.7\"></path><path aria-label=\"x: 2.05265052338; y: 2.53175542413\" role=\"graphics-symbol\" aria-roledescription=\"point\" transform=\"translate(242.10602093537855,130.05917159520936)\" d=\"M7.519655057950673,0A7.519655057950673,7.519655057950673,0,1,1,-7.519655057950673,0A7.519655057950673,7.519655057950673,0,1,1,7.519655057950673,0\" stroke=\"rgb(73, 149, 200)\" stroke-width=\"2\" opacity=\"0.7\"></path><path aria-label=\"x: 3.59045295687; y: 3.92390060198\" role=\"graphics-symbol\" aria-roledescription=\"point\" transform=\"translate(303.6181182747338,77.85372742576193)\" d=\"M8.48399669884939,0A8.48399669884939,8.48399669884939,0,1,1,-8.48399669884939,0A8.48399669884939,8.48399669884939,0,1,1,8.48399669884939,0\" stroke=\"rgb(37, 116, 181)\" stroke-width=\"2\" opacity=\"0.7\"></path><path aria-label=\"x: 0.553502319066; y: 2.86747251176\" role=\"graphics-symbol\" aria-roledescription=\"point\" transform=\"translate(182.14009276263093,117.46978080906518)\" d=\"M6.442060869722565,0A6.442060869722565,6.442060869722565,0,1,1,-6.442060869722565,0A6.442060869722565,6.442060869722565,0,1,1,6.442060869722565,0\" stroke=\"rgb(63, 141, 195)\" stroke-width=\"2\" opacity=\"0.7\"></path><path aria-label=\"x: 1.72706351027; y: 2.99692936702\" role=\"graphics-symbol\" aria-roledescription=\"point\" transform=\"translate(229.08254041077703,112.61514873693153)\" d=\"M7.299157833001556,0A7.299157833001556,7.299157833001556,0,1,1,-7.299157833001556,0A7.299157833001556,7.299157833001556,0,1,1,7.299157833001556,0\" stroke=\"rgb(60, 138, 194)\" stroke-width=\"2\" opacity=\"0.7\"></path><path aria-label=\"x: 2.76711919701; y: 2.37109255939\" role=\"graphics-symbol\" aria-roledescription=\"point\" transform=\"translate(270.68476788031376,136.08402902269034)\" d=\"M7.982194883178235,0A7.982194883178235,7.982194883178235,0,1,1,-7.982194883178235,0A7.982194883178235,7.982194883178235,0,1,1,7.982194883178235,0\" stroke=\"rgb(77, 153, 201)\" stroke-width=\"2\" opacity=\"0.7\"></path><path aria-label=\"x: 1.60309708312; y: 2.39664864944\" role=\"graphics-symbol\" aria-roledescription=\"point\" transform=\"translate(224.12388332484653,135.1256756461631)\" d=\"M7.213432611861739,0A7.213432611861739,7.213432611861739,0,1,1,-7.213432611861739,0A7.213432611861739,7.213432611861739,0,1,1,7.213432611861739,0\" stroke=\"rgb(77, 152, 201)\" stroke-width=\"2\" opacity=\"0.7\"></path><path aria-label=\"x: 3.08415465508; y: 4.10695963792\" role=\"graphics-symbol\" aria-roledescription=\"point\" transform=\"translate(283.3661862030529,70.9890135778205)\" d=\"M8.179066027128851,0A8.179066027128851,8.179066027128851,0,1,1,-8.179066027128851,0A8.179066027128851,8.179066027128851,0,1,1,8.179066027128851,0\" stroke=\"rgb(33, 112, 179)\" stroke-width=\"2\" opacity=\"0.7\"></path><path aria-label=\"x: 1.25657774608; y: 3.22401366685\" role=\"graphics-symbol\" aria-roledescription=\"point\" transform=\"translate(210.26310984300375,104.09948749313418)\" d=\"M6.968215807013728,0A6.968215807013728,6.968215807013728,0,1,1,-6.968215807013728,0A6.968215807013728,6.968215807013728,0,1,1,6.968215807013728,0\" stroke=\"rgb(54, 133, 191)\" stroke-width=\"2\" opacity=\"0.7\"></path><path aria-label=\"x: 0.654458087745; y: 2.50386111043\" role=\"graphics-symbol\" aria-roledescription=\"point\" transform=\"translate(186.1783235098151,131.1052083588149)\" d=\"M6.520223481817955,0A6.520223481817955,6.520223481817955,0,1,1,-6.520223481817955,0A6.520223481817955,6.520223481817955,0,1,1,6.520223481817955,0\" stroke=\"rgb(74, 150, 200)\" stroke-width=\"2\" opacity=\"0.7\"></path><path aria-label=\"x: 0.669672629143; y: 1.55662663273\" role=\"graphics-symbol\" aria-roledescription=\"point\" transform=\"translate(186.78690516572604,166.6265012727287)\" d=\"M6.53192188090912,0A6.53192188090912,6.53192188090912,0,1,1,-6.53192188090912,0A6.53192188090912,6.53192188090912,0,1,1,6.53192188090912,0\" stroke=\"rgb(103, 170, 211)\" stroke-width=\"2\" opacity=\"0.7\"></path><path aria-label=\"x: 0.496557662787; y: 1.44755802611\" role=\"graphics-symbol\" aria-roledescription=\"point\" transform=\"translate(179.86230651148685,170.7165740210054)\" d=\"M6.397551593811032,0A6.397551593811032,6.397551593811032,0,1,1,-6.397551593811032,0A6.397551593811032,6.397551593811032,0,1,1,6.397551593811032,0\" stroke=\"rgb(107, 172, 212)\" stroke-width=\"2\" opacity=\"0.7\"></path><path aria-label=\"x: 0.445429776911; y: 3.00236747995\" role=\"graphics-symbol\" aria-roledescription=\"point\" transform=\"translate(177.81719107645765,112.41121950193858)\" d=\"M6.357323347622405,0A6.357323347622405,6.357323347622405,0,1,1,-6.357323347622405,0A6.357323347622405,6.357323347622405,0,1,1,6.357323347622405,0\" stroke=\"rgb(60, 138, 194)\" stroke-width=\"2\" opacity=\"0.7\"></path><path aria-label=\"x: 0.676433700944; y: 1.50788599541\" role=\"graphics-symbol\" aria-roledescription=\"point\" transform=\"translate(187.05734803777236,168.45427517225835)\" d=\"M6.5371137230108225,0A6.5371137230108225,6.5371137230108225,0,1,1,-6.5371137230108225,0A6.5371137230108225,6.5371137230108225,0,1,1,6.5371137230108225,0\" stroke=\"rgb(105, 171, 211)\" stroke-width=\"2\" opacity=\"0.7\"></path><path aria-label=\"x: 1.20189921347; y: 1.32566105391\" role=\"graphics-symbol\" aria-roledescription=\"point\" transform=\"translate(208.0759685386611,175.28771047827388)\" d=\"M6.9287294586294035,0A6.9287294586294035,6.9287294586294035,0,1,1,-6.9287294586294035,0A6.9287294586294035,6.9287294586294035,0,1,1,6.9287294586294035,0\" stroke=\"rgb(111, 175, 213)\" stroke-width=\"2\" opacity=\"0.7\"></path><path aria-label=\"x: 4.07270728526; y: 5.63623046284\" role=\"graphics-symbol\" aria-roledescription=\"point\" transform=\"translate(322.9082914104328,13.641357643514207)\" d=\"M8.764586686939959,0A8.764586686939959,8.764586686939959,0,1,1,-8.764586686939959,0A8.764586686939959,8.764586686939959,0,1,1,8.764586686939959,0\" stroke=\"rgb(10, 74, 144)\" stroke-width=\"2\" opacity=\"0.7\"></path><path aria-label=\"x: 2.58092216528; y: 3.6577911138\" role=\"graphics-symbol\" aria-roledescription=\"point\" transform=\"translate(263.2368866113719,87.83283323244234)\" d=\"M7.864274274406272,0A7.864274274406272,7.864274274406272,0,1,1,-7.864274274406272,0A7.864274274406272,7.864274274406272,0,1,1,7.864274274406272,0\" stroke=\"rgb(43, 123, 185)\" stroke-width=\"2\" opacity=\"0.7\"></path><path aria-label=\"x: -1.10880102233; y: 1.80591547998\" role=\"graphics-symbol\" aria-roledescription=\"point\" transform=\"translate(115.64795910691782,157.27816950086415)\" d=\"M4.981736797313259,0A4.981736797313259,4.981736797313259,0,1,1,-4.981736797313259,0A4.981736797313259,4.981736797313259,0,1,1,4.981736797313259,0\" stroke=\"rgb(95, 165, 208)\" stroke-width=\"2\" opacity=\"0.7\"></path><path aria-label=\"x: 2.05870355775; y: 2.21138560127\" role=\"graphics-symbol\" aria-roledescription=\"point\" transform=\"translate(242.34814230997608,142.07303995241227)\" d=\"M7.523693167528446,0A7.523693167528446,7.523693167528446,0,1,1,-7.523693167528446,0A7.523693167528446,7.523693167528446,0,1,1,7.523693167528446,0\" stroke=\"rgb(82, 156, 203)\" stroke-width=\"2\" opacity=\"0.7\"></path><path aria-label=\"x: 2.12434231633; y: 1.72228406566\" role=\"graphics-symbol\" aria-roledescription=\"point\" transform=\"translate(244.9736926533208,160.41434753776392)\" d=\"M7.567343820436313,0A7.567343820436313,7.567343820436313,0,1,1,-7.567343820436313,0A7.567343820436313,7.567343820436313,0,1,1,7.567343820436313,0\" stroke=\"rgb(97, 167, 209)\" stroke-width=\"2\" opacity=\"0.7\"></path><path aria-label=\"x: 0.84445272606; y: 2.27838251324\" role=\"graphics-symbol\" aria-roledescription=\"point\" transform=\"translate(193.77810904239402,139.5606557534225)\" d=\"M6.664836932821283,0A6.664836932821283,6.664836932821283,0,1,1,-6.664836932821283,0A6.664836932821283,6.664836932821283,0,1,1,6.664836932821283,0\" stroke=\"rgb(80, 155, 203)\" stroke-width=\"2\" opacity=\"0.7\"></path><path aria-label=\"x: 1.03044805043; y: 3.40392080871\" role=\"graphics-symbol\" aria-roledescription=\"point\" transform=\"translate(201.21792201710193,97.35296967345721)\" d=\"M6.803429454925854,0A6.803429454925854,6.803429454925854,0,1,1,-6.803429454925854,0A6.803429454925854,6.803429454925854,0,1,1,6.803429454925854,0\" stroke=\"rgb(49, 129, 189)\" stroke-width=\"2\" opacity=\"0.7\"></path><path aria-label=\"x: 2.00528110035; y: 3.51191194755\" role=\"graphics-symbol\" aria-roledescription=\"point\" transform=\"translate(240.21124401409136,93.30330196677)\" d=\"M7.48797869275023,0A7.48797869275023,7.48797869275023,0,1,1,-7.48797869275023,0A7.48797869275023,7.48797869275023,0,1,1,7.48797869275023,0\" stroke=\"rgb(47, 126, 187)\" stroke-width=\"2\" opacity=\"0.7\"></path><path aria-label=\"x: 3.38988034193; y: 3.80309743331\" role=\"graphics-symbol\" aria-roledescription=\"point\" transform=\"translate(295.59521367715644,82.38384625069783)\" d=\"M8.36452658900576,0A8.36452658900576,8.36452658900576,0,1,1,-8.36452658900576,0A8.36452658900576,8.36452658900576,0,1,1,8.36452658900576,0\" stroke=\"rgb(40, 119, 183)\" stroke-width=\"2\" opacity=\"0.7\"></path><path aria-label=\"x: 1.96277431577; y: 1.32556823053\" role=\"graphics-symbol\" aria-roledescription=\"point\" transform=\"translate(238.51097263095892,175.2911913552213)\" d=\"M7.459439509670357,0A7.459439509670357,7.459439509670357,0,1,1,-7.459439509670357,0A7.459439509670357,7.459439509670357,0,1,1,7.459439509670357,0\" stroke=\"rgb(111, 175, 213)\" stroke-width=\"2\" opacity=\"0.7\"></path><path aria-label=\"x: 1.94912456544; y: 2.43845878841\" role=\"graphics-symbol\" aria-roledescription=\"point\" transform=\"translate(237.96498261767763,133.55779543457575)\" d=\"M7.450251836798271,0A7.450251836798271,7.450251836798271,0,1,1,-7.450251836798271,0A7.450251836798271,7.450251836798271,0,1,1,7.450251836798271,0\" stroke=\"rgb(75, 151, 201)\" stroke-width=\"2\" opacity=\"0.7\"></path><path aria-label=\"x: 2.67575935675; y: 4.00931277079\" role=\"graphics-symbol\" aria-roledescription=\"point\" transform=\"translate(267.030374269994,74.6507710953302)\" d=\"M7.924554965869178,0A7.924554965869178,7.924554965869178,0,1,1,-7.924554965869178,0A7.924554965869178,7.924554965869178,0,1,1,7.924554965869178,0\" stroke=\"rgb(35, 114, 180)\" stroke-width=\"2\" opacity=\"0.7\"></path><path aria-label=\"x: 0.963740920781; y: 1.06609129322\" role=\"graphics-symbol\" aria-roledescription=\"point\" transform=\"translate(198.54963683122696,185.02157650417442)\" d=\"M6.754050402143024,0A6.754050402143024,6.754050402143024,0,1,1,-6.754050402143024,0A6.754050402143024,6.754050402143024,0,1,1,6.754050402143024,0\" stroke=\"rgb(120, 180, 216)\" stroke-width=\"2\" opacity=\"0.7\"></path><path aria-label=\"x: 2.60397166479; y: 2.31251589726\" role=\"graphics-symbol\" aria-roledescription=\"point\" transform=\"translate(264.15886659169814,138.280653852859)\" d=\"M7.878967488401039,0A7.878967488401039,7.878967488401039,0,1,1,-7.878967488401039,0A7.878967488401039,7.878967488401039,0,1,1,7.878967488401039,0\" stroke=\"rgb(79, 154, 202)\" stroke-width=\"2\" opacity=\"0.7\"></path><path aria-label=\"x: -2.85276046611; y: 0.0725264246039\" role=\"graphics-symbol\" aria-roledescription=\"point\" transform=\"translate(45.88958135541296,222.28025907735432)\" d=\"M2.7047689819322254,0A2.7047689819322254,2.7047689819322254,0,1,1,-2.7047689819322254,0A2.7047689819322254,2.7047689819322254,0,1,1,2.7047689819322254,0\" stroke=\"rgb(155, 199, 225)\" stroke-width=\"2\" opacity=\"0.7\"></path><path aria-label=\"x: 5.37565181401; y: 4.32287978135\" role=\"graphics-symbol\" aria-roledescription=\"point\" transform=\"translate(375.02607256052926,62.89200819929176)\" d=\"M9.481244346222844,0A9.481244346222844,9.481244346222844,0,1,1,-9.481244346222844,0A9.481244346222844,9.481244346222844,0,1,1,9.481244346222844,0\" stroke=\"rgb(29, 107, 175)\" stroke-width=\"2\" opacity=\"0.7\"></path><path aria-label=\"x: -0.731594767593; y: 1.01288474081\" role=\"graphics-symbol\" aria-roledescription=\"point\" transform=\"translate(130.7362092962783,187.01682221945094)\" d=\"M5.348200258563936,0A5.348200258563936,5.348200258563936,0,1,1,-5.348200258563936,0A5.348200258563936,5.348200258563936,0,1,1,5.348200258563936,0\" stroke=\"rgb(122, 181, 216)\" stroke-width=\"2\" opacity=\"0.7\"></path><path aria-label=\"x: 3.83639561906; y: 4.82552232915\" role=\"graphics-symbol\" aria-roledescription=\"point\" transform=\"translate(313.45582476226855,44.042912656945475)\" d=\"M8.628233711648438,0A8.628233711648438,8.628233711648438,0,1,1,-8.628233711648438,0A8.628233711648438,8.628233711648438,0,1,1,8.628233711648438,0\" stroke=\"rgb(19, 94, 165)\" stroke-width=\"2\" opacity=\"0.7\"></path><path aria-label=\"x: -0.293874105762; y: 1.1666460352\" role=\"graphics-symbol\" aria-roledescription=\"point\" transform=\"translate(148.24503576951193,181.2507736800463)\" d=\"M5.744222962602514,0A5.744222962602514,5.744222962602514,0,1,1,-5.744222962602514,0A5.744222962602514,5.744222962602514,0,1,1,5.744222962602514,0\" stroke=\"rgb(116, 178, 215)\" stroke-width=\"2\" opacity=\"0.7\"></path><path aria-label=\"x: 0.716156116565; y: 2.62869074482\" role=\"graphics-symbol\" aria-roledescription=\"point\" transform=\"translate(188.64624466258272,126.42409706923081)\" d=\"M6.567533762756842,0A6.567533762756842,6.567533762756842,0,1,1,-6.567533762756842,0A6.567533762756842,6.567533762756842,0,1,1,6.567533762756842,0\" stroke=\"rgb(70, 147, 198)\" stroke-width=\"2\" opacity=\"0.7\"></path><path aria-label=\"x: 1.56856522564; y: 2.79215471823\" role=\"graphics-symbol\" aria-roledescription=\"point\" transform=\"translate(222.74260902549443,120.29419806651343)\" d=\"M7.189371130252961,0A7.189371130252961,7.189371130252961,0,1,1,-7.189371130252961,0A7.189371130252961,7.189371130252961,0,1,1,7.189371130252961,0\" stroke=\"rgb(65, 143, 196)\" stroke-width=\"2\" opacity=\"0.7\"></path><path aria-label=\"x: 0.99377869082; y: 2.02447517069\" role=\"graphics-symbol\" aria-roledescription=\"point\" transform=\"translate(199.75114763280047,149.08218109930132)\" d=\"M6.776329989890945,0A6.776329989890945,6.776329989890945,0,1,1,-6.776329989890945,0A6.776329989890945,6.776329989890945,0,1,1,6.776329989890945,0\" stroke=\"rgb(88, 160, 206)\" stroke-width=\"2\" opacity=\"0.7\"></path><path aria-label=\"x: 1.68560825971; y: 1.79773231161\" role=\"graphics-symbol\" aria-roledescription=\"point\" transform=\"translate(227.42433038848003,157.58503831458373)\" d=\"M7.270603199879272,0A7.270603199879272,7.270603199879272,0,1,1,-7.270603199879272,0A7.270603199879272,7.270603199879272,0,1,1,7.270603199879272,0\" stroke=\"rgb(95, 165, 208)\" stroke-width=\"2\" opacity=\"0.7\"></path><path aria-label=\"x: -0.0196125510944; y: 2.52810619846\" role=\"graphics-symbol\" aria-roledescription=\"point\" transform=\"translate(159.21549795622255,130.19601755760732)\" d=\"M5.979006232399189,0A5.979006232399189,5.979006232399189,0,1,1,-5.979006232399189,0A5.979006232399189,5.979006232399189,0,1,1,5.979006232399189,0\" stroke=\"rgb(73, 149, 200)\" stroke-width=\"2\" opacity=\"0.7\"></path><path aria-label=\"x: -1.56956089947; y: 0.580552815747\" role=\"graphics-symbol\" aria-roledescription=\"point\" transform=\"translate(97.21756402114727,203.2292694094696)\" d=\"M4.493732798981994,0A4.493732798981994,4.493732798981994,0,1,1,-4.493732798981994,0A4.493732798981994,4.493732798981994,0,1,1,4.493732798981994,0\" stroke=\"rgb(137, 190, 221)\" stroke-width=\"2\" opacity=\"0.7\"></path><path aria-label=\"x: 1.39569648507; y: 2.26270573837\" role=\"graphics-symbol\" aria-roledescription=\"point\" transform=\"translate(215.82785940288102,140.14853481128523)\" d=\"M7.067686413819605,0A7.067686413819605,7.067686413819605,0,1,1,-7.067686413819605,0A7.067686413819605,7.067686413819605,0,1,1,7.067686413819605,0\" stroke=\"rgb(81, 155, 203)\" stroke-width=\"2\" opacity=\"0.7\"></path><path aria-label=\"x: 2.41828609765; y: 3.06336020174\" role=\"graphics-symbol\" aria-roledescription=\"point\" transform=\"translate(256.7314439061062,110.12399243487653)\" d=\"M7.759809038868971,0A7.759809038868971,7.759809038868971,0,1,1,-7.759809038868971,0A7.759809038868971,7.759809038868971,0,1,1,7.759809038868971,0\" stroke=\"rgb(58, 137, 193)\" stroke-width=\"2\" opacity=\"0.7\"></path><path aria-label=\"x: 0.644403055092; y: 1.97535255731\" role=\"graphics-symbol\" aria-roledescription=\"point\" transform=\"translate(185.77612220368806,150.92427910094642)\" d=\"M6.512480675115104,0A6.512480675115104,6.512480675115104,0,1,1,-6.512480675115104,0A6.512480675115104,6.512480675115104,0,1,1,6.512480675115104,0\" stroke=\"rgb(89, 162, 206)\" stroke-width=\"2\" opacity=\"0.7\"></path><path aria-label=\"x: 2.57987105424; y: 3.26713705055\" role=\"graphics-symbol\" aria-roledescription=\"point\" transform=\"translate(263.1948421695546,102.48236060452689)\" d=\"M7.863603574970167,0A7.863603574970167,7.863603574970167,0,1,1,-7.863603574970167,0A7.863603574970167,7.863603574970167,0,1,1,7.863603574970167,0\" stroke=\"rgb(53, 132, 191)\" stroke-width=\"2\" opacity=\"0.7\"></path><path aria-label=\"x: 0.121053714358; y: 2.03372911287\" role=\"graphics-symbol\" aria-roledescription=\"point\" transform=\"translate(164.8421485743278,148.7351582674312)\" d=\"M6.0959171429418255,0A6.0959171429418255,6.0959171429418255,0,1,1,-6.0959171429418255,0A6.0959171429418255,6.0959171429418255,0,1,1,6.0959171429418255,0\" stroke=\"rgb(87, 160, 206)\" stroke-width=\"2\" opacity=\"0.7\"></path><path aria-label=\"x: -1.59029563009; y: -0.127461738628\" role=\"graphics-symbol\" aria-roledescription=\"point\" transform=\"translate(96.3881747963032,229.77981519856718)\" d=\"M4.47051966451105,0A4.47051966451105,4.47051966451105,0,1,1,-4.47051966451105,0A4.47051966451105,4.47051966451105,0,1,1,4.47051966451105,0\" stroke=\"rgb(162, 203, 227)\" stroke-width=\"2\" opacity=\"0.7\"></path><path aria-label=\"x: 0.497037478243; y: 1.94401514423\" role=\"graphics-symbol\" aria-roledescription=\"point\" transform=\"translate(179.8814991297086,152.09943209127238)\" d=\"M6.397927922334173,0A6.397927922334173,6.397927922334173,0,1,1,-6.397927922334173,0A6.397927922334173,6.397927922334173,0,1,1,6.397927922334173,0\" stroke=\"rgb(90, 162, 207)\" stroke-width=\"2\" opacity=\"0.7\"></path><path aria-label=\"x: 2.88390175259; y: 2.65220838298\" role=\"graphics-symbol\" aria-roledescription=\"point\" transform=\"translate(275.3560701035237,125.54218563837611)\" d=\"M8.055273719729493,0A8.055273719729493,8.055273719729493,0,1,1,-8.055273719729493,0A8.055273719729493,8.055273719729493,0,1,1,8.055273719729493,0\" stroke=\"rgb(69, 146, 198)\" stroke-width=\"2\" opacity=\"0.7\"></path><path aria-label=\"x: 0.561560140368; y: 3.09573930772\" role=\"graphics-symbol\" aria-roledescription=\"point\" transform=\"translate(182.4624056147251,108.9097759603513)\" d=\"M6.448334239270799,0A6.448334239270799,6.448334239270799,0,1,1,-6.448334239270799,0A6.448334239270799,6.448334239270799,0,1,1,6.448334239270799,0\" stroke=\"rgb(57, 136, 193)\" stroke-width=\"2\" opacity=\"0.7\"></path><path aria-label=\"x: 1.31939833364; y: 2.67250639331\" role=\"graphics-symbol\" aria-roledescription=\"point\" transform=\"translate(212.775933345731,124.78101025083333)\" d=\"M7.013307544569078,0A7.013307544569078,7.013307544569078,0,1,1,-7.013307544569078,0A7.013307544569078,7.013307544569078,0,1,1,7.013307544569078,0\" stroke=\"rgb(69, 146, 198)\" stroke-width=\"2\" opacity=\"0.7\"></path><path aria-label=\"x: 0.754886268207; y: 1.02857077758\" role=\"graphics-symbol\" aria-roledescription=\"point\" transform=\"translate(190.19545072827918,186.42859584060406)\" d=\"M6.597058853571258,0A6.597058853571258,6.597058853571258,0,1,1,-6.597058853571258,0A6.597058853571258,6.597058853571258,0,1,1,6.597058853571258,0\" stroke=\"rgb(121, 181, 216)\" stroke-width=\"2\" opacity=\"0.7\"></path><path aria-label=\"x: 0.534621045447; y: 0.0291068371092\" role=\"graphics-symbol\" aria-roledescription=\"point\" transform=\"translate(181.3848418178677,223.90849360840386)\" d=\"M6.427336980959709,0A6.427336980959709,6.427336980959709,0,1,1,-6.427336980959709,0A6.427336980959709,6.427336980959709,0,1,1,6.427336980959709,0\" stroke=\"rgb(156, 200, 226)\" stroke-width=\"2\" opacity=\"0.7\"></path><path aria-label=\"x: 1.48971484906; y: 1.53488936256\" role=\"graphics-symbol\" aria-roledescription=\"point\" transform=\"translate(219.5885939622703,167.4416489041524)\" d=\"M7.134124700837698,0A7.134124700837698,7.134124700837698,0,1,1,-7.134124700837698,0A7.134124700837698,7.134124700837698,0,1,1,7.134124700837698,0\" stroke=\"rgb(104, 171, 211)\" stroke-width=\"2\" opacity=\"0.7\"></path><path aria-label=\"x: 3.28559455281; y: 4.24498519082\" role=\"graphics-symbol\" aria-roledescription=\"point\" transform=\"translate(291.42378211243334,65.81305534434921)\" d=\"M8.301729929962113,0A8.301729929962113,8.301729929962113,0,1,1,-8.301729929962113,0A8.301729929962113,8.301729929962113,0,1,1,8.301729929962113,0\" stroke=\"rgb(30, 109, 176)\" stroke-width=\"2\" opacity=\"0.7\"></path><path aria-label=\"x: 1.04069935716; y: 2.35688029632\" role=\"graphics-symbol\" aria-roledescription=\"point\" transform=\"translate(201.62797428655486,136.61698888784696)\" d=\"M6.810986111660264,0A6.810986111660264,6.810986111660264,0,1,1,-6.810986111660264,0A6.810986111660264,6.810986111660264,0,1,1,6.810986111660264,0\" stroke=\"rgb(78, 153, 202)\" stroke-width=\"2\" opacity=\"0.7\"></path><path aria-label=\"x: -3.1071423246; y: -1.15829492917\" role=\"graphics-symbol\" aria-roledescription=\"point\" transform=\"translate(35.71430701614002,268.43605984379315)\" d=\"M2.1823988306203828,0A2.1823988306203828,2.1823988306203828,0,1,1,-2.1823988306203828,0A2.1823988306203828,2.1823988306203828,0,1,1,2.1823988306203828,0\" stroke=\"rgb(192, 217, 237)\" stroke-width=\"2\" opacity=\"0.7\"></path><path aria-label=\"x: -0.714835263574; y: 0.390252979381\" role=\"graphics-symbol\" aria-roledescription=\"point\" transform=\"translate(131.40658945705385,210.365513273209)\" d=\"M5.363901570381917,0A5.363901570381917,5.363901570381917,0,1,1,-5.363901570381917,0A5.363901570381917,5.363901570381917,0,1,1,5.363901570381917,0\" stroke=\"rgb(144, 194, 222)\" stroke-width=\"2\" opacity=\"0.7\"></path><path aria-label=\"x: 3.20964895852; y: 3.28266984359\" role=\"graphics-symbol\" aria-roledescription=\"point\" transform=\"translate(288.385958340874,101.89988086523658)\" d=\"M8.255698000350337,0A8.255698000350337,8.255698000350337,0,1,1,-8.255698000350337,0A8.255698000350337,8.255698000350337,0,1,1,8.255698000350337,0\" stroke=\"rgb(52, 132, 190)\" stroke-width=\"2\" opacity=\"0.7\"></path><path aria-label=\"x: -0.607695453561; y: 0.845289046684\" role=\"graphics-symbol\" aria-roledescription=\"point\" transform=\"translate(135.69218185754085,193.3016607493486)\" d=\"M5.4632103658019835,0A5.4632103658019835,5.4632103658019835,0,1,1,-5.4632103658019835,0A5.4632103658019835,5.4632103658019835,0,1,1,5.4632103658019835,0\" stroke=\"rgb(128, 185, 218)\" stroke-width=\"2\" opacity=\"0.7\"></path><path aria-label=\"x: 1.95952425577; y: 1.87961999984\" role=\"graphics-symbol\" aria-roledescription=\"point\" transform=\"translate(238.38097023079027,154.51425000601844)\" d=\"M7.457252914858699,0A7.457252914858699,7.457252914858699,0,1,1,-7.457252914858699,0A7.457252914858699,7.457252914858699,0,1,1,7.457252914858699,0\" stroke=\"rgb(92, 164, 207)\" stroke-width=\"2\" opacity=\"0.7\"></path><path aria-label=\"x: 2.13871072922; y: 1.92534731442\" role=\"graphics-symbol\" aria-roledescription=\"point\" transform=\"translate(245.54842916860576,152.7994757093186)\" d=\"M7.576865458422343,0A7.576865458422343,7.576865458422343,0,1,1,-7.576865458422343,0A7.576865458422343,7.576865458422343,0,1,1,7.576865458422343,0\" stroke=\"rgb(91, 163, 207)\" stroke-width=\"2\" opacity=\"0.7\"></path><path aria-label=\"x: 3.97186527195; y: 4.66440017895\" role=\"graphics-symbol\" aria-roledescription=\"point\" transform=\"translate(318.8746108778836,50.08499328950175)\" d=\"M8.706661553586354,0A8.706661553586354,8.706661553586354,0,1,1,-8.706661553586354,0A8.706661553586354,8.706661553586354,0,1,1,8.706661553586354,0\" stroke=\"rgb(22, 98, 168)\" stroke-width=\"2\" opacity=\"0.7\"></path><path aria-label=\"x: -1.82614901295; y: -0.80430232277\" role=\"graphics-symbol\" aria-roledescription=\"point\" transform=\"translate(86.95403948218573,255.16133710387896)\" d=\"M4.1974495201247874,0A4.1974495201247874,4.1974495201247874,0,1,1,-4.1974495201247874,0A4.1974495201247874,4.1974495201247874,0,1,1,4.1974495201247874,0\" stroke=\"rgb(182, 212, 234)\" stroke-width=\"2\" opacity=\"0.7\"></path><path aria-label=\"x: -1.2521740844; y: -1.78732079666\" role=\"graphics-symbol\" aria-roledescription=\"point\" transform=\"translate(109.91303662389176,292.0245298748623)\" d=\"M4.835167682696469,0A4.835167682696469,4.835167682696469,0,1,1,-4.835167682696469,0A4.835167682696469,4.835167682696469,0,1,1,4.835167682696469,0\" stroke=\"rgb(206, 225, 242)\" stroke-width=\"2\" opacity=\"0.7\"></path><path aria-label=\"x: -1.51872288416; y: -0.458922094631\" role=\"graphics-symbol\" aria-roledescription=\"point\" transform=\"translate(99.25108463355186,242.209578548654)\" d=\"M4.550146333010927,0A4.550146333010927,4.550146333010927,0,1,1,-4.550146333010927,0A4.550146333010927,4.550146333010927,0,1,1,4.550146333010927,0\" stroke=\"rgb(172, 208, 230)\" stroke-width=\"2\" opacity=\"0.7\"></path><path aria-label=\"x: -2.31714574906; y: 0.792585037019\" role=\"graphics-symbol\" aria-roledescription=\"point\" transform=\"translate(67.31417003764136,195.27806111180453)\" d=\"M3.5624522625125765,0A3.5624522625125765,3.5624522625125765,0,1,1,-3.5624522625125765,0A3.5624522625125765,3.5624522625125765,0,1,1,3.5624522625125765,0\" stroke=\"rgb(130, 186, 219)\" stroke-width=\"2\" opacity=\"0.7\"></path><path aria-label=\"x: 1.55636627215; y: 1.23732488509\" role=\"graphics-symbol\" aria-roledescription=\"point\" transform=\"translate(222.25465088613515,178.60031680911288)\" d=\"M7.1808517394544005,0A7.1808517394544005,7.1808517394544005,0,1,1,-7.1808517394544005,0A7.1808517394544005,7.1808517394544005,0,1,1,7.1808517394544005,0\" stroke=\"rgb(114, 177, 214)\" stroke-width=\"2\" opacity=\"0.7\"></path><path aria-label=\"x: -3.58173253067; y: -1.80980581478\" role=\"graphics-symbol\" aria-roledescription=\"point\" transform=\"translate(16.73069877325368,292.86771805424326)\" d=\"M0,0\" stroke=\"rgb(207, 225, 242)\" stroke-width=\"2\" opacity=\"0.7\"></path><path aria-label=\"x: 0.294335427222; y: 1.53291986793\" role=\"graphics-symbol\" aria-roledescription=\"point\" transform=\"translate(171.77341708888406,167.51550495248912)\" d=\"M6.236923624776654,0A6.236923624776654,6.236923624776654,0,1,1,-6.236923624776654,0A6.236923624776654,6.236923624776654,0,1,1,6.236923624776654,0\" stroke=\"rgb(104, 171, 211)\" stroke-width=\"2\" opacity=\"0.7\"></path><path aria-label=\"x: -0.164183788401; y: 1.77774769364\" role=\"graphics-symbol\" aria-roledescription=\"point\" transform=\"translate(153.4326484639745,158.33446148864908)\" d=\"M5.856418355291585,0A5.856418355291585,5.856418355291585,0,1,1,-5.856418355291585,0A5.856418355291585,5.856418355291585,0,1,1,5.856418355291585,0\" stroke=\"rgb(96, 166, 208)\" stroke-width=\"2\" opacity=\"0.7\"></path><path aria-label=\"x: -0.806491876268; y: -0.128348795911\" role=\"graphics-symbol\" aria-roledescription=\"point\" transform=\"translate(127.74032494929331,229.8130798466707)\" d=\"M5.277461319547505,0A5.277461319547505,5.277461319547505,0,1,1,-5.277461319547505,0A5.277461319547505,5.277461319547505,0,1,1,5.277461319547505,0\" stroke=\"rgb(162, 203, 227)\" stroke-width=\"2\" opacity=\"0.7\"></path><path aria-label=\"x: 0.709873106924; y: 1.52650659025\" role=\"graphics-symbol\" aria-roledescription=\"point\" transform=\"translate(188.39492427696368,167.7560028658017)\" d=\"M6.562731524599268,0A6.562731524599268,6.562731524599268,0,1,1,-6.562731524599268,0A6.562731524599268,6.562731524599268,0,1,1,6.562731524599268,0\" stroke=\"rgb(104, 171, 211)\" stroke-width=\"2\" opacity=\"0.7\"></path><path aria-label=\"x: 1.53066567682; y: 2.7232409909\" role=\"graphics-symbol\" aria-roledescription=\"point\" transform=\"translate(221.22662707267602,122.87846284132785)\" d=\"M7.162870037299605,0A7.162870037299605,7.162870037299605,0,1,1,-7.162870037299605,0A7.162870037299605,7.162870037299605,0,1,1,7.162870037299605,0\" stroke=\"rgb(67, 145, 197)\" stroke-width=\"2\" opacity=\"0.7\"></path><path aria-label=\"x: 2.00877778335; y: 1.60212194052\" role=\"graphics-symbol\" aria-roledescription=\"point\" transform=\"translate(240.35111133419798,164.9204272305864)\" d=\"M7.490321535823389,0A7.490321535823389,7.490321535823389,0,1,1,-7.490321535823389,0A7.490321535823389,7.490321535823389,0,1,1,7.490321535823389,0\" stroke=\"rgb(101, 169, 210)\" stroke-width=\"2\" opacity=\"0.7\"></path><path aria-label=\"x: -1.20673718479; y: 0.743702752792\" role=\"graphics-symbol\" aria-roledescription=\"point\" transform=\"translate(111.7305126084922,197.1111467702826)\" d=\"M4.882093762075576,0A4.882093762075576,4.882093762075576,0,1,1,-4.882093762075576,0A4.882093762075576,4.882093762075576,0,1,1,4.882093762075576,0\" stroke=\"rgb(131, 187, 219)\" stroke-width=\"2\" opacity=\"0.7\"></path><path aria-label=\"x: -0.711843673062; y: 0.86642911484\" role=\"graphics-symbol\" aria-roledescription=\"point\" transform=\"translate(131.5262530775082,192.50890819349954)\" d=\"M5.366699440622352,0A5.366699440622352,5.366699440622352,0,1,1,-5.366699440622352,0A5.366699440622352,5.366699440622352,0,1,1,5.366699440622352,0\" stroke=\"rgb(127, 184, 218)\" stroke-width=\"2\" opacity=\"0.7\"></path><path aria-label=\"x: 2.6417735411; y: 3.77204638238\" role=\"graphics-symbol\" aria-roledescription=\"point\" transform=\"translate(265.67094164386225,83.5482606607339)\" d=\"M7.903005665214914,0A7.903005665214914,7.903005665214914,0,1,1,-7.903005665214914,0A7.903005665214914,7.903005665214914,0,1,1,7.903005665214914,0\" stroke=\"rgb(41, 120, 184)\" stroke-width=\"2\" opacity=\"0.7\"></path><path aria-label=\"x: -1.00145309281; y: 0.00686584461317\" role=\"graphics-symbol\" aria-roledescription=\"point\" transform=\"translate(119.94187628772042,224.74253082700605)\" d=\"M5.088714729237704,0A5.088714729237704,5.088714729237704,0,1,1,-5.088714729237704,0A5.088714729237704,5.088714729237704,0,1,1,5.088714729237704,0\" stroke=\"rgb(157, 200, 226)\" stroke-width=\"2\" opacity=\"0.7\"></path><path aria-label=\"x: 2.56571017121; y: 2.92713174653\" role=\"graphics-symbol\" aria-roledescription=\"point\" transform=\"translate(262.62840684830377,115.23255950493837)\" d=\"M7.854562127954373,0A7.854562127954373,7.854562127954373,0,1,1,-7.854562127954373,0A7.854562127954373,7.854562127954373,0,1,1,7.854562127954373,0\" stroke=\"rgb(62, 140, 195)\" stroke-width=\"2\" opacity=\"0.7\"></path><path aria-label=\"x: 0.633713953562; y: 2.87905225438\" role=\"graphics-symbol\" aria-roledescription=\"point\" transform=\"translate(185.34855814249528,117.03554046072777)\" d=\"M6.504239500761543,0A6.504239500761543,6.504239500761543,0,1,1,-6.504239500761543,0A6.504239500761543,6.504239500761543,0,1,1,6.504239500761543,0\" stroke=\"rgb(63, 141, 195)\" stroke-width=\"2\" opacity=\"0.7\"></path><path aria-label=\"x: -0.347191882551; y: 0.600750781016\" role=\"graphics-symbol\" aria-roledescription=\"point\" transform=\"translate(146.11232469797937,202.4718457119172)\" d=\"M5.697456802433318,0A5.697456802433318,5.697456802433318,0,1,1,-5.697456802433318,0A5.697456802433318,5.697456802433318,0,1,1,5.697456802433318,0\" stroke=\"rgb(137, 189, 220)\" stroke-width=\"2\" opacity=\"0.7\"></path><path aria-label=\"x: -0.24134598714; y: -0.30937295029\" role=\"graphics-symbol\" aria-roledescription=\"point\" transform=\"translate(150.3461605143991,236.60148563587205)\" d=\"M5.789927121070596,0A5.789927121070596,5.789927121070596,0,1,1,-5.789927121070596,0A5.789927121070596,5.789927121070596,0,1,1,5.789927121070596,0\" stroke=\"rgb(168, 206, 229)\" stroke-width=\"2\" opacity=\"0.7\"></path><path aria-label=\"x: 0.840486294061; y: 1.35345698769\" role=\"graphics-symbol\" aria-roledescription=\"point\" transform=\"translate(193.6194517624203,174.24536296145087)\" d=\"M6.661849987400709,0A6.661849987400709,6.661849987400709,0,1,1,-6.661849987400709,0A6.661849987400709,6.661849987400709,0,1,1,6.661849987400709,0\" stroke=\"rgb(110, 174, 213)\" stroke-width=\"2\" opacity=\"0.7\"></path><path aria-label=\"x: 1.71428319389; y: 3.96300143627\" role=\"graphics-symbol\" aria-roledescription=\"point\" transform=\"translate(228.5713277556419,76.38744614004493)\" d=\"M7.2903665970112055,0A7.2903665970112055,7.2903665970112055,0,1,1,-7.2903665970112055,0A7.2903665970112055,7.2903665970112055,0,1,1,7.2903665970112055,0\" stroke=\"rgb(36, 115, 181)\" stroke-width=\"2\" opacity=\"0.7\"></path><path aria-label=\"x: 3.23268189554; y: 3.44236227831\" role=\"graphics-symbol\" aria-roledescription=\"point\" transform=\"translate(289.30727582161666,95.91141456346402)\" d=\"M8.26968573020255,0A8.26968573020255,8.26968573020255,0,1,1,-8.26968573020255,0A8.26968573020255,8.26968573020255,0,1,1,8.26968573020255,0\" stroke=\"rgb(48, 128, 188)\" stroke-width=\"2\" opacity=\"0.7\"></path><path aria-label=\"x: 2.49857569249; y: 2.84792191412\" role=\"graphics-symbol\" aria-roledescription=\"point\" transform=\"translate(259.94302769970477,118.20292822033471)\" d=\"M7.8115556673191975,0A7.8115556673191975,7.8115556673191975,0,1,1,-7.8115556673191975,0A7.8115556673191975,7.8115556673191975,0,1,1,7.8115556673191975,0\" stroke=\"rgb(64, 142, 196)\" stroke-width=\"2\" opacity=\"0.7\"></path><path aria-label=\"x: -0.0085928222086; y: 0.787650179421\" role=\"graphics-symbol\" aria-roledescription=\"point\" transform=\"translate(159.656287111656,195.46311827171337)\" d=\"M5.9882473795132665,0A5.9882473795132665,5.9882473795132665,0,1,1,-5.9882473795132665,0A5.9882473795132665,5.9882473795132665,0,1,1,5.9882473795132665,0\" stroke=\"rgb(130, 186, 219)\" stroke-width=\"2\" opacity=\"0.7\"></path><path aria-label=\"x: 2.00696149563; y: 2.52246393973\" role=\"graphics-symbol\" aria-roledescription=\"point\" transform=\"translate(240.2784598252656,130.40760226001885)\" d=\"M7.4891046805226775,0A7.4891046805226775,7.4891046805226775,0,1,1,-7.4891046805226775,0A7.4891046805226775,7.4891046805226775,0,1,1,7.4891046805226775,0\" stroke=\"rgb(73, 149, 200)\" stroke-width=\"2\" opacity=\"0.7\"></path><path aria-label=\"x: 1.38937315826; y: 2.42032761342\" role=\"graphics-symbol\" aria-roledescription=\"point\" transform=\"translate(215.5749263305327,134.23771449676588)\" d=\"M7.063195591970206,0A7.063195591970206,7.063195591970206,0,1,1,-7.063195591970206,0A7.063195591970206,7.063195591970206,0,1,1,7.063195591970206,0\" stroke=\"rgb(76, 151, 201)\" stroke-width=\"2\" opacity=\"0.7\"></path><path aria-label=\"x: 1.96764555347; y: 3.51308508466\" role=\"graphics-symbol\" aria-roledescription=\"point\" transform=\"translate(238.7058221389064,93.25930932542872)\" d=\"M7.462715610356673,0A7.462715610356673,7.462715610356673,0,1,1,-7.462715610356673,0A7.462715610356673,7.462715610356673,0,1,1,7.462715610356673,0\" stroke=\"rgb(46, 126, 187)\" stroke-width=\"2\" opacity=\"0.7\"></path><path aria-label=\"x: 2.53427445089; y: 3.56049314085\" role=\"graphics-symbol\" aria-roledescription=\"point\" transform=\"translate(261.370978035656,91.48150721818298)\" d=\"M7.8344537433693064,0A7.8344537433693064,7.8344537433693064,0,1,1,-7.8344537433693064,0A7.8344537433693064,7.8344537433693064,0,1,1,7.8344537433693064,0\" stroke=\"rgb(45, 125, 187)\" stroke-width=\"2\" opacity=\"0.7\"></path><path aria-label=\"x: -1.81209378037; y: -1.41853113786\" role=\"graphics-symbol\" aria-roledescription=\"point\" transform=\"translate(87.51624878513329,278.194917669872)\" d=\"M4.21421845134968,0A4.21421845134968,4.21421845134968,0,1,1,-4.21421845134968,0A4.21421845134968,4.21421845134968,0,1,1,4.21421845134968,0\" stroke=\"rgb(198, 220, 239)\" stroke-width=\"2\" opacity=\"0.7\"></path><path aria-label=\"x: 0.194816960078; y: -0.0926940604274\" role=\"graphics-symbol\" aria-roledescription=\"point\" transform=\"translate(167.79267840312954,228.47602726602832)\" d=\"M6.156336141278888,0A6.156336141278888,6.156336141278888,0,1,1,-6.156336141278888,0A6.156336141278888,6.156336141278888,0,1,1,6.156336141278888,0\" stroke=\"rgb(160, 202, 227)\" stroke-width=\"2\" opacity=\"0.7\"></path><path aria-label=\"x: 2.22588612916; y: 3.89586899587\" role=\"graphics-symbol\" aria-roledescription=\"point\" transform=\"translate(249.03544516657337,78.90491265500276)\" d=\"M7.634380129353575,0A7.634380129353575,7.634380129353575,0,1,1,-7.634380129353575,0A7.634380129353575,7.634380129353575,0,1,1,7.634380129353575,0\" stroke=\"rgb(38, 117, 182)\" stroke-width=\"2\" opacity=\"0.7\"></path><path aria-label=\"x: 2.23689592119; y: 1.93968388933\" role=\"graphics-symbol\" aria-roledescription=\"point\" transform=\"translate(249.47583684752627,152.2618541501092)\" d=\"M7.641613140356477,0A7.641613140356477,7.641613140356477,0,1,1,-7.641613140356477,0A7.641613140356477,7.641613140356477,0,1,1,7.641613140356477,0\" stroke=\"rgb(90, 162, 207)\" stroke-width=\"2\" opacity=\"0.7\"></path><path aria-label=\"x: -0.301706845918; y: 0.730303725996\" role=\"graphics-symbol\" aria-roledescription=\"point\" transform=\"translate(147.93172616327718,197.61361027513942)\" d=\"M5.737376585876606,0A5.737376585876606,5.737376585876606,0,1,1,-5.737376585876606,0A5.737376585876606,5.737376585876606,0,1,1,5.737376585876606,0\" stroke=\"rgb(132, 187, 219)\" stroke-width=\"2\" opacity=\"0.7\"></path><path aria-label=\"x: -1.7217540166; y: 0.965090862074\" role=\"graphics-symbol\" aria-roledescription=\"point\" transform=\"translate(91.12983933594234,188.80909267222964)\" d=\"M4.320447161770012,0A4.320447161770012,4.320447161770012,0,1,1,-4.320447161770012,0A4.320447161770012,4.320447161770012,0,1,1,4.320447161770012,0\" stroke=\"rgb(123, 182, 217)\" stroke-width=\"2\" opacity=\"0.7\"></path><path aria-label=\"x: 2.72502264587; y: 4.4565493766\" role=\"graphics-symbol\" aria-roledescription=\"point\" transform=\"translate(269.0009058349637,57.87939837737177)\" d=\"M7.955687590976415,0A7.955687590976415,7.955687590976415,0,1,1,-7.955687590976415,0A7.955687590976415,7.955687590976415,0,1,1,7.955687590976415,0\" stroke=\"rgb(26, 103, 172)\" stroke-width=\"2\" opacity=\"0.7\"></path><path aria-label=\"x: 2.78206700106; y: 2.69867706889\" role=\"graphics-symbol\" aria-roledescription=\"point\" transform=\"translate(271.2826800422443,123.79960991659532)\" d=\"M7.9915860410422495,0A7.9915860410422495,7.9915860410422495,0,1,1,-7.9915860410422495,0A7.9915860410422495,7.9915860410422495,0,1,1,7.9915860410422495,0\" stroke=\"rgb(68, 145, 198)\" stroke-width=\"2\" opacity=\"0.7\"></path><path aria-label=\"x: 1.72256491805; y: 2.4492583836\" role=\"graphics-symbol\" aria-roledescription=\"point\" transform=\"translate(228.90259672194313,133.15281061492126)\" d=\"M7.296064580453471,0A7.296064580453471,7.296064580453471,0,1,1,-7.296064580453471,0A7.296064580453471,7.296064580453471,0,1,1,7.296064580453471,0\" stroke=\"rgb(75, 151, 201)\" stroke-width=\"2\" opacity=\"0.7\"></path><path aria-label=\"x: 2.88217170604; y: 2.74050719997\" role=\"graphics-symbol\" aria-roledescription=\"point\" transform=\"translate(275.2868682416608,122.2309800010214)\" d=\"M8.054195949921592,0A8.054195949921592,8.054195949921592,0,1,1,-8.054195949921592,0A8.054195949921592,8.054195949921592,0,1,1,8.054195949921592,0\" stroke=\"rgb(67, 144, 197)\" stroke-width=\"2\" opacity=\"0.7\"></path><path aria-label=\"x: 1.9071344659; y: 2.61218342663\" role=\"graphics-symbol\" aria-roledescription=\"point\" transform=\"translate(236.285378635815,127.04312150151793)\" d=\"M7.421916911722548,0A7.421916911722548,7.421916911722548,0,1,1,-7.421916911722548,0A7.421916911722548,7.421916911722548,0,1,1,7.421916911722548,0\" stroke=\"rgb(70, 147, 199)\" stroke-width=\"2\" opacity=\"0.7\"></path><path aria-label=\"x: 1.94993585578; y: 2.91607843617\" role=\"graphics-symbol\" aria-roledescription=\"point\" transform=\"translate(237.9974342312905,115.64705864365317)\" d=\"M7.45079823454528,0A7.45079823454528,7.45079823454528,0,1,1,-7.45079823454528,0A7.45079823454528,7.45079823454528,0,1,1,7.45079823454528,0\" stroke=\"rgb(62, 140, 195)\" stroke-width=\"2\" opacity=\"0.7\"></path><path aria-label=\"x: -0.60966350666; y: 1.35052842498\" role=\"graphics-symbol\" aria-roledescription=\"point\" transform=\"translate(135.61345973361955,174.35518406336257)\" d=\"M5.461402441565218,0A5.461402441565218,5.461402441565218,0,1,1,-5.461402441565218,0A5.461402441565218,5.461402441565218,0,1,1,5.461402441565218,0\" stroke=\"rgb(110, 174, 213)\" stroke-width=\"2\" opacity=\"0.7\"></path><path aria-label=\"x: 1.23382530079; y: 2.27797989427\" role=\"graphics-symbol\" aria-roledescription=\"point\" transform=\"translate(209.35301203140227,139.57575396496298)\" d=\"M6.951812272514741,0A6.951812272514741,6.951812272514741,0,1,1,-6.951812272514741,0A6.951812272514741,6.951812272514741,0,1,1,6.951812272514741,0\" stroke=\"rgb(80, 155, 203)\" stroke-width=\"2\" opacity=\"0.7\"></path><path aria-label=\"x: -1.19718556827; y: -0.0370979155951\" role=\"graphics-symbol\" aria-roledescription=\"point\" transform=\"translate(112.11257726939567,226.39117183481756)\" d=\"M4.891901169955826,0A4.891901169955826,4.891901169955826,0,1,1,-4.891901169955826,0A4.891901169955826,4.891901169955826,0,1,1,4.891901169955826,0\" stroke=\"rgb(158, 201, 226)\" stroke-width=\"2\" opacity=\"0.7\"></path><path aria-label=\"x: -0.632130096981; y: 0.578219859579\" role=\"graphics-symbol\" aria-roledescription=\"point\" transform=\"translate(134.71479612076163,203.31675526578766)\" d=\"M5.440721251313471,0A5.440721251313471,5.440721251313471,0,1,1,-5.440721251313471,0A5.440721251313471,5.440721251313471,0,1,1,5.440721251313471,0\" stroke=\"rgb(137, 190, 221)\" stroke-width=\"2\" opacity=\"0.7\"></path><path aria-label=\"x: 2.18127853739; y: 3.72895798316\" role=\"graphics-symbol\" aria-roledescription=\"point\" transform=\"translate(247.25114149569606,85.16407563132002)\" d=\"M7.605004253565681,0A7.605004253565681,7.605004253565681,0,1,1,-7.605004253565681,0A7.605004253565681,7.605004253565681,0,1,1,7.605004253565681,0\" stroke=\"rgb(42, 121, 184)\" stroke-width=\"2\" opacity=\"0.7\"></path><path aria-label=\"x: 1.77262074122; y: 2.6263991229\" role=\"graphics-symbol\" aria-roledescription=\"point\" transform=\"translate(230.90482964888253,126.51003289129201)\" d=\"M7.330409652071231,0A7.330409652071231,7.330409652071231,0,1,1,-7.330409652071231,0A7.330409652071231,7.330409652071231,0,1,1,7.330409652071231,0\" stroke=\"rgb(70, 147, 198)\" stroke-width=\"2\" opacity=\"0.7\"></path><path aria-label=\"x: -1.32656476119; y: 0.355265721539\" role=\"graphics-symbol\" aria-roledescription=\"point\" transform=\"translate(106.9374095523697,211.67753544227241)\" d=\"M4.757339688622348,0A4.757339688622348,4.757339688622348,0,1,1,-4.757339688622348,0A4.757339688622348,4.757339688622348,0,1,1,4.757339688622348,0\" stroke=\"rgb(145, 194, 223)\" stroke-width=\"2\" opacity=\"0.7\"></path><path aria-label=\"x: 1.84584361927; y: 2.80013149073\" role=\"graphics-symbol\" aria-roledescription=\"point\" transform=\"translate(233.83374477066465,119.99506909771749)\" d=\"M7.380362562072686,0A7.380362562072686,7.380362562072686,0,1,1,-7.380362562072686,0A7.380362562072686,7.380362562072686,0,1,1,7.380362562072686,0\" stroke=\"rgb(65, 143, 196)\" stroke-width=\"2\" opacity=\"0.7\"></path><path aria-label=\"x: 0.571321331048; y: 0.829047360866\" role=\"graphics-symbol\" aria-roledescription=\"point\" transform=\"translate(182.85285324191966,193.91072396750866)\" d=\"M6.455925591915578,0A6.455925591915578,6.455925591915578,0,1,1,-6.455925591915578,0A6.455925591915578,6.455925591915578,0,1,1,6.455925591915578,0\" stroke=\"rgb(128, 185, 218)\" stroke-width=\"2\" opacity=\"0.7\"></path><path aria-label=\"x: -0.200314293283; y: 1.67678182655\" role=\"graphics-symbol\" aria-roledescription=\"point\" transform=\"translate(151.98742826866828,162.1206815044053)\" d=\"M5.825378918379228,0A5.825378918379228,5.825378918379228,0,1,1,-5.825378918379228,0A5.825378918379228,5.825378918379228,0,1,1,5.825378918379228,0\" stroke=\"rgb(99, 168, 210)\" stroke-width=\"2\" opacity=\"0.7\"></path><path aria-label=\"x: 0.472905354914; y: 1.84646240661\" role=\"graphics-symbol\" aria-roledescription=\"point\" transform=\"translate(178.91621419656732,155.75765975203822)\" d=\"M6.3789731106441465,0A6.3789731106441465,6.3789731106441465,0,1,1,-6.3789731106441465,0A6.3789731106441465,6.3789731106441465,0,1,1,6.3789731106441465,0\" stroke=\"rgb(93, 164, 208)\" stroke-width=\"2\" opacity=\"0.7\"></path><path aria-label=\"x: 4.01242779043; y: 3.77671848746\" role=\"graphics-symbol\" aria-roledescription=\"point\" transform=\"translate(320.4971116171842,83.37305672042451)\" d=\"M8.73000746627884,0A8.73000746627884,8.73000746627884,0,1,1,-8.73000746627884,0A8.73000746627884,8.73000746627884,0,1,1,8.73000746627884,0\" stroke=\"rgb(40, 120, 183)\" stroke-width=\"2\" opacity=\"0.7\"></path><path aria-label=\"x: 0.0623142537381; y: 1.16798828431\" role=\"graphics-symbol\" aria-roledescription=\"point\" transform=\"translate(162.4925701495244,181.2004393383769)\" d=\"M6.047372302690679,0A6.047372302690679,6.047372302690679,0,1,1,-6.047372302690679,0A6.047372302690679,6.047372302690679,0,1,1,6.047372302690679,0\" stroke=\"rgb(116, 178, 215)\" stroke-width=\"2\" opacity=\"0.7\"></path><path aria-label=\"x: 0.641404069492; y: 1.14343064168\" role=\"graphics-symbol\" aria-roledescription=\"point\" transform=\"translate(185.6561627796602,182.12135093683193)\" d=\"M6.51016954459034,0A6.51016954459034,6.51016954459034,0,1,1,-6.51016954459034,0A6.51016954459034,6.51016954459034,0,1,1,6.51016954459034,0\" stroke=\"rgb(117, 179, 215)\" stroke-width=\"2\" opacity=\"0.7\"></path><path aria-label=\"x: 4.45484117948; y: 2.10268343966\" role=\"graphics-symbol\" aria-roledescription=\"point\" transform=\"translate(338.1936471790502,146.14937101280563)\" d=\"M8.98070023980473,0A8.98070023980473,8.98070023980473,0,1,1,-8.98070023980473,0A8.98070023980473,8.98070023980473,0,1,1,8.98070023980473,0\" stroke=\"rgb(85, 159, 205)\" stroke-width=\"2\" opacity=\"0.7\"></path><path aria-label=\"x: 1.55594032506; y: 2.15957425815\" role=\"graphics-symbol\" aria-roledescription=\"point\" transform=\"translate(222.2376130022288,144.0159653193324)\" d=\"M7.180554087884458,0A7.180554087884458,7.180554087884458,0,1,1,-7.180554087884458,0A7.180554087884458,7.180554087884458,0,1,1,7.180554087884458,0\" stroke=\"rgb(84, 157, 204)\" stroke-width=\"2\" opacity=\"0.7\"></path><path aria-label=\"x: 1.95335167333; y: 2.12525505625\" role=\"graphics-symbol\" aria-roledescription=\"point\" transform=\"translate(238.13406693305117,145.3029353907763)\" d=\"M7.453098321771759,0A7.453098321771759,7.453098321771759,0,1,1,-7.453098321771759,0A7.453098321771759,7.453098321771759,0,1,1,7.453098321771759,0\" stroke=\"rgb(85, 158, 204)\" stroke-width=\"2\" opacity=\"0.7\"></path><path aria-label=\"x: -2.55344564608; y: 0.25027895219\" role=\"graphics-symbol\" aria-roledescription=\"point\" transform=\"translate(57.86217415675099,215.61453929286856)\" d=\"M3.2124167576903524,0A3.2124167576903524,3.2124167576903524,0,1,1,-3.2124167576903524,0A3.2124167576903524,3.2124167576903524,0,1,1,3.2124167576903524,0\" stroke=\"rgb(149, 196, 224)\" stroke-width=\"2\" opacity=\"0.7\"></path><path aria-label=\"x: 1.82610729732; y: 3.13824144861\" role=\"graphics-symbol\" aria-roledescription=\"point\" transform=\"translate(233.0442918928117,107.31594567714886)\" d=\"M7.36693171688259,0A7.36693171688259,7.36693171688259,0,1,1,-7.36693171688259,0A7.36693171688259,7.36693171688259,0,1,1,7.36693171688259,0\" stroke=\"rgb(56, 135, 192)\" stroke-width=\"2\" opacity=\"0.7\"></path><path aria-label=\"x: 4.6992322479; y: 3.01896238156\" role=\"graphics-symbol\" aria-roledescription=\"point\" transform=\"translate(347.9692899160391,111.78891069144419)\" d=\"M9.11622851841413,0A9.11622851841413,9.11622851841413,0,1,1,-9.11622851841413,0A9.11622851841413,9.11622851841413,0,1,1,9.11622851841413,0\" stroke=\"rgb(59, 138, 194)\" stroke-width=\"2\" opacity=\"0.7\"></path><path aria-label=\"x: -2.54094682307; y: -0.0453858765496\" role=\"graphics-symbol\" aria-roledescription=\"point\" transform=\"translate(58.362127077124,226.70197037061135)\" d=\"M3.2318812451322905,0A3.2318812451322905,3.2318812451322905,0,1,1,-3.2318812451322905,0A3.2318812451322905,3.2318812451322905,0,1,1,3.2318812451322905,0\" stroke=\"rgb(159, 201, 226)\" stroke-width=\"2\" opacity=\"0.7\"></path><path aria-label=\"x: -0.841984489364; y: -0.959126947407\" role=\"graphics-symbol\" aria-roledescription=\"point\" transform=\"translate(126.32062042545427,260.9672605277479)\" d=\"M5.2436059431403255,0A5.2436059431403255,5.2436059431403255,0,1,1,-5.2436059431403255,0A5.2436059431403255,5.2436059431403255,0,1,1,5.2436059431403255,0\" stroke=\"rgb(187, 215, 235)\" stroke-width=\"2\" opacity=\"0.7\"></path><path aria-label=\"x: 1.20443717137; y: 2.62457416306\" role=\"graphics-symbol\" aria-roledescription=\"point\" transform=\"translate(208.17748685461774,126.57846888517226)\" d=\"M6.930567235114822,0A6.930567235114822,6.930567235114822,0,1,1,-6.930567235114822,0A6.930567235114822,6.930567235114822,0,1,1,6.930567235114822,0\" stroke=\"rgb(70, 147, 198)\" stroke-width=\"2\" opacity=\"0.7\"></path><path aria-label=\"x: 0.619227890612; y: 1.35932888073\" role=\"graphics-symbol\" aria-roledescription=\"point\" transform=\"translate(184.76911562446693,174.02516697248896)\" d=\"M6.4930542196446925,0A6.4930542196446925,6.4930542196446925,0,1,1,-6.4930542196446925,0A6.4930542196446925,6.4930542196446925,0,1,1,6.4930542196446925,0\" stroke=\"rgb(110, 174, 213)\" stroke-width=\"2\" opacity=\"0.7\"></path><path aria-label=\"x: 0.284391440575; y: 2.7950476622\" role=\"graphics-symbol\" aria-roledescription=\"point\" transform=\"translate(171.3756576229886,120.18571266752907)\" d=\"M6.228918126064123,0A6.228918126064123,6.228918126064123,0,1,1,-6.228918126064123,0A6.228918126064123,6.228918126064123,0,1,1,6.228918126064123,0\" stroke=\"rgb(65, 143, 196)\" stroke-width=\"2\" opacity=\"0.7\"></path><path aria-label=\"x: 0.790364357017; y: 1.20656002856\" role=\"graphics-symbol\" aria-roledescription=\"point\" transform=\"translate(191.61457428068894,179.75399892911554)\" d=\"M6.623989315200356,0A6.623989315200356,6.623989315200356,0,1,1,-6.623989315200356,0A6.623989315200356,6.623989315200356,0,1,1,6.623989315200356,0\" stroke=\"rgb(115, 177, 215)\" stroke-width=\"2\" opacity=\"0.7\"></path><path aria-label=\"x: 1.75029965863; y: 3.18926961869\" role=\"graphics-symbol\" aria-roledescription=\"point\" transform=\"translate(230.0119863450919,105.40238929907105)\" d=\"M7.315114288299179,0A7.315114288299179,7.315114288299179,0,1,1,-7.315114288299179,0A7.315114288299179,7.315114288299179,0,1,1,7.315114288299179,0\" stroke=\"rgb(55, 134, 192)\" stroke-width=\"2\" opacity=\"0.7\"></path><path aria-label=\"x: -1.70371021173; y: 0.0653638178696\" role=\"graphics-symbol\" aria-roledescription=\"point\" transform=\"translate(91.85159153092535,222.5488568298899)\" d=\"M4.341353088630205,0A4.341353088630205,4.341353088630205,0,1,1,-4.341353088630205,0A4.341353088630205,4.341353088630205,0,1,1,4.341353088630205,0\" stroke=\"rgb(155, 199, 225)\" stroke-width=\"2\" opacity=\"0.7\"></path><path aria-label=\"x: 0.02484160627; y: 2.80033654701\" role=\"graphics-symbol\" aria-roledescription=\"point\" transform=\"translate(160.99366425079887,119.98737948705774)\" d=\"M6.0161986305078345,0A6.0161986305078345,6.0161986305078345,0,1,1,-6.0161986305078345,0A6.0161986305078345,6.0161986305078345,0,1,1,6.0161986305078345,0\" stroke=\"rgb(65, 143, 196)\" stroke-width=\"2\" opacity=\"0.7\"></path><path aria-label=\"x: 1.67263027235; y: 2.24786692705\" role=\"graphics-symbol\" aria-roledescription=\"point\" transform=\"translate(226.90521089394045,140.70499023556397)\" d=\"M7.261640803766229,0A7.261640803766229,7.261640803766229,0,1,1,-7.261640803766229,0A7.261640803766229,7.261640803766229,0,1,1,7.261640803766229,0\" stroke=\"rgb(81, 155, 203)\" stroke-width=\"2\" opacity=\"0.7\"></path><path aria-label=\"x: 0.265239013994; y: 1.60042400204\" role=\"graphics-symbol\" aria-roledescription=\"point\" transform=\"translate(170.60956055976646,164.98409992338844)\" d=\"M6.213470223455387,0A6.213470223455387,6.213470223455387,0,1,1,-6.213470223455387,0A6.213470223455387,6.213470223455387,0,1,1,6.213470223455387,0\" stroke=\"rgb(102, 169, 210)\" stroke-width=\"2\" opacity=\"0.7\"></path><path aria-label=\"x: -0.783730457542; y: 1.79705854456\" role=\"graphics-symbol\" aria-roledescription=\"point\" transform=\"translate(128.6507816983072,157.6103045788622)\" d=\"M5.29905894430579,0A5.29905894430579,5.29905894430579,0,1,1,-5.29905894430579,0A5.29905894430579,5.29905894430579,0,1,1,5.29905894430579,0\" stroke=\"rgb(95, 165, 208)\" stroke-width=\"2\" opacity=\"0.7\"></path><path aria-label=\"x: 2.17498945538; y: 4.43676236893\" role=\"graphics-symbol\" aria-roledescription=\"point\" transform=\"translate(246.99957821513107,58.62141116509525)\" d=\"M7.600853510955036,0A7.600853510955036,7.600853510955036,0,1,1,-7.600853510955036,0A7.600853510955036,7.600853510955036,0,1,1,7.600853510955036,0\" stroke=\"rgb(27, 104, 173)\" stroke-width=\"2\" opacity=\"0.7\"></path><path aria-label=\"x: 1.08796174203; y: 1.78418826817\" role=\"graphics-symbol\" aria-roledescription=\"point\" transform=\"translate(203.5184696812221,158.09293994362795)\" d=\"M6.8457172665356625,0A6.8457172665356625,6.8457172665356625,0,1,1,-6.8457172665356625,0A6.8457172665356625,6.8457172665356625,0,1,1,6.8457172665356625,0\" stroke=\"rgb(95, 166, 208)\" stroke-width=\"2\" opacity=\"0.7\"></path><path aria-label=\"x: -0.396050481757; y: 1.55022366188\" role=\"graphics-symbol\" aria-roledescription=\"point\" transform=\"translate(144.157980729727,166.8666126793253)\" d=\"M5.654262263185928,0A5.654262263185928,5.654262263185928,0,1,1,-5.654262263185928,0A5.654262263185928,5.654262263185928,0,1,1,5.654262263185928,0\" stroke=\"rgb(103, 170, 211)\" stroke-width=\"2\" opacity=\"0.7\"></path><path aria-label=\"x: 1.84565760509; y: 2.89291529765\" role=\"graphics-symbol\" aria-roledescription=\"point\" transform=\"translate(233.82630420348193,116.51567633829762)\" d=\"M7.380236090899202,0A7.380236090899202,7.380236090899202,0,1,1,-7.380236090899202,0A7.380236090899202,7.380236090899202,0,1,1,7.380236090899202,0\" stroke=\"rgb(63, 141, 195)\" stroke-width=\"2\" opacity=\"0.7\"></path><path aria-label=\"x: 3.35157521213; y: 2.82046740024\" role=\"graphics-symbol\" aria-roledescription=\"point\" transform=\"translate(294.0630084852033,119.23247249102032)\" d=\"M8.341515730071647,0A8.341515730071647,8.341515730071647,0,1,1,-8.341515730071647,0A8.341515730071647,8.341515730071647,0,1,1,8.341515730071647,0\" stroke=\"rgb(65, 142, 196)\" stroke-width=\"2\" opacity=\"0.7\"></path><path aria-label=\"x: 1.07175890926; y: 2.10833003677\" role=\"graphics-symbol\" aria-roledescription=\"point\" transform=\"translate(202.87035637045622,145.9376236211806)\" d=\"M6.833830364525049,0A6.833830364525049,6.833830364525049,0,1,1,-6.833830364525049,0A6.833830364525049,6.833830364525049,0,1,1,6.833830364525049,0\" stroke=\"rgb(85, 159, 205)\" stroke-width=\"2\" opacity=\"0.7\"></path><path aria-label=\"x: 2.21515346549; y: 2.1542540922\" role=\"graphics-symbol\" aria-roledescription=\"point\" transform=\"translate(248.6061386196978,144.21547154238954)\" d=\"M7.6273225787682595,0A7.6273225787682595,7.6273225787682595,0,1,1,-7.6273225787682595,0A7.6273225787682595,7.6273225787682595,0,1,1,7.6273225787682595,0\" stroke=\"rgb(84, 157, 204)\" stroke-width=\"2\" opacity=\"0.7\"></path><path aria-label=\"x: 1.41781639115; y: 3.58880071357\" role=\"graphics-symbol\" aria-roledescription=\"point\" transform=\"translate(216.71265564608078,90.41997324098563)\" d=\"M7.0833735539557665,0A7.0833735539557665,7.0833735539557665,0,1,1,-7.0833735539557665,0A7.0833735539557665,7.0833735539557665,0,1,1,7.0833735539557665,0\" stroke=\"rgb(45, 124, 186)\" stroke-width=\"2\" opacity=\"0.7\"></path><path aria-label=\"x: 3.98703967808; y: 2.57547584598\" role=\"graphics-symbol\" aria-roledescription=\"point\" transform=\"translate(319.48158712301074,128.41965577560984)\" d=\"M8.71540256253001,0A8.71540256253001,8.71540256253001,0,1,1,-8.71540256253001,0A8.71540256253001,8.71540256253001,0,1,1,8.71540256253001,0\" stroke=\"rgb(71, 148, 199)\" stroke-width=\"2\" opacity=\"0.7\"></path><path aria-label=\"x: 0.892148658677; y: 1.2738076743\" role=\"graphics-symbol\" aria-roledescription=\"point\" transform=\"translate(195.68594634707844,177.23221221386237)\" d=\"M6.700650371000722,0A6.700650371000722,6.700650371000722,0,1,1,-6.700650371000722,0A6.700650371000722,6.700650371000722,0,1,1,6.700650371000722,0\" stroke=\"rgb(112, 176, 214)\" stroke-width=\"2\" opacity=\"0.7\"></path><path aria-label=\"x: 0.0185926476667; y: 1.80273379613\" role=\"graphics-symbol\" aria-roledescription=\"point\" transform=\"translate(160.74370590666746,157.397482645275)\" d=\"M6.010984364324323,0A6.010984364324323,6.010984364324323,0,1,1,-6.010984364324323,0A6.010984364324323,6.010984364324323,0,1,1,6.010984364324323,0\" stroke=\"rgb(95, 165, 208)\" stroke-width=\"2\" opacity=\"0.7\"></path><path aria-label=\"x: 2.14874887786; y: 3.62440918019\" role=\"graphics-symbol\" aria-roledescription=\"point\" transform=\"translate(245.9499551143886,89.08465574287914)\" d=\"M7.5835104299123435,0A7.5835104299123435,7.5835104299123435,0,1,1,-7.5835104299123435,0A7.5835104299123435,7.5835104299123435,0,1,1,7.5835104299123435,0\" stroke=\"rgb(44, 124, 186)\" stroke-width=\"2\" opacity=\"0.7\"></path><path aria-label=\"x: 0.186469862719; y: 0.476898698648\" role=\"graphics-symbol\" aria-roledescription=\"point\" transform=\"translate(167.45879450875066,207.1162988006832)\" d=\"M6.149528874029776,0A6.149528874029776,6.149528874029776,0,1,1,-6.149528874029776,0A6.149528874029776,6.149528874029776,0,1,1,6.149528874029776,0\" stroke=\"rgb(141, 192, 222)\" stroke-width=\"2\" opacity=\"0.7\"></path><path aria-label=\"x: 0.198829432211; y: 2.30710877077\" role=\"graphics-symbol\" aria-roledescription=\"point\" transform=\"translate(167.95317728845063,138.48342109624997)\" d=\"M6.1596057355781735,0A6.1596057355781735,6.1596057355781735,0,1,1,-6.1596057355781735,0A6.1596057355781735,6.1596057355781735,0,1,1,6.1596057355781735,0\" stroke=\"rgb(79, 154, 202)\" stroke-width=\"2\" opacity=\"0.7\"></path><path aria-label=\"x: 2.09398534968; y: 3.37808595391\" role=\"graphics-symbol\" aria-roledescription=\"point\" transform=\"translate(243.75941398725467,98.32177672828513)\" d=\"M7.547187411531531,0A7.547187411531531,7.547187411531531,0,1,1,-7.547187411531531,0A7.547187411531531,7.547187411531531,0,1,1,7.547187411531531,0\" stroke=\"rgb(50, 130, 189)\" stroke-width=\"2\" opacity=\"0.7\"></path><path aria-label=\"x: 2.56406064407; y: 2.54343182232\" role=\"graphics-symbol\" aria-roledescription=\"point\" transform=\"translate(262.5624257627098,129.62130666294055)\" d=\"M7.853508260250348,0A7.853508260250348,7.853508260250348,0,1,1,-7.853508260250348,0A7.853508260250348,7.853508260250348,0,1,1,7.853508260250348,0\" stroke=\"rgb(72, 149, 199)\" stroke-width=\"2\" opacity=\"0.7\"></path><path aria-label=\"x: 2.20216567472; y: 4.22785687492\" role=\"graphics-symbol\" aria-roledescription=\"point\" transform=\"translate(248.08662698875023,66.45536719066159)\" d=\"M7.618773366423552,0A7.618773366423552,7.618773366423552,0,1,1,-7.618773366423552,0A7.618773366423552,7.618773366423552,0,1,1,7.618773366423552,0\" stroke=\"rgb(30, 109, 176)\" stroke-width=\"2\" opacity=\"0.7\"></path><path aria-label=\"x: 1.32221544978; y: 2.1360566032\" role=\"graphics-symbol\" aria-roledescription=\"point\" transform=\"translate(212.88861799136086,144.89787738015767)\" d=\"M7.015322841056397,0A7.015322841056397,7.015322841056397,0,1,1,-7.015322841056397,0A7.015322841056397,7.015322841056397,0,1,1,7.015322841056397,0\" stroke=\"rgb(84, 158, 204)\" stroke-width=\"2\" opacity=\"0.7\"></path><path aria-label=\"x: 2.41825236534; y: 2.77526345997\" role=\"graphics-symbol\" aria-roledescription=\"point\" transform=\"translate(256.73009461347743,120.92762025104551)\" d=\"M7.759787225878667,0A7.759787225878667,7.759787225878667,0,1,1,-7.759787225878667,0A7.759787225878667,7.759787225878667,0,1,1,7.759787225878667,0\" stroke=\"rgb(66, 143, 197)\" stroke-width=\"2\" opacity=\"0.7\"></path><path aria-label=\"x: -1.81678351563; y: -0.00930937797123\" role=\"graphics-symbol\" aria-roledescription=\"point\" transform=\"translate(87.32865937467355,225.349101673921)\" d=\"M4.208630678096924,0A4.208630678096924,4.208630678096924,0,1,1,-4.208630678096924,0A4.208630678096924,4.208630678096924,0,1,1,4.208630678096924,0\" stroke=\"rgb(158, 201, 226)\" stroke-width=\"2\" opacity=\"0.7\"></path><path aria-label=\"x: 0.836722730249; y: 1.98509924591\" role=\"graphics-symbol\" aria-roledescription=\"point\" transform=\"translate(193.46890920995634,150.55877827854144)\" d=\"M6.6590145743094995,0A6.6590145743094995,6.6590145743094995,0,1,1,-6.6590145743094995,0A6.6590145743094995,6.6590145743094995,0,1,1,6.6590145743094995,0\" stroke=\"rgb(89, 161, 206)\" stroke-width=\"2\" opacity=\"0.7\"></path><path aria-label=\"x: 3.03169201822; y: 2.3267316338\" role=\"graphics-symbol\" aria-roledescription=\"point\" transform=\"translate(281.2676807287341,137.74756373250668)\" d=\"M8.146816532301258,0A8.146816532301258,8.146816532301258,0,1,1,-8.146816532301258,0A8.146816532301258,8.146816532301258,0,1,1,8.146816532301258,0\" stroke=\"rgb(79, 154, 202)\" stroke-width=\"2\" opacity=\"0.7\"></path><path aria-label=\"x: -1.31349874209; y: 1.13491918016\" role=\"graphics-symbol\" aria-roledescription=\"point\" transform=\"translate(107.46005031645791,182.44053074389672)\" d=\"M4.771101351249251,0A4.771101351249251,4.771101351249251,0,1,1,-4.771101351249251,0A4.771101351249251,4.771101351249251,0,1,1,4.771101351249251,0\" stroke=\"rgb(117, 179, 215)\" stroke-width=\"2\" opacity=\"0.7\"></path><path aria-label=\"x: -1.06629868625; y: -0.614217310617\" role=\"graphics-symbol\" aria-roledescription=\"point\" transform=\"translate(117.34805254984435,248.03314914811995)\" d=\"M5.02436503235058,0A5.02436503235058,5.02436503235058,0,1,1,-5.02436503235058,0A5.02436503235058,5.02436503235058,0,1,1,5.02436503235058,0\" stroke=\"rgb(177, 210, 232)\" stroke-width=\"2\" opacity=\"0.7\"></path><path aria-label=\"x: -2.51889122259; y: -0.474428199926\" role=\"graphics-symbol\" aria-roledescription=\"point\" transform=\"translate(59.24435109625955,242.79105749723533)\" d=\"M3.2659456041135893,0A3.2659456041135893,3.2659456041135893,0,1,1,-3.2659456041135893,0A3.2659456041135893,3.2659456041135893,0,1,1,3.2659456041135893,0\" stroke=\"rgb(173, 208, 230)\" stroke-width=\"2\" opacity=\"0.7\"></path><path aria-label=\"x: -2.26837735996; y: 0.449499770055\" role=\"graphics-symbol\" aria-roledescription=\"point\" transform=\"translate(69.2649056017897,208.14375862292462)\" d=\"M3.6304948797801986,0A3.6304948797801986,3.6304948797801986,0,1,1,-3.6304948797801986,0A3.6304948797801986,3.6304948797801986,0,1,1,3.6304948797801986,0\" stroke=\"rgb(142, 192, 222)\" stroke-width=\"2\" opacity=\"0.7\"></path><path aria-label=\"x: -1.20311839414; y: -0.0323424778795\" role=\"graphics-symbol\" aria-roledescription=\"point\" transform=\"translate(111.87526423437642,226.21284292048298)\" d=\"M4.885811779980661,0A4.885811779980661,4.885811779980661,0,1,1,-4.885811779980661,0A4.885811779980661,4.885811779980661,0,1,1,4.885811779980661,0\" stroke=\"rgb(158, 201, 226)\" stroke-width=\"2\" opacity=\"0.7\"></path><path aria-label=\"x: 1.97112270965; y: 2.10363209056\" role=\"graphics-symbol\" aria-roledescription=\"point\" transform=\"translate(238.844908385962,146.11379660412982)\" d=\"M7.465053256462232,0A7.465053256462232,7.465053256462232,0,1,1,-7.465053256462232,0A7.465053256462232,7.465053256462232,0,1,1,7.465053256462232,0\" stroke=\"rgb(85, 159, 205)\" stroke-width=\"2\" opacity=\"0.7\"></path><path aria-label=\"x: 0.590757948423; y: 0.715864516401\" role=\"graphics-symbol\" aria-roledescription=\"point\" transform=\"translate(183.63031793693213,198.1550806349594)\" d=\"M6.471015076258467,0A6.471015076258467,6.471015076258467,0,1,1,-6.471015076258467,0A6.471015076258467,6.471015076258467,0,1,1,6.471015076258467,0\" stroke=\"rgb(132, 187, 219)\" stroke-width=\"2\" opacity=\"0.7\"></path><path aria-label=\"x: 0.678421961182; y: 2.2381064864\" role=\"graphics-symbol\" aria-roledescription=\"point\" transform=\"translate(187.1368784472637,141.07100676001633)\" d=\"M6.538639728068474,0A6.538639728068474,6.538639728068474,0,1,1,-6.538639728068474,0A6.538639728068474,6.538639728068474,0,1,1,6.538639728068474,0\" stroke=\"rgb(81, 156, 203)\" stroke-width=\"2\" opacity=\"0.7\"></path><path aria-label=\"x: 1.34873426513; y: 3.07505842314\" role=\"graphics-symbol\" aria-roledescription=\"point\" transform=\"translate(213.949370605245,109.68530913228524)\" d=\"M7.034265458567495,0A7.034265458567495,7.034265458567495,0,1,1,-7.034265458567495,0A7.034265458567495,7.034265458567495,0,1,1,7.034265458567495,0\" stroke=\"rgb(58, 136, 193)\" stroke-width=\"2\" opacity=\"0.7\"></path><path aria-label=\"x: 3.56466610004; y: 2.94501533381\" role=\"graphics-symbol\" aria-roledescription=\"point\" transform=\"translate(302.5866440015522,114.56192498228887)\" d=\"M8.468731295492578,0A8.468731295492578,8.468731295492578,0,1,1,-8.468731295492578,0A8.468731295492578,8.468731295492578,0,1,1,8.468731295492578,0\" stroke=\"rgb(61, 139, 195)\" stroke-width=\"2\" opacity=\"0.7\"></path><path aria-label=\"x: 3.12925320034; y: 3.02833923539\" role=\"graphics-symbol\" aria-roledescription=\"point\" transform=\"translate(285.1701280136643,111.43727867292456)\" d=\"M8.206687420709288,0A8.206687420709288,8.206687420709288,0,1,1,-8.206687420709288,0A8.206687420709288,8.206687420709288,0,1,1,8.206687420709288,0\" stroke=\"rgb(59, 138, 194)\" stroke-width=\"2\" opacity=\"0.7\"></path><path aria-label=\"x: 2.21657376347; y: 2.1242002155\" role=\"graphics-symbol\" aria-roledescription=\"point\" transform=\"translate(248.66295053882212,145.34249191862102)\" d=\"M7.628256908628413,0A7.628256908628413,7.628256908628413,0,1,1,-7.628256908628413,0A7.628256908628413,7.628256908628413,0,1,1,7.628256908628413,0\" stroke=\"rgb(85, 158, 204)\" stroke-width=\"2\" opacity=\"0.7\"></path><path aria-label=\"x: 1.32532234812; y: 3.50348266344\" role=\"graphics-symbol\" aria-roledescription=\"point\" transform=\"translate(213.0128939249435,93.61940012114809)\" d=\"M7.017544769578762,0A7.017544769578762,7.017544769578762,0,1,1,-7.017544769578762,0A7.017544769578762,7.017544769578762,0,1,1,7.017544769578762,0\" stroke=\"rgb(47, 127, 188)\" stroke-width=\"2\" opacity=\"0.7\"></path><path aria-label=\"x: -0.0751218059284; y: 2.23039885629\" role=\"graphics-symbol\" aria-roledescription=\"point\" transform=\"translate(156.99512776286352,141.3600428890061)\" d=\"M5.9322372669396355,0A5.9322372669396355,5.9322372669396355,0,1,1,-5.9322372669396355,0A5.9322372669396355,5.9322372669396355,0,1,1,5.9322372669396355,0\" stroke=\"rgb(82, 156, 203)\" stroke-width=\"2\" opacity=\"0.7\"></path><path aria-label=\"x: 1.21417031621; y: 2.17178906602\" role=\"graphics-symbol\" aria-roledescription=\"point\" transform=\"translate(208.56681264831516,143.55791002442757)\" d=\"M6.937610649688349,0A6.937610649688349,6.937610649688349,0,1,1,-6.937610649688349,0A6.937610649688349,6.937610649688349,0,1,1,6.937610649688349,0\" stroke=\"rgb(83, 157, 204)\" stroke-width=\"2\" opacity=\"0.7\"></path><path aria-label=\"x: -1.97219051521; y: 0.150951978837\" role=\"graphics-symbol\" aria-roledescription=\"point\" transform=\"translate(81.11237939147688,219.33930079359564)\" d=\"M4.019072990123781,0A4.019072990123781,4.019072990123781,0,1,1,-4.019072990123781,0A4.019072990123781,4.019072990123781,0,1,1,4.019072990123781,0\" stroke=\"rgb(152, 198, 225)\" stroke-width=\"2\" opacity=\"0.7\"></path><path aria-label=\"x: 1.57358188671; y: 2.06031419535\" role=\"graphics-symbol\" aria-roledescription=\"point\" transform=\"translate(222.94327546832494,147.73821767449454)\" d=\"M7.192871690953757,0A7.192871690953757,7.192871690953757,0,1,1,-7.192871690953757,0A7.192871690953757,7.192871690953757,0,1,1,7.192871690953757,0\" stroke=\"rgb(87, 160, 205)\" stroke-width=\"2\" opacity=\"0.7\"></path><path aria-label=\"x: -2.30856330041; y: 0.813744854025\" role=\"graphics-symbol\" aria-roledescription=\"point\" transform=\"translate(67.6574679834147,194.48456797405905)\" d=\"M3.574520577538025,0A3.574520577538025,3.574520577538025,0,1,1,-3.574520577538025,0A3.574520577538025,3.574520577538025,0,1,1,3.574520577538025,0\" stroke=\"rgb(129, 185, 218)\" stroke-width=\"2\" opacity=\"0.7\"></path><path aria-label=\"x: -0.794208973672; y: 1.17561151076\" role=\"graphics-symbol\" aria-roledescription=\"point\" transform=\"translate(128.2316410531056,180.91456834651353)\" d=\"M5.289127150617117,0A5.289127150617117,5.289127150617117,0,1,1,-5.289127150617117,0A5.289127150617117,5.289127150617117,0,1,1,5.289127150617117,0\" stroke=\"rgb(116, 178, 215)\" stroke-width=\"2\" opacity=\"0.7\"></path><path aria-label=\"x: 1.07276974542; y: 3.84348547344\" role=\"graphics-symbol\" aria-roledescription=\"point\" transform=\"translate(202.91078981693883,80.86929474587532)\" d=\"M6.834572550027424,0A6.834572550027424,6.834572550027424,0,1,1,-6.834572550027424,0A6.834572550027424,6.834572550027424,0,1,1,6.834572550027424,0\" stroke=\"rgb(39, 118, 182)\" stroke-width=\"2\" opacity=\"0.7\"></path><path aria-label=\"x: 2.71425412717; y: 4.69778143358\" role=\"graphics-symbol\" aria-roledescription=\"point\" transform=\"translate(268.57016508684785,48.83319624059715)\" d=\"M7.948892688576858,0A7.948892688576858,7.948892688576858,0,1,1,-7.948892688576858,0A7.948892688576858,7.948892688576858,0,1,1,7.948892688576858,0\" stroke=\"rgb(22, 97, 168)\" stroke-width=\"2\" opacity=\"0.7\"></path><path aria-label=\"x: 0.583096173652; y: 1.08698881306\" role=\"graphics-symbol\" aria-roledescription=\"point\" transform=\"translate(183.3238469460976,184.23791951020735)\" d=\"M6.465071115282446,0A6.465071115282446,6.465071115282446,0,1,1,-6.465071115282446,0A6.465071115282446,6.465071115282446,0,1,1,6.465071115282446,0\" stroke=\"rgb(119, 180, 216)\" stroke-width=\"2\" opacity=\"0.7\"></path><path aria-label=\"x: -3.19242405678; y: -1.47528051165\" role=\"graphics-symbol\" aria-roledescription=\"point\" transform=\"translate(32.303037728829906,280.3230191869166)\" d=\"M1.9766130708274623,0A1.9766130708274623,1.9766130708274623,0,1,1,-1.9766130708274623,0A1.9766130708274623,1.9766130708274623,0,1,1,1.9766130708274623,0\" stroke=\"rgb(199, 221, 239)\" stroke-width=\"2\" opacity=\"0.7\"></path><path aria-label=\"x: 0.618267034385; y: 0.920275394825\" role=\"graphics-symbol\" aria-roledescription=\"point\" transform=\"translate(184.73068137538888,190.4896726940616)\" d=\"M6.492311621793429,0A6.492311621793429,6.492311621793429,0,1,1,-6.492311621793429,0A6.492311621793429,6.492311621793429,0,1,1,6.492311621793429,0\" stroke=\"rgb(125, 183, 217)\" stroke-width=\"2\" opacity=\"0.7\"></path><path aria-label=\"x: 1.29484191827; y: 2.96027888578\" role=\"graphics-symbol\" aria-roledescription=\"point\" transform=\"translate(211.7936767307516,113.9895417834371)\" d=\"M6.995715894483383,0A6.995715894483383,6.995715894483383,0,1,1,-6.995715894483383,0A6.995715894483383,6.995715894483383,0,1,1,6.995715894483383,0\" stroke=\"rgb(61, 139, 194)\" stroke-width=\"2\" opacity=\"0.7\"></path><path aria-label=\"x: 1.17848985289; y: 2.30610911541\" role=\"graphics-symbol\" aria-roledescription=\"point\" transform=\"translate(207.13959411542172,138.52090817203936)\" d=\"M6.911755321042663,0A6.911755321042663,6.911755321042663,0,1,1,-6.911755321042663,0A6.911755321042663,6.911755321042663,0,1,1,6.911755321042663,0\" stroke=\"rgb(79, 154, 202)\" stroke-width=\"2\" opacity=\"0.7\"></path><path aria-label=\"x: 3.02220348113; y: 2.70625750446\" role=\"graphics-symbol\" aria-roledescription=\"point\" transform=\"translate(280.8881392450681,123.51534358280082)\" d=\"M8.140970157476682,0A8.140970157476682,8.140970157476682,0,1,1,-8.140970157476682,0A8.140970157476682,8.140970157476682,0,1,1,8.140970157476682,0\" stroke=\"rgb(68, 145, 197)\" stroke-width=\"2\" opacity=\"0.7\"></path><path aria-label=\"x: -0.134170956579; y: 0.654692002064\" role=\"graphics-symbol\" aria-roledescription=\"point\" transform=\"translate(154.63316173684115,200.4490499226138)\" d=\"M5.8820776070956144,0A5.8820776070956144,5.8820776070956144,0,1,1,-5.8820776070956144,0A5.8820776070956144,5.8820776070956144,0,1,1,5.8820776070956144,0\" stroke=\"rgb(135, 188, 220)\" stroke-width=\"2\" opacity=\"0.7\"></path><path aria-label=\"x: 0.700820276712; y: 3.70654384455\" role=\"graphics-symbol\" aria-roledescription=\"point\" transform=\"translate(188.0328110684665,86.00460582955193)\" d=\"M6.555806067872538,0A6.555806067872538,6.555806067872538,0,1,1,-6.555806067872538,0A6.555806067872538,6.555806067872538,0,1,1,6.555806067872538,0\" stroke=\"rgb(42, 122, 185)\" stroke-width=\"2\" opacity=\"0.7\"></path><path aria-label=\"x: -0.712005644396; y: 1.12335035762\" role=\"graphics-symbol\" aria-roledescription=\"point\" transform=\"translate(131.5197742241573,182.8743615891593)\" d=\"M5.366547995083068,0A5.366547995083068,5.366547995083068,0,1,1,-5.366547995083068,0A5.366547995083068,5.366547995083068,0,1,1,5.366547995083068,0\" stroke=\"rgb(118, 179, 215)\" stroke-width=\"2\" opacity=\"0.7\"></path><path aria-label=\"x: 2.27896520344; y: 3.45958889826\" role=\"graphics-symbol\" aria-roledescription=\"point\" transform=\"translate(251.15860813764152,95.26541631532075)\" d=\"M7.669188212010993,0A7.669188212010993,7.669188212010993,0,1,1,-7.669188212010993,0A7.669188212010993,7.669188212010993,0,1,1,7.669188212010993,0\" stroke=\"rgb(48, 128, 188)\" stroke-width=\"2\" opacity=\"0.7\"></path><path aria-label=\"x: -1.24331966285; y: 0.0502075021754\" role=\"graphics-symbol\" aria-roledescription=\"point\" transform=\"translate(110.26721348602541,223.11721866842413)\" d=\"M4.844347965018693,0A4.844347965018693,4.844347965018693,0,1,1,-4.844347965018693,0A4.844347965018693,4.844347965018693,0,1,1,4.844347965018693,0\" stroke=\"rgb(156, 200, 226)\" stroke-width=\"2\" opacity=\"0.7\"></path><path aria-label=\"x: -0.37466537247; y: 1.3713703915\" role=\"graphics-symbol\" aria-roledescription=\"point\" transform=\"translate(145.01338510119896,173.5736103186676)\" d=\"M5.673208719143096,0A5.673208719143096,5.673208719143096,0,1,1,-5.673208719143096,0A5.673208719143096,5.673208719143096,0,1,1,5.673208719143096,0\" stroke=\"rgb(109, 174, 213)\" stroke-width=\"2\" opacity=\"0.7\"></path><path aria-label=\"x: 1.61833519758; y: 2.25570763395\" role=\"graphics-symbol\" aria-roledescription=\"point\" transform=\"translate(224.7334079031039,140.4109637267378)\" d=\"M7.224024904749714,0A7.224024904749714,7.224024904749714,0,1,1,-7.224024904749714,0A7.224024904749714,7.224024904749714,0,1,1,7.224024904749714,0\" stroke=\"rgb(81, 155, 203)\" stroke-width=\"2\" opacity=\"0.7\"></path><path aria-label=\"x: -1.65588785011; y: -1.27426344469\" role=\"graphics-symbol\" aria-roledescription=\"point\" transform=\"translate(93.76448599575997,272.78487917569595)\" d=\"M4.396280189235,0A4.396280189235,4.396280189235,0,1,1,-4.396280189235,0A4.396280189235,4.396280189235,0,1,1,4.396280189235,0\" stroke=\"rgb(195, 219, 238)\" stroke-width=\"2\" opacity=\"0.7\"></path><path aria-label=\"x: 1.81950466202; y: 3.62000431229\" role=\"graphics-symbol\" aria-roledescription=\"point\" transform=\"translate(232.78018648070224,89.24983828923419)\" d=\"M7.362433061134458,0A7.362433061134458,7.362433061134458,0,1,1,-7.362433061134458,0A7.362433061134458,7.362433061134458,0,1,1,7.362433061134458,0\" stroke=\"rgb(44, 124, 186)\" stroke-width=\"2\" opacity=\"0.7\"></path><path aria-label=\"x: 0.816354506739; y: -0.831745492109\" role=\"graphics-symbol\" aria-roledescription=\"point\" transform=\"translate(192.65418026954157,256.1904559540805)\" d=\"M6.643648461022275,0A6.643648461022275,6.643648461022275,0,1,1,-6.643648461022275,0A6.643648461022275,6.643648461022275,0,1,1,6.643648461022275,0\" stroke=\"rgb(183, 213, 234)\" stroke-width=\"2\" opacity=\"0.7\"></path><path aria-label=\"x: 0.766249811636; y: 2.38484044483\" role=\"graphics-symbol\" aria-roledescription=\"point\" transform=\"translate(190.64999246542723,135.5684833187022)\" d=\"M6.605696564523643,0A6.605696564523643,6.605696564523643,0,1,1,-6.605696564523643,0A6.605696564523643,6.605696564523643,0,1,1,6.605696564523643,0\" stroke=\"rgb(77, 152, 201)\" stroke-width=\"2\" opacity=\"0.7\"></path><path aria-label=\"x: 1.12573603279; y: 1.7859845913\" role=\"graphics-symbol\" aria-roledescription=\"point\" transform=\"translate(205.02944131140603,158.0255778260782)\" d=\"M6.873349831998752,0A6.873349831998752,6.873349831998752,0,1,1,-6.873349831998752,0A6.873349831998752,6.873349831998752,0,1,1,6.873349831998752,0\" stroke=\"rgb(95, 166, 208)\" stroke-width=\"2\" opacity=\"0.7\"></path><path aria-label=\"x: 4.61184234685; y: 4.34743646687\" role=\"graphics-symbol\" aria-roledescription=\"point\" transform=\"translate(344.4736938739033,61.97113249227466)\" d=\"M9.06799867323907,0A9.06799867323907,9.06799867323907,0,1,1,-9.06799867323907,0A9.06799867323907,9.06799867323907,0,1,1,9.06799867323907,0\" stroke=\"rgb(28, 106, 174)\" stroke-width=\"2\" opacity=\"0.7\"></path><path aria-label=\"x: -0.499767462982; y: 1.63860652805\" role=\"graphics-symbol\" aria-roledescription=\"point\" transform=\"translate(140.0093014807054,163.5522551980475)\" d=\"M5.561457086208677,0A5.561457086208677,5.561457086208677,0,1,1,-5.561457086208677,0A5.561457086208677,5.561457086208677,0,1,1,5.561457086208677,0\" stroke=\"rgb(100, 169, 210)\" stroke-width=\"2\" opacity=\"0.7\"></path><path aria-label=\"x: 0.680513754908; y: 2.08093548803\" role=\"graphics-symbol\" aria-roledescription=\"point\" transform=\"translate(187.2205501963051,146.96491919871326)\" d=\"M6.540244811527349,0A6.540244811527349,6.540244811527349,0,1,1,-6.540244811527349,0A6.540244811527349,6.540244811527349,0,1,1,6.540244811527349,0\" stroke=\"rgb(86, 159, 205)\" stroke-width=\"2\" opacity=\"0.7\"></path><path aria-label=\"x: -1.22760531937; y: 1.50536099952\" role=\"graphics-symbol\" aria-roledescription=\"point\" transform=\"translate(110.89578722513482,168.54896251806574)\" d=\"M4.860597936070869,0A4.860597936070869,4.860597936070869,0,1,1,-4.860597936070869,0A4.860597936070869,4.860597936070869,0,1,1,4.860597936070869,0\" stroke=\"rgb(105, 171, 211)\" stroke-width=\"2\" opacity=\"0.7\"></path><path aria-label=\"x: 0.269808652694; y: 1.31731224079\" role=\"graphics-symbol\" aria-roledescription=\"point\" transform=\"translate(170.7923461077712,175.60079097049342)\" d=\"M6.217159474453895,0A6.217159474453895,6.217159474453895,0,1,1,-6.217159474453895,0A6.217159474453895,6.217159474453895,0,1,1,6.217159474453895,0\" stroke=\"rgb(111, 175, 213)\" stroke-width=\"2\" opacity=\"0.7\"></path><path aria-label=\"x: 0.339808256126; y: 1.78805455927\" role=\"graphics-symbol\" aria-roledescription=\"point\" transform=\"translate(173.59233024505428,157.9479540274548)\" d=\"M6.27340177736636,0A6.27340177736636,6.27340177736636,0,1,1,-6.27340177736636,0A6.27340177736636,6.27340177736636,0,1,1,6.27340177736636,0\" stroke=\"rgb(95, 166, 208)\" stroke-width=\"2\" opacity=\"0.7\"></path><path aria-label=\"x: 0.893912995606; y: 1.15385646398\" role=\"graphics-symbol\" aria-roledescription=\"point\" transform=\"translate(195.75651982422866,181.73038260092383)\" d=\"M6.701971487841247,0A6.701971487841247,6.701971487841247,0,1,1,-6.701971487841247,0A6.701971487841247,6.701971487841247,0,1,1,6.701971487841247,0\" stroke=\"rgb(117, 178, 215)\" stroke-width=\"2\" opacity=\"0.7\"></path><path aria-label=\"x: 2.75726095953; y: 3.2501390077\" role=\"graphics-symbol\" aria-roledescription=\"point\" transform=\"translate(270.2904383813899,103.11978721126464)\" d=\"M7.975995262630371,0A7.975995262630371,7.975995262630371,0,1,1,-7.975995262630371,0A7.975995262630371,7.975995262630371,0,1,1,7.975995262630371,0\" stroke=\"rgb(53, 132, 191)\" stroke-width=\"2\" opacity=\"0.7\"></path><path aria-label=\"x: 1.91460019607; y: 2.01257444886\" role=\"graphics-symbol\" aria-roledescription=\"point\" transform=\"translate(236.58400784274588,149.52845816790347)\" d=\"M7.426962688953145,0A7.426962688953145,7.426962688953145,0,1,1,-7.426962688953145,0A7.426962688953145,7.426962688953145,0,1,1,7.426962688953145,0\" stroke=\"rgb(88, 161, 206)\" stroke-width=\"2\" opacity=\"0.7\"></path><path aria-label=\"x: 2.24254628726; y: 2.87802808459\" role=\"graphics-symbol\" aria-roledescription=\"point\" transform=\"translate(249.70185149049718,117.07394682795696)\" d=\"M7.645322556996509,0A7.645322556996509,7.645322556996509,0,1,1,-7.645322556996509,0A7.645322556996509,7.645322556996509,0,1,1,7.645322556996509,0\" stroke=\"rgb(63, 141, 195)\" stroke-width=\"2\" opacity=\"0.7\"></path><path aria-label=\"x: 2.66559184416; y: 2.60718339781\" role=\"graphics-symbol\" aria-roledescription=\"point\" transform=\"translate(266.6236737664292,127.23062258204293)\" d=\"M7.918114224890373,0A7.918114224890373,7.918114224890373,0,1,1,-7.918114224890373,0A7.918114224890373,7.918114224890373,0,1,1,7.918114224890373,0\" stroke=\"rgb(70, 147, 199)\" stroke-width=\"2\" opacity=\"0.7\"></path><path aria-label=\"x: 1.08078908296; y: 1.58472170876\" role=\"graphics-symbol\" aria-roledescription=\"point\" transform=\"translate(203.2315633185294,165.57293592135494)\" d=\"M6.8404577288829245,0A6.8404577288829245,6.8404577288829245,0,1,1,-6.8404577288829245,0A6.8404577288829245,6.8404577288829245,0,1,1,6.8404577288829245,0\" stroke=\"rgb(102, 170, 211)\" stroke-width=\"2\" opacity=\"0.7\"></path><path aria-label=\"x: 3.75305631615; y: 2.89616767976\" role=\"graphics-symbol\" aria-roledescription=\"point\" transform=\"translate(310.1222526461023,116.39371200883132)\" d=\"M8.57962967015135,0A8.57962967015135,8.57962967015135,0,1,1,-8.57962967015135,0A8.57962967015135,8.57962967015135,0,1,1,8.57962967015135,0\" stroke=\"rgb(63, 141, 195)\" stroke-width=\"2\" opacity=\"0.7\"></path><path aria-label=\"x: 0.936566938419; y: 1.1217503139\" role=\"graphics-symbol\" aria-roledescription=\"point\" transform=\"translate(197.46267753674314,182.93436322873802)\" d=\"M6.733831433181108,0A6.733831433181108,6.733831433181108,0,1,1,-6.733831433181108,0A6.733831433181108,6.733831433181108,0,1,1,6.733831433181108,0\" stroke=\"rgb(118, 179, 215)\" stroke-width=\"2\" opacity=\"0.7\"></path><path aria-label=\"x: 1.91393486381; y: 3.27251297924\" role=\"graphics-symbol\" aria-roledescription=\"point\" transform=\"translate(236.5573945523811,102.28076327835358)\" d=\"M7.426513157633055,0A7.426513157633055,7.426513157633055,0,1,1,-7.426513157633055,0A7.426513157633055,7.426513157633055,0,1,1,7.426513157633055,0\" stroke=\"rgb(52, 132, 191)\" stroke-width=\"2\" opacity=\"0.7\"></path><path aria-label=\"x: -0.242256592065; y: 0.199696270711\" role=\"graphics-symbol\" aria-roledescription=\"point\" transform=\"translate(150.30973631738155,217.51138984835416)\" d=\"M5.789137886733417,0A5.789137886733417,5.789137886733417,0,1,1,-5.789137886733417,0A5.789137886733417,5.789137886733417,0,1,1,5.789137886733417,0\" stroke=\"rgb(151, 197, 224)\" stroke-width=\"2\" opacity=\"0.7\"></path><path aria-label=\"x: -0.441986717322; y: 0.561689471174\" role=\"graphics-symbol\" aria-roledescription=\"point\" transform=\"translate(142.32053130712487,203.9366448309751)\" d=\"M5.613348158847483,0A5.613348158847483,5.613348158847483,0,1,1,-5.613348158847483,0A5.613348158847483,5.613348158847483,0,1,1,5.613348158847483,0\" stroke=\"rgb(138, 190, 221)\" stroke-width=\"2\" opacity=\"0.7\"></path><path aria-label=\"x: 1.4276686519; y: 1.31653867512\" role=\"graphics-symbol\" aria-roledescription=\"point\" transform=\"translate(217.1067460758196,175.62979968317907)\" d=\"M7.090349472875135,0A7.090349472875135,7.090349472875135,0,1,1,-7.090349472875135,0A7.090349472875135,7.090349472875135,0,1,1,7.090349472875135,0\" stroke=\"rgb(111, 175, 213)\" stroke-width=\"2\" opacity=\"0.7\"></path><path aria-label=\"x: 1.77916443556; y: 3.86894021511\" role=\"graphics-symbol\" aria-roledescription=\"point\" transform=\"translate(231.16657742236814,79.9147419334976)\" d=\"M7.334887626433407,0A7.334887626433407,7.334887626433407,0,1,1,-7.334887626433407,0A7.334887626433407,7.334887626433407,0,1,1,7.334887626433407,0\" stroke=\"rgb(38, 118, 182)\" stroke-width=\"2\" opacity=\"0.7\"></path><path aria-label=\"x: 2.83096344317; y: 2.9274881229\" role=\"graphics-symbol\" aria-roledescription=\"point\" transform=\"translate(273.23853772670867,115.2191953914294)\" d=\"M8.02222908596508,0A8.02222908596508,8.02222908596508,0,1,1,-8.02222908596508,0A8.02222908596508,8.02222908596508,0,1,1,8.02222908596508,0\" stroke=\"rgb(62, 140, 195)\" stroke-width=\"2\" opacity=\"0.7\"></path><path aria-label=\"x: 3.12233152602; y: 3.52154981547\" role=\"graphics-symbol\" aria-roledescription=\"point\" transform=\"translate(284.89326104063844,92.94188191994247)\" d=\"M8.202454162415115,0A8.202454162415115,8.202454162415115,0,1,1,-8.202454162415115,0A8.202454162415115,8.202454162415115,0,1,1,8.202454162415115,0\" stroke=\"rgb(46, 126, 187)\" stroke-width=\"2\" opacity=\"0.7\"></path><path aria-label=\"x: -1.63137130884; y: 0.312060352686\" role=\"graphics-symbol\" aria-roledescription=\"point\" transform=\"translate(94.7451476465442,213.29773677426434)\" d=\"M4.4241746319998105,0A4.4241746319998105,4.4241746319998105,0,1,1,-4.4241746319998105,0A4.4241746319998105,4.4241746319998105,0,1,1,4.4241746319998105,0\" stroke=\"rgb(147, 195, 223)\" stroke-width=\"2\" opacity=\"0.7\"></path><path aria-label=\"x: 3.76575033914; y: 3.27838868023\" role=\"graphics-symbol\" aria-roledescription=\"point\" transform=\"translate(310.6300135656601,102.0604244913802)\" d=\"M8.587050670110065,0A8.587050670110065,8.587050670110065,0,1,1,-8.587050670110065,0A8.587050670110065,8.587050670110065,0,1,1,8.587050670110065,0\" stroke=\"rgb(52, 132, 190)\" stroke-width=\"2\" opacity=\"0.7\"></path><path aria-label=\"x: 4.30474949092; y: 4.51347583954\" role=\"graphics-symbol\" aria-roledescription=\"point\" transform=\"translate(332.189979636667,55.74465601715325)\" d=\"M8.89644285095303,0A8.89644285095303,8.89644285095303,0,1,1,-8.89644285095303,0A8.89644285095303,8.89644285095303,0,1,1,8.89644285095303,0\" stroke=\"rgb(25, 102, 171)\" stroke-width=\"2\" opacity=\"0.7\"></path><path aria-label=\"x: -0.224021983882; y: 0.839724705546\" role=\"graphics-symbol\" aria-roledescription=\"point\" transform=\"translate(151.03912064473016,193.510323542027)\" d=\"M5.8049216434698225,0A5.8049216434698225,5.8049216434698225,0,1,1,-5.8049216434698225,0A5.8049216434698225,5.8049216434698225,0,1,1,5.8049216434698225,0\" stroke=\"rgb(128, 185, 218)\" stroke-width=\"2\" opacity=\"0.7\"></path><path aria-label=\"x: 2.61662647637; y: 2.37822530406\" role=\"graphics-symbol\" aria-roledescription=\"point\" transform=\"translate(264.6650590549006,135.816551097897)\" d=\"M7.887022828787243,0A7.887022828787243,7.887022828787243,0,1,1,-7.887022828787243,0A7.887022828787243,7.887022828787243,0,1,1,7.887022828787243,0\" stroke=\"rgb(77, 152, 201)\" stroke-width=\"2\" opacity=\"0.7\"></path><path aria-label=\"x: 3.45641261401; y: 2.85706907357\" role=\"graphics-symbol\" aria-roledescription=\"point\" transform=\"translate(298.2565045603549,117.85990974115391)\" d=\"M8.404344456666266,0A8.404344456666266,8.404344456666266,0,1,1,-8.404344456666266,0A8.404344456666266,8.404344456666266,0,1,1,8.404344456666266,0\" stroke=\"rgb(64, 141, 196)\" stroke-width=\"2\" opacity=\"0.7\"></path><path aria-label=\"x: -0.39555273399; y: 3.35107085641\" role=\"graphics-symbol\" aria-roledescription=\"point\" transform=\"translate(144.1778906404187,99.3348428845878)\" d=\"M5.654703971813552,0A5.654703971813552,5.654703971813552,0,1,1,-5.654703971813552,0A5.654703971813552,5.654703971813552,0,1,1,5.654703971813552,0\" stroke=\"rgb(50, 130, 190)\" stroke-width=\"2\" opacity=\"0.7\"></path><path aria-label=\"x: 0.191004979191; y: 0.716724883441\" role=\"graphics-symbol\" aria-roledescription=\"point\" transform=\"translate(167.64019916764383,198.12281687097854)\" d=\"M6.153228309545714,0A6.153228309545714,6.153228309545714,0,1,1,-6.153228309545714,0A6.153228309545714,6.153228309545714,0,1,1,6.153228309545714,0\" stroke=\"rgb(132, 187, 219)\" stroke-width=\"2\" opacity=\"0.7\"></path><path aria-label=\"x: 2.30995588059; y: 4.07591178258\" role=\"graphics-symbol\" aria-roledescription=\"point\" transform=\"translate(252.39823522366214,72.15330815320596)\" d=\"M7.6894383577707135,0A7.6894383577707135,7.6894383577707135,0,1,1,-7.6894383577707135,0A7.6894383577707135,7.6894383577707135,0,1,1,7.6894383577707135,0\" stroke=\"rgb(34, 113, 179)\" stroke-width=\"2\" opacity=\"0.7\"></path><path aria-label=\"x: -0.783963395805; y: 1.07458133741\" role=\"graphics-symbol\" aria-roledescription=\"point\" transform=\"translate(128.64146416781153,184.70319984703414)\" d=\"M5.298838362039927,0A5.298838362039927,5.298838362039927,0,1,1,-5.298838362039927,0A5.298838362039927,5.298838362039927,0,1,1,5.298838362039927,0\" stroke=\"rgb(119, 180, 216)\" stroke-width=\"2\" opacity=\"0.7\"></path><path aria-label=\"x: 4.66190469061; y: 4.77487788292\" role=\"graphics-symbol\" aria-roledescription=\"point\" transform=\"translate(346.47618762441147,45.942079390515744)\" d=\"M9.095659002064949,0A9.095659002064949,9.095659002064949,0,1,1,-9.095659002064949,0A9.095659002064949,9.095659002064949,0,1,1,9.095659002064949,0\" stroke=\"rgb(20, 95, 166)\" stroke-width=\"2\" opacity=\"0.7\"></path><path aria-label=\"x: 2.41425700289; y: 1.62498705056\" role=\"graphics-symbol\" aria-roledescription=\"point\" transform=\"translate(256.5702801156727,164.06298560404085)\" d=\"M7.7572031922571725,0A7.7572031922571725,7.7572031922571725,0,1,1,-7.7572031922571725,0A7.7572031922571725,7.7572031922571725,0,1,1,7.7572031922571725,0\" stroke=\"rgb(101, 169, 210)\" stroke-width=\"2\" opacity=\"0.7\"></path><path aria-label=\"x: 2.36672570338; y: 2.31614273412\" role=\"graphics-symbol\" aria-roledescription=\"point\" transform=\"translate(254.66902813522444,138.14464747045133)\" d=\"M7.726395636257228,0A7.726395636257228,7.726395636257228,0,1,1,-7.726395636257228,0A7.726395636257228,7.726395636257228,0,1,1,7.726395636257228,0\" stroke=\"rgb(79, 154, 202)\" stroke-width=\"2\" opacity=\"0.7\"></path><path aria-label=\"x: 2.32850058802; y: 2.58978222324\" role=\"graphics-symbol\" aria-roledescription=\"point\" transform=\"translate(253.14002352087545,127.8831666285272)\" d=\"M7.701530506922974,0A7.701530506922974,7.701530506922974,0,1,1,-7.701530506922974,0A7.701530506922974,7.701530506922974,0,1,1,7.701530506922974,0\" stroke=\"rgb(71, 148, 199)\" stroke-width=\"2\" opacity=\"0.7\"></path><path aria-label=\"x: -1.61087917781; y: 0.568221504979\" role=\"graphics-symbol\" aria-roledescription=\"point\" transform=\"translate(95.56483288742224,203.6916935632931)\" d=\"M4.447355945437372,0A4.447355945437372,4.447355945437372,0,1,1,-4.447355945437372,0A4.447355945437372,4.447355945437372,0,1,1,4.447355945437372,0\" stroke=\"rgb(138, 190, 221)\" stroke-width=\"2\" opacity=\"0.7\"></path><path aria-label=\"x: 0.26661988379; y: 1.61973843151\" role=\"graphics-symbol\" aria-roledescription=\"point\" transform=\"translate(170.66479535158948,164.25980881831208)\" d=\"M6.21458528545273,0A6.21458528545273,6.21458528545273,0,1,1,-6.21458528545273,0A6.21458528545273,6.21458528545273,0,1,1,6.21458528545273,0\" stroke=\"rgb(101, 169, 210)\" stroke-width=\"2\" opacity=\"0.7\"></path><path aria-label=\"x: -1.14676796021; y: 1.04833527006\" role=\"graphics-symbol\" aria-roledescription=\"point\" transform=\"translate(114.12928159171913,185.68742737286624)\" d=\"M4.943346552817167,0A4.943346552817167,4.943346552817167,0,1,1,-4.943346552817167,0A4.943346552817167,4.943346552817167,0,1,1,4.943346552817167,0\" stroke=\"rgb(120, 180, 216)\" stroke-width=\"2\" opacity=\"0.7\"></path><path aria-label=\"x: -0.881469417048; y: -0.948582712246\" role=\"graphics-symbol\" aria-roledescription=\"point\" transform=\"translate(124.74122331807571,260.57185170923583)\" d=\"M5.2056836973744,0A5.2056836973744,5.2056836973744,0,1,1,-5.2056836973744,0A5.2056836973744,5.2056836973744,0,1,1,5.2056836973744,0\" stroke=\"rgb(187, 214, 235)\" stroke-width=\"2\" opacity=\"0.7\"></path><path aria-label=\"x: 2.29105442838; y: 3.05237170761\" role=\"graphics-symbol\" aria-roledescription=\"point\" transform=\"translate(251.6421771350475,110.53606096449548)\" d=\"M7.677093992415344,0A7.677093992415344,7.677093992415344,0,1,1,-7.677093992415344,0A7.677093992415344,7.677093992415344,0,1,1,7.677093992415344,0\" stroke=\"rgb(58, 137, 193)\" stroke-width=\"2\" opacity=\"0.7\"></path><path aria-label=\"x: -1.04643177272; y: -0.189576586676\" role=\"graphics-symbol\" aria-roledescription=\"point\" transform=\"translate(118.14272909119245,232.10912200036574)\" d=\"M5.04416724426954,0A5.04416724426954,5.04416724426954,0,1,1,-5.04416724426954,0A5.04416724426954,5.04416724426954,0,1,1,5.04416724426954,0\" stroke=\"rgb(164, 204, 228)\" stroke-width=\"2\" opacity=\"0.7\"></path><path aria-label=\"x: 3.3355372319; y: 3.25328924936\" role=\"graphics-symbol\" aria-roledescription=\"point\" transform=\"translate(293.4214892758226,103.0016531488847)\" d=\"M8.331862435867874,0A8.331862435867874,8.331862435867874,0,1,1,-8.331862435867874,0A8.331862435867874,8.331862435867874,0,1,1,8.331862435867874,0\" stroke=\"rgb(53, 132, 191)\" stroke-width=\"2\" opacity=\"0.7\"></path><path aria-label=\"x: -0.582180569457; y: 1.59758433708\" role=\"graphics-symbol\" aria-roledescription=\"point\" transform=\"translate(136.71277722172601,165.09058735935406)\" d=\"M5.486595327145891,0A5.486595327145891,5.486595327145891,0,1,1,-5.486595327145891,0A5.486595327145891,5.486595327145891,0,1,1,5.486595327145891,0\" stroke=\"rgb(102, 169, 210)\" stroke-width=\"2\" opacity=\"0.7\"></path></g><g class=\"mark-group role-legend\" role=\"graphics-symbol\" aria-roledescription=\"legend\" aria-label=\"Gradient legend titled 'y' for stroke color with values from -2 to 6\"><g transform=\"translate(418,0)\"><path class=\"background\" aria-hidden=\"true\" d=\"M0,0h24v216h-24Z\" pointer-events=\"none\"></path><g><g class=\"mark-group role-legend-entry\"><g transform=\"translate(0,16)\"><path class=\"background\" aria-hidden=\"true\" d=\"M0,0h0v0h0Z\" pointer-events=\"none\"></path><g><g class=\"mark-rect role-legend-gradient\" pointer-events=\"none\"><path d=\"M0,0h16v200h-16Z\" fill=\"url(#gradient_0)\" stroke=\"#ddd\" stroke-width=\"0\" opacity=\"0.7\"></path></g><g class=\"mark-text role-legend-label\" pointer-events=\"none\"><text text-anchor=\"start\" transform=\"translate(18,154.388745708383)\" font-family=\"sans-serif\" font-size=\"10px\" fill=\"#000\" opacity=\"1\">0</text><text text-anchor=\"start\" transform=\"translate(18,100.66888925236753)\" font-family=\"sans-serif\" font-size=\"10px\" fill=\"#000\" opacity=\"1\">2</text><text text-anchor=\"start\" transform=\"translate(18,46.94903279635207)\" font-family=\"sans-serif\" font-size=\"10px\" fill=\"#000\" opacity=\"1\">4</text></g></g><path class=\"foreground\" aria-hidden=\"true\" d=\"\" pointer-events=\"none\" display=\"none\"></path></g></g><g class=\"mark-text role-legend-title\" pointer-events=\"none\"><text text-anchor=\"start\" transform=\"translate(0,9)\" font-family=\"sans-serif\" font-size=\"11px\" font-weight=\"bold\" fill=\"#000\" opacity=\"1\">y</text></g></g><path class=\"foreground\" aria-hidden=\"true\" d=\"\" pointer-events=\"none\" display=\"none\"></path></g></g><g class=\"mark-group role-legend\" role=\"graphics-symbol\" aria-roledescription=\"legend\" aria-label=\"Symbol legend titled 'x' for size with values from -4 to 5\"><g transform=\"translate(418,224)\"><path class=\"background\" aria-hidden=\"true\" d=\"M0,0h33v89h-33Z\" pointer-events=\"none\"></path><g><g class=\"mark-group role-legend-entry\"><g transform=\"translate(0,16)\"><path class=\"background\" aria-hidden=\"true\" d=\"M0,0h0v0h0Z\" pointer-events=\"none\"></path><g><g class=\"mark-group role-scope\" role=\"graphics-object\" aria-roledescription=\"group mark container\"><g transform=\"translate(0,0)\"><path class=\"background\" aria-hidden=\"true\" d=\"M0,0h33v10.484201161795754h-33Z\" pointer-events=\"none\" opacity=\"1\"></path><g><g class=\"mark-symbol role-legend-symbol\" pointer-events=\"none\"><path transform=\"translate(9.5,5)\" d=\"M3.9842011617957542,0A3.9842011617957542,3.9842011617957542,0,1,1,-3.9842011617957542,0A3.9842011617957542,3.9842011617957542,0,1,1,3.9842011617957542,0\" stroke=\"#888\" stroke-width=\"1.5\" opacity=\"0.7\"></path></g><g class=\"mark-text role-legend-label\" pointer-events=\"none\"><text text-anchor=\"start\" transform=\"translate(23,8)\" font-family=\"sans-serif\" font-size=\"10px\" fill=\"#000\" opacity=\"1\">-2</text></g></g><path class=\"foreground\" aria-hidden=\"true\" d=\"\" pointer-events=\"none\" display=\"none\"></path></g><g transform=\"translate(0,14)\"><path class=\"background\" aria-hidden=\"true\" d=\"M0,0h33v14.49544343824703h-33Z\" pointer-events=\"none\" opacity=\"1\"></path><g><g class=\"mark-symbol role-legend-symbol\" pointer-events=\"none\"><path transform=\"translate(9.5,7)\" d=\"M5.995443438247029,0A5.995443438247029,5.995443438247029,0,1,1,-5.995443438247029,0A5.995443438247029,5.995443438247029,0,1,1,5.995443438247029,0\" stroke=\"#888\" stroke-width=\"1.5\" opacity=\"0.7\"></path></g><g class=\"mark-text role-legend-label\" pointer-events=\"none\"><text text-anchor=\"start\" transform=\"translate(23,10)\" font-family=\"sans-serif\" font-size=\"10px\" fill=\"#000\" opacity=\"1\">0</text></g></g><path class=\"foreground\" aria-hidden=\"true\" d=\"\" pointer-events=\"none\" display=\"none\"></path></g><g transform=\"translate(0,32)\"><path class=\"background\" aria-hidden=\"true\" d=\"M0,0h33v17.48443886639366h-33Z\" pointer-events=\"none\" opacity=\"1\"></path><g><g class=\"mark-symbol role-legend-symbol\" pointer-events=\"none\"><path transform=\"translate(9.5,8.5)\" d=\"M7.484438866393663,0A7.484438866393663,7.484438866393663,0,1,1,-7.484438866393663,0A7.484438866393663,7.484438866393663,0,1,1,7.484438866393663,0\" stroke=\"#888\" stroke-width=\"1.5\" opacity=\"0.7\"></path></g><g class=\"mark-text role-legend-label\" pointer-events=\"none\"><text text-anchor=\"start\" transform=\"translate(23,11.5)\" font-family=\"sans-serif\" font-size=\"10px\" fill=\"#000\" opacity=\"1\">2</text></g></g><path class=\"foreground\" aria-hidden=\"true\" d=\"\" pointer-events=\"none\" display=\"none\"></path></g><g transform=\"translate(0,53)\"><path class=\"background\" aria-hidden=\"true\" d=\"M0,0h33v19.722861243213075h-33Z\" pointer-events=\"none\" opacity=\"1\"></path><g><g class=\"mark-symbol role-legend-symbol\" pointer-events=\"none\"><path transform=\"translate(9.5,9.5)\" d=\"M8.722861243213076,0A8.722861243213076,8.722861243213076,0,1,1,-8.722861243213076,0A8.722861243213076,8.722861243213076,0,1,1,8.722861243213076,0\" stroke=\"#888\" stroke-width=\"1.5\" opacity=\"0.7\"></path></g><g class=\"mark-text role-legend-label\" pointer-events=\"none\"><text text-anchor=\"start\" transform=\"translate(23,12.5)\" font-family=\"sans-serif\" font-size=\"10px\" fill=\"#000\" opacity=\"1\">4</text></g></g><path class=\"foreground\" aria-hidden=\"true\" d=\"\" pointer-events=\"none\" display=\"none\"></path></g></g></g><path class=\"foreground\" aria-hidden=\"true\" d=\"\" pointer-events=\"none\" display=\"none\"></path></g></g><g class=\"mark-text role-legend-title\" pointer-events=\"none\"><text text-anchor=\"start\" transform=\"translate(0,9)\" font-family=\"sans-serif\" font-size=\"11px\" font-weight=\"bold\" fill=\"#000\" opacity=\"1\">x</text></g></g><path class=\"foreground\" aria-hidden=\"true\" d=\"\" pointer-events=\"none\" display=\"none\"></path></g></g></g><path class=\"foreground\" aria-hidden=\"true\" d=\"\" display=\"none\"></path></g></g></g></svg>\n"
      ],
      "text/plain": [
       "@vlplot(\n",
       "    data={\n",
       "        values=...\n",
       "    },\n",
       "    mark=\"point\",\n",
       "    width=400,\n",
       "    height=300,\n",
       "    encoding={\n",
       "        x={\n",
       "            field=\"x\",\n",
       "            type=\"q\"\n",
       "        },\n",
       "        y={\n",
       "            field=\"y\"\n",
       "        },\n",
       "        size={\n",
       "            field=\"x\",\n",
       "            type=\"q\"\n",
       "        },\n",
       "        color={\n",
       "            field=\"y\"\n",
       "        }\n",
       "    }\n",
       ")"
      ]
     },
     "execution_count": 44,
     "metadata": {},
     "output_type": "execute_result"
    }
   ],
   "source": [
    "xp = vlfrag(field=:x,type=:q)\n",
    "sp = vlfrag(field=:x,type=:q)\n",
    "d = vlfrag()\n",
    "vlplot(data=data, mark=:point,x=xp,y=:y,width=400,height=300,size=sp,color=:y)\n",
    "# vlplot(mark=:point,x=randn(100),y=randn(100),width=400,height=300,color=rand(100),size=randn(100))\n",
    "# vlplot(p)\n"
   ]
  },
  {
   "cell_type": "code",
   "execution_count": null,
   "metadata": {},
   "outputs": [],
   "source": []
  },
  {
   "cell_type": "code",
   "execution_count": null,
   "metadata": {},
   "outputs": [],
   "source": []
  },
  {
   "cell_type": "code",
   "execution_count": null,
   "metadata": {},
   "outputs": [],
   "source": []
  },
  {
   "cell_type": "code",
   "execution_count": null,
   "metadata": {},
   "outputs": [],
   "source": []
  },
  {
   "cell_type": "code",
   "execution_count": null,
   "metadata": {},
   "outputs": [],
   "source": []
  }
 ],
 "metadata": {
  "kernelspec": {
   "display_name": "Julia 1.6.1",
   "language": "julia",
   "name": "julia-1.6"
  },
  "language_info": {
   "file_extension": ".jl",
   "mimetype": "application/julia",
   "name": "julia",
   "version": "1.6.1"
  }
 },
 "nbformat": 4,
 "nbformat_minor": 4
}
